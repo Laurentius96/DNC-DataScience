{
  "nbformat": 4,
  "nbformat_minor": 0,
  "metadata": {
    "colab": {
      "provenance": [],
      "collapsed_sections": [
        "FxfksFsWTpga"
      ]
    },
    "kernelspec": {
      "name": "python3",
      "display_name": "Python 3"
    },
    "language_info": {
      "name": "python"
    }
  },
  "cells": [
    {
      "cell_type": "markdown",
      "source": [
        "### Conceitos Fundamentais Aplicados"
      ],
      "metadata": {
        "id": "FxfksFsWTpga"
      }
    },
    {
      "cell_type": "markdown",
      "source": [
        "Uma empresa de pesquisa de mercado deseja entender o\n",
        "comportamento de compra de consumidores em uma\n",
        "grande rede de supermercados. Para isso, coletará dados\n",
        "de uma amostra de clientes.\n",
        "\n",
        "a) Explique a diferença entre população e amostra nesse\n",
        "contexto.\n",
        "\n",
        "b) Cite dois exemplos de parâmetros populacionais que\n",
        "poderiam ser analisados e como poderiam ser estimados\n",
        "a partir da amostra"
      ],
      "metadata": {
        "id": "sPMaqvvtTw6q"
      }
    },
    {
      "cell_type": "code",
      "execution_count": null,
      "metadata": {
        "id": "Sbbk0s6JTgOx"
      },
      "outputs": [],
      "source": [
        "### a) Explique a diferença entre população e amostra nesse contexto.\n",
        "\n",
        "'''\n",
        "População: Todos os clientes que compram na rede\n",
        "de supermercados.\n",
        "\n",
        "Amostra: Subconjunto de clientes selecionados para\n",
        "responder à pesquisa.\n",
        "\n",
        "'''"
      ]
    },
    {
      "cell_type": "code",
      "source": [
        "### b) Cite dois exemplos de parâmetros populacionais que poderiam ser analisados e como poderiam ser estimados a partir da amostra\n",
        "\n",
        "'''\n",
        "Valor médio gasto por cliente: Estimado calculando a média do gasto na amostra.\n",
        "\n",
        "Frequência de visitas por mês: Obtida a partir do número médio de compras dos clientes amostrados.\n",
        "\n",
        "'''"
      ],
      "metadata": {
        "id": "0xCPCnqXUJBs"
      },
      "execution_count": null,
      "outputs": []
    },
    {
      "cell_type": "markdown",
      "source": [
        "### Cálculo de Média e Margem de Erro em Pesquisas de Satisfação"
      ],
      "metadata": {
        "id": "6A82qISQT1q3"
      }
    },
    {
      "cell_type": "markdown",
      "source": [
        "Uma rede de hotéis realizou uma pesquisa de satisfação\n",
        "com clientes que se hospedaram nos últimos três meses.\n",
        "Uma amostra de 120 clientes atribuiu uma nota média de\n",
        "8,5 para a experiência, com um desvio padrão de 1,2.\n",
        "\n",
        "<br>\n",
        "\n",
        "a) Calcule o erro padrão da média amostral.\n",
        "\n",
        "b) Determine um intervalo de confiança de 95% para a média de satisfação da população de clientes. Considere que a distribuição das notas segue aproximadamente uma distribuição normal.\n"
      ],
      "metadata": {
        "id": "naSgvF59fU6z"
      }
    },
    {
      "cell_type": "code",
      "source": [
        "import math"
      ],
      "metadata": {
        "id": "NIXFGFFOgiTs"
      },
      "execution_count": 1,
      "outputs": []
    },
    {
      "cell_type": "code",
      "source": [
        "### a) Calcule o erro padrão da média amostral.\n",
        "\n",
        "amostra = 120\n",
        "nota_media = 8.5\n",
        "desvio_padrao = 1.2\n",
        "\n",
        "erro_padrao = desvio_padrao / math.sqrt(amostra)\n",
        "print(f\"Erro padrão: {erro_padrao}\")"
      ],
      "metadata": {
        "colab": {
          "base_uri": "https://localhost:8080/"
        },
        "id": "OoQQK21OT6HH",
        "outputId": "ff083abb-1d27-41d4-9377-23df2bda80dc"
      },
      "execution_count": 8,
      "outputs": [
        {
          "output_type": "stream",
          "name": "stdout",
          "text": [
            "Erro padrão: 0.10954451150103321\n"
          ]
        }
      ]
    },
    {
      "cell_type": "code",
      "source": [
        "### b) Determine um intervalo de confiança de 95% para a média de satisfação da população de clientes. Considere que a distribuição das notas segue aproximadamente uma distribuição normal.\n",
        "\n",
        "'''\n",
        "x̅ é a média da amostra;\n",
        "σ é o desvio padrão da população;\n",
        "n é o tamanho da amostra;\n",
        "Ζ* representa o valor apropriado da distribuição normal padrão para o seu nível de confiança desejado.\n",
        "\n",
        "IC = x̅ ± (Ζ* * (σ / √n))\n",
        "\n",
        "\n",
        "Nível de Confiança Valor de confiança |       Z*\n",
        "80%\t.........................................1.28\n",
        "90%\t.........................................1.645 (convencional)\n",
        "95%\t.........................................1.96\n",
        "98%\t.........................................2.33\n",
        "99%\t.........................................2.58\n",
        "\n",
        "'''\n",
        "### Intervalo de confiança de 95%:\n",
        "\n",
        "ic_superior = nota_media + (1.96 * erro_padrao)\n",
        "ic_inferior = nota_media - (1.96 * erro_padrao)\n",
        "\n",
        "print(f\"Intervalo de confiança: {ic_inferior} | {ic_superior}\")\n"
      ],
      "metadata": {
        "colab": {
          "base_uri": "https://localhost:8080/"
        },
        "id": "EUCKsQSKgr21",
        "outputId": "1dc2c4e4-adff-4749-d3e3-2a10757409ca"
      },
      "execution_count": 10,
      "outputs": [
        {
          "output_type": "stream",
          "name": "stdout",
          "text": [
            "Intervalo de confiança: 8.285292757457976 | 8.714707242542024\n"
          ]
        }
      ]
    },
    {
      "cell_type": "code",
      "source": [
        "### Estimativa do Tamanho da Amostra\n",
        "\n",
        "'''\n",
        "1. Para proporções (estudos de prevalência):\n",
        "\n",
        "Fórmula básica: n = (Z^2 * p * (1-p)) / e^2\n",
        "\n",
        "Onde:\n",
        "n = tamanho da amostra\n",
        "Z = valor crítico da distribuição normal (correspondente ao nível de confiança desejado)\n",
        "p = proporção esperada (estimativa da proporção na população)\n",
        "e = margem de erro (erro máximo permitido)\n",
        "-------------------------------------------------------------------------------\n",
        "\n",
        "Para populações finitas:\n",
        "n = (N * n0) / (N + n0 - 1)\n",
        "\n",
        "Onde:\n",
        "n = tamanho da amostra corrigido para população finita\n",
        "N = tamanho da população\n",
        "n0 = tamanho da amostra calculado pela fórmula básica\n",
        "-------------------------------------------------------------------------------\n",
        "\n",
        "2. Para médias (estudos de comparação de médias):\n",
        "Fórmula básica: n = (Z^2 * s^2) / d^2\n",
        "Onde:\n",
        "n = tamanho da amostra\n",
        "Z = valor crítico da distribuição normal (correspondente ao nível de confiança desejado)\n",
        "s = desvio padrão da população (estimativa ou obtido de estudos prévios)\n",
        "d = diferença mínima a ser detectada (margem de erro para médias)\n",
        "\n",
        "'''\n",
        "\n",
        "n = ((1.96)**2) * 0.5 * (1-0.5) / (0.05)**2\n",
        "print(f\"Tamanho da amostra: {n}\")\n"
      ],
      "metadata": {
        "colab": {
          "base_uri": "https://localhost:8080/"
        },
        "id": "ZlQRdFjdjmlx",
        "outputId": "1229271d-a00c-4942-d05e-5a87edcbb186"
      },
      "execution_count": 12,
      "outputs": [
        {
          "output_type": "stream",
          "name": "stdout",
          "text": [
            "Tamanho da amostra: 384.1599999999999\n"
          ]
        }
      ]
    }
  ]
}