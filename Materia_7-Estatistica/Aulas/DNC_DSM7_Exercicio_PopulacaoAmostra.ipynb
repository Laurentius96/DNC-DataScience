{
  "nbformat": 4,
  "nbformat_minor": 0,
  "metadata": {
    "colab": {
      "provenance": []
    },
    "kernelspec": {
      "name": "python3",
      "display_name": "Python 3"
    },
    "language_info": {
      "name": "python"
    }
  },
  "cells": [
    {
      "cell_type": "markdown",
      "source": [
        "### Conceitos Fundamentais Aplicados"
      ],
      "metadata": {
        "id": "FxfksFsWTpga"
      }
    },
    {
      "cell_type": "markdown",
      "source": [
        "Uma empresa de pesquisa de mercado deseja entender o\n",
        "comportamento de compra de consumidores em uma\n",
        "grande rede de supermercados. Para isso, coletará dados\n",
        "de uma amostra de clientes.\n",
        "\n",
        "a) Explique a diferença entre população e amostra nesse\n",
        "contexto.\n",
        "\n",
        "b) Cite dois exemplos de parâmetros populacionais que\n",
        "poderiam ser analisados e como poderiam ser estimados\n",
        "a partir da amostra"
      ],
      "metadata": {
        "id": "sPMaqvvtTw6q"
      }
    },
    {
      "cell_type": "code",
      "execution_count": null,
      "metadata": {
        "id": "Sbbk0s6JTgOx"
      },
      "outputs": [],
      "source": [
        "### a) Explique a diferença entre população e amostra nesse contexto.\n",
        "\n",
        "'''\n",
        "População: Todos os clientes que compram na rede\n",
        "de supermercados.\n",
        "\n",
        "Amostra: Subconjunto de clientes selecionados para\n",
        "responder à pesquisa.\n",
        "\n",
        "'''"
      ]
    },
    {
      "cell_type": "code",
      "source": [
        "### b) Cite dois exemplos de parâmetros populacionais que poderiam ser analisados e como poderiam ser estimados a partir da amostra\n",
        "\n",
        "'''\n",
        "\n",
        "\n",
        "'''"
      ],
      "metadata": {
        "id": "0xCPCnqXUJBs"
      },
      "execution_count": null,
      "outputs": []
    },
    {
      "cell_type": "markdown",
      "source": [
        "### Cálculo de Média e Margem de Erro em Pesquisas de Satisfação"
      ],
      "metadata": {
        "id": "6A82qISQT1q3"
      }
    },
    {
      "cell_type": "code",
      "source": [],
      "metadata": {
        "id": "OoQQK21OT6HH"
      },
      "execution_count": null,
      "outputs": []
    }
  ]
}