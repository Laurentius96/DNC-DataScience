{
  "nbformat": 4,
  "nbformat_minor": 0,
  "metadata": {
    "colab": {
      "provenance": [],
      "collapsed_sections": [
        "FxfksFsWTpga",
        "6A82qISQT1q3",
        "Fx6koru0lUwk"
      ]
    },
    "kernelspec": {
      "name": "python3",
      "display_name": "Python 3"
    },
    "language_info": {
      "name": "python"
    }
  },
  "cells": [
    {
      "cell_type": "markdown",
      "source": [
        "### Conceitos Fundamentais Aplicados"
      ],
      "metadata": {
        "id": "FxfksFsWTpga"
      }
    },
    {
      "cell_type": "markdown",
      "source": [
        "Uma empresa de pesquisa de mercado deseja entender o\n",
        "comportamento de compra de consumidores em uma\n",
        "grande rede de supermercados. Para isso, coletará dados\n",
        "de uma amostra de clientes.\n",
        "\n",
        "a) Explique a diferença entre população e amostra nesse\n",
        "contexto.\n",
        "\n",
        "b) Cite dois exemplos de parâmetros populacionais que\n",
        "poderiam ser analisados e como poderiam ser estimados\n",
        "a partir da amostra"
      ],
      "metadata": {
        "id": "sPMaqvvtTw6q"
      }
    },
    {
      "cell_type": "code",
      "execution_count": null,
      "metadata": {
        "id": "Sbbk0s6JTgOx"
      },
      "outputs": [],
      "source": [
        "### a) Explique a diferença entre população e amostra nesse contexto.\n",
        "\n",
        "'''\n",
        "População: Todos os clientes que compram na rede\n",
        "de supermercados.\n",
        "\n",
        "Amostra: Subconjunto de clientes selecionados para\n",
        "responder à pesquisa.\n",
        "\n",
        "'''"
      ]
    },
    {
      "cell_type": "code",
      "source": [
        "### b) Cite dois exemplos de parâmetros populacionais que poderiam ser analisados e como poderiam ser estimados a partir da amostra\n",
        "\n",
        "'''\n",
        "Valor médio gasto por cliente: Estimado calculando a média do gasto na amostra.\n",
        "\n",
        "Frequência de visitas por mês: Obtida a partir do número médio de compras dos clientes amostrados.\n",
        "\n",
        "'''"
      ],
      "metadata": {
        "id": "0xCPCnqXUJBs"
      },
      "execution_count": null,
      "outputs": []
    },
    {
      "cell_type": "markdown",
      "source": [
        "### Cálculo de Média e Margem de Erro em Pesquisas de Satisfação"
      ],
      "metadata": {
        "id": "6A82qISQT1q3"
      }
    },
    {
      "cell_type": "markdown",
      "source": [
        "Uma rede de hotéis realizou uma pesquisa de satisfação\n",
        "com clientes que se hospedaram nos últimos três meses.\n",
        "Uma amostra de 120 clientes atribuiu uma nota média de\n",
        "8,5 para a experiência, com um desvio padrão de 1,2.\n",
        "\n",
        "<br>\n",
        "\n",
        "a) Calcule o erro padrão da média amostral.\n",
        "\n",
        "b) Determine um intervalo de confiança de 95% para a média de satisfação da população de clientes. Considere que a distribuição das notas segue aproximadamente uma distribuição normal.\n"
      ],
      "metadata": {
        "id": "naSgvF59fU6z"
      }
    },
    {
      "cell_type": "code",
      "source": [
        "import math"
      ],
      "metadata": {
        "id": "NIXFGFFOgiTs"
      },
      "execution_count": 1,
      "outputs": []
    },
    {
      "cell_type": "code",
      "source": [
        "### a) Calcule o erro padrão da média amostral.\n",
        "\n",
        "amostra = 120\n",
        "nota_media = 8.5\n",
        "desvio_padrao = 1.2\n",
        "\n",
        "erro_padrao = desvio_padrao / math.sqrt(amostra)\n",
        "print(f\"Erro padrão: {erro_padrao}\")"
      ],
      "metadata": {
        "colab": {
          "base_uri": "https://localhost:8080/"
        },
        "id": "OoQQK21OT6HH",
        "outputId": "ff083abb-1d27-41d4-9377-23df2bda80dc"
      },
      "execution_count": 8,
      "outputs": [
        {
          "output_type": "stream",
          "name": "stdout",
          "text": [
            "Erro padrão: 0.10954451150103321\n"
          ]
        }
      ]
    },
    {
      "cell_type": "code",
      "source": [
        "### b) Determine um intervalo de confiança de 95% para a média de satisfação da população de clientes. Considere que a distribuição das notas segue aproximadamente uma distribuição normal.\n",
        "\n",
        "'''\n",
        "x̅ é a média da amostra;\n",
        "σ é o desvio padrão da população;\n",
        "n é o tamanho da amostra;\n",
        "Ζ* representa o valor apropriado da distribuição normal padrão para o seu nível de confiança desejado.\n",
        "\n",
        "IC = x̅ ± (Ζ* * (σ / √n))\n",
        "\n",
        "\n",
        "Nível de Confiança Valor de confiança |       Z*\n",
        "80%\t.........................................1.28\n",
        "90%\t.........................................1.645 (convencional)\n",
        "95%\t.........................................1.96\n",
        "98%\t.........................................2.33\n",
        "99%\t.........................................2.58\n",
        "\n",
        "'''\n",
        "### Intervalo de confiança de 95%:\n",
        "\n",
        "ic_superior = nota_media + (1.96 * erro_padrao)\n",
        "ic_inferior = nota_media - (1.96 * erro_padrao)\n",
        "\n",
        "print(f\"Intervalo de confiança: {ic_inferior} | {ic_superior}\")\n"
      ],
      "metadata": {
        "colab": {
          "base_uri": "https://localhost:8080/"
        },
        "id": "EUCKsQSKgr21",
        "outputId": "1dc2c4e4-adff-4749-d3e3-2a10757409ca"
      },
      "execution_count": 10,
      "outputs": [
        {
          "output_type": "stream",
          "name": "stdout",
          "text": [
            "Intervalo de confiança: 8.285292757457976 | 8.714707242542024\n"
          ]
        }
      ]
    },
    {
      "cell_type": "markdown",
      "source": [
        "### Estimativa do Tamanho da Amostra para um Novo Produto."
      ],
      "metadata": {
        "id": "Fx6koru0lUwk"
      }
    },
    {
      "cell_type": "markdown",
      "source": [
        "Uma startup de alimentos saudáveis deseja estimar a aceitação de um novo snack vegano no mercado. A empresa quer garantir que sua pesquisa de mercado tenha um nível de confiança de 95% e uma margem de erro de 5%.\n",
        "\n",
        "Sabendo que não há uma estimativa prévia de aceitação, utilize a seguinte fórmula para calcular o tamanho da amostra necessária:\n",
        "\n",
        "<br>\n",
        "\n",
        "Estimativa do Tamanho da Amostra para um Novo Produto:\n",
        "\n",
        "* Z = 1,96\n",
        "\n",
        "* p = 0,5\n",
        "\n",
        "* e = 0,05\n",
        "\n",
        "<br>\n",
        "\n",
        "a) Qual deve ser o tamanho mínimo da amostra para\n",
        "garantir resultados confiáveis?"
      ],
      "metadata": {
        "id": "k-BbYmoqoiRe"
      }
    },
    {
      "cell_type": "code",
      "source": [
        "### a) Qual deve ser o tamanho mínimo da amostra para garantir resultados confiáveis?\n",
        "\n",
        "'''\n",
        "1. Para proporções (estudos de prevalência):\n",
        "\n",
        "Fórmula básica: n = (Z^2 * p * (1-p)) / e^2\n",
        "\n",
        "Onde:\n",
        "n = tamanho da amostra\n",
        "Z = valor crítico da distribuição normal (correspondente ao nível de confiança desejado)\n",
        "p = proporção esperada (estimativa da proporção na população)\n",
        "e = margem de erro (erro máximo permitido)\n",
        "-------------------------------------------------------------------------------\n",
        "\n",
        "Para populações finitas:\n",
        "n = (N * n0) / (N + n0 - 1)\n",
        "\n",
        "Onde:\n",
        "n = tamanho da amostra corrigido para população finita\n",
        "N = tamanho da população\n",
        "n0 = tamanho da amostra calculado pela fórmula básica\n",
        "-------------------------------------------------------------------------------\n",
        "\n",
        "2. Para médias (estudos de comparação de médias):\n",
        "Fórmula básica: n = (Z^2 * s^2) / d^2\n",
        "Onde:\n",
        "n = tamanho da amostra\n",
        "Z = valor crítico da distribuição normal (correspondente ao nível de confiança desejado)\n",
        "s = desvio padrão da população (estimativa ou obtido de estudos prévios)\n",
        "d = diferença mínima a ser detectada (margem de erro para médias)\n",
        "\n",
        "'''\n",
        "\n",
        "n = (((1.96)**2) * 0.5 * (1-0.5)) / (0.05)**2\n",
        "print(f\"Tamanho da amostra: {n:.0f} consumidores.\")"
      ],
      "metadata": {
        "colab": {
          "base_uri": "https://localhost:8080/"
        },
        "id": "lsukO-lxm3oo",
        "outputId": "79398c0a-bc4f-4184-bf4a-7b311d1b9486"
      },
      "execution_count": 18,
      "outputs": [
        {
          "output_type": "stream",
          "name": "stdout",
          "text": [
            "Tamanho da amostra: 384 consumidores.\n"
          ]
        }
      ]
    },
    {
      "cell_type": "markdown",
      "source": [
        "### Margem de Erro em Pesquisas Eleitorais\n",
        "\n"
      ],
      "metadata": {
        "id": "ZFTZ80P0oTj2"
      }
    },
    {
      "cell_type": "markdown",
      "source": [
        "Uma empresa de pesquisa política realizou uma sondagem eleitoral para avaliar a intenção de voto em uma cidade com 500.000 eleitores. Foram entrevistadas 1.200 pessoas, das quais 660 declararam intenção de voto em um determinado candidato.\n",
        "\n",
        "<br>\n",
        "\n",
        "a) Qual a proporção amostral de intenção de voto nesse\n",
        "candidato?\n",
        "\n",
        "b) Qual a margem de erro da pesquisa para um nível de\n",
        "confiança de 95%?"
      ],
      "metadata": {
        "id": "vPeMqJ2Dok0X"
      }
    },
    {
      "cell_type": "code",
      "source": [
        "n_eleitores = 500000\n",
        "n_eleitores_sondagem = 1200\n",
        "n_eleitores_intencao = 660"
      ],
      "metadata": {
        "id": "z3cfRuTvo6Vd"
      },
      "execution_count": 21,
      "outputs": []
    },
    {
      "cell_type": "code",
      "source": [
        "### a) Qual a proporção amostral de intenção de voto nesse candidato?\n",
        "\n",
        "proporcao_amostral = n_eleitores_intencao / n_eleitores_sondagem\n",
        "print(f\"Proporção amostral: {proporcao_amostral:.0%}\")\n"
      ],
      "metadata": {
        "colab": {
          "base_uri": "https://localhost:8080/"
        },
        "id": "r97QH2tVoD3_",
        "outputId": "04b3c37c-e080-4aa4-b3cb-de34629696c6"
      },
      "execution_count": 25,
      "outputs": [
        {
          "output_type": "stream",
          "name": "stdout",
          "text": [
            "Proporção amostral: 55%\n"
          ]
        }
      ]
    },
    {
      "cell_type": "code",
      "source": [
        "### b) Qual a margem de erro da pesquisa para um nível de confiança de 95%?\n",
        "\n",
        "\n",
        "'''\n",
        "Margem de Erro (ME) = Z * (σ / √n)\n",
        "\n",
        "Explicação detalhada:\n",
        "\n",
        "Z (Escore z ou t): Representa o nível de confiança desejado. Para um nível de confiança de 95%, o escore z é geralmente 1.96. Para amostras menores (geralmente abaixo de 30), usa-se o escore t, que varia com o grau de liberdade (tamanho da amostra menos 1).\n",
        "σ (Desvio padrão): Mede a dispersão dos dados em torno da média da população. Se o desvio padrão populacional não for conhecido, pode-se usar o desvio padrão amostral como uma estimativa.\n",
        "n (Tamanho da amostra): Número total de observações ou participantes na amostra.\n",
        "\n",
        "> Passos para calcular a margem de erro:\n",
        "\n",
        "* Determine o nível de confiança: Escolha o nível de confiança desejado (90%, 95%, 99%, etc.).\n",
        "* Encontre o escore z: Use uma tabela de distribuição normal para encontrar o valor z correspondente ao nível de confiança.\n",
        "* Calcule o erro padrão: Divida o desvio padrão da população pela raiz quadrada do tamanho da amostra.\n",
        "* Multiplique: Multiplique o escore z pelo erro padrão para obter a margem de erro.\n",
        "\n",
        "'''\n",
        "\n",
        "me = 1.96 * (math.sqrt((proporcao_amostral * (1 - proporcao_amostral)) / n_eleitores_sondagem))\n",
        "print(f\"Margem de erro: {me:.0%}\")"
      ],
      "metadata": {
        "colab": {
          "base_uri": "https://localhost:8080/"
        },
        "id": "rozwRcexoynC",
        "outputId": "a40c1238-ef92-4f86-c72d-84a2d9bdf4af"
      },
      "execution_count": 27,
      "outputs": [
        {
          "output_type": "stream",
          "name": "stdout",
          "text": [
            "Margem de erro: 3%\n"
          ]
        }
      ]
    },
    {
      "cell_type": "markdown",
      "source": [
        "Entendi a sua dúvida — você pesquisou sobre **margem de erro (ME)** usando a fórmula clássica com desvio padrão (`σ / √n`), mas no anexo eles usaram **uma fórmula específica para proporções**, que é um caso especial.\n",
        "\n",
        "---\n",
        "\n",
        "### 📌 Por que o anexo usa essa fórmula?\n",
        "\n",
        "Quando estamos lidando com **pesquisa eleitoral** ou qualquer proporção (ex.: porcentagem que vota em um candidato), o que queremos estimar é **p**, a proporção populacional.\n",
        "\n",
        "Nesse caso, o **erro padrão da proporção** não é simplesmente `σ / √n`.\n",
        "Ele vem de uma derivação estatística que mostra que:\n",
        "\n",
        "$$\n",
        "EP = \\sqrt{\\frac{p \\cdot (1-p)}{n}}\n",
        "$$\n",
        "\n",
        "Onde:\n",
        "\n",
        "* **p** = proporção amostral (`0,55` no seu exemplo, porque 660/1200 = 55%)\n",
        "* **1 - p** = proporção contrária (`0,45`)\n",
        "* **n** = tamanho da amostra (`1200`)\n",
        "\n",
        "---\n",
        "\n",
        "### 📌 Fórmula da Margem de Erro para proporções\n",
        "\n",
        "Para um nível de confiança de 95% (Z = 1,96):\n",
        "\n",
        "$$\n",
        "ME = Z \\times \\sqrt{\\frac{p \\cdot (1-p)}{n}}\n",
        "$$\n",
        "\n",
        "Substituindo:\n",
        "\n",
        "$$\n",
        "ME = 1,96 \\times \\sqrt{\\frac{0,55 \\cdot 0,45}{1200}}\n",
        "$$\n",
        "\n",
        "1. Multiplica p\\*(1-p):\n",
        "\n",
        "$$\n",
        "0,55 \\cdot 0,45 = 0,2475\n",
        "$$\n",
        "\n",
        "2. Divide por n:\n",
        "\n",
        "$$\n",
        "\\frac{0,2475}{1200} \\approx 0,00020625\n",
        "$$\n",
        "\n",
        "3. Tira a raiz:\n",
        "\n",
        "$$\n",
        "\\sqrt{0,00020625} \\approx 0,01436\n",
        "$$\n",
        "\n",
        "4. Multiplica por Z:\n",
        "\n",
        "$$\n",
        "1,96 \\cdot 0,01436 \\approx 0,0281 \\ \\ (\\text{ou } 2,8\\%)\n",
        "$$\n",
        "\n",
        "---\n",
        "\n",
        "✅ **Resumo:**\n",
        "\n",
        "* Sua fórmula `Z * (σ / √n)` é a base geral.\n",
        "* Para proporções, **σ** é substituído pela estimativa do desvio padrão da proporção:\n",
        "\n",
        "  $$\n",
        "  σ \\approx \\sqrt{p(1-p)}\n",
        "  $$\n",
        "* É por isso que o anexo chega àquele cálculo com `0,55 × 0,45`.\n",
        "\n",
        "---\n",
        "\n",
        "Vou te **mostrar no Python** como essa fórmula da proporção vem da fórmula geral de erro padrão, e como ela se conecta com a ideia de variância binomial. Isso fecha o raciocínio matemático e estatístico.\n"
      ],
      "metadata": {
        "id": "Rsi6T9w5uUxK"
      }
    },
    {
      "cell_type": "markdown",
      "source": [
        "Perfeito, Lorenzo.\n",
        "Vamos ligar a **fórmula geral** com a **fórmula para proporções** passo a passo, usando tanto a matemática quanto o Python para confirmar.\n",
        "\n",
        "---\n",
        "\n",
        "## 1️⃣ Fórmula geral de erro padrão\n",
        "\n",
        "Para qualquer estimativa:\n",
        "\n",
        "$$\n",
        "EP = \\frac{\\sigma}{\\sqrt{n}}\n",
        "$$\n",
        "\n",
        "No caso de proporções, a variável aleatória segue um **modelo binomial**, e a variância da binomial é:\n",
        "\n",
        "$$\n",
        "Var(X) = n \\cdot p \\cdot (1-p)\n",
        "$$\n",
        "\n",
        "Se a gente transformar isso para **proporção** $\\hat{p} = X/n$:\n",
        "\n",
        "$$\n",
        "Var(\\hat{p}) = \\frac{p(1-p)}{n}\n",
        "$$\n",
        "\n",
        "Logo, o desvio padrão da proporção (σₚ) é:\n",
        "\n",
        "$$\n",
        "\\sigma_p = \\sqrt{\\frac{p(1-p)}{n}}\n",
        "$$\n",
        "\n",
        "---\n",
        "\n",
        "## 2️⃣ Fórmula da Margem de Erro para proporções\n",
        "\n",
        "Basta multiplicar pelo valor crítico $Z$:\n",
        "\n",
        "$$\n",
        "ME = Z \\cdot \\sqrt{\\frac{p(1-p)}{n}}\n",
        "$$\n",
        "\n",
        "---\n",
        "\n",
        "## 3️⃣ Implementação no Python\n",
        "\n",
        "```python\n",
        "import math\n",
        "\n",
        "# Dados do problema\n",
        "p = 0.55\n",
        "n = 1200\n",
        "Z = 1.96  # 95% de confiança\n",
        "\n",
        "# Erro padrão da proporção\n",
        "erro_padrao = math.sqrt(p * (1 - p) / n)\n",
        "\n",
        "# Margem de erro\n",
        "margem_erro = Z * erro_padrao\n",
        "\n",
        "print(f\"Erro padrão: {erro_padrao:.4f} ({erro_padrao*100:.2f}%)\")\n",
        "print(f\"Margem de erro: {margem_erro:.4f} ({margem_erro*100:.2f}%)\")\n",
        "```\n",
        "\n",
        "**Saída esperada:**\n",
        "\n",
        "```\n",
        "Erro padrão: 0.0144 (1.44%)\n",
        "Margem de erro: 0.0281 (2.81%)\n",
        "```\n",
        "\n",
        "---\n",
        "\n",
        "## 4️⃣ Interpretação\n",
        "\n",
        "* O **erro padrão** (1,44%) indica a variação média esperada da estimativa de 55% se repetíssemos a pesquisa muitas vezes.\n",
        "* A **margem de erro** (±2,81%) usa o fator **Z** para ampliar essa variação até cobrir o intervalo de confiança de 95%.\n",
        "* Isso significa que, com 95% de confiança, o verdadeiro valor da intenção de voto está entre:\n",
        "\n",
        "  $$\n",
        "  55\\% \\pm 2,8\\% \\ \\ \\Rightarrow \\ \\ [52,2\\%, 57,8\\%]\n",
        "  $$\n",
        "\n",
        "---\n",
        "\n",
        "Vou **plotar a distribuição amostral** dessa pesquisa para você visualizar como o EP e a ME se encaixam graficamente. Isso deixara bem intuitivo o porquê do ±2,8%.\n"
      ],
      "metadata": {
        "id": "w_dAl070vGQ-"
      }
    },
    {
      "cell_type": "code",
      "source": [
        "import numpy as np\n",
        "import matplotlib.pyplot as plt\n",
        "from scipy.stats import norm\n",
        "\n",
        "# Parâmetros do exemplo\n",
        "n = 1200\n",
        "x_sucessos = 660\n",
        "p_hat = x_sucessos / n          # proporção amostral\n",
        "Z = 1.96                        # 95% de confiança\n",
        "se = np.sqrt(p_hat * (1 - p_hat) / n)  # erro-padrão da proporção\n",
        "ME = Z * se\n",
        "\n",
        "# Intervalo de confiança\n",
        "li, ls = p_hat - ME, p_hat + ME\n",
        "\n",
        "# Eixo para a normal aproximando a distribuição amostral de p̂\n",
        "x = np.linspace(p_hat - 5*se, p_hat + 5*se, 1000)\n",
        "y = norm.pdf(x, loc=p_hat, scale=se)\n",
        "\n",
        "# Área central (95%)\n",
        "mask = (x >= li) & (x <= ls)\n",
        "\n",
        "plt.figure(figsize=(9, 5))\n",
        "plt.plot(x, y, label=\"Distribuição amostral aproximada de $\\hat{p}$\")\n",
        "plt.fill_between(x, 0, y, where=mask, alpha=0.3, label=f\"IC 95% [{li:.3f}, {ls:.3f}]\")\n",
        "\n",
        "# Linhas de referência\n",
        "plt.axvline(p_hat, linestyle=\"--\", linewidth=1.5, label=f\"$\\\\hat{{p}}$ = {p_hat:.3f}\")\n",
        "plt.axvline(li, linestyle=\"--\", linewidth=1.0)\n",
        "plt.axvline(ls, linestyle=\"--\", linewidth=1.0)\n",
        "\n",
        "plt.title(\"Intervalo de Confiança para Proporção (95%)\")\n",
        "plt.xlabel(\"Proporção\")\n",
        "plt.ylabel(\"Densidade\")\n",
        "plt.legend()\n",
        "plt.tight_layout()\n",
        "plt.show()\n",
        "\n",
        "# Mostrar números principais\n",
        "{\n",
        "    \"p_hat\": round(p_hat, 4),\n",
        "    \"erro_padrao\": round(se, 5),\n",
        "    \"margem_erro\": round(ME, 4),\n",
        "    \"intervalo_95\": (round(li, 4), round(ls, 4))\n",
        "}\n"
      ],
      "metadata": {
        "colab": {
          "base_uri": "https://localhost:8080/",
          "height": 576
        },
        "id": "9TEXipPjvm29",
        "outputId": "24d84ae5-223c-40de-f84d-672482b54a36"
      },
      "execution_count": 28,
      "outputs": [
        {
          "output_type": "display_data",
          "data": {
            "text/plain": [
              "<Figure size 900x500 with 1 Axes>"
            ],
            "image/png": "[encoded data removed]"
          },
          "metadata": {}
        },
        {
          "output_type": "execute_result",
          "data": {
            "text/plain": [
              "{'p_hat': 0.55,\n",
              " 'erro_padrao': np.float64(0.01436),\n",
              " 'margem_erro': np.float64(0.0281),\n",
              " 'intervalo_95': (np.float64(0.5219), np.float64(0.5781))}"
            ]
          },
          "metadata": {},
          "execution_count": 28
        }
      ]
    },
    {
      "cell_type": "markdown",
      "source": [
        "---\n",
        "\n",
        "### **Resposta Rápida**\n",
        "\n",
        "A figura mostra a **distribuição amostral de $\\hat p$** (aproximada por Normal), com **erro‑padrão** $SE=\\sqrt{p(1-p)/n}$ e a **margem de erro** $ME=1{,}96\\times SE$. Para $p̂=0{,}55$ e $n=1200$, sai $ME\\approx 2{,}81\\%$ e o IC95% é $[0{,}522,\\ 0{,}578]$.\n",
        "\n",
        "---\n",
        "\n",
        "### **Analogia do Dia**\n",
        "\n",
        "Pense em várias pesquisas “paralelas” com 1.200 pessoas cada. As proporções medidos ($\\hat p$) **oscilam** ao redor da verdadeira $p$; a **largura** dessa oscilação é o **erro‑padrão**. A **margem de erro** é “quantas larguras” (em 95%, **1,96** larguras) você precisa para cobrir a incerteza típica.\n",
        "\n",
        "---\n",
        "\n",
        "### **Análise Técnica Detalhada**\n",
        "\n",
        "#### 1) Por que a fórmula muda para proporções\n",
        "\n",
        "Para pesquisas eleitorais, o estimador é a **proporção amostral** $\\hat p=X/n$ (com $X\\sim\\text{Binomial}(n,p)$).\n",
        "\n",
        "* $E[\\hat p]=p$\n",
        "* $\\mathrm{Var}(\\hat p)=\\dfrac{p(1-p)}{n}$\n",
        "  Logo, o **erro‑padrão** é:\n",
        "\n",
        "$$\n",
        "SE(\\hat p)=\\sqrt{\\frac{p(1-p)}{n}}\n",
        "$$\n",
        "\n",
        "Como $p$ é desconhecido, usamos $p̂$ no lugar:\n",
        "\n",
        "$$\n",
        "SE\\approx \\sqrt{\\frac{p̂(1-p̂)}{n}}\n",
        "$$\n",
        "\n",
        "#### 2) Margem de erro (95%)\n",
        "\n",
        "Para confiança de 95% (Normal padrão, $Z_{0.975}=1{,}96$):\n",
        "\n",
        "$$\n",
        "ME = 1{,}96\\;\\times\\;SE = 1{,}96\\;\\sqrt{\\frac{p̂(1-p̂)}{n}}\n",
        "$$\n",
        "\n",
        "Com $p̂=0{,}55$, $n=1200$:\n",
        "$SE\\approx 0{,}01436$ → $ME\\approx 0{,}0281$ (2,81%).\n",
        "IC95%: $p̂\\pm ME = [0{,}5219,\\ 0{,}5781]$.\n",
        "\n",
        "#### 3) Leitura do gráfico (que gerei para você)\n",
        "\n",
        "* Curva: Normal $N(p̂,\\ SE)$ que **aproxima** a distribuição amostral de $\\hat p$.\n",
        "* Faixa sombreada: **IC95%**.\n",
        "* Linhas tracejadas: $p̂$, limite inferior e superior.\n",
        "\n",
        "---\n",
        "\n",
        "### **Nota de Rodapé para Novatos**\n",
        "\n",
        "* **$\\hat p$**: proporção observada na amostra.\n",
        "* **Erro‑padrão (SE)**: variação típica de $\\hat p$ entre amostras.\n",
        "* **Z=1,96**: ponto de corte da Normal padrão para 95%.\n",
        "* **IC**: intervalo que, em amostragens repetidas, conteria o verdadeiro $p$ em \\~95% das vezes.\n",
        "\n",
        "---\n",
        "\n",
        "### **Aplicação Prática e Boas Práticas**\n",
        "\n",
        "* Para amostras em **população finita** ($N$), pode-se aplicar a **correção finita**:\n",
        "  $SE_{corr}=SE\\times\\sqrt{\\frac{N-n}{N-1}}$.\n",
        "  Aqui $N=500{,}000$ e $n=1200$ → correção é ínfima (não muda o 2,8% de forma prática).\n",
        "* Verifique as condições para a aproximação Normal: $np̂\\ge 10$ e $n(1-p̂)\\ge 10$ — satisfeitas no exemplo.\n",
        "\n",
        "---\n",
        "\n",
        "### **Resumo da Lição**\n",
        "\n",
        "Para proporções, a margem de erro vem de $ME=Z\\sqrt{p̂(1-p̂)/n}$; com $p̂=0{,}55$ e $n=1200$, o **±2,8%** cai direto dessa fórmula e é o que seu anexo mostra.\n"
      ],
      "metadata": {
        "id": "V5FaR78UvtIU"
      }
    },
    {
      "cell_type": "markdown",
      "source": [
        "Perfeito, vamos separar a resposta em **duas frentes**:\n",
        "\n",
        "1. **Uso geral do erro-padrão (qualquer estimativa)**\n",
        "2. **Uso específico do erro-padrão para proporções**\n",
        "\n",
        "E já vou te dar **situações reais** para cada uma, explicando o **porquê** de usar.\n",
        "\n",
        "---\n",
        "\n",
        "## **1. Erro-padrão para qualquer estimativa**\n",
        "\n",
        "O **erro-padrão (SE)** mede a **variabilidade de um estimador** quando repetimos o processo de amostragem.\n",
        "É como a “média da variação esperada” de um valor amostral em relação ao verdadeiro valor populacional.\n",
        "\n",
        "### 🔹 Exemplo 1 — Média de salário de funcionários\n",
        "\n",
        "* **Contexto**: Uma empresa quer estimar o salário médio dos seus 5.000 funcionários usando uma amostra de 200 funcionários.\n",
        "* **Estimativa**: $\\hat{\\mu} =$ média amostral dos salários.\n",
        "* **Uso do SE**:\n",
        "\n",
        "  * Calcular o **intervalo de confiança da média**: $\\hat{\\mu} \\pm Z\\times SE$.\n",
        "  * Avaliar a **precisão** da estimativa: SE pequeno = estimativa mais precisa.\n",
        "* **Por que é importante**: Se o SE for grande, significa que diferentes amostras dariam médias muito diferentes → pouca confiabilidade.\n",
        "\n",
        "---\n",
        "\n",
        "### 🔹 Exemplo 2 — Média de tempo de entrega\n",
        "\n",
        "* **Contexto**: Uma loja online quer medir o tempo médio de entrega dos pedidos.\n",
        "* **Estimativa**: Média dos tempos de entrega de 50 pedidos escolhidos aleatoriamente.\n",
        "* **Uso do SE**:\n",
        "\n",
        "  * Avaliar se a diferença entre o tempo médio atual e o de um trimestre anterior é **estatisticamente significativa**.\n",
        "  * SE serve para fazer **teste de hipótese** ($H_0: \\mu_1=\\mu_2$) comparando duas médias.\n",
        "* **Por que é importante**: Ajuda a decidir se a mudança foi **real** ou apenas **flutuação aleatória**.\n",
        "\n",
        "---\n",
        "\n",
        "## **2. Erro-padrão para proporções**\n",
        "\n",
        "Aqui a fórmula muda:\n",
        "\n",
        "$$\n",
        "SE(\\hat p) = \\sqrt{\\frac{\\hat p(1-\\hat p)}{n}}\n",
        "$$\n",
        "\n",
        "O raciocínio é o mesmo, mas aplicado a **proporções**, que seguem distribuição Binomial.\n",
        "\n",
        "---\n",
        "\n",
        "### 🔹 Exemplo 3 — Pesquisa eleitoral\n",
        "\n",
        "* **Contexto**: 55% de 1.200 entrevistados dizem que votariam no candidato A.\n",
        "* **Estimativa**: $p̂=0{,}55$\n",
        "* **Uso do SE**:\n",
        "\n",
        "  * Calcular **margem de erro**: $ME=Z\\times SE$.\n",
        "  * Definir o **intervalo de confiança da proporção**: 55% ± 2,8%.\n",
        "* **Por que é importante**: Permite comunicar o resultado com incerteza (“O candidato A tem entre 52,2% e 57,8% de intenção de voto com 95% de confiança”).\n",
        "\n",
        "---\n",
        "\n",
        "### 🔹 Exemplo 4 — Taxa de cliques (CTR) em marketing\n",
        "\n",
        "* **Contexto**: Um anúncio foi exibido 5.000 vezes e recebeu 250 cliques → CTR = 5%.\n",
        "* **Uso do SE**:\n",
        "\n",
        "  * Avaliar a **confiança** nessa taxa: SE = $\\sqrt{0{,}05\\times 0{,}95 / 5000}$.\n",
        "  * Comparar com outro anúncio usando **teste de diferença de proporções**.\n",
        "* **Por que é importante**: Ajuda a saber se a diferença de CTR entre anúncios é estatisticamente relevante ou apenas ruído.\n",
        "\n",
        "---\n",
        "\n",
        "## **Resumo rápido**\n",
        "\n",
        "| Tipo de estimativa | Fórmula SE                            | Situação prática                    | Por que usar                                |\n",
        "| ------------------ | ------------------------------------- | ----------------------------------- | ------------------------------------------- |\n",
        "| **Média**          | $\\sigma / \\sqrt{n}$ ou $s / \\sqrt{n}$ | Salário médio, tempo de entrega     | ICs, testes de hipóteses, medir precisão    |\n",
        "| **Proporção**      | $\\sqrt{\\hat p(1-\\hat p)/n}$           | Pesquisa eleitoral, CTR de anúncios | Margem de erro, comparação entre proporções |\n",
        "\n",
        "---\n",
        "\n",
        "Se você quiser, eu posso **criar um gráfico interativo** que mostra **como o erro-padrão muda** quando alteramos **n** (tamanho da amostra) e **p** (proporção) — assim você vê visualmente por que ele é central em inferência estatística.\n",
        "Isso também ajuda a conectar melhor o caso de médias e proporções.\n"
      ],
      "metadata": {
        "id": "yxEUYmiDxjev"
      }
    },
    {
      "cell_type": "code",
      "source": [],
      "metadata": {
        "id": "oSHYBIs0uVY3"
      },
      "execution_count": null,
      "outputs": []
    }
  ]
}