{
  "nbformat": 4,
  "nbformat_minor": 0,
  "metadata": {
    "colab": {
      "provenance": []
    },
    "kernelspec": {
      "name": "python3",
      "display_name": "Python 3"
    },
    "language_info": {
      "name": "python"
    }
  },
  "cells": [
    {
      "cell_type": "code",
      "source": [
        "import pandas as pd\n",
        "import numpy as np\n",
        "from scipy import stats"
      ],
      "metadata": {
        "id": "0BD0PqDZ4018"
      },
      "execution_count": 25,
      "outputs": []
    },
    {
      "cell_type": "markdown",
      "source": [
        "### Exercício 1 – Média Simples vs. Mediana em itálico\n",
        "\n",
        "Perguntas:\n",
        "\n",
        "```Python\n",
        "dados = [12, 15, 14, 10, 18, 30, 50]\n",
        "```\n",
        "1. Qual é a média aritmética desse conjunto de dados?\n",
        "2. Qual é a mediana?\n",
        "3. O que a diferença entre esses valores indica sobre a\n",
        "distribuição dos dados?"
      ],
      "metadata": {
        "id": "_l399oXg34dh"
      }
    },
    {
      "cell_type": "code",
      "execution_count": 12,
      "metadata": {
        "colab": {
          "base_uri": "https://localhost:8080/"
        },
        "id": "p9TgyAV-jm92",
        "outputId": "26e3fc7c-751a-41cd-cdb1-f598e5909b57"
      },
      "outputs": [
        {
          "output_type": "stream",
          "name": "stdout",
          "text": [
            "Média: 21.29\n"
          ]
        }
      ],
      "source": [
        "## 1.Qual é a média aritmética desse conjunto de dados?\n",
        "\n",
        "dados = [12, 15, 14, 10, 18, 30, 50]\n",
        "\n",
        "media = np.mean(dados)\n",
        "print(f\"Média: {media:.2f}\")"
      ]
    },
    {
      "cell_type": "code",
      "source": [
        "## 2.Qual é a mediana?\n",
        "\n",
        "mediana = np.median(dados)\n",
        "print(f\"Mediana: {int(mediana)}\")"
      ],
      "metadata": {
        "colab": {
          "base_uri": "https://localhost:8080/"
        },
        "id": "Od-V4fKO5ERa",
        "outputId": "e674608b-c580-40be-b20a-15b27dfe5671"
      },
      "execution_count": 10,
      "outputs": [
        {
          "output_type": "stream",
          "name": "stdout",
          "text": [
            "Mediana: 15\n"
          ]
        }
      ]
    },
    {
      "cell_type": "code",
      "source": [
        "## 3. O que a diferença entre esses valores indica sobre a distribuição dos dados?\n",
        "\n",
        "'''\n",
        "A média é influenciada pelo outlier (50), enquanto a mediana representa melhor a tendência\n",
        "central.\n",
        "\n",
        "'''"
      ],
      "metadata": {
        "id": "lBOlgstJ5yJc"
      },
      "execution_count": null,
      "outputs": []
    },
    {
      "cell_type": "markdown",
      "source": [
        "### Exercício 2 – Média Ponderada\n",
        "\n",
        "Uma empresa avalia seus funcionários com pesos\n",
        "diferentes para critérios de desempenho e experiência.\n",
        "Calcule a média ponderada da pontuação final de um\n",
        "funcionário:\n",
        "\n",
        "<br>\n",
        "\n",
        "| Critério | Nota | Peso |\n",
        "|---|---|---|\n",
        "| Desempenho | 8.5 | 60% |\n",
        "| Experiência | 7.0 | 40% |\n",
        "\n",
        "<br>\n",
        "\n",
        "\n",
        "Perguntas:\n",
        "\n",
        "1. Qual é a média ponderada desse funcionário?\n",
        "2. Se o peso de experiência fosse aumentado para 50%,\n",
        "qual seria a nova média ponderada?"
      ],
      "metadata": {
        "id": "XcmwrQVS6RwF"
      }
    },
    {
      "cell_type": "code",
      "source": [
        "## 1. Qual é a média ponderada desse funcionário?\n",
        "\n",
        "media_ponderada = (8.5 * 0.6) + (7 * 0.4)\n",
        "print(f\"Média Ponderada: {media_ponderada:.2f}\")"
      ],
      "metadata": {
        "colab": {
          "base_uri": "https://localhost:8080/"
        },
        "id": "cdxtdavo9rGk",
        "outputId": "4a4ffedc-4b9a-4f1f-aebe-818fed12bb44"
      },
      "execution_count": 14,
      "outputs": [
        {
          "output_type": "stream",
          "name": "stdout",
          "text": [
            "Média Ponderada: 7.90\n"
          ]
        }
      ]
    },
    {
      "cell_type": "code",
      "source": [
        "## 2. Qual é a média ponderada desse funcionário?\n",
        "\n",
        "media_ponderada = (8.5 * 0.5) + (7 * 0.5)\n",
        "print(f\"Média Ponderada: {media_ponderada:.2f}\")\n"
      ],
      "metadata": {
        "colab": {
          "base_uri": "https://localhost:8080/"
        },
        "id": "4STGKDnRBhM8",
        "outputId": "4cceec79-5d9a-4398-df91-49f5b3f60402"
      },
      "execution_count": 24,
      "outputs": [
        {
          "output_type": "stream",
          "name": "stdout",
          "text": [
            "Média Ponderada: 7.75\n"
          ]
        }
      ]
    },
    {
      "cell_type": "markdown",
      "source": [
        "### Exercício 3 – Média Recortada\n",
        "\n",
        "Considere os dados de notas de alunos em um exame:\n",
        "\n",
        "```Python\n",
        "notas = [55, 60, 70, 75, 80, 85, 90, 95, 100, 200]\n",
        "```\n",
        "\n",
        "* 📌 Passo 1: Calcule a média aritmética normal.\n",
        "* 📌 Passo 2: Remova 10% dos valores mais extremos e\n",
        "calcule a média recortada.\n",
        "\n",
        "<br>\n",
        "\n",
        "Perguntas:\n",
        "1. Qual a diferença entre a média normal e a média\n",
        "recortada?\n",
        "2. Qual métrica é mais representativa nesse caso?"
      ],
      "metadata": {
        "id": "jAe3d7bZEnKM"
      }
    },
    {
      "cell_type": "code",
      "source": [
        "## 1. Qual a diferença entre a média normal e a média recortada?\n",
        "\n",
        "notas = [55, 60, 70, 75, 80, 85, 90, 95, 100, 200]\n",
        "\n",
        "media = np.mean(notas)\n",
        "mediana = np.median(notas)\n",
        "\n",
        "# Remove os 10% de valores de cada extremidade e calcula a média.\n",
        "# O 'proportiontocut' é a porcentagem total a ser removida (10% de cada lado).\n",
        "# Portanto, para remover 10% no total, usamos 0.10.\n",
        "media_aparada =stats.trim_mean(notas, proportiontocut=0.2)\n"
      ],
      "metadata": {
        "id": "8ZwrzQGMFYWs"
      },
      "execution_count": 39,
      "outputs": []
    },
    {
      "cell_type": "code",
      "source": [
        "print(f\"Média: {media:.2f}\")\n",
        "print(f\"Mediana: {mediana:.2f}\")\n",
        "print(f\"Média (10% removidos): {media_aparada:.2f}\")"
      ],
      "metadata": {
        "colab": {
          "base_uri": "https://localhost:8080/"
        },
        "id": "7JLJ9LImJbz0",
        "outputId": "f4d02cc7-bd53-4403-cdc6-12242263ceff"
      },
      "execution_count": 42,
      "outputs": [
        {
          "output_type": "stream",
          "name": "stdout",
          "text": [
            "Média: 91.00\n",
            "Mediana: 82.50\n",
            "Média (10% removidos): 82.50\n"
          ]
        }
      ]
    },
    {
      "cell_type": "code",
      "source": [
        "## 2. Qual métrica é mais representativa nesse caso?\n",
        "\n",
        "'''\n",
        "A média recortada reduz o impacto dos outliers.\n",
        "'''"
      ],
      "metadata": {
        "id": "-MVk4aEzLDGt"
      },
      "execution_count": null,
      "outputs": []
    },
    {
      "cell_type": "markdown",
      "source": [
        "### Exercício 4 – Mediana em Séries Temporais\n",
        "\n",
        "Em uma análise financeira, temos o seguinte conjunto de\n",
        "preços de uma ação ao longo de 10 dias:\n",
        "\n",
        "```Python\n",
        "precos = [105, 107, 110, 115, 120, 200, 130, 128, 126, 125]\n",
        "\n",
        "```\n",
        "\n",
        "* 📌 Passo 1: Calcule a mediana de todos os valores.\n",
        "* 📌 Passo 2: Calcule a mediana móvel com uma janela de 3 dias.\n",
        "\n",
        "<br>\n",
        "\n",
        "Perguntas:\n",
        "\n",
        "1. Como a mediana móvel suaviza os valores da série?\n",
        "2. O valor 200 influencia a mediana móvel?\n"
      ],
      "metadata": {
        "id": "VVMosYXCPDpA"
      }
    },
    {
      "cell_type": "code",
      "source": [
        "precos = [105, 107, 110, 115, 120, 200, 130, 128, 126, 125]\n",
        "\n",
        "mediana = np.median(precos)\n",
        "print(f\"A mediana de todos os valores é: {mediana}\")"
      ],
      "metadata": {
        "colab": {
          "base_uri": "https://localhost:8080/"
        },
        "id": "BNtOtiHiWFtB",
        "outputId": "f3658456-16d5-4b08-e3b6-7f3247aa058f"
      },
      "execution_count": 43,
      "outputs": [
        {
          "output_type": "stream",
          "name": "stdout",
          "text": [
            "A mediana de todos os valores é: 122.5\n"
          ]
        }
      ]
    },
    {
      "cell_type": "code",
      "source": [
        "janela = 3\n",
        "mediana_movel = []\n",
        "\n",
        "for i in range(len(precos)-janela+1):\n",
        "    subconjunto = precos[i:i+janela]\n",
        "    mediana_movel.append(np.median(subconjunto))\n",
        "\n",
        "for y in range(len(mediana_movel)):\n",
        "    print(f\"A mediana móvel com uma janela de {janela} dias (Nº{y+1}): {mediana_movel[y]}\")\n"
      ],
      "metadata": {
        "colab": {
          "base_uri": "https://localhost:8080/"
        },
        "id": "Gxxm49wfXt0V",
        "outputId": "e61a1a22-a11b-450f-cd91-5143edeac9fc"
      },
      "execution_count": 58,
      "outputs": [
        {
          "output_type": "stream",
          "name": "stdout",
          "text": [
            "A mediana móvel com uma janela de 3 dias (Nº1): 107.0\n",
            "A mediana móvel com uma janela de 3 dias (Nº2): 110.0\n",
            "A mediana móvel com uma janela de 3 dias (Nº3): 115.0\n",
            "A mediana móvel com uma janela de 3 dias (Nº4): 120.0\n",
            "A mediana móvel com uma janela de 3 dias (Nº5): 130.0\n",
            "A mediana móvel com uma janela de 3 dias (Nº6): 130.0\n",
            "A mediana móvel com uma janela de 3 dias (Nº7): 128.0\n",
            "A mediana móvel com uma janela de 3 dias (Nº8): 126.0\n"
          ]
        }
      ]
    },
    {
      "cell_type": "code",
      "source": [
        "'''\n",
        "mediana_movel = np.convolve(precos, np.ones(janela)/janela, mode='valid')\n",
        "print(f\"A mediana móvel com uma janela de {janela} dias é: {mediana_movel}\")'\n",
        "\n",
        "'''"
      ],
      "metadata": {
        "id": "mDO64E6yX7d0"
      },
      "execution_count": null,
      "outputs": []
    },
    {
      "cell_type": "markdown",
      "source": [
        "\n",
        "**1. Como a mediana móvel suaviza os valores da série?**\n",
        "\n",
        "A mediana móvel suaviza a série temporal ao remover flutuações e ruídos de curto prazo, pois, em vez de considerar apenas um ponto de dado por vez, ela o substitui pela mediana de um grupo de pontos adjacentes. Isso tem o efeito de \"filtrar\" picos e quedas repentinas. Comparando a série original com a série da mediana móvel, é possível notar que as mudanças entre os valores consecutivos são menos abruptas, resultando em uma tendência mais clara e menos volátil.\n",
        "\n",
        "<br>\n",
        "\n",
        "**2. O valor 200 influencia a mediana móvel?**\n",
        "\n",
        "Sim, o valor 200, que é um pico atípico (um *outlier*), influencia a mediana móvel, mas de uma forma menos dramática do que influenciaria a média móvel. Como a mediana é resistente a *outliers*, ela substitui o valor extremo pelo valor central do subconjunto, que é muito mais próximo do restante dos dados.\n",
        "\n",
        "Vamos analisar as janelas que incluem o valor 200:\n",
        "* **Janela 4:** `[115, 120, 200]` -> Mediana: **120**\n",
        "* **Janela 5:** `[120, 200, 130]` -> Mediana: **130**\n",
        "* **Janela 6:** `[200, 130, 128]` -> Mediana: **130**\n",
        "\n",
        "<br>\n",
        "\n",
        "Apesar de o valor 200 estar presente, a mediana para essas janelas fica entre 120 e 130, que são valores consistentes com a tendência geral da série. Se fosse utilizada a média móvel, o valor 200 causaria um pico muito mais pronunciado na série suavizada, distorcendo a tendência. Portanto, a mediana móvel é eficaz em suavizar a série e mitigar a influência de valores extremos como o 200."
      ],
      "metadata": {
        "id": "dsSOi5H1dbq7"
      }
    },
    {
      "cell_type": "code",
      "source": [],
      "metadata": {
        "id": "EBg9Kx05dnhw"
      },
      "execution_count": null,
      "outputs": []
    }
  ]
}