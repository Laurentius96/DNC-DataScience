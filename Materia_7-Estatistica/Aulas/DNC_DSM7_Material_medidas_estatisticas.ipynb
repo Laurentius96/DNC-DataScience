{
 "cells": [
  {
   "cell_type": "code",
   "execution_count": 101,
   "metadata": {},
   "outputs": [
    {
     "name": "stdout",
     "output_type": "stream",
     "text": [
      "Requirement already satisfied: scipy in d:\\programas\\python\\lib\\site-packages (1.16.1)\n",
      "Requirement already satisfied: numpy<2.6,>=1.25.2 in d:\\programas\\python\\lib\\site-packages (from scipy) (2.3.1)\n",
      "Note: you may need to restart the kernel to use updated packages.\n"
     ]
    }
   ],
   "source": [
    "%pip install scipy"
   ]
  },
  {
   "cell_type": "markdown",
   "metadata": {},
   "source": [
    "# Imports"
   ]
  },
  {
   "cell_type": "code",
   "execution_count": 102,
   "metadata": {},
   "outputs": [],
   "source": [
    "import pandas as pd\n",
    "import numpy as np"
   ]
  },
  {
   "cell_type": "markdown",
   "metadata": {},
   "source": [
    "# Lendo os Dados"
   ]
  },
  {
   "cell_type": "code",
   "execution_count": 103,
   "metadata": {},
   "outputs": [],
   "source": [
    "df = pd.read_csv(\"C:/Users/bianc/OneDrive/Documents/1-Estudos/2-DNC/1-Data Science/1-Material/Materia7-EstatisticaComPython/EstatísticaDescritiva/ifood-restaurants-february-2021.csv\", sep=\",\", header=0)"
   ]
  },
  {
   "cell_type": "code",
   "execution_count": 104,
   "metadata": {},
   "outputs": [
    {
     "data": {
      "application/vnd.microsoft.datawrangler.viewer.v0+json": {
       "columns": [
        {
         "name": "index",
         "rawType": "int64",
         "type": "integer"
        },
        {
         "name": "availableForScheduling",
         "rawType": "bool",
         "type": "boolean"
        },
        {
         "name": "avatar",
         "rawType": "object",
         "type": "unknown"
        },
        {
         "name": "category",
         "rawType": "object",
         "type": "string"
        },
        {
         "name": "delivery_fee",
         "rawType": "float64",
         "type": "float"
        },
        {
         "name": "delivery_time",
         "rawType": "int64",
         "type": "integer"
        },
        {
         "name": "distance",
         "rawType": "float64",
         "type": "float"
        },
        {
         "name": "ibge",
         "rawType": "int64",
         "type": "integer"
        },
        {
         "name": "minimumOrderValue",
         "rawType": "float64",
         "type": "float"
        },
        {
         "name": "name",
         "rawType": "object",
         "type": "string"
        },
        {
         "name": "paymentCodes",
         "rawType": "object",
         "type": "unknown"
        },
        {
         "name": "price_range",
         "rawType": "object",
         "type": "string"
        },
        {
         "name": "rating",
         "rawType": "float64",
         "type": "float"
        },
        {
         "name": "tags",
         "rawType": "object",
         "type": "string"
        },
        {
         "name": "url",
         "rawType": "object",
         "type": "string"
        }
       ],
       "ref": "e55c971a-97a3-4fb3-bcfd-efac539f04b2",
       "rows": [
        [
         "0",
         "False",
         "https://static-images.ifood.com.br/image/upload/f_auto,t_high/logosgde/136c9a0c-02fb-4cf6-90b6-c4e89bd43c5b/202005291112_c5em_i.png",
         "Marmita",
         "3.99",
         "27",
         "1.22",
         "5300108",
         "10.0",
         "Cantina Arte & Sabor",
         "DNR $$ MPAY $$ MOVPAY_MC $$ MC $$ GPY_ELO $$ ELOD $$ GPY_MCMA $$ AM $$ MCMA $$ MOVPAY_AM $$ APL_ELOD $$ IMV $$ MOVPAY_VIS $$ GPY_ELOD $$ APL_MCMA $$ GPY_MC $$ APL_ELO $$ MOVPAY_HIPER $$ APL_VISE $$ HIPER $$ IFE $$ VIS $$ APL_VIS $$ MOVPAY_ELO $$ GPY_VISE $$ MOVPAY_DNR $$ VISE $$ ELO $$ APL_MC $$ GPY_VIS",
         "CHEAPEST",
         "0.0",
         "ADDRESS_PREFORM_TYPE $$ CART::MCHT::100_DELIVERY_FEE_MERCH_3KM_0 $$ CPGN_USER_DISCOUNT_BR_LIST $$ GUIDED_HELP_TYPE $$ NOVO",
         "https://www.ifood.com.br/delivery/brasilia-df/cantina-arte--sabor-parque-ferroviario-de-brasilia/136c9a0c-02fb-4cf6-90b6-c4e89bd43c5b"
        ],
        [
         "1",
         "False",
         "https://static-images.ifood.com.br/image/upload/f_auto,t_high/logosgde/202003142155_5608d2c8-91b8-4bad-b905-63ed030b5797.png",
         "Açaí",
         "7.99",
         "61",
         "4.96",
         "5300108",
         "10.0",
         "Raruty Açaí Raiz",
         "DNR $$ MPAY $$ MOVPAY_MC $$ MC $$ GPY_ELO $$ ELOD $$ GPY_MCMA $$ AM $$ MCMA $$ MOVPAY_AM $$ APL_ELOD $$ IMV $$ MOVPAY_VIS $$ GPY_ELOD $$ APL_MCMA $$ GPY_MC $$ APL_ELO $$ MOVPAY_HIPER $$ APL_VISE $$ HIPER $$ IFE $$ VIS $$ APL_VIS $$ MOVPAY_ELO $$ GPY_VISE $$ MOVPAY_DNR $$ VISE $$ ELO $$ APL_MC $$ GPY_VIS",
         "CHEAPEST",
         "0.0",
         "ADDRESS_PREFORM_TYPE $$ GUIDED_HELP_TYPE $$ MESDODOCE_FIDELIDADE_DEZ20  $$ NOVO",
         "https://www.ifood.com.br/delivery/brasilia-df/raruty-acai-raiz-asa-norte/5608d2c8-91b8-4bad-b905-63ed030b5797"
        ],
        [
         "2",
         "False",
         "https://static-images.ifood.com.br/image/upload/f_auto,t_high/logosgde/33bf98af-fbbc-4ea8-9fe6-086f5a2db064/202003192236_SkF4_i.jpg",
         "Bebidas",
         "11.99",
         "70",
         "8.35",
         "5300108",
         "5.0",
         "Toma na Kombi",
         "DNR $$ MPAY $$ MOVPAY_MC $$ MC $$ GPY_ELO $$ RDREST $$ ELOD $$ GPY_MCMA $$ AM $$ MCMA $$ MOVPAY_AM $$ DIN $$ APL_ELOD $$ MOVPAY_VIS $$ GPY_ELOD $$ APL_MCMA $$ GPY_MC $$ APL_ELO $$ MOVPAY_HIPER $$ APL_VISE $$ HIPER $$ IFE $$ VIS $$ RED $$ VIREST $$ VSREST $$ APL_VIS $$ MOVPAY_ELO $$ GPY_VISE $$ MOVPAY_DNR $$ VISE $$ ELO $$ APL_MC $$ MEREST $$ GPY_VIS",
         "MODERATE",
         "0.0",
         "ADDRESS_PREFORM_TYPE $$ CPGN_USER_DISCOUNT_6_LIST $$ GUIDED_HELP_TYPE $$ NOVO $$ VERAO_BEBIDAS_DEZ20",
         "https://www.ifood.com.br/delivery/brasilia-df/toma-na-kombi-lago-norte/33bf98af-fbbc-4ea8-9fe6-086f5a2db064"
        ],
        [
         "3",
         "False",
         "https://static-images.ifood.com.br/image/upload/f_auto,t_high/logosgde/10d4b6c4-3481-42f4-a1f6-204acc437db5/202003201310_JiBp_.jpeg",
         "Carnes",
         "16.49",
         "63",
         "6.35",
         "5300108",
         "20.0",
         "Churrasquinho do Barriga´s",
         "DNR $$ MPAY $$ MOVPAY_MC $$ MC $$ GPY_ELO $$ ELOD $$ GPY_MCMA $$ AM $$ MCMA $$ MOVPAY_AM $$ APL_ELOD $$ IMV $$ MOVPAY_VIS $$ GPY_ELOD $$ APL_MCMA $$ GPY_MC $$ APL_ELO $$ MOVPAY_HIPER $$ APL_VISE $$ HIPER $$ IFE $$ VIS $$ APL_VIS $$ MOVPAY_ELO $$ GPY_VISE $$ MOVPAY_DNR $$ VISE $$ ELO $$ APL_MC $$ GPY_VIS",
         "CHEAPEST",
         "0.0",
         "ADDRESS_PREFORM_TYPE $$ GUIDED_HELP_TYPE $$ NOVO $$ PRATOS_VEGETARIANOS_FEV21 $$ RESTAURANTE VOUCHER5 GUARANA",
         "https://www.ifood.com.br/delivery/brasilia-df/churrasquinho-do-barrigas-asa-sul/10d4b6c4-3481-42f4-a1f6-204acc437db5"
        ],
        [
         "4",
         "False",
         "https://static-images.ifood.com.br/image/upload/f_auto,t_high/logosgde/16e90495-f316-4f64-b5a7-d325f4bc2177/202003250951_NORp_i.jpg",
         "Brasileira",
         "11.99",
         "58",
         "5.22",
         "5300108",
         "20.0",
         "Prime Restaurante",
         "DNR $$ MPAY $$ MOVPAY_MC $$ MC $$ GPY_ELO $$ ELOD $$ GPY_MCMA $$ AM $$ MCMA $$ MOVPAY_AM $$ APL_ELOD $$ IMV $$ MOVPAY_VIS $$ GPY_ELOD $$ APL_MCMA $$ GPY_MC $$ APL_ELO $$ MOVPAY_HIPER $$ APL_VISE $$ HIPER $$ IFE $$ VIS $$ APL_VIS $$ MOVPAY_ELO $$ GPY_VISE $$ MOVPAY_DNR $$ VISE $$ ELO $$ APL_MC $$ GPY_VIS",
         "CHEAPEST",
         "0.0",
         "ADDRESS_PREFORM_TYPE $$ GUIDED_HELP_TYPE $$ NOVO",
         "https://www.ifood.com.br/delivery/brasilia-df/prime-restaurante-asa-sul/16e90495-f316-4f64-b5a7-d325f4bc2177"
        ],
        [
         "5",
         "False",
         "https://static-images.ifood.com.br/image/upload/f_auto,t_high/logosgde/96fc8b78-bb63-4ef0-8e48-932dc330f792/202003211702_COTS_i.jpg",
         "Lanches",
         "12.99",
         "67",
         "6.77",
         "5300108",
         "20.0",
         "Clara Quitutes & Cia",
         "DNR $$ MPAY $$ MOVPAY_MC $$ MC $$ GPY_ELO $$ ELOD $$ GPY_MCMA $$ AM $$ MCMA $$ MOVPAY_AM $$ APL_ELOD $$ IMV $$ MOVPAY_VIS $$ GPY_ELOD $$ APL_MCMA $$ GPY_MC $$ APL_ELO $$ MOVPAY_HIPER $$ APL_VISE $$ HIPER $$ IFE $$ VIS $$ APL_VIS $$ MOVPAY_ELO $$ GPY_VISE $$ MOVPAY_DNR $$ VISE $$ ELO $$ APL_MC $$ GPY_VIS",
         "CHEAP",
         "0.0",
         "ADDRESS_PREFORM_TYPE $$ GUIDED_HELP_TYPE $$ JETSKI_BURGER_20AGO $$ jetski_burger_ago20 $$ NOVO $$ PRATOS_VEGETARIANOS_FEV21 $$ RANKING_FASTFOODS_FEV21",
         "https://www.ifood.com.br/delivery/brasilia-df/clara-quitutes--cia-guara-i/96fc8b78-bb63-4ef0-8e48-932dc330f792"
        ],
        [
         "6",
         "False",
         "https://static-images.ifood.com.br/image/upload/f_auto,t_high/logosgde/0083a464-f5d1-4a9b-80c5-bd90f86ee7d1/202003231648_PJLG_i.png",
         "Brasileira",
         "11.99",
         "46",
         "4.47",
         "5300108",
         "20.0",
         "Loca Como Tú Madre",
         "DNR $$ MPAY $$ MOVPAY_MC $$ MC $$ GPY_ELO $$ ELOD $$ GPY_MCMA $$ AM $$ MCMA $$ MOVPAY_AM $$ APL_ELOD $$ IMV $$ MOVPAY_VIS $$ GPY_ELOD $$ APL_MCMA $$ GPY_MC $$ APL_ELO $$ MOVPAY_HIPER $$ APL_VISE $$ HIPER $$ IFE $$ VIS $$ APL_VIS $$ MOVPAY_ELO $$ GPY_VISE $$ MOVPAY_DNR $$ VISE $$ ELO $$ APL_MC $$ GPY_VIS",
         "MOST_EXPENSIVE",
         "0.0",
         "ADDRESS_PREFORM_TYPE $$ GUIDED_HELP_TYPE $$ LONG_TAIL $$ PRATOS_VEGETARIANOS_FEV21",
         "https://www.ifood.com.br/delivery/brasilia-df/loca-como-tu-madre-asa-sul/0083a464-f5d1-4a9b-80c5-bd90f86ee7d1"
        ],
        [
         "7",
         "False",
         "https://static-images.ifood.com.br/image/upload/f_auto,t_high/logosgde/b071a948-a457-4e7a-b150-f549df3eed7e/202102241802_StIQ_i.png",
         "Congelados",
         "7.99",
         "40",
         "4.18",
         "5300108",
         "10.0",
         "Frutos de Goiás 710 Sul",
         "DNR $$ MPAY $$ MOVPAY_MC $$ MC $$ GPY_ELO $$ ELOD $$ GPY_MCMA $$ AM $$ MCMA $$ MOVPAY_AM $$ APL_ELOD $$ TRO $$ IMV $$ MOVPAY_VIS $$ GPY_ELOD $$ APL_MCMA $$ GPY_MC $$ APL_ELO $$ MOVPAY_HIPER $$ APL_VISE $$ VRO $$ HIPER $$ IFE $$ VIS $$ SRP $$ APL_VIS $$ MOVPAY_ELO $$ GPY_VISE $$ MOVPAY_DNR $$ VISE $$ ELO $$ APL_MC $$ GPY_VIS",
         "CHEAPEST",
         "0.0",
         "ADDRESS_PREFORM_TYPE $$ GUIDED_HELP_TYPE $$ MESDODOCE_FIDELIDADE_DEZ20  $$ NOVO",
         "https://www.ifood.com.br/delivery/brasilia-df/frutos-de-goias-710-sul-shigs/b071a948-a457-4e7a-b150-f549df3eed7e"
        ],
        [
         "8",
         "False",
         "https://static-images.ifood.com.br/image/upload/f_auto,t_high/logosgde/3154c78f-03c9-4a2c-9833-08cc62d2dd89/202008062104_czUX_i.jpg",
         "Lanches",
         "13.49",
         "41",
         "5.5",
         "5300108",
         "20.0",
         "Lemos Cozinha",
         "DNR $$ MPAY $$ MOVPAY_MC $$ MC $$ GPY_ELO $$ ELOD $$ GPY_MCMA $$ AM $$ MCMA $$ MOVPAY_AM $$ APL_ELOD $$ IMV $$ MOVPAY_VIS $$ GPY_ELOD $$ APL_MCMA $$ GPY_MC $$ APL_ELO $$ MOVPAY_HIPER $$ APL_VISE $$ HIPER $$ IFE $$ VIS $$ APL_VIS $$ MOVPAY_ELO $$ GPY_VISE $$ MOVPAY_DNR $$ VISE $$ ELO $$ APL_MC $$ GPY_VIS",
         "MODERATE",
         "0.0",
         "ADDRESS_PREFORM_TYPE $$ CART::MCHT::100_DELIVERY_FEE_MERCH_3KM_0 $$ GUIDED_HELP_TYPE $$ JETSKI_BURGER_20AGO $$ jetski_burger_ago20 $$ LONG_TAIL $$ PRATOS_VEGETARIANOS_FEV21 $$ RANKING_FASTFOODS_FEV21 $$ RESTAURANTE VOUCHER5 GUARANA",
         "https://www.ifood.com.br/delivery/brasilia-df/lemos-cozinha-asa-norte/3154c78f-03c9-4a2c-9833-08cc62d2dd89"
        ],
        [
         "9",
         "False",
         "https://static-images.ifood.com.br/image/upload/f_auto,t_high/logosgde/7dcbc8ac-7ddd-43e4-b12d-23e78ae35afd/202004251731_hj0K_i.png",
         "Lanches",
         "15.49",
         "47",
         "6.22",
         "5300108",
         "20.0",
         "Club House Burguer",
         "DNR $$ MPAY $$ MOVPAY_MC $$ MC $$ GPY_ELO $$ ELOD $$ GPY_MCMA $$ AM $$ MCMA $$ MOVPAY_AM $$ APL_ELOD $$ IMV $$ MOVPAY_VIS $$ GPY_ELOD $$ APL_MCMA $$ GPY_MC $$ APL_ELO $$ MOVPAY_HIPER $$ APL_VISE $$ HIPER $$ IFE $$ VIS $$ APL_VIS $$ MOVPAY_ELO $$ GPY_VISE $$ MOVPAY_DNR $$ VISE $$ ELO $$ APL_MC $$ GPY_VIS",
         "MODERATE",
         "0.0",
         "ADDRESS_PREFORM_TYPE $$ CART::MCHT::100_DELIVERY_FEE_MERCH_3KM_0 $$ GUIDED_HELP_TYPE $$ HAMBURGUER_TAXA_GRATIS $$ JETSKI_BURGER_20AGO $$ jetski_burger_ago20 $$ NOVO $$ RANKING_FASTFOODS_FEV21",
         "https://www.ifood.com.br/delivery/brasilia-df/club-house-burguer-asa-norte/7dcbc8ac-7ddd-43e4-b12d-23e78ae35afd"
        ],
        [
         "10",
         "False",
         "https://static-images.ifood.com.br/image/upload/f_auto,t_high/logosgde/5decaa76-d31f-445a-934d-1b29a1da5c5d/202003271740_8Hhl_i.jpg",
         "Lanches",
         "10.49",
         "55",
         "4.23",
         "5300108",
         "20.0",
         "Caldeirão Furado Burger",
         "DNR $$ MPAY $$ MOVPAY_MC $$ MC $$ GPY_ELO $$ ELOD $$ GPY_MCMA $$ AM $$ MCMA $$ MOVPAY_AM $$ APL_ELOD $$ IMV $$ MOVPAY_VIS $$ GPY_ELOD $$ APL_MCMA $$ GPY_MC $$ APL_ELO $$ MOVPAY_HIPER $$ APL_VISE $$ HIPER $$ IFE $$ VIS $$ APL_VIS $$ MOVPAY_ELO $$ GPY_VISE $$ MOVPAY_DNR $$ VISE $$ ELO $$ APL_MC $$ GPY_VIS",
         "CHEAPEST",
         "0.0",
         "ADDRESS_PREFORM_TYPE $$ GUIDED_HELP_TYPE $$ HAMBURGUER_TAXA_GRATIS $$ JETSKI_BURGER_20AGO $$ jetski_burger_ago20 $$ NOVO $$ PRATOS_VEGETARIANOS_FEV21 $$ RANKING_FASTFOODS_FEV21",
         "https://www.ifood.com.br/delivery/brasilia-df/caldeirao-furado-burger-asa-norte/5decaa76-d31f-445a-934d-1b29a1da5c5d"
        ],
        [
         "11",
         "False",
         "https://static-images.ifood.com.br/image/upload/f_auto,t_high/logosgde/62dfd1c2-183f-4c3b-9bee-716f92df54c9/202004022133_VnCh_i.jpg",
         "Pastel",
         "12.0",
         "80",
         "5.19",
         "5300108",
         "20.0",
         "Siapastel",
         "DNR $$ MPAY $$ MOVPAY_MC $$ RAM $$ MC $$ GPY_ELO $$ REC $$ RDREST $$ ELOD $$ GPY_MCMA $$ AM $$ MCMA $$ MOVPAY_AM $$ DIN $$ APL_ELOD $$ IMV $$ MOVPAY_VIS $$ GPY_ELOD $$ APL_MCMA $$ GPY_MC $$ APL_ELO $$ MOVPAY_HIPER $$ DNREST $$ APL_VISE $$ HIPER $$ IFE $$ VIS $$ RED $$ VIREST $$ VSREST $$ APL_VIS $$ RHIP $$ MOVPAY_ELO $$ GPY_VISE $$ MOVPAY_DNR $$ VISE $$ ELO $$ APL_MC $$ MEREST $$ GPY_VIS",
         "CHEAPEST",
         "0.0",
         "ADDRESS_PREFORM_TYPE $$ GUIDED_HELP_TYPE $$ NOVO",
         "https://www.ifood.com.br/delivery/brasilia-df/siapastel-sia-zona-industrial/62dfd1c2-183f-4c3b-9bee-716f92df54c9"
        ],
        [
         "12",
         "False",
         "https://static-images.ifood.com.br/image/upload/f_auto,t_high/logosgde/f9dd8fda-6a2f-4429-9a2c-6ac8edbd2b4d/202008121621_tzY3_i.jpg",
         "Indiana",
         "13.49",
         "57",
         "5.74",
         "5300108",
         "20.0",
         "Indian Curry House",
         "DNR $$ MPAY $$ MOVPAY_MC $$ MC $$ GPY_ELO $$ ELOD $$ GPY_MCMA $$ AM $$ MCMA $$ MOVPAY_AM $$ APL_ELOD $$ IMV $$ MOVPAY_VIS $$ GPY_ELOD $$ APL_MCMA $$ GPY_MC $$ APL_ELO $$ MOVPAY_HIPER $$ APL_VISE $$ HIPER $$ IFE $$ VIS $$ APL_VIS $$ MOVPAY_ELO $$ GPY_VISE $$ MOVPAY_DNR $$ VISE $$ ELO $$ APL_MC $$ GPY_VIS",
         "MODERATE",
         "0.0",
         "ADDRESS_PREFORM_TYPE $$ GUIDED_HELP_TYPE $$ NOVO",
         "https://www.ifood.com.br/delivery/brasilia-df/indian-curry-house-asa-norte/f9dd8fda-6a2f-4429-9a2c-6ac8edbd2b4d"
        ],
        [
         "13",
         "False",
         "https://static-images.ifood.com.br/image/upload/f_auto,t_high/logosgde/0e8b19e7-06cf-4838-8ab6-c96df08557b7/202008202053_V7aD_i.jpg",
         "Árabe",
         "14.49",
         "60",
         "5.95",
         "5300108",
         "20.0",
         "Ahmed Gastro Bar",
         "DNR $$ MPAY $$ MOVPAY_MC $$ MC $$ GPY_ELO $$ ELOD $$ GPY_MCMA $$ AM $$ MCMA $$ MOVPAY_AM $$ APL_ELOD $$ IMV $$ MOVPAY_VIS $$ GPY_ELOD $$ APL_MCMA $$ GPY_MC $$ APL_ELO $$ MOVPAY_HIPER $$ APL_VISE $$ HIPER $$ IFE $$ VIS $$ APL_VIS $$ MOVPAY_ELO $$ GPY_VISE $$ MOVPAY_DNR $$ VISE $$ ELO $$ APL_MC $$ GPY_VIS",
         "MODERATE",
         "0.0",
         "ADDRESS_PREFORM_TYPE $$ BF_PIZZARIASESFIHARIAS_NOV20 $$ CART::MCHT::100_DELIVERY_FEE_MERCH_3KM_0 $$ GUIDED_HELP_TYPE $$ NOVO $$ PRATOS_VEGETARIANOS_FEV21 $$ RESTAURANTE VOUCHER5 GUARANA",
         "https://www.ifood.com.br/delivery/brasilia-df/ahmed-gastro-bar-asa-norte/0e8b19e7-06cf-4838-8ab6-c96df08557b7"
        ],
        [
         "14",
         "False",
         "https://static-images.ifood.com.br/image/upload/f_auto,t_high/logosgde/d4c69e12-9dbf-436e-a357-e6ac4f4a30b2/202007061251_FaEY_i.jpg",
         "Brasileira",
         "8.49",
         "50",
         "3.9",
         "5300108",
         "20.0",
         "Cantinho do Sabor",
         "DNR $$ MPAY $$ MOVPAY_MC $$ MC $$ GPY_ELO $$ ELOD $$ GPY_MCMA $$ AM $$ MCMA $$ MOVPAY_AM $$ APL_ELOD $$ IMV $$ MOVPAY_VIS $$ GPY_ELOD $$ APL_MCMA $$ GPY_MC $$ APL_ELO $$ MOVPAY_HIPER $$ APL_VISE $$ HIPER $$ IFE $$ VIS $$ APL_VIS $$ MOVPAY_ELO $$ GPY_VISE $$ MOVPAY_DNR $$ VISE $$ ELO $$ APL_MC $$ GPY_VIS",
         "CHEAPEST",
         "0.0",
         "ADDRESS_PREFORM_TYPE $$ CART::MCHT::100_DELIVERY_FEE_MERCH_3KM_0 $$ CPGN_USER_DISCOUNT_5_LIST $$ CPGN_USER_DISCOUNT_BR_LIST $$ GUIDED_HELP_TYPE $$ LOYALTY_CARD_3 $$ NOVO",
         "https://www.ifood.com.br/delivery/brasilia-df/cantinho-do-sabor-sia/d4c69e12-9dbf-436e-a357-e6ac4f4a30b2"
        ],
        [
         "15",
         "False",
         "https://static-images.ifood.com.br/image/upload/f_auto,t_high/logosgde/dd3c8eea-89b0-4349-978a-8b9136d67028/202005081355_1KTz_.jpeg",
         "Bebidas",
         "14.49",
         "60",
         "5.77",
         "5300108",
         "10.0",
         "Jungle Bar",
         "DNR $$ MPAY $$ MOVPAY_MC $$ MC $$ GPY_ELO $$ ELOD $$ GPY_MCMA $$ AM $$ MCMA $$ MOVPAY_AM $$ APL_ELOD $$ MOVPAY_VIS $$ GPY_ELOD $$ APL_MCMA $$ GPY_MC $$ APL_ELO $$ MOVPAY_HIPER $$ APL_VISE $$ HIPER $$ IFE $$ VIS $$ APL_VIS $$ MOVPAY_ELO $$ GPY_VISE $$ MOVPAY_DNR $$ VISE $$ ELO $$ APL_MC $$ GPY_VIS",
         "EXPENSIVE",
         "0.0",
         "ADDRESS_PREFORM_TYPE $$ CART::MCHT::100_DELIVERY_FEE_MERCH_3KM_0 $$ GUIDED_HELP_TYPE $$ LOYALTY_CARD_3 $$ NOVO $$ PRATOS_VEGETARIANOS_FEV21 $$ VERAO_BEBIDAS_DEZ20",
         "https://www.ifood.com.br/delivery/brasilia-df/jungle-bar-asa-norte/dd3c8eea-89b0-4349-978a-8b9136d67028"
        ],
        [
         "16",
         "False",
         "https://static-images.ifood.com.br/image/upload/f_auto,t_high/logosgde/f4424063-be4b-4b45-868d-068fa752c7d7/202004082320_wjIx_.jpeg",
         "Brasileira",
         "15.49",
         "68",
         "6.53",
         "5300108",
         "20.0",
         "Comidas da Marizete",
         "DNR $$ MPAY $$ MOVPAY_MC $$ MC $$ GPY_ELO $$ ELOD $$ GPY_MCMA $$ AM $$ MCMA $$ MOVPAY_AM $$ APL_ELOD $$ IMV $$ MOVPAY_VIS $$ GPY_ELOD $$ APL_MCMA $$ GPY_MC $$ APL_ELO $$ MOVPAY_HIPER $$ APL_VISE $$ HIPER $$ IFE $$ VIS $$ APL_VIS $$ MOVPAY_ELO $$ GPY_VISE $$ MOVPAY_DNR $$ VISE $$ ELO $$ APL_MC $$ GPY_VIS",
         "CHEAPEST",
         "0.0",
         "ADDRESS_PREFORM_TYPE $$ BOMEBARATO_CUPOM $$ CART::MCHT::100_DELIVERY_FEE_MERCH_3KM_0 $$ GUIDED_HELP_TYPE $$ NOVO $$ NOVO_ABB_JUL20_V1 $$ NOVO_BOM_BARATO_JUN20 $$ RESTAURANTE VOUCHER5 GUARANA",
         "https://www.ifood.com.br/delivery/brasilia-df/comidas-da-marizete-guara-i/f4424063-be4b-4b45-868d-068fa752c7d7"
        ],
        [
         "17",
         "False",
         "https://static-images.ifood.com.br/image/upload/f_auto,t_high/logosgde/bd8fd84a-1c88-49eb-9f08-1dd94163778b/202004150659_3NF3_i.png",
         "Brasileira",
         "13.49",
         "59",
         "5.72",
         "5300108",
         "10.0",
         "Dedeos",
         "DNR $$ MPAY $$ MOVPAY_MC $$ MC $$ GPY_ELO $$ ELOD $$ GPY_MCMA $$ BENRON $$ AM $$ MCMA $$ MOVPAY_AM $$ APL_ELOD $$ TRO $$ IMV $$ MOVPAY_VIS $$ GPY_ELOD $$ APL_MCMA $$ GPY_MC $$ APL_ELO $$ MOVPAY_HIPER $$ APL_VISE $$ VRO $$ HIPER $$ IFE $$ VIS $$ SRP $$ APL_VIS $$ MOVPAY_ELO $$ GPY_VISE $$ MOVPAY_DNR $$ VISE $$ ELO $$ APL_MC $$ GPY_VIS",
         "CHEAPEST",
         "0.0",
         "ADDRESS_PREFORM_TYPE $$ CART::MCHT::100_DELIVERY_FEE_MERCH_3KM_0 $$ GUIDED_HELP_TYPE $$ LOYALTY_CARD_3 $$ NOVO",
         "https://www.ifood.com.br/delivery/brasilia-df/dedeos-brasilia/bd8fd84a-1c88-49eb-9f08-1dd94163778b"
        ],
        [
         "18",
         "False",
         "https://static-images.ifood.com.br/image/upload/f_auto,t_high/logosgde/bab4e1bc-e879-4e34-8752-5b8c1dba52c5/202004142013_Qa9h_i.jpg",
         "Brasileira",
         "15.49",
         "41",
         "6.03",
         "5300108",
         "20.0",
         "Panelinhas do Brasil",
         "DNR $$ MPAY $$ MOVPAY_MC $$ MC $$ GPY_ELO $$ ELOD $$ GPY_MCMA $$ AM $$ MCMA $$ MOVPAY_AM $$ APL_ELOD $$ IMV $$ MOVPAY_VIS $$ GPY_ELOD $$ APL_MCMA $$ GPY_MC $$ APL_ELO $$ MOVPAY_HIPER $$ APL_VISE $$ HIPER $$ IFE $$ VIS $$ APL_VIS $$ MOVPAY_ELO $$ GPY_VISE $$ MOVPAY_DNR $$ VISE $$ ELO $$ APL_MC $$ GPY_VIS",
         "EXPENSIVE",
         "0.0",
         "ADDRESS_PREFORM_TYPE $$ GUIDED_HELP_TYPE $$ LOYALTY_CARD_3 $$ NOVO",
         "https://www.ifood.com.br/delivery/brasilia-df/panelinhas-do-brasil-asa-norte/bab4e1bc-e879-4e34-8752-5b8c1dba52c5"
        ],
        [
         "19",
         "False",
         "https://static-images.ifood.com.br/image/upload/f_auto,t_high/logosgde/322eeb44-1188-4d3b-89f3-54d8fdedf725/202004190118_x7zw_i.png",
         "Lanches",
         "6.99",
         "30",
         "2.02",
         "5300108",
         "20.0",
         "Slow And Low",
         "DNR $$ MPAY $$ MOVPAY_MC $$ MC $$ GPY_ELO $$ ELOD $$ GPY_MCMA $$ AM $$ MCMA $$ MOVPAY_AM $$ APL_ELOD $$ IMV $$ MOVPAY_VIS $$ GPY_ELOD $$ APL_MCMA $$ GPY_MC $$ APL_ELO $$ MOVPAY_HIPER $$ APL_VISE $$ HIPER $$ IFE $$ VIS $$ APL_VIS $$ MOVPAY_ELO $$ GPY_VISE $$ MOVPAY_DNR $$ VISE $$ ELO $$ APL_MC $$ GPY_VIS",
         "MODERATE",
         "0.0",
         "ADDRESS_PREFORM_TYPE $$ GUIDED_HELP_TYPE $$ HAMBURGUER_TAXA_GRATIS $$ JETSKI_BURGER_20AGO $$ jetski_burger_ago20 $$ LOYALTY_CARD_3 $$ NOVO $$ RANKING_FASTFOODS_FEV21",
         "https://www.ifood.com.br/delivery/brasilia-df/slow-and-low-sgo/322eeb44-1188-4d3b-89f3-54d8fdedf725"
        ],
        [
         "20",
         "False",
         "https://static-images.ifood.com.br/image/upload/f_auto,t_high/logosgde/597cf76f-53ee-4d61-b8a7-4b43fcdfe48a/202004182204_JKbf_i.png",
         "Lanches",
         "0.0",
         "45",
         "1.88",
         "5300108",
         "8.0",
         "Batata Recheada e Jantinha Suelchef",
         "DNR $$ MPAY $$ MOVPAY_MC $$ MC $$ GPY_ELO $$ ELOD $$ GPY_MCMA $$ AM $$ MCMA $$ MOVPAY_AM $$ APL_ELOD $$ IMV $$ MOVPAY_VIS $$ GPY_ELOD $$ APL_MCMA $$ GPY_MC $$ APL_ELO $$ MOVPAY_HIPER $$ APL_VISE $$ HIPER $$ IFE $$ VIS $$ APL_VIS $$ MOVPAY_ELO $$ GPY_VISE $$ MOVPAY_DNR $$ VISE $$ ELO $$ APL_MC $$ GPY_VIS",
         "CHEAP",
         "0.0",
         "ADDRESS_PREFORM_TYPE $$ GUIDED_HELP_TYPE $$ HAMBURGUER_TAXA_GRATIS $$ JETSKI_BURGER_20AGO $$ jetski_burger_ago20 $$ NOVO $$ RANKING_FASTFOODS_FEV21",
         "https://www.ifood.com.br/delivery/brasilia-df/batata-recheada-e-jantinha-suelchef-cruzeiro-novo/597cf76f-53ee-4d61-b8a7-4b43fcdfe48a"
        ],
        [
         "21",
         "False",
         "https://static-images.ifood.com.br/image/upload/f_auto,t_high/logosgde/8f13c62e-f833-42b0-8a0f-603e0de7e04d/202004202227_aHhU_i.jpg",
         "Doces & Bolos",
         "12.49",
         "29",
         "5.06",
         "5300108",
         "10.0",
         "Capital dos Bolos 312 Norte",
         "DNR $$ MPAY $$ MOVPAY_MC $$ MC $$ GPY_ELO $$ ELOD $$ GPY_MCMA $$ AM $$ MCMA $$ MOVPAY_AM $$ APL_ELOD $$ IMV $$ MOVPAY_VIS $$ GPY_ELOD $$ APL_MCMA $$ GPY_MC $$ APL_ELO $$ MOVPAY_HIPER $$ APL_VISE $$ HIPER $$ IFE $$ VIS $$ APL_VIS $$ MOVPAY_ELO $$ GPY_VISE $$ MOVPAY_DNR $$ VISE $$ ELO $$ APL_MC $$ GPY_VIS",
         "CHEAPEST",
         "0.0",
         "ADDRESS_PREFORM_TYPE $$ GUIDED_HELP_TYPE $$ LONG_TAIL $$ MESDODOCE_FIDELIDADE_DEZ20 ",
         "https://www.ifood.com.br/delivery/brasilia-df/capital-dos-bolos-312-norte-asa-norte/8f13c62e-f833-42b0-8a0f-603e0de7e04d"
        ],
        [
         "22",
         "False",
         "https://static-images.ifood.com.br/image/upload/f_auto,t_high/logosgde/e24385ef-3d89-477b-bf26-fb5334465e2f/202004201603_HUlU_i.jpg",
         "Brasileira",
         "11.99",
         "18",
         "5.43",
         "5300108",
         "20.0",
         "Bliss Culinária Saudável",
         "DNR $$ MPAY $$ MOVPAY_MC $$ MC $$ GPY_ELO $$ ELOD $$ GPY_MCMA $$ AM $$ MCMA $$ MOVPAY_AM $$ APL_ELOD $$ IMV $$ MOVPAY_VIS $$ GPY_ELOD $$ APL_MCMA $$ GPY_MC $$ APL_ELO $$ MOVPAY_HIPER $$ APL_VISE $$ HIPER $$ IFE $$ VIS $$ SRP $$ APL_VIS $$ MOVPAY_ELO $$ GPY_VISE $$ MOVPAY_DNR $$ VISE $$ ELO $$ APL_MC $$ GPY_VIS",
         "MODERATE",
         "0.0",
         "ADDRESS_PREFORM_TYPE $$ CPGN_USER_DISCOUNT_6_LIST $$ GUIDED_HELP_TYPE $$ LONG_TAIL $$ PRATOS_VEGETARIANOS_FEV21 $$ PRESENTEAVEIS_FELICITACOES_DEZ20 $$ RESTAURANTE VOUCHER5 GUARANA",
         "https://www.ifood.com.br/delivery/brasilia-df/bliss-culinaria-saudavel-asa-sul/e24385ef-3d89-477b-bf26-fb5334465e2f"
        ],
        [
         "23",
         "False",
         "https://static-images.ifood.com.br/image/upload/f_auto,t_high/logosgde/1797dbb4-4016-4a06-b1cc-2ffb5a21211a/202008261615_Oprf_i.jpg",
         "Lanches",
         "12.49",
         "35",
         "5.08",
         "5300108",
         "20.0",
         "Lobo Dog",
         "DNR $$ MPAY $$ MOVPAY_MC $$ MC $$ GPY_ELO $$ ELOD $$ GPY_MCMA $$ AM $$ MCMA $$ MOVPAY_AM $$ APL_ELOD $$ IMV $$ MOVPAY_VIS $$ GPY_ELOD $$ APL_MCMA $$ GPY_MC $$ APL_ELO $$ MOVPAY_HIPER $$ APL_VISE $$ HIPER $$ IFE $$ VIS $$ APL_VIS $$ MOVPAY_ELO $$ GPY_VISE $$ MOVPAY_DNR $$ VISE $$ ELO $$ APL_MC $$ GPY_VIS",
         "CHEAP",
         "0.0",
         "ADDRESS_PREFORM_TYPE $$ CART::MCHT::100_DELIVERY_FEE_MERCH_3KM_0 $$ GUIDED_HELP_TYPE $$ JETSKI_BURGER_20AGO $$ jetski_burger_ago20 $$ NOVO $$ RANKING_FASTFOODS_FEV21",
         "https://www.ifood.com.br/delivery/brasilia-df/lobo-dog-asa-sul/1797dbb4-4016-4a06-b1cc-2ffb5a21211a"
        ],
        [
         "24",
         "False",
         "https://static-images.ifood.com.br/image/upload/f_auto,t_high/logosgde/be752655-dd45-4ed3-8bf1-d054679ea721/202004231248_bk7v_i.jpg",
         "Lanches",
         "9.0",
         "80",
         "9.53",
         "5300108",
         "0.0",
         "Kelly Crepes & Massas",
         "DNR $$ MPAY $$ MOVPAY_MC $$ MC $$ GPY_ELO $$ RDREST $$ ELOD $$ GPY_MCMA $$ AM $$ MCMA $$ MOVPAY_AM $$ DIN $$ APL_ELOD $$ IMV $$ MOVPAY_VIS $$ GPY_ELOD $$ APL_MCMA $$ GPY_MC $$ APL_ELO $$ MOVPAY_HIPER $$ APL_VISE $$ HIPER $$ IFE $$ VIS $$ RED $$ VIREST $$ VSREST $$ APL_VIS $$ MOVPAY_ELO $$ GPY_VISE $$ MOVPAY_DNR $$ VISE $$ ELO $$ APL_MC $$ MEREST $$ GPY_VIS",
         "CHEAPEST",
         "0.0",
         "ADDRESS_PREFORM_TYPE $$ GUIDED_HELP_TYPE $$ HAMBURGUER_TAXA_GRATIS $$ NOVO $$ RANKING_FASTFOODS_FEV21",
         "https://www.ifood.com.br/delivery/brasilia-df/kelly-crepes--massas-guara-i/be752655-dd45-4ed3-8bf1-d054679ea721"
        ],
        [
         "25",
         "False",
         "https://static-images.ifood.com.br/image/upload/f_auto,t_high/logosgde/a8d5f149-a7c2-41f4-802e-4ea18fad4ebb/202004242348_p8p9_i.png",
         "Brasileira",
         "11.99",
         "64",
         "6.93",
         "5300108",
         "20.0",
         "Imperador Buffet Delivery",
         "DNR $$ MPAY $$ MOVPAY_MC $$ MC $$ GPY_ELO $$ ELOD $$ GPY_MCMA $$ AM $$ MCMA $$ MOVPAY_AM $$ APL_ELOD $$ IMV $$ MOVPAY_VIS $$ GPY_ELOD $$ APL_MCMA $$ GPY_MC $$ APL_ELO $$ MOVPAY_HIPER $$ APL_VISE $$ HIPER $$ IFE $$ VIS $$ APL_VIS $$ MOVPAY_ELO $$ GPY_VISE $$ MOVPAY_DNR $$ VISE $$ ELO $$ APL_MC $$ GPY_VIS",
         "MODERATE",
         "0.0",
         "ADDRESS_PREFORM_TYPE $$ CPGN_USER_DISCOUNT_6_LIST $$ CPGN_USER_DISCOUNT_BR_LIST $$ GUIDED_HELP_TYPE $$ LONG_TAIL",
         "https://www.ifood.com.br/delivery/brasilia-df/imperador-buffet-delivery-asa-sul/a8d5f149-a7c2-41f4-802e-4ea18fad4ebb"
        ],
        [
         "26",
         "False",
         "https://static-images.ifood.com.br/image/upload/f_auto,t_high/logosgde/4e36a209-822b-4db3-aeda-fc3317b22a35/202005061047_rpHi_i.jpg",
         "Brasileira",
         "14.49",
         "61",
         "6.03",
         "5300108",
         "20.0",
         "Savassi Naturale",
         "DNR $$ MPAY $$ MOVPAY_MC $$ MC $$ GPY_ELO $$ ELOD $$ GPY_MCMA $$ AM $$ MCMA $$ MOVPAY_AM $$ APL_ELOD $$ IMV $$ MOVPAY_VIS $$ GPY_ELOD $$ APL_MCMA $$ GPY_MC $$ APL_ELO $$ MOVPAY_HIPER $$ APL_VISE $$ HIPER $$ IFE $$ VIS $$ APL_VIS $$ MOVPAY_ELO $$ GPY_VISE $$ MOVPAY_DNR $$ VISE $$ ELO $$ APL_MC $$ GPY_VIS",
         "MODERATE",
         "0.0",
         "ADDRESS_PREFORM_TYPE $$ GUIDED_HELP_TYPE $$ NOVO $$ PRATOS_VEGETARIANOS_FEV21",
         "https://www.ifood.com.br/delivery/brasilia-df/savassi-naturale-asa-norte/4e36a209-822b-4db3-aeda-fc3317b22a35"
        ],
        [
         "27",
         "False",
         "https://static-images.ifood.com.br/image/upload/f_auto,t_high/logosgde/327b379a-6fa1-453d-9fe5-9717e89c5319/202006142101_frCI_i.png",
         "Salgados",
         "12.49",
         "60",
         "5.19",
         "5300108",
         "20.0",
         "Lanchonete o Pão de Queijo",
         "DNR $$ MPAY $$ MOVPAY_MC $$ MC $$ GPY_ELO $$ ELOD $$ GPY_MCMA $$ AM $$ MCMA $$ MOVPAY_AM $$ APL_ELOD $$ IMV $$ MOVPAY_VIS $$ GPY_ELOD $$ APL_MCMA $$ GPY_MC $$ APL_ELO $$ MOVPAY_HIPER $$ APL_VISE $$ HIPER $$ IFE $$ VIS $$ APL_VIS $$ MOVPAY_ELO $$ GPY_VISE $$ MOVPAY_DNR $$ VISE $$ ELO $$ APL_MC $$ GPY_VIS",
         "CHEAPEST",
         "0.0",
         "ADDRESS_PREFORM_TYPE $$ CART::MCHT::100_DELIVERY_FEE_MERCH_3KM_0 $$ GUIDED_HELP_TYPE $$ NOVO",
         "https://www.ifood.com.br/delivery/brasilia-df/lanchonete-o-pao-de-queijo-asa-sul/327b379a-6fa1-453d-9fe5-9717e89c5319"
        ],
        [
         "28",
         "False",
         "https://static-images.ifood.com.br/image/upload/f_auto,t_high/logosgde/20332338-722b-4c53-808a-befb689b2740/202005201653_tQly_i.jpg",
         "Brasileira",
         "8.99",
         "38",
         "4.14",
         "5300108",
         "20.0",
         "Salute Restaurante",
         "DNR $$ MPAY $$ MOVPAY_MC $$ MC $$ GPY_ELO $$ ELOD $$ GPY_MCMA $$ AM $$ MCMA $$ MOVPAY_AM $$ APL_ELOD $$ IMV $$ MOVPAY_VIS $$ GPY_ELOD $$ APL_MCMA $$ GPY_MC $$ APL_ELO $$ MOVPAY_HIPER $$ APL_VISE $$ HIPER $$ IFE $$ VIS $$ APL_VIS $$ MOVPAY_ELO $$ GPY_VISE $$ MOVPAY_DNR $$ VISE $$ ELO $$ APL_MC $$ GPY_VIS",
         "CHEAPEST",
         "0.0",
         "ADDRESS_PREFORM_TYPE $$ GUIDED_HELP_TYPE $$ NOVO",
         "https://www.ifood.com.br/delivery/brasilia-df/salute-restaurante-asa-sul/20332338-722b-4c53-808a-befb689b2740"
        ],
        [
         "29",
         "False",
         "https://static-images.ifood.com.br/image/upload/f_auto,t_high/logosgde/db0e3770-ab55-4306-aaad-8fc87fa7421b/202006101441_jq5O_i.jpg",
         "Mercado",
         "15.0",
         "120",
         "13.21",
         "5300108",
         "50.0",
         "Feirinha Delivery de Frutas & Verduras 2",
         "DNR $$ MPAY $$ MOVPAY_MC $$ RAM $$ MC $$ GPY_ELO $$ REC $$ RDREST $$ ELOD $$ GPY_MCMA $$ AM $$ MCMA $$ MOVPAY_AM $$ DIN $$ APL_ELOD $$ IMV $$ BANRD $$ MOVPAY_VIS $$ GPY_ELOD $$ APL_MCMA $$ GPY_MC $$ APL_ELO $$ MOVPAY_HIPER $$ DNREST $$ APL_VISE $$ HIPER $$ IFE $$ VIS $$ RED $$ VIREST $$ VSREST $$ APL_VIS $$ RHIP $$ MOVPAY_ELO $$ GPY_VISE $$ MOVPAY_DNR $$ VISE $$ ELO $$ APL_MC $$ MEREST $$ GPY_VIS",
         "MOST_EXPENSIVE",
         "0.0",
         "ADDRESS_PREFORM_TYPE $$ GUIDED_HELP_TYPE $$ LONG_TAIL $$ MARKET $$ MER_AMIGOSECRETO_CERVEJAS_DEZ20 $$ MER_FESTBEBIDAS_ALCOOLICAS_SET20 $$ MER_FESTBEBIDAS_REFRIENERGETICOS_SET20 $$ MER_FESTBEBIDAS_SUCOSAGUASCHAS_SET20 $$ MER_FESTCRIANCA_BEBIDAS_OUT20 $$ MER_LANCHEIRA_JAN21 $$ MER_NATAL_REFRISUCO_DEZ20 $$ MER_VERAO_BEBIDAS_JAN21 $$ MER_VERAO_FRUTASELEG_JAN21 $$ PRATOS_VEGETARIANOS_FEV21 $$ VERAO_BEBIDAS_DEZ20",
         "https://www.ifood.com.br/delivery/brasilia-df/feirinha-delivery-de-frutas--verduras-2-setor-habitacional-samambaia-vicente-pires/db0e3770-ab55-4306-aaad-8fc87fa7421b"
        ],
        [
         "30",
         "False",
         "https://static-images.ifood.com.br/image/upload/f_auto,t_high/logosgde/12aec04e-f91b-475f-9c55-ce3bbb382973/202005271729_kYp2_.jpeg",
         "Italiana",
         "14.49",
         "61",
         "5.91",
         "5300108",
         "20.0",
         "Pastifício Zanani",
         "DNR $$ MPAY $$ MOVPAY_MC $$ MC $$ GPY_ELO $$ ELOD $$ GPY_MCMA $$ AM $$ MCMA $$ MOVPAY_AM $$ APL_ELOD $$ IMV $$ MOVPAY_VIS $$ GPY_ELOD $$ APL_MCMA $$ GPY_MC $$ APL_ELO $$ MOVPAY_HIPER $$ APL_VISE $$ HIPER $$ IFE $$ VIS $$ APL_VIS $$ MOVPAY_ELO $$ GPY_VISE $$ MOVPAY_DNR $$ VISE $$ ELO $$ APL_MC $$ GPY_VIS",
         "CHEAPEST",
         "0.0",
         "ADDRESS_PREFORM_TYPE $$ GUIDED_HELP_TYPE $$ INVERNO_SOPASCALDOS_JUL20 $$ MARMITA_GRU_20 $$ MARMITA_GRU_MAIS $$ MARMITA_GRU_SALADA $$ NOVO",
         "https://www.ifood.com.br/delivery/brasilia-df/pastificio-zanani-asa-norte/12aec04e-f91b-475f-9c55-ce3bbb382973"
        ],
        [
         "31",
         "False",
         "https://static-images.ifood.com.br/image/upload/f_auto,t_high/logosgde/d594e3fe-9019-4635-b3c0-1a935c2946e3/202006062018_Jukm_.jpeg",
         "Pizza",
         "13.49",
         "67",
         "5.77",
         "5300108",
         "20.0",
         "Pizzaria Grãos do Cerrado",
         "DNR $$ MPAY $$ MOVPAY_MC $$ MC $$ GPY_ELO $$ ELOD $$ GPY_MCMA $$ AM $$ MCMA $$ MOVPAY_AM $$ APL_ELOD $$ IMV $$ MOVPAY_VIS $$ GPY_ELOD $$ APL_MCMA $$ GPY_MC $$ APL_ELO $$ MOVPAY_HIPER $$ APL_VISE $$ HIPER $$ IFE $$ VIS $$ APL_VIS $$ MOVPAY_ELO $$ GPY_VISE $$ MOVPAY_DNR $$ VISE $$ ELO $$ APL_MC $$ GPY_VIS",
         "CHEAPEST",
         "0.0",
         "ADDRESS_PREFORM_TYPE $$ BF_PIZZARIASESFIHARIAS_NOV20 $$ CART::MCHT::100_DELIVERY_FEE_MERCH_3KM_0 $$ GUIDED_HELP_TYPE $$ JETSKI_PIZZA_20AGO $$ jetski_pizza_ago20 $$ NOVO",
         "https://www.ifood.com.br/delivery/brasilia-df/pizzaria-graos-do-cerrado-asa-norte/d594e3fe-9019-4635-b3c0-1a935c2946e3"
        ],
        [
         "32",
         "False",
         "https://static-images.ifood.com.br/image/upload/f_auto,t_high/logosgde/27d1660b-5782-428f-aac3-2f43a7b7b43a/202007021228_sAiD_.jpeg",
         "Lanches",
         "6.99",
         "90",
         "8.15",
         "5300108",
         "15.0",
         "Garagem DogBurguer",
         "DNR $$ MPAY $$ MOVPAY_MC $$ RAM $$ MC $$ GPY_ELO $$ REC $$ RDREST $$ ELOD $$ GPY_MCMA $$ AM $$ NUGO $$ MCMA $$ MOVPAY_AM $$ DIN $$ APL_ELOD $$ IMV $$ BANRD $$ MOVPAY_VIS $$ GPY_ELOD $$ APL_MCMA $$ GPY_MC $$ APL_ELO $$ MOVPAY_HIPER $$ DNREST $$ APL_VISE $$ HIPER $$ IFE $$ VIS $$ RED $$ VIREST $$ VSREST $$ BANRC $$ APL_VIS $$ RHIP $$ MOVPAY_ELO $$ GPY_VISE $$ MOVPAY_DNR $$ VISE $$ VERDEC $$ ELO $$ APL_MC $$ MEREST $$ GPY_VIS $$ GOODC",
         "CHEAPEST",
         "0.0",
         "ADDRESS_PREFORM_TYPE $$ BOMEBARATO_CUPOM $$ GUIDED_HELP_TYPE $$ JETSKI_BURGER_20AGO $$ jetski_burger_ago20 $$ NOVO $$ NOVO_BOM_BARATO_JUN20 $$ RANKING_FASTFOODS_FEV21 $$ RESTAURANTE VOUCHER5 GUARANA",
         "https://www.ifood.com.br/delivery/brasilia-df/garagem-dogburguer-candangolandia/27d1660b-5782-428f-aac3-2f43a7b7b43a"
        ],
        [
         "33",
         "False",
         "https://static-images.ifood.com.br/image/upload/f_auto,t_high/logosgde/3b556910-f908-4c38-b852-e758fba71a29/202005291432_943R_.jpeg",
         "Lanches",
         "13.49",
         "59",
         "5.7",
         "5300108",
         "20.0",
         "Bomba Capital",
         "DNR $$ MPAY $$ MOVPAY_MC $$ MC $$ GPY_ELO $$ ELOD $$ GPY_MCMA $$ AM $$ MCMA $$ MOVPAY_AM $$ APL_ELOD $$ IMV $$ MOVPAY_VIS $$ GPY_ELOD $$ APL_MCMA $$ GPY_MC $$ APL_ELO $$ MOVPAY_HIPER $$ APL_VISE $$ HIPER $$ IFE $$ VIS $$ APL_VIS $$ MOVPAY_ELO $$ GPY_VISE $$ MOVPAY_DNR $$ VISE $$ ELO $$ APL_MC $$ GPY_VIS",
         "CHEAPEST",
         "0.0",
         "ADDRESS_PREFORM_TYPE $$ CART::MCHT::100_DELIVERY_FEE_MERCH_3KM_0 $$ GUIDED_HELP_TYPE $$ MESDODOCE_FIDELIDADE_DEZ20  $$ NOVO $$ RANKING_FASTFOODS_FEV21",
         "https://www.ifood.com.br/delivery/brasilia-df/bomba-capital-asa-norte/3b556910-f908-4c38-b852-e758fba71a29"
        ],
        [
         "34",
         "False",
         "https://static-images.ifood.com.br/image/upload/f_auto,t_high/logosgde/202006081038_e871d3a7-e1de-4fcd-886f-c47514416e19.png",
         "Carnes",
         "8.99",
         "55",
         "4.58",
         "5300108",
         "20.0",
         "Churrasquinho do Galego",
         "DNR $$ MPAY $$ MOVPAY_MC $$ MC $$ GPY_ELO $$ ELOD $$ GPY_MCMA $$ AM $$ MCMA $$ MOVPAY_AM $$ APL_ELOD $$ IMV $$ MOVPAY_VIS $$ GPY_ELOD $$ APL_MCMA $$ GPY_MC $$ APL_ELO $$ MOVPAY_HIPER $$ APL_VISE $$ HIPER $$ IFE $$ VIS $$ APL_VIS $$ MOVPAY_ELO $$ GPY_VISE $$ MOVPAY_DNR $$ VISE $$ ELO $$ APL_MC $$ GPY_VIS",
         "MODERATE",
         "0.0",
         "ADDRESS_PREFORM_TYPE $$ GUIDED_HELP_TYPE $$ NOVO",
         "https://www.ifood.com.br/delivery/brasilia-df/churrasquinho-do-galego-asa-norte/e871d3a7-e1de-4fcd-886f-c47514416e19"
        ],
        [
         "35",
         "False",
         "https://static-images.ifood.com.br/image/upload/f_auto,t_high/logosgde/cdfbe82d-e6ea-4e0f-8590-2a453bbdb729/202009101854_R3k5_i.jpg",
         "Brasileira",
         "5.99",
         "28",
         "2.12",
         "5300108",
         "20.0",
         "Reis dos Caldos & Massas",
         "DNR $$ MPAY $$ MOVPAY_MC $$ MC $$ GPY_ELO $$ ELOD $$ GPY_MCMA $$ AM $$ MCMA $$ MOVPAY_AM $$ APL_ELOD $$ IMV $$ MOVPAY_VIS $$ GPY_ELOD $$ APL_MCMA $$ GPY_MC $$ APL_ELO $$ MOVPAY_HIPER $$ APL_VISE $$ HIPER $$ IFE $$ VIS $$ APL_VIS $$ MOVPAY_ELO $$ GPY_VISE $$ MOVPAY_DNR $$ VISE $$ ELO $$ APL_MC $$ GPY_VIS",
         "MODERATE",
         "0.0",
         "ADDRESS_PREFORM_TYPE $$ CART::MCHT::100_DELIVERY_FEE_MERCH_3KM_0 $$ GUIDED_HELP_TYPE $$ INVERNO_SOPASCALDOS_JUL20 $$ JETSKI_BURGER_20AGO $$ jetski_burger_ago20 $$ NOVO $$ SOPAS_AGO20",
         "https://www.ifood.com.br/delivery/brasilia-df/reis-dos-caldos--massas-cruzeiro-novo/cdfbe82d-e6ea-4e0f-8590-2a453bbdb729"
        ],
        [
         "36",
         "False",
         "https://static-images.ifood.com.br/image/upload/f_auto,t_high/logosgde/261e96be-4a91-4356-bf55-3d7688aa6156/202006071931_7320_.jpeg",
         "Lanches",
         "12.0",
         "90",
         "10.88",
         "5300108",
         "10.0",
         "Tapioca da Zi",
         "DNR $$ MPAY $$ MOVPAY_MC $$ MC $$ GPY_ELO $$ REC $$ RDREST $$ ELOD $$ GPY_MCMA $$ AM $$ MCMA $$ MOVPAY_AM $$ DIN $$ APL_ELOD $$ IMV $$ MOVPAY_VIS $$ GPY_ELOD $$ APL_MCMA $$ GPY_MC $$ APL_ELO $$ MOVPAY_HIPER $$ APL_VISE $$ HIPER $$ IFE $$ VIS $$ RED $$ VIREST $$ VSREST $$ APL_VIS $$ MOVPAY_ELO $$ GPY_VISE $$ MOVPAY_DNR $$ VISE $$ ELO $$ APL_MC $$ MEREST $$ GPY_VIS",
         "CHEAPEST",
         "0.0",
         "ADDRESS_PREFORM_TYPE $$ GUIDED_HELP_TYPE $$ JETSKI_BURGER_20AGO $$ jetski_burger_ago20 $$ NOVO $$ PRATOS_VEGETARIANOS_FEV21 $$ RANKING_FASTFOODS_FEV21",
         "https://www.ifood.com.br/delivery/brasilia-df/tapioca-da-zi-nucleo-bandeirante/261e96be-4a91-4356-bf55-3d7688aa6156"
        ],
        [
         "37",
         "False",
         "https://static-images.ifood.com.br/image/upload/f_auto,t_high/logosgde/7c8d95d1-78fb-489d-9689-ba77e329a18e/202006091105_t07T_i.png",
         "Lanches",
         "13.49",
         "61",
         "5.7",
         "5300108",
         "20.0",
         "Brasil Express",
         "DNR $$ MPAY $$ MOVPAY_MC $$ MC $$ GPY_ELO $$ ELOD $$ GPY_MCMA $$ AM $$ MCMA $$ MOVPAY_AM $$ APL_ELOD $$ IMV $$ MOVPAY_VIS $$ GPY_ELOD $$ APL_MCMA $$ GPY_MC $$ APL_ELO $$ MOVPAY_HIPER $$ APL_VISE $$ HIPER $$ IFE $$ VIS $$ APL_VIS $$ MOVPAY_ELO $$ GPY_VISE $$ MOVPAY_DNR $$ VISE $$ ELO $$ APL_MC $$ GPY_VIS",
         "CHEAPEST",
         "0.0",
         "ADDRESS_PREFORM_TYPE $$ CART::MCHT::100_DELIVERY_FEE_MERCH_3KM_0 $$ CPGN_USER_DISCOUNT_BR_LIST $$ GUIDED_HELP_TYPE $$ JETSKI_BURGER_20AGO $$ jetski_burger_ago20 $$ NOVO $$ RANKING_FASTFOODS_FEV21",
         "https://www.ifood.com.br/delivery/brasilia-df/brasil-express-asa-norte/7c8d95d1-78fb-489d-9689-ba77e329a18e"
        ],
        [
         "38",
         "False",
         "https://static-images.ifood.com.br/image/upload/f_auto,t_high/logosgde/b7b30e2d-9c6e-4a11-886b-fbc288da9964/202006151038_RHOC_.jpeg",
         "Lanches",
         "13.49",
         "66",
         "5.7",
         "5300108",
         "20.0",
         "The Chicago Burger",
         "DNR $$ MPAY $$ MOVPAY_MC $$ MC $$ GPY_ELO $$ ELOD $$ GPY_MCMA $$ AM $$ MCMA $$ MOVPAY_AM $$ APL_ELOD $$ IMV $$ MOVPAY_VIS $$ GPY_ELOD $$ APL_MCMA $$ GPY_MC $$ APL_ELO $$ MOVPAY_HIPER $$ APL_VISE $$ HIPER $$ IFE $$ VIS $$ APL_VIS $$ MOVPAY_ELO $$ GPY_VISE $$ MOVPAY_DNR $$ VISE $$ ELO $$ APL_MC $$ GPY_VIS",
         "CHEAPEST",
         "0.0",
         "ADDRESS_PREFORM_TYPE $$ BOMEBARATO_CUPOM $$ CART::MCHT::100_DELIVERY_FEE_MERCH_3KM_0 $$ GUIDED_HELP_TYPE $$ JETSKI_BURGER_20AGO $$ jetski_burger_ago20 $$ LOYALTY_CARD_3 $$ NOVO $$ NOVO_ABB_JUL20_V1 $$ NOVO_BOM_BARATO_JUN20 $$ RANKING_FASTFOODS_FEV21",
         "https://www.ifood.com.br/delivery/brasilia-df/the-chicago-burger-asa-norte/b7b30e2d-9c6e-4a11-886b-fbc288da9964"
        ],
        [
         "39",
         "False",
         "https://static-images.ifood.com.br/image/upload/f_auto,t_high/logosgde/5463f213-433a-4453-af39-3ca335826d41/202011111312_I7FB_i.png",
         "Doces & Bolos",
         "10.49",
         "56",
         "4.67",
         "5300108",
         "10.0",
         "Doce Gourmet",
         "DNR $$ MPAY $$ MOVPAY_MC $$ MC $$ GPY_ELO $$ ELOD $$ GPY_MCMA $$ AM $$ MCMA $$ MOVPAY_AM $$ APL_ELOD $$ IMV $$ MOVPAY_VIS $$ GPY_ELOD $$ APL_MCMA $$ GPY_MC $$ APL_ELO $$ MOVPAY_HIPER $$ APL_VISE $$ HIPER $$ IFE $$ VIS $$ APL_VIS $$ MOVPAY_ELO $$ GPY_VISE $$ MOVPAY_DNR $$ VISE $$ ELO $$ APL_MC $$ GPY_VIS",
         "CHEAPEST",
         "0.0",
         "ADDRESS_PREFORM_TYPE $$ GUIDED_HELP_TYPE $$ MESDODOCE_FIDELIDADE_DEZ20  $$ NOVO",
         "https://www.ifood.com.br/delivery/brasilia-df/doce-gourmet-asa-norte/5463f213-433a-4453-af39-3ca335826d41"
        ],
        [
         "40",
         "False",
         "https://static-images.ifood.com.br/image/upload/f_auto,t_high/logosgde/f1b9ec6b-96f1-488e-a111-a2abf04d5a1e/202006231723_zDoI_.jpeg",
         "Lanches",
         "14.49",
         "64",
         "5.58",
         "5300108",
         "20.0",
         "Zahle Arabic Food",
         "DNR $$ MPAY $$ MOVPAY_MC $$ MC $$ GPY_ELO $$ ELOD $$ GPY_MCMA $$ AM $$ MCMA $$ MOVPAY_AM $$ APL_ELOD $$ IMV $$ MOVPAY_VIS $$ GPY_ELOD $$ APL_MCMA $$ GPY_MC $$ APL_ELO $$ MOVPAY_HIPER $$ APL_VISE $$ HIPER $$ IFE $$ VIS $$ APL_VIS $$ MOVPAY_ELO $$ GPY_VISE $$ MOVPAY_DNR $$ VISE $$ ELO $$ APL_MC $$ GPY_VIS",
         "CHEAPEST",
         "0.0",
         "ADDRESS_PREFORM_TYPE $$ CART::MCHT::100_DELIVERY_FEE_MERCH_3KM_0 $$ GUIDED_HELP_TYPE $$ JETSKI_BURGER_20AGO $$ jetski_burger_ago20 $$ NOVO $$ RANKING_FASTFOODS_FEV21",
         "https://www.ifood.com.br/delivery/brasilia-df/zahle-arabic-food-asa-norte/f1b9ec6b-96f1-488e-a111-a2abf04d5a1e"
        ],
        [
         "41",
         "False",
         "https://static-images.ifood.com.br/image/upload/f_auto,t_high/logosgde/1e1d6fc1-1ac6-45ea-83a2-610995e40299/202008102037_9eoL_i.jpg",
         "Lanches",
         "15.0",
         "50",
         "6.04",
         "5300108",
         "15.0",
         "Hamburgueria dos Anjos",
         "DNR $$ MPAY $$ MOVPAY_MC $$ MC $$ GPY_ELO $$ RDREST $$ ELOD $$ GPY_MCMA $$ AM $$ MCMA $$ MOVPAY_AM $$ DIN $$ APL_ELOD $$ IMV $$ MOVPAY_VIS $$ GPY_ELOD $$ APL_MCMA $$ GPY_MC $$ APL_ELO $$ MOVPAY_HIPER $$ APL_VISE $$ HIPER $$ IFE $$ VIS $$ RED $$ VIREST $$ VSREST $$ APL_VIS $$ MOVPAY_ELO $$ GPY_VISE $$ MOVPAY_DNR $$ VISE $$ ELO $$ APL_MC $$ GPY_VIS $$ GOODC",
         "MODERATE",
         "0.0",
         "ADDRESS_PREFORM_TYPE $$ BOM_BARATO_AB $$ BOMEBARATO_CUPOM $$ GUIDED_HELP_TYPE $$ JETSKI_BURGER_20AGO $$ jetski_burger_ago20 $$ NOVO $$ NOVO_BOM_BARATO_JUN20 $$ RANKING_FASTFOODS_FEV21 $$ RESTAURANTE VOUCHER5 GUARANA",
         "https://www.ifood.com.br/delivery/brasilia-df/hamburgueria-dos-anjos-guara-i/1e1d6fc1-1ac6-45ea-83a2-610995e40299"
        ],
        [
         "42",
         "False",
         "https://static-images.ifood.com.br/image/upload/f_auto,t_high/logosgde/b05d2ec8-5edb-4782-a4e4-a197917e915b/202007151732_0dGn_i.png",
         "Bebidas",
         "7.99",
         "40",
         "2.46",
         "5300108",
         "30.0",
         "Naja Distribuidora e Tabacaria",
         "DNR $$ MPAY $$ MOVPAY_MC $$ MC $$ GPY_ELO $$ REC $$ RDREST $$ ELOD $$ GPY_MCMA $$ AM $$ MCMA $$ MOVPAY_AM $$ DIN $$ APL_ELOD $$ MOVPAY_VIS $$ GPY_ELOD $$ APL_MCMA $$ GPY_MC $$ APL_ELO $$ MOVPAY_HIPER $$ DNREST $$ APL_VISE $$ HIPER $$ IFE $$ VIS $$ RED $$ VIREST $$ VSREST $$ APL_VIS $$ RHIP $$ MOVPAY_ELO $$ GPY_VISE $$ MOVPAY_DNR $$ VISE $$ ELO $$ APL_MC $$ MEREST $$ GPY_VIS",
         "CHEAPEST",
         "0.0",
         "ADDRESS_PREFORM_TYPE $$ GUIDED_HELP_TYPE $$ NOVO $$ RESTAURANTE VOUCHER5 GUARANA $$ VERAO_BEBIDAS_DEZ20",
         "https://www.ifood.com.br/delivery/brasilia-df/naja-distribuidora-e-tabacaria-setor-sudoeste/b05d2ec8-5edb-4782-a4e4-a197917e915b"
        ],
        [
         "43",
         "False",
         "https://static-images.ifood.com.br/image/upload/f_auto,t_high/logosgde/66af3e4b-b0bb-4aca-83ed-604339c9aa9b/202007202032_ETkE_i.png",
         "Brasileira",
         "10.49",
         "56",
         "4.47",
         "5300108",
         "20.0",
         "Loca Como Tu Madre",
         "DNR $$ MPAY $$ MOVPAY_MC $$ MC $$ GPY_ELO $$ ELOD $$ GPY_MCMA $$ AM $$ MCMA $$ MOVPAY_AM $$ APL_ELOD $$ IMV $$ MOVPAY_VIS $$ GPY_ELOD $$ APL_MCMA $$ GPY_MC $$ APL_ELO $$ MOVPAY_HIPER $$ APL_VISE $$ HIPER $$ IFE $$ VIS $$ APL_VIS $$ MOVPAY_ELO $$ GPY_VISE $$ MOVPAY_DNR $$ VISE $$ ELO $$ APL_MC $$ GPY_VIS",
         "CHEAPEST",
         "0.0",
         "ADDRESS_PREFORM_TYPE $$ CART::MCHT::100_DELIVERY_FEE_MERCH_3KM_0 $$ GUIDED_HELP_TYPE $$ NOVO $$ PRATOS_VEGETARIANOS_FEV21",
         "https://www.ifood.com.br/delivery/brasilia-df/loca-como-tu-madre-asa-sul/66af3e4b-b0bb-4aca-83ed-604339c9aa9b"
        ],
        [
         "44",
         "False",
         "https://static-images.ifood.com.br/image/upload/f_auto,t_high/logosgde/935f2450-05f7-459a-9a56-5df5538cad53/202007271356_Dhur_i.png",
         "Lanches",
         "7.99",
         "44",
         "2.54",
         "5300108",
         "20.0",
         "Chapa Burger",
         "DNR $$ MPAY $$ MOVPAY_MC $$ MC $$ GPY_ELO $$ ELOD $$ GPY_MCMA $$ AM $$ MCMA $$ MOVPAY_AM $$ APL_ELOD $$ IMV $$ MOVPAY_VIS $$ GPY_ELOD $$ APL_MCMA $$ GPY_MC $$ APL_ELO $$ MOVPAY_HIPER $$ APL_VISE $$ HIPER $$ IFE $$ VIS $$ APL_VIS $$ MOVPAY_ELO $$ GPY_VISE $$ MOVPAY_DNR $$ VISE $$ ELO $$ APL_MC $$ GPY_VIS",
         "MODERATE",
         "0.0",
         "ADDRESS_PREFORM_TYPE $$ CART::MCHT::100_DELIVERY_FEE_MERCH_3KM_0 $$ CPGN_USER_DISCOUNT_BR_LIST $$ GUIDED_HELP_TYPE $$ JETSKI_BURGER_20AGO $$ jetski_burger_ago20 $$ NOVO $$ RANKING_FASTFOODS_FEV21",
         "https://www.ifood.com.br/delivery/brasilia-df/chapa-burger-setor-sudoeste/935f2450-05f7-459a-9a56-5df5538cad53"
        ],
        [
         "45",
         "False",
         "https://static-images.ifood.com.br/image/upload/f_auto,t_high/logosgde/5148ae11-986f-4f45-ba43-1ae19d00d64b/202010121750_K5F9_i.jpg",
         "Brasileira",
         "6.99",
         "34",
         "2.12",
         "5300108",
         "20.0",
         "Patricinha Caldos",
         "DNR $$ MPAY $$ MOVPAY_MC $$ MC $$ GPY_ELO $$ ELOD $$ GPY_MCMA $$ AM $$ MCMA $$ MOVPAY_AM $$ APL_ELOD $$ IMV $$ MOVPAY_VIS $$ GPY_ELOD $$ APL_MCMA $$ GPY_MC $$ APL_ELO $$ MOVPAY_HIPER $$ APL_VISE $$ HIPER $$ IFE $$ VIS $$ APL_VIS $$ MOVPAY_ELO $$ GPY_VISE $$ MOVPAY_DNR $$ VISE $$ ELO $$ APL_MC $$ GPY_VIS",
         "CHEAPEST",
         "0.0",
         "ADDRESS_PREFORM_TYPE $$ CART::MCHT::100_DELIVERY_FEE_MERCH_3KM_0 $$ GUIDED_HELP_TYPE $$ NOVO",
         "https://www.ifood.com.br/delivery/brasilia-df/patricinha-caldos-cruzeiro-novo/5148ae11-986f-4f45-ba43-1ae19d00d64b"
        ],
        [
         "46",
         "False",
         "https://static-images.ifood.com.br/image/upload/f_auto,t_high/logosgde/a163ab17-6e4c-48a6-b4bc-2e924c883e58/202009052300_4zbV_i.png",
         "Bebidas",
         "9.0",
         "45",
         "4.46",
         "5300108",
         "0.0",
         "DB Distribuidora de Bebidas",
         "DNR $$ MPAY $$ MOVPAY_MC $$ RAM $$ MC $$ GPY_ELO $$ REC $$ RDREST $$ ELOD $$ GPY_MCMA $$ AM $$ MCMA $$ MOVPAY_AM $$ DIN $$ APL_ELOD $$ MOVPAY_VIS $$ GPY_ELOD $$ APL_MCMA $$ GPY_MC $$ APL_ELO $$ MOVPAY_HIPER $$ DNREST $$ APL_VISE $$ HIPER $$ IFE $$ VIS $$ RED $$ VIREST $$ VSREST $$ APL_VIS $$ RHIP $$ MOVPAY_ELO $$ GPY_VISE $$ MOVPAY_DNR $$ VISE $$ ELO $$ APL_MC $$ MEREST $$ GPY_VIS",
         "CHEAPEST",
         "0.0",
         "ADDRESS_PREFORM_TYPE $$ GUIDED_HELP_TYPE $$ NOVO $$ RESTAURANTE VOUCHER5 GUARANA $$ VERAO_BEBIDAS_DEZ20",
         "https://www.ifood.com.br/delivery/brasilia-df/db-distribuidora-de-bebidas-asa-norte/a163ab17-6e4c-48a6-b4bc-2e924c883e58"
        ],
        [
         "47",
         "False",
         "https://static-images.ifood.com.br/image/upload/f_auto,t_high/logosgde/c17ff8a3-a9ae-43fd-8627-5e828341dbf0/202009241448_hQb2_.jpeg",
         "Lanches",
         "13.49",
         "60",
         "5.7",
         "5300108",
         "20.0",
         "Dog do Zé",
         "DNR $$ MPAY $$ MOVPAY_MC $$ MC $$ GPY_ELO $$ ELOD $$ GPY_MCMA $$ AM $$ MCMA $$ MOVPAY_AM $$ APL_ELOD $$ IMV $$ MOVPAY_VIS $$ GPY_ELOD $$ APL_MCMA $$ GPY_MC $$ APL_ELO $$ MOVPAY_HIPER $$ APL_VISE $$ HIPER $$ IFE $$ VIS $$ APL_VIS $$ MOVPAY_ELO $$ GPY_VISE $$ MOVPAY_DNR $$ VISE $$ ELO $$ APL_MC $$ GPY_VIS",
         "CHEAPEST",
         "0.0",
         "ADDRESS_PREFORM_TYPE $$ CART::MCHT::100_DELIVERY_FEE_MERCH_3KM_0 $$ GUIDED_HELP_TYPE $$ NOVO $$ RANKING_FASTFOODS_FEV21",
         "https://www.ifood.com.br/delivery/brasilia-df/dog-do-ze-asa-norte/c17ff8a3-a9ae-43fd-8627-5e828341dbf0"
        ],
        [
         "48",
         "False",
         "https://static-images.ifood.com.br/image/upload/f_auto,t_high/logosgde/340e77c9-114f-436b-afc5-93ff87c72916/202003240121_7Ht9_i.png",
         "Italiana",
         "15.99",
         "35",
         "5.87",
         "5300108",
         "20.0",
         "A Mano",
         "DNR $$ MPAY $$ MOVPAY_MC $$ MC $$ GPY_ELO $$ ELOD $$ GPY_MCMA $$ AM $$ MCMA $$ MOVPAY_AM $$ APL_ELOD $$ IMV $$ MOVPAY_VIS $$ GPY_ELOD $$ APL_MCMA $$ GPY_MC $$ APL_ELO $$ MOVPAY_HIPER $$ APL_VISE $$ HIPER $$ IFE $$ VIS $$ APL_VIS $$ MOVPAY_ELO $$ GPY_VISE $$ MOVPAY_DNR $$ VISE $$ ELO $$ APL_MC $$ GPY_VIS",
         "MOST_EXPENSIVE",
         "0.0",
         "ADDRESS_PREFORM_TYPE $$ CONTA_ESTRATEGICA $$ GUIDED_HELP_TYPE $$ INVERNO_SOPASCALDOS_JUL20 $$ NAMORADOS_JANTAR $$ REST_ACABARAM_CHEGAR",
         "https://www.ifood.com.br/delivery/brasilia-df/a-mano-asa-sul/340e77c9-114f-436b-afc5-93ff87c72916"
        ],
        [
         "49",
         "False",
         "https://static-images.ifood.com.br/image/upload/f_auto,t_high/logosgde/4055776e-1caa-491f-b579-93b5562be64c/202004041403_4lVJ_i.png",
         "Típica do Norte",
         "4.99",
         "18",
         "1.96",
         "1302603",
         "20.0",
         "Foragido's  Café's",
         "DNR $$ MPAY $$ MOVPAY_MC $$ MC $$ GPY_ELO $$ ELOD $$ GPY_MCMA $$ AM $$ MCMA $$ MOVPAY_AM $$ APL_ELOD $$ IMV $$ MOVPAY_VIS $$ GPY_ELOD $$ APL_MCMA $$ GPY_MC $$ APL_ELO $$ MOVPAY_HIPER $$ APL_VISE $$ HIPER $$ IFE $$ VIS $$ APL_VIS $$ MOVPAY_ELO $$ GPY_VISE $$ MOVPAY_DNR $$ VISE $$ ELO $$ APL_MC $$ GPY_VIS",
         "CHEAPEST",
         "0.0",
         "ADDRESS_PREFORM_TYPE $$ GUIDED_HELP_TYPE $$ HAMBURGUER_TAXA_GRATIS $$ INVERNO_SOPASCALDOS_JUL20 $$ NOVO",
         "https://www.ifood.com.br/delivery/manaus-am/foragidos--cafes-zumbi-dos-palmares/4055776e-1caa-491f-b579-93b5562be64c"
        ]
       ],
       "shape": {
        "columns": 14,
        "rows": 406399
       }
      },
      "text/html": [
       "<div>\n",
       "<style scoped>\n",
       "    .dataframe tbody tr th:only-of-type {\n",
       "        vertical-align: middle;\n",
       "    }\n",
       "\n",
       "    .dataframe tbody tr th {\n",
       "        vertical-align: top;\n",
       "    }\n",
       "\n",
       "    .dataframe thead th {\n",
       "        text-align: right;\n",
       "    }\n",
       "</style>\n",
       "<table border=\"1\" class=\"dataframe\">\n",
       "  <thead>\n",
       "    <tr style=\"text-align: right;\">\n",
       "      <th></th>\n",
       "      <th>availableForScheduling</th>\n",
       "      <th>avatar</th>\n",
       "      <th>category</th>\n",
       "      <th>delivery_fee</th>\n",
       "      <th>delivery_time</th>\n",
       "      <th>distance</th>\n",
       "      <th>ibge</th>\n",
       "      <th>minimumOrderValue</th>\n",
       "      <th>name</th>\n",
       "      <th>paymentCodes</th>\n",
       "      <th>price_range</th>\n",
       "      <th>rating</th>\n",
       "      <th>tags</th>\n",
       "      <th>url</th>\n",
       "    </tr>\n",
       "  </thead>\n",
       "  <tbody>\n",
       "    <tr>\n",
       "      <th>0</th>\n",
       "      <td>False</td>\n",
       "      <td>https://static-images.ifood.com.br/image/uploa...</td>\n",
       "      <td>Marmita</td>\n",
       "      <td>3.99</td>\n",
       "      <td>27</td>\n",
       "      <td>1.22</td>\n",
       "      <td>5300108</td>\n",
       "      <td>10.0</td>\n",
       "      <td>Cantina Arte &amp; Sabor</td>\n",
       "      <td>DNR $$ MPAY $$ MOVPAY_MC $$ MC $$ GPY_ELO $$ E...</td>\n",
       "      <td>CHEAPEST</td>\n",
       "      <td>0.00000</td>\n",
       "      <td>ADDRESS_PREFORM_TYPE $$ CART::MCHT::100_DELIVE...</td>\n",
       "      <td>https://www.ifood.com.br/delivery/brasilia-df/...</td>\n",
       "    </tr>\n",
       "    <tr>\n",
       "      <th>1</th>\n",
       "      <td>False</td>\n",
       "      <td>https://static-images.ifood.com.br/image/uploa...</td>\n",
       "      <td>Açaí</td>\n",
       "      <td>7.99</td>\n",
       "      <td>61</td>\n",
       "      <td>4.96</td>\n",
       "      <td>5300108</td>\n",
       "      <td>10.0</td>\n",
       "      <td>Raruty Açaí Raiz</td>\n",
       "      <td>DNR $$ MPAY $$ MOVPAY_MC $$ MC $$ GPY_ELO $$ E...</td>\n",
       "      <td>CHEAPEST</td>\n",
       "      <td>0.00000</td>\n",
       "      <td>ADDRESS_PREFORM_TYPE $$ GUIDED_HELP_TYPE $$ ME...</td>\n",
       "      <td>https://www.ifood.com.br/delivery/brasilia-df/...</td>\n",
       "    </tr>\n",
       "    <tr>\n",
       "      <th>2</th>\n",
       "      <td>False</td>\n",
       "      <td>https://static-images.ifood.com.br/image/uploa...</td>\n",
       "      <td>Bebidas</td>\n",
       "      <td>11.99</td>\n",
       "      <td>70</td>\n",
       "      <td>8.35</td>\n",
       "      <td>5300108</td>\n",
       "      <td>5.0</td>\n",
       "      <td>Toma na Kombi</td>\n",
       "      <td>DNR $$ MPAY $$ MOVPAY_MC $$ MC $$ GPY_ELO $$ R...</td>\n",
       "      <td>MODERATE</td>\n",
       "      <td>0.00000</td>\n",
       "      <td>ADDRESS_PREFORM_TYPE $$ CPGN_USER_DISCOUNT_6_L...</td>\n",
       "      <td>https://www.ifood.com.br/delivery/brasilia-df/...</td>\n",
       "    </tr>\n",
       "    <tr>\n",
       "      <th>3</th>\n",
       "      <td>False</td>\n",
       "      <td>https://static-images.ifood.com.br/image/uploa...</td>\n",
       "      <td>Carnes</td>\n",
       "      <td>16.49</td>\n",
       "      <td>63</td>\n",
       "      <td>6.35</td>\n",
       "      <td>5300108</td>\n",
       "      <td>20.0</td>\n",
       "      <td>Churrasquinho do Barriga´s</td>\n",
       "      <td>DNR $$ MPAY $$ MOVPAY_MC $$ MC $$ GPY_ELO $$ E...</td>\n",
       "      <td>CHEAPEST</td>\n",
       "      <td>0.00000</td>\n",
       "      <td>ADDRESS_PREFORM_TYPE $$ GUIDED_HELP_TYPE $$ NO...</td>\n",
       "      <td>https://www.ifood.com.br/delivery/brasilia-df/...</td>\n",
       "    </tr>\n",
       "    <tr>\n",
       "      <th>4</th>\n",
       "      <td>False</td>\n",
       "      <td>https://static-images.ifood.com.br/image/uploa...</td>\n",
       "      <td>Brasileira</td>\n",
       "      <td>11.99</td>\n",
       "      <td>58</td>\n",
       "      <td>5.22</td>\n",
       "      <td>5300108</td>\n",
       "      <td>20.0</td>\n",
       "      <td>Prime Restaurante</td>\n",
       "      <td>DNR $$ MPAY $$ MOVPAY_MC $$ MC $$ GPY_ELO $$ E...</td>\n",
       "      <td>CHEAPEST</td>\n",
       "      <td>0.00000</td>\n",
       "      <td>ADDRESS_PREFORM_TYPE $$ GUIDED_HELP_TYPE $$ NOVO</td>\n",
       "      <td>https://www.ifood.com.br/delivery/brasilia-df/...</td>\n",
       "    </tr>\n",
       "    <tr>\n",
       "      <th>...</th>\n",
       "      <td>...</td>\n",
       "      <td>...</td>\n",
       "      <td>...</td>\n",
       "      <td>...</td>\n",
       "      <td>...</td>\n",
       "      <td>...</td>\n",
       "      <td>...</td>\n",
       "      <td>...</td>\n",
       "      <td>...</td>\n",
       "      <td>...</td>\n",
       "      <td>...</td>\n",
       "      <td>...</td>\n",
       "      <td>...</td>\n",
       "      <td>...</td>\n",
       "    </tr>\n",
       "    <tr>\n",
       "      <th>406394</th>\n",
       "      <td>False</td>\n",
       "      <td>https://static-images.ifood.com.br/image/uploa...</td>\n",
       "      <td>Açaí</td>\n",
       "      <td>9.00</td>\n",
       "      <td>60</td>\n",
       "      <td>3.53</td>\n",
       "      <td>4309209</td>\n",
       "      <td>30.0</td>\n",
       "      <td>Açaí da Duda</td>\n",
       "      <td>DNR $$ MPAY $$ MOVPAY_MC $$ RAM $$ MC $$ GPY_E...</td>\n",
       "      <td>CHEAPEST</td>\n",
       "      <td>4.95000</td>\n",
       "      <td>ADDRESS_PREFORM_TYPE $$ CPGN_USER_DISCOUNT_5_L...</td>\n",
       "      <td>https://www.ifood.com.br/delivery/gravatai-rs/...</td>\n",
       "    </tr>\n",
       "    <tr>\n",
       "      <th>406395</th>\n",
       "      <td>False</td>\n",
       "      <td>https://static-images.ifood.com.br/image/uploa...</td>\n",
       "      <td>Açaí</td>\n",
       "      <td>6.00</td>\n",
       "      <td>50</td>\n",
       "      <td>2.60</td>\n",
       "      <td>4309209</td>\n",
       "      <td>10.0</td>\n",
       "      <td>Pede aí açaí</td>\n",
       "      <td>DNR $$ MPAY $$ MOVPAY_MC $$ MC $$ GPY_ELO $$ E...</td>\n",
       "      <td>CHEAPEST</td>\n",
       "      <td>0.00000</td>\n",
       "      <td>ADDRESS_PREFORM_TYPE $$ GUIDED_HELP_TYPE $$ NO...</td>\n",
       "      <td>https://www.ifood.com.br/delivery/cachoeirinha...</td>\n",
       "    </tr>\n",
       "    <tr>\n",
       "      <th>406396</th>\n",
       "      <td>False</td>\n",
       "      <td>https://static-images.ifood.com.br/image/uploa...</td>\n",
       "      <td>Açaí</td>\n",
       "      <td>0.00</td>\n",
       "      <td>40</td>\n",
       "      <td>3.61</td>\n",
       "      <td>4309209</td>\n",
       "      <td>0.0</td>\n",
       "      <td>Açaí do Jeitinho Brasileiro</td>\n",
       "      <td>DNR $$ MPAY $$ MOVPAY_MC $$ RAM $$ MC $$ GPY_E...</td>\n",
       "      <td>CHEAPEST</td>\n",
       "      <td>4.46602</td>\n",
       "      <td>ADDRESS_PREFORM_TYPE $$ GUIDED_HELP_TYPE $$ ME...</td>\n",
       "      <td>https://www.ifood.com.br/delivery/gravatai-rs/...</td>\n",
       "    </tr>\n",
       "    <tr>\n",
       "      <th>406397</th>\n",
       "      <td>False</td>\n",
       "      <td>https://static-images.ifood.com.br/image/uploa...</td>\n",
       "      <td>Lanches</td>\n",
       "      <td>8.00</td>\n",
       "      <td>60</td>\n",
       "      <td>3.54</td>\n",
       "      <td>4309209</td>\n",
       "      <td>20.0</td>\n",
       "      <td>Classic Burger</td>\n",
       "      <td>DNR $$ MPAY $$ MOVPAY_MC $$ RAM $$ MC $$ GPY_E...</td>\n",
       "      <td>CHEAPEST</td>\n",
       "      <td>5.00000</td>\n",
       "      <td>ADDRESS_PREFORM_TYPE $$ CPGN_USER_DISCOUNT_5_L...</td>\n",
       "      <td>https://www.ifood.com.br/delivery/gravatai-rs/...</td>\n",
       "    </tr>\n",
       "    <tr>\n",
       "      <th>406398</th>\n",
       "      <td>False</td>\n",
       "      <td>https://static-images.ifood.com.br/image/uploa...</td>\n",
       "      <td>Doces &amp; Bolos</td>\n",
       "      <td>9.00</td>\n",
       "      <td>20</td>\n",
       "      <td>0.95</td>\n",
       "      <td>4309209</td>\n",
       "      <td>0.0</td>\n",
       "      <td>Cacau Show - Cachoerinha Shopping</td>\n",
       "      <td>DNR $$ MPAY $$ MOVPAY_MC $$ MC $$ GPY_ELO $$ E...</td>\n",
       "      <td>MODERATE</td>\n",
       "      <td>4.84000</td>\n",
       "      <td>ADDRESS_PREFORM_TYPE $$ BF_CUPOM15OFF_NOV20 $$...</td>\n",
       "      <td>https://www.ifood.com.br/delivery/cachoeirinha...</td>\n",
       "    </tr>\n",
       "  </tbody>\n",
       "</table>\n",
       "<p>406399 rows × 14 columns</p>\n",
       "</div>"
      ],
      "text/plain": [
       "        availableForScheduling  \\\n",
       "0                        False   \n",
       "1                        False   \n",
       "2                        False   \n",
       "3                        False   \n",
       "4                        False   \n",
       "...                        ...   \n",
       "406394                   False   \n",
       "406395                   False   \n",
       "406396                   False   \n",
       "406397                   False   \n",
       "406398                   False   \n",
       "\n",
       "                                                   avatar       category  \\\n",
       "0       https://static-images.ifood.com.br/image/uploa...        Marmita   \n",
       "1       https://static-images.ifood.com.br/image/uploa...           Açaí   \n",
       "2       https://static-images.ifood.com.br/image/uploa...        Bebidas   \n",
       "3       https://static-images.ifood.com.br/image/uploa...         Carnes   \n",
       "4       https://static-images.ifood.com.br/image/uploa...     Brasileira   \n",
       "...                                                   ...            ...   \n",
       "406394  https://static-images.ifood.com.br/image/uploa...           Açaí   \n",
       "406395  https://static-images.ifood.com.br/image/uploa...           Açaí   \n",
       "406396  https://static-images.ifood.com.br/image/uploa...           Açaí   \n",
       "406397  https://static-images.ifood.com.br/image/uploa...        Lanches   \n",
       "406398  https://static-images.ifood.com.br/image/uploa...  Doces & Bolos   \n",
       "\n",
       "        delivery_fee  delivery_time  distance     ibge  minimumOrderValue  \\\n",
       "0               3.99             27      1.22  5300108               10.0   \n",
       "1               7.99             61      4.96  5300108               10.0   \n",
       "2              11.99             70      8.35  5300108                5.0   \n",
       "3              16.49             63      6.35  5300108               20.0   \n",
       "4              11.99             58      5.22  5300108               20.0   \n",
       "...              ...            ...       ...      ...                ...   \n",
       "406394          9.00             60      3.53  4309209               30.0   \n",
       "406395          6.00             50      2.60  4309209               10.0   \n",
       "406396          0.00             40      3.61  4309209                0.0   \n",
       "406397          8.00             60      3.54  4309209               20.0   \n",
       "406398          9.00             20      0.95  4309209                0.0   \n",
       "\n",
       "                                     name  \\\n",
       "0                    Cantina Arte & Sabor   \n",
       "1                        Raruty Açaí Raiz   \n",
       "2                           Toma na Kombi   \n",
       "3              Churrasquinho do Barriga´s   \n",
       "4                       Prime Restaurante   \n",
       "...                                   ...   \n",
       "406394                       Açaí da Duda   \n",
       "406395                      Pede aí açaí    \n",
       "406396        Açaí do Jeitinho Brasileiro   \n",
       "406397                     Classic Burger   \n",
       "406398  Cacau Show - Cachoerinha Shopping   \n",
       "\n",
       "                                             paymentCodes price_range  \\\n",
       "0       DNR $$ MPAY $$ MOVPAY_MC $$ MC $$ GPY_ELO $$ E...    CHEAPEST   \n",
       "1       DNR $$ MPAY $$ MOVPAY_MC $$ MC $$ GPY_ELO $$ E...    CHEAPEST   \n",
       "2       DNR $$ MPAY $$ MOVPAY_MC $$ MC $$ GPY_ELO $$ R...    MODERATE   \n",
       "3       DNR $$ MPAY $$ MOVPAY_MC $$ MC $$ GPY_ELO $$ E...    CHEAPEST   \n",
       "4       DNR $$ MPAY $$ MOVPAY_MC $$ MC $$ GPY_ELO $$ E...    CHEAPEST   \n",
       "...                                                   ...         ...   \n",
       "406394  DNR $$ MPAY $$ MOVPAY_MC $$ RAM $$ MC $$ GPY_E...    CHEAPEST   \n",
       "406395  DNR $$ MPAY $$ MOVPAY_MC $$ MC $$ GPY_ELO $$ E...    CHEAPEST   \n",
       "406396  DNR $$ MPAY $$ MOVPAY_MC $$ RAM $$ MC $$ GPY_E...    CHEAPEST   \n",
       "406397  DNR $$ MPAY $$ MOVPAY_MC $$ RAM $$ MC $$ GPY_E...    CHEAPEST   \n",
       "406398  DNR $$ MPAY $$ MOVPAY_MC $$ MC $$ GPY_ELO $$ E...    MODERATE   \n",
       "\n",
       "         rating                                               tags  \\\n",
       "0       0.00000  ADDRESS_PREFORM_TYPE $$ CART::MCHT::100_DELIVE...   \n",
       "1       0.00000  ADDRESS_PREFORM_TYPE $$ GUIDED_HELP_TYPE $$ ME...   \n",
       "2       0.00000  ADDRESS_PREFORM_TYPE $$ CPGN_USER_DISCOUNT_6_L...   \n",
       "3       0.00000  ADDRESS_PREFORM_TYPE $$ GUIDED_HELP_TYPE $$ NO...   \n",
       "4       0.00000   ADDRESS_PREFORM_TYPE $$ GUIDED_HELP_TYPE $$ NOVO   \n",
       "...         ...                                                ...   \n",
       "406394  4.95000  ADDRESS_PREFORM_TYPE $$ CPGN_USER_DISCOUNT_5_L...   \n",
       "406395  0.00000  ADDRESS_PREFORM_TYPE $$ GUIDED_HELP_TYPE $$ NO...   \n",
       "406396  4.46602  ADDRESS_PREFORM_TYPE $$ GUIDED_HELP_TYPE $$ ME...   \n",
       "406397  5.00000  ADDRESS_PREFORM_TYPE $$ CPGN_USER_DISCOUNT_5_L...   \n",
       "406398  4.84000  ADDRESS_PREFORM_TYPE $$ BF_CUPOM15OFF_NOV20 $$...   \n",
       "\n",
       "                                                      url  \n",
       "0       https://www.ifood.com.br/delivery/brasilia-df/...  \n",
       "1       https://www.ifood.com.br/delivery/brasilia-df/...  \n",
       "2       https://www.ifood.com.br/delivery/brasilia-df/...  \n",
       "3       https://www.ifood.com.br/delivery/brasilia-df/...  \n",
       "4       https://www.ifood.com.br/delivery/brasilia-df/...  \n",
       "...                                                   ...  \n",
       "406394  https://www.ifood.com.br/delivery/gravatai-rs/...  \n",
       "406395  https://www.ifood.com.br/delivery/cachoeirinha...  \n",
       "406396  https://www.ifood.com.br/delivery/gravatai-rs/...  \n",
       "406397  https://www.ifood.com.br/delivery/gravatai-rs/...  \n",
       "406398  https://www.ifood.com.br/delivery/cachoeirinha...  \n",
       "\n",
       "[406399 rows x 14 columns]"
      ]
     },
     "execution_count": 104,
     "metadata": {},
     "output_type": "execute_result"
    }
   ],
   "source": [
    "df"
   ]
  },
  {
   "cell_type": "code",
   "execution_count": 105,
   "metadata": {},
   "outputs": [
    {
     "name": "stdout",
     "output_type": "stream",
     "text": [
      "<class 'pandas.core.frame.DataFrame'>\n",
      "RangeIndex: 406399 entries, 0 to 406398\n",
      "Data columns (total 14 columns):\n",
      " #   Column                  Non-Null Count   Dtype  \n",
      "---  ------                  --------------   -----  \n",
      " 0   availableForScheduling  406399 non-null  bool   \n",
      " 1   avatar                  406122 non-null  object \n",
      " 2   category                406399 non-null  object \n",
      " 3   delivery_fee            406399 non-null  float64\n",
      " 4   delivery_time           406399 non-null  int64  \n",
      " 5   distance                406399 non-null  float64\n",
      " 6   ibge                    406399 non-null  int64  \n",
      " 7   minimumOrderValue       406399 non-null  float64\n",
      " 8   name                    406399 non-null  object \n",
      " 9   paymentCodes            406397 non-null  object \n",
      " 10  price_range             406399 non-null  object \n",
      " 11  rating                  406399 non-null  float64\n",
      " 12  tags                    406399 non-null  object \n",
      " 13  url                     406399 non-null  object \n",
      "dtypes: bool(1), float64(4), int64(2), object(7)\n",
      "memory usage: 40.7+ MB\n"
     ]
    }
   ],
   "source": [
    "df.info()"
   ]
  },
  {
   "cell_type": "markdown",
   "metadata": {},
   "source": [
    "# Selecionando Variáveis Convenientes"
   ]
  },
  {
   "cell_type": "code",
   "execution_count": 106,
   "metadata": {
    "notebookRunGroups": {
     "groupValue": "2"
    }
   },
   "outputs": [],
   "source": [
    "df_sel = df[[\"availableForScheduling\",\n",
    "             \"category\",\n",
    "             \"delivery_fee\",   \n",
    "             \"delivery_time\",            \n",
    "             \"price_range\", \n",
    "             \"minimumOrderValue\"]]"
   ]
  },
  {
   "cell_type": "code",
   "execution_count": 107,
   "metadata": {},
   "outputs": [
    {
     "name": "stdout",
     "output_type": "stream",
     "text": [
      "Variáveis numéricas: ['delivery_fee', 'delivery_time', 'minimumOrderValue'] \n",
      "\n",
      "Variáveis categóricas: ['availableForScheduling', 'category', 'price_range']\n"
     ]
    }
   ],
   "source": [
    "# Classificar tipos de variáveis\n",
    "numericas = df_sel.select_dtypes(include=['number']).columns.tolist()\n",
    "categoricas = df_sel.select_dtypes(include=['object', 'category', 'bool']).columns.tolist()\n",
    "\n",
    "print(f\"Variáveis numéricas: {numericas} \\n\")\n",
    "print(\"Variáveis categóricas:\", categoricas)"
   ]
  },
  {
   "cell_type": "markdown",
   "metadata": {},
   "source": [
    "# Usando Função describe()"
   ]
  },
  {
   "cell_type": "code",
   "execution_count": 108,
   "metadata": {},
   "outputs": [
    {
     "data": {
      "application/vnd.microsoft.datawrangler.viewer.v0+json": {
       "columns": [
        {
         "name": "index",
         "rawType": "object",
         "type": "string"
        },
        {
         "name": "delivery_fee",
         "rawType": "float64",
         "type": "float"
        },
        {
         "name": "delivery_time",
         "rawType": "float64",
         "type": "float"
        },
        {
         "name": "minimumOrderValue",
         "rawType": "float64",
         "type": "float"
        }
       ],
       "ref": "9589d61d-53ed-47d4-9efa-e4ebca2bc2bf",
       "rows": [
        [
         "count",
         "406399.0",
         "406399.0",
         "406399.0"
        ],
        [
         "mean",
         "6.80457700437255",
         "47.43274712782266",
         "276.89092923457"
        ],
        [
         "std",
         "4.315815317102633",
         "19.66273597968834",
         "157066.75857315303"
        ],
        [
         "min",
         "0.0",
         "-1.0",
         "0.0"
        ],
        [
         "25%",
         "4.0",
         "35.0",
         "10.0"
        ],
        [
         "50%",
         "6.0",
         "45.0",
         "15.0"
        ],
        [
         "75%",
         "9.49",
         "60.0",
         "20.0"
        ],
        [
         "max",
         "35.0",
         "5050.0",
         "99999999.99"
        ]
       ],
       "shape": {
        "columns": 3,
        "rows": 8
       }
      },
      "text/html": [
       "<div>\n",
       "<style scoped>\n",
       "    .dataframe tbody tr th:only-of-type {\n",
       "        vertical-align: middle;\n",
       "    }\n",
       "\n",
       "    .dataframe tbody tr th {\n",
       "        vertical-align: top;\n",
       "    }\n",
       "\n",
       "    .dataframe thead th {\n",
       "        text-align: right;\n",
       "    }\n",
       "</style>\n",
       "<table border=\"1\" class=\"dataframe\">\n",
       "  <thead>\n",
       "    <tr style=\"text-align: right;\">\n",
       "      <th></th>\n",
       "      <th>delivery_fee</th>\n",
       "      <th>delivery_time</th>\n",
       "      <th>minimumOrderValue</th>\n",
       "    </tr>\n",
       "  </thead>\n",
       "  <tbody>\n",
       "    <tr>\n",
       "      <th>count</th>\n",
       "      <td>406399.000000</td>\n",
       "      <td>406399.000000</td>\n",
       "      <td>4.063990e+05</td>\n",
       "    </tr>\n",
       "    <tr>\n",
       "      <th>mean</th>\n",
       "      <td>6.804577</td>\n",
       "      <td>47.432747</td>\n",
       "      <td>2.768909e+02</td>\n",
       "    </tr>\n",
       "    <tr>\n",
       "      <th>std</th>\n",
       "      <td>4.315815</td>\n",
       "      <td>19.662736</td>\n",
       "      <td>1.570668e+05</td>\n",
       "    </tr>\n",
       "    <tr>\n",
       "      <th>min</th>\n",
       "      <td>0.000000</td>\n",
       "      <td>-1.000000</td>\n",
       "      <td>0.000000e+00</td>\n",
       "    </tr>\n",
       "    <tr>\n",
       "      <th>25%</th>\n",
       "      <td>4.000000</td>\n",
       "      <td>35.000000</td>\n",
       "      <td>1.000000e+01</td>\n",
       "    </tr>\n",
       "    <tr>\n",
       "      <th>50%</th>\n",
       "      <td>6.000000</td>\n",
       "      <td>45.000000</td>\n",
       "      <td>1.500000e+01</td>\n",
       "    </tr>\n",
       "    <tr>\n",
       "      <th>75%</th>\n",
       "      <td>9.490000</td>\n",
       "      <td>60.000000</td>\n",
       "      <td>2.000000e+01</td>\n",
       "    </tr>\n",
       "    <tr>\n",
       "      <th>max</th>\n",
       "      <td>35.000000</td>\n",
       "      <td>5050.000000</td>\n",
       "      <td>1.000000e+08</td>\n",
       "    </tr>\n",
       "  </tbody>\n",
       "</table>\n",
       "</div>"
      ],
      "text/plain": [
       "        delivery_fee  delivery_time  minimumOrderValue\n",
       "count  406399.000000  406399.000000       4.063990e+05\n",
       "mean        6.804577      47.432747       2.768909e+02\n",
       "std         4.315815      19.662736       1.570668e+05\n",
       "min         0.000000      -1.000000       0.000000e+00\n",
       "25%         4.000000      35.000000       1.000000e+01\n",
       "50%         6.000000      45.000000       1.500000e+01\n",
       "75%         9.490000      60.000000       2.000000e+01\n",
       "max        35.000000    5050.000000       1.000000e+08"
      ]
     },
     "execution_count": 108,
     "metadata": {},
     "output_type": "execute_result"
    }
   ],
   "source": [
    "df_sel.describe()"
   ]
  },
  {
   "cell_type": "markdown",
   "metadata": {},
   "source": [
    "# Usando função mean()"
   ]
  },
  {
   "cell_type": "code",
   "execution_count": null,
   "metadata": {},
   "outputs": [],
   "source": [
    "# Classificar tipos de variáveis\n",
    "numericas = df_sel.select_dtypes(include=['number']).columns.tolist()\n",
    "categoricas = df_sel.select_dtypes(include=['object', 'category', 'bool']).columns.tolist()\n",
    "\n",
    "print(f\"Variáveis numéricas: {numericas} \\n\")\n",
    "print(\"Variáveis categóricas:\", categoricas)"
   ]
  },
  {
   "cell_type": "code",
   "execution_count": 68,
   "metadata": {},
   "outputs": [
    {
     "data": {
      "application/vnd.microsoft.datawrangler.viewer.v0+json": {
       "columns": [
        {
         "name": "index",
         "rawType": "int64",
         "type": "integer"
        },
        {
         "name": "delivery_fee",
         "rawType": "float64",
         "type": "float"
        },
        {
         "name": "delivery_time",
         "rawType": "int64",
         "type": "integer"
        },
        {
         "name": "minimumOrderValue",
         "rawType": "float64",
         "type": "float"
        }
       ],
       "ref": "3228bf81-cb4c-40ef-b90f-5f5d6d38c6fd",
       "rows": [
        [
         "0",
         "3.99",
         "27",
         "10.0"
        ],
        [
         "1",
         "7.99",
         "61",
         "10.0"
        ],
        [
         "2",
         "11.99",
         "70",
         "5.0"
        ],
        [
         "3",
         "16.49",
         "63",
         "20.0"
        ],
        [
         "4",
         "11.99",
         "58",
         "20.0"
        ],
        [
         "5",
         "12.99",
         "67",
         "20.0"
        ],
        [
         "6",
         "11.99",
         "46",
         "20.0"
        ],
        [
         "7",
         "7.99",
         "40",
         "10.0"
        ],
        [
         "8",
         "13.49",
         "41",
         "20.0"
        ],
        [
         "9",
         "15.49",
         "47",
         "20.0"
        ],
        [
         "10",
         "10.49",
         "55",
         "20.0"
        ],
        [
         "11",
         "12.0",
         "80",
         "20.0"
        ],
        [
         "12",
         "13.49",
         "57",
         "20.0"
        ],
        [
         "13",
         "14.49",
         "60",
         "20.0"
        ],
        [
         "14",
         "8.49",
         "50",
         "20.0"
        ],
        [
         "15",
         "14.49",
         "60",
         "10.0"
        ],
        [
         "16",
         "15.49",
         "68",
         "20.0"
        ],
        [
         "17",
         "13.49",
         "59",
         "10.0"
        ],
        [
         "18",
         "15.49",
         "41",
         "20.0"
        ],
        [
         "19",
         "6.99",
         "30",
         "20.0"
        ],
        [
         "20",
         "0.0",
         "45",
         "8.0"
        ],
        [
         "21",
         "12.49",
         "29",
         "10.0"
        ],
        [
         "22",
         "11.99",
         "18",
         "20.0"
        ],
        [
         "23",
         "12.49",
         "35",
         "20.0"
        ],
        [
         "24",
         "9.0",
         "80",
         "0.0"
        ],
        [
         "25",
         "11.99",
         "64",
         "20.0"
        ],
        [
         "26",
         "14.49",
         "61",
         "20.0"
        ],
        [
         "27",
         "12.49",
         "60",
         "20.0"
        ],
        [
         "28",
         "8.99",
         "38",
         "20.0"
        ],
        [
         "29",
         "15.0",
         "120",
         "50.0"
        ],
        [
         "30",
         "14.49",
         "61",
         "20.0"
        ],
        [
         "31",
         "13.49",
         "67",
         "20.0"
        ],
        [
         "32",
         "6.99",
         "90",
         "15.0"
        ],
        [
         "33",
         "13.49",
         "59",
         "20.0"
        ],
        [
         "34",
         "8.99",
         "55",
         "20.0"
        ],
        [
         "35",
         "5.99",
         "28",
         "20.0"
        ],
        [
         "36",
         "12.0",
         "90",
         "10.0"
        ],
        [
         "37",
         "13.49",
         "61",
         "20.0"
        ],
        [
         "38",
         "13.49",
         "66",
         "20.0"
        ],
        [
         "39",
         "10.49",
         "56",
         "10.0"
        ],
        [
         "40",
         "14.49",
         "64",
         "20.0"
        ],
        [
         "41",
         "15.0",
         "50",
         "15.0"
        ],
        [
         "42",
         "7.99",
         "40",
         "30.0"
        ],
        [
         "43",
         "10.49",
         "56",
         "20.0"
        ],
        [
         "44",
         "7.99",
         "44",
         "20.0"
        ],
        [
         "45",
         "6.99",
         "34",
         "20.0"
        ],
        [
         "46",
         "9.0",
         "45",
         "0.0"
        ],
        [
         "47",
         "13.49",
         "60",
         "20.0"
        ],
        [
         "48",
         "15.99",
         "35",
         "20.0"
        ],
        [
         "49",
         "4.99",
         "18",
         "20.0"
        ]
       ],
       "shape": {
        "columns": 3,
        "rows": 406399
       }
      },
      "text/html": [
       "<div>\n",
       "<style scoped>\n",
       "    .dataframe tbody tr th:only-of-type {\n",
       "        vertical-align: middle;\n",
       "    }\n",
       "\n",
       "    .dataframe tbody tr th {\n",
       "        vertical-align: top;\n",
       "    }\n",
       "\n",
       "    .dataframe thead th {\n",
       "        text-align: right;\n",
       "    }\n",
       "</style>\n",
       "<table border=\"1\" class=\"dataframe\">\n",
       "  <thead>\n",
       "    <tr style=\"text-align: right;\">\n",
       "      <th></th>\n",
       "      <th>delivery_fee</th>\n",
       "      <th>delivery_time</th>\n",
       "      <th>minimumOrderValue</th>\n",
       "    </tr>\n",
       "  </thead>\n",
       "  <tbody>\n",
       "    <tr>\n",
       "      <th>0</th>\n",
       "      <td>3.99</td>\n",
       "      <td>27</td>\n",
       "      <td>10.0</td>\n",
       "    </tr>\n",
       "    <tr>\n",
       "      <th>1</th>\n",
       "      <td>7.99</td>\n",
       "      <td>61</td>\n",
       "      <td>10.0</td>\n",
       "    </tr>\n",
       "    <tr>\n",
       "      <th>2</th>\n",
       "      <td>11.99</td>\n",
       "      <td>70</td>\n",
       "      <td>5.0</td>\n",
       "    </tr>\n",
       "    <tr>\n",
       "      <th>3</th>\n",
       "      <td>16.49</td>\n",
       "      <td>63</td>\n",
       "      <td>20.0</td>\n",
       "    </tr>\n",
       "    <tr>\n",
       "      <th>4</th>\n",
       "      <td>11.99</td>\n",
       "      <td>58</td>\n",
       "      <td>20.0</td>\n",
       "    </tr>\n",
       "    <tr>\n",
       "      <th>...</th>\n",
       "      <td>...</td>\n",
       "      <td>...</td>\n",
       "      <td>...</td>\n",
       "    </tr>\n",
       "    <tr>\n",
       "      <th>406394</th>\n",
       "      <td>9.00</td>\n",
       "      <td>60</td>\n",
       "      <td>30.0</td>\n",
       "    </tr>\n",
       "    <tr>\n",
       "      <th>406395</th>\n",
       "      <td>6.00</td>\n",
       "      <td>50</td>\n",
       "      <td>10.0</td>\n",
       "    </tr>\n",
       "    <tr>\n",
       "      <th>406396</th>\n",
       "      <td>0.00</td>\n",
       "      <td>40</td>\n",
       "      <td>0.0</td>\n",
       "    </tr>\n",
       "    <tr>\n",
       "      <th>406397</th>\n",
       "      <td>8.00</td>\n",
       "      <td>60</td>\n",
       "      <td>20.0</td>\n",
       "    </tr>\n",
       "    <tr>\n",
       "      <th>406398</th>\n",
       "      <td>9.00</td>\n",
       "      <td>20</td>\n",
       "      <td>0.0</td>\n",
       "    </tr>\n",
       "  </tbody>\n",
       "</table>\n",
       "<p>406399 rows × 3 columns</p>\n",
       "</div>"
      ],
      "text/plain": [
       "        delivery_fee  delivery_time  minimumOrderValue\n",
       "0               3.99             27               10.0\n",
       "1               7.99             61               10.0\n",
       "2              11.99             70                5.0\n",
       "3              16.49             63               20.0\n",
       "4              11.99             58               20.0\n",
       "...              ...            ...                ...\n",
       "406394          9.00             60               30.0\n",
       "406395          6.00             50               10.0\n",
       "406396          0.00             40                0.0\n",
       "406397          8.00             60               20.0\n",
       "406398          9.00             20                0.0\n",
       "\n",
       "[406399 rows x 3 columns]"
      ]
     },
     "execution_count": 68,
     "metadata": {},
     "output_type": "execute_result"
    }
   ],
   "source": [
    "df_sel[numericas]"
   ]
  },
  {
   "cell_type": "code",
   "execution_count": 12,
   "metadata": {},
   "outputs": [
    {
     "data": {
      "text/plain": [
       "np.float64(6.80457700437255)"
      ]
     },
     "execution_count": 12,
     "metadata": {},
     "output_type": "execute_result"
    }
   ],
   "source": [
    "df_sel[\"delivery_fee\"].mean()"
   ]
  },
  {
   "cell_type": "code",
   "execution_count": 77,
   "metadata": {},
   "outputs": [
    {
     "data": {
      "text/plain": [
       "6.80457700437255"
      ]
     },
     "execution_count": 77,
     "metadata": {},
     "output_type": "execute_result"
    }
   ],
   "source": [
    "media = float(df_sel[\"delivery_fee\"].mean())\n",
    "float(df_sel[\"delivery_fee\"].mean())"
   ]
  },
  {
   "cell_type": "code",
   "execution_count": 78,
   "metadata": {},
   "outputs": [
    {
     "name": "stdout",
     "output_type": "stream",
     "text": [
      "A média com 2 casas decimais: 6.80\n",
      "A média com 2 casas decimais: 6.80\n"
     ]
    }
   ],
   "source": [
    "print(f\"A média com 2 casas decimais: {df_sel[\"delivery_fee\"].mean():.2f}\")\n",
    "print(f\"A média com 2 casas decimais: {media:.2f}\")"
   ]
  },
  {
   "cell_type": "code",
   "execution_count": 80,
   "metadata": {},
   "outputs": [
    {
     "data": {
      "text/plain": [
       "6"
      ]
     },
     "execution_count": 80,
     "metadata": {},
     "output_type": "execute_result"
    }
   ],
   "source": [
    "int(df_sel[\"delivery_fee\"].mean())"
   ]
  },
  {
   "cell_type": "code",
   "execution_count": 81,
   "metadata": {},
   "outputs": [
    {
     "name": "stdout",
     "output_type": "stream",
     "text": [
      "A média com 2 casas decimais: 6.00\n"
     ]
    }
   ],
   "source": [
    "print(f\"A média com 2 casas decimais: {int(df_sel[\"delivery_fee\"].mean()):.2f}\")"
   ]
  },
  {
   "cell_type": "code",
   "execution_count": 83,
   "metadata": {},
   "outputs": [
    {
     "data": {
      "application/vnd.microsoft.datawrangler.viewer.v0+json": {
       "columns": [
        {
         "name": "index",
         "rawType": "object",
         "type": "string"
        },
        {
         "name": "0",
         "rawType": "float64",
         "type": "float"
        }
       ],
       "ref": "387b546b-9cc9-47f1-b862-866c3604f161",
       "rows": [
        [
         "delivery_fee",
         "6.80457700437255"
        ],
        [
         "delivery_time",
         "47.43274712782266"
        ],
        [
         "minimumOrderValue",
         "276.89092923457"
        ]
       ],
       "shape": {
        "columns": 1,
        "rows": 3
       }
      },
      "text/plain": [
       "delivery_fee           6.804577\n",
       "delivery_time         47.432747\n",
       "minimumOrderValue    276.890929\n",
       "dtype: float64"
      ]
     },
     "execution_count": 83,
     "metadata": {},
     "output_type": "execute_result"
    }
   ],
   "source": [
    "df_sel[numericas].mean()"
   ]
  },
  {
   "cell_type": "code",
   "execution_count": 82,
   "metadata": {},
   "outputs": [
    {
     "name": "stdout",
     "output_type": "stream",
     "text": [
      "Média Variável delivery_fee: 6.80457700437255\n",
      "Média Variável delivery_time: 47.43274712782266\n",
      "Média Variável minimumOrderValue: 276.89092923457\n"
     ]
    }
   ],
   "source": [
    "for variavel in numericas:\n",
    "    print(f\"Média Variável {variavel}: {float(df_sel[variavel].mean())}\")"
   ]
  },
  {
   "cell_type": "markdown",
   "metadata": {},
   "source": [
    "# Usando a função median()"
   ]
  },
  {
   "cell_type": "code",
   "execution_count": 85,
   "metadata": {},
   "outputs": [
    {
     "data": {
      "text/plain": [
       "np.float64(6.0)"
      ]
     },
     "execution_count": 85,
     "metadata": {},
     "output_type": "execute_result"
    }
   ],
   "source": [
    "df_sel[\"delivery_fee\"].median()"
   ]
  },
  {
   "cell_type": "code",
   "execution_count": 92,
   "metadata": {},
   "outputs": [
    {
     "data": {
      "text/plain": [
       "6.0"
      ]
     },
     "execution_count": 92,
     "metadata": {},
     "output_type": "execute_result"
    }
   ],
   "source": [
    "float(df_sel[\"delivery_fee\"].median())"
   ]
  },
  {
   "cell_type": "code",
   "execution_count": 94,
   "metadata": {},
   "outputs": [
    {
     "data": {
      "application/vnd.microsoft.datawrangler.viewer.v0+json": {
       "columns": [
        {
         "name": "index",
         "rawType": "object",
         "type": "string"
        },
        {
         "name": "0",
         "rawType": "float64",
         "type": "float"
        }
       ],
       "ref": "22a093f7-0bea-4754-ba4a-c398a794ec95",
       "rows": [
        [
         "delivery_fee",
         "6.0"
        ],
        [
         "delivery_time",
         "45.0"
        ],
        [
         "minimumOrderValue",
         "15.0"
        ]
       ],
       "shape": {
        "columns": 1,
        "rows": 3
       }
      },
      "text/plain": [
       "delivery_fee          6.0\n",
       "delivery_time        45.0\n",
       "minimumOrderValue    15.0\n",
       "dtype: float64"
      ]
     },
     "execution_count": 94,
     "metadata": {},
     "output_type": "execute_result"
    }
   ],
   "source": [
    "df_sel[numericas].median()"
   ]
  },
  {
   "cell_type": "code",
   "execution_count": 91,
   "metadata": {},
   "outputs": [
    {
     "name": "stdout",
     "output_type": "stream",
     "text": [
      "Média Variável delivery_fee: 6.80457700437255\n",
      "Mediana Variável delivery_fee: 6.0\n",
      "\n",
      "Média Variável delivery_time: 47.43274712782266\n",
      "Mediana Variável delivery_time: 45.0\n",
      "\n",
      "Média Variável minimumOrderValue: 276.89092923457\n",
      "Mediana Variável minimumOrderValue: 15.0\n",
      "\n"
     ]
    }
   ],
   "source": [
    "for variavel in numericas:\n",
    "    print(f\"Média Variável {variavel}: {float(df_sel[variavel].mean())}\")\n",
    "    print(f\"Mediana Variável {variavel}: {float(df_sel[variavel].median())}\\n\")"
   ]
  },
  {
   "cell_type": "code",
   "execution_count": 18,
   "metadata": {},
   "outputs": [
    {
     "data": {
      "text/plain": [
       "np.float64(99999999.99)"
      ]
     },
     "execution_count": 18,
     "metadata": {},
     "output_type": "execute_result"
    }
   ],
   "source": [
    "df_sel[\"minimumOrderValue\"].max()"
   ]
  },
  {
   "cell_type": "code",
   "execution_count": 96,
   "metadata": {},
   "outputs": [
    {
     "data": {
      "text/plain": [
       "99999999.99"
      ]
     },
     "execution_count": 96,
     "metadata": {},
     "output_type": "execute_result"
    }
   ],
   "source": [
    "float(df_sel[\"minimumOrderValue\"].max())"
   ]
  },
  {
   "cell_type": "markdown",
   "metadata": {},
   "source": [
    "# Usando a função mode()"
   ]
  },
  {
   "cell_type": "code",
   "execution_count": 69,
   "metadata": {},
   "outputs": [
    {
     "data": {
      "application/vnd.microsoft.datawrangler.viewer.v0+json": {
       "columns": [
        {
         "name": "index",
         "rawType": "int64",
         "type": "integer"
        },
        {
         "name": "availableForScheduling",
         "rawType": "bool",
         "type": "boolean"
        },
        {
         "name": "category",
         "rawType": "object",
         "type": "string"
        },
        {
         "name": "price_range",
         "rawType": "object",
         "type": "string"
        }
       ],
       "ref": "5a8dc9d1-123f-4c59-862e-6db3006b22f0",
       "rows": [
        [
         "0",
         "False",
         "Lanches",
         "CHEAPEST"
        ]
       ],
       "shape": {
        "columns": 3,
        "rows": 1
       }
      },
      "text/html": [
       "<div>\n",
       "<style scoped>\n",
       "    .dataframe tbody tr th:only-of-type {\n",
       "        vertical-align: middle;\n",
       "    }\n",
       "\n",
       "    .dataframe tbody tr th {\n",
       "        vertical-align: top;\n",
       "    }\n",
       "\n",
       "    .dataframe thead th {\n",
       "        text-align: right;\n",
       "    }\n",
       "</style>\n",
       "<table border=\"1\" class=\"dataframe\">\n",
       "  <thead>\n",
       "    <tr style=\"text-align: right;\">\n",
       "      <th></th>\n",
       "      <th>availableForScheduling</th>\n",
       "      <th>category</th>\n",
       "      <th>price_range</th>\n",
       "    </tr>\n",
       "  </thead>\n",
       "  <tbody>\n",
       "    <tr>\n",
       "      <th>0</th>\n",
       "      <td>False</td>\n",
       "      <td>Lanches</td>\n",
       "      <td>CHEAPEST</td>\n",
       "    </tr>\n",
       "  </tbody>\n",
       "</table>\n",
       "</div>"
      ],
      "text/plain": [
       "   availableForScheduling category price_range\n",
       "0                   False  Lanches    CHEAPEST"
      ]
     },
     "execution_count": 69,
     "metadata": {},
     "output_type": "execute_result"
    }
   ],
   "source": [
    "df_sel[categoricas].mode()"
   ]
  },
  {
   "cell_type": "code",
   "execution_count": 19,
   "metadata": {},
   "outputs": [
    {
     "data": {
      "text/plain": [
       "pandas.core.series.Series"
      ]
     },
     "execution_count": 19,
     "metadata": {},
     "output_type": "execute_result"
    }
   ],
   "source": [
    "type(df_sel[\"category\"].mode())"
   ]
  },
  {
   "cell_type": "code",
   "execution_count": 20,
   "metadata": {},
   "outputs": [
    {
     "data": {
      "application/vnd.microsoft.datawrangler.viewer.v0+json": {
       "columns": [
        {
         "name": "index",
         "rawType": "int64",
         "type": "integer"
        },
        {
         "name": "category",
         "rawType": "object",
         "type": "string"
        }
       ],
       "ref": "48fccc6e-f469-4285-851b-756b877977da",
       "rows": [
        [
         "0",
         "Marmita"
        ],
        [
         "1",
         "Açaí"
        ],
        [
         "2",
         "Bebidas"
        ],
        [
         "3",
         "Carnes"
        ],
        [
         "4",
         "Brasileira"
        ],
        [
         "5",
         "Lanches"
        ],
        [
         "6",
         "Brasileira"
        ],
        [
         "7",
         "Congelados"
        ],
        [
         "8",
         "Lanches"
        ],
        [
         "9",
         "Lanches"
        ],
        [
         "10",
         "Lanches"
        ],
        [
         "11",
         "Pastel"
        ],
        [
         "12",
         "Indiana"
        ],
        [
         "13",
         "Árabe"
        ],
        [
         "14",
         "Brasileira"
        ],
        [
         "15",
         "Bebidas"
        ],
        [
         "16",
         "Brasileira"
        ],
        [
         "17",
         "Brasileira"
        ],
        [
         "18",
         "Brasileira"
        ],
        [
         "19",
         "Lanches"
        ],
        [
         "20",
         "Lanches"
        ],
        [
         "21",
         "Doces & Bolos"
        ],
        [
         "22",
         "Brasileira"
        ],
        [
         "23",
         "Lanches"
        ],
        [
         "24",
         "Lanches"
        ],
        [
         "25",
         "Brasileira"
        ],
        [
         "26",
         "Brasileira"
        ],
        [
         "27",
         "Salgados"
        ],
        [
         "28",
         "Brasileira"
        ],
        [
         "29",
         "Mercado"
        ],
        [
         "30",
         "Italiana"
        ],
        [
         "31",
         "Pizza"
        ],
        [
         "32",
         "Lanches"
        ],
        [
         "33",
         "Lanches"
        ],
        [
         "34",
         "Carnes"
        ],
        [
         "35",
         "Brasileira"
        ],
        [
         "36",
         "Lanches"
        ],
        [
         "37",
         "Lanches"
        ],
        [
         "38",
         "Lanches"
        ],
        [
         "39",
         "Doces & Bolos"
        ],
        [
         "40",
         "Lanches"
        ],
        [
         "41",
         "Lanches"
        ],
        [
         "42",
         "Bebidas"
        ],
        [
         "43",
         "Brasileira"
        ],
        [
         "44",
         "Lanches"
        ],
        [
         "45",
         "Brasileira"
        ],
        [
         "46",
         "Bebidas"
        ],
        [
         "47",
         "Lanches"
        ],
        [
         "48",
         "Italiana"
        ],
        [
         "49",
         "Típica do Norte"
        ]
       ],
       "shape": {
        "columns": 1,
        "rows": 406399
       }
      },
      "text/plain": [
       "0               Marmita\n",
       "1                  Açaí\n",
       "2               Bebidas\n",
       "3                Carnes\n",
       "4            Brasileira\n",
       "              ...      \n",
       "406394             Açaí\n",
       "406395             Açaí\n",
       "406396             Açaí\n",
       "406397          Lanches\n",
       "406398    Doces & Bolos\n",
       "Name: category, Length: 406399, dtype: object"
      ]
     },
     "execution_count": 20,
     "metadata": {},
     "output_type": "execute_result"
    }
   ],
   "source": [
    "df_sel[\"category\"]"
   ]
  },
  {
   "cell_type": "code",
   "execution_count": 21,
   "metadata": {},
   "outputs": [
    {
     "name": "stdout",
     "output_type": "stream",
     "text": [
      "A moda do df é: Lanches\n"
     ]
    }
   ],
   "source": [
    "print(f\"A moda do df é: {df_sel[\"category\"].mode()[0]}\")"
   ]
  },
  {
   "cell_type": "code",
   "execution_count": 22,
   "metadata": {},
   "outputs": [
    {
     "data": {
      "text/plain": [
       "'Lanches'"
      ]
     },
     "execution_count": 22,
     "metadata": {},
     "output_type": "execute_result"
    }
   ],
   "source": [
    "df_sel[\"category\"].mode()[0]"
   ]
  },
  {
   "cell_type": "code",
   "execution_count": 23,
   "metadata": {},
   "outputs": [
    {
     "data": {
      "application/vnd.microsoft.datawrangler.viewer.v0+json": {
       "columns": [
        {
         "name": "index",
         "rawType": "int64",
         "type": "integer"
        },
        {
         "name": "availableForScheduling",
         "rawType": "bool",
         "type": "boolean"
        }
       ],
       "ref": "9b563779-9561-4e60-8620-c4de505492c7",
       "rows": [
        [
         "0",
         "False"
        ]
       ],
       "shape": {
        "columns": 1,
        "rows": 1
       }
      },
      "text/plain": [
       "0    False\n",
       "Name: availableForScheduling, dtype: bool"
      ]
     },
     "execution_count": 23,
     "metadata": {},
     "output_type": "execute_result"
    }
   ],
   "source": [
    "# Variáveis booleans?\n",
    "df_sel[\"availableForScheduling\"].mode()"
   ]
  },
  {
   "cell_type": "code",
   "execution_count": 24,
   "metadata": {},
   "outputs": [
    {
     "data": {
      "application/vnd.microsoft.datawrangler.viewer.v0+json": {
       "columns": [
        {
         "name": "index",
         "rawType": "int64",
         "type": "integer"
        },
        {
         "name": "delivery_fee",
         "rawType": "float64",
         "type": "float"
        }
       ],
       "ref": "e50e2988-a582-4198-9ca8-20594536d60d",
       "rows": [
        [
         "0",
         "0.0"
        ]
       ],
       "shape": {
        "columns": 1,
        "rows": 1
       }
      },
      "text/plain": [
       "0    0.0\n",
       "Name: delivery_fee, dtype: float64"
      ]
     },
     "execution_count": 24,
     "metadata": {},
     "output_type": "execute_result"
    }
   ],
   "source": [
    "# Variáveis numéricas?\n",
    "df_sel[\"delivery_fee\"].mode()"
   ]
  },
  {
   "cell_type": "markdown",
   "metadata": {},
   "source": [
    "# Avaliando a moda das variáveis"
   ]
  },
  {
   "cell_type": "code",
   "execution_count": 25,
   "metadata": {},
   "outputs": [
    {
     "data": {
      "application/vnd.microsoft.datawrangler.viewer.v0+json": {
       "columns": [
        {
         "name": "category",
         "rawType": "object",
         "type": "string"
        },
        {
         "name": "count",
         "rawType": "int64",
         "type": "integer"
        }
       ],
       "ref": "7f665597-bd19-4ee4-b034-0384efd24f65",
       "rows": [
        [
         "Lanches",
         "98946"
        ],
        [
         "Brasileira",
         "73348"
        ],
        [
         "Doces & Bolos",
         "39828"
        ],
        [
         "Pizza",
         "36819"
        ],
        [
         "Açaí",
         "22110"
        ],
        [
         "Marmita",
         "16567"
        ],
        [
         "Japonesa",
         "14143"
        ],
        [
         "Bebidas",
         "13375"
        ],
        [
         "Saudável",
         "10037"
        ],
        [
         "Salgados",
         "9672"
        ],
        [
         "Carnes",
         "8394"
        ],
        [
         "Italiana",
         "6783"
        ],
        [
         "Hambúrguer",
         "6396"
        ],
        [
         "Sorvetes",
         "5999"
        ],
        [
         "Pastel",
         "5900"
        ],
        [
         "Padaria",
         "4198"
        ],
        [
         "Variada",
         "4111"
        ],
        [
         "Mercado",
         "3625"
        ],
        [
         "Conveniência",
         "3162"
        ],
        [
         "Cafeteria",
         "3136"
        ],
        [
         "Árabe",
         "2753"
        ],
        [
         "Cozinha Rápida",
         "2527"
        ],
        [
         "Congelados",
         "2101"
        ],
        [
         "Chinesa",
         "1912"
        ],
        [
         "Frutos Do Mar",
         "1434"
        ],
        [
         "Mexicana",
         "892"
        ],
        [
         "Vegetariana",
         "853"
        ],
        [
         "Peixes",
         "669"
        ],
        [
         "Vegana",
         "653"
        ],
        [
         "Contemporânea",
         "578"
        ],
        [
         "Frangos",
         "575"
        ],
        [
         "Francesa",
         "510"
        ],
        [
         "Argentina",
         "358"
        ],
        [
         "Casa de Sucos",
         "357"
        ],
        [
         "Portuguesa",
         "324"
        ],
        [
         "Sopas & Caldos",
         "306"
        ],
        [
         "Mineira",
         "265"
        ],
        [
         "Nordestina",
         "263"
        ],
        [
         "Tapioca",
         "242"
        ],
        [
         "Crepe",
         "225"
        ],
        [
         "Mediterrânea",
         "212"
        ],
        [
         "Congelados Fit",
         "197"
        ],
        [
         "Alemã",
         "191"
        ],
        [
         "Asiática",
         "155"
        ],
        [
         "Baiana",
         "154"
        ],
        [
         "Panqueca",
         "147"
        ],
        [
         "Peruana",
         "146"
        ],
        [
         "Yakisoba",
         "145"
        ],
        [
         "Presentes",
         "98"
        ],
        [
         "Africana",
         "92"
        ]
       ],
       "shape": {
        "columns": 1,
        "rows": 61
       }
      },
      "text/plain": [
       "category\n",
       "Lanches            98946\n",
       "Brasileira         73348\n",
       "Doces & Bolos      39828\n",
       "Pizza              36819\n",
       "Açaí               22110\n",
       "                   ...  \n",
       "Colombiana            48\n",
       "Típica do Norte       31\n",
       "Grega                  6\n",
       "Paranaense             4\n",
       "Marroquina             1\n",
       "Name: count, Length: 61, dtype: int64"
      ]
     },
     "execution_count": 25,
     "metadata": {},
     "output_type": "execute_result"
    }
   ],
   "source": [
    "df[\"category\"].value_counts()"
   ]
  },
  {
   "cell_type": "code",
   "execution_count": 58,
   "metadata": {},
   "outputs": [
    {
     "name": "stdout",
     "output_type": "stream",
     "text": [
      "Variáveis numéricas: ['delivery_fee', 'delivery_time', 'minimumOrderValue'] \n",
      "\n",
      "Variáveis categóricas: ['availableForScheduling', 'category', 'price_range']\n"
     ]
    }
   ],
   "source": [
    "# Classificar tipos de variáveis\n",
    "numericas = df_sel.select_dtypes(include=['number']).columns.tolist()\n",
    "categoricas = df_sel.select_dtypes(include=['object', 'category', 'bool']).columns.tolist()\n",
    "\n",
    "print(f\"Variáveis numéricas: {numericas} \\n\")\n",
    "print(\"Variáveis categóricas:\", categoricas)"
   ]
  },
  {
   "cell_type": "code",
   "execution_count": 63,
   "metadata": {},
   "outputs": [
    {
     "name": "stdout",
     "output_type": "stream",
     "text": [
      "<><><><><><><><><><><><><><>\n",
      "Variável availableForScheduling\n",
      "Moda: False\n",
      "\n",
      "availableForScheduling\n",
      "False    404702\n",
      "True       1697\n",
      "Name: count, dtype: int64\n",
      "\n",
      "<><><><><><><><><><><><><><>\n",
      "Variável category\n",
      "Moda: Lanches\n",
      "\n",
      "category\n",
      "Lanches          98946\n",
      "Brasileira       73348\n",
      "Doces & Bolos    39828\n",
      "Pizza            36819\n",
      "Açaí             22110\n",
      "Name: count, dtype: int64\n",
      "\n",
      "<><><><><><><><><><><><><><>\n",
      "Variável price_range\n",
      "Moda: CHEAPEST\n",
      "\n",
      "price_range\n",
      "CHEAPEST          294140\n",
      "MODERATE           44769\n",
      "CHEAP              43100\n",
      "EXPENSIVE          15778\n",
      "MOST_EXPENSIVE      8612\n",
      "Name: count, dtype: int64\n",
      "\n"
     ]
    }
   ],
   "source": [
    "for variavel in categoricas:\n",
    "    contagens = df_sel[variavel].value_counts()\n",
    "\n",
    "    if len(contagens) >= 5 :\n",
    "        print(\"<><><><><><><><><><><><><><>\")\n",
    "        print(f\"Variável {variavel}\")\n",
    "        print(f\"Moda: {df_sel[variavel].mode()[0]}\\n\")\n",
    "        print(f\"{contagens.iloc[0:5]}\\n\")\n",
    "    else:\n",
    "        print(\"<><><><><><><><><><><><><><>\")\n",
    "        print(f\"Variável {variavel}\")\n",
    "        print(f\"Moda: {df_sel[variavel].mode()[0]}\\n\")\n",
    "        print(f\"{contagens.iloc[0:len(contagens)]}\\n\")\n"
   ]
  },
  {
   "cell_type": "markdown",
   "metadata": {},
   "source": [
    "# Calculando a Amplitude "
   ]
  },
  {
   "cell_type": "code",
   "execution_count": 27,
   "metadata": {},
   "outputs": [
    {
     "data": {
      "application/vnd.microsoft.datawrangler.viewer.v0+json": {
       "columns": [
        {
         "name": "index",
         "rawType": "object",
         "type": "string"
        },
        {
         "name": "delivery_fee",
         "rawType": "float64",
         "type": "float"
        },
        {
         "name": "delivery_time",
         "rawType": "float64",
         "type": "float"
        },
        {
         "name": "distance",
         "rawType": "float64",
         "type": "float"
        },
        {
         "name": "ibge",
         "rawType": "float64",
         "type": "float"
        },
        {
         "name": "minimumOrderValue",
         "rawType": "float64",
         "type": "float"
        },
        {
         "name": "rating",
         "rawType": "float64",
         "type": "float"
        }
       ],
       "ref": "1559bf1c-4bbe-490a-adff-9da458c3b947",
       "rows": [
        [
         "count",
         "406399.0",
         "406399.0",
         "406399.0",
         "406399.0",
         "406399.0",
         "406399.0"
        ],
        [
         "mean",
         "6.80457700437255",
         "47.43274712782266",
         "4.219752189350859",
         "3441576.179845423",
         "276.89092923457",
         "2.5222414113116196"
        ],
        [
         "std",
         "4.315815317102633",
         "19.66273597968834",
         "68.32937896704574",
         "752371.0561198127",
         "157066.75857315303",
         "2.286102884633238"
        ],
        [
         "min",
         "0.0",
         "-1.0",
         "0.0",
         "1100023.0",
         "0.0",
         "0.0"
        ],
        [
         "25%",
         "4.0",
         "35.0",
         "1.75",
         "3143302.0",
         "10.0",
         "0.0"
        ],
        [
         "50%",
         "6.0",
         "45.0",
         "3.08",
         "3516408.0",
         "15.0",
         "3.958899974822998"
        ],
        [
         "75%",
         "9.49",
         "60.0",
         "4.83",
         "3550308.0",
         "20.0",
         "4.71875"
        ],
        [
         "max",
         "35.0",
         "5050.0",
         "11810.19",
         "5300108.0",
         "99999999.99",
         "5.0"
        ]
       ],
       "shape": {
        "columns": 6,
        "rows": 8
       }
      },
      "text/html": [
       "<div>\n",
       "<style scoped>\n",
       "    .dataframe tbody tr th:only-of-type {\n",
       "        vertical-align: middle;\n",
       "    }\n",
       "\n",
       "    .dataframe tbody tr th {\n",
       "        vertical-align: top;\n",
       "    }\n",
       "\n",
       "    .dataframe thead th {\n",
       "        text-align: right;\n",
       "    }\n",
       "</style>\n",
       "<table border=\"1\" class=\"dataframe\">\n",
       "  <thead>\n",
       "    <tr style=\"text-align: right;\">\n",
       "      <th></th>\n",
       "      <th>delivery_fee</th>\n",
       "      <th>delivery_time</th>\n",
       "      <th>distance</th>\n",
       "      <th>ibge</th>\n",
       "      <th>minimumOrderValue</th>\n",
       "      <th>rating</th>\n",
       "    </tr>\n",
       "  </thead>\n",
       "  <tbody>\n",
       "    <tr>\n",
       "      <th>count</th>\n",
       "      <td>406399.000000</td>\n",
       "      <td>406399.000000</td>\n",
       "      <td>406399.000000</td>\n",
       "      <td>4.063990e+05</td>\n",
       "      <td>4.063990e+05</td>\n",
       "      <td>406399.000000</td>\n",
       "    </tr>\n",
       "    <tr>\n",
       "      <th>mean</th>\n",
       "      <td>6.804577</td>\n",
       "      <td>47.432747</td>\n",
       "      <td>4.219752</td>\n",
       "      <td>3.441576e+06</td>\n",
       "      <td>2.768909e+02</td>\n",
       "      <td>2.522241</td>\n",
       "    </tr>\n",
       "    <tr>\n",
       "      <th>std</th>\n",
       "      <td>4.315815</td>\n",
       "      <td>19.662736</td>\n",
       "      <td>68.329379</td>\n",
       "      <td>7.523711e+05</td>\n",
       "      <td>1.570668e+05</td>\n",
       "      <td>2.286103</td>\n",
       "    </tr>\n",
       "    <tr>\n",
       "      <th>min</th>\n",
       "      <td>0.000000</td>\n",
       "      <td>-1.000000</td>\n",
       "      <td>0.000000</td>\n",
       "      <td>1.100023e+06</td>\n",
       "      <td>0.000000e+00</td>\n",
       "      <td>0.000000</td>\n",
       "    </tr>\n",
       "    <tr>\n",
       "      <th>25%</th>\n",
       "      <td>4.000000</td>\n",
       "      <td>35.000000</td>\n",
       "      <td>1.750000</td>\n",
       "      <td>3.143302e+06</td>\n",
       "      <td>1.000000e+01</td>\n",
       "      <td>0.000000</td>\n",
       "    </tr>\n",
       "    <tr>\n",
       "      <th>50%</th>\n",
       "      <td>6.000000</td>\n",
       "      <td>45.000000</td>\n",
       "      <td>3.080000</td>\n",
       "      <td>3.516408e+06</td>\n",
       "      <td>1.500000e+01</td>\n",
       "      <td>3.958900</td>\n",
       "    </tr>\n",
       "    <tr>\n",
       "      <th>75%</th>\n",
       "      <td>9.490000</td>\n",
       "      <td>60.000000</td>\n",
       "      <td>4.830000</td>\n",
       "      <td>3.550308e+06</td>\n",
       "      <td>2.000000e+01</td>\n",
       "      <td>4.718750</td>\n",
       "    </tr>\n",
       "    <tr>\n",
       "      <th>max</th>\n",
       "      <td>35.000000</td>\n",
       "      <td>5050.000000</td>\n",
       "      <td>11810.190000</td>\n",
       "      <td>5.300108e+06</td>\n",
       "      <td>1.000000e+08</td>\n",
       "      <td>5.000000</td>\n",
       "    </tr>\n",
       "  </tbody>\n",
       "</table>\n",
       "</div>"
      ],
      "text/plain": [
       "        delivery_fee  delivery_time       distance          ibge  \\\n",
       "count  406399.000000  406399.000000  406399.000000  4.063990e+05   \n",
       "mean        6.804577      47.432747       4.219752  3.441576e+06   \n",
       "std         4.315815      19.662736      68.329379  7.523711e+05   \n",
       "min         0.000000      -1.000000       0.000000  1.100023e+06   \n",
       "25%         4.000000      35.000000       1.750000  3.143302e+06   \n",
       "50%         6.000000      45.000000       3.080000  3.516408e+06   \n",
       "75%         9.490000      60.000000       4.830000  3.550308e+06   \n",
       "max        35.000000    5050.000000   11810.190000  5.300108e+06   \n",
       "\n",
       "       minimumOrderValue         rating  \n",
       "count       4.063990e+05  406399.000000  \n",
       "mean        2.768909e+02       2.522241  \n",
       "std         1.570668e+05       2.286103  \n",
       "min         0.000000e+00       0.000000  \n",
       "25%         1.000000e+01       0.000000  \n",
       "50%         1.500000e+01       3.958900  \n",
       "75%         2.000000e+01       4.718750  \n",
       "max         1.000000e+08       5.000000  "
      ]
     },
     "execution_count": 27,
     "metadata": {},
     "output_type": "execute_result"
    }
   ],
   "source": [
    "df.describe()"
   ]
  },
  {
   "cell_type": "code",
   "execution_count": 28,
   "metadata": {},
   "outputs": [
    {
     "name": "stdout",
     "output_type": "stream",
     "text": [
      "<class 'pandas.core.frame.DataFrame'>\n",
      "RangeIndex: 406399 entries, 0 to 406398\n",
      "Data columns (total 14 columns):\n",
      " #   Column                  Non-Null Count   Dtype  \n",
      "---  ------                  --------------   -----  \n",
      " 0   availableForScheduling  406399 non-null  bool   \n",
      " 1   avatar                  406122 non-null  object \n",
      " 2   category                406399 non-null  object \n",
      " 3   delivery_fee            406399 non-null  float64\n",
      " 4   delivery_time           406399 non-null  int64  \n",
      " 5   distance                406399 non-null  float64\n",
      " 6   ibge                    406399 non-null  int64  \n",
      " 7   minimumOrderValue       406399 non-null  float64\n",
      " 8   name                    406399 non-null  object \n",
      " 9   paymentCodes            406397 non-null  object \n",
      " 10  price_range             406399 non-null  object \n",
      " 11  rating                  406399 non-null  float64\n",
      " 12  tags                    406399 non-null  object \n",
      " 13  url                     406399 non-null  object \n",
      "dtypes: bool(1), float64(4), int64(2), object(7)\n",
      "memory usage: 40.7+ MB\n"
     ]
    }
   ],
   "source": [
    "df.info()"
   ]
  },
  {
   "cell_type": "code",
   "execution_count": 29,
   "metadata": {},
   "outputs": [
    {
     "name": "stdout",
     "output_type": "stream",
     "text": [
      "A amplitude da variável delivery_fee é: 35.0\n",
      "A amplitude da variável delivery_time é: 5051\n",
      "A amplitude da variável distance é: 11810.19\n",
      "A amplitude da variável ibge é: 4200085\n",
      "A amplitude da variável minimumOrderValue é: 99999999.99\n",
      "A amplitude da variável rating é: 5.0\n"
     ]
    }
   ],
   "source": [
    "numericas = df.select_dtypes(include=['number']).columns.tolist()\n",
    "\n",
    "for variavel in numericas:\n",
    "    # Calcula a amplitude\n",
    "    amplitude = df[variavel].max() - df[variavel].min()\n",
    "\n",
    "    # Imprime o resultado\n",
    "    print(f\"A amplitude da variável {variavel} é:\", amplitude)"
   ]
  },
  {
   "cell_type": "markdown",
   "metadata": {},
   "source": [
    "# Calculando a Variância e o Desvio Padrão"
   ]
  },
  {
   "cell_type": "code",
   "execution_count": 30,
   "metadata": {},
   "outputs": [
    {
     "name": "stdout",
     "output_type": "stream",
     "text": [
      "<class 'pandas.core.frame.DataFrame'>\n",
      "RangeIndex: 406399 entries, 0 to 406398\n",
      "Data columns (total 14 columns):\n",
      " #   Column                  Non-Null Count   Dtype  \n",
      "---  ------                  --------------   -----  \n",
      " 0   availableForScheduling  406399 non-null  bool   \n",
      " 1   avatar                  406122 non-null  object \n",
      " 2   category                406399 non-null  object \n",
      " 3   delivery_fee            406399 non-null  float64\n",
      " 4   delivery_time           406399 non-null  int64  \n",
      " 5   distance                406399 non-null  float64\n",
      " 6   ibge                    406399 non-null  int64  \n",
      " 7   minimumOrderValue       406399 non-null  float64\n",
      " 8   name                    406399 non-null  object \n",
      " 9   paymentCodes            406397 non-null  object \n",
      " 10  price_range             406399 non-null  object \n",
      " 11  rating                  406399 non-null  float64\n",
      " 12  tags                    406399 non-null  object \n",
      " 13  url                     406399 non-null  object \n",
      "dtypes: bool(1), float64(4), int64(2), object(7)\n",
      "memory usage: 40.7+ MB\n"
     ]
    }
   ],
   "source": [
    "df.info()"
   ]
  },
  {
   "cell_type": "code",
   "execution_count": 31,
   "metadata": {},
   "outputs": [
    {
     "name": "stdout",
     "output_type": "stream",
     "text": [
      "Variância:\n",
      "delivery_fee         1.862626e+01\n",
      "delivery_time        3.866232e+02\n",
      "distance             4.668904e+03\n",
      "ibge                 5.660622e+11\n",
      "minimumOrderValue    2.466997e+10\n",
      "rating               5.226266e+00\n",
      "dtype: float64\n",
      "\n",
      "Desvio Padrão:\n",
      "delivery_fee              4.315815\n",
      "delivery_time            19.662736\n",
      "distance                 68.329379\n",
      "ibge                 752371.056120\n",
      "minimumOrderValue    157066.758573\n",
      "rating                    2.286103\n",
      "dtype: float64\n"
     ]
    }
   ],
   "source": [
    "numericas = df.select_dtypes(include=['number']).columns.tolist()\n",
    "\n",
    "# Calcula a variância e o desvio padrão para cada coluna\n",
    "variancia = df[numericas].var()\n",
    "desvio_padrao = df[numericas].std()\n",
    "\n",
    "# Imprime os resultados\n",
    "print(\"Variância:\")\n",
    "print(variancia)\n",
    "print(\"\\nDesvio Padrão:\")\n",
    "print(desvio_padrao)"
   ]
  },
  {
   "cell_type": "markdown",
   "metadata": {},
   "source": [
    "# Criando Boxplots"
   ]
  },
  {
   "cell_type": "code",
   "execution_count": 32,
   "metadata": {},
   "outputs": [],
   "source": [
    "import matplotlib.pyplot as plt"
   ]
  },
  {
   "cell_type": "code",
   "execution_count": 33,
   "metadata": {},
   "outputs": [
    {
     "data": {
      "text/plain": [
       "['delivery_fee',\n",
       " 'delivery_time',\n",
       " 'distance',\n",
       " 'ibge',\n",
       " 'minimumOrderValue',\n",
       " 'rating']"
      ]
     },
     "execution_count": 33,
     "metadata": {},
     "output_type": "execute_result"
    }
   ],
   "source": [
    "numericas = df.select_dtypes(include=['number']).columns.tolist()\n",
    "numericas"
   ]
  },
  {
   "cell_type": "code",
   "execution_count": 34,
   "metadata": {},
   "outputs": [
    {
     "name": "stderr",
     "output_type": "stream",
     "text": [
      "C:\\Users\\bianc\\AppData\\Local\\Temp\\ipykernel_51224\\922790102.py:2: MatplotlibDeprecationWarning: The 'labels' parameter of boxplot() has been renamed 'tick_labels' since Matplotlib 3.9; support for the old name will be dropped in 3.11.\n",
      "  plt.boxplot(df['delivery_time'], labels=['Tempo de Entrega'])\n"
     ]
    },
    {
     "data": {
      "image/png": "[encoded data removed]",
      "text/plain": [
       "<Figure size 800x600 with 1 Axes>"
      ]
     },
     "metadata": {},
     "output_type": "display_data"
    }
   ],
   "source": [
    "plt.figure(figsize=(8, 6))\n",
    "plt.boxplot(df['delivery_time'], labels=['Tempo de Entrega'])\n",
    "plt.title('Boxplot Tempo de Entrega')\n",
    "plt.ylabel('Valores')\n",
    "plt.show()"
   ]
  },
  {
   "cell_type": "code",
   "execution_count": 35,
   "metadata": {},
   "outputs": [],
   "source": [
    "# Precisamos retirar os outliers\n",
    "# Vamos usar o método interquartil\n",
    "\n",
    "Q1 = df['delivery_time'].quantile(0.25)\n",
    "Q3 = df['delivery_time'].quantile(0.75)\n",
    "IQR = Q3 - Q1\n",
    "\n",
    "df_out = df[((df['delivery_time'] < (Q1 - 1.5 * IQR)) | (df['delivery_time'] > (Q3 + 1.5 * IQR)))]\n"
   ]
  },
  {
   "cell_type": "code",
   "execution_count": 36,
   "metadata": {},
   "outputs": [
    {
     "name": "stdout",
     "output_type": "stream",
     "text": [
      "Quantidade de registros na base: 406399\n",
      "Quantidade de outliers na base: 3857\n",
      "Percentual de outliers: 1.0 %\n"
     ]
    }
   ],
   "source": [
    "print(f\"Quantidade de registros na base: {len(df)}\")\n",
    "print(f\"Quantidade de outliers na base: {len(df_out)}\")\n",
    "print(f\"Percentual de outliers: {np.round(100*len(df_out)/len(df), 0)} %\")"
   ]
  },
  {
   "cell_type": "code",
   "execution_count": 37,
   "metadata": {},
   "outputs": [],
   "source": [
    "df_sem_out = df[~((df['delivery_time'] < (Q1 - 1.5 * IQR)) | (df['delivery_time'] > (Q3 + 1.5 * IQR)))]"
   ]
  },
  {
   "cell_type": "code",
   "execution_count": 38,
   "metadata": {},
   "outputs": [
    {
     "name": "stderr",
     "output_type": "stream",
     "text": [
      "C:\\Users\\bianc\\AppData\\Local\\Temp\\ipykernel_51224\\3464985401.py:2: MatplotlibDeprecationWarning: The 'labels' parameter of boxplot() has been renamed 'tick_labels' since Matplotlib 3.9; support for the old name will be dropped in 3.11.\n",
      "  plt.boxplot(df_sem_out['delivery_time'], labels=['Tempo de Entrega'])\n"
     ]
    },
    {
     "data": {
      "image/png": "[encoded data removed]",
      "text/plain": [
       "<Figure size 800x600 with 1 Axes>"
      ]
     },
     "metadata": {},
     "output_type": "display_data"
    }
   ],
   "source": [
    "plt.figure(figsize=(8, 6))\n",
    "plt.boxplot(df_sem_out['delivery_time'], labels=['Tempo de Entrega'])\n",
    "plt.title('Boxplot Tempo de Entrega')\n",
    "plt.ylabel('Valores')\n",
    "plt.show()"
   ]
  },
  {
   "cell_type": "markdown",
   "metadata": {},
   "source": [
    "# Retirando os Outliers"
   ]
  },
  {
   "cell_type": "code",
   "execution_count": 39,
   "metadata": {},
   "outputs": [
    {
     "data": {
      "text/plain": [
       "['delivery_fee',\n",
       " 'delivery_time',\n",
       " 'distance',\n",
       " 'ibge',\n",
       " 'minimumOrderValue',\n",
       " 'rating']"
      ]
     },
     "execution_count": 39,
     "metadata": {},
     "output_type": "execute_result"
    }
   ],
   "source": [
    "numericas = df.select_dtypes(include=['number']).columns.tolist()\n",
    "numericas"
   ]
  },
  {
   "cell_type": "code",
   "execution_count": 40,
   "metadata": {},
   "outputs": [
    {
     "data": {
      "text/plain": [
       "'ibge'"
      ]
     },
     "execution_count": 40,
     "metadata": {},
     "output_type": "execute_result"
    }
   ],
   "source": [
    "numericas.pop(3)"
   ]
  },
  {
   "cell_type": "code",
   "execution_count": 41,
   "metadata": {},
   "outputs": [
    {
     "data": {
      "application/vnd.microsoft.datawrangler.viewer.v0+json": {
       "columns": [
        {
         "name": "index",
         "rawType": "object",
         "type": "string"
        },
        {
         "name": "0.25",
         "rawType": "float64",
         "type": "float"
        }
       ],
       "ref": "1995318d-5be1-4c07-84e9-46f896dfc904",
       "rows": [
        [
         "delivery_fee",
         "4.0"
        ],
        [
         "delivery_time",
         "35.0"
        ],
        [
         "distance",
         "1.75"
        ],
        [
         "minimumOrderValue",
         "10.0"
        ],
        [
         "rating",
         "0.0"
        ]
       ],
       "shape": {
        "columns": 1,
        "rows": 5
       }
      },
      "text/plain": [
       "delivery_fee          4.00\n",
       "delivery_time        35.00\n",
       "distance              1.75\n",
       "minimumOrderValue    10.00\n",
       "rating                0.00\n",
       "Name: 0.25, dtype: float64"
      ]
     },
     "execution_count": 41,
     "metadata": {},
     "output_type": "execute_result"
    }
   ],
   "source": [
    "df[numericas].quantile(0.25)"
   ]
  },
  {
   "cell_type": "code",
   "execution_count": 42,
   "metadata": {},
   "outputs": [
    {
     "data": {
      "application/vnd.microsoft.datawrangler.viewer.v0+json": {
       "columns": [
        {
         "name": "index",
         "rawType": "object",
         "type": "string"
        },
        {
         "name": "0.75",
         "rawType": "float64",
         "type": "float"
        }
       ],
       "ref": "a70c4d4b-1951-4188-8e30-7cbea3ef863e",
       "rows": [
        [
         "delivery_fee",
         "9.49"
        ],
        [
         "delivery_time",
         "60.0"
        ],
        [
         "distance",
         "4.83"
        ],
        [
         "minimumOrderValue",
         "20.0"
        ],
        [
         "rating",
         "4.71875"
        ]
       ],
       "shape": {
        "columns": 1,
        "rows": 5
       }
      },
      "text/plain": [
       "delivery_fee          9.49000\n",
       "delivery_time        60.00000\n",
       "distance              4.83000\n",
       "minimumOrderValue    20.00000\n",
       "rating                4.71875\n",
       "Name: 0.75, dtype: float64"
      ]
     },
     "execution_count": 42,
     "metadata": {},
     "output_type": "execute_result"
    }
   ],
   "source": [
    "df[numericas].quantile(0.75)"
   ]
  },
  {
   "cell_type": "code",
   "execution_count": 43,
   "metadata": {},
   "outputs": [
    {
     "data": {
      "application/vnd.microsoft.datawrangler.viewer.v0+json": {
       "columns": [
        {
         "name": "index",
         "rawType": "object",
         "type": "string"
        },
        {
         "name": "0",
         "rawType": "float64",
         "type": "float"
        }
       ],
       "ref": "7adb87c0-bf7d-4c02-9d5e-8be5949ff3ad",
       "rows": [
        [
         "delivery_fee",
         "5.49"
        ],
        [
         "delivery_time",
         "25.0"
        ],
        [
         "distance",
         "3.08"
        ],
        [
         "minimumOrderValue",
         "10.0"
        ],
        [
         "rating",
         "4.71875"
        ]
       ],
       "shape": {
        "columns": 1,
        "rows": 5
       }
      },
      "text/plain": [
       "delivery_fee          5.49000\n",
       "delivery_time        25.00000\n",
       "distance              3.08000\n",
       "minimumOrderValue    10.00000\n",
       "rating                4.71875\n",
       "dtype: float64"
      ]
     },
     "execution_count": 43,
     "metadata": {},
     "output_type": "execute_result"
    }
   ],
   "source": [
    "Q1 = df[numericas].quantile(0.25)\n",
    "Q3 = df[numericas].quantile(0.75)\n",
    "\n",
    "IQR = Q3 - Q1\n",
    "IQR"
   ]
  },
  {
   "cell_type": "code",
   "execution_count": 44,
   "metadata": {},
   "outputs": [
    {
     "data": {
      "application/vnd.microsoft.datawrangler.viewer.v0+json": {
       "columns": [
        {
         "name": "index",
         "rawType": "int64",
         "type": "integer"
        },
        {
         "name": "availableForScheduling",
         "rawType": "bool",
         "type": "boolean"
        },
        {
         "name": "avatar",
         "rawType": "object",
         "type": "unknown"
        },
        {
         "name": "category",
         "rawType": "object",
         "type": "string"
        },
        {
         "name": "delivery_fee",
         "rawType": "float64",
         "type": "float"
        },
        {
         "name": "delivery_time",
         "rawType": "int64",
         "type": "integer"
        },
        {
         "name": "distance",
         "rawType": "float64",
         "type": "float"
        },
        {
         "name": "ibge",
         "rawType": "int64",
         "type": "integer"
        },
        {
         "name": "minimumOrderValue",
         "rawType": "float64",
         "type": "float"
        },
        {
         "name": "name",
         "rawType": "object",
         "type": "string"
        },
        {
         "name": "paymentCodes",
         "rawType": "object",
         "type": "string"
        },
        {
         "name": "price_range",
         "rawType": "object",
         "type": "string"
        },
        {
         "name": "rating",
         "rawType": "float64",
         "type": "float"
        },
        {
         "name": "tags",
         "rawType": "object",
         "type": "string"
        },
        {
         "name": "url",
         "rawType": "object",
         "type": "string"
        }
       ],
       "ref": "70250839-188b-4954-a757-98002f08941c",
       "rows": [
        [
         "24",
         "False",
         "https://static-images.ifood.com.br/image/upload/f_auto,t_high/logosgde/be752655-dd45-4ed3-8bf1-d054679ea721/202004231248_bk7v_i.jpg",
         "Lanches",
         "9.0",
         "80",
         "9.53",
         "5300108",
         "0.0",
         "Kelly Crepes & Massas",
         "DNR $$ MPAY $$ MOVPAY_MC $$ MC $$ GPY_ELO $$ RDREST $$ ELOD $$ GPY_MCMA $$ AM $$ MCMA $$ MOVPAY_AM $$ DIN $$ APL_ELOD $$ IMV $$ MOVPAY_VIS $$ GPY_ELOD $$ APL_MCMA $$ GPY_MC $$ APL_ELO $$ MOVPAY_HIPER $$ APL_VISE $$ HIPER $$ IFE $$ VIS $$ RED $$ VIREST $$ VSREST $$ APL_VIS $$ MOVPAY_ELO $$ GPY_VISE $$ MOVPAY_DNR $$ VISE $$ ELO $$ APL_MC $$ MEREST $$ GPY_VIS",
         "CHEAPEST",
         "0.0",
         "ADDRESS_PREFORM_TYPE $$ GUIDED_HELP_TYPE $$ HAMBURGUER_TAXA_GRATIS $$ NOVO $$ RANKING_FASTFOODS_FEV21",
         "https://www.ifood.com.br/delivery/brasilia-df/kelly-crepes--massas-guara-i/be752655-dd45-4ed3-8bf1-d054679ea721"
        ],
        [
         "29",
         "False",
         "https://static-images.ifood.com.br/image/upload/f_auto,t_high/logosgde/db0e3770-ab55-4306-aaad-8fc87fa7421b/202006101441_jq5O_i.jpg",
         "Mercado",
         "15.0",
         "120",
         "13.21",
         "5300108",
         "50.0",
         "Feirinha Delivery de Frutas & Verduras 2",
         "DNR $$ MPAY $$ MOVPAY_MC $$ RAM $$ MC $$ GPY_ELO $$ REC $$ RDREST $$ ELOD $$ GPY_MCMA $$ AM $$ MCMA $$ MOVPAY_AM $$ DIN $$ APL_ELOD $$ IMV $$ BANRD $$ MOVPAY_VIS $$ GPY_ELOD $$ APL_MCMA $$ GPY_MC $$ APL_ELO $$ MOVPAY_HIPER $$ DNREST $$ APL_VISE $$ HIPER $$ IFE $$ VIS $$ RED $$ VIREST $$ VSREST $$ APL_VIS $$ RHIP $$ MOVPAY_ELO $$ GPY_VISE $$ MOVPAY_DNR $$ VISE $$ ELO $$ APL_MC $$ MEREST $$ GPY_VIS",
         "MOST_EXPENSIVE",
         "0.0",
         "ADDRESS_PREFORM_TYPE $$ GUIDED_HELP_TYPE $$ LONG_TAIL $$ MARKET $$ MER_AMIGOSECRETO_CERVEJAS_DEZ20 $$ MER_FESTBEBIDAS_ALCOOLICAS_SET20 $$ MER_FESTBEBIDAS_REFRIENERGETICOS_SET20 $$ MER_FESTBEBIDAS_SUCOSAGUASCHAS_SET20 $$ MER_FESTCRIANCA_BEBIDAS_OUT20 $$ MER_LANCHEIRA_JAN21 $$ MER_NATAL_REFRISUCO_DEZ20 $$ MER_VERAO_BEBIDAS_JAN21 $$ MER_VERAO_FRUTASELEG_JAN21 $$ PRATOS_VEGETARIANOS_FEV21 $$ VERAO_BEBIDAS_DEZ20",
         "https://www.ifood.com.br/delivery/brasilia-df/feirinha-delivery-de-frutas--verduras-2-setor-habitacional-samambaia-vicente-pires/db0e3770-ab55-4306-aaad-8fc87fa7421b"
        ],
        [
         "36",
         "False",
         "https://static-images.ifood.com.br/image/upload/f_auto,t_high/logosgde/261e96be-4a91-4356-bf55-3d7688aa6156/202006071931_7320_.jpeg",
         "Lanches",
         "12.0",
         "90",
         "10.88",
         "5300108",
         "10.0",
         "Tapioca da Zi",
         "DNR $$ MPAY $$ MOVPAY_MC $$ MC $$ GPY_ELO $$ REC $$ RDREST $$ ELOD $$ GPY_MCMA $$ AM $$ MCMA $$ MOVPAY_AM $$ DIN $$ APL_ELOD $$ IMV $$ MOVPAY_VIS $$ GPY_ELOD $$ APL_MCMA $$ GPY_MC $$ APL_ELO $$ MOVPAY_HIPER $$ APL_VISE $$ HIPER $$ IFE $$ VIS $$ RED $$ VIREST $$ VSREST $$ APL_VIS $$ MOVPAY_ELO $$ GPY_VISE $$ MOVPAY_DNR $$ VISE $$ ELO $$ APL_MC $$ MEREST $$ GPY_VIS",
         "CHEAPEST",
         "0.0",
         "ADDRESS_PREFORM_TYPE $$ GUIDED_HELP_TYPE $$ JETSKI_BURGER_20AGO $$ jetski_burger_ago20 $$ NOVO $$ PRATOS_VEGETARIANOS_FEV21 $$ RANKING_FASTFOODS_FEV21",
         "https://www.ifood.com.br/delivery/brasilia-df/tapioca-da-zi-nucleo-bandeirante/261e96be-4a91-4356-bf55-3d7688aa6156"
        ],
        [
         "58",
         "False",
         "https://static-images.ifood.com.br/image/upload/f_auto,t_high/logosgde/79305c1f-ef6f-45b7-931b-e7b811cf3f99/202004251932_atNX_i.jpg",
         "Lanches",
         "7.0",
         "50",
         "10.81",
         "1302603",
         "12.0",
         "Dois Netos Delivery",
         "DNR $$ MPAY $$ MOVPAY_MC $$ RAM $$ MC $$ GPY_ELO $$ REC $$ RDREST $$ ELOD $$ GPY_MCMA $$ AM $$ NUGO $$ MCMA $$ MOVPAY_AM $$ DIN $$ APL_ELOD $$ IMV $$ BANRD $$ MOVPAY_VIS $$ GPY_ELOD $$ APL_MCMA $$ GPY_MC $$ APL_ELO $$ MOVPAY_HIPER $$ DNREST $$ APL_VISE $$ HIPER $$ IFE $$ VIS $$ RED $$ VIREST $$ VSREST $$ BANRC $$ APL_VIS $$ RHIP $$ MOVPAY_ELO $$ GPY_VISE $$ MOVPAY_DNR $$ VISE $$ VERDEC $$ ELO $$ APL_MC $$ MEREST $$ GPY_VIS $$ GOODC",
         "CHEAPEST",
         "0.0",
         "ADDRESS_PREFORM_TYPE $$ BOMEBARATO_CUPOM $$ GUIDED_HELP_TYPE $$ HAMBURGUER_TAXA_GRATIS $$ JETSKI_BURGER_20AGO $$ jetski_burger_ago20 $$ NOVO $$ NOVO_ABB_JUL20_V1 $$ NOVO_BOM_BARATO_JUN20 $$ RANKING_FASTFOODS_FEV21",
         "https://www.ifood.com.br/delivery/manaus-am/dois-netos-delivery-tancredo-neves/79305c1f-ef6f-45b7-931b-e7b811cf3f99"
        ],
        [
         "60",
         "False",
         "https://static-images.ifood.com.br/image/upload/f_auto,t_high/logosgde/f5c3779e-c5d2-4d08-b409-3b4eaad54faf/202004171705_6CtK_.jpeg",
         "Brasileira",
         "7.0",
         "90",
         "10.48",
         "1302603",
         "10.0",
         "Dimi Burgs",
         "DNR $$ MPAY $$ MOVPAY_MC $$ MC $$ GPY_ELO $$ RDREST $$ ELOD $$ GPY_MCMA $$ AM $$ MCMA $$ MOVPAY_AM $$ DIN $$ APL_ELOD $$ IMV $$ MOVPAY_VIS $$ GPY_ELOD $$ APL_MCMA $$ GPY_MC $$ APL_ELO $$ MOVPAY_HIPER $$ APL_VISE $$ HIPER $$ IFE $$ VIS $$ RED $$ VIREST $$ VSREST $$ APL_VIS $$ MOVPAY_ELO $$ GPY_VISE $$ MOVPAY_DNR $$ VISE $$ ELO $$ APL_MC $$ MEREST $$ GPY_VIS",
         "CHEAPEST",
         "0.0",
         "ADDRESS_PREFORM_TYPE $$ BOMEBARATO_CUPOM $$ GUIDED_HELP_TYPE $$ NOVO",
         "https://www.ifood.com.br/delivery/manaus-am/dimi-burgs-cidade-nova/f5c3779e-c5d2-4d08-b409-3b4eaad54faf"
        ],
        [
         "94",
         "False",
         "https://static-images.ifood.com.br/image/upload/f_auto,t_high/logosgde/c72865e2-79ba-45dd-8c9d-23eb4ada0bd0/202008101815_MlcE_i.png",
         "Japonesa",
         "10.0",
         "40",
         "11.68",
         "1302603",
         "7.0",
         "Imperio Sushi Delivery",
         "DNR $$ MPAY $$ MOVPAY_MC $$ RAM $$ MC $$ GPY_ELO $$ REC $$ RDREST $$ ELOD $$ GPY_MCMA $$ AM $$ MCMA $$ MOVPAY_AM $$ DIN $$ APL_ELOD $$ IMV $$ MOVPAY_VIS $$ GPY_ELOD $$ APL_MCMA $$ GPY_MC $$ APL_ELO $$ MOVPAY_HIPER $$ DNREST $$ APL_VISE $$ HIPER $$ IFE $$ VIS $$ RED $$ VIREST $$ VSREST $$ APL_VIS $$ MOVPAY_ELO $$ GPY_VISE $$ MOVPAY_DNR $$ VISE $$ ELO $$ APL_MC $$ MEREST $$ GPY_VIS",
         "CHEAPEST",
         "0.0",
         "ADDRESS_PREFORM_TYPE $$ GUIDED_HELP_TYPE $$ NOVO",
         "https://www.ifood.com.br/delivery/manaus-am/imperio-sushi-delivery-cidade-nova/c72865e2-79ba-45dd-8c9d-23eb4ada0bd0"
        ],
        [
         "96",
         "False",
         "https://static-images.ifood.com.br/image/upload/f_auto,t_high/logosgde/f3d4cf5f-f3e6-4e6c-87f0-e0307c9ff16e/202009141110_AaGw_i.png",
         "Lanches",
         "10.0",
         "90",
         "11.58",
         "1302603",
         "18.0",
         "Restaurante e Lanchonete Top Fast Burger",
         "DNR $$ MPAY $$ MOVPAY_MC $$ MC $$ GPY_ELO $$ ELOD $$ GPY_MCMA $$ AM $$ MCMA $$ MOVPAY_AM $$ APL_ELOD $$ IMV $$ MOVPAY_VIS $$ GPY_ELOD $$ APL_MCMA $$ GPY_MC $$ APL_ELO $$ MOVPAY_HIPER $$ APL_VISE $$ HIPER $$ IFE $$ VIS $$ APL_VIS $$ MOVPAY_ELO $$ GPY_VISE $$ MOVPAY_DNR $$ VISE $$ ELO $$ APL_MC $$ GPY_VIS",
         "CHEAPEST",
         "0.0",
         "ADDRESS_PREFORM_TYPE $$ GUIDED_HELP_TYPE $$ NOVO $$ RANKING_FASTFOODS_FEV21",
         "https://www.ifood.com.br/delivery/manaus-am/restaurante-e-lanchonete-top-fast-burger-colonia-terra-nova/f3d4cf5f-f3e6-4e6c-87f0-e0307c9ff16e"
        ],
        [
         "100",
         "False",
         "https://static-images.ifood.com.br/image/upload/f_auto,t_high/logosgde/e986b5c4-9da0-4aca-b853-e2b5cb54aa35/201910191422_lS5O_i.png",
         "Pizza",
         "20.0",
         "90",
         "1.81",
         "1302603",
         "15.0",
         "Fábrica da Pizza Delivery em Minutos",
         "DNR $$ MPAY $$ MOVPAY_MC $$ RAM $$ MC $$ GPY_ELO $$ REC $$ RDREST $$ ELOD $$ GPY_MCMA $$ AM $$ MCMA $$ MOVPAY_AM $$ DIN $$ APL_ELOD $$ IMV $$ MOVPAY_VIS $$ GPY_ELOD $$ APL_MCMA $$ GPY_MC $$ APL_ELO $$ MOVPAY_HIPER $$ DNREST $$ APL_VISE $$ HIPER $$ IFE $$ VIS $$ RED $$ VIREST $$ VSREST $$ APL_VIS $$ MOVPAY_ELO $$ GPY_VISE $$ MOVPAY_DNR $$ VISE $$ ELO $$ APL_MC $$ MEREST $$ GPY_VIS",
         "CHEAPEST",
         "0.0",
         "ADDRESS_PREFORM_TYPE $$ BF_PIZZARIASESFIHARIAS_NOV20 $$ GUIDED_HELP_TYPE $$ JAN20::TAKEOUT_20MIN $$ LONG_TAIL",
         "https://www.ifood.com.br/delivery/manaus-am/fabrica-da-pizza-delivery-em-minutos-centro/e986b5c4-9da0-4aca-b853-e2b5cb54aa35"
        ],
        [
         "103",
         "False",
         "https://static-images.ifood.com.br/image/upload/f_auto,t_high/logosgde/201910212100_48d41841-ea74-42cc-b092-847aac728dec.png",
         "Pizza",
         "15.0",
         "70",
         "13.5",
         "1302603",
         "30.0",
         "Sra. Pizza Delivery",
         "DNR $$ MPAY $$ MOVPAY_MC $$ MC $$ GPY_ELO $$ ELOD $$ GPY_MCMA $$ AM $$ MCMA $$ MOVPAY_AM $$ APL_ELOD $$ IMV $$ MOVPAY_VIS $$ GPY_ELOD $$ APL_MCMA $$ GPY_MC $$ APL_ELO $$ MOVPAY_HIPER $$ APL_VISE $$ HIPER $$ IFE $$ VIS $$ APL_VIS $$ MOVPAY_ELO $$ GPY_VISE $$ MOVPAY_DNR $$ VISE $$ ELO $$ APL_MC $$ GPY_VIS",
         "MODERATE",
         "0.0",
         "ADDRESS_PREFORM_TYPE $$ BF_PIZZARIASESFIHARIAS_NOV20 $$ GUIDED_HELP_TYPE $$ LONG_TAIL",
         "https://www.ifood.com.br/delivery/manaus-am/sra-pizza-delivery-taruma/48d41841-ea74-42cc-b092-847aac728dec"
        ],
        [
         "107",
         "False",
         "https://static-images.ifood.com.br/image/upload/f_auto,t_high/logosgde/ad46d5c2-6fda-491c-9be8-81ab92cecd33/201912051627_GGrP_i.png",
         "Sorvetes",
         "9.99",
         "65",
         "11.55",
         "1302603",
         "28.0",
         "Lolô Dindin Gourmet",
         "DNR $$ MPAY $$ MOVPAY_MC $$ MC $$ GPY_ELO $$ ELOD $$ GPY_MCMA $$ AM $$ MCMA $$ MOVPAY_AM $$ APL_ELOD $$ IMV $$ MOVPAY_VIS $$ GPY_ELOD $$ APL_MCMA $$ GPY_MC $$ APL_ELO $$ MOVPAY_HIPER $$ APL_VISE $$ HIPER $$ IFE $$ VIS $$ APL_VIS $$ MOVPAY_ELO $$ GPY_VISE $$ MOVPAY_DNR $$ VISE $$ ELO $$ APL_MC $$ GPY_VIS",
         "MODERATE",
         "0.0",
         "ADDRESS_PREFORM_TYPE $$ GUIDED_HELP_TYPE $$ JAN20::TAKEOUT_20MIN $$ LONG_TAIL $$ MAR20_CUPOM_REST_PEQ $$ ORD_AGENDAMENTO_NOV19 $$ ORD_AGENDAMENTO_NOVOS_PRATO_JAN20 $$ ORD_AGENDAMENTO_PRATO_DEZ19 $$ SORVETERIAS_SET20",
         "https://www.ifood.com.br/delivery/manaus-am/lolo-dindin-gourmet-taruma/ad46d5c2-6fda-491c-9be8-81ab92cecd33"
        ],
        [
         "113",
         "False",
         "https://static-images.ifood.com.br/image/upload/f_auto,t_high/logosgde/b7e176f7-dd48-439b-84da-608f74853448/201911021159_s1zQ_i.png",
         "Variada",
         "0.0",
         "70",
         "4.56",
         "1302603",
         "45.0",
         "Delicias Típicas Variadas",
         "DNR $$ MPAY $$ MOVPAY_MC $$ RAM $$ MC $$ GPY_ELO $$ REC $$ RDREST $$ ELOD $$ GPY_MCMA $$ AM $$ MCMA $$ MOVPAY_AM $$ DIN $$ APL_ELOD $$ IMV $$ MOVPAY_VIS $$ GPY_ELOD $$ APL_MCMA $$ GPY_MC $$ APL_ELO $$ MOVPAY_HIPER $$ DNREST $$ APL_VISE $$ HIPER $$ IFE $$ VIS $$ RED $$ VIREST $$ VSREST $$ APL_VIS $$ RHIP $$ MOVPAY_ELO $$ GPY_VISE $$ MOVPAY_DNR $$ VISE $$ ELO $$ APL_MC $$ MEREST $$ GPY_VIS",
         "EXPENSIVE",
         "0.0",
         "ADDRESS_PREFORM_TYPE $$ GUIDED_HELP_TYPE $$ LONG_TAIL",
         "https://www.ifood.com.br/delivery/manaus-am/delicias-tipicas-variadas-japiim/b7e176f7-dd48-439b-84da-608f74853448"
        ],
        [
         "130",
         "False",
         "https://static-images.ifood.com.br/image/upload/f_auto,t_high/logosgde/a2812bb2-e516-40ff-9c70-8af0de67efa9/201911301453_oSBf_i.jpg",
         "Brasileira",
         "4.0",
         "45",
         "1.01",
         "1302603",
         "75.0",
         "La Riqueiros Food",
         "DNR $$ MPAY $$ MOVPAY_MC $$ MC $$ GPY_ELO $$ RDREST $$ ELOD $$ GPY_MCMA $$ AM $$ MCMA $$ MOVPAY_AM $$ DIN $$ APL_ELOD $$ IMV $$ MOVPAY_VIS $$ GPY_ELOD $$ APL_MCMA $$ GPY_MC $$ APL_ELO $$ MOVPAY_HIPER $$ APL_VISE $$ HIPER $$ IFE $$ VIS $$ RED $$ VIREST $$ VSREST $$ APL_VIS $$ MOVPAY_ELO $$ GPY_VISE $$ MOVPAY_DNR $$ VISE $$ ELO $$ APL_MC $$ MEREST $$ GPY_VIS",
         "CHEAPEST",
         "0.0",
         "ADDRESS_PREFORM_TYPE $$ CART::MCHT::TAXA_MIN_V0_AOV_35_REST_100 $$ CPGN_USER_DISCOUNT_6_LIST $$ CPGN_USER_DISCOUNT_BR_LIST $$ GUIDED_HELP_TYPE $$ LONG_TAIL $$ LOYALTY_CARD_3",
         "https://www.ifood.com.br/delivery/manaus-am/la-riqueiros-food-praca-14-de-janeiro/a2812bb2-e516-40ff-9c70-8af0de67efa9"
        ],
        [
         "133",
         "False",
         "https://static-images.ifood.com.br/image/upload/f_auto,t_high/logosgde/68ab023e-30b1-4ab1-9318-a60d18b95548/202002131114_YENb_.jpeg",
         "Lanches",
         "20.0",
         "65",
         "8.42",
         "1302603",
         "25.0",
         "Hamburgueria Steak Manaus",
         "DNR $$ MPAY $$ MOVPAY_MC $$ MC $$ GPY_ELO $$ ELOD $$ GPY_MCMA $$ AM $$ MCMA $$ MOVPAY_AM $$ APL_ELOD $$ IMV $$ MOVPAY_VIS $$ GPY_ELOD $$ APL_MCMA $$ GPY_MC $$ APL_ELO $$ MOVPAY_HIPER $$ APL_VISE $$ HIPER $$ IFE $$ VIS $$ APL_VIS $$ MOVPAY_ELO $$ GPY_VISE $$ MOVPAY_DNR $$ VISE $$ ELO $$ APL_MC $$ GPY_VIS",
         "CHEAPEST",
         "0.0",
         "ADDRESS_PREFORM_TYPE $$ BOMEBARATO_CUPOM $$ CPGN_USER_DISCOUNT_BR_LIST $$ GUIDED_HELP_TYPE $$ HAMBURGUER_TAXA_GRATIS $$ JETSKI_BURGER_20AGO $$ jetski_burger_ago20 $$ LONG_TAIL $$ NOVO_BOM_BARATO_JUN20 $$ ORD_AGENDAMENTO_NOV19 $$ ORD_AGENDAMENTO_NOVOS_PRATO_JAN20 $$ RANKING_FASTFOODS_FEV21",
         "https://www.ifood.com.br/delivery/manaus-am/hamburgueria-steak-manaus-flores/68ab023e-30b1-4ab1-9318-a60d18b95548"
        ],
        [
         "150",
         "False",
         "https://static-images.ifood.com.br/image/upload/f_auto,t_high/logosgde/38b14dd1-083f-4d7b-b355-c11abeaa9c51/202001071141_4zJE_.jpeg",
         "Pizza",
         "12.0",
         "50",
         "10.15",
         "1302603",
         "0.0",
         "Luh Gourmet Delivery",
         "DNR $$ MPAY $$ MOVPAY_MC $$ MC $$ GPY_ELO $$ ELOD $$ GPY_MCMA $$ AM $$ MCMA $$ MOVPAY_AM $$ APL_ELOD $$ IMV $$ MOVPAY_VIS $$ GPY_ELOD $$ APL_MCMA $$ GPY_MC $$ APL_ELO $$ MOVPAY_HIPER $$ APL_VISE $$ HIPER $$ IFE $$ VIS $$ APL_VIS $$ MOVPAY_ELO $$ GPY_VISE $$ MOVPAY_DNR $$ VISE $$ ELO $$ APL_MC $$ GPY_VIS",
         "MODERATE",
         "0.0",
         "ADDRESS_PREFORM_TYPE $$ BF_PIZZARIASESFIHARIAS_NOV20 $$ GUIDED_HELP_TYPE $$ LONG_TAIL",
         "https://www.ifood.com.br/delivery/manaus-am/luh-gourmet-delivery-novo-aleixo/38b14dd1-083f-4d7b-b355-c11abeaa9c51"
        ],
        [
         "162",
         "False",
         "https://static-images.ifood.com.br/image/upload/f_auto,t_high/logosgde/9247d65b-e5c1-409e-888c-3268744b9959/202006031646_QBTv_i.png",
         "Peixes",
         "10.0",
         "60",
         "3.72",
         "1302603",
         "55.0",
         "Peixaria Tambaqui do Norte",
         "DNR $$ MPAY $$ MOVPAY_MC $$ RAM $$ MC $$ GPY_ELO $$ REC $$ RDREST $$ ELOD $$ GPY_MCMA $$ AM $$ MCMA $$ MOVPAY_AM $$ DIN $$ APL_ELOD $$ IMV $$ MOVPAY_VIS $$ GPY_ELOD $$ APL_MCMA $$ GPY_MC $$ APL_ELO $$ MOVPAY_HIPER $$ DNREST $$ APL_VISE $$ HIPER $$ IFE $$ VIS $$ RED $$ VIREST $$ VSREST $$ APL_VIS $$ MOVPAY_ELO $$ GPY_VISE $$ MOVPAY_DNR $$ VISE $$ ELO $$ APL_MC $$ MEREST $$ GPY_VIS",
         "EXPENSIVE",
         "0.0",
         "ADDRESS_PREFORM_TYPE $$ GUIDED_HELP_TYPE $$ LONG_TAIL $$ LOYALTY_CARD_5",
         "https://www.ifood.com.br/delivery/manaus-am/peixaria-tambaqui-do-norte-petropolis/9247d65b-e5c1-409e-888c-3268744b9959"
        ],
        [
         "181",
         "False",
         "https://static-images.ifood.com.br/image/upload/f_auto,t_high/logosgde/f10ea3ab-9541-45e2-a99e-34995902753b/202003031120_I6BV_i.png",
         "Doces & Bolos",
         "9.97",
         "69",
         "11.55",
         "1302603",
         "20.0",
         "Bolo no Pote Doce Mania",
         "DNR $$ MPAY $$ MOVPAY_MC $$ MC $$ GPY_ELO $$ ELOD $$ GPY_MCMA $$ AM $$ MCMA $$ MOVPAY_AM $$ APL_ELOD $$ IMV $$ MOVPAY_VIS $$ GPY_ELOD $$ APL_MCMA $$ GPY_MC $$ APL_ELO $$ MOVPAY_HIPER $$ APL_VISE $$ HIPER $$ IFE $$ VIS $$ APL_VIS $$ MOVPAY_ELO $$ GPY_VISE $$ MOVPAY_DNR $$ VISE $$ ELO $$ APL_MC $$ GPY_VIS",
         "CHEAP",
         "0.0",
         "ADDRESS_PREFORM_TYPE $$ GUIDED_HELP_TYPE $$ MESDODOCE_FIDELIDADE_DEZ20  $$ NOVO",
         "https://www.ifood.com.br/delivery/manaus-am/bolo-no-pote-doce-mania-taruma/f10ea3ab-9541-45e2-a99e-34995902753b"
        ],
        [
         "188",
         "False",
         "https://static-images.ifood.com.br/image/upload/f_auto,t_high/logosgde/9afd2278-8632-40f6-ae3c-8483f9f54eb8/202003221703_d3DT_i.png",
         "Lanches",
         "10.0",
         "100",
         "9.98",
         "1302603",
         "0.0",
         "Sir. Batata",
         "DNR $$ MPAY $$ MOVPAY_MC $$ MC $$ GPY_ELO $$ REC $$ RDREST $$ ELOD $$ GPY_MCMA $$ AM $$ MCMA $$ MOVPAY_AM $$ DIN $$ APL_ELOD $$ IMV $$ MOVPAY_VIS $$ GPY_ELOD $$ APL_MCMA $$ GPY_MC $$ APL_ELO $$ MOVPAY_HIPER $$ APL_VISE $$ HIPER $$ IFE $$ VIS $$ RED $$ VIREST $$ VSREST $$ APL_VIS $$ MOVPAY_ELO $$ GPY_VISE $$ MOVPAY_DNR $$ VISE $$ ELO $$ APL_MC $$ MEREST $$ GPY_VIS",
         "CHEAP",
         "0.0",
         "ADDRESS_PREFORM_TYPE $$ BOMEBARATO_CUPOM $$ GUIDED_HELP_TYPE $$ HAMBURGUER_TAXA_GRATIS $$ LOYALTY_CARD_5 $$ NOVO $$ RANKING_FASTFOODS_FEV21",
         "https://www.ifood.com.br/delivery/manaus-am/sir-batata-cidade-nova/9afd2278-8632-40f6-ae3c-8483f9f54eb8"
        ],
        [
         "227",
         "False",
         "https://static-images.ifood.com.br/image/upload/f_auto,t_high/logosgde/b4430fe1-a6e0-4c22-a9b6-228c981fe5f8/202009080159_Sbu4_i.png",
         "Mercado",
         "0.0",
         "80",
         "7.29",
         "2304400",
         "39.0",
         "Sr. Pet Shop",
         "DNR $$ MPAY $$ MOVPAY_MC $$ RAM $$ MC $$ GPY_ELO $$ REC $$ RDREST $$ ELOD $$ GPY_MCMA $$ AM $$ MCMA $$ MOVPAY_AM $$ DIN $$ APL_ELOD $$ IMV $$ BANRD $$ MOVPAY_VIS $$ GPY_ELOD $$ APL_MCMA $$ GPY_MC $$ APL_ELO $$ MOVPAY_HIPER $$ DNREST $$ APL_VISE $$ HIPER $$ IFE $$ VIS $$ RED $$ VIREST $$ VSREST $$ BANRC $$ APL_VIS $$ RHIP $$ MOVPAY_ELO $$ GPY_VISE $$ MOVPAY_DNR $$ VISE $$ ELO $$ APL_MC $$ MEREST $$ GPY_VIS",
         "CHEAP",
         "0.0",
         "ADDRESS_PREFORM_TYPE $$ BOMEBARATO_CUPOM $$ CPGN_USER_DISCOUNT_5_LIST $$ CPGN_USER_DISCOUNT_BR_LIST $$ GUIDED_HELP_TYPE $$ JETSKI_BURGER_20AGO $$ jetski_burger_ago20 $$ LONG_TAIL $$ MARKET $$ NOVO_ABB_JUL20_V1 $$ NOVO_BOM_BARATO_JUN20 $$ VERAO_BEBIDAS_DEZ20",
         "https://www.ifood.com.br/delivery/fortaleza-ce/sr-pet-shop-alto-da-balanca/b4430fe1-a6e0-4c22-a9b6-228c981fe5f8"
        ],
        [
         "330",
         "False",
         "https://static-images.ifood.com.br/image/upload/f_auto,t_high/logosgde/8e6111b1-7f53-4d14-b128-45644ea3ee56/202010252051_8gcd_i.png",
         "Saudável",
         "12.0",
         "120",
         "4.89",
         "3304557",
         "120.0",
         "LIFE FIT",
         "DNR $$ MPAY $$ MOVPAY_MC $$ RAM $$ MC $$ GPY_ELO $$ REC $$ RDREST $$ ELOD $$ GPY_MCMA $$ AM $$ NUGO $$ MCMA $$ MOVPAY_AM $$ DIN $$ APL_ELOD $$ IMV $$ BANRD $$ MOVPAY_VIS $$ GPY_ELOD $$ APL_MCMA $$ GPY_MC $$ APL_ELO $$ MOVPAY_HIPER $$ DNREST $$ APL_VISE $$ HIPER $$ IFE $$ VIS $$ VVREST $$ RED $$ VIREST $$ VSREST $$ BANRC $$ APL_VIS $$ RHIP $$ MOVPAY_ELO $$ GPY_VISE $$ MOVPAY_DNR $$ VISE $$ VERDEC $$ ELO $$ APL_MC $$ MEREST $$ GPY_VIS $$ GOODC",
         "EXPENSIVE",
         "0.0",
         "ADDRESS_PREFORM_TYPE $$ FIDELIDADE_SAUDAVEIS_DEZ20 $$ GUIDED_HELP_TYPE $$ NOVO $$ RANKING_SAUDAVEIS_DEZ20",
         "https://www.ifood.com.br/delivery/rio-de-janeiro-rj/life-fit-humaita/8e6111b1-7f53-4d14-b128-45644ea3ee56"
        ],
        [
         "360",
         "False",
         "https://static-images.ifood.com.br/image/upload/f_auto,t_high/logosgde/ca9270f2-942e-47cd-bbb9-044bc9b26471/202007062004_QKUl_i.jpg",
         "Japonesa",
         "0.0",
         "30",
         "10.02",
         "3304557",
         "26.9",
         "Loucos Por Lanches 🍔🍟🌭🥓🥣🍰🍴",
         "DNR $$ MPAY $$ MOVPAY_MC $$ RAM $$ MC $$ GPY_ELO $$ REC $$ RDREST $$ ELOD $$ GPY_MCMA $$ AM $$ MCMA $$ MOVPAY_AM $$ DIN $$ APL_ELOD $$ IMV $$ MOVPAY_VIS $$ GPY_ELOD $$ APL_MCMA $$ GPY_MC $$ APL_ELO $$ MOVPAY_HIPER $$ DNREST $$ APL_VISE $$ HIPER $$ IFE $$ BENVVR $$ VIS $$ RSODEX $$ VVREST $$ RED $$ VIREST $$ VR_SMA $$ VSREST $$ APL_VIS $$ RHIP $$ MOVPAY_ELO $$ GPY_VISE $$ MOVPAY_DNR $$ VISE $$ ELO $$ APL_MC $$ MEREST $$ GPY_VIS",
         "CHEAPEST",
         "0.0",
         "ADDRESS_PREFORM_TYPE $$ CPGN_USER_DISCOUNT_BR_LIST $$ GUIDED_HELP_TYPE $$ NOVO",
         "https://www.ifood.com.br/delivery/rio-de-janeiro-rj/loucos-por-lanches--engenho-de-dentro/ca9270f2-942e-47cd-bbb9-044bc9b26471"
        ],
        [
         "377",
         "False",
         "https://static-images.ifood.com.br/image/upload/f_auto,t_high/logosgde/0e7fd43c-4d5d-42b9-be1a-124919286a8b/202007311803_3utA_i.png",
         "Mercado",
         "9.99",
         "120",
         "7.88",
         "4314902",
         "40.0",
         "Feira em Casa (poa)",
         "DNR $$ MPAY $$ MOVPAY_MC $$ MC $$ GPY_ELO $$ ELOD $$ GPY_MCMA $$ AM $$ MCMA $$ MOVPAY_AM $$ APL_ELOD $$ IMV $$ MOVPAY_VIS $$ GPY_ELOD $$ APL_MCMA $$ GPY_MC $$ APL_ELO $$ MOVPAY_HIPER $$ APL_VISE $$ HIPER $$ IFE $$ VIS $$ APL_VIS $$ MOVPAY_ELO $$ GPY_VISE $$ MOVPAY_DNR $$ VISE $$ ELO $$ APL_MC $$ GPY_VIS",
         "CHEAPEST",
         "0.0",
         "ADDRESS_PREFORM_TYPE $$ GUIDED_HELP_TYPE $$ LONG_TAIL $$ MARKET $$ MER_ENTREGAAGORA_NOV20 $$ PRATOS_VEGETARIANOS_FEV21 $$ VERAO_BEBIDAS_DEZ20",
         "https://www.ifood.com.br/delivery/porto-alegre-rs/feira-em-casa-poa-sarandi/0e7fd43c-4d5d-42b9-be1a-124919286a8b"
        ],
        [
         "418",
         "False",
         "https://static-images.ifood.com.br/image/upload/f_auto,t_high/logosgde/d6066658-49fd-4061-86b4-99bee1ee1ed5/202006082023_ZuMp_i.jpg",
         "Pizza",
         "15.0",
         "50",
         "5.23",
         "3106200",
         "45.0",
         "Pizzaria Silva e Salgados",
         "DNR $$ MPAY $$ MOVPAY_MC $$ RAM $$ MC $$ GPY_ELO $$ REC $$ RDREST $$ ELOD $$ GPY_MCMA $$ CHE $$ AM $$ NUGO $$ MCMA $$ MOVPAY_AM $$ DIN $$ APL_ELOD $$ IMV $$ BANRD $$ MOVPAY_VIS $$ GPY_ELOD $$ APL_MCMA $$ GPY_MC $$ APL_ELO $$ MOVPAY_HIPER $$ DNREST $$ APL_VISE $$ HIPER $$ IFE $$ VIS $$ VVREST $$ RED $$ VIREST $$ VSREST $$ BANRC $$ APL_VIS $$ RHIP $$ MOVPAY_ELO $$ GPY_VISE $$ MOVPAY_DNR $$ VISE $$ VERDEC $$ ELO $$ APL_MC $$ MEREST $$ GPY_VIS $$ GOODC",
         "CHEAPEST",
         "0.0",
         "ADDRESS_PREFORM_TYPE $$ BF_PIZZARIASESFIHARIAS_NOV20 $$ CPGN_USER_DISCOUNT_BR_LIST $$ GUIDED_HELP_TYPE $$ JETSKI_PIZZA_20AGO $$ jetski_pizza_ago20 $$ LONG_TAIL $$ PIZZA_JANTAR_BB $$ PIZZARIA_TAXA_GRATIS $$ PRATOS_VEGETARIANOS_FEV21",
         "https://www.ifood.com.br/delivery/belo-horizonte-mg/pizzaria-silva-e-salgados-grajau/d6066658-49fd-4061-86b4-99bee1ee1ed5"
        ],
        [
         "491",
         "False",
         "https://static-images.ifood.com.br/image/upload/f_auto,t_high/logosgde/73be422c-7d44-425a-a19d-4521a55d2cbd/202005020114_bxpb_i.png",
         "Doces & Bolos",
         "10.0",
         "100",
         "12.12",
         "3106200",
         "20.0",
         "Tória Doceria",
         "DNR $$ MPAY $$ MOVPAY_MC $$ MC $$ GPY_ELO $$ RDREST $$ ELOD $$ GPY_MCMA $$ AM $$ MCMA $$ MOVPAY_AM $$ DIN $$ APL_ELOD $$ IMV $$ MOVPAY_VIS $$ GPY_ELOD $$ APL_MCMA $$ GPY_MC $$ APL_ELO $$ MOVPAY_HIPER $$ APL_VISE $$ HIPER $$ IFE $$ VIS $$ RED $$ VIREST $$ VSREST $$ APL_VIS $$ MOVPAY_ELO $$ GPY_VISE $$ MOVPAY_DNR $$ VISE $$ ELO $$ APL_MC $$ MEREST $$ GPY_VIS",
         "CHEAPEST",
         "0.0",
         "ADDRESS_PREFORM_TYPE $$ GUIDED_HELP_TYPE $$ MESDODOCE_FIDELIDADE_DEZ20  $$ NOVO",
         "https://www.ifood.com.br/delivery/belo-horizonte-mg/toria-doceria-serra-verde-venda-nova/73be422c-7d44-425a-a19d-4521a55d2cbd"
        ],
        [
         "560",
         "False",
         "https://static-images.ifood.com.br/image/upload/f_auto,t_high/logosgde/26c6310d-b75e-4193-afcc-cf1d771ea71e/202007271545_WxfX_i.png",
         "Lanches",
         "9.0",
         "100",
         "12.51",
         "3509502",
         "20.0",
         "Do Phone Pra Fome",
         "DNR $$ MPAY $$ MOVPAY_MC $$ MC $$ GPY_ELO $$ RDREST $$ ELOD $$ GPY_MCMA $$ AM $$ MCMA $$ MOVPAY_AM $$ DIN $$ APL_ELOD $$ IMV $$ MOVPAY_VIS $$ GPY_ELOD $$ APL_MCMA $$ GPY_MC $$ APL_ELO $$ MOVPAY_HIPER $$ APL_VISE $$ HIPER $$ IFE $$ VIS $$ RED $$ VIREST $$ VSREST $$ APL_VIS $$ MOVPAY_ELO $$ GPY_VISE $$ MOVPAY_DNR $$ VISE $$ ELO $$ APL_MC $$ MEREST $$ GPY_VIS",
         "CHEAPEST",
         "0.0",
         "ADDRESS_PREFORM_TYPE $$ CPGN_USER_DISCOUNT_5_LIST $$ GUIDED_HELP_TYPE $$ NOVO $$ RANKING_FASTFOODS_FEV21 $$ RESTAURANTE VOUCHER5 GUARANA $$ SOPAS_AGO20",
         "https://www.ifood.com.br/delivery/campinas-sp/do-phone-pra-fome-loteamento-residencial-novo-mundo/26c6310d-b75e-4193-afcc-cf1d771ea71e"
        ],
        [
         "566",
         "False",
         "https://static-images.ifood.com.br/image/upload/f_auto,t_high/logosgde/d7c0774e-33ac-4bf2-b59a-75c79fe8e242/202008191005_LBN4_i.jpg",
         "Doces & Bolos",
         "15.0",
         "90",
         "10.5",
         "3509502",
         "5.0",
         "Gislaine Kit Festa II",
         "DNR $$ MPAY $$ MOVPAY_MC $$ RAM $$ MC $$ GPY_ELO $$ RDREST $$ ELOD $$ GPY_MCMA $$ AM $$ MCMA $$ MOVPAY_AM $$ DIN $$ APL_ELOD $$ IMV $$ MOVPAY_VIS $$ GPY_ELOD $$ APL_MCMA $$ GPY_MC $$ APL_ELO $$ MOVPAY_HIPER $$ APL_VISE $$ HIPER $$ IFE $$ VIS $$ RSODEX $$ VVREST $$ RED $$ VIREST $$ VSREST $$ APL_VIS $$ RHIP $$ MOVPAY_ELO $$ GPY_VISE $$ MOVPAY_DNR $$ VISE $$ ELO $$ APL_MC $$ MEREST $$ GPY_VIS",
         "CHEAPEST",
         "0.0",
         "ADDRESS_PREFORM_TYPE $$ GUIDED_HELP_TYPE $$ MESDODOCE_FIDELIDADE_DEZ20  $$ NOVO $$ PRATOS_VEGETARIANOS_FEV21",
         "https://www.ifood.com.br/delivery/campinas-sp/gislaine-kit-festa-ii-parque-vista-alegre/d7c0774e-33ac-4bf2-b59a-75c79fe8e242"
        ],
        [
         "569",
         "False",
         "https://static-images.ifood.com.br/image/upload/f_auto,t_high/logosgde/c3b8c972-5594-4727-b161-9d0811405d3a/202011030949_rSmJ_i.jpg",
         "Doces & Bolos",
         "4.99",
         "120",
         "8.05",
         "3509502",
         "40.0",
         "Quitandeiro’s Feira Delivery",
         "DNR $$ MPAY $$ MOVPAY_MC $$ MC $$ GPY_ELO $$ ELOD $$ GPY_MCMA $$ AM $$ MCMA $$ MOVPAY_AM $$ DIN $$ APL_ELOD $$ IMV $$ MOVPAY_VIS $$ GPY_ELOD $$ APL_MCMA $$ GPY_MC $$ APL_ELO $$ MOVPAY_HIPER $$ APL_VISE $$ HIPER $$ IFE $$ VIS $$ APL_VIS $$ MOVPAY_ELO $$ GPY_VISE $$ MOVPAY_DNR $$ VISE $$ ELO $$ APL_MC $$ GPY_VIS",
         "CHEAPEST",
         "0.0",
         "ADDRESS_PREFORM_TYPE $$ CPGN_USER_DISCOUNT_BR_LIST $$ GUIDED_HELP_TYPE $$ NOVO",
         "https://www.ifood.com.br/delivery/campinas-sp/quitandeiros-feira-delivery-cidade-satelite-iris/c3b8c972-5594-4727-b161-9d0811405d3a"
        ],
        [
         "600",
         "False",
         "https://static-images.ifood.com.br/image/upload/f_auto,t_high/logosgde/c40107d0-be0a-4564-a3eb-d60bd2097553/202006241933_vCCy_i.jpg",
         "Hambúrguer",
         "11.99",
         "110",
         "9.05",
         "3304904",
         "10.0",
         "Nalu Lanches",
         "DNR $$ MPAY $$ MOVPAY_MC $$ MC $$ GPY_ELO $$ REC $$ RDREST $$ ELOD $$ GPY_MCMA $$ AM $$ MCMA $$ MOVPAY_AM $$ DIN $$ APL_ELOD $$ IMV $$ MOVPAY_VIS $$ GPY_ELOD $$ APL_MCMA $$ GPY_MC $$ APL_ELO $$ MOVPAY_HIPER $$ APL_VISE $$ HIPER $$ IFE $$ VIS $$ RED $$ VIREST $$ VSREST $$ APL_VIS $$ MOVPAY_ELO $$ GPY_VISE $$ MOVPAY_DNR $$ VISE $$ ELO $$ APL_MC $$ MEREST $$ GPY_VIS",
         "CHEAPEST",
         "0.0",
         "ADDRESS_PREFORM_TYPE $$ BOMEBARATO_CUPOM $$ GUIDED_HELP_TYPE $$ NOVO $$ NOVO_ABB_JUL20_V1 $$ NOVO_BOM_BARATO_JUN20",
         "https://www.ifood.com.br/delivery/sao-goncalo-rj/nalu-lanches-laranjal/c40107d0-be0a-4564-a3eb-d60bd2097553"
        ],
        [
         "667",
         "False",
         "https://static-images.ifood.com.br/image/upload/f_auto,t_high/logosgde/59d0d938-a4a3-42a6-b618-144d30e56020/202001101233_rueE_i.jpg",
         "Congelados",
         "6.9",
         "36",
         "221.34",
         "3509502",
         "10.0",
         "Mamamia",
         "DNR $$ MPAY $$ MOVPAY_MC $$ MC $$ GPY_ELO $$ ELOD $$ GPY_MCMA $$ AM $$ MCMA $$ MOVPAY_AM $$ APL_ELOD $$ IMV $$ MEREST $$ MOVPAY_VIS $$ GPY_ELOD $$ APL_MCMA $$ GPY_MC $$ APL_ELO $$ MOVPAY_HIPER $$ APL_VISE $$ VSREST $$ HIPER $$ RDREST $$ IFE $$ VIS $$ APL_VIS $$ MOVPAY_ELO $$ GPY_VISE $$ MOVPAY_DNR $$ VISE $$ VIREST $$ ELO $$ APL_MC $$ GPY_VIS",
         "CHEAP",
         "0.0",
         "ADDRESS_PREFORM_TYPE $$ GUIDED_HELP_TYPE $$ LONG_TAIL",
         "https://www.ifood.com.br/delivery/ibitinga-sp/mamamia-centro/59d0d938-a4a3-42a6-b618-144d30e56020"
        ],
        [
         "669",
         "False",
         "https://static-images.ifood.com.br/image/upload/f_auto,t_high/logosgde/29375d9e-f120-446c-a8cb-ba40cb634961/201910021807_PQYL_i.png",
         "Pizza",
         "18.0",
         "100",
         "8.28",
         "3509502",
         "0.0",
         "Pit Caseiro",
         "DNR $$ MPAY $$ MOVPAY_MC $$ MC $$ GPY_ELO $$ ELOD $$ GPY_MCMA $$ AM $$ MCMA $$ MOVPAY_AM $$ APL_ELOD $$ IMV $$ MOVPAY_VIS $$ GPY_ELOD $$ APL_MCMA $$ GPY_MC $$ APL_ELO $$ MOVPAY_HIPER $$ APL_VISE $$ HIPER $$ IFE $$ VIS $$ APL_VIS $$ MOVPAY_ELO $$ GPY_VISE $$ MOVPAY_DNR $$ VISE $$ ELO $$ APL_MC $$ GPY_VIS",
         "CHEAP",
         "0.0",
         "ADDRESS_PREFORM_TYPE $$ BF_PIZZARIASESFIHARIAS_NOV20 $$ GUIDED_HELP_TYPE $$ LONG_TAIL",
         "https://www.ifood.com.br/delivery/campinas-sp/pit-caseiro-cidade-satelite-iris/29375d9e-f120-446c-a8cb-ba40cb634961"
        ],
        [
         "678",
         "False",
         "https://static-images.ifood.com.br/image/upload/f_auto,t_high/logosgde/0f5dcb22-3965-44cb-8e2a-1ad498288b32/202004301030_emP4_i.png",
         "Marmita",
         "9.0",
         "100",
         "7.37",
         "3509502",
         "15.0",
         "Restaurante Alecrim",
         "DNR $$ MPAY $$ MOVPAY_MC $$ MC $$ GPY_ELO $$ RDREST $$ ELOD $$ GPY_MCMA $$ AM $$ MCMA $$ MOVPAY_AM $$ DIN $$ APL_ELOD $$ IMV $$ MOVPAY_VIS $$ GPY_ELOD $$ TRE $$ APL_MCMA $$ GPY_MC $$ APL_ELO $$ MOVPAY_HIPER $$ APL_VISE $$ HIPER $$ IFE $$ VIS $$ RSODEX $$ VVREST $$ RED $$ VIREST $$ VSREST $$ APL_VIS $$ MOVPAY_ELO $$ GPY_VISE $$ MOVPAY_DNR $$ VISE $$ ELO $$ APL_MC $$ MEREST $$ GPY_VIS",
         "CHEAPEST",
         "0.0",
         "ADDRESS_PREFORM_TYPE $$ GUIDED_HELP_TYPE $$ MARMITA_GRU_15 $$ MARMITA_GRU_20 $$ MARMITA_GRU_CARNE $$ MARMITA_GRU_FRANGO $$ MARMITA_GRU_MAIS $$ NOVO",
         "https://www.ifood.com.br/delivery/campinas-sp/restaurante-alecrim-parque-via-norte/0f5dcb22-3965-44cb-8e2a-1ad498288b32"
        ],
        [
         "701",
         "False",
         "https://static-images.ifood.com.br/image/upload/f_auto,t_high/logosgde/170efcf9-6647-4ad8-b028-b43d6e289eec/201912181514_bdmj_i.jpg",
         "Lanches",
         "15.0",
         "60",
         "10.99",
         "3509502",
         "0.0",
         "Cafe no Ponto Lanches e Salgados",
         "DNR $$ MPAY $$ MOVPAY_MC $$ RAM $$ MC $$ GPY_ELO $$ REC $$ RDREST $$ ELOD $$ GPY_MCMA $$ AM $$ MCMA $$ MOVPAY_AM $$ DIN $$ APL_ELOD $$ IMV $$ MOVPAY_VIS $$ GPY_ELOD $$ APL_MCMA $$ GPY_MC $$ APL_ELO $$ MOVPAY_HIPER $$ APL_VISE $$ HIPER $$ IFE $$ VIS $$ RED $$ VIREST $$ VSREST $$ APL_VIS $$ RHIP $$ MOVPAY_ELO $$ GPY_VISE $$ MOVPAY_DNR $$ VISE $$ ELO $$ APL_MC $$ MEREST $$ GPY_VIS",
         "CHEAPEST",
         "0.0",
         "ADDRESS_PREFORM_TYPE $$ GUIDED_HELP_TYPE $$ HAMBURGUER_TAXA_GRATIS $$ LONG_TAIL $$ MAR20_CUPOM_REST_PEQ $$ MKT_PDIVIDIR_MAR20 $$ RANKING_FASTFOODS_FEV21",
         "https://www.ifood.com.br/delivery/hortolandia-sp/cafe-no-ponto-lanches-e-salgados-jardim-nova-america/170efcf9-6647-4ad8-b028-b43d6e289eec"
        ],
        [
         "706",
         "False",
         "https://static-images.ifood.com.br/image/upload/f_auto,t_high/logosgde/065359b2-8803-4718-b45e-f62eb98bb808/201910212019_yQgt_.jpeg",
         "Lanches",
         "4.99",
         "30",
         "19.71",
         "3509502",
         "20.0",
         "Rafa's Dog",
         "DNR $$ MPAY $$ MOVPAY_MC $$ MC $$ GPY_ELO $$ ELOD $$ GPY_MCMA $$ AM $$ MCMA $$ MOVPAY_AM $$ APL_ELOD $$ IMV $$ MEREST $$ MOVPAY_VIS $$ GPY_ELOD $$ APL_MCMA $$ GPY_MC $$ APL_ELO $$ MOVPAY_HIPER $$ APL_VISE $$ VSREST $$ HIPER $$ RDREST $$ IFE $$ VIS $$ APL_VIS $$ MOVPAY_ELO $$ GPY_VISE $$ MOVPAY_DNR $$ VISE $$ VIREST $$ ELO $$ APL_MC $$ GPY_VIS",
         "CHEAP",
         "0.0",
         "ADDRESS_PREFORM_TYPE $$ CRM_20200109_TOGO_TAG $$ GUIDED_HELP_TYPE $$ HAMBURGUER_TAXA_GRATIS $$ JAN20::TAKEOUT_20MIN $$ LONG_TAIL $$ RANKING_FASTFOODS_FEV21",
         "https://www.ifood.com.br/delivery/monte-mor-sp/rafas-dog-jardim-nova-alvorada/065359b2-8803-4718-b45e-f62eb98bb808"
        ],
        [
         "721",
         "False",
         "https://static-images.ifood.com.br/image/upload/f_auto,t_high/logosgde/03a0553d-025e-4d82-915d-36b95d4e7b67/202005281609_g3Oo_.jpeg",
         "Lanches",
         "8.0",
         "80",
         "10.58",
         "3509502",
         "20.0",
         "Deguste",
         "DNR $$ MPAY $$ MOVPAY_MC $$ MC $$ GPY_ELO $$ ELOD $$ GPY_MCMA $$ AM $$ MCMA $$ MOVPAY_AM $$ APL_ELOD $$ IMV $$ MOVPAY_VIS $$ GPY_ELOD $$ APL_MCMA $$ GPY_MC $$ APL_ELO $$ MOVPAY_HIPER $$ APL_VISE $$ HIPER $$ IFE $$ VIS $$ APL_VIS $$ MOVPAY_ELO $$ GPY_VISE $$ MOVPAY_DNR $$ VISE $$ ELO $$ APL_MC $$ GPY_VIS",
         "CHEAPEST",
         "0.0",
         "ADDRESS_PREFORM_TYPE $$ BOMEBARATO_CUPOM $$ GUIDED_HELP_TYPE $$ HAMBURGUER_TAXA_GRATIS $$ JETSKI_BURGER_20AGO $$ jetski_burger_ago20 $$ NOVO $$ NOVO_ABB_JUL20_V1 $$ NOVO_BOM_BARATO_JUN20 $$ RANKING_FASTFOODS_FEV21",
         "https://www.ifood.com.br/delivery/valinhos-sp/deguste-jardim-pinheiros/03a0553d-025e-4d82-915d-36b95d4e7b67"
        ],
        [
         "727",
         "False",
         "https://static-images.ifood.com.br/image/upload/f_auto,t_high/logosgde/202005081930_be362cf3-9f26-46f6-9608-ec8efa264aba.png",
         "Lanches",
         "12.0",
         "120",
         "11.23",
         "3509502",
         "0.0",
         "Sustenta Burguer",
         "DNR $$ MPAY $$ MOVPAY_MC $$ RAM $$ MC $$ GPY_ELO $$ REC $$ RDREST $$ ELOD $$ GPY_MCMA $$ AM $$ NUGO $$ MCMA $$ MOVPAY_AM $$ DIN $$ APL_ELOD $$ IMV $$ BANRD $$ MOVPAY_VIS $$ GPY_ELOD $$ APL_MCMA $$ GPY_MC $$ APL_ELO $$ MOVPAY_HIPER $$ DNREST $$ APL_VISE $$ HIPER $$ IFE $$ VIS $$ VVREST $$ RED $$ VIREST $$ VSREST $$ BANRC $$ APL_VIS $$ RHIP $$ MOVPAY_ELO $$ GPY_VISE $$ MOVPAY_DNR $$ VISE $$ VERDEC $$ ELO $$ APL_MC $$ MEREST $$ GPY_VIS $$ GOODC",
         "CHEAPEST",
         "0.0",
         "ADDRESS_PREFORM_TYPE $$ GUIDED_HELP_TYPE $$ HAMBURGUER_TAXA_GRATIS $$ JETSKI_BURGER_20AGO $$ jetski_burger_ago20 $$ NOVO $$ RANKING_FASTFOODS_FEV21",
         "https://www.ifood.com.br/delivery/campinas-sp/sustenta-burguer-jardim-santo-antonio/be362cf3-9f26-46f6-9608-ec8efa264aba"
        ],
        [
         "746",
         "False",
         "https://static-images.ifood.com.br/image/upload/f_auto,t_high/logosgde/c821f164-8f61-432c-bad1-b093ea0dcc1f/202007020237_GIYa_i.png",
         "Bebidas",
         "5.0",
         "120",
         "4.4",
         "3509502",
         "35.0",
         "Varejão Campinas",
         "DNR $$ MPAY $$ MOVPAY_MC $$ MC $$ GPY_ELO $$ REC $$ RDREST $$ ELOD $$ GPY_MCMA $$ AM $$ MCMA $$ MOVPAY_AM $$ DIN $$ APL_ELOD $$ IMV $$ MOVPAY_VIS $$ GPY_ELOD $$ APL_MCMA $$ GPY_MC $$ APL_ELO $$ MOVPAY_HIPER $$ DNREST $$ APL_VISE $$ HIPER $$ IFE $$ VIS $$ RED $$ VIREST $$ VSREST $$ APL_VIS $$ RHIP $$ MOVPAY_ELO $$ GPY_VISE $$ MOVPAY_DNR $$ VISE $$ ELO $$ APL_MC $$ MEREST $$ GPY_VIS",
         "EXPENSIVE",
         "0.0",
         "ADDRESS_PREFORM_TYPE $$ GUIDED_HELP_TYPE $$ HAMBURGUER_TAXA_GRATIS $$ LONG_TAIL $$ MER_FESTIVAL_CHOCOLATE_2020 $$ MER_NATAL_AVES_DEZ20 $$ MER_NATAL_REFRISUCO_DEZ20 $$ VERAO_BEBIDAS_DEZ20",
         "https://www.ifood.com.br/delivery/campinas-sp/varejao-campinas-jardim-novo-flamboyant/c821f164-8f61-432c-bad1-b093ea0dcc1f"
        ],
        [
         "759",
         "False",
         "https://static-images.ifood.com.br/image/upload/f_auto,t_high/logosgde/2508bc9e-c853-4488-a2a8-02ae9ecf83ab/202102021901_OZNt_i.jpg",
         "Doces & Bolos",
         "13.99",
         "90",
         "10.06",
         "3509502",
         "15.0",
         "Doceria Sogra & Nora",
         "DNR $$ MPAY $$ MOVPAY_MC $$ MC $$ GPY_ELO $$ RDREST $$ ELOD $$ GPY_MCMA $$ AM $$ MCMA $$ MOVPAY_AM $$ DIN $$ APL_ELOD $$ IMV $$ MOVPAY_VIS $$ GPY_ELOD $$ APL_MCMA $$ GPY_MC $$ APL_ELO $$ MOVPAY_HIPER $$ APL_VISE $$ HIPER $$ IFE $$ VIS $$ RED $$ VIREST $$ VSREST $$ APL_VIS $$ MOVPAY_ELO $$ GPY_VISE $$ MOVPAY_DNR $$ VISE $$ ELO $$ APL_MC $$ MEREST $$ GPY_VIS",
         "CHEAPEST",
         "0.0",
         "ADDRESS_PREFORM_TYPE $$ GUIDED_HELP_TYPE $$ NOVO",
         "https://www.ifood.com.br/delivery/campinas-sp/doceria-sogra--nora-dic-vi-conjunto-habitacional-santo-dias-silva/2508bc9e-c853-4488-a2a8-02ae9ecf83ab"
        ],
        [
         "781",
         "False",
         "https://static-images.ifood.com.br/image/upload/f_auto,t_high/logosgde/4a6ed006-db5c-41f2-a3f9-fae9f04bfc2e/202001212002_6HO2_i.jpg",
         "Lanches",
         "9.0",
         "80",
         "10.67",
         "3509502",
         "20.0",
         "Barao Dog",
         "DNR $$ MPAY $$ MOVPAY_MC $$ RAM $$ MC $$ GPY_ELO $$ REC $$ RDREST $$ ELOD $$ GPY_MCMA $$ AM $$ MCMA $$ MOVPAY_AM $$ DIN $$ APL_ELOD $$ IMV $$ MOVPAY_VIS $$ GPY_ELOD $$ APL_MCMA $$ GPY_MC $$ APL_ELO $$ MOVPAY_HIPER $$ APL_VISE $$ HIPER $$ IFE $$ VIS $$ RED $$ APL_VIS $$ RHIP $$ MOVPAY_ELO $$ GPY_VISE $$ MOVPAY_DNR $$ VISE $$ ELO $$ APL_MC $$ MEREST $$ GPY_VIS",
         "CHEAPEST",
         "0.0",
         "ADDRESS_PREFORM_TYPE $$ CPGN_USER_DISCOUNT_6_LIST $$ GUIDED_HELP_TYPE $$ HAMBURGUER_TAXA_GRATIS $$ JETSKI_BURGER_20AGO $$ jetski_burger_ago20 $$ LONG_TAIL $$ RANKING_FASTFOODS_FEV21",
         "https://www.ifood.com.br/delivery/campinas-sp/barao-dog-jardim-myrian-moreira-da-costa/4a6ed006-db5c-41f2-a3f9-fae9f04bfc2e"
        ],
        [
         "791",
         "False",
         "https://static-images.ifood.com.br/image/upload/f_auto,t_high/logosgde/d14a8867-179f-4aed-a1e4-5c581a66aa96/202002102239_4zby_i.jpg",
         "Lanches",
         "16.0",
         "90",
         "11.87",
         "3509502",
         "15.0",
         "A.v.c  Lanches  Um Derrame de Gostosura",
         "DNR $$ MPAY $$ MOVPAY_MC $$ RAM $$ MC $$ GPY_ELO $$ REC $$ RDREST $$ ELOD $$ GPY_MCMA $$ AM $$ MCMA $$ MOVPAY_AM $$ DIN $$ APL_ELOD $$ IMV $$ MOVPAY_VIS $$ GPY_ELOD $$ APL_MCMA $$ GPY_MC $$ APL_ELO $$ MOVPAY_HIPER $$ APL_VISE $$ HIPER $$ IFE $$ VIS $$ RED $$ VIREST $$ VSREST $$ APL_VIS $$ RHIP $$ MOVPAY_ELO $$ GPY_VISE $$ MOVPAY_DNR $$ VISE $$ ELO $$ APL_MC $$ MEREST $$ GPY_VIS",
         "MODERATE",
         "0.0",
         "ADDRESS_PREFORM_TYPE $$ GUIDED_HELP_TYPE $$ HAMBURGUER_TAXA_GRATIS $$ JETSKI_BURGER_20AGO $$ jetski_burger_ago20 $$ LONG_TAIL $$ MAR20_CUPOM_REST_PEQ $$ RANKING_FASTFOODS_FEV21",
         "https://www.ifood.com.br/delivery/campinas-sp/avc--lanches--um-derrame-de-gostosura-jardim-nova-america/d14a8867-179f-4aed-a1e4-5c581a66aa96"
        ],
        [
         "804",
         "False",
         "https://static-images.ifood.com.br/image/upload/f_auto,t_high/logosgde/4d0387fd-9c14-497a-8013-4d1e7b4046b6/202006231944_QTp5_i.jpg",
         "Doces & Bolos",
         "10.0",
         "100",
         "13.01",
         "3509502",
         "18.0",
         "Torta na Cara",
         "DNR $$ MPAY $$ MOVPAY_MC $$ MC $$ GPY_ELO $$ RDREST $$ ELOD $$ GPY_MCMA $$ AM $$ MCMA $$ MOVPAY_AM $$ DIN $$ APL_ELOD $$ IMV $$ MOVPAY_VIS $$ GPY_ELOD $$ APL_MCMA $$ GPY_MC $$ APL_ELO $$ MOVPAY_HIPER $$ APL_VISE $$ HIPER $$ IFE $$ VIS $$ VVREST $$ RED $$ VIREST $$ VSREST $$ APL_VIS $$ MOVPAY_ELO $$ GPY_VISE $$ MOVPAY_DNR $$ VISE $$ ELO $$ APL_MC $$ MEREST $$ GPY_VIS",
         "CHEAP",
         "0.0",
         "ADDRESS_PREFORM_TYPE $$ GUIDED_HELP_TYPE $$ MESDODOCE_FIDELIDADE_DEZ20  $$ NOVO",
         "https://www.ifood.com.br/delivery/campinas-sp/torta-na-cara-conjunto-mauro-marcondes/4d0387fd-9c14-497a-8013-4d1e7b4046b6"
        ],
        [
         "828",
         "False",
         "https://static-images.ifood.com.br/image/upload/f_auto,t_high/logosgde/eabb5cc0-0c00-4333-9b1b-786fbc512b36/202007182139_7VkW_i.jpg",
         "Brasileira",
         "12.0",
         "90",
         "10.83",
         "3509502",
         "4.0",
         "Recanto do Sabor",
         "DNR $$ MPAY $$ MOVPAY_MC $$ RAM $$ MC $$ GPY_ELO $$ REC $$ RDREST $$ ELOD $$ GPY_MCMA $$ AM $$ MCMA $$ MOVPAY_AM $$ DIN $$ APL_ELOD $$ IMV $$ MOVPAY_VIS $$ GPY_ELOD $$ APL_MCMA $$ GPY_MC $$ APL_ELO $$ MOVPAY_HIPER $$ APL_VISE $$ HIPER $$ IFE $$ VIS $$ RED $$ VIREST $$ VSREST $$ APL_VIS $$ RHIP $$ MOVPAY_ELO $$ GPY_VISE $$ MOVPAY_DNR $$ VISE $$ ELO $$ APL_MC $$ MEREST $$ GPY_VIS",
         "CHEAPEST",
         "0.0",
         "ADDRESS_PREFORM_TYPE $$ CPGN_USER_DISCOUNT_BR_LIST $$ GUIDED_HELP_TYPE $$ MARMITA_GRU_15 $$ MARMITA_GRU_MAIS $$ MARMITA_GRU_PEIXE $$ NOVO",
         "https://www.ifood.com.br/delivery/campinas-sp/recanto-do-sabor-recanto-do-sol-i/eabb5cc0-0c00-4333-9b1b-786fbc512b36"
        ],
        [
         "854",
         "False",
         "https://static-images.ifood.com.br/image/upload/f_auto,t_high/logosgde/45c1497b-691f-43f4-8a0d-8ea233daab7f/202006031012_Ni89_.jpeg",
         "Bebidas",
         "20.0",
         "45",
         "2.66",
         "5208707",
         "15.0",
         "Lado Leste Cervejaria",
         "DNR $$ MPAY $$ MOVPAY_MC $$ RAM $$ MC $$ GPY_ELO $$ REC $$ RDREST $$ ELOD $$ GPY_MCMA $$ AM $$ MCMA $$ MOVPAY_AM $$ DIN $$ APL_ELOD $$ MOVPAY_VIS $$ GPY_ELOD $$ APL_MCMA $$ GPY_MC $$ APL_ELO $$ MOVPAY_HIPER $$ APL_VISE $$ HIPER $$ IFE $$ VIS $$ RED $$ VIREST $$ VSREST $$ APL_VIS $$ MOVPAY_ELO $$ GPY_VISE $$ MOVPAY_DNR $$ VISE $$ ELO $$ APL_MC $$ MEREST $$ GPY_VIS",
         "CHEAPEST",
         "0.0",
         "ADDRESS_PREFORM_TYPE $$ GUIDED_HELP_TYPE $$ NOVO $$ VERAO_BEBIDAS_DEZ20",
         "https://www.ifood.com.br/delivery/goiania-go/lado-leste-cervejaria-setor-leste-universitario/45c1497b-691f-43f4-8a0d-8ea233daab7f"
        ],
        [
         "925",
         "False",
         "https://static-images.ifood.com.br/image/upload/f_auto,t_high/logosgde/deff8c24-3fe1-4b8e-9ff5-cfffb26da67d/202006302056_5rRN_.jpeg",
         "Lanches",
         "15.5",
         "90",
         "10.01",
         "3550308",
         "5.0",
         "Big Potato’s",
         "DNR $$ MPAY $$ MOVPAY_MC $$ RAM $$ MC $$ GPY_ELO $$ REC $$ RDREST $$ ELOD $$ GPY_MCMA $$ AM $$ MCMA $$ MOVPAY_AM $$ DIN $$ APL_ELOD $$ IMV $$ BANRD $$ MOVPAY_VIS $$ GPY_ELOD $$ APL_MCMA $$ GPY_MC $$ APL_ELO $$ MOVPAY_HIPER $$ DNREST $$ APL_VISE $$ HIPER $$ IFE $$ VIS $$ RED $$ VIREST $$ VSREST $$ BANRC $$ APL_VIS $$ RHIP $$ MOVPAY_ELO $$ GPY_VISE $$ MOVPAY_DNR $$ VISE $$ ELO $$ APL_MC $$ MEREST $$ GPY_VIS",
         "CHEAPEST",
         "0.0",
         "ADDRESS_PREFORM_TYPE $$ GUIDED_HELP_TYPE $$ JETSKI_BURGER_20AGO $$ jetski_burger_ago20 $$ NOVO $$ PRATOS_VEGETARIANOS_FEV21 $$ RANKING_FASTFOODS_FEV21",
         "https://www.ifood.com.br/delivery/sao-paulo-sp/big-potatos-jardim-vista-alegre/deff8c24-3fe1-4b8e-9ff5-cfffb26da67d"
        ],
        [
         "929",
         "False",
         "https://static-images.ifood.com.br/image/upload/f_auto,t_high/logosgde/162142ca-4a2b-46b7-b4b7-c4d153705ac0/202011211027_YaPq_.jpeg",
         "Hambúrguer",
         "17.99",
         "63",
         "6.95",
         "3550308",
         "20.0",
         "Nóbrega Lanches",
         "DNR $$ MPAY $$ MOVPAY_MC $$ MC $$ GPY_ELO $$ ELOD $$ GPY_MCMA $$ AM $$ MCMA $$ MOVPAY_AM $$ APL_ELOD $$ IMV $$ MOVPAY_VIS $$ GPY_ELOD $$ APL_MCMA $$ GPY_MC $$ APL_ELO $$ MOVPAY_HIPER $$ APL_VISE $$ HIPER $$ IFE $$ VIS $$ APL_VIS $$ MOVPAY_ELO $$ GPY_VISE $$ MOVPAY_DNR $$ VISE $$ ELO $$ APL_MC $$ GPY_VIS",
         "CHEAPEST",
         "0.0",
         "ADDRESS_PREFORM_TYPE $$ CART::MCHT::100_DELIVERY_FEE_MERCH_3KM_0 $$ GUIDED_HELP_TYPE $$ JETSKI_BURGER_20AGO $$ jetski_burger_ago20 $$ NOVO",
         "https://www.ifood.com.br/delivery/sao-paulo-sp/nobrega-lanches-vila-gustavo/162142ca-4a2b-46b7-b4b7-c4d153705ac0"
        ],
        [
         "941",
         "False",
         "https://static-images.ifood.com.br/image/upload/f_auto,t_high/logosgde/27dab224-a0ae-4cda-9df5-2d0a6ebc44dc/202007300005_zb3N_i.jpg",
         "Pizza",
         "10.0",
         "90",
         "9.83",
         "3550308",
         "0.0",
         "Casa da Pizza",
         "DNR $$ MPAY $$ MOVPAY_MC $$ RAM $$ MC $$ GPY_ELO $$ REC $$ RDREST $$ ELOD $$ GPY_MCMA $$ AM $$ MCMA $$ MOVPAY_AM $$ DIN $$ APL_ELOD $$ IMV $$ BANRD $$ MOVPAY_VIS $$ GPY_ELOD $$ TRE $$ APL_MCMA $$ GPY_MC $$ APL_ELO $$ MOVPAY_HIPER $$ DNREST $$ APL_VISE $$ HIPER $$ IFE $$ BENVVR $$ VIS $$ RSODEX $$ VVREST $$ RED $$ VIREST $$ VR_SMA $$ VSREST $$ BANRC $$ APL_VIS $$ RHIP $$ MOVPAY_ELO $$ GPY_VISE $$ MOVPAY_DNR $$ VISE $$ ELO $$ APL_MC $$ MEREST $$ GPY_VIS",
         "CHEAPEST",
         "0.0",
         "ADDRESS_PREFORM_TYPE $$ BF_PIZZARIASESFIHARIAS_NOV20 $$ GUIDED_HELP_TYPE $$ JETSKI_PIZZA_20AGO $$ jetski_pizza_ago20 $$ NOVO $$ RESTAURANTE VOUCHER5 GUARANA",
         "https://www.ifood.com.br/delivery/sao-paulo-sp/casa-da-pizza-butanta/27dab224-a0ae-4cda-9df5-2d0a6ebc44dc"
        ],
        [
         "946",
         "False",
         "https://static-images.ifood.com.br/image/upload/f_auto,t_high/logosgde/acf9f19f-2186-4941-9cc4-9eaae042b43f/202008182222_lv0k_i.png",
         "Japonesa",
         "0.0",
         "50",
         "9.45",
         "3550308",
         "40.0",
         "Tokatso Sushi Expresso",
         "DNR $$ MPAY $$ MOVPAY_MC $$ RAM $$ MC $$ GPY_ELO $$ REC $$ RDREST $$ ELOD $$ GPY_MCMA $$ AM $$ NUGO $$ MCMA $$ MOVPAY_AM $$ DIN $$ APL_ELOD $$ IMV $$ MOVPAY_VIS $$ GPY_ELOD $$ TRE $$ APL_MCMA $$ GPY_MC $$ APL_ELO $$ MOVPAY_HIPER $$ DNREST $$ APL_VISE $$ HIPER $$ IFE $$ VIS $$ RSODEX $$ VVREST $$ RED $$ VIREST $$ VR_SMA $$ VSREST $$ APL_VIS $$ RHIP $$ MOVPAY_ELO $$ GPY_VISE $$ MOVPAY_DNR $$ VISE $$ VERDEC $$ ELO $$ APL_MC $$ MEREST $$ GPY_VIS $$ GOODC",
         "CHEAPEST",
         "0.0",
         "ADDRESS_PREFORM_TYPE $$ GUIDED_HELP_TYPE $$ NOVO",
         "https://www.ifood.com.br/delivery/sao-paulo-sp/tokatso-sushi-expresso-saude/acf9f19f-2186-4941-9cc4-9eaae042b43f"
        ],
        [
         "952",
         "False",
         "https://static-images.ifood.com.br/image/upload/f_auto,t_high/logosgde/201902171001_fc54afa0-321c-4489-8569-ae84345868a6.png",
         "Mediterrânea",
         "19.99",
         "42",
         "7.61",
         "3550308",
         "20.0",
         "Sallvattore",
         "DNR $$ MPAY $$ MOVPAY_MC $$ MC $$ GPY_ELO $$ ELOD $$ GPY_MCMA $$ AM $$ MCMA $$ MOVPAY_AM $$ APL_ELOD $$ IMV $$ MOVPAY_VIS $$ GPY_ELOD $$ APL_MCMA $$ GPY_MC $$ APL_ELO $$ MOVPAY_HIPER $$ APL_VISE $$ HIPER $$ IFE $$ VIS $$ APL_VIS $$ MOVPAY_ELO $$ GPY_VISE $$ MOVPAY_DNR $$ VISE $$ ELO $$ APL_MC $$ GPY_VIS",
         "MOST_EXPENSIVE",
         "4.57627010345459",
         "ABR20_PASCOA_ALMOCO $$ ACOMPANHE_PEDIDO_EM_ATIVACAO_AGO19 $$ ADDRESS_PREFORM_TYPE $$ AGENDAMENTO_SP_CPS_JUN20 $$ BF_12OFFGOURMET_NOV20 $$ CONTA_ESTRATEGICA $$ CPGN_USER_DISCOUNT_6_LIST $$ CPGN_USER_DISCOUNT_BR_LIST $$ CPGN_VOUCHER_LIGHT_KA $$ EXCLUSIVO $$ FAMOSOS_ELIGIBLE $$ FAMOSOS_OPTED_IN $$ FEV_20_TESTE_TAXA_GRATIS_SABADO $$ GOURMET_12OFF_MAR_2021 $$ GUIDED_HELP_TYPE $$ IFOOD_GOURMET $$ INVERNO_SOPASCALDOS_JUL20 $$ MAISPEDIDOS_REGIAO $$ MAR20_PASCOA_REF $$ MKT_PDIVIDIR_MAR20 $$ NAMORADOS_CUPOM $$ NAMORADOS_JANTAR $$ NAMORADOS_MAI19 $$ NAMORADOS_MAI19_ELIGIBLE $$ NAMORADOS_MAI19_OPTED_IN $$ ORD_AGENDAMENTO_NOV19 $$ PRESSA_PRA_ALMOCAR $$ PRESSA_PRA_ALMOCAR_ELIGIBLE $$ PRESSA_PRA_ALMOCAR_OPTED_IN $$ RESTAURANTE VOUCHER5 GUARANA $$ SOPA_JUL19",
         "https://www.ifood.com.br/delivery/sao-paulo-sp/sallvattore-itaim-bibi/fc54afa0-321c-4489-8569-ae84345868a6"
        ],
        [
         "967",
         "False",
         "https://static-images.ifood.com.br/image/upload/f_auto,t_high/logosgde/68614364-c180-4a4a-a679-96b0d6f5e9ed/202004072052_X9n5_i.jpg",
         "Bebidas",
         "15.0",
         "30",
         "4.32",
         "3550308",
         "50.0",
         "Slim Adega e Tabacaria",
         "DNR $$ MPAY $$ MOVPAY_MC $$ RAM $$ MC $$ GPY_ELO $$ REC $$ RDREST $$ ELOD $$ GPY_MCMA $$ AM $$ MCMA $$ MOVPAY_AM $$ DIN $$ APL_ELOD $$ MOVPAY_VIS $$ GPY_ELOD $$ APL_MCMA $$ GPY_MC $$ APL_ELO $$ MOVPAY_HIPER $$ DNREST $$ APL_VISE $$ HIPER $$ IFE $$ VIS $$ RSODEX $$ RED $$ VIREST $$ VSREST $$ APL_VIS $$ RHIP $$ MOVPAY_ELO $$ GPY_VISE $$ MOVPAY_DNR $$ VISE $$ ELO $$ APL_MC $$ MEREST $$ GPY_VIS",
         "MOST_EXPENSIVE",
         "0.0",
         "ADDRESS_PREFORM_TYPE $$ GUIDED_HELP_TYPE $$ LOYALTY_CARD_3 $$ NOVO $$ VERAO_BEBIDAS_DEZ20",
         "https://www.ifood.com.br/delivery/sao-paulo-sp/slim-adega-e-tabacaria-sitio-do-morro/68614364-c180-4a4a-a679-96b0d6f5e9ed"
        ],
        [
         "1014",
         "False",
         "https://static-images.ifood.com.br/image/upload/f_auto,t_high/logosgde/cccc02eb-4d6c-431d-8ea8-a9ed98da5c17/202005011709_uY2l_i.png",
         "Carnes",
         "17.99",
         "68",
         "6.52",
         "3550308",
         "20.0",
         "Churrascando Delivery",
         "DNR $$ MPAY $$ MOVPAY_MC $$ MC $$ GPY_ELO $$ ELOD $$ GPY_MCMA $$ AM $$ MCMA $$ MOVPAY_AM $$ APL_ELOD $$ IMV $$ MOVPAY_VIS $$ GPY_ELOD $$ APL_MCMA $$ GPY_MC $$ APL_ELO $$ MOVPAY_HIPER $$ APL_VISE $$ HIPER $$ IFE $$ VIS $$ APL_VIS $$ MOVPAY_ELO $$ GPY_VISE $$ MOVPAY_DNR $$ VISE $$ ELO $$ APL_MC $$ GPY_VIS",
         "EXPENSIVE",
         "0.0",
         "ADDRESS_PREFORM_TYPE $$ GUIDED_HELP_TYPE $$ INVERNO_SOPASCALDOS_JUL20 $$ NOVO",
         "https://www.ifood.com.br/delivery/sao-paulo-sp/churrascando-delivery-vila-aurora-zona-norte/cccc02eb-4d6c-431d-8ea8-a9ed98da5c17"
        ],
        [
         "1036",
         "False",
         "https://static-images.ifood.com.br/image/upload/f_auto,t_high/logosgde/1f89ad07-35a8-45d0-bd23-27570e09db3a/202005141327_9qQt_i.jpg",
         "Doces & Bolos",
         "11.99",
         "90",
         "10.04",
         "3550308",
         "8.0",
         "Clau Pão de Mel & Cia",
         "DNR $$ MPAY $$ MOVPAY_MC $$ MC $$ GPY_ELO $$ RDREST $$ ELOD $$ GPY_MCMA $$ AM $$ MCMA $$ MOVPAY_AM $$ DIN $$ APL_ELOD $$ IMV $$ MOVPAY_VIS $$ GPY_ELOD $$ APL_MCMA $$ GPY_MC $$ APL_ELO $$ MOVPAY_HIPER $$ APL_VISE $$ HIPER $$ IFE $$ VIS $$ RED $$ VIREST $$ APL_VIS $$ MOVPAY_ELO $$ GPY_VISE $$ MOVPAY_DNR $$ VISE $$ ELO $$ APL_MC $$ MEREST $$ GPY_VIS",
         "CHEAPEST",
         "0.0",
         "ADDRESS_PREFORM_TYPE $$ GUIDED_HELP_TYPE $$ MESDODOCE_FIDELIDADE_DEZ20  $$ NOVO",
         "https://www.ifood.com.br/delivery/sao-paulo-sp/clau-pao-de-mel--cia-vila-siqueira-zona-norte/1f89ad07-35a8-45d0-bd23-27570e09db3a"
        ],
        [
         "1083",
         "False",
         "https://static-images.ifood.com.br/image/upload/f_auto,t_high/logosgde/208c8d66-44db-42d8-aa1b-73e8e40b5ffb/201906151929_OxxH_.jpeg",
         "Lanches",
         "9.0",
         "90",
         "9.82",
         "3550308",
         "15.0",
         "352 Sandwich Burger Shop",
         "DNR $$ MPAY $$ MOVPAY_MC $$ RAM $$ MC $$ GPY_ELO $$ REC $$ RDREST $$ ELOD $$ GPY_MCMA $$ AM $$ MCMA $$ MOVPAY_AM $$ DIN $$ APL_ELOD $$ IMV $$ MOVPAY_VIS $$ GPY_ELOD $$ APL_MCMA $$ GPY_MC $$ APL_ELO $$ MOVPAY_HIPER $$ DNREST $$ APL_VISE $$ HIPER $$ IFE $$ VIS $$ RED $$ VIREST $$ VSREST $$ APL_VIS $$ RHIP $$ MOVPAY_ELO $$ GPY_VISE $$ MOVPAY_DNR $$ VISE $$ ELO $$ APL_MC $$ MEREST $$ GPY_VIS",
         "MODERATE",
         "0.0",
         "ADDRESS_PREFORM_TYPE $$ CRM_20200109_TOGO_TAG $$ EXCLUSIVO $$ GUIDED_HELP_TYPE $$ HAMBURGUER_TAXA_GRATIS $$ LONG_TAIL $$ PAGAMENTO_DINHEIRO_SET19 $$ RANKING_FASTFOODS_FEV21",
         "https://www.ifood.com.br/delivery/sao-paulo-sp/352-sandwich-burger-shop-chacara-inglesa/208c8d66-44db-42d8-aa1b-73e8e40b5ffb"
        ]
       ],
       "shape": {
        "columns": 14,
        "rows": 14725
       }
      },
      "text/html": [
       "<div>\n",
       "<style scoped>\n",
       "    .dataframe tbody tr th:only-of-type {\n",
       "        vertical-align: middle;\n",
       "    }\n",
       "\n",
       "    .dataframe tbody tr th {\n",
       "        vertical-align: top;\n",
       "    }\n",
       "\n",
       "    .dataframe thead th {\n",
       "        text-align: right;\n",
       "    }\n",
       "</style>\n",
       "<table border=\"1\" class=\"dataframe\">\n",
       "  <thead>\n",
       "    <tr style=\"text-align: right;\">\n",
       "      <th></th>\n",
       "      <th>availableForScheduling</th>\n",
       "      <th>avatar</th>\n",
       "      <th>category</th>\n",
       "      <th>delivery_fee</th>\n",
       "      <th>delivery_time</th>\n",
       "      <th>distance</th>\n",
       "      <th>ibge</th>\n",
       "      <th>minimumOrderValue</th>\n",
       "      <th>name</th>\n",
       "      <th>paymentCodes</th>\n",
       "      <th>price_range</th>\n",
       "      <th>rating</th>\n",
       "      <th>tags</th>\n",
       "      <th>url</th>\n",
       "    </tr>\n",
       "  </thead>\n",
       "  <tbody>\n",
       "    <tr>\n",
       "      <th>24</th>\n",
       "      <td>False</td>\n",
       "      <td>https://static-images.ifood.com.br/image/uploa...</td>\n",
       "      <td>Lanches</td>\n",
       "      <td>9.00</td>\n",
       "      <td>80</td>\n",
       "      <td>9.53</td>\n",
       "      <td>5300108</td>\n",
       "      <td>0.0</td>\n",
       "      <td>Kelly Crepes &amp; Massas</td>\n",
       "      <td>DNR $$ MPAY $$ MOVPAY_MC $$ MC $$ GPY_ELO $$ R...</td>\n",
       "      <td>CHEAPEST</td>\n",
       "      <td>0.00000</td>\n",
       "      <td>ADDRESS_PREFORM_TYPE $$ GUIDED_HELP_TYPE $$ HA...</td>\n",
       "      <td>https://www.ifood.com.br/delivery/brasilia-df/...</td>\n",
       "    </tr>\n",
       "    <tr>\n",
       "      <th>29</th>\n",
       "      <td>False</td>\n",
       "      <td>https://static-images.ifood.com.br/image/uploa...</td>\n",
       "      <td>Mercado</td>\n",
       "      <td>15.00</td>\n",
       "      <td>120</td>\n",
       "      <td>13.21</td>\n",
       "      <td>5300108</td>\n",
       "      <td>50.0</td>\n",
       "      <td>Feirinha Delivery de Frutas &amp; Verduras 2</td>\n",
       "      <td>DNR $$ MPAY $$ MOVPAY_MC $$ RAM $$ MC $$ GPY_E...</td>\n",
       "      <td>MOST_EXPENSIVE</td>\n",
       "      <td>0.00000</td>\n",
       "      <td>ADDRESS_PREFORM_TYPE $$ GUIDED_HELP_TYPE $$ LO...</td>\n",
       "      <td>https://www.ifood.com.br/delivery/brasilia-df/...</td>\n",
       "    </tr>\n",
       "    <tr>\n",
       "      <th>36</th>\n",
       "      <td>False</td>\n",
       "      <td>https://static-images.ifood.com.br/image/uploa...</td>\n",
       "      <td>Lanches</td>\n",
       "      <td>12.00</td>\n",
       "      <td>90</td>\n",
       "      <td>10.88</td>\n",
       "      <td>5300108</td>\n",
       "      <td>10.0</td>\n",
       "      <td>Tapioca da Zi</td>\n",
       "      <td>DNR $$ MPAY $$ MOVPAY_MC $$ MC $$ GPY_ELO $$ R...</td>\n",
       "      <td>CHEAPEST</td>\n",
       "      <td>0.00000</td>\n",
       "      <td>ADDRESS_PREFORM_TYPE $$ GUIDED_HELP_TYPE $$ JE...</td>\n",
       "      <td>https://www.ifood.com.br/delivery/brasilia-df/...</td>\n",
       "    </tr>\n",
       "    <tr>\n",
       "      <th>58</th>\n",
       "      <td>False</td>\n",
       "      <td>https://static-images.ifood.com.br/image/uploa...</td>\n",
       "      <td>Lanches</td>\n",
       "      <td>7.00</td>\n",
       "      <td>50</td>\n",
       "      <td>10.81</td>\n",
       "      <td>1302603</td>\n",
       "      <td>12.0</td>\n",
       "      <td>Dois Netos Delivery</td>\n",
       "      <td>DNR $$ MPAY $$ MOVPAY_MC $$ RAM $$ MC $$ GPY_E...</td>\n",
       "      <td>CHEAPEST</td>\n",
       "      <td>0.00000</td>\n",
       "      <td>ADDRESS_PREFORM_TYPE $$ BOMEBARATO_CUPOM $$ GU...</td>\n",
       "      <td>https://www.ifood.com.br/delivery/manaus-am/do...</td>\n",
       "    </tr>\n",
       "    <tr>\n",
       "      <th>60</th>\n",
       "      <td>False</td>\n",
       "      <td>https://static-images.ifood.com.br/image/uploa...</td>\n",
       "      <td>Brasileira</td>\n",
       "      <td>7.00</td>\n",
       "      <td>90</td>\n",
       "      <td>10.48</td>\n",
       "      <td>1302603</td>\n",
       "      <td>10.0</td>\n",
       "      <td>Dimi Burgs</td>\n",
       "      <td>DNR $$ MPAY $$ MOVPAY_MC $$ MC $$ GPY_ELO $$ R...</td>\n",
       "      <td>CHEAPEST</td>\n",
       "      <td>0.00000</td>\n",
       "      <td>ADDRESS_PREFORM_TYPE $$ BOMEBARATO_CUPOM $$ GU...</td>\n",
       "      <td>https://www.ifood.com.br/delivery/manaus-am/di...</td>\n",
       "    </tr>\n",
       "    <tr>\n",
       "      <th>...</th>\n",
       "      <td>...</td>\n",
       "      <td>...</td>\n",
       "      <td>...</td>\n",
       "      <td>...</td>\n",
       "      <td>...</td>\n",
       "      <td>...</td>\n",
       "      <td>...</td>\n",
       "      <td>...</td>\n",
       "      <td>...</td>\n",
       "      <td>...</td>\n",
       "      <td>...</td>\n",
       "      <td>...</td>\n",
       "      <td>...</td>\n",
       "      <td>...</td>\n",
       "    </tr>\n",
       "    <tr>\n",
       "      <th>406290</th>\n",
       "      <td>False</td>\n",
       "      <td>https://static-images.ifood.com.br/image/uploa...</td>\n",
       "      <td>Padaria</td>\n",
       "      <td>8.99</td>\n",
       "      <td>100</td>\n",
       "      <td>3.82</td>\n",
       "      <td>4309209</td>\n",
       "      <td>15.0</td>\n",
       "      <td>Caseirinho</td>\n",
       "      <td>DNR $$ MPAY $$ MOVPAY_MC $$ MC $$ GPY_ELO $$ E...</td>\n",
       "      <td>CHEAP</td>\n",
       "      <td>0.00000</td>\n",
       "      <td>ADDRESS_PREFORM_TYPE $$ GUIDED_HELP_TYPE $$ LO...</td>\n",
       "      <td>https://www.ifood.com.br/delivery/viamao-rs/ca...</td>\n",
       "    </tr>\n",
       "    <tr>\n",
       "      <th>406327</th>\n",
       "      <td>False</td>\n",
       "      <td>https://static-images.ifood.com.br/image/uploa...</td>\n",
       "      <td>Congelados</td>\n",
       "      <td>8.00</td>\n",
       "      <td>40</td>\n",
       "      <td>1.29</td>\n",
       "      <td>4309209</td>\n",
       "      <td>50.0</td>\n",
       "      <td>Mania Fit</td>\n",
       "      <td>DNR $$ MPAY $$ MOVPAY_MC $$ RAM $$ MC $$ GPY_E...</td>\n",
       "      <td>CHEAPEST</td>\n",
       "      <td>0.00000</td>\n",
       "      <td>ADDRESS_PREFORM_TYPE $$ GUIDED_HELP_TYPE $$ NO...</td>\n",
       "      <td>https://www.ifood.com.br/delivery/alvorada-rs/...</td>\n",
       "    </tr>\n",
       "    <tr>\n",
       "      <th>406329</th>\n",
       "      <td>False</td>\n",
       "      <td>https://static-images.ifood.com.br/image/uploa...</td>\n",
       "      <td>Lanches</td>\n",
       "      <td>15.00</td>\n",
       "      <td>120</td>\n",
       "      <td>3.56</td>\n",
       "      <td>4309209</td>\n",
       "      <td>20.0</td>\n",
       "      <td>Lanches da Colônia</td>\n",
       "      <td>DNR $$ MPAY $$ MOVPAY_MC $$ MC $$ GPY_ELO $$ R...</td>\n",
       "      <td>CHEAPEST</td>\n",
       "      <td>0.00000</td>\n",
       "      <td>ADDRESS_PREFORM_TYPE $$ GUIDED_HELP_TYPE $$ NO...</td>\n",
       "      <td>https://www.ifood.com.br/delivery/viamao-rs/la...</td>\n",
       "    </tr>\n",
       "    <tr>\n",
       "      <th>406332</th>\n",
       "      <td>False</td>\n",
       "      <td>https://static-images.ifood.com.br/image/uploa...</td>\n",
       "      <td>Pizza</td>\n",
       "      <td>0.00</td>\n",
       "      <td>35</td>\n",
       "      <td>11.48</td>\n",
       "      <td>4309209</td>\n",
       "      <td>19.9</td>\n",
       "      <td>Pizzas Cone</td>\n",
       "      <td>DNR $$ MPAY $$ MOVPAY_MC $$ RAM $$ MC $$ GPY_E...</td>\n",
       "      <td>CHEAPEST</td>\n",
       "      <td>0.00000</td>\n",
       "      <td>ADDRESS_PREFORM_TYPE $$ BF_PIZZARIASESFIHARIAS...</td>\n",
       "      <td>https://www.ifood.com.br/delivery/porto-alegre...</td>\n",
       "    </tr>\n",
       "    <tr>\n",
       "      <th>406375</th>\n",
       "      <td>False</td>\n",
       "      <td>https://static-images.ifood.com.br/image/uploa...</td>\n",
       "      <td>Japonesa</td>\n",
       "      <td>0.00</td>\n",
       "      <td>60</td>\n",
       "      <td>1.42</td>\n",
       "      <td>4309209</td>\n",
       "      <td>40.0</td>\n",
       "      <td>Hiroki Sushi</td>\n",
       "      <td>DNR $$ MPAY $$ MOVPAY_MC $$ RAM $$ MC $$ GPY_E...</td>\n",
       "      <td>CHEAPEST</td>\n",
       "      <td>4.65714</td>\n",
       "      <td>ADDRESS_PREFORM_TYPE $$ CPGN_USER_DISCOUNT_BR_...</td>\n",
       "      <td>https://www.ifood.com.br/delivery/alvorada-rs/...</td>\n",
       "    </tr>\n",
       "  </tbody>\n",
       "</table>\n",
       "<p>14725 rows × 14 columns</p>\n",
       "</div>"
      ],
      "text/plain": [
       "        availableForScheduling  \\\n",
       "24                       False   \n",
       "29                       False   \n",
       "36                       False   \n",
       "58                       False   \n",
       "60                       False   \n",
       "...                        ...   \n",
       "406290                   False   \n",
       "406327                   False   \n",
       "406329                   False   \n",
       "406332                   False   \n",
       "406375                   False   \n",
       "\n",
       "                                                   avatar    category  \\\n",
       "24      https://static-images.ifood.com.br/image/uploa...     Lanches   \n",
       "29      https://static-images.ifood.com.br/image/uploa...     Mercado   \n",
       "36      https://static-images.ifood.com.br/image/uploa...     Lanches   \n",
       "58      https://static-images.ifood.com.br/image/uploa...     Lanches   \n",
       "60      https://static-images.ifood.com.br/image/uploa...  Brasileira   \n",
       "...                                                   ...         ...   \n",
       "406290  https://static-images.ifood.com.br/image/uploa...     Padaria   \n",
       "406327  https://static-images.ifood.com.br/image/uploa...  Congelados   \n",
       "406329  https://static-images.ifood.com.br/image/uploa...     Lanches   \n",
       "406332  https://static-images.ifood.com.br/image/uploa...       Pizza   \n",
       "406375  https://static-images.ifood.com.br/image/uploa...    Japonesa   \n",
       "\n",
       "        delivery_fee  delivery_time  distance     ibge  minimumOrderValue  \\\n",
       "24              9.00             80      9.53  5300108                0.0   \n",
       "29             15.00            120     13.21  5300108               50.0   \n",
       "36             12.00             90     10.88  5300108               10.0   \n",
       "58              7.00             50     10.81  1302603               12.0   \n",
       "60              7.00             90     10.48  1302603               10.0   \n",
       "...              ...            ...       ...      ...                ...   \n",
       "406290          8.99            100      3.82  4309209               15.0   \n",
       "406327          8.00             40      1.29  4309209               50.0   \n",
       "406329         15.00            120      3.56  4309209               20.0   \n",
       "406332          0.00             35     11.48  4309209               19.9   \n",
       "406375          0.00             60      1.42  4309209               40.0   \n",
       "\n",
       "                                            name  \\\n",
       "24                         Kelly Crepes & Massas   \n",
       "29      Feirinha Delivery de Frutas & Verduras 2   \n",
       "36                                 Tapioca da Zi   \n",
       "58                           Dois Netos Delivery   \n",
       "60                                    Dimi Burgs   \n",
       "...                                          ...   \n",
       "406290                                Caseirinho   \n",
       "406327                                 Mania Fit   \n",
       "406329                        Lanches da Colônia   \n",
       "406332                               Pizzas Cone   \n",
       "406375                              Hiroki Sushi   \n",
       "\n",
       "                                             paymentCodes     price_range  \\\n",
       "24      DNR $$ MPAY $$ MOVPAY_MC $$ MC $$ GPY_ELO $$ R...        CHEAPEST   \n",
       "29      DNR $$ MPAY $$ MOVPAY_MC $$ RAM $$ MC $$ GPY_E...  MOST_EXPENSIVE   \n",
       "36      DNR $$ MPAY $$ MOVPAY_MC $$ MC $$ GPY_ELO $$ R...        CHEAPEST   \n",
       "58      DNR $$ MPAY $$ MOVPAY_MC $$ RAM $$ MC $$ GPY_E...        CHEAPEST   \n",
       "60      DNR $$ MPAY $$ MOVPAY_MC $$ MC $$ GPY_ELO $$ R...        CHEAPEST   \n",
       "...                                                   ...             ...   \n",
       "406290  DNR $$ MPAY $$ MOVPAY_MC $$ MC $$ GPY_ELO $$ E...           CHEAP   \n",
       "406327  DNR $$ MPAY $$ MOVPAY_MC $$ RAM $$ MC $$ GPY_E...        CHEAPEST   \n",
       "406329  DNR $$ MPAY $$ MOVPAY_MC $$ MC $$ GPY_ELO $$ R...        CHEAPEST   \n",
       "406332  DNR $$ MPAY $$ MOVPAY_MC $$ RAM $$ MC $$ GPY_E...        CHEAPEST   \n",
       "406375  DNR $$ MPAY $$ MOVPAY_MC $$ RAM $$ MC $$ GPY_E...        CHEAPEST   \n",
       "\n",
       "         rating                                               tags  \\\n",
       "24      0.00000  ADDRESS_PREFORM_TYPE $$ GUIDED_HELP_TYPE $$ HA...   \n",
       "29      0.00000  ADDRESS_PREFORM_TYPE $$ GUIDED_HELP_TYPE $$ LO...   \n",
       "36      0.00000  ADDRESS_PREFORM_TYPE $$ GUIDED_HELP_TYPE $$ JE...   \n",
       "58      0.00000  ADDRESS_PREFORM_TYPE $$ BOMEBARATO_CUPOM $$ GU...   \n",
       "60      0.00000  ADDRESS_PREFORM_TYPE $$ BOMEBARATO_CUPOM $$ GU...   \n",
       "...         ...                                                ...   \n",
       "406290  0.00000  ADDRESS_PREFORM_TYPE $$ GUIDED_HELP_TYPE $$ LO...   \n",
       "406327  0.00000  ADDRESS_PREFORM_TYPE $$ GUIDED_HELP_TYPE $$ NO...   \n",
       "406329  0.00000  ADDRESS_PREFORM_TYPE $$ GUIDED_HELP_TYPE $$ NO...   \n",
       "406332  0.00000  ADDRESS_PREFORM_TYPE $$ BF_PIZZARIASESFIHARIAS...   \n",
       "406375  4.65714  ADDRESS_PREFORM_TYPE $$ CPGN_USER_DISCOUNT_BR_...   \n",
       "\n",
       "                                                      url  \n",
       "24      https://www.ifood.com.br/delivery/brasilia-df/...  \n",
       "29      https://www.ifood.com.br/delivery/brasilia-df/...  \n",
       "36      https://www.ifood.com.br/delivery/brasilia-df/...  \n",
       "58      https://www.ifood.com.br/delivery/manaus-am/do...  \n",
       "60      https://www.ifood.com.br/delivery/manaus-am/di...  \n",
       "...                                                   ...  \n",
       "406290  https://www.ifood.com.br/delivery/viamao-rs/ca...  \n",
       "406327  https://www.ifood.com.br/delivery/alvorada-rs/...  \n",
       "406329  https://www.ifood.com.br/delivery/viamao-rs/la...  \n",
       "406332  https://www.ifood.com.br/delivery/porto-alegre...  \n",
       "406375  https://www.ifood.com.br/delivery/alvorada-rs/...  \n",
       "\n",
       "[14725 rows x 14 columns]"
      ]
     },
     "execution_count": 44,
     "metadata": {},
     "output_type": "execute_result"
    }
   ],
   "source": [
    "df[((df[numericas] < (Q1 - 1.5 * IQR)) | (df[numericas] > (Q3 + 1.5 * IQR))).any(axis=1)]"
   ]
  },
  {
   "cell_type": "code",
   "execution_count": 45,
   "metadata": {},
   "outputs": [],
   "source": [
    "outliers_geral = df[((df[numericas] < (Q1 - 1.5 * IQR)) | (df[numericas] > (Q3 + 1.5 * IQR))).any(axis=1)]"
   ]
  },
  {
   "cell_type": "code",
   "execution_count": 46,
   "metadata": {},
   "outputs": [
    {
     "name": "stdout",
     "output_type": "stream",
     "text": [
      "Quantidade de registros na base: 406399\n",
      "Quantidade de outliers na base: 14725\n",
      "Percentual de outliers: 4.0 %\n"
     ]
    }
   ],
   "source": [
    "print(f\"Quantidade de registros na base: {len(df)}\")\n",
    "print(f\"Quantidade de outliers na base: {len(outliers_geral)}\")\n",
    "print(f\"Percentual de outliers: {np.round(100*len(outliers_geral)/len(df), 0)} %\")"
   ]
  },
  {
   "cell_type": "code",
   "execution_count": 47,
   "metadata": {},
   "outputs": [],
   "source": [
    "df_sem_out = df[~((df[numericas] < (Q1 - 1.5 * IQR)) | (df[numericas] > (Q3 + 1.5 * IQR))).any(axis=1)]"
   ]
  },
  {
   "cell_type": "code",
   "execution_count": 48,
   "metadata": {},
   "outputs": [
    {
     "data": {
      "application/vnd.microsoft.datawrangler.viewer.v0+json": {
       "columns": [
        {
         "name": "index",
         "rawType": "int64",
         "type": "integer"
        },
        {
         "name": "availableForScheduling",
         "rawType": "bool",
         "type": "boolean"
        },
        {
         "name": "avatar",
         "rawType": "object",
         "type": "string"
        },
        {
         "name": "category",
         "rawType": "object",
         "type": "string"
        },
        {
         "name": "delivery_fee",
         "rawType": "float64",
         "type": "float"
        },
        {
         "name": "delivery_time",
         "rawType": "int64",
         "type": "integer"
        },
        {
         "name": "distance",
         "rawType": "float64",
         "type": "float"
        },
        {
         "name": "ibge",
         "rawType": "int64",
         "type": "integer"
        },
        {
         "name": "minimumOrderValue",
         "rawType": "float64",
         "type": "float"
        },
        {
         "name": "name",
         "rawType": "object",
         "type": "string"
        },
        {
         "name": "paymentCodes",
         "rawType": "object",
         "type": "string"
        },
        {
         "name": "price_range",
         "rawType": "object",
         "type": "string"
        },
        {
         "name": "rating",
         "rawType": "float64",
         "type": "float"
        },
        {
         "name": "tags",
         "rawType": "object",
         "type": "string"
        },
        {
         "name": "url",
         "rawType": "object",
         "type": "string"
        }
       ],
       "ref": "dd04e10e-31ce-4e07-b3fd-088d3c88f9fe",
       "rows": [
        [
         "0",
         "False",
         "https://static-images.ifood.com.br/image/upload/f_auto,t_high/logosgde/136c9a0c-02fb-4cf6-90b6-c4e89bd43c5b/202005291112_c5em_i.png",
         "Marmita",
         "3.99",
         "27",
         "1.22",
         "5300108",
         "10.0",
         "Cantina Arte & Sabor",
         "DNR $$ MPAY $$ MOVPAY_MC $$ MC $$ GPY_ELO $$ ELOD $$ GPY_MCMA $$ AM $$ MCMA $$ MOVPAY_AM $$ APL_ELOD $$ IMV $$ MOVPAY_VIS $$ GPY_ELOD $$ APL_MCMA $$ GPY_MC $$ APL_ELO $$ MOVPAY_HIPER $$ APL_VISE $$ HIPER $$ IFE $$ VIS $$ APL_VIS $$ MOVPAY_ELO $$ GPY_VISE $$ MOVPAY_DNR $$ VISE $$ ELO $$ APL_MC $$ GPY_VIS",
         "CHEAPEST",
         "0.0",
         "ADDRESS_PREFORM_TYPE $$ CART::MCHT::100_DELIVERY_FEE_MERCH_3KM_0 $$ CPGN_USER_DISCOUNT_BR_LIST $$ GUIDED_HELP_TYPE $$ NOVO",
         "https://www.ifood.com.br/delivery/brasilia-df/cantina-arte--sabor-parque-ferroviario-de-brasilia/136c9a0c-02fb-4cf6-90b6-c4e89bd43c5b"
        ],
        [
         "1",
         "False",
         "https://static-images.ifood.com.br/image/upload/f_auto,t_high/logosgde/202003142155_5608d2c8-91b8-4bad-b905-63ed030b5797.png",
         "Açaí",
         "7.99",
         "61",
         "4.96",
         "5300108",
         "10.0",
         "Raruty Açaí Raiz",
         "DNR $$ MPAY $$ MOVPAY_MC $$ MC $$ GPY_ELO $$ ELOD $$ GPY_MCMA $$ AM $$ MCMA $$ MOVPAY_AM $$ APL_ELOD $$ IMV $$ MOVPAY_VIS $$ GPY_ELOD $$ APL_MCMA $$ GPY_MC $$ APL_ELO $$ MOVPAY_HIPER $$ APL_VISE $$ HIPER $$ IFE $$ VIS $$ APL_VIS $$ MOVPAY_ELO $$ GPY_VISE $$ MOVPAY_DNR $$ VISE $$ ELO $$ APL_MC $$ GPY_VIS",
         "CHEAPEST",
         "0.0",
         "ADDRESS_PREFORM_TYPE $$ GUIDED_HELP_TYPE $$ MESDODOCE_FIDELIDADE_DEZ20  $$ NOVO",
         "https://www.ifood.com.br/delivery/brasilia-df/raruty-acai-raiz-asa-norte/5608d2c8-91b8-4bad-b905-63ed030b5797"
        ]
       ],
       "shape": {
        "columns": 14,
        "rows": 2
       }
      },
      "text/html": [
       "<div>\n",
       "<style scoped>\n",
       "    .dataframe tbody tr th:only-of-type {\n",
       "        vertical-align: middle;\n",
       "    }\n",
       "\n",
       "    .dataframe tbody tr th {\n",
       "        vertical-align: top;\n",
       "    }\n",
       "\n",
       "    .dataframe thead th {\n",
       "        text-align: right;\n",
       "    }\n",
       "</style>\n",
       "<table border=\"1\" class=\"dataframe\">\n",
       "  <thead>\n",
       "    <tr style=\"text-align: right;\">\n",
       "      <th></th>\n",
       "      <th>availableForScheduling</th>\n",
       "      <th>avatar</th>\n",
       "      <th>category</th>\n",
       "      <th>delivery_fee</th>\n",
       "      <th>delivery_time</th>\n",
       "      <th>distance</th>\n",
       "      <th>ibge</th>\n",
       "      <th>minimumOrderValue</th>\n",
       "      <th>name</th>\n",
       "      <th>paymentCodes</th>\n",
       "      <th>price_range</th>\n",
       "      <th>rating</th>\n",
       "      <th>tags</th>\n",
       "      <th>url</th>\n",
       "    </tr>\n",
       "  </thead>\n",
       "  <tbody>\n",
       "    <tr>\n",
       "      <th>0</th>\n",
       "      <td>False</td>\n",
       "      <td>https://static-images.ifood.com.br/image/uploa...</td>\n",
       "      <td>Marmita</td>\n",
       "      <td>3.99</td>\n",
       "      <td>27</td>\n",
       "      <td>1.22</td>\n",
       "      <td>5300108</td>\n",
       "      <td>10.0</td>\n",
       "      <td>Cantina Arte &amp; Sabor</td>\n",
       "      <td>DNR $$ MPAY $$ MOVPAY_MC $$ MC $$ GPY_ELO $$ E...</td>\n",
       "      <td>CHEAPEST</td>\n",
       "      <td>0.0</td>\n",
       "      <td>ADDRESS_PREFORM_TYPE $$ CART::MCHT::100_DELIVE...</td>\n",
       "      <td>https://www.ifood.com.br/delivery/brasilia-df/...</td>\n",
       "    </tr>\n",
       "    <tr>\n",
       "      <th>1</th>\n",
       "      <td>False</td>\n",
       "      <td>https://static-images.ifood.com.br/image/uploa...</td>\n",
       "      <td>Açaí</td>\n",
       "      <td>7.99</td>\n",
       "      <td>61</td>\n",
       "      <td>4.96</td>\n",
       "      <td>5300108</td>\n",
       "      <td>10.0</td>\n",
       "      <td>Raruty Açaí Raiz</td>\n",
       "      <td>DNR $$ MPAY $$ MOVPAY_MC $$ MC $$ GPY_ELO $$ E...</td>\n",
       "      <td>CHEAPEST</td>\n",
       "      <td>0.0</td>\n",
       "      <td>ADDRESS_PREFORM_TYPE $$ GUIDED_HELP_TYPE $$ ME...</td>\n",
       "      <td>https://www.ifood.com.br/delivery/brasilia-df/...</td>\n",
       "    </tr>\n",
       "  </tbody>\n",
       "</table>\n",
       "</div>"
      ],
      "text/plain": [
       "   availableForScheduling                                             avatar  \\\n",
       "0                   False  https://static-images.ifood.com.br/image/uploa...   \n",
       "1                   False  https://static-images.ifood.com.br/image/uploa...   \n",
       "\n",
       "  category  delivery_fee  delivery_time  distance     ibge  minimumOrderValue  \\\n",
       "0  Marmita          3.99             27      1.22  5300108               10.0   \n",
       "1     Açaí          7.99             61      4.96  5300108               10.0   \n",
       "\n",
       "                   name                                       paymentCodes  \\\n",
       "0  Cantina Arte & Sabor  DNR $$ MPAY $$ MOVPAY_MC $$ MC $$ GPY_ELO $$ E...   \n",
       "1      Raruty Açaí Raiz  DNR $$ MPAY $$ MOVPAY_MC $$ MC $$ GPY_ELO $$ E...   \n",
       "\n",
       "  price_range  rating                                               tags  \\\n",
       "0    CHEAPEST     0.0  ADDRESS_PREFORM_TYPE $$ CART::MCHT::100_DELIVE...   \n",
       "1    CHEAPEST     0.0  ADDRESS_PREFORM_TYPE $$ GUIDED_HELP_TYPE $$ ME...   \n",
       "\n",
       "                                                 url  \n",
       "0  https://www.ifood.com.br/delivery/brasilia-df/...  \n",
       "1  https://www.ifood.com.br/delivery/brasilia-df/...  "
      ]
     },
     "execution_count": 48,
     "metadata": {},
     "output_type": "execute_result"
    }
   ],
   "source": [
    "df_sem_out.head(2)"
   ]
  },
  {
   "cell_type": "code",
   "execution_count": 49,
   "metadata": {},
   "outputs": [],
   "source": [
    "columns_to_use = [\n",
    "    \"availableForScheduling\",\n",
    "    \"category\",\n",
    "    \"delivery_fee\",\n",
    "    \"delivery_time\",\n",
    "    \"distance\",\n",
    "    \"minimumOrderValue\",\n",
    "    \"price_range\",\n",
    "    \"rating\"\n",
    "]\n",
    "\n",
    "df_final = df_sem_out[columns_to_use]"
   ]
  },
  {
   "cell_type": "code",
   "execution_count": 50,
   "metadata": {},
   "outputs": [],
   "source": [
    "df_final.to_csv(\"./base_ifood_limpa.csv\", sep=\";\", header=True)"
   ]
  },
  {
   "cell_type": "markdown",
   "metadata": {},
   "source": [
    "# Correlações Entre Variáveis"
   ]
  },
  {
   "cell_type": "markdown",
   "metadata": {},
   "source": [
    "### Correlações Quanti vs Quanti"
   ]
  },
  {
   "cell_type": "code",
   "execution_count": 51,
   "metadata": {},
   "outputs": [],
   "source": [
    "df = pd.read_csv(\"./base_ifood_limpa.csv\", sep=\";\", header=0).drop(\"Unnamed: 0\", axis=1)"
   ]
  },
  {
   "cell_type": "code",
   "execution_count": 52,
   "metadata": {},
   "outputs": [
    {
     "name": "stdout",
     "output_type": "stream",
     "text": [
      "<class 'pandas.core.frame.DataFrame'>\n",
      "RangeIndex: 391674 entries, 0 to 391673\n",
      "Data columns (total 8 columns):\n",
      " #   Column                  Non-Null Count   Dtype  \n",
      "---  ------                  --------------   -----  \n",
      " 0   availableForScheduling  391674 non-null  bool   \n",
      " 1   category                391674 non-null  object \n",
      " 2   delivery_fee            391674 non-null  float64\n",
      " 3   delivery_time           391674 non-null  int64  \n",
      " 4   distance                391674 non-null  float64\n",
      " 5   minimumOrderValue       391674 non-null  float64\n",
      " 6   price_range             391674 non-null  object \n",
      " 7   rating                  391674 non-null  float64\n",
      "dtypes: bool(1), float64(4), int64(1), object(2)\n",
      "memory usage: 21.3+ MB\n"
     ]
    }
   ],
   "source": [
    "df.info()"
   ]
  },
  {
   "cell_type": "code",
   "execution_count": 53,
   "metadata": {},
   "outputs": [
    {
     "data": {
      "application/vnd.microsoft.datawrangler.viewer.v0+json": {
       "columns": [
        {
         "name": "index",
         "rawType": "int64",
         "type": "integer"
        },
        {
         "name": "availableForScheduling",
         "rawType": "bool",
         "type": "boolean"
        },
        {
         "name": "category",
         "rawType": "object",
         "type": "string"
        },
        {
         "name": "delivery_fee",
         "rawType": "float64",
         "type": "float"
        },
        {
         "name": "delivery_time",
         "rawType": "int64",
         "type": "integer"
        },
        {
         "name": "distance",
         "rawType": "float64",
         "type": "float"
        },
        {
         "name": "minimumOrderValue",
         "rawType": "float64",
         "type": "float"
        },
        {
         "name": "price_range",
         "rawType": "object",
         "type": "string"
        },
        {
         "name": "rating",
         "rawType": "float64",
         "type": "float"
        }
       ],
       "ref": "207a22bf-cd86-4537-9f3b-7d98c08cc477",
       "rows": [
        [
         "0",
         "False",
         "Marmita",
         "3.99",
         "27",
         "1.22",
         "10.0",
         "CHEAPEST",
         "0.0"
        ],
        [
         "1",
         "False",
         "Açaí",
         "7.99",
         "61",
         "4.96",
         "10.0",
         "CHEAPEST",
         "0.0"
        ],
        [
         "2",
         "False",
         "Bebidas",
         "11.99",
         "70",
         "8.35",
         "5.0",
         "MODERATE",
         "0.0"
        ],
        [
         "3",
         "False",
         "Carnes",
         "16.49",
         "63",
         "6.35",
         "20.0",
         "CHEAPEST",
         "0.0"
        ],
        [
         "4",
         "False",
         "Brasileira",
         "11.99",
         "58",
         "5.22",
         "20.0",
         "CHEAPEST",
         "0.0"
        ],
        [
         "5",
         "False",
         "Lanches",
         "12.99",
         "67",
         "6.77",
         "20.0",
         "CHEAP",
         "0.0"
        ],
        [
         "6",
         "False",
         "Brasileira",
         "11.99",
         "46",
         "4.47",
         "20.0",
         "MOST_EXPENSIVE",
         "0.0"
        ],
        [
         "7",
         "False",
         "Congelados",
         "7.99",
         "40",
         "4.18",
         "10.0",
         "CHEAPEST",
         "0.0"
        ],
        [
         "8",
         "False",
         "Lanches",
         "13.49",
         "41",
         "5.5",
         "20.0",
         "MODERATE",
         "0.0"
        ],
        [
         "9",
         "False",
         "Lanches",
         "15.49",
         "47",
         "6.22",
         "20.0",
         "MODERATE",
         "0.0"
        ],
        [
         "10",
         "False",
         "Lanches",
         "10.49",
         "55",
         "4.23",
         "20.0",
         "CHEAPEST",
         "0.0"
        ],
        [
         "11",
         "False",
         "Pastel",
         "12.0",
         "80",
         "5.19",
         "20.0",
         "CHEAPEST",
         "0.0"
        ],
        [
         "12",
         "False",
         "Indiana",
         "13.49",
         "57",
         "5.74",
         "20.0",
         "MODERATE",
         "0.0"
        ],
        [
         "13",
         "False",
         "Árabe",
         "14.49",
         "60",
         "5.95",
         "20.0",
         "MODERATE",
         "0.0"
        ],
        [
         "14",
         "False",
         "Brasileira",
         "8.49",
         "50",
         "3.9",
         "20.0",
         "CHEAPEST",
         "0.0"
        ],
        [
         "15",
         "False",
         "Bebidas",
         "14.49",
         "60",
         "5.77",
         "10.0",
         "EXPENSIVE",
         "0.0"
        ],
        [
         "16",
         "False",
         "Brasileira",
         "15.49",
         "68",
         "6.53",
         "20.0",
         "CHEAPEST",
         "0.0"
        ],
        [
         "17",
         "False",
         "Brasileira",
         "13.49",
         "59",
         "5.72",
         "10.0",
         "CHEAPEST",
         "0.0"
        ],
        [
         "18",
         "False",
         "Brasileira",
         "15.49",
         "41",
         "6.03",
         "20.0",
         "EXPENSIVE",
         "0.0"
        ],
        [
         "19",
         "False",
         "Lanches",
         "6.99",
         "30",
         "2.02",
         "20.0",
         "MODERATE",
         "0.0"
        ],
        [
         "20",
         "False",
         "Lanches",
         "0.0",
         "45",
         "1.88",
         "8.0",
         "CHEAP",
         "0.0"
        ],
        [
         "21",
         "False",
         "Doces & Bolos",
         "12.49",
         "29",
         "5.06",
         "10.0",
         "CHEAPEST",
         "0.0"
        ],
        [
         "22",
         "False",
         "Brasileira",
         "11.99",
         "18",
         "5.43",
         "20.0",
         "MODERATE",
         "0.0"
        ],
        [
         "23",
         "False",
         "Lanches",
         "12.49",
         "35",
         "5.08",
         "20.0",
         "CHEAP",
         "0.0"
        ],
        [
         "24",
         "False",
         "Brasileira",
         "11.99",
         "64",
         "6.93",
         "20.0",
         "MODERATE",
         "0.0"
        ],
        [
         "25",
         "False",
         "Brasileira",
         "14.49",
         "61",
         "6.03",
         "20.0",
         "MODERATE",
         "0.0"
        ],
        [
         "26",
         "False",
         "Salgados",
         "12.49",
         "60",
         "5.19",
         "20.0",
         "CHEAPEST",
         "0.0"
        ],
        [
         "27",
         "False",
         "Brasileira",
         "8.99",
         "38",
         "4.14",
         "20.0",
         "CHEAPEST",
         "0.0"
        ],
        [
         "28",
         "False",
         "Italiana",
         "14.49",
         "61",
         "5.91",
         "20.0",
         "CHEAPEST",
         "0.0"
        ],
        [
         "29",
         "False",
         "Pizza",
         "13.49",
         "67",
         "5.77",
         "20.0",
         "CHEAPEST",
         "0.0"
        ],
        [
         "30",
         "False",
         "Lanches",
         "6.99",
         "90",
         "8.15",
         "15.0",
         "CHEAPEST",
         "0.0"
        ],
        [
         "31",
         "False",
         "Lanches",
         "13.49",
         "59",
         "5.7",
         "20.0",
         "CHEAPEST",
         "0.0"
        ],
        [
         "32",
         "False",
         "Carnes",
         "8.99",
         "55",
         "4.58",
         "20.0",
         "MODERATE",
         "0.0"
        ],
        [
         "33",
         "False",
         "Brasileira",
         "5.99",
         "28",
         "2.12",
         "20.0",
         "MODERATE",
         "0.0"
        ],
        [
         "34",
         "False",
         "Lanches",
         "13.49",
         "61",
         "5.7",
         "20.0",
         "CHEAPEST",
         "0.0"
        ],
        [
         "35",
         "False",
         "Lanches",
         "13.49",
         "66",
         "5.7",
         "20.0",
         "CHEAPEST",
         "0.0"
        ],
        [
         "36",
         "False",
         "Doces & Bolos",
         "10.49",
         "56",
         "4.67",
         "10.0",
         "CHEAPEST",
         "0.0"
        ],
        [
         "37",
         "False",
         "Lanches",
         "14.49",
         "64",
         "5.58",
         "20.0",
         "CHEAPEST",
         "0.0"
        ],
        [
         "38",
         "False",
         "Lanches",
         "15.0",
         "50",
         "6.04",
         "15.0",
         "MODERATE",
         "0.0"
        ],
        [
         "39",
         "False",
         "Bebidas",
         "7.99",
         "40",
         "2.46",
         "30.0",
         "CHEAPEST",
         "0.0"
        ],
        [
         "40",
         "False",
         "Brasileira",
         "10.49",
         "56",
         "4.47",
         "20.0",
         "CHEAPEST",
         "0.0"
        ],
        [
         "41",
         "False",
         "Lanches",
         "7.99",
         "44",
         "2.54",
         "20.0",
         "MODERATE",
         "0.0"
        ],
        [
         "42",
         "False",
         "Brasileira",
         "6.99",
         "34",
         "2.12",
         "20.0",
         "CHEAPEST",
         "0.0"
        ],
        [
         "43",
         "False",
         "Bebidas",
         "9.0",
         "45",
         "4.46",
         "0.0",
         "CHEAPEST",
         "0.0"
        ],
        [
         "44",
         "False",
         "Lanches",
         "13.49",
         "60",
         "5.7",
         "20.0",
         "CHEAPEST",
         "0.0"
        ],
        [
         "45",
         "False",
         "Italiana",
         "15.99",
         "35",
         "5.87",
         "20.0",
         "MOST_EXPENSIVE",
         "0.0"
        ],
        [
         "46",
         "False",
         "Típica do Norte",
         "4.99",
         "18",
         "1.96",
         "20.0",
         "CHEAPEST",
         "0.0"
        ],
        [
         "47",
         "False",
         "Marmita",
         "10.49",
         "28",
         "4.56",
         "10.0",
         "CHEAPEST",
         "0.0"
        ],
        [
         "48",
         "False",
         "Hambúrguer",
         "0.0",
         "60",
         "4.95",
         "15.0",
         "CHEAP",
         "0.0"
        ],
        [
         "49",
         "False",
         "Hambúrguer",
         "8.49",
         "41",
         "4.8",
         "20.0",
         "CHEAPEST",
         "0.0"
        ]
       ],
       "shape": {
        "columns": 8,
        "rows": 391674
       }
      },
      "text/html": [
       "<div>\n",
       "<style scoped>\n",
       "    .dataframe tbody tr th:only-of-type {\n",
       "        vertical-align: middle;\n",
       "    }\n",
       "\n",
       "    .dataframe tbody tr th {\n",
       "        vertical-align: top;\n",
       "    }\n",
       "\n",
       "    .dataframe thead th {\n",
       "        text-align: right;\n",
       "    }\n",
       "</style>\n",
       "<table border=\"1\" class=\"dataframe\">\n",
       "  <thead>\n",
       "    <tr style=\"text-align: right;\">\n",
       "      <th></th>\n",
       "      <th>availableForScheduling</th>\n",
       "      <th>category</th>\n",
       "      <th>delivery_fee</th>\n",
       "      <th>delivery_time</th>\n",
       "      <th>distance</th>\n",
       "      <th>minimumOrderValue</th>\n",
       "      <th>price_range</th>\n",
       "      <th>rating</th>\n",
       "    </tr>\n",
       "  </thead>\n",
       "  <tbody>\n",
       "    <tr>\n",
       "      <th>0</th>\n",
       "      <td>False</td>\n",
       "      <td>Marmita</td>\n",
       "      <td>3.99</td>\n",
       "      <td>27</td>\n",
       "      <td>1.22</td>\n",
       "      <td>10.0</td>\n",
       "      <td>CHEAPEST</td>\n",
       "      <td>0.00000</td>\n",
       "    </tr>\n",
       "    <tr>\n",
       "      <th>1</th>\n",
       "      <td>False</td>\n",
       "      <td>Açaí</td>\n",
       "      <td>7.99</td>\n",
       "      <td>61</td>\n",
       "      <td>4.96</td>\n",
       "      <td>10.0</td>\n",
       "      <td>CHEAPEST</td>\n",
       "      <td>0.00000</td>\n",
       "    </tr>\n",
       "    <tr>\n",
       "      <th>2</th>\n",
       "      <td>False</td>\n",
       "      <td>Bebidas</td>\n",
       "      <td>11.99</td>\n",
       "      <td>70</td>\n",
       "      <td>8.35</td>\n",
       "      <td>5.0</td>\n",
       "      <td>MODERATE</td>\n",
       "      <td>0.00000</td>\n",
       "    </tr>\n",
       "    <tr>\n",
       "      <th>3</th>\n",
       "      <td>False</td>\n",
       "      <td>Carnes</td>\n",
       "      <td>16.49</td>\n",
       "      <td>63</td>\n",
       "      <td>6.35</td>\n",
       "      <td>20.0</td>\n",
       "      <td>CHEAPEST</td>\n",
       "      <td>0.00000</td>\n",
       "    </tr>\n",
       "    <tr>\n",
       "      <th>4</th>\n",
       "      <td>False</td>\n",
       "      <td>Brasileira</td>\n",
       "      <td>11.99</td>\n",
       "      <td>58</td>\n",
       "      <td>5.22</td>\n",
       "      <td>20.0</td>\n",
       "      <td>CHEAPEST</td>\n",
       "      <td>0.00000</td>\n",
       "    </tr>\n",
       "    <tr>\n",
       "      <th>...</th>\n",
       "      <td>...</td>\n",
       "      <td>...</td>\n",
       "      <td>...</td>\n",
       "      <td>...</td>\n",
       "      <td>...</td>\n",
       "      <td>...</td>\n",
       "      <td>...</td>\n",
       "      <td>...</td>\n",
       "    </tr>\n",
       "    <tr>\n",
       "      <th>391669</th>\n",
       "      <td>False</td>\n",
       "      <td>Açaí</td>\n",
       "      <td>9.00</td>\n",
       "      <td>60</td>\n",
       "      <td>3.53</td>\n",
       "      <td>30.0</td>\n",
       "      <td>CHEAPEST</td>\n",
       "      <td>4.95000</td>\n",
       "    </tr>\n",
       "    <tr>\n",
       "      <th>391670</th>\n",
       "      <td>False</td>\n",
       "      <td>Açaí</td>\n",
       "      <td>6.00</td>\n",
       "      <td>50</td>\n",
       "      <td>2.60</td>\n",
       "      <td>10.0</td>\n",
       "      <td>CHEAPEST</td>\n",
       "      <td>0.00000</td>\n",
       "    </tr>\n",
       "    <tr>\n",
       "      <th>391671</th>\n",
       "      <td>False</td>\n",
       "      <td>Açaí</td>\n",
       "      <td>0.00</td>\n",
       "      <td>40</td>\n",
       "      <td>3.61</td>\n",
       "      <td>0.0</td>\n",
       "      <td>CHEAPEST</td>\n",
       "      <td>4.46602</td>\n",
       "    </tr>\n",
       "    <tr>\n",
       "      <th>391672</th>\n",
       "      <td>False</td>\n",
       "      <td>Lanches</td>\n",
       "      <td>8.00</td>\n",
       "      <td>60</td>\n",
       "      <td>3.54</td>\n",
       "      <td>20.0</td>\n",
       "      <td>CHEAPEST</td>\n",
       "      <td>5.00000</td>\n",
       "    </tr>\n",
       "    <tr>\n",
       "      <th>391673</th>\n",
       "      <td>False</td>\n",
       "      <td>Doces &amp; Bolos</td>\n",
       "      <td>9.00</td>\n",
       "      <td>20</td>\n",
       "      <td>0.95</td>\n",
       "      <td>0.0</td>\n",
       "      <td>MODERATE</td>\n",
       "      <td>4.84000</td>\n",
       "    </tr>\n",
       "  </tbody>\n",
       "</table>\n",
       "<p>391674 rows × 8 columns</p>\n",
       "</div>"
      ],
      "text/plain": [
       "        availableForScheduling       category  delivery_fee  delivery_time  \\\n",
       "0                        False        Marmita          3.99             27   \n",
       "1                        False           Açaí          7.99             61   \n",
       "2                        False        Bebidas         11.99             70   \n",
       "3                        False         Carnes         16.49             63   \n",
       "4                        False     Brasileira         11.99             58   \n",
       "...                        ...            ...           ...            ...   \n",
       "391669                   False           Açaí          9.00             60   \n",
       "391670                   False           Açaí          6.00             50   \n",
       "391671                   False           Açaí          0.00             40   \n",
       "391672                   False        Lanches          8.00             60   \n",
       "391673                   False  Doces & Bolos          9.00             20   \n",
       "\n",
       "        distance  minimumOrderValue price_range   rating  \n",
       "0           1.22               10.0    CHEAPEST  0.00000  \n",
       "1           4.96               10.0    CHEAPEST  0.00000  \n",
       "2           8.35                5.0    MODERATE  0.00000  \n",
       "3           6.35               20.0    CHEAPEST  0.00000  \n",
       "4           5.22               20.0    CHEAPEST  0.00000  \n",
       "...          ...                ...         ...      ...  \n",
       "391669      3.53               30.0    CHEAPEST  4.95000  \n",
       "391670      2.60               10.0    CHEAPEST  0.00000  \n",
       "391671      3.61                0.0    CHEAPEST  4.46602  \n",
       "391672      3.54               20.0    CHEAPEST  5.00000  \n",
       "391673      0.95                0.0    MODERATE  4.84000  \n",
       "\n",
       "[391674 rows x 8 columns]"
      ]
     },
     "execution_count": 53,
     "metadata": {},
     "output_type": "execute_result"
    }
   ],
   "source": [
    "df"
   ]
  },
  {
   "cell_type": "code",
   "execution_count": 54,
   "metadata": {},
   "outputs": [],
   "source": [
    "numericas = df.select_dtypes(include=['number']).columns.tolist()\n",
    "categoricas = df.select_dtypes(include=['object']).columns.tolist()"
   ]
  },
  {
   "cell_type": "code",
   "execution_count": 55,
   "metadata": {},
   "outputs": [
    {
     "data": {
      "application/vnd.microsoft.datawrangler.viewer.v0+json": {
       "columns": [
        {
         "name": "index",
         "rawType": "object",
         "type": "string"
        },
        {
         "name": "delivery_fee",
         "rawType": "float64",
         "type": "float"
        },
        {
         "name": "delivery_time",
         "rawType": "float64",
         "type": "float"
        },
        {
         "name": "distance",
         "rawType": "float64",
         "type": "float"
        },
        {
         "name": "minimumOrderValue",
         "rawType": "float64",
         "type": "float"
        },
        {
         "name": "rating",
         "rawType": "float64",
         "type": "float"
        }
       ],
       "ref": "13a9c846-e337-4c08-85c4-7ef61afac9ad",
       "rows": [
        [
         "delivery_fee",
         "1.0",
         "0.20823013095891557",
         "0.7240711717402915",
         "0.059944567736370045",
         "0.030998955463585918"
        ],
        [
         "delivery_time",
         "0.20823013095891557",
         "1.0",
         "0.4233207752182989",
         "0.02527515494514924",
         "-0.13834794005302575"
        ],
        [
         "distance",
         "0.7240711717402915",
         "0.4233207752182989",
         "1.0",
         "0.08452350753835332",
         "-0.022032038391302106"
        ],
        [
         "minimumOrderValue",
         "0.059944567736370045",
         "0.02527515494514924",
         "0.08452350753835332",
         "1.0",
         "0.047160564584321094"
        ],
        [
         "rating",
         "0.030998955463585918",
         "-0.13834794005302575",
         "-0.022032038391302106",
         "0.047160564584321094",
         "1.0"
        ]
       ],
       "shape": {
        "columns": 5,
        "rows": 5
       }
      },
      "text/html": [
       "<div>\n",
       "<style scoped>\n",
       "    .dataframe tbody tr th:only-of-type {\n",
       "        vertical-align: middle;\n",
       "    }\n",
       "\n",
       "    .dataframe tbody tr th {\n",
       "        vertical-align: top;\n",
       "    }\n",
       "\n",
       "    .dataframe thead th {\n",
       "        text-align: right;\n",
       "    }\n",
       "</style>\n",
       "<table border=\"1\" class=\"dataframe\">\n",
       "  <thead>\n",
       "    <tr style=\"text-align: right;\">\n",
       "      <th></th>\n",
       "      <th>delivery_fee</th>\n",
       "      <th>delivery_time</th>\n",
       "      <th>distance</th>\n",
       "      <th>minimumOrderValue</th>\n",
       "      <th>rating</th>\n",
       "    </tr>\n",
       "  </thead>\n",
       "  <tbody>\n",
       "    <tr>\n",
       "      <th>delivery_fee</th>\n",
       "      <td>1.000000</td>\n",
       "      <td>0.208230</td>\n",
       "      <td>0.724071</td>\n",
       "      <td>0.059945</td>\n",
       "      <td>0.030999</td>\n",
       "    </tr>\n",
       "    <tr>\n",
       "      <th>delivery_time</th>\n",
       "      <td>0.208230</td>\n",
       "      <td>1.000000</td>\n",
       "      <td>0.423321</td>\n",
       "      <td>0.025275</td>\n",
       "      <td>-0.138348</td>\n",
       "    </tr>\n",
       "    <tr>\n",
       "      <th>distance</th>\n",
       "      <td>0.724071</td>\n",
       "      <td>0.423321</td>\n",
       "      <td>1.000000</td>\n",
       "      <td>0.084524</td>\n",
       "      <td>-0.022032</td>\n",
       "    </tr>\n",
       "    <tr>\n",
       "      <th>minimumOrderValue</th>\n",
       "      <td>0.059945</td>\n",
       "      <td>0.025275</td>\n",
       "      <td>0.084524</td>\n",
       "      <td>1.000000</td>\n",
       "      <td>0.047161</td>\n",
       "    </tr>\n",
       "    <tr>\n",
       "      <th>rating</th>\n",
       "      <td>0.030999</td>\n",
       "      <td>-0.138348</td>\n",
       "      <td>-0.022032</td>\n",
       "      <td>0.047161</td>\n",
       "      <td>1.000000</td>\n",
       "    </tr>\n",
       "  </tbody>\n",
       "</table>\n",
       "</div>"
      ],
      "text/plain": [
       "                   delivery_fee  delivery_time  distance  minimumOrderValue  \\\n",
       "delivery_fee           1.000000       0.208230  0.724071           0.059945   \n",
       "delivery_time          0.208230       1.000000  0.423321           0.025275   \n",
       "distance               0.724071       0.423321  1.000000           0.084524   \n",
       "minimumOrderValue      0.059945       0.025275  0.084524           1.000000   \n",
       "rating                 0.030999      -0.138348 -0.022032           0.047161   \n",
       "\n",
       "                     rating  \n",
       "delivery_fee       0.030999  \n",
       "delivery_time     -0.138348  \n",
       "distance          -0.022032  \n",
       "minimumOrderValue  0.047161  \n",
       "rating             1.000000  "
      ]
     },
     "execution_count": 55,
     "metadata": {},
     "output_type": "execute_result"
    }
   ],
   "source": [
    "df[numericas].corr()"
   ]
  },
  {
   "cell_type": "code",
   "execution_count": 56,
   "metadata": {},
   "outputs": [
    {
     "ename": "ModuleNotFoundError",
     "evalue": "No module named 'seaborn'",
     "output_type": "error",
     "traceback": [
      "\u001b[31m---------------------------------------------------------------------------\u001b[39m",
      "\u001b[31mModuleNotFoundError\u001b[39m                       Traceback (most recent call last)",
      "\u001b[36mCell\u001b[39m\u001b[36m \u001b[39m\u001b[32mIn[56]\u001b[39m\u001b[32m, line 1\u001b[39m\n\u001b[32m----> \u001b[39m\u001b[32m1\u001b[39m \u001b[38;5;28;01mimport\u001b[39;00m\u001b[38;5;250m \u001b[39m\u001b[34;01mseaborn\u001b[39;00m\u001b[38;5;250m \u001b[39m\u001b[38;5;28;01mas\u001b[39;00m\u001b[38;5;250m \u001b[39m\u001b[34;01msns\u001b[39;00m\n\u001b[32m      2\u001b[39m \u001b[38;5;28;01mimport\u001b[39;00m\u001b[38;5;250m \u001b[39m\u001b[34;01mmatplotlib\u001b[39;00m\u001b[34;01m.\u001b[39;00m\u001b[34;01mpyplot\u001b[39;00m\u001b[38;5;250m \u001b[39m\u001b[38;5;28;01mas\u001b[39;00m\u001b[38;5;250m \u001b[39m\u001b[34;01mplt\u001b[39;00m\n\u001b[32m      4\u001b[39m \u001b[38;5;66;03m# Configurar o tamanho da figura\u001b[39;00m\n",
      "\u001b[31mModuleNotFoundError\u001b[39m: No module named 'seaborn'"
     ]
    }
   ],
   "source": [
    "import seaborn as sns\n",
    "import matplotlib.pyplot as plt\n",
    "\n",
    "# Configurar o tamanho da figura\n",
    "plt.figure(figsize=(8, 6))\n",
    "\n",
    "# Criar o mapa de calor\n",
    "sns.heatmap(df[numericas].corr(), annot=True, fmt=\".2f\", cmap='coolwarm', linewidths=.5)\n",
    "\n",
    "# Adicionar título\n",
    "plt.title('Matriz de Correlação')\n",
    "plt.show()"
   ]
  },
  {
   "cell_type": "code",
   "execution_count": null,
   "metadata": {},
   "outputs": [
    {
     "data": {
      "image/png": "[encoded data removed]",
      "text/plain": [
       "<Figure size 1000x600 with 1 Axes>"
      ]
     },
     "metadata": {},
     "output_type": "display_data"
    }
   ],
   "source": [
    "# 2. Plotar scatterplots\n",
    "# Vamos plotar scatterplots para algumas variáveis, por exemplo, \"distance\" e \"delivery_fee\"\n",
    "\n",
    "plt.figure(figsize=(10, 6))\n",
    "sns.scatterplot(data=df, x='distance', y='delivery_fee')\n",
    "plt.title('Scatter Plot entre distance e delivery_fee')\n",
    "plt.xlabel('distance')\n",
    "plt.ylabel('delivery_fee')\n",
    "plt.grid()\n",
    "plt.show()"
   ]
  },
  {
   "cell_type": "markdown",
   "metadata": {},
   "source": [
    "### Correlações quanti vs Quanti"
   ]
  },
  {
   "cell_type": "code",
   "execution_count": null,
   "metadata": {},
   "outputs": [],
   "source": [
    "categoricas = df.select_dtypes(include=['object']).columns.tolist()"
   ]
  },
  {
   "cell_type": "code",
   "execution_count": null,
   "metadata": {},
   "outputs": [
    {
     "data": {
      "text/plain": [
       "['category', 'price_range']"
      ]
     },
     "execution_count": 49,
     "metadata": {},
     "output_type": "execute_result"
    }
   ],
   "source": [
    "categoricas"
   ]
  },
  {
   "cell_type": "code",
   "execution_count": null,
   "metadata": {},
   "outputs": [
    {
     "data": {
      "text/plain": [
       "array(['CHEAPEST', 'MODERATE', 'CHEAP', 'MOST_EXPENSIVE', 'EXPENSIVE'],\n",
       "      dtype=object)"
      ]
     },
     "execution_count": 61,
     "metadata": {},
     "output_type": "execute_result"
    }
   ],
   "source": [
    "df[\"price_range\"].unique()"
   ]
  },
  {
   "cell_type": "code",
   "execution_count": null,
   "metadata": {},
   "outputs": [
    {
     "data": {
      "text/plain": [
       "array(['Marmita', 'Açaí', 'Bebidas', 'Carnes', 'Brasileira', 'Lanches',\n",
       "       'Congelados', 'Pastel', 'Indiana', 'Árabe', 'Doces & Bolos',\n",
       "       'Salgados', 'Italiana', 'Pizza', 'Típica do Norte', 'Hambúrguer',\n",
       "       'Coreana', 'Japonesa', 'Mercado', 'Frangos', 'Cafeteria',\n",
       "       'Padaria', 'Peixes', 'Saudável', 'Frutos Do Mar', 'Cozinha Rápida',\n",
       "       'Variada', 'Nordestina', 'Conveniência', 'Sorvetes', 'Mexicana',\n",
       "       'Portuguesa', 'Chinesa', 'Tapioca', 'Vegetariana', 'Africana',\n",
       "       'Mineira', 'Sopas & Caldos', 'Argentina', 'Contemporânea',\n",
       "       'Vegana', 'Peruana', 'Panqueca', 'Mediterrânea', 'Crepe',\n",
       "       'Yakisoba', 'Alemã', 'Espanhola', 'Francesa', 'Baiana',\n",
       "       'Presentes', 'Asiática', 'Congelados Fit', 'Colombiana',\n",
       "       'Casa de Sucos', 'Tailandesa', 'Gaúcha', 'Paranaense', 'Xis',\n",
       "       'Grega'], dtype=object)"
      ]
     },
     "execution_count": 50,
     "metadata": {},
     "output_type": "execute_result"
    }
   ],
   "source": [
    "df[\"category\"].unique()"
   ]
  },
  {
   "cell_type": "code",
   "execution_count": null,
   "metadata": {},
   "outputs": [
    {
     "data": {
      "text/plain": [
       "category\n",
       "Lanches            96750\n",
       "Brasileira         71638\n",
       "Doces & Bolos      38706\n",
       "Pizza              34393\n",
       "Açaí               21824\n",
       "Marmita            16332\n",
       "Bebidas            12524\n",
       "Japonesa           12370\n",
       "Saudável            9500\n",
       "Salgados            9423\n",
       "Carnes              7922\n",
       "Italiana            6450\n",
       "Hambúrguer          6264\n",
       "Sorvetes            5865\n",
       "Pastel              5801\n",
       "Padaria             4126\n",
       "Variada             3935\n",
       "Mercado             3077\n",
       "Cafeteria           3076\n",
       "Conveniência        2937\n",
       "Árabe               2642\n",
       "Cozinha Rápida      2445\n",
       "Congelados          1918\n",
       "Chinesa             1841\n",
       "Frutos Do Mar       1275\n",
       "Mexicana             845\n",
       "Vegetariana          836\n",
       "Vegana               631\n",
       "Peixes               610\n",
       "Frangos              561\n",
       "Contemporânea        534\n",
       "Francesa             487\n",
       "Casa de Sucos        351\n",
       "Argentina            345\n",
       "Sopas & Caldos       299\n",
       "Portuguesa           288\n",
       "Mineira              262\n",
       "Nordestina           258\n",
       "Tapioca              240\n",
       "Crepe                222\n",
       "Mediterrânea         195\n",
       "Alemã                171\n",
       "Congelados Fit       166\n",
       "Baiana               148\n",
       "Panqueca             145\n",
       "Asiática             143\n",
       "Yakisoba             139\n",
       "Peruana              137\n",
       "Africana              87\n",
       "Espanhola             78\n",
       "Xis                   74\n",
       "Tailandesa            67\n",
       "Indiana               66\n",
       "Presentes             61\n",
       "Coreana               57\n",
       "Gaúcha                50\n",
       "Colombiana            46\n",
       "Típica do Norte       31\n",
       "Grega                  6\n",
       "Paranaense             4\n",
       "Name: count, dtype: int64"
      ]
     },
     "execution_count": 51,
     "metadata": {},
     "output_type": "execute_result"
    }
   ],
   "source": [
    "df[\"category\"].value_counts()"
   ]
  },
  {
   "cell_type": "code",
   "execution_count": null,
   "metadata": {},
   "outputs": [
    {
     "data": {
      "text/html": [
       "<div>\n",
       "<style scoped>\n",
       "    .dataframe tbody tr th:only-of-type {\n",
       "        vertical-align: middle;\n",
       "    }\n",
       "\n",
       "    .dataframe tbody tr th {\n",
       "        vertical-align: top;\n",
       "    }\n",
       "\n",
       "    .dataframe thead th {\n",
       "        text-align: right;\n",
       "    }\n",
       "</style>\n",
       "<table border=\"1\" class=\"dataframe\">\n",
       "  <thead>\n",
       "    <tr style=\"text-align: right;\">\n",
       "      <th></th>\n",
       "      <th>availableForScheduling</th>\n",
       "      <th>category</th>\n",
       "      <th>delivery_fee</th>\n",
       "      <th>delivery_time</th>\n",
       "      <th>distance</th>\n",
       "      <th>minimumOrderValue</th>\n",
       "      <th>price_range</th>\n",
       "      <th>rating</th>\n",
       "    </tr>\n",
       "  </thead>\n",
       "  <tbody>\n",
       "    <tr>\n",
       "      <th>1</th>\n",
       "      <td>False</td>\n",
       "      <td>Açaí</td>\n",
       "      <td>7.99</td>\n",
       "      <td>61</td>\n",
       "      <td>4.96</td>\n",
       "      <td>10.0</td>\n",
       "      <td>CHEAPEST</td>\n",
       "      <td>0.00000</td>\n",
       "    </tr>\n",
       "    <tr>\n",
       "      <th>26</th>\n",
       "      <td>False</td>\n",
       "      <td>Salgados</td>\n",
       "      <td>12.49</td>\n",
       "      <td>60</td>\n",
       "      <td>5.19</td>\n",
       "      <td>20.0</td>\n",
       "      <td>CHEAPEST</td>\n",
       "      <td>0.00000</td>\n",
       "    </tr>\n",
       "    <tr>\n",
       "      <th>63</th>\n",
       "      <td>False</td>\n",
       "      <td>Salgados</td>\n",
       "      <td>8.99</td>\n",
       "      <td>55</td>\n",
       "      <td>4.80</td>\n",
       "      <td>20.0</td>\n",
       "      <td>CHEAP</td>\n",
       "      <td>0.00000</td>\n",
       "    </tr>\n",
       "    <tr>\n",
       "      <th>65</th>\n",
       "      <td>False</td>\n",
       "      <td>Japonesa</td>\n",
       "      <td>0.00</td>\n",
       "      <td>39</td>\n",
       "      <td>3.96</td>\n",
       "      <td>25.0</td>\n",
       "      <td>CHEAPEST</td>\n",
       "      <td>0.00000</td>\n",
       "    </tr>\n",
       "    <tr>\n",
       "      <th>93</th>\n",
       "      <td>False</td>\n",
       "      <td>Salgados</td>\n",
       "      <td>3.00</td>\n",
       "      <td>40</td>\n",
       "      <td>3.24</td>\n",
       "      <td>10.0</td>\n",
       "      <td>CHEAPEST</td>\n",
       "      <td>0.00000</td>\n",
       "    </tr>\n",
       "    <tr>\n",
       "      <th>...</th>\n",
       "      <td>...</td>\n",
       "      <td>...</td>\n",
       "      <td>...</td>\n",
       "      <td>...</td>\n",
       "      <td>...</td>\n",
       "      <td>...</td>\n",
       "      <td>...</td>\n",
       "      <td>...</td>\n",
       "    </tr>\n",
       "    <tr>\n",
       "      <th>391660</th>\n",
       "      <td>False</td>\n",
       "      <td>Açaí</td>\n",
       "      <td>5.00</td>\n",
       "      <td>40</td>\n",
       "      <td>1.68</td>\n",
       "      <td>15.0</td>\n",
       "      <td>CHEAPEST</td>\n",
       "      <td>4.57143</td>\n",
       "    </tr>\n",
       "    <tr>\n",
       "      <th>391663</th>\n",
       "      <td>False</td>\n",
       "      <td>Açaí</td>\n",
       "      <td>5.00</td>\n",
       "      <td>50</td>\n",
       "      <td>2.56</td>\n",
       "      <td>13.0</td>\n",
       "      <td>CHEAPEST</td>\n",
       "      <td>4.05882</td>\n",
       "    </tr>\n",
       "    <tr>\n",
       "      <th>391669</th>\n",
       "      <td>False</td>\n",
       "      <td>Açaí</td>\n",
       "      <td>9.00</td>\n",
       "      <td>60</td>\n",
       "      <td>3.53</td>\n",
       "      <td>30.0</td>\n",
       "      <td>CHEAPEST</td>\n",
       "      <td>4.95000</td>\n",
       "    </tr>\n",
       "    <tr>\n",
       "      <th>391670</th>\n",
       "      <td>False</td>\n",
       "      <td>Açaí</td>\n",
       "      <td>6.00</td>\n",
       "      <td>50</td>\n",
       "      <td>2.60</td>\n",
       "      <td>10.0</td>\n",
       "      <td>CHEAPEST</td>\n",
       "      <td>0.00000</td>\n",
       "    </tr>\n",
       "    <tr>\n",
       "      <th>391671</th>\n",
       "      <td>False</td>\n",
       "      <td>Açaí</td>\n",
       "      <td>0.00</td>\n",
       "      <td>40</td>\n",
       "      <td>3.61</td>\n",
       "      <td>0.0</td>\n",
       "      <td>CHEAPEST</td>\n",
       "      <td>4.46602</td>\n",
       "    </tr>\n",
       "  </tbody>\n",
       "</table>\n",
       "<p>43617 rows × 8 columns</p>\n",
       "</div>"
      ],
      "text/plain": [
       "        availableForScheduling  category  delivery_fee  delivery_time  \\\n",
       "1                        False      Açaí          7.99             61   \n",
       "26                       False  Salgados         12.49             60   \n",
       "63                       False  Salgados          8.99             55   \n",
       "65                       False  Japonesa          0.00             39   \n",
       "93                       False  Salgados          3.00             40   \n",
       "...                        ...       ...           ...            ...   \n",
       "391660                   False      Açaí          5.00             40   \n",
       "391663                   False      Açaí          5.00             50   \n",
       "391669                   False      Açaí          9.00             60   \n",
       "391670                   False      Açaí          6.00             50   \n",
       "391671                   False      Açaí          0.00             40   \n",
       "\n",
       "        distance  minimumOrderValue price_range   rating  \n",
       "1           4.96               10.0    CHEAPEST  0.00000  \n",
       "26          5.19               20.0    CHEAPEST  0.00000  \n",
       "63          4.80               20.0       CHEAP  0.00000  \n",
       "65          3.96               25.0    CHEAPEST  0.00000  \n",
       "93          3.24               10.0    CHEAPEST  0.00000  \n",
       "...          ...                ...         ...      ...  \n",
       "391660      1.68               15.0    CHEAPEST  4.57143  \n",
       "391663      2.56               13.0    CHEAPEST  4.05882  \n",
       "391669      3.53               30.0    CHEAPEST  4.95000  \n",
       "391670      2.60               10.0    CHEAPEST  0.00000  \n",
       "391671      3.61                0.0    CHEAPEST  4.46602  \n",
       "\n",
       "[43617 rows x 8 columns]"
      ]
     },
     "execution_count": 53,
     "metadata": {},
     "output_type": "execute_result"
    }
   ],
   "source": [
    "df_categorias_escolhidas = df[df[\"category\"].isin([\"Salgados\", \"Açaí\", \"Japonesa\"])]\n",
    "df_categorias_escolhidas"
   ]
  },
  {
   "cell_type": "code",
   "execution_count": null,
   "metadata": {},
   "outputs": [
    {
     "data": {
      "text/html": [
       "<div>\n",
       "<style scoped>\n",
       "    .dataframe tbody tr th:only-of-type {\n",
       "        vertical-align: middle;\n",
       "    }\n",
       "\n",
       "    .dataframe tbody tr th {\n",
       "        vertical-align: top;\n",
       "    }\n",
       "\n",
       "    .dataframe thead th {\n",
       "        text-align: right;\n",
       "    }\n",
       "</style>\n",
       "<table border=\"1\" class=\"dataframe\">\n",
       "  <thead>\n",
       "    <tr style=\"text-align: right;\">\n",
       "      <th>price_range</th>\n",
       "      <th>CHEAP</th>\n",
       "      <th>CHEAPEST</th>\n",
       "      <th>EXPENSIVE</th>\n",
       "      <th>MODERATE</th>\n",
       "      <th>MOST_EXPENSIVE</th>\n",
       "    </tr>\n",
       "    <tr>\n",
       "      <th>category</th>\n",
       "      <th></th>\n",
       "      <th></th>\n",
       "      <th></th>\n",
       "      <th></th>\n",
       "      <th></th>\n",
       "    </tr>\n",
       "  </thead>\n",
       "  <tbody>\n",
       "    <tr>\n",
       "      <th>Açaí</th>\n",
       "      <td>1952</td>\n",
       "      <td>19453</td>\n",
       "      <td>43</td>\n",
       "      <td>359</td>\n",
       "      <td>17</td>\n",
       "    </tr>\n",
       "    <tr>\n",
       "      <th>Japonesa</th>\n",
       "      <td>926</td>\n",
       "      <td>5199</td>\n",
       "      <td>2027</td>\n",
       "      <td>2787</td>\n",
       "      <td>1431</td>\n",
       "    </tr>\n",
       "    <tr>\n",
       "      <th>Salgados</th>\n",
       "      <td>1151</td>\n",
       "      <td>7347</td>\n",
       "      <td>107</td>\n",
       "      <td>797</td>\n",
       "      <td>21</td>\n",
       "    </tr>\n",
       "  </tbody>\n",
       "</table>\n",
       "</div>"
      ],
      "text/plain": [
       "price_range  CHEAP  CHEAPEST  EXPENSIVE  MODERATE  MOST_EXPENSIVE\n",
       "category                                                         \n",
       "Açaí          1952     19453         43       359              17\n",
       "Japonesa       926      5199       2027      2787            1431\n",
       "Salgados      1151      7347        107       797              21"
      ]
     },
     "execution_count": 54,
     "metadata": {},
     "output_type": "execute_result"
    }
   ],
   "source": [
    "# 1. Criar tabela de contingência\n",
    "contingency_table = pd.crosstab(df_categorias_escolhidas['category'], df_categorias_escolhidas['price_range'])\n",
    "contingency_table"
   ]
  },
  {
   "cell_type": "code",
   "execution_count": null,
   "metadata": {},
   "outputs": [
    {
     "data": {
      "text/plain": [
       "category\n",
       "Açaí        21824\n",
       "Japonesa    12370\n",
       "Salgados     9423\n",
       "dtype: int64"
      ]
     },
     "execution_count": 58,
     "metadata": {},
     "output_type": "execute_result"
    }
   ],
   "source": [
    "contingency_table.sum(axis=1)"
   ]
  },
  {
   "cell_type": "code",
   "execution_count": null,
   "metadata": {},
   "outputs": [
    {
     "data": {
      "text/html": [
       "<div>\n",
       "<style scoped>\n",
       "    .dataframe tbody tr th:only-of-type {\n",
       "        vertical-align: middle;\n",
       "    }\n",
       "\n",
       "    .dataframe tbody tr th {\n",
       "        vertical-align: top;\n",
       "    }\n",
       "\n",
       "    .dataframe thead th {\n",
       "        text-align: right;\n",
       "    }\n",
       "</style>\n",
       "<table border=\"1\" class=\"dataframe\">\n",
       "  <thead>\n",
       "    <tr style=\"text-align: right;\">\n",
       "      <th>price_range</th>\n",
       "      <th>CHEAP</th>\n",
       "      <th>CHEAPEST</th>\n",
       "      <th>EXPENSIVE</th>\n",
       "      <th>MODERATE</th>\n",
       "      <th>MOST_EXPENSIVE</th>\n",
       "    </tr>\n",
       "    <tr>\n",
       "      <th>category</th>\n",
       "      <th></th>\n",
       "      <th></th>\n",
       "      <th></th>\n",
       "      <th></th>\n",
       "      <th></th>\n",
       "    </tr>\n",
       "  </thead>\n",
       "  <tbody>\n",
       "    <tr>\n",
       "      <th>Açaí</th>\n",
       "      <td>0.089443</td>\n",
       "      <td>0.891358</td>\n",
       "      <td>0.001970</td>\n",
       "      <td>0.016450</td>\n",
       "      <td>0.000779</td>\n",
       "    </tr>\n",
       "    <tr>\n",
       "      <th>Japonesa</th>\n",
       "      <td>0.074859</td>\n",
       "      <td>0.420291</td>\n",
       "      <td>0.163864</td>\n",
       "      <td>0.225303</td>\n",
       "      <td>0.115683</td>\n",
       "    </tr>\n",
       "    <tr>\n",
       "      <th>Salgados</th>\n",
       "      <td>0.122148</td>\n",
       "      <td>0.779688</td>\n",
       "      <td>0.011355</td>\n",
       "      <td>0.084580</td>\n",
       "      <td>0.002229</td>\n",
       "    </tr>\n",
       "  </tbody>\n",
       "</table>\n",
       "</div>"
      ],
      "text/plain": [
       "price_range     CHEAP  CHEAPEST  EXPENSIVE  MODERATE  MOST_EXPENSIVE\n",
       "category                                                            \n",
       "Açaí         0.089443  0.891358   0.001970  0.016450        0.000779\n",
       "Japonesa     0.074859  0.420291   0.163864  0.225303        0.115683\n",
       "Salgados     0.122148  0.779688   0.011355  0.084580        0.002229"
      ]
     },
     "execution_count": 59,
     "metadata": {},
     "output_type": "execute_result"
    }
   ],
   "source": [
    "contingency_table.div(contingency_table.sum(axis=1), axis=0)"
   ]
  },
  {
   "cell_type": "code",
   "execution_count": null,
   "metadata": {},
   "outputs": [],
   "source": [
    "from scipy.stats import chi2_contingency"
   ]
  },
  {
   "cell_type": "code",
   "execution_count": null,
   "metadata": {},
   "outputs": [
    {
     "name": "stdout",
     "output_type": "stream",
     "text": [
      "Tabela de Contingência:\n",
      "price_range  CHEAP  CHEAPEST  EXPENSIVE  MODERATE  MOST_EXPENSIVE\n",
      "category                                                         \n",
      "Açaí          1952     19453         43       359              17\n",
      "Japonesa       926      5199       2027      2787            1431\n",
      "Salgados      1151      7347        107       797              21\n",
      "\n",
      "\n",
      "Cramer V: 0.4052\n"
     ]
    }
   ],
   "source": [
    "# 2. Calcular Chi-quadrado e o p-valor\n",
    "chi2, p, dof, expected = chi2_contingency(contingency_table)\n",
    "\n",
    "# 3. Calcular Cramer V\n",
    "n = contingency_table.sum().sum()  # Total de observações\n",
    "phi2 = chi2 / n  # Phi²\n",
    "r, k = contingency_table.shape  # número de linhas e colunas\n",
    "cramer_v = np.sqrt(phi2 / min(k - 1, r - 1))  # Cramer V\n",
    "\n",
    "# 4. Imprimir os resultados\n",
    "print(\"Tabela de Contingência:\")\n",
    "print(contingency_table)\n",
    "print(\"\\n\")\n",
    "print(f\"Cramer V: {cramer_v:.4f}\")"
   ]
  },
  {
   "cell_type": "markdown",
   "metadata": {},
   "source": [
    "### Correlações Quali versus Quanti"
   ]
  },
  {
   "cell_type": "code",
   "execution_count": null,
   "metadata": {},
   "outputs": [],
   "source": [
    "df = pd.read_csv(\"./base_ifood_limpa.csv\", sep=\";\", header=0).drop(\"Unnamed: 0\", axis=1)"
   ]
  },
  {
   "cell_type": "code",
   "execution_count": null,
   "metadata": {},
   "outputs": [],
   "source": [
    "numericas = df.select_dtypes(include=['number']).columns.tolist()\n",
    "categoricas = df.select_dtypes(include=['object']).columns.tolist()"
   ]
  },
  {
   "cell_type": "code",
   "execution_count": null,
   "metadata": {},
   "outputs": [
    {
     "data": {
      "text/plain": [
       "['delivery_fee', 'delivery_time', 'distance', 'minimumOrderValue', 'rating']"
      ]
     },
     "execution_count": 65,
     "metadata": {},
     "output_type": "execute_result"
    }
   ],
   "source": [
    "numericas"
   ]
  },
  {
   "cell_type": "code",
   "execution_count": null,
   "metadata": {},
   "outputs": [
    {
     "data": {
      "text/plain": [
       "['category', 'price_range']"
      ]
     },
     "execution_count": 66,
     "metadata": {},
     "output_type": "execute_result"
    }
   ],
   "source": [
    "categoricas"
   ]
  },
  {
   "cell_type": "code",
   "execution_count": null,
   "metadata": {},
   "outputs": [],
   "source": [
    "### Questões interessantes para analisarmos\n",
    "\"\"\"\n",
    "    - Existe diferença entre categorias de restaurantes/alimentos com relação a pedido mínimo?\n",
    "    - E quando comparamos price_range com a taxa de entrega ou tempo de entrega? Existe diferença?\n",
    "    - E o rating dos restaurantes? Existe relação entre rating e price_range?\n",
    "\"\"\""
   ]
  },
  {
   "cell_type": "code",
   "execution_count": null,
   "metadata": {},
   "outputs": [
    {
     "data": {
      "text/plain": [
       "category\n",
       "Lanches            96750\n",
       "Brasileira         71638\n",
       "Doces & Bolos      38706\n",
       "Pizza              34393\n",
       "Açaí               21824\n",
       "Marmita            16332\n",
       "Bebidas            12524\n",
       "Japonesa           12370\n",
       "Saudável            9500\n",
       "Salgados            9423\n",
       "Carnes              7922\n",
       "Italiana            6450\n",
       "Hambúrguer          6264\n",
       "Sorvetes            5865\n",
       "Pastel              5801\n",
       "Padaria             4126\n",
       "Variada             3935\n",
       "Mercado             3077\n",
       "Cafeteria           3076\n",
       "Conveniência        2937\n",
       "Árabe               2642\n",
       "Cozinha Rápida      2445\n",
       "Congelados          1918\n",
       "Chinesa             1841\n",
       "Frutos Do Mar       1275\n",
       "Mexicana             845\n",
       "Vegetariana          836\n",
       "Vegana               631\n",
       "Peixes               610\n",
       "Frangos              561\n",
       "Contemporânea        534\n",
       "Francesa             487\n",
       "Casa de Sucos        351\n",
       "Argentina            345\n",
       "Sopas & Caldos       299\n",
       "Portuguesa           288\n",
       "Mineira              262\n",
       "Nordestina           258\n",
       "Tapioca              240\n",
       "Crepe                222\n",
       "Mediterrânea         195\n",
       "Alemã                171\n",
       "Congelados Fit       166\n",
       "Baiana               148\n",
       "Panqueca             145\n",
       "Asiática             143\n",
       "Yakisoba             139\n",
       "Peruana              137\n",
       "Africana              87\n",
       "Espanhola             78\n",
       "Xis                   74\n",
       "Tailandesa            67\n",
       "Indiana               66\n",
       "Presentes             61\n",
       "Coreana               57\n",
       "Gaúcha                50\n",
       "Colombiana            46\n",
       "Típica do Norte       31\n",
       "Grega                  6\n",
       "Paranaense             4\n",
       "Name: count, dtype: int64"
      ]
     },
     "execution_count": 71,
     "metadata": {},
     "output_type": "execute_result"
    }
   ],
   "source": [
    "df[\"category\"].value_counts()"
   ]
  },
  {
   "cell_type": "code",
   "execution_count": null,
   "metadata": {},
   "outputs": [],
   "source": [
    "categories_to_use = [\"Lanches\", \"Brasileira\", \"Doces & Bolos\", \"Pizza\", \"Açaí\"]\n",
    "\n",
    "df_tmp = df[df[\"category\"].isin(categories_to_use)]"
   ]
  },
  {
   "cell_type": "code",
   "execution_count": null,
   "metadata": {},
   "outputs": [
    {
     "data": {
      "text/html": [
       "<div>\n",
       "<style scoped>\n",
       "    .dataframe tbody tr th:only-of-type {\n",
       "        vertical-align: middle;\n",
       "    }\n",
       "\n",
       "    .dataframe tbody tr th {\n",
       "        vertical-align: top;\n",
       "    }\n",
       "\n",
       "    .dataframe thead th {\n",
       "        text-align: right;\n",
       "    }\n",
       "</style>\n",
       "<table border=\"1\" class=\"dataframe\">\n",
       "  <thead>\n",
       "    <tr style=\"text-align: right;\">\n",
       "      <th></th>\n",
       "      <th>mean</th>\n",
       "    </tr>\n",
       "    <tr>\n",
       "      <th>category</th>\n",
       "      <th></th>\n",
       "    </tr>\n",
       "  </thead>\n",
       "  <tbody>\n",
       "    <tr>\n",
       "      <th>Açaí</th>\n",
       "      <td>10.029079</td>\n",
       "    </tr>\n",
       "    <tr>\n",
       "      <th>Brasileira</th>\n",
       "      <td>15.166077</td>\n",
       "    </tr>\n",
       "    <tr>\n",
       "      <th>Doces &amp; Bolos</th>\n",
       "      <td>10.435906</td>\n",
       "    </tr>\n",
       "    <tr>\n",
       "      <th>Lanches</th>\n",
       "      <td>14.587576</td>\n",
       "    </tr>\n",
       "    <tr>\n",
       "      <th>Pizza</th>\n",
       "      <td>17.591943</td>\n",
       "    </tr>\n",
       "  </tbody>\n",
       "</table>\n",
       "</div>"
      ],
      "text/plain": [
       "                    mean\n",
       "category                \n",
       "Açaí           10.029079\n",
       "Brasileira     15.166077\n",
       "Doces & Bolos  10.435906\n",
       "Lanches        14.587576\n",
       "Pizza          17.591943"
      ]
     },
     "execution_count": 73,
     "metadata": {},
     "output_type": "execute_result"
    }
   ],
   "source": [
    "df_tmp.groupby(\"category\")[\"minimumOrderValue\"].agg([\"mean\"])"
   ]
  },
  {
   "cell_type": "code",
   "execution_count": null,
   "metadata": {},
   "outputs": [
    {
     "data": {
      "text/plain": [
       "<Axes: xlabel='category'>"
      ]
     },
     "execution_count": 74,
     "metadata": {},
     "output_type": "execute_result"
    },
    {
     "data": {
      "image/png": "[encoded data removed]",
      "text/plain": [
       "<Figure size 640x480 with 1 Axes>"
      ]
     },
     "metadata": {},
     "output_type": "display_data"
    }
   ],
   "source": [
    "df_tmp.groupby(\"category\")[\"minimumOrderValue\"].agg([\"mean\"]).plot.bar()"
   ]
  },
  {
   "cell_type": "code",
   "execution_count": null,
   "metadata": {},
   "outputs": [
    {
     "name": "stderr",
     "output_type": "stream",
     "text": [
      "/var/folders/ng/rp490629717790w76dhtph840000gn/T/ipykernel_3472/3214914362.py:6: FutureWarning: The provided callable <function std at 0x107c380e0> is currently using SeriesGroupBy.std. In a future version of pandas, the provided callable will be used directly. To keep current behavior pass the string \"std\" instead.\n",
      "  df_tmp.groupby(\"category\")[\"minimumOrderValue\"].agg([\"mean\", np.std])\n"
     ]
    },
    {
     "data": {
      "text/html": [
       "<div>\n",
       "<style scoped>\n",
       "    .dataframe tbody tr th:only-of-type {\n",
       "        vertical-align: middle;\n",
       "    }\n",
       "\n",
       "    .dataframe tbody tr th {\n",
       "        vertical-align: top;\n",
       "    }\n",
       "\n",
       "    .dataframe thead th {\n",
       "        text-align: right;\n",
       "    }\n",
       "</style>\n",
       "<table border=\"1\" class=\"dataframe\">\n",
       "  <thead>\n",
       "    <tr style=\"text-align: right;\">\n",
       "      <th></th>\n",
       "      <th>mean</th>\n",
       "      <th>std</th>\n",
       "    </tr>\n",
       "    <tr>\n",
       "      <th>category</th>\n",
       "      <th></th>\n",
       "      <th></th>\n",
       "    </tr>\n",
       "  </thead>\n",
       "  <tbody>\n",
       "    <tr>\n",
       "      <th>Açaí</th>\n",
       "      <td>10.029079</td>\n",
       "      <td>4.759467</td>\n",
       "    </tr>\n",
       "    <tr>\n",
       "      <th>Brasileira</th>\n",
       "      <td>15.166077</td>\n",
       "      <td>7.061473</td>\n",
       "    </tr>\n",
       "    <tr>\n",
       "      <th>Doces &amp; Bolos</th>\n",
       "      <td>10.435906</td>\n",
       "      <td>4.461472</td>\n",
       "    </tr>\n",
       "    <tr>\n",
       "      <th>Lanches</th>\n",
       "      <td>14.587576</td>\n",
       "      <td>7.459041</td>\n",
       "    </tr>\n",
       "    <tr>\n",
       "      <th>Pizza</th>\n",
       "      <td>17.591943</td>\n",
       "      <td>9.349869</td>\n",
       "    </tr>\n",
       "  </tbody>\n",
       "</table>\n",
       "</div>"
      ],
      "text/plain": [
       "                    mean       std\n",
       "category                          \n",
       "Açaí           10.029079  4.759467\n",
       "Brasileira     15.166077  7.061473\n",
       "Doces & Bolos  10.435906  4.461472\n",
       "Lanches        14.587576  7.459041\n",
       "Pizza          17.591943  9.349869"
      ]
     },
     "execution_count": 77,
     "metadata": {},
     "output_type": "execute_result"
    }
   ],
   "source": [
    "### E o desvio padrão?\n",
    "import numpy as np\n",
    "\n",
    "df_tmp.groupby(\"category\")[\"minimumOrderValue\"].agg([\"mean\", np.std])"
   ]
  },
  {
   "cell_type": "code",
   "execution_count": null,
   "metadata": {},
   "outputs": [
    {
     "data": {
      "text/plain": [
       "<Axes: title={'center': 'minimumOrderValue'}, xlabel='category'>"
      ]
     },
     "execution_count": 80,
     "metadata": {},
     "output_type": "execute_result"
    },
    {
     "data": {
      "image/png": "[encoded data removed]",
      "text/plain": [
       "<Figure size 640x480 with 1 Axes>"
      ]
     },
     "metadata": {},
     "output_type": "display_data"
    }
   ],
   "source": [
    "df_tmp.boxplot(column=\"minimumOrderValue\", by=\"category\")"
   ]
  },
  {
   "cell_type": "code",
   "execution_count": null,
   "metadata": {},
   "outputs": [
    {
     "data": {
      "text/html": [
       "<div>\n",
       "<style scoped>\n",
       "    .dataframe tbody tr th:only-of-type {\n",
       "        vertical-align: middle;\n",
       "    }\n",
       "\n",
       "    .dataframe tbody tr th {\n",
       "        vertical-align: top;\n",
       "    }\n",
       "\n",
       "    .dataframe thead tr th {\n",
       "        text-align: left;\n",
       "    }\n",
       "\n",
       "    .dataframe thead tr:last-of-type th {\n",
       "        text-align: right;\n",
       "    }\n",
       "</style>\n",
       "<table border=\"1\" class=\"dataframe\">\n",
       "  <thead>\n",
       "    <tr>\n",
       "      <th></th>\n",
       "      <th>delivery_fee</th>\n",
       "      <th>delivery_time</th>\n",
       "    </tr>\n",
       "    <tr>\n",
       "      <th></th>\n",
       "      <th>mean</th>\n",
       "      <th>mean</th>\n",
       "    </tr>\n",
       "    <tr>\n",
       "      <th>price_range</th>\n",
       "      <th></th>\n",
       "      <th></th>\n",
       "    </tr>\n",
       "  </thead>\n",
       "  <tbody>\n",
       "    <tr>\n",
       "      <th>CHEAP</th>\n",
       "      <td>6.319747</td>\n",
       "      <td>46.115655</td>\n",
       "    </tr>\n",
       "    <tr>\n",
       "      <th>CHEAPEST</th>\n",
       "      <td>6.643133</td>\n",
       "      <td>46.650156</td>\n",
       "    </tr>\n",
       "    <tr>\n",
       "      <th>EXPENSIVE</th>\n",
       "      <td>8.096070</td>\n",
       "      <td>45.311963</td>\n",
       "    </tr>\n",
       "    <tr>\n",
       "      <th>MODERATE</th>\n",
       "      <td>6.971140</td>\n",
       "      <td>46.003002</td>\n",
       "    </tr>\n",
       "    <tr>\n",
       "      <th>MOST_EXPENSIVE</th>\n",
       "      <td>9.394744</td>\n",
       "      <td>45.372359</td>\n",
       "    </tr>\n",
       "  </tbody>\n",
       "</table>\n",
       "</div>"
      ],
      "text/plain": [
       "               delivery_fee delivery_time\n",
       "                       mean          mean\n",
       "price_range                              \n",
       "CHEAP              6.319747     46.115655\n",
       "CHEAPEST           6.643133     46.650156\n",
       "EXPENSIVE          8.096070     45.311963\n",
       "MODERATE           6.971140     46.003002\n",
       "MOST_EXPENSIVE     9.394744     45.372359"
      ]
     },
     "execution_count": 82,
     "metadata": {},
     "output_type": "execute_result"
    }
   ],
   "source": [
    "df.groupby(\"price_range\")[[\"delivery_fee\", \"delivery_time\"]].agg([\"mean\"])"
   ]
  },
  {
   "cell_type": "code",
   "execution_count": null,
   "metadata": {},
   "outputs": [
    {
     "data": {
      "text/plain": [
       "<Axes: xlabel='price_range'>"
      ]
     },
     "execution_count": 83,
     "metadata": {},
     "output_type": "execute_result"
    },
    {
     "data": {
      "image/png": "[encoded data removed]",
      "text/plain": [
       "<Figure size 640x480 with 1 Axes>"
      ]
     },
     "metadata": {},
     "output_type": "display_data"
    }
   ],
   "source": [
    "df.groupby(\"price_range\")[[\"delivery_fee\"]].agg([\"mean\"]).plot.bar()"
   ]
  },
  {
   "cell_type": "code",
   "execution_count": null,
   "metadata": {},
   "outputs": [
    {
     "data": {
      "text/plain": [
       "<Axes: title={'center': 'delivery_fee'}, xlabel='price_range'>"
      ]
     },
     "execution_count": 85,
     "metadata": {},
     "output_type": "execute_result"
    },
    {
     "data": {
      "image/png": "[encoded data removed]",
      "text/plain": [
       "<Figure size 640x480 with 1 Axes>"
      ]
     },
     "metadata": {},
     "output_type": "display_data"
    }
   ],
   "source": [
    "df.boxplot(column=\"delivery_fee\", by=\"price_range\")"
   ]
  },
  {
   "cell_type": "code",
   "execution_count": null,
   "metadata": {},
   "outputs": [
    {
     "data": {
      "text/plain": [
       "np.float64(6.5)"
      ]
     },
     "execution_count": 90,
     "metadata": {},
     "output_type": "execute_result"
    }
   ],
   "source": [
    "lista = [2, 3, 4, 5, 6, 7, 8, 9, 10, 12]\n",
    "np.quantile(lista, q=0.5)"
   ]
  },
  {
   "cell_type": "code",
   "execution_count": null,
   "metadata": {},
   "outputs": [],
   "source": []
  }
 ],
 "metadata": {
  "kernelspec": {
   "display_name": "Python 3",
   "language": "python",
   "name": "python3"
  },
  "language_info": {
   "codemirror_mode": {
    "name": "ipython",
    "version": 3
   },
   "file_extension": ".py",
   "mimetype": "text/x-python",
   "name": "python",
   "nbconvert_exporter": "python",
   "pygments_lexer": "ipython3",
   "version": "3.13.5"
  }
 },
 "nbformat": 4,
 "nbformat_minor": 2
}
