{
  "nbformat": 4,
  "nbformat_minor": 0,
  "metadata": {
    "colab": {
      "provenance": []
    },
    "kernelspec": {
      "name": "python3",
      "display_name": "Python 3"
    }
  },
  "cells": [
    {
      "cell_type": "markdown",
      "metadata": {
        "id": "qYCkW9PQFlBk"
      },
      "source": [
        "## 🎓 **Aula sobre: Estatística Descritiva e Inferencial**\n",
        "\n",
        "<br>\n",
        "\n",
        "### 🧭 Sumário da Aula\n",
        "\n",
        "| # | Sub-tópico                        | Tempo Estimado | Complexidade |\n",
        "|---|-----------------------------------|----------------|--------------|\n",
        "| 1 | Ficha de Revisão Rápida           | ~1 min         | ⭐           |\n",
        "| 2 | Mergulho Profundo                 | ~15 min        | ⭐⭐⭐⭐       |\n",
        "| 3 | Profundezas e Conexões            | ~3 min         | ⭐⭐         |\n",
        "| 4 | 🚀 Ação e Verificação              | ~5 min         | ⭐⭐         |\n",
        "| 5 | 🌊 Mergulhos Adicionais Opcionais  | Opcional      | ⭐⭐⭐⭐      |\n",
        "\n",
        "<br>\n",
        "\n",
        "---\n",
        "<br>\n"
      ]
    },
    {
      "cell_type": "markdown",
      "metadata": {
        "id": "nt9F4sOUFlBm"
      },
      "source": [
        "### 1. 🧠 Ficha de Revisão Rápida | (O Essencial)\n",
        "\n",
        "<br>\n",
        "\n",
        "> - **Estatística Descritiva:** sumarização de dados (média, mediana, moda, desvio).  \n",
        "> - **Distribuições:** forma como os dados se espalham (*normal*, *uniforme*, etc.).  \n",
        "> - **Intervalo de Confiança:** faixa provável para a média populacional.  \n",
        "> - **Teste de Hipótese:** decisão estatística (p-valor) sobre suposições.  \n",
        "> - **Erro Tipo I/II:** falso positivo/negativo em testes.\n",
        "\n",
        "<br>\n"
      ]
    },
    {
      "cell_type": "markdown",
      "metadata": {
        "id": "pxh8Bz9-FlBm"
      },
      "source": [
        "### 2. 🔬 Mergulho Profundo | (Os Detalhes)\n",
        "\n",
        "<br>\n",
        "\n",
        "#### **🎯 O Conceito Central**  \n",
        "A **estatística descritiva** resume um conjunto de dados por meio de métricas como média e desvio padrão. Já a **inferencial** utiliza uma amostra para tirar conclusões sobre a população, empregando **intervalos de confiança** e **testes de hipótese** (por exemplo, *t-teste*), controlando o **nível de significância** (α) e interpretando **p-valores**.\n",
        "\n",
        "<br>\n",
        "\n",
        "#### **🔗 Analogia de Data Science**  \n",
        "- **Descritiva:** é como ler o extrato bancário e ver saldo médio e variação mensal.  \n",
        "- **Inferencial:** é como entrevistar 100 clientes para estimar a satisfação de toda a base de 10 000, usando margem de erro.\n",
        "\n",
        "<br>\n"
      ]
    },
    {
      "cell_type": "markdown",
      "metadata": {
        "id": "Hdw_cvBkFlBm"
      },
      "source": [
        "### **💻 Exemplos de Mercado (Abrangentes)**\n"
      ]
    },
    {
      "cell_type": "markdown",
      "metadata": {
        "id": "HQA_dr4YFlBn"
      },
      "source": [
        "#### **Nível Simples: Cálculo de Estatísticas Descritivas**\n"
      ]
    },
    {
      "cell_type": "code",
      "execution_count": null,
      "metadata": {
        "id": "L7ZTZ6wNFlBn"
      },
      "outputs": [],
      "source": [
        "import pandas as pd\n",
        "import seaborn as sns\n",
        "\n",
        "# Carrega dataset de gorjetas\n",
        "tips = sns.load_dataset('tips')['tip']\n",
        "# Descritivas básicas\n",
        "desc = tips.describe()\n",
        "mean = tips.mean()\n",
        "median = tips.median()\n",
        "std = tips.std()\n",
        "\n",
        "print(desc)\n",
        "print(f\"Média: {mean:.2f}, Mediana: {median:.2f}, Desvio: {std:.2f}\")\n"
      ]
    },
    {
      "cell_type": "code",
      "execution_count": 5,
      "metadata": {
        "colab": {
          "base_uri": "https://localhost:8080/",
          "height": 241
        },
        "id": "2PQP6y77FlBo",
        "outputId": "f49c1d2e-d28a-4455-94c5-27be97cf5913"
      },
      "outputs": [
        {
          "output_type": "execute_result",
          "data": {
            "text/plain": [
              "0    1.01\n",
              "1    1.66\n",
              "2    3.50\n",
              "3    3.31\n",
              "4    3.61\n",
              "Name: tip, dtype: float64"
            ],
            "text/html": [
              "<div>\n",
              "<style scoped>\n",
              "    .dataframe tbody tr th:only-of-type {\n",
              "        vertical-align: middle;\n",
              "    }\n",
              "\n",
              "    .dataframe tbody tr th {\n",
              "        vertical-align: top;\n",
              "    }\n",
              "\n",
              "    .dataframe thead th {\n",
              "        text-align: right;\n",
              "    }\n",
              "</style>\n",
              "<table border=\"1\" class=\"dataframe\">\n",
              "  <thead>\n",
              "    <tr style=\"text-align: right;\">\n",
              "      <th></th>\n",
              "      <th>tip</th>\n",
              "    </tr>\n",
              "  </thead>\n",
              "  <tbody>\n",
              "    <tr>\n",
              "      <th>0</th>\n",
              "      <td>1.01</td>\n",
              "    </tr>\n",
              "    <tr>\n",
              "      <th>1</th>\n",
              "      <td>1.66</td>\n",
              "    </tr>\n",
              "    <tr>\n",
              "      <th>2</th>\n",
              "      <td>3.50</td>\n",
              "    </tr>\n",
              "    <tr>\n",
              "      <th>3</th>\n",
              "      <td>3.31</td>\n",
              "    </tr>\n",
              "    <tr>\n",
              "      <th>4</th>\n",
              "      <td>3.61</td>\n",
              "    </tr>\n",
              "  </tbody>\n",
              "</table>\n",
              "</div><br><label><b>dtype:</b> float64</label>"
            ]
          },
          "metadata": {},
          "execution_count": 5
        }
      ],
      "source": [
        "# Pratique seu código aqui!\n",
        "\n",
        "import pandas as pd\n",
        "import seaborn as sns\n",
        "\n",
        "tips = sns.load_dataset(\"tips\")[\"tip\"]\n",
        "tips.head()"
      ]
    },
    {
      "cell_type": "code",
      "source": [
        "desc = tips.describe()\n",
        "mean = tips.mean()\n",
        "median = tips.median()\n",
        "std = tips.std()\n",
        "\n",
        "print(desc,\"\\n\")\n",
        "print(f\"Média: {mean:.2f}, Mediana: {median:.2f}, Desvio: {std:.2f}\")\n"
      ],
      "metadata": {
        "colab": {
          "base_uri": "https://localhost:8080/"
        },
        "id": "EhaVpkAqHqwz",
        "outputId": "eba02706-130a-4b4e-f729-a7670de25308"
      },
      "execution_count": 10,
      "outputs": [
        {
          "output_type": "stream",
          "name": "stdout",
          "text": [
            "count    244.000000\n",
            "mean       2.998279\n",
            "std        1.383638\n",
            "min        1.000000\n",
            "25%        2.000000\n",
            "50%        2.900000\n",
            "75%        3.562500\n",
            "max       10.000000\n",
            "Name: tip, dtype: float64 \n",
            "\n",
            "Média: 3.00, Mediana: 2.90, Desvio: 1.38\n"
          ]
        }
      ]
    },
    {
      "cell_type": "markdown",
      "metadata": {
        "id": "71E6YRH8FlBo"
      },
      "source": [
        "* **O que o código faz:**  \n",
        "\n",
        "  **1) Explicação Linha a Linha (Diálogo com o Código):**  \n",
        "  ```python\n",
        "  # “Importe pandas e seaborn.”  \n",
        "  import pandas as pd  \n",
        "  import seaborn as sns  \n",
        "\n",
        "  # “Carregue apenas a coluna de gorjetas.”  \n",
        "  tips = sns.load_dataset('tips')['tip']  \n",
        "\n",
        "  # “Use describe() para resumo completo.”  \n",
        "  desc = tips.describe()  \n",
        "\n",
        "  # “Calcule média, mediana e desvio padrão separadamente.”  \n",
        "  mean = tips.mean()  \n",
        "  median = tips.median()  \n",
        "  std = tips.std()  \n",
        "\n",
        "  # “Mostre resultados formatados.”  \n",
        "  print(desc)  \n",
        "  print(f\"Média: {mean:.2f}, Mediana: {median:.2f}, Desvio: {std:.2f}\")  \n",
        "  ```\n",
        "\n",
        "  **2) Tabela de Estados Intermediários:**\n",
        "\n",
        "  ```markdown\n",
        "  | Passo        | Expressão         | Saída                     | O que faz?                          |\n",
        "  |:------------:|:------------------|:--------------------------|:------------------------------------|\n",
        "  | 1            | `tips.describe()` | Série com count, mean…    | Estatísticas descritivas completas  |\n",
        "  | 2            | `tips.mean()`     | Float                     | Média da gorjeta                    |\n",
        "  | 3            | `tips.median()`   | Float                     | Valor central (mediana)             |\n",
        "  | 4            | `tips.std()`      | Float                     | Dispersão dos valores               |\n",
        "  ```\n",
        "\n",
        "  **3) Diagrama Mental (A Analogia Central):**  \n",
        "  Imagine um gráfico de colunas: a média é a altura média das colunas, a mediana é a coluna central e o desvio é a “diferença padrão” entre elas.\n",
        "\n",
        "* **Cenário de Mercado:**  \n",
        "  - Em **finanças**, sumarizar retornos diários inclui média para tendência e desvio para risco.  \n",
        "  - **Por que descritiva?** Ajuda equipes a entender volatilidade antes de modelagem.\n",
        "\n",
        "* **Boas Práticas:**  \n",
        "  - **Afirmação:** “Verifique outliers antes de usar média.”  \n",
        "    - **Porquê:** Valores extremos podem distorcer a média.  \n",
        "    - **Analogia:** É como remover notas zeradas antes de calcular média de provas.\n"
      ]
    },
    {
      "cell_type": "markdown",
      "metadata": {
        "id": "yJsJ-d4VFlBo"
      },
      "source": [
        "#### **Nível Intermediário: Intervalo de Confiança e Histograma**\n"
      ]
    },
    {
      "cell_type": "code",
      "execution_count": null,
      "metadata": {
        "id": "5eOvQrdhFlBo"
      },
      "outputs": [],
      "source": [
        "import numpy as np\n",
        "import seaborn as sns\n",
        "import matplotlib.pyplot as plt\n",
        "from scipy import stats\n",
        "\n",
        "# Amostra de salários simulada\n",
        "np.random.seed(0)\n",
        "salarios = np.random.normal(loc=5000, scale=800, size=100)\n",
        "\n",
        "# Intervalo de confiança 95%\n",
        "mean = salarios.mean()\n",
        "ci = stats.t.interval(0.95, len(salarios)-1, loc=mean, scale=stats.sem(salarios))\n",
        "\n",
        "# Histograma com linha de média e CI\n",
        "sns.histplot(salarios, kde=False)\n",
        "plt.axvline(mean, color='red', linestyle='--', label='Média')\n",
        "plt.axvline(ci[0], color='blue', linestyle=':', label='CI 95%')\n",
        "plt.axvline(ci[1], color='blue', linestyle=':')\n",
        "plt.legend()\n",
        "plt.show()\n",
        "\n",
        "print(f\"Intervalo de Confiança 95%: [{ci[0]:.0f}, {ci[1]:.0f}]\")\n"
      ]
    },
    {
      "cell_type": "code",
      "execution_count": 21,
      "metadata": {
        "colab": {
          "base_uri": "https://localhost:8080/",
          "height": 448
        },
        "id": "54NwBvHxFlBp",
        "outputId": "bc1af4fc-e852-424f-e7d4-bf1259b7adc9"
      },
      "outputs": [
        {
          "output_type": "display_data",
          "data": {
            "text/plain": [
              "<Figure size 640x480 with 1 Axes>"
            ],
            "image/png": "[encoded data removed]"
          },
          "metadata": {}
        },
        {
          "output_type": "stream",
          "name": "stdout",
          "text": [
            "Intervalo de Confiança 95%: [4887, 5209]\n"
          ]
        }
      ],
      "source": [
        "# Pratique seu código aqui!\n",
        "\n",
        "import numpy as np\n",
        "import seaborn as sns\n",
        "import matplotlib.pyplot as plt\n",
        "from scipy import stats\n",
        "\n",
        "np.random.seed(0)\n",
        "salarios = np.random.normal(loc=5000, scale=800, size=100)\n",
        "\n",
        "mean = salarios.mean()\n",
        "ci = stats.t.interval(0.95, len(salarios)-1, loc=mean, scale=stats.sem(salarios))\n",
        "\n",
        "sns.histplot(salarios, kde=False)\n",
        "plt.axvline(mean, color=\"red\", linestyle=\"--\", label=\"Média\")\n",
        "plt.axvline(ci[0], color=\"blue\", linestyle=\":\", label=\"CI 95%\")\n",
        "plt.axvline(ci[1], color=\"blue\", linestyle=\":\")\n",
        "plt.legend()\n",
        "plt.show()\n",
        "\n",
        "print(f\"Intervalo de Confiança 95%: [{ci[0]:.0f}, {ci[1]:.0f}]\")"
      ]
    },
    {
      "cell_type": "markdown",
      "metadata": {
        "id": "nUfVRaytFlBp"
      },
      "source": [
        "* **O que o código faz:**  \n",
        "\n",
        "  **1) Explicação Linha a Linha (Diálogo com o Código):**  \n",
        "  ```python\n",
        "  # “Importe numpy, seaborn, matplotlib e scipy.”  \n",
        "  import numpy as np  \n",
        "  import seaborn as sns  \n",
        "  import matplotlib.pyplot as plt  \n",
        "  from scipy import stats  \n",
        "\n",
        "  # “Crie amostra normal de salários.”  \n",
        "  salarios = np.random.normal(5000, 800, 100)  \n",
        "\n",
        "  # “Calcule média e intervalo de confiança 95%.”  \n",
        "  mean = salarios.mean()  \n",
        "  ci = stats.t.interval(0.95, len(salarios)-1, loc=mean, scale=stats.sem(salarios))  \n",
        "\n",
        "  # “Desenhe histograma.”  \n",
        "  sns.histplot(salarios, kde=False)  \n",
        "\n",
        "  # “Linhas para média (vermelha) e limites do CI (azul).”  \n",
        "  plt.axvline(mean, color='red', linestyle='--', label='Média')  \n",
        "  plt.axvline(ci[0], color='blue', linestyle=':', label='CI 95%')  \n",
        "  plt.axvline(ci[1], color='blue', linestyle=':')  \n",
        "  plt.legend()  \n",
        "  plt.show()  \n",
        "\n",
        "  # “Imprima valores do CI.”  \n",
        "  print(f\"Intervalo de Confiança 95%: [{ci[0]:.0f}, {ci[1]:.0f}]\")  \n",
        "  ```\n",
        "\n",
        "  **2) Tabela de Estados Intermediários:**\n",
        "\n",
        "  ```markdown\n",
        "  | Passo           | Expressão                | Saída                  | O que faz?                           |\n",
        "  |:---------------:|:-------------------------|:-----------------------|:--------------------------------------|\n",
        "  | 1               | `stats.t.interval(...)`  | Tupla (lower, upper)   | Calcula CI para média               |\n",
        "  | 2               | `histplot + axvline`     | Gráfico com linhas     | Visualiza distribuição e CI         |\n",
        "  | 3               | –                        | imprime                | Exibe intervalo numérico            |\n",
        "  ```\n",
        "\n",
        "  **3) Diagrama Mental (A Analogia Central):**  \n",
        "  É como desenhar uma fita em torno da média que mostra onde “esperamos” encontrar a curva da população 95% das vezes.\n",
        "\n",
        "* **Cenário de Mercado:**  \n",
        "  - Em **RH**, calcular CI de salário médio informa gestores sobre variação esperada antes de ajustes orçamentários.\n",
        "\n",
        "* **Boas Práticas:**  \n",
        "  - **Afirmação:** “Sempre confira normalidade antes do CI t.”  \n",
        "    - **Porquê:** Teste de t assume distribuição aproximadamente normal.  \n",
        "    - **Analogia:** É como verificar se a pista está plana antes de medir velocidade média.\n"
      ]
    },
    {
      "cell_type": "markdown",
      "metadata": {
        "id": "ieUpjG1-FlBp"
      },
      "source": [
        "#### **Nível Avançado: Teste de Hipótese (t-teste)**\n"
      ]
    },
    {
      "cell_type": "code",
      "execution_count": null,
      "metadata": {
        "id": "KbS50CPmFlBp"
      },
      "outputs": [],
      "source": [
        "import numpy as np\n",
        "from scipy import stats\n",
        "\n",
        "# Duas amostras de conversão (%)\n",
        "campanhaA = np.random.binomial(1, 0.12, 200)\n",
        "campanhaB = np.random.binomial(1, 0.15, 200)\n",
        "\n",
        "# t-teste para proporções (uso de stats.ttest_ind)\n",
        "tstat, pval = stats.ttest_ind(campanhaA, campanhaB)\n",
        "\n",
        "print(f\"t-statistic: {tstat:.2f}, p-valor: {pval:.3f}\")\n"
      ]
    },
    {
      "cell_type": "code",
      "execution_count": 22,
      "metadata": {
        "colab": {
          "base_uri": "https://localhost:8080/"
        },
        "id": "_r0ZWxCvFlBp",
        "outputId": "856ed8e2-f16f-4f5f-e77d-427f3baf3a22"
      },
      "outputs": [
        {
          "output_type": "stream",
          "name": "stdout",
          "text": [
            "t-statistic: -1.42, p-valor: 0.156\n"
          ]
        }
      ],
      "source": [
        "# Pratique seu código aqui!\n",
        "import numpy as np\n",
        "from scipy import stats\n",
        "\n",
        "campanhaA = np.random.binomial(1, 0.12, 200)\n",
        "campanhaB = np.random.binomial(1, 0.15, 200)\n",
        "\n",
        "tstat, pval = stats.ttest_ind(campanhaA, campanhaB)\n",
        "\n",
        "print(f\"t-statistic: {tstat:.2f}, p-valor: {pval:.3f}\")"
      ]
    },
    {
      "cell_type": "markdown",
      "metadata": {
        "id": "zRsmvbL0FlBp"
      },
      "source": [
        "* **O que o código faz:**  \n",
        "\n",
        "  **1) Explicação Linha a Linha (Diálogo com o Código):**  \n",
        "  ```python\n",
        "  # “Importe numpy e scipy.stats.”  \n",
        "  import numpy as np  \n",
        "  from scipy import stats  \n",
        "\n",
        "  # “Simule conversões binárias em duas campanhas.”  \n",
        "  campanhaA = np.random.binomial(1,0.12,200)  \n",
        "  campanhaB = np.random.binomial(1,0.15,200)  \n",
        "\n",
        "  # “Faça t-teste independente.”  \n",
        "  tstat, pval = stats.ttest_ind(campanhaA, campanhaB)  \n",
        "\n",
        "  # “Mostre estatística t e p-valor.”  \n",
        "  print(f\"t-statistic: {tstat:.2f}, p-valor: {pval:.3f}\")  \n",
        "  ```\n",
        "\n",
        "  **2) Tabela de Estados Intermediários:**\n",
        "\n",
        "  ```markdown\n",
        "  | Passo     | Expressão              | Saída              | O que faz?                      |\n",
        "  |:---------:|:-----------------------|:-------------------|:--------------------------------|\n",
        "  | 1         | `ttest_ind(...)`       | t-stat, pval       | Compara médias de duas amostras |\n",
        "  | 2         | –                      | imprime            | Resultado do teste              |\n",
        "  ```\n",
        "\n",
        "  **3) Diagrama Mental (A Analogia Central):**  \n",
        "  É como comparar duas turmas de alunos: testa se a diferença de notas médias é “grande o suficiente” para não ser por acaso.\n",
        "\n",
        "* **Cenário de Mercado:**  \n",
        "  - Em **marketing**, testar se mudança de layout aumenta taxa de cliques de forma estatisticamente significativa.\n",
        "\n",
        "* **Boas Práticas:**  \n",
        "  - **Afirmação:** “Escolha teste adequado ao tipo de dado.”  \n",
        "    - **Porquê:** t-teste assume variâncias semelhantes e distribuição contínua.  \n",
        "    - **Analogia:** É como escolher o martelo certo para cada tipo de prego.\n"
      ]
    },
    {
      "cell_type": "markdown",
      "metadata": {
        "id": "qF88_-pdFlBq"
      },
      "source": [
        "#### **Nível DEUS (1/3): Bootstrapping para Estimativa de Erros**\n"
      ]
    },
    {
      "cell_type": "code",
      "execution_count": null,
      "metadata": {
        "id": "YWjbVhvnFlBq"
      },
      "outputs": [],
      "source": [
        "import numpy as np\n",
        "\n",
        "# Amostra original\n",
        "data = np.random.normal(100, 20, size=500)\n",
        "# Bootstrapping\n",
        "boot_means = [np.mean(np.random.choice(data, size=len(data), replace=True)) for _ in range(1000)]\n",
        "ci_lower, ci_upper = np.percentile(boot_means, [2.5, 97.5])\n",
        "\n",
        "print(f\"Boot CI 95%: [{ci_lower:.1f}, {ci_upper:.1f}]\")\n"
      ]
    },
    {
      "cell_type": "code",
      "execution_count": 24,
      "metadata": {
        "colab": {
          "base_uri": "https://localhost:8080/"
        },
        "id": "ODfywoIMFlBq",
        "outputId": "a981543b-7882-494c-f59a-17cce76dcaf2"
      },
      "outputs": [
        {
          "output_type": "stream",
          "name": "stdout",
          "text": [
            "Boot CI 95%: [96.3, 99.8]\n"
          ]
        }
      ],
      "source": [
        "# Pratique seu código aqui!\n",
        "import numpy as np\n",
        "\n",
        "data = np.random.normal(100, 20, size=500)\n",
        "\n",
        "boot_means = [np.mean(np.random.choice(data, size=len(data), replace=True)) for _ in range(1000)]\n",
        "ci_lower, ci_upper = np.percentile(boot_means, [2.5, 97.5])\n",
        "\n",
        "print(f\"Boot CI 95%: [{ci_lower:.1f}, {ci_upper:.1f}]\")"
      ]
    },
    {
      "cell_type": "markdown",
      "metadata": {
        "id": "DDIscnXFFlBq"
      },
      "source": [
        "* **O que o código faz:**  \n",
        "\n",
        "  **1) Explicação Linha a Linha (Diálogo com o Código):**  \n",
        "  ```python\n",
        "  # “Importe numpy.”  \n",
        "  import numpy as np  \n",
        "\n",
        "  # “Gere amostra normal.”  \n",
        "  data = np.random.normal(100,20,500)  \n",
        "\n",
        "  # “Para 1000 resamples com substituição, calcule médias.”  \n",
        "  boot_means = [\n",
        "    np.mean(np.random.choice(data, len(data), replace=True))\n",
        "    for _ in range(1000)\n",
        "  ]  \n",
        "\n",
        "  # “Compute percentis 2.5 e 97.5 para CI.”  \n",
        "  ci_lower, ci_upper = np.percentile(boot_means, [2.5,97.5])  \n",
        "\n",
        "  # “Exiba intervalo.”  \n",
        "  print(f\"Boot CI 95%: [{ci_lower:.1f}, {ci_upper:.1f}]\")  \n",
        "  ```\n",
        "\n",
        "  **2) Tabela de Estados Intermediários:**\n",
        "\n",
        "  ```markdown\n",
        "  | Passo    | Expressão              | Saída            | O que faz?                                 |\n",
        "  |:--------:|:-----------------------|:-----------------|:-------------------------------------------|\n",
        "  | 1        | `boot_means`           | Lista de médias  | Distribuição empírica das médias           |\n",
        "  | 2        | `np.percentile(...)`   | Lower, Upper     | Calcula IC baseado em percentis do bootstrap |\n",
        "  ```\n",
        "\n",
        "  **3) Diagrama Mental (A Analogia Central):**  \n",
        "  É como recriar a pesquisa várias vezes em diferentes subconjuntos e ver onde a média cai 95% das vezes.\n",
        "\n",
        "* **Cenário de Mercado:**  \n",
        "  - Em **avaliação de modelos**, estimar variabilidade de métricas (ex: AUC) via bootstrap.\n",
        "\n",
        "* **Boas Práticas:**  \n",
        "  - **Afirmação:** “Use bootstrap se distribuição desconhecida.”  \n",
        "    - **Porquê:** Não exige suposições paramétricas fortes.  \n",
        "    - **Analogia:** É como repetir várias vezes uma votação simulada para ver estabilidade do resultado.\n"
      ]
    },
    {
      "cell_type": "markdown",
      "metadata": {
        "id": "i46KKW7rFlBq"
      },
      "source": [
        "#### **Nível DEUS (2/3): Análise de Poder Estatístico**\n"
      ]
    },
    {
      "cell_type": "code",
      "execution_count": null,
      "metadata": {
        "id": "ud4Q5HvKFlBq"
      },
      "outputs": [],
      "source": [
        "import numpy as np\n",
        "from statsmodels.stats.power import TTestIndPower\n",
        "\n",
        "# Parâmetros\n",
        "effect_size = 0.3  # diferença padronizada\n",
        "alpha = 0.05\n",
        "power = 0.8\n",
        "\n",
        "analysis = TTestIndPower()\n",
        "# Tamanho de amostra necessário\n",
        "nobs = analysis.solve_power(effect_size=effect_size, alpha=alpha, power=power, alternative='two-sided')\n",
        "print(f\"Tamanho de amostra necessário: {int(np.ceil(nobs))}\")\n"
      ]
    },
    {
      "cell_type": "code",
      "execution_count": 25,
      "metadata": {
        "colab": {
          "base_uri": "https://localhost:8080/"
        },
        "id": "FGpbz13XFlBq",
        "outputId": "c53f4823-538b-4267-cc04-4e969c918c28"
      },
      "outputs": [
        {
          "output_type": "stream",
          "name": "stdout",
          "text": [
            "Tamanha de amostra necessários: 176\n"
          ]
        }
      ],
      "source": [
        "# Pratique seu código aqui!\n",
        "import numpy as np\n",
        "from statsmodels.stats.power import TTestIndPower\n",
        "\n",
        "effect_size = 0.3\n",
        "alpha = 0.05\n",
        "power = 0.8\n",
        "\n",
        "analysis = TTestIndPower()\n",
        "\n",
        "nobs = analysis.solve_power(effect_size=effect_size, alpha=alpha, power=power, alternative=\"two-sided\")\n",
        "print(f\"Tamanha de amostra necessários: {int(np.ceil(nobs))}\")"
      ]
    },
    {
      "cell_type": "markdown",
      "metadata": {
        "id": "iwczCxMSFlBq"
      },
      "source": [
        "* **O que o código faz:**  \n",
        "\n",
        "  **1) Explicação Linha a Linha (Diálogo com o Código):**  \n",
        "  ```python\n",
        "  # “Importe numpy e TTestIndPower.”  \n",
        "  import numpy as np  \n",
        "  from statsmodels.stats.power import TTestIndPower  \n",
        "\n",
        "  # “Defina efeito padronizado, alpha e power desejado.”  \n",
        "  effect_size = 0.3  \n",
        "  alpha = 0.05  \n",
        "  power = 0.8  \n",
        "\n",
        "  # “Crie analisador e compute nobs.”  \n",
        "  analysis = TTestIndPower()  \n",
        "  nobs = analysis.solve_power(effect_size=effect_size, alpha=alpha, power=power, alternative='two-sided')  \n",
        "\n",
        "  # “Arredonde e imprima.”  \n",
        "  print(f\"Tamanho de amostra necessário: {int(np.ceil(nobs))}\")  \n",
        "  ```\n",
        "\n",
        "  **2) Tabela de Estados Intermediários:**\n",
        "\n",
        "  ```markdown\n",
        "  | Passo    | Expressão              | Saída        | O que faz?                               |\n",
        "  |:--------:|:-----------------------|:-------------|:-----------------------------------------|\n",
        "  | 1        | `solve_power(...)`     | Float nobs   | Calcula amostra para poder estatístico    |\n",
        "  ```\n",
        "\n",
        "  **3) Diagrama Mental (A Analogia Central):**  \n",
        "  É como planejar quantas pessoas entrevistar para ter 80% de chance de detectar uma diferença real de 0.3 pontos no índice de satisfação.\n",
        "\n",
        "* **Cenário de Mercado:**  \n",
        "  - Em **pesquisas de mercado**, definir tamanho de amostra para estudos de preferência de produto.\n",
        "\n",
        "* **Boas Práticas:**  \n",
        "  - **Afirmação:** “Considere poder ao planejar experimentos.”  \n",
        "    - **Porquê:** Baixo poder aumenta risco de falso negativo.  \n",
        "    - **Analogia:** É como garantir público suficiente para ver efeito em um produto piloto.\n"
      ]
    },
    {
      "cell_type": "markdown",
      "metadata": {
        "id": "U3GPXo0yFlBr"
      },
      "source": [
        "#### **Nível DEUS (3/3): Inferência Bayesiana Simples**\n"
      ]
    },
    {
      "cell_type": "code",
      "execution_count": null,
      "metadata": {
        "id": "vzcqafrRFlBr"
      },
      "outputs": [],
      "source": [
        "import numpy as np\n",
        "import pymc3 as pm\n",
        "\n",
        "# Dados de conversão\n",
        "data = np.random.binomial(1, 0.2, size=100)\n",
        "\n",
        "with pm.Model():\n",
        "    p = pm.Beta('p', alpha=1, beta=1)\n",
        "    obs = pm.Bernoulli('obs', p=p, observed=data)\n",
        "    trace = pm.sample(500, tune=500, cores=1, chains=1, progressbar=False)\n",
        "\n",
        "posterior_mean = np.mean(trace['p'])\n",
        "hdi = pm.stats.hdi(trace['p'], hdi_prob=0.95)\n",
        "print(f\"Posterior mean: {posterior_mean:.2f}, HDI 95%: [{hdi[0]:.2f}, {hdi[1]:.2f}]\")\n"
      ]
    },
    {
      "cell_type": "code",
      "source": [
        "%pip install pymc3 arviz"
      ],
      "metadata": {
        "id": "vwZT7lNgX91u"
      },
      "execution_count": null,
      "outputs": []
    },
    {
      "cell_type": "code",
      "execution_count": 28,
      "metadata": {
        "colab": {
          "base_uri": "https://localhost:8080/",
          "height": 1000
        },
        "id": "t0fJkKp3FlBr",
        "outputId": "c7511a31-219d-48d8-9990-2f0fa92b2366"
      },
      "outputs": [
        {
          "output_type": "error",
          "ename": "ModuleNotFoundError",
          "evalue": "No module named 'distutils.msvccompiler'",
          "traceback": [
            "\u001b[0;31m---------------------------------------------------------------------------\u001b[0m",
            "\u001b[0;31mNoSectionError\u001b[0m                            Traceback (most recent call last)",
            "\u001b[0;32m/usr/local/lib/python3.11/dist-packages/theano/configparser.py\u001b[0m in \u001b[0;36mfetch_val_for_key\u001b[0;34m(self, key, delete_key)\u001b[0m\n\u001b[1;32m    237\u001b[0m             \u001b[0;32mtry\u001b[0m\u001b[0;34m:\u001b[0m\u001b[0;34m\u001b[0m\u001b[0;34m\u001b[0m\u001b[0m\n\u001b[0;32m--> 238\u001b[0;31m                 \u001b[0;32mreturn\u001b[0m \u001b[0mself\u001b[0m\u001b[0;34m.\u001b[0m\u001b[0m_theano_cfg\u001b[0m\u001b[0;34m.\u001b[0m\u001b[0mget\u001b[0m\u001b[0;34m(\u001b[0m\u001b[0msection\u001b[0m\u001b[0;34m,\u001b[0m \u001b[0moption\u001b[0m\u001b[0;34m)\u001b[0m\u001b[0;34m\u001b[0m\u001b[0;34m\u001b[0m\u001b[0m\n\u001b[0m\u001b[1;32m    239\u001b[0m             \u001b[0;32mexcept\u001b[0m \u001b[0mInterpolationError\u001b[0m\u001b[0;34m:\u001b[0m\u001b[0;34m\u001b[0m\u001b[0;34m\u001b[0m\u001b[0m\n",
            "\u001b[0;32m/usr/lib/python3.11/configparser.py\u001b[0m in \u001b[0;36mget\u001b[0;34m(self, section, option, raw, vars, fallback)\u001b[0m\n\u001b[1;32m    796\u001b[0m         \u001b[0;32mtry\u001b[0m\u001b[0;34m:\u001b[0m\u001b[0;34m\u001b[0m\u001b[0;34m\u001b[0m\u001b[0m\n\u001b[0;32m--> 797\u001b[0;31m             \u001b[0md\u001b[0m \u001b[0;34m=\u001b[0m \u001b[0mself\u001b[0m\u001b[0;34m.\u001b[0m\u001b[0m_unify_values\u001b[0m\u001b[0;34m(\u001b[0m\u001b[0msection\u001b[0m\u001b[0;34m,\u001b[0m \u001b[0mvars\u001b[0m\u001b[0;34m)\u001b[0m\u001b[0;34m\u001b[0m\u001b[0;34m\u001b[0m\u001b[0m\n\u001b[0m\u001b[1;32m    798\u001b[0m         \u001b[0;32mexcept\u001b[0m \u001b[0mNoSectionError\u001b[0m\u001b[0;34m:\u001b[0m\u001b[0;34m\u001b[0m\u001b[0;34m\u001b[0m\u001b[0m\n",
            "\u001b[0;32m/usr/lib/python3.11/configparser.py\u001b[0m in \u001b[0;36m_unify_values\u001b[0;34m(self, section, vars)\u001b[0m\n\u001b[1;32m   1169\u001b[0m             \u001b[0;32mif\u001b[0m \u001b[0msection\u001b[0m \u001b[0;34m!=\u001b[0m \u001b[0mself\u001b[0m\u001b[0;34m.\u001b[0m\u001b[0mdefault_section\u001b[0m\u001b[0;34m:\u001b[0m\u001b[0;34m\u001b[0m\u001b[0;34m\u001b[0m\u001b[0m\n\u001b[0;32m-> 1170\u001b[0;31m                 \u001b[0;32mraise\u001b[0m \u001b[0mNoSectionError\u001b[0m\u001b[0;34m(\u001b[0m\u001b[0msection\u001b[0m\u001b[0;34m)\u001b[0m \u001b[0;32mfrom\u001b[0m \u001b[0;32mNone\u001b[0m\u001b[0;34m\u001b[0m\u001b[0;34m\u001b[0m\u001b[0m\n\u001b[0m\u001b[1;32m   1171\u001b[0m         \u001b[0;31m# Update with the entry specific variables\u001b[0m\u001b[0;34m\u001b[0m\u001b[0;34m\u001b[0m\u001b[0m\n",
            "\u001b[0;31mNoSectionError\u001b[0m: No section: 'blas'",
            "\nDuring handling of the above exception, another exception occurred:\n",
            "\u001b[0;31mKeyError\u001b[0m                                  Traceback (most recent call last)",
            "\u001b[0;32m/usr/local/lib/python3.11/dist-packages/theano/configparser.py\u001b[0m in \u001b[0;36m__get__\u001b[0;34m(self, cls, type_, delete_key)\u001b[0m\n\u001b[1;32m    353\u001b[0m             \u001b[0;32mtry\u001b[0m\u001b[0;34m:\u001b[0m\u001b[0;34m\u001b[0m\u001b[0;34m\u001b[0m\u001b[0m\n\u001b[0;32m--> 354\u001b[0;31m                 \u001b[0mval_str\u001b[0m \u001b[0;34m=\u001b[0m \u001b[0mcls\u001b[0m\u001b[0;34m.\u001b[0m\u001b[0mfetch_val_for_key\u001b[0m\u001b[0;34m(\u001b[0m\u001b[0mself\u001b[0m\u001b[0;34m.\u001b[0m\u001b[0mname\u001b[0m\u001b[0;34m,\u001b[0m \u001b[0mdelete_key\u001b[0m\u001b[0;34m=\u001b[0m\u001b[0mdelete_key\u001b[0m\u001b[0;34m)\u001b[0m\u001b[0;34m\u001b[0m\u001b[0;34m\u001b[0m\u001b[0m\n\u001b[0m\u001b[1;32m    355\u001b[0m                 \u001b[0mself\u001b[0m\u001b[0;34m.\u001b[0m\u001b[0mis_default\u001b[0m \u001b[0;34m=\u001b[0m \u001b[0;32mFalse\u001b[0m\u001b[0;34m\u001b[0m\u001b[0;34m\u001b[0m\u001b[0m\n",
            "\u001b[0;32m/usr/local/lib/python3.11/dist-packages/theano/configparser.py\u001b[0m in \u001b[0;36mfetch_val_for_key\u001b[0;34m(self, key, delete_key)\u001b[0m\n\u001b[1;32m    241\u001b[0m         \u001b[0;32mexcept\u001b[0m \u001b[0;34m(\u001b[0m\u001b[0mNoOptionError\u001b[0m\u001b[0;34m,\u001b[0m \u001b[0mNoSectionError\u001b[0m\u001b[0;34m)\u001b[0m\u001b[0;34m:\u001b[0m\u001b[0;34m\u001b[0m\u001b[0;34m\u001b[0m\u001b[0m\n\u001b[0;32m--> 242\u001b[0;31m             \u001b[0;32mraise\u001b[0m \u001b[0mKeyError\u001b[0m\u001b[0;34m(\u001b[0m\u001b[0mkey\u001b[0m\u001b[0;34m)\u001b[0m\u001b[0;34m\u001b[0m\u001b[0;34m\u001b[0m\u001b[0m\n\u001b[0m\u001b[1;32m    243\u001b[0m \u001b[0;34m\u001b[0m\u001b[0m\n",
            "\u001b[0;31mKeyError\u001b[0m: 'blas__ldflags'",
            "\nDuring handling of the above exception, another exception occurred:\n",
            "\u001b[0;31mModuleNotFoundError\u001b[0m                       Traceback (most recent call last)",
            "\u001b[0;32m/tmp/ipython-input-28-904147853.py\u001b[0m in \u001b[0;36m<cell line: 0>\u001b[0;34m()\u001b[0m\n\u001b[1;32m      1\u001b[0m \u001b[0;31m# Pratique seu código aqui!\u001b[0m\u001b[0;34m\u001b[0m\u001b[0;34m\u001b[0m\u001b[0m\n\u001b[1;32m      2\u001b[0m \u001b[0;32mimport\u001b[0m \u001b[0mnumpy\u001b[0m \u001b[0;32mas\u001b[0m \u001b[0mnp\u001b[0m\u001b[0;34m\u001b[0m\u001b[0;34m\u001b[0m\u001b[0m\n\u001b[0;32m----> 3\u001b[0;31m \u001b[0;32mimport\u001b[0m \u001b[0mpymc3\u001b[0m \u001b[0;32mas\u001b[0m \u001b[0mpm\u001b[0m\u001b[0;34m\u001b[0m\u001b[0;34m\u001b[0m\u001b[0m\n\u001b[0m\u001b[1;32m      4\u001b[0m \u001b[0;34m\u001b[0m\u001b[0m\n\u001b[1;32m      5\u001b[0m \u001b[0mdata\u001b[0m \u001b[0;34m=\u001b[0m \u001b[0mnp\u001b[0m\u001b[0;34m.\u001b[0m\u001b[0mrandom\u001b[0m\u001b[0;34m.\u001b[0m\u001b[0mbinomial\u001b[0m\u001b[0;34m(\u001b[0m\u001b[0;36m1\u001b[0m\u001b[0;34m,\u001b[0m \u001b[0;36m0.2\u001b[0m\u001b[0;34m,\u001b[0m \u001b[0msize\u001b[0m\u001b[0;34m=\u001b[0m\u001b[0;36m100\u001b[0m\u001b[0;34m)\u001b[0m\u001b[0;34m\u001b[0m\u001b[0;34m\u001b[0m\u001b[0m\n",
            "\u001b[0;32m/usr/local/lib/python3.11/dist-packages/pymc3/__init__.py\u001b[0m in \u001b[0;36m<module>\u001b[0;34m\u001b[0m\n\u001b[1;32m     21\u001b[0m \u001b[0;34m\u001b[0m\u001b[0m\n\u001b[1;32m     22\u001b[0m \u001b[0;32mimport\u001b[0m \u001b[0msemver\u001b[0m\u001b[0;34m\u001b[0m\u001b[0;34m\u001b[0m\u001b[0m\n\u001b[0;32m---> 23\u001b[0;31m \u001b[0;32mimport\u001b[0m \u001b[0mtheano\u001b[0m\u001b[0;34m\u001b[0m\u001b[0;34m\u001b[0m\u001b[0m\n\u001b[0m\u001b[1;32m     24\u001b[0m \u001b[0;34m\u001b[0m\u001b[0m\n\u001b[1;32m     25\u001b[0m \u001b[0m_log\u001b[0m \u001b[0;34m=\u001b[0m \u001b[0mlogging\u001b[0m\u001b[0;34m.\u001b[0m\u001b[0mgetLogger\u001b[0m\u001b[0;34m(\u001b[0m\u001b[0;34m\"pymc3\"\u001b[0m\u001b[0;34m)\u001b[0m\u001b[0;34m\u001b[0m\u001b[0;34m\u001b[0m\u001b[0m\n",
            "\u001b[0;32m/usr/local/lib/python3.11/dist-packages/theano/__init__.py\u001b[0m in \u001b[0;36m<module>\u001b[0;34m\u001b[0m\n\u001b[1;32m     81\u001b[0m \u001b[0m__api_version__\u001b[0m \u001b[0;34m=\u001b[0m \u001b[0;36m1\u001b[0m\u001b[0;34m\u001b[0m\u001b[0;34m\u001b[0m\u001b[0m\n\u001b[1;32m     82\u001b[0m \u001b[0;34m\u001b[0m\u001b[0m\n\u001b[0;32m---> 83\u001b[0;31m \u001b[0;32mfrom\u001b[0m \u001b[0mtheano\u001b[0m \u001b[0;32mimport\u001b[0m \u001b[0mscalar\u001b[0m\u001b[0;34m,\u001b[0m \u001b[0mtensor\u001b[0m\u001b[0;34m\u001b[0m\u001b[0;34m\u001b[0m\u001b[0m\n\u001b[0m\u001b[1;32m     84\u001b[0m from theano.compile import (\n\u001b[1;32m     85\u001b[0m     \u001b[0mIn\u001b[0m\u001b[0;34m,\u001b[0m\u001b[0;34m\u001b[0m\u001b[0;34m\u001b[0m\u001b[0m\n",
            "\u001b[0;32m/usr/local/lib/python3.11/dist-packages/theano/tensor/__init__.py\u001b[0m in \u001b[0;36m<module>\u001b[0;34m\u001b[0m\n\u001b[1;32m     18\u001b[0m     \u001b[0mverify_grad\u001b[0m\u001b[0;34m,\u001b[0m\u001b[0;34m\u001b[0m\u001b[0;34m\u001b[0m\u001b[0m\n\u001b[1;32m     19\u001b[0m )\n\u001b[0;32m---> 20\u001b[0;31m \u001b[0;32mfrom\u001b[0m \u001b[0mtheano\u001b[0m\u001b[0;34m.\u001b[0m\u001b[0mtensor\u001b[0m \u001b[0;32mimport\u001b[0m \u001b[0mnnet\u001b[0m  \u001b[0;31m# used for softmax, sigmoid, etc.\u001b[0m\u001b[0;34m\u001b[0m\u001b[0;34m\u001b[0m\u001b[0m\n\u001b[0m\u001b[1;32m     21\u001b[0m \u001b[0;32mfrom\u001b[0m \u001b[0mtheano\u001b[0m\u001b[0;34m.\u001b[0m\u001b[0mtensor\u001b[0m \u001b[0;32mimport\u001b[0m \u001b[0msharedvar\u001b[0m  \u001b[0;31m# adds shared-variable constructors\u001b[0m\u001b[0;34m\u001b[0m\u001b[0;34m\u001b[0m\u001b[0m\n\u001b[1;32m     22\u001b[0m from theano.tensor import (\n",
            "\u001b[0;32m/usr/local/lib/python3.11/dist-packages/theano/tensor/nnet/__init__.py\u001b[0m in \u001b[0;36m<module>\u001b[0;34m\u001b[0m\n\u001b[1;32m      1\u001b[0m \u001b[0;32mimport\u001b[0m \u001b[0mwarnings\u001b[0m\u001b[0;34m\u001b[0m\u001b[0;34m\u001b[0m\u001b[0m\n\u001b[1;32m      2\u001b[0m \u001b[0;34m\u001b[0m\u001b[0m\n\u001b[0;32m----> 3\u001b[0;31m \u001b[0;32mfrom\u001b[0m \u001b[0;34m.\u001b[0m \u001b[0;32mimport\u001b[0m \u001b[0mopt\u001b[0m\u001b[0;34m\u001b[0m\u001b[0;34m\u001b[0m\u001b[0m\n\u001b[0m\u001b[1;32m      4\u001b[0m \u001b[0;32mfrom\u001b[0m \u001b[0;34m.\u001b[0m\u001b[0mabstract_conv\u001b[0m \u001b[0;32mimport\u001b[0m \u001b[0mconv2d\u001b[0m \u001b[0;32mas\u001b[0m \u001b[0mabstract_conv2d\u001b[0m\u001b[0;34m\u001b[0m\u001b[0;34m\u001b[0m\u001b[0m\n\u001b[1;32m      5\u001b[0m \u001b[0;32mfrom\u001b[0m \u001b[0;34m.\u001b[0m\u001b[0mabstract_conv\u001b[0m \u001b[0;32mimport\u001b[0m \u001b[0mconv2d_grad_wrt_inputs\u001b[0m\u001b[0;34m,\u001b[0m \u001b[0mconv3d\u001b[0m\u001b[0;34m,\u001b[0m \u001b[0mseparable_conv2d\u001b[0m\u001b[0;34m\u001b[0m\u001b[0;34m\u001b[0m\u001b[0m\n",
            "\u001b[0;32m/usr/local/lib/python3.11/dist-packages/theano/tensor/nnet/opt.py\u001b[0m in \u001b[0;36m<module>\u001b[0;34m\u001b[0m\n\u001b[1;32m     30\u001b[0m \u001b[0;34m\u001b[0m\u001b[0m\n\u001b[1;32m     31\u001b[0m \u001b[0;31m# Cpu implementation\u001b[0m\u001b[0;34m\u001b[0m\u001b[0;34m\u001b[0m\u001b[0m\n\u001b[0;32m---> 32\u001b[0;31m \u001b[0;32mfrom\u001b[0m \u001b[0mtheano\u001b[0m\u001b[0;34m.\u001b[0m\u001b[0mtensor\u001b[0m\u001b[0;34m.\u001b[0m\u001b[0mnnet\u001b[0m\u001b[0;34m.\u001b[0m\u001b[0mconv\u001b[0m \u001b[0;32mimport\u001b[0m \u001b[0mConvOp\u001b[0m\u001b[0;34m,\u001b[0m \u001b[0mconv2d\u001b[0m\u001b[0;34m\u001b[0m\u001b[0;34m\u001b[0m\u001b[0m\n\u001b[0m\u001b[1;32m     33\u001b[0m \u001b[0;32mfrom\u001b[0m \u001b[0mtheano\u001b[0m\u001b[0;34m.\u001b[0m\u001b[0mtensor\u001b[0m\u001b[0;34m.\u001b[0m\u001b[0mnnet\u001b[0m\u001b[0;34m.\u001b[0m\u001b[0mcorr\u001b[0m \u001b[0;32mimport\u001b[0m \u001b[0mCorrMM\u001b[0m\u001b[0;34m,\u001b[0m \u001b[0mCorrMM_gradInputs\u001b[0m\u001b[0;34m,\u001b[0m \u001b[0mCorrMM_gradWeights\u001b[0m\u001b[0;34m\u001b[0m\u001b[0;34m\u001b[0m\u001b[0m\n\u001b[1;32m     34\u001b[0m \u001b[0;32mfrom\u001b[0m \u001b[0mtheano\u001b[0m\u001b[0;34m.\u001b[0m\u001b[0mtensor\u001b[0m\u001b[0;34m.\u001b[0m\u001b[0mnnet\u001b[0m\u001b[0;34m.\u001b[0m\u001b[0mcorr3d\u001b[0m \u001b[0;32mimport\u001b[0m \u001b[0mCorr3dMM\u001b[0m\u001b[0;34m,\u001b[0m \u001b[0mCorr3dMMGradInputs\u001b[0m\u001b[0;34m,\u001b[0m \u001b[0mCorr3dMMGradWeights\u001b[0m\u001b[0;34m\u001b[0m\u001b[0;34m\u001b[0m\u001b[0m\n",
            "\u001b[0;32m/usr/local/lib/python3.11/dist-packages/theano/tensor/nnet/conv.py\u001b[0m in \u001b[0;36m<module>\u001b[0;34m\u001b[0m\n\u001b[1;32m     18\u001b[0m \u001b[0;32mfrom\u001b[0m \u001b[0mtheano\u001b[0m\u001b[0;34m.\u001b[0m\u001b[0mgraph\u001b[0m\u001b[0;34m.\u001b[0m\u001b[0mbasic\u001b[0m \u001b[0;32mimport\u001b[0m \u001b[0mApply\u001b[0m\u001b[0;34m\u001b[0m\u001b[0;34m\u001b[0m\u001b[0m\n\u001b[1;32m     19\u001b[0m \u001b[0;32mfrom\u001b[0m \u001b[0mtheano\u001b[0m\u001b[0;34m.\u001b[0m\u001b[0mgraph\u001b[0m\u001b[0;34m.\u001b[0m\u001b[0mop\u001b[0m \u001b[0;32mimport\u001b[0m \u001b[0mOpenMPOp\u001b[0m\u001b[0;34m\u001b[0m\u001b[0;34m\u001b[0m\u001b[0m\n\u001b[0;32m---> 20\u001b[0;31m \u001b[0;32mfrom\u001b[0m \u001b[0mtheano\u001b[0m\u001b[0;34m.\u001b[0m\u001b[0mtensor\u001b[0m \u001b[0;32mimport\u001b[0m \u001b[0mblas\u001b[0m\u001b[0;34m\u001b[0m\u001b[0;34m\u001b[0m\u001b[0m\n\u001b[0m\u001b[1;32m     21\u001b[0m from theano.tensor.basic import (\n\u001b[1;32m     22\u001b[0m     \u001b[0mNotScalarConstantError\u001b[0m\u001b[0;34m,\u001b[0m\u001b[0;34m\u001b[0m\u001b[0;34m\u001b[0m\u001b[0m\n",
            "\u001b[0;32m/usr/local/lib/python3.11/dist-packages/theano/tensor/blas.py\u001b[0m in \u001b[0;36m<module>\u001b[0;34m\u001b[0m\n\u001b[1;32m    161\u001b[0m \u001b[0;32mfrom\u001b[0m \u001b[0mtheano\u001b[0m\u001b[0;34m.\u001b[0m\u001b[0mscalar\u001b[0m \u001b[0;32mimport\u001b[0m \u001b[0mbool\u001b[0m \u001b[0;32mas\u001b[0m \u001b[0mbool_t\u001b[0m\u001b[0;34m\u001b[0m\u001b[0;34m\u001b[0m\u001b[0m\n\u001b[1;32m    162\u001b[0m \u001b[0;32mfrom\u001b[0m \u001b[0mtheano\u001b[0m\u001b[0;34m.\u001b[0m\u001b[0mtensor\u001b[0m \u001b[0;32mimport\u001b[0m \u001b[0mbasic\u001b[0m \u001b[0;32mas\u001b[0m \u001b[0mtt\u001b[0m\u001b[0;34m\u001b[0m\u001b[0;34m\u001b[0m\u001b[0m\n\u001b[0;32m--> 163\u001b[0;31m \u001b[0;32mfrom\u001b[0m \u001b[0mtheano\u001b[0m\u001b[0;34m.\u001b[0m\u001b[0mtensor\u001b[0m\u001b[0;34m.\u001b[0m\u001b[0mblas_headers\u001b[0m \u001b[0;32mimport\u001b[0m \u001b[0mblas_header_text\u001b[0m\u001b[0;34m,\u001b[0m \u001b[0mblas_header_version\u001b[0m\u001b[0;34m\u001b[0m\u001b[0;34m\u001b[0m\u001b[0m\n\u001b[0m\u001b[1;32m    164\u001b[0m \u001b[0;32mfrom\u001b[0m \u001b[0mtheano\u001b[0m\u001b[0;34m.\u001b[0m\u001b[0mtensor\u001b[0m\u001b[0;34m.\u001b[0m\u001b[0mopt\u001b[0m \u001b[0;32mimport\u001b[0m \u001b[0min2out\u001b[0m\u001b[0;34m,\u001b[0m \u001b[0mlocal_dimshuffle_lift\u001b[0m\u001b[0;34m\u001b[0m\u001b[0;34m\u001b[0m\u001b[0m\n\u001b[1;32m    165\u001b[0m \u001b[0;32mfrom\u001b[0m \u001b[0mtheano\u001b[0m\u001b[0;34m.\u001b[0m\u001b[0mtensor\u001b[0m\u001b[0;34m.\u001b[0m\u001b[0mtype\u001b[0m \u001b[0;32mimport\u001b[0m \u001b[0mvalues_eq_approx_remove_inf_nan\u001b[0m\u001b[0;34m\u001b[0m\u001b[0;34m\u001b[0m\u001b[0m\n",
            "\u001b[0;32m/usr/local/lib/python3.11/dist-packages/theano/tensor/blas_headers.py\u001b[0m in \u001b[0;36m<module>\u001b[0;34m\u001b[0m\n\u001b[1;32m   1014\u001b[0m \u001b[0;34m\u001b[0m\u001b[0m\n\u001b[1;32m   1015\u001b[0m \u001b[0;34m\u001b[0m\u001b[0m\n\u001b[0;32m-> 1016\u001b[0;31m \u001b[0;32mif\u001b[0m \u001b[0;32mnot\u001b[0m \u001b[0mconfig\u001b[0m\u001b[0;34m.\u001b[0m\u001b[0mblas__ldflags\u001b[0m\u001b[0;34m:\u001b[0m\u001b[0;34m\u001b[0m\u001b[0;34m\u001b[0m\u001b[0m\n\u001b[0m\u001b[1;32m   1017\u001b[0m     \u001b[0m_logger\u001b[0m\u001b[0;34m.\u001b[0m\u001b[0mwarning\u001b[0m\u001b[0;34m(\u001b[0m\u001b[0;34m\"Using NumPy C-API based implementation for BLAS functions.\"\u001b[0m\u001b[0;34m)\u001b[0m\u001b[0;34m\u001b[0m\u001b[0;34m\u001b[0m\u001b[0m\n\u001b[1;32m   1018\u001b[0m \u001b[0;34m\u001b[0m\u001b[0m\n",
            "\u001b[0;32m/usr/local/lib/python3.11/dist-packages/theano/configparser.py\u001b[0m in \u001b[0;36m__get__\u001b[0;34m(self, cls, type_, delete_key)\u001b[0m\n\u001b[1;32m    356\u001b[0m             \u001b[0;32mexcept\u001b[0m \u001b[0mKeyError\u001b[0m\u001b[0;34m:\u001b[0m\u001b[0;34m\u001b[0m\u001b[0;34m\u001b[0m\u001b[0m\n\u001b[1;32m    357\u001b[0m                 \u001b[0;32mif\u001b[0m \u001b[0mcallable\u001b[0m\u001b[0;34m(\u001b[0m\u001b[0mself\u001b[0m\u001b[0;34m.\u001b[0m\u001b[0mdefault\u001b[0m\u001b[0;34m)\u001b[0m\u001b[0;34m:\u001b[0m\u001b[0;34m\u001b[0m\u001b[0;34m\u001b[0m\u001b[0m\n\u001b[0;32m--> 358\u001b[0;31m                     \u001b[0mval_str\u001b[0m \u001b[0;34m=\u001b[0m \u001b[0mself\u001b[0m\u001b[0;34m.\u001b[0m\u001b[0mdefault\u001b[0m\u001b[0;34m(\u001b[0m\u001b[0;34m)\u001b[0m\u001b[0;34m\u001b[0m\u001b[0;34m\u001b[0m\u001b[0m\n\u001b[0m\u001b[1;32m    359\u001b[0m                 \u001b[0;32melse\u001b[0m\u001b[0;34m:\u001b[0m\u001b[0;34m\u001b[0m\u001b[0;34m\u001b[0m\u001b[0m\n\u001b[1;32m    360\u001b[0m                     \u001b[0mval_str\u001b[0m \u001b[0;34m=\u001b[0m \u001b[0mself\u001b[0m\u001b[0;34m.\u001b[0m\u001b[0mdefault\u001b[0m\u001b[0;34m\u001b[0m\u001b[0;34m\u001b[0m\u001b[0m\n",
            "\u001b[0;32m/usr/local/lib/python3.11/dist-packages/theano/link/c/cmodule.py\u001b[0m in \u001b[0;36mdefault_blas_ldflags\u001b[0;34m()\u001b[0m\n\u001b[1;32m   2630\u001b[0m             \u001b[0;31m# This happen with Python 2.7.3 |EPD 7.3-1 and numpy 1.8.1\u001b[0m\u001b[0;34m\u001b[0m\u001b[0;34m\u001b[0m\u001b[0m\n\u001b[1;32m   2631\u001b[0m             \u001b[0;31m# isort: off\u001b[0m\u001b[0;34m\u001b[0m\u001b[0;34m\u001b[0m\u001b[0m\n\u001b[0;32m-> 2632\u001b[0;31m             \u001b[0;32mimport\u001b[0m \u001b[0mnumpy\u001b[0m\u001b[0;34m.\u001b[0m\u001b[0mdistutils\u001b[0m\u001b[0;34m.\u001b[0m\u001b[0msystem_info\u001b[0m  \u001b[0;31m# noqa\u001b[0m\u001b[0;34m\u001b[0m\u001b[0;34m\u001b[0m\u001b[0m\n\u001b[0m\u001b[1;32m   2633\u001b[0m \u001b[0;34m\u001b[0m\u001b[0m\n\u001b[1;32m   2634\u001b[0m             \u001b[0;31m# We need to catch warnings as in some cases NumPy print\u001b[0m\u001b[0;34m\u001b[0m\u001b[0;34m\u001b[0m\u001b[0m\n",
            "\u001b[0;32m/usr/local/lib/python3.11/dist-packages/numpy/distutils/system_info.py\u001b[0m in \u001b[0;36m<module>\u001b[0;34m\u001b[0m\n\u001b[1;32m    198\u001b[0m from numpy.distutils.misc_util import (is_sequence, is_string,\n\u001b[1;32m    199\u001b[0m                                        get_shared_lib_extension)\n\u001b[0;32m--> 200\u001b[0;31m \u001b[0;32mfrom\u001b[0m \u001b[0mnumpy\u001b[0m\u001b[0;34m.\u001b[0m\u001b[0mdistutils\u001b[0m\u001b[0;34m.\u001b[0m\u001b[0mcommand\u001b[0m\u001b[0;34m.\u001b[0m\u001b[0mconfig\u001b[0m \u001b[0;32mimport\u001b[0m \u001b[0mconfig\u001b[0m \u001b[0;32mas\u001b[0m \u001b[0mcmd_config\u001b[0m\u001b[0;34m\u001b[0m\u001b[0;34m\u001b[0m\u001b[0m\n\u001b[0m\u001b[1;32m    201\u001b[0m \u001b[0;32mfrom\u001b[0m \u001b[0mnumpy\u001b[0m\u001b[0;34m.\u001b[0m\u001b[0mdistutils\u001b[0m \u001b[0;32mimport\u001b[0m \u001b[0mcustomized_ccompiler\u001b[0m \u001b[0;32mas\u001b[0m \u001b[0m_customized_ccompiler\u001b[0m\u001b[0;34m\u001b[0m\u001b[0;34m\u001b[0m\u001b[0m\n\u001b[1;32m    202\u001b[0m \u001b[0;32mfrom\u001b[0m \u001b[0mnumpy\u001b[0m\u001b[0;34m.\u001b[0m\u001b[0mdistutils\u001b[0m \u001b[0;32mimport\u001b[0m \u001b[0m_shell_utils\u001b[0m\u001b[0;34m\u001b[0m\u001b[0;34m\u001b[0m\u001b[0m\n",
            "\u001b[0;32m/usr/local/lib/python3.11/dist-packages/numpy/distutils/command/config.py\u001b[0m in \u001b[0;36m<module>\u001b[0;34m\u001b[0m\n\u001b[1;32m     17\u001b[0m \u001b[0;32mimport\u001b[0m \u001b[0mdistutils\u001b[0m\u001b[0;34m\u001b[0m\u001b[0;34m\u001b[0m\u001b[0m\n\u001b[1;32m     18\u001b[0m \u001b[0;32mfrom\u001b[0m \u001b[0mnumpy\u001b[0m\u001b[0;34m.\u001b[0m\u001b[0mdistutils\u001b[0m\u001b[0;34m.\u001b[0m\u001b[0mexec_command\u001b[0m \u001b[0;32mimport\u001b[0m \u001b[0mfilepath_from_subprocess_output\u001b[0m\u001b[0;34m\u001b[0m\u001b[0;34m\u001b[0m\u001b[0m\n\u001b[0;32m---> 19\u001b[0;31m \u001b[0;32mfrom\u001b[0m \u001b[0mnumpy\u001b[0m\u001b[0;34m.\u001b[0m\u001b[0mdistutils\u001b[0m\u001b[0;34m.\u001b[0m\u001b[0mmingw32ccompiler\u001b[0m \u001b[0;32mimport\u001b[0m \u001b[0mgenerate_manifest\u001b[0m\u001b[0;34m\u001b[0m\u001b[0;34m\u001b[0m\u001b[0m\n\u001b[0m\u001b[1;32m     20\u001b[0m from numpy.distutils.command.autodist import (check_gcc_function_attribute,\n\u001b[1;32m     21\u001b[0m                                               \u001b[0mcheck_gcc_function_attribute_with_intrinsics\u001b[0m\u001b[0;34m,\u001b[0m\u001b[0;34m\u001b[0m\u001b[0;34m\u001b[0m\u001b[0m\n",
            "\u001b[0;32m/usr/local/lib/python3.11/dist-packages/numpy/distutils/mingw32ccompiler.py\u001b[0m in \u001b[0;36m<module>\u001b[0;34m\u001b[0m\n\u001b[1;32m     25\u001b[0m \u001b[0;32mimport\u001b[0m \u001b[0mdistutils\u001b[0m\u001b[0;34m.\u001b[0m\u001b[0mcygwinccompiler\u001b[0m\u001b[0;34m\u001b[0m\u001b[0;34m\u001b[0m\u001b[0m\n\u001b[1;32m     26\u001b[0m \u001b[0;32mfrom\u001b[0m \u001b[0mdistutils\u001b[0m\u001b[0;34m.\u001b[0m\u001b[0munixccompiler\u001b[0m \u001b[0;32mimport\u001b[0m \u001b[0mUnixCCompiler\u001b[0m\u001b[0;34m\u001b[0m\u001b[0;34m\u001b[0m\u001b[0m\n\u001b[0;32m---> 27\u001b[0;31m \u001b[0;32mfrom\u001b[0m \u001b[0mdistutils\u001b[0m\u001b[0;34m.\u001b[0m\u001b[0mmsvccompiler\u001b[0m \u001b[0;32mimport\u001b[0m \u001b[0mget_build_version\u001b[0m \u001b[0;32mas\u001b[0m \u001b[0mget_build_msvc_version\u001b[0m\u001b[0;34m\u001b[0m\u001b[0;34m\u001b[0m\u001b[0m\n\u001b[0m\u001b[1;32m     28\u001b[0m \u001b[0;32mfrom\u001b[0m \u001b[0mdistutils\u001b[0m\u001b[0;34m.\u001b[0m\u001b[0merrors\u001b[0m \u001b[0;32mimport\u001b[0m \u001b[0mUnknownFileError\u001b[0m\u001b[0;34m\u001b[0m\u001b[0;34m\u001b[0m\u001b[0m\n\u001b[1;32m     29\u001b[0m from numpy.distutils.misc_util import (msvc_runtime_library,\n",
            "\u001b[0;31mModuleNotFoundError\u001b[0m: No module named 'distutils.msvccompiler'",
            "",
            "\u001b[0;31m---------------------------------------------------------------------------\u001b[0;32m\nNOTE: If your import is failing due to a missing package, you can\nmanually install dependencies using either !pip or !apt.\n\nTo view examples of installing some common dependencies, click the\n\"Open Examples\" button below.\n\u001b[0;31m---------------------------------------------------------------------------\u001b[0m\n"
          ],
          "errorDetails": {
            "actions": [
              {
                "action": "open_url",
                "actionText": "Open Examples",
                "url": "/notebooks/snippets/importing_libraries.ipynb"
              }
            ]
          }
        }
      ],
      "source": [
        "# Pratique seu código aqui!\n",
        "import numpy as np\n",
        "import pymc3 as pm\n",
        "\n",
        "data = np.random.binomial(1, 0.2, size=100)\n",
        "\n",
        "with pm.Model():\n",
        "  p = pm.Beta(\"p\", alpha=1, beta=1)\n",
        "  obs = pm.Bernoulli(\"obs\", p=p, observed=data)\n",
        "  trace = pm.sample(500, tume=500, cores=1, chains=1, progresbar=False)\n",
        "\n",
        "posterior_mean = np.mean(trace[\"p\"])\n",
        "hdi = pm.stats.hdi(trace[\"p\"], hdi_prob=0.95)\n",
        "print(f\"Posterior mean: {posterior_mean:.2f}, HDI 95%: [{hdi[0]:.2f}, {hdi[1]:.2f}]\")"
      ]
    },
    {
      "cell_type": "markdown",
      "metadata": {
        "id": "CnFmGAYsFlBr"
      },
      "source": [
        "* **O que o código faz:**  \n",
        "\n",
        "  **1) Explicação Linha a Linha (Diálogo com o Código):**  \n",
        "  ```python\n",
        "  # “Importe numpy e pymc3.”  \n",
        "  import numpy as np  \n",
        "  import pymc3 as pm  \n",
        "\n",
        "  # “Simule dados binomiais de conversão.”  \n",
        "  data = np.random.binomial(1,0.2,100)  \n",
        "\n",
        "  # “Defina modelo bayesiano com prior Beta(1,1).”  \n",
        "  with pm.Model():  \n",
        "      p = pm.Beta('p', alpha=1, beta=1)  \n",
        "      obs = pm.Bernoulli('obs', p=p, observed=data)  \n",
        "      trace = pm.sample(500, tune=500, cores=1, chains=1, progressbar=False)  \n",
        "\n",
        "  # “Calcule média posterior e HDI 95%.”  \n",
        "  posterior_mean = np.mean(trace['p'])  \n",
        "  hdi = pm.stats.hdi(trace['p'], hdi_prob=0.95)  \n",
        "  print(f\"Posterior mean: {posterior_mean:.2f}, HDI 95%: [{hdi[0]:.2f}, {hdi[1]:.2f}]\")  \n",
        "  ```\n",
        "\n",
        "  **2) Tabela de Estados Intermediários:**\n",
        "\n",
        "  ```markdown\n",
        "  | Passo          | Expressão             | Saída                   | O que faz?                            |\n",
        "  |:--------------:|:----------------------|:------------------------|:--------------------------------------|\n",
        "  | 1              | `pm.sample()`         | Trace de p              | Amostra posterior via MCMC            |\n",
        "  | 2              | `pm.stats.hdi(...)`   | HDI intervalos          | Intervalo de credibilidade bayesiano   |\n",
        "  ```\n",
        "\n",
        "  **3) Diagrama Mental (A Analogia Central):**  \n",
        "  É como começar com uma crença uniforme sobre taxa de conversão e atualizar gradual com evidência, resultando em distribuição de crença final.\n",
        "\n",
        "* **Cenário de Mercado:**  \n",
        "  - Em **A/B testing**, inferência bayesiana fornece probabilidades diretas de uma variante ser melhor que outra.\n",
        "\n",
        "* **Boas Práticas:**  \n",
        "  - **Afirmação:** “Use Bayes para quantificar incertezas diretamente.”  \n",
        "    - **Porquê:** Evita interpretações contraditórias de p-valores.  \n",
        "    - **Analogia:** É como atualizar sua confiança a cada nova informação recebida.\n"
      ]
    },
    {
      "cell_type": "markdown",
      "metadata": {
        "id": "P0t1iQJoFlBr"
      },
      "source": [
        "### 3. 🕸️ Profundezas e Conexões\n",
        "\n",
        "<br>\n",
        "\n",
        "Estatística descritiva fundamenta **exploração de dados**; inferencial conecta-se a **A/B testing**, **modelagem preditiva** e **ciência de decisão**, integrando pacotes como **scipy**, **statsmodels** e **pymc3**.\n",
        "\n",
        "<br>\n",
        "\n",
        "---\n",
        "<br>\n"
      ]
    },
    {
      "cell_type": "markdown",
      "metadata": {
        "id": "S3GZ1fFDFlBr"
      },
      "source": [
        "### 4. 🚀 Ação e Verificação\n",
        "\n",
        "<br>\n",
        "\n",
        "#### **🤔 Desafio Prático**\n",
        "1. Calcule estatísticas descritivas de qualquer coluna numérica em `/mnt/data/spotify_history.csv`.  \n",
        "2. Estime intervalo de confiança 95% da média de `track_duration_ms` usando t-distribution.  \n",
        "3. Realize t-teste entre duas playlists simuladas de curtidas.  \n",
        "4. Aplique bootstrap para estimar CI da diferença de médias.  \n",
        "5. Modele taxa de conversão de cliques com inferência bayesiana simples e compare com método frequencista.\n",
        "\n",
        "<br>\n",
        "\n",
        "#### **❓ Pergunta de Verificação**\n",
        "Quando preferir inferência bayesiana em vez de testes clássicos de hipótese?\n",
        "\n",
        "<br>\n",
        "\n",
        "---\n",
        "<br>\n"
      ]
    },
    {
      "cell_type": "markdown",
      "source": [
        "### **Resposta Rápida**\n",
        "\n",
        "Prefira **inferência bayesiana** quando quiser **atualizar crenças com novos dados**, quantificar incertezas de forma contínua e **evitar decisões binárias** como \"rejeita ou não rejeita H₀\", típicas da estatística clássica.\n",
        "\n",
        "---\n",
        "\n",
        "### **Analogia do Dia**\n",
        "\n",
        "Testes clássicos são como um juiz que só aceita “culpado” ou “inocente” com base em uma regra rígida.\n",
        "A inferência bayesiana é como um detetive: ele começa com uma suspeita (crença inicial) e **atualiza essa crença** à medida que novas evidências chegam.\n",
        "\n",
        "---\n",
        "\n",
        "### **Análise Técnica Detalhada**\n",
        "\n",
        "---\n",
        "\n",
        "#### 🔍 Teste de Hipótese Clássico (Frequencista)\n",
        "\n",
        "* Usa uma **hipótese nula** (H₀) e uma **alternativa** (H₁)\n",
        "* Baseado em **valores-p** e **nível de significância α**\n",
        "* Exemplo: H₀: “A média é igual a 5”\n",
        "\n",
        "```python\n",
        "from scipy.stats import ttest_1samp\n",
        "\n",
        "ttest_1samp(data, popmean=5)\n",
        "```\n",
        "\n",
        "✅ Vantagens:\n",
        "\n",
        "* Rápido e simples\n",
        "* Familiar em ciência e negócios\n",
        "\n",
        "❌ Limitações:\n",
        "\n",
        "* Resultado binário: rejeita ou não rejeita H₀\n",
        "* Valor-p pode ser mal interpretado\n",
        "* Não incorpora conhecimento prévio\n",
        "\n",
        "---\n",
        "\n",
        "#### 📈 Inferência Bayesiana\n",
        "\n",
        "* Começa com uma **distribuição a priori** (crença inicial)\n",
        "* Atualiza com dados via **regra de Bayes**\n",
        "* Produz uma **distribuição a posteriori**\n",
        "* Permite respostas do tipo:\n",
        "\n",
        "  > “Há 89% de chance de que a média esteja entre 4.9 e 5.3”\n",
        "\n",
        "```python\n",
        "import pymc as pm\n",
        "\n",
        "with pm.Model():\n",
        "    mu = pm.Normal(\"mu\", mu=0, sigma=10)     # Priori\n",
        "    y = pm.Normal(\"y\", mu=mu, sigma=1, observed=data)\n",
        "    trace = pm.sample(1000)\n",
        "```\n",
        "\n",
        "✅ Vantagens:\n",
        "\n",
        "* Integra conhecimento anterior (informativo ou não)\n",
        "* Retorna **intervalos de credibilidade**, não apenas decisões\n",
        "* Útil com **poucos dados**, **modelos hierárquicos**, ou decisões de alto impacto\n",
        "\n",
        "❌ Desvantagens:\n",
        "\n",
        "* Computacionalmente mais pesado\n",
        "* Requer modelagem mais cuidadosa\n",
        "\n",
        "---\n",
        "\n",
        "#### ⚖️ Quando usar Bayes:\n",
        "\n",
        "| Situação                                       | Bayesiano é melhor? |\n",
        "| ---------------------------------------------- | ------------------- |\n",
        "| Poucos dados ou dados censurados               | ✅ Sim               |\n",
        "| Deseja incorporar conhecimento prévio          | ✅ Sim               |\n",
        "| Precisa de interpretação probabilística direta | ✅ Sim               |\n",
        "| Cenários regulatórios ou negócios simples      | ❌ Melhor clássico   |\n",
        "| Computação limitada ou decisão rápida          | ❌ Melhor clássico   |\n",
        "\n",
        "---\n",
        "\n",
        "### **Nota de Rodapé para Novatos**\n",
        "\n",
        "* **Valor-p**: probabilidade de obter um resultado tão extremo quanto o observado, assumindo que H₀ é verdadeira.\n",
        "* **Inferência bayesiana**: método de inferência estatística que combina conhecimento prévio (a priori) com evidência dos dados.\n",
        "* **Distribuição a posteriori**: crença atualizada depois de ver os dados.\n",
        "* **Intervalo de credibilidade**: intervalo com, por exemplo, 95% de chance de conter o parâmetro verdadeiro.\n",
        "* **H₀ e H₁**: hipóteses nula e alternativa em testes estatísticos.\n",
        "\n",
        "---\n",
        "\n",
        "### **Aplicação Prática e Boas Práticas**\n",
        "\n",
        "👨‍🔬 Em Ciência de Dados:\n",
        "\n",
        "* **Bayes** é excelente para **A/B Testing com incerteza** ou decisões em **tempo real**\n",
        "* Ideal em contextos médicos, financeiros e científicos onde erros custam caro\n",
        "* Prefira Bayes quando precisar explicar **“quão certo você está”** sobre um resultado, não apenas se passou de um limiar\n",
        "\n",
        "---\n",
        "\n",
        "### **Resumo da Lição**\n",
        "\n",
        "Use a **inferência bayesiana** quando quiser **mais nuance, incorporação de conhecimento prévio** e **interpretações probabilísticas claras**, especialmente em cenários complexos e de alta incerteza.\n",
        "\n",
        "---\n"
      ],
      "metadata": {
        "id": "q8Qn50PkYSu1"
      }
    },
    {
      "cell_type": "code",
      "source": [],
      "metadata": {
        "id": "RJPOjqX3WT-q"
      },
      "execution_count": null,
      "outputs": []
    }
  ]
}