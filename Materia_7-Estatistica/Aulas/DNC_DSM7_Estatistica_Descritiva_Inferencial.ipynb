{
  "nbformat": 4,
  "nbformat_minor": 0,
  "metadata": {
    "colab": {
      "provenance": []
    },
    "kernelspec": {
      "name": "python3",
      "display_name": "Python 3"
    }
  },
  "cells": [
    {
      "cell_type": "markdown",
      "metadata": {
        "id": "qYCkW9PQFlBk"
      },
      "source": [
        "## 🎓 **Aula sobre: Estatística Descritiva e Inferencial**\n",
        "\n",
        "<br>\n",
        "\n",
        "### 🧭 Sumário da Aula\n",
        "\n",
        "| # | Sub-tópico                        | Tempo Estimado | Complexidade |\n",
        "|---|-----------------------------------|----------------|--------------|\n",
        "| 1 | Ficha de Revisão Rápida           | ~1 min         | ⭐           |\n",
        "| 2 | Mergulho Profundo                 | ~15 min        | ⭐⭐⭐⭐       |\n",
        "| 3 | Profundezas e Conexões            | ~3 min         | ⭐⭐         |\n",
        "| 4 | 🚀 Ação e Verificação              | ~5 min         | ⭐⭐         |\n",
        "| 5 | 🌊 Mergulhos Adicionais Opcionais  | Opcional      | ⭐⭐⭐⭐      |\n",
        "\n",
        "<br>\n",
        "\n",
        "---\n",
        "<br>\n"
      ]
    },
    {
      "cell_type": "markdown",
      "metadata": {
        "id": "nt9F4sOUFlBm"
      },
      "source": [
        "### 1. 🧠 Ficha de Revisão Rápida | (O Essencial)\n",
        "\n",
        "<br>\n",
        "\n",
        "> - **Estatística Descritiva:** sumarização de dados (média, mediana, moda, desvio).  \n",
        "> - **Distribuições:** forma como os dados se espalham (*normal*, *uniforme*, etc.).  \n",
        "> - **Intervalo de Confiança:** faixa provável para a média populacional.  \n",
        "> - **Teste de Hipótese:** decisão estatística (p-valor) sobre suposições.  \n",
        "> - **Erro Tipo I/II:** falso positivo/negativo em testes.\n",
        "\n",
        "<br>\n"
      ]
    },
    {
      "cell_type": "markdown",
      "metadata": {
        "id": "pxh8Bz9-FlBm"
      },
      "source": [
        "### 2. 🔬 Mergulho Profundo | (Os Detalhes)\n",
        "\n",
        "<br>\n",
        "\n",
        "#### **🎯 O Conceito Central**  \n",
        "A **estatística descritiva** resume um conjunto de dados por meio de métricas como média e desvio padrão. Já a **inferencial** utiliza uma amostra para tirar conclusões sobre a população, empregando **intervalos de confiança** e **testes de hipótese** (por exemplo, *t-teste*), controlando o **nível de significância** (α) e interpretando **p-valores**.\n",
        "\n",
        "<br>\n",
        "\n",
        "#### **🔗 Analogia de Data Science**  \n",
        "- **Descritiva:** é como ler o extrato bancário e ver saldo médio e variação mensal.  \n",
        "- **Inferencial:** é como entrevistar 100 clientes para estimar a satisfação de toda a base de 10 000, usando margem de erro.\n",
        "\n",
        "<br>\n"
      ]
    },
    {
      "cell_type": "markdown",
      "metadata": {
        "id": "Hdw_cvBkFlBm"
      },
      "source": [
        "### **💻 Exemplos de Mercado (Abrangentes)**\n"
      ]
    },
    {
      "cell_type": "markdown",
      "metadata": {
        "id": "HQA_dr4YFlBn"
      },
      "source": [
        "#### **Nível Simples: Cálculo de Estatísticas Descritivas**\n"
      ]
    },
    {
      "cell_type": "code",
      "execution_count": null,
      "metadata": {
        "id": "L7ZTZ6wNFlBn"
      },
      "outputs": [],
      "source": [
        "import pandas as pd\n",
        "import seaborn as sns\n",
        "\n",
        "# Carrega dataset de gorjetas\n",
        "tips = sns.load_dataset('tips')['tip']\n",
        "# Descritivas básicas\n",
        "desc = tips.describe()\n",
        "mean = tips.mean()\n",
        "median = tips.median()\n",
        "std = tips.std()\n",
        "\n",
        "print(desc)\n",
        "print(f\"Média: {mean:.2f}, Mediana: {median:.2f}, Desvio: {std:.2f}\")\n"
      ]
    },
    {
      "cell_type": "code",
      "execution_count": 5,
      "metadata": {
        "colab": {
          "base_uri": "https://localhost:8080/",
          "height": 241
        },
        "id": "2PQP6y77FlBo",
        "outputId": "f49c1d2e-d28a-4455-94c5-27be97cf5913"
      },
      "outputs": [
        {
          "output_type": "execute_result",
          "data": {
            "text/plain": [
              "0    1.01\n",
              "1    1.66\n",
              "2    3.50\n",
              "3    3.31\n",
              "4    3.61\n",
              "Name: tip, dtype: float64"
            ],
            "text/html": [
              "<div>\n",
              "<style scoped>\n",
              "    .dataframe tbody tr th:only-of-type {\n",
              "        vertical-align: middle;\n",
              "    }\n",
              "\n",
              "    .dataframe tbody tr th {\n",
              "        vertical-align: top;\n",
              "    }\n",
              "\n",
              "    .dataframe thead th {\n",
              "        text-align: right;\n",
              "    }\n",
              "</style>\n",
              "<table border=\"1\" class=\"dataframe\">\n",
              "  <thead>\n",
              "    <tr style=\"text-align: right;\">\n",
              "      <th></th>\n",
              "      <th>tip</th>\n",
              "    </tr>\n",
              "  </thead>\n",
              "  <tbody>\n",
              "    <tr>\n",
              "      <th>0</th>\n",
              "      <td>1.01</td>\n",
              "    </tr>\n",
              "    <tr>\n",
              "      <th>1</th>\n",
              "      <td>1.66</td>\n",
              "    </tr>\n",
              "    <tr>\n",
              "      <th>2</th>\n",
              "      <td>3.50</td>\n",
              "    </tr>\n",
              "    <tr>\n",
              "      <th>3</th>\n",
              "      <td>3.31</td>\n",
              "    </tr>\n",
              "    <tr>\n",
              "      <th>4</th>\n",
              "      <td>3.61</td>\n",
              "    </tr>\n",
              "  </tbody>\n",
              "</table>\n",
              "</div><br><label><b>dtype:</b> float64</label>"
            ]
          },
          "metadata": {},
          "execution_count": 5
        }
      ],
      "source": [
        "# Pratique seu código aqui!\n",
        "\n",
        "import pandas as pd\n",
        "import seaborn as sns\n",
        "\n",
        "tips = sns.load_dataset(\"tips\")[\"tip\"]\n",
        "tips.head()"
      ]
    },
    {
      "cell_type": "code",
      "source": [
        "desc = tips.describe()\n",
        "mean = tips.mean()\n",
        "median = tips.median()\n",
        "std = tips.std()\n",
        "\n",
        "print(desc,\"\\n\")\n",
        "print(f\"Média: {mean:.2f}, Mediana: {median:.2f}, Desvio: {std:.2f}\")\n"
      ],
      "metadata": {
        "colab": {
          "base_uri": "https://localhost:8080/"
        },
        "id": "EhaVpkAqHqwz",
        "outputId": "eba02706-130a-4b4e-f729-a7670de25308"
      },
      "execution_count": 10,
      "outputs": [
        {
          "output_type": "stream",
          "name": "stdout",
          "text": [
            "count    244.000000\n",
            "mean       2.998279\n",
            "std        1.383638\n",
            "min        1.000000\n",
            "25%        2.000000\n",
            "50%        2.900000\n",
            "75%        3.562500\n",
            "max       10.000000\n",
            "Name: tip, dtype: float64 \n",
            "\n",
            "Média: 3.00, Mediana: 2.90, Desvio: 1.38\n"
          ]
        }
      ]
    },
    {
      "cell_type": "markdown",
      "metadata": {
        "id": "71E6YRH8FlBo"
      },
      "source": [
        "* **O que o código faz:**  \n",
        "\n",
        "  **1) Explicação Linha a Linha (Diálogo com o Código):**  \n",
        "  ```python\n",
        "  # “Importe pandas e seaborn.”  \n",
        "  import pandas as pd  \n",
        "  import seaborn as sns  \n",
        "\n",
        "  # “Carregue apenas a coluna de gorjetas.”  \n",
        "  tips = sns.load_dataset('tips')['tip']  \n",
        "\n",
        "  # “Use describe() para resumo completo.”  \n",
        "  desc = tips.describe()  \n",
        "\n",
        "  # “Calcule média, mediana e desvio padrão separadamente.”  \n",
        "  mean = tips.mean()  \n",
        "  median = tips.median()  \n",
        "  std = tips.std()  \n",
        "\n",
        "  # “Mostre resultados formatados.”  \n",
        "  print(desc)  \n",
        "  print(f\"Média: {mean:.2f}, Mediana: {median:.2f}, Desvio: {std:.2f}\")  \n",
        "  ```\n",
        "\n",
        "  **2) Tabela de Estados Intermediários:**\n",
        "\n",
        "  ```markdown\n",
        "  | Passo        | Expressão         | Saída                     | O que faz?                          |\n",
        "  |:------------:|:------------------|:--------------------------|:------------------------------------|\n",
        "  | 1            | `tips.describe()` | Série com count, mean…    | Estatísticas descritivas completas  |\n",
        "  | 2            | `tips.mean()`     | Float                     | Média da gorjeta                    |\n",
        "  | 3            | `tips.median()`   | Float                     | Valor central (mediana)             |\n",
        "  | 4            | `tips.std()`      | Float                     | Dispersão dos valores               |\n",
        "  ```\n",
        "\n",
        "  **3) Diagrama Mental (A Analogia Central):**  \n",
        "  Imagine um gráfico de colunas: a média é a altura média das colunas, a mediana é a coluna central e o desvio é a “diferença padrão” entre elas.\n",
        "\n",
        "* **Cenário de Mercado:**  \n",
        "  - Em **finanças**, sumarizar retornos diários inclui média para tendência e desvio para risco.  \n",
        "  - **Por que descritiva?** Ajuda equipes a entender volatilidade antes de modelagem.\n",
        "\n",
        "* **Boas Práticas:**  \n",
        "  - **Afirmação:** “Verifique outliers antes de usar média.”  \n",
        "    - **Porquê:** Valores extremos podem distorcer a média.  \n",
        "    - **Analogia:** É como remover notas zeradas antes de calcular média de provas.\n"
      ]
    },
    {
      "cell_type": "markdown",
      "metadata": {
        "id": "yJsJ-d4VFlBo"
      },
      "source": [
        "#### **Nível Intermediário: Intervalo de Confiança e Histograma**\n"
      ]
    },
    {
      "cell_type": "code",
      "execution_count": null,
      "metadata": {
        "id": "5eOvQrdhFlBo"
      },
      "outputs": [],
      "source": [
        "import numpy as np\n",
        "import seaborn as sns\n",
        "import matplotlib.pyplot as plt\n",
        "from scipy import stats\n",
        "\n",
        "# Amostra de salários simulada\n",
        "np.random.seed(0)\n",
        "salarios = np.random.normal(loc=5000, scale=800, size=100)\n",
        "\n",
        "# Intervalo de confiança 95%\n",
        "mean = salarios.mean()\n",
        "ci = stats.t.interval(0.95, len(salarios)-1, loc=mean, scale=stats.sem(salarios))\n",
        "\n",
        "# Histograma com linha de média e CI\n",
        "sns.histplot(salarios, kde=False)\n",
        "plt.axvline(mean, color='red', linestyle='--', label='Média')\n",
        "plt.axvline(ci[0], color='blue', linestyle=':', label='CI 95%')\n",
        "plt.axvline(ci[1], color='blue', linestyle=':')\n",
        "plt.legend()\n",
        "plt.show()\n",
        "\n",
        "print(f\"Intervalo de Confiança 95%: [{ci[0]:.0f}, {ci[1]:.0f}]\")\n"
      ]
    },
    {
      "cell_type": "code",
      "execution_count": null,
      "metadata": {
        "id": "54NwBvHxFlBp"
      },
      "outputs": [],
      "source": [
        "# Pratique seu código aqui!\n"
      ]
    },
    {
      "cell_type": "markdown",
      "metadata": {
        "id": "nUfVRaytFlBp"
      },
      "source": [
        "* **O que o código faz:**  \n",
        "\n",
        "  **1) Explicação Linha a Linha (Diálogo com o Código):**  \n",
        "  ```python\n",
        "  # “Importe numpy, seaborn, matplotlib e scipy.”  \n",
        "  import numpy as np  \n",
        "  import seaborn as sns  \n",
        "  import matplotlib.pyplot as plt  \n",
        "  from scipy import stats  \n",
        "\n",
        "  # “Crie amostra normal de salários.”  \n",
        "  salarios = np.random.normal(5000, 800, 100)  \n",
        "\n",
        "  # “Calcule média e intervalo de confiança 95%.”  \n",
        "  mean = salarios.mean()  \n",
        "  ci = stats.t.interval(0.95, len(salarios)-1, loc=mean, scale=stats.sem(salarios))  \n",
        "\n",
        "  # “Desenhe histograma.”  \n",
        "  sns.histplot(salarios, kde=False)  \n",
        "\n",
        "  # “Linhas para média (vermelha) e limites do CI (azul).”  \n",
        "  plt.axvline(mean, color='red', linestyle='--', label='Média')  \n",
        "  plt.axvline(ci[0], color='blue', linestyle=':', label='CI 95%')  \n",
        "  plt.axvline(ci[1], color='blue', linestyle=':')  \n",
        "  plt.legend()  \n",
        "  plt.show()  \n",
        "\n",
        "  # “Imprima valores do CI.”  \n",
        "  print(f\"Intervalo de Confiança 95%: [{ci[0]:.0f}, {ci[1]:.0f}]\")  \n",
        "  ```\n",
        "\n",
        "  **2) Tabela de Estados Intermediários:**\n",
        "\n",
        "  ```markdown\n",
        "  | Passo           | Expressão                | Saída                  | O que faz?                           |\n",
        "  |:---------------:|:-------------------------|:-----------------------|:--------------------------------------|\n",
        "  | 1               | `stats.t.interval(...)`  | Tupla (lower, upper)   | Calcula CI para média               |\n",
        "  | 2               | `histplot + axvline`     | Gráfico com linhas     | Visualiza distribuição e CI         |\n",
        "  | 3               | –                        | imprime                | Exibe intervalo numérico            |\n",
        "  ```\n",
        "\n",
        "  **3) Diagrama Mental (A Analogia Central):**  \n",
        "  É como desenhar uma fita em torno da média que mostra onde “esperamos” encontrar a curva da população 95% das vezes.\n",
        "\n",
        "* **Cenário de Mercado:**  \n",
        "  - Em **RH**, calcular CI de salário médio informa gestores sobre variação esperada antes de ajustes orçamentários.\n",
        "\n",
        "* **Boas Práticas:**  \n",
        "  - **Afirmação:** “Sempre confira normalidade antes do CI t.”  \n",
        "    - **Porquê:** Teste de t assume distribuição aproximadamente normal.  \n",
        "    - **Analogia:** É como verificar se a pista está plana antes de medir velocidade média.\n"
      ]
    },
    {
      "cell_type": "markdown",
      "metadata": {
        "id": "ieUpjG1-FlBp"
      },
      "source": [
        "#### **Nível Avançado: Teste de Hipótese (t-teste)**\n"
      ]
    },
    {
      "cell_type": "code",
      "execution_count": null,
      "metadata": {
        "id": "KbS50CPmFlBp"
      },
      "outputs": [],
      "source": [
        "import numpy as np\n",
        "from scipy import stats\n",
        "\n",
        "# Duas amostras de conversão (%)\n",
        "campanhaA = np.random.binomial(1, 0.12, 200)\n",
        "campanhaB = np.random.binomial(1, 0.15, 200)\n",
        "\n",
        "# t-teste para proporções (uso de stats.ttest_ind)\n",
        "tstat, pval = stats.ttest_ind(campanhaA, campanhaB)\n",
        "\n",
        "print(f\"t-statistic: {tstat:.2f}, p-valor: {pval:.3f}\")\n"
      ]
    },
    {
      "cell_type": "code",
      "execution_count": null,
      "metadata": {
        "id": "_r0ZWxCvFlBp"
      },
      "outputs": [],
      "source": [
        "# Pratique seu código aqui!\n"
      ]
    },
    {
      "cell_type": "markdown",
      "metadata": {
        "id": "zRsmvbL0FlBp"
      },
      "source": [
        "* **O que o código faz:**  \n",
        "\n",
        "  **1) Explicação Linha a Linha (Diálogo com o Código):**  \n",
        "  ```python\n",
        "  # “Importe numpy e scipy.stats.”  \n",
        "  import numpy as np  \n",
        "  from scipy import stats  \n",
        "\n",
        "  # “Simule conversões binárias em duas campanhas.”  \n",
        "  campanhaA = np.random.binomial(1,0.12,200)  \n",
        "  campanhaB = np.random.binomial(1,0.15,200)  \n",
        "\n",
        "  # “Faça t-teste independente.”  \n",
        "  tstat, pval = stats.ttest_ind(campanhaA, campanhaB)  \n",
        "\n",
        "  # “Mostre estatística t e p-valor.”  \n",
        "  print(f\"t-statistic: {tstat:.2f}, p-valor: {pval:.3f}\")  \n",
        "  ```\n",
        "\n",
        "  **2) Tabela de Estados Intermediários:**\n",
        "\n",
        "  ```markdown\n",
        "  | Passo     | Expressão              | Saída              | O que faz?                      |\n",
        "  |:---------:|:-----------------------|:-------------------|:--------------------------------|\n",
        "  | 1         | `ttest_ind(...)`       | t-stat, pval       | Compara médias de duas amostras |\n",
        "  | 2         | –                      | imprime            | Resultado do teste              |\n",
        "  ```\n",
        "\n",
        "  **3) Diagrama Mental (A Analogia Central):**  \n",
        "  É como comparar duas turmas de alunos: testa se a diferença de notas médias é “grande o suficiente” para não ser por acaso.\n",
        "\n",
        "* **Cenário de Mercado:**  \n",
        "  - Em **marketing**, testar se mudança de layout aumenta taxa de cliques de forma estatisticamente significativa.\n",
        "\n",
        "* **Boas Práticas:**  \n",
        "  - **Afirmação:** “Escolha teste adequado ao tipo de dado.”  \n",
        "    - **Porquê:** t-teste assume variâncias semelhantes e distribuição contínua.  \n",
        "    - **Analogia:** É como escolher o martelo certo para cada tipo de prego.\n"
      ]
    },
    {
      "cell_type": "markdown",
      "metadata": {
        "id": "qF88_-pdFlBq"
      },
      "source": [
        "#### **Nível DEUS (1/3): Bootstrapping para Estimativa de Erros**\n"
      ]
    },
    {
      "cell_type": "code",
      "execution_count": null,
      "metadata": {
        "id": "YWjbVhvnFlBq"
      },
      "outputs": [],
      "source": [
        "import numpy as np\n",
        "\n",
        "# Amostra original\n",
        "data = np.random.normal(100, 20, size=500)\n",
        "# Bootstrapping\n",
        "boot_means = [np.mean(np.random.choice(data, size=len(data), replace=True)) for _ in range(1000)]\n",
        "ci_lower, ci_upper = np.percentile(boot_means, [2.5, 97.5])\n",
        "\n",
        "print(f\"Boot CI 95%: [{ci_lower:.1f}, {ci_upper:.1f}]\")\n"
      ]
    },
    {
      "cell_type": "code",
      "execution_count": null,
      "metadata": {
        "id": "ODfywoIMFlBq"
      },
      "outputs": [],
      "source": [
        "# Pratique seu código aqui!\n"
      ]
    },
    {
      "cell_type": "markdown",
      "metadata": {
        "id": "DDIscnXFFlBq"
      },
      "source": [
        "* **O que o código faz:**  \n",
        "\n",
        "  **1) Explicação Linha a Linha (Diálogo com o Código):**  \n",
        "  ```python\n",
        "  # “Importe numpy.”  \n",
        "  import numpy as np  \n",
        "\n",
        "  # “Gere amostra normal.”  \n",
        "  data = np.random.normal(100,20,500)  \n",
        "\n",
        "  # “Para 1000 resamples com substituição, calcule médias.”  \n",
        "  boot_means = [\n",
        "    np.mean(np.random.choice(data, len(data), replace=True))\n",
        "    for _ in range(1000)\n",
        "  ]  \n",
        "\n",
        "  # “Compute percentis 2.5 e 97.5 para CI.”  \n",
        "  ci_lower, ci_upper = np.percentile(boot_means, [2.5,97.5])  \n",
        "\n",
        "  # “Exiba intervalo.”  \n",
        "  print(f\"Boot CI 95%: [{ci_lower:.1f}, {ci_upper:.1f}]\")  \n",
        "  ```\n",
        "\n",
        "  **2) Tabela de Estados Intermediários:**\n",
        "\n",
        "  ```markdown\n",
        "  | Passo    | Expressão              | Saída            | O que faz?                                 |\n",
        "  |:--------:|:-----------------------|:-----------------|:-------------------------------------------|\n",
        "  | 1        | `boot_means`           | Lista de médias  | Distribuição empírica das médias           |\n",
        "  | 2        | `np.percentile(...)`   | Lower, Upper     | Calcula IC baseado em percentis do bootstrap |\n",
        "  ```\n",
        "\n",
        "  **3) Diagrama Mental (A Analogia Central):**  \n",
        "  É como recriar a pesquisa várias vezes em diferentes subconjuntos e ver onde a média cai 95% das vezes.\n",
        "\n",
        "* **Cenário de Mercado:**  \n",
        "  - Em **avaliação de modelos**, estimar variabilidade de métricas (ex: AUC) via bootstrap.\n",
        "\n",
        "* **Boas Práticas:**  \n",
        "  - **Afirmação:** “Use bootstrap se distribuição desconhecida.”  \n",
        "    - **Porquê:** Não exige suposições paramétricas fortes.  \n",
        "    - **Analogia:** É como repetir várias vezes uma votação simulada para ver estabilidade do resultado.\n"
      ]
    },
    {
      "cell_type": "markdown",
      "metadata": {
        "id": "i46KKW7rFlBq"
      },
      "source": [
        "#### **Nível DEUS (2/3): Análise de Poder Estatístico**\n"
      ]
    },
    {
      "cell_type": "code",
      "execution_count": null,
      "metadata": {
        "id": "ud4Q5HvKFlBq"
      },
      "outputs": [],
      "source": [
        "import numpy as np\n",
        "from statsmodels.stats.power import TTestIndPower\n",
        "\n",
        "# Parâmetros\n",
        "effect_size = 0.3  # diferença padronizada\n",
        "alpha = 0.05\n",
        "power = 0.8\n",
        "\n",
        "analysis = TTestIndPower()\n",
        "# Tamanho de amostra necessário\n",
        "nobs = analysis.solve_power(effect_size=effect_size, alpha=alpha, power=power, alternative='two-sided')\n",
        "print(f\"Tamanho de amostra necessário: {int(np.ceil(nobs))}\")\n"
      ]
    },
    {
      "cell_type": "code",
      "execution_count": null,
      "metadata": {
        "id": "FGpbz13XFlBq"
      },
      "outputs": [],
      "source": [
        "# Pratique seu código aqui!\n"
      ]
    },
    {
      "cell_type": "markdown",
      "metadata": {
        "id": "iwczCxMSFlBq"
      },
      "source": [
        "* **O que o código faz:**  \n",
        "\n",
        "  **1) Explicação Linha a Linha (Diálogo com o Código):**  \n",
        "  ```python\n",
        "  # “Importe numpy e TTestIndPower.”  \n",
        "  import numpy as np  \n",
        "  from statsmodels.stats.power import TTestIndPower  \n",
        "\n",
        "  # “Defina efeito padronizado, alpha e power desejado.”  \n",
        "  effect_size = 0.3  \n",
        "  alpha = 0.05  \n",
        "  power = 0.8  \n",
        "\n",
        "  # “Crie analisador e compute nobs.”  \n",
        "  analysis = TTestIndPower()  \n",
        "  nobs = analysis.solve_power(effect_size=effect_size, alpha=alpha, power=power, alternative='two-sided')  \n",
        "\n",
        "  # “Arredonde e imprima.”  \n",
        "  print(f\"Tamanho de amostra necessário: {int(np.ceil(nobs))}\")  \n",
        "  ```\n",
        "\n",
        "  **2) Tabela de Estados Intermediários:**\n",
        "\n",
        "  ```markdown\n",
        "  | Passo    | Expressão              | Saída        | O que faz?                               |\n",
        "  |:--------:|:-----------------------|:-------------|:-----------------------------------------|\n",
        "  | 1        | `solve_power(...)`     | Float nobs   | Calcula amostra para poder estatístico    |\n",
        "  ```\n",
        "\n",
        "  **3) Diagrama Mental (A Analogia Central):**  \n",
        "  É como planejar quantas pessoas entrevistar para ter 80% de chance de detectar uma diferença real de 0.3 pontos no índice de satisfação.\n",
        "\n",
        "* **Cenário de Mercado:**  \n",
        "  - Em **pesquisas de mercado**, definir tamanho de amostra para estudos de preferência de produto.\n",
        "\n",
        "* **Boas Práticas:**  \n",
        "  - **Afirmação:** “Considere poder ao planejar experimentos.”  \n",
        "    - **Porquê:** Baixo poder aumenta risco de falso negativo.  \n",
        "    - **Analogia:** É como garantir público suficiente para ver efeito em um produto piloto.\n"
      ]
    },
    {
      "cell_type": "markdown",
      "metadata": {
        "id": "U3GPXo0yFlBr"
      },
      "source": [
        "#### **Nível DEUS (3/3): Inferência Bayesiana Simples**\n"
      ]
    },
    {
      "cell_type": "code",
      "execution_count": null,
      "metadata": {
        "id": "vzcqafrRFlBr"
      },
      "outputs": [],
      "source": [
        "import numpy as np\n",
        "import pymc3 as pm\n",
        "\n",
        "# Dados de conversão\n",
        "data = np.random.binomial(1, 0.2, size=100)\n",
        "\n",
        "with pm.Model():\n",
        "    p = pm.Beta('p', alpha=1, beta=1)\n",
        "    obs = pm.Bernoulli('obs', p=p, observed=data)\n",
        "    trace = pm.sample(500, tune=500, cores=1, chains=1, progressbar=False)\n",
        "\n",
        "posterior_mean = np.mean(trace['p'])\n",
        "hdi = pm.stats.hdi(trace['p'], hdi_prob=0.95)\n",
        "print(f\"Posterior mean: {posterior_mean:.2f}, HDI 95%: [{hdi[0]:.2f}, {hdi[1]:.2f}]\")\n"
      ]
    },
    {
      "cell_type": "code",
      "execution_count": null,
      "metadata": {
        "id": "t0fJkKp3FlBr"
      },
      "outputs": [],
      "source": [
        "# Pratique seu código aqui!\n"
      ]
    },
    {
      "cell_type": "markdown",
      "metadata": {
        "id": "CnFmGAYsFlBr"
      },
      "source": [
        "* **O que o código faz:**  \n",
        "\n",
        "  **1) Explicação Linha a Linha (Diálogo com o Código):**  \n",
        "  ```python\n",
        "  # “Importe numpy e pymc3.”  \n",
        "  import numpy as np  \n",
        "  import pymc3 as pm  \n",
        "\n",
        "  # “Simule dados binomiais de conversão.”  \n",
        "  data = np.random.binomial(1,0.2,100)  \n",
        "\n",
        "  # “Defina modelo bayesiano com prior Beta(1,1).”  \n",
        "  with pm.Model():  \n",
        "      p = pm.Beta('p', alpha=1, beta=1)  \n",
        "      obs = pm.Bernoulli('obs', p=p, observed=data)  \n",
        "      trace = pm.sample(500, tune=500, cores=1, chains=1, progressbar=False)  \n",
        "\n",
        "  # “Calcule média posterior e HDI 95%.”  \n",
        "  posterior_mean = np.mean(trace['p'])  \n",
        "  hdi = pm.stats.hdi(trace['p'], hdi_prob=0.95)  \n",
        "  print(f\"Posterior mean: {posterior_mean:.2f}, HDI 95%: [{hdi[0]:.2f}, {hdi[1]:.2f}]\")  \n",
        "  ```\n",
        "\n",
        "  **2) Tabela de Estados Intermediários:**\n",
        "\n",
        "  ```markdown\n",
        "  | Passo          | Expressão             | Saída                   | O que faz?                            |\n",
        "  |:--------------:|:----------------------|:------------------------|:--------------------------------------|\n",
        "  | 1              | `pm.sample()`         | Trace de p              | Amostra posterior via MCMC            |\n",
        "  | 2              | `pm.stats.hdi(...)`   | HDI intervalos          | Intervalo de credibilidade bayesiano   |\n",
        "  ```\n",
        "\n",
        "  **3) Diagrama Mental (A Analogia Central):**  \n",
        "  É como começar com uma crença uniforme sobre taxa de conversão e atualizar gradual com evidência, resultando em distribuição de crença final.\n",
        "\n",
        "* **Cenário de Mercado:**  \n",
        "  - Em **A/B testing**, inferência bayesiana fornece probabilidades diretas de uma variante ser melhor que outra.\n",
        "\n",
        "* **Boas Práticas:**  \n",
        "  - **Afirmação:** “Use Bayes para quantificar incertezas diretamente.”  \n",
        "    - **Porquê:** Evita interpretações contraditórias de p-valores.  \n",
        "    - **Analogia:** É como atualizar sua confiança a cada nova informação recebida.\n"
      ]
    },
    {
      "cell_type": "markdown",
      "metadata": {
        "id": "P0t1iQJoFlBr"
      },
      "source": [
        "### 3. 🕸️ Profundezas e Conexões\n",
        "\n",
        "<br>\n",
        "\n",
        "Estatística descritiva fundamenta **exploração de dados**; inferencial conecta-se a **A/B testing**, **modelagem preditiva** e **ciência de decisão**, integrando pacotes como **scipy**, **statsmodels** e **pymc3**.\n",
        "\n",
        "<br>\n",
        "\n",
        "---\n",
        "<br>\n"
      ]
    },
    {
      "cell_type": "markdown",
      "metadata": {
        "id": "S3GZ1fFDFlBr"
      },
      "source": [
        "### 4. 🚀 Ação e Verificação\n",
        "\n",
        "<br>\n",
        "\n",
        "#### **🤔 Desafio Prático**\n",
        "1. Calcule estatísticas descritivas de qualquer coluna numérica em `/mnt/data/spotify_history.csv`.  \n",
        "2. Estime intervalo de confiança 95% da média de `track_duration_ms` usando t-distribution.  \n",
        "3. Realize t-teste entre duas playlists simuladas de curtidas.  \n",
        "4. Aplique bootstrap para estimar CI da diferença de médias.  \n",
        "5. Modele taxa de conversão de cliques com inferência bayesiana simples e compare com método frequencista.\n",
        "\n",
        "<br>\n",
        "\n",
        "#### **❓ Pergunta de Verificação**\n",
        "Quando preferir inferência bayesiana em vez de testes clássicos de hipótese?\n",
        "\n",
        "<br>\n",
        "\n",
        "---\n",
        "<br>\n"
      ]
    }
  ]
}