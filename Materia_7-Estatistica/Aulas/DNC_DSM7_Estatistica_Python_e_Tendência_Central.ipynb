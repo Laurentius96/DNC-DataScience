{
  "nbformat": 4,
  "nbformat_minor": 0,
  "metadata": {
    "colab": {
      "provenance": []
    },
    "kernelspec": {
      "name": "python3",
      "display_name": "Python 3"
    }
  },
  "cells": [
    {
      "cell_type": "markdown",
      "metadata": {
        "id": "pmTOKI749OrR"
      },
      "source": [
        "## 🎓 **Aula sobre: Python e Tendência Central — Moda, Média, Mediana e Cuidados com Outliers**\n",
        "\n",
        "<br>\n",
        "\n",
        "### 🧭 Sumário da Aula\n",
        "\n",
        "| # | Sub-tópico                          | Tempo Estimado | Complexidade |\n",
        "|---|-------------------------------------|----------------|--------------|\n",
        "| 1 | 🧠 Ficha de Revisão Rápida          | ~1 min         | ⭐           |\n",
        "| 2 | 🔬 Mergulho Profundo                | ~15 min        | ⭐⭐⭐⭐       |\n",
        "| 3 | 💻 Exemplos de Mercado              | ~10 min        | ⭐⭐⭐        |\n",
        "| 4 | 🕸️ Profundezas e Conexões           | ~3 min         | ⭐⭐         |\n",
        "| 5 | 🚀 Ação e Verificação                | ~5 min         | ⭐⭐         |\n",
        "| 6 | 🌊 Mergulhos Adicionais Opcionais    | Opcional       | ⭐⭐⭐⭐      |\n",
        "\n",
        "<br>\n",
        "\n",
        "---\n",
        "<br>\n"
      ]
    },
    {
      "cell_type": "markdown",
      "metadata": {
        "id": "2WLMZ8fu9OrT"
      },
      "source": [
        "### 1. 🧠 Ficha de Revisão Rápida | (O Essencial)\n",
        "\n",
        "<br>\n",
        "\n",
        "> - **Média (mean):** soma dos valores dividida pela quantidade.  \n",
        "> - **Mediana (median):** valor central de um conjunto ordenado.  \n",
        "> - **Moda (mode):** valor mais frequente.  \n",
        "> - **Outliers:** pontos extremos que distorcem a média.  \n",
        "> - **Trimmed Mean / Winsorized:** formas de reduzir impacto de outliers.\n",
        "\n",
        "<br>\n"
      ]
    },
    {
      "cell_type": "markdown",
      "metadata": {
        "id": "bSGrEr779OrT"
      },
      "source": [
        "### 2. 🔬 Mergulho Profundo | (Os Detalhes)\n",
        "\n",
        "<br>\n",
        "\n",
        "#### **🎯 O Conceito Central**  \n",
        "- A **média** é sensível a **outliers**, pois cada valor contribui igualmente.  \n",
        "- A **mediana** é robusta: reflete o ponto central sem se deixar levar por extremos.  \n",
        "- A **moda** destaca valores repetidos, útil em dados categóricos ou discretos.  \n",
        "- Para lidar com **outliers**, usamos **trimmed mean** (descarta X% das bordas) ou **winsorized mean** (substitui extremos por percentis).\n",
        "\n",
        "<br>\n",
        "\n",
        "#### **🔗 Analogia de Data Science**  \n",
        "Imagine três amigos dividindo pizza:  \n",
        "- A média é como dividir fatias iguais – um pedaço gigante de alguém (outlier) engorda a porção média.  \n",
        "- A mediana é escolher a fatia do meio – independente do tamanho das extremas.  \n",
        "- A moda é ver qual tamanho de fatia aparece mais vezes na mesa.\n",
        "\n",
        "<br>\n"
      ]
    },
    {
      "cell_type": "markdown",
      "metadata": {
        "id": "20zSZZUl9OrU"
      },
      "source": [
        "### **💻 Exemplos de Mercado (Abrangentes)**\n"
      ]
    },
    {
      "cell_type": "markdown",
      "metadata": {
        "id": "IS2QcfG-9OrU"
      },
      "source": [
        "#### **Nível Simples: Moda, Média e Mediana de Taxa de Entrega**\n"
      ]
    },
    {
      "cell_type": "code",
      "execution_count": null,
      "metadata": {
        "id": "kgU1gG-H9OrU"
      },
      "outputs": [],
      "source": [
        "import pandas as pd\n",
        "# “Leia CSV de fevereiro 2021.”\n",
        "df = pd.read_csv('/content/ifood-restaurants-february-2021.csv')\n",
        "# “Calcule média, mediana e moda de delivery_fee.”\n",
        "mean_fee = df['delivery_fee'].mean()\n",
        "median_fee = df['delivery_fee'].median()\n",
        "mode_fee = df['delivery_fee'].mode()[0]\n",
        "print(f\"Média: {mean_fee:.2f}, Mediana: {median_fee:.2f}, Moda: {mode_fee:.2f}\")\n"
      ]
    },
    {
      "cell_type": "code",
      "execution_count": 3,
      "metadata": {
        "colab": {
          "base_uri": "https://localhost:8080/",
          "height": 660
        },
        "id": "oS4plyjG9OrV",
        "outputId": "d736ddec-e77d-4dc3-fb80-977dce1b56cd"
      },
      "outputs": [
        {
          "output_type": "execute_result",
          "data": {
            "text/plain": [
              "   availableForScheduling                                             avatar  \\\n",
              "0                   False  https://static-images.ifood.com.br/image/uploa...   \n",
              "1                   False  https://static-images.ifood.com.br/image/uploa...   \n",
              "2                   False  https://static-images.ifood.com.br/image/uploa...   \n",
              "3                   False  https://static-images.ifood.com.br/image/uploa...   \n",
              "4                   False  https://static-images.ifood.com.br/image/uploa...   \n",
              "\n",
              "     category  delivery_fee  delivery_time  distance     ibge  \\\n",
              "0     Marmita          3.99             27      1.22  5300108   \n",
              "1        Açaí          7.99             61      4.96  5300108   \n",
              "2     Bebidas         11.99             70      8.35  5300108   \n",
              "3      Carnes         16.49             63      6.35  5300108   \n",
              "4  Brasileira         11.99             58      5.22  5300108   \n",
              "\n",
              "   minimumOrderValue                        name  \\\n",
              "0               10.0        Cantina Arte & Sabor   \n",
              "1               10.0            Raruty Açaí Raiz   \n",
              "2                5.0               Toma na Kombi   \n",
              "3               20.0  Churrasquinho do Barriga´s   \n",
              "4               20.0           Prime Restaurante   \n",
              "\n",
              "                                        paymentCodes price_range  rating  \\\n",
              "0  DNR $$ MPAY $$ MOVPAY_MC $$ MC $$ GPY_ELO $$ E...    CHEAPEST     0.0   \n",
              "1  DNR $$ MPAY $$ MOVPAY_MC $$ MC $$ GPY_ELO $$ E...    CHEAPEST     0.0   \n",
              "2  DNR $$ MPAY $$ MOVPAY_MC $$ MC $$ GPY_ELO $$ R...    MODERATE     0.0   \n",
              "3  DNR $$ MPAY $$ MOVPAY_MC $$ MC $$ GPY_ELO $$ E...    CHEAPEST     0.0   \n",
              "4  DNR $$ MPAY $$ MOVPAY_MC $$ MC $$ GPY_ELO $$ E...    CHEAPEST     0.0   \n",
              "\n",
              "                                                tags  \\\n",
              "0  ADDRESS_PREFORM_TYPE $$ CART::MCHT::100_DELIVE...   \n",
              "1  ADDRESS_PREFORM_TYPE $$ GUIDED_HELP_TYPE $$ ME...   \n",
              "2  ADDRESS_PREFORM_TYPE $$ CPGN_USER_DISCOUNT_6_L...   \n",
              "3  ADDRESS_PREFORM_TYPE $$ GUIDED_HELP_TYPE $$ NO...   \n",
              "4   ADDRESS_PREFORM_TYPE $$ GUIDED_HELP_TYPE $$ NOVO   \n",
              "\n",
              "                                                 url  \n",
              "0  https://www.ifood.com.br/delivery/brasilia-df/...  \n",
              "1  https://www.ifood.com.br/delivery/brasilia-df/...  \n",
              "2  https://www.ifood.com.br/delivery/brasilia-df/...  \n",
              "3  https://www.ifood.com.br/delivery/brasilia-df/...  \n",
              "4  https://www.ifood.com.br/delivery/brasilia-df/...  "
            ],
            "text/html": [
              "\n",
              "  <div id=\"df-132f083c-1f7f-4acf-bad1-4aae209a713f\" class=\"colab-df-container\">\n",
              "    <div>\n",
              "<style scoped>\n",
              "    .dataframe tbody tr th:only-of-type {\n",
              "        vertical-align: middle;\n",
              "    }\n",
              "\n",
              "    .dataframe tbody tr th {\n",
              "        vertical-align: top;\n",
              "    }\n",
              "\n",
              "    .dataframe thead th {\n",
              "        text-align: right;\n",
              "    }\n",
              "</style>\n",
              "<table border=\"1\" class=\"dataframe\">\n",
              "  <thead>\n",
              "    <tr style=\"text-align: right;\">\n",
              "      <th></th>\n",
              "      <th>availableForScheduling</th>\n",
              "      <th>avatar</th>\n",
              "      <th>category</th>\n",
              "      <th>delivery_fee</th>\n",
              "      <th>delivery_time</th>\n",
              "      <th>distance</th>\n",
              "      <th>ibge</th>\n",
              "      <th>minimumOrderValue</th>\n",
              "      <th>name</th>\n",
              "      <th>paymentCodes</th>\n",
              "      <th>price_range</th>\n",
              "      <th>rating</th>\n",
              "      <th>tags</th>\n",
              "      <th>url</th>\n",
              "    </tr>\n",
              "  </thead>\n",
              "  <tbody>\n",
              "    <tr>\n",
              "      <th>0</th>\n",
              "      <td>False</td>\n",
              "      <td>https://static-images.ifood.com.br/image/uploa...</td>\n",
              "      <td>Marmita</td>\n",
              "      <td>3.99</td>\n",
              "      <td>27</td>\n",
              "      <td>1.22</td>\n",
              "      <td>5300108</td>\n",
              "      <td>10.0</td>\n",
              "      <td>Cantina Arte &amp; Sabor</td>\n",
              "      <td>DNR $$ MPAY $$ MOVPAY_MC $$ MC $$ GPY_ELO $$ E...</td>\n",
              "      <td>CHEAPEST</td>\n",
              "      <td>0.0</td>\n",
              "      <td>ADDRESS_PREFORM_TYPE $$ CART::MCHT::100_DELIVE...</td>\n",
              "      <td>https://www.ifood.com.br/delivery/brasilia-df/...</td>\n",
              "    </tr>\n",
              "    <tr>\n",
              "      <th>1</th>\n",
              "      <td>False</td>\n",
              "      <td>https://static-images.ifood.com.br/image/uploa...</td>\n",
              "      <td>Açaí</td>\n",
              "      <td>7.99</td>\n",
              "      <td>61</td>\n",
              "      <td>4.96</td>\n",
              "      <td>5300108</td>\n",
              "      <td>10.0</td>\n",
              "      <td>Raruty Açaí Raiz</td>\n",
              "      <td>DNR $$ MPAY $$ MOVPAY_MC $$ MC $$ GPY_ELO $$ E...</td>\n",
              "      <td>CHEAPEST</td>\n",
              "      <td>0.0</td>\n",
              "      <td>ADDRESS_PREFORM_TYPE $$ GUIDED_HELP_TYPE $$ ME...</td>\n",
              "      <td>https://www.ifood.com.br/delivery/brasilia-df/...</td>\n",
              "    </tr>\n",
              "    <tr>\n",
              "      <th>2</th>\n",
              "      <td>False</td>\n",
              "      <td>https://static-images.ifood.com.br/image/uploa...</td>\n",
              "      <td>Bebidas</td>\n",
              "      <td>11.99</td>\n",
              "      <td>70</td>\n",
              "      <td>8.35</td>\n",
              "      <td>5300108</td>\n",
              "      <td>5.0</td>\n",
              "      <td>Toma na Kombi</td>\n",
              "      <td>DNR $$ MPAY $$ MOVPAY_MC $$ MC $$ GPY_ELO $$ R...</td>\n",
              "      <td>MODERATE</td>\n",
              "      <td>0.0</td>\n",
              "      <td>ADDRESS_PREFORM_TYPE $$ CPGN_USER_DISCOUNT_6_L...</td>\n",
              "      <td>https://www.ifood.com.br/delivery/brasilia-df/...</td>\n",
              "    </tr>\n",
              "    <tr>\n",
              "      <th>3</th>\n",
              "      <td>False</td>\n",
              "      <td>https://static-images.ifood.com.br/image/uploa...</td>\n",
              "      <td>Carnes</td>\n",
              "      <td>16.49</td>\n",
              "      <td>63</td>\n",
              "      <td>6.35</td>\n",
              "      <td>5300108</td>\n",
              "      <td>20.0</td>\n",
              "      <td>Churrasquinho do Barriga´s</td>\n",
              "      <td>DNR $$ MPAY $$ MOVPAY_MC $$ MC $$ GPY_ELO $$ E...</td>\n",
              "      <td>CHEAPEST</td>\n",
              "      <td>0.0</td>\n",
              "      <td>ADDRESS_PREFORM_TYPE $$ GUIDED_HELP_TYPE $$ NO...</td>\n",
              "      <td>https://www.ifood.com.br/delivery/brasilia-df/...</td>\n",
              "    </tr>\n",
              "    <tr>\n",
              "      <th>4</th>\n",
              "      <td>False</td>\n",
              "      <td>https://static-images.ifood.com.br/image/uploa...</td>\n",
              "      <td>Brasileira</td>\n",
              "      <td>11.99</td>\n",
              "      <td>58</td>\n",
              "      <td>5.22</td>\n",
              "      <td>5300108</td>\n",
              "      <td>20.0</td>\n",
              "      <td>Prime Restaurante</td>\n",
              "      <td>DNR $$ MPAY $$ MOVPAY_MC $$ MC $$ GPY_ELO $$ E...</td>\n",
              "      <td>CHEAPEST</td>\n",
              "      <td>0.0</td>\n",
              "      <td>ADDRESS_PREFORM_TYPE $$ GUIDED_HELP_TYPE $$ NOVO</td>\n",
              "      <td>https://www.ifood.com.br/delivery/brasilia-df/...</td>\n",
              "    </tr>\n",
              "  </tbody>\n",
              "</table>\n",
              "</div>\n",
              "    <div class=\"colab-df-buttons\">\n",
              "\n",
              "  <div class=\"colab-df-container\">\n",
              "    <button class=\"colab-df-convert\" onclick=\"convertToInteractive('df-132f083c-1f7f-4acf-bad1-4aae209a713f')\"\n",
              "            title=\"Convert this dataframe to an interactive table.\"\n",
              "            style=\"display:none;\">\n",
              "\n",
              "  <svg xmlns=\"http://www.w3.org/2000/svg\" height=\"24px\" viewBox=\"0 -960 960 960\">\n",
              "    <path d=\"M120-120v-720h720v720H120Zm60-500h600v-160H180v160Zm220 220h160v-160H400v160Zm0 220h160v-160H400v160ZM180-400h160v-160H180v160Zm440 0h160v-160H620v160ZM180-180h160v-160H180v160Zm440 0h160v-160H620v160Z\"/>\n",
              "  </svg>\n",
              "    </button>\n",
              "\n",
              "  <style>\n",
              "    .colab-df-container {\n",
              "      display:flex;\n",
              "      gap: 12px;\n",
              "    }\n",
              "\n",
              "    .colab-df-convert {\n",
              "      background-color: #E8F0FE;\n",
              "      border: none;\n",
              "      border-radius: 50%;\n",
              "      cursor: pointer;\n",
              "      display: none;\n",
              "      fill: #1967D2;\n",
              "      height: 32px;\n",
              "      padding: 0 0 0 0;\n",
              "      width: 32px;\n",
              "    }\n",
              "\n",
              "    .colab-df-convert:hover {\n",
              "      background-color: #E2EBFA;\n",
              "      box-shadow: 0px 1px 2px rgba(60, 64, 67, 0.3), 0px 1px 3px 1px rgba(60, 64, 67, 0.15);\n",
              "      fill: #174EA6;\n",
              "    }\n",
              "\n",
              "    .colab-df-buttons div {\n",
              "      margin-bottom: 4px;\n",
              "    }\n",
              "\n",
              "    [theme=dark] .colab-df-convert {\n",
              "      background-color: #3B4455;\n",
              "      fill: #D2E3FC;\n",
              "    }\n",
              "\n",
              "    [theme=dark] .colab-df-convert:hover {\n",
              "      background-color: #434B5C;\n",
              "      box-shadow: 0px 1px 3px 1px rgba(0, 0, 0, 0.15);\n",
              "      filter: drop-shadow(0px 1px 2px rgba(0, 0, 0, 0.3));\n",
              "      fill: #FFFFFF;\n",
              "    }\n",
              "  </style>\n",
              "\n",
              "    <script>\n",
              "      const buttonEl =\n",
              "        document.querySelector('#df-132f083c-1f7f-4acf-bad1-4aae209a713f button.colab-df-convert');\n",
              "      buttonEl.style.display =\n",
              "        google.colab.kernel.accessAllowed ? 'block' : 'none';\n",
              "\n",
              "      async function convertToInteractive(key) {\n",
              "        const element = document.querySelector('#df-132f083c-1f7f-4acf-bad1-4aae209a713f');\n",
              "        const dataTable =\n",
              "          await google.colab.kernel.invokeFunction('convertToInteractive',\n",
              "                                                    [key], {});\n",
              "        if (!dataTable) return;\n",
              "\n",
              "        const docLinkHtml = 'Like what you see? Visit the ' +\n",
              "          '<a target=\"_blank\" href=https://colab.research.google.com/notebooks/data_table.ipynb>data table notebook</a>'\n",
              "          + ' to learn more about interactive tables.';\n",
              "        element.innerHTML = '';\n",
              "        dataTable['output_type'] = 'display_data';\n",
              "        await google.colab.output.renderOutput(dataTable, element);\n",
              "        const docLink = document.createElement('div');\n",
              "        docLink.innerHTML = docLinkHtml;\n",
              "        element.appendChild(docLink);\n",
              "      }\n",
              "    </script>\n",
              "  </div>\n",
              "\n",
              "\n",
              "    <div id=\"df-3b63041f-382c-478b-98a2-fa258ff144cd\">\n",
              "      <button class=\"colab-df-quickchart\" onclick=\"quickchart('df-3b63041f-382c-478b-98a2-fa258ff144cd')\"\n",
              "                title=\"Suggest charts\"\n",
              "                style=\"display:none;\">\n",
              "\n",
              "<svg xmlns=\"http://www.w3.org/2000/svg\" height=\"24px\"viewBox=\"0 0 24 24\"\n",
              "     width=\"24px\">\n",
              "    <g>\n",
              "        <path d=\"M19 3H5c-1.1 0-2 .9-2 2v14c0 1.1.9 2 2 2h14c1.1 0 2-.9 2-2V5c0-1.1-.9-2-2-2zM9 17H7v-7h2v7zm4 0h-2V7h2v10zm4 0h-2v-4h2v4z\"/>\n",
              "    </g>\n",
              "</svg>\n",
              "      </button>\n",
              "\n",
              "<style>\n",
              "  .colab-df-quickchart {\n",
              "      --bg-color: #E8F0FE;\n",
              "      --fill-color: #1967D2;\n",
              "      --hover-bg-color: #E2EBFA;\n",
              "      --hover-fill-color: #174EA6;\n",
              "      --disabled-fill-color: #AAA;\n",
              "      --disabled-bg-color: #DDD;\n",
              "  }\n",
              "\n",
              "  [theme=dark] .colab-df-quickchart {\n",
              "      --bg-color: #3B4455;\n",
              "      --fill-color: #D2E3FC;\n",
              "      --hover-bg-color: #434B5C;\n",
              "      --hover-fill-color: #FFFFFF;\n",
              "      --disabled-bg-color: #3B4455;\n",
              "      --disabled-fill-color: #666;\n",
              "  }\n",
              "\n",
              "  .colab-df-quickchart {\n",
              "    background-color: var(--bg-color);\n",
              "    border: none;\n",
              "    border-radius: 50%;\n",
              "    cursor: pointer;\n",
              "    display: none;\n",
              "    fill: var(--fill-color);\n",
              "    height: 32px;\n",
              "    padding: 0;\n",
              "    width: 32px;\n",
              "  }\n",
              "\n",
              "  .colab-df-quickchart:hover {\n",
              "    background-color: var(--hover-bg-color);\n",
              "    box-shadow: 0 1px 2px rgba(60, 64, 67, 0.3), 0 1px 3px 1px rgba(60, 64, 67, 0.15);\n",
              "    fill: var(--button-hover-fill-color);\n",
              "  }\n",
              "\n",
              "  .colab-df-quickchart-complete:disabled,\n",
              "  .colab-df-quickchart-complete:disabled:hover {\n",
              "    background-color: var(--disabled-bg-color);\n",
              "    fill: var(--disabled-fill-color);\n",
              "    box-shadow: none;\n",
              "  }\n",
              "\n",
              "  .colab-df-spinner {\n",
              "    border: 2px solid var(--fill-color);\n",
              "    border-color: transparent;\n",
              "    border-bottom-color: var(--fill-color);\n",
              "    animation:\n",
              "      spin 1s steps(1) infinite;\n",
              "  }\n",
              "\n",
              "  @keyframes spin {\n",
              "    0% {\n",
              "      border-color: transparent;\n",
              "      border-bottom-color: var(--fill-color);\n",
              "      border-left-color: var(--fill-color);\n",
              "    }\n",
              "    20% {\n",
              "      border-color: transparent;\n",
              "      border-left-color: var(--fill-color);\n",
              "      border-top-color: var(--fill-color);\n",
              "    }\n",
              "    30% {\n",
              "      border-color: transparent;\n",
              "      border-left-color: var(--fill-color);\n",
              "      border-top-color: var(--fill-color);\n",
              "      border-right-color: var(--fill-color);\n",
              "    }\n",
              "    40% {\n",
              "      border-color: transparent;\n",
              "      border-right-color: var(--fill-color);\n",
              "      border-top-color: var(--fill-color);\n",
              "    }\n",
              "    60% {\n",
              "      border-color: transparent;\n",
              "      border-right-color: var(--fill-color);\n",
              "    }\n",
              "    80% {\n",
              "      border-color: transparent;\n",
              "      border-right-color: var(--fill-color);\n",
              "      border-bottom-color: var(--fill-color);\n",
              "    }\n",
              "    90% {\n",
              "      border-color: transparent;\n",
              "      border-bottom-color: var(--fill-color);\n",
              "    }\n",
              "  }\n",
              "</style>\n",
              "\n",
              "      <script>\n",
              "        async function quickchart(key) {\n",
              "          const quickchartButtonEl =\n",
              "            document.querySelector('#' + key + ' button');\n",
              "          quickchartButtonEl.disabled = true;  // To prevent multiple clicks.\n",
              "          quickchartButtonEl.classList.add('colab-df-spinner');\n",
              "          try {\n",
              "            const charts = await google.colab.kernel.invokeFunction(\n",
              "                'suggestCharts', [key], {});\n",
              "          } catch (error) {\n",
              "            console.error('Error during call to suggestCharts:', error);\n",
              "          }\n",
              "          quickchartButtonEl.classList.remove('colab-df-spinner');\n",
              "          quickchartButtonEl.classList.add('colab-df-quickchart-complete');\n",
              "        }\n",
              "        (() => {\n",
              "          let quickchartButtonEl =\n",
              "            document.querySelector('#df-3b63041f-382c-478b-98a2-fa258ff144cd button');\n",
              "          quickchartButtonEl.style.display =\n",
              "            google.colab.kernel.accessAllowed ? 'block' : 'none';\n",
              "        })();\n",
              "      </script>\n",
              "    </div>\n",
              "\n",
              "    </div>\n",
              "  </div>\n"
            ],
            "application/vnd.google.colaboratory.intrinsic+json": {
              "type": "dataframe",
              "variable_name": "df"
            }
          },
          "metadata": {},
          "execution_count": 3
        }
      ],
      "source": [
        "# Pratique seu código aqui!\n",
        "import pandas as pd\n",
        "\n",
        "df = pd.read_csv(\"/content/ifood-restaurants-february-2021.csv\")\n",
        "df.head()"
      ]
    },
    {
      "cell_type": "code",
      "source": [
        "mean_fee = df[\"delivery_fee\"].mean()\n",
        "median_fee = df[\"delivery_fee\"].mean()\n",
        "mode_fee = df[\"delivery_fee\"].mode()[0]"
      ],
      "metadata": {
        "id": "-CI-EhTW-S7H"
      },
      "execution_count": 4,
      "outputs": []
    },
    {
      "cell_type": "code",
      "source": [
        "print(f\"Média: {mean_fee:.2f}, Mediana: {median_fee:.2f}, Moda: {mode_fee:.2f}\")"
      ],
      "metadata": {
        "colab": {
          "base_uri": "https://localhost:8080/"
        },
        "id": "ydVQgNuM-2Zr",
        "outputId": "96d8211f-c337-4a56-aa41-824e7919440d"
      },
      "execution_count": 5,
      "outputs": [
        {
          "output_type": "stream",
          "name": "stdout",
          "text": [
            "Média: 8.18, Mediana: 8.18, Moda: 0.00\n"
          ]
        }
      ]
    },
    {
      "cell_type": "markdown",
      "metadata": {
        "id": "ZJaEjFTf9OrV"
      },
      "source": [
        "* **O que o código faz:**  \n",
        "\n",
        "  **1) Explicação Linha a Linha (Diálogo com o Código):**  \n",
        "  ```python\n",
        "  # “Importe pandas.”  \n",
        "  import pandas as pd  \n",
        "\n",
        "  # “Carregue dados do iFood (fevereiro 2021).”  \n",
        "  df = pd.read_csv('/content/ifood-restaurants-february-2021.csv')  \n",
        "\n",
        "  # “Calcule a soma de delivery_fee e divida pela quantidade.”  \n",
        "  mean_fee = df['delivery_fee'].mean()  \n",
        "\n",
        "  # “Encontre o valor do meio em delivery_fee.”  \n",
        "  median_fee = df['delivery_fee'].median()  \n",
        "\n",
        "  # “Identifique o valor que mais aparece.”  \n",
        "  mode_fee = df['delivery_fee'].mode()[0]  \n",
        "\n",
        "  # “Mostre resultados formatados.”  \n",
        "  print(f\"Média: {mean_fee:.2f}, Mediana: {median_fee:.2f}, Moda: {mode_fee:.2f}\")  \n",
        "  ```\n",
        "\n",
        "  **2) Tabela de Estados Intermediários:**\n",
        "\n",
        "  ```markdown\n",
        "  | Passo | Expressão                       | Saída         | O que faz?                             |\n",
        "  |:-----:|:-------------------------------|:--------------|:---------------------------------------|\n",
        "  | 1     | `df['delivery_fee']`           | Series float  | Seleciona coluna de taxas              |\n",
        "  | 2     | `.mean()`                      | float         | Calcula média                          |\n",
        "  | 3     | `.median()`                    | float         | Calcula mediana                        |\n",
        "  | 4     | `.mode()[0]`                   | float         | Seleciona primeiro valor modal         |\n",
        "  ```\n",
        "\n",
        "  **3) Diagrama Mental (A Analogia Central):**  \n",
        "  É como medir a altura média, achar o ponto do meio e ver qual altura aparece mais vezes numa sala de amigos.\n",
        "\n",
        "* **Cenário de Mercado:**  \n",
        "  - Em **precificação dinâmica**, média indica preço geral, mas outliers (taxas promocionais) podem enganar; mediana mostra valor “típico”.  \n",
        "  - **Por que usar moda?** Para detectar a taxa mais comum praticada.\n",
        "\n",
        "* **Boas Práticas:**  \n",
        "  - **Afirmação:** “Compare média e mediana antes de modelar.”  \n",
        "    - **Porquê:** Diferenças grandes sinalizam outliers ou distribuição enviesada.  \n",
        "    - **Analogia:** É como comparar o preço médio de casas com o preço da casa mediana numa vizinhança.\n"
      ]
    },
    {
      "cell_type": "markdown",
      "metadata": {
        "id": "EBy81sVN9OrV"
      },
      "source": [
        "#### **Nível Intermediário: Efeito de Outliers na Média**\n"
      ]
    },
    {
      "cell_type": "code",
      "execution_count": null,
      "metadata": {
        "id": "5-AITLrE9OrV"
      },
      "outputs": [],
      "source": [
        "import pandas as pd\n",
        "import numpy as np\n",
        "\n",
        "df = pd.read_csv('/content/ifood-restaurants-february-2021.csv')\n",
        "# “Adicione outliers artificiais.”\n",
        "outliers = pd.Series([1000, 1200, 1500])\n",
        "fees = df['delivery_fee'].append(outliers, ignore_index=True)\n",
        "\n",
        "mean_orig = df['delivery_fee'].mean()\n",
        "mean_out = fees.mean()\n",
        "median_out = fees.median()\n",
        "print(f\"Média original: {mean_orig:.2f}, com outliers: {mean_out:.2f}, Mediana com outliers: {median_out:.2f}\")\n"
      ]
    },
    {
      "cell_type": "code",
      "execution_count": 14,
      "metadata": {
        "id": "4HQKO0ud9OrW"
      },
      "outputs": [],
      "source": [
        "# Pratique seu código aqui!\n",
        "\n",
        "import pandas as pd\n",
        "import numpy as np\n",
        "\n",
        "df = pd.read_csv('/content/ifood-restaurants-february-2021.csv')\n",
        "\n",
        "outliers = pd.Series([10000, 12000, 15000])\n",
        "fees = pd.concat([df['delivery_fee'], outliers], ignore_index=True)"
      ]
    },
    {
      "cell_type": "code",
      "source": [
        "fees"
      ],
      "metadata": {
        "colab": {
          "base_uri": "https://localhost:8080/",
          "height": 458
        },
        "id": "WHZ3lLh0Al0w",
        "outputId": "e96b4990-b561-4d2c-f842-3ce9e6d8a2d1"
      },
      "execution_count": 10,
      "outputs": [
        {
          "output_type": "execute_result",
          "data": {
            "text/plain": [
              "0            3.99\n",
              "1            7.99\n",
              "2           11.99\n",
              "3           16.49\n",
              "4           11.99\n",
              "           ...   \n",
              "406397       8.00\n",
              "406398       9.00\n",
              "406399    1000.00\n",
              "406400    1200.00\n",
              "406401    1500.00\n",
              "Length: 406402, dtype: float64"
            ],
            "text/html": [
              "<div>\n",
              "<style scoped>\n",
              "    .dataframe tbody tr th:only-of-type {\n",
              "        vertical-align: middle;\n",
              "    }\n",
              "\n",
              "    .dataframe tbody tr th {\n",
              "        vertical-align: top;\n",
              "    }\n",
              "\n",
              "    .dataframe thead th {\n",
              "        text-align: right;\n",
              "    }\n",
              "</style>\n",
              "<table border=\"1\" class=\"dataframe\">\n",
              "  <thead>\n",
              "    <tr style=\"text-align: right;\">\n",
              "      <th></th>\n",
              "      <th>0</th>\n",
              "    </tr>\n",
              "  </thead>\n",
              "  <tbody>\n",
              "    <tr>\n",
              "      <th>0</th>\n",
              "      <td>3.99</td>\n",
              "    </tr>\n",
              "    <tr>\n",
              "      <th>1</th>\n",
              "      <td>7.99</td>\n",
              "    </tr>\n",
              "    <tr>\n",
              "      <th>2</th>\n",
              "      <td>11.99</td>\n",
              "    </tr>\n",
              "    <tr>\n",
              "      <th>3</th>\n",
              "      <td>16.49</td>\n",
              "    </tr>\n",
              "    <tr>\n",
              "      <th>4</th>\n",
              "      <td>11.99</td>\n",
              "    </tr>\n",
              "    <tr>\n",
              "      <th>...</th>\n",
              "      <td>...</td>\n",
              "    </tr>\n",
              "    <tr>\n",
              "      <th>406397</th>\n",
              "      <td>8.00</td>\n",
              "    </tr>\n",
              "    <tr>\n",
              "      <th>406398</th>\n",
              "      <td>9.00</td>\n",
              "    </tr>\n",
              "    <tr>\n",
              "      <th>406399</th>\n",
              "      <td>1000.00</td>\n",
              "    </tr>\n",
              "    <tr>\n",
              "      <th>406400</th>\n",
              "      <td>1200.00</td>\n",
              "    </tr>\n",
              "    <tr>\n",
              "      <th>406401</th>\n",
              "      <td>1500.00</td>\n",
              "    </tr>\n",
              "  </tbody>\n",
              "</table>\n",
              "<p>406402 rows × 1 columns</p>\n",
              "</div><br><label><b>dtype:</b> float64</label>"
            ]
          },
          "metadata": {},
          "execution_count": 10
        }
      ]
    },
    {
      "cell_type": "code",
      "source": [
        "mean_orig = df['delivery_fee'].mean()\n",
        "mean_out = fees.mean()\n",
        "median_out = fees.median()\n",
        "print(f\"Média original: {mean_orig:.2f}, com outliers: {mean_out:.2f}, Mediana com outliers: {median_out:.2f}\")"
      ],
      "metadata": {
        "colab": {
          "base_uri": "https://localhost:8080/"
        },
        "id": "qL1pI0OTA-Ez",
        "outputId": "494992a2-2c2e-4313-ed41-f5cc5f08f687"
      },
      "execution_count": 15,
      "outputs": [
        {
          "output_type": "stream",
          "name": "stdout",
          "text": [
            "Média original: 6.80, com outliers: 6.90, Mediana com outliers: 6.00\n"
          ]
        }
      ]
    },
    {
      "cell_type": "markdown",
      "metadata": {
        "id": "mJErHdyW9OrW"
      },
      "source": [
        "* **O que o código faz:**  \n",
        "\n",
        "  **1) Explicação Linha a Linha (Diálogo com o Código):**  \n",
        "  ```python\n",
        "  # “Importe pandas e numpy.”  \n",
        "  import pandas as pd  \n",
        "  import numpy as np  \n",
        "\n",
        "  # “Carregue CSV e crie série de taxas.”  \n",
        "  df = pd.read_csv('/content/ifood-restaurants-february-2021.csv')  \n",
        "\n",
        "  # “Anexe três valores muito altos.”  \n",
        "  outliers = pd.Series([10000,12000,15000])  \n",
        "  fees = df['delivery_fee'].append(outliers, ignore_index=True)  \n",
        "\n",
        "  # “Calcule médias antes e depois, e mediana.”  \n",
        "  mean_orig = df['delivery_fee'].mean()  \n",
        "  mean_out = fees.mean()  \n",
        "  median_out = fees.median()  \n",
        "\n",
        "  # “Mostre como a média sobe e mediana resiste.”  \n",
        "  print(f\"Média original: {mean_orig:.2f}, com outliers: {mean_out:.2f}, Mediana com outliers: {median_out:.2f}\")  \n",
        "  ```\n",
        "\n",
        "  **2) Tabela de Estados Intermediários:**\n",
        "\n",
        "  ```markdown\n",
        "  | Passo          | Expressão               | Saída    | O que faz?                              |\n",
        "  |:--------------:|:------------------------|:---------|:----------------------------------------|\n",
        "  | 1              | `mean_orig`             | float    | Média sem outliers                      |\n",
        "  | 2              | `mean_out`              | float    | Média com outliers – aumenta muito       |\n",
        "  | 3              | `median_out`            | float    | Mediana com outliers – pouca alteração   |\n",
        "  ```\n",
        "\n",
        "  **3) Diagrama Mental (A Analogia Central):**  \n",
        "  Pense em calcular salário médio ao incluir bônus extraordinários: a média dispara, mas o valor central (mediana) permanece próximo ao usual.\n",
        "\n",
        "* **Cenário de Mercado:**  \n",
        "  - Em **análise de faturamento**, vendas esporádicas de alto valor distorcem média; mediana reflete receita diária típica.\n",
        "\n",
        "* **Boas Práticas:**  \n",
        "  - **Afirmação:** “Use mediana em distribuições assimétricas.”  \n",
        "    - **Porquê:** Minimiza impacto de extremos.  \n",
        "    - **Analogia:** É como escolher o salário “do meio” para entender custo real de mão de obra.\n"
      ]
    },
    {
      "cell_type": "markdown",
      "metadata": {
        "id": "HdlYdsFa9OrW"
      },
      "source": [
        "#### **Nível Avançado: Trimmed Mean e Winsorized Mean**\n"
      ]
    },
    {
      "cell_type": "code",
      "execution_count": null,
      "metadata": {
        "id": "rlrYWH1W9OrW"
      },
      "outputs": [],
      "source": [
        "import pandas as pd\n",
        "from scipy.stats import trim_mean, mstats\n",
        "\n",
        "df = pd.read_csv('/content/ifood-restaurants-february-2021.csv')\n",
        "fees = df['delivery_fee']\n",
        "\n",
        "# “Trimmed mean removendo 10% das bordas.”\n",
        "tmean = trim_mean(fees, proportiontocut=0.1)\n",
        "\n",
        "# “Winsorize nos 10% extremos.”\n",
        "wmean = mstats.winsorize(fees, limits=0.1).mean()\n",
        "\n",
        "print(f\"Trimmed Mean: {tmean:.2f}, Winsorized Mean: {wmean:.2f}\")\n"
      ]
    },
    {
      "cell_type": "code",
      "execution_count": 16,
      "metadata": {
        "id": "e2SMNKin9OrW"
      },
      "outputs": [],
      "source": [
        "# Pratique seu código aqui!\n",
        "import pandas as pd\n",
        "from scipy.stats import trim_mean, mstats\n",
        "\n",
        "df = pd.read_csv('/content/ifood-restaurants-february-2021.csv')\n",
        "fees = df['delivery_fee']"
      ]
    },
    {
      "cell_type": "code",
      "source": [
        "tmean = trim_mean(fees, proportiontocut=0.1)\n",
        "wmean = mstats.winsorize(fees, limits=0.1).mean()\n",
        "print(f\"Trimmed Mean: {tmean:.2f}, Winsorized Mean: {wmean:.2f}\")"
      ],
      "metadata": {
        "colab": {
          "base_uri": "https://localhost:8080/"
        },
        "id": "h6q2KgBWB640",
        "outputId": "a5c639f5-c140-443d-adb8-db805e3b5fc2"
      },
      "execution_count": 17,
      "outputs": [
        {
          "output_type": "stream",
          "name": "stdout",
          "text": [
            "Trimmed Mean: 6.67, Winsorized Mean: 6.64\n"
          ]
        }
      ]
    },
    {
      "cell_type": "markdown",
      "metadata": {
        "id": "uAcYVzM89OrX"
      },
      "source": [
        "* **O que o código faz:**  \n",
        "\n",
        "  **1) Explicação Linha a Linha (Diálogo com o Código):**  \n",
        "  ```python\n",
        "  # “Importe pandas e funções do scipy.”  \n",
        "  import pandas as pd  \n",
        "  from scipy.stats import trim_mean, mstats  \n",
        "\n",
        "  # “Carregue CSV e selecione taxas.”  \n",
        "  df = pd.read_csv('/content/ifood-restaurants-february-2021.csv')  \n",
        "  fees = df['delivery_fee']  \n",
        "\n",
        "  # “Calcule média cortando 10% menores e 10% maiores.”  \n",
        "  tmean = trim_mean(fees, proportiontocut=0.1)  \n",
        "\n",
        "  # “Substitua 10% extremos por percentis e calcule média.”  \n",
        "  wmean = mstats.winsorize(fees, limits=0.1).mean()  \n",
        "\n",
        "  # “Mostre valores robustos.”  \n",
        "  print(f\"Trimmed Mean: {tmean:.2f}, Winsorized Mean: {wmean:.2f}\")  \n",
        "  ```\n",
        "\n",
        "  **2) Tabela de Estados Intermediários:**\n",
        "\n",
        "  ```markdown\n",
        "  | Passo | Expressão                            | Saída  | O que faz?                                    |\n",
        "  |:-----:|:-------------------------------------|:-------|:----------------------------------------------|\n",
        "  | 1     | `trim_mean(...,0.1)`                | float  | Descarta 10% extremos                         |\n",
        "  | 2     | `winsorize(...,limits=0.1).mean()`  | float  | Substitui extremos e calcula média             |\n",
        "  ```\n",
        "\n",
        "  **3) Diagrama Mental (A Analogia Central):**  \n",
        "  Trim mean é como cortar as pontas de um bolo, winsorized mean é como achatar pontas extremas para a borda antes de fatiar.\n",
        "\n",
        "* **Cenário de Mercado:**  \n",
        "  - Em **finanças**, ao analisar taxas de juros, medidas robustas evitam distorções de valores anômalos.\n",
        "\n",
        "* **Boas Práticas:**  \n",
        "  - **Afirmação:** “Use trimmed/winsorized mean para relatórios robustos.”  \n",
        "    - **Porquê:** Reduz viés de outliers sem ignorar totalmente esses dados.  \n",
        "    - **Analogia:** É como nivelar terreno irregular antes de construir.\n"
      ]
    },
    {
      "cell_type": "markdown",
      "metadata": {
        "id": "ZiVOdFMT9OrX"
      },
      "source": [
        "#### **Nível DEUS (1/3): Bootstrap da Distribuição da Média**\n"
      ]
    },
    {
      "cell_type": "code",
      "execution_count": null,
      "metadata": {
        "id": "oo3IR1379OrX"
      },
      "outputs": [],
      "source": [
        "import pandas as pd\n",
        "import numpy as np\n",
        "\n",
        "df = pd.read_csv('/content/ifood-restaurants-february-2021.csv')\n",
        "fees = df['delivery_fee'].dropna().values\n",
        "\n",
        "# “1000 reamostragens com reposição.”\n",
        "boot_means = [np.mean(np.random.choice(fees, size=len(fees), replace=True))\n",
        "              for _ in range(1000)]\n",
        "ci = np.percentile(boot_means, [2.5, 97.5])\n",
        "\n",
        "print(f\"Bootstrap 95% CI da média: [{ci[0]:.2f}, {ci[1]:.2f}]\")\n"
      ]
    },
    {
      "cell_type": "code",
      "execution_count": 18,
      "metadata": {
        "id": "TTrHFmkH9OrX"
      },
      "outputs": [],
      "source": [
        "# Pratique seu código aqui!\n",
        "import pandas as pd\n",
        "import numpy as np\n",
        "\n",
        "df = pd.read_csv('/content/ifood-restaurants-february-2021.csv')\n",
        "fees = df[\"delivery_fee\"].dropna().values"
      ]
    },
    {
      "cell_type": "code",
      "source": [
        "fees"
      ],
      "metadata": {
        "colab": {
          "base_uri": "https://localhost:8080/"
        },
        "id": "UXrPGgGjKEjb",
        "outputId": "93ed63a4-a542-45e3-d426-2099c43343b3"
      },
      "execution_count": 20,
      "outputs": [
        {
          "output_type": "execute_result",
          "data": {
            "text/plain": [
              "array([ 3.99,  7.99, 11.99, ...,  0.  ,  8.  ,  9.  ])"
            ]
          },
          "metadata": {},
          "execution_count": 20
        }
      ]
    },
    {
      "cell_type": "code",
      "source": [
        "boot_means = [np.mean(np.random.choice(fees, size=len(fees), replace=True))\n",
        "                for _ in range(1000)]\n",
        "ci = np.percentile(boot_means, [2.5, 97.5])"
      ],
      "metadata": {
        "id": "RWGEchT2KLMW"
      },
      "execution_count": 22,
      "outputs": []
    },
    {
      "cell_type": "code",
      "source": [
        "ci"
      ],
      "metadata": {
        "colab": {
          "base_uri": "https://localhost:8080/"
        },
        "id": "VMZGzlwQK4yG",
        "outputId": "7eab818f-6b98-479d-b4c0-bc789714752e"
      },
      "execution_count": 23,
      "outputs": [
        {
          "output_type": "execute_result",
          "data": {
            "text/plain": [
              "array([6.79140078, 6.81757435])"
            ]
          },
          "metadata": {},
          "execution_count": 23
        }
      ]
    },
    {
      "cell_type": "code",
      "source": [
        "print(f\"Bootstrap 95% CI da média: [{ci[0]:.2f}, {ci[1]:.2f}]\")"
      ],
      "metadata": {
        "colab": {
          "base_uri": "https://localhost:8080/"
        },
        "id": "QPGBhG09K-IE",
        "outputId": "15e93731-5394-4ebc-964a-acf551c8ea39"
      },
      "execution_count": 24,
      "outputs": [
        {
          "output_type": "stream",
          "name": "stdout",
          "text": [
            "Bootstrap 95% CI da média: [6.79, 6.82]\n"
          ]
        }
      ]
    },
    {
      "cell_type": "markdown",
      "metadata": {
        "id": "Suxqa1Ab9OrX"
      },
      "source": [
        "* **O que o código faz:**  \n",
        "\n",
        "  **1) Explicação Linha a Linha (Diálogo com o Código):**  \n",
        "  ```python\n",
        "  # “Importe pandas e numpy.”  \n",
        "  import pandas as pd  \n",
        "  import numpy as np  \n",
        "\n",
        "  # “Carregue CSV e extraia taxas sem nulos.”  \n",
        "  df = pd.read_csv('/content/ifood-restaurants-february-2021.csv')  \n",
        "  fees = df['delivery_fee'].dropna().values  \n",
        "\n",
        "  # “Para 1000 resamples, calcule média de cada conjunto.”  \n",
        "  boot_means = [\n",
        "    np.mean(np.random.choice(fees, len(fees), replace=True))\n",
        "    for _ in range(1000)\n",
        "  ]  \n",
        "\n",
        "  # “Calcule percentis 2.5 e 97.5 para intervalo.”  \n",
        "  ci = np.percentile(boot_means, [2.5,97.5])  \n",
        "\n",
        "  # “Mostre CI.”  \n",
        "  print(f\"Bootstrap 95% CI da média: [{ci[0]:.2f}, {ci[1]:.2f}]\")  \n",
        "  ```\n",
        "\n",
        "  **2) Tabela de Estados Intermediários:**\n",
        "\n",
        "  ```markdown\n",
        "  | Passo          | Expressão                 | Saída            | O que faz?                          |\n",
        "  |:--------------:|:--------------------------|:-----------------|:------------------------------------|\n",
        "  | 1              | `boot_means`              | lista de floats  | Distribuição empírica de médias     |\n",
        "  | 2              | `np.percentile(...,[2.5,97.5])` | array floats | CI da média                        |\n",
        "  ```\n",
        "\n",
        "  **3) Diagrama Mental (A Analogia Central):**  \n",
        "  É como repetir a pesquisa mil vezes e ver onde a média fica 95% das vezes.\n",
        "\n",
        "* **Cenário de Mercado:**  \n",
        "  - Em **avaliação de serviço**, estimar variabilidade da taxa média de entrega com confiança estatística.\n",
        "\n",
        "* **Boas Práticas:**  \n",
        "  - **Afirmação:** “Use bootstrap se pressupostos de normalidade não se mantêm.”  \n",
        "    - **Porquê:** Não depende de distribuição paramétrica.  \n",
        "    - **Analogia:** É como simular multiprojetos para avaliar risco.\n"
      ]
    },
    {
      "cell_type": "markdown",
      "metadata": {
        "id": "pRITFVFg9OrX"
      },
      "source": [
        "#### **Nível DEUS (2/3): Escalonamento Robusto com Median e MAD**\n"
      ]
    },
    {
      "cell_type": "code",
      "execution_count": null,
      "metadata": {
        "id": "KWzzpY-x9OrY"
      },
      "outputs": [],
      "source": [
        "import pandas as pd\n",
        "from sklearn.preprocessing import RobustScaler\n",
        "\n",
        "df = pd.read_csv('/content/ifood-restaurants-february-2021.csv')\n",
        "fees = df[['delivery_fee']].fillna(0)\n",
        "\n",
        "# “Aplique RobustScaler (centra na mediana e divide pelo MAD).”\n",
        "scaler = RobustScaler()\n",
        "fees_scaled = scaler.fit_transform(fees)\n",
        "\n",
        "print(\"Antes:\", fees.head().values.flatten()[:5])\n",
        "print(\"Depois:\", fees_scaled.flatten()[:5])\n"
      ]
    },
    {
      "cell_type": "code",
      "execution_count": 25,
      "metadata": {
        "id": "6YttZb4k9OrY"
      },
      "outputs": [],
      "source": [
        "# Pratique seu código aqui!\n",
        "import pandas as pd\n",
        "from sklearn.preprocessing import RobustScaler\n",
        "\n",
        "df = pd.read_csv(\"/content/ifood-restaurants-february-2021.csv\")\n",
        "fees = df[[\"delivery_fee\"]].fillna(0)"
      ]
    },
    {
      "cell_type": "code",
      "source": [
        "scaler = RobustScaler()\n",
        "fees_scaled = scaler.fit_transform(fees)"
      ],
      "metadata": {
        "id": "pksfbXSuLbSD"
      },
      "execution_count": 28,
      "outputs": []
    },
    {
      "cell_type": "code",
      "source": [
        "print(\"Antes:\", fees.head().values.flatten()[:5])\n",
        "print(\"Depois:\", fees_scaled.flatten()[:5])"
      ],
      "metadata": {
        "colab": {
          "base_uri": "https://localhost:8080/"
        },
        "id": "1xYoc4HELqpS",
        "outputId": "0d6e0992-21ca-4e99-b7d2-fecf387dd286"
      },
      "execution_count": 29,
      "outputs": [
        {
          "output_type": "stream",
          "name": "stdout",
          "text": [
            "Antes: [ 3.99  7.99 11.99 16.49 11.99]\n",
            "Depois: [-0.36612022  0.36247723  1.09107468  1.91074681  1.09107468]\n"
          ]
        }
      ]
    },
    {
      "cell_type": "markdown",
      "metadata": {
        "id": "WTXXIujZ9OrY"
      },
      "source": [
        "* **O que o código faz:**  \n",
        "\n",
        "  **1) Explicação Linha a Linha (Diálogo com o Código):**  \n",
        "  ```python\n",
        "  # “Importe pandas e RobustScaler.”  \n",
        "  import pandas as pd  \n",
        "  from sklearn.preprocessing import RobustScaler  \n",
        "\n",
        "  # “Carregue CSV e preencha nulos.”  \n",
        "  df = pd.read_csv('/content/ifood-restaurants-february-2021.csv')  \n",
        "  fees = df[['delivery_fee']].fillna(0)  \n",
        "\n",
        "  # “Escalone centrando na mediana e dividindo pelo MAD.”  \n",
        "  scaler = RobustScaler()  \n",
        "  fees_scaled = scaler.fit_transform(fees)  \n",
        "\n",
        "  # “Mostre primeiros valores antes e depois.”  \n",
        "  print(\"Antes:\", fees.head().values.flatten()[:5])  \n",
        "  print(\"Depois:\", fees_scaled.flatten()[:5])  \n",
        "  ```\n",
        "\n",
        "  **2) Tabela de Estados Intermediários:**\n",
        "\n",
        "  ```markdown\n",
        "  | Passo           | Expressão               | Saída            | O que faz?                          |\n",
        "  |:---------------:|:------------------------|:-----------------|:------------------------------------|\n",
        "  | 1               | `fit_transform()`       | array float      | Escala robusta (mediana/MAD)        |\n",
        "  ```\n",
        "\n",
        "  **3) Diagrama Mental (A Analogia Central):**  \n",
        "  É como normalizar alturas de pessoas subtraindo a altura mediana e dividindo pela diferença típica entre elas.\n",
        "\n",
        "* **Cenário de Mercado:**  \n",
        "  - Em **engenharia de features**, evita que outliers dominem modelos lineares e de árvore.\n",
        "\n",
        "* **Boas Práticas:**  \n",
        "  - **Afirmação:** “Use RobustScaler em vez de StandardScaler com outliers.”  \n",
        "    - **Porquê:** Não é afetado por valores extremos.  \n",
        "    - **Analogia:** É como usar filtro de água para remover sujeira antes de beber.\n"
      ]
    },
    {
      "cell_type": "markdown",
      "metadata": {
        "id": "6mWLpx8F9OrY"
      },
      "source": [
        "#### **Nível DEUS (3/3): Winsorização Programática e Comparação de Médias**\n"
      ]
    },
    {
      "cell_type": "code",
      "execution_count": null,
      "metadata": {
        "id": "X1raN4RN9OrY"
      },
      "outputs": [],
      "source": [
        "import pandas as pd\n",
        "from scipy.stats.mstats import winsorize\n",
        "import numpy as np\n",
        "\n",
        "df = pd.read_csv('/content/ifood-restaurants-february-2021.csv')\n",
        "fees = df['delivery_fee'].dropna().values\n",
        "\n",
        "# “Winsorize nos 5% extremos.”\n",
        "w = winsorize(fees, limits=[0.05,0.05])\n",
        "mean_orig = np.mean(fees)\n",
        "mean_wins = np.mean(w)\n",
        "\n",
        "print(f\"Média original: {mean_orig:.2f}, após winsorize: {mean_wins:.2f}\")\n"
      ]
    },
    {
      "cell_type": "code",
      "execution_count": null,
      "metadata": {
        "id": "Cj_wEdYn9OrY"
      },
      "outputs": [],
      "source": [
        "# Pratique seu código aqui!\n"
      ]
    },
    {
      "cell_type": "markdown",
      "metadata": {
        "id": "rKIoKWxC9OrY"
      },
      "source": [
        "* **O que o código faz:**  \n",
        "\n",
        "  **1) Explicação Linha a Linha (Diálogo com o Código):**  \n",
        "  ```python\n",
        "  # “Importe pandas, winsorize e numpy.”  \n",
        "  import pandas as pd  \n",
        "  from scipy.stats.mstats import winsorize  \n",
        "  import numpy as np  \n",
        "\n",
        "  # “Leia CSV e extraia taxas válidas.”  \n",
        "  df = pd.read_csv('/content/ifood-restaurants-february-2021.csv')  \n",
        "  fees = df['delivery_fee'].dropna().values  \n",
        "\n",
        "  # “Substitua 5% menores e maiores por percentis.”  \n",
        "  w = winsorize(fees, limits=[0.05,0.05])  \n",
        "\n",
        "  # “Compare médias antes e depois.”  \n",
        "  mean_orig = np.mean(fees)  \n",
        "  mean_wins = np.mean(w)  \n",
        "  print(f\"Média original: {mean_orig:.2f}, após winsorize: {mean_wins:.2f}\")  \n",
        "  ```\n",
        "\n",
        "  **2) Tabela de Estados Intermediários:**\n",
        "\n",
        "  ```markdown\n",
        "  | Passo           | Expressão                 | Saída         | O que faz?                              |\n",
        "  |:---------------:|:--------------------------|:--------------|:----------------------------------------|\n",
        "  | 1               | `winsorize(...,limits…)`  | array float   | Aplica winsorização nos extremos        |\n",
        "  | 2               | `np.mean(w)`              | float         | Calcula média pós-winsorização          |\n",
        "  ```\n",
        "\n",
        "  **3) Diagrama Mental (A Analogia Central):**  \n",
        "  É como limitar o tamanho máximo e mínimo de fatias antes de calcular a média de tamanho.\n",
        "\n",
        "* **Cenário de Mercado:**  \n",
        "  - Em **relatórios financeiros**, winsorização suaviza dados de volatilidade extrema sem descartar pontos.\n",
        "\n",
        "* **Boas Práticas:**  \n",
        "  - **Afirmação:** “Winsorize em vez de descartar dados.”  \n",
        "    - **Porquê:** Preserva amostra completa, reduz viés de seleção.  \n",
        "    - **Analogia:** É como aparar galhos secos de uma árvore sem derrubá-la inteira.\n"
      ]
    },
    {
      "cell_type": "markdown",
      "metadata": {
        "id": "qXUlWURd9OrY"
      },
      "source": [
        "### 3. 🕸️ Profundezas e Conexões\n",
        "\n",
        "<br>\n",
        "\n",
        "Tendência central relaciona-se a **boxplot**, **ECDF**, **testes de normalidade** (Shapiro–Wilk) e **pipeline de robustez** em **sklearn** e **scipy**.\n",
        "\n",
        "<br>\n",
        "\n",
        "---\n",
        "<br>\n"
      ]
    },
    {
      "cell_type": "markdown",
      "metadata": {
        "id": "Ti8meC_c9OrZ"
      },
      "source": [
        "### 4. 🚀 Ação e Verificação\n",
        "\n",
        "<br>\n",
        "\n",
        "#### **🤔 Desafio Prático**\n",
        "1. Calcule média, mediana e moda de `delivery_fee`.  \n",
        "2. Adicione outliers e compare efeitos em média e mediana.  \n",
        "3. Aplique trimmed mean (10%) e winsorize (10%) e compare.  \n",
        "4. Execute bootstrap para CI da média.  \n",
        "5. Escalone taxas com `RobustScaler` e compare antes/depois.\n",
        "\n",
        "<br>\n",
        "\n",
        "#### **❓ Pergunta de Verificação**\n",
        "Por que a mediana é preferida à média em distribuições muito assimétricas?\n",
        "\n",
        "<br>\n",
        "\n",
        "---\n",
        "<br>\n"
      ]
    }
  ]
}