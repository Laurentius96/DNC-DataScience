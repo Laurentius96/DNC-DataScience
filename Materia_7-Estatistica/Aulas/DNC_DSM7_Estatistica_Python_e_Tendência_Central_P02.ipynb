{
  "nbformat": 4,
  "nbformat_minor": 0,
  "metadata": {
    "colab": {
      "toc_visible": true,
      "provenance": []
    },
    "kernelspec": {
      "name": "python3",
      "display_name": "Python 3"
    }
  },
  "cells": [
    {
      "cell_type": "markdown",
      "metadata": {
        "id": "Vp9X-Uhg80cv"
      },
      "source": [
        "## 🎓 **Aula sobre: Python e Tendência Central — Variância, Desvio Padrão, Quartis, Boxplot e Retirada de Outliers**\n",
        "\n",
        "<br>\n",
        "\n",
        "### 🧭 Sumário da Aula\n",
        "\n",
        "| # | Sub-tópico                         | Tempo Estimado | Complexidade |\n",
        "|---|------------------------------------|----------------|--------------|\n",
        "| 1 | 🧠 Ficha de Revisão Rápida         | ~1 min         | ⭐           |\n",
        "| 2 | 🔬 Mergulho Profundo               | ~15 min        | ⭐⭐⭐⭐       |\n",
        "| 3 | 💻 Exemplos de Mercado             | ~10 min        | ⭐⭐⭐        |\n",
        "| 4 | 🕸️ Profundezas e Conexões          | ~3 min         | ⭐⭐         |\n",
        "| 5 | 🚀 Ação e Verificação               | ~5 min         | ⭐⭐         |\n",
        "| 6 | 🌊 Mergulhos Adicionais Opcionais   | Opcional       | ⭐⭐⭐⭐      |\n",
        "\n",
        "<br>\n",
        "\n",
        "---\n",
        "<br>\n"
      ]
    },
    {
      "cell_type": "markdown",
      "metadata": {
        "id": "8EwUF-ze80c1"
      },
      "source": [
        "### 1. 🧠 Ficha de Revisão Rápida | (O Essencial)\n",
        "\n",
        "<br>\n",
        "\n",
        "> - **Variância (`var`)**: média dos quadrados das distâncias ao *mean*.  \n",
        "> - **Desvio Padrão (`std`)**: raiz quadrada da variância, em mesmas unidades dos dados.  \n",
        "> - **Quartis (`quantile`)**: valores que dividem os dados em quatro partes iguais.  \n",
        "> - **IQR (Intervalo Interquartílico)**: `Q3 − Q1`, base para detecção de outliers.  \n",
        "> - **Boxplot**: gráfico que mostra `Q1`, `Q2` (mediana), `Q3`, e “bigodes” até 1.5×IQR.\n",
        "\n",
        "<br>\n"
      ]
    },
    {
      "cell_type": "markdown",
      "metadata": {
        "id": "LgmNw8rx80c1"
      },
      "source": [
        "### 2. 🔬 Mergulho Profundo | (Os Detalhes)\n",
        "\n",
        "<br>\n",
        "\n",
        "#### **🎯 O Conceito Central**  \n",
        "- **Variância** mede dispersão ao quadrado, valorizando desvios grandes.  \n",
        "- **Desvio Padrão** retorna à escala original para interpretar dispersão.  \n",
        "- **Quartis**:  \n",
        "  - **Q1** = 25º percentil (25% dos dados ≤ Q1)  \n",
        "  - **Q2** = mediana (50º percentil)  \n",
        "  - **Q3** = 75º percentil  \n",
        "- **Outliers** são pontos abaixo de `Q1 − 1.5×IQR` ou acima de `Q3 + 1.5×IQR`.  \n",
        "- **Boxplot** sintetiza esses conceitos num único gráfico: caixa de quartis e “bigodes” de detecção.\n",
        "\n",
        "<br>\n",
        "\n",
        "#### **🔗 Analogia de Data Science**  \n",
        "É como medir a regularidade de alturas num grupo: a média dá o “tamanho médio”, o desvio mostra a variação típica, os quartis dividem o grupo em quatro níveis, e o boxplot mostra quem está muito acima ou abaixo do padrão.\n",
        "\n",
        "<br>\n"
      ]
    },
    {
      "cell_type": "markdown",
      "metadata": {
        "id": "_SXF8P3Q80c1"
      },
      "source": [
        "### **💻 Exemplos de Mercado (Abrangentes)**\n"
      ]
    },
    {
      "cell_type": "markdown",
      "metadata": {
        "id": "szq3qwl880c2"
      },
      "source": [
        "#### **Nível Simples: Calculando Variância e Desvio Padrão**\n"
      ]
    },
    {
      "cell_type": "code",
      "execution_count": null,
      "metadata": {
        "id": "hNSz-_p080c2"
      },
      "outputs": [],
      "source": [
        "import pandas as pd\n",
        "\n",
        "# “Leia CSV de fevereiro 2021.”\n",
        "df = pd.read_csv('/content/ifood-restaurants-february-2021.csv')\n",
        "\n",
        "# “Selecione a coluna delivery_fee.”\n",
        "fees = df['delivery_fee']\n",
        "\n",
        "# “Calcule variância e desvio padrão.”\n",
        "var_fee = fees.var()\n",
        "std_fee = fees.std()\n",
        "\n",
        "print(f\"Variância: {var_fee:.2f}, Desvio Padrão: {std_fee:.2f}\")\n"
      ]
    },
    {
      "cell_type": "code",
      "execution_count": 2,
      "metadata": {
        "id": "_d8G0Ejw80c3"
      },
      "outputs": [],
      "source": [
        "# Pratique seu código aqui!\n",
        "import pandas as pd\n",
        "\n",
        "df = pd.read_csv('/content/ifood-restaurants-february-2021.csv')\n",
        "fees = df['delivery_fee']"
      ]
    },
    {
      "cell_type": "code",
      "source": [
        "fees.head()"
      ],
      "metadata": {
        "colab": {
          "base_uri": "https://localhost:8080/",
          "height": 241
        },
        "id": "1Nm6rF8MI8he",
        "outputId": "8c95544e-2ef5-4cec-abc5-33b4e7211a83"
      },
      "execution_count": 4,
      "outputs": [
        {
          "output_type": "execute_result",
          "data": {
            "text/plain": [
              "0     3.99\n",
              "1     7.99\n",
              "2    11.99\n",
              "3    16.49\n",
              "4    11.99\n",
              "Name: delivery_fee, dtype: float64"
            ],
            "text/html": [
              "<div>\n",
              "<style scoped>\n",
              "    .dataframe tbody tr th:only-of-type {\n",
              "        vertical-align: middle;\n",
              "    }\n",
              "\n",
              "    .dataframe tbody tr th {\n",
              "        vertical-align: top;\n",
              "    }\n",
              "\n",
              "    .dataframe thead th {\n",
              "        text-align: right;\n",
              "    }\n",
              "</style>\n",
              "<table border=\"1\" class=\"dataframe\">\n",
              "  <thead>\n",
              "    <tr style=\"text-align: right;\">\n",
              "      <th></th>\n",
              "      <th>delivery_fee</th>\n",
              "    </tr>\n",
              "  </thead>\n",
              "  <tbody>\n",
              "    <tr>\n",
              "      <th>0</th>\n",
              "      <td>3.99</td>\n",
              "    </tr>\n",
              "    <tr>\n",
              "      <th>1</th>\n",
              "      <td>7.99</td>\n",
              "    </tr>\n",
              "    <tr>\n",
              "      <th>2</th>\n",
              "      <td>11.99</td>\n",
              "    </tr>\n",
              "    <tr>\n",
              "      <th>3</th>\n",
              "      <td>16.49</td>\n",
              "    </tr>\n",
              "    <tr>\n",
              "      <th>4</th>\n",
              "      <td>11.99</td>\n",
              "    </tr>\n",
              "  </tbody>\n",
              "</table>\n",
              "</div><br><label><b>dtype:</b> float64</label>"
            ]
          },
          "metadata": {},
          "execution_count": 4
        }
      ]
    },
    {
      "cell_type": "code",
      "source": [
        "var_fee = fees.var()\n",
        "std_fee = fees.std()\n",
        "print(f\"Variância: {var_fee:.2f}, Desvio Padrão: {std_fee:.2f}\")"
      ],
      "metadata": {
        "colab": {
          "base_uri": "https://localhost:8080/"
        },
        "id": "0uaPdHRpJIJ-",
        "outputId": "6e0a97ac-87a0-471f-d3bb-3a08a0e5d346"
      },
      "execution_count": 7,
      "outputs": [
        {
          "output_type": "stream",
          "name": "stdout",
          "text": [
            "Variância: 18.63, Desvio Padrão: 4.32\n"
          ]
        }
      ]
    },
    {
      "cell_type": "markdown",
      "metadata": {
        "id": "7o2JZuMG80c3"
      },
      "source": [
        "* **O que o código faz:**  \n",
        "\n",
        "  **1) Explicação Linha a Linha (Diálogo com o Código):**  \n",
        "  ```python\n",
        "  # “Importe pandas para manipular tabelas.”  \n",
        "  import pandas as pd  \n",
        "\n",
        "  # “Carregue o arquivo de dados.”  \n",
        "  df = pd.read_csv('/content/ifood-restaurants-february-2021.csv')  \n",
        "\n",
        "  # “Extraia a série de taxas de entrega.”  \n",
        "  fees = df['delivery_fee']  \n",
        "\n",
        "  # “Calcule a variância (dispersion ao quadrado).”  \n",
        "  var_fee = fees.var()  \n",
        "\n",
        "  # “Calcule o desvio padrão (escala original).”  \n",
        "  std_fee = fees.std()  \n",
        "\n",
        "  # “Imprima resultados com duas casas decimais.”  \n",
        "  print(f\"Variância: {var_fee:.2f}, Desvio Padrão: {std_fee:.2f}\")  \n",
        "  ```\n",
        "\n",
        "  **2) Tabela de Estados Intermediários:**\n",
        "\n",
        "  ```markdown\n",
        "  | Passo | Expressão            | Saída    | O que faz?                          |\n",
        "  |:-----:|:---------------------|:---------|:------------------------------------|\n",
        "  | 1     | `fees.var()`         | float    | Retorna variância da série          |\n",
        "  | 2     | `fees.std()`         | float    | Retorna desvio padrão da série      |\n",
        "  ```\n",
        "\n",
        "  **3) Diagrama Mental (A Analogia Central):**  \n",
        "  Imagine medir o quanto cada fatia de pizza (delivery_fee) se afasta do tamanho médio (mean), elevando ao quadrado pra penalizar diferenças grandes, e depois tirar raiz pra voltar ao tamanho original.\n",
        "\n",
        "* **Cenário de Mercado:**  \n",
        "  - Em **finanças de delivery**, entender dispersão de taxas ajuda definir políticas de frete dinâmico: alta variabilidade sugere promoções para suavizar picos.\n",
        "\n",
        "* **Boas Práticas:**  \n",
        "  - **Afirmação:** “Compare `std` com média para avaliar coeficiente de variação.”  \n",
        "    - **Porquê:** `std/mean` indica dispersão relativa, útil para comparar variáveis com escalas diferentes.  \n",
        "    - **Analogia:** É como comparar variabilidade de alturas de adultos e crianças ajustando pela média de cada grupo.\n"
      ]
    },
    {
      "cell_type": "markdown",
      "metadata": {
        "id": "midAFZkq80c4"
      },
      "source": [
        "#### **Nível Intermediário: Quartis, IQR e Detecção de Outliers**\n"
      ]
    },
    {
      "cell_type": "code",
      "execution_count": null,
      "metadata": {
        "id": "aw2_AsAK80c5"
      },
      "outputs": [],
      "source": [
        "import pandas as pd\n",
        "\n",
        "# “Leia dados.”\n",
        "df = pd.read_csv('/content/ifood-restaurants-february-2021.csv')\n",
        "fees = df['delivery_fee']\n",
        "\n",
        "# “Calcule Q1, Q2 (mediana) e Q3.”\n",
        "Q1 = fees.quantile(0.25)\n",
        "Q2 = fees.quantile(0.50)\n",
        "Q3 = fees.quantile(0.75)\n",
        "IQR = Q3 - Q1\n",
        "\n",
        "# “Máscara de outliers.”\n",
        "mask_out = (fees < (Q1 - 1.5 * IQR)) | (fees > (Q3 + 1.5 * IQR))\n",
        "outliers = fees[mask_out]\n",
        "\n",
        "print(f\"Q1: {Q1}, Mediana: {Q2}, Q3: {Q3}, IQR: {IQR}\")\n",
        "print(f\"Outliers encontrados: {len(outliers)}\")\n"
      ]
    },
    {
      "cell_type": "code",
      "execution_count": 10,
      "metadata": {
        "id": "vubkMxXb80c5"
      },
      "outputs": [],
      "source": [
        "# Pratique seu código aqui!\n",
        "import pandas as pd\n",
        "\n",
        "df = pd.read_csv('/content/ifood-restaurants-february-2021.csv')\n",
        "fees = df['delivery_fee']"
      ]
    },
    {
      "cell_type": "code",
      "source": [
        "Q1 = fees.quantile(0.25)\n",
        "Q2 = fees.quantile(0.50)\n",
        "Q3 = fees.quantile(0.75)\n",
        "\n",
        "IQR = Q3 - Q1"
      ],
      "metadata": {
        "id": "LbNdoqSeKGY6"
      },
      "execution_count": 11,
      "outputs": []
    },
    {
      "cell_type": "code",
      "source": [
        "mask_out = (fees < (Q1 - 1.5 * IQR)) | (fees > (Q3 + 1.5 * IQR))\n",
        "mask_out"
      ],
      "metadata": {
        "colab": {
          "base_uri": "https://localhost:8080/",
          "height": 458
        },
        "id": "s1MSBsMfKI0y",
        "outputId": "97451ebf-be9d-45b9-9d3a-7143bf403f8d"
      },
      "execution_count": 12,
      "outputs": [
        {
          "output_type": "execute_result",
          "data": {
            "text/plain": [
              "0         False\n",
              "1         False\n",
              "2         False\n",
              "3         False\n",
              "4         False\n",
              "          ...  \n",
              "406394    False\n",
              "406395    False\n",
              "406396    False\n",
              "406397    False\n",
              "406398    False\n",
              "Name: delivery_fee, Length: 406399, dtype: bool"
            ],
            "text/html": [
              "<div>\n",
              "<style scoped>\n",
              "    .dataframe tbody tr th:only-of-type {\n",
              "        vertical-align: middle;\n",
              "    }\n",
              "\n",
              "    .dataframe tbody tr th {\n",
              "        vertical-align: top;\n",
              "    }\n",
              "\n",
              "    .dataframe thead th {\n",
              "        text-align: right;\n",
              "    }\n",
              "</style>\n",
              "<table border=\"1\" class=\"dataframe\">\n",
              "  <thead>\n",
              "    <tr style=\"text-align: right;\">\n",
              "      <th></th>\n",
              "      <th>delivery_fee</th>\n",
              "    </tr>\n",
              "  </thead>\n",
              "  <tbody>\n",
              "    <tr>\n",
              "      <th>0</th>\n",
              "      <td>False</td>\n",
              "    </tr>\n",
              "    <tr>\n",
              "      <th>1</th>\n",
              "      <td>False</td>\n",
              "    </tr>\n",
              "    <tr>\n",
              "      <th>2</th>\n",
              "      <td>False</td>\n",
              "    </tr>\n",
              "    <tr>\n",
              "      <th>3</th>\n",
              "      <td>False</td>\n",
              "    </tr>\n",
              "    <tr>\n",
              "      <th>4</th>\n",
              "      <td>False</td>\n",
              "    </tr>\n",
              "    <tr>\n",
              "      <th>...</th>\n",
              "      <td>...</td>\n",
              "    </tr>\n",
              "    <tr>\n",
              "      <th>406394</th>\n",
              "      <td>False</td>\n",
              "    </tr>\n",
              "    <tr>\n",
              "      <th>406395</th>\n",
              "      <td>False</td>\n",
              "    </tr>\n",
              "    <tr>\n",
              "      <th>406396</th>\n",
              "      <td>False</td>\n",
              "    </tr>\n",
              "    <tr>\n",
              "      <th>406397</th>\n",
              "      <td>False</td>\n",
              "    </tr>\n",
              "    <tr>\n",
              "      <th>406398</th>\n",
              "      <td>False</td>\n",
              "    </tr>\n",
              "  </tbody>\n",
              "</table>\n",
              "<p>406399 rows × 1 columns</p>\n",
              "</div><br><label><b>dtype:</b> bool</label>"
            ]
          },
          "metadata": {},
          "execution_count": 12
        }
      ]
    },
    {
      "cell_type": "code",
      "source": [
        "outliers = fees[mask_out]\n",
        "outliers"
      ],
      "metadata": {
        "colab": {
          "base_uri": "https://localhost:8080/",
          "height": 458
        },
        "id": "f4GyTT3aKa4J",
        "outputId": "f195bd36-080d-4fa6-f710-3d2676d5866b"
      },
      "execution_count": 14,
      "outputs": [
        {
          "output_type": "execute_result",
          "data": {
            "text/plain": [
              "100       20.00\n",
              "133       20.00\n",
              "669       18.00\n",
              "854       20.00\n",
              "929       17.99\n",
              "          ...  \n",
              "404956    21.99\n",
              "405005    20.00\n",
              "405854    18.00\n",
              "406050    18.00\n",
              "406197    18.00\n",
              "Name: delivery_fee, Length: 2023, dtype: float64"
            ],
            "text/html": [
              "<div>\n",
              "<style scoped>\n",
              "    .dataframe tbody tr th:only-of-type {\n",
              "        vertical-align: middle;\n",
              "    }\n",
              "\n",
              "    .dataframe tbody tr th {\n",
              "        vertical-align: top;\n",
              "    }\n",
              "\n",
              "    .dataframe thead th {\n",
              "        text-align: right;\n",
              "    }\n",
              "</style>\n",
              "<table border=\"1\" class=\"dataframe\">\n",
              "  <thead>\n",
              "    <tr style=\"text-align: right;\">\n",
              "      <th></th>\n",
              "      <th>delivery_fee</th>\n",
              "    </tr>\n",
              "  </thead>\n",
              "  <tbody>\n",
              "    <tr>\n",
              "      <th>100</th>\n",
              "      <td>20.00</td>\n",
              "    </tr>\n",
              "    <tr>\n",
              "      <th>133</th>\n",
              "      <td>20.00</td>\n",
              "    </tr>\n",
              "    <tr>\n",
              "      <th>669</th>\n",
              "      <td>18.00</td>\n",
              "    </tr>\n",
              "    <tr>\n",
              "      <th>854</th>\n",
              "      <td>20.00</td>\n",
              "    </tr>\n",
              "    <tr>\n",
              "      <th>929</th>\n",
              "      <td>17.99</td>\n",
              "    </tr>\n",
              "    <tr>\n",
              "      <th>...</th>\n",
              "      <td>...</td>\n",
              "    </tr>\n",
              "    <tr>\n",
              "      <th>404956</th>\n",
              "      <td>21.99</td>\n",
              "    </tr>\n",
              "    <tr>\n",
              "      <th>405005</th>\n",
              "      <td>20.00</td>\n",
              "    </tr>\n",
              "    <tr>\n",
              "      <th>405854</th>\n",
              "      <td>18.00</td>\n",
              "    </tr>\n",
              "    <tr>\n",
              "      <th>406050</th>\n",
              "      <td>18.00</td>\n",
              "    </tr>\n",
              "    <tr>\n",
              "      <th>406197</th>\n",
              "      <td>18.00</td>\n",
              "    </tr>\n",
              "  </tbody>\n",
              "</table>\n",
              "<p>2023 rows × 1 columns</p>\n",
              "</div><br><label><b>dtype:</b> float64</label>"
            ]
          },
          "metadata": {},
          "execution_count": 14
        }
      ]
    },
    {
      "cell_type": "code",
      "source": [
        "print(f\"Q1: {Q1}, Mediana: {Q2}, Q3: {Q3}, IQR: {IQR}\")\n",
        "print(f\"Outliers encontrados: {len(outliers)}\")"
      ],
      "metadata": {
        "colab": {
          "base_uri": "https://localhost:8080/"
        },
        "id": "7HF1zlH9LnbB",
        "outputId": "86ac71e1-6cf9-47d0-8550-bb40b710419f"
      },
      "execution_count": 15,
      "outputs": [
        {
          "output_type": "stream",
          "name": "stdout",
          "text": [
            "Q1: 4.0, Mediana: 6.0, Q3: 9.49, IQR: 5.49\n",
            "Outliers encontrados: 2023\n"
          ]
        }
      ]
    },
    {
      "cell_type": "markdown",
      "metadata": {
        "id": "8Ap9vXYi80c5"
      },
      "source": [
        "* **O que o código faz:**  \n",
        "\n",
        "  **1) Explicação Linha a Linha (Diálogo com o Código):**  \n",
        "  ```python\n",
        "  # “Importe pandas.”  \n",
        "  import pandas as pd  \n",
        "\n",
        "  # “Carregue a coluna de fees.”  \n",
        "  df = pd.read_csv('/content/ifood-restaurants-february-2021.csv')\n",
        "  fees = df['delivery_fee']\n",
        "\n",
        "  # “Calcule primeiro, segundo e terceiro quartis.”  \n",
        "  Q1 = fees.quantile(0.25)\n",
        "  Q2 = fees.quantile(0.50)\n",
        "  Q3 = fees.quantile(0.75)\n",
        "\n",
        "  # “Compute IQR como diferença Q3-Q1.”  \n",
        "  IQR = Q3 - Q1\n",
        "\n",
        "  # “Crie máscara para valores fora de 1.5×IQR.”  \n",
        "  mask_out = (fees < (Q1 - 1.5 * IQR)) | (fees > (Q3 + 1.5 * IQR))\n",
        "  outliers = fees[mask_out]\n",
        "\n",
        "  # “Mostre quartis, IQR e quantidade de outliers.”  \n",
        "  print(f\"Q1: {Q1}, Mediana: {Q2}, Q3: {Q3}, IQR: {IQR}\")\n",
        "  print(f\"Outliers encontrados: {len(outliers)}\")\n",
        "  ```  \n",
        "\n",
        "  **2) Tabela de Estados Intermediários:**\n",
        "\n",
        "  ```markdown\n",
        "  | Passo  | Expressão                | Saída     | O que faz?                              |\n",
        "  |:------:|:-------------------------|:----------|:----------------------------------------|\n",
        "  | 1      | `fees.quantile(…)`       | float     | Calcula quartis                        |\n",
        "  | 2      | `IQR = Q3 - Q1`          | float     | Intervalo interquartílico               |\n",
        "  | 3      | `mask_out`               | Series booleana | Marca outliers                       |\n",
        "  | 4      | `outliers`               | Series    | Lista de valores atípicos               |\n",
        "  ```\n",
        "\n",
        "  **3) Diagrama Mental (A Analogia Central):**  \n",
        "  Pense em um campo de futebol dividido em quatro faixas de largura iguais; as bolinhas (fees) que caem muito para fora das faixas intermediárias são sinalizadas como “fora do jogo” (outliers).\n",
        "\n",
        "* **Cenário de Mercado:**  \n",
        "  - Em **engenharia de dados**, detectar outliers de taxa de entrega evita métricas enviesadas que poderiam levar a decisões incorretas de preço dinâmico.\n",
        "\n",
        "* **Boas Práticas:**  \n",
        "  - **Afirmação:** “Sempre visualize quartis antes de remover outliers.”  \n",
        "    - **Porquê:** Garante entender distribuição e não descartar dados válidos.  \n",
        "    - **Analogia:** É como inspecionar uma amostra de frutas antes de retirar as estragadas.\n"
      ]
    },
    {
      "cell_type": "markdown",
      "metadata": {
        "id": "roDw_42480c6"
      },
      "source": [
        "#### **Nível Avançado: Boxplot e Remoção de Outliers**\n"
      ]
    },
    {
      "cell_type": "code",
      "execution_count": null,
      "metadata": {
        "id": "4dXnxikx80c6"
      },
      "outputs": [],
      "source": [
        "import pandas as pd\n",
        "import matplotlib.pyplot as plt\n",
        "\n",
        "# “Leia dados.”\n",
        "df = pd.read_csv('/content/ifood-restaurants-february-2021.csv')\n",
        "fees = df['delivery_fee']\n",
        "\n",
        "# “Desenhe boxplot.”\n",
        "plt.figure(figsize=(6,4))\n",
        "plt.boxplot(fees.dropna(), vert=False, patch_artist=True)\n",
        "plt.title('Boxplot de delivery_fee')\n",
        "plt.xlabel('delivery_fee')\n",
        "plt.show()\n",
        "\n",
        "# “Remova outliers via IQR.”\n",
        "Q1, Q3 = fees.quantile([0.25,0.75])\n",
        "IQR = Q3 - Q1\n",
        "filtered = fees[~((fees < Q1 - 1.5*IQR) | (fees > Q3 + 1.5*IQR))]\n",
        "\n",
        "print(f\"Registros antes: {len(fees)}, após remoção: {len(filtered)}\")\n"
      ]
    },
    {
      "cell_type": "code",
      "execution_count": 17,
      "metadata": {
        "colab": {
          "base_uri": "https://localhost:8080/",
          "height": 241
        },
        "id": "Ji-6rbJk80c6",
        "outputId": "c71f1d32-8295-4692-8549-1a22c2fd3ca1"
      },
      "outputs": [
        {
          "output_type": "execute_result",
          "data": {
            "text/plain": [
              "0     3.99\n",
              "1     7.99\n",
              "2    11.99\n",
              "3    16.49\n",
              "4    11.99\n",
              "Name: delivery_fee, dtype: float64"
            ],
            "text/html": [
              "<div>\n",
              "<style scoped>\n",
              "    .dataframe tbody tr th:only-of-type {\n",
              "        vertical-align: middle;\n",
              "    }\n",
              "\n",
              "    .dataframe tbody tr th {\n",
              "        vertical-align: top;\n",
              "    }\n",
              "\n",
              "    .dataframe thead th {\n",
              "        text-align: right;\n",
              "    }\n",
              "</style>\n",
              "<table border=\"1\" class=\"dataframe\">\n",
              "  <thead>\n",
              "    <tr style=\"text-align: right;\">\n",
              "      <th></th>\n",
              "      <th>delivery_fee</th>\n",
              "    </tr>\n",
              "  </thead>\n",
              "  <tbody>\n",
              "    <tr>\n",
              "      <th>0</th>\n",
              "      <td>3.99</td>\n",
              "    </tr>\n",
              "    <tr>\n",
              "      <th>1</th>\n",
              "      <td>7.99</td>\n",
              "    </tr>\n",
              "    <tr>\n",
              "      <th>2</th>\n",
              "      <td>11.99</td>\n",
              "    </tr>\n",
              "    <tr>\n",
              "      <th>3</th>\n",
              "      <td>16.49</td>\n",
              "    </tr>\n",
              "    <tr>\n",
              "      <th>4</th>\n",
              "      <td>11.99</td>\n",
              "    </tr>\n",
              "  </tbody>\n",
              "</table>\n",
              "</div><br><label><b>dtype:</b> float64</label>"
            ]
          },
          "metadata": {},
          "execution_count": 17
        }
      ],
      "source": [
        "# Pratique seu código aqui!\n",
        "import pandas as pd\n",
        "import matplotlib.pyplot as plt\n",
        "\n",
        "df = pd.read_csv('/content/ifood-restaurants-february-2021.csv')\n",
        "fees = df['delivery_fee']\n",
        "fees.head()\n"
      ]
    },
    {
      "cell_type": "code",
      "source": [
        "plt.figure(figsize=(6,4))\n",
        "plt.boxplot(fees.dropna(), vert=True, patch_artist=True)\n",
        "plt.title(\"Boxplot de delivery_fee\")\n",
        "plt.xlabel(\"Delivery_fee\")\n",
        "plt.show()"
      ],
      "metadata": {
        "colab": {
          "base_uri": "https://localhost:8080/",
          "height": 410
        },
        "id": "b8EmwzBeM_lW",
        "outputId": "6d0ba324-5170-4e63-fe33-e3b52b3aa4a6"
      },
      "execution_count": 19,
      "outputs": [
        {
          "output_type": "display_data",
          "data": {
            "text/plain": [
              "<Figure size 600x400 with 1 Axes>"
            ],
            "image/png": "[encoded data removed]"
          },
          "metadata": {}
        }
      ]
    },
    {
      "cell_type": "code",
      "source": [
        "Q1, Q3 = fees.quantile([0.25,0.75])\n",
        "IQR = Q3 - Q1\n",
        "filtered = fees[~((fees < Q1 - 1.5*IQR) | (fees > Q3 + 1.5*IQR))]\n",
        "\n",
        "print(f\"Registros antes: {len(fees)}, após remoção: {len(filtered)}\")"
      ],
      "metadata": {
        "colab": {
          "base_uri": "https://localhost:8080/"
        },
        "id": "cLEpQXSoNCBW",
        "outputId": "95064357-cd31-4cf9-c1b6-345e746ea948"
      },
      "execution_count": 20,
      "outputs": [
        {
          "output_type": "stream",
          "name": "stdout",
          "text": [
            "Registros antes: 406399, após remoção: 404376\n"
          ]
        }
      ]
    },
    {
      "cell_type": "code",
      "source": [
        "filtered.head()"
      ],
      "metadata": {
        "colab": {
          "base_uri": "https://localhost:8080/",
          "height": 241
        },
        "id": "DnbRx2wtQg4i",
        "outputId": "93e462eb-a94f-4aa5-b913-914ef0b89aca"
      },
      "execution_count": 22,
      "outputs": [
        {
          "output_type": "execute_result",
          "data": {
            "text/plain": [
              "0     3.99\n",
              "1     7.99\n",
              "2    11.99\n",
              "3    16.49\n",
              "4    11.99\n",
              "Name: delivery_fee, dtype: float64"
            ],
            "text/html": [
              "<div>\n",
              "<style scoped>\n",
              "    .dataframe tbody tr th:only-of-type {\n",
              "        vertical-align: middle;\n",
              "    }\n",
              "\n",
              "    .dataframe tbody tr th {\n",
              "        vertical-align: top;\n",
              "    }\n",
              "\n",
              "    .dataframe thead th {\n",
              "        text-align: right;\n",
              "    }\n",
              "</style>\n",
              "<table border=\"1\" class=\"dataframe\">\n",
              "  <thead>\n",
              "    <tr style=\"text-align: right;\">\n",
              "      <th></th>\n",
              "      <th>delivery_fee</th>\n",
              "    </tr>\n",
              "  </thead>\n",
              "  <tbody>\n",
              "    <tr>\n",
              "      <th>0</th>\n",
              "      <td>3.99</td>\n",
              "    </tr>\n",
              "    <tr>\n",
              "      <th>1</th>\n",
              "      <td>7.99</td>\n",
              "    </tr>\n",
              "    <tr>\n",
              "      <th>2</th>\n",
              "      <td>11.99</td>\n",
              "    </tr>\n",
              "    <tr>\n",
              "      <th>3</th>\n",
              "      <td>16.49</td>\n",
              "    </tr>\n",
              "    <tr>\n",
              "      <th>4</th>\n",
              "      <td>11.99</td>\n",
              "    </tr>\n",
              "  </tbody>\n",
              "</table>\n",
              "</div><br><label><b>dtype:</b> float64</label>"
            ]
          },
          "metadata": {},
          "execution_count": 22
        }
      ]
    },
    {
      "cell_type": "code",
      "source": [
        "plt.figure(figsize=(6,4))\n",
        "plt.boxplot(filtered.dropna(), vert=True, patch_artist=True)\n",
        "plt.title(\"Boxplot de delivery_fee\")\n",
        "plt.xlabel(\"Delivery_fee\")\n",
        "plt.show()"
      ],
      "metadata": {
        "colab": {
          "base_uri": "https://localhost:8080/",
          "height": 410
        },
        "id": "YeBVR-LnQZ5e",
        "outputId": "77e4f391-af68-4ab9-d11d-3ebc2153dfba"
      },
      "execution_count": 23,
      "outputs": [
        {
          "output_type": "display_data",
          "data": {
            "text/plain": [
              "<Figure size 600x400 with 1 Axes>"
            ],
            "image/png": "[encoded data removed]"
          },
          "metadata": {}
        }
      ]
    },
    {
      "cell_type": "markdown",
      "metadata": {
        "id": "H6chHEhU80c6"
      },
      "source": [
        "* **O que o código faz:**  \n",
        "\n",
        "  **1) Explicação Linha a Linha (Diálogo com o Código):**  \n",
        "  ```python\n",
        "  # “Importe pandas e pyplot.”  \n",
        "  import pandas as pd  \n",
        "  import matplotlib.pyplot as plt  \n",
        "\n",
        "  # “Carregue a série de fees.”  \n",
        "  df = pd.read_csv('/content/ifood-restaurants-february-2021.csv')\n",
        "  fees = df['delivery_fee']\n",
        "\n",
        "  # “Crie figura de 6×4 e plote boxplot horizontal.”  \n",
        "  plt.figure(figsize=(6,4))\n",
        "  plt.boxplot(fees.dropna(), vert=False, patch_artist=True)\n",
        "  plt.title('Boxplot de delivery_fee')\n",
        "  plt.xlabel('delivery_fee')\n",
        "  plt.show()\n",
        "\n",
        "  # “Calcule Q1, Q3 e IQR novamente.”  \n",
        "  Q1, Q3 = fees.quantile([0.25,0.75])\n",
        "  IQR = Q3 - Q1\n",
        "\n",
        "  # “Filtre valores dentro de 1.5×IQR.”  \n",
        "  filtered = fees[~((fees < Q1 - 1.5*IQR) | (fees > Q3 + 1.5*IQR))]\n",
        "\n",
        "  # “Compare tamanho antes e depois.”  \n",
        "  print(f\"Registros antes: {len(fees)}, após remoção: {len(filtered)}\")\n",
        "  ```\n",
        "\n",
        "  **2) Tabela de Estados Intermediários:**\n",
        "\n",
        "  ```markdown\n",
        "  | Passo         | Expressão               | Saída      | O que faz?                             |\n",
        "  |:-------------:|:------------------------|:-----------|:---------------------------------------|\n",
        "  | 1             | `plt.boxplot(...)`      | Gráfico    | Exibe quartis e outliers visualmente    |\n",
        "  | 2             | `filtered`              | Series     | Series sem outliers                     |\n",
        "  ```\n",
        "\n",
        "  **3) Diagrama Mental (A Analogia Central):**  \n",
        "  É como usar uma peneira visual: o boxplot mostra pedrinhas grandes (outliers) que você remove e fica só com areia uniforme.\n",
        "\n",
        "* **Cenário de Mercado:**  \n",
        "  - Em **análise de performance**, remover outliers de tempo de entrega melhora precisão de SLAs e previsões.\n",
        "\n",
        "* **Boas Práticas:**  \n",
        "  - **Afirmação:** “Plot boxplot antes de filtrar.”  \n",
        "    - **Porquê:** Visualizar garante não remover dados válidos.  \n",
        "    - **Analogia:** É como inspecionar grãos antes de usar dissolvente.\n"
      ]
    },
    {
      "cell_type": "markdown",
      "metadata": {
        "id": "rgLSROwS80c7"
      },
      "source": [
        "#### **Nível DEUS (1/3): Remoção Avançada de Outliers com IQR e Z-Score**\n"
      ]
    },
    {
      "cell_type": "code",
      "execution_count": null,
      "metadata": {
        "id": "cT6mbNVK80c7"
      },
      "outputs": [],
      "source": [
        "import pandas as pd\n",
        "import numpy as np\n",
        "from scipy import stats\n",
        "\n",
        "df = pd.read_csv('/content/ifood-restaurants-february-2021.csv')\n",
        "fees = df['delivery_fee'].dropna()\n",
        "\n",
        "# IQR\n",
        "Q1, Q3 = fees.quantile([0.25,0.75])\n",
        "IQR = Q3 - Q1\n",
        "mask_iqr = (fees >= Q1 - 1.5*IQR) & (fees <= Q3 + 1.5*IQR)\n",
        "\n",
        "# Z-Score\n",
        "z = np.abs(stats.zscore(fees))\n",
        "mask_z = z < 3\n",
        "\n",
        "# Combine masks\n",
        "clean = fees[mask_iqr & mask_z]\n",
        "print(f\"Antes: {len(fees)}, Após IQR+Z: {len(clean)}\")\n"
      ]
    },
    {
      "cell_type": "code",
      "execution_count": 24,
      "metadata": {
        "id": "8vK4VyHy80c7"
      },
      "outputs": [],
      "source": [
        "# Pratique seu código aqui!\n",
        "import pandas as pd\n",
        "import numpy as np\n",
        "from scipy import stats\n",
        "\n",
        "df = pd.read_csv('/content/ifood-restaurants-february-2021.csv')\n",
        "fees = df['delivery_fee'].dropna()\n"
      ]
    },
    {
      "cell_type": "code",
      "source": [
        "Q1, Q2 = fees.quantile([0.25, 0.75])\n",
        "IQR = Q3 - Q1\n",
        "mask_iqr = (fees >= Q1 - 1.5*IQR) & (fees <= Q3 + 1.5*IQR)\n",
        "mask_iqr.head()"
      ],
      "metadata": {
        "colab": {
          "base_uri": "https://localhost:8080/",
          "height": 241
        },
        "id": "15PzVMbYWSnp",
        "outputId": "2268fad0-ab8c-4a49-9a93-6a8f2e8ff49e"
      },
      "execution_count": 26,
      "outputs": [
        {
          "output_type": "execute_result",
          "data": {
            "text/plain": [
              "0    True\n",
              "1    True\n",
              "2    True\n",
              "3    True\n",
              "4    True\n",
              "Name: delivery_fee, dtype: bool"
            ],
            "text/html": [
              "<div>\n",
              "<style scoped>\n",
              "    .dataframe tbody tr th:only-of-type {\n",
              "        vertical-align: middle;\n",
              "    }\n",
              "\n",
              "    .dataframe tbody tr th {\n",
              "        vertical-align: top;\n",
              "    }\n",
              "\n",
              "    .dataframe thead th {\n",
              "        text-align: right;\n",
              "    }\n",
              "</style>\n",
              "<table border=\"1\" class=\"dataframe\">\n",
              "  <thead>\n",
              "    <tr style=\"text-align: right;\">\n",
              "      <th></th>\n",
              "      <th>delivery_fee</th>\n",
              "    </tr>\n",
              "  </thead>\n",
              "  <tbody>\n",
              "    <tr>\n",
              "      <th>0</th>\n",
              "      <td>True</td>\n",
              "    </tr>\n",
              "    <tr>\n",
              "      <th>1</th>\n",
              "      <td>True</td>\n",
              "    </tr>\n",
              "    <tr>\n",
              "      <th>2</th>\n",
              "      <td>True</td>\n",
              "    </tr>\n",
              "    <tr>\n",
              "      <th>3</th>\n",
              "      <td>True</td>\n",
              "    </tr>\n",
              "    <tr>\n",
              "      <th>4</th>\n",
              "      <td>True</td>\n",
              "    </tr>\n",
              "  </tbody>\n",
              "</table>\n",
              "</div><br><label><b>dtype:</b> bool</label>"
            ]
          },
          "metadata": {},
          "execution_count": 26
        }
      ]
    },
    {
      "cell_type": "code",
      "source": [
        "z = np.abs(stats.zscore(fees))\n",
        "z"
      ],
      "metadata": {
        "colab": {
          "base_uri": "https://localhost:8080/"
        },
        "id": "9JTXb4VIW2dB",
        "outputId": "6500c8a7-5362-4c92-fb6f-16ede8324f18"
      },
      "execution_count": 28,
      "outputs": [
        {
          "output_type": "execute_result",
          "data": {
            "text/plain": [
              "array([0.65215498, 0.27466988, 1.20149473, ..., 1.57666278, 0.27698694,\n",
              "       0.50869315])"
            ]
          },
          "metadata": {},
          "execution_count": 28
        }
      ]
    },
    {
      "cell_type": "code",
      "source": [
        "mask_z = z < 3\n",
        "mask_z"
      ],
      "metadata": {
        "colab": {
          "base_uri": "https://localhost:8080/"
        },
        "id": "xVMauApeXCIR",
        "outputId": "50ed9ed4-d71e-487e-870d-b06c817269ed"
      },
      "execution_count": 30,
      "outputs": [
        {
          "output_type": "execute_result",
          "data": {
            "text/plain": [
              "array([ True,  True,  True, ...,  True,  True,  True])"
            ]
          },
          "metadata": {},
          "execution_count": 30
        }
      ]
    },
    {
      "cell_type": "code",
      "source": [
        "clean = fees[mask_iqr & mask_z]\n",
        "print(f\"Antes: {len(fees)}, Após IQR+Z: {len(clean)}\")"
      ],
      "metadata": {
        "colab": {
          "base_uri": "https://localhost:8080/"
        },
        "id": "q9OPeeJsXRw0",
        "outputId": "e07a8724-f35b-409f-ef80-0f98c66a83a8"
      },
      "execution_count": 31,
      "outputs": [
        {
          "output_type": "stream",
          "name": "stdout",
          "text": [
            "Antes: 406399, Após IQR+Z: 404376\n"
          ]
        }
      ]
    },
    {
      "cell_type": "markdown",
      "metadata": {
        "id": "kLb66eCR80c7"
      },
      "source": [
        "* **O que o código faz:**  \n",
        "\n",
        "  **1) Explicação Linha a Linha (Diálogo com o Código):**  \n",
        "  ```python\n",
        "  # “Importe pandas, numpy e stats.”  \n",
        "  import pandas as pd  \n",
        "  import numpy as np  \n",
        "  from scipy import stats  \n",
        "\n",
        "  # “Carregue taxas sem nulos.”  \n",
        "  df = pd.read_csv('/content/ifood-restaurants-february-2021.csv')\n",
        "  fees = df['delivery_fee'].dropna()\n",
        "\n",
        "  # “Crie máscara IQR.”  \n",
        "  Q1, Q3 = fees.quantile([0.25,0.75])\n",
        "  IQR = Q3 - Q1\n",
        "  mask_iqr = (fees >= Q1 - 1.5*IQR) & (fees <= Q3 + 1.5*IQR)\n",
        "\n",
        "  # “Crie máscara Z-score <3σ.”  \n",
        "  z = np.abs(stats.zscore(fees))\n",
        "  mask_z = z < 3\n",
        "\n",
        "  # “Combine filtros e conte.”  \n",
        "  clean = fees[mask_iqr & mask_z]\n",
        "  print(f\"Antes: {len(fees)}, Após IQR+Z: {len(clean)}\")\n",
        "  ```  \n",
        "\n",
        "  **2) Tabela de Estados Intermediários:**\n",
        "\n",
        "  ```markdown\n",
        "  | Passo     | Expressão              | Saída   | O que faz?                            |\n",
        "  |:---------:|:-----------------------|:--------|:--------------------------------------|\n",
        "  | 1         | `mask_iqr`             | booleana| Filtra via IQR                        |\n",
        "  | 2         | `mask_z`               | booleana| Filtra via Z-score                    |\n",
        "  | 3         | `clean`                | Series  | Combina e remove outliers             |\n",
        "  ```\n",
        "\n",
        "  **3) Diagrama Mental (A Analogia Central):**  \n",
        "  É como passar grãos por duas peneiras: primeira filtra os que estão muito longe da caixa central (IQR) e a segunda remove os que sobram fora de 3 desvios padrão.\n",
        "\n",
        "* **Cenário de Mercado:**  \n",
        "  - Em **detecção de fraude**, combinação de métodos reduz falsos positivos e negativos na identificação de transações anômalas.\n",
        "\n",
        "* **Boas Práticas:**  \n",
        "  - **Afirmação:** “Combine métodos para maior robustez.”  \n",
        "    - **Porquê:** Cada técnica captura diferentes tipos de anomalias.  \n",
        "    - **Analogia:** É como usar detector de metais e raio-X juntos em segurança.\n"
      ]
    },
    {
      "cell_type": "markdown",
      "metadata": {
        "id": "bsLuTz7g80c7"
      },
      "source": [
        "#### **Nível DEUS (2/3): Winsorize de Quartis e Reavaliação de Estatísticas**\n"
      ]
    },
    {
      "cell_type": "code",
      "execution_count": null,
      "metadata": {
        "id": "pZ6ab0zy80c8"
      },
      "outputs": [],
      "source": [
        "import pandas as pd\n",
        "from scipy.stats.mstats import winsorize\n",
        "import numpy as np\n",
        "\n",
        "df = pd.read_csv('/content/ifood-restaurants-february-2021.csv')\n",
        "fees = df['delivery_fee'].dropna().values\n",
        "\n",
        "# Winsorize limites de 5%\n",
        "w = winsorize(fees, limits=[0.05,0.05])\n",
        "\n",
        "orig_var = np.var(fees, ddof=1)\n",
        "win_var = np.var(w, ddof=1)\n",
        "print(f\"Variância original: {orig_var:.2f}, após winsorize: {win_var:.2f}\")\n"
      ]
    },
    {
      "cell_type": "code",
      "execution_count": 32,
      "metadata": {
        "id": "guYs_K6480c8"
      },
      "outputs": [],
      "source": [
        "# Pratique seu código aqui!\n",
        "import pandas as pd\n",
        "from scipy.stats.mstats import winsorize\n",
        "import numpy as np\n",
        "\n",
        "df = pd.read_csv('/content/ifood-restaurants-february-2021.csv')\n",
        "fees = df['delivery_fee'].dropna().values\n"
      ]
    },
    {
      "cell_type": "markdown",
      "metadata": {
        "id": "l-VRbjhD80c8"
      },
      "source": [
        "* **O que o código faz:**  \n",
        "\n",
        "  **1) Explicação Linha a Linha (Diálogo com o Código):**  \n",
        "  ```python\n",
        "  # “Importe pandas, winsorize e numpy.”  \n",
        "  import pandas as pd  \n",
        "  from scipy.stats.mstats import winsorize  \n",
        "  import numpy as np  \n",
        "\n",
        "  # “Carregue taxas e remova nulos.”  \n",
        "  df = pd.read_csv('/content/ifood-restaurants-february-2021.csv')\n",
        "  fees = df['delivery_fee'].dropna().values\n",
        "\n",
        "  # “Aplique winsorize em 5% extremos.”  \n",
        "  w = winsorize(fees, limits=[0.05,0.05])\n",
        "\n",
        "  # “Calcule variância antes e depois.”  \n",
        "  orig_var = np.var(fees, ddof=1)\n",
        "  win_var = np.var(w, ddof=1)\n",
        "\n",
        "  # “Imprima comparativo.”  \n",
        "  print(f\"Variância original: {orig_var:.2f}, após winsorize: {win_var:.2f}\")\n",
        "  ```  \n",
        "\n",
        "  **2) Tabela de Estados Intermediários:**\n",
        "\n",
        "  ```markdown\n",
        "  | Passo       | Expressão                | Saída   | O que faz?                                |\n",
        "  |:-----------:|:-------------------------|:--------|:------------------------------------------|\n",
        "  | 1           | `winsorize(...,limits)` | array   | Limita extremos aos percentis 5%/95%      |\n",
        "  | 2           | `np.var(...,ddof=1)`    | float   | Compara variâncias após capping           |\n",
        "  ```\n",
        "\n",
        "  **3) Diagrama Mental (A Analogia Central):**  \n",
        "  É como aparar as pontas das fatias extremas antes de medir a dispersão das demais.\n",
        "\n",
        "* **Cenário de Mercado:**  \n",
        "  - Em **monitoramento de KPIs**, winsorização mantém a maioria dos dados enquanto suaviza picos de ruído.\n",
        "\n",
        "* **Boas Práticas:**  \n",
        "  - **Afirmação:** “Use winsorize quando quiser preservação completa da amostra.”  \n",
        "    - **Porquê:** Evita reduzir tamanho de amostra ao descartar extremos.  \n",
        "    - **Analogia:** É como arredondar valores extremos em vez de eliminá-los.\n"
      ]
    },
    {
      "cell_type": "markdown",
      "metadata": {
        "id": "UcSa8zj780c8"
      },
      "source": [
        "#### **Nível DEUS (3/3): Bootstrap para Estimar Desvio Padrão com Outliers Removidos**\n"
      ]
    },
    {
      "cell_type": "code",
      "execution_count": null,
      "metadata": {
        "id": "xyC1kAsF80c8"
      },
      "outputs": [],
      "source": [
        "import pandas as pd\n",
        "import numpy as np\n",
        "\n",
        "df = pd.read_csv('/content/ifood-restaurants-february-2021.csv')\n",
        "fees = df['delivery_fee'].dropna().values\n",
        "\n",
        "# Remoção IQR\n",
        "Q1, Q3 = np.percentile(fees, [25,75])\n",
        "IQR = Q3 - Q1\n",
        "fees_clean = fees[(fees >= Q1 - 1.5*IQR) & (fees <= Q3 + 1.5*IQR)]\n",
        "\n",
        "# Bootstrap de desvio padrão\n",
        "boot_stds = [np.std(np.random.choice(fees_clean, len(fees_clean), replace=True), ddof=1)\n",
        "             for _ in range(1000)]\n",
        "ci = np.percentile(boot_stds, [2.5,97.5])\n",
        "\n",
        "print(f\"Desvio padrão 95% CI: [{ci[0]:.2f}, {ci[1]:.2f}]\")\n"
      ]
    },
    {
      "cell_type": "code",
      "execution_count": null,
      "metadata": {
        "id": "2Jyqd6iV80c8"
      },
      "outputs": [],
      "source": [
        "# Pratique seu código aqui!\n"
      ]
    },
    {
      "cell_type": "markdown",
      "metadata": {
        "id": "DCB0H-yo80c9"
      },
      "source": [
        "* **O que o código faz:**  \n",
        "\n",
        "  **1) Explicação Linha a Linha (Diálogo com o Código):**  \n",
        "  ```python\n",
        "  # “Importe pandas e numpy.”  \n",
        "  import pandas as pd  \n",
        "  import numpy as np  \n",
        "\n",
        "  # “Carregue taxas e remova nulos.”  \n",
        "  df = pd.read_csv('/content/ifood-restaurants-february-2021.csv')\n",
        "  fees = df['delivery_fee'].dropna().values\n",
        "\n",
        "  # “Filtre outliers via IQR.”  \n",
        "  Q1, Q3 = np.percentile(fees, [25,75])\n",
        "  IQR = Q3 - Q1\n",
        "  fees_clean = fees[(fees >= Q1 - 1.5*IQR) & (fees <= Q3 + 1.5*IQR)]\n",
        "\n",
        "  # “Para 1000 reamostragens, calcule desvio padrão.”  \n",
        "  boot_stds = [\n",
        "    np.std(np.random.choice(fees_clean, len(fees_clean), replace=True), ddof=1)\n",
        "    for _ in range(1000)\n",
        "  ]\n",
        "\n",
        "  # “Percentis para CI.”  \n",
        "  ci = np.percentile(boot_stds, [2.5,97.5])\n",
        "  print(f\"Desvio padrão 95% CI: [{ci[0]:.2f}, {ci[1]:.2f}]\")\n",
        "  ```  \n",
        "\n",
        "  **2) Tabela de Estados Intermediários:**\n",
        "\n",
        "  ```markdown\n",
        "  | Passo        | Expressão                      | Saída        | O que faz?                           |\n",
        "  |:------------:|:-------------------------------|:-------------|:-------------------------------------|\n",
        "  | 1            | `fees_clean`                   | array        | Dados sem outliers                   |\n",
        "  | 2            | `boot_stds`                    | lista floats | Distribuição bootstrap de std        |\n",
        "  | 3            | `np.percentile(...,[2.5,97.5])`| array floats | CI do desvio padrão                  |\n",
        "  ```\n",
        "\n",
        "  **3) Diagrama Mental (A Analogia Central):**  \n",
        "  É como calcular muitas vezes a variabilidade de um lote filtrado para ver quão confiável é nossa medida de dispersão.\n",
        "\n",
        "* **Cenário de Mercado:**  \n",
        "  - Em **monitoramento de qualidade**, estimar incerteza de variabilidade de tempos de resposta com confiança estatística.\n",
        "\n",
        "* **Boas Práticas:**  \n",
        "  - **Afirmação:** “Use bootstrap para CI de estatísticas robustas.”  \n",
        "    - **Porquê:** Não depende de pressupostos de normalidade.  \n",
        "    - **Analogia:** É como ensaiar repetidas medições para avaliar precisão de um instrumento.\n"
      ]
    },
    {
      "cell_type": "markdown",
      "metadata": {
        "id": "HFVBKPx880c9"
      },
      "source": [
        "### 3. 🕸️ Profundezas e Conexões\n",
        "\n",
        "<br>\n",
        "\n",
        "Métricas de dispersão e outliers são fundamentais para **análise exploratória**, **feature engineering** (remoção de ruído) e **modelos robustos** em **scikit-learn**, **statsmodels** e **scipy**.\n",
        "\n",
        "<br>\n",
        "\n",
        "---\n",
        "<br>\n"
      ]
    },
    {
      "cell_type": "markdown",
      "metadata": {
        "id": "qIzubzFG80c9"
      },
      "source": [
        "### 4. 🚀 Ação e Verificação\n",
        "\n",
        "<br>\n",
        "\n",
        "#### **🤔 Desafio Prático**\n",
        "1. Calcule variância e desvio padrão de `delivery_fee`.  \n",
        "2. Determine quartis e IQR, conte outliers.  \n",
        "3. Gere boxplot e filtre outliers via IQR.  \n",
        "4. Combine IQR e Z-score para limpeza avançada.  \n",
        "5. Bootstrap CI de desvio padrão pós-remoção.\n",
        "\n",
        "<br>\n",
        "\n",
        "#### **❓ Pergunta de Verificação**\n",
        "Por que a remoção de outliers impacta mais a variância do que a mediana?  \n",
        "\n",
        "<br>\n",
        "\n",
        "---\n",
        "<br>\n"
      ]
    }
  ]
}