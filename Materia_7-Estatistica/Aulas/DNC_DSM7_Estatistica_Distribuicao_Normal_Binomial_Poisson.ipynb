{
  "cells": [
    {
      "cell_type": "markdown",
      "metadata": {
        "id": "5upwDOC3P3Ai"
      },
      "source": [
        "## 🎓 **Aula sobre: Python e Estatística — Distribuição Normal, Binomial e de Poisson**\n",
        "\n",
        "<br>\n",
        "\n",
        "### 🧭 Sumário da Aula\n",
        "\n",
        "| # | Sub-tópico                         | Tempo Estimado | Complexidade |\n",
        "|---|------------------------------------|----------------|--------------|\n",
        "| 1 | 🧠 Ficha de Revisão Rápida         | ~1 min         | ⭐           |\n",
        "| 2 | 🔬 Mergulho Profundo               | ~15 min        | ⭐⭐⭐⭐       |\n",
        "| 3 | 💻 Exemplos de Mercado             | ~10 min        | ⭐⭐⭐        |\n",
        "| 4 | 🕸️ Profundezas e Conexões          | ~3 min         | ⭐⭐         |\n",
        "| 5 | 🚀 Ação e Verificação               | ~5 min         | ⭐⭐         |\n",
        "| 6 | 🌊 Mergulhos Adicionais Opcionais   | Opcional       | ⭐⭐⭐⭐      |\n",
        "\n",
        "<br>\n",
        "\n",
        "---\n",
        "<br>\n"
      ]
    },
    {
      "cell_type": "markdown",
      "metadata": {
        "id": "QzYmo1FqP3Ak"
      },
      "source": [
        "### 1. 🧠 Ficha de Revisão Rápida | (O Essencial)\n",
        "\n",
        "<br>\n",
        "\n",
        "> - **Distribuição Normal:** curva em sino definida pela *pdf* (*probability density function*).  \n",
        ">   * A *pdf* diz a densidade de probabilidade em cada ponto.  \n",
        "> - **Distribuição Binomial:** conta sucessos em *n* ensaios com probabilidade *p*, usa *pmf* (*probability mass function*).  \n",
        ">   * A *pmf* dá a probabilidade de exatamente *k* sucessos.  \n",
        "> - **Distribuição de Poisson:** modela eventos raros num intervalo fixo com taxa λ, também via *pmf*.  \n",
        ">   * Útil quando *n* é grande e *p* pequeno.  \n",
        "> - **CDF (Cumulative Distribution Function):** probabilidade acumulada até um valor.  \n",
        "> - **Parâmetros chave:**  \n",
        ">   - Normal: média (μ), desvio-padrão (σ)  \n",
        ">   - Binomial: ensaios (n), probabilidade de sucesso (p)  \n",
        ">   - Poisson: taxa de eventos (λ)  \n",
        "\n",
        "<br>\n"
      ]
    },
    {
      "cell_type": "markdown",
      "metadata": {
        "id": "bL0giKG0P3Ak"
      },
      "source": [
        "### 2. 🔬 Mergulho Profundo | (Os Detalhes)\n",
        "\n",
        "<br>\n",
        "\n",
        "#### **🎯 O Conceito Central**  \n",
        "A **distribuição normal** para variável contínua tem *pdf*  \n",
        "\\[\n",
        "f(x)=\\frac{1}{\\sqrt{2\\pi}\\,\\sigma}\\,\\exp\\!\\bigl[-\\tfrac{(x-\\mu)^2}{2\\sigma^2}\\bigr]\n",
        "\\]  \n",
        "A **binomial** para variáveis discretas usa *pmf*  \n",
        "\\[\n",
        "P(X=k)=\\binom{n}{k}p^k(1-p)^{\\,n-k}\n",
        "\\]  \n",
        "A **Poisson** é outra *pmf*  \n",
        "\\[\n",
        "P(X=k)=\\frac{e^{-\\lambda}\\,\\lambda^k}{k!}\n",
        "\\]  \n",
        "A **CDF** acumula essas probabilidades até um dado valor, seja integrando a *pdf* (normal) ou somando a *pmf* (discretas).\n",
        "\n",
        "<br>\n",
        "\n",
        "#### **🔗 Analogia de Data Science**  \n",
        "- **Normal:** alturas de pessoas — maioria próxima da média, poucos extremos.  \n",
        "- **Binomial:** lançar uma moeda *n* vezes e contar quantas vezes deu “cara”.  \n",
        "- **Poisson:** contar quantos pedidos chegam por minuto num site movimentado.\n",
        "\n",
        "<br>\n"
      ]
    },
    {
      "cell_type": "markdown",
      "metadata": {
        "id": "tT4OBv9hP3Ak"
      },
      "source": [
        "### **💻 Exemplos de Mercado (Abrangentes)**\n"
      ]
    },
    {
      "cell_type": "markdown",
      "metadata": {
        "id": "GiPm0dglP3Al"
      },
      "source": [
        "#### **Nível Simples: Histograma e PDF da Distribuição Normal**\n"
      ]
    },
    {
      "cell_type": "code",
      "execution_count": null,
      "metadata": {
        "id": "J_NTgGkWP3Al"
      },
      "outputs": [],
      "source": [
        "import pandas as pd\n",
        "import numpy as np\n",
        "import matplotlib.pyplot as plt\n",
        "from scipy.stats import norm\n",
        "\n",
        "# “Leia CSV e selecione delivery_time.”\n",
        "df = pd.read_csv('/content/ifood-restaurants-february-2021.csv')\n",
        "data = df['delivery_time'].dropna()\n",
        "\n",
        "# “Ajuste Normal: calcule média e desvio.”\n",
        "mu, sigma = data.mean(), data.std()\n",
        "\n",
        "# “Plote histograma normalizado e curva normal.”\n",
        "count, bins, _ = plt.hist(data, bins=30, density=True, alpha=0.6)\n",
        "x = np.linspace(bins.min(), bins.max(), 100)\n",
        "plt.plot(x, norm.pdf(x, mu, sigma), 'r--')\n",
        "plt.title('Delivery Time com PDF Normal')\n",
        "plt.xlabel('Tempo de entrega (min)')\n",
        "plt.show()\n"
      ]
    },
    {
      "cell_type": "code",
      "execution_count": 1,
      "metadata": {
        "id": "GNrd_CgeP3Al"
      },
      "outputs": [],
      "source": [
        "# Pratique seu código aqui!\n",
        "import pandas as pd\n",
        "import numpy as np\n",
        "import matplotlib.pyplot as plt\n",
        "from scipy.stats import norm"
      ]
    },
    {
      "cell_type": "code",
      "execution_count": null,
      "metadata": {},
      "outputs": [],
      "source": [
        "df = pd.read_csv(\"C:/Users/bianc/OneDrive/Documents/1-Estudos/2-DNC/1-Data Science/1-Material/Materia7-EstatisticaComPython/EstatísticaDescritiva/ifood-restaurants-february-2021.csv\", sep=\",\", header=0)"
      ]
    },
    {
      "cell_type": "code",
      "execution_count": 4,
      "metadata": {},
      "outputs": [],
      "source": [
        "data = df[\"delivery_time\"].dropna()"
      ]
    },
    {
      "cell_type": "code",
      "execution_count": 8,
      "metadata": {},
      "outputs": [
        {
          "name": "stdout",
          "output_type": "stream",
          "text": [
            "Média: 47.43\n",
            "Desvio Padão: 19.66\n"
          ]
        }
      ],
      "source": [
        "mu, sigma = data.mean(), data.std()\n",
        "print(f\"Média: {mu:.2f}\\nDesvio Padão: {sigma:.2f}\")"
      ]
    },
    {
      "cell_type": "code",
      "execution_count": 14,
      "metadata": {},
      "outputs": [
        {
          "data": {
            "image/png": "[encoded data removed]",
            "text/plain": [
              "<Figure size 640x480 with 1 Axes>"
            ]
          },
          "metadata": {},
          "output_type": "display_data"
        }
      ],
      "source": [
        "count, bins, _ = plt.hist(data, bins=30, density=True, alpha=0.6)\n",
        "x = np.linspace(bins.min(), bins.max(), 100)\n",
        "plt.plot(x, norm.pdf(x, mu, sigma), \"r--\")\n",
        "plt.title(\"Delivery Time com PDF Normal\")\n",
        "plt.xlabel('Tempo de entrega (min)')\n",
        "plt.show()"
      ]
    },
    {
      "cell_type": "markdown",
      "metadata": {
        "id": "-DtNR-A3P3Am"
      },
      "source": [
        "* **O que o código faz:**  \n",
        "\n",
        "  **1) Explicação Linha a Linha (Diálogo com o Código):**  \n",
        "  ```python\n",
        "  import pandas as pd                                # carrega pandas  \n",
        "  import numpy as np                                 # carrega numpy  \n",
        "  import matplotlib.pyplot as plt                    # carrega matplotlib  \n",
        "  from scipy.stats import norm                       # carrega distribuição normal  \n",
        "\n",
        "  df = pd.read_csv('/content/ifood-restaurants-february-2021.csv')  \n",
        "  data = df['delivery_time'].dropna()                # extrai coluna sem nulos  \n",
        "\n",
        "  mu, sigma = data.mean(), data.std()                # média e desvio padrão  \n",
        "\n",
        "  count, bins, _ = plt.hist(data, bins=30, density=True, alpha=0.6)  \n",
        "  x = np.linspace(bins.min(), bins.max(), 100)  \n",
        "  plt.plot(x, norm.pdf(x, mu, sigma), 'r--')         # sobrepõe PDF  \n",
        "  plt.title('Delivery Time com PDF Normal')  \n",
        "  plt.xlabel('Tempo de entrega (min)')  \n",
        "  plt.show()  \n",
        "  ```\n",
        "\n",
        "  **2) Tabela de Estados Intermediários:**\n",
        "\n",
        "  ```markdown\n",
        "  | Passo | Expressão                         | Saída                | O que faz?                                 |\n",
        "  |:-----:|:----------------------------------|:---------------------|:-------------------------------------------|\n",
        "  | 1     | `data`                            | Series               | Valores de tempo de entrega                |\n",
        "  | 2     | `mu, sigma`                       | floats               | Parâmetros da normal (média, desvio)       |\n",
        "  | 3     | `plt.hist(..., density=True)`     | histograma densidade | Histograma normalizado                     |\n",
        "  | 4     | `norm.pdf(x, mu, sigma)`          | array                | Valores da curva de densidade              |\n",
        "  ```\n",
        "\n",
        "  **3) Diagrama Mental (A Analogia Central):**  \n",
        "  Imagine empilhar blocos conforme o tempo de entrega; a curva normal é a forma suave que “encaixa” no topo desses blocos.\n",
        "\n",
        "* **Cenário de Mercado:**  \n",
        "  - Em **otimização de logística**, compare a distribuição real de tempos com a curva ideal (normal) para detectar gargalos.  \n",
        "\n",
        "* **Boas Práticas:**  \n",
        "  - **Afirmação:** “Sempre ajuste e plote a *pdf* para verificar adequação.”  \n",
        "    - **Porquê:** Revela desvios sistemáticos como caudas pesadas.  \n",
        "    - **Analogia:** É como testar se um molde se encaixa perfeitamente na peça antes da produção.\n"
      ]
    },
    {
      "cell_type": "markdown",
      "metadata": {
        "id": "83nZ6-smP3Am"
      },
      "source": [
        "#### **Nível Intermediário: PMF da Distribuição Binomial**\n"
      ]
    },
    {
      "cell_type": "code",
      "execution_count": null,
      "metadata": {
        "id": "yYpplHKDP3Am"
      },
      "outputs": [],
      "source": [
        "import pandas as pd\n",
        "import numpy as np\n",
        "from scipy.stats import binom\n",
        "\n",
        "# “Leia CSV e calcule probabilidade de entrega rápida.”\n",
        "df = pd.read_csv('/content/ifood-restaurants-february-2021.csv')\n",
        "p = (df['delivery_time'] <= 30).mean()            # P(sucesso em ≤30min)\n",
        "n = 5                                             # número de ensaios\n",
        "k = np.arange(0, n+1)\n",
        "\n",
        "# “Calcule PMF para cada k.”\n",
        "pmf = binom.pmf(k, n, p)\n",
        "\n",
        "for ki, prob in zip(k, pmf):\n",
        "    print(f\"P(X={ki}): {prob:.3f}\")\n"
      ]
    },
    {
      "cell_type": "code",
      "execution_count": 18,
      "metadata": {
        "id": "WzSflm_FP3An"
      },
      "outputs": [],
      "source": [
        "# Pratique seu código aqui!\n",
        "import pandas as pd\n",
        "import numpy as np\n",
        "from scipy.stats import binom"
      ]
    },
    {
      "cell_type": "code",
      "execution_count": 15,
      "metadata": {},
      "outputs": [],
      "source": [
        "df = pd.read_csv(\"C:/Users/bianc/OneDrive/Documents/1-Estudos/2-DNC/1-Data Science/1-Material/Materia7-EstatisticaComPython/EstatísticaDescritiva/ifood-restaurants-february-2021.csv\", sep=\",\", header=0)"
      ]
    },
    {
      "cell_type": "code",
      "execution_count": 16,
      "metadata": {},
      "outputs": [],
      "source": [
        "p = (df[\"delivery_time\"] <= 30).mean()\n",
        "n = 5\n",
        "k = np.arange(0, n+1)"
      ]
    },
    {
      "cell_type": "code",
      "execution_count": 20,
      "metadata": {},
      "outputs": [],
      "source": [
        "pmf = binom.pmf(k, n, p)"
      ]
    },
    {
      "cell_type": "code",
      "execution_count": 21,
      "metadata": {},
      "outputs": [
        {
          "name": "stdout",
          "output_type": "stream",
          "text": [
            "P(X=0): 0.404\n",
            "P(X=1): 0.401\n",
            "P(X=2): 0.159\n",
            "P(X=3): 0.032\n",
            "P(X=4): 0.003\n",
            "P(X=5): 0.000\n"
          ]
        }
      ],
      "source": [
        "for ki, prob in zip(k, pmf):\n",
        "    print(f\"P(X={ki}): {prob:.3f}\")"
      ]
    },
    {
      "cell_type": "markdown",
      "metadata": {
        "id": "Isque5U3P3An"
      },
      "source": [
        "* **O que o código faz:**  \n",
        "\n",
        "  **1) Explicação Linha a Linha (Diálogo com o Código):**  \n",
        "  ```python\n",
        "  import pandas as pd  \n",
        "  import numpy as np  \n",
        "  from scipy.stats import binom  \n",
        "\n",
        "  df = pd.read_csv('/content/ifood-restaurants-february-2021.csv')  \n",
        "  p = (df['delivery_time'] <= 30).mean()            # taxa de sucesso  \n",
        "  n = 5                                             # ensaios simulados  \n",
        "  k = np.arange(0, n+1)                            # possíveis sucessos  \n",
        "\n",
        "  pmf = binom.pmf(k, n, p)                         # calcula PMF  \n",
        "\n",
        "  for ki, prob in zip(k, pmf):\n",
        "      print(f\"P(X={ki}): {prob:.3f}\")  \n",
        "  ```  \n",
        "\n",
        "  **2) Tabela de Estados Intermediários:**\n",
        "\n",
        "  ```markdown\n",
        "  | Passo | Expressão                                 | Saída     | O que faz?                 |\n",
        "  |:-----:|:------------------------------------------|:----------|:---------------------------|\n",
        "  | 1     | `(df['delivery_time']<=30).mean()`        | float     | Estima p de sucesso        |\n",
        "  | 2     | `binom.pmf(k,n,p)`                        | array     | PMF da binomial            |\n",
        "  ```\n",
        "\n",
        "  **3) Diagrama Mental (A Analogia Central):**  \n",
        "  É como simular 5 pedidos e contar quantas entregas rápidas (“sucessos”) ocorrem em cada cenário.\n",
        "\n",
        "* **Cenário de Mercado:**  \n",
        "  - Em **metas de SLA**, prever quantos pedidos chegarão dentro do prazo em pacotes de 5 facilita planejamento de equipes.  \n",
        "\n",
        "* **Boas Práticas:**  \n",
        "  - **Afirmação:** “Valide *n* e *p* com dados reais.”  \n",
        "    - **Porquê:** Parâmetros incorretos distorcem probabilidades.  \n",
        "    - **Analogia:** É como calibrar uma balança antes de pesar ingredientes.\n"
      ]
    },
    {
      "cell_type": "markdown",
      "metadata": {
        "id": "2qUpTeE8P3An"
      },
      "source": [
        "#### **Nível Avançado: PMF da Distribuição de Poisson**\n"
      ]
    },
    {
      "cell_type": "code",
      "execution_count": null,
      "metadata": {
        "id": "Et2k86XBP3An"
      },
      "outputs": [],
      "source": [
        "import numpy as np\n",
        "from scipy.stats import poisson\n",
        "\n",
        "# “Suponha taxa média de 20 pedidos/dia por restaurante.”\n",
        "lam = 20\n",
        "k = np.arange(0, 41)\n",
        "\n",
        "# “Calcule PMF de Poisson.”\n",
        "pmf = poisson.pmf(k, lam)\n",
        "\n",
        "for ki, prob in zip(k, pmf):\n",
        "    print(f\"P(X={ki}): {prob:.3f}\")\n"
      ]
    },
    {
      "cell_type": "code",
      "execution_count": 22,
      "metadata": {
        "id": "8wDirG9TP3An"
      },
      "outputs": [],
      "source": [
        "# Pratique seu código aqui!\n",
        "import numpy as np\n",
        "from scipy.stats import poisson"
      ]
    },
    {
      "cell_type": "code",
      "execution_count": 23,
      "metadata": {},
      "outputs": [],
      "source": [
        "lam = 20\n",
        "k = np.arange(0, 41)"
      ]
    },
    {
      "cell_type": "code",
      "execution_count": 24,
      "metadata": {},
      "outputs": [],
      "source": [
        "pmf = poisson.pmf(k, lam)"
      ]
    },
    {
      "cell_type": "code",
      "execution_count": 25,
      "metadata": {},
      "outputs": [
        {
          "name": "stdout",
          "output_type": "stream",
          "text": [
            "P(X=0): 0.000\n",
            "P(X=1): 0.000\n",
            "P(X=2): 0.000\n",
            "P(X=3): 0.000\n",
            "P(X=4): 0.000\n",
            "P(X=5): 0.000\n",
            "P(X=6): 0.000\n",
            "P(X=7): 0.001\n",
            "P(X=8): 0.001\n",
            "P(X=9): 0.003\n",
            "P(X=10): 0.006\n",
            "P(X=11): 0.011\n",
            "P(X=12): 0.018\n",
            "P(X=13): 0.027\n",
            "P(X=14): 0.039\n",
            "P(X=15): 0.052\n",
            "P(X=16): 0.065\n",
            "P(X=17): 0.076\n",
            "P(X=18): 0.084\n",
            "P(X=19): 0.089\n",
            "P(X=20): 0.089\n",
            "P(X=21): 0.085\n",
            "P(X=22): 0.077\n",
            "P(X=23): 0.067\n",
            "P(X=24): 0.056\n",
            "P(X=25): 0.045\n",
            "P(X=26): 0.034\n",
            "P(X=27): 0.025\n",
            "P(X=28): 0.018\n",
            "P(X=29): 0.013\n",
            "P(X=30): 0.008\n",
            "P(X=31): 0.005\n",
            "P(X=32): 0.003\n",
            "P(X=33): 0.002\n",
            "P(X=34): 0.001\n",
            "P(X=35): 0.001\n",
            "P(X=36): 0.000\n",
            "P(X=37): 0.000\n",
            "P(X=38): 0.000\n",
            "P(X=39): 0.000\n",
            "P(X=40): 0.000\n"
          ]
        }
      ],
      "source": [
        "for ki, prob in zip(k, pmf):\n",
        "    print(f\"P(X={ki}): {prob:.3f}\")"
      ]
    },
    {
      "cell_type": "markdown",
      "metadata": {
        "id": "6IoVXfYEP3An"
      },
      "source": [
        "* **O que o código faz:**  \n",
        "\n",
        "  **1) Explicação Linha a Linha (Diálogo com o Código):**  \n",
        "  ```python\n",
        "  import numpy as np  \n",
        "  from scipy.stats import poisson  \n",
        "\n",
        "  lam = 20                                          # média de eventos  \n",
        "  k = np.arange(0, 41)                              # possíveis contagens  \n",
        "\n",
        "  pmf = poisson.pmf(k, lam)                         # calcula PMF  \n",
        "\n",
        "  for ki, prob in zip(k, pmf):\n",
        "      print(f\"P(X={ki}): {prob:.3f}\")  \n",
        "  ```  \n",
        "\n",
        "  **2) Tabela de Estados Intermediários:**\n",
        "\n",
        "  ```markdown\n",
        "  | Passo | Expressão               | Saída           | O que faz?                             |\n",
        "  |:-----:|:------------------------|:----------------|:---------------------------------------|\n",
        "  | 1     | `poisson.pmf(k,lam)`    | array           | PMF da Poisson                         |\n",
        "  ```\n",
        "\n",
        "  **3) Diagrama Mental (A Analogia Central):**  \n",
        "  Imagine contar quantos pedidos chegam em um dia: Poisson descreve a probabilidade de “k” pedidos ocorrerem em média λ vezes.\n",
        "\n",
        "* **Cenário de Mercado:**  \n",
        "  - Em **dimensionamento de infraestrutura**, prever número de requisições orienta alocação de servidores.  \n",
        "\n",
        "* **Boas Práticas:**  \n",
        "  - **Afirmação:** “Use Poisson para eventos raros.”  \n",
        "    - **Porquê:** Modela bem fenômenos de chegada independente.  \n",
        "    - **Analogia:** É como contar gotas de chuva num certo período.\n"
      ]
    },
    {
      "cell_type": "markdown",
      "metadata": {
        "id": "QqtKn2J4P3An"
      },
      "source": [
        "#### **Nível DEUS (1/3): Ajuste de Distribuições aos Dados**\n"
      ]
    },
    {
      "cell_type": "code",
      "execution_count": null,
      "metadata": {
        "id": "Uv6cJjcvP3An"
      },
      "outputs": [],
      "source": [
        "import pandas as pd\n",
        "from scipy.stats import norm, binom, poisson\n",
        "\n",
        "df = pd.read_csv('/content/ifood-restaurants-february-2021.csv')\n",
        "data = df['delivery_time'].dropna()\n",
        "\n",
        "# Ajuste normal\n",
        "mu, sigma = norm.fit(data)\n",
        "print(f\"Normal fit: μ={mu:.2f}, σ={sigma:.2f}\")\n"
      ]
    },
    {
      "cell_type": "code",
      "execution_count": null,
      "metadata": {
        "id": "ZO5cLZHIP3Ao"
      },
      "outputs": [],
      "source": [
        "# Pratique seu código aqui!\n"
      ]
    },
    {
      "cell_type": "markdown",
      "metadata": {
        "id": "6U-VbdtOP3Ao"
      },
      "source": [
        "* **O que o código faz:**  \n",
        "\n",
        "  **1) Explicação Linha a Linha (Diálogo com o Código):**  \n",
        "  ```python\n",
        "  import pandas as pd  \n",
        "  from scipy.stats import norm  \n",
        "\n",
        "  df = pd.read_csv('/content/ifood-restaurants-february-2021.csv')  \n",
        "  data = df['delivery_time'].dropna()  \n",
        "\n",
        "  mu, sigma = norm.fit(data)                        # estima μ e σ  \n",
        "  print(f\"Normal fit: μ={mu:.2f}, σ={sigma:.2f}\")  \n",
        "  ```  \n",
        "\n",
        "  **2) Tabela de Estados Intermediários:**\n",
        "\n",
        "  ```markdown\n",
        "  | Passo | Expressão       | Saída     | O que faz?                         |\n",
        "  |:-----:|:----------------|:----------|:-----------------------------------|\n",
        "  | 1     | `norm.fit(data)`| floats    | Estima parâmetros da normal        |\n",
        "  ```\n",
        "\n",
        "  **3) Diagrama Mental (A Analogia Central):**  \n",
        "  É como ajustar o “molde” da curva normal para encaixar melhor nos dados observados.\n",
        "\n",
        "* **Cenário de Mercado:**  \n",
        "  - Em **monitoramento de tempo**, ajustar normal ajuda a definir limites de alerta (ex: 95% dos casos).\n"
      ]
    },
    {
      "cell_type": "markdown",
      "metadata": {
        "id": "PtVQZIlcP3Ao"
      },
      "source": [
        "#### **Nível DEUS (2/3): Teste de Bondade de Ajuste (KS Test)**\n"
      ]
    },
    {
      "cell_type": "code",
      "execution_count": null,
      "metadata": {
        "id": "STCoE29CP3Ao"
      },
      "outputs": [],
      "source": [
        "from scipy.stats import kstest\n",
        "\n",
        "# “Teste KS para normalidade.”\n",
        "stat, p = kstest(data, 'norm', args=(mu, sigma))\n",
        "print(f\"KS stat: {stat:.3f}, p-value: {p:.3f}\")\n"
      ]
    },
    {
      "cell_type": "code",
      "execution_count": null,
      "metadata": {
        "id": "y3ens7HCP3Ao"
      },
      "outputs": [],
      "source": [
        "# Pratique seu código aqui!\n"
      ]
    },
    {
      "cell_type": "markdown",
      "metadata": {
        "id": "isxgR6IOP3Ao"
      },
      "source": [
        "* **O que o código faz:**  \n",
        "\n",
        "  **1) Explicação Linha a Linha (Diálogo com o Código):**  \n",
        "  ```python\n",
        "  from scipy.stats import kstest  \n",
        "\n",
        "  stat, p = kstest(data, 'norm', args=(mu, sigma))  # compara amostra vs. normal\n",
        "  print(f\"KS stat: {stat:.3f}, p-value: {p:.3f}\")  \n",
        "  ```  \n",
        "\n",
        "  **2) Tabela de Estados Intermediários:**\n",
        "\n",
        "  ```markdown\n",
        "  | Passo | Expressão                 | Saída     | O que faz?                          |\n",
        "  |:-----:|:--------------------------|:----------|:------------------------------------|\n",
        "  | 1     | `kstest(...)`             | tuple     | Estatística e p-valor do teste KS   |\n",
        "  ```\n",
        "\n",
        "  **3) Diagrama Mental (A Analogia Central):**  \n",
        "  É como comparar o formato da sua curva com a curva normal de referência e medir a maior diferença.\n"
      ]
    },
    {
      "cell_type": "markdown",
      "metadata": {
        "id": "7WyCfEt0P3Ao"
      },
      "source": [
        "#### **Nível DEUS (3/3): Simulação Monte Carlo de Distribuições**\n"
      ]
    },
    {
      "cell_type": "code",
      "execution_count": null,
      "metadata": {
        "id": "yhHTxD-JP3Ao"
      },
      "outputs": [],
      "source": [
        "import numpy as np\n",
        "\n",
        "# “Monte Carlo: médias de amostras normais.”\n",
        "sim_means = [np.mean(np.random.normal(mu, sigma, size=len(data))) for _ in range(1000)]\n",
        "ci = np.percentile(sim_means, [2.5, 97.5])\n",
        "print(f\"MC Normal CI da média: [{ci[0]:.2f}, {ci[1]:.2f}]\")\n"
      ]
    },
    {
      "cell_type": "code",
      "execution_count": null,
      "metadata": {
        "id": "sIfvgmRZP3Ap"
      },
      "outputs": [],
      "source": [
        "# Pratique seu código aqui!\n"
      ]
    },
    {
      "cell_type": "markdown",
      "metadata": {
        "id": "iWmskpMCP3Ap"
      },
      "source": [
        "* **O que o código faz:**  \n",
        "\n",
        "  **1) Explicação Linha a Linha (Diálogo com o Código):**  \n",
        "  ```python\n",
        "  import numpy as np  \n",
        "\n",
        "  sim_means = [\n",
        "    np.mean(np.random.normal(mu, sigma, size=len(data)))\n",
        "    for _ in range(1000)\n",
        "  ]  \n",
        "  ci = np.percentile(sim_means, [2.5,97.5])  \n",
        "  print(f\"MC Normal CI da média: [{ci[0]:.2f}, {ci[1]:.2f}]\")  \n",
        "  ```  \n",
        "\n",
        "  **2) Tabela de Estados Intermediários:**\n",
        "\n",
        "  ```markdown\n",
        "  | Passo   | Expressão                   | Saída        | O que faz?                         |\n",
        "  |:-------:|:----------------------------|:-------------|:-----------------------------------|\n",
        "  | 1       | `sim_means`                 | lista floats | Distribuição de médias simuladas   |\n",
        "  | 2       | `np.percentile(...,[2.5,97.5])`| array floats| CI da média via Monte Carlo        |\n",
        "  ```\n",
        "\n",
        "  **3) Diagrama Mental (A Analogia Central):**  \n",
        "  É como repetir mil vezes o experimento “coletar dados e calcular média” para ver onde a média costuma cair.\n",
        "\n",
        "<br>\n"
      ]
    },
    {
      "cell_type": "markdown",
      "metadata": {
        "id": "Yacyiz05P3Ap"
      },
      "source": [
        "### 3. 🕸️ Profundezas e Conexões\n",
        "\n",
        "<br>\n",
        "\n",
        "As distribuições fundamentalizam **modelagem estatística**, **teste de hipóteses**, **simulações** e servem de base para **Machine Learning** (e.g., regressão linear, Naïve Bayes).\n",
        "\n",
        "<br>\n",
        "\n",
        "---\n",
        "<br>\n"
      ]
    },
    {
      "cell_type": "markdown",
      "metadata": {
        "id": "OMfDAQIOP3Ap"
      },
      "source": [
        "### 4. 🚀 Ação e Verificação\n",
        "\n",
        "<br>\n",
        "\n",
        "#### **🤔 Desafio Prático**\n",
        "1. Ajuste e plote *pdf* normal para `delivery_time`.  \n",
        "2. Calcule e interprete *pmf* binomial para *n*=10, *p* = P(delivery≤20 min).  \n",
        "3. Simule Poisson com λ igual à média de pedidos/dia (suposto 20).  \n",
        "4. Realize KS test para normalidade de `delivery_time`.  \n",
        "5. Monte Monte Carlo para obter CI da média normal.\n",
        "\n",
        "<br>\n",
        "\n",
        "#### **❓ Pergunta de Verificação**\n",
        "Quando escolher binomial em vez de Poisson para modelar contagens?\n",
        "\n",
        "<br>\n",
        "\n",
        "---\n",
        "<br>\n"
      ]
    }
  ],
  "metadata": {
    "colab": {
      "provenance": []
    },
    "kernelspec": {
      "display_name": "Python 3",
      "name": "python3"
    },
    "language_info": {
      "codemirror_mode": {
        "name": "ipython",
        "version": 3
      },
      "file_extension": ".py",
      "mimetype": "text/x-python",
      "name": "python",
      "nbconvert_exporter": "python",
      "pygments_lexer": "ipython3",
      "version": "3.13.5"
    }
  },
  "nbformat": 4,
  "nbformat_minor": 0
}
