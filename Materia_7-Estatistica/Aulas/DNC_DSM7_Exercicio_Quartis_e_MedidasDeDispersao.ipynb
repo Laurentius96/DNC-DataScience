{
  "nbformat": 4,
  "nbformat_minor": 0,
  "metadata": {
    "colab": {
      "provenance": [],
      "collapsed_sections": [
        "_l399oXg34dh",
        "XcmwrQVS6RwF",
        "jAe3d7bZEnKM",
        "VVMosYXCPDpA",
        "jc6DwYLce6nW"
      ]
    },
    "kernelspec": {
      "name": "python3",
      "display_name": "Python 3"
    },
    "language_info": {
      "name": "python"
    }
  },
  "cells": [
    {
      "cell_type": "code",
      "source": [
        "import pandas as pd\n",
        "import numpy as np\n",
        "from scipy import stats"
      ],
      "metadata": {
        "id": "0BD0PqDZ4018"
      },
      "execution_count": 1,
      "outputs": []
    },
    {
      "cell_type": "markdown",
      "source": [
        "### Exercício 1 – Cálculo dos Quartis\n",
        "\n",
        "Considere os salários mensais (em R$) de um grupo de funcionários:\n",
        "\n",
        "\n",
        "```Python\n",
        "tempo_entrega = [25, 30, 35, 40, 45, 50, 55, 60, 65, 70]\n",
        "```\n",
        "\n",
        "1. Determine o primeiro quartil (Q1), o segundo quartil (Q2 ou mediana) e o terceiro quartil (Q3).\n",
        "2. Qual a amplitude interquartil (IQR)?\n",
        "3. Há valores que podem ser considerados outliers?"
      ],
      "metadata": {
        "id": "_l399oXg34dh"
      }
    },
    {
      "cell_type": "code",
      "source": [
        " tempo_entrega = [25, 30, 35, 40, 45, 50, 55, 60, 65, 70]"
      ],
      "metadata": {
        "id": "rn92H6mP147k"
      },
      "execution_count": 28,
      "outputs": []
    },
    {
      "cell_type": "code",
      "execution_count": 18,
      "metadata": {
        "colab": {
          "base_uri": "https://localhost:8080/"
        },
        "id": "p9TgyAV-jm92",
        "outputId": "bd33a286-55fd-4141-ebf9-e1de7d1d75c5"
      },
      "outputs": [
        {
          "output_type": "stream",
          "name": "stdout",
          "text": [
            "Q1: 36.25\n",
            "Q2: 47.5\n",
            "Q3: 58.75\n"
          ]
        }
      ],
      "source": [
        "## 1. Determine o primeiro quartil (Q1), o segundo quartil (Q2 ou mediana) e o terceiro quartil (Q3).\n",
        "\n",
        "Q1 = np.quantile(tempo_entrega, 0.25)\n",
        "Q2 = float(np.median(tempo_entrega))\n",
        "Q3 = np.quantile(tempo_entrega, 0.75)\n",
        "\n",
        "\n",
        "print(f\"Q1: {Q1}\")\n",
        "print(f\"Q2: {Q2}\")\n",
        "print(f\"Q3: {Q3}\")\n"
      ]
    },
    {
      "cell_type": "code",
      "source": [
        "## 2. Qual a amplitude interquartil (IQR)?\n",
        "\n",
        "IQR = Q3 - Q1\n",
        "print(f\"IQR: {IQR}\")"
      ],
      "metadata": {
        "colab": {
          "base_uri": "https://localhost:8080/"
        },
        "id": "Od-V4fKO5ERa",
        "outputId": "a32ed23f-f022-40ef-f1d1-7778eb4f8221"
      },
      "execution_count": 19,
      "outputs": [
        {
          "output_type": "stream",
          "name": "stdout",
          "text": [
            "IQR: 22.5\n"
          ]
        }
      ]
    },
    {
      "cell_type": "code",
      "source": [
        "## 3. Há valores que podem ser considerados outliers?\n",
        "\n",
        "limite_superior = Q3 + 1.5 * IQR\n",
        "limite_inferior = Q1 - 1.5 * IQR\n",
        "\n",
        "print(f\"Limite Superior: {limite_superior}\")\n",
        "print(f\"Limite Inferior: {limite_inferior}\")\n",
        "\n",
        "\n"
      ],
      "metadata": {
        "colab": {
          "base_uri": "https://localhost:8080/"
        },
        "id": "sEnwmK0e1dka",
        "outputId": "3e2e748f-3b3e-49b9-b179-fd1d5dac3448"
      },
      "execution_count": 21,
      "outputs": [
        {
          "output_type": "stream",
          "name": "stdout",
          "text": [
            "Limite Superior: 92.5\n",
            "Limite Inferior: 2.5\n"
          ]
        }
      ]
    },
    {
      "cell_type": "code",
      "source": [
        "if limite_superior < max(tempo_entrega) or limite_inferior > min(tempo_entrega):\n",
        "    print(\"Há valores que podem ser considerados outliers neste conjunto de dados.\")\n",
        "else:\n",
        "    print(\"Não há valores que possam ser considerados outliers neste conjunto de dados.\")"
      ],
      "metadata": {
        "colab": {
          "base_uri": "https://localhost:8080/"
        },
        "id": "9eJ3VOZM43nq",
        "outputId": "d0ade4da-cd42-47b7-d36d-882a14d3c941"
      },
      "execution_count": 26,
      "outputs": [
        {
          "output_type": "stream",
          "name": "stdout",
          "text": [
            "Não há valores que possam ser considerados outliers neste conjunto de dados.\n"
          ]
        }
      ]
    },
    {
      "cell_type": "markdown",
      "source": [
        "---\n",
        "### Exercício 2 – Amplitude e Dispersão dos Dados\n",
        "\n",
        "Considere os salários mensais (em R$) de um grupo de funcionários:\n",
        "\n",
        "\n",
        "```Python\n",
        "salario = [2500, 2800, 3200, 4000, 5000, 10000]\n",
        "```\n",
        "\n",
        "1. Calcule a amplitude total (diferença entre o maior e o menor valor).\n",
        "2. Qual interpretação pode ser feita com base nessa amplitude?"
      ],
      "metadata": {
        "id": "XcmwrQVS6RwF"
      }
    },
    {
      "cell_type": "code",
      "source": [
        "salario = [2500, 2800, 3200, 4000, 5000, 10000]"
      ],
      "metadata": {
        "id": "PvcYI_sF7sCK"
      },
      "execution_count": 30,
      "outputs": []
    },
    {
      "cell_type": "code",
      "source": [
        "## 1.Calcule a amplitude total (diferença entre o maior e o menor valor).\n",
        "\n",
        "amplitude = max(salario) - min(salario)\n",
        "print(f\"Amplitude: {amplitude}\")"
      ],
      "metadata": {
        "colab": {
          "base_uri": "https://localhost:8080/"
        },
        "id": "cdxtdavo9rGk",
        "outputId": "3e283d38-7771-4633-ca25-a63499d955e6"
      },
      "execution_count": 31,
      "outputs": [
        {
          "output_type": "stream",
          "name": "stdout",
          "text": [
            "Amplitude: 7500\n"
          ]
        }
      ]
    },
    {
      "cell_type": "code",
      "source": [
        "## 2. Qual interpretação pode ser feita com base nessa amplitude?\n",
        "\n",
        "'''\n",
        "Alta amplitude indica grande desigualdade salarial. Pode ser necessário verificar outliers ou distribuir os\n",
        "dados em grupos.\n",
        "'''\n"
      ],
      "metadata": {
        "colab": {
          "base_uri": "https://localhost:8080/"
        },
        "id": "4STGKDnRBhM8",
        "outputId": "4cceec79-5d9a-4398-df91-49f5b3f60402"
      },
      "execution_count": null,
      "outputs": [
        {
          "output_type": "stream",
          "name": "stdout",
          "text": [
            "Média Ponderada: 7.75\n"
          ]
        }
      ]
    },
    {
      "cell_type": "markdown",
      "source": [
        "### Exercício 3 – Média Recortada\n",
        "\n",
        "Considere os dados de notas de alunos em um exame:\n",
        "\n",
        "```Python\n",
        "notas = [55, 60, 70, 75, 80, 85, 90, 95, 100, 200]\n",
        "```\n",
        "\n",
        "* 📌 Passo 1: Calcule a média aritmética normal.\n",
        "* 📌 Passo 2: Remova 10% dos valores mais extremos e\n",
        "calcule a média recortada.\n",
        "\n",
        "<br>\n",
        "\n",
        "Perguntas:\n",
        "1. Qual a diferença entre a média normal e a média\n",
        "recortada?\n",
        "2. Qual métrica é mais representativa  nesse caso?"
      ],
      "metadata": {
        "id": "jAe3d7bZEnKM"
      }
    },
    {
      "cell_type": "code",
      "source": [
        "## 1. Qual a diferença entre a média normal e a média recortada?\n",
        "\n",
        "notas = [55, 60, 70, 75, 80, 85, 90, 95, 100, 200]\n",
        "\n",
        "media = np.mean(notas)\n",
        "mediana = np.median(notas)\n",
        "\n",
        "# Remove os 10% de valores de cada extremidade e calcula a média.\n",
        "# O 'proportiontocut' é a porcentagem total a ser removida (10% de cada lado).\n",
        "# Portanto, para remover 10% no total, usamos 0.10.\n",
        "media_aparada =stats.trim_mean(notas, proportiontocut=0.2)\n"
      ],
      "metadata": {
        "id": "8ZwrzQGMFYWs"
      },
      "execution_count": null,
      "outputs": []
    },
    {
      "cell_type": "code",
      "source": [
        "print(f\"Média: {media:.2f}\")\n",
        "print(f\"Mediana: {mediana:.2f}\")\n",
        "print(f\"Média (10% removidos): {media_aparada:.2f}\")"
      ],
      "metadata": {
        "colab": {
          "base_uri": "https://localhost:8080/"
        },
        "id": "7JLJ9LImJbz0",
        "outputId": "f4d02cc7-bd53-4403-cdc6-12242263ceff"
      },
      "execution_count": null,
      "outputs": [
        {
          "output_type": "stream",
          "name": "stdout",
          "text": [
            "Média: 91.00\n",
            "Mediana: 82.50\n",
            "Média (10% removidos): 82.50\n"
          ]
        }
      ]
    },
    {
      "cell_type": "code",
      "source": [
        "## 2. Qual métrica é mais representativa nesse caso?\n",
        "\n",
        "'''\n",
        "A média recortada reduz o impacto dos outliers.\n",
        "'''"
      ],
      "metadata": {
        "id": "-MVk4aEzLDGt"
      },
      "execution_count": null,
      "outputs": []
    },
    {
      "cell_type": "markdown",
      "source": [
        "### Exercício 4 – Mediana em Séries Temporais\n",
        "\n",
        "Em uma análise financeira, temos o seguinte conjunto de\n",
        "preços de uma ação ao longo de 10 dias:\n",
        "\n",
        "```Python\n",
        "precos = [105, 107, 110, 115, 120, 200, 130, 128, 126, 125]\n",
        "\n",
        "```\n",
        "\n",
        "* 📌 Passo 1: Calcule a mediana de todos os valores.\n",
        "* 📌 Passo 2: Calcule a mediana móvel com uma janela de 3 dias.\n",
        "\n",
        "<br>\n",
        "\n",
        "Perguntas:\n",
        "\n",
        "1. Como a mediana móvel suaviza os valores da série?\n",
        "2. O valor 200 influencia a mediana móvel?\n"
      ],
      "metadata": {
        "id": "VVMosYXCPDpA"
      }
    },
    {
      "cell_type": "code",
      "source": [
        "precos = [105, 107, 110, 115, 120, 200, 130, 128, 126, 125]\n",
        "\n",
        "mediana = np.median(precos)\n",
        "print(f\"A mediana de todos os valores é: {mediana}\")"
      ],
      "metadata": {
        "colab": {
          "base_uri": "https://localhost:8080/"
        },
        "id": "BNtOtiHiWFtB",
        "outputId": "f3658456-16d5-4b08-e3b6-7f3247aa058f"
      },
      "execution_count": null,
      "outputs": [
        {
          "output_type": "stream",
          "name": "stdout",
          "text": [
            "A mediana de todos os valores é: 122.5\n"
          ]
        }
      ]
    },
    {
      "cell_type": "code",
      "source": [
        "janela = 3\n",
        "mediana_movel = []\n",
        "\n",
        "for i in range(len(precos)-janela+1):\n",
        "    subconjunto = precos[i:i+janela]\n",
        "    mediana_movel.append(np.median(subconjunto))\n",
        "\n",
        "for y in range(len(mediana_movel)):\n",
        "    print(f\"A mediana móvel com uma janela de {janela} dias (Nº{y+1}): {mediana_movel[y]}\")\n"
      ],
      "metadata": {
        "colab": {
          "base_uri": "https://localhost:8080/"
        },
        "id": "Gxxm49wfXt0V",
        "outputId": "e61a1a22-a11b-450f-cd91-5143edeac9fc"
      },
      "execution_count": null,
      "outputs": [
        {
          "output_type": "stream",
          "name": "stdout",
          "text": [
            "A mediana móvel com uma janela de 3 dias (Nº1): 107.0\n",
            "A mediana móvel com uma janela de 3 dias (Nº2): 110.0\n",
            "A mediana móvel com uma janela de 3 dias (Nº3): 115.0\n",
            "A mediana móvel com uma janela de 3 dias (Nº4): 120.0\n",
            "A mediana móvel com uma janela de 3 dias (Nº5): 130.0\n",
            "A mediana móvel com uma janela de 3 dias (Nº6): 130.0\n",
            "A mediana móvel com uma janela de 3 dias (Nº7): 128.0\n",
            "A mediana móvel com uma janela de 3 dias (Nº8): 126.0\n"
          ]
        }
      ]
    },
    {
      "cell_type": "code",
      "source": [
        "'''\n",
        "mediana_movel = np.convolve(precos, np.ones(janela)/janela, mode='valid')\n",
        "print(f\"A mediana móvel com uma janela de {janela} dias é: {mediana_movel}\")'\n",
        "\n",
        "'''"
      ],
      "metadata": {
        "id": "mDO64E6yX7d0"
      },
      "execution_count": null,
      "outputs": []
    },
    {
      "cell_type": "markdown",
      "source": [
        "\n",
        "**1. Como a mediana móvel suaviza os valores da série?**\n",
        "\n",
        "A mediana móvel suaviza a série temporal ao remover flutuações e ruídos de curto prazo, pois, em vez de considerar apenas um ponto de dado por vez, ela o substitui pela mediana de um grupo de pontos adjacentes. Isso tem o efeito de \"filtrar\" picos e quedas repentinas. Comparando a série original com a série da mediana móvel, é possível notar que as mudanças entre os valores consecutivos são menos abruptas, resultando em uma tendência mais clara e menos volátil.\n",
        "\n",
        "<br>\n",
        "\n",
        "**2. O valor 200 influencia a mediana móvel?**\n",
        "\n",
        "Sim, o valor 200, que é um pico atípico (um *outlier*), influencia a mediana móvel, mas de uma forma menos dramática do que influenciaria a média móvel. Como a mediana é resistente a *outliers*, ela substitui o valor extremo pelo valor central do subconjunto, que é muito mais próximo do restante dos dados.\n",
        "\n",
        "Vamos analisar as janelas que incluem o valor 200:\n",
        "* **Janela 4:** `[115, 120, 200]` -> Mediana: **120**\n",
        "* **Janela 5:** `[120, 200, 130]` -> Mediana: **130**\n",
        "* **Janela 6:** `[200, 130, 128]` -> Mediana: **130**\n",
        "\n",
        "<br>\n",
        "\n",
        "Apesar de o valor 200 estar presente, a mediana para essas janelas fica entre 120 e 130, que são valores consistentes com a tendência geral da série. Se fosse utilizada a média móvel, o valor 200 causaria um pico muito mais pronunciado na série suavizada, distorcendo a tendência. Portanto, a mediana móvel é eficaz em suavizar a série e mitigar a influência de valores extremos como o 200."
      ],
      "metadata": {
        "id": "dsSOi5H1dbq7"
      }
    },
    {
      "cell_type": "markdown",
      "source": [
        "### Exercício 5 – Tratamento de Valores\n",
        "\n",
        "```Python\n",
        "salario = [3500, 4000, None, 5000, 3000, 4500, None, 4800]\n",
        "\n",
        "```\n",
        "<br>\n",
        "\n",
        "* 📌 Passo 1: Substitua os valores ausentes pela média dos\n",
        "salários.\n",
        "* 📌 Passo 2: Agora, substitua os valores ausentes pela\n",
        "mediana dos salários.\n",
        "* 📌 Passo 3: Compare os dois métodos de\n",
        "preenchimento.\n",
        "\n",
        "<br>\n",
        "\n",
        "Perguntas:\n",
        "1. Qual método é mais adequado se houver outliers no\n",
        "conjunto de dados?\n",
        "\n",
        "2. Como essa abordagem pode ser aplicada em modelos\n",
        "de machine learning?"
      ],
      "metadata": {
        "id": "jc6DwYLce6nW"
      }
    },
    {
      "cell_type": "code",
      "source": [
        "salario = [3500, 4000, None, 5000, 3000, 4500, None, 4800]"
      ],
      "metadata": {
        "id": "ur8t8Idyij1t"
      },
      "execution_count": null,
      "outputs": []
    },
    {
      "cell_type": "code",
      "source": [
        "## Passo 1:\n",
        "\n",
        "df = pd.DataFrame(salario)\n",
        "df.head(3)"
      ],
      "metadata": {
        "colab": {
          "base_uri": "https://localhost:8080/",
          "height": 143
        },
        "id": "kDXDN_xminDH",
        "outputId": "6ecf9828-ba96-43e6-dc0d-d7efa3600f1e"
      },
      "execution_count": null,
      "outputs": [
        {
          "output_type": "execute_result",
          "data": {
            "text/plain": [
              "        0\n",
              "0  3500.0\n",
              "1  4000.0\n",
              "2     NaN"
            ],
            "text/html": [
              "\n",
              "  <div id=\"df-f6de4f59-11ba-479d-86ad-86e597fc8fcd\" class=\"colab-df-container\">\n",
              "    <div>\n",
              "<style scoped>\n",
              "    .dataframe tbody tr th:only-of-type {\n",
              "        vertical-align: middle;\n",
              "    }\n",
              "\n",
              "    .dataframe tbody tr th {\n",
              "        vertical-align: top;\n",
              "    }\n",
              "\n",
              "    .dataframe thead th {\n",
              "        text-align: right;\n",
              "    }\n",
              "</style>\n",
              "<table border=\"1\" class=\"dataframe\">\n",
              "  <thead>\n",
              "    <tr style=\"text-align: right;\">\n",
              "      <th></th>\n",
              "      <th>0</th>\n",
              "    </tr>\n",
              "  </thead>\n",
              "  <tbody>\n",
              "    <tr>\n",
              "      <th>0</th>\n",
              "      <td>3500.0</td>\n",
              "    </tr>\n",
              "    <tr>\n",
              "      <th>1</th>\n",
              "      <td>4000.0</td>\n",
              "    </tr>\n",
              "    <tr>\n",
              "      <th>2</th>\n",
              "      <td>NaN</td>\n",
              "    </tr>\n",
              "  </tbody>\n",
              "</table>\n",
              "</div>\n",
              "    <div class=\"colab-df-buttons\">\n",
              "\n",
              "  <div class=\"colab-df-container\">\n",
              "    <button class=\"colab-df-convert\" onclick=\"convertToInteractive('df-f6de4f59-11ba-479d-86ad-86e597fc8fcd')\"\n",
              "            title=\"Convert this dataframe to an interactive table.\"\n",
              "            style=\"display:none;\">\n",
              "\n",
              "  <svg xmlns=\"http://www.w3.org/2000/svg\" height=\"24px\" viewBox=\"0 -960 960 960\">\n",
              "    <path d=\"M120-120v-720h720v720H120Zm60-500h600v-160H180v160Zm220 220h160v-160H400v160Zm0 220h160v-160H400v160ZM180-400h160v-160H180v160Zm440 0h160v-160H620v160ZM180-180h160v-160H180v160Zm440 0h160v-160H620v160Z\"/>\n",
              "  </svg>\n",
              "    </button>\n",
              "\n",
              "  <style>\n",
              "    .colab-df-container {\n",
              "      display:flex;\n",
              "      gap: 12px;\n",
              "    }\n",
              "\n",
              "    .colab-df-convert {\n",
              "      background-color: #E8F0FE;\n",
              "      border: none;\n",
              "      border-radius: 50%;\n",
              "      cursor: pointer;\n",
              "      display: none;\n",
              "      fill: #1967D2;\n",
              "      height: 32px;\n",
              "      padding: 0 0 0 0;\n",
              "      width: 32px;\n",
              "    }\n",
              "\n",
              "    .colab-df-convert:hover {\n",
              "      background-color: #E2EBFA;\n",
              "      box-shadow: 0px 1px 2px rgba(60, 64, 67, 0.3), 0px 1px 3px 1px rgba(60, 64, 67, 0.15);\n",
              "      fill: #174EA6;\n",
              "    }\n",
              "\n",
              "    .colab-df-buttons div {\n",
              "      margin-bottom: 4px;\n",
              "    }\n",
              "\n",
              "    [theme=dark] .colab-df-convert {\n",
              "      background-color: #3B4455;\n",
              "      fill: #D2E3FC;\n",
              "    }\n",
              "\n",
              "    [theme=dark] .colab-df-convert:hover {\n",
              "      background-color: #434B5C;\n",
              "      box-shadow: 0px 1px 3px 1px rgba(0, 0, 0, 0.15);\n",
              "      filter: drop-shadow(0px 1px 2px rgba(0, 0, 0, 0.3));\n",
              "      fill: #FFFFFF;\n",
              "    }\n",
              "  </style>\n",
              "\n",
              "    <script>\n",
              "      const buttonEl =\n",
              "        document.querySelector('#df-f6de4f59-11ba-479d-86ad-86e597fc8fcd button.colab-df-convert');\n",
              "      buttonEl.style.display =\n",
              "        google.colab.kernel.accessAllowed ? 'block' : 'none';\n",
              "\n",
              "      async function convertToInteractive(key) {\n",
              "        const element = document.querySelector('#df-f6de4f59-11ba-479d-86ad-86e597fc8fcd');\n",
              "        const dataTable =\n",
              "          await google.colab.kernel.invokeFunction('convertToInteractive',\n",
              "                                                    [key], {});\n",
              "        if (!dataTable) return;\n",
              "\n",
              "        const docLinkHtml = 'Like what you see? Visit the ' +\n",
              "          '<a target=\"_blank\" href=https://colab.research.google.com/notebooks/data_table.ipynb>data table notebook</a>'\n",
              "          + ' to learn more about interactive tables.';\n",
              "        element.innerHTML = '';\n",
              "        dataTable['output_type'] = 'display_data';\n",
              "        await google.colab.output.renderOutput(dataTable, element);\n",
              "        const docLink = document.createElement('div');\n",
              "        docLink.innerHTML = docLinkHtml;\n",
              "        element.appendChild(docLink);\n",
              "      }\n",
              "    </script>\n",
              "  </div>\n",
              "\n",
              "\n",
              "    <div id=\"df-e14eec23-8b97-4303-bf40-c8aa73ebccd7\">\n",
              "      <button class=\"colab-df-quickchart\" onclick=\"quickchart('df-e14eec23-8b97-4303-bf40-c8aa73ebccd7')\"\n",
              "                title=\"Suggest charts\"\n",
              "                style=\"display:none;\">\n",
              "\n",
              "<svg xmlns=\"http://www.w3.org/2000/svg\" height=\"24px\"viewBox=\"0 0 24 24\"\n",
              "     width=\"24px\">\n",
              "    <g>\n",
              "        <path d=\"M19 3H5c-1.1 0-2 .9-2 2v14c0 1.1.9 2 2 2h14c1.1 0 2-.9 2-2V5c0-1.1-.9-2-2-2zM9 17H7v-7h2v7zm4 0h-2V7h2v10zm4 0h-2v-4h2v4z\"/>\n",
              "    </g>\n",
              "</svg>\n",
              "      </button>\n",
              "\n",
              "<style>\n",
              "  .colab-df-quickchart {\n",
              "      --bg-color: #E8F0FE;\n",
              "      --fill-color: #1967D2;\n",
              "      --hover-bg-color: #E2EBFA;\n",
              "      --hover-fill-color: #174EA6;\n",
              "      --disabled-fill-color: #AAA;\n",
              "      --disabled-bg-color: #DDD;\n",
              "  }\n",
              "\n",
              "  [theme=dark] .colab-df-quickchart {\n",
              "      --bg-color: #3B4455;\n",
              "      --fill-color: #D2E3FC;\n",
              "      --hover-bg-color: #434B5C;\n",
              "      --hover-fill-color: #FFFFFF;\n",
              "      --disabled-bg-color: #3B4455;\n",
              "      --disabled-fill-color: #666;\n",
              "  }\n",
              "\n",
              "  .colab-df-quickchart {\n",
              "    background-color: var(--bg-color);\n",
              "    border: none;\n",
              "    border-radius: 50%;\n",
              "    cursor: pointer;\n",
              "    display: none;\n",
              "    fill: var(--fill-color);\n",
              "    height: 32px;\n",
              "    padding: 0;\n",
              "    width: 32px;\n",
              "  }\n",
              "\n",
              "  .colab-df-quickchart:hover {\n",
              "    background-color: var(--hover-bg-color);\n",
              "    box-shadow: 0 1px 2px rgba(60, 64, 67, 0.3), 0 1px 3px 1px rgba(60, 64, 67, 0.15);\n",
              "    fill: var(--button-hover-fill-color);\n",
              "  }\n",
              "\n",
              "  .colab-df-quickchart-complete:disabled,\n",
              "  .colab-df-quickchart-complete:disabled:hover {\n",
              "    background-color: var(--disabled-bg-color);\n",
              "    fill: var(--disabled-fill-color);\n",
              "    box-shadow: none;\n",
              "  }\n",
              "\n",
              "  .colab-df-spinner {\n",
              "    border: 2px solid var(--fill-color);\n",
              "    border-color: transparent;\n",
              "    border-bottom-color: var(--fill-color);\n",
              "    animation:\n",
              "      spin 1s steps(1) infinite;\n",
              "  }\n",
              "\n",
              "  @keyframes spin {\n",
              "    0% {\n",
              "      border-color: transparent;\n",
              "      border-bottom-color: var(--fill-color);\n",
              "      border-left-color: var(--fill-color);\n",
              "    }\n",
              "    20% {\n",
              "      border-color: transparent;\n",
              "      border-left-color: var(--fill-color);\n",
              "      border-top-color: var(--fill-color);\n",
              "    }\n",
              "    30% {\n",
              "      border-color: transparent;\n",
              "      border-left-color: var(--fill-color);\n",
              "      border-top-color: var(--fill-color);\n",
              "      border-right-color: var(--fill-color);\n",
              "    }\n",
              "    40% {\n",
              "      border-color: transparent;\n",
              "      border-right-color: var(--fill-color);\n",
              "      border-top-color: var(--fill-color);\n",
              "    }\n",
              "    60% {\n",
              "      border-color: transparent;\n",
              "      border-right-color: var(--fill-color);\n",
              "    }\n",
              "    80% {\n",
              "      border-color: transparent;\n",
              "      border-right-color: var(--fill-color);\n",
              "      border-bottom-color: var(--fill-color);\n",
              "    }\n",
              "    90% {\n",
              "      border-color: transparent;\n",
              "      border-bottom-color: var(--fill-color);\n",
              "    }\n",
              "  }\n",
              "</style>\n",
              "\n",
              "      <script>\n",
              "        async function quickchart(key) {\n",
              "          const quickchartButtonEl =\n",
              "            document.querySelector('#' + key + ' button');\n",
              "          quickchartButtonEl.disabled = true;  // To prevent multiple clicks.\n",
              "          quickchartButtonEl.classList.add('colab-df-spinner');\n",
              "          try {\n",
              "            const charts = await google.colab.kernel.invokeFunction(\n",
              "                'suggestCharts', [key], {});\n",
              "          } catch (error) {\n",
              "            console.error('Error during call to suggestCharts:', error);\n",
              "          }\n",
              "          quickchartButtonEl.classList.remove('colab-df-spinner');\n",
              "          quickchartButtonEl.classList.add('colab-df-quickchart-complete');\n",
              "        }\n",
              "        (() => {\n",
              "          let quickchartButtonEl =\n",
              "            document.querySelector('#df-e14eec23-8b97-4303-bf40-c8aa73ebccd7 button');\n",
              "          quickchartButtonEl.style.display =\n",
              "            google.colab.kernel.accessAllowed ? 'block' : 'none';\n",
              "        })();\n",
              "      </script>\n",
              "    </div>\n",
              "\n",
              "    </div>\n",
              "  </div>\n"
            ],
            "application/vnd.google.colaboratory.intrinsic+json": {
              "type": "dataframe",
              "variable_name": "df",
              "summary": "{\n  \"name\": \"df\",\n  \"rows\": 8,\n  \"fields\": [\n    {\n      \"column\": 0,\n      \"properties\": {\n        \"dtype\": \"number\",\n        \"std\": 778.8880963698615,\n        \"min\": 3000.0,\n        \"max\": 5000.0,\n        \"num_unique_values\": 6,\n        \"samples\": [\n          3500.0,\n          4000.0,\n          4800.0\n        ],\n        \"semantic_type\": \"\",\n        \"description\": \"\"\n      }\n    }\n  ]\n}"
            }
          },
          "metadata": {},
          "execution_count": 66
        }
      ]
    },
    {
      "cell_type": "code",
      "source": [
        "media = df.mean()\n",
        "df.fillna(media, inplace=True)\n",
        "df.head(3)"
      ],
      "metadata": {
        "colab": {
          "base_uri": "https://localhost:8080/",
          "height": 143
        },
        "id": "vPrjROXejflJ",
        "outputId": "4d57ecff-8e3c-470a-a282-341afce3aa60"
      },
      "execution_count": null,
      "outputs": [
        {
          "output_type": "execute_result",
          "data": {
            "text/plain": [
              "             0\n",
              "0  3500.000000\n",
              "1  4000.000000\n",
              "2  4133.333333"
            ],
            "text/html": [
              "\n",
              "  <div id=\"df-39e2e8e2-db92-4fe9-ad26-a3d6ffde4131\" class=\"colab-df-container\">\n",
              "    <div>\n",
              "<style scoped>\n",
              "    .dataframe tbody tr th:only-of-type {\n",
              "        vertical-align: middle;\n",
              "    }\n",
              "\n",
              "    .dataframe tbody tr th {\n",
              "        vertical-align: top;\n",
              "    }\n",
              "\n",
              "    .dataframe thead th {\n",
              "        text-align: right;\n",
              "    }\n",
              "</style>\n",
              "<table border=\"1\" class=\"dataframe\">\n",
              "  <thead>\n",
              "    <tr style=\"text-align: right;\">\n",
              "      <th></th>\n",
              "      <th>0</th>\n",
              "    </tr>\n",
              "  </thead>\n",
              "  <tbody>\n",
              "    <tr>\n",
              "      <th>0</th>\n",
              "      <td>3500.000000</td>\n",
              "    </tr>\n",
              "    <tr>\n",
              "      <th>1</th>\n",
              "      <td>4000.000000</td>\n",
              "    </tr>\n",
              "    <tr>\n",
              "      <th>2</th>\n",
              "      <td>4133.333333</td>\n",
              "    </tr>\n",
              "  </tbody>\n",
              "</table>\n",
              "</div>\n",
              "    <div class=\"colab-df-buttons\">\n",
              "\n",
              "  <div class=\"colab-df-container\">\n",
              "    <button class=\"colab-df-convert\" onclick=\"convertToInteractive('df-39e2e8e2-db92-4fe9-ad26-a3d6ffde4131')\"\n",
              "            title=\"Convert this dataframe to an interactive table.\"\n",
              "            style=\"display:none;\">\n",
              "\n",
              "  <svg xmlns=\"http://www.w3.org/2000/svg\" height=\"24px\" viewBox=\"0 -960 960 960\">\n",
              "    <path d=\"M120-120v-720h720v720H120Zm60-500h600v-160H180v160Zm220 220h160v-160H400v160Zm0 220h160v-160H400v160ZM180-400h160v-160H180v160Zm440 0h160v-160H620v160ZM180-180h160v-160H180v160Zm440 0h160v-160H620v160Z\"/>\n",
              "  </svg>\n",
              "    </button>\n",
              "\n",
              "  <style>\n",
              "    .colab-df-container {\n",
              "      display:flex;\n",
              "      gap: 12px;\n",
              "    }\n",
              "\n",
              "    .colab-df-convert {\n",
              "      background-color: #E8F0FE;\n",
              "      border: none;\n",
              "      border-radius: 50%;\n",
              "      cursor: pointer;\n",
              "      display: none;\n",
              "      fill: #1967D2;\n",
              "      height: 32px;\n",
              "      padding: 0 0 0 0;\n",
              "      width: 32px;\n",
              "    }\n",
              "\n",
              "    .colab-df-convert:hover {\n",
              "      background-color: #E2EBFA;\n",
              "      box-shadow: 0px 1px 2px rgba(60, 64, 67, 0.3), 0px 1px 3px 1px rgba(60, 64, 67, 0.15);\n",
              "      fill: #174EA6;\n",
              "    }\n",
              "\n",
              "    .colab-df-buttons div {\n",
              "      margin-bottom: 4px;\n",
              "    }\n",
              "\n",
              "    [theme=dark] .colab-df-convert {\n",
              "      background-color: #3B4455;\n",
              "      fill: #D2E3FC;\n",
              "    }\n",
              "\n",
              "    [theme=dark] .colab-df-convert:hover {\n",
              "      background-color: #434B5C;\n",
              "      box-shadow: 0px 1px 3px 1px rgba(0, 0, 0, 0.15);\n",
              "      filter: drop-shadow(0px 1px 2px rgba(0, 0, 0, 0.3));\n",
              "      fill: #FFFFFF;\n",
              "    }\n",
              "  </style>\n",
              "\n",
              "    <script>\n",
              "      const buttonEl =\n",
              "        document.querySelector('#df-39e2e8e2-db92-4fe9-ad26-a3d6ffde4131 button.colab-df-convert');\n",
              "      buttonEl.style.display =\n",
              "        google.colab.kernel.accessAllowed ? 'block' : 'none';\n",
              "\n",
              "      async function convertToInteractive(key) {\n",
              "        const element = document.querySelector('#df-39e2e8e2-db92-4fe9-ad26-a3d6ffde4131');\n",
              "        const dataTable =\n",
              "          await google.colab.kernel.invokeFunction('convertToInteractive',\n",
              "                                                    [key], {});\n",
              "        if (!dataTable) return;\n",
              "\n",
              "        const docLinkHtml = 'Like what you see? Visit the ' +\n",
              "          '<a target=\"_blank\" href=https://colab.research.google.com/notebooks/data_table.ipynb>data table notebook</a>'\n",
              "          + ' to learn more about interactive tables.';\n",
              "        element.innerHTML = '';\n",
              "        dataTable['output_type'] = 'display_data';\n",
              "        await google.colab.output.renderOutput(dataTable, element);\n",
              "        const docLink = document.createElement('div');\n",
              "        docLink.innerHTML = docLinkHtml;\n",
              "        element.appendChild(docLink);\n",
              "      }\n",
              "    </script>\n",
              "  </div>\n",
              "\n",
              "\n",
              "    <div id=\"df-683dea8f-bc4a-49f0-b74e-ccaaff49d5a4\">\n",
              "      <button class=\"colab-df-quickchart\" onclick=\"quickchart('df-683dea8f-bc4a-49f0-b74e-ccaaff49d5a4')\"\n",
              "                title=\"Suggest charts\"\n",
              "                style=\"display:none;\">\n",
              "\n",
              "<svg xmlns=\"http://www.w3.org/2000/svg\" height=\"24px\"viewBox=\"0 0 24 24\"\n",
              "     width=\"24px\">\n",
              "    <g>\n",
              "        <path d=\"M19 3H5c-1.1 0-2 .9-2 2v14c0 1.1.9 2 2 2h14c1.1 0 2-.9 2-2V5c0-1.1-.9-2-2-2zM9 17H7v-7h2v7zm4 0h-2V7h2v10zm4 0h-2v-4h2v4z\"/>\n",
              "    </g>\n",
              "</svg>\n",
              "      </button>\n",
              "\n",
              "<style>\n",
              "  .colab-df-quickchart {\n",
              "      --bg-color: #E8F0FE;\n",
              "      --fill-color: #1967D2;\n",
              "      --hover-bg-color: #E2EBFA;\n",
              "      --hover-fill-color: #174EA6;\n",
              "      --disabled-fill-color: #AAA;\n",
              "      --disabled-bg-color: #DDD;\n",
              "  }\n",
              "\n",
              "  [theme=dark] .colab-df-quickchart {\n",
              "      --bg-color: #3B4455;\n",
              "      --fill-color: #D2E3FC;\n",
              "      --hover-bg-color: #434B5C;\n",
              "      --hover-fill-color: #FFFFFF;\n",
              "      --disabled-bg-color: #3B4455;\n",
              "      --disabled-fill-color: #666;\n",
              "  }\n",
              "\n",
              "  .colab-df-quickchart {\n",
              "    background-color: var(--bg-color);\n",
              "    border: none;\n",
              "    border-radius: 50%;\n",
              "    cursor: pointer;\n",
              "    display: none;\n",
              "    fill: var(--fill-color);\n",
              "    height: 32px;\n",
              "    padding: 0;\n",
              "    width: 32px;\n",
              "  }\n",
              "\n",
              "  .colab-df-quickchart:hover {\n",
              "    background-color: var(--hover-bg-color);\n",
              "    box-shadow: 0 1px 2px rgba(60, 64, 67, 0.3), 0 1px 3px 1px rgba(60, 64, 67, 0.15);\n",
              "    fill: var(--button-hover-fill-color);\n",
              "  }\n",
              "\n",
              "  .colab-df-quickchart-complete:disabled,\n",
              "  .colab-df-quickchart-complete:disabled:hover {\n",
              "    background-color: var(--disabled-bg-color);\n",
              "    fill: var(--disabled-fill-color);\n",
              "    box-shadow: none;\n",
              "  }\n",
              "\n",
              "  .colab-df-spinner {\n",
              "    border: 2px solid var(--fill-color);\n",
              "    border-color: transparent;\n",
              "    border-bottom-color: var(--fill-color);\n",
              "    animation:\n",
              "      spin 1s steps(1) infinite;\n",
              "  }\n",
              "\n",
              "  @keyframes spin {\n",
              "    0% {\n",
              "      border-color: transparent;\n",
              "      border-bottom-color: var(--fill-color);\n",
              "      border-left-color: var(--fill-color);\n",
              "    }\n",
              "    20% {\n",
              "      border-color: transparent;\n",
              "      border-left-color: var(--fill-color);\n",
              "      border-top-color: var(--fill-color);\n",
              "    }\n",
              "    30% {\n",
              "      border-color: transparent;\n",
              "      border-left-color: var(--fill-color);\n",
              "      border-top-color: var(--fill-color);\n",
              "      border-right-color: var(--fill-color);\n",
              "    }\n",
              "    40% {\n",
              "      border-color: transparent;\n",
              "      border-right-color: var(--fill-color);\n",
              "      border-top-color: var(--fill-color);\n",
              "    }\n",
              "    60% {\n",
              "      border-color: transparent;\n",
              "      border-right-color: var(--fill-color);\n",
              "    }\n",
              "    80% {\n",
              "      border-color: transparent;\n",
              "      border-right-color: var(--fill-color);\n",
              "      border-bottom-color: var(--fill-color);\n",
              "    }\n",
              "    90% {\n",
              "      border-color: transparent;\n",
              "      border-bottom-color: var(--fill-color);\n",
              "    }\n",
              "  }\n",
              "</style>\n",
              "\n",
              "      <script>\n",
              "        async function quickchart(key) {\n",
              "          const quickchartButtonEl =\n",
              "            document.querySelector('#' + key + ' button');\n",
              "          quickchartButtonEl.disabled = true;  // To prevent multiple clicks.\n",
              "          quickchartButtonEl.classList.add('colab-df-spinner');\n",
              "          try {\n",
              "            const charts = await google.colab.kernel.invokeFunction(\n",
              "                'suggestCharts', [key], {});\n",
              "          } catch (error) {\n",
              "            console.error('Error during call to suggestCharts:', error);\n",
              "          }\n",
              "          quickchartButtonEl.classList.remove('colab-df-spinner');\n",
              "          quickchartButtonEl.classList.add('colab-df-quickchart-complete');\n",
              "        }\n",
              "        (() => {\n",
              "          let quickchartButtonEl =\n",
              "            document.querySelector('#df-683dea8f-bc4a-49f0-b74e-ccaaff49d5a4 button');\n",
              "          quickchartButtonEl.style.display =\n",
              "            google.colab.kernel.accessAllowed ? 'block' : 'none';\n",
              "        })();\n",
              "      </script>\n",
              "    </div>\n",
              "\n",
              "    </div>\n",
              "  </div>\n"
            ],
            "application/vnd.google.colaboratory.intrinsic+json": {
              "type": "dataframe",
              "variable_name": "df",
              "summary": "{\n  \"name\": \"df\",\n  \"rows\": 8,\n  \"fields\": [\n    {\n      \"column\": 0,\n      \"properties\": {\n        \"dtype\": \"number\",\n        \"std\": 658.2805886043833,\n        \"min\": 3000.0,\n        \"max\": 5000.0,\n        \"num_unique_values\": 7,\n        \"samples\": [\n          3500.0,\n          4000.0,\n          4500.0\n        ],\n        \"semantic_type\": \"\",\n        \"description\": \"\"\n      }\n    }\n  ]\n}"
            }
          },
          "metadata": {},
          "execution_count": 68
        }
      ]
    },
    {
      "cell_type": "code",
      "source": [
        "## Passo 2:\n",
        "\n",
        "salario = [3500, 4000, None, 5000, 3000, 4500, None, 4800]\n",
        "\n",
        "df = pd.DataFrame(salario)\n",
        "mediana = df.median()\n",
        "\n",
        "df.fillna(mediana, inplace=True)\n",
        "df.head(3)"
      ],
      "metadata": {
        "colab": {
          "base_uri": "https://localhost:8080/",
          "height": 143
        },
        "id": "3nDMxTrFj7cE",
        "outputId": "459828f0-945e-4cce-b3c1-611d48c3765b"
      },
      "execution_count": null,
      "outputs": [
        {
          "output_type": "execute_result",
          "data": {
            "text/plain": [
              "        0\n",
              "0  3500.0\n",
              "1  4000.0\n",
              "2  4250.0"
            ],
            "text/html": [
              "\n",
              "  <div id=\"df-8f76b42f-c2e7-4bd9-8f04-ceafe31ab123\" class=\"colab-df-container\">\n",
              "    <div>\n",
              "<style scoped>\n",
              "    .dataframe tbody tr th:only-of-type {\n",
              "        vertical-align: middle;\n",
              "    }\n",
              "\n",
              "    .dataframe tbody tr th {\n",
              "        vertical-align: top;\n",
              "    }\n",
              "\n",
              "    .dataframe thead th {\n",
              "        text-align: right;\n",
              "    }\n",
              "</style>\n",
              "<table border=\"1\" class=\"dataframe\">\n",
              "  <thead>\n",
              "    <tr style=\"text-align: right;\">\n",
              "      <th></th>\n",
              "      <th>0</th>\n",
              "    </tr>\n",
              "  </thead>\n",
              "  <tbody>\n",
              "    <tr>\n",
              "      <th>0</th>\n",
              "      <td>3500.0</td>\n",
              "    </tr>\n",
              "    <tr>\n",
              "      <th>1</th>\n",
              "      <td>4000.0</td>\n",
              "    </tr>\n",
              "    <tr>\n",
              "      <th>2</th>\n",
              "      <td>4250.0</td>\n",
              "    </tr>\n",
              "  </tbody>\n",
              "</table>\n",
              "</div>\n",
              "    <div class=\"colab-df-buttons\">\n",
              "\n",
              "  <div class=\"colab-df-container\">\n",
              "    <button class=\"colab-df-convert\" onclick=\"convertToInteractive('df-8f76b42f-c2e7-4bd9-8f04-ceafe31ab123')\"\n",
              "            title=\"Convert this dataframe to an interactive table.\"\n",
              "            style=\"display:none;\">\n",
              "\n",
              "  <svg xmlns=\"http://www.w3.org/2000/svg\" height=\"24px\" viewBox=\"0 -960 960 960\">\n",
              "    <path d=\"M120-120v-720h720v720H120Zm60-500h600v-160H180v160Zm220 220h160v-160H400v160Zm0 220h160v-160H400v160ZM180-400h160v-160H180v160Zm440 0h160v-160H620v160ZM180-180h160v-160H180v160Zm440 0h160v-160H620v160Z\"/>\n",
              "  </svg>\n",
              "    </button>\n",
              "\n",
              "  <style>\n",
              "    .colab-df-container {\n",
              "      display:flex;\n",
              "      gap: 12px;\n",
              "    }\n",
              "\n",
              "    .colab-df-convert {\n",
              "      background-color: #E8F0FE;\n",
              "      border: none;\n",
              "      border-radius: 50%;\n",
              "      cursor: pointer;\n",
              "      display: none;\n",
              "      fill: #1967D2;\n",
              "      height: 32px;\n",
              "      padding: 0 0 0 0;\n",
              "      width: 32px;\n",
              "    }\n",
              "\n",
              "    .colab-df-convert:hover {\n",
              "      background-color: #E2EBFA;\n",
              "      box-shadow: 0px 1px 2px rgba(60, 64, 67, 0.3), 0px 1px 3px 1px rgba(60, 64, 67, 0.15);\n",
              "      fill: #174EA6;\n",
              "    }\n",
              "\n",
              "    .colab-df-buttons div {\n",
              "      margin-bottom: 4px;\n",
              "    }\n",
              "\n",
              "    [theme=dark] .colab-df-convert {\n",
              "      background-color: #3B4455;\n",
              "      fill: #D2E3FC;\n",
              "    }\n",
              "\n",
              "    [theme=dark] .colab-df-convert:hover {\n",
              "      background-color: #434B5C;\n",
              "      box-shadow: 0px 1px 3px 1px rgba(0, 0, 0, 0.15);\n",
              "      filter: drop-shadow(0px 1px 2px rgba(0, 0, 0, 0.3));\n",
              "      fill: #FFFFFF;\n",
              "    }\n",
              "  </style>\n",
              "\n",
              "    <script>\n",
              "      const buttonEl =\n",
              "        document.querySelector('#df-8f76b42f-c2e7-4bd9-8f04-ceafe31ab123 button.colab-df-convert');\n",
              "      buttonEl.style.display =\n",
              "        google.colab.kernel.accessAllowed ? 'block' : 'none';\n",
              "\n",
              "      async function convertToInteractive(key) {\n",
              "        const element = document.querySelector('#df-8f76b42f-c2e7-4bd9-8f04-ceafe31ab123');\n",
              "        const dataTable =\n",
              "          await google.colab.kernel.invokeFunction('convertToInteractive',\n",
              "                                                    [key], {});\n",
              "        if (!dataTable) return;\n",
              "\n",
              "        const docLinkHtml = 'Like what you see? Visit the ' +\n",
              "          '<a target=\"_blank\" href=https://colab.research.google.com/notebooks/data_table.ipynb>data table notebook</a>'\n",
              "          + ' to learn more about interactive tables.';\n",
              "        element.innerHTML = '';\n",
              "        dataTable['output_type'] = 'display_data';\n",
              "        await google.colab.output.renderOutput(dataTable, element);\n",
              "        const docLink = document.createElement('div');\n",
              "        docLink.innerHTML = docLinkHtml;\n",
              "        element.appendChild(docLink);\n",
              "      }\n",
              "    </script>\n",
              "  </div>\n",
              "\n",
              "\n",
              "    <div id=\"df-6db0455c-0ab4-4cfe-b1eb-c32e12719b86\">\n",
              "      <button class=\"colab-df-quickchart\" onclick=\"quickchart('df-6db0455c-0ab4-4cfe-b1eb-c32e12719b86')\"\n",
              "                title=\"Suggest charts\"\n",
              "                style=\"display:none;\">\n",
              "\n",
              "<svg xmlns=\"http://www.w3.org/2000/svg\" height=\"24px\"viewBox=\"0 0 24 24\"\n",
              "     width=\"24px\">\n",
              "    <g>\n",
              "        <path d=\"M19 3H5c-1.1 0-2 .9-2 2v14c0 1.1.9 2 2 2h14c1.1 0 2-.9 2-2V5c0-1.1-.9-2-2-2zM9 17H7v-7h2v7zm4 0h-2V7h2v10zm4 0h-2v-4h2v4z\"/>\n",
              "    </g>\n",
              "</svg>\n",
              "      </button>\n",
              "\n",
              "<style>\n",
              "  .colab-df-quickchart {\n",
              "      --bg-color: #E8F0FE;\n",
              "      --fill-color: #1967D2;\n",
              "      --hover-bg-color: #E2EBFA;\n",
              "      --hover-fill-color: #174EA6;\n",
              "      --disabled-fill-color: #AAA;\n",
              "      --disabled-bg-color: #DDD;\n",
              "  }\n",
              "\n",
              "  [theme=dark] .colab-df-quickchart {\n",
              "      --bg-color: #3B4455;\n",
              "      --fill-color: #D2E3FC;\n",
              "      --hover-bg-color: #434B5C;\n",
              "      --hover-fill-color: #FFFFFF;\n",
              "      --disabled-bg-color: #3B4455;\n",
              "      --disabled-fill-color: #666;\n",
              "  }\n",
              "\n",
              "  .colab-df-quickchart {\n",
              "    background-color: var(--bg-color);\n",
              "    border: none;\n",
              "    border-radius: 50%;\n",
              "    cursor: pointer;\n",
              "    display: none;\n",
              "    fill: var(--fill-color);\n",
              "    height: 32px;\n",
              "    padding: 0;\n",
              "    width: 32px;\n",
              "  }\n",
              "\n",
              "  .colab-df-quickchart:hover {\n",
              "    background-color: var(--hover-bg-color);\n",
              "    box-shadow: 0 1px 2px rgba(60, 64, 67, 0.3), 0 1px 3px 1px rgba(60, 64, 67, 0.15);\n",
              "    fill: var(--button-hover-fill-color);\n",
              "  }\n",
              "\n",
              "  .colab-df-quickchart-complete:disabled,\n",
              "  .colab-df-quickchart-complete:disabled:hover {\n",
              "    background-color: var(--disabled-bg-color);\n",
              "    fill: var(--disabled-fill-color);\n",
              "    box-shadow: none;\n",
              "  }\n",
              "\n",
              "  .colab-df-spinner {\n",
              "    border: 2px solid var(--fill-color);\n",
              "    border-color: transparent;\n",
              "    border-bottom-color: var(--fill-color);\n",
              "    animation:\n",
              "      spin 1s steps(1) infinite;\n",
              "  }\n",
              "\n",
              "  @keyframes spin {\n",
              "    0% {\n",
              "      border-color: transparent;\n",
              "      border-bottom-color: var(--fill-color);\n",
              "      border-left-color: var(--fill-color);\n",
              "    }\n",
              "    20% {\n",
              "      border-color: transparent;\n",
              "      border-left-color: var(--fill-color);\n",
              "      border-top-color: var(--fill-color);\n",
              "    }\n",
              "    30% {\n",
              "      border-color: transparent;\n",
              "      border-left-color: var(--fill-color);\n",
              "      border-top-color: var(--fill-color);\n",
              "      border-right-color: var(--fill-color);\n",
              "    }\n",
              "    40% {\n",
              "      border-color: transparent;\n",
              "      border-right-color: var(--fill-color);\n",
              "      border-top-color: var(--fill-color);\n",
              "    }\n",
              "    60% {\n",
              "      border-color: transparent;\n",
              "      border-right-color: var(--fill-color);\n",
              "    }\n",
              "    80% {\n",
              "      border-color: transparent;\n",
              "      border-right-color: var(--fill-color);\n",
              "      border-bottom-color: var(--fill-color);\n",
              "    }\n",
              "    90% {\n",
              "      border-color: transparent;\n",
              "      border-bottom-color: var(--fill-color);\n",
              "    }\n",
              "  }\n",
              "</style>\n",
              "\n",
              "      <script>\n",
              "        async function quickchart(key) {\n",
              "          const quickchartButtonEl =\n",
              "            document.querySelector('#' + key + ' button');\n",
              "          quickchartButtonEl.disabled = true;  // To prevent multiple clicks.\n",
              "          quickchartButtonEl.classList.add('colab-df-spinner');\n",
              "          try {\n",
              "            const charts = await google.colab.kernel.invokeFunction(\n",
              "                'suggestCharts', [key], {});\n",
              "          } catch (error) {\n",
              "            console.error('Error during call to suggestCharts:', error);\n",
              "          }\n",
              "          quickchartButtonEl.classList.remove('colab-df-spinner');\n",
              "          quickchartButtonEl.classList.add('colab-df-quickchart-complete');\n",
              "        }\n",
              "        (() => {\n",
              "          let quickchartButtonEl =\n",
              "            document.querySelector('#df-6db0455c-0ab4-4cfe-b1eb-c32e12719b86 button');\n",
              "          quickchartButtonEl.style.display =\n",
              "            google.colab.kernel.accessAllowed ? 'block' : 'none';\n",
              "        })();\n",
              "      </script>\n",
              "    </div>\n",
              "\n",
              "    </div>\n",
              "  </div>\n"
            ],
            "application/vnd.google.colaboratory.intrinsic+json": {
              "type": "dataframe",
              "variable_name": "df",
              "summary": "{\n  \"name\": \"df\",\n  \"rows\": 8,\n  \"fields\": [\n    {\n      \"column\": 0,\n      \"properties\": {\n        \"dtype\": \"number\",\n        \"std\": 660.4922406811453,\n        \"min\": 3000.0,\n        \"max\": 5000.0,\n        \"num_unique_values\": 7,\n        \"samples\": [\n          3500.0,\n          4000.0,\n          4500.0\n        ],\n        \"semantic_type\": \"\",\n        \"description\": \"\"\n      }\n    }\n  ]\n}"
            }
          },
          "metadata": {},
          "execution_count": 70
        }
      ]
    },
    {
      "cell_type": "markdown",
      "source": [
        "\n",
        "Passo 3: Análise e Perguntas\n",
        "\n",
        "<br>\n",
        "\n",
        "**Qual método é mais adequado se houver outliers no conjunto de dados?**\n",
        "\n",
        "<br>\n",
        "\n",
        "O método da mediana é mais adequado. A média é sensível a valores extremos (outliers). Um único valor muito alto ou muito baixo pode distorcer a média, \"puxando-a\" em sua direção. Se usássemos a média para preencher um valor ausente, estaríamos introduzindo essa distorção. Por exemplo, se um dos salários fosse 50000 em vez de 5000, a média saltaria para aproximadamente 11666.67, um valor que não representa bem o restante dos dados.\n",
        "\n",
        "A mediana, por outro lado, é robusta a outliers. Ela representa o valor central do conjunto ordenado e não é afetada por quão extremos os valores nos extremos são. Portanto, usar a mediana para imputar dados ausentes resulta em uma representação mais fiel da tendência central e é a escolha preferida quando a presença de outliers é uma preocupação."
      ],
      "metadata": {
        "id": "sgANjYmck4xV"
      }
    },
    {
      "cell_type": "markdown",
      "source": [
        "**Como essa abordagem pode ser aplicada em modelos de machine learning?**\n",
        "\n",
        "<br>\n",
        "\n",
        "Esta abordagem é uma etapa crucial de pré-processamento de dados em machine learning, conhecida como imputação de dados.\n",
        "\n",
        "<br>\n",
        "\n",
        "A maioria dos algoritmos de machine learning não consegue processar conjuntos de dados com valores ausentes (None, NaN, etc.) e retornará um erro. A imputação resolve esse problema preenchendo os dados ausentes com valores substitutos.\n",
        "\n",
        "<br>\n",
        "\n",
        "Por que é importante? A imputação permite que os dados sejam usados para treinar um modelo. A escolha do método (média, mediana, etc.) afeta o desempenho do modelo, pois o valor imputado pode influenciar a distribuição dos dados e, consequentemente, o que o modelo aprende.\n",
        "\n",
        "<br>\n",
        "\n",
        "**Quando usar cada um?**\n",
        "\n",
        "<br>\n",
        "\n",
        "Média: Preferível para dados com distribuição normal e sem outliers significativos.\n",
        "\n",
        "<br>\n",
        "\n",
        "Mediana: A melhor escolha para dados com outliers ou distribuições assimétricas (enviesadas), pois é mais robusta.\n",
        "\n",
        "<br>\n",
        "\n",
        "Outros métodos: Existem técnicas mais avançadas, como a imputação por regressão, que usam outros recursos do conjunto de dados para prever o valor ausente, ou a imputação com a moda (valor mais frequente) para variáveis categóricas. A escolha depende da natureza dos dados e da complexidade do problema."
      ],
      "metadata": {
        "id": "FQPTOxcdlfDa"
      }
    },
    {
      "cell_type": "code",
      "source": [],
      "metadata": {
        "id": "bhWTnROPl9GF"
      },
      "execution_count": null,
      "outputs": []
    }
  ]
}