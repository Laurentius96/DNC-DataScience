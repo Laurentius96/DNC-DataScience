{
  "nbformat": 4,
  "nbformat_minor": 0,
  "metadata": {
    "colab": {
      "provenance": []
    },
    "language_info": {
      "name": "python"
    },
    "kernelspec": {
      "name": "python3",
      "display_name": "Python 3"
    }
  },
  "cells": [
    {
      "metadata": {
        "id": "94q4OpZ9e7xf"
      },
      "source": [
        "## 🎓 **Aula sobre: Criação de Vetores e Arrays em NumPy**\n",
        "\n",
        " <br>\n",
        "\n",
        "### 🧭 Sumário da Aula\n",
        "\n",
        "| # | Sub-tópico                      | Tempo Estimado | Complexidade |\n",
        "|---|---------------------------------|----------------|--------------|\n",
        "| 1 | Ficha de Revisão Rápida         | ~1 min         | ⭐           |\n",
        "| 2 | Mergulho Profundo               | ~15 min        | ⭐⭐⭐⭐       |\n",
        "| 3 | Profundezas e Conexões          | ~3 min         | ⭐⭐         |\n",
        "| 4 | 🚀 Ação e Verificação            | ~5 min         | ⭐⭐         |\n",
        "| 5 | 🌊 Mergulhos Adicionais          | Opcional      | ⭐⭐⭐⭐      |\n",
        "\n",
        " <br>\n",
        "\n",
        "---\n",
        " <br>\n"
      ],
      "cell_type": "markdown"
    },
    {
      "metadata": {
        "id": "RvQcFRYEe7xg"
      },
      "source": [
        "### 1. 🧠 Ficha de Revisão Rápida | (O Essencial)\n",
        "\n",
        " <br>\n",
        "\n",
        "> Em NumPy, criamos **arrays** (ndarray) a partir de listas, sequências ou funções de geração.  \n",
        "> Arrays guardam dados do mesmo *dtype* em blocos contínuos, acelerando cálculos e otimizando memória.\n"
      ],
      "cell_type": "markdown"
    },
    {
      "metadata": {
        "id": "BgmcuG3Le7xh"
      },
      "source": [
        "### 2. 🔬 Mergulho Profundo | (Os Detalhes)\n",
        "\n",
        " <br>\n",
        "\n",
        "#### **🎯 O Conceito Central**  \n",
        "Um **array** em NumPy é uma grade de valores do mesmo tipo, armazenados em um bloco contíguo de memória.  \n",
        "- `np.array()` converte listas/tuplas em arrays.  \n",
        "- `np.zeros()`, `np.ones()`, `np.empty()`, `np.full()` criam arrays preenchidos sem precisar de listas Python.  \n",
        "- `np.arange()`, `np.linspace()` geram sequências numéricas automaticamente.\n",
        "\n",
        " <br>\n",
        "\n",
        "#### **🔗 Analogia de Data Science**  \n",
        "Pense em fichas de dados: em vez de anotar uma a uma, você máquina imprime centenas de fichas formatadas num cartucho de uma só vez. Isso é mais rápido e evita erros manuais.\n"
      ],
      "cell_type": "markdown"
    },
    {
      "metadata": {
        "id": "dC8ylc7Ae7xh"
      },
      "source": [
        "### **💻 Exemplos de Mercado (Abrangentes)**\n",
        "\n",
        "#### **Nível Simples: Criando Arrays Básicos**\n"
      ],
      "cell_type": "markdown"
    },
    {
      "metadata": {
        "id": "S3BFXfHge7xh"
      },
      "source": [
        "import numpy as np\n",
        "a = np.array([5, 6, 7])\n",
        "z = np.zeros(4)\n",
        "o = np.ones(3)\n",
        "print(a, z, o)\n"
      ],
      "cell_type": "code",
      "execution_count": null,
      "outputs": []
    },
    {
      "metadata": {
        "colab": {
          "base_uri": "https://localhost:8080/"
        },
        "id": "PIZFtLrse7xi",
        "outputId": "805988b0-5b84-4335-f23a-1f3598949d85"
      },
      "source": [
        "# Pratique seu código aqui!\n",
        "\n",
        "import numpy as np\n",
        "a = np.array([5, 6, 7])\n",
        "z = np.zeros(4)\n",
        "o = np.ones(3)\n",
        "\n",
        "print(f\"a: {a}\\n\")\n",
        "print(f\"z: {z}\\n\")\n",
        "print(f\"o: {o}\\n\")\n"
      ],
      "cell_type": "code",
      "execution_count": 2,
      "outputs": [
        {
          "output_type": "stream",
          "name": "stdout",
          "text": [
            "a: [5 6 7]\n",
            "\n",
            "z: [0. 0. 0. 0.]\n",
            "\n",
            "o: [1. 1. 1.]\n",
            "\n"
          ]
        }
      ]
    },
    {
      "metadata": {
        "id": "cJsnbEHFe7xi"
      },
      "source": [
        "* **O que o código faz:**  \n",
        "\n",
        "  **1) Explicação Linha a Linha (Diálogo com o Código):**  \n",
        "\n",
        "  ```python\n",
        "  # “Computador, transforme [5,6,7] num array e chame de ‘a’.”  \n",
        "  a = np.array([5, 6, 7])  \n",
        "\n",
        "  # “‘np’, crie uma fila de 4 zeros e chame de ‘z’.”  \n",
        "  z = np.zeros(4)  \n",
        "\n",
        "  # “‘np’, crie uma fila de 3 uns e chame de ‘o’.”  \n",
        "  o = np.ones(3)  \n",
        "\n",
        "  # “Mostre as três filas.”  \n",
        "  print(a, z, o)  \n",
        "  ```\n",
        "\n",
        "  **2) Tabela de Estados Intermediários:**\n",
        "\n",
        "  ```markdown\n",
        "  | Passo | Variável | Conteúdo       | O que é?                |\n",
        "  |:-----:|:---------|:---------------|:------------------------|\n",
        "  | 1     | `a`      | `[5,6,7]`      | Array de 3 inteiros     |\n",
        "  | 2     | `z`      | `[0.,0.,0.,0.]`| Array de 4 zeros float  |\n",
        "  | 3     | `o`      | `[1.,1.,1.]`   | Array de 3 uns float    |\n",
        "  | 4     | –        | imprime `a,z,o`| Saída combinada         |\n",
        "  ```\n",
        "\n",
        "  **3) Diagrama Mental (A Analogia Central):**  \n",
        "  Imagine três linhas de pedrinhas:  \n",
        "  - Linha **A** com pedrinhas 5,6,7.  \n",
        "  - Linha **Z** toda preta (zeros).  \n",
        "  - Linha **O** toda branca (uns).  \n",
        "  O `print()` é um farol que ilumina as três fileiras de pedrinhas.\n",
        "\n",
        "* **Cenário de Mercado:**  \n",
        "  - **O que são “features”?** São características numéricas de um conjunto de dados, como temperatura, vendas ou cliques.  \n",
        "  - **Por que criar arrays básicos?** Em análises iniciais, você monta matrizes vazias (`zeros`) para coletar estatísticas, e matrizes de `ones` para máscaras, sem depender de listas que crescem dinamicamente.  \n",
        "  - **Ganho:** Alocar um array de zeros de 1 000 000 de pontos de uma vez leva milissegundos, enquanto inserir um milhão de itens em lista Python leva segundos e fragmenta a memória.\n",
        "\n",
        "* **Boas Práticas:**  \n",
        "  - **Afirmação:** “Prefira funções de geração (`zeros`, `ones`) a loops.”  \n",
        "    - **Porquê:** Essas funções chamam código C otimizado que preenche blocos de memória muito mais rápido.  \n",
        "    - **Analogia:** É como usar uma máquina de carimbar 100 formulários em segundos em vez de escrever à mão.  \n",
        "    - **Termo:** *`dtype`* define o “tamanho da caixinha” de cada número; `float64` (64 bits) armazena maior precisão, mas `float32` (32 bits) economiza memória quando a precisão extra não é necessária.\n"
      ],
      "cell_type": "markdown"
    },
    {
      "metadata": {
        "id": "RZpc_vUYe7xi"
      },
      "source": [
        "#### **Nível Intermediário: Sequências Numéricas**\n"
      ],
      "cell_type": "markdown"
    },
    {
      "metadata": {
        "id": "Lm56TPeUe7xj"
      },
      "source": [
        "import numpy as np\n",
        "r1 = np.arange(0, 20, 5)\n",
        "r2 = np.linspace(0, 1, num=5)\n",
        "f = np.full((2,4), fill_value=7)\n",
        "print(r1, r2, f)\n"
      ],
      "cell_type": "code",
      "execution_count": null,
      "outputs": []
    },
    {
      "metadata": {
        "colab": {
          "base_uri": "https://localhost:8080/"
        },
        "id": "bL6NZo90e7xj",
        "outputId": "6f796319-b254-4d53-95b2-ab6cf97dc357"
      },
      "source": [
        "# Pratique seu código aqui!\n",
        "\n",
        "import numpy as np\n",
        "\n",
        "r1 = np.arange(0, 20, 5)\n",
        "r2 = np.linspace(0, 1, num=5)\n",
        "f = np.full((2,4), fill_value = 7)\n",
        "\n",
        "print(f\"r1: {r1}\\n\")\n",
        "print(f\"r2: {r2}\\n\")\n",
        "print(f\"f: {f}\\n\")\n"
      ],
      "cell_type": "code",
      "execution_count": 3,
      "outputs": [
        {
          "output_type": "stream",
          "name": "stdout",
          "text": [
            "r1: [ 0  5 10 15]\n",
            "\n",
            "r2: [0.   0.25 0.5  0.75 1.  ]\n",
            "\n",
            "f: [[7 7 7 7]\n",
            " [7 7 7 7]]\n",
            "\n"
          ]
        }
      ]
    },
    {
      "metadata": {
        "id": "Gsw7Ux-we7xj"
      },
      "source": [
        "* **O que o código faz:**  \n",
        "\n",
        "  **1) Explicação Linha a Linha (Diálogo com o Código):**  \n",
        "\n",
        "  ```python\n",
        "  # “Crie [0,5,10,15] e chame de ‘r1’.”  \n",
        "  r1 = np.arange(0, 20, 5)  \n",
        "\n",
        "  # “Crie 5 números igualmente espaçados entre 0 e 1.”  \n",
        "  r2 = np.linspace(0, 1, num=5)  \n",
        "\n",
        "  # “Crie 2×4 onde cada posição vale 7.”  \n",
        "  f = np.full((2,4), fill_value=7)  \n",
        "\n",
        "  # “Mostre r1, r2 e f.”  \n",
        "  print(r1, r2, f)  \n",
        "  ```\n",
        "\n",
        "  **2) Tabela de Estados Intermediários:**\n",
        "\n",
        "  ```markdown\n",
        "  | Passo | Expressão                  | Resultado               | O que representa?            |\n",
        "  |:-----:|:---------------------------|:------------------------|:-----------------------------|\n",
        "  | 1     | `r1`                       | `[ 0, 5,10,15]`         | Range com passo 5            |\n",
        "  | 2     | `r2`                       | `[0.,0.25,0.5,0.75,1.]` | Linspace de 5 pontos         |\n",
        "  | 3     | `f`                        | `[[7,7,7,7],[7,7,7,7]]` | Matriz cheia de 7            |\n",
        "  | 4     | –                          | imprime `r1,r2,f`       | Saída final                  |\n",
        "  ```\n",
        "\n",
        "  **3) Diagrama Mental (A Analogia Central):**  \n",
        "  Imagine uma régua (arange) marcando saltos de 5, e uma escada (linspace) dividindo o degrau em 5 partes iguais; e um bloco de 2×4 onde cada célula é um pedacinho pintado de “7”.\n",
        "\n",
        "* **Cenário de Mercado:**  \n",
        "  - Em engenharia de dados, usamos `arange` para indexar lotes em intervals, e `linspace` para criar gráficos ou pontos de interpolação.  \n",
        "  - **Exemplo real:** Num projeto de simulação, `linspace` gera 1000 instantes de tempo para analisar a evolução de uma variável.\n",
        "\n",
        "* **Boas Práticas:**  \n",
        "  - **Afirmação:** “Escolha `linspace` quando precisar de contagem exata de pontos.”  \n",
        "    - **Porquê:** Garante distribuição uniforme e exatidão no número de elementos, ao contrário de `arange`, que pode não incluir o fim esperado por causa de precisão flutuante.  \n",
        "    - **Analogia:** É como dividir um bolo em fatias iguais; `linspace` corta exatas 8 fatias, `arange` dependerá do tamanho do bolo e da faca.\n"
      ],
      "cell_type": "markdown"
    },
    {
      "metadata": {
        "id": "vgGbhk--e7xj"
      },
      "source": [
        "#### **Nível Avançado: Multidimensionalidade e Aleatoriedade**\n"
      ],
      "cell_type": "markdown"
    },
    {
      "metadata": {
        "id": "gKjtXP6Ye7xj"
      },
      "source": [
        "import numpy as np\n",
        "m = np.arange(27).reshape(3,3,3)\n",
        "rand = np.random.rand(2,5)\n",
        "print(m, rand)\n"
      ],
      "cell_type": "code",
      "execution_count": null,
      "outputs": []
    },
    {
      "metadata": {
        "colab": {
          "base_uri": "https://localhost:8080/"
        },
        "id": "YKMq5e_5e7xk",
        "outputId": "57d193b1-c000-4584-f6e8-df0c4aad48f3"
      },
      "source": [
        "# Pratique seu código aqui!\n",
        "\n",
        "import numpy as np\n",
        "\n",
        "m = np.arange(27).reshape(3, 3, 3)\n",
        "rand = np.random.rand(2, 5)\n",
        "\n",
        "print(f\"m: {m}\\n\")\n",
        "print(f\"rand: {rand}\\n\")\n"
      ],
      "cell_type": "code",
      "execution_count": 4,
      "outputs": [
        {
          "output_type": "stream",
          "name": "stdout",
          "text": [
            "m: [[[ 0  1  2]\n",
            "  [ 3  4  5]\n",
            "  [ 6  7  8]]\n",
            "\n",
            " [[ 9 10 11]\n",
            "  [12 13 14]\n",
            "  [15 16 17]]\n",
            "\n",
            " [[18 19 20]\n",
            "  [21 22 23]\n",
            "  [24 25 26]]]\n",
            "\n",
            "rand: [[0.95833215 0.51742782 0.09035784 0.36078871 0.5865723 ]\n",
            " [0.90627973 0.78409248 0.62389851 0.76009562 0.90283095]]\n",
            "\n"
          ]
        }
      ]
    },
    {
      "metadata": {
        "id": "NIhIz30ve7xk"
      },
      "source": [
        "* **O que o código faz:**  \n",
        "\n",
        "  **1) Explicação Linha a Linha (Diálogo com o Código):**  \n",
        "\n",
        "  ```python\n",
        "  # “Crie números 0–26 e forme 3×3×3 cubo.”  \n",
        "  m = np.arange(27).reshape(3,3,3)  \n",
        "\n",
        "  # “Gere 2×5 de números aleatórios entre 0 e 1.”  \n",
        "  rand = np.random.rand(2,5)  \n",
        "\n",
        "  # “Mostre cubo e matriz randômica.”  \n",
        "  print(m, rand)  \n",
        "  ```\n",
        "\n",
        "  **2) Tabela de Estados Intermediários:**\n",
        "\n",
        "  ```markdown\n",
        "  | Passo | Expressão                 | Resultado                         | O que é?                    |\n",
        "  |:-----:|:--------------------------|:----------------------------------|:----------------------------|\n",
        "  | 1     | `m`                       | 3×3×3 cubo de 0–26                | Array tridimensional        |\n",
        "  | 2     | `rand`                    | 2×5 de floats aleatórios          | Matriz de amostra aleatória |\n",
        "  | 3     | –                         | imprime `m` e `rand`              | Saída final                 |\n",
        "  ```\n",
        "\n",
        "  **3) Diagrama Mental (A Analogia Central):**  \n",
        "  Imagine um cubo mágico 3×3×3 preenchido com números sequenciais e, ao lado, um retângulo 2×5 cujas células são gotas de chuva de valores entre 0 e 1.\n",
        "\n",
        "* **Cenário de Mercado:**  \n",
        "  - Em visão computacional, usamos arrays 3D para representar imagens coloridas (altura×largura×canais).  \n",
        "  - **Exemplo real:** Ao treinar uma rede GAN, você alimenta um tensor 3D de ruído (`rand`) para gerar novas imagens.\n",
        "\n",
        "* **Boas Práticas:**  \n",
        "  - **Afirmação:** “Prefira `np.random.default_rng()` em vez de `np.random.rand()`.”  \n",
        "    - **Porquê:** O novo gerador é mais robusto e oferece métodos mais seguros e reprodutíveis.  \n",
        "    - **Analogia:** É como usar uma fonte mais confiável de água potável para garantir que cada gole seja seguro.\n"
      ],
      "cell_type": "markdown"
    },
    {
      "metadata": {
        "id": "iWgE-A4ye7xk"
      },
      "source": [
        "### 3. 🕸️ Profundezas e Conexões\n",
        "\n",
        " <br>\n",
        "\n",
        "Arrays NumPy são a base para **pandas** (DataFrames derivam de ndarrays), **scikit-learn** (espera vetores/matrizes), e frameworks de deep learning (tensors estendem arrays). Entender formas e tipos é essencial para pipelines eficientes.\n",
        "\n",
        " <br>\n",
        "\n",
        "---\n",
        "\n",
        " <br>\n"
      ],
      "cell_type": "markdown"
    },
    {
      "metadata": {
        "id": "TJB_gWY1e7xk"
      },
      "source": [
        "### 4. 🚀 Ação e Verificação\n",
        "\n",
        " <br>\n",
        "\n",
        "#### **🤔 Desafio Prático**\n",
        "1. Crie um vetor de 50 números de 0 a 1 com `linspace`.  \n",
        "2. Monte um cubo 4×4×4 com `arange` e `reshape`.  \n",
        "3. Gere uma matriz de zeros do mesmo formato de um array dado usando `np.zeros_like()`.  \n",
        "4. Crie uma matriz aleatória 3×3 com distribuição normal (`randn`).  \n",
        "5. Compare `np.random.rand()` e `np.random.default_rng()` em reprodutibilidade.\n",
        "\n",
        " <br>\n",
        "\n",
        "#### **❓ Pergunta de Verificação**\n",
        "Por que é crucial entender o *dtype* e o *shape* ao criar arrays, e como isso impacta velocidade e uso de memória?\n",
        "\n",
        " <br>\n",
        "\n",
        "---\n",
        " <br>\n"
      ],
      "cell_type": "markdown"
    },
    {
      "cell_type": "code",
      "source": [],
      "metadata": {
        "id": "g_4XDoPblmAD"
      },
      "execution_count": null,
      "outputs": []
    }
  ]
}