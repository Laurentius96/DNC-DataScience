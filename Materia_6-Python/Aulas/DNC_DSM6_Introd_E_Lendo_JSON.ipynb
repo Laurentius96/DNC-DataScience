{
  "nbformat": 4,
  "nbformat_minor": 0,
  "metadata": {
    "colab": {
      "provenance": []
    }
  },
  "cells": [
    {
      "metadata": {
        "id": "wfWG6P8aj_CT"
      },
      "source": [
        "## 🎓 **Aula sobre: Introdução a arquivos JSON e Lendo Arquivos JSON em Python**\n",
        "\n",
        " <br>\n",
        "\n",
        "### 🧭 Sumário da Aula\n",
        "\n",
        "| # | Sub-tópico                      | Tempo Estimado | Complexidade |\n",
        "|---|---------------------------------|----------------|--------------|\n",
        "| 1 | Ficha de Revisão Rápida         | ~1 min         | ⭐           |\n",
        "| 2 | Mergulho Profundo               | ~15 min        | ⭐⭐⭐⭐       |\n",
        "| 3 | Profundezas e Conexões          | ~3 min         | ⭐⭐         |\n",
        "| 4 | Ação e Verificação              | ~5 min         | ⭐⭐         |\n",
        "| 5 | Mergulhos Adicionais            | Opcional       | ⭐⭐⭐⭐       |\n",
        "\n",
        " <br>\n",
        "\n",
        "---\n",
        " <br>\n"
      ],
      "cell_type": "markdown"
    },
    {
      "metadata": {
        "id": "6Fgw_ZiIj_CU"
      },
      "source": [
        "### 1. 🧠 Ficha de Revisão Rápida | (O Essencial)\n",
        "\n",
        " <br>\n",
        "\n",
        "> JSON (*JavaScript Object Notation*) é um formato de texto para troca de dados.  \n",
        "> Em Python, use o módulo `json`:  \n",
        "> - `json.load(f)` lê JSON de um arquivo aberto e retorna objetos Python (*dict*, *list*, *str*, *int*, *float*, *bool*, `None`).  \n",
        "> - `json.loads(s)` faz o mesmo a partir de uma *string*.  \n",
        "> - Para escrever, use `json.dump(obj, f)` e `json.dumps(obj)`.  \n",
        "\n",
        " <br>\n"
      ],
      "cell_type": "markdown"
    },
    {
      "metadata": {
        "id": "3Bb_yHNMj_CV"
      },
      "source": [
        "### 2. 🔬 Mergulho Profundo | (Os Detalhes)\n",
        "\n",
        " <br>\n",
        "\n",
        "#### **🎯 O Conceito Central**  \n",
        "JSON mapeia estruturas aninhadas de chave:valor que correspondem a dicionários e listas Python. O módulo `json` faz parsing e serialização automática, preservando tipos compatíveis.\n",
        "\n",
        "#### **🔗 Analogia de Data Science**  \n",
        "Imagine um *payload* de API retornando uma lista de registros de clientes. Ao carregar JSON, você obtém diretamente uma lista de dicionários, prontos para transformar em *DataFrame* ou alimentar processamento de dados.\n",
        "\n",
        " <br>\n"
      ],
      "cell_type": "markdown"
    },
    {
      "metadata": {
        "id": "mCvlIxMhj_CV"
      },
      "source": [
        "### **💻 Exemplos de Mercado (Abrangentes)**\n",
        "\n",
        "#### **Nível Simples: Lendo JSON de Arquivo**\n"
      ],
      "cell_type": "markdown"
    },
    {
      "metadata": {
        "id": "MgUbaah7j_CW"
      },
      "source": [
        "import json\n",
        "\n",
        "with open(\"dados.json\", \"r\", encoding=\"utf-8\") as f:\n",
        "    dados = json.load(f)\n",
        "\n",
        "print(type(dados))      # geralmente dict ou list\n",
        "print(dados)\n"
      ],
      "cell_type": "code",
      "execution_count": null,
      "outputs": []
    },
    {
      "metadata": {
        "id": "S4r6z7nOj_CW"
      },
      "source": [
        "# Pratique seu código aqui!\n"
      ],
      "cell_type": "code",
      "execution_count": null,
      "outputs": []
    },
    {
      "metadata": {
        "id": "KYLrp6f2j_CX"
      },
      "source": [
        "*   **O que o código faz:** Abre `dados.json`, faz parse do JSON e fecha o arquivo.  \n",
        "*   **Cenário de Mercado:** Carregar configurações ou dados de API armazenados localmente.  \n",
        "*   **Boas Práticas:** Verifique se o arquivo existe e trate `FileNotFoundError`.\n"
      ],
      "cell_type": "markdown"
    },
    {
      "metadata": {
        "id": "t11H2awaj_CX"
      },
      "source": [
        "#### **Nível Intermediário: Usando `json.loads()` em String**\n"
      ],
      "cell_type": "markdown"
    },
    {
      "metadata": {
        "id": "Ob0zMmb0j_CX"
      },
      "source": [
        "import json\n",
        "\n",
        "texto = '{\"nome\":\"Ana\",\"idade\":30,\"ativo\":true}'\n",
        "user = json.loads(texto)\n",
        "print(user[\"nome\"], user[\"idade\"])\n"
      ],
      "cell_type": "code",
      "execution_count": null,
      "outputs": []
    },
    {
      "metadata": {
        "id": "w5_mK7_Oj_CY"
      },
      "source": [
        "# Pratique seu código aqui!\n"
      ],
      "cell_type": "code",
      "execution_count": null,
      "outputs": []
    },
    {
      "metadata": {
        "id": "UNVhxrNMj_CY"
      },
      "source": [
        "*   **O que o código faz:** Converte string JSON em objeto Python.  \n",
        "*   **Cenário de Mercado:** Receber JSON de respostas HTTP antes de salvar em arquivo.\n"
      ],
      "cell_type": "markdown"
    },
    {
      "metadata": {
        "id": "W_NXA9xWj_CY"
      },
      "source": [
        "#### **Nível Avançado: Tratando Erros de Parsing**\n"
      ],
      "cell_type": "markdown"
    },
    {
      "metadata": {
        "id": "kwP4jqy9j_CY"
      },
      "source": [
        "import json\n",
        "\n",
        "try:\n",
        "    with open(\"invalido.json\", \"r\") as f:\n",
        "        data = json.load(f)\n",
        "except json.JSONDecodeError as e:\n",
        "    print(\"Erro no JSON:\", e)\n"
      ],
      "cell_type": "code",
      "execution_count": null,
      "outputs": []
    },
    {
      "metadata": {
        "id": "Fe64sp1Kj_CY"
      },
      "source": [
        "# Pratique seu código aqui!\n"
      ],
      "cell_type": "code",
      "execution_count": null,
      "outputs": []
    },
    {
      "metadata": {
        "id": "nnwFJw4qj_CZ"
      },
      "source": [
        "*   **O que o código faz:** Captura falhas de formato JSON e informa a posição do erro.  \n",
        "*   **Cenário de Mercado:** Validar integridade de dados recebidos de fontes externas.\n"
      ],
      "cell_type": "markdown"
    },
    {
      "metadata": {
        "id": "-bg0VV4-j_CZ"
      },
      "source": [
        "#### **Nível DEUS (1/3): Leitura de JSON Lines (JSONL)**\n"
      ],
      "cell_type": "markdown"
    },
    {
      "metadata": {
        "id": "Cpw4H7Tdj_CZ"
      },
      "source": [
        "import json\n",
        "\n",
        "records = []\n",
        "with open(\"dados.jsonl\", \"r\") as f:\n",
        "    for linha in f:\n",
        "        registro = json.loads(linha)\n",
        "        records.append(registro)\n",
        "\n",
        "print(len(records), \"registros lidos\")\n"
      ],
      "cell_type": "code",
      "execution_count": null,
      "outputs": []
    },
    {
      "metadata": {
        "id": "9tzHBTgBj_CZ"
      },
      "source": [
        "# Pratique seu código aqui!\n"
      ],
      "cell_type": "code",
      "execution_count": null,
      "outputs": []
    },
    {
      "metadata": {
        "id": "hqXksSE1j_CZ"
      },
      "source": [
        "*   **O que o código faz:** Lê cada linha como JSON independente.  \n",
        "*   **Cenário de Mercado:** Logs estruturados ou grandes exportações de dados linha a linha.\n"
      ],
      "cell_type": "markdown"
    },
    {
      "metadata": {
        "id": "tGpwV4xrj_CZ"
      },
      "source": [
        "#### **Nível DEUS (2/3): Extraindo Campos Profundos**\n"
      ],
      "cell_type": "markdown"
    },
    {
      "metadata": {
        "id": "-eklSwFuj_CZ"
      },
      "source": [
        "import json\n",
        "\n",
        "with open(\"dados.json\") as f:\n",
        "    data = json.load(f)\n",
        "\n",
        "emails = [u[\"contato\"][\"email\"] for u in data[\"usuarios\"]]\n",
        "print(emails)\n"
      ],
      "cell_type": "code",
      "execution_count": null,
      "outputs": []
    },
    {
      "metadata": {
        "id": "b84VPZ-Mj_Ca"
      },
      "source": [
        "# Pratique seu código aqui!\n"
      ],
      "cell_type": "code",
      "execution_count": null,
      "outputs": []
    },
    {
      "metadata": {
        "id": "kJ-ch3hbj_Ca"
      },
      "source": [
        "*   **O que o código faz:** Navega em dicionários aninhados para extrair lista de emails.  \n",
        "*   **Cenário de Mercado:** Extração de colunas de JSON complexo antes de análise.\n"
      ],
      "cell_type": "markdown"
    },
    {
      "metadata": {
        "id": "gRrCCPUQj_Ca"
      },
      "source": [
        "#### **Nível DEUS (3/3): Normalização para DataFrame**\n"
      ],
      "cell_type": "markdown"
    },
    {
      "metadata": {
        "id": "ecLtbXbKj_Ca"
      },
      "source": [
        "import json\n",
        "import pandas as pd\n",
        "\n",
        "with open(\"dados.json\") as f:\n",
        "    data = json.load(f)\n",
        "\n",
        "df = pd.json_normalize(data[\"registros\"])\n",
        "print(df.head())\n"
      ],
      "cell_type": "code",
      "execution_count": null,
      "outputs": []
    },
    {
      "metadata": {
        "id": "rQCKv43pj_Ca"
      },
      "source": [
        "# Pratique seu código aqui!\n"
      ],
      "cell_type": "code",
      "execution_count": null,
      "outputs": []
    },
    {
      "metadata": {
        "id": "pJc0sEXWj_Ca"
      },
      "source": [
        "*   **O que o código faz:** Converte lista de registros JSON em tabela plana.  \n",
        "*   **Cenário de Mercado:** Preparar dados para análise em pandas sem loops manuais.\n"
      ],
      "cell_type": "markdown"
    },
    {
      "metadata": {
        "id": "kmzUAtCUj_Ca"
      },
      "source": [
        "### 3. 🕸️ Profundezas e Conexões\n",
        "\n",
        " <br>\n",
        "\n",
        "Leitura de JSON conecta-se a **requests** para chamadas HTTP (`response.json()`), **pandas** (`read_json`), e **APIs** REST. Entender parsing e normalização é crucial para ingestão de dados e integração de sistemas heterogêneos.\n",
        "\n",
        " <br>\n",
        "\n",
        "---\n",
        " <br>\n"
      ],
      "cell_type": "markdown"
    },
    {
      "metadata": {
        "id": "Fb0w5dClj_Ca"
      },
      "source": [
        "### 4. 🚀 Ação e Verificação\n",
        "\n",
        " <br>\n",
        "\n",
        "#### **🤔 Desafio Prático**\n",
        "1. Leia `usuarios.json` e imprima nomes de todos os usuários.  \n",
        "2. Use `json.loads()` para parsear string JSON de uma variável e acessar um campo.  \n",
        "3. Trate `JSONDecodeError` ao ler `malformado.json`.  \n",
        "4. Leia um arquivo JSONL e conte ocorrências de uma chave específica.  \n",
        "5. Normalize um JSON aninhado em DataFrame com `pd.json_normalize()` e exiba as primeiras linhas.\n",
        "\n",
        " <br>\n",
        "\n",
        "#### **❓ Pergunta de Verificação**\n",
        "Por que pode ser preferível usar JSONL em vez de um único arquivo JSON grande? Quais vantagens de processamento em bloco isso traz?\n",
        "\n",
        " <br>\n",
        "\n",
        "\n",
        "---\n",
        "\n",
        " <br>\n",
        "\n"
      ],
      "cell_type": "markdown"
    },
    {
      "cell_type": "code",
      "source": [],
      "metadata": {
        "id": "q2tleBankDYf"
      },
      "execution_count": null,
      "outputs": []
    }
  ]
}