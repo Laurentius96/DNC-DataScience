{
  "nbformat": 4,
  "nbformat_minor": 0,
  "metadata": {
    "colab": {
      "provenance": []
    },
    "kernelspec": {
      "name": "python3",
      "display_name": "Python 3"
    },
    "language_info": {
      "name": "python"
    }
  },
  "cells": [
    {
      "cell_type": "markdown",
      "source": [
        "Um array é uma coleção de elementos de um tipo de dados. No NumPy, você pode criar arrays de várias maneiras.\n",
        "\n",
        "Array de Números Sequenciais"
      ],
      "metadata": {
        "id": "RnrlEIL8SBSN"
      }
    },
    {
      "cell_type": "markdown",
      "source": [
        "# Seção 1: Conceitos Básicos do NumPy\n"
      ],
      "metadata": {
        "id": "c0DiSMaGXurx"
      }
    },
    {
      "cell_type": "markdown",
      "source": [
        "## 1.1. Instalação e Importação\n"
      ],
      "metadata": {
        "id": "pnaVA8jBVf0_"
      }
    },
    {
      "cell_type": "code",
      "source": [
        "import numpy as np"
      ],
      "metadata": {
        "id": "G--hweZeSsaw"
      },
      "execution_count": 1,
      "outputs": []
    },
    {
      "cell_type": "markdown",
      "source": [
        "## 1.2. Criando Arrays\n"
      ],
      "metadata": {
        "id": "jNPu1RclVbdm"
      }
    },
    {
      "cell_type": "code",
      "execution_count": 3,
      "metadata": {
        "colab": {
          "base_uri": "https://localhost:8080/"
        },
        "id": "CUtp60ftRXu8",
        "outputId": "66f166d0-f56c-443b-f342-1bf0b41d1b99"
      },
      "outputs": [
        {
          "output_type": "stream",
          "name": "stdout",
          "text": [
            "[ 1  2  3  4  5  6  7  8  9 10]\n"
          ]
        }
      ],
      "source": [
        "# 1️⃣ Para criar um array com números de 1 a 10:\n",
        "\n",
        "arr1 = np.arange(1,11)\n",
        "print(arr1)"
      ]
    },
    {
      "cell_type": "code",
      "source": [
        "# 2️⃣ Crie um array de 5 zeros:\n",
        "\n",
        "zeros_array = np.zeros(5)\n",
        "print(zeros_array)"
      ],
      "metadata": {
        "colab": {
          "base_uri": "https://localhost:8080/"
        },
        "id": "ln3KMZeBTCSH",
        "outputId": "ae56a2f2-fa6c-488c-b874-87c3c95ecc9f"
      },
      "execution_count": 5,
      "outputs": [
        {
          "output_type": "stream",
          "name": "stdout",
          "text": [
            "[0. 0. 0. 0. 0.]\n"
          ]
        }
      ]
    },
    {
      "cell_type": "code",
      "source": [
        "# 3️⃣ Crie um array de 5 uns:\n",
        "\n",
        "ones_array = np.ones(5)\n",
        "print(ones_array)"
      ],
      "metadata": {
        "colab": {
          "base_uri": "https://localhost:8080/"
        },
        "id": "1bLr3imBTkjy",
        "outputId": "46ab3c0f-744a-4e16-c153-f23f0d14b74b"
      },
      "execution_count": 6,
      "outputs": [
        {
          "output_type": "stream",
          "name": "stdout",
          "text": [
            "[1. 1. 1. 1. 1.]\n"
          ]
        }
      ]
    },
    {
      "cell_type": "markdown",
      "source": [
        "## 1.3. Espaço Linear"
      ],
      "metadata": {
        "id": "8MS4jAr2VY2G"
      }
    },
    {
      "cell_type": "code",
      "source": [
        "# 4️⃣ Para criar um array com valores espaçados linearmente entre 0 e 50, use np.linspace:\n",
        "\n",
        "arr2 = np.linspace(0,50)\n",
        "print(arr2)\n",
        "print(\"\\n\")\n",
        "print(np.linspace(0, 50, 5))"
      ],
      "metadata": {
        "colab": {
          "base_uri": "https://localhost:8080/"
        },
        "id": "3gViGhHpUOij",
        "outputId": "c07e3104-11f8-4133-8ea4-9e397754bb7a"
      },
      "execution_count": 19,
      "outputs": [
        {
          "output_type": "stream",
          "name": "stdout",
          "text": [
            "[ 0.          1.02040816  2.04081633  3.06122449  4.08163265  5.10204082\n",
            "  6.12244898  7.14285714  8.16326531  9.18367347 10.20408163 11.2244898\n",
            " 12.24489796 13.26530612 14.28571429 15.30612245 16.32653061 17.34693878\n",
            " 18.36734694 19.3877551  20.40816327 21.42857143 22.44897959 23.46938776\n",
            " 24.48979592 25.51020408 26.53061224 27.55102041 28.57142857 29.59183673\n",
            " 30.6122449  31.63265306 32.65306122 33.67346939 34.69387755 35.71428571\n",
            " 36.73469388 37.75510204 38.7755102  39.79591837 40.81632653 41.83673469\n",
            " 42.85714286 43.87755102 44.89795918 45.91836735 46.93877551 47.95918367\n",
            " 48.97959184 50.        ]\n",
            "\n",
            "\n",
            "[ 0.  12.5 25.  37.5 50. ]\n"
          ]
        }
      ]
    },
    {
      "cell_type": "markdown",
      "source": [
        "## 1.4. Matriz Identidade"
      ],
      "metadata": {
        "id": "WQaHZuINVxFJ"
      }
    },
    {
      "cell_type": "code",
      "source": [
        "# 5️⃣ Uma matriz identidade é uma matriz quadrada com 1s na diagonal principal:\n",
        "\n",
        "identity_matrix = np.eye(5)\n",
        "print(identity_matrix)"
      ],
      "metadata": {
        "colab": {
          "base_uri": "https://localhost:8080/"
        },
        "id": "G4y5HKeaUD8S",
        "outputId": "d3bdc188-0b7e-44c7-ade6-6b4c0bdb73d9"
      },
      "execution_count": 21,
      "outputs": [
        {
          "output_type": "stream",
          "name": "stdout",
          "text": [
            "[[1. 0. 0. 0. 0.]\n",
            " [0. 1. 0. 0. 0.]\n",
            " [0. 0. 1. 0. 0.]\n",
            " [0. 0. 0. 1. 0.]\n",
            " [0. 0. 0. 0. 1.]]\n"
          ]
        }
      ]
    },
    {
      "cell_type": "markdown",
      "source": [
        "## 1.5. Indexação e Fatias"
      ],
      "metadata": {
        "id": "JvSti3ccWxCz"
      }
    },
    {
      "cell_type": "code",
      "source": [
        "# 6️⃣ Acesse os três primeiros elementos:\n",
        "\n",
        "arr4 = np.array([0, 1, 2, 3, 4, 5, 6, 7, 8, 9])\n",
        "print(arr4[:3])"
      ],
      "metadata": {
        "colab": {
          "base_uri": "https://localhost:8080/"
        },
        "id": "QAKvYUiwWuN4",
        "outputId": "29d29d74-51a7-46f6-caf2-4550db143cb4"
      },
      "execution_count": 22,
      "outputs": [
        {
          "output_type": "stream",
          "name": "stdout",
          "text": [
            "[0 1 2]\n"
          ]
        }
      ]
    },
    {
      "cell_type": "markdown",
      "source": [
        "## 1.6. Operações Matemáticas"
      ],
      "metadata": {
        "id": "sWpUlmTiXdB8"
      }
    },
    {
      "cell_type": "code",
      "source": [
        "# 7️⃣ Eleve cada elemento ao quadrado:\n",
        "arr5 = np.array([0, 1, 2, 3, 4, 5, 6, 7, 8, 9])\n",
        "print(arr5**2)\n"
      ],
      "metadata": {
        "colab": {
          "base_uri": "https://localhost:8080/"
        },
        "id": "Xu1mvq28XTRE",
        "outputId": "39a9aaa1-2f84-46d3-9c5a-3d2a072dfa18"
      },
      "execution_count": 24,
      "outputs": [
        {
          "output_type": "stream",
          "name": "stdout",
          "text": [
            "[ 0  1  4  9 16 25 36 49 64 81]\n"
          ]
        }
      ]
    },
    {
      "cell_type": "code",
      "source": [
        "# 8️⃣ Some dois arrays:\n",
        "\n",
        "arr6 = np.array([0, 1, 2, 3, 4, 5, 6, 7, 8, 9])\n",
        "arr7 = np.array([9, 8, 7, 6, 5, 4, 3, 2, 1, 0])\n",
        "print(arr6 + arr7)\n"
      ],
      "metadata": {
        "colab": {
          "base_uri": "https://localhost:8080/"
        },
        "id": "h_f2ORNqYtkh",
        "outputId": "ca39bf30-4ad6-48dc-d7f8-a76c28399124"
      },
      "execution_count": 26,
      "outputs": [
        {
          "output_type": "stream",
          "name": "stdout",
          "text": [
            "[9 9 9 9 9 9 9 9 9 9]\n"
          ]
        }
      ]
    },
    {
      "cell_type": "markdown",
      "source": [
        "## 1.7. Reshape"
      ],
      "metadata": {
        "id": "gO44Q9z9Xdsm"
      }
    },
    {
      "cell_type": "code",
      "source": [
        "# 9️⃣ Mude o formato de um array unidimensional para uma matriz 3x3:\n",
        "\n",
        "arr8 = np.array([0, 1, 2, 3, 4, 5, 6, 7, 8, 9])\n",
        "reshaped_arr = arr8.reshape(5, 2)\n",
        "print(reshaped_arr)"
      ],
      "metadata": {
        "colab": {
          "base_uri": "https://localhost:8080/"
        },
        "id": "RZ_cPkwQXj6s",
        "outputId": "4604bab2-4006-47ee-ea4a-f6a461c62ba7"
      },
      "execution_count": 30,
      "outputs": [
        {
          "output_type": "stream",
          "name": "stdout",
          "text": [
            "[[0 1]\n",
            " [2 3]\n",
            " [4 5]\n",
            " [6 7]\n",
            " [8 9]]\n"
          ]
        }
      ]
    },
    {
      "cell_type": "markdown",
      "source": [
        "## 1.8. Valores Aleatórios"
      ],
      "metadata": {
        "id": "kDFbm8EmXn0V"
      }
    },
    {
      "cell_type": "code",
      "source": [
        "arr9 = np.random.rand(10, 10)\n",
        "arredondado_inteiro = np.round(arr9, decimals=2)\n",
        "print(arredondado_inteiro*100)"
      ],
      "metadata": {
        "colab": {
          "base_uri": "https://localhost:8080/"
        },
        "id": "7E70QDdVXqEj",
        "outputId": "0fd87a46-3480-4b85-89ce-dc849a10da0e"
      },
      "execution_count": 39,
      "outputs": [
        {
          "output_type": "stream",
          "name": "stdout",
          "text": [
            "[[ 75.   3.  13.  28.  55.  43.  17.  34.  31.  66.]\n",
            " [ 68.  20.  90.  47.  92.  88.  69.  84.   6.  38.]\n",
            " [ 69.  10.  84.  99.  17.  35.  18.  92.  78.  49.]\n",
            " [ 49.  34.  49.  69. 100.  58.   0.  56.  29.  88.]\n",
            " [ 22.  44.  84.  25.  43.  96.  92.  33.  56.  41.]\n",
            " [ 98.  46.  70.   6.  80.  87.  67.  48.  85.  25.]\n",
            " [ 63.  94.  88.  76.  28.   7.  30.  21.  82.  77.]\n",
            " [ 32.  44.  78.  56.  68.   1.  15.  26.  59.  89.]\n",
            " [ 22.  97.  43.  19.  20.  83.  42.  49.  88.  37.]\n",
            " [ 20.  45.  67.  93.  88.  31.  18.  65.  99.  10.]]\n"
          ]
        }
      ]
    },
    {
      "cell_type": "markdown",
      "source": [
        "# Seção 2: Operações Avançadas com NumPy\n"
      ],
      "metadata": {
        "id": "q0Ndv5RCXyT0"
      }
    },
    {
      "cell_type": "markdown",
      "source": [
        "## 2.1. Operações Element-wise"
      ],
      "metadata": {
        "id": "jQyzZSgxXyxe"
      }
    },
    {
      "cell_type": "code",
      "source": [
        "array1 = np.array([1, 2, 3])\n",
        "array2 = np.array([4, 5, 6])\n",
        "multiplied_array = array1 * array2\n",
        "print(multiplied_array)"
      ],
      "metadata": {
        "colab": {
          "base_uri": "https://localhost:8080/"
        },
        "id": "-RqyL3rrXzHJ",
        "outputId": "3f384f42-2a90-446a-8402-c65c668774e9"
      },
      "execution_count": 40,
      "outputs": [
        {
          "output_type": "stream",
          "name": "stdout",
          "text": [
            "[ 4 10 18]\n"
          ]
        }
      ]
    },
    {
      "cell_type": "markdown",
      "source": [
        "## 2.2. Estatísticas Básicas\n"
      ],
      "metadata": {
        "id": "7xPENaP5YA-2"
      }
    },
    {
      "cell_type": "code",
      "source": [
        "# Calcule a soma, média, mediana, desvio padrão e variância:\n",
        "\n",
        "array = np.array([1, 2, 3, 4, 5])\n",
        "sum_array = np.sum(array)\n",
        "mean_array = np.mean(array)\n",
        "median_array = np.median(array)\n",
        "std_dev = array.std()\n",
        "variance = array.var()\n",
        "\n",
        "print(f\"Soma: {sum_array}\")\n",
        "print(f\"Média: {mean_array}\")\n",
        "print(f\"Mediana: {median_array}\")\n",
        "print(f\"Desvio Padrão: {std_dev}\")\n",
        "print(f\"Variância: {variance}\")"
      ],
      "metadata": {
        "colab": {
          "base_uri": "https://localhost:8080/"
        },
        "id": "UqsEkkzJhTQM",
        "outputId": "c0bef117-39bd-45a6-c8e5-f60a66acbf2e"
      },
      "execution_count": 41,
      "outputs": [
        {
          "output_type": "stream",
          "name": "stdout",
          "text": [
            "Soma: 15\n",
            "Média: 3.0\n",
            "Mediana: 3.0\n",
            "Desvio Padrão: 1.4142135623730951\n",
            "Variância: 2.0\n"
          ]
        }
      ]
    },
    {
      "cell_type": "markdown",
      "source": [
        "## 2.3. Concatenação de Arrays\n"
      ],
      "metadata": {
        "id": "Rdi7mEH2YDCV"
      }
    },
    {
      "cell_type": "code",
      "source": [
        "# Concatene dois arrays:\n",
        "\n",
        "array1 = np.array([1, 2, 3])\n",
        "array2 = np.array([4, 5, 6])\n",
        "concatenated_array = np.concatenate((array1, array2))\n",
        "print(concatenated_array)"
      ],
      "metadata": {
        "colab": {
          "base_uri": "https://localhost:8080/"
        },
        "id": "So8T3Mm-hTgK",
        "outputId": "38a04aab-87cf-468a-a681-4127654f6c87"
      },
      "execution_count": 42,
      "outputs": [
        {
          "output_type": "stream",
          "name": "stdout",
          "text": [
            "[1 2 3 4 5 6]\n"
          ]
        }
      ]
    },
    {
      "cell_type": "markdown",
      "source": [
        "## 2.4. Encontrando Valores Específicos\n"
      ],
      "metadata": {
        "id": "RYPx8ukOYFDm"
      }
    },
    {
      "cell_type": "code",
      "source": [
        "# Encontre os índices de elementos maiores que 5:\n",
        "\n",
        "array = np.array([1, 2, 3, 4, 5, 6, 7, 8, 9])\n",
        "indices = np.where(array > 5)\n",
        "print(indices)\n",
        "print(type(indices))\n",
        "print(array[indices])\n",
        "print(type(array[indices]))"
      ],
      "metadata": {
        "colab": {
          "base_uri": "https://localhost:8080/"
        },
        "id": "J7v1BnQZhT89",
        "outputId": "69d81739-7f4a-457a-b4e9-50bee655cf1a"
      },
      "execution_count": 46,
      "outputs": [
        {
          "output_type": "stream",
          "name": "stdout",
          "text": [
            "(array([5, 6, 7, 8]),)\n",
            "<class 'tuple'>\n",
            "[6 7 8 9]\n",
            "<class 'numpy.ndarray'>\n"
          ]
        }
      ]
    }
  ]
}