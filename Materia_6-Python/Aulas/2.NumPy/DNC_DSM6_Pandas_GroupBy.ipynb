{
  "nbformat": 4,
  "nbformat_minor": 0,
  "metadata": {
    "colab": {
      "provenance": []
    },
    "kernelspec": {
      "name": "python3",
      "display_name": "Python 3"
    }
  },
  "cells": [
    {
      "cell_type": "markdown",
      "metadata": {
        "id": "vUj42ura4X6w"
      },
      "source": [
        "## 🎓 **Aula sobre: Pandas GroupBy**\n",
        "\n",
        "<br>\n",
        "\n",
        "### 🧭 Sumário da Aula\n",
        "\n",
        "| # | Sub-tópico                        | Tempo Estimado | Complexidade |\n",
        "|---|-----------------------------------|----------------|--------------|\n",
        "| 1 | Ficha de Revisão Rápida           | ~1 min         | ⭐           |\n",
        "| 2 | Mergulho Profundo                 | ~15 min        | ⭐⭐⭐⭐       |\n",
        "| 3 | Profundezas e Conexões            | ~3 min         | ⭐⭐         |\n",
        "| 4 | 🚀 Ação e Verificação              | ~5 min         | ⭐⭐         |\n",
        "| 5 | 🌊 Mergulhos Adicionais Opcionais  | Opcional       | ⭐⭐⭐⭐      |\n",
        "\n",
        "<br>\n",
        "\n",
        "---\n",
        "<br>\n"
      ]
    },
    {
      "cell_type": "markdown",
      "metadata": {
        "id": "46H1sZYH4X6x"
      },
      "source": [
        "### 1. 🧠 Ficha de Revisão Rápida | (O Essencial)\n",
        "\n",
        "<br>\n",
        "\n",
        "> - **GroupBy:** operação “Split-Apply-Combine” para agrupar dados.  \n",
        "> - **split:** divide em grupos por chave.  \n",
        "> - **apply:** aplica função a cada grupo.  \n",
        "> - **combine:** junta os resultados em um DataFrame ou Series.  \n",
        "> - **agg / transform / filter:** modos de aplicar agregações, transformações e filtragens.\n",
        "\n",
        "<br>\n"
      ]
    },
    {
      "cell_type": "markdown",
      "metadata": {
        "id": "m5E6LRN84X6y"
      },
      "source": [
        "### 2. 🔬 Mergulho Profundo | (Os Detalhes)\n",
        "\n",
        "<br>\n",
        "\n",
        "#### **🎯 O Conceito Central**  \n",
        "O **GroupBy** funciona em três etapas:  \n",
        "1. **Split:** separa o DataFrame em sub-frames por valores de coluna (chave).  \n",
        "2. **Apply:** executa uma função (soma, média, custom…) em cada sub-frame.  \n",
        "3. **Combine:** une os resultados mantendo a estrutura de índice.\n",
        "\n",
        "<br>\n",
        "\n",
        "#### **🔗 Analogia de Data Science**  \n",
        "Imagine um armazém com caixas etiquetadas por cidade.  \n",
        "- **Split:** você separa todas as caixas por cidade.  \n",
        "- **Apply:** conta itens dentro de cada caixa (por cidade).  \n",
        "- **Combine:** monta um quadro com “cidade vs total de itens”.\n",
        "\n",
        "<br>\n",
        "\n",
        "### **💻 Exemplos de Mercado (Abrangentes)**\n"
      ]
    },
    {
      "cell_type": "markdown",
      "metadata": {
        "id": "bCKvpasv4X6y"
      },
      "source": [
        "#### **Nível Simples: Soma e Média por Grupo**\n"
      ]
    },
    {
      "cell_type": "code",
      "execution_count": null,
      "metadata": {
        "id": "K8CMOFSE4X6y"
      },
      "outputs": [],
      "source": [
        "import pandas as pd\n",
        "df = pd.DataFrame({\n",
        "    'cidade': ['SP','RJ','SP','MG','RJ','MG'],\n",
        "    'vendas': [100,150,200,120,130,80]\n",
        "})\n",
        "# Soma de vendas por cidade\n",
        "sum_vendas = df.groupby('cidade')['vendas'].sum()\n",
        "# Média de vendas por cidade\n",
        "mean_vendas = df.groupby('cidade')['vendas'].mean()\n",
        "print(sum_vendas)\n",
        "print(mean_vendas)\n"
      ]
    },
    {
      "cell_type": "code",
      "execution_count": 1,
      "metadata": {
        "colab": {
          "base_uri": "https://localhost:8080/"
        },
        "id": "ILJ_mzWd4X6z",
        "outputId": "3c1fb643-de25-4e64-b44d-36a70b443060"
      },
      "outputs": [
        {
          "output_type": "stream",
          "name": "stdout",
          "text": [
            "cidade\n",
            "MG    200\n",
            "RJ    280\n",
            "SP    300\n",
            "Name: vendas, dtype: int64\n",
            "\n",
            "\n",
            "cidade\n",
            "MG    100.0\n",
            "RJ    140.0\n",
            "SP    150.0\n",
            "Name: vendas, dtype: float64\n"
          ]
        }
      ],
      "source": [
        "# Pratique seu código aqui!\n",
        "\n",
        "import pandas as pd\n",
        "df = pd.DataFrame({\n",
        "    'cidade': ['SP','RJ','SP','MG','RJ','MG'],\n",
        "    'vendas': [100,150,200,120,130,80]\n",
        "})\n",
        "\n",
        "sum_vendas = df.groupby('cidade')['vendas'].sum()\n",
        "mena_vendas = df.groupby('cidade')['vendas'].mean()\n",
        "\n",
        "print(sum_vendas)\n",
        "print(\"\\n\")\n",
        "print(mena_vendas)"
      ]
    },
    {
      "cell_type": "markdown",
      "metadata": {
        "id": "dBb_mwUG4X6z"
      },
      "source": [
        "* **O que o código faz:**  \n",
        "\n",
        "  **1) Explicação Linha a Linha (Diálogo com o Código):**  \n",
        "  ```python\n",
        "  # “Importe pandas como pd.”  \n",
        "  import pandas as pd\n",
        "\n",
        "  # “Crie DataFrame com vendas por cidade.”  \n",
        "  df = pd.DataFrame({...})\n",
        "\n",
        "  # “GroupBy cidade e some vendas.”  \n",
        "  sum_vendas = df.groupby('cidade')['vendas'].sum()\n",
        "\n",
        "  # “GroupBy cidade e calcule média.”  \n",
        "  mean_vendas = df.groupby('cidade')['vendas'].mean()\n",
        "\n",
        "  # “Exiba soma e média.”  \n",
        "  print(sum_vendas)\n",
        "  print(mean_vendas)\n",
        "  ```\n",
        "\n",
        "  **2) Tabela de Estados Intermediários:**\n",
        "\n",
        "  ```markdown\n",
        "  | Passo            | Expressão                        | Saída          | O que faz?                      |\n",
        "  |:----------------:|:---------------------------------|:---------------|:-------------------------------|\n",
        "  | 1                | `sum_vendas`                     | MG:200; RJ:280; SP:300 | Soma por cidade         |\n",
        "  | 2                | `mean_vendas`                    | MG:100; RJ:140; SP:150 | Média por cidade        |\n",
        "  | 3                | –                                | imprime        | Saída final                     |\n",
        "  ```\n",
        "\n",
        "  **3) Diagrama Mental (A Analogia Central):**  \n",
        "  Separe todas as caixas por etiqueta “cidade”, conte o valor total em cada pilha para soma, depois divida pelo número de caixas para média.\n",
        "\n",
        "* **Cenário de Mercado:**  \n",
        "  Em **BI de vendas**, agrupar vendas por região para relatórios mensais, identificando áreas de alto e baixo desempenho muito rapidamente.\n",
        "\n",
        "* **Boas Práticas:**  \n",
        "  - **Afirmação:** “Defina `as_index=False` se quiser o resultado como DataFrame.”  \n",
        "    - **Porquê:** Mantém coluna de chave visível em vez de virar índice.  \n",
        "    - **Analogia:** É como deixar etiquetas coladas nas caixas mesmo após contagem.\n"
      ]
    },
    {
      "cell_type": "markdown",
      "metadata": {
        "id": "mku0pJOP4X6z"
      },
      "source": [
        "#### **Nível Intermediário: Multipla Agregação e Filtragem**\n"
      ]
    },
    {
      "cell_type": "code",
      "execution_count": null,
      "metadata": {
        "id": "25My7mV14X60"
      },
      "outputs": [],
      "source": [
        "import pandas as pd\n",
        "df = pd.DataFrame({\n",
        "    'categoria': ['A','A','B','B','C','C'],\n",
        "    'valor': [10,15,10,20,5,25]\n",
        "})\n",
        "# Múltiplas agregações\n",
        "agg = df.groupby('categoria')['valor'].agg(['sum','mean','max'])\n",
        "# Filtra categorias com soma > 20\n",
        "filtered = agg[agg['sum'] > 20]\n",
        "print(agg)\n",
        "print(filtered)\n"
      ]
    },
    {
      "cell_type": "code",
      "execution_count": null,
      "metadata": {
        "id": "_D6SjKH74X60"
      },
      "outputs": [],
      "source": [
        "# Pratique seu código aqui!\n"
      ]
    },
    {
      "cell_type": "markdown",
      "metadata": {
        "id": "jWmzoVGX4X60"
      },
      "source": [
        "* **O que o código faz:**  \n",
        "\n",
        "  **1) Explicação Linha a Linha (Diálogo com o Código):**  \n",
        "  ```python\n",
        "  # “Crie DataFrame com categorias e valores.”  \n",
        "  df = pd.DataFrame({...})\n",
        "\n",
        "  # “GroupBy categoria e aplique sum, mean e max.”  \n",
        "  agg = df.groupby('categoria')['valor'].agg(['sum','mean','max'])\n",
        "\n",
        "  # “Filtre grupos cujo sum > 20.”  \n",
        "  filtered = agg[agg['sum'] > 20]\n",
        "\n",
        "  # “Mostre agregações e filtragem.”  \n",
        "  print(agg)\n",
        "  print(filtered)\n",
        "  ```\n",
        "\n",
        "  **2) Tabela de Estados Intermediários:**\n",
        "\n",
        "  ```markdown\n",
        "  | Passo       | Expressão                   | Saída                     | O que faz?                         |\n",
        "  |:-----------:|:----------------------------|:--------------------------|:-----------------------------------|\n",
        "  | 1           | `agg`                        | tabela com sum, mean, max | Agrega múltiplas estatísticas     |\n",
        "  | 2           | `filtered`                   | somente A e C             | Filtra sum >20                     |\n",
        "  | 3           | –                            | imprime                   | Saída final                        |\n",
        "  ```\n",
        "\n",
        "  **3) Diagrama Mental (A Analogia Central):**  \n",
        "  É como ter uma tabela de desempenho por time com pontos, média de gols e maior goleada, depois escolher apenas times com pontos altos.\n",
        "\n",
        "* **Cenário de Mercado:**  \n",
        "  Em **analytics de clientes**, agrupar por segmento e calcular múltiplos KPIs (gasto total, ticket médio, maior compra) para segmentação eficaz.\n",
        "\n",
        "* **Boas Práticas:**  \n",
        "  - **Afirmação:** “Use `agg` para clareza e performance.”  \n",
        "    - **Porquê:** Executa uma passada só nos dados para todas as funções.  \n",
        "    - **Analogia:** É como cortar vários ingredientes de uma vez em uma única tigela.\n"
      ]
    },
    {
      "cell_type": "markdown",
      "metadata": {
        "id": "ysNl_zbR4X60"
      },
      "source": [
        "#### **Nível Avançado: Transform e Apply em GroupBy**\n"
      ]
    },
    {
      "cell_type": "code",
      "execution_count": null,
      "metadata": {
        "id": "PQAXkXfJ4X61"
      },
      "outputs": [],
      "source": [
        "import pandas as pd\n",
        "df = pd.DataFrame({\n",
        "    'grupo': ['X','X','Y','Y','Y'],\n",
        "    'valor': [1,2,3,4,5]\n",
        "})\n",
        "# Transform: z-score por grupo\n",
        "z = df.groupby('grupo')['valor'].transform(lambda x: (x - x.mean())/x.std())\n",
        "# Apply: retornar DataFrame customizado\n",
        "custom = df.groupby('grupo').apply(lambda g: pd.Series({\n",
        "    'sum': g['valor'].sum(),\n",
        "    'count': g['valor'].count()\n",
        "}))\n",
        "print(z)\n",
        "print(custom)\n"
      ]
    },
    {
      "cell_type": "code",
      "execution_count": null,
      "metadata": {
        "id": "51ROkoqq4X61"
      },
      "outputs": [],
      "source": [
        "# Pratique seu código aqui!\n"
      ]
    },
    {
      "cell_type": "markdown",
      "metadata": {
        "id": "t7AS20354X61"
      },
      "source": [
        "* **O que o código faz:**  \n",
        "\n",
        "  **1) Explicação Linha a Linha (Diálogo com o Código):**  \n",
        "  ```python\n",
        "  # “Crie DataFrame com grupos X e Y.”  \n",
        "  df = pd.DataFrame({...})\n",
        "\n",
        "  # “Transform: calcule z-score dentro de cada grupo.”  \n",
        "  z = df.groupby('grupo')['valor'].transform(lambda x: (x-x.mean())/x.std())\n",
        "\n",
        "  # “Apply: retorne sum e count por grupo como Series.”  \n",
        "  custom = df.groupby('grupo').apply(lambda g: pd.Series({\n",
        "      'sum': g['valor'].sum(),\n",
        "      'count': g['valor'].count()\n",
        "  }))\n",
        "\n",
        "  # “Exiba resultados.”  \n",
        "  print(z)\n",
        "  print(custom)\n",
        "  ```\n",
        "\n",
        "  **2) Tabela de Estados Intermediários:**\n",
        "\n",
        "  ```markdown\n",
        "  | Passo        | Expressão           | Saída                        | O que faz?                            |\n",
        "  |:------------:|:--------------------|:-----------------------------|:--------------------------------------|\n",
        "  | 1            | `z`                  | Série de z-scores            | Normaliza por grupo                  |\n",
        "  | 2            | `custom`             | DataFrame sum/count          | Retorna estatísticas custom por grupo |\n",
        "  | 3            | –                    | imprime                      | Saída final                           |\n",
        "  ```\n",
        "\n",
        "  **3) Diagrama Mental (A Analogia Central):**  \n",
        "  Transform é como padronizar notas em cada sala de aula; apply é como criar relatório com totais e contagens de cada sala.\n",
        "\n",
        "* **Cenário de Mercado:**  \n",
        "  Em **engenharia de features**, usar transform para normalizar dados dentro de cada categoria antes de modelagem.\n",
        "\n",
        "* **Boas Práticas:**  \n",
        "  - **Afirmação:** “Prefira `transform` para manter alinhamento original.”  \n",
        "    - **Porquê:** `apply` pode alterar índice e shape.\n"
      ]
    },
    {
      "cell_type": "markdown",
      "metadata": {
        "id": "yqPQLy0E4X61"
      },
      "source": [
        "#### **Nível DEUS (1/3): GroupBy em MultiIndex com Níveis Múltiplos**\n"
      ]
    },
    {
      "cell_type": "code",
      "execution_count": null,
      "metadata": {
        "id": "fBV6ZX4V4X61"
      },
      "outputs": [],
      "source": [
        "import pandas as pd\n",
        "arrays = [['Loja1','Loja1','Loja2','Loja2'], [2020,2021,2020,2021]]\n",
        "idx = pd.MultiIndex.from_arrays(arrays, names=('loja','ano'))\n",
        "df2 = pd.DataFrame({'vendas':[100,120,80,90]}, index=idx)\n",
        "# Soma vendas por loja e ano\n",
        "multi = df2.groupby(level=['loja','ano']).sum()\n",
        "print(multi)\n"
      ]
    },
    {
      "cell_type": "code",
      "execution_count": null,
      "metadata": {
        "id": "4gTqWwXq4X61"
      },
      "outputs": [],
      "source": [
        "# Pratique seu código aqui!\n"
      ]
    },
    {
      "cell_type": "markdown",
      "metadata": {
        "id": "5Sd2OioD4X61"
      },
      "source": [
        "* **O que o código faz:**  \n",
        "\n",
        "  **1) Explicação Linha a Linha (Diálogo com o Código):**  \n",
        "  ```python\n",
        "  # “Crie MultiIndex de loja e ano.”  \n",
        "  idx = pd.MultiIndex.from_arrays(...)\n",
        "\n",
        "  # “Monte DataFrame com vendas.”  \n",
        "  df2 = pd.DataFrame({...}, index=idx)\n",
        "\n",
        "  # “GroupBy níveis loja e ano e some.”  \n",
        "  multi = df2.groupby(level=['loja','ano']).sum()\n",
        "\n",
        "  # “Mostre resultado.”  \n",
        "  print(multi)\n",
        "  ```\n",
        "\n",
        "  **2) Tabela de Estados Intermediários:**\n",
        "\n",
        "  ```markdown\n",
        "  | Passo   | Expressão                      | Saída             | O que faz?                        |\n",
        "  |:-------:|:-------------------------------|:------------------|:----------------------------------|\n",
        "  | 1       | `multi`                        | MultiIndex DF     | Agrega em níveis especificados    |\n",
        "  | 2       | –                              | imprime           | Saída final                       |\n",
        "  ```\n",
        "\n",
        "  **3) Diagrama Mental (A Analogia Central):**  \n",
        "  É como contar vendas de cada loja por ano, mantendo hierarquia de pastas “loja/ano”.\n",
        "\n",
        "* **Cenário de Mercado:**  \n",
        "  Em **relatórios financeiros**, agrupar por departamento e trimestre para análise detalhada.\n",
        "\n",
        "* **Boas Práticas:**  \n",
        "  - **Afirmação:** “Use `level` para granularidade exata.”  \n",
        "    - **Porquê:** Evita redefinir índices manualmente.\n"
      ]
    },
    {
      "cell_type": "markdown",
      "metadata": {
        "id": "E7lwxzqr4X62"
      },
      "source": [
        "#### **Nível DEUS (2/3): Rolling GroupBy (janelamento por grupo)**\n"
      ]
    },
    {
      "cell_type": "code",
      "execution_count": null,
      "metadata": {
        "id": "OQezO37H4X62"
      },
      "outputs": [],
      "source": [
        "import pandas as pd\n",
        "df = pd.DataFrame({\n",
        "    'grupo': ['A','A','A','B','B','B'],\n",
        "    'valor': [1,2,3,4,5,6]\n",
        "})\n",
        "# Z-score rolante de janela 2 por grupo\n",
        "roll = df.groupby('grupo')['valor'].rolling(window=2).mean().reset_index(level=0, drop=True)\n",
        "print(roll)\n"
      ]
    },
    {
      "cell_type": "code",
      "execution_count": null,
      "metadata": {
        "id": "H0TAR53W4X62"
      },
      "outputs": [],
      "source": [
        "# Pratique seu código aqui!\n"
      ]
    },
    {
      "cell_type": "markdown",
      "metadata": {
        "id": "NdUvBZwx4X62"
      },
      "source": [
        "* **O que o código faz:**  \n",
        "\n",
        "  **1) Explicação Linha a Linha (Diálogo com o Código):**  \n",
        "  ```python\n",
        "  # “Crie DataFrame com grupos A e B.”  \n",
        "  df = pd.DataFrame({...})\n",
        "\n",
        "  # “GroupBy e rolling window 2 para media rolante.”  \n",
        "  roll = df.groupby('grupo')['valor'].rolling(window=2).mean().reset_index(level=0, drop=True)\n",
        "\n",
        "  # “Mostre médias rolantes.”  \n",
        "  print(roll)\n",
        "  ```\n",
        "\n",
        "  **2) Tabela de Estados Intermediários:**\n",
        "\n",
        "  ```markdown\n",
        "  | Passo | Expressão               | Saída            | O que faz?                    |\n",
        "  |:-----:|:------------------------|:-----------------|:------------------------------|\n",
        "  | 1     | `roll`                  | Série de médias  | Média rolante por grupo      |\n",
        "  | 2     | –                       | imprime          | Saída final                   |\n",
        "  ```\n",
        "\n",
        "  **3) Diagrama Mental (A Analogia Central):**  \n",
        "  É como calcular média das duas últimas temperaturas registradas para cada sensor em lotes.\n"
      ]
    },
    {
      "cell_type": "markdown",
      "metadata": {
        "id": "TTGR7iLG4X62"
      },
      "source": [
        "#### **Nível DEUS (3/3): GroupBy com `.pipe()` em Pipeline Complexo**\n"
      ]
    },
    {
      "cell_type": "code",
      "execution_count": null,
      "metadata": {
        "id": "xMqPqDks4X62"
      },
      "outputs": [],
      "source": [
        "import pandas as pd\n",
        "def sum_group(df):\n",
        "    return df.groupby('grupo')['valor'].sum().reset_index(name='total')\n",
        "def add_ratio(df):\n",
        "    df['ratio'] = df['total'] / df['total'].sum()\n",
        "    return df\n",
        "\n",
        "df = pd.DataFrame({'grupo': ['X','X','Y','Y'], 'valor':[10,20,30,40]})\n",
        "result = (df\n",
        "          .pipe(sum_group)\n",
        "          .pipe(add_ratio))\n",
        "print(result)\n"
      ]
    },
    {
      "cell_type": "code",
      "execution_count": null,
      "metadata": {
        "id": "eLNxYhlO4X62"
      },
      "outputs": [],
      "source": [
        "# Pratique seu código aqui!\n"
      ]
    },
    {
      "cell_type": "markdown",
      "metadata": {
        "id": "ceQDoewT4X62"
      },
      "source": [
        "* **O que o código faz:**  \n",
        "\n",
        "  **1) Explicação Linha a Linha (Diálogo com o Código):**  \n",
        "  ```python\n",
        "  # “Defina sum_group para agregar soma por grupo.”  \n",
        "  def sum_group(df): …\n",
        "\n",
        "  # “Defina add_ratio para calcular proporções.”  \n",
        "  def add_ratio(df): …\n",
        "\n",
        "  # “Crie DataFrame com grupos e valores.”  \n",
        "  df = pd.DataFrame({...})\n",
        "\n",
        "  # “Aplique pipeline: soma e depois razãoporcentual.”  \n",
        "  result = df.pipe(sum_group).pipe(add_ratio)\n",
        "\n",
        "  # “Mostre resultado.”  \n",
        "  print(result)\n",
        "  ```\n",
        "\n",
        "  **2) Tabela de Estados Intermediários:**\n",
        "\n",
        "  ```markdown\n",
        "  | Passo    | Expressão                 | Saída              | O que faz?                           |\n",
        "  |:--------:|:--------------------------|:-------------------|:-------------------------------------|\n",
        "  | 1        | `pipe(sum_group)`         | DF com total       | Soma agregada                        |\n",
        "  | 2        | `pipe(add_ratio)`         | DF com ratio       | Ratio de participação no total       |\n",
        "  | 3        | –                         | imprime            | Saída final                          |\n",
        "  ```\n",
        "\n",
        "  **3) Diagrama Mental (A Analogia Central):**  \n",
        "  Pipeline é linha de montagem: na primeira estação soma itens, na segunda calcula participação de cada grupo.\n",
        "\n",
        "* **Cenário de Mercado:**  \n",
        "  Em **marketing analytics**, agrupar gastos por campanha e depois calcular porcentagem de budget por campanha.\n",
        "\n",
        "* **Boas Práticas:**  \n",
        "  - **Afirmação:** “Encadeie GroupBy + pipe para legibilidade.”  \n",
        "    - **Porquê:** Separa lógica de agregação e pós-processamento.\n"
      ]
    },
    {
      "cell_type": "markdown",
      "metadata": {
        "id": "jfUEHQiD4X63"
      },
      "source": [
        "### 3. 🕸️ Profundezas e Conexões\n",
        "\n",
        "<br>\n",
        "\n",
        "GroupBy do Pandas inspira APIs em **SQL** (`GROUP BY`), **dplyr** (`summarise`), e **Spark** (`.groupBy()`), possibilitando operações em larga escala e integração direta com pipelines de big data.\n",
        "\n",
        "<br>\n",
        "\n",
        "---\n",
        "<br>\n"
      ]
    },
    {
      "cell_type": "markdown",
      "metadata": {
        "id": "Ph348dvc4X63"
      },
      "source": [
        "### 4. 🚀 Ação e Verificação\n",
        "\n",
        "<br>\n",
        "\n",
        "#### **🤔 Desafio Prático**\n",
        "1. Carregue `/mnt/data/exemplo.csv` e agrupe por coluna `categoria`, calculando soma e média de `valor`.  \n",
        "2. Aplique múltiplas agregações (`sum`, `min`, `max`) em colunas numéricas de um DataFrame complexo.  \n",
        "3. Filtre grupos cujo total de vendas seja maior que 500 com `filter()`.  \n",
        "4. Use `transform()` para padronizar (`z-score`) valores dentro de cada grupo.  \n",
        "5. Monte pipeline com `pipe()` que agrupa por `regiao`, soma `vendas` e acrescenta coluna `pct = vendas / vendas.sum()`.\n",
        "\n",
        "<br>\n",
        "\n",
        "#### **❓ Pergunta de Verificação**\n",
        "Como escolher entre `agg()`, `transform()` e `apply()` para diferentes necessidades de GroupBy?\n",
        "\n",
        "<br>\n",
        "\n",
        "---\n",
        "<br>\n"
      ]
    }
  ]
}