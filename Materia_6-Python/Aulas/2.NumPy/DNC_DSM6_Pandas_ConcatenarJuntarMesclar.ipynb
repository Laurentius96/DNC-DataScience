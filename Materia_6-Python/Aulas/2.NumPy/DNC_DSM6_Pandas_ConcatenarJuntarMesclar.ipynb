{
  "nbformat": 4,
  "nbformat_minor": 0,
  "metadata": {
    "colab": {
      "toc_visible": true,
      "provenance": []
    },
    "kernelspec": {
      "name": "python3",
      "display_name": "Python 3"
    }
  },
  "cells": [
    {
      "cell_type": "markdown",
      "metadata": {
        "id": "PwsJUfz2tksM"
      },
      "source": [
        "## 🎓 **Aula sobre: Pandas — Concatenar, Juntar e Mesclar**\n",
        "\n",
        "<br>\n",
        "\n",
        "### 🧭 Sumário da Aula\n",
        "\n",
        "| # | Sub-tópico                        | Tempo Estimado | Complexidade |\n",
        "|---|-----------------------------------|----------------|--------------|\n",
        "| 1 | Ficha de Revisão Rápida           | ~1 min         | ⭐           |\n",
        "| 2 | Mergulho Profundo                 | ~15 min        | ⭐⭐⭐⭐       |\n",
        "| 3 | Profundezas e Conexões            | ~3 min         | ⭐⭐         |\n",
        "| 4 | 🚀 Ação e Verificação             | ~5 min         | ⭐⭐         |\n",
        "| 5 | 🌊 Mergulhos Adicionais Opcionais  | Opcional      | ⭐⭐⭐⭐      |\n",
        "\n",
        "<br>\n",
        "\n",
        "---\n",
        "<br>\n"
      ]
    },
    {
      "cell_type": "markdown",
      "metadata": {
        "id": "-__7HuYYtksQ"
      },
      "source": [
        "### 1. 🧠 Ficha de Revisão Rápida | (O Essencial)\n",
        "\n",
        "<br>\n",
        "\n",
        "> - **concat:** une DataFrames no eixo 0 ou 1, mantendo colunas/index.  \n",
        "> - **join:** método de DataFrame para juntar pelo índice (inner/left).  \n",
        "> - **merge:** API similar a SQL `JOIN` por colunas-chave.  \n",
        "> - **how:** define tipo de junção: `inner`, `left`, `right`, `outer`.  \n",
        "> - **keys:** cria MultiIndex ao concatenar partes.\n",
        "\n",
        "<br>\n"
      ]
    },
    {
      "cell_type": "markdown",
      "metadata": {
        "id": "LcwSLY-NtksR"
      },
      "source": [
        "### 2. 🔬 Mergulho Profundo | (Os Detalhes)\n",
        "\n",
        "<br>\n",
        "\n",
        "#### **🎯 O Conceito Central**  \n",
        "— **concat:** empilha ou concatena colunas de DataFrames semelhantes.  \n",
        "— **join:** facilita juntar DataFrames pelo índice, similar a `merge(..., left_index=True, right_index=True)`.  \n",
        "— **merge:** combina tabelas por colunas-chave, controlando como casar registros.  \n",
        "O parâmetro **how** decide se preserva apenas interseções (`inner`) ou inclui todas as chaves (`outer`), mantendo NaN onde não há correspondência.\n",
        "\n",
        "<br>\n",
        "\n",
        "#### **🔗 Analogia de Data Science**  \n",
        "Imagine três planilhas de vendas:  \n",
        "- **concat:** é empilhar páginas umas sobre as outras (por data) ou lado a lado (por métrica).  \n",
        "- **join:** é encaixar duas planilhas que têm a mesma sequência de linhas (índice).  \n",
        "- **merge:** é igual a cruzar duas planilhas por código de produto, gerando uma terceira com informação combinada.\n",
        "\n",
        "<br>\n",
        "\n",
        "### **💻 Exemplos de Mercado (Abrangentes)**\n"
      ]
    },
    {
      "cell_type": "markdown",
      "metadata": {
        "id": "6ntreh0HtksR"
      },
      "source": [
        "#### **Nível Simples: Usando `concat` para empilhar fatias de um dataset real**\n"
      ]
    },
    {
      "cell_type": "code",
      "execution_count": null,
      "metadata": {
        "id": "UQ7aBxCetksS"
      },
      "outputs": [],
      "source": [
        "import pandas as pd\n",
        "import seaborn as sns\n",
        "\n",
        "# Carrega dados reais de gorjetas\n",
        "tips = sns.load_dataset('tips')\n",
        "\n",
        "# Divida por dia da semana\n",
        "df1 = tips[tips['day'].isin(['Thur','Fri'])].head(5)\n",
        "df2 = tips[tips['day'].isin(['Sat','Sun'])].head(5)\n",
        "\n",
        "# Empilhe verticalmente\n",
        "concatenado = pd.concat([df1, df2], axis=0, ignore_index=True)\n",
        "\n",
        "print(\"Parte 1:\\n\", df1)\n",
        "print(\"Parte 2:\\n\", df2)\n",
        "print(\"Concatenado:\\n\", concatenado)\n"
      ]
    },
    {
      "cell_type": "code",
      "execution_count": null,
      "metadata": {
        "id": "BcF1ogpjtksS"
      },
      "outputs": [],
      "source": [
        "# Pratique seu código aqui!\n"
      ]
    },
    {
      "cell_type": "markdown",
      "metadata": {
        "id": "72G1dLFutksT"
      },
      "source": [
        "* **O que o código faz:**  \n",
        "\n",
        "  **1) Explicação Linha a Linha (Diálogo com o Código):**  \n",
        "  ```python\n",
        "  # “Importe pandas e seaborn.”  \n",
        "  import pandas as pd  \n",
        "  import seaborn as sns  \n",
        "\n",
        "  # “Carregue dataset de gorjetas.”  \n",
        "  tips = sns.load_dataset('tips')  \n",
        "\n",
        "  # “Pegue as 5 primeiras linhas de Thur e Fri.”  \n",
        "  df1 = tips[tips['day'].isin(['Thur','Fri'])].head(5)  \n",
        "\n",
        "  # “Pegue as 5 primeiras de Sat e Sun.”  \n",
        "  df2 = tips[tips['day'].isin(['Sat','Sun'])].head(5)  \n",
        "\n",
        "  # “Concatene df1 e df2 verticalmente.”  \n",
        "  concatenado = pd.concat([df1, df2], axis=0, ignore_index=True)  \n",
        "\n",
        "  # “Mostre as partes e o resultado.”  \n",
        "  print(df1, df2, concatenado)  \n",
        "  ```\n",
        "\n",
        "  **2) Tabela de Estados Intermediários:**\n",
        "\n",
        "  ```markdown\n",
        "  | Passo          | Expressão                          | Saída                            | O que faz?                         |\n",
        "  |:--------------:|:-----------------------------------|:---------------------------------|:-----------------------------------|\n",
        "  | 1              | `df1`                              | 5 linhas Thur/Fri                | Parte superior do dataset          |\n",
        "  | 2              | `df2`                              | 5 linhas Sat/Sun                 | Parte inferior                    |\n",
        "  | 3              | `pd.concat([df1,df2])`             | 10 linhas                        | Empilha linhas sem duplicar índice |\n",
        "  | 4              | –                                  | imprime                          | Saída final                        |\n",
        "  ```\n",
        "\n",
        "  **3) Diagrama Mental (A Analogia Central):**  \n",
        "  É como juntar duas pilhas de relatórios de dias diferentes em uma só montanha, mantendo a ordem e renumerando as folhas.\n",
        "\n",
        "* **Cenário de Mercado:**  \n",
        "  - Em **ETL de logs**, concatena lotes diários de registros para compor um histórico contínuo.  \n",
        "  - Ao processar streams, usa-se `concat` em janelas fixas para análise incremental.\n",
        "\n",
        "* **Boas Práticas:**  \n",
        "  - **Afirmação:** “Use `ignore_index=True` ao empilhar períodos.”  \n",
        "    - **Porquê:** Evita índices duplicados; gera novo índice limpo.  \n",
        "    - **Analogia:** É como renumerar as páginas quando junta relatórios de meses diferentes.\n"
      ]
    },
    {
      "cell_type": "markdown",
      "metadata": {
        "id": "KO0SqGF5tksT"
      },
      "source": [
        "#### **Nível Intermediário: Juntando pelo índice com `.join()`**\n"
      ]
    },
    {
      "cell_type": "code",
      "execution_count": null,
      "metadata": {
        "id": "HFieNLwOtksT"
      },
      "outputs": [],
      "source": [
        "import pandas as pd\n",
        "import seaborn as sns\n",
        "\n",
        "# Carrega dataset de flights e clima\n",
        "flights = sns.load_dataset('flights').pivot(index='year', columns='month', values='passengers')\n",
        "weather = sns.load_dataset('flights').groupby('year')['passengers'].sum().to_frame('total_pass')\n",
        "\n",
        "# .join usa índice em comum (year)\n",
        "juntado = flights.join(weather, how='inner')\n",
        "\n",
        "print(\"Flighs (pivot):\\n\", flights.head())\n",
        "print(\"Weather total:\\n\", weather.head())\n",
        "print(\"Joined:\\n\", juntado.head())\n"
      ]
    },
    {
      "cell_type": "code",
      "execution_count": null,
      "metadata": {
        "id": "9OHMcMUGtksT"
      },
      "outputs": [],
      "source": [
        "# Pratique seu código aqui!\n"
      ]
    },
    {
      "cell_type": "markdown",
      "metadata": {
        "id": "jBYtugCftksU"
      },
      "source": [
        "* **O que o código faz:**  \n",
        "\n",
        "  **1) Explicação Linha a Linha (Diálogo com o Código):**  \n",
        "  ```python\n",
        "  # “Importe seaborn e pandas.”  \n",
        "  import pandas as pd  \n",
        "  import seaborn as sns  \n",
        "\n",
        "  # “Pivot de passageiros por ano×mês.”  \n",
        "  flights = sns.load_dataset('flights').pivot(...)\n",
        "\n",
        "  # “Some passageiros por ano.”  \n",
        "  weather = sns.load_dataset('flights').groupby('year')['passengers'].sum().to_frame('total_pass')\n",
        "\n",
        "  # “Junte pelo índice year.”  \n",
        "  juntado = flights.join(weather, how='inner')\n",
        "\n",
        "  # “Mostre partes e resultado.”  \n",
        "  print(flights.head(), weather.head(), juntado.head())\n",
        "  ```\n",
        "\n",
        "  **2) Tabela de Estados Intermediários:**\n",
        "\n",
        "  ```markdown\n",
        "  | Passo     | Expressão           | Saída                          | O que faz?                          |\n",
        "  |:---------:|:--------------------|:-------------------------------|:------------------------------------|\n",
        "  | 1         | `flights`           | DataFrame 12×12 (ano×mês)      | Pivot tabela                        |\n",
        "  | 2         | `weather`           | Series/DataFrame (ano,total)   | Total anual de passageiros          |\n",
        "  | 3         | `flights.join()`    | 12×13 DataFrame                | Acrescenta coluna total_pass        |\n",
        "  | 4         | –                   | imprime                         | Saída final                         |\n",
        "  ```\n",
        "\n",
        "  **3) Diagrama Mental (A Analogia Central):**  \n",
        "  Pense em duas planilhas com o mesmo índice (ano); `join` as alinha como páginas do mesmo caderno, colocando colunas lado a lado.\n",
        "\n",
        "* **Cenário de Mercado:**  \n",
        "  Em **BI**, junta métricas mensais (pivot) com totais anuais para relatório integrado no dashboard.\n",
        "\n",
        "* **Boas Práticas:**  \n",
        "  - **Afirmação:** “Use `how='inner'` para garantir anos comuns.”  \n",
        "    - **Porquê:** Evita linhas com ano faltante em uma das tabelas.  \n",
        "    - **Analogia:** É como só mostrar anos para os quais existem ambos os conjuntos de dados.\n"
      ]
    },
    {
      "cell_type": "markdown",
      "metadata": {
        "id": "bg_ighaXtksU"
      },
      "source": [
        "#### **Nível Avançado: Mesclando com `merge()` e diferentes joins**\n"
      ]
    },
    {
      "cell_type": "code",
      "execution_count": null,
      "metadata": {
        "id": "AIGqacV_tksU"
      },
      "outputs": [],
      "source": [
        "import pandas as pd\n",
        "import seaborn as sns\n",
        "\n",
        "# Dataset originales\n",
        "tips = sns.load_dataset('tips')[['day','time','total_bill']].head(8)\n",
        "payments = pd.DataFrame({\n",
        "    'day': ['Thur','Fri','Sat','Sun','Mon'],\n",
        "    'method': ['Card','Cash','Card','Cash','Card']\n",
        "})\n",
        "\n",
        "# SQL-style merges\n",
        "inner = pd.merge(tips, payments, on='day', how='inner')\n",
        "left = pd.merge(tips, payments, on='day', how='left')\n",
        "outer = pd.merge(tips, payments, on='day', how='outer', indicator=True)\n",
        "\n",
        "print(\"Tips:\\n\", tips)\n",
        "print(\"Payments:\\n\", payments)\n",
        "print(\"Inner Merge:\\n\", inner)\n",
        "print(\"Left Merge:\\n\", left)\n",
        "print(\"Outer Merge:\\n\", outer)\n"
      ]
    },
    {
      "cell_type": "code",
      "execution_count": null,
      "metadata": {
        "id": "e0Q4W5WYtksU"
      },
      "outputs": [],
      "source": [
        "# Pratique seu código aqui!\n"
      ]
    },
    {
      "cell_type": "markdown",
      "metadata": {
        "id": "Oq5O23sctksV"
      },
      "source": [
        "* **O que o código faz:**  \n",
        "\n",
        "  **1) Explicação Linha a Linha (Diálogo com o Código):**  \n",
        "  ```python\n",
        "  # “Carregue primeiras 8 linhas de tips com day, time, total_bill.”  \n",
        "  tips = sns.load_dataset('tips')[…].head(8)\n",
        "\n",
        "  # “Crie DataFrame de métodos de pagamento por dia.”  \n",
        "  payments = pd.DataFrame({…})\n",
        "\n",
        "  # “Merge inner em day.”  \n",
        "  inner = pd.merge(tips, payments, on='day', how='inner')\n",
        "\n",
        "  # “Merge left em day.”  \n",
        "  left = pd.merge(tips, payments, on='day', how='left')\n",
        "\n",
        "  # “Merge outer com indicador de origem.”  \n",
        "  outer = pd.merge(tips, payments, on='day', how='outer', indicator=True)\n",
        "\n",
        "  # “Exiba tudo.”  \n",
        "  print(tips, payments, inner, left, outer)\n",
        "  ```\n",
        "\n",
        "  **2) Tabela de Estados Intermediários:**\n",
        "\n",
        "  ```markdown\n",
        "  | Passo      | Expressão                       | Saída                       | O que faz?                        |\n",
        "  |:----------:|:--------------------------------|:----------------------------|:----------------------------------|\n",
        "  | 1          | `inner`                         | somente dias comuns         | Intersection de chaves            |\n",
        "  | 2          | `left`                          | todos de tips + métodos      | Preserva todas as linhas de tips  |\n",
        "  | 3          | `outer`                         | união completa + indicador   | Inclui todas as chaves            |\n",
        "  | 4          | –                               | imprime                      | Saída final                       |\n",
        "  ```\n",
        "\n",
        "  **3) Diagrama Mental (A Analogia Central):**  \n",
        "  Cada tipo de `merge` é como escolher conjunto de cartões: `inner` mantém só interseção, `left` mantém todo baralho A, `outer` junta ambos com marcação de origem.\n",
        "\n",
        "* **Cenário de Mercado:**  \n",
        "  - Em **reconciliação financeira**, `inner` encontra transações correspondentes, `left` preserva lançamentos internos, `outer` mostra discrepâncias.  \n",
        "\n",
        "* **Boas Práticas:**  \n",
        "  - **Afirmação:** “Use `indicator=True` para depuração.”  \n",
        "    - **Porquê:** Identifica origem dos registros após mesclagem.  \n",
        "    - **Analogia:** É como usar tinta de cores diferentes para saber de qual lista veio cada item.\n"
      ]
    },
    {
      "cell_type": "markdown",
      "metadata": {
        "id": "idR-6fgstksV"
      },
      "source": [
        "#### **Nível DEUS (1/3): Concatenação com MultiIndex via `keys`**\n"
      ]
    },
    {
      "cell_type": "code",
      "execution_count": null,
      "metadata": {
        "id": "G1dxcOlFtksV"
      },
      "outputs": [],
      "source": [
        "import pandas as pd\n",
        "import seaborn as sns\n",
        "\n",
        "df1 = sns.load_dataset('tips').query(\"day=='Thur'\").head(3)\n",
        "df2 = sns.load_dataset('tips').query(\"day=='Fri'\").head(3)\n",
        "# concat com keys cria MultiIndex\n",
        "multi = pd.concat([df1, df2], keys=['Thu','Fri'])\n",
        "print(multi)\n"
      ]
    },
    {
      "cell_type": "code",
      "execution_count": null,
      "metadata": {
        "id": "D1hmDdCgtksV"
      },
      "outputs": [],
      "source": [
        "# Pratique seu código aqui!\n"
      ]
    },
    {
      "cell_type": "markdown",
      "metadata": {
        "id": "H3CQPDgYtksV"
      },
      "source": [
        "* **O que o código faz:**  \n",
        "\n",
        "  **1) Explicação Linha a Linha (Diálogo com o Código):**  \n",
        "  ```python\n",
        "  # “Pegue 3 registros de Thur e Fri.”  \n",
        "  df1 = sns.load_dataset('tips').query(\"day=='Thur'\").head(3)  \n",
        "  df2 = sns.load_dataset('tips').query(\"day=='Fri'\").head(3)  \n",
        "\n",
        "  # “Concatene com keys para criar MultiIndex.”  \n",
        "  multi = pd.concat([df1, df2], keys=['Thu','Fri'])  \n",
        "\n",
        "  # “Mostre resultado.”  \n",
        "  print(multi)  \n",
        "  ```\n",
        "\n",
        "  **2) Tabela de Estados Intermediários:**\n",
        "\n",
        "  ```markdown\n",
        "  | Passo | Expressão                   | Saída                                 | O que faz?                      |\n",
        "  |:-----:|:----------------------------|:--------------------------------------|:--------------------------------|\n",
        "  | 1     | `multi`                     | DataFrame com MultiIndex (day, original_index) | Cria hierarquia de chaves |\n",
        "  | 2     | –                           | imprime                               | Saída final                     |\n",
        "  ```\n",
        "\n",
        "  **3) Diagrama Mental (A Analogia Central):**  \n",
        "  Keys funcionam como pastas principais (Thu/Fri) e subpastas internas (índice original), organizando hierarquias.\n",
        "\n",
        "* **Cenário de Mercado:**  \n",
        "  Em **relatórios semanais**, agrupa dados por dia com labels claros no índice para facilitar agregações posteriores.\n",
        "\n",
        "* **Boas Práticas:**  \n",
        "  - **Afirmação:** “Use `keys` para rastrear origem.”  \n",
        "    - **Porquê:** Facilita identificação de grupo original após concat.\n"
      ]
    },
    {
      "cell_type": "markdown",
      "metadata": {
        "id": "GjkB5L2rtksV"
      },
      "source": [
        "#### **Nível DEUS (2/3): Join Complexo com Índices Diferentes**\n"
      ]
    },
    {
      "cell_type": "code",
      "execution_count": null,
      "metadata": {
        "id": "jtWjTx1gtksV"
      },
      "outputs": [],
      "source": [
        "import pandas as pd\n",
        "\n",
        "dfA = pd.DataFrame({'keyA':[1,2,3], 'valA':[10,20,30]}).set_index('keyA')\n",
        "dfB = pd.DataFrame({'keyB':[2,3,4], 'valB':[200,300,400]}).set_index('keyB')\n",
        "\n",
        "# join equivalente a merge left_index/right_index\n",
        "joined = dfA.join(dfB, how='outer')\n",
        "print(joined)\n"
      ]
    },
    {
      "cell_type": "code",
      "execution_count": null,
      "metadata": {
        "id": "qWziz0IntksW"
      },
      "outputs": [],
      "source": [
        "# Pratique seu código aqui!\n"
      ]
    },
    {
      "cell_type": "markdown",
      "metadata": {
        "id": "gnsMYPThtksW"
      },
      "source": [
        "* **O que o código faz:**  \n",
        "\n",
        "  **1) Explicação Linha a Linha (Diálogo com o Código):**  \n",
        "  ```python\n",
        "  # “Crie dfA e dfB com índices distintos.”  \n",
        "  dfA = pd.DataFrame({…}).set_index('keyA')  \n",
        "  dfB = pd.DataFrame({…}).set_index('keyB')  \n",
        "\n",
        "  # “Faça join outer pelos índices.”  \n",
        "  joined = dfA.join(dfB, how='outer')  \n",
        "\n",
        "  # “Mostre resultado.”  \n",
        "  print(joined)  \n",
        "  ```\n",
        "\n",
        "  **2) Tabela de Estados Intermediários:**\n",
        "\n",
        "  ```markdown\n",
        "  | Passo   | Expressão         | Saída                  | O que faz?                   |\n",
        "  |:-------:|:------------------|:-----------------------|:-----------------------------|\n",
        "  | 1       | `joined`          | índices 1–4, valA,valB | União de índices             |\n",
        "  | 2       | –                 | imprime                | Saída final                  |\n",
        "  ```\n",
        "\n",
        "  **3) Diagrama Mental (A Analogia Central):**  \n",
        "  Join é como unir duas listas telefônicas com chaves diferentes, preservando números de ambas.\n",
        "\n",
        "* **Cenário de Mercado:**  \n",
        "  Em **integração de sistemas**, junta tabelas com chaves primárias diferentes definindo relacionamento via índices.\n",
        "\n",
        "* **Boas Práticas:**  \n",
        "  - **Afirmação:** “Renomeie índices antes de join para evitar ambiguidades.”  \n",
        "    - **Porquê:** Evita sobrescrever colunas ou confundir chaves.\n"
      ]
    },
    {
      "cell_type": "markdown",
      "metadata": {
        "id": "95xiSL1htksW"
      },
      "source": [
        "#### **Nível DEUS (3/3): Mesclagem Complexa com `on`, `left_on`/`right_on` e `indicator`**\n"
      ]
    },
    {
      "cell_type": "code",
      "execution_count": null,
      "metadata": {
        "id": "Hv7VVxPwtksW"
      },
      "outputs": [],
      "source": [
        "import pandas as pd\n",
        "\n",
        "orders = pd.DataFrame({\n",
        "    'order_id':[100,101,102],\n",
        "    'customer_id':[1,2,3]\n",
        "})\n",
        "customers = pd.DataFrame({\n",
        "    'cust_id':[2,3,4],\n",
        "    'name':['Alice','Bob','Carol']\n",
        "})\n",
        "\n",
        "# merge com nomes de colunas diferentes\n",
        "merged = pd.merge(orders, customers,\n",
        "                  left_on='customer_id',\n",
        "                  right_on='cust_id',\n",
        "                  how='outer',\n",
        "                  indicator=True)\n",
        "\n",
        "print(orders)\n",
        "print(customers)\n",
        "print(merged)\n"
      ]
    },
    {
      "cell_type": "code",
      "execution_count": null,
      "metadata": {
        "id": "Cd66QeOJtksX"
      },
      "outputs": [],
      "source": [
        "# Pratique seu código aqui!\n"
      ]
    },
    {
      "cell_type": "markdown",
      "metadata": {
        "id": "i3CnJmzgtksX"
      },
      "source": [
        "* **O que o código faz:**  \n",
        "\n",
        "  **1) Explicação Linha a Linha (Diálogo com o Código):**  \n",
        "  ```python\n",
        "  # “Crie DataFrame orders e customers.”  \n",
        "  orders = pd.DataFrame({…})  \n",
        "  customers = pd.DataFrame({…})  \n",
        "\n",
        "  # “Merge outer usando left_on/right_on e indicador.”  \n",
        "  merged = pd.merge(orders, customers,\n",
        "                    left_on='customer_id',\n",
        "                    right_on='cust_id',\n",
        "                    how='outer',\n",
        "                    indicator=True)  \n",
        "\n",
        "  # “Mostre todos.”  \n",
        "  print(orders, customers, merged)  \n",
        "  ```\n",
        "\n",
        "  **2) Tabela de Estados Intermediários:**\n",
        "\n",
        "  ```markdown\n",
        "  | Passo    | Expressão                  | Saída                        | O que faz?                        |\n",
        "  |:--------:|:---------------------------|:-----------------------------|:----------------------------------|\n",
        "  | 1        | `merged`                   | união orders/customers + _merge | Mostra origem de cada linha   |\n",
        "  | 2        | –                          | imprime                      | Saída final                       |\n",
        "  ```\n",
        "\n",
        "  **3) Diagrama Mental (A Analogia Central):**  \n",
        "  É como casar listas com chaves diferentes (customer_id e cust_id) e usar carimbo para saber de onde veio cada registro.\n",
        "\n",
        "* **Cenário de Mercado:**  \n",
        "  Em **CRM**, mescla pedidos com cadastro de clientes, identificando pedidos sem cliente ou clientes sem pedidos.\n",
        "\n",
        "* **Boas Práticas:**  \n",
        "  - **Afirmação:** “Use `indicator=True` para auditoria de dados.”  \n",
        "    - **Porquê:** Facilita validar resultados de mesclagem.  \n",
        "    - **Analogia:** É como marcar cada carta recebida de qual remetente veio.\n"
      ]
    },
    {
      "cell_type": "markdown",
      "metadata": {
        "id": "0iaKHn6ttksX"
      },
      "source": [
        "### 3. 🕸️ Profundezas e Conexões\n",
        "\n",
        "<br>\n",
        "\n",
        "Concat, join e merge refletem operações SQL (`UNION`, `JOIN`, `MERGE`) e APIs de Spark DataFrame, permitindo escalar esses padrões para Big Data.\n",
        "\n",
        "<br>\n",
        "\n",
        "---\n",
        "<br>\n"
      ]
    },
    {
      "cell_type": "markdown",
      "metadata": {
        "id": "c3Aqb0nFtksX"
      },
      "source": [
        "### 4. 🚀 Ação e Verificação\n",
        "\n",
        "<br>\n",
        "\n",
        "#### **🤔 Desafio Prático**\n",
        "1. Carregue `/mnt/data/exemplo.csv` e divida em dois DataFrames por coluna `categoria`.  \n",
        "2. Use `concat` com `keys` para recombinar e identificar origem.  \n",
        "3. Defina um índice em `/mnt/data/livro.json` lido como DataFrame e faça `join` com outro DataFrame de ejemplares.  \n",
        "4. Mescle `/mnt/data/produtos.json` com DataFrame de vendas usando `merge` (left, right, outer) e compare resultados.  \n",
        "5. Utilize `indicator=True` para verificar linhas sem correspondência.\n",
        "\n",
        "<br>\n",
        "\n",
        "#### **❓ Pergunta de Verificação**\n",
        "Quando usar `concat` vs `join` vs `merge` e como cada um impacta a performance e a complexidade de memória?\n",
        "\n",
        "<br>\n",
        "\n",
        "---\n",
        "<br>\n"
      ]
    }
  ]
}