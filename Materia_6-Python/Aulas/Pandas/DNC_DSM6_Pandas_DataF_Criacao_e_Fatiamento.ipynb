{
  "nbformat": 4,
  "nbformat_minor": 0,
  "metadata": {
    "colab": {
      "toc_visible": true,
      "provenance": []
    },
    "kernelspec": {
      "name": "python3",
      "display_name": "Python 3"
    }
  },
  "cells": [
    {
      "cell_type": "markdown",
      "metadata": {
        "id": "wnRC-3mYSurr"
      },
      "source": [
        "## 🎓 **Aula sobre: DataFrame — Criação e Fatiamento**\n",
        "\n",
        "<br>\n",
        "\n",
        "### 🧭 Sumário da Aula\n",
        "\n",
        "| # | Sub-tópico                         | Tempo Estimado | Complexidade |\n",
        "|---|------------------------------------|----------------|--------------|\n",
        "| 1 | Ficha de Revisão Rápida            | ~1 min         | ⭐           |\n",
        "| 2 | Mergulho Profundo                  | ~15 min        | ⭐⭐⭐⭐       |\n",
        "| 3 | Profundezas e Conexões             | ~3 min         | ⭐⭐         |\n",
        "| 4 | 🚀 Ação e Verificação               | ~5 min         | ⭐⭐         |\n",
        "| 5 | 🌊 Mergulhos Adicionais Opcionais   | Opcional       | ⭐⭐⭐⭐      |\n",
        "\n",
        "<br>\n",
        "\n",
        "---\n",
        "<br>\n"
      ]
    },
    {
      "cell_type": "markdown",
      "metadata": {
        "id": "qq0j8HB3Surw"
      },
      "source": [
        "### 1. 🧠 Ficha de Revisão Rápida | (O Essencial)\n",
        "\n",
        "<br>\n",
        "\n",
        "> - **DataFrame:** tabela 2D rotulada de linhas e colunas.  \n",
        "> - **Criação básica:** `pd.DataFrame(dict)` a partir de dicionários ou listas.  \n",
        "> - **Seleção de colunas:** `df['col']` ou `df.col`.  \n",
        "> - **Fatiamento de linhas:** `df[start:stop]` (posicional).  \n",
        "> - **`.loc[]` / `.iloc[]`:** rótulos vs posições.\n",
        "\n",
        "<br>\n"
      ]
    },
    {
      "cell_type": "markdown",
      "metadata": {
        "id": "z1-oVBH_Surx"
      },
      "source": [
        "### 2. 🔬 Mergulho Profundo | (Os Detalhes)\n",
        "\n",
        "<br>\n",
        "\n",
        "#### **🎯 O Conceito Central**  \n",
        "Ao criar um DataFrame, o Pandas alinha colunas de mesmo comprimento em um bloco de memória. Fatiar com `[ ]` extrai colunas ou rows posicionalmente; `.loc[]` usa índices e nomes de colunas; `.iloc[]` recorta por posição. Internamente, cada coluna é uma *Series* NumPy view.\n",
        "\n",
        "<br>\n",
        "\n",
        "#### **🔗 Analogia de Data Science**  \n",
        "Pense num fichário:\n",
        "- As **colunas** são divisórias com etiquetas (nomes).  \n",
        "- As **linhas** são fichas numeradas (index).  \n",
        "- **`.loc`** é pegar fichas pelo número e divisória pelo nome.  \n",
        "- **`.iloc`** é pegar fichas pela ordem e divisórias pela posição.\n",
        "\n",
        "<br>\n",
        "\n",
        "### **💻 Exemplos de Mercado (Abrangentes)**\n"
      ]
    },
    {
      "cell_type": "markdown",
      "metadata": {
        "id": "HXah8v64Surx"
      },
      "source": [
        "#### **Nível Simples: Criando e Selecionando Colunas**\n"
      ]
    },
    {
      "cell_type": "code",
      "execution_count": null,
      "metadata": {
        "id": "0rgG7XEUSury"
      },
      "outputs": [],
      "source": [
        "import pandas as pd\n",
        "# Cria DataFrame de vendas por loja\n",
        "df = pd.DataFrame({\n",
        "    'loja': ['A','B','C','A','B'],\n",
        "    'vendas': [100,150,200,120,170],\n",
        "    'mes': ['Jan','Jan','Jan','Fev','Fev']\n",
        "})\n",
        "print(df)\n",
        "# Seleciona coluna 'vendas'\n",
        "print(df['vendas'])\n"
      ]
    },
    {
      "cell_type": "code",
      "execution_count": null,
      "metadata": {
        "id": "GhSJi8sySury"
      },
      "outputs": [],
      "source": [
        "# Pratique seu código aqui!\n"
      ]
    },
    {
      "cell_type": "markdown",
      "metadata": {
        "id": "iA3CoPxcSurz"
      },
      "source": [
        "* **O que o código faz:**  \n",
        "\n",
        "  **1) Explicação Linha a Linha (Diálogo com o Código):**  \n",
        "  ```python\n",
        "  # “Importe pandas como pd.”  \n",
        "  import pandas as pd\n",
        "\n",
        "  # “Crie um DataFrame com colunas loja, vendas e mes.”  \n",
        "  df = pd.DataFrame({…})\n",
        "\n",
        "  # “Mostre o DataFrame completo.”  \n",
        "  print(df)\n",
        "\n",
        "  # “Extraia a coluna 'vendas'.”  \n",
        "  print(df['vendas'])\n",
        "  ```\n",
        "\n",
        "  **2) Tabela de Estados Intermediários:**\n",
        "\n",
        "  ```markdown\n",
        "  | Passo | Expressão         | Saída                          | O que é?                    |\n",
        "  |:-----:|:------------------|:-------------------------------|:----------------------------|\n",
        "  | 1     | `df`              | 5×3 tabela                    | DataFrame criado           |\n",
        "  | 2     | `df['vendas']`    | Series de 5 valores           | Coluna isolada             |\n",
        "  | 3     | –                 | imprime                        | Saída final                |\n",
        "  ```\n",
        "\n",
        "  **3) Diagrama Mental (A Analogia Central):**  \n",
        "  Imagine uma tabela de vendas; ao chamar `df['vendas']`, você abre apenas a divisória “vendas” e vê só esses valores.\n",
        "\n",
        "* **Cenário de Mercado:**  \n",
        "  - **O que são “features” aqui?** As colunas representam *features* (atributos) de cada transação.  \n",
        "  - **Por que extrair colunas?** Para treinar modelos, isolamos variáveis (colunas) de interesse, como vendas, em arrays NumPy ou Series.\n",
        "\n",
        "* **Boas Práticas:**  \n",
        "  - **Afirmação:** “Use sempre `df[['col1','col2']]` para múltiplas colunas.”  \n",
        "    - **Porquê:** Mantém o objeto como DataFrame, não convertendo em Series.  \n",
        "    - **Analogia:** É como pegar várias pastas ao mesmo tempo em vez de uma só.\n"
      ]
    },
    {
      "cell_type": "markdown",
      "metadata": {
        "id": "Q6gDF2WBSurz"
      },
      "source": [
        "#### **Nível Intermediário: Fatiamento de Linhas com `.loc` e `.iloc`**\n"
      ]
    },
    {
      "cell_type": "code",
      "execution_count": null,
      "metadata": {
        "id": "Xa6lmftISurz"
      },
      "outputs": [],
      "source": [
        "import pandas as pd\n",
        "# Usa o mesmo df anterior, define index\n",
        "df.index = ['r1','r2','r3','r4','r5']\n",
        "# .loc por label\n",
        "print(df.loc['r2':'r4', ['loja','vendas']])\n",
        "# .iloc por posição\n",
        "print(df.iloc[1:4, 0:2])\n"
      ]
    },
    {
      "cell_type": "code",
      "execution_count": null,
      "metadata": {
        "id": "LISBjWaOSurz"
      },
      "outputs": [],
      "source": [
        "# Pratique seu código aqui!\n"
      ]
    },
    {
      "cell_type": "markdown",
      "metadata": {
        "id": "Sy7Mq4gkSur0"
      },
      "source": [
        "* **O que o código faz:**  \n",
        "\n",
        "  **1) Explicação Linha a Linha (Diálogo com o Código):**  \n",
        "  ```python\n",
        "  # “Defina índices r1–r5.”  \n",
        "  df.index = ['r1','r2','r3','r4','r5']\n",
        "\n",
        "  # “Selecione linhas r2 a r4 e colunas loja e vendas.”  \n",
        "  print(df.loc['r2':'r4', ['loja','vendas']])\n",
        "\n",
        "  # “Selecione pelas posições: linhas 1–3 e colunas 0–1.”  \n",
        "  print(df.iloc[1:4, 0:2])\n",
        "  ```\n",
        "\n",
        "  **2) Tabela de Estados Intermediários:**\n",
        "\n",
        "  ```markdown\n",
        "  | Passo           | Expressão                 | Saída                 | O que faz?                       |\n",
        "  |:---------------:|:--------------------------|:----------------------|:---------------------------------|\n",
        "  | 1               | `df.loc['r2':'r4', …]`    | 3×2 sub-DataFrame     | Slice label-based               |\n",
        "  | 2               | `df.iloc[1:4,0:2]`        | 3×2 sub-DataFrame     | Slice position-based            |\n",
        "  | 3               | –                         | imprime               | Saída final                      |\n",
        "  ```\n",
        "\n",
        "  **3) Diagrama Mental (A Analogia Central):**  \n",
        "  `.loc` é como buscar páginas de ‘r2’ a ‘r4’ em um livro por nomes de capítulos; `.iloc` é folhear páginas pela ordem numérica.\n"
      ]
    },
    {
      "cell_type": "markdown",
      "metadata": {
        "id": "ObeYamD_Sur0"
      },
      "source": [
        "#### **Nível Avançado: Máscaras Booleanas e `.isin()` / `.between()`**\n"
      ]
    },
    {
      "cell_type": "code",
      "execution_count": null,
      "metadata": {
        "id": "5up-PVkXSur0"
      },
      "outputs": [],
      "source": [
        "import pandas as pd\n",
        "# Filtra vendas > 120 e mes Jan\n",
        "f1 = df[(df['vendas'] > 120) & (df['mes']=='Jan')]\n",
        "# Filtra lojas A ou C\n",
        "f2 = df[df['loja'].isin(['A','C'])]\n",
        "# Filtra por faixa de vendas\n",
        "f3 = df[df['vendas'].between(100, 170)]\n",
        "print(f1, f2, f3)\n"
      ]
    },
    {
      "cell_type": "code",
      "execution_count": null,
      "metadata": {
        "id": "ZkgrYF9qSur0"
      },
      "outputs": [],
      "source": [
        "# Pratique seu código aqui!\n"
      ]
    },
    {
      "cell_type": "markdown",
      "metadata": {
        "id": "X8G478w3Sur1"
      },
      "source": [
        "* **O que o código faz:**  \n",
        "\n",
        "  **1) Explicação Linha a Linha (Diálogo com o Código):**  \n",
        "  ```python\n",
        "  # “Filtre linhas com vendas >120 em Jan.”  \n",
        "  f1 = df[(df['vendas']>120)&(df['mes']=='Jan')]\n",
        "\n",
        "  # “Filtre lojas A ou C.”  \n",
        "  f2 = df[df['loja'].isin(['A','C'])]\n",
        "\n",
        "  # “Filtre vendas entre 100 e 170.”  \n",
        "  f3 = df[df['vendas'].between(100,170)]\n",
        "\n",
        "  # “Mostre resultados.”  \n",
        "  print(f1, f2, f3)\n",
        "  ```\n",
        "\n",
        "  **2) Tabela de Estados Intermediários:**\n",
        "\n",
        "  ```markdown\n",
        "  | Passo | Expressão                         | Saída                 | O que faz?                        |\n",
        "  |:-----:|:----------------------------------|:----------------------|:----------------------------------|\n",
        "  | 1     | `f1`                              | subset 1×3            | Mask boolean Junção de condições |\n",
        "  | 2     | `f2`                              | subset 3×3            | `.isin()` para múltiplos valores |\n",
        "  | 3     | `f3`                              | subset 4×3            | `.between()` entre limites        |\n",
        "  | 4     | –                                 | imprime               | Saída final                       |\n",
        "  ```\n",
        "\n",
        "  **3) Diagrama Mental (A Analogia Central):**  \n",
        "  Máscaras booleanas são filtros múltiplos em cascata; `.isin()` é verificar lista de compras; `.between()` é faixa de preço numa prateleira.\n",
        "\n",
        "* **Cenário de Mercado:**  \n",
        "  - **Por que usar máscaras?** Em **segmentação de clientes**, filtramos compras acima de um valor e regiões específicas simultaneamente.  \n",
        "  - **Exemplo real:** Selecionar transações de cartões de crédito entre datas e com valores suspeitos.\n",
        "\n",
        "* **Boas Práticas:**  \n",
        "  - **Afirmação:** “Combine condicionais dentro de `[]` com parênteses.”  \n",
        "    - **Porquê:** Garante precedência correta de operadores.  \n",
        "    - **Analogia:** É como agrupar itens em sacolas separadas antes de colocá-los em uma cesta.\n"
      ]
    },
    {
      "cell_type": "markdown",
      "metadata": {
        "id": "g-1IzOctSur1"
      },
      "source": [
        "#### **Nível DEUS (1/3): Slicing em MultiIndex**\n"
      ]
    },
    {
      "cell_type": "code",
      "execution_count": null,
      "metadata": {
        "id": "3RLCqc_OSur1"
      },
      "outputs": [],
      "source": [
        "import pandas as pd\n",
        "arrays = [['A','A','B','B'], [1,2,1,2]]\n",
        "idx = pd.MultiIndex.from_arrays(arrays, names=('grupo','sub'))\n",
        "df2 = pd.DataFrame({'valor':[10,20,30,40]}, index=idx)\n",
        "# Slica por nível de grupo\n",
        "print(df2.loc['A'])\n",
        "# Slica grupo B e sub 1\n",
        "print(df2.loc[('B',1)])\n"
      ]
    },
    {
      "cell_type": "code",
      "execution_count": null,
      "metadata": {
        "id": "6gRp1LtuSur1"
      },
      "outputs": [],
      "source": [
        "# Pratique seu código aqui!\n"
      ]
    },
    {
      "cell_type": "markdown",
      "metadata": {
        "id": "sTr_wob9Sur1"
      },
      "source": [
        "* **O que o código faz:**  \n",
        "\n",
        "  **1) Explicação Linha a Linha (Diálogo com o Código):**  \n",
        "  ```python\n",
        "  # “Crie MultiIndex de grupos e subs.”  \n",
        "  idx = pd.MultiIndex.from_arrays(…)\n",
        "\n",
        "  # “Monte DataFrame com esse índice.”  \n",
        "  df2 = pd.DataFrame({…}, index=idx)\n",
        "\n",
        "  # “Selecione todas as linhas do grupo 'A'.”  \n",
        "  print(df2.loc['A'])\n",
        "\n",
        "  # “Selecione subnível 1 do grupo 'B'.”  \n",
        "  print(df2.loc[('B',1)])\n",
        "  ```\n",
        "\n",
        "  **2) Tabela de Estados Intermediários:**\n",
        "\n",
        "  ```markdown\n",
        "  | Passo | Expressão          | Saída          | O que faz?                      |\n",
        "  |:-----:|:-------------------|:---------------|:--------------------------------|\n",
        "  | 1     | `df2.loc['A']`     | 2×1 sub-DataFrame | Slice por nível primário     |\n",
        "  | 2     | `df2.loc[('B',1)]` | 1×1 Series      | Slice por tupla de níveis      |\n",
        "  | 3     | –                  | imprime         | Saída final                     |\n",
        "  ```\n",
        "\n",
        "  **3) Diagrama Mental (A Analogia Central):**  \n",
        "  MultiIndex é como arquivo de pastas e subpastas; `.loc` aceita tupla para navegar até o arquivo desejado.\n",
        "\n",
        "* **Cenário de Mercado:**  \n",
        "  Em **dados de sensores**, registramos leituras por (planta, máquina); MultiIndex permite slicing rápido por planta ou máquina.\n",
        "\n",
        "* **Boas Práticas:**  \n",
        "  - **Afirmação:** “Use nomes de níveis significativos.”  \n",
        "    - **Porquê:** Facilita fatiamento e interpretação.  \n",
        "    - **Analogia:** É como nomear pastas “Projetos” e “Relatórios”.\n"
      ]
    },
    {
      "cell_type": "markdown",
      "metadata": {
        "id": "taiEn78ISur1"
      },
      "source": [
        "#### **Nível DEUS (2/3): Seleção Avançada com `pd.IndexSlice`**\n"
      ]
    },
    {
      "cell_type": "code",
      "execution_count": null,
      "metadata": {
        "id": "ADEjGBtmSur1"
      },
      "outputs": [],
      "source": [
        "import pandas as pd\n",
        "idx = pd.IndexSlice\n",
        "# Usando df2 do exemplo anterior\n",
        "print(df2.loc[idx['A':'B', 1], :])\n"
      ]
    },
    {
      "cell_type": "code",
      "execution_count": null,
      "metadata": {
        "id": "jP87WvU0Sur2"
      },
      "outputs": [],
      "source": [
        "# Pratique seu código aqui!\n"
      ]
    },
    {
      "cell_type": "markdown",
      "metadata": {
        "id": "3LlcumEzSur2"
      },
      "source": [
        "* **O que o código faz:**  \n",
        "\n",
        "  **1) Explicação Linha a Linha (Diálogo com o Código):**  \n",
        "  ```python\n",
        "  # “Importe IndexSlice.”  \n",
        "  idx = pd.IndexSlice\n",
        "\n",
        "  # “Selecione grupos A a B e subnível 1.”  \n",
        "  print(df2.loc[idx['A':'B',1], :])\n",
        "  ```\n",
        "\n",
        "  **2) Tabela de Estados Intermediários:**\n",
        "\n",
        "  ```markdown\n",
        "  | Passo | Expressão                                  | Saída         | O que faz?                         |\n",
        "  |:-----:|:-------------------------------------------|:--------------|:-----------------------------------|\n",
        "  | 1     | `df2.loc[idx['A':'B',1],:]`                | 2×1 sub-DF    | Slice múltiplos níveis simultâneo  |\n",
        "  | 2     | –                                          | imprime       | Saída final                        |\n",
        "  ```\n",
        "\n",
        "  **3) Diagrama Mental (A Analogia Central):**  \n",
        "  `IndexSlice` é um atalho que permite cortar pastas e subpastas de uma vez com sintaxe enxuta.\n",
        "\n",
        "* **Cenário de Mercado:**  \n",
        "  Em **time series multivariada**, tabela cruzada (cidade, sensor) é fatia com IndexSlice para análises regionais.\n",
        "\n",
        "* **Boas Práticas:**  \n",
        "  - **Afirmação:** “Prefira IndexSlice em múltiplos níveis.”  \n",
        "    - **Porquê:** Código mais legível e menos propenso a erros.  \n",
        "    - **Analogia:** É como usar atalho de teclado para abrir várias pastas simultaneamente.\n"
      ]
    },
    {
      "cell_type": "markdown",
      "metadata": {
        "id": "iik0IAwcSur2"
      },
      "source": [
        "#### **Nível DEUS (3/3): Query, Eval e Atribuição em Linha**\n"
      ]
    },
    {
      "cell_type": "code",
      "execution_count": null,
      "metadata": {
        "id": "Ci_ZRBcPSur2"
      },
      "outputs": [],
      "source": [
        "import pandas as pd\n",
        "# DataFrame simples\n",
        "df3 = pd.DataFrame({\n",
        "    'x': range(5),\n",
        "    'y': [10,20,30,40,50]\n",
        "})\n",
        "# query para filtrar e atribuir coluna z = x*y\n",
        "df3 = df3.query('x % 2 == 0').assign(z=lambda d: d.x*d.y)\n",
        "print(df3)\n"
      ]
    },
    {
      "cell_type": "code",
      "execution_count": null,
      "metadata": {
        "id": "70CsWpbuSur2"
      },
      "outputs": [],
      "source": [
        "# Pratique seu código aqui!\n"
      ]
    },
    {
      "cell_type": "markdown",
      "metadata": {
        "id": "fh4E1ov4Sur2"
      },
      "source": [
        "* **O que o código faz:**  \n",
        "\n",
        "  **1) Explicação Linha a Linha (Diálogo com o Código):**  \n",
        "  ```python\n",
        "  # “Crie DataFrame com x e y.”  \n",
        "  df3 = pd.DataFrame({…})\n",
        "\n",
        "  # “Filtre linhas onde x é par e crie coluna z = x*y.”  \n",
        "  df3 = df3.query('x % 2 == 0').assign(z=lambda d: d.x*d.y)\n",
        "\n",
        "  # “Mostre resultado.”  \n",
        "  print(df3)\n",
        "  ```\n",
        "\n",
        "  **2) Tabela de Estados Intermediários:**\n",
        "\n",
        "  ```markdown\n",
        "  | Passo | Expressão                                            | Saída          | O que faz?                      |\n",
        "  |:-----:|:-----------------------------------------------------|:---------------|:--------------------------------|\n",
        "  | 1     | `df3.query('x%2==0')`                                | sub-DF         | Filtra x par                    |\n",
        "  | 2     | `.assign(z=lambda d: d.x*d.y)`                       | adiciona coluna| Cria coluna z dinamicamente     |\n",
        "  | 3     | –                                                    | imprime        | Saída final                     |\n",
        "  ```\n",
        "\n",
        "  **3) Diagrama Mental (A Analogia Central):**  \n",
        "  `query` é um funil que deixa passar só registros desejados; `assign` é como pintar uma coluna nova em linha, sem copiar todo o DataFrame.\n",
        "\n",
        "* **Cenário de Mercado:**  \n",
        "  - **Por que usar `query` e `assign` juntos?** Em **ETL**, filtrar e enriquecer dados em uma única expressão mantém pipeline fluido.  \n",
        "  - **Exemplo real:** Selecionar apenas vendas de fim de semana e calcular comissão `comissao = vendas * 0.1`.\n",
        "\n",
        "* **Boas Práticas:**  \n",
        "  - **Afirmação:** “Use `query` para expressões simples.”  \n",
        "    - **Porquê:** Evita repetição de `df['col']` e melhora legibilidade.  \n",
        "    - **Analogia:** É como falar “mostre só produtos em promoção” em vez de procurar cada etiqueta manualmente.\n"
      ]
    },
    {
      "cell_type": "markdown",
      "metadata": {
        "id": "wuwjipyrSur2"
      },
      "source": [
        "### 3. 🕸️ Profundezas e Conexões\n",
        "\n",
        "<br>\n",
        "\n",
        "DataFrames são o pilar de **pandas** e base para bibliotecas como **scikit-learn** (pré-processamento), **statsmodels** (modelagem) e **Matplotlib**/**Seaborn** (visualização). Compreender fatiamento robusto permite criar pipelines de dados reprodutíveis e eficientes.\n",
        "\n",
        "<br>\n",
        "\n",
        "---\n",
        "<br>\n"
      ]
    },
    {
      "cell_type": "markdown",
      "metadata": {
        "id": "w_lVYSHzSur3"
      },
      "source": [
        "### 4. 🚀 Ação e Verificação\n",
        "\n",
        "<br>\n",
        "\n",
        "#### **🤔 Desafio Prático**\n",
        "1. Crie DataFrame de clientes (`id`,`idade`,`gasto`) e defina `id` como índice.  \n",
        "2. Usando `.loc`, fatie clientes com id 2 a 4 e colunas `idade`,`gasto`.  \n",
        "3. Filtre clientes com `gasto` entre 100 e 200 usando `.between()`.  \n",
        "4. Monte MultiIndex (`cidade`,`loja`) e selecione um subnível.  \n",
        "5. Aplique `query` para manter apenas clientes com `idade` par e crie coluna `bonus = gasto*0.05`.\n",
        "\n",
        "<br>\n",
        "\n",
        "#### **❓ Pergunta de Verificação**\n",
        "Quando usar `.loc` vs máscara direta (`df[cond]`) e como isso afeta a cópia vs view?\n",
        "\n",
        "<br>\n",
        "\n",
        "---\n",
        "<br>\n"
      ]
    }
  ]
}