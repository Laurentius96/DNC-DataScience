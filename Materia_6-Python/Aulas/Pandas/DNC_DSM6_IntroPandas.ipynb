{
  "nbformat": 4,
  "nbformat_minor": 0,
  "metadata": {
    "colab": {
      "provenance": []
    },
    "kernelspec": {
      "name": "python3",
      "display_name": "Python 3"
    }
  },
  "cells": [
    {
      "cell_type": "markdown",
      "metadata": {
        "id": "RB89a3_OtU6T"
      },
      "source": [
        "## 🎓 **Aula sobre: Introdução ao Pandas**\n",
        "\n",
        "<br>\n",
        "\n",
        "### 🧭 Sumário da Aula\n",
        "\n",
        "| # | Sub-tópico                         | Tempo Estimado | Complexidade |\n",
        "|---|------------------------------------|----------------|--------------|\n",
        "| 1 | Ficha de Revisão Rápida            | ~1 min         | ⭐           |\n",
        "| 2 | Mergulho Profundo                  | ~15 min        | ⭐⭐⭐⭐       |\n",
        "| 3 | Profundezas e Conexões             | ~3 min         | ⭐⭐         |\n",
        "| 4 | 🚀 Ação e Verificação               | ~5 min         | ⭐⭐         |\n",
        "| 5 | 🌊 Mergulhos Adicionais Opcionais   | Opcional       | ⭐⭐⭐⭐      |\n",
        "\n",
        "<br>\n",
        "\n",
        "---\n",
        "<br>\n"
      ]
    },
    {
      "cell_type": "markdown",
      "metadata": {
        "id": "4Ac3zW96tU6U"
      },
      "source": [
        "### 1. 🧠 Ficha de Revisão Rápida | (O Essencial)\n",
        "\n",
        "<br>\n",
        "\n",
        "> - **Series:** 1D rotulada, combina índice e valores.  \n",
        "> - **DataFrame:** 2D rotulado, colunas heterogêneas.  \n",
        "> - **Index:** rótulos de linhas; **columns:** rótulos de colunas.  \n",
        "> - **Leitura/Escrita:** `pd.read_csv()`, `df.to_csv()`.  \n",
        "> - **Seleção:** `df.loc[]` (label) e `df.iloc[]` (posição).\n",
        "\n",
        "<br>\n"
      ]
    },
    {
      "cell_type": "markdown",
      "metadata": {
        "id": "npK8ZpnctU6V"
      },
      "source": [
        "### 2. 🔬 Mergulho Profundo | (Os Detalhes)\n",
        "\n",
        "<br>\n",
        "\n",
        "#### **🎯 O Conceito Central**  \n",
        "Pandas é construído sobre NumPy, oferecendo objetos *Series* (1D) e *DataFrame* (2D) com rótulos. Cada coluna de um DataFrame é uma Series, e o *index* alinha dados automaticamente em merges e operações aritméticas.\n",
        "\n",
        "<br>\n",
        "\n",
        "#### **🔗 Analogia de Data Science**  \n",
        "Imagine uma planilha:  \n",
        "- **Series** é uma única coluna nomeada.  \n",
        "- **DataFrame** é toda a planilha.  \n",
        "- O **index** são as etiquetas das linhas que garantem que, ao combinar planilhas, as linhas iguais se aliem corretamente.\n",
        "\n",
        "<br>\n",
        "\n",
        "### **💻 Exemplos de Mercado (Abrangentes)**\n"
      ]
    },
    {
      "cell_type": "markdown",
      "metadata": {
        "id": "E1ZBgQtztU6V"
      },
      "source": [
        "#### **Nível Simples: Criando Series e DataFrame**\n"
      ]
    },
    {
      "cell_type": "code",
      "execution_count": null,
      "metadata": {
        "id": "xRWE7ydptU6V"
      },
      "outputs": [],
      "source": [
        "import pandas as pd\n",
        "# Series de vendas mensais\n",
        "s = pd.Series([100, 150, 200], index=['Jan','Feb','Mar'])\n",
        "# DataFrame de produtos\n",
        "df = pd.DataFrame({\n",
        "    'produto': ['A','B','C'],\n",
        "    'preco': [10.5, 12.0, 9.75],\n",
        "    'estoque': [100, 150, 200]\n",
        "})\n",
        "print(s)\n",
        "print(df)\n"
      ]
    },
    {
      "cell_type": "code",
      "execution_count": 5,
      "metadata": {
        "colab": {
          "base_uri": "https://localhost:8080/"
        },
        "id": "tv-OUmm4tU6W",
        "outputId": "383fbb91-0742-446c-ff45-da782cc06a1a"
      },
      "outputs": [
        {
          "output_type": "stream",
          "name": "stdout",
          "text": [
            "Jan    100\n",
            "Feb    150\n",
            "Mar    200\n",
            "dtype: int64\n",
            "\n",
            "\n",
            "  produto  preco  estoque\n",
            "0       A  10.50      100\n",
            "1       B  12.00      150\n",
            "2       C   9.75      200\n"
          ]
        }
      ],
      "source": [
        "# Pratique seu código aqui!\n",
        "import pandas as pd\n",
        "\n",
        "s = pd.Series([100, 150, 200], index=['Jan','Feb','Mar'])\n",
        "df = pd.DataFrame({\n",
        "    'produto': ['A','B','C'],\n",
        "    'preco': [10.5, 12.0, 9.75],\n",
        "    'estoque': [100, 150, 200]\n",
        "})\n",
        "\n",
        "print(s)\n",
        "print(\"\\n\")\n",
        "print(df)"
      ]
    },
    {
      "cell_type": "markdown",
      "metadata": {
        "id": "tpvDGwO2tU6W"
      },
      "source": [
        "* **O que o código faz:**  \n",
        "\n",
        "  **1) Explicação Linha a Linha (Diálogo com o Código):**  \n",
        "  ```python\n",
        "  # “Importe pandas e chame de pd.”  \n",
        "  import pandas as pd\n",
        "\n",
        "  # “Crie uma Series de vendas para Jan, Feb e Mar.”  \n",
        "  s = pd.Series([100,150,200], index=['Jan','Feb','Mar'])\n",
        "\n",
        "  # “Crie um DataFrame com colunas produto, preco e estoque.”  \n",
        "  df = pd.DataFrame({…})\n",
        "\n",
        "  # “Mostre a Series e o DataFrame.”  \n",
        "  print(s)\n",
        "  print(df)\n",
        "  ```\n",
        "\n",
        "  **2) Tabela de Estados Intermediários:**\n",
        "\n",
        "  ```markdown\n",
        "  | Passo | Expressão | Saída                                          | O que é?                  |\n",
        "  |:-----:|:----------|:-----------------------------------------------|:--------------------------|\n",
        "  | 1     | `s`       | Jan 100; Feb 150; Mar 200                      | Series 1D com índice      |\n",
        "  | 2     | `df`      | produto preco estoque                          | DataFrame 3×3 heterogêneo |\n",
        "  | 3     | –         | imprime `s` e `df`                             | Saída final               |\n",
        "  ```\n",
        "\n",
        "  **3) Diagrama Mental (A Analogia Central):**  \n",
        "  Series é como um livro de registros de um único tipo; DataFrame é uma pasta com várias colunas de diferentes tipos alinhadas pela etiqueta da linha.\n",
        "\n",
        "* **Cenário de Mercado:**  \n",
        "  Em **BI**, combinamos vendas, preços e estoques num DataFrame para dashboards em Power BI, facilitando decisões de compra.\n",
        "\n",
        "* **Boas Práticas:**  \n",
        "  - **Afirmação:** “Defina índices significativos.”  \n",
        "    - **Porquê:** Facilita merges e alinhamento.  \n",
        "    - **Analogia:** É como colocar etiquetas claras em pastas de arquivo.\n"
      ]
    },
    {
      "cell_type": "markdown",
      "metadata": {
        "id": "hMV_AGWPtU6X"
      },
      "source": [
        "#### **Nível Intermediário: Seleção e Filtragem de Dados**\n"
      ]
    },
    {
      "cell_type": "code",
      "execution_count": null,
      "metadata": {
        "id": "GZQcjtfBtU6X"
      },
      "outputs": [],
      "source": [
        "import pandas as pd\n",
        "df = pd.DataFrame({\n",
        "    'nome': ['Ana','Bruno','Carla','Daniel'],\n",
        "    'idade': [23,35,29,40],\n",
        "    'salario': [5000,7000,6500,8000]\n",
        "})\n",
        "# seleção label e posição\n",
        "print(df.loc[1,'nome'], df.iloc[2,2])\n",
        "# filtragem condicional\n",
        "alto = df[df['salario'] > 6000]\n",
        "print(alto)\n"
      ]
    },
    {
      "cell_type": "code",
      "execution_count": 9,
      "metadata": {
        "colab": {
          "base_uri": "https://localhost:8080/"
        },
        "id": "lKTvxXFmtU6X",
        "outputId": "bec2b6d1-5e6f-4b2d-e1d9-90c21620d785"
      },
      "outputs": [
        {
          "output_type": "stream",
          "name": "stdout",
          "text": [
            "Bruno 6500\n",
            "\n",
            "\n",
            "     nome  idade  salario\n",
            "1   Bruno     35     7000\n",
            "2   Carla     29     6500\n",
            "3  Daniel     40     8000\n"
          ]
        }
      ],
      "source": [
        "# Pratique seu código aqui!\n",
        "\n",
        "# import pandas as pd\n",
        "df = pd.DataFrame({\n",
        "    'nome': ['Ana','Bruno','Carla','Daniel'],\n",
        "    'idade': [23,35,29,40],\n",
        "    'salario': [5000,7000,6500,8000]\n",
        "})\n",
        "\n",
        "print(df.loc[1, 'nome'], df.iloc[2,2])\n",
        "alto = df[df['salario'] > 6000]\n",
        "print(\"\\n\")\n",
        "print(alto)\n"
      ]
    },
    {
      "cell_type": "markdown",
      "metadata": {
        "id": "qoFBgLXWtU6X"
      },
      "source": [
        "* **O que o código faz:**  \n",
        "\n",
        "  **1) Explicação Linha a Linha (Diálogo com o Código):**  \n",
        "  ```python\n",
        "  # “Crie DataFrame de nome, idade e salario.”  \n",
        "  df = pd.DataFrame({…})\n",
        "\n",
        "  # “Selecione nome da linha 1 com loc.”  \n",
        "  print(df.loc[1,'nome'])\n",
        "\n",
        "  # “Selecione salario da linha 2, coluna 2 com iloc.”  \n",
        "  print(df.iloc[2,2])\n",
        "\n",
        "  # “Filtre linhas com salario > 6000.”  \n",
        "  alto = df[df['salario'] > 6000]\n",
        "  print(alto)\n",
        "  ```\n",
        "\n",
        "  **2) Tabela de Estados Intermediários:**\n",
        "\n",
        "  ```markdown\n",
        "  | Passo | Expressão                | Saída                                  | O que faz?                   |\n",
        "  |:-----:|:-------------------------|:---------------------------------------|:-----------------------------|\n",
        "  | 1     | `df.loc[1,'nome']`       | `Bruno`                                | Seleção label-based          |\n",
        "  | 2     | `df.iloc[2,2]`           | `6500`                                 | Seleção position-based       |\n",
        "  | 3     | `df[df['salario']>6000]` | linhas de Bruno, Carla, Daniel         | Filtragem condicional        |\n",
        "  | 4     | –                        | imprime                                | Saída final                  |\n",
        "  ```\n",
        "\n",
        "  **3) Diagrama Mental (A Analogia Central):**  \n",
        "  Loc é buscar por etiqueta, iloc por prateleira; filtragem é usar um funil que só deixa passar salários altos.\n",
        "\n",
        "* **Cenário de Mercado:**  \n",
        "  Em **churn analysis**, filtramos clientes com `df[df['churn']==True]` para ações de retenção.\n",
        "\n",
        "* **Boas Práticas:**  \n",
        "  - **Afirmação:** “Prefira loc a iloc para clareza.”  \n",
        "    - **Porquê:** Reduz erros de índice.  \n",
        "    - **Analogia:** Pegar livro por título em vez de gaveta número.\n"
      ]
    },
    {
      "cell_type": "markdown",
      "metadata": {
        "id": "MDaMKyE8tU6Y"
      },
      "source": [
        "#### **Nível Avançado: GroupBy e Agregações**\n"
      ]
    },
    {
      "cell_type": "code",
      "execution_count": null,
      "metadata": {
        "id": "Ot-rPXZFtU6Y"
      },
      "outputs": [],
      "source": [
        "import pandas as pd\n",
        "df = pd.DataFrame({\n",
        "    'departamento': ['Vendas','Vendas','RH','RH','TI'],\n",
        "    'salario': [5000,6000,4000,4500,7000]\n",
        "})\n",
        "agr = df.groupby('departamento')['salario'].mean()\n",
        "print(agr)\n"
      ]
    },
    {
      "cell_type": "code",
      "execution_count": null,
      "metadata": {
        "id": "AVryGKdjtU6Y"
      },
      "outputs": [],
      "source": [
        "# Pratique seu código aqui!\n"
      ]
    },
    {
      "cell_type": "markdown",
      "metadata": {
        "id": "aTOF1KgQtU6Y"
      },
      "source": [
        "* **O que o código faz:**  \n",
        "\n",
        "  **1) Explicação Linha a Linha (Diálogo com o Código):**  \n",
        "  ```python\n",
        "  # “Crie DataFrame com departamento e salario.”  \n",
        "  df = pd.DataFrame({…})\n",
        "\n",
        "  # “Agrupe por departamento e calcule média.”  \n",
        "  agr = df.groupby('departamento')['salario'].mean()\n",
        "\n",
        "  # “Mostre resultado.”  \n",
        "  print(agr)\n",
        "  ```\n",
        "\n",
        "  **2) Tabela de Estados Intermediários:**\n",
        "\n",
        "  ```markdown\n",
        "  | Passo | Expressão                    | Saída                         | O que faz?               |\n",
        "  |:-----:|:-----------------------------|:------------------------------|:-------------------------|\n",
        "  | 1     | `df.groupby('departamento')` | GroupBy object                | Agrupa registros         |\n",
        "  | 2     | `['salario'].mean()`         | Vendas:5500; RH:4250; TI:7000 | Agrega média por grupo   |\n",
        "  | 3     | –                            | imprime                       | Saída final              |\n",
        "  ```\n",
        "\n",
        "  **3) Diagrama Mental (A Analogia Central):**  \n",
        "  GroupBy é como colocar colegas de cada departamento numa mesa e calcular o salário médio de cada grupo.\n",
        "\n",
        "* **Cenário de Mercado:**  \n",
        "  Em **KPI tracking**, calcular média de vendas por região informa decisões de estoque.\n",
        "\n",
        "* **Boas Práticas:**  \n",
        "  - **Afirmação:** “Use `as_index=False` para preservar colunas.”  \n",
        "    - **Porquê:** Facilita merges posteriores.  \n",
        "    - **Analogia:** É como manter etiquetas visíveis em caixas empilhadas.\n"
      ]
    },
    {
      "cell_type": "markdown",
      "metadata": {
        "id": "EB_rPqi1tU6Y"
      },
      "source": [
        "#### **Nível DEUS (1/3): Pivot Table e Melt**\n"
      ]
    },
    {
      "cell_type": "code",
      "execution_count": null,
      "metadata": {
        "id": "afqYTwFGtU6Y"
      },
      "outputs": [],
      "source": [
        "import pandas as pd\n",
        "df = pd.DataFrame({\n",
        "    'Ano':[2020,2020,2021,2021],\n",
        "    'Produto':['A','B','A','B'],\n",
        "    'Vendas':[100,150,200,250]\n",
        "})\n",
        "pt = df.pivot_table(index='Ano', columns='Produto', values='Vendas', aggfunc='sum')\n",
        "melt = pt.reset_index().melt(id_vars='Ano', value_name='Vendas')\n",
        "print(pt)\n",
        "print(melt)\n"
      ]
    },
    {
      "cell_type": "code",
      "execution_count": null,
      "metadata": {
        "id": "3mWzXX67tU6Y"
      },
      "outputs": [],
      "source": [
        "# Pratique seu código aqui!\n"
      ]
    },
    {
      "cell_type": "markdown",
      "metadata": {
        "id": "OlQFbiN6tU6Z"
      },
      "source": [
        "* **O que o código faz:**  \n",
        "\n",
        "  **1) Explicação Linha a Linha (Diálogo com o Código):**  \n",
        "  ```python\n",
        "  # “Crie DataFrame de vendas por ano e produto.”  \n",
        "  df = pd.DataFrame({…})\n",
        "\n",
        "  # “Pivot: soma vendas por Ano×Produto.”  \n",
        "  pt = df.pivot_table(…)\n",
        "\n",
        "  # “Melt: converta wide para long.”  \n",
        "  melt = pt.reset_index().melt(…)\n",
        "\n",
        "  # “Mostre pivot e melt.”  \n",
        "  print(pt)\n",
        "  print(melt)\n",
        "  ```\n",
        "\n",
        "  **2) Tabela de Estados Intermediários:**\n",
        "\n",
        "  ```markdown\n",
        "  | Passo | Expressão | Saída                       | O que faz?                 |\n",
        "  |:-----:|:----------|:----------------------------|:---------------------------|\n",
        "  | 1     | `pt`      | tabela wide Ano×Produto     | Pivot das vendas           |\n",
        "  | 2     | `melt`    | DataFrame longo             | Retorno ao formato tidy     |\n",
        "  | 3     | –         | imprime                     | Saída final                |\n",
        "  ```\n",
        "\n",
        "  **3) Diagrama Mental (A Analogia Central):**  \n",
        "  Pivot é organizar em matriz, melt é empilhar novamente sob colunas.\n",
        "\n",
        "* **Cenário de Mercado:**  \n",
        "  Em **BI**, pivot para dashboards; melt para alimentar modelos estatísticos.\n",
        "\n",
        "* **Boas Práticas:**  \n",
        "  - **Afirmação:** “Use `pivot_table` com `aggfunc` correto.”  \n",
        "    - **Porquê:** Evita valores duplicados.  \n",
        "    - **Analogia:** É como escolher o encaixe certo para peças de Lego.\n"
      ]
    },
    {
      "cell_type": "markdown",
      "metadata": {
        "id": "qLmYNm_vtU6Z"
      },
      "source": [
        "#### **Nível DEUS (2/3): Séries Temporais e Resample**\n"
      ]
    },
    {
      "cell_type": "code",
      "execution_count": null,
      "metadata": {
        "id": "Ox8eAQ6ntU6Z"
      },
      "outputs": [],
      "source": [
        "import pandas as pd\n",
        "rng = pd.date_range('2021-01-01', periods=6, freq='D')\n",
        "ts = pd.Series([2,4,6,8,10,12], index=rng)\n",
        "resampled = ts.resample('2D').sum()\n",
        "rolling = ts.rolling(window=3).mean()\n",
        "print(resampled)\n",
        "print(rolling)\n"
      ]
    },
    {
      "cell_type": "code",
      "execution_count": null,
      "metadata": {
        "id": "FY_kjnPktU6Z"
      },
      "outputs": [],
      "source": [
        "# Pratique seu código aqui!\n"
      ]
    },
    {
      "cell_type": "markdown",
      "metadata": {
        "id": "jiAi0mE1tU6Z"
      },
      "source": [
        "* **O que o código faz:**  \n",
        "\n",
        "  **1) Explicação Linha a Linha (Diálogo com o Código):**  \n",
        "  ```python\n",
        "  # “Gere datas 1–6 Jan/2021.”  \n",
        "  rng = pd.date_range('2021-01-01', periods=6, freq='D')\n",
        "\n",
        "  # “Crie Series de valores.”  \n",
        "  ts = pd.Series([2,4,6,8,10,12], index=rng)\n",
        "\n",
        "  # “Reamostre soma a cada 2 dias.”  \n",
        "  resampled = ts.resample('2D').sum()\n",
        "\n",
        "  # “Média móvel 3 dias.”  \n",
        "  rolling = ts.rolling(window=3).mean()\n",
        "\n",
        "  # “Mostre resultados.”  \n",
        "  print(resampled)\n",
        "  print(rolling)\n",
        "  ```\n",
        "\n",
        "  **2) Tabela de Estados Intermediários:**\n",
        "\n",
        "  ```markdown\n",
        "  | Passo      | Expressão    | Saída                  | O que faz?                  |\n",
        "  |:----------:|:-------------|:-----------------------|:----------------------------|\n",
        "  | 1          | `resampled`  | soma a cada 2 dias     | Reamostragem                |\n",
        "  | 2          | `rolling`    | média móvel 3 dias     | Suavização                  |\n",
        "  | 3          | –            | imprime                | Saída final                 |\n",
        "  ```\n",
        "\n",
        "  **3) Diagrama Mental (A Analogia Central):**  \n",
        "  Resample é juntar chuva de 2 em 2 dias; rolling é média acumulada de temperatura em janela móvel.\n",
        "\n",
        "* **Cenário de Mercado:**  \n",
        "  Em **finanças**, convertendo ticks a dados semanais e calculando médias móveis para trading.\n",
        "\n",
        "* **Boas Práticas:**  \n",
        "  - **Afirmação:** “Use `freq` e `window` adequados.”  \n",
        "    - **Porquê:** Evita dados enviesados.  \n",
        "    - **Analogia:** Como calibrar régua para milímetros ou centímetros.\n"
      ]
    },
    {
      "cell_type": "markdown",
      "metadata": {
        "id": "8xybqJrXtU6Z"
      },
      "source": [
        "#### **Nível DEUS (3/3): Merge, Join e Concatenações**\n"
      ]
    },
    {
      "cell_type": "code",
      "execution_count": null,
      "metadata": {
        "id": "6vWRG9_GtU6Z"
      },
      "outputs": [],
      "source": [
        "import pandas as pd\n",
        "df1 = pd.DataFrame({'id':[1,2,3], 'A':[10,20,30]})\n",
        "df2 = pd.DataFrame({'id':[2,3,4], 'B':[200,300,400]})\n",
        "merged = pd.merge(df1, df2, on='id', how='inner')\n",
        "outer = pd.merge(df1, df2, on='id', how='outer', indicator=True)\n",
        "concat = pd.concat([df1, df2], ignore_index=True)\n",
        "print(merged)\n",
        "print(outer)\n",
        "print(concat)\n"
      ]
    },
    {
      "cell_type": "code",
      "execution_count": null,
      "metadata": {
        "id": "bgA5NiGntU6a"
      },
      "outputs": [],
      "source": [
        "# Pratique seu código aqui!\n"
      ]
    },
    {
      "cell_type": "markdown",
      "metadata": {
        "id": "JJ7Rfd-3tU6a"
      },
      "source": [
        "* **O que o código faz:**  \n",
        "\n",
        "  **1) Explicação Linha a Linha (Diálogo com o Código):**  \n",
        "  ```python\n",
        "  # “Crie df1 com id e A.”  \n",
        "  df1 = pd.DataFrame({…})\n",
        "\n",
        "  # “Crie df2 com id e B.”  \n",
        "  df2 = pd.DataFrame({…})\n",
        "\n",
        "  # “Inner merge em id.”  \n",
        "  merged = pd.merge(df1, df2, on='id', how='inner')\n",
        "\n",
        "  # “Outer merge com indicador.”  \n",
        "  outer = pd.merge(df1, df2, on='id', how='outer', indicator=True)\n",
        "\n",
        "  # “Concat vertical ignorando índices.”  \n",
        "  concat = pd.concat([df1, df2], ignore_index=True)\n",
        "\n",
        "  # “Mostre tudo.”  \n",
        "  print(merged, outer, concat)\n",
        "  ```\n",
        "\n",
        "  **2) Tabela de Estados Intermediários:**\n",
        "\n",
        "  ```markdown\n",
        "  | Passo  | Expressão                | Saída                        | O que faz?                |\n",
        "  |:------:|:-------------------------|:-----------------------------|:--------------------------|\n",
        "  | 1      | `merged`                 | ids 2,3 combinados           | Interseção                |\n",
        "  | 2      | `outer`                  | ids 1–4 com indicador        | União com marcações       |\n",
        "  | 3      | `concat`                 | 6 linhas                     | Append vertical           |\n",
        "  | 4      | –                        | imprime                      | Saída final               |\n",
        "  ```\n",
        "\n",
        "  **3) Diagrama Mental (A Analogia Central):**  \n",
        "  Merge é cruzar convidados, outer é lista completa com fonte, concat é simplesmente unir listas.\n",
        "\n",
        "* **Cenário de Mercado:**  \n",
        "  Em **ETL**, juntar dados de CRM e ERP para análises integradas de clientes e vendas.\n",
        "\n",
        "* **Boas Práticas:**  \n",
        "  - **Afirmação:** “Escolha `how` com cuidado.”  \n",
        "    - **Porquê:** Evita perda ou duplicação de dados.  \n",
        "    - **Analogia:** Como selecionar o tipo de encaixe em um quebra-cabeça.\n"
      ]
    },
    {
      "cell_type": "markdown",
      "metadata": {
        "id": "wCK0ns7ItU6a"
      },
      "source": [
        "### 3. 🕸️ Profundezas e Conexões\n",
        "\n",
        "<br>\n",
        "\n",
        "Pandas usa NumPy para acelerar operações vetorizadas e é base para **scikit-learn**, **statsmodels** e ferramentas de visualização como **Matplotlib** e **Seaborn**.\n",
        "\n",
        "<br>\n",
        "\n",
        "---\n",
        "<br>\n"
      ]
    },
    {
      "cell_type": "markdown",
      "metadata": {
        "id": "Tv982iEJtU6a"
      },
      "source": [
        "### 4. 🚀 Ação e Verificação\n",
        "\n",
        "<br>\n",
        "\n",
        "#### **🤔 Desafio Prático**\n",
        "1. Leia `/mnt/data/exemplo.csv` com `pd.read_csv()` e mostre as primeiras 5 linhas.  \n",
        "2. Filtre linhas onde coluna `valor` > 1000 e selecione `data` e `valor`.  \n",
        "3. Agrupe por `categoria` e calcule soma e média de `quantidade`.  \n",
        "4. Crie pivot table de `vendas` por `regiao` e `produto`.  \n",
        "5. Concatene dois DataFrames e elimine duplicatas.\n",
        "\n",
        "<br>\n",
        "\n",
        "#### **❓ Pergunta de Verificação**\n",
        "Como o alinhamento de índices impacta operações de join e por que definir índices antes pode ser vantajoso?\n",
        "\n",
        "<br>\n",
        "\n",
        "---\n",
        "<br>\n"
      ]
    }
  ]
}