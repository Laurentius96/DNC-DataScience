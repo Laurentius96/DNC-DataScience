{
  "nbformat": 4,
  "nbformat_minor": 0,
  "metadata": {
    "colab": {
      "provenance": []
    },
    "language_info": {
      "name": "python"
    },
    "kernelspec": {
      "name": "python3",
      "display_name": "Python 3"
    }
  },
  "cells": [
    {
      "metadata": {
        "id": "P9ulIFFtMqjZ"
      },
      "source": [
        "## 🎓 **Aula sobre: Listas em Python**\n",
        "\n",
        " <br>\n",
        "\n",
        "### 🧭 Sumário da Aula\n",
        "\n",
        "| # | Sub-tópico                      | Tempo Estimado | Complexidade |\n",
        "|---|---------------------------------|----------------|--------------|\n",
        "| 1 | Ficha de Revisão Rápida         | ~1 min         | ⭐           |\n",
        "| 2 | Mergulho Profundo               | ~15 min        | ⭐⭐⭐⭐       |\n",
        "| 3 | Profundezas e Conexões          | ~3 min         | ⭐⭐         |\n",
        "| 4 | Ação e Verificação              | ~5 min         | ⭐⭐         |\n",
        "| 5 | Mergulhos Adicionais            | Opcional       | ⭐⭐⭐⭐       |\n",
        "\n",
        " <br>\n",
        "\n",
        "---\n",
        " <br>\n"
      ],
      "cell_type": "markdown"
    },
    {
      "metadata": {
        "id": "HSucYGGeMqja"
      },
      "source": [
        "### 1. 🧠 Ficha de Revisão Rápida | (O Essencial)\n",
        "\n",
        " <br>\n",
        "\n",
        "> Uma *lista* em Python é uma sequência mutável de valores ordenados.  \n",
        "> Sintaxe: `[item1, item2, item3]`.  \n",
        "> Permite acesso por índice, fatiamento e métodos como `.append()`, `.remove()`, `.sort()`.\n",
        "\n",
        " <br>\n"
      ],
      "cell_type": "markdown"
    },
    {
      "metadata": {
        "id": "uM7iZIaxMqjb"
      },
      "source": [
        "### 2. 🔬 Mergulho Profundo | (Os Detalhes)\n",
        "\n",
        " <br>\n",
        "\n",
        "#### **🎯 O Conceito Central**  \n",
        "Listas armazenam uma coleção heterogênea de objetos em uma ordem definida. Internamente, são arrays dinâmicos que permitem crescimento e shrinkagem conforme operações.\n",
        "\n",
        " <br>\n",
        "\n",
        "#### **🔗 Analogia de Data Science**  \n",
        "Pense em uma coluna de uma planilha onde cada célula pode ter valores de tipos variados (números, texto). A lista é essa coluna: você pode inserir, retirar e reorganizar células conforme necessário no pipeline de dados.\n",
        "\n",
        " <br>\n"
      ],
      "cell_type": "markdown"
    },
    {
      "metadata": {
        "id": "xQ3VDjAdMqjb"
      },
      "source": [
        "### **💻 Exemplos de Mercado (Abrangentes)**\n",
        "\n",
        "#### **Nível Simples: Criação e Acesso**\n"
      ],
      "cell_type": "markdown"
    },
    {
      "metadata": {
        "id": "_NPVx4YnMqjc"
      },
      "source": [
        "frutas = [\"maçã\", \"banana\", \"laranja\"]\n",
        "print(frutas[0])   # \"maçã\"\n",
        "print(frutas[-1])  # \"laranja\"\n"
      ],
      "cell_type": "code",
      "execution_count": null,
      "outputs": []
    },
    {
      "metadata": {
        "colab": {
          "base_uri": "https://localhost:8080/"
        },
        "id": "JHqUdp0SMqjc",
        "outputId": "0516173d-5f74-462f-cc8a-b3557a3b8898"
      },
      "source": [
        "# Pratique seu código aqui!\n",
        "\n",
        "frutas = [\"maça\", \"banana\", \"laranja\"]\n",
        "print(frutas[0])\n",
        "print(frutas[-1])\n"
      ],
      "cell_type": "code",
      "execution_count": 1,
      "outputs": [
        {
          "output_type": "stream",
          "name": "stdout",
          "text": [
            "maça\n",
            "laranja\n"
          ]
        }
      ]
    },
    {
      "metadata": {
        "id": "cCVtCL64Mqjd"
      },
      "source": [
        "*   **O que o código faz:** Cria lista de strings e acessa primeiro e último elementos.  \n",
        "*   **Cenário de Mercado:** Extração de valores de colunas como categorias de produto.  \n",
        "*   **Boas Práticas:** Use índices negativos para acessar elementos finais.\n"
      ],
      "cell_type": "markdown"
    },
    {
      "metadata": {
        "id": "6Ldkgl8jMqjd"
      },
      "source": [
        "#### **Nível Intermediário: Métodos de Lista**\n"
      ],
      "cell_type": "markdown"
    },
    {
      "metadata": {
        "id": "Av2U4QMKMqjd"
      },
      "source": [
        "numeros = [3, 1, 4]\n",
        "numeros.append(2)      # [3,1,4,2]\n",
        "numeros.sort()         # [1,2,3,4]\n",
        "numeros.remove(1)      # [2,3,4]\n",
        "print(numeros)\n"
      ],
      "cell_type": "code",
      "execution_count": null,
      "outputs": []
    },
    {
      "metadata": {
        "colab": {
          "base_uri": "https://localhost:8080/"
        },
        "id": "RAkEKkr4Mqjd",
        "outputId": "b507cc56-f2f1-4715-cfef-6f3658af0152"
      },
      "source": [
        "# Pratique seu código aqui!\n",
        "\n",
        "\n",
        "numeros = [3, 1, 4]\n",
        "numeros.append(2)\n",
        "print(f\"Append(2): {numeros}\\n\")\n",
        "numeros.sort()\n",
        "print(f\"Sort(): {numeros}\\n\")\n",
        "numeros.remove(1)\n",
        "print(f\"Remove(1): {numeros}\\n\")"
      ],
      "cell_type": "code",
      "execution_count": 3,
      "outputs": [
        {
          "output_type": "stream",
          "name": "stdout",
          "text": [
            "Append(2): [3, 1, 4, 2]\n",
            "\n",
            "Sort(): [1, 2, 3, 4]\n",
            "\n",
            "Remove(1): [2, 3, 4]\n",
            "\n"
          ]
        }
      ]
    },
    {
      "metadata": {
        "id": "6ykfgSb6Mqjd"
      },
      "source": [
        "*   **O que o código faz:** Usa `.append()`, `.sort()`, `.remove()` para manipular a lista.  \n",
        "*   **Cenário de Mercado:** Ordenação e limpeza de dados antes da análise.  \n",
        "*   **Boas Práticas:** Use `sorted()` se quiser manter a lista original intacta.\n"
      ],
      "cell_type": "markdown"
    },
    {
      "metadata": {
        "id": "Jq58MPEBMqje"
      },
      "source": [
        "#### **Nível Avançado: Fatiamento e Copia**\n"
      ],
      "cell_type": "markdown"
    },
    {
      "metadata": {
        "id": "nAShyvbkMqje"
      },
      "source": [
        "dados = [10,20,30,40,50]\n",
        "sub = dados[1:4]       # [20,30,40]\n",
        "copia = dados[:]       # cópia completa\n",
        "dados[0] = 99\n",
        "print(sub, copia, dados)\n"
      ],
      "cell_type": "code",
      "execution_count": null,
      "outputs": []
    },
    {
      "metadata": {
        "colab": {
          "base_uri": "https://localhost:8080/"
        },
        "id": "fVlujpleMqje",
        "outputId": "a79a0cd2-9bf9-41ab-b1d2-aba8b2066255"
      },
      "source": [
        "# Pratique seu código aqui!\n",
        "\n",
        "dados = [10, 20, 30, 40, 50]\n",
        "sub = dados[1:4]\n",
        "copia = dados[:]\n",
        "dados[0] = 99\n",
        "print(sub, copia, dados)\n"
      ],
      "cell_type": "code",
      "execution_count": 4,
      "outputs": [
        {
          "output_type": "stream",
          "name": "stdout",
          "text": [
            "[20, 30, 40] [10, 20, 30, 40, 50] [99, 20, 30, 40, 50]\n"
          ]
        }
      ]
    },
    {
      "metadata": {
        "id": "gNvpPbR0Mqje"
      },
      "source": [
        "*   **O que o código faz:** Fatiamento para extrair sublista e copiar lista inteira.  \n",
        "*   **Cenário de Mercado:** Separar janelas de tempo em séries temporais sem afetar original.  \n",
        "*   **Boas Práticas:** Use fatiamento para evitar referências indesejadas.\n"
      ],
      "cell_type": "markdown"
    },
    {
      "metadata": {
        "id": "s57Rlkr7Mqje"
      },
      "source": [
        "#### **Nível DEUS (1/3): List Comprehension**\n"
      ],
      "cell_type": "markdown"
    },
    {
      "metadata": {
        "id": "8GEPedveMqje"
      },
      "source": [
        "valores = [1,2,3,4]\n",
        "quadrados = [x**2 for x in valores if x%2==0]\n",
        "print(quadrados)  # [4,16]"
      ],
      "cell_type": "code",
      "execution_count": null,
      "outputs": []
    },
    {
      "metadata": {
        "colab": {
          "base_uri": "https://localhost:8080/"
        },
        "id": "t8UqIOguMqje",
        "outputId": "472ad4d4-a448-4244-e403-9b83338c5a55"
      },
      "source": [
        "# Pratique seu código aqui!\n",
        "\n",
        "valores = [1,2,3,4]\n",
        "quadrados = [x**2 for x in valores if x%2 ==0]\n",
        "print(quadrados)\n"
      ],
      "cell_type": "code",
      "execution_count": 5,
      "outputs": [
        {
          "output_type": "stream",
          "name": "stdout",
          "text": [
            "[4, 16]\n"
          ]
        }
      ]
    },
    {
      "metadata": {
        "id": "OECuyxyaMqje"
      },
      "source": [
        "*   **O que o código faz:** Cria nova lista aplicando filtro e transformação.  \n",
        "*   **Cenário de Mercado:** Geração de features derivadas de colunas numéricas.  \n",
        "*   **Boas Práticas:** Prefira comprehensions para lógica simples de mapeamento/filtragem.\n"
      ],
      "cell_type": "markdown"
    },
    {
      "metadata": {
        "id": "rpLtr9gxMqje"
      },
      "source": [
        "#### **Nível DEUS (2/3): Iteração e Enumeração**\n"
      ],
      "cell_type": "markdown"
    },
    {
      "metadata": {
        "id": "hp_yHFc-Mqje"
      },
      "source": [
        "items = [\"a\",\"b\",\"c\"]\n",
        "for idx, val in enumerate(items,1):\n",
        "    print(idx, val)\n"
      ],
      "cell_type": "code",
      "execution_count": null,
      "outputs": []
    },
    {
      "metadata": {
        "colab": {
          "base_uri": "https://localhost:8080/"
        },
        "id": "LBWsB0bLMqjf",
        "outputId": "28f62f69-9706-4864-b452-3ecfa9f60016"
      },
      "source": [
        "# Pratique seu código aqui!\n",
        "\n",
        "items = [\"a\",\"b\",\"c\"]\n",
        "for idx, val in enumerate(items,1):\n",
        "    print(idx, val)\n"
      ],
      "cell_type": "code",
      "execution_count": 6,
      "outputs": [
        {
          "output_type": "stream",
          "name": "stdout",
          "text": [
            "1 a\n",
            "2 b\n",
            "3 c\n"
          ]
        }
      ]
    },
    {
      "metadata": {
        "id": "I7quRjKVMqjf"
      },
      "source": [
        "*   **O que o código faz:** Usa `enumerate` para obter índice e valor.  \n",
        "*   **Cenário de Mercado:** Indexação de registros para relatórios ordenados.  \n",
        "*   **Boas Práticas:** Defina `start=` conforme necessidade de offset.\n"
      ],
      "cell_type": "markdown"
    },
    {
      "metadata": {
        "id": "l04lrE1iMqjf"
      },
      "source": [
        "#### **Nível DEUS (3/3): Listas de Listas (Matrizes)**\n"
      ],
      "cell_type": "markdown"
    },
    {
      "metadata": {
        "id": "-S3VD1AdMqjf"
      },
      "source": [
        "matriz = [[1,2],[3,4]]\n",
        "for linha in matriz:\n",
        "    print([x*10 for x in linha])\n"
      ],
      "cell_type": "code",
      "execution_count": null,
      "outputs": []
    },
    {
      "metadata": {
        "colab": {
          "base_uri": "https://localhost:8080/"
        },
        "id": "Q6GZvRYqMqjf",
        "outputId": "00301bf5-cf6b-410f-8ce4-222ca851b705"
      },
      "source": [
        "# Pratique seu código aqui!\n",
        "\n",
        "matriz = [[1,2],[3,4]]\n",
        "for linha in matriz:\n",
        "    print([x*10 for x in linha])\n"
      ],
      "cell_type": "code",
      "execution_count": 7,
      "outputs": [
        {
          "output_type": "stream",
          "name": "stdout",
          "text": [
            "[10, 20]\n",
            "[30, 40]\n"
          ]
        }
      ]
    },
    {
      "metadata": {
        "id": "EJX5eM9bMqjf"
      },
      "source": [
        "*   **O que o código faz:** Trata listas aninhadas como linhas de matriz e aplica transformação.  \n",
        "*   **Cenário de Mercado:** Processamento de imagens ou tabelas em memória.  \n",
        "*   **Boas Práticas:** Use *NumPy* para operações matriciais pesadas.\n"
      ],
      "cell_type": "markdown"
    },
    {
      "metadata": {
        "id": "vShRs5PgMqjf"
      },
      "source": [
        "### 3. 🕸️ Profundezas e Conexões\n",
        "\n",
        " <br>\n",
        "\n",
        "Listas são a base de estruturas mais complexas como *tuplas*, *dicionários* e *DataFrames*. Compreensões de lista e operações vetorizadas (NumPy, pandas) substituem loops para performance. Saber quando usar listas nativas ou frameworks especializados é crucial em projetos de Data Science.\n",
        "\n",
        " <br>\n",
        "\n",
        "---\n",
        "\n",
        " <br>\n"
      ],
      "cell_type": "markdown"
    },
    {
      "metadata": {
        "id": "52PoDyUyMqjf"
      },
      "source": [
        "### 4. 🚀 Ação e Verificação\n",
        "\n",
        " <br>\n",
        "\n",
        "#### **🤔 Desafio Prático**\n",
        "1. Crie uma lista `dados = [5,3,8,2]` e ordene sem usar `.sort()`.  \n",
        "2. Usando list comprehension, gere uma lista de booleanos indicando se cada valor em `dados` é par.  \n",
        "3. Dado `tabela = [[1,2],[3,4],[5,6]]`, multiplique cada elemento por 2 e retorne nova lista.  \n",
        "4. Remova duplicatas de `itens = [1,2,2,3,3,3]` mantendo ordem original.  \n",
        "5. Exiba resultados e verifique tipos com `type()`.\n",
        "\n",
        " <br>\n",
        "\n",
        "#### **❓ Pergunta de Verificação**\n",
        "Quando escolher uma lista em vez de uma *tupla* ou um *set*? Quais trade-offs de mutabilidade e performance envolvem essa decisão?\n",
        "\n",
        " <br>\n",
        "\n",
        "---\n",
        "\n",
        " <br>\n"
      ],
      "cell_type": "markdown"
    },
    {
      "cell_type": "code",
      "source": [],
      "metadata": {
        "id": "Jlb2uElZQxq2"
      },
      "execution_count": null,
      "outputs": []
    }
  ]
}