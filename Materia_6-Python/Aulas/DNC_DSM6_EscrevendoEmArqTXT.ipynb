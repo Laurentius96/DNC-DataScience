{
  "nbformat": 4,
  "nbformat_minor": 0,
  "metadata": {
    "colab": {
      "provenance": []
    },
    "language_info": {
      "name": "python"
    },
    "kernelspec": {
      "name": "python3",
      "display_name": "Python 3"
    }
  },
  "cells": [
    {
      "metadata": {
        "id": "TgAC3xyMSJz9"
      },
      "source": [
        "## 🎓 **Aula sobre: Escrevendo em Arquivos TXT em Python**\n",
        "\n",
        " <br>\n",
        "\n",
        "### 🧭 Sumário da Aula\n",
        "\n",
        "| # | Sub-tópico                    | Tempo Estimado | Complexidade |\n",
        "|---|-------------------------------|----------------|--------------|\n",
        "| 1 | Ficha de Revisão Rápida       | ~1 min         | ⭐           |\n",
        "| 2 | Mergulho Profundo             | ~15 min        | ⭐⭐⭐⭐      |\n",
        "| 3 | Profundezas e Conexões        | ~3 min         | ⭐⭐        |\n",
        "| 4 | Ação e Verificação            | ~5 min         | ⭐⭐        |\n",
        "| 5 | Mergulhos Adicionais          | Opcional       | ⭐⭐⭐⭐      |\n",
        "\n",
        " <br>\n",
        "\n",
        "---\n",
        " <br>\n"
      ],
      "cell_type": "markdown"
    },
    {
      "metadata": {
        "id": "XNEilLMlSJz-"
      },
      "source": [
        "### 1. 🧠 Ficha de Revisão Rápida | (O Essencial)\n",
        "\n",
        " <br>\n",
        "\n",
        "> Para escrever em um arquivo TXT, abra-o em modo escrita (`'w'`), append (`'a'`) ou modo binário (`'wb'`/`'ab'`), e use métodos como `write()` ou `writelines()`.  \n",
        "> Utilize `with open(...) as f:` para garantir fechamento automático.\n"
      ],
      "cell_type": "markdown"
    },
    {
      "metadata": {
        "id": "0-FHKiAISJz_"
      },
      "source": [
        "### 2. 🔬 Mergulho Profundo | (Os Detalhes)\n",
        "\n",
        " <br>\n",
        "\n",
        "#### **🎯 O Conceito Central**  \n",
        "- `open(path, mode='w', encoding='utf-8')` cria ou sobrescreve o arquivo em texto; `'a'` adiciona ao final.  \n",
        "- `f.write(texto)` grava uma string (sem adicionar `\\n` automaticamente).  \n",
        "- `f.writelines(lista_de_str)` grava múltiplas linhas de uma só vez.  \n",
        "- Para adicionar quebras de linha, inclua `\\n` nas strings.  \n",
        "- `mode='x'` falha se o arquivo já existir, prevenindo sobrescrita involuntária.\n",
        "\n",
        " <br>\n",
        "\n",
        "#### **🔗 Analogia de Data Science**  \n",
        "Ao salvar resultados de processamento, você usa escrita em TXT para exportar relatórios ou logs. Append é útil para acumuladores de métricas diárias sem apagar histórico, enquanto `'x'` garante criar novo relatório sem sobrescrever.\n"
      ],
      "cell_type": "markdown"
    },
    {
      "metadata": {
        "id": "o3r6DT_USJz_"
      },
      "source": [
        "### **💻 Exemplos de Mercado (Abrangentes)**\n",
        "\n",
        "#### **Nível Simples: Escrita Básica com `write()`**\n"
      ],
      "cell_type": "markdown"
    },
    {
      "metadata": {
        "id": "vP9prF1HSJz_"
      },
      "source": [
        "with open(\"saida.txt\", \"w\", encoding=\"utf-8\") as f:\n",
        "    f.write(\"Olá, Mundo!\\n\")\n",
        "    f.write(\"Esta é a primeira linha.\\n\")\n"
      ],
      "cell_type": "code",
      "execution_count": null,
      "outputs": []
    },
    {
      "metadata": {
        "id": "xQ6TGqm0SJ0A"
      },
      "source": [
        "# Pratique seu código aqui!\n"
      ],
      "cell_type": "code",
      "execution_count": null,
      "outputs": []
    },
    {
      "metadata": {
        "id": "r4ogyQ0sSJ0A"
      },
      "source": [
        "*   **O que o código faz:** Cria/abre `saida.txt`, escreve duas linhas e fecha o arquivo.  \n",
        "*   **Cenário de Mercado:** Geração de relatórios simples ou logs de execução.  \n",
        "*   **Boas Práticas:** Inclua `\\n` manualmente e use `with` para gerenciar recursos.\n"
      ],
      "cell_type": "markdown"
    },
    {
      "metadata": {
        "id": "AEfUr4IzSJ0B"
      },
      "source": [
        "#### **Nível Intermediário: Append de Linhas com `a` e `writelines()`**\n"
      ],
      "cell_type": "markdown"
    },
    {
      "metadata": {
        "id": "1YJ1eAxUSJ0B"
      },
      "source": [
        "linhas = [\"Linha A\\n\", \"Linha B\\n\", \"Linha C\\n\"]\n",
        "with open(\"saida.txt\", \"a\", encoding=\"utf-8\") as f:\n",
        "    f.writelines(linhas)\n"
      ],
      "cell_type": "code",
      "execution_count": null,
      "outputs": []
    },
    {
      "metadata": {
        "id": "1y1Nf6NHSJ0B"
      },
      "source": [
        "# Pratique seu código aqui!\n"
      ],
      "cell_type": "code",
      "execution_count": null,
      "outputs": []
    },
    {
      "metadata": {
        "id": "sGW70Zq9SJ0B"
      },
      "source": [
        "*   **O que o código faz:** Abre em modo append e grava várias linhas de uma lista.  \n",
        "*   **Cenário de Mercado:** Acumular logs de diferentes execuções sem sobrescrever dados anteriores.  \n",
        "*   **Boas Práticas:** Garanta que cada string termine com `\\n`.\n"
      ],
      "cell_type": "markdown"
    },
    {
      "metadata": {
        "id": "DSYQpld7SJ0B"
      },
      "source": [
        "#### **Nível Avançado: Modo Exclusivo `x` e Tratamento de Erros**\n"
      ],
      "cell_type": "markdown"
    },
    {
      "metadata": {
        "id": "p2h1nJS6SJ0C"
      },
      "source": [
        "try:\n",
        "    with open(\"novo_relatorio.txt\", \"x\", encoding=\"utf-8\") as f:\n",
        "        f.write(\"Relatório inicial.\\n\")\n",
        "except FileExistsError:\n",
        "    print(\"Arquivo já existe, não sobescrever.\")\n"
      ],
      "cell_type": "code",
      "execution_count": null,
      "outputs": []
    },
    {
      "metadata": {
        "id": "r7dH74RzSJ0C"
      },
      "source": [
        "# Pratique seu código aqui!\n"
      ],
      "cell_type": "code",
      "execution_count": null,
      "outputs": []
    },
    {
      "metadata": {
        "id": "25U8Ers9SJ0C"
      },
      "source": [
        "*   **O que o código faz:** Cria arquivo novo e falha se existir, evitando perda de dados.  \n",
        "*   **Cenário de Mercado:** Gerar relatórios diários sem risco de sobrescrita.\n"
      ],
      "cell_type": "markdown"
    },
    {
      "metadata": {
        "id": "WqVC8MOfSJ0C"
      },
      "source": [
        "#### **Nível DEUS (1/3): Escrita em Blocos em Arquivos Grandes**\n"
      ],
      "cell_type": "markdown"
    },
    {
      "metadata": {
        "id": "hNv9nD0wSJ0C"
      },
      "source": [
        "def escreve_em_blocos(path, gerador_de_texto, bloco_size=1000):\n",
        "    with open(path, \"w\", encoding=\"utf-8\") as f:\n",
        "        for bloco in gerador_de_texto(bloco_size):\n",
        "            f.write(bloco)\n"
      ],
      "cell_type": "code",
      "execution_count": null,
      "outputs": []
    },
    {
      "metadata": {
        "id": "mLR9VE1YSJ0C"
      },
      "source": [
        "# Pratique seu código aqui!\n"
      ],
      "cell_type": "code",
      "execution_count": null,
      "outputs": []
    },
    {
      "metadata": {
        "id": "r0HE3B9-SJ0C"
      },
      "source": [
        "*   **O que o código faz:** Recebe gerador que produz textos em pedaços e escreve incrementalmente.  \n",
        "*   **Cenário de Mercado:** Exportação de grandes volumes (logs, dumps) sem carregar tudo em memória.\n"
      ],
      "cell_type": "markdown"
    },
    {
      "metadata": {
        "id": "o5f2aNIoSJ0C"
      },
      "source": [
        "#### **Nível DEUS (2/3): Controle de Posição com `seek()` para Atualizar Linhas**\n"
      ],
      "cell_type": "markdown"
    },
    {
      "metadata": {
        "id": "9uIwg5EnSJ0D"
      },
      "source": [
        "with open(\"saida.txt\", \"r+\", encoding=\"utf-8\") as f:\n",
        "    linhas = f.readlines()\n",
        "    f.seek(0)\n",
        "    f.write(\"Cabeçalho Atualizado\\n\")\n",
        "    f.writelines(linhas)\n"
      ],
      "cell_type": "code",
      "execution_count": null,
      "outputs": []
    },
    {
      "metadata": {
        "id": "vKejSD6NSJ0D"
      },
      "source": [
        "# Pratique seu código aqui!\n"
      ],
      "cell_type": "code",
      "execution_count": null,
      "outputs": []
    },
    {
      "metadata": {
        "id": "klCu1VwtSJ0D"
      },
      "source": [
        "*   **O que o código faz:** Lê conteúdo, reposiciona ponteiro e insere uma linha no início.  \n",
        "*   **Cenário de Mercado:** Atualizar metadados no topo de arquivos de log existentes.\n"
      ],
      "cell_type": "markdown"
    },
    {
      "metadata": {
        "id": "t2Tx7YNiSJ0D"
      },
      "source": [
        "#### **Nível DEUS (3/3): Escrita Simultânea em Vários Arquivos**\n"
      ],
      "cell_type": "markdown"
    },
    {
      "metadata": {
        "id": "gcBJeX8cSJ0D"
      },
      "source": [
        "files = [\"a.txt\", \"b.txt\", \"c.txt\"]\n",
        "with ExitStack() as stack:\n",
        "    handles = [stack.enter_context(open(fn, \"w\", encoding=\"utf-8\")) for fn in files]\n",
        "    for h in handles:\n",
        "        h.write(f\"Arquivo {h.name} inicializado.\\n\")\n"
      ],
      "cell_type": "code",
      "execution_count": null,
      "outputs": []
    },
    {
      "metadata": {
        "id": "Ea_JiEXSSJ0D"
      },
      "source": [
        "# Pratique seu código aqui!\n"
      ],
      "cell_type": "code",
      "execution_count": null,
      "outputs": []
    },
    {
      "metadata": {
        "id": "yJpUZaGkSJ0D"
      },
      "source": [
        "*   **O que o código faz:** Usa `contextlib.ExitStack` para gerenciar múltiplos arquivos simultaneamente.  \n",
        "*   **Cenário de Mercado:** Inicialização de múltiplos relatórios ou logs de componentes distintos.\n"
      ],
      "cell_type": "markdown"
    },
    {
      "metadata": {
        "id": "O6NcPoa3SJ0D"
      },
      "source": [
        "### 3. 🕸️ Profundezas e Conexões\n",
        "\n",
        " <br>\n",
        "Escrita em arquivos TXT se integra a **loggers** do módulo `logging` (handlers de arquivo), **pathlib** para manipulação de caminhos, e **context managers** personalizados para recursos (bancos, conexões). Importante para pipelines de exportação e integração com sistemas legados.\n",
        " <br>\n",
        "\n",
        "---\n",
        " <br>\n"
      ],
      "cell_type": "markdown"
    },
    {
      "metadata": {
        "id": "_7XfC-YNSJ0D"
      },
      "source": [
        "### 4. 🚀 Ação e Verificação\n",
        "\n",
        " <br>\n",
        "#### **🤔 Desafio Prático**\n",
        "1. Crie ou sobrescreva `log.txt` com uma mensagem de cabeçalho.  \n",
        "2. Anexe 10 linhas numeradas usando `writelines()`.  \n",
        "3. Utilize modo `x` para criar `backup.txt` sem sobrescrever e trate exceção.  \n",
        "4. Implemente função que recebe lista de strings e escreve em blocos de 500 bytes.  \n",
        "5. Leia o arquivo gerado, insira uma linha no meio usando `r+`, e salve.\n",
        "\n",
        " <br>\n",
        "#### **❓ Pergunta de Verificação**\n",
        "Quando usar modo `w` versus `a` versus `x`? Quais implicações de perda de dados e concorrência existem?\n",
        " <br>\n",
        "\n",
        "---\n",
        " <br>\n"
      ],
      "cell_type": "markdown"
    }
  ]
}