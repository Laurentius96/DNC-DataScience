{
  "nbformat": 4,
  "nbformat_minor": 0,
  "metadata": {
    "colab": {
      "provenance": []
    },
    "language_info": {
      "name": "python"
    },
    "kernelspec": {
      "name": "python3",
      "display_name": "Python 3"
    }
  },
  "cells": [
    {
      "metadata": {
        "id": "pTMklkQ1Xkq8"
      },
      "source": [
        "## 🎓 **Aula sobre: Introdução aos Dicionários em Python**\n",
        "\n",
        " <br>\n",
        "\n",
        "### 🧭 Sumário da Aula\n",
        "\n",
        "| # | Sub-tópico                      | Tempo Estimado | Complexidade |\n",
        "|---|---------------------------------|----------------|--------------|\n",
        "| 1 | Ficha de Revisão Rápida         | ~1 min         | ⭐           |\n",
        "| 2 | Mergulho Profundo               | ~15 min        | ⭐⭐⭐⭐       |\n",
        "| 3 | Profundezas e Conexões          | ~3 min         | ⭐⭐         |\n",
        "| 4 | Ação e Verificação              | ~5 min         | ⭐⭐         |\n",
        "| 5 | Mergulhos Adicionais            | Opcional      | ⭐⭐⭐⭐     |\n",
        "\n",
        " <br>\n",
        "\n",
        "---\n",
        " <br>\n"
      ],
      "cell_type": "markdown"
    },
    {
      "metadata": {
        "id": "nnS2IxwUXkq9"
      },
      "source": [
        "### 1. 🧠 Ficha de Revisão Rápida | (O Essencial)\n",
        "\n",
        "> Um *dicionário* é uma coleção **mutável** de pares **chave:valor**.  \n",
        "> Sintaxe: `{\"chave1\": valor1, \"chave2\": valor2}`.  \n",
        "> Acesso via `dicionario[chave]`; métodos comuns: `.get()`, `.keys()`, `.values()`, `.items()`, `.update()`, `.pop()`.\n"
      ],
      "cell_type": "markdown"
    },
    {
      "metadata": {
        "id": "IBo9YI_zXkq9"
      },
      "source": [
        "### 2. 🔬 Mergulho Profundo | (Os Detalhes)\n",
        "\n",
        " <br>\n",
        "\n",
        "#### **🎯 O Conceito Central**  \n",
        "Dicionários armazenam mapeamentos eficientes de *chaves* a *valores*. Internamente, usam *hash tables* para oferecer acesso em tempo constante médio.\n",
        "\n",
        " <br>\n",
        "\n",
        "#### **🔗 Analogia de Data Science**  \n",
        "Imagine um *dataset* com identificadores únicos de clientes. Um dicionário é como um índice que, dado o ID, retorna imediatamente os atributos do cliente sem percorrer toda a base.\n"
      ],
      "cell_type": "markdown"
    },
    {
      "metadata": {
        "id": "ny2pLNx0Xkq-"
      },
      "source": [
        "### **💻 Exemplos de Mercado (Abrangentes)**\n",
        "\n",
        "#### **Nível Simples: Criação e Acesso**\n"
      ],
      "cell_type": "markdown"
    },
    {
      "metadata": {
        "id": "A_yxFEQSXkq-"
      },
      "source": [
        "pessoa = {\"nome\": \"Lorenzo\", \"idade\": 28, \"cidade\": \"Eunápolis\"}\n",
        "print(pessoa[\"nome\"])       # \"Lorenzo\"\n",
        "print(pessoa.get(\"idade\"))  # 28\n"
      ],
      "cell_type": "code",
      "execution_count": null,
      "outputs": []
    },
    {
      "metadata": {
        "colab": {
          "base_uri": "https://localhost:8080/"
        },
        "id": "TX3I4EKVXkq-",
        "outputId": "083ebd19-f5bb-430a-dc1a-97cc04a6cb43"
      },
      "source": [
        "# Pratique seu código aqui!\n",
        "\n",
        "pessoa = {\"nome\": \"Lorenzo\", \"idade\": 29, \"cidade\": \"Eunápolis\"}\n",
        "print(pessoa[\"nome\"])\n",
        "print(pessoa.get(\"idade\"))\n",
        "print(pessoa.get(\"altura\"))"
      ],
      "cell_type": "code",
      "execution_count": 8,
      "outputs": [
        {
          "output_type": "stream",
          "name": "stdout",
          "text": [
            "Lorenzo\n",
            "29\n",
            "None\n"
          ]
        }
      ]
    },
    {
      "metadata": {
        "id": "XerslQF9Xkq_"
      },
      "source": [
        "*   **O que o código faz:** Cria dicionário de atributos e acessa valores por chave.  \n",
        "*   **Cenário de Mercado:** Armazenar registros de clientes ou produtos em memória.  \n",
        "*   **Boas Práticas:** Prefira `.get()` para evitar `KeyError` quando a chave pode faltar.\n"
      ],
      "cell_type": "markdown"
    },
    {
      "metadata": {
        "id": "5xmIG1omXkq_"
      },
      "source": [
        "#### **Nível Intermediário: Métodos de Dicionário**\n"
      ],
      "cell_type": "markdown"
    },
    {
      "metadata": {
        "id": "oUQ_s-C7Xkq_"
      },
      "source": [
        "dados = {\"a\": 1, \"b\": 2}\n",
        "dados[\"c\"] = 3                # adiciona/chave nova\n",
        "dados.update({\"b\": 20, \"d\": 4})\n",
        "print(list(dados.keys()))     # [\"a\",\"b\",\"c\",\"d\"]\n",
        "print(list(dados.values()))   # [1,20,3,4]\n",
        "print(list(dados.items()))    # [(\"a\",1),(\"b\",20),...]\n"
      ],
      "cell_type": "code",
      "execution_count": null,
      "outputs": []
    },
    {
      "metadata": {
        "colab": {
          "base_uri": "https://localhost:8080/"
        },
        "id": "HMve12_9XkrA",
        "outputId": "c7f3fdfe-8ed5-4239-b503-0d03666465f2"
      },
      "source": [
        "# Pratique seu código aqui!\n",
        "\n",
        "dados = {\"a\": 1, \"b\": 2}\n",
        "dados[\"c\"] = 3\n",
        "dados.update({\"b\": 20, \"d\": 4})\n",
        "\n",
        "print(list(dados.keys()))\n",
        "print(list(dados.values()))\n",
        "print(list(dados.items()))"
      ],
      "cell_type": "code",
      "execution_count": 15,
      "outputs": [
        {
          "output_type": "stream",
          "name": "stdout",
          "text": [
            "['a', 'b', 'c', 'd']\n",
            "[1, 20, 3, 4]\n",
            "[('a', 1), ('b', 20), ('c', 3), ('d', 4)]\n"
          ]
        }
      ]
    },
    {
      "metadata": {
        "id": "cFpGWsVzXkrA"
      },
      "source": [
        "*   **O que o código faz:** Adiciona e atualiza pares, lista chaves, valores e itens.  \n",
        "*   **Cenário de Mercado:** Sincronizar configurações de sistemas ou agregar métricas por categoria.  \n",
        "*   **Boas Práticas:** Use `.pop()` para remover e obter valor ao mesmo tempo.\n"
      ],
      "cell_type": "markdown"
    },
    {
      "metadata": {
        "id": "DM01wDL5XkrA"
      },
      "source": [
        "#### **Nível Avançado: Dicionário Aninhado e Compreensão**\n"
      ],
      "cell_type": "markdown"
    },
    {
      "metadata": {
        "id": "QlGLiKvBXkrA"
      },
      "source": [
        "# Dicionário de dicionários\n",
        "usuarios = {\n",
        "    \"u1\": {\"nome\":\"Ana\", \"idade\":30},\n",
        "    \"u2\": {\"nome\":\"Bruno\", \"idade\":25}\n",
        "}\n",
        "# Compreensão de dicionário\n",
        "idades = {uid: info[\"idade\"] for uid, info in usuarios.items()}\n",
        "print(idades)  # {\"u1\":30, \"u2\":25}\n"
      ],
      "cell_type": "code",
      "execution_count": null,
      "outputs": []
    },
    {
      "metadata": {
        "colab": {
          "base_uri": "https://localhost:8080/"
        },
        "id": "1a3CvCSjXkrA",
        "outputId": "c8328eec-5be0-42b9-d457-b5b39bbfb0b4"
      },
      "source": [
        "# Pratique seu código aqui!\n",
        "\n",
        "usuarios = {\n",
        "    \"u1\": {\"nome\": \"Ana\", \"idade\": 30},\n",
        "    \"u2\": {\"nome\": \"Bruno\", \"idade\": 25}\n",
        "}\n",
        "\n",
        "idades = {uid: info[\"idade\"] for uid, info in usuarios.items()}\n",
        "print(idades)"
      ],
      "cell_type": "code",
      "execution_count": 18,
      "outputs": [
        {
          "output_type": "stream",
          "name": "stdout",
          "text": [
            "{'u1': 30, 'u2': 25}\n"
          ]
        }
      ]
    },
    {
      "metadata": {
        "id": "in9rM72FXkrA"
      },
      "source": [
        "*   **O que o código faz:** Cria mapeamento das idades usando compreensão.  \n",
        "*   **Cenário de Mercado:** Extrair colunas específicas de registros complexos.\n"
      ],
      "cell_type": "markdown"
    },
    {
      "metadata": {
        "id": "BqPkH_6fXkrB"
      },
      "source": [
        "#### **Nível DEUS (1/3): Uso de `defaultdict` para contagem**\n"
      ],
      "cell_type": "markdown"
    },
    {
      "metadata": {
        "id": "QUXE_njzXkrB"
      },
      "source": [
        "from collections import defaultdict\n",
        "contagem = defaultdict(int)\n",
        "for letra in \"banana\":\n",
        "    contagem[letra] += 1\n",
        "print(dict(contagem))  # {'b':1,'a':3,'n':2}\n"
      ],
      "cell_type": "code",
      "execution_count": null,
      "outputs": []
    },
    {
      "metadata": {
        "colab": {
          "base_uri": "https://localhost:8080/"
        },
        "id": "gDu97BZoXkrB",
        "outputId": "288ec168-fd1b-41f4-992c-0ec62dedf688"
      },
      "source": [
        "# Pratique seu código aqui!\n",
        "\n",
        "from collections import defaultdict\n",
        "\n",
        "contagem = defaultdict(int)\n",
        "for letra in \"banana\":\n",
        "  contagem [letra] += 1\n",
        "  print(contagem[letra])\n",
        "\n",
        "  print(letra)\n",
        "\n",
        "print(dict(contagem))\n"
      ],
      "cell_type": "code",
      "execution_count": 24,
      "outputs": [
        {
          "output_type": "stream",
          "name": "stdout",
          "text": [
            "1\n",
            "b\n",
            "1\n",
            "a\n",
            "1\n",
            "n\n",
            "2\n",
            "a\n",
            "2\n",
            "n\n",
            "3\n",
            "a\n",
            "{'b': 1, 'a': 3, 'n': 2}\n"
          ]
        }
      ]
    },
    {
      "metadata": {
        "id": "4vHvCegyXkrB"
      },
      "source": [
        "*   **O que o código faz:** Usa `defaultdict` para inicializar contadores automaticamente.  \n",
        "*   **Cenário de Mercado:** Contagem de ocorrências em logs ou respostas de clientes.\n"
      ],
      "cell_type": "markdown"
    },
    {
      "metadata": {
        "id": "0wFn90ZgXkrB"
      },
      "source": [
        "#### **Nível DEUS (2/3): Ordenação de Dicionário**\n"
      ],
      "cell_type": "markdown"
    },
    {
      "metadata": {
        "id": "BvcXiZt_XkrB"
      },
      "source": [
        "# Ordena por valor\n",
        "original = {\"x\": 3, \"y\": 1, \"z\": 2}\n",
        "ordenado = dict(sorted(original.items(), key=lambda item: item[1]))\n",
        "print(ordenado)  # {'y':1,'z':2,'x':3}\n"
      ],
      "cell_type": "code",
      "execution_count": null,
      "outputs": []
    },
    {
      "metadata": {
        "id": "UBaJaAs7XkrB"
      },
      "source": [
        "# Pratique seu código aqui!\n"
      ],
      "cell_type": "code",
      "execution_count": null,
      "outputs": []
    },
    {
      "metadata": {
        "id": "CssYpATgXkrB"
      },
      "source": [
        "*   **O que o código faz:** Gera novo dicionário ordenado pelos valores.  \n",
        "*   **Cenário de Mercado:** Ranking de produtos ou performance de campanhas.\n"
      ],
      "cell_type": "markdown"
    },
    {
      "metadata": {
        "id": "LPhgt0HLXkrB"
      },
      "source": [
        "#### **Nível DEUS (3/3): Fusão de Dicionários (Python 3.9+)**\n"
      ],
      "cell_type": "markdown"
    },
    {
      "metadata": {
        "id": "7qUzvWx_XkrC"
      },
      "source": [
        "d1 = {\"a\": 1, \"b\": 2}\n",
        "d2 = {\"b\": 20, \"c\": 3}\n",
        "fusionado = d1 | d2  # {'a':1,'b':20,'c':3}\n",
        "print(fusionado)\n"
      ],
      "cell_type": "code",
      "execution_count": null,
      "outputs": []
    },
    {
      "metadata": {
        "id": "LAL8sAYlXkrC"
      },
      "source": [
        "# Pratique seu código aqui!\n"
      ],
      "cell_type": "code",
      "execution_count": null,
      "outputs": []
    },
    {
      "metadata": {
        "id": "Hq2s0NOYXkrC"
      },
      "source": [
        "*   **O que o código faz:** Usa operador `|` para mesclar dicionários, valores de d2 prevalecem.  \n",
        "*   **Cenário de Mercado:** Mesclar configurações padrão e específicas de usuários.\n"
      ],
      "cell_type": "markdown"
    },
    {
      "metadata": {
        "id": "2d1hbtU1XkrC"
      },
      "source": [
        "### 3. 🕸️ Profundezas e Conexões\n",
        "\n",
        " <br>\n",
        "Dicionários são fundamentais para representação de JSON em Python e se integram a *pandas* via `DataFrame.from_dict()`. Em *APIs*, servem como payloads de entrada/saída. Saber manipular mapeamentos acelera tarefas de agregação e filtragem de dados.\n",
        " <br>\n",
        "\n",
        "---\n",
        " <br>\n"
      ],
      "cell_type": "markdown"
    },
    {
      "metadata": {
        "id": "wbkrJJzYXkrC"
      },
      "source": [
        "### 4. 🚀 Ação e Verificação\n",
        "\n",
        " <br>\n",
        "#### **🤔 Desafio Prático**\n",
        "1. Crie `config = {\"host\":\"localhost\",\"port\":8080}` e atualize para `port=9090`.  \n",
        "2. Leia uma lista de tuplas `[(\"a\",1),(\"b\",2)]` e converta em dicionário.  \n",
        "3. Use `defaultdict(list)` para agrupar valores de `[(1,\"x\"),(2,\"y\"),(1,\"z\")]` por chave.  \n",
        "4. Ordene um dicionário de notas `{“Ana”:8, “Bruno”:9, “Carlos”:7}` em ordem decrescente de nota.  \n",
        "5. Mescle dois dicionários de parâmetros usando o operador `|`.\n",
        "\n",
        " <br>\n",
        "#### **❓ Pergunta de Verificação**\n",
        "Quando usar dicionários em vez de listas ou conjuntos? Quais vantagens de acesso por chave e performance eles oferecem?\n",
        " <br>\n",
        "\n",
        "---\n",
        " <br>\n"
      ],
      "cell_type": "markdown"
    }
  ]
}