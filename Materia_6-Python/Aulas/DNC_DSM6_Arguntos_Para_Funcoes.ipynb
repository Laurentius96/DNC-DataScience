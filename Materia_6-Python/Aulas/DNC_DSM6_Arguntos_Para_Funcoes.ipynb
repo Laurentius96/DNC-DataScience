{
  "nbformat": 4,
  "nbformat_minor": 0,
  "metadata": {
    "colab": {
      "provenance": []
    },
    "language_info": {
      "name": "python"
    },
    "kernelspec": {
      "name": "python3",
      "display_name": "Python 3"
    }
  },
  "cells": [
    {
      "metadata": {
        "id": "JLjGdzHdALkS"
      },
      "source": [
        "## 🎓 **Aula sobre: Passando Argumentos para Funções em Python**\n",
        "\n",
        " <br>\n",
        "\n",
        "### 🧭 Sumário da Aula\n",
        "\n",
        "| # | Sub-tópico                       | Tempo Estimado | Complexidade |\n",
        "|---|----------------------------------|----------------|--------------|\n",
        "| 1 | Ficha de Revisão Rápida          | ~1 min         | ⭐           |\n",
        "| 2 | Mergulho Profundo                | ~15 min        | ⭐⭐⭐⭐       |\n",
        "| 3 | Profundezas e Conexões           | ~3 min         | ⭐⭐         |\n",
        "| 4 | Ação e Verificação               | ~5 min         | ⭐⭐         |\n",
        "| 5 | Mergulhos Adicionais Opcionais   | Opcional       | ⭐⭐⭐⭐       |\n",
        "\n",
        " <br>\n",
        "\n",
        "---\n",
        " <br>\n"
      ],
      "cell_type": "markdown"
    },
    {
      "metadata": {
        "id": "kC3ni2tNALkT"
      },
      "source": [
        "### 1. 🧠 Ficha de Revisão Rápida | (O Essencial)\n",
        "\n",
        " <br>\n",
        "\n",
        "> Ao chamar uma função, você passa *argumentos* que correspondem a *parâmetros* na definição.  \n",
        "> Tipos principais:  \n",
        "> - **Posicionais**: ordenados conforme definidas nos parâmetros.  \n",
        "> - **Nomeados (keywords)**: `param=valor`, ignoram ordem.  \n",
        "> - **Padrão**: parâmetros recebem valor default se não fornecidos.  \n",
        "> - **Variádicos**: `*args` (tupla), `**kwargs` (dicionário).\n",
        "\n",
        " <br>\n"
      ],
      "cell_type": "markdown"
    },
    {
      "metadata": {
        "id": "7pX8fHnHALkT"
      },
      "source": [
        "### 2. 🔬 Mergulho Profundo | (Os Detalhes)\n",
        "\n",
        " <br>\n",
        "\n",
        "#### **🎯 O Conceito Central**  \n",
        "Quando você chama `f(1, 2, c=3)`, Python associa `1` e `2` aos parâmetros posicionais e `c=3` ao parâmetro nomeado. Parâmetros padrão permitem flexibilidade; `*args` coleta argumentos extras posicionais e `**kwargs` argumentos extras nomeados. A ordem na assinatura deve ser: parâmetros posicionais, defaults, `*args`, keyword-only e `**kwargs`.\n",
        "\n",
        " <br>\n",
        "\n",
        "#### **🔗 Analogia de Data Science**  \n",
        "Imagine uma função que processa um *DataFrame*:  \n",
        "- Coluna principal (**posicional**) é obrigatória.  \n",
        "- Parâmetros de limpeza (**nomeados**) definem regras opcionais.  \n",
        "- Qualquer outro ajuste (**`**kwargs`**) é flexível, permitindo expandir o pipeline sem mudar a assinatura base.\n",
        "\n",
        " <br>\n"
      ],
      "cell_type": "markdown"
    },
    {
      "metadata": {
        "id": "iRgXKKPRALkU"
      },
      "source": [
        "### **💻 Exemplos de Mercado (Abrangentes)**\n",
        "\n",
        "#### **Nível Simples: Posicionais e Nomeados**\n"
      ],
      "cell_type": "markdown"
    },
    {
      "metadata": {
        "id": "HscRB-oyALkU"
      },
      "source": [
        "def apresentar(nome, idade):\n",
        "    print(f\"{nome} tem {idade} anos.\")\n",
        "\n",
        "apresentar(\"Ana\", 30)\n",
        "apresentar(idade=25, nome=\"Bruno\")\n"
      ],
      "cell_type": "code",
      "execution_count": null,
      "outputs": []
    },
    {
      "metadata": {
        "colab": {
          "base_uri": "https://localhost:8080/"
        },
        "id": "zzukNs52ALkU",
        "outputId": "7834473b-56f5-49db-b88d-de97920de0bd"
      },
      "source": [
        "# Pratique seu código aqui!\n",
        "def apresentar(nome, idade):\n",
        "  print(f\"{nome} tem {idade} anos.\")\n",
        "\n",
        "apresentar(\"Ana\", 30)\n",
        "apresentar(idade=25, nome=\"Bruno\")"
      ],
      "cell_type": "code",
      "execution_count": 1,
      "outputs": [
        {
          "output_type": "stream",
          "name": "stdout",
          "text": [
            "Ana tem 30 anos.\n",
            "Bruno tem 25 anos.\n"
          ]
        }
      ]
    },
    {
      "metadata": {
        "id": "XauL5PnpALkV"
      },
      "source": [
        "*   **O que o código faz:** Mostra que você pode chamar por posição ou por nome.  \n",
        "*   **Cenário de Mercado:** APIs que aceitam inputs de formulários com campos nomeados.  \n",
        "*   **Boas Práticas:** Use nomeados para melhorar legibilidade em chamadas longas.\n"
      ],
      "cell_type": "markdown"
    },
    {
      "metadata": {
        "id": "AmWuCfmUALkV"
      },
      "source": [
        "#### **Nível Intermediário: Parâmetros Padrão e Keyword-Only**\n"
      ],
      "cell_type": "markdown"
    },
    {
      "metadata": {
        "id": "FwpR2WwvALkV"
      },
      "source": [
        "def calcula_preco(valor, desconto=0.1, *, imposto=0.05):\n",
        "    return valor * (1 - desconto) * (1 + imposto)\n",
        "\n",
        "print(calcula_preco(100))\n",
        "print(calcula_preco(100, desconto=0.2, imposto=0.10))\n"
      ],
      "cell_type": "code",
      "execution_count": null,
      "outputs": []
    },
    {
      "metadata": {
        "colab": {
          "base_uri": "https://localhost:8080/"
        },
        "id": "L2q8vhVkALkV",
        "outputId": "a650497c-88a6-4c78-eda4-30a412147468"
      },
      "source": [
        "# Pratique seu código aqui!\n",
        "\n",
        "def calcular_preco(valor, desconto=0.1, *, imposto=0.05):\n",
        "  return valor * (1 - desconto) * (1 + imposto)\n",
        "\n",
        "print(calcular_preco(100))\n",
        "print(calcular_preco(100, desconto=0.2, imposto = 0.10))\n",
        "\n"
      ],
      "cell_type": "code",
      "execution_count": 4,
      "outputs": [
        {
          "output_type": "stream",
          "name": "stdout",
          "text": [
            "94.5\n",
            "88.0\n"
          ]
        }
      ]
    },
    {
      "metadata": {
        "id": "ESN9tKDnALkW"
      },
      "source": [
        "*   **O que o código faz:** `desconto` tem default e `imposto` só como keyword (`*`).  \n",
        "*   **Cenário de Mercado:** Funções de precificação onde imposto deve ser sempre nomeado.  \n",
        "*   **Boas Práticas:** Use `*` para forçar argumentos nomeados e evitar confusões.\n"
      ],
      "cell_type": "markdown"
    },
    {
      "metadata": {
        "id": "zHvOMtShALkW"
      },
      "source": [
        "#### **Nível Avançado:** `*args e **kwargs `\n"
      ],
      "cell_type": "markdown"
    },
    {
      "metadata": {
        "id": "0xneLN99ALkW"
      },
      "source": [
        "def registra_evento(tipo, *tags, **info):\n",
        "    print(f\"Evento: {tipo}\")\n",
        "    print(\"Tags:\", tags)\n",
        "    print(\"Info:\", info)\n",
        "\n",
        "registra_evento(\"click\", \"ui\", \"botao\", usuario=\"Maria\", pagina=\"home\")\n"
      ],
      "cell_type": "code",
      "execution_count": null,
      "outputs": []
    },
    {
      "metadata": {
        "colab": {
          "base_uri": "https://localhost:8080/"
        },
        "id": "ZxmXXUkeALkW",
        "outputId": "3379280b-c577-4a93-f991-7b15ef610acb"
      },
      "source": [
        "# Pratique seu código aqui!\n",
        "def registra_evento(tipo, *tags, **info):\n",
        "  print(f\"Evento: {tipo}\")\n",
        "  print(\"Tags:\", tags)\n",
        "  print(\"Info:\", info)\n",
        "\n",
        "registra_evento(\"click\", \"ui\", \"botao\", usuario=\"Maria\", pagina=\"home\")\n"
      ],
      "cell_type": "code",
      "execution_count": 5,
      "outputs": [
        {
          "output_type": "stream",
          "name": "stdout",
          "text": [
            "Evento: click\n",
            "Tags: ('ui', 'botao')\n",
            "Info: {'usuario': 'Maria', 'pagina': 'home'}\n"
          ]
        }
      ]
    },
    {
      "metadata": {
        "id": "RacbcpICALkW"
      },
      "source": [
        "*   **O que o código faz:** Coleta múltiplas tags em tupla e pares extra em dict.  \n",
        "*   **Cenário de Mercado:** Handlers de eventos que variam em atributos e metadados.  \n",
        "*   **Boas Práticas:** Documente via docstring o esperado em `*args`/`**kwargs`.\n"
      ],
      "cell_type": "markdown"
    },
    {
      "metadata": {
        "id": "IXCgA4i4ALkX"
      },
      "source": [
        "#### **Nível DEUS (1/3): Parâmetros Posicionais-Only e Keyword-Only (Python 3.8+)**\n"
      ],
      "cell_type": "markdown"
    },
    {
      "metadata": {
        "id": "HsVSYnjuALkX"
      },
      "source": [
        "def f(a, b, /, c, d, *, e, f_val):\n",
        "    return (a + b) * (c - d) + e - f_val\n",
        "\n",
        "print(f(1,2,3,4, e=5, f_val=6))\n"
      ],
      "cell_type": "code",
      "execution_count": null,
      "outputs": []
    },
    {
      "metadata": {
        "colab": {
          "base_uri": "https://localhost:8080/"
        },
        "id": "xLn8i-HHALkX",
        "outputId": "9fc35b9c-9876-4ed4-e502-664dfb7bafb6"
      },
      "source": [
        "# Pratique seu código aqui!\n",
        "\n",
        "def f(a, b, /, c, d, *, e, f_val):\n",
        "    return (a + b) * (c - d) + e - f_val\n",
        "\n",
        "print(f(1,2,3,4, e=5, f_val=6))\n"
      ],
      "cell_type": "code",
      "execution_count": 6,
      "outputs": [
        {
          "output_type": "stream",
          "name": "stdout",
          "text": [
            "-4\n"
          ]
        }
      ]
    },
    {
      "metadata": {
        "id": "DkbFqGuGALkX"
      },
      "source": [
        "*   **O que o código faz:** `a, b` só positionais (antes de `/`); `e, f_val` só keywords (depois de `*`).  \n",
        "*   **Cenário de Mercado:** Funções de baixo nível onde alguns parâmetros não devem ser nomeados.\n"
      ],
      "cell_type": "markdown"
    },
    {
      "metadata": {
        "id": "swDV0WR7ALkX"
      },
      "source": [
        "#### **Nível DEUS (2/3): Desempacotamento de Argumentos com:**  ` *  e ** `\n"
      ],
      "cell_type": "markdown"
    },
    {
      "metadata": {
        "id": "qlAS95o1ALkX"
      },
      "source": [
        "def soma(a, b, c):\n",
        "    return a + b + c\n",
        "\n",
        "args = [1, 2, 3]\n",
        "kwargs = {\"a\": 10, \"b\": 20, \"c\": 30}\n",
        "\n",
        "print(soma(*args))\n",
        "print(soma(**kwargs))\n"
      ],
      "cell_type": "code",
      "execution_count": null,
      "outputs": []
    },
    {
      "metadata": {
        "colab": {
          "base_uri": "https://localhost:8080/"
        },
        "id": "wCtywh86ALkX",
        "outputId": "2038c54b-e305-4c25-a800-62d355b984be"
      },
      "source": [
        "# Pratique seu código aqui!\n",
        "\n",
        "def soma(a, b, c):\n",
        "    return a + b + c\n",
        "\n",
        "args = [1, 2, 3]\n",
        "kwargs = {\"a\": 10, \"b\": 20, \"c\": 30}\n",
        "\n",
        "print(soma(*args))\n",
        "print(soma(**kwargs))\n"
      ],
      "cell_type": "code",
      "execution_count": 8,
      "outputs": [
        {
          "output_type": "stream",
          "name": "stdout",
          "text": [
            "6\n",
            "60\n"
          ]
        }
      ]
    },
    {
      "metadata": {
        "id": "JjkkPT40ALkX"
      },
      "source": [
        "*   **O que o código faz:** Expande lista e dict em posições e named args.  \n",
        "*   **Cenário de Mercado:** Chamada dinâmica de funções com parâmetros vindos de configuração.\n"
      ],
      "cell_type": "markdown"
    },
    {
      "metadata": {
        "id": "8H4prC5mALkX"
      },
      "source": [
        "#### **Nível DEUS (3/3): Anotações de Parâmetros e `inspect.signature`**\n"
      ],
      "cell_type": "markdown"
    },
    {
      "metadata": {
        "id": "tHmTaMdMALkY"
      },
      "source": [
        "from inspect import signature\n",
        "\n",
        "def f(x: int, y: str = \"ok\") -> bool:\n",
        "    return str(x) == y\n",
        "\n",
        "sig = signature(f)\n",
        "print(sig)         # (x: int, y: str = 'ok') -> bool\n"
      ],
      "cell_type": "code",
      "execution_count": null,
      "outputs": []
    },
    {
      "metadata": {
        "colab": {
          "base_uri": "https://localhost:8080/"
        },
        "id": "kctReAciALkY",
        "outputId": "f46060c1-e0cc-40a6-d0f6-34c89037a29b"
      },
      "source": [
        "# Pratique seu código aqui!\n",
        "\n",
        "def soma(a, b, c):\n",
        "    return a + b + c\n",
        "\n",
        "args = [1, 2, 3]\n",
        "kwargs = {\"a\": 10, \"b\": 20, \"c\": 30}\n",
        "\n",
        "print(soma(*args))\n",
        "print(soma(**kwargs))\n"
      ],
      "cell_type": "code",
      "execution_count": 7,
      "outputs": [
        {
          "output_type": "stream",
          "name": "stdout",
          "text": [
            "6\n",
            "60\n"
          ]
        }
      ]
    },
    {
      "metadata": {
        "id": "Nb_7aIZGALkY"
      },
      "source": [
        "*   **O que o código faz:** Usa type hints e inspeciona assinatura em runtime.  \n",
        "*   **Cenário de Mercado:** Geração de APIs e validação automática de tipos.\n"
      ],
      "cell_type": "markdown"
    },
    {
      "metadata": {
        "id": "gqEDVHVjALkY"
      },
      "source": [
        "### 3. 🕸️ Profundezas e Conexões\n",
        "\n",
        " <br>\n",
        "Passagem de argumentos conecta-se a **decorações**, **injeção de dependências** e **frameworks** (Flask, FastAPI) que usam assinatura de funções para roteamento e validação. Entender padrões de parâmetros é chave para criar APIs e bibliotecas flexíveis.\n",
        " <br>\n",
        "\n",
        "---\n",
        " <br>\n"
      ],
      "cell_type": "markdown"
    },
    {
      "metadata": {
        "id": "JsKjFj72ALkY"
      },
      "source": [
        "### 4. 🚀 Ação e Verificação\n",
        "\n",
        " <br>\n",
        "#### **🤔 Desafio Prático**\n",
        "1. Defina `def f(a, b, /, c=0, *args, debug=False, **kwargs): ...` que imprime cada categoria de argumento.  \n",
        "2. Chame `f` usando só posicionais, só keywords e combinação mista.  \n",
        "3. Use desempacotamento para passar uma lista e um dict a `f`.  \n",
        "4. Implemente função que evita mutável default, usando `None` e inicializando interno.  \n",
        "5. Use `inspect.signature` para exibir assinatura de `f`.\n",
        "\n",
        " <br>\n",
        "\n",
        "#### **❓ Pergunta de Verificação**\n",
        "\n",
        "Quais riscos existem ao usar parâmetros mutáveis como default (ex: `def f(x, lst=[])`), e como evitar esse problema?\n",
        "\n",
        " <br>\n",
        "\n",
        "---\n",
        " <br>\n"
      ],
      "cell_type": "markdown"
    },
    {
      "cell_type": "markdown",
      "source": [
        "### **Resposta Rápida**\n",
        "\n",
        "Parâmetros mutáveis como `lst=[]` em funções são **armazenados uma única vez na memória**, sendo **reutilizados em todas as chamadas subsequentes** — o que pode causar **comportamentos inesperados**. Para evitar isso, use `None` como padrão e crie a lista dentro da função.\n",
        "\n",
        "---\n",
        "\n",
        "### **Analogia do Dia**\n",
        "\n",
        "Imagine que você oferece **uma folha em branco (lista) para alguém escrever**. Se você reutiliza **a mesma folha em todas as visitas**, tudo que um visitante escrever **fica visível para o próximo**. O certo seria dar **uma nova folha em branco** para cada um — não compartilhar a mesma!\n",
        "\n",
        "---\n",
        "\n",
        "### **Análise Técnica Detalhada**\n",
        "\n",
        "#### ❌ Código com risco:\n",
        "\n",
        "```python\n",
        "def adicionar_valor(x, lista=[]):\n",
        "    lista.append(x)\n",
        "    return lista\n",
        "\n",
        "print(adicionar_valor(1))  # [1]\n",
        "print(adicionar_valor(2))  # [1, 2] ← surpresa!\n",
        "```\n",
        "\n",
        "🧠 **Problema**: o `lista=[]` é **avaliado apenas uma vez**, na **definição da função**, e **não recriado** a cada chamada.\n",
        "Isso significa que **a mesma lista continua existindo na memória**.\n",
        "\n",
        "---\n",
        "\n",
        "### ✅ Como evitar:\n",
        "\n",
        "```python\n",
        "def adicionar_valor(x, lista=None):\n",
        "    if lista is None:\n",
        "        lista = []  # nova lista criada a cada chamada\n",
        "    lista.append(x)\n",
        "    return lista\n",
        "```\n",
        "\n",
        "🧠 Agora, cada chamada com `lista` omitida cria **uma nova lista independente**.\n",
        "\n",
        "---\n",
        "\n",
        "### **Nota de Rodapé para Novatos**\n",
        "\n",
        "* **Parâmetro mutável:** Estrutura que pode ser modificada (como `list`, `dict`, `set`).\n",
        "* **Avaliação única:** Python avalia o valor padrão **uma vez só**, quando a função é **definida**, não a cada chamada.\n",
        "* **`None` como sinalizador:** Valor especial usado para indicar \"nada passado\", comum para evitar esse tipo de bug.\n",
        "\n",
        "---\n",
        "\n",
        "### **Aplicação Prática e Boas Práticas**\n",
        "\n",
        "* ✅ Sempre use `None` como valor padrão para listas, dicionários ou sets:\n",
        "\n",
        "```python\n",
        "def agrupar(item, grupo=None):\n",
        "    if grupo is None:\n",
        "        grupo = []\n",
        "    grupo.append(item)\n",
        "    return grupo\n",
        "```\n",
        "\n",
        "* 📊 Em Ciência de Dados:\n",
        "\n",
        "  * Evite isso ao passar estruturas default como:\n",
        "\n",
        "    ```python\n",
        "    def processar(colunas=[], filtros={}):  # ❌ nunca faça isso\n",
        "    ```\n",
        "\n",
        "* ✅ Em funções reutilizáveis ou com chamadas repetidas, **isso evita bugs difíceis de detectar** — especialmente em loops ou funções de callback.\n",
        "\n",
        "---\n",
        "\n",
        "### **Resumo da Lição**\n",
        "\n",
        "Evite usar listas, dicionários ou outros objetos mutáveis como valor padrão em funções — prefira usar `None` e criar o objeto dentro da função para garantir **comportamento isolado e seguro** a cada chamada.\n",
        "\n",
        "---\n"
      ],
      "metadata": {
        "id": "yiiCuB9Ek5z9"
      }
    },
    {
      "cell_type": "code",
      "source": [],
      "metadata": {
        "id": "Ns__6phlk6S9"
      },
      "execution_count": null,
      "outputs": []
    }
  ]
}