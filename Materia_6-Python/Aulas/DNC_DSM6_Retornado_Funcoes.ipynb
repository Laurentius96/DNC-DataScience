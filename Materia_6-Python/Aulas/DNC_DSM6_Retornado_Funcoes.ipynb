{
  "nbformat": 4,
  "nbformat_minor": 0,
  "metadata": {
    "colab": {
      "provenance": []
    },
    "language_info": {
      "name": "python"
    },
    "kernelspec": {
      "name": "python3",
      "display_name": "Python 3"
    }
  },
  "cells": [
    {
      "metadata": {
        "id": "rGvNW-YRFVxL"
      },
      "source": [
        "## 🎓 **Aula sobre: Retornando valores de funções em Python**\n",
        "\n",
        " <br>\n",
        "\n",
        "### 🧭 Sumário da Aula\n",
        "\n",
        "| # | Sub-tópico                      | Tempo Estimado | Complexidade |\n",
        "|---|---------------------------------|----------------|--------------|\n",
        "| 1 | Ficha de Revisão Rápida         | ~1 min         | ⭐           |\n",
        "| 2 | Mergulho Profundo               | ~15 min        | ⭐⭐⭐⭐       |\n",
        "| 3 | Profundezas e Conexões          | ~3 min         | ⭐⭐         |\n",
        "| 4 | Ação e Verificação              | ~5 min         | ⭐⭐         |\n",
        "| 5 | Mergulhos Adicionais Opcionais  | Opcional      | ⭐⭐⭐⭐       |\n",
        "\n",
        " <br>\n",
        "\n",
        "---\n",
        " <br>\n"
      ],
      "cell_type": "markdown"
    },
    {
      "metadata": {
        "id": "jMgeEzHFFVxM"
      },
      "source": [
        "### 1. 🧠 Ficha de Revisão Rápida | (O Essencial)\n",
        "\n",
        " <br>\n",
        "\n",
        "> A declaração `return` encerra a função e devolve um valor ao chamador.  \n",
        "> Se omitida, a função retorna `None`.  \n",
        "> Uma função pode devolver um único valor ou múltiplos valores como *tupla*.\n"
      ],
      "cell_type": "markdown"
    },
    {
      "metadata": {
        "id": "v9gW9jnyFVxM"
      },
      "source": [
        "### 2. 🔬 Mergulho Profundo | (Os Detalhes)\n",
        "\n",
        " <br>\n",
        "\n",
        "#### **🎯 O Conceito Central**  \n",
        "Quando Python encontra `return valor`, ele interrompe a execução da função e envia `valor` de volta.  \n",
        "Sem `return`, o fluxo chega ao fim e o resultado é `None`.  \n",
        "Para retornar vários valores, Python empacota-os em uma *tupla* automaticamente.\n",
        "\n",
        " <br>\n",
        "\n",
        "#### **🔗 Analogia de Data Science**  \n",
        "Pense em cada etapa de um *pipeline* que processa um conjunto de dados:  \n",
        "- A função `limpa_dados()` retorna um DataFrame limpo.  \n",
        "- A função `extrai_features()` retorna múltiplos arrays (features e rótulos) como tupla.  \n",
        "Cada *return* passa o resultado para o próximo estágio de forma clara e previsível.\n"
      ],
      "cell_type": "markdown"
    },
    {
      "metadata": {
        "id": "Cr0-E2X-FVxN"
      },
      "source": [
        "### **💻 Exemplos de Mercado (Abrangentes)**\n",
        "\n",
        "#### **Nível Simples: Retornando um valor**\n"
      ],
      "cell_type": "markdown"
    },
    {
      "metadata": {
        "id": "80VCM04UFVxN"
      },
      "source": [
        "def soma(a, b):\n",
        "    return a + b\n",
        "\n",
        "print(soma(3, 5))  # 8\n"
      ],
      "cell_type": "code",
      "execution_count": null,
      "outputs": []
    },
    {
      "metadata": {
        "colab": {
          "base_uri": "https://localhost:8080/"
        },
        "id": "dCfh2cNuFVxN",
        "outputId": "af60e62c-982a-4272-8c65-92491c77db30"
      },
      "source": [
        "# Pratique seu código aqui!\n",
        "\n",
        "\n",
        "def soma(a, b):\n",
        "  return a + b\n",
        "\n",
        "print(soma(3, 5))"
      ],
      "cell_type": "code",
      "execution_count": 1,
      "outputs": [
        {
          "output_type": "stream",
          "name": "stdout",
          "text": [
            "8\n"
          ]
        }
      ]
    },
    {
      "metadata": {
        "id": "d-NzOcLCFVxO"
      },
      "source": [
        "* **O que o código faz:** Soma dois números e retorna o resultado.  \n",
        "* **Cenário de Mercado:** Função utilitária em cálculos de métricas simples.  \n",
        "* **Boas Práticas:** Documente via docstring o que é retornado.\n"
      ],
      "cell_type": "markdown"
    },
    {
      "metadata": {
        "id": "qovUmYRoFVxO"
      },
      "source": [
        "#### **Nível Intermediário: Função sem `return` → `None`**\n"
      ],
      "cell_type": "markdown"
    },
    {
      "metadata": {
        "id": "ogH7mRHyFVxO"
      },
      "source": [
        "def imprime_msg(msg):\n",
        "    print(msg)\n",
        "\n",
        "resultado = imprime_msg(\"Olá\")\n",
        "print(resultado is None)  # True\n"
      ],
      "cell_type": "code",
      "execution_count": null,
      "outputs": []
    },
    {
      "metadata": {
        "colab": {
          "base_uri": "https://localhost:8080/"
        },
        "id": "5lkO7JW2FVxP",
        "outputId": "64c09e20-2073-4ba4-c5da-901fd4892780"
      },
      "source": [
        "# Pratique seu código aqui!\n",
        "def imprime_msg(msg):\n",
        "  print(msg)\n",
        "\n",
        "resultado = imprime_msg(\"Olá\")\n",
        "print(resultado is None)"
      ],
      "cell_type": "code",
      "execution_count": 3,
      "outputs": [
        {
          "output_type": "stream",
          "name": "stdout",
          "text": [
            "Olá\n",
            "True\n"
          ]
        }
      ]
    },
    {
      "metadata": {
        "id": "edJp_CyUFVxP"
      },
      "source": [
        "* **O que o código faz:** Exibe texto e não retorna valor explícito.  \n",
        "* **Cenário de Mercado:** Uso em funções de efeito colateral (logs, prints).  \n",
        "* **Boas Práticas:** Evite misturar lógica e efeitos; prefira funções puras que retornem valores.\n"
      ],
      "cell_type": "markdown"
    },
    {
      "metadata": {
        "id": "ffsQRI9hFVxP"
      },
      "source": [
        "#### **Nível Avançado: Retornando múltiplos valores**\n"
      ],
      "cell_type": "markdown"
    },
    {
      "metadata": {
        "id": "GXcK00liFVxP"
      },
      "source": [
        "def estatisticas(nums):\n",
        "    minimo = min(nums)\n",
        "    maximo = max(nums)\n",
        "    media = sum(nums) / len(nums)\n",
        "    return minimo, maximo, media\n",
        "\n",
        "min_val, max_val, avg = estatisticas([10, 20, 30])\n",
        "print(min_val, max_val, avg)\n"
      ],
      "cell_type": "code",
      "execution_count": null,
      "outputs": []
    },
    {
      "metadata": {
        "colab": {
          "base_uri": "https://localhost:8080/"
        },
        "id": "aDuJAzXXFVxP",
        "outputId": "82bdf171-6a52-4f6b-b00a-5b2ad166a975"
      },
      "source": [
        "# Pratique seu código aqui!\n",
        "\n",
        "def estatisticas(nums):\n",
        "  minimo = min(nums)\n",
        "  maximo = max(nums)\n",
        "  media = sum(nums) / len(nums)\n",
        "  return minimo, maximo, media\n",
        "\n",
        "min_val, max_val, avg = estatisticas([10, 20, 30])\n",
        "print(min_val, max_val, avg)\n"
      ],
      "cell_type": "code",
      "execution_count": 4,
      "outputs": [
        {
          "output_type": "stream",
          "name": "stdout",
          "text": [
            "10 30 20.0\n"
          ]
        }
      ]
    },
    {
      "metadata": {
        "id": "22bJHB0aFVxP"
      },
      "source": [
        "* **O que o código faz:** Calcula e retorna três métricas.  \n",
        "* **Cenário de Mercado:** Análise exploratória de dados retorna vários indicadores.  \n",
        "* **Boas Práticas:** Desempacote valores para variáveis claras.\n"
      ],
      "cell_type": "markdown"
    },
    {
      "metadata": {
        "id": "F487EL9mFVxP"
      },
      "source": [
        "#### **Nível DEUS (1/3): Early Return / Guard Clauses**\n"
      ],
      "cell_type": "markdown"
    },
    {
      "metadata": {
        "id": "uQ5ud6fXFVxQ"
      },
      "source": [
        "def divide(a, b):\n",
        "    if b == 0:\n",
        "        return None\n",
        "    return a / b\n",
        "\n",
        "print(divide(10, 0))  # None\n"
      ],
      "cell_type": "code",
      "execution_count": null,
      "outputs": []
    },
    {
      "metadata": {
        "colab": {
          "base_uri": "https://localhost:8080/"
        },
        "id": "HjVEx3JvFVxQ",
        "outputId": "07f735e4-08bd-4dce-c0c7-c24e91b22bf4"
      },
      "source": [
        "# Pratique seu código aqui!\n",
        "\n",
        "def divide(a, b):\n",
        "  if b == 0:\n",
        "    return None\n",
        "  return a/b\n",
        "\n",
        "print(divide(10, 0))"
      ],
      "cell_type": "code",
      "execution_count": 5,
      "outputs": [
        {
          "output_type": "stream",
          "name": "stdout",
          "text": [
            "None\n"
          ]
        }
      ]
    },
    {
      "metadata": {
        "id": "05Hxrk5HFVxQ"
      },
      "source": [
        "* **O que o código faz:** Sai imediatamente em caso de divisor zero.  \n",
        "* **Cenário de Mercado:** Validação de dados antes de operações sensíveis.\n"
      ],
      "cell_type": "markdown"
    },
    {
      "metadata": {
        "id": "C04Re5nPFVxQ"
      },
      "source": [
        "#### **Nível DEUS (2/3): Função que Retorna outra Função (Closure)**\n"
      ],
      "cell_type": "markdown"
    },
    {
      "metadata": {
        "id": "4t_6pZejFVxQ"
      },
      "source": [
        "def faz_multiplicador(n):\n",
        "    def multiplica(x):\n",
        "        return x * n\n",
        "    return multiplica\n",
        "\n",
        "duplica = faz_multiplicador(2)\n",
        "print(duplica(5))  # 10\n"
      ],
      "cell_type": "code",
      "execution_count": null,
      "outputs": []
    },
    {
      "metadata": {
        "colab": {
          "base_uri": "https://localhost:8080/"
        },
        "id": "q9A_yOqzFVxR",
        "outputId": "0c1edc4f-fcd0-43c9-827c-6172894f7b3a"
      },
      "source": [
        "# Pratique seu código aqui!\n",
        "\n",
        "def faz_multiplicador(n):\n",
        "  def multiplica(x):\n",
        "    return x * n\n",
        "  return multiplica\n",
        "\n",
        "duplica = faz_multiplicador(2)\n",
        "print(duplica(5))\n"
      ],
      "cell_type": "code",
      "execution_count": 6,
      "outputs": [
        {
          "output_type": "stream",
          "name": "stdout",
          "text": [
            "10\n"
          ]
        }
      ]
    },
    {
      "metadata": {
        "id": "bbtDGA6qFVxR"
      },
      "source": [
        "* **O que o código faz:** Retorna função personalizada que lembra `n`.  \n",
        "* **Cenário de Mercado:** Geração de funções de transformação dinâmicas.\n"
      ],
      "cell_type": "markdown"
    },
    {
      "metadata": {
        "id": "LxFCraGOFVxR"
      },
      "source": [
        "#### **Nível DEUS (3/3): Anotações de Tipo e `inspect.signature`**\n"
      ],
      "cell_type": "markdown"
    },
    {
      "metadata": {
        "id": "qRyeSyUkFVxR"
      },
      "source": [
        "from inspect import signature\n",
        "\n",
        "def formata(valor: float) -> str:\n",
        "    return f\"R$ {valor:.2f}\"\n",
        "\n",
        "sig = signature(formata)\n",
        "print(sig)  # (valor: float) -> str\n"
      ],
      "cell_type": "code",
      "execution_count": null,
      "outputs": []
    },
    {
      "metadata": {
        "colab": {
          "base_uri": "https://localhost:8080/"
        },
        "id": "XnjZLGXiFVxR",
        "outputId": "c77228d4-18e0-47bf-d85e-d0aca427e8ae"
      },
      "source": [
        "# Pratique seu código aqui!\n",
        "\n",
        "from inspect import signature\n",
        "\n",
        "def formata(valor: float) -> str:\n",
        "  return f\"R$ {valor:.2f}\"\n",
        "\n",
        "sig = signature(formata)\n",
        "print(sig)\n"
      ],
      "cell_type": "code",
      "execution_count": 8,
      "outputs": [
        {
          "output_type": "stream",
          "name": "stdout",
          "text": [
            "(valor: float) -> str\n"
          ]
        }
      ]
    },
    {
      "metadata": {
        "id": "tgTmkKIeFVxR"
      },
      "source": [
        "* **O que o código faz:** Documenta tipo de argumento e retorno, e inspeciona assinatura.  \n",
        "* **Cenário de Mercado:** Geração de documentação automática e validação de tipos.\n"
      ],
      "cell_type": "markdown"
    },
    {
      "metadata": {
        "id": "jwFRF0q2FVxR"
      },
      "source": [
        "### 3. 🕸️ Profundezas e Conexões\n",
        "\n",
        " <br>\n",
        "Valores de retorno permitem **composição de funções** (funções encadeadas), **map/filter** onde a função retorna booleanos, e **pipelines** em bibliotecas como *scikit-learn* (fit/transform). Entender `return` é essencial para estruturar *APIs* e módulos reutilizáveis.\n",
        " <br>\n",
        "\n",
        "---\n",
        " <br>\n"
      ],
      "cell_type": "markdown"
    },
    {
      "metadata": {
        "id": "rPv83w3wFVxR"
      },
      "source": [
        "### 4. 🚀 Ação e Verificação\n",
        "\n",
        " <br>\n",
        "#### **🤔 Desafio Prático**\n",
        "1. Crie `def soma_sub(a, b)` que retorna `(soma, subtracao)` de dois números.  \n",
        "2. Defina `def registra_log(msg)` sem `return` e verifique que `registrar_log(...) is None`.  \n",
        "3. Implemente `def fatorial(n)` com *guard clause* para `n < 0` retornando `None`.  \n",
        "4. Crie `def gerador_multiplicador(n)` que retorne closure e use-a.  \n",
        "5. Utilize `inspect.signature` para exibir assinatura de uma das funções acima.\n",
        "\n",
        " <br>\n",
        "#### **❓ Pergunta de Verificação**\n",
        "Qual a diferença entre não usar `return` e usar `return None` explicitamente? Em que situações isso importa?\n",
        " <br>\n",
        "\n",
        "---\n",
        " <br>\n"
      ],
      "cell_type": "markdown"
    }
  ]
}