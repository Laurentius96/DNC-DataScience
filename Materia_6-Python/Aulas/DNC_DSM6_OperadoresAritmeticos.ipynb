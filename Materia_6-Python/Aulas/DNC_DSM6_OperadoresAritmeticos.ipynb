{
  "nbformat": 4,
  "nbformat_minor": 0,
  "metadata": {
    "colab": {
      "provenance": []
    },
    "kernelspec": {
      "name": "python3",
      "display_name": "Python 3"
    },
    "language_info": {
      "name": "python"
    }
  },
  "cells": [
    {
      "cell_type": "markdown",
      "source": [
        "## 🎓 **Aula sobre: Operadores Aritméticos em Python**\n",
        "\n",
        "<br>\n",
        "\n",
        "### 🧭 Sumário da Aula\n",
        "\n",
        "| # | Sub-tópico               | Tempo Estimado | Complexidade |\n",
        "|---|--------------------------|----------------|--------------|\n",
        "| 1 | Ficha de Revisão Rápida  | ~1 min         | ⭐           |\n",
        "| 2 | Mergulho Profundo        | ~15 min        | ⭐⭐⭐⭐      |\n",
        "| 3 | Profundezas e Conexões   | ~3 min         | ⭐⭐        |\n",
        "| 4 | Ação e Verificação       | ~5 min         | ⭐⭐        |\n",
        "| 5 | Mergulhos Adicionais     | Opcional       | ⭐⭐⭐⭐      |\n",
        "\n",
        "<br>\n",
        "\n",
        "---\n",
        "<br>\n",
        "\n",
        "### 1. 🧠 Ficha de Revisão Rápida | (O Essencial)\n",
        "\n",
        "<br>\n",
        "\n",
        "> Os *operadores aritméticos* em Python realizam cálculos matemáticos básicos entre *operandos* (valores ou variáveis). Os principais são: `+`, `-`, `*`, `/`, `//`, `%`, `**`.\n",
        "\n",
        "<br>\n",
        "\n",
        "### 2. 🔬 Mergulho Profundo | (Os Detalhes)\n",
        "\n",
        "<br>\n",
        "\n",
        "#### **🎯 O Conceito Central**  \n",
        "Os *operadores aritméticos* funcionam como símbolos que instruem o Python a executar cálculos entre *operandos*. A linguagem segue a precedência padrão: exponenciação (`**`), multiplicação/divisão (`*`, `/`, `//`, `%`), adição/subtração (`+`, `-`).\n",
        "\n",
        "<br>\n",
        "\n",
        "#### **🔗 Analogia de Data Science**  \n",
        "Imagine um *pipeline de transformação* onde você precisa calcular métricas como *taxa de conversão* ou *média ponderada*. Os operadores são as ferramentas que permitem combinar e transformar dados numéricos para extrair insights.\n",
        "\n",
        "<br>\n",
        "\n",
        "### **💻 Exemplos de Mercado (Abrangentes)**\n"
      ],
      "metadata": {
        "id": "zMbfm6zZt6h4"
      }
    },
    {
      "cell_type": "markdown",
      "source": [
        "#### **Nível Simples: Operações Básicas**\n"
      ],
      "metadata": {
        "id": "qnA1UEHht6s3"
      }
    },
    {
      "cell_type": "code",
      "execution_count": 5,
      "metadata": {
        "colab": {
          "base_uri": "https://localhost:8080/"
        },
        "id": "3V20e1CbsUmT",
        "outputId": "f303927e-5156-4bc4-9a18-9101e8156a4e"
      },
      "outputs": [
        {
          "output_type": "stream",
          "name": "stdout",
          "text": [
            "13\n",
            "7\n",
            "30\n",
            "3.3333333333333335\n"
          ]
        }
      ],
      "source": [
        "# Operações básicas\n",
        "a = 10\n",
        "b = 3\n",
        "\n",
        "print(a + b) # Soma: 13\n",
        "print(a -b) # Subtração: 7\n",
        "print(a * b) # Multiplicação: 30\n",
        "print(a / b) # Divisão: 3.3333333333333335\n"
      ]
    },
    {
      "cell_type": "markdown",
      "source": [
        "*   **O que o código faz:** Demonstra as operações aritméticas fundamentais em Python.  \n",
        "*   **Cenário de Mercado:** Usado em cálculos de KPIs, como soma de vendas e média de valores.  \n",
        "*   **Boas Práticas:** Use parênteses para deixar clara a ordem das operações em expressões complexas.\n"
      ],
      "metadata": {
        "id": "-Y37sNzCusKh"
      }
    },
    {
      "cell_type": "markdown",
      "source": [
        "#### **Nível Intermediário: Divisão Inteira e Módulo**\n"
      ],
      "metadata": {
        "id": "pOLHOWhauyhh"
      }
    },
    {
      "cell_type": "code",
      "source": [
        "# Divisão inteira e módulo\n",
        "a = 10\n",
        "b = 3\n",
        "\n",
        "print(a // b)  # Divisão inteira: 3\n",
        "print(a % b)   # Resto da divisão: 1\n"
      ],
      "metadata": {
        "colab": {
          "base_uri": "https://localhost:8080/"
        },
        "id": "emZ_hkZVuWD6",
        "outputId": "35079c8f-05d4-42af-81e1-6befd437d24f"
      },
      "execution_count": 4,
      "outputs": [
        {
          "output_type": "stream",
          "name": "stdout",
          "text": [
            "3\n",
            "1\n"
          ]
        }
      ]
    },
    {
      "cell_type": "markdown",
      "source": [
        "*   **O que o código faz:** Mostra como obter apenas a parte inteira de uma divisão e o resto.  \n",
        "*   **Cenário de Mercado:** Útil para agrupar dados em *buckets* ou calcular ciclos repetitivos.  \n",
        "*   **Boas Práticas:** Verifique divisões por zero antes de usar `//` ou `%`."
      ],
      "metadata": {
        "id": "93CbFvaeu5lo"
      }
    },
    {
      "cell_type": "markdown",
      "source": [
        "#### **Nível Avançado: Exponenciação e Precedência**\n"
      ],
      "metadata": {
        "id": "oehJXXcIvWAx"
      }
    },
    {
      "cell_type": "code",
      "source": [
        "# Exponenciação e precedência\n",
        "a = 2\n",
        "b = 3\n",
        "c = 4\n",
        "\n",
        "print(a ** b)       #Exponeciação: 8\n",
        "print(a + b * c)    #Precedência: 2 + (3^4) = 14\n",
        "print((a + b) ** c) #Precedência: (2+3)^4 = 16\n",
        "print((a + b) * c)  #Precedência: (2+3)*4 = 20"
      ],
      "metadata": {
        "colab": {
          "base_uri": "https://localhost:8080/"
        },
        "id": "ihSYMs9nu1zw",
        "outputId": "8adc8c04-6a7e-4971-dcb4-3418ff9cb4d8"
      },
      "execution_count": 8,
      "outputs": [
        {
          "output_type": "stream",
          "name": "stdout",
          "text": [
            "8\n",
            "14\n",
            "625\n",
            "20\n"
          ]
        }
      ]
    },
    {
      "cell_type": "markdown",
      "source": [
        "*   **O que o código faz:** Demonstra o operador de potência e a importância da ordem de operações.  \n",
        "*   **Cenário de Mercado:** Fundamental em modelos de crescimento exponencial e cálculos de juros compostos.  \n",
        "*   **Boas Práticas:** Use parênteses para evitar erros em expressões com múltiplos operadores.\n"
      ],
      "metadata": {
        "id": "FY8D2b4FvWQt"
      }
    },
    {
      "cell_type": "markdown",
      "source": [
        "#### **Nível DEUS (1/3): Combinações com Atribuições Incrementais**"
      ],
      "metadata": {
        "id": "74oeMoLawL9D"
      }
    },
    {
      "cell_type": "code",
      "source": [
        "# Atribuições incrementais\n",
        "contador = 5\n",
        "contador += 3  # equivale a contador = contador + 3\n",
        "contador *= 2  # equivale a contador = contador * 2\n",
        "\n",
        "print(contador)  # 16\n",
        "\n",
        "contador = 5\n",
        "contador -= 3  # equivale a contador = contador -3\n",
        "contador /= 2  # equivale a contador = contador /2\n",
        "\n",
        "print(contador) # 1.0"
      ],
      "metadata": {
        "colab": {
          "base_uri": "https://localhost:8080/"
        },
        "id": "i1K5iRqUxfJV",
        "outputId": "90dc38bd-dabf-4db4-eaca-349412406258"
      },
      "execution_count": 12,
      "outputs": [
        {
          "output_type": "stream",
          "name": "stdout",
          "text": [
            "16\n",
            "1.0\n"
          ]
        }
      ]
    },
    {
      "cell_type": "markdown",
      "source": [
        "*   **O que o código faz:** Mostra como usar operadores combinados (`+=`, `*=`, etc.) para atualizar valores de forma concisa.  \n",
        "*   **Cenário de Mercado:** Comum em loops de iteração e acumulação de métricas.  \n",
        "*   **Boas Práticas:** Utilize para tornar o código mais legível e evitar redundâncias.\n"
      ],
      "metadata": {
        "id": "bI5Aoz7ByRuv"
      }
    },
    {
      "cell_type": "markdown",
      "source": [
        "#### **Nível DEUS (2/3): Operadores Unários e Negação**\n"
      ],
      "metadata": {
        "id": "VSh6ORLNypIL"
      }
    },
    {
      "cell_type": "code",
      "source": [
        "# Operador unários\n",
        "\n",
        "x = 5\n",
        "print(-x) #negação: -5\n",
        "print(+x) #negação: 5"
      ],
      "metadata": {
        "colab": {
          "base_uri": "https://localhost:8080/"
        },
        "id": "F17hbI9_xlJP",
        "outputId": "d4601af0-2648-466f-cef0-2218bd8b677e"
      },
      "execution_count": 16,
      "outputs": [
        {
          "output_type": "stream",
          "name": "stdout",
          "text": [
            "-5\n",
            "5\n"
          ]
        }
      ]
    },
    {
      "cell_type": "markdown",
      "source": [
        "*   **O que o código faz:** Demonstra o uso de operadores unários de sinal.  \n",
        "*   **Cenário de Mercado:** Útil para transformar sinais de dados financeiros ou ajustar métricas.  \n",
        "*   **Boas Práticas:** Use `-` para inverter sinais; `+` melhora a clareza em expressões matemáticas.\n"
      ],
      "metadata": {
        "id": "9U9ZDbppy_RQ"
      }
    },
    {
      "cell_type": "code",
      "source": [],
      "metadata": {
        "id": "ZmVJV0dJy2L8"
      },
      "execution_count": null,
      "outputs": []
    }
  ]
}