{
  "nbformat": 4,
  "nbformat_minor": 0,
  "metadata": {
    "colab": {
      "provenance": []
    },
    "kernelspec": {
      "name": "python3",
      "display_name": "Python 3"
    },
    "language_info": {
      "name": "python"
    }
  },
  "cells": [
    {
      "cell_type": "markdown",
      "source": [
        "## 🎓 **Aula sobre: Dados primitivos em Python**\n",
        "\n",
        "<br>\n",
        "\n",
        "### 🧭 Sumário da Aula\n",
        "\n",
        "| # | Sub-tópico                      | Tempo Estimado | Complexidade |\n",
        "|---|---------------------------------|----------------|--------------|\n",
        "| 1 | Ficha de Revisão Rápida         | ~1 min         | ⭐            |\n",
        "| 2 | Mergulho Profundo               | ~15 min        | ⭐⭐⭐⭐        |\n",
        "| 3 | Profundezas e Conexões          | ~3 min         | ⭐⭐          |\n",
        "| 4 | Ação e Verificação              | ~5 min         | ⭐⭐          |\n",
        "| 5 | Mergulhos Adicionais            | Opcional       | ⭐⭐⭐⭐        |\n",
        "\n",
        "<br>\n",
        "\n",
        "---\n",
        "<br>\n",
        "\n",
        "### 1. 🧠 Ficha de Revisão Rápida | (O Essencial)\n",
        "\n",
        "<br>\n",
        "\n",
        "> Dado primitivo em Python refere-se ao tipo de dado básico embutido na linguagem, como `int`, `float`, `bool`, `str` e `NoneType`. São *imutáveis* e armazenam valores atômicos diretamente.\n",
        "\n",
        "<br>\n",
        "\n",
        "### 2. 🔬 Mergulho Profundo | (Os Detalhes)\n",
        "\n",
        "<br>\n",
        "\n",
        "#### **🎯 O Conceito Central**\n",
        "Dados primitivos são os átomos da programação em Python. Cada valor primitivo é um objeto independente e imutável. Ao atribuir um novo valor, você cria um novo objeto na memória.\n",
        "\n",
        "<br>\n",
        "\n",
        "#### **🔗 Analogia de Data Science**\n",
        "Imagine cada dado primitivo como uma célula individual em uma planilha: cada célula contém um valor fixo. Se você alterar o valor, está criando uma nova célula com o valor atualizado, e não modificando diretamente a antiga.\n",
        "\n",
        "<br>\n",
        "\n",
        "### **💻 Exemplos de Mercado (Abrangentes)**\n",
        "\n"
      ],
      "metadata": {
        "id": "naa1FHOyG2bp"
      }
    },
    {
      "cell_type": "markdown",
      "source": [
        "#### **Nível Simples: Criação de Dados Primitivos**\n"
      ],
      "metadata": {
        "id": "01VZ_7LTHMfR"
      }
    },
    {
      "cell_type": "code",
      "execution_count": 1,
      "metadata": {
        "colab": {
          "base_uri": "https://localhost:8080/"
        },
        "id": "6in44sndF4TC",
        "outputId": "009e635c-57d1-456e-bb12-4afaf154e23f"
      },
      "outputs": [
        {
          "output_type": "stream",
          "name": "stdout",
          "text": [
            "30 1.75 Lorenzo Bianchi True None\n"
          ]
        }
      ],
      "source": [
        "# Exemplos de dados primitivos\n",
        "idade = 30                  # int\n",
        "altura = 1.75               # float\n",
        "nome = \"Lorenzo Bianchi\"    # str\n",
        "ativo = True                # bool\n",
        "saldo = None                # NoneType\n",
        "\n",
        "print(idade, altura, nome, ativo, saldo)\n"
      ]
    },
    {
      "cell_type": "markdown",
      "source": [],
      "metadata": {
        "id": "eEnw1g0fHPFj"
      }
    },
    {
      "cell_type": "code",
      "source": [],
      "metadata": {
        "id": "2pw5s77dHPUN"
      },
      "execution_count": null,
      "outputs": []
    }
  ]
}