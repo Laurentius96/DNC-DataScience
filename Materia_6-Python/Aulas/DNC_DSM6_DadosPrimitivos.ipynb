{
  "nbformat": 4,
  "nbformat_minor": 0,
  "metadata": {
    "colab": {
      "provenance": []
    },
    "kernelspec": {
      "name": "python3",
      "display_name": "Python 3"
    },
    "language_info": {
      "name": "python"
    }
  },
  "cells": [
    {
      "cell_type": "markdown",
      "source": [
        "## 🎓 **Aula sobre: Dados primitivos em Python**\n",
        "\n",
        "<br>\n",
        "\n",
        "### 🧭 Sumário da Aula\n",
        "\n",
        "| # | Sub-tópico                      | Tempo Estimado | Complexidade |\n",
        "|---|---------------------------------|----------------|--------------|\n",
        "| 1 | Ficha de Revisão Rápida         | ~1 min         | ⭐            |\n",
        "| 2 | Mergulho Profundo               | ~15 min        | ⭐⭐⭐⭐        |\n",
        "| 3 | Profundezas e Conexões          | ~3 min         | ⭐⭐          |\n",
        "| 4 | Ação e Verificação              | ~5 min         | ⭐⭐          |\n",
        "| 5 | Mergulhos Adicionais            | Opcional       | ⭐⭐⭐⭐        |\n",
        "\n",
        "<br>\n",
        "\n",
        "---\n",
        "<br>\n",
        "\n",
        "### 1. 🧠 Ficha de Revisão Rápida | (O Essencial)\n",
        "\n",
        "<br>\n",
        "\n",
        "> Dado primitivo em Python refere-se ao tipo de dado básico embutido na linguagem, como `int`, `float`, `bool`, `str` e `NoneType`. São *imutáveis* e armazenam valores atômicos diretamente.\n",
        "\n",
        "<br>\n",
        "\n",
        "### 2. 🔬 Mergulho Profundo | (Os Detalhes)\n",
        "\n",
        "<br>\n",
        "\n",
        "#### **🎯 O Conceito Central**\n",
        "Dados primitivos são os átomos da programação em Python. Cada valor primitivo é um objeto independente e imutável. Ao atribuir um novo valor, você cria um novo objeto na memória.\n",
        "\n",
        "<br>\n",
        "\n",
        "#### **🔗 Analogia de Data Science**\n",
        "Imagine cada dado primitivo como uma célula individual em uma planilha: cada célula contém um valor fixo. Se você alterar o valor, está criando uma nova célula com o valor atualizado, e não modificando diretamente a antiga.\n",
        "\n",
        "<br>\n",
        "\n",
        "### **💻 Exemplos de Mercado (Abrangentes)**\n",
        "\n"
      ],
      "metadata": {
        "id": "naa1FHOyG2bp"
      }
    },
    {
      "cell_type": "markdown",
      "source": [
        "#### **Nível Simples: Criação de Dados Primitivos**\n"
      ],
      "metadata": {
        "id": "01VZ_7LTHMfR"
      }
    },
    {
      "cell_type": "code",
      "execution_count": 1,
      "metadata": {
        "colab": {
          "base_uri": "https://localhost:8080/"
        },
        "id": "6in44sndF4TC",
        "outputId": "009e635c-57d1-456e-bb12-4afaf154e23f"
      },
      "outputs": [
        {
          "output_type": "stream",
          "name": "stdout",
          "text": [
            "30 1.75 Lorenzo Bianchi True None\n"
          ]
        }
      ],
      "source": [
        "# Exemplos de dados primitivos\n",
        "idade = 30                  # int\n",
        "altura = 1.75               # float\n",
        "nome = \"Lorenzo Bianchi\"    # str\n",
        "ativo = True                # bool\n",
        "saldo = None                # NoneType\n",
        "\n",
        "print(idade, altura, nome, ativo, saldo)\n"
      ]
    },
    {
      "cell_type": "markdown",
      "source": [
        "*   **O que o código faz:** Cria variáveis de diferentes tipos primitivos.\n",
        "*   **Cenário de Mercado:** É a base ao receber dados brutos em diferentes formatos e armazená-los para processamento.\n",
        "*   **Boas Práticas:** Use nomes descritivos e consistentes em `snake_case`.\n"
      ],
      "metadata": {
        "id": "eEnw1g0fHPFj"
      }
    },
    {
      "cell_type": "markdown",
      "source": [
        "#### **Nível Intermediário: Conversões e Operações**\n"
      ],
      "metadata": {
        "id": "h6K71VIOKl8s"
      }
    },
    {
      "cell_type": "code",
      "source": [
        "# Conversões entre tipos\n",
        "valor_str = \"100\"\n",
        "valor_int = int(valor_str)      # converte para inteiro\n",
        "valor_float = float(valor_int)  # converte para float\n",
        "resultado = valor_int + 20      # operação aritmética\n",
        "\n",
        "print(valor_int, valor_float, resultado)\n"
      ],
      "metadata": {
        "colab": {
          "base_uri": "https://localhost:8080/"
        },
        "id": "zngJK-slKkp-",
        "outputId": "f6e0362c-5697-4566-dfa1-e11e3553bc46"
      },
      "execution_count": 2,
      "outputs": [
        {
          "output_type": "stream",
          "name": "stdout",
          "text": [
            "100 100.0 120\n"
          ]
        }
      ]
    },
    {
      "cell_type": "markdown",
      "source": [
        "*   **O que o código faz:** Converte strings em números e realiza operações básicas.\n",
        "*   **Cenário de Mercado:** Comum ao parsear dados de arquivos CSV ou APIs que retornam valores como texto.\n",
        "*   **Boas Práticas:** Valide entradas antes de converter para evitar exceções.\n"
      ],
      "metadata": {
        "id": "hK0-kNQoKtcQ"
      }
    },
    {
      "cell_type": "markdown",
      "source": [
        "#### **Nível Avançado: Imutabilidade e Compartilhamento**\n"
      ],
      "metadata": {
        "id": "pgwhg2PSK31b"
      }
    },
    {
      "cell_type": "code",
      "source": [
        "# Demonstrando imutabilidade\n",
        "a = 1000\n",
        "b = a\n",
        "print(id(a), id(b))  # mesmos ids\n",
        "\n",
        "b += 1\n",
        "print(id(a), id(b))  # b agora aponta para novo objeto\n",
        "\n",
        "print(a, b)\n"
      ],
      "metadata": {
        "colab": {
          "base_uri": "https://localhost:8080/"
        },
        "id": "2pw5s77dHPUN",
        "outputId": "7be993bf-2bb7-4410-d243-4bae8bafa561"
      },
      "execution_count": 3,
      "outputs": [
        {
          "output_type": "stream",
          "name": "stdout",
          "text": [
            "137608979742512 137608979742512\n",
            "137608979742512 137608979741904\n",
            "1000 1001\n"
          ]
        }
      ]
    },
    {
      "cell_type": "markdown",
      "source": [
        "*   **O que o código faz:** Mostra que, ao modificar um dado primitivo, um novo objeto é criado.\n",
        "*   **Cenário de Mercado:** Importante ao otimizar uso de memória ao lidar com grandes volumes de dados.\n",
        "*   **Boas Práticas:** Prefira operações que evitem cópias desnecessárias em loops intensivos.\n"
      ],
      "metadata": {
        "id": "77cJecJULMPv"
      }
    },
    {
      "cell_type": "code",
      "source": [],
      "metadata": {
        "id": "t1LLJDz6K88c"
      },
      "execution_count": null,
      "outputs": []
    }
  ]
}