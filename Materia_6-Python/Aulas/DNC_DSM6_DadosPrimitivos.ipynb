{
  "nbformat": 4,
  "nbformat_minor": 0,
  "metadata": {
    "colab": {
      "provenance": []
    },
    "kernelspec": {
      "name": "python3",
      "display_name": "Python 3"
    },
    "language_info": {
      "name": "python"
    }
  },
  "cells": [
    {
      "cell_type": "markdown",
      "source": [
        "## 🎓 **Aula sobre: Dados primitivos em Python**\n",
        "\n",
        "<br>\n",
        "\n",
        "### 🧭 Sumário da Aula\n",
        "\n",
        "| # | Sub-tópico                      | Tempo Estimado | Complexidade |\n",
        "|---|---------------------------------|----------------|--------------|\n",
        "| 1 | Ficha de Revisão Rápida         | ~1 min         | ⭐            |\n",
        "| 2 | Mergulho Profundo               | ~15 min        | ⭐⭐⭐⭐        |\n",
        "| 3 | Profundezas e Conexões          | ~3 min         | ⭐⭐          |\n",
        "| 4 | Ação e Verificação              | ~5 min         | ⭐⭐          |\n",
        "| 5 | Mergulhos Adicionais            | Opcional       | ⭐⭐⭐⭐        |\n",
        "\n",
        "<br>\n",
        "\n",
        "---\n",
        "<br>\n",
        "\n",
        "### 1. 🧠 Ficha de Revisão Rápida | (O Essencial)\n",
        "\n",
        "<br>\n",
        "\n",
        "> Dado primitivo em Python refere-se ao tipo de dado básico embutido na linguagem, como `int`, `float`, `bool`, `str` e `NoneType`. São *imutáveis* e armazenam valores atômicos diretamente.\n",
        "\n",
        "<br>\n",
        "\n",
        "### 2. 🔬 Mergulho Profundo | (Os Detalhes)\n",
        "\n",
        "<br>\n",
        "\n",
        "#### **🎯 O Conceito Central**\n",
        "Dados primitivos são os átomos da programação em Python. Cada valor primitivo é um objeto independente e imutável. Ao atribuir um novo valor, você cria um novo objeto na memória.\n",
        "\n",
        "<br>\n",
        "\n",
        "#### **🔗 Analogia de Data Science**\n",
        "Imagine cada dado primitivo como uma célula individual em uma planilha: cada célula contém um valor fixo. Se você alterar o valor, está criando uma nova célula com o valor atualizado, e não modificando diretamente a antiga.\n",
        "\n",
        "<br>\n",
        "\n",
        "### **💻 Exemplos de Mercado (Abrangentes)**\n",
        "\n"
      ],
      "metadata": {
        "id": "naa1FHOyG2bp"
      }
    },
    {
      "cell_type": "markdown",
      "source": [
        "#### **Nível Simples: Criação de Dados Primitivos**\n"
      ],
      "metadata": {
        "id": "01VZ_7LTHMfR"
      }
    },
    {
      "cell_type": "code",
      "execution_count": null,
      "metadata": {
        "colab": {
          "base_uri": "https://localhost:8080/"
        },
        "id": "6in44sndF4TC",
        "outputId": "009e635c-57d1-456e-bb12-4afaf154e23f"
      },
      "outputs": [
        {
          "output_type": "stream",
          "name": "stdout",
          "text": [
            "30 1.75 Lorenzo Bianchi True None\n"
          ]
        }
      ],
      "source": [
        "# Exemplos de dados primitivos\n",
        "idade = 30                  # int\n",
        "altura = 1.75               # float\n",
        "nome = \"Lorenzo Bianchi\"    # str\n",
        "ativo = True                # bool\n",
        "saldo = None                # NoneType\n",
        "\n",
        "print(idade, altura, nome, ativo, saldo)\n"
      ]
    },
    {
      "cell_type": "markdown",
      "source": [
        "*   **O que o código faz:** Cria variáveis de diferentes tipos primitivos.\n",
        "*   **Cenário de Mercado:** É a base ao receber dados brutos em diferentes formatos e armazená-los para processamento.\n",
        "*   **Boas Práticas:** Use nomes descritivos e consistentes em `snake_case`.\n"
      ],
      "metadata": {
        "id": "eEnw1g0fHPFj"
      }
    },
    {
      "cell_type": "markdown",
      "source": [
        "#### **Nível Intermediário: Conversões e Operações**\n"
      ],
      "metadata": {
        "id": "h6K71VIOKl8s"
      }
    },
    {
      "cell_type": "code",
      "source": [
        "# Conversões entre tipos\n",
        "valor_str = \"100\"\n",
        "valor_int = int(valor_str)      # converte para inteiro\n",
        "valor_float = float(valor_int)  # converte para float\n",
        "resultado = valor_int + 20      # operação aritmética\n",
        "\n",
        "print(valor_int, valor_float, resultado)\n"
      ],
      "metadata": {
        "colab": {
          "base_uri": "https://localhost:8080/"
        },
        "id": "zngJK-slKkp-",
        "outputId": "f6e0362c-5697-4566-dfa1-e11e3553bc46"
      },
      "execution_count": null,
      "outputs": [
        {
          "output_type": "stream",
          "name": "stdout",
          "text": [
            "100 100.0 120\n"
          ]
        }
      ]
    },
    {
      "cell_type": "markdown",
      "source": [
        "*   **O que o código faz:** Converte strings em números e realiza operações básicas.\n",
        "*   **Cenário de Mercado:** Comum ao parsear dados de arquivos CSV ou APIs que retornam valores como texto.\n",
        "*   **Boas Práticas:** Valide entradas antes de converter para evitar exceções.\n"
      ],
      "metadata": {
        "id": "hK0-kNQoKtcQ"
      }
    },
    {
      "cell_type": "markdown",
      "source": [
        "#### **Nível Avançado: Imutabilidade e Compartilhamento**\n"
      ],
      "metadata": {
        "id": "pgwhg2PSK31b"
      }
    },
    {
      "cell_type": "code",
      "source": [
        "# Demonstrando imutabilidade\n",
        "a = 1000\n",
        "b = a\n",
        "print(id(a), id(b))  # mesmos ids\n",
        "\n",
        "b += 1\n",
        "print(id(a), id(b))  # b agora aponta para novo objeto\n",
        "\n",
        "print(a, b)\n"
      ],
      "metadata": {
        "colab": {
          "base_uri": "https://localhost:8080/"
        },
        "id": "2pw5s77dHPUN",
        "outputId": "7be993bf-2bb7-4410-d243-4bae8bafa561"
      },
      "execution_count": null,
      "outputs": [
        {
          "output_type": "stream",
          "name": "stdout",
          "text": [
            "137608979742512 137608979742512\n",
            "137608979742512 137608979741904\n",
            "1000 1001\n"
          ]
        }
      ]
    },
    {
      "cell_type": "markdown",
      "source": [
        "*   **O que o código faz:** Mostra que, ao modificar um dado primitivo, um novo objeto é criado.\n",
        "*   **Cenário de Mercado:** Importante ao otimizar uso de memória ao lidar com grandes volumes de dados.\n",
        "*   **Boas Práticas:** Prefira operações que evitem cópias desnecessárias em loops intensivos.\n"
      ],
      "metadata": {
        "id": "77cJecJULMPv"
      }
    },
    {
      "cell_type": "markdown",
      "source": [
        "#### **Nível DEUS (1/3): Operações Bitwise**\n"
      ],
      "metadata": {
        "id": "WSlUyl4SMT4j"
      }
    },
    {
      "cell_type": "code",
      "source": [
        "# Operações bitwise com inteiros\n",
        "x = 5   # binário 0b0101\n",
        "y = 3   # binário 0b0011\n",
        "\n",
        "print(x & y)  # AND: 1\n",
        "print(x | y)  # OR: 7\n",
        "print(x ^ y)  # XOR: 6\n",
        "print(x << 1) # Shift left: 10\n",
        "print(x >> 1) # Shift right: 2\n"
      ],
      "metadata": {
        "colab": {
          "base_uri": "https://localhost:8080/"
        },
        "id": "t1LLJDz6K88c",
        "outputId": "5dba54fa-6c6e-4da3-b6e8-83c05f9ffaa6"
      },
      "execution_count": null,
      "outputs": [
        {
          "output_type": "stream",
          "name": "stdout",
          "text": [
            "1\n",
            "7\n",
            "6\n",
            "10\n",
            "2\n"
          ]
        }
      ]
    },
    {
      "cell_type": "markdown",
      "source": [
        "*   **O que o código faz:** Realiza operações de nível de bit em inteiros.\n",
        "*   **Cenário de Mercado:** Utilizado em otimização de algoritmos, criptografia e compressão de dados.\n",
        "*   **Boas Práticas:** Conheça operadores bitwise ao lidar com manipulação eficiente de dados binários.\n"
      ],
      "metadata": {
        "id": "HCs-x8wxMetX"
      }
    },
    {
      "cell_type": "markdown",
      "source": [
        "#### **Nível DEUS (2/3): Precisão de Ponto Flutuante (IEEE 754)**\n"
      ],
      "metadata": {
        "id": "gs-QmCP6Mseo"
      }
    },
    {
      "cell_type": "code",
      "source": [
        "# Demonstrando imprecisão de ponto flutuante\n",
        "a = 0.1 + 0.2\n",
        "print(a)                       # pode não ser exatamente 0.3\n",
        "print(abs(a - 0.3) < 1e-9)     # verifica proximidade\n"
      ],
      "metadata": {
        "colab": {
          "base_uri": "https://localhost:8080/"
        },
        "id": "bOFNARBmMWWF",
        "outputId": "cdb14084-27bb-413e-ea83-519b80bc0baa"
      },
      "execution_count": null,
      "outputs": [
        {
          "output_type": "stream",
          "name": "stdout",
          "text": [
            "0.30000000000000004\n",
            "True\n"
          ]
        }
      ]
    },
    {
      "cell_type": "markdown",
      "source": [
        "*   **O que o código faz:** Mostra a imprecisão inerente a floats.\n",
        "*   **Cenário de Mercado:** Crucial ao realizar cálculos financeiros ou científicos.\n",
        "*   **Boas Práticas:** Use `decimal` ou bibliotecas específicas quando a precisão for essencial.\n"
      ],
      "metadata": {
        "id": "nJ07SfFWM0nD"
      }
    },
    {
      "cell_type": "markdown",
      "source": [
        "#### **Nível DEUS (3/3): Internamento de Strings (String Pooling)**"
      ],
      "metadata": {
        "id": "YhbCDuEtM9iA"
      }
    },
    {
      "cell_type": "code",
      "source": [
        "# Internamento de strings\n",
        "s1 = \"python\"\n",
        "s2 = \"python\"\n",
        "print(s1 is s2)  # True em muitos casos\n",
        "\n",
        "s3 = \"\".join([\"py\", \"thon\"])\n",
        "print(s3 is s1)  # False, nova instância\n"
      ],
      "metadata": {
        "colab": {
          "base_uri": "https://localhost:8080/"
        },
        "id": "jqzk5wGYMzGl",
        "outputId": "7f0d57b5-0a69-4cba-db33-5ab8a6b99108"
      },
      "execution_count": null,
      "outputs": [
        {
          "output_type": "stream",
          "name": "stdout",
          "text": [
            "True\n",
            "False\n"
          ]
        }
      ]
    },
    {
      "cell_type": "code",
      "source": [
        "# Internamento de strings\n",
        "s1 = \"python\"\n",
        "s2 = \"python\"\n",
        "print(s1 is s2)  # True em muitos casos\n",
        "\n",
        "s3 = \"\".join([\"py\", \"thon\"])\n",
        "print(s3 is s1)  # False, nova instância\n"
      ],
      "metadata": {
        "colab": {
          "base_uri": "https://localhost:8080/"
        },
        "id": "9Ab0SL8LM_9t",
        "outputId": "e2e8bc0b-0987-4fae-c164-52d50dff2113"
      },
      "execution_count": null,
      "outputs": [
        {
          "output_type": "stream",
          "name": "stdout",
          "text": [
            "True\n",
            "False\n"
          ]
        }
      ]
    },
    {
      "cell_type": "markdown",
      "source": [
        "*   **O que o código faz:** Demonstra o _string interning_ do Python.\n",
        "*   **Cenário de Mercado:** Pode impactar desempenho e comparações de identidade.\n",
        "*   **Boas Práticas:** Use `==` para comparar conteúdo de strings, não `is`.\n"
      ],
      "metadata": {
        "id": "AK-jzPKQNNDE"
      }
    },
    {
      "cell_type": "code",
      "source": [
        "print(s3 == s1)"
      ],
      "metadata": {
        "colab": {
          "base_uri": "https://localhost:8080/"
        },
        "id": "4YCiQHXqNHqd",
        "outputId": "ff3ccc88-bd97-45ec-dbd1-1d7441a0696a"
      },
      "execution_count": null,
      "outputs": [
        {
          "output_type": "stream",
          "name": "stdout",
          "text": [
            "True\n"
          ]
        }
      ]
    },
    {
      "cell_type": "markdown",
      "source": [
        "### 3. 🕸️ Profundezas e Conexões\n",
        "\n",
        "<br>\n",
        "\n",
        "Dados primitivos formam a base para estruturas mais complexas como *listas*, *dicionários* e *DataFrames*. Entender *imutabilidade* ajuda a prevenir bugs relacionados ao compartilhamento de dados e garante integridade dos *pipelines* de transformação.\n",
        "\n",
        "<br>\n",
        "\n",
        "---\n",
        "\n",
        "<br>\n",
        "\n",
        "### 4. 🚀 Ação e Verificação\n",
        "\n",
        "<br>\n",
        "\n",
        "#### **🤔 Desafio Prático**\n",
        "1. Crie uma variável `cod_produto` com valor `\"A100\"`.  \n",
        "2. Crie uma variável `quantidade` com valor `50`.  \n",
        "3. Converta `quantidade` para float e multiplique por `1.2`.  \n",
        "4. Verifique se o resultado é maior que `60`.  \n",
        "5. Exiba o resultado booleano.  \n",
        "\n",
        "<br>\n",
        "\n",
        "#### **❓ Pergunta de Verificação**\n",
        "Por que `a = 256; b = 256; a is b` retorna `True`, mas `a = 257; b = 257; a is b` retorna `False`? O que isso nos diz sobre *internamento* de inteiros em Python?\n",
        "\n",
        "<br>\n",
        "\n",
        "---\n",
        "<br>\n"
      ],
      "metadata": {
        "id": "BRO68j3gNsAC"
      }
    },
    {
      "cell_type": "markdown",
      "source": [
        "### **Resposta Rápida**\n",
        "\n",
        "Pequenos inteiros de -5 a 256 são *internados* (reaproveitados) no CPython, então `a is b` é `True` para 256, mas 257 fica fora desse cache e cria objetos distintos, tornando `a is b` `False`. Isso ilustra o mecanismo de *internamento* de inteiros em Python.\n",
        "\n",
        "### **Analogia do Dia**\n",
        "\n",
        "Imagine uma biblioteca com edições populares de um livro (por exemplo, “Harry Potter”) sempre disponíveis na mesma prateleira para empréstimo rápido, enquanto edições menos comuns são impressas sob demanda em cópias separadas. Assim, quem pega o “Harry Potter” sempre leva o mesmo exemplar, mas quem escolhe um título raro recebe uma nova cópia.\n",
        "\n",
        "### **Análise Técnica Detalhada**\n",
        "\n",
        "#### O operador `is` vs. `==`\n",
        "\n",
        "* `is` verifica se duas variáveis apontam para **o mesmo objeto** na memória.\n",
        "* `==` compara apenas **o valor** contido nos objetos.\n",
        "\n",
        "#### Cache de inteiros no CPython\n",
        "\n",
        "* O CPython mantém um **cache interno** de objetos `int` para valores entre **-5 e 256** por padrão.\n",
        "* Quando você faz `a = 256; b = 256`, ambas as variáveis referenciam o mesmo objeto em memória.\n",
        "* Para valores fora desse intervalo (como 257), o Python cria **novos objetos** cada vez que a atribuição é feita.\n",
        "\n",
        "#### Exemplo de código\n",
        "\n",
        "```python\n",
        "a = 256\n",
        "b = 256\n",
        "print(a is b)   # True – mesmo objeto para inteiros small\n",
        "\n",
        "a = 257\n",
        "b = 257\n",
        "print(a is b)   # False – fora do cache, objetos distintos\n",
        "```\n",
        "\n",
        "### **Nota de Rodapé para Novatos**\n",
        "\n",
        "* **CPython:** Implementação padrão do Python escrita em C.\n",
        "* **Internamento (interning):** Estratégia de reaproveitar objetos imutáveis comuns para economizar memória e tempo.\n",
        "* **Identidade de objeto:** Refere-se ao local na memória onde o objeto está armazenado; testado com `is`.\n",
        "* **Igualdade de valor:** Compara conteúdo do objeto; testado com `==`.\n",
        "* **Singleton:** Objeto único compartilhado (por exemplo, `None`), ideal para comparações com `is`.\n",
        "\n",
        "### **Aplicação Prática e Boas Práticas**\n",
        "\n",
        "* **Nunca use** `is` para comparar valores numéricos em bibliotecas de Data Science (Pandas, NumPy, etc.); isso pode gerar **bugs sutis** quando os números não estiverem no cache.\n",
        "* **Sempre use** `==` para verificar igualdade de valores.\n",
        "* Reserve `is` para comparar **singletons** como `if x is None:` ou verificar identidade de objetos que realmente devem ser únicos.\n",
        "\n",
        "### **Resumo da Lição**\n",
        "\n",
        "Use `==` para comparar valores e deixe `is` apenas para checar a identidade de objetos únicos como `None`.\n"
      ],
      "metadata": {
        "id": "qsOqUdTVrA4I"
      }
    },
    {
      "cell_type": "code",
      "source": [],
      "metadata": {
        "id": "zlM31gSbNons"
      },
      "execution_count": null,
      "outputs": []
    }
  ]
}