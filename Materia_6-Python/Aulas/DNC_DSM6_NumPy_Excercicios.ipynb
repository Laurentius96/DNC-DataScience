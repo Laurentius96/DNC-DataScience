{
  "nbformat": 4,
  "nbformat_minor": 0,
  "metadata": {
    "colab": {
      "provenance": []
    },
    "kernelspec": {
      "name": "python3",
      "display_name": "Python 3"
    },
    "language_info": {
      "name": "python"
    }
  },
  "cells": [
    {
      "cell_type": "markdown",
      "source": [
        "Um array é uma coleção de elementos de um tipo de dados. No NumPy, você pode criar arrays de várias maneiras.\n",
        "\n",
        "Array de Números Sequenciais"
      ],
      "metadata": {
        "id": "RnrlEIL8SBSN"
      }
    },
    {
      "cell_type": "markdown",
      "source": [
        "## 1.1. Instalação e Importação\n"
      ],
      "metadata": {
        "id": "pnaVA8jBVf0_"
      }
    },
    {
      "cell_type": "code",
      "source": [
        "import numpy as np"
      ],
      "metadata": {
        "id": "G--hweZeSsaw"
      },
      "execution_count": 1,
      "outputs": []
    },
    {
      "cell_type": "markdown",
      "source": [
        "## 1.2. Criando Arrays\n"
      ],
      "metadata": {
        "id": "jNPu1RclVbdm"
      }
    },
    {
      "cell_type": "code",
      "execution_count": 3,
      "metadata": {
        "colab": {
          "base_uri": "https://localhost:8080/"
        },
        "id": "CUtp60ftRXu8",
        "outputId": "66f166d0-f56c-443b-f342-1bf0b41d1b99"
      },
      "outputs": [
        {
          "output_type": "stream",
          "name": "stdout",
          "text": [
            "[ 1  2  3  4  5  6  7  8  9 10]\n"
          ]
        }
      ],
      "source": [
        "# 1️⃣ Para criar um array com números de 1 a 10:\n",
        "\n",
        "arr1 = np.arange(1,11)\n",
        "print(arr1)"
      ]
    },
    {
      "cell_type": "code",
      "source": [
        "# 2️⃣ Crie um array de 5 zeros:\n",
        "\n",
        "zeros_array = np.zeros(5)\n",
        "print(zeros_array)"
      ],
      "metadata": {
        "colab": {
          "base_uri": "https://localhost:8080/"
        },
        "id": "ln3KMZeBTCSH",
        "outputId": "ae56a2f2-fa6c-488c-b874-87c3c95ecc9f"
      },
      "execution_count": 5,
      "outputs": [
        {
          "output_type": "stream",
          "name": "stdout",
          "text": [
            "[0. 0. 0. 0. 0.]\n"
          ]
        }
      ]
    },
    {
      "cell_type": "code",
      "source": [
        "# 3️⃣ Crie um array de 5 uns:\n",
        "\n",
        "ones_array = np.ones(5)\n",
        "print(ones_array)"
      ],
      "metadata": {
        "colab": {
          "base_uri": "https://localhost:8080/"
        },
        "id": "1bLr3imBTkjy",
        "outputId": "46ab3c0f-744a-4e16-c153-f23f0d14b74b"
      },
      "execution_count": 6,
      "outputs": [
        {
          "output_type": "stream",
          "name": "stdout",
          "text": [
            "[1. 1. 1. 1. 1.]\n"
          ]
        }
      ]
    },
    {
      "cell_type": "markdown",
      "source": [
        "## 1.3. Espaço Linear"
      ],
      "metadata": {
        "id": "8MS4jAr2VY2G"
      }
    },
    {
      "cell_type": "code",
      "source": [
        "# 4️⃣ Para criar um array com valores espaçados linearmente entre 0 e 50, use np.linspace:\n",
        "\n",
        "arr2 = np.linspace(0,50)\n",
        "print(arr2)\n",
        "print(\"\\n\")\n",
        "print(np.linspace(0, 50, 5))"
      ],
      "metadata": {
        "colab": {
          "base_uri": "https://localhost:8080/"
        },
        "id": "3gViGhHpUOij",
        "outputId": "c07e3104-11f8-4133-8ea4-9e397754bb7a"
      },
      "execution_count": 19,
      "outputs": [
        {
          "output_type": "stream",
          "name": "stdout",
          "text": [
            "[ 0.          1.02040816  2.04081633  3.06122449  4.08163265  5.10204082\n",
            "  6.12244898  7.14285714  8.16326531  9.18367347 10.20408163 11.2244898\n",
            " 12.24489796 13.26530612 14.28571429 15.30612245 16.32653061 17.34693878\n",
            " 18.36734694 19.3877551  20.40816327 21.42857143 22.44897959 23.46938776\n",
            " 24.48979592 25.51020408 26.53061224 27.55102041 28.57142857 29.59183673\n",
            " 30.6122449  31.63265306 32.65306122 33.67346939 34.69387755 35.71428571\n",
            " 36.73469388 37.75510204 38.7755102  39.79591837 40.81632653 41.83673469\n",
            " 42.85714286 43.87755102 44.89795918 45.91836735 46.93877551 47.95918367\n",
            " 48.97959184 50.        ]\n",
            "\n",
            "\n",
            "[ 0.  12.5 25.  37.5 50. ]\n"
          ]
        }
      ]
    },
    {
      "cell_type": "markdown",
      "source": [
        "## 1.4. Matriz Identidade"
      ],
      "metadata": {
        "id": "WQaHZuINVxFJ"
      }
    },
    {
      "cell_type": "code",
      "source": [
        "# 5️⃣ Uma matriz identidade é uma matriz quadrada com 1s na diagonal principal:\n",
        "\n",
        "identity_matrix = np.eye(5)\n",
        "print(identity_matrix)"
      ],
      "metadata": {
        "colab": {
          "base_uri": "https://localhost:8080/"
        },
        "id": "G4y5HKeaUD8S",
        "outputId": "d3bdc188-0b7e-44c7-ade6-6b4c0bdb73d9"
      },
      "execution_count": 21,
      "outputs": [
        {
          "output_type": "stream",
          "name": "stdout",
          "text": [
            "[[1. 0. 0. 0. 0.]\n",
            " [0. 1. 0. 0. 0.]\n",
            " [0. 0. 1. 0. 0.]\n",
            " [0. 0. 0. 1. 0.]\n",
            " [0. 0. 0. 0. 1.]]\n"
          ]
        }
      ]
    },
    {
      "cell_type": "markdown",
      "source": [
        "## 1.5. Indexação e Fatias"
      ],
      "metadata": {
        "id": "JvSti3ccWxCz"
      }
    },
    {
      "cell_type": "code",
      "source": [
        "# 6️⃣ Acesse os três primeiros elementos:\n",
        "\n",
        "arr4 = np.array([0, 1, 2, 3, 4, 5, 6, 7, 8, 9])\n",
        "print(arr4[:3])"
      ],
      "metadata": {
        "colab": {
          "base_uri": "https://localhost:8080/"
        },
        "id": "QAKvYUiwWuN4",
        "outputId": "29d29d74-51a7-46f6-caf2-4550db143cb4"
      },
      "execution_count": 22,
      "outputs": [
        {
          "output_type": "stream",
          "name": "stdout",
          "text": [
            "[0 1 2]\n"
          ]
        }
      ]
    },
    {
      "cell_type": "code",
      "source": [],
      "metadata": {
        "id": "Xu1mvq28XTRE"
      },
      "execution_count": null,
      "outputs": []
    }
  ]
}