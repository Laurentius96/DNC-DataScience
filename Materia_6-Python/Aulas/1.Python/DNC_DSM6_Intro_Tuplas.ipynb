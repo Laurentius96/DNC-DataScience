{
  "nbformat": 4,
  "nbformat_minor": 0,
  "metadata": {
    "colab": {
      "provenance": []
    },
    "language_info": {
      "name": "python"
    },
    "kernelspec": {
      "name": "python3",
      "display_name": "Python 3"
    }
  },
  "cells": [
    {
      "metadata": {
        "id": "bXINOFLiwL0z"
      },
      "source": [
        "## 🎓 **Aula sobre: Tuplas em Python**\n",
        "\n",
        " <br>\n",
        "\n",
        "### 🧭 Sumário da Aula\n",
        "\n",
        "| # | Sub-tópico                      | Tempo Estimado | Complexidade |\n",
        "|---|---------------------------------|----------------|--------------|\n",
        "| 1 | Ficha de Revisão Rápida         | ~1 min         | ⭐           |\n",
        "| 2 | Mergulho Profundo               | ~15 min        | ⭐⭐⭐⭐       |\n",
        "| 3 | Profundezas e Conexões          | ~3 min         | ⭐⭐         |\n",
        "| 4 | Ação e Verificação              | ~5 min         | ⭐⭐         |\n",
        "| 5 | Mergulhos Adicionais            | Opcional       | ⭐⭐⭐⭐       |\n",
        "\n",
        " <br>\n",
        "\n",
        "---\n",
        " <br>\n"
      ],
      "cell_type": "markdown"
    },
    {
      "metadata": {
        "id": "Jb-BCXXUwL02"
      },
      "source": [
        "### 1. 🧠 Ficha de Revisão Rápida | (O Essencial)\n",
        "\n",
        " <br>\n",
        "\n",
        "> Uma *tupla* é uma sequência **imutável** de valores ordenados.  \n",
        "> Sintaxe: `(item1, item2, item3)` ou `item1, item2, item3`.  \n",
        "> Acessa-se por índice e fatia, mas não é possível alterar seus elementos após a criação.\n",
        "\n",
        " <br>\n"
      ],
      "cell_type": "markdown"
    },
    {
      "metadata": {
        "id": "OggNkEfmwL02"
      },
      "source": [
        "### 2. 🔬 Mergulho Profundo | (Os Detalhes)\n",
        "\n",
        " <br>\n",
        "\n",
        "#### **🎯 O Conceito Central**  \n",
        "Tuplas armazenam referências contíguas a objetos, mas não permitem modificações *in-place*, garantindo integridade de dados e permitindo uso em contexto de *hash* (chaves de dicionário, por exemplo). São mais leves que listas em termos de memória e ligeiramente mais rápidas em iteração.\n",
        "\n",
        " <br>\n",
        "\n",
        "#### **🔗 Analogia de Data Science**  \n",
        "Imagine um vetor de características fixo para cada registro. Ao usar tupla, você preserva a ordem e evita alterações acidentais, assim como usar colunas fixas de um *DataFrame* imutável.\n",
        "\n",
        " <br>\n"
      ],
      "cell_type": "markdown"
    },
    {
      "metadata": {
        "id": "DcHmJaTFwL03"
      },
      "source": [
        "### **💻 Exemplos de Mercado (Abrangentes)**\n",
        "\n",
        "#### **Nível Simples: Criação e Acesso**\n"
      ],
      "cell_type": "markdown"
    },
    {
      "metadata": {
        "id": "qUAOOD8kwL03"
      },
      "source": [
        "ponto = (10, 20)\n",
        "print(ponto[0])    # 10\n",
        "print(ponto[-1])   # 20\n"
      ],
      "cell_type": "code",
      "execution_count": null,
      "outputs": []
    },
    {
      "metadata": {
        "colab": {
          "base_uri": "https://localhost:8080/"
        },
        "id": "IUSvmQj3wL04",
        "outputId": "b3dc9594-481c-407f-e573-c58c4db03439"
      },
      "source": [
        "# Pratique seu código aqui!\n",
        "\n",
        "ponto = (10, 20)\n",
        "\n",
        "print(ponto[0])\n",
        "print(ponto[-1])"
      ],
      "cell_type": "code",
      "execution_count": 1,
      "outputs": [
        {
          "output_type": "stream",
          "name": "stdout",
          "text": [
            "10\n",
            "20\n"
          ]
        }
      ]
    },
    {
      "metadata": {
        "id": "4trnUlAtwL04"
      },
      "source": [
        "*   **O que o código faz:** Cria tupla de coordenadas e acessa elementos.  \n",
        "*   **Cenário de Mercado:** Representação de pares de valores como (latitude, longitude).  \n",
        "*   **Boas Práticas:** Use tuplas para dados que não devem mudar.\n"
      ],
      "cell_type": "markdown"
    },
    {
      "metadata": {
        "id": "IOpoALcwwL05"
      },
      "source": [
        "#### **Nível Intermediário: Desempacotamento (Unpacking)**\n"
      ],
      "cell_type": "markdown"
    },
    {
      "metadata": {
        "id": "1KVmdhxewL05"
      },
      "source": [
        "coord = (x, y, z) = (5, 15, 25)\n",
        "print(x, y, z)     # 5 15 25\n"
      ],
      "cell_type": "code",
      "execution_count": null,
      "outputs": []
    },
    {
      "metadata": {
        "colab": {
          "base_uri": "https://localhost:8080/"
        },
        "id": "oq8qFzdAwL05",
        "outputId": "241faba8-9b10-4b89-d3fc-e98aa371f420"
      },
      "source": [
        "# Pratique seu código aqui!\n",
        "\n",
        "coord = (x, y, z) = (5, 15, 25)\n",
        "print(x, y, z)\n"
      ],
      "cell_type": "code",
      "execution_count": 2,
      "outputs": [
        {
          "output_type": "stream",
          "name": "stdout",
          "text": [
            "5 15 25\n"
          ]
        }
      ]
    },
    {
      "metadata": {
        "id": "lMEsG9HbwL05"
      },
      "source": [
        "*   **O que o código faz:** Atribui simultaneamente cada elemento a variáveis.  \n",
        "*   **Cenário de Mercado:** Extração rápida de colunas de tuplas retornadas por funções.\n"
      ],
      "cell_type": "markdown"
    },
    {
      "metadata": {
        "id": "AeBBIQ1rwL05"
      },
      "source": [
        "#### **Nível Avançado: Tupla de um Único Elemento**\n"
      ],
      "cell_type": "markdown"
    },
    {
      "metadata": {
        "id": "nHHPDbDuwL06"
      },
      "source": [
        "single = (42,)       # vírgula obrigatória\n",
        "print(type(single))  # <class 'tuple'>\n"
      ],
      "cell_type": "code",
      "execution_count": null,
      "outputs": []
    },
    {
      "metadata": {
        "colab": {
          "base_uri": "https://localhost:8080/"
        },
        "id": "C30O9mpBwL06",
        "outputId": "22d99ba9-ead2-4e75-f075-92e345976f19"
      },
      "source": [
        "# Pratique seu código aqui!\n",
        "\n",
        "single = (42,)\n",
        "print(type(single))\n"
      ],
      "cell_type": "code",
      "execution_count": 3,
      "outputs": [
        {
          "output_type": "stream",
          "name": "stdout",
          "text": [
            "<class 'tuple'>\n"
          ]
        }
      ]
    },
    {
      "metadata": {
        "id": "vKEg7zyfwL06"
      },
      "source": [
        "*   **O que o código faz:** Demonstra sintaxe para tupla unitária.  \n",
        "*   **Cenário de Mercado:** Usado em retornos de funções que podem variar em tamanho.\n"
      ],
      "cell_type": "markdown"
    },
    {
      "metadata": {
        "id": "3ZMoFJQhwL06"
      },
      "source": [
        "#### **Nível DEUS (1/3): Namedtuple para Registros Imutáveis**\n"
      ],
      "cell_type": "markdown"
    },
    {
      "metadata": {
        "id": "2Ziahw_TwL06"
      },
      "source": [
        "from collections import namedtuple\n",
        "\n",
        "Usuario = namedtuple(\"Usuario\", [\"nome\",\"idade\"])\n",
        "u = Usuario(\"Lorenzo\", 28)\n",
        "print(u.nome, u.idade)\n"
      ],
      "cell_type": "code",
      "execution_count": null,
      "outputs": []
    },
    {
      "metadata": {
        "colab": {
          "base_uri": "https://localhost:8080/"
        },
        "id": "8v78njOZwL06",
        "outputId": "6cc0fcd6-b016-4f2e-b4b8-028f598fb90b"
      },
      "source": [
        "# Pratique seu código aqui!\n",
        "\n",
        "from collections import namedtuple\n",
        "\n",
        "Usuario = namedtuple(\"Usuario\", [\"nome\", \"idade\"])\n",
        "u = Usuario(\"Lorenzo\", 28)\n",
        "print(u.nome, u.idade)\n",
        "print(type(u))\n"
      ],
      "cell_type": "code",
      "execution_count": 8,
      "outputs": [
        {
          "output_type": "stream",
          "name": "stdout",
          "text": [
            "Lorenzo 28\n",
            "<class '__main__.Usuario'>\n"
          ]
        }
      ]
    },
    {
      "metadata": {
        "id": "eKDyBMycwL06"
      },
      "source": [
        "*   **O que o código faz:** Cria classe leve com campos nomeados e imutáveis.  \n",
        "*   **Cenário de Mercado:** Representação de registros de dados com acesso por atributo.\n"
      ],
      "cell_type": "markdown"
    },
    {
      "metadata": {
        "id": "Iebdb4qDwL06"
      },
      "source": [
        "#### **Nível DEUS (2/3): Tuplas como Chaves de Dicionário**\n"
      ],
      "cell_type": "markdown"
    },
    {
      "metadata": {
        "id": "6XTYGbcewL07"
      },
      "source": [
        "visitas = {}\n",
        "coord = (40.7128, -74.0060)\n",
        "visitas[coord] = \"Nova York\"\n",
        "print(visitas)\n"
      ],
      "cell_type": "code",
      "execution_count": null,
      "outputs": []
    },
    {
      "metadata": {
        "colab": {
          "base_uri": "https://localhost:8080/"
        },
        "id": "AIOQsFmQwL07",
        "outputId": "2da25674-0643-4b1b-8fae-fdb1bb4624ac"
      },
      "source": [
        "# Pratique seu código aqui!\n",
        "\n",
        "visitas = {}\n",
        "coord = (40.7128, -74.0060)\n",
        "visitas[coord] = \"Nova York\"\n",
        "print(visitas)\n"
      ],
      "cell_type": "code",
      "execution_count": 9,
      "outputs": [
        {
          "output_type": "stream",
          "name": "stdout",
          "text": [
            "{(40.7128, -74.006): 'Nova York'}\n"
          ]
        }
      ]
    },
    {
      "metadata": {
        "id": "Emo6z0GVwL07"
      },
      "source": [
        "*   **O que o código faz:** Usa tupla *hashable* como chave.  \n",
        "*   **Cenário de Mercado:** Mapear localizações geográficas a dados associados.\n"
      ],
      "cell_type": "markdown"
    },
    {
      "metadata": {
        "id": "zU413sGLwL07"
      },
      "source": [
        "#### **Nível DEUS (3/3): Combinação de Colunas com `zip()`**\n"
      ],
      "cell_type": "markdown"
    },
    {
      "metadata": {
        "id": "aQaXY0vUwL07"
      },
      "source": [
        "ids = [1,2,3]\n",
        "nomes = [\"Ana\",\"Bruno\",\"Carlos\"]\n",
        "registros = list(zip(ids, nomes))\n",
        "print(registros)  # [(1,'Ana'),(2,'Bruno'),(3,'Carlos')]\n"
      ],
      "cell_type": "code",
      "execution_count": null,
      "outputs": []
    },
    {
      "metadata": {
        "colab": {
          "base_uri": "https://localhost:8080/"
        },
        "id": "aS2KuYfDwL07",
        "outputId": "1b891b27-88f6-4426-b7f3-1418e61d3436"
      },
      "source": [
        "# Pratique seu código aqui!\n",
        "\n",
        "ids = [1, 2, 3]\n",
        "nomes = [\"Ana\", \"Bruno\", \"Carlos\"]\n",
        "registros = list(zip(ids, nomes))\n",
        "print(registros)\n",
        "print(type(registros))\n"
      ],
      "cell_type": "code",
      "execution_count": 11,
      "outputs": [
        {
          "output_type": "stream",
          "name": "stdout",
          "text": [
            "[(1, 'Ana'), (2, 'Bruno'), (3, 'Carlos')]\n",
            "<class 'list'>\n"
          ]
        }
      ]
    },
    {
      "metadata": {
        "id": "H2jEi39iwL07"
      },
      "source": [
        "*   **O que o código faz:** Empacota listas em tuplas de registros.  \n",
        "*   **Cenário de Mercado:** Preparar dados para criação de *DataFrame* ou exportação CSV.\n"
      ],
      "cell_type": "markdown"
    },
    {
      "metadata": {
        "id": "h5f3h5HDwL07"
      },
      "source": [
        "### 3. 🕸️ Profundezas e Conexões\n",
        "\n",
        " <br>\n",
        "Tuplas interagem com *listas* (conversão via `list()`), *dicionários* (chaves e valores), e são padrão em retorno múltiplo de funções. Em *pandas*, usar `itertuples()` gera acesso rápido a linhas como tuplas.\n",
        " <br>\n",
        "\n",
        "---\n",
        " <br>\n"
      ],
      "cell_type": "markdown"
    },
    {
      "metadata": {
        "id": "iooQzwp7wL07"
      },
      "source": [
        "### 4. 🚀 Ação e Verificação\n",
        "\n",
        " <br>\n",
        "\n",
        "#### **🤔 Desafio Prático**\n",
        "\n",
        "1. Crie uma tupla `p = (3,6,9,12)` e acesse o segundo e o penúltimo elemento.  \n",
        "2. Desempacote `(a,b,c) = (1,2,3)` e some `a+b+c`.  \n",
        "3. Use `namedtuple` para representar um ponto 3D e acesse o campo `z`.  \n",
        "4. Construa um dicionário cujas chaves sejam tuplas de pares de `(i, i**2)` para `i` de 1 a 5.  \n",
        "5. Use `zip()` para combinar duas listas em lista de tuplas e, em seguida, desempacote-as de volta em duas listas.\n",
        "\n",
        " <br>\n",
        "\n",
        "#### **❓ Pergunta de Verificação**\n",
        "\n",
        "Por que tuplas são preferidas em retornos múltiplos de função e quais vantagens isso traz em termos de integridade de dados?\n",
        "\n",
        " <br>\n",
        "\n",
        "---\n",
        " <br>\n"
      ],
      "cell_type": "markdown"
    },
    {
      "cell_type": "markdown",
      "source": [
        "### **Resposta Rápida**\n",
        "\n",
        "Tuplas são preferidas em retornos múltiplos de função porque são **imutáveis**, leves e sinalizam que o conteúdo **não deve ser alterado**. Isso garante **integridade dos dados** e melhora a segurança e previsibilidade do código.\n",
        "\n",
        "---\n",
        "\n",
        "### **Analogia do Dia**\n",
        "\n",
        "Imagine que uma função é como um entregador que te dá um pacote com várias coisas. Se ele entrega numa **caixa lacrada (tupla)**, você sabe que o conteúdo **não será mexido**. Se for numa **sacola aberta (lista)**, alguém pode mudar os itens no caminho — e você **não tem como garantir a integridade** da entrega.\n",
        "\n",
        "---\n",
        "\n",
        "### **Análise Técnica Detalhada**\n",
        "\n",
        "#### ✅ Retorno múltiplo com tupla:\n",
        "\n",
        "```python\n",
        "def dividir(dividendo, divisor):\n",
        "    quociente = dividendo // divisor\n",
        "    resto = dividendo % divisor\n",
        "    return quociente, resto  # retorna uma tupla\n",
        "\n",
        "q, r = dividir(10, 3)\n",
        "print(q, r)  # 3 1\n",
        "```\n",
        "\n",
        "* O retorno `return a, b` é interpretado como:\n",
        "  `return (a, b)` → uma **tupla implícita**\n",
        "\n",
        "#### Por que tuplas são ideais aqui?\n",
        "\n",
        "* ✅ **Imutáveis**: impede que dados retornados sejam alterados por acidente.\n",
        "* ✅ **Leves**: ocupam menos memória e são mais rápidas que listas.\n",
        "* ✅ **Clareza semântica**: indica que são **dados fixos**, como coordenadas, resultados, estados.\n",
        "* ✅ **Desempacotamento seguro**: facilita atribuições como `x, y = func()`\n",
        "\n",
        "---\n",
        "\n",
        "### **Nota de Rodapé para Novatos**\n",
        "\n",
        "* **Tupla:** Coleção imutável e ordenada. Ex: `(1, 2, 3)`\n",
        "* **Imutabilidade:** Propriedade que **protege os dados** contra alterações acidentais.\n",
        "* **Desempacotamento:** Técnica para extrair valores diretamente de uma tupla ou lista em variáveis separadas.\n",
        "* **Retorno múltiplo:** Quando uma função devolve mais de um valor.\n",
        "\n",
        "---\n",
        "\n",
        "### **Aplicação Prática e Boas Práticas**\n",
        "\n",
        "* ✅ Ideal para retornar **coordenadas, estados, resultados múltiplos, etc.**\n",
        "\n",
        "```python\n",
        "def analise_dados(df):\n",
        "    media = df.mean()\n",
        "    desvio = df.std()\n",
        "    return media, desvio\n",
        "```\n",
        "\n",
        "* ❌ Evite retornar lista se os dados **não forem para ser alterados**:\n",
        "\n",
        "```python\n",
        "# MENOS recomendado\n",
        "return [media, desvio]  # alguém pode fazer: retorno[0] = 0\n",
        "```\n",
        "\n",
        "* 📊 Em Ciência de Dados, tuplas são úteis para:\n",
        "\n",
        "  * Representar **pares fixos**: `(coluna, estatística)`\n",
        "  * **Iterações seguras** em conjuntos de pares chave-valor\n",
        "  * Retornos de funções utilitárias ou de validação\n",
        "\n",
        "---\n",
        "\n",
        "### **Resumo da Lição**\n",
        "\n",
        "Tuplas são ideais para **retornos múltiplos de função** porque protegem os dados contra mudanças acidentais e tornam o código mais **seguro, semântico e eficiente**.\n",
        "\n",
        "---\n"
      ],
      "metadata": {
        "id": "_SVWs8wnztjt"
      }
    },
    {
      "cell_type": "code",
      "source": [],
      "metadata": {
        "id": "FQyFIWOHz2Vj"
      },
      "execution_count": null,
      "outputs": []
    }
  ]
}