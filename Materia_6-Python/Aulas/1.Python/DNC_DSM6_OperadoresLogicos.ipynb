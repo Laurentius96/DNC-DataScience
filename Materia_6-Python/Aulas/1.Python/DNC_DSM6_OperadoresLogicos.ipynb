{
  "nbformat": 4,
  "nbformat_minor": 0,
  "metadata": {
    "colab": {
      "provenance": []
    },
    "kernelspec": {
      "name": "python3",
      "display_name": "Python 3"
    },
    "language_info": {
      "name": "python"
    }
  },
  "cells": [
    {
      "cell_type": "markdown",
      "source": [
        "## 🎓 **Aula sobre: Operadores Lógicos em Python**\n",
        "\n",
        "<br>\n",
        "\n",
        "### 🧭 Sumário da Aula\n",
        "\n",
        "| # | Sub-tópico                     | Tempo Estimado | Complexidade |\n",
        "|---|--------------------------------|----------------|--------------|\n",
        "| 1 | Ficha de Revisão Rápida        | ~1 min         | ⭐           |\n",
        "| 2 | Mergulho Profundo              | ~15 min        | ⭐⭐⭐⭐      |\n",
        "| 3 | Profundezas e Conexões         | ~3 min         | ⭐⭐        |\n",
        "| 4 | Ação e Verificação             | ~5 min         | ⭐⭐        |\n",
        "| 5 | Mergulhos Adicionais           | Opcional       | ⭐⭐⭐⭐      |\n",
        "\n",
        "<br>\n",
        "\n",
        "---\n",
        "<br>\n",
        "\n",
        "\n",
        "### 1. 🧠 Ficha de Revisão Rápida | (O Essencial)\n",
        "\n",
        "<br>\n",
        "\n",
        "> Os *operadores lógicos* combinam ou invertem valores booleanos para produzir um resultado booleano.  \n",
        "> Principais: `and` (E), `or` (OU), `not` (NÃO).\n",
        "\n",
        "<br>\n",
        "\n",
        "### 2. 🔬 Mergulho Profundo | (Os Detalhes)\n",
        "\n",
        "<br>\n",
        "\n",
        "#### **🎯 O Conceito Central**  \n",
        "- `x and y`: retorna `y` se `x` for *verdadeiro*, senão retorna `x`.  \n",
        "- `x or y`: retorna `x` se `x` for *verdadeiro*, senão retorna `y`.  \n",
        "- `not x`: retorna `True` se `x` for *falso*, senão retorna `False`.  \n",
        "\n",
        "Esses operadores seguem *curto-circuito*, ou seja, podem evitar avaliar o segundo operando se o primeiro já determinar o resultado.\n",
        "\n",
        "<br>\n",
        "\n",
        "#### **🔗 Analogia de Data Science**  \n",
        "Imagine um filtro que só deixa passar dados que atendem a múltiplas condições:  \n",
        "- `and` é como um coador de malha fina, exige que todos os critérios sejam verdadeiros.  \n",
        "- `or` é como um coador de malha grossa, basta um critério verdadeiro.  \n",
        "- `not` é um inversor, pega tudo que sobra quando algo falha no filtro.\n",
        "\n",
        "<br>\n",
        "\n",
        "### **💻 Exemplos de Mercado (Abrangentes)**\n"
      ],
      "metadata": {
        "id": "M9yhpv5Swohf"
      }
    },
    {
      "cell_type": "markdown",
      "source": [
        "#### **Nível Simples: Uso Básico de and, or e not**\n",
        "\n"
      ],
      "metadata": {
        "id": "uZDhHe2DxFNJ"
      }
    },
    {
      "cell_type": "code",
      "execution_count": 1,
      "metadata": {
        "colab": {
          "base_uri": "https://localhost:8080/"
        },
        "id": "o5VEIv96vd74",
        "outputId": "1b20048f-131e-44ec-ad2d-bfd368610bb9"
      },
      "outputs": [
        {
          "output_type": "stream",
          "name": "stdout",
          "text": [
            "False\n",
            "True\n",
            "False\n",
            "True\n"
          ]
        }
      ],
      "source": [
        "a = True\n",
        "b = False\n",
        "\n",
        "print(a and b)   # False\n",
        "print(a or b)    # True\n",
        "print(not a)     # False\n",
        "print(not b)     # True\n"
      ]
    },
    {
      "cell_type": "markdown",
      "source": [
        "*   **O que o código faz:** Demonstra como cada operador lógico retorna um booleano.  \n",
        "*   **Cenário de Mercado:** Usado para combinar flags de validação (ex: usuário ativo *e* autenticado).  \n",
        "*   **Boas Práticas:** Escreva condições claras; evite expressões muito longas.\n"
      ],
      "metadata": {
        "id": "ubf1b42DxJtZ"
      }
    },
    {
      "cell_type": "markdown",
      "source": [
        "#### **Nível Intermediário: Combinação com Relacionais**\n"
      ],
      "metadata": {
        "id": "2ZLSZ6iFxYeS"
      }
    },
    {
      "cell_type": "code",
      "source": [
        "idade = 25\n",
        "salario = 3500\n",
        "\n",
        "apto_credito = (idade >= 18) and (salario > 3000)\n",
        "print(apto_credito)  # True\n"
      ],
      "metadata": {
        "colab": {
          "base_uri": "https://localhost:8080/"
        },
        "id": "lFf14b8VxIJ8",
        "outputId": "70df5567-d2fe-4cad-91ef-23b5027b73c5"
      },
      "execution_count": 2,
      "outputs": [
        {
          "output_type": "stream",
          "name": "stdout",
          "text": [
            "True\n"
          ]
        }
      ]
    },
    {
      "cell_type": "markdown",
      "source": [
        "*   **O que o código faz:** Usa *operadores relacionais* dentro de lógicas para decisão de crédito.  \n",
        "*   **Cenário de Mercado:** Essencial em regras de negócio para filtragem de clientes.  \n",
        "*   **Boas Práticas:** Agrupe cada comparação entre parênteses para legibilidade.\n"
      ],
      "metadata": {
        "id": "_2BZEMSvxhcD"
      }
    },
    {
      "cell_type": "markdown",
      "source": [
        "#### **Nível Avançado: Curto-Circuito e Efeitos Colaterais**\n"
      ],
      "metadata": {
        "id": "YiUHGQ9cxj5j"
      }
    },
    {
      "cell_type": "code",
      "source": [
        "def carrega_dados():\n",
        "    print(\"Carregando dados...\")\n",
        "    return {\"dados\": [1,2,3]}\n",
        "\n",
        "cache = None\n",
        "# Se cache for truthy, usa cache; senão carrega dados\n",
        "resultado = cache or carrega_dados()\n",
        "print(resultado)\n"
      ],
      "metadata": {
        "colab": {
          "base_uri": "https://localhost:8080/"
        },
        "id": "3qxcuHp5xdYn",
        "outputId": "4e617d61-36cf-4f20-b749-9639b4118d1f"
      },
      "execution_count": 3,
      "outputs": [
        {
          "output_type": "stream",
          "name": "stdout",
          "text": [
            "Carregando dados...\n",
            "{'dados': [1, 2, 3]}\n"
          ]
        }
      ]
    },
    {
      "cell_type": "markdown",
      "source": [
        "*   **O que o código faz:** Demonstra *curto-circuito* em `or`, evitando chamada custosa se `cache` existir.  \n",
        "*   **Cenário de Mercado:** Otimização de performance em pipelines de dados.  \n",
        "*   **Boas Práticas:** Aproveite curto-circuito para evitar operações desnecessárias.\n"
      ],
      "metadata": {
        "id": "I635Bk8gxiiB"
      }
    },
    {
      "cell_type": "markdown",
      "source": [
        "#### **Nível DEUS (1/3): Uso em Expressões Condicionais Inline**\n"
      ],
      "metadata": {
        "id": "vUQfQ7JmyD1W"
      }
    },
    {
      "cell_type": "code",
      "source": [
        "# Seleção de valor padrão\n",
        "config = {}\n",
        "timeout = config.get(\"timeout\") or 30\n",
        "print(timeout)  # 30\n"
      ],
      "metadata": {
        "colab": {
          "base_uri": "https://localhost:8080/"
        },
        "id": "e3WSt1DRyOB2",
        "outputId": "5eed0312-04b6-4a00-9fe5-0088265f05ad"
      },
      "execution_count": 7,
      "outputs": [
        {
          "output_type": "stream",
          "name": "stdout",
          "text": [
            "30\n"
          ]
        }
      ]
    },
    {
      "cell_type": "markdown",
      "source": [
        "*   **O que o código faz:** Usa `or` para atribuir valor padrão se configuração faltar.  \n",
        "*   **Cenário de Mercado:** Comum em definição de parâmetros de funções e objetos."
      ],
      "metadata": {
        "id": "VwFmiu1jyOOo"
      }
    },
    {
      "cell_type": "markdown",
      "source": [
        "#### **Nível DEUS (2/3): Combinação com Operadores Bitwise para Booleanos**\n"
      ],
      "metadata": {
        "id": "SxClbvIPyEE0"
      }
    },
    {
      "cell_type": "code",
      "source": [
        "# & e | aplicados a booleanos (não recomendado, mas possível)\n",
        "x = True\n",
        "y = False\n",
        "\n",
        "print(x & y)  # False\n",
        "print(x | y)  # True"
      ],
      "metadata": {
        "colab": {
          "base_uri": "https://localhost:8080/"
        },
        "id": "6CNf9g9uyOcV",
        "outputId": "3ed548f7-0310-4898-f4a2-d9e80d3f5e6b"
      },
      "execution_count": 4,
      "outputs": [
        {
          "output_type": "stream",
          "name": "stdout",
          "text": [
            "False\n",
            "True\n"
          ]
        }
      ]
    },
    {
      "cell_type": "markdown",
      "source": [
        "*   **O que o código faz:** Demonstra que `&`/`|` funcionam como `and`/`or`, porém avaliam sempre ambos operandos.  \n",
        "*   **Cenário de Mercado:** Em geral prefira `and`/`or`, mas entenda bitwise ao trabalhar com máscaras binárias.\n"
      ],
      "metadata": {
        "id": "ZvWEGR-aytZG"
      }
    },
    {
      "cell_type": "markdown",
      "source": [
        "\n",
        "#### **Nível DEUS (3/3): Métodos Mágicos e Verdadeiro/Falso em Objetos**\n"
      ],
      "metadata": {
        "id": "vlly5L5CyESZ"
      }
    },
    {
      "cell_type": "code",
      "source": [
        "class Usuario:\n",
        "    def __init__(self, ativo): self.ativo = ativo\n",
        "    def __bool__(self): return self.ativo\n",
        "\n",
        "u1 = Usuario(True)\n",
        "u2 = Usuario(False)\n",
        "\n",
        "print(u1 and \"Bem-vindo\")  # \"Bem-vindo\"\n",
        "print(u2 or \"Cadastro Inválido\")  # \"Cadastro Inválido\"\n"
      ],
      "metadata": {
        "colab": {
          "base_uri": "https://localhost:8080/"
        },
        "id": "xPNrDrYhx_kW",
        "outputId": "783ef6dc-2691-4c57-a515-18ef0edf7958"
      },
      "execution_count": 8,
      "outputs": [
        {
          "output_type": "stream",
          "name": "stdout",
          "text": [
            "Bem-vindo\n",
            "Cadastro Inválido\n"
          ]
        }
      ]
    },
    {
      "cell_type": "markdown",
      "source": [
        "*   **O que o código faz:** Define `__bool__` para controlar truthiness de instâncias.  \n",
        "*   **Cenário de Mercado:** Permite usar objetos diretamente em condições, tornando código mais expressivo.\n"
      ],
      "metadata": {
        "id": "Cr5NkFOTzSAP"
      }
    },
    {
      "cell_type": "markdown",
      "source": [
        "\n",
        "### 3. 🕸️ Profundezas e Conexões\n",
        "\n",
        "<br>\n",
        "\n",
        "Operadores lógicos são usados em **if/elif/else**, **loops** e **compreensões** para controle de fluxo e filtragem de dados. Em bibliotecas como *Pandas*, máscaras booleanas (`df[condição]`) combinam `&` e `|` entre séries para seleção vetorizada.\n",
        "\n",
        "<br>\n",
        "\n",
        "---\n",
        "\n",
        "<br>\n",
        "\n",
        "### 4. 🚀 Ação e Verificação\n",
        "\n",
        "<br>\n",
        "\n",
        "#### **🤔 Desafio Prático**\n",
        "1. Defina `x = 0`, `y = 5`. Use `or` para atribuir a `z` o primeiro valor truthy entre `x`, `y` e `10`.  \n",
        "2. Crie `senha_input = \"\"` e `senha_real = \"segredo\"`. Use `and`/`or` para exibir `\"Acesso\"` ou `\"Negado\"`.  \n",
        "3. Crie `config = {\"modo\": None}` e use expressão inline para definir `modo = config[\"modo\"] or \"padrão\"`.  \n",
        "4. Explique por que `and` e `&` podem retornar resultados diferentes.  \n",
        "5. Teste cada expressão e exiba os valores.\n",
        "\n",
        "<br>\n",
        "\n",
        "#### **❓ Pergunta de Verificação**\n",
        "Como o *curto-circuito* difere entre `and` e `&`, e por que isso pode impactar chamadas de função em expressões lógicas?\n",
        "<br>\n",
        "\n",
        "\n",
        "---\n",
        "\n",
        "<br>\n"
      ],
      "metadata": {
        "id": "9IWuc3N2z_wn"
      }
    },
    {
      "cell_type": "markdown",
      "source": [
        "### **Resposta Rápida**\n",
        "\n",
        "O operador `and` em Python usa **curto-circuito**, ou seja, **interrompe a avaliação** assim que o resultado é decidido; já `&` **sempre avalia ambos os lados**. Isso afeta expressões com funções: `and` pode evitar chamadas desnecessárias, enquanto `&` sempre executa tudo.\n",
        "\n",
        "---\n",
        "\n",
        "### **Analogia do Dia**\n",
        "\n",
        "Imagine que você está decidindo se vai sair de casa:\n",
        "– Primeiro você verifica **“Está chovendo?”**\n",
        "– Se *sim*, você **nem precisa olhar a previsão do tempo** – já decidiu ficar.\n",
        "Esse é o *curto-circuito com `and`*.\n",
        "Com `&`, é como se **você sempre olhasse a previsão do tempo**, mesmo que já soubesse que está chovendo.\n",
        "\n",
        "---\n",
        "\n",
        "### **Análise Técnica Detalhada**\n",
        "\n",
        "#### Operador `and` — Lógico e com curto-circuito\n",
        "\n",
        "```python\n",
        "def a(): print(\"a\"); return False\n",
        "def b(): print(\"b\"); return True\n",
        "\n",
        "a() and b()\n",
        "```\n",
        "\n",
        "**Saída:**\n",
        "\n",
        "```\n",
        "a\n",
        "```\n",
        "\n",
        "Explicação:\n",
        "\n",
        "* `a()` retorna `False`\n",
        "* Como `and` precisa que **ambos os lados sejam `True`**, ele **não executa `b()`**\n",
        "* Esse é o **curto-circuito lógico**: evita trabalho desnecessário.\n",
        "\n",
        "#### Operador `&` — Bit a bit e sempre avalia tudo\n",
        "\n",
        "```python\n",
        "a() & b()\n",
        "```\n",
        "\n",
        "**Saída:**\n",
        "\n",
        "```\n",
        "a\n",
        "b\n",
        "```\n",
        "\n",
        "Explicação:\n",
        "\n",
        "* Mesmo que `a()` retorne `False`, `&` **ainda chama `b()`**\n",
        "* Isso ocorre porque `&` é **um operador bit a bit**, e foi adaptado para objetos booleanos e arrays em bibliotecas como NumPy.\n",
        "\n",
        "#### Quando isso importa?\n",
        "\n",
        "Em chamadas de função, pode haver efeitos colaterais (como ler arquivos, fazer prints, acessar banco de dados, etc.).\n",
        "Usar `and` evita execuções desnecessárias.\n",
        "\n",
        "---\n",
        "\n",
        "### **Nota de Rodapé para Novatos**\n",
        "\n",
        "* **Curto-circuito:** Técnica onde Python interrompe a avaliação de uma expressão assim que o resultado já pode ser decidido.\n",
        "* **Operador `and`:** Operador lógico que retorna o primeiro valor falso (ou o último, se todos forem verdadeiros).\n",
        "* **Operador `&`:** Operador **bitwise** (bit a bit) usado em números e arrays booleanos. Também pode funcionar com `True`/`False`, mas **sem curto-circuito**.\n",
        "* **Efeito colateral:** Qualquer ação que afete o sistema além do retorno da função (ex: printar, alterar arquivo, etc.).\n",
        "\n",
        "---\n",
        "\n",
        "### **Aplicação Prática e Boas Práticas**\n",
        "\n",
        "* Em **condições com funções**, prefira `and` para evitar chamadas desnecessárias:\n",
        "\n",
        "  ```python\n",
        "  if arquivo_existe() and ler_arquivo():\n",
        "      ...\n",
        "  ```\n",
        "\n",
        "  Assim, `ler_arquivo()` só será chamado se `arquivo_existe()` for `True`.\n",
        "\n",
        "* Em **Data Science**, o operador `&` é comum com arrays e filtros:\n",
        "\n",
        "  ```python\n",
        "  df[(df['idade'] > 18) & (df['salario'] < 5000)]\n",
        "  ```\n",
        "\n",
        "  Aqui, `&` funciona porque está sendo usado entre **arrays booleanos**, e não expressões lógicas simples.\n",
        "\n",
        "---\n",
        "\n",
        "### **Resumo da Lição**\n",
        "\n",
        "Use `and` quando quiser evitar chamadas desnecessárias e `&` quando estiver lidando com arrays ou precisar avaliar tudo — entender essa diferença evita bugs e otimiza desempenho.\n",
        "\n",
        "---\n"
      ],
      "metadata": {
        "id": "TY2ak3041Lta"
      }
    }
  ]
}