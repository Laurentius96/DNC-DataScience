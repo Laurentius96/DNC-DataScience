{
  "nbformat": 4,
  "nbformat_minor": 0,
  "metadata": {
    "colab": {
      "provenance": []
    },
    "language_info": {
      "name": "python"
    },
    "kernelspec": {
      "name": "python3",
      "display_name": "Python 3"
    }
  },
  "cells": [
    {
      "metadata": {
        "id": "XfTtpUYeNxEu"
      },
      "source": [
        "## 🎓 **Aula sobre: Modificando Listas em Python**\n",
        "\n",
        " <br>\n",
        "\n",
        "### 🧭 Sumário da Aula\n",
        "\n",
        "| # | Sub-tópico                      | Tempo Estimado | Complexidade |\n",
        "|---|---------------------------------|----------------|--------------|\n",
        "| 1 | Ficha de Revisão Rápida         | ~1 min         | ⭐           |\n",
        "| 2 | Mergulho Profundo               | ~15 min        | ⭐⭐⭐⭐       |\n",
        "| 3 | Profundezas e Conexões          | ~3 min         | ⭐⭐         |\n",
        "| 4 | Ação e Verificação              | ~5 min         | ⭐⭐         |\n",
        "| 5 | Mergulhos Adicionais            | Opcional       | ⭐⭐⭐⭐       |\n",
        "\n",
        " <br>\n",
        "\n",
        "---\n",
        " <br>\n"
      ],
      "cell_type": "markdown"
    },
    {
      "metadata": {
        "id": "aD6PWAChNxEv"
      },
      "source": [
        "### 1. 🧠 Ficha de Revisão Rápida | (O Essencial)\n",
        "\n",
        " <br>\n",
        "\n",
        "> Listas são *sequências mutáveis* de objetos.  \n",
        "> Principais métodos de modificação:  \n",
        "> - `.append(obj)` adiciona ao final  \n",
        "> - `.extend(iterável)` estende com elementos de outro iterável  \n",
        "> - `.insert(idx, obj)` insere em posição  \n",
        "> - `.remove(obj)` remove primeira ocorrência  \n",
        "> - `.pop([idx])` remove e retorna elemento  \n",
        "> - `.clear()` esvazia lista  \n",
        "> - `.sort()` e `.reverse()` ordenam e invertem *in-place*  \n",
        "> E também *atribuição por slice* para substituir fatias.\n"
      ],
      "cell_type": "markdown"
    },
    {
      "metadata": {
        "id": "6dM7jFMLNxEw"
      },
      "source": [
        "### 2. 🔬 Mergulho Profundo | (Os Detalhes)\n",
        "\n",
        " <br>\n",
        "\n",
        "#### **🎯 O Conceito Central**  \n",
        "Listas armazenam referências a objetos contíguos em memória. Modificar uma lista *in-place* altera seus ponteiros sem criar nova estrutura, o que pode afetar outras variáveis referenciando a mesma lista.\n",
        "\n",
        " <br>\n",
        "\n",
        "#### **🔗 Analogia de Data Science**  \n",
        "Imagine um dataset carregado em memória como uma lista de registros. Quando você faz `lista.sort()`, você reordena dados sem recriar todo o dataset, economizando tempo e memória em análises de grandes volumes.\n"
      ],
      "cell_type": "markdown"
    },
    {
      "metadata": {
        "id": "km3GA2PrNxEw"
      },
      "source": [
        "### **💻 Exemplos de Mercado (Abrangentes)**\n",
        "\n",
        "#### **Nível Simples: `.append()` e `.remove()`**\n"
      ],
      "cell_type": "markdown"
    },
    {
      "metadata": {
        "id": "lputpL1vNxEw"
      },
      "source": [
        "itens = [\"maçã\", \"banana\"]\n",
        "itens.append(\"laranja\")   # ['maçã','banana','laranja']\n",
        "itens.remove(\"banana\")    # ['maçã','laranja']\n",
        "print(itens)\n"
      ],
      "cell_type": "code",
      "execution_count": null,
      "outputs": []
    },
    {
      "metadata": {
        "colab": {
          "base_uri": "https://localhost:8080/"
        },
        "id": "8p3ZJM95NxEx",
        "outputId": "7d52b05b-a7f2-48c7-9719-f38742fbd489"
      },
      "source": [
        "# Pratique seu código aqui!\n",
        "\n",
        "itens = [\"maçã\", \"banana\"]\n",
        "itens.append(\"laranaja\")\n",
        "itens.remove(\"banana\")\n",
        "\n",
        "print(itens)\n",
        "\n"
      ],
      "cell_type": "code",
      "execution_count": 1,
      "outputs": [
        {
          "output_type": "stream",
          "name": "stdout",
          "text": [
            "['maçã', 'laranaja']\n"
          ]
        }
      ]
    },
    {
      "metadata": {
        "id": "90lDclobNxEx"
      },
      "source": [
        "*   **O que o código faz:** Adiciona e remove elementos dinamicamente.  \n",
        "*   **Cenário de Mercado:** Construção de listas de categorias ou tags conforme entrada do usuário.  \n",
        "*   **Boas Práticas:** Verifique existência antes de `remove()` para evitar `ValueError`.\n"
      ],
      "cell_type": "markdown"
    },
    {
      "metadata": {
        "id": "sIt1QP_zNxEx"
      },
      "source": [
        "#### **Nível Intermediário: `extend()` e `insert()`**\n"
      ],
      "cell_type": "markdown"
    },
    {
      "metadata": {
        "id": "nyv_NalXNxEy"
      },
      "source": [
        "dias = [\"seg\", \"ter\"]\n",
        "dias.extend([\"qua\",\"qui\"])     # ['seg','ter','qua','qui']\n",
        "dias.insert(2, \"cab\")          # ['seg','ter','cab','qua','qui']\n",
        "print(dias)\n"
      ],
      "cell_type": "code",
      "execution_count": null,
      "outputs": []
    },
    {
      "metadata": {
        "colab": {
          "base_uri": "https://localhost:8080/"
        },
        "id": "KnToxhCDNxEy",
        "outputId": "7dff7b81-1e90-4156-c5c4-2c1a912530c8"
      },
      "source": [
        "# Pratique seu código aqui!\n",
        "\n",
        "dias = [\"seg\",\"ter\"]\n",
        "dias.extend([\"qua\", \"qui\"])\n",
        "dias.insert(2, \"cab\")\n",
        "\n",
        "print(dias)\n"
      ],
      "cell_type": "code",
      "execution_count": 2,
      "outputs": [
        {
          "output_type": "stream",
          "name": "stdout",
          "text": [
            "['seg', 'ter', 'cab', 'qua', 'qui']\n"
          ]
        }
      ]
    },
    {
      "metadata": {
        "id": "pnI6M8KRNxEy"
      },
      "source": [
        "*   **O que o código faz:** Junta listas e insere em índice específico.  \n",
        "*   **Cenário de Mercado:** Agregar diferentes fontes de dados e posicionar colunas extras.  \n",
        "*   **Boas Práticas:** Prefira `extend()` a múltiplos `append()`.\n"
      ],
      "cell_type": "markdown"
    },
    {
      "metadata": {
        "id": "MPkuXHOmNxEy"
      },
      "source": [
        "#### **Nível Avançado: `pop()` e `clear()`**\n"
      ],
      "cell_type": "markdown"
    },
    {
      "metadata": {
        "id": "gdOtLo20NxEy"
      },
      "source": [
        "fila = [1,2,3,4]\n",
        "primeiro = fila.pop(0)    # remove e retorna 1\n",
        "fila.clear()              # []\n",
        "print(primeiro, fila)\n"
      ],
      "cell_type": "code",
      "execution_count": null,
      "outputs": []
    },
    {
      "metadata": {
        "colab": {
          "base_uri": "https://localhost:8080/"
        },
        "id": "hJqDu_llNxEz",
        "outputId": "3d045949-90d8-439c-bf64-ad821342c3cf"
      },
      "source": [
        "# Pratique seu código aqui!\n",
        "\n",
        "fila = [1,2,3,4]\n",
        "primeiro =fila.pop(0)\n",
        "fila.clear()\n",
        "print(primeiro, fila)\n"
      ],
      "cell_type": "code",
      "execution_count": 4,
      "outputs": [
        {
          "output_type": "stream",
          "name": "stdout",
          "text": [
            "1 []\n"
          ]
        }
      ]
    },
    {
      "metadata": {
        "id": "6i_pZH95NxEz"
      },
      "source": [
        "*   **O que o código faz:** Retira elemento por índice e esvazia lista.  \n",
        "*   **Cenário de Mercado:** Processamento de filas ou logs, removendo itens consumidos.  \n",
        "*   **Boas Práticas:** Use `pop()` em estruturas tipo fila (FIFO) e `clear()` para reinicializar sem perder referência.\n"
      ],
      "cell_type": "markdown"
    },
    {
      "metadata": {
        "id": "f92eS5lINxEz"
      },
      "source": [
        "#### **Nível DEUS (1/3): Atribuição por Slice**\n"
      ],
      "cell_type": "markdown"
    },
    {
      "metadata": {
        "id": "hNP80P8INxEz"
      },
      "source": [
        "nums = [0,1,2,3,4,5]\n",
        "nums[2:5] = [20,30]       # altera fatia de índices 2 a 4\n",
        "print(nums)               # [0,1,20,30,5]\n"
      ],
      "cell_type": "code",
      "execution_count": null,
      "outputs": []
    },
    {
      "metadata": {
        "colab": {
          "base_uri": "https://localhost:8080/"
        },
        "id": "vN8eCgyqNxEz",
        "outputId": "c6874f0c-3123-4413-812a-474d2c97942c"
      },
      "source": [
        "# Pratique seu código aqui!\n",
        "\n",
        "nums = [0,1,2,3,4,5]\n",
        "print(nums)\n",
        "nums[2:5] = [20,30]\n",
        "\n",
        "print(nums)"
      ],
      "cell_type": "code",
      "execution_count": 7,
      "outputs": [
        {
          "output_type": "stream",
          "name": "stdout",
          "text": [
            "[0, 1, 2, 3, 4, 5]\n",
            "[0, 1, 20, 30, 5]\n"
          ]
        }
      ]
    },
    {
      "metadata": {
        "id": "mpgAuNQuNxEz"
      },
      "source": [
        "*   **O que o código faz:** Substitui parte da lista mantendo estrutura.  \n",
        "*   **Cenário de Mercado:** Atualizar colunas de dados em lote sem recriar a lista completa.  \n",
        "*   **Boas Práticas:** Use slice para grandes modificações ao invés de loops.\n"
      ],
      "cell_type": "markdown"
    },
    {
      "metadata": {
        "id": "j9olY0WPNxEz"
      },
      "source": [
        "#### **Nível DEUS (2/3): `sort()` com `key` e `reverse`**\n"
      ],
      "cell_type": "markdown"
    },
    {
      "metadata": {
        "id": "_bjs552rNxE0"
      },
      "source": [
        "produtos = [{\"nome\":\"A\",\"preco\":30},{\"nome\":\"B\",\"preco\":50}]\n",
        "produtos.sort(key=lambda x: x[\"preco\"], reverse=True)\n",
        "print(produtos)           # B (30), A (50) invertido\n"
      ],
      "cell_type": "code",
      "execution_count": null,
      "outputs": []
    },
    {
      "metadata": {
        "colab": {
          "base_uri": "https://localhost:8080/"
        },
        "id": "QQCmzzstNxE0",
        "outputId": "3ee7d0e9-9a55-46d6-99bf-aecc576c27fc"
      },
      "source": [
        "# Pratique seu código aqui!\n",
        "\n",
        "produtos = [{\"nome\":\"A\", \"preco\":30},{\"nome\":\"B\",\"preco\":50}]\n",
        "produtos.sort(key=lambda x: x[\"preco\"], reverse=True)\n",
        "print(produtos)\n"
      ],
      "cell_type": "code",
      "execution_count": 9,
      "outputs": [
        {
          "output_type": "stream",
          "name": "stdout",
          "text": [
            "[{'nome': 'B', 'preco': 50}, {'nome': 'A', 'preco': 30}]\n"
          ]
        }
      ]
    },
    {
      "metadata": {
        "id": "pgreHGQcNxE0"
      },
      "source": [
        "*   **O que o código faz:** Ordena dicionários por campo específico, invertendo ordem.  \n",
        "*   **Cenário de Mercado:** Rankings de produtos ou clientes por métricas customizadas.  \n",
        "*   **Boas Práticas:** Prefira `sort()` in-place quando não precisar da lista original.\n"
      ],
      "cell_type": "markdown"
    },
    {
      "metadata": {
        "id": "0u2EIyE4NxE0"
      },
      "source": [
        "#### **Nível DEUS (3/3): Atualização In-Place via `enumerate()`**\n"
      ],
      "cell_type": "markdown"
    },
    {
      "metadata": {
        "id": "Mz2pUAhWNxE0"
      },
      "source": [
        "valores = [10,20,30]\n",
        "for i, v in enumerate(valores):\n",
        "    valores[i] = v * 2\n",
        "print(valores)            # [20,40,60]\n"
      ],
      "cell_type": "code",
      "execution_count": null,
      "outputs": []
    },
    {
      "metadata": {
        "colab": {
          "base_uri": "https://localhost:8080/"
        },
        "id": "QQqvbeySNxE0",
        "outputId": "b46b91d4-03a7-4516-a381-72a993c6b1d3"
      },
      "source": [
        "# Pratique seu código aqui!\n",
        "\n",
        "valores = [10,20,30]\n",
        "for i, v in enumerate(valores):\n",
        "  valores[i] = v * 2\n",
        "print(valores)\n",
        "\n"
      ],
      "cell_type": "code",
      "execution_count": 11,
      "outputs": [
        {
          "output_type": "stream",
          "name": "stdout",
          "text": [
            "10\n",
            "20\n",
            "30\n",
            "[20, 40, 60]\n"
          ]
        }
      ]
    },
    {
      "metadata": {
        "id": "ESb37d-1NxE0"
      },
      "source": [
        "*   **O que o código faz:** Multiplica cada elemento sem criar nova lista.  \n",
        "*   **Cenário de Mercado:** Ajuste de valores de features diretamente na lista original.  \n",
        "*   **Boas Práticas:** Use quando grande volume de dados faz criação de nova lista custosa.\n"
      ],
      "cell_type": "markdown"
    },
    {
      "metadata": {
        "id": "J2q2nkRcNxE0"
      },
      "source": [
        "### 3. 🕸️ Profundezas e Conexões\n",
        "\n",
        " <br>\n",
        "Modificar listas in-place integra-se a pipelines de *ETL* e *data cleaning*, onde se usam métodos de Pandas como `.assign()` ou `.loc[]` para operações vetorizadas, evitando laços explícitos. Entender mutabilidade é crucial para evitar efeitos colaterais em referências compartilhadas.\n",
        " <br>\n",
        "\n",
        "---\n",
        " <br>\n"
      ],
      "cell_type": "markdown"
    },
    {
      "metadata": {
        "id": "12TbFhKLNxE0"
      },
      "source": [
        "### 4. 🚀 Ação e Verificação\n",
        "\n",
        " <br>\n",
        "#### **🤔 Desafio Prático**\n",
        "1. Crie `cores = [\"vermelho\",\"verde\",\"azul\"]` e insira `\"amarelo\"` na posição 1.  \n",
        "2. Junte `cores` a `[\"preto\",\"branco\"]` usando método adequado.  \n",
        "3. Remova `\"verde\"` com `remove()` e remova o último elemento com `pop()`.  \n",
        "4. Use slice para substituir os dois primeiros elementos por `[\"rosa\",\"lilas\"]`.  \n",
        "5. Ordene e inverta a lista resultante *in-place*.\n",
        "\n",
        " <br>\n",
        "#### **❓ Pergunta de Verificação**\n",
        "Qual a diferença entre `list.sort()` e `sorted(list)`? Em que situações usar cada um?\n",
        " <br>\n",
        "\n",
        "---\n",
        " <br>\n"
      ],
      "cell_type": "markdown"
    },
    {
      "cell_type": "markdown",
      "source": [
        "### **Resposta Rápida**\n",
        "\n",
        "`list.sort()` **altera a lista original**, enquanto `sorted(list)` **cria uma nova lista ordenada**, sem modificar a original. Use `sort()` quando quiser ordenar **no lugar**, e `sorted()` quando quiser manter os dados originais intactos.\n",
        "\n",
        "---\n",
        "\n",
        "### **Analogia do Dia**\n",
        "\n",
        "Imagine que você tem um baralho desorganizado.\n",
        "Com `list.sort()`, você **reorganiza o baralho original**.\n",
        "Com `sorted(list)`, você faz uma **cópia nova, ordenada**, e **o baralho antigo continua bagunçado**.\n",
        "\n",
        "---\n",
        "\n",
        "### **Análise Técnica Detalhada**\n",
        "\n",
        "#### 🔁 `list.sort()`: ordenação in-place\n",
        "\n",
        "```python\n",
        "valores = [3, 1, 4]\n",
        "valores.sort()\n",
        "print(valores)  # [1, 3, 4]\n",
        "```\n",
        "\n",
        "* Modifica **a própria lista**\n",
        "* **Retorna `None`**\n",
        "* Mais eficiente em termos de memória\n",
        "\n",
        "#### 🆕 `sorted(lista)`: ordenação com cópia\n",
        "\n",
        "```python\n",
        "valores = [3, 1, 4]\n",
        "ordenada = sorted(valores)\n",
        "print(ordenada)  # [1, 3, 4]\n",
        "print(valores)   # [3, 1, 4] → original não muda\n",
        "```\n",
        "\n",
        "* Cria e retorna **uma nova lista ordenada**\n",
        "* A lista original **permanece igual**\n",
        "* Útil quando você quer **preservar os dados originais**\n",
        "\n",
        "---\n",
        "\n",
        "#### Tabela Comparativa\n",
        "\n",
        "| Característica     | `list.sort()`         | `sorted(list)`            |\n",
        "| ------------------ | --------------------- | ------------------------- |\n",
        "| Modifica original? | ✅ Sim                 | ❌ Não                     |\n",
        "| Retorna o quê?     | `None`                | 🆕 Nova lista ordenada    |\n",
        "| Tipo de dado?      | Só listas             | Qualquer iterável         |\n",
        "| Mais performático? | ✅ Sim, se puder mudar | Sim, mas usa mais memória |\n",
        "\n",
        "---\n",
        "\n",
        "### **Nota de Rodapé para Novatos**\n",
        "\n",
        "* **In-place:** Significa que a operação modifica o objeto original, sem criar outro.\n",
        "* **Iterável:** Qualquer estrutura que pode ser percorrida com `for`, como listas, tuplas, strings.\n",
        "* **Imutabilidade:** Capacidade de manter os dados originais sem alteração.\n",
        "* **`None`:** Valor especial do Python que representa “nada” ou ausência de valor.\n",
        "\n",
        "---\n",
        "\n",
        "### **Aplicação Prática e Boas Práticas**\n",
        "\n",
        "✅ Use `list.sort()` quando:\n",
        "\n",
        "* Você **não precisa mais da lista original**.\n",
        "* Está lidando com **grandes volumes de dados** e quer economizar memória.\n",
        "\n",
        "✅ Use `sorted()` quando:\n",
        "\n",
        "* Você quer manter a lista original **inalterada** (ex: backup ou comparação).\n",
        "* Está trabalhando com **tuplas, dicionários, sets**, etc.:\n",
        "\n",
        "```python\n",
        "nomes = {\"ana\", \"joão\", \"maria\"}\n",
        "print(sorted(nomes))  # ['ana', 'joão', 'maria']\n",
        "```\n",
        "\n",
        "* Em **ciência de dados**, ao ordenar colunas ou amostras, prefira `sorted()` quando quiser **ver resultados sem afetar os dados originais**:\n",
        "\n",
        "```python\n",
        "ordenados = sorted(df['idade'])\n",
        "```\n",
        "\n",
        "---\n",
        "\n",
        "### **Resumo da Lição**\n",
        "\n",
        "Use `list.sort()` para **modificar a lista original**, e `sorted()` para **criar uma versão ordenada nova** — escolha com base no quanto você precisa **preservar ou economizar**.\n",
        "\n",
        "---\n"
      ],
      "metadata": {
        "id": "IB7rBTo3WCgR"
      }
    }
  ]
}