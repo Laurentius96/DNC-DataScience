{
  "nbformat": 4,
  "nbformat_minor": 0,
  "metadata": {
    "colab": {
      "provenance": []
    },
    "language_info": {
      "name": "python"
    },
    "kernelspec": {
      "name": "python3",
      "display_name": "Python 3"
    }
  },
  "cells": [
    {
      "metadata": {
        "id": "Zs4onZARFrtk"
      },
      "source": [
        "## 🎓 **Aula sobre: Acessando Elementos em Listas**\n",
        "\n",
        " <br>\n",
        "\n",
        "### 🧭 Sumário da Aula\n",
        "\n",
        "| # | Sub-tópico                      | Tempo Estimado | Complexidade |\n",
        "|---|---------------------------------|----------------|--------------|\n",
        "| 1 | Ficha de Revisão Rápida         | ~1 min         | ⭐           |\n",
        "| 2 | Mergulho Profundo               | ~15 min       | ⭐⭐⭐⭐       |\n",
        "| 3 | Profundezas e Conexões          | ~3 min        | ⭐⭐         |\n",
        "| 4 | Ação e Verificação              | ~5 min        | ⭐⭐         |\n",
        "| 5 | Mergulhos Adicionais            | Opcional      | ⭐⭐⭐⭐     |\n",
        "\n",
        " <br>\n",
        "\n",
        "---\n",
        " <br>\n"
      ],
      "cell_type": "markdown"
    },
    {
      "metadata": {
        "id": "6Rp1cXutFrtm"
      },
      "source": [
        "### 1. 🧠 Ficha de Revisão Rápida | (O Essencial)\n",
        "\n",
        "> Para acessar elementos de uma lista use índices entre colchetes: `lista[indice]`.  \n",
        "> Índices começam em 0; índices negativos contam a partir do final: `-1` é o último elemento.  \n",
        "> Fatiamento (`slice`) obtém sublistas: `lista[inicio:fim:passo]`.\n"
      ],
      "cell_type": "markdown"
    },
    {
      "metadata": {
        "id": "mtv-gkdXFrtm"
      },
      "source": [
        "### 2. 🔬 Mergulho Profundo | (Os Detalhes)\n",
        "\n",
        "#### **🎯 O Conceito Central**  \n",
        "Cada lista é armazenada como um array de referências. Quando você chama `lista[i]`, o Python busca na posição `i` essa referência e retorna o objeto. Índices fora do intervalo geram `IndexError`.\n",
        "\n",
        "#### **🔗 Analogia de Data Science**  \n",
        "Imagine uma tabela em que cada célula está numerada. Acessar `lista[2]` é como consultar a terceira célula de uma coluna. Usar índice `-1` é como perguntar pela última linha, útil para dados recentes em séries temporais.\n"
      ],
      "cell_type": "markdown"
    },
    {
      "metadata": {
        "id": "UHCl3HOcFrtm"
      },
      "source": [
        "### **💻 Exemplos de Mercado (Abrangentes)**\n",
        "\n",
        "#### **Nível Simples: Índices Positivos e Negativos**\n"
      ],
      "cell_type": "markdown"
    },
    {
      "metadata": {
        "id": "BC9ViVbDFrtn"
      },
      "source": [
        "cores = [\"vermelho\", \"verde\", \"azul\", \"amarelo\"]\n",
        "print(cores[0])   # 'vermelho'\n",
        "print(cores[-1])  # 'amarelo'\n"
      ],
      "cell_type": "code",
      "execution_count": null,
      "outputs": []
    },
    {
      "metadata": {
        "colab": {
          "base_uri": "https://localhost:8080/"
        },
        "id": "EZPevCRlFrtn",
        "outputId": "b75b520d-0ed1-42eb-d4f8-bf8eb49c71a4"
      },
      "source": [
        "# Pratique seu código aqui!\n",
        "\n",
        "cores = [\"vermelho\", \"verde\", \"azul\", \"amarelo\"]\n",
        "print(cores[0])\n",
        "print(cores[-1])\n"
      ],
      "cell_type": "code",
      "execution_count": 1,
      "outputs": [
        {
          "output_type": "stream",
          "name": "stdout",
          "text": [
            "vermelho\n",
            "amarelo\n"
          ]
        }
      ]
    },
    {
      "metadata": {
        "id": "_kZGls2jFrtn"
      },
      "source": [
        "* **O que o código faz:** Retorna primeiro e último elementos por índice.  \n",
        "* **Cenário de Mercado:** Extrair valores extremos de uma lista de métricas.  \n",
        "* **Boas Práticas:** Sempre verifique o tamanho da lista antes de acessar índices fixos.\n"
      ],
      "cell_type": "markdown"
    },
    {
      "metadata": {
        "id": "vRvGjBYmFrto"
      },
      "source": [
        "#### **Nível Intermediário: Fatiamento (Slice)**\n"
      ],
      "cell_type": "markdown"
    },
    {
      "metadata": {
        "id": "03elg0eFFrto"
      },
      "source": [
        "dados = [10, 20, 30, 40, 50]\n",
        "print(dados[1:4])    # [20, 30, 40]\n",
        "print(dados[:3])     # [10, 20, 30]\n",
        "print(dados[3:])     # [40, 50]\n",
        "print(dados[::2])    # [10, 30, 50]\n"
      ],
      "cell_type": "code",
      "execution_count": null,
      "outputs": []
    },
    {
      "metadata": {
        "colab": {
          "base_uri": "https://localhost:8080/"
        },
        "id": "ezdYf-0UFrto",
        "outputId": "a6a0cdf4-41bb-4a2c-8c51-99e69993c960"
      },
      "source": [
        "# Pratique seu código aqui!\n",
        "\n",
        "dados = [10, 20, 30, 40, 50]\n",
        "print(dados[1:4])\n",
        "print(dados[:3])\n",
        "print(dados[3:])\n",
        "print(dados[::2])"
      ],
      "cell_type": "code",
      "execution_count": 6,
      "outputs": [
        {
          "output_type": "stream",
          "name": "stdout",
          "text": [
            "[20, 30, 40]\n",
            "[10, 20, 30]\n",
            "[40, 50]\n",
            "[10, 30, 50]\n"
          ]
        }
      ]
    },
    {
      "metadata": {
        "id": "OubC6jRjFrtp"
      },
      "source": [
        "* **O que o código faz:** Extrai sublistas com início, fim e passo.  \n",
        "* **Cenário de Mercado:** Selecionar janelas de tempo em séries temporais ou features específicas.  \n",
        "* **Boas Práticas:** Use fatiamento para reduzir loops e evitar erros de índice manual.\n"
      ],
      "cell_type": "markdown"
    },
    {
      "metadata": {
        "id": "10U5HhViFrtp"
      },
      "source": [
        "#### **Nível Avançado: Acesso Condicional com `next()`**\n"
      ],
      "cell_type": "markdown"
    },
    {
      "metadata": {
        "id": "ETHMVFPnFrtp"
      },
      "source": [
        "# Encontrar primeiro valor maior que 25\n",
        "valores = [5, 15, 30, 45]\n",
        "primeiro_maior = next((v for v in valores if v > 25), None)\n",
        "print(primeiro_maior)  # 30\n"
      ],
      "cell_type": "code",
      "execution_count": null,
      "outputs": []
    },
    {
      "metadata": {
        "colab": {
          "base_uri": "https://localhost:8080/"
        },
        "id": "Kb9WDThPFrtp",
        "outputId": "35df9126-a3eb-426d-b611-08894b7ba093"
      },
      "source": [
        "# Pratique seu código aqui!\n",
        "\n",
        "valores = [5, 15, 30, 45]\n",
        "primeiro_maior = next((v for v in valores if v > 25), None)\n",
        "print(primeiro_maior)"
      ],
      "cell_type": "code",
      "execution_count": 8,
      "outputs": [
        {
          "output_type": "stream",
          "name": "stdout",
          "text": [
            "30\n"
          ]
        }
      ]
    },
    {
      "metadata": {
        "id": "TiT1Yi3RFrtp"
      },
      "source": [
        "* **O que o código faz:** Gera itens e retorna o primeiro que atende à condição.  \n",
        "* **Cenário de Mercado:** Localizar rapidamente o primeiro registro que atende um critério.  \n",
        "* **Boas Práticas:** Forneça valor padrão a `next()` para evitar `StopIteration`.\n"
      ],
      "cell_type": "markdown"
    },
    {
      "metadata": {
        "id": "z4Ny0d9gFrtp"
      },
      "source": [
        "#### **Nível DEUS (1/3): Indexação Multinível em Listas de Listas**\n"
      ],
      "cell_type": "markdown"
    },
    {
      "metadata": {
        "id": "QWFgTKwTFrtq"
      },
      "source": [
        "matriz = [[1,2,3],[4,5,6],[7,8,9]]\n",
        "print(matriz[1][2])  # 6 (segunda linha, terceira coluna)\n"
      ],
      "cell_type": "code",
      "execution_count": null,
      "outputs": []
    },
    {
      "metadata": {
        "colab": {
          "base_uri": "https://localhost:8080/"
        },
        "id": "Dn8VJX6BFrtq",
        "outputId": "13423891-0416-41f5-a6b4-6718bfa2888c"
      },
      "source": [
        "# Pratique seu código aqui!\n",
        "\n",
        "matriz = [[1,2,3],[4,5,6],[7,8,9]]\n",
        "print(matriz[1][2])\n",
        "print(matriz[0][1])\n"
      ],
      "cell_type": "code",
      "execution_count": 10,
      "outputs": [
        {
          "output_type": "stream",
          "name": "stdout",
          "text": [
            "6\n",
            "2\n"
          ]
        }
      ]
    },
    {
      "metadata": {
        "id": "7zT6PY2MFrtq"
      },
      "source": [
        "* **O que o código faz:** Acessa elemento em lista aninhada.  \n",
        "* **Cenário de Mercado:** Extrair valores em tabelas ou grades de pixels.  \n",
        "* **Boas Práticas:** Verifique dimensões antes de acessar profundidades aninhadas.\n"
      ],
      "cell_type": "markdown"
    },
    {
      "metadata": {
        "id": "MRAKzaoVFrtq"
      },
      "source": [
        "#### **Nível DEUS (2/3): Pesquisa de Índice com `.index()`**\n"
      ],
      "cell_type": "markdown"
    },
    {
      "metadata": {
        "id": "JSX_0RDPFrtq"
      },
      "source": [
        "itens = [\"a\",\"b\",\"c\",\"b\"]\n",
        "idx_primeiro_b = itens.index(\"b\")\n",
        "print(idx_primeiro_b)  # 1\n"
      ],
      "cell_type": "code",
      "execution_count": null,
      "outputs": []
    },
    {
      "metadata": {
        "colab": {
          "base_uri": "https://localhost:8080/"
        },
        "id": "brzR0jf6Frtq",
        "outputId": "f5ade917-ad92-4656-9e1a-27d782480e5e"
      },
      "source": [
        "# Pratique seu código aqui!\n",
        "itens = [\"a\",\"b\",\"c\",\"b\"]\n",
        "idx_primeiro_b = itens.index(\"b\")\n",
        "print(idx_primeiro_b)"
      ],
      "cell_type": "code",
      "execution_count": 15,
      "outputs": [
        {
          "output_type": "stream",
          "name": "stdout",
          "text": [
            "1\n"
          ]
        }
      ]
    },
    {
      "metadata": {
        "id": "ZSALRCzsFrtq"
      },
      "source": [
        "* **O que o código faz:** Retorna índice da primeira ocorrência.  \n",
        "* **Cenário de Mercado:** Localizar posição de um valor em logs ou sequências.  \n",
        "* **Boas Práticas:** Use `try/except` para capturar `ValueError` se não encontrar.\n"
      ],
      "cell_type": "markdown"
    },
    {
      "metadata": {
        "id": "FxZ5lxmnFrtq"
      },
      "source": [
        "#### **Nível DEUS (3/3): Acesso Seguro com `itertools.islice`**\n"
      ],
      "cell_type": "markdown"
    },
    {
      "metadata": {
        "id": "5IGS47bGFrtq"
      },
      "source": [
        "import itertools\n",
        "dados = range(100)\n",
        "sub = list(itertools.islice(dados, 10, 20))\n",
        "print(sub)  # valores de 10 a 19\n"
      ],
      "cell_type": "code",
      "execution_count": null,
      "outputs": []
    },
    {
      "metadata": {
        "colab": {
          "base_uri": "https://localhost:8080/"
        },
        "id": "GqsIaFE_Frtr",
        "outputId": "f310ebd7-aaa8-4445-ea02-ab7248143963"
      },
      "source": [
        "# Pratique seu código aqui!\n",
        "\n",
        "import itertools\n",
        "dados = range(100)\n",
        "sub = list(itertools.islice(dados, 10, 20))\n",
        "print(sub)\n"
      ],
      "cell_type": "code",
      "execution_count": 18,
      "outputs": [
        {
          "output_type": "stream",
          "name": "stdout",
          "text": [
            "[10, 11, 12, 13, 14, 15, 16, 17, 18, 19]\n"
          ]
        }
      ]
    },
    {
      "metadata": {
        "id": "9i5-olqeFrtr"
      },
      "source": [
        "* **O que o código faz:** Fatiamento de iteráveis que não suportam slice nativo.  \n",
        "* **Cenário de Mercado:** Paginação de grandes streams de dados.  \n",
        "* **Boas Práticas:** Use `islice` para economizar memória em iteráveis infinitos.\n"
      ],
      "cell_type": "markdown"
    },
    {
      "metadata": {
        "id": "b_jyF_AfFrtr"
      },
      "source": [
        "### 3. 🕸️ Profundezas e Conexões\n",
        "\n",
        " <br>\n",
        "\n",
        "Acessar elementos de listas se integra a **compreensões**, **loops** e **indexação booleana** em Pandas. Técnicas avançadas de acesso seguro evitam erros em pipelines de ETL e melhoram performance ao lidar com grandes coleções.\n",
        "\n",
        " <br>\n",
        "\n",
        "---\n",
        " <br>\n"
      ],
      "cell_type": "markdown"
    },
    {
      "metadata": {
        "id": "eWNdm6XYFrtr"
      },
      "source": [
        "### 4. 🚀 Ação e Verificação\n",
        "\n",
        " <br>\n",
        "\n",
        "#### **🤔 Desafio Prático**\n",
        "1. Dada `valores = [2,4,6,8,10]`, acesse o terceiro elemento e o penúltimo.  \n",
        "2. Use fatiamento para obter elementos de índice ímpar.  \n",
        "3. Em `listas = [[1],[2,3],[4,5,6]]`, acesse o último subelemento do segundo item.  \n",
        "4. Localize o índice de `\"verde\"` em `cores = [\"vermelho\",\"verde\",\"azul\"]` com método `.index()`.  \n",
        "5. Usando `itertools.islice`, extraia elementos de 5 a 15 de um gerador `range(100)`.  \n",
        "\n",
        " <br>\n",
        "\n",
        "#### **❓ Pergunta de Verificação**\n",
        "Por que acessar índices além do tamanho da lista gera erro, e como você pode proteger seu código contra isso?\n",
        "\n",
        " <br>\n",
        "\n",
        "---\n",
        " <br>\n"
      ],
      "cell_type": "markdown"
    },
    {
      "cell_type": "markdown",
      "source": [
        "### **Resposta Rápida**\n",
        "\n",
        "Tentar acessar um índice fora do alcance de uma lista gera um **IndexError** porque o Python **não encontra posição correspondente** na memória. Para evitar isso, verifique o tamanho da lista ou use técnicas como `try-except` ou loops controlados.\n",
        "\n",
        "---\n",
        "\n",
        "### **Analogia do Dia**\n",
        "\n",
        "Imagine uma estante com 5 livros numerados de 0 a 4. Se você tentar pegar o livro da **prateleira 10**, vai ficar no vácuo — **ela simplesmente não existe**! O Python, como um bom bibliotecário, **avisa com erro** se você tentar acessar algo que não está lá.\n",
        "\n",
        "---\n",
        "\n",
        "### **Análise Técnica Detalhada**\n",
        "\n",
        "#### Como funciona o acesso por índice:\n",
        "\n",
        "```python\n",
        "lista = [10, 20, 30]\n",
        "print(lista[1])  # 20\n",
        "print(lista[3])  # ❌ IndexError\n",
        "```\n",
        "\n",
        "* Os índices válidos para uma lista de 3 elementos são `0`, `1`, `2`.\n",
        "* Tentar acessar `lista[3]` gera:\n",
        "\n",
        "  ```\n",
        "  IndexError: list index out of range\n",
        "  ```\n",
        "\n",
        "#### Como proteger seu código:\n",
        "\n",
        "✅ **Verificando o tamanho da lista**:\n",
        "\n",
        "```python\n",
        "if indice < len(lista):\n",
        "    print(lista[indice])\n",
        "else:\n",
        "    print(\"Índice fora do alcance!\")\n",
        "```\n",
        "\n",
        "✅ **Tratando com `try-except`:**\n",
        "\n",
        "```python\n",
        "try:\n",
        "    print(lista[indice])\n",
        "except IndexError:\n",
        "    print(\"Erro: índice inválido!\")\n",
        "```\n",
        "\n",
        "✅ **Usando loops seguros:**\n",
        "\n",
        "```python\n",
        "for i in range(len(lista)):\n",
        "    print(lista[i])\n",
        "```\n",
        "\n",
        "---\n",
        "\n",
        "### **Nota de Rodapé para Novatos**\n",
        "\n",
        "* **IndexError:** Erro padrão do Python quando tentamos acessar uma posição que não existe em uma lista ou tupla.\n",
        "* **`len(lista)`:** Retorna o número de elementos da lista.\n",
        "* **`try-except`:** Bloco usado para capturar e tratar erros em tempo de execução.\n",
        "* **Índice:** Posição numérica usada para acessar um elemento (começa em 0).\n",
        "\n",
        "---\n",
        "\n",
        "### **Aplicação Prática e Boas Práticas**\n",
        "\n",
        "* Em **Ciência de Dados**, você pode acessar colunas ou linhas específicas:\n",
        "\n",
        "```python\n",
        "linha = df.iloc[5]  # cuidado: o índice deve existir!\n",
        "```\n",
        "\n",
        "* ✅ Sempre valide o tamanho do conjunto de dados antes de acessar índices:\n",
        "\n",
        "```python\n",
        "if i < len(df):\n",
        "    processar(df.iloc[i])\n",
        "```\n",
        "\n",
        "* ✅ Prefira `for elemento in lista` em vez de `for i in range(...)` quando não precisar do índice — é mais seguro.\n",
        "\n",
        "---\n",
        "\n",
        "### **Resumo da Lição**\n",
        "\n",
        "Acessar um índice inexistente em uma lista gera erro porque **a posição não existe** — evite isso validando o tamanho ou usando estruturas de controle seguras.\n",
        "\n",
        "---\n"
      ],
      "metadata": {
        "id": "7jQG2dlPJQDx"
      }
    },
    {
      "cell_type": "code",
      "source": [],
      "metadata": {
        "id": "hALHvJtXJxXX"
      },
      "execution_count": null,
      "outputs": []
    }
  ]
}