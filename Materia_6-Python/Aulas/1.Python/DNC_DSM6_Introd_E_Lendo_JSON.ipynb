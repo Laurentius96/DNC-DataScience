{
  "nbformat": 4,
  "nbformat_minor": 0,
  "metadata": {
    "colab": {
      "provenance": []
    },
    "language_info": {
      "name": "python"
    },
    "kernelspec": {
      "name": "python3",
      "display_name": "Python 3"
    }
  },
  "cells": [
    {
      "metadata": {
        "id": "ZZHq8hURmLMY"
      },
      "source": [
        "## 🎓 **Aula sobre: Introdução a arquivos JSON e Lendo Arquivos JSON em Python**\n",
        "\n",
        " <br>\n",
        "\n",
        "### 🧭 Sumário da Aula\n",
        "\n",
        "| # | Sub-tópico                      | Tempo Estimado | Complexidade |\n",
        "|---|---------------------------------|----------------|--------------|\n",
        "| 1 | Ficha de Revisão Rápida         | ~1 min         | ⭐           |\n",
        "| 2 | Mergulho Profundo               | ~15 min        | ⭐⭐⭐⭐       |\n",
        "| 3 | Profundezas e Conexões          | ~3 min         | ⭐⭐         |\n",
        "| 4 | Ação e Verificação              | ~5 min         | ⭐⭐         |\n",
        "| 5 | Mergulhos Adicionais            | Opcional       | ⭐⭐⭐⭐       |\n",
        "\n",
        " <br>\n",
        "\n",
        "---\n",
        " <br>\n"
      ],
      "cell_type": "markdown"
    },
    {
      "metadata": {
        "id": "Ovl4g3SfmLMZ"
      },
      "source": [
        "### 1. 🧠 Ficha de Revisão Rápida | (O Essencial)\n",
        "\n",
        " <br>\n",
        "\n",
        "> JSON (*JavaScript Object Notation*) é um formato de texto para troca de dados.  \n",
        "> Em Python, use o módulo `json`:  \n",
        "> - `json.load(f)` lê JSON de um arquivo aberto e retorna objetos Python.  \n",
        "> - `json.loads(s)` faz o mesmo a partir de uma *string*.  \n",
        "> - Para escrever, use `json.dump(obj, f)` e `json.dumps(obj)`.\n",
        "\n",
        " <br>\n"
      ],
      "cell_type": "markdown"
    },
    {
      "metadata": {
        "id": "drsw21bmmLMa"
      },
      "source": [
        "### 2. 🔬 Mergulho Profundo | (Os Detalhes)\n",
        "\n",
        " <br>\n",
        "\n",
        "#### **🎯 O Conceito Central**  \n",
        "JSON representa estruturas aninhadas de forma legível. Python mapeia automaticamente chaves e valores em *dict*, listas e tipos primitivos.\n",
        "\n",
        "#### **🔗 Analogia de Data Science**  \n",
        "Ao receber um payload de API com dados de usuários, o JSON já chega pronto para virar um dicionário ou lista de dicionários, facilitando a conversão para *DataFrame* ou outras estruturas de análise.\n",
        "\n",
        " <br>\n"
      ],
      "cell_type": "markdown"
    },
    {
      "metadata": {
        "id": "QL-nwxHtmLMa"
      },
      "source": [
        "### **💻 Exemplos de Mercado (Abrangentes)**\n",
        "\n",
        "#### **Nível Simples: Lendo `/content/exemplo.json`**\n"
      ],
      "cell_type": "markdown"
    },
    {
      "metadata": {
        "id": "XgzOt1jlmLMa"
      },
      "source": [
        "import json\n",
        "\n",
        "with open(\"/content/exemplo.json\", \"r\", encoding=\"utf-8\") as f:\n",
        "    dados = json.load(f)\n",
        "\n",
        "print(dados)            # {'nome': 'Maria', 'idade': 28, 'cidade': 'São Paulo'}\n",
        "print(type(dados))      # <class 'dict'>\n"
      ],
      "cell_type": "code",
      "execution_count": null,
      "outputs": []
    },
    {
      "metadata": {
        "colab": {
          "base_uri": "https://localhost:8080/"
        },
        "id": "adPU2B6UmLMb",
        "outputId": "de62d36e-8e44-4287-8b15-46c87e2810e4"
      },
      "source": [
        "# Pratique seu código aqui!\n",
        "\n",
        "import json\n",
        "\n",
        "with open(\"/content/exemplo.json\", \"r\", encoding=\"utf-8\") as f:\n",
        "  dados = json.load(f)\n",
        "\n",
        "print(dados)\n",
        "print(type(dados))"
      ],
      "cell_type": "code",
      "execution_count": 4,
      "outputs": [
        {
          "output_type": "stream",
          "name": "stdout",
          "text": [
            "{'nome': 'Maria', 'idade': 28, 'cidade': 'São Paulo'}\n",
            "<class 'dict'>\n"
          ]
        }
      ]
    },
    {
      "metadata": {
        "id": "o1ZiI4h6mLMb"
      },
      "source": [
        "*   **O que o código faz:** Carrega um objeto JSON simples em dicionário Python.  \n",
        "*   **Cenário de Mercado:** Configurações de usuário ou perfis armazenados localmente.  \n",
        "*   **Boas Práticas:** Sempre trate `FileNotFoundError` e `JSONDecodeError`.\n"
      ],
      "cell_type": "markdown"
    },
    {
      "metadata": {
        "id": "5gvCsuH6mLMb"
      },
      "source": [
        "#### **Nível Intermediário: Lendo `/content/livro.json`**\n"
      ],
      "cell_type": "markdown"
    },
    {
      "metadata": {
        "id": "bWFvjxxLmLMc"
      },
      "source": [
        "import json\n",
        "\n",
        "with open(\"/content/livro.json\", \"r\", encoding=\"utf-8\") as f:\n",
        "    livro = json.load(f)\n",
        "\n",
        "titulo = livro.get(\"titulo\")\n",
        "autor = livro.get(\"autor\")\n",
        "ano = livro.get(\"ano\")\n",
        "print(f\"{titulo} — {autor} ({ano})\")\n"
      ],
      "cell_type": "code",
      "execution_count": null,
      "outputs": []
    },
    {
      "metadata": {
        "colab": {
          "base_uri": "https://localhost:8080/"
        },
        "id": "FAn7re4cmLMc",
        "outputId": "b5b189c2-2824-4f26-da11-543d63540993"
      },
      "source": [
        "from inspect import EndOfBlock\n",
        "# Pratique seu código aqui!\n",
        "\n",
        "import json\n",
        "\n",
        "with open(\"/content/livro.json\", \"r\", encoding=\"utf-8\") as f:\n",
        "    livro = json.load(f)\n",
        "\n",
        "titulo = livro.get(\"titulo\")\n",
        "autor = livro.get(\"autor\")\n",
        "ano = livro.get(\"ano\")\n",
        "print(f\"{titulo} — {autor} ({ano})\")\n"
      ],
      "cell_type": "code",
      "execution_count": 7,
      "outputs": [
        {
          "output_type": "stream",
          "name": "stdout",
          "text": [
            "Dom Casmurro — Machado de Assis (1899)\n"
          ]
        }
      ]
    },
    {
      "metadata": {
        "id": "qhuHRMv9mLMc"
      },
      "source": [
        "*   **O que o código faz:** Extrai campos específicos de um JSON em dicionário.  \n",
        "*   **Cenário de Mercado:** Metadados de publicações para bibliotecas digitais.\n"
      ],
      "cell_type": "markdown"
    },
    {
      "metadata": {
        "id": "BjgMLY4XmLMc"
      },
      "source": [
        "#### **Nível Avançado: Lendo `/content/produtos.json` (lista de itens)**\n"
      ],
      "cell_type": "markdown"
    },
    {
      "metadata": {
        "id": "XiH3qTdLmLMc"
      },
      "source": [
        "import json\n",
        "\n",
        "with open(\"/content/produtos.json\", \"r\", encoding=\"utf-8\") as f:\n",
        "    produtos = json.load(f)\n",
        "\n",
        "for p in produtos:\n",
        "    nome = p[\"nome\"]\n",
        "    preco = float(p[\"preco\"])\n",
        "    print(f\"Produto: {nome} — R$ {preco:.2f}\")\n"
      ],
      "cell_type": "code",
      "execution_count": null,
      "outputs": []
    },
    {
      "metadata": {
        "colab": {
          "base_uri": "https://localhost:8080/"
        },
        "id": "FZG2qRk9mLMd",
        "outputId": "77285618-6144-49b9-d5dc-ae1ddbf9f5a9"
      },
      "source": [
        "# Pratique seu código aqui!\n",
        "\n",
        "import json\n",
        "\n",
        "with open(\"/content/produtos.json\", \"r\", encoding=\"utf-8\") as f:\n",
        "  produtos = json.load(f)\n",
        "\n",
        "for p in produtos:\n",
        "  nome = p[\"nome\"]\n",
        "  preco = float(p[\"preco\"])\n",
        "  print(f\"Produto: {nome} - R$ {preco:.2f}\")\n"
      ],
      "cell_type": "code",
      "execution_count": 8,
      "outputs": [
        {
          "output_type": "stream",
          "name": "stdout",
          "text": [
            "Produto: cadeira - R$ 200.00\n",
            "Produto: mesa - R$ 300.00\n",
            "Produto: relogio - R$ 40.00\n"
          ]
        }
      ]
    },
    {
      "metadata": {
        "id": "I1ZWNX89mLMd"
      },
      "source": [
        "*   **O que o código faz:** Percorre lista de dicionários e formata preços.  \n",
        "*   **Cenário de Mercado:** Catálogo de produtos importado de JSON para exibição.\n"
      ],
      "cell_type": "markdown"
    },
    {
      "metadata": {
        "id": "qsmK97HRmLMd"
      },
      "source": [
        "#### **Nível DEUS (1/3): Tratando Erros de Parsing**\n"
      ],
      "cell_type": "markdown"
    },
    {
      "metadata": {
        "id": "Lpzaa5DHmLMd"
      },
      "source": [
        "import json\n",
        "\n",
        "try:\n",
        "    with open(\"/content/invalido.json\", \"r\", encoding=\"utf-8\") as f:\n",
        "        data = json.load(f)\n",
        "except FileNotFoundError:\n",
        "    print(\"Arquivo não encontrado.\")\n",
        "except json.JSONDecodeError as e:\n",
        "    print(\"Erro ao decodificar JSON:\", e)\n"
      ],
      "cell_type": "code",
      "execution_count": null,
      "outputs": []
    },
    {
      "metadata": {
        "colab": {
          "base_uri": "https://localhost:8080/"
        },
        "id": "78n1AOJPmLMd",
        "outputId": "35a4cc1a-778d-42df-d4a8-c12e1d7ee8f2"
      },
      "source": [
        "# Pratique seu código aqui!\n",
        "\n",
        "import json\n",
        "\n",
        "try:\n",
        "  with open(\"/content/invalido.json\", \"r\", encoding=\"utf-8\") as f:\n",
        "    data = json.load(f)\n",
        "except FileNotFoundError:\n",
        "  print(\"Arquivo não encontrado.\")\n",
        "except json.JSONDecodeError as e:\n",
        "  print(\"Erro ao decodificar JSON:\", e)"
      ],
      "cell_type": "code",
      "execution_count": 9,
      "outputs": [
        {
          "output_type": "stream",
          "name": "stdout",
          "text": [
            "Arquivo não encontrado.\n"
          ]
        }
      ]
    },
    {
      "metadata": {
        "id": "fd69CpJJmLMd"
      },
      "source": [
        "*   **O que o código faz:** Captura ausência de arquivo e falha de formato.  \n",
        "*   **Cenário de Mercado:** Validação robusta de dados antes de processar grandes volumes.\n"
      ],
      "cell_type": "markdown"
    },
    {
      "metadata": {
        "id": "ob3FimnfmLMd"
      },
      "source": [
        "#### **Nível DEUS (2/3): Leitura de JSON Lines (JSONL)**\n"
      ],
      "cell_type": "markdown"
    },
    {
      "cell_type": "code",
      "metadata": {
        "id": "1ad55c2c"
      },
      "source": [
        "# Create a dummy produtos.jsonl file for demonstration\n",
        "jsonl_data = \"\"\"\n",
        "{\"nome\": \"produto A\", \"preco\": \"10.00\"}\n",
        "{\"nome\": \"produto B\", \"preco\": \"25.50\"}\n",
        "{\"nome\": \"produto C\", \"preco\": \"5.75\"}\n",
        "\"\"\"\n",
        "\n",
        "with open(\"/content/produtos.jsonl\", \"w\", encoding=\"utf-8\") as f:\n",
        "    f.write(jsonl_data.strip())"
      ],
      "execution_count": 13,
      "outputs": []
    },
    {
      "metadata": {
        "id": "Ziq0yjE-mLMe"
      },
      "source": [
        "import json\n",
        "\n",
        "with open(\"/content/produtos.jsonl\", \"r\", encoding=\"utf-8\") as f:\n",
        "    registros = [json.loads(linha) for linha in f]\n",
        "\n",
        "print(f\"{len(registros)} registros lidos\")\n"
      ],
      "cell_type": "code",
      "execution_count": null,
      "outputs": []
    },
    {
      "metadata": {
        "colab": {
          "base_uri": "https://localhost:8080/"
        },
        "id": "AuM9rTDlmLMe",
        "outputId": "1429f6c4-a8e5-4caf-bf9a-be8582d406a5"
      },
      "source": [
        "# Pratique seu código aqui!\n",
        "\n",
        "import json\n",
        "\n",
        "jsonl_data = \"\"\"\n",
        "{\"nome\": \"produto A\", \"preco\": \"10.00\"}\n",
        "{\"nome\": \"produto B\", \"preco\": \"25.50\"}\n",
        "{\"nome\": \"produto C\", \"preco\": \"5.75\"}\n",
        "\"\"\"\n",
        "\n",
        "with open(\"/content/produtos.jsonl\", \"w\", encoding=\"utf-8\") as f:\n",
        "    f.write(jsonl_data.strip())\n",
        "\n",
        "with open(\"/content/produtos.jsonl\", \"r\", encoding=\"utf-8\") as f:\n",
        "    registros = [json.loads(linha) for linha in f]\n",
        "\n",
        "print(f\"{len(registros)} registros lidos\")"
      ],
      "cell_type": "code",
      "execution_count": 14,
      "outputs": [
        {
          "output_type": "stream",
          "name": "stdout",
          "text": [
            "3 registros lidos\n"
          ]
        }
      ]
    },
    {
      "metadata": {
        "id": "01PVKcNlmLMe"
      },
      "source": [
        "*   **O que o código faz:** Trata cada linha como JSON independente.  \n",
        "*   **Cenário de Mercado:** Logs estruturados ou streams de eventos em tempo real.\n"
      ],
      "cell_type": "markdown"
    },
    {
      "metadata": {
        "id": "Zf4iLin7mLMe"
      },
      "source": [
        "#### **Nível DEUS (3/3): Normalização para DataFrame**\n"
      ],
      "cell_type": "markdown"
    },
    {
      "metadata": {
        "id": "nI_RhJbfmLMe"
      },
      "source": [
        "import json\n",
        "import pandas as pd\n",
        "\n",
        "with open(\"/content/produtos.json\", \"r\", encoding=\"utf-8\") as f:\n",
        "    produtos = json.load(f)\n",
        "\n",
        "df = pd.json_normalize(produtos)\n",
        "print(df.head())\n"
      ],
      "cell_type": "code",
      "execution_count": null,
      "outputs": []
    },
    {
      "metadata": {
        "colab": {
          "base_uri": "https://localhost:8080/"
        },
        "id": "NqICCSzwmLMe",
        "outputId": "9070ceac-6b48-401f-df9f-9ff4e5a76852"
      },
      "source": [
        "# Pratique seu código aqui!\n",
        "import json\n",
        "import pandas as pd\n",
        "\n",
        "with open(\"/content/produtos.json\", \"r\", encoding=\"utf-8\") as f:\n",
        "  produtos = json.load(f)\n",
        "\n",
        "df = pd.json_normalize(produtos)\n",
        "print(df.head())"
      ],
      "cell_type": "code",
      "execution_count": 16,
      "outputs": [
        {
          "output_type": "stream",
          "name": "stdout",
          "text": [
            "      nome preco\n",
            "0  cadeira   200\n",
            "1     mesa   300\n",
            "2  relogio    40\n"
          ]
        }
      ]
    },
    {
      "metadata": {
        "id": "QgCnMooZmLMe"
      },
      "source": [
        "*   **O que o código faz:** Converte lista JSON em tabela plana do pandas.  \n",
        "*   **Cenário de Mercado:** Preparar dados para análise e modelagem sem loops manuais.\n"
      ],
      "cell_type": "markdown"
    },
    {
      "metadata": {
        "id": "peo_MxKBmLMe"
      },
      "source": [
        "### 3. 🕸️ Profundezas e Conexões\n",
        "\n",
        " <br>\n",
        "\n",
        "Leitura de JSON conecta-se a **requests** (API web via `response.json()`), **pandas** (`read_json`), **context managers** e bibliotecas de alto desempenho como `ujson` ou `orjson`. Entender parsing e normalização é essencial para ingestão e integração de dados heterogêneos.\n",
        "\n",
        " <br>\n",
        "\n",
        "---\n",
        " <br>\n"
      ],
      "cell_type": "markdown"
    },
    {
      "metadata": {
        "id": "UGs5IOGEmLMe"
      },
      "source": [
        "### 4. 🚀 Ação e Verificação\n",
        "\n",
        " <br>\n",
        "\n",
        "#### **🤔 Desafio Prático**\n",
        "1. Leia `/content/exemplo.json` e imprima apenas o valor de `\"cidade\"`.  \n",
        "2. Usando `json.loads()`, parseie uma string JSON contendo o dicionário de `livro.json`.  \n",
        "3. Abra `/content/produtos.json`, filtre produtos com `preco > 100` e exiba nomes.  \n",
        "4. Trate `JSONDecodeError` ao ler um arquivo JSON malformado (`try/except`).  \n",
        "5. Normalize `/content/produtos.json` em DataFrame e calcule o preço médio.\n",
        "\n",
        " <br>\n",
        "\n",
        "#### **❓ Pergunta de Verificação**\n",
        "Por que JSONL pode ser mais eficiente que um único JSON grande? Quais vantagens de processamento de streaming isso traz?\n",
        "\n",
        " <br>\n",
        "\n",
        "---\n",
        " <br>\n"
      ],
      "cell_type": "markdown"
    },
    {
      "cell_type": "markdown",
      "source": [
        "### **Resposta Rápida**\n",
        "\n",
        "O formato **JSONL** (JSON Lines) é mais eficiente que um único JSON grande porque permite **processar os dados linha por linha**, sem carregar tudo na memória. Isso facilita o **streaming**, a **paralelização** e a **leitura incremental**, ideal para arquivos grandes.\n",
        "\n",
        "---\n",
        "\n",
        "### **Analogia do Dia**\n",
        "\n",
        "Imagine que você vai ler um dicionário gigante.\n",
        "No formato JSON tradicional, é como receber **um único livro encadernado enorme**: você precisa **abrir tudo de uma vez**.\n",
        "No JSONL, é como receber **uma pilha de cartões**, um por definição — você pode **processar um por um**, sem carregar o conjunto inteiro.\n",
        "\n",
        "---\n",
        "\n",
        "### **Análise Técnica Detalhada**\n",
        "\n",
        "#### 🧩 JSON tradicional (um único dicionário grande):\n",
        "\n",
        "```json\n",
        "[\n",
        "  {\"id\": 1, \"nome\": \"Alice\"},\n",
        "  {\"id\": 2, \"nome\": \"Bob\"},\n",
        "  {\"id\": 3, \"nome\": \"Carol\"}\n",
        "]\n",
        "```\n",
        "\n",
        "* ✅ Ótimo para **troca de dados entre sistemas**\n",
        "* ❌ Precisa ser **carregado todo na memória** de uma vez (`json.load`)\n",
        "* ❌ Difícil de **manipular incrementalmente**\n",
        "\n",
        "---\n",
        "\n",
        "#### ✅ JSONL (JSON Lines):\n",
        "\n",
        "```json\n",
        "{\"id\": 1, \"nome\": \"Alice\"}\n",
        "{\"id\": 2, \"nome\": \"Bob\"}\n",
        "{\"id\": 3, \"nome\": \"Carol\"}\n",
        "```\n",
        "\n",
        "* Cada linha é um **objeto JSON completo**\n",
        "* Pode ser lido **linha por linha com `for`**\n",
        "* Excelente para **streaming, logs, grandes volumes de dados**\n",
        "\n",
        "---\n",
        "\n",
        "#### ⚙️ Como processar JSONL em Python:\n",
        "\n",
        "```python\n",
        "import json\n",
        "\n",
        "with open(\"dados.jsonl\", \"r\", encoding=\"utf-8\") as f:\n",
        "    for linha in f:\n",
        "        registro = json.loads(linha)\n",
        "        print(registro[\"nome\"])\n",
        "```\n",
        "\n",
        "🧠 Isso **evita carregar tudo na memória**!\n",
        "\n",
        "---\n",
        "\n",
        "### **Nota de Rodapé para Novatos**\n",
        "\n",
        "* **JSONL**: Formato onde **cada linha do arquivo é um objeto JSON** independente.\n",
        "* **Streaming**: Técnica de processar dados **à medida que são recebidos/lidos**, sem esperar o arquivo inteiro.\n",
        "* **`json.loads()`**: Carrega uma string JSON (ex: uma linha do arquivo) como dicionário Python.\n",
        "* **Leitura incremental**: Processar dados pouco a pouco — útil para datasets grandes.\n",
        "\n",
        "---\n",
        "\n",
        "### **Aplicação Prática e Boas Práticas**\n",
        "\n",
        "✅ JSONL é ideal para:\n",
        "\n",
        "* Grandes volumes de dados (ex: logs, dados de sensores, extrações de APIs)\n",
        "* Treinamento de modelos de IA com **pipeline de dados sob demanda**\n",
        "* Paralelismo: várias threads/processos podem **ler e processar linhas separadamente**\n",
        "\n",
        "❌ Evite JSONL quando:\n",
        "\n",
        "* Precisa de estrutura aninhada complexa (ex: listas dentro de listas)\n",
        "* O conjunto de dados **precisa ser tratado como uma estrutura inteira**\n",
        "\n",
        "💡 Ferramentas como `pandas`, `datasets` da HuggingFace, Spark e pipelines de NLP **adoram JSONL** por sua leveza e compatibilidade com leitura em lote.\n",
        "\n",
        "---\n",
        "\n",
        "### **Resumo da Lição**\n",
        "\n",
        "JSONL é eficiente para grandes volumes de dados porque permite **leitura linha por linha**, sem consumir muita memória — ideal para **streaming, processamento paralelo** e **pipelines escaláveis** de Ciência de Dados.\n",
        "\n",
        "---\n"
      ],
      "metadata": {
        "id": "YDph0ZyBq57J"
      }
    },
    {
      "cell_type": "code",
      "source": [],
      "metadata": {
        "id": "fWMaliltrOdD"
      },
      "execution_count": null,
      "outputs": []
    }
  ]
}