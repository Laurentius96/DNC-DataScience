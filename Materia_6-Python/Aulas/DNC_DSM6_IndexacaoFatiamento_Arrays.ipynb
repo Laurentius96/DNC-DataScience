{
  "nbformat": 4,
  "nbformat_minor": 0,
  "metadata": {
    "colab": {
      "provenance": []
    },
    "kernelspec": {
      "name": "python3",
      "display_name": "Python 3"
    }
  },
  "cells": [
    {
      "cell_type": "markdown",
      "metadata": {
        "id": "cBJYOAlilNKs"
      },
      "source": [
        "## 🎓 **Aula sobre: Indexação e Fatiamento de Arrays NumPy**\n",
        "\n",
        "<br>\n",
        "\n",
        "### 🧭 Sumário da Aula\n",
        "\n",
        "| # | Sub-tópico                       | Tempo Estimado | Complexidade |\n",
        "|---|----------------------------------|----------------|--------------|\n",
        "| 1 | Ficha de Revisão Rápida          | ~1 min         | ⭐           |\n",
        "| 2 | Mergulho Profundo                | ~15 min        | ⭐⭐⭐⭐       |\n",
        "| 3 | Profundezas e Conexões           | ~3 min         | ⭐⭐         |\n",
        "| 4 | 🚀 Ação e Verificação             | ~5 min         | ⭐⭐         |\n",
        "| 5 | 🌊 Mergulhos Adicionais Opcionais | Opcional      | ⭐⭐⭐⭐      |\n",
        "\n",
        "<br>\n",
        "\n",
        "---\n",
        "<br>\n"
      ]
    },
    {
      "cell_type": "markdown",
      "metadata": {
        "id": "mmJ3IhZulNKt"
      },
      "source": [
        "### 1. 🧠 Ficha de Revisão Rápida | (O Essencial)\n",
        "\n",
        "<br>\n",
        "\n",
        "> - **Indexação simples:** `arr[i]` ou `arr[i,j]` acessa elementos.  \n",
        "> - **Fatiamento:** `arr[start:stop:step]` retorna subarrays.  \n",
        "> - **Máscaras booleanas:** `arr[arr > x]` filtra valores.  \n",
        "> - **Fancy indexing:** seleção arbitrária via lista ou array de índices.\n",
        "\n",
        "<br>\n"
      ]
    },
    {
      "cell_type": "markdown",
      "metadata": {
        "id": "SSLPbOXYlNKt"
      },
      "source": [
        "### 2. 🔬 Mergulho Profundo | (Os Detalhes)\n",
        "\n",
        "<br>\n",
        "\n",
        "#### **🎯 O Conceito Central**  \n",
        "Indexação e fatiamento são formas de “apontar” para partes de um `ndarray`. Máscaras booleanas marcam elementos por condição, e *fancy indexing* usa listas de posições. Tudo executado em C, sem loops Python, garantindo alta performance.\n",
        "\n",
        "<br>\n",
        "\n",
        "#### **🔗 Analogia de Data Science**  \n",
        "Imagine um mural de 1000×1000 pixels.  \n",
        "- Com indexação você escolhe um pixel específico.  \n",
        "- Com fatiamento recorta um bloco retangular.  \n",
        "- Com máscara destaca apenas pixels brilhantes.  \n",
        "- Com fancy indexing seleciona pixels espalhados em qualquer padrão.\n",
        "\n",
        "<br>\n",
        "\n",
        "### **💻 Exemplos de Mercado (Abrangentes)**\n"
      ]
    },
    {
      "cell_type": "markdown",
      "metadata": {
        "id": "HBswMjYllNKu"
      },
      "source": [
        "#### **Nível Simples: Indexação e Fatiamento Básico**\n"
      ]
    },
    {
      "cell_type": "code",
      "execution_count": null,
      "metadata": {
        "id": "wJ5P8ZoolNKu"
      },
      "outputs": [],
      "source": [
        "import numpy as np\n",
        "arr = np.arange(10)       # [0,1,2,...,9]\n",
        "print(arr[2])             # 2\n",
        "print(arr[3:7])           # [3 4 5 6]\n",
        "print(arr[:5])            # [0 1 2 3 4]\n",
        "print(arr[::2])           # [0 2 4 6 8]\n"
      ]
    },
    {
      "cell_type": "code",
      "execution_count": 11,
      "metadata": {
        "colab": {
          "base_uri": "https://localhost:8080/"
        },
        "id": "j1RugCfdlNKv",
        "outputId": "f88c7059-8336-4e89-da76-c0ae0a56db5b"
      },
      "outputs": [
        {
          "output_type": "stream",
          "name": "stdout",
          "text": [
            "1)  [0 1 2 3 4 5 6 7 8 9]\n",
            "2)  2\n",
            "3)  [3 4 5 6]\n",
            "4)  [0 1 2 3 4]\n",
            "5)  [5 6 7 8 9]\n",
            "6)  [0 2 4 6 8]\n",
            "7)  [1 3 5 7 9]\n",
            "8)  [9 8 7 6 5 4 3 2 1 0]\n"
          ]
        }
      ],
      "source": [
        "# Pratique seu código aqui!\n",
        "import numpy as np\n",
        "\n",
        "arr = np.arange(10)\n",
        "\n",
        "print(\"1) \", arr)\n",
        "print(\"2) \", arr[2])\n",
        "print(\"3) \", arr[3:7])\n",
        "print(\"4) \", arr[:5])\n",
        "print(\"5) \", arr[5:])\n",
        "print(\"6) \", arr[::2])\n",
        "print(\"7) \", arr[1::2])\n",
        "print(\"8) \", arr[::-1])"
      ]
    },
    {
      "cell_type": "markdown",
      "metadata": {
        "id": "frXBjyV0lNKv"
      },
      "source": [
        "* **O que o código faz:**  \n",
        "\n",
        "  **1) Explicação Linha a Linha (Diálogo com o Código):**  \n",
        "  ```python\n",
        "  # “Crie um array de 0 a 9.”  \n",
        "  arr = np.arange(10)\n",
        "\n",
        "  # “Pegue o valor na posição 2.”  \n",
        "  print(arr[2])\n",
        "\n",
        "  # “Recorte do índice 3 até antes de 7.”  \n",
        "  print(arr[3:7])\n",
        "\n",
        "  # “Pegue os 5 primeiros elementos.”  \n",
        "  print(arr[:5])\n",
        "\n",
        "  # “Pegue cada segundo elemento.”  \n",
        "  print(arr[::2])\n",
        "  ```\n",
        "\n",
        "  **2) Tabela de Estados Intermediários:**\n",
        "\n",
        "  ```markdown\n",
        "  | Passo | Expressão   | Saída         | O que é?                  |\n",
        "  |:-----:|:------------|:--------------|:--------------------------|\n",
        "  | 1     | `arr`       | `[0…9]`       | Array de 10 elementos     |\n",
        "  | 2     | `arr[2]`    | `2`           | Elemento único            |\n",
        "  | 3     | `arr[3:7]`  | `[3,4,5,6]`   | Subarray contínuo         |\n",
        "  | 4     | `arr[:5]`   | `[0,1,2,3,4]` | Início implícito          |\n",
        "  | 5     | `arr[::2]`  | `[0,2,4,6,8]` | Passo 2                   |\n",
        "  ```\n",
        "\n",
        "  **3) Diagrama Mental (A Analogia Central):**  \n",
        "  Imagine uma fileira de 10 cadeiras numeradas; indexação é sentar em uma específica, fatiamento é reservar um bloco contíguo, pular de 2 em 2 é alternar assentos.\n",
        "\n",
        "* **Cenário de Mercado:**  \n",
        "  Em **séries temporais**, usar `data[-30:]` retorna uma *view* com os últimos 30 dias, permitindo cálculos de média móvel sem duplicar dados.\n",
        "\n",
        "* **Boas Práticas:**  \n",
        "  - **Afirmação:** “Use fatiamento para criar *views*, não cópias.”  \n",
        "    - **Porquê:** Economiza memória e evita overhead de cópia.  \n",
        "    - **Analogia:** É como olhar por uma janela em vez de tirar uma foto da paisagem.\n"
      ]
    },
    {
      "cell_type": "markdown",
      "metadata": {
        "id": "fNhovuShlNKv"
      },
      "source": [
        "#### **Nível Intermediário: Acesso a Linhas e Colunas**\n"
      ]
    },
    {
      "cell_type": "code",
      "execution_count": null,
      "metadata": {
        "id": "liRGUvEvlNKw"
      },
      "outputs": [],
      "source": [
        "import numpy as np\n",
        "mat = np.arange(1,17).reshape(4,4)\n",
        "print(mat[1])        # segunda linha inteira\n",
        "print(mat[:,2])      # terceira coluna inteira\n",
        "print(mat[::2, ::3]) # linhas de 2 em 2 e colunas de 3 em 3\n"
      ]
    },
    {
      "cell_type": "code",
      "execution_count": 30,
      "metadata": {
        "colab": {
          "base_uri": "https://localhost:8080/"
        },
        "id": "ze3inWATlNKw",
        "outputId": "83eca7f2-57c6-440b-9415-19776da9c63f"
      },
      "outputs": [
        {
          "output_type": "stream",
          "name": "stdout",
          "text": [
            "[[ 1  2  3  4]\n",
            " [ 5  6  7  8]\n",
            " [ 9 10 11 12]\n",
            " [13 14 15 16]]\n",
            "\n",
            "\n",
            "1) [5 6 7 8]\n",
            "\n",
            "\n",
            "2) [ 3  7 11 15]\n",
            "\n",
            "\n",
            "3) [[ 1  4]\n",
            " [ 9 12]]\n",
            "\n",
            "\n",
            "4) [[ 2  3]\n",
            " [ 6  7]\n",
            " [10 11]]\n"
          ]
        }
      ],
      "source": [
        "# Pratique seu código aqui!\n",
        "\n",
        "import numpy as np\n",
        "\n",
        "mat = np.arange(1, 17).reshape(4,4)\n",
        "\n",
        "print(mat)\n",
        "print(\"\\n\")\n",
        "print(\"1)\", mat[1])\n",
        "print(\"\\n\")\n",
        "print(\"2)\", mat[:,2])\n",
        "print(\"\\n\")\n",
        "print(\"3)\", mat[::2,::3])\n",
        "print(\"\\n\")\n",
        "print(\"4)\", mat[:3,1:3])\n"
      ]
    },
    {
      "cell_type": "markdown",
      "metadata": {
        "id": "lwICUXoPlNKw"
      },
      "source": [
        "* **O que o código faz:**  \n",
        "\n",
        "  **1) Explicação Linha a Linha (Diálogo com o Código):**  \n",
        "  ```python\n",
        "  # “Crie matriz 4×4 de 1 a 16.”  \n",
        "  mat = np.arange(1,17).reshape(4,4)\n",
        "\n",
        "  # “Pegue a segunda linha inteira.”  \n",
        "  print(mat[1])\n",
        "\n",
        "  # “Pegue a terceira coluna inteira.”  \n",
        "  print(mat[:,2])\n",
        "\n",
        "  # “Pegue linhas 0 e 2, colunas 0 e 3.”  \n",
        "  print(mat[::2, ::3])\n",
        "  ```\n",
        "\n",
        "  **2) Tabela de Estados Intermediários:**\n",
        "\n",
        "  ```markdown\n",
        "  | Passo | Expressão     | Saída                | O que faz?                      |\n",
        "  |:-----:|:--------------|:---------------------|:--------------------------------|\n",
        "  | 1     | `mat[1]`      | `[5,6,7,8]`          | Linha de índice 1               |\n",
        "  | 2     | `mat[:,2]`    | `[3,7,11,15]`        | Coluna de índice 2              |\n",
        "  | 3     | `mat[::2,::3]`| `[[1,4],[9,12]]`     | Linhas e colunas com salto      |\n",
        "  ```\n",
        "\n",
        "  **3) Diagrama Mental (A Analogia Central):**  \n",
        "  É como selecionar fileiras e colunas numa planilha para gerar relatórios específicos.\n"
      ]
    },
    {
      "cell_type": "markdown",
      "metadata": {
        "id": "rOx-BNuDlNKw"
      },
      "source": [
        "#### **Nível Avançado: Máscaras Booleanas e Fancy Indexing**\n"
      ]
    },
    {
      "cell_type": "code",
      "execution_count": null,
      "metadata": {
        "id": "rgEHKmhVlNKw"
      },
      "outputs": [],
      "source": [
        "import numpy as np\n",
        "mat = np.arange(1,17).reshape(4,4)\n",
        "mask = (mat % 2 == 0)\n",
        "print(mat[mask])          # pares\n",
        "idx = [0,2]\n",
        "print(mat[idx, idx])      # diagonal fancy\n",
        "print(mat[[1,3],[2,0]])   # seleção arbitrária\n"
      ]
    },
    {
      "cell_type": "code",
      "execution_count": 41,
      "metadata": {
        "colab": {
          "base_uri": "https://localhost:8080/"
        },
        "id": "ncXtLBu7lNKx",
        "outputId": "782607c3-3375-4df6-c052-523de7f54c4e"
      },
      "outputs": [
        {
          "output_type": "stream",
          "name": "stdout",
          "text": [
            "[[ 1  2  3  4]\n",
            " [ 5  6  7  8]\n",
            " [ 9 10 11 12]\n",
            " [13 14 15 16]]\n",
            "\n",
            "\n",
            "1) [ 2  4  6  8 10 12 14 16]\n",
            "\n",
            "\n",
            "2) [ 1 11]\n",
            "\n",
            "\n",
            "3) [ 7 13]\n"
          ]
        }
      ],
      "source": [
        "# Pratique seu código aqui!\n",
        "\n",
        "import numpy as np\n",
        "mat = np.arange(1,17).reshape(4,4)\n",
        "mask = (mat % 2 == 0)\n",
        "idx = [0,2]\n",
        "\n",
        "print(mat)\n",
        "print(\"\\n\")\n",
        "print(\"1)\", mat[mask])\n",
        "print(\"\\n\")\n",
        "print(\"2)\", mat[idx, idx])\n",
        "print(\"\\n\")\n",
        "print(\"3)\",mat[[1,3], [2,0]])"
      ]
    },
    {
      "cell_type": "markdown",
      "metadata": {
        "id": "RK2AZVUclNKx"
      },
      "source": [
        "* **O que o código faz:**  \n",
        "\n",
        "  **1) Explicação Linha a Linha (Diálogo com o Código):**  \n",
        "  ```python\n",
        "  # “Crie matriz 4×4 de 1 a 16.”  \n",
        "  mat = np.arange(1,17).reshape(4,4)\n",
        "\n",
        "  # “Marque valores pares.”  \n",
        "  mask = (mat % 2 == 0)\n",
        "\n",
        "  # “Filtre pares.”  \n",
        "  print(mat[mask])\n",
        "\n",
        "  # “Selecione diagonal fancy.”  \n",
        "  idx = [0,2]\n",
        "  print(mat[idx, idx])\n",
        "\n",
        "  # “Selecione posições (1,2) e (3,0).”  \n",
        "  print(mat[[1,3],[2,0]])\n",
        "  ```\n",
        "\n",
        "  **2) Tabela de Estados Intermediários:**\n",
        "\n",
        "  ```markdown\n",
        "  | Passo | Expressão           | Saída             | O que faz?                   |\n",
        "  |:-----:|:--------------------|:------------------|:-----------------------------|\n",
        "  | 1     | `mat[mask]`         | `[2,4,…,16]`      | Vetor de pares               |\n",
        "  | 2     | `mat[idx, idx]`     | `[1,11]`          | Diagonal fancy               |\n",
        "  | 3     | `mat[[1,3],[2,0]]`  | `[6,13]`          | Seleção arbitrária           |\n",
        "  | 4     | –                   | imprime tudo      | Saída final                  |\n",
        "  ```\n",
        "\n",
        "  **3) Diagrama Mental (A Analogia Central):**  \n",
        "  Máscara é peneira que deixa passar só peças pares; fancy indexing é lista de coordenadas exatas.\n"
      ]
    },
    {
      "cell_type": "markdown",
      "metadata": {
        "id": "GLy9zmq1lNKx"
      },
      "source": [
        "#### **Nível DEUS (1/3): Seleção com `np.take`**\n"
      ]
    },
    {
      "cell_type": "code",
      "execution_count": null,
      "metadata": {
        "id": "jYFi9hN2lNKx"
      },
      "outputs": [],
      "source": [
        "import numpy as np\n",
        "arr = np.arange(20)\n",
        "sel = np.take(arr, [2,5,7,9])\n",
        "print(sel)\n"
      ]
    },
    {
      "cell_type": "code",
      "execution_count": 42,
      "metadata": {
        "colab": {
          "base_uri": "https://localhost:8080/"
        },
        "id": "Uk6pwstPlNKx",
        "outputId": "821f7f54-ae2d-4c10-d738-28244019e74f"
      },
      "outputs": [
        {
          "output_type": "stream",
          "name": "stdout",
          "text": [
            "[2 5 7 9]\n"
          ]
        }
      ],
      "source": [
        "# Pratique seu código aqui!\n",
        "\n",
        "import numpy as np\n",
        "arr = np.arange(20)\n",
        "sel = np.take(arr, [2,5,7,9])\n",
        "print(sel)\n",
        "\n"
      ]
    },
    {
      "cell_type": "markdown",
      "metadata": {
        "id": "zQJ9aJCqlNKx"
      },
      "source": [
        "* **O que o código faz:**  \n",
        "\n",
        "  **1) Explicação Linha a Linha (Diálogo com o Código):**  \n",
        "  ```python\n",
        "  # “Crie array 0–19.”  \n",
        "  arr = np.arange(20)\n",
        "\n",
        "  # “Pegue itens nos índices [2,5,7,9].”  \n",
        "  sel = np.take(arr, [2,5,7,9])\n",
        "\n",
        "  # “Mostre seleção.”  \n",
        "  print(sel)\n",
        "  ```\n",
        "\n",
        "  **2) Tabela de Estados Intermediários:**\n",
        "\n",
        "  ```markdown\n",
        "  | Passo | Expressão              | Saída       | O que faz?                |\n",
        "  |:-----:|:-----------------------|:-----------|:--------------------------|\n",
        "  | 1     | `arr`                  | `[0…19]`   | Array original            |\n",
        "  | 2     | `np.take(arr, [...])`  | `[2,5,7,9]`| Seleção por lista         |\n",
        "  | 3     | –                      | imprime     | Saída final               |\n",
        "  ```\n",
        "\n",
        "  **3) Diagrama Mental (A Analogia Central):**  \n",
        "  É como seguir uma lista de compras numeradas num corredor de números.\n"
      ]
    },
    {
      "cell_type": "markdown",
      "metadata": {
        "id": "wpOE7VfblNKx"
      },
      "source": [
        "#### **Nível DEUS (2/3): Ellipsis e `np.newaxis`**\n"
      ]
    },
    {
      "cell_type": "code",
      "execution_count": null,
      "metadata": {
        "id": "kjfKxSQclNKx"
      },
      "outputs": [],
      "source": [
        "import numpy as np\n",
        "A = np.arange(8).reshape(2,2,2)\n",
        "print(A[...,1])\n",
        "B = A[:, np.newaxis, :]\n",
        "print(B.shape)\n"
      ]
    },
    {
      "cell_type": "code",
      "execution_count": 50,
      "metadata": {
        "colab": {
          "base_uri": "https://localhost:8080/"
        },
        "id": "1jtTVrWklNKy",
        "outputId": "8d9528c1-a9a2-4ba8-c1e7-b1bf7c741b24"
      },
      "outputs": [
        {
          "output_type": "stream",
          "name": "stdout",
          "text": [
            "[[[0 1]\n",
            "  [2 3]]\n",
            "\n",
            " [[4 5]\n",
            "  [6 7]]]\n",
            "\n",
            "\n",
            "[[1 3]\n",
            " [5 7]]\n",
            "\n",
            "\n",
            "(2, 1, 2, 2)\n"
          ]
        }
      ],
      "source": [
        "# Pratique seu código aqui!\n",
        "\n",
        "import numpy as np\n",
        "\n",
        "a = np.arange(8).reshape(2,2,2)\n",
        "\n",
        "print(a)\n",
        "print(\"\\n\")\n",
        "\n",
        "print(a[...,1])\n",
        "\n",
        "b = a[:, np.newaxis, :]\n",
        "\n",
        "print(\"\\n\")\n",
        "print(b.shape)\n"
      ]
    },
    {
      "cell_type": "markdown",
      "metadata": {
        "id": "0u2nt3RLlNKy"
      },
      "source": [
        "* **O que o código faz:**  \n",
        "\n",
        "  **1) Explicação Linha a Linha (Diálogo com o Código):**  \n",
        "  ```python\n",
        "  # “Crie tensor 2×2×2.”  \n",
        "  A = np.arange(8).reshape(2,2,2)\n",
        "\n",
        "  # “Pegue índice 1 em última dimensão.”  \n",
        "  print(A[...,1])\n",
        "\n",
        "  # “Insira dimensão de batch.”  \n",
        "  B = A[:, np.newaxis, :]\n",
        "  print(B.shape)\n",
        "  ```\n",
        "\n",
        "  **2) Tabela de Estados Intermediários:**\n",
        "\n",
        "  ```markdown\n",
        "  | Passo | Expressão           | Saída        | O que faz?                          |\n",
        "  |:-----:|:--------------------|:-------------|:------------------------------------|\n",
        "  | 1     | `A[...,1]`          | 2×2          | Fatiamento em última dimensão       |\n",
        "  | 2     | `A[:,np.newaxis,:]` | (2,1,2,2)    | Insere dimensão extra               |\n",
        "  | 3     | –                   | imprime      | Saída final                         |\n",
        "  ```\n",
        "\n",
        "  **3) Diagrama Mental (A Analogia Central):**  \n",
        "  Ellipsis “…” é “pegue tudo antes”; `newaxis` é “abra mais espaço” para batch.\n"
      ]
    },
    {
      "cell_type": "markdown",
      "metadata": {
        "id": "Tok7jrCQlNKy"
      },
      "source": [
        "#### **Nível DEUS (3/3): Combinação Avançada**\n"
      ]
    },
    {
      "cell_type": "code",
      "execution_count": null,
      "metadata": {
        "id": "ks8vCyvflNKy"
      },
      "outputs": [],
      "source": [
        "import numpy as np\n",
        "data = np.arange(24).reshape(4,6)\n",
        "mask = (data % 3 == 0)\n",
        "idx = np.where(mask)\n",
        "result = data[idx].reshape(2,2,1)\n",
        "print(result)\n"
      ]
    },
    {
      "cell_type": "code",
      "execution_count": 57,
      "metadata": {
        "colab": {
          "base_uri": "https://localhost:8080/"
        },
        "id": "CPLItUeZlNKy",
        "outputId": "e25d8301-9455-44ca-c535-0646662dc6be"
      },
      "outputs": [
        {
          "output_type": "stream",
          "name": "stdout",
          "text": [
            "[[ 0  1  2  3  4  5]\n",
            " [ 6  7  8  9 10 11]\n",
            " [12 13 14 15 16 17]\n",
            " [18 19 20 21 22 23]]\n",
            "\n",
            "\n",
            "[[ True False False  True False False]\n",
            " [ True False False  True False False]\n",
            " [ True False False  True False False]\n",
            " [ True False False  True False False]]\n",
            "\n",
            "\n",
            "(array([0, 0, 1, 1, 2, 2, 3, 3]), array([0, 3, 0, 3, 0, 3, 0, 3]))\n",
            "\n",
            "\n",
            "[[[ 0  3]\n",
            "  [ 6  9]]\n",
            "\n",
            " [[12 15]\n",
            "  [18 21]]]\n"
          ]
        }
      ],
      "source": [
        "# Pratique seu código aqui!\n",
        "\n",
        "import numpy as np\n",
        "data = np.arange(24).reshape(4,6)\n",
        "mask = (data % 3 == 0)\n",
        "\n",
        "print(data)\n",
        "print(\"\\n\")\n",
        "print(mask)\n",
        "print(\"\\n\")\n",
        "\n",
        "idx = np.where(mask)\n",
        "print(idx)\n",
        "print(\"\\n\")\n",
        "\n",
        "result = data[idx].reshape(2,2,2)\n",
        "print(result)"
      ]
    },
    {
      "cell_type": "markdown",
      "metadata": {
        "id": "RxChrvyzlNKy"
      },
      "source": [
        "* **O que o código faz:**  \n",
        "\n",
        "  **1) Explicação Linha a Linha (Diálogo com o Código):**  \n",
        "  ```python\n",
        "  # “Crie 4×6.”  \n",
        "  data = np.arange(24).reshape(4,6)\n",
        "\n",
        "  # “Marque múltiplos de 3.”  \n",
        "  mask = (data % 3 == 0)\n",
        "\n",
        "  # “Encontre índices.”  \n",
        "  idx = np.where(mask)\n",
        "\n",
        "  # “Selecione e reshape 2×2×1.”  \n",
        "  result = data[idx].reshape(2,2,2)\n",
        "\n",
        "  # “Mostre resultado.”  \n",
        "  print(result)\n",
        "  ```\n",
        "\n",
        "  **2) Tabela de Estados Intermediários:**\n",
        "\n",
        "  ```markdown\n",
        "  | Passo | Expressão      | Saída      | O que faz?                     |\n",
        "  |:-----:|:---------------|:-----------|:-------------------------------|\n",
        "  | 1     | `mask`         | Booleano   | True para múltiplos de 3       |\n",
        "  | 2     | `idx`          | coords     | Índices dos múltiplos          |\n",
        "  | 3     | `result`       | 2×2×2      | Tensor recriado                |\n",
        "  | 4     | –              | imprime    | Saída final                    |\n",
        "  ```\n",
        "\n",
        "  **3) Diagrama Mental (A Analogia Central):**  \n",
        "  É como mapear quadrados vermelhos num tabuleiro e remontar mini-tabuleiros para análise.\n"
      ]
    },
    {
      "cell_type": "markdown",
      "metadata": {
        "id": "CF2yUktFlNKy"
      },
      "source": [
        "### 3. 🕸️ Profundezas e Conexões\n",
        "\n",
        "<br>\n",
        "\n",
        "Indexação e fatiamento alimentam **pandas**, **PyTorch** e **OpenCV**, tornando possível pipelines escaláveis e interativas.\n",
        "\n",
        "<br>\n",
        "\n",
        "---\n",
        "<br>\n"
      ]
    },
    {
      "cell_type": "markdown",
      "metadata": {
        "id": "VrQtYm64lNKz"
      },
      "source": [
        "### 4. 🚀 Ação e Verificação\n",
        "\n",
        "<br>\n",
        "\n",
        "#### **🤔 Desafio Prático**\n",
        "1. Dado `arr = np.arange(25).reshape(5,5)`, extraia a terceira coluna inteira.  \n",
        "2. Filtre `arr` por múltiplos de 4.  \n",
        "3. Use fancy indexing para pegar (0,4), (2,2) e (4,0).  \n",
        "4. Subarray linhas 1–3, colunas 2–4.  \n",
        "5. Máscara + reshape para criar tensor 2×2×1 de pares.\n",
        "\n",
        "<br>\n",
        "\n",
        "#### **❓ Pergunta de Verificação**\n",
        "Como *view* vs *copy* afeta memória e mutabilidade ao fatiar arrays?\n",
        "\n",
        "<br>\n",
        "\n",
        "---\n",
        "<br>\n"
      ]
    }
  ]
}