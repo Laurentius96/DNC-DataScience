{
  "nbformat": 4,
  "nbformat_minor": 0,
  "metadata": {
    "colab": {
      "provenance": []
    },
    "kernelspec": {
      "name": "python3",
      "display_name": "Python 3"
    }
  },
  "cells": [
    {
      "cell_type": "markdown",
      "metadata": {
        "id": "X9pbtDaInJZt"
      },
      "source": [
        "## 🎓 **Aula sobre: Visualização de Dados com Matplotlib e Pandas**\n",
        "\n",
        "<br>\n",
        "\n",
        "### 🧭 Sumário da Aula\n",
        "\n",
        "| # | Sub-tópico                        | Tempo Estimado | Complexidade |\n",
        "|---|-----------------------------------|----------------|--------------|\n",
        "| 1 | Ficha de Revisão Rápida           | ~1 min         | ⭐           |\n",
        "| 2 | Mergulho Profundo                 | ~15 min        | ⭐⭐⭐⭐       |\n",
        "| 3 | Profundezas e Conexões            | ~3 min         | ⭐⭐         |\n",
        "| 4 | 🚀 Ação e Verificação              | ~5 min         | ⭐⭐         |\n",
        "| 5 | 🌊 Mergulhos Adicionais Opcionais  | Opcional      | ⭐⭐⭐⭐      |\n",
        "\n",
        "<br>\n",
        "\n",
        "---\n",
        "<br>\n"
      ]
    },
    {
      "cell_type": "markdown",
      "metadata": {
        "id": "qatkgoG7nJZu"
      },
      "source": [
        "### 1. 🧠 Ficha de Revisão Rápida | (O Essencial)\n",
        "\n",
        "<br>\n",
        "\n",
        "> - **`import matplotlib.pyplot as plt`**: traz API de plotagem.  \n",
        "> - **`df.plot()`** / **`df.plot(kind='bar')`**: métodos de DataFrame para plots rápidos.  \n",
        "> - **`plt.figure(figsize=(w,h))`**: ajusta tamanho da figura.  \n",
        "> - **`plt.title(), plt.xlabel(), plt.ylabel()`**: rótulo de título e eixos.  \n",
        "> - **`plt.legend(), plt.grid()`**: legenda e grade no gráfico.  \n",
        "> - **OOP API:** `fig, ax = plt.subplots()` e `ax.plot()` / `ax.bar()`.\n",
        "\n",
        "<br>\n"
      ]
    },
    {
      "cell_type": "markdown",
      "metadata": {
        "id": "UmXn16wOnJZu"
      },
      "source": [
        "### 2. 🔬 Mergulho Profundo | (Os Detalhes)\n",
        "\n",
        "<br>\n",
        "\n",
        "#### **🎯 O Conceito Central**  \n",
        "O Pandas expõe métodos `.plot()` que internamente chamam Matplotlib para gerar figuras a partir de registros tabulares. Cada chamada a `df.plot()` cria uma `Figure` e um ou mais `Axes`, desenhando curvas, barras ou histogramas conforme o `kind`. Ajustes como `title`, `xlabel` e `ylabel` atuam sobre o `Axes`. A OOP API oferece controle granular: você obtém objetos `Figure` e `Axes` e chama métodos `ax.plot()`, `ax.bar()`, `ax.set_title()`, etc., permitindo compor vários subplots e estilos.\n",
        "\n",
        "<br>\n",
        "\n",
        "#### **🔗 Analogia de Data Science**  \n",
        "Pense no DataFrame como uma folha de cálculo e no Matplotlib como o gráfico embutido do Excel.  \n",
        "- `df.plot(kind='bar')` é um clique rápido para gerar um gráfico.  \n",
        "- A OOP API é como entrar no modo avançado e ajustar cada elemento do gráfico (cores, fontes, legendas) manualmente.\n",
        "\n",
        "<br>\n"
      ]
    },
    {
      "cell_type": "markdown",
      "metadata": {
        "id": "ftJBJOqCnJZv"
      },
      "source": [
        "### **💻 Exemplos de Mercado (Abrangentes)**\n"
      ]
    },
    {
      "cell_type": "markdown",
      "metadata": {
        "id": "APW2BX-XnJZv"
      },
      "source": [
        "#### **Nível Simples: Plotagem Direta de um DataFrame**\n"
      ]
    },
    {
      "cell_type": "code",
      "execution_count": null,
      "metadata": {
        "id": "F_y_9A6jnJZv"
      },
      "outputs": [],
      "source": [
        "import pandas as pd\n",
        "import seaborn as sns\n",
        "import matplotlib.pyplot as plt\n",
        "\n",
        "tips = sns.load_dataset('tips')\n",
        "mean_tips = tips.groupby('day')['tip'].mean()\n",
        "mean_tips.plot(kind='bar')\n",
        "plt.title('Média de Gorjeta por Dia')\n",
        "plt.xlabel('Dia da Semana')\n",
        "plt.ylabel('Valor Médio da Gorjeta')\n",
        "plt.show()\n"
      ]
    },
    {
      "cell_type": "code",
      "execution_count": 5,
      "metadata": {
        "colab": {
          "base_uri": "https://localhost:8080/",
          "height": 296
        },
        "id": "4NpFnmKdnJZw",
        "outputId": "543e34b1-a4a5-4e6b-907e-5eedb380f8bc"
      },
      "outputs": [
        {
          "output_type": "stream",
          "name": "stderr",
          "text": [
            "/tmp/ipython-input-5-1148290726.py:9: FutureWarning: The default of observed=False is deprecated and will be changed to True in a future version of pandas. Pass observed=False to retain current behavior or observed=True to adopt the future default and silence this warning.\n",
            "  mean_tips = tips.groupby(\"day\")[\"tip\"].mean()\n"
          ]
        },
        {
          "output_type": "execute_result",
          "data": {
            "text/plain": [
              "day\n",
              "Thur    2.771452\n",
              "Fri     2.734737\n",
              "Sat     2.993103\n",
              "Sun     3.255132\n",
              "Name: tip, dtype: float64"
            ],
            "text/html": [
              "<div>\n",
              "<style scoped>\n",
              "    .dataframe tbody tr th:only-of-type {\n",
              "        vertical-align: middle;\n",
              "    }\n",
              "\n",
              "    .dataframe tbody tr th {\n",
              "        vertical-align: top;\n",
              "    }\n",
              "\n",
              "    .dataframe thead th {\n",
              "        text-align: right;\n",
              "    }\n",
              "</style>\n",
              "<table border=\"1\" class=\"dataframe\">\n",
              "  <thead>\n",
              "    <tr style=\"text-align: right;\">\n",
              "      <th></th>\n",
              "      <th>tip</th>\n",
              "    </tr>\n",
              "    <tr>\n",
              "      <th>day</th>\n",
              "      <th></th>\n",
              "    </tr>\n",
              "  </thead>\n",
              "  <tbody>\n",
              "    <tr>\n",
              "      <th>Thur</th>\n",
              "      <td>2.771452</td>\n",
              "    </tr>\n",
              "    <tr>\n",
              "      <th>Fri</th>\n",
              "      <td>2.734737</td>\n",
              "    </tr>\n",
              "    <tr>\n",
              "      <th>Sat</th>\n",
              "      <td>2.993103</td>\n",
              "    </tr>\n",
              "    <tr>\n",
              "      <th>Sun</th>\n",
              "      <td>3.255132</td>\n",
              "    </tr>\n",
              "  </tbody>\n",
              "</table>\n",
              "</div><br><label><b>dtype:</b> float64</label>"
            ]
          },
          "metadata": {},
          "execution_count": 5
        }
      ],
      "source": [
        "# Pratique seu código aqui!\n",
        "\n",
        "import pandas as pd\n",
        "import seaborn as sns\n",
        "import matplotlib.pyplot as plt\n",
        "\n",
        "tips = sns.load_dataset(\"tips\")\n",
        "\n",
        "mean_tips = tips.groupby(\"day\")[\"tip\"].mean()\n",
        "mean_tips"
      ]
    },
    {
      "cell_type": "code",
      "source": [
        "mean_tips.plot(kind=\"bar\")\n",
        "plt.title(\"Média de Gorjeta por Dia\")\n",
        "plt.xlabel(\"Dia da Semana\")\n",
        "plt.ylabel(\"Valor Médio da Gorjeta\")\n",
        "plt.show()"
      ],
      "metadata": {
        "colab": {
          "base_uri": "https://localhost:8080/",
          "height": 490
        },
        "id": "1sMdinp4n8r9",
        "outputId": "1773c492-9524-4855-9cf4-5a3a1873b382"
      },
      "execution_count": 7,
      "outputs": [
        {
          "output_type": "display_data",
          "data": {
            "text/plain": [
              "<Figure size 640x480 with 1 Axes>"
            ],
            "image/png": "[encoded data removed]"
          },
          "metadata": {}
        }
      ]
    },
    {
      "cell_type": "markdown",
      "metadata": {
        "id": "xFGoaxoNnJZw"
      },
      "source": [
        "* **O que o código faz:**  \n",
        "\n",
        "  **1) Explicação Linha a Linha (Diálogo com o Código):**  \n",
        "  ```python\n",
        "  # “Importe pandas, seaborn e pyplot.”  \n",
        "  import pandas as pd  \n",
        "  import seaborn as sns  \n",
        "  import matplotlib.pyplot as plt  \n",
        "\n",
        "  # “Carregue o dataset de gorjetas.”  \n",
        "  tips = sns.load_dataset('tips')  \n",
        "\n",
        "  # “Calcule a média de tip por dia.”  \n",
        "  mean_tips = tips.groupby('day')['tip'].mean()  \n",
        "\n",
        "  # “Desenhe um gráfico de barras dessa média.”  \n",
        "  mean_tips.plot(kind='bar')  \n",
        "\n",
        "  # “Adicione título e rótulos.”  \n",
        "  plt.title('Média de Gorjeta por Dia')  \n",
        "  plt.xlabel('Dia da Semana')  \n",
        "  plt.ylabel('Valor Médio da Gorjeta')  \n",
        "\n",
        "  # “Mostre o gráfico.”  \n",
        "  plt.show()  \n",
        "  ```\n",
        "\n",
        "  **2) Tabela de Estados Intermediários:**\n",
        "\n",
        "  ```markdown\n",
        "  | Passo        | Expressão                   | Saída                          | O que faz?                   |\n",
        "  |:------------:|:----------------------------|:-------------------------------|:-----------------------------|\n",
        "  | 1            | `mean_tips`                 | Série com média de tip         | Agrega gorjetas              |\n",
        "  | 2            | `mean_tips.plot()`          | `Axes` de barras               | Cria gráfico de barras       |\n",
        "  | 3            | –                           | Janela de plot exibida         | Exibe figura                 |\n",
        "  ```\n",
        "\n",
        "  **3) Diagrama Mental (A Analogia Central):**  \n",
        "  É como ordenar seus dados por dia e dizer “Mostre um histograma de média de gorjetas por dia” — o Pandas monta o gráfico para você.\n",
        "\n",
        "* **Cenário de Mercado:**  \n",
        "  - **O que são “gorjetas”?** *Feature* financeira de restaurantes para analisar sazonalidade.  \n",
        "  - **Por que plotar?** Em BI de food service, visualizar médias por dia ajuda equipes a ajustar pessoal e promoções.\n",
        "\n",
        "* **Boas Práticas:**  \n",
        "  - **Afirmação:** “Chame `.plot()` diretamente em `Series` para visualização rápida.”  \n",
        "    - **Porquê:** Evita instanciar `Figure` manualmente quando não precisa de subplots.  \n",
        "    - **Analogia:** É como usar um atalho de teclado em vez de menu completo no Excel.\n"
      ]
    },
    {
      "cell_type": "markdown",
      "metadata": {
        "id": "0w4k1Fn9nJZw"
      },
      "source": [
        "#### **Nível Intermediário: Personalização via Matplotlib após `df.plot`**\n"
      ]
    },
    {
      "cell_type": "code",
      "execution_count": null,
      "metadata": {
        "id": "LfGtliLmnJZx"
      },
      "outputs": [],
      "source": [
        "import pandas as pd\n",
        "import seaborn as sns\n",
        "import matplotlib.pyplot as plt\n",
        "\n",
        "tips = sns.load_dataset('tips')\n",
        "pivot = tips.pivot_table(index='day', columns='time', values='total_bill', aggfunc='mean')\n",
        "\n",
        "ax = pivot.plot(kind='bar', figsize=(8,4))\n",
        "ax.set_title('Conta Média por Dia e Turno')\n",
        "ax.set_xlabel('Dia')\n",
        "ax.set_ylabel('Valor Médio da Conta')\n",
        "ax.legend(title='Turno')\n",
        "ax.grid(axis='y', linestyle='--', alpha=0.7)\n",
        "plt.tight_layout()\n",
        "plt.show()\n"
      ]
    },
    {
      "cell_type": "code",
      "execution_count": 10,
      "metadata": {
        "colab": {
          "base_uri": "https://localhost:8080/",
          "height": 241
        },
        "id": "tol5lvUmnJZx",
        "outputId": "4438f1b9-f2ae-4ab6-c421-9709608e2cbb"
      },
      "outputs": [
        {
          "output_type": "stream",
          "name": "stderr",
          "text": [
            "/tmp/ipython-input-10-506505863.py:7: FutureWarning: The default value of observed=False is deprecated and will change to observed=True in a future version of pandas. Specify observed=False to silence this warning and retain the current behavior\n",
            "  pivot = tips.pivot_table(index='day', columns='time', values='total_bill', aggfunc='mean')\n"
          ]
        },
        {
          "output_type": "execute_result",
          "data": {
            "text/plain": [
              "time      Lunch     Dinner\n",
              "day                       \n",
              "Thur  17.664754  18.780000\n",
              "Fri   12.845714  19.663333\n",
              "Sat         NaN  20.441379\n",
              "Sun         NaN  21.410000"
            ],
            "text/html": [
              "\n",
              "  <div id=\"df-49099dbb-3616-4769-84d2-882297d03621\" class=\"colab-df-container\">\n",
              "    <div>\n",
              "<style scoped>\n",
              "    .dataframe tbody tr th:only-of-type {\n",
              "        vertical-align: middle;\n",
              "    }\n",
              "\n",
              "    .dataframe tbody tr th {\n",
              "        vertical-align: top;\n",
              "    }\n",
              "\n",
              "    .dataframe thead th {\n",
              "        text-align: right;\n",
              "    }\n",
              "</style>\n",
              "<table border=\"1\" class=\"dataframe\">\n",
              "  <thead>\n",
              "    <tr style=\"text-align: right;\">\n",
              "      <th>time</th>\n",
              "      <th>Lunch</th>\n",
              "      <th>Dinner</th>\n",
              "    </tr>\n",
              "    <tr>\n",
              "      <th>day</th>\n",
              "      <th></th>\n",
              "      <th></th>\n",
              "    </tr>\n",
              "  </thead>\n",
              "  <tbody>\n",
              "    <tr>\n",
              "      <th>Thur</th>\n",
              "      <td>17.664754</td>\n",
              "      <td>18.780000</td>\n",
              "    </tr>\n",
              "    <tr>\n",
              "      <th>Fri</th>\n",
              "      <td>12.845714</td>\n",
              "      <td>19.663333</td>\n",
              "    </tr>\n",
              "    <tr>\n",
              "      <th>Sat</th>\n",
              "      <td>NaN</td>\n",
              "      <td>20.441379</td>\n",
              "    </tr>\n",
              "    <tr>\n",
              "      <th>Sun</th>\n",
              "      <td>NaN</td>\n",
              "      <td>21.410000</td>\n",
              "    </tr>\n",
              "  </tbody>\n",
              "</table>\n",
              "</div>\n",
              "    <div class=\"colab-df-buttons\">\n",
              "\n",
              "  <div class=\"colab-df-container\">\n",
              "    <button class=\"colab-df-convert\" onclick=\"convertToInteractive('df-49099dbb-3616-4769-84d2-882297d03621')\"\n",
              "            title=\"Convert this dataframe to an interactive table.\"\n",
              "            style=\"display:none;\">\n",
              "\n",
              "  <svg xmlns=\"http://www.w3.org/2000/svg\" height=\"24px\" viewBox=\"0 -960 960 960\">\n",
              "    <path d=\"M120-120v-720h720v720H120Zm60-500h600v-160H180v160Zm220 220h160v-160H400v160Zm0 220h160v-160H400v160ZM180-400h160v-160H180v160Zm440 0h160v-160H620v160ZM180-180h160v-160H180v160Zm440 0h160v-160H620v160Z\"/>\n",
              "  </svg>\n",
              "    </button>\n",
              "\n",
              "  <style>\n",
              "    .colab-df-container {\n",
              "      display:flex;\n",
              "      gap: 12px;\n",
              "    }\n",
              "\n",
              "    .colab-df-convert {\n",
              "      background-color: #E8F0FE;\n",
              "      border: none;\n",
              "      border-radius: 50%;\n",
              "      cursor: pointer;\n",
              "      display: none;\n",
              "      fill: #1967D2;\n",
              "      height: 32px;\n",
              "      padding: 0 0 0 0;\n",
              "      width: 32px;\n",
              "    }\n",
              "\n",
              "    .colab-df-convert:hover {\n",
              "      background-color: #E2EBFA;\n",
              "      box-shadow: 0px 1px 2px rgba(60, 64, 67, 0.3), 0px 1px 3px 1px rgba(60, 64, 67, 0.15);\n",
              "      fill: #174EA6;\n",
              "    }\n",
              "\n",
              "    .colab-df-buttons div {\n",
              "      margin-bottom: 4px;\n",
              "    }\n",
              "\n",
              "    [theme=dark] .colab-df-convert {\n",
              "      background-color: #3B4455;\n",
              "      fill: #D2E3FC;\n",
              "    }\n",
              "\n",
              "    [theme=dark] .colab-df-convert:hover {\n",
              "      background-color: #434B5C;\n",
              "      box-shadow: 0px 1px 3px 1px rgba(0, 0, 0, 0.15);\n",
              "      filter: drop-shadow(0px 1px 2px rgba(0, 0, 0, 0.3));\n",
              "      fill: #FFFFFF;\n",
              "    }\n",
              "  </style>\n",
              "\n",
              "    <script>\n",
              "      const buttonEl =\n",
              "        document.querySelector('#df-49099dbb-3616-4769-84d2-882297d03621 button.colab-df-convert');\n",
              "      buttonEl.style.display =\n",
              "        google.colab.kernel.accessAllowed ? 'block' : 'none';\n",
              "\n",
              "      async function convertToInteractive(key) {\n",
              "        const element = document.querySelector('#df-49099dbb-3616-4769-84d2-882297d03621');\n",
              "        const dataTable =\n",
              "          await google.colab.kernel.invokeFunction('convertToInteractive',\n",
              "                                                    [key], {});\n",
              "        if (!dataTable) return;\n",
              "\n",
              "        const docLinkHtml = 'Like what you see? Visit the ' +\n",
              "          '<a target=\"_blank\" href=https://colab.research.google.com/notebooks/data_table.ipynb>data table notebook</a>'\n",
              "          + ' to learn more about interactive tables.';\n",
              "        element.innerHTML = '';\n",
              "        dataTable['output_type'] = 'display_data';\n",
              "        await google.colab.output.renderOutput(dataTable, element);\n",
              "        const docLink = document.createElement('div');\n",
              "        docLink.innerHTML = docLinkHtml;\n",
              "        element.appendChild(docLink);\n",
              "      }\n",
              "    </script>\n",
              "  </div>\n",
              "\n",
              "\n",
              "    <div id=\"df-46ddf5e6-563f-477b-b80b-fb04255cde8a\">\n",
              "      <button class=\"colab-df-quickchart\" onclick=\"quickchart('df-46ddf5e6-563f-477b-b80b-fb04255cde8a')\"\n",
              "                title=\"Suggest charts\"\n",
              "                style=\"display:none;\">\n",
              "\n",
              "<svg xmlns=\"http://www.w3.org/2000/svg\" height=\"24px\"viewBox=\"0 0 24 24\"\n",
              "     width=\"24px\">\n",
              "    <g>\n",
              "        <path d=\"M19 3H5c-1.1 0-2 .9-2 2v14c0 1.1.9 2 2 2h14c1.1 0 2-.9 2-2V5c0-1.1-.9-2-2-2zM9 17H7v-7h2v7zm4 0h-2V7h2v10zm4 0h-2v-4h2v4z\"/>\n",
              "    </g>\n",
              "</svg>\n",
              "      </button>\n",
              "\n",
              "<style>\n",
              "  .colab-df-quickchart {\n",
              "      --bg-color: #E8F0FE;\n",
              "      --fill-color: #1967D2;\n",
              "      --hover-bg-color: #E2EBFA;\n",
              "      --hover-fill-color: #174EA6;\n",
              "      --disabled-fill-color: #AAA;\n",
              "      --disabled-bg-color: #DDD;\n",
              "  }\n",
              "\n",
              "  [theme=dark] .colab-df-quickchart {\n",
              "      --bg-color: #3B4455;\n",
              "      --fill-color: #D2E3FC;\n",
              "      --hover-bg-color: #434B5C;\n",
              "      --hover-fill-color: #FFFFFF;\n",
              "      --disabled-bg-color: #3B4455;\n",
              "      --disabled-fill-color: #666;\n",
              "  }\n",
              "\n",
              "  .colab-df-quickchart {\n",
              "    background-color: var(--bg-color);\n",
              "    border: none;\n",
              "    border-radius: 50%;\n",
              "    cursor: pointer;\n",
              "    display: none;\n",
              "    fill: var(--fill-color);\n",
              "    height: 32px;\n",
              "    padding: 0;\n",
              "    width: 32px;\n",
              "  }\n",
              "\n",
              "  .colab-df-quickchart:hover {\n",
              "    background-color: var(--hover-bg-color);\n",
              "    box-shadow: 0 1px 2px rgba(60, 64, 67, 0.3), 0 1px 3px 1px rgba(60, 64, 67, 0.15);\n",
              "    fill: var(--button-hover-fill-color);\n",
              "  }\n",
              "\n",
              "  .colab-df-quickchart-complete:disabled,\n",
              "  .colab-df-quickchart-complete:disabled:hover {\n",
              "    background-color: var(--disabled-bg-color);\n",
              "    fill: var(--disabled-fill-color);\n",
              "    box-shadow: none;\n",
              "  }\n",
              "\n",
              "  .colab-df-spinner {\n",
              "    border: 2px solid var(--fill-color);\n",
              "    border-color: transparent;\n",
              "    border-bottom-color: var(--fill-color);\n",
              "    animation:\n",
              "      spin 1s steps(1) infinite;\n",
              "  }\n",
              "\n",
              "  @keyframes spin {\n",
              "    0% {\n",
              "      border-color: transparent;\n",
              "      border-bottom-color: var(--fill-color);\n",
              "      border-left-color: var(--fill-color);\n",
              "    }\n",
              "    20% {\n",
              "      border-color: transparent;\n",
              "      border-left-color: var(--fill-color);\n",
              "      border-top-color: var(--fill-color);\n",
              "    }\n",
              "    30% {\n",
              "      border-color: transparent;\n",
              "      border-left-color: var(--fill-color);\n",
              "      border-top-color: var(--fill-color);\n",
              "      border-right-color: var(--fill-color);\n",
              "    }\n",
              "    40% {\n",
              "      border-color: transparent;\n",
              "      border-right-color: var(--fill-color);\n",
              "      border-top-color: var(--fill-color);\n",
              "    }\n",
              "    60% {\n",
              "      border-color: transparent;\n",
              "      border-right-color: var(--fill-color);\n",
              "    }\n",
              "    80% {\n",
              "      border-color: transparent;\n",
              "      border-right-color: var(--fill-color);\n",
              "      border-bottom-color: var(--fill-color);\n",
              "    }\n",
              "    90% {\n",
              "      border-color: transparent;\n",
              "      border-bottom-color: var(--fill-color);\n",
              "    }\n",
              "  }\n",
              "</style>\n",
              "\n",
              "      <script>\n",
              "        async function quickchart(key) {\n",
              "          const quickchartButtonEl =\n",
              "            document.querySelector('#' + key + ' button');\n",
              "          quickchartButtonEl.disabled = true;  // To prevent multiple clicks.\n",
              "          quickchartButtonEl.classList.add('colab-df-spinner');\n",
              "          try {\n",
              "            const charts = await google.colab.kernel.invokeFunction(\n",
              "                'suggestCharts', [key], {});\n",
              "          } catch (error) {\n",
              "            console.error('Error during call to suggestCharts:', error);\n",
              "          }\n",
              "          quickchartButtonEl.classList.remove('colab-df-spinner');\n",
              "          quickchartButtonEl.classList.add('colab-df-quickchart-complete');\n",
              "        }\n",
              "        (() => {\n",
              "          let quickchartButtonEl =\n",
              "            document.querySelector('#df-46ddf5e6-563f-477b-b80b-fb04255cde8a button');\n",
              "          quickchartButtonEl.style.display =\n",
              "            google.colab.kernel.accessAllowed ? 'block' : 'none';\n",
              "        })();\n",
              "      </script>\n",
              "    </div>\n",
              "\n",
              "  <div id=\"id_e724a0ef-3c39-408e-bd20-dbcd0b9ef27e\">\n",
              "    <style>\n",
              "      .colab-df-generate {\n",
              "        background-color: #E8F0FE;\n",
              "        border: none;\n",
              "        border-radius: 50%;\n",
              "        cursor: pointer;\n",
              "        display: none;\n",
              "        fill: #1967D2;\n",
              "        height: 32px;\n",
              "        padding: 0 0 0 0;\n",
              "        width: 32px;\n",
              "      }\n",
              "\n",
              "      .colab-df-generate:hover {\n",
              "        background-color: #E2EBFA;\n",
              "        box-shadow: 0px 1px 2px rgba(60, 64, 67, 0.3), 0px 1px 3px 1px rgba(60, 64, 67, 0.15);\n",
              "        fill: #174EA6;\n",
              "      }\n",
              "\n",
              "      [theme=dark] .colab-df-generate {\n",
              "        background-color: #3B4455;\n",
              "        fill: #D2E3FC;\n",
              "      }\n",
              "\n",
              "      [theme=dark] .colab-df-generate:hover {\n",
              "        background-color: #434B5C;\n",
              "        box-shadow: 0px 1px 3px 1px rgba(0, 0, 0, 0.15);\n",
              "        filter: drop-shadow(0px 1px 2px rgba(0, 0, 0, 0.3));\n",
              "        fill: #FFFFFF;\n",
              "      }\n",
              "    </style>\n",
              "    <button class=\"colab-df-generate\" onclick=\"generateWithVariable('pivot')\"\n",
              "            title=\"Generate code using this dataframe.\"\n",
              "            style=\"display:none;\">\n",
              "\n",
              "  <svg xmlns=\"http://www.w3.org/2000/svg\" height=\"24px\"viewBox=\"0 0 24 24\"\n",
              "       width=\"24px\">\n",
              "    <path d=\"M7,19H8.4L18.45,9,17,7.55,7,17.6ZM5,21V16.75L18.45,3.32a2,2,0,0,1,2.83,0l1.4,1.43a1.91,1.91,0,0,1,.58,1.4,1.91,1.91,0,0,1-.58,1.4L9.25,21ZM18.45,9,17,7.55Zm-12,3A5.31,5.31,0,0,0,4.9,8.1,5.31,5.31,0,0,0,1,6.5,5.31,5.31,0,0,0,4.9,4.9,5.31,5.31,0,0,0,6.5,1,5.31,5.31,0,0,0,8.1,4.9,5.31,5.31,0,0,0,12,6.5,5.46,5.46,0,0,0,6.5,12Z\"/>\n",
              "  </svg>\n",
              "    </button>\n",
              "    <script>\n",
              "      (() => {\n",
              "      const buttonEl =\n",
              "        document.querySelector('#id_e724a0ef-3c39-408e-bd20-dbcd0b9ef27e button.colab-df-generate');\n",
              "      buttonEl.style.display =\n",
              "        google.colab.kernel.accessAllowed ? 'block' : 'none';\n",
              "\n",
              "      buttonEl.onclick = () => {\n",
              "        google.colab.notebook.generateWithVariable('pivot');\n",
              "      }\n",
              "      })();\n",
              "    </script>\n",
              "  </div>\n",
              "\n",
              "    </div>\n",
              "  </div>\n"
            ],
            "application/vnd.google.colaboratory.intrinsic+json": {
              "type": "dataframe",
              "variable_name": "pivot",
              "summary": "{\n  \"name\": \"pivot\",\n  \"rows\": 4,\n  \"fields\": [\n    {\n      \"column\": \"day\",\n      \"properties\": {\n        \"dtype\": \"category\",\n        \"num_unique_values\": 4,\n        \"samples\": [\n          \"Fri\",\n          \"Sun\",\n          \"Thur\"\n        ],\n        \"semantic_type\": \"\",\n        \"description\": \"\"\n      }\n    },\n    {\n      \"column\": \"Lunch\",\n      \"properties\": {\n        \"dtype\": \"number\",\n        \"std\": 3.4075757303301963,\n        \"min\": 12.845714285714285,\n        \"max\": 17.664754098360653,\n        \"num_unique_values\": 2,\n        \"samples\": [\n          12.845714285714285,\n          17.664754098360653\n        ],\n        \"semantic_type\": \"\",\n        \"description\": \"\"\n      }\n    },\n    {\n      \"column\": \"Dinner\",\n      \"properties\": {\n        \"dtype\": \"number\",\n        \"std\": 1.1199622396103324,\n        \"min\": 18.78,\n        \"max\": 21.41,\n        \"num_unique_values\": 4,\n        \"samples\": [\n          19.663333333333334,\n          21.41\n        ],\n        \"semantic_type\": \"\",\n        \"description\": \"\"\n      }\n    }\n  ]\n}"
            }
          },
          "metadata": {},
          "execution_count": 10
        }
      ],
      "source": [
        "# Pratique seu código aqui!\n",
        "import pandas as pd\n",
        "import seaborn as sns\n",
        "import matplotlib.pyplot as plt\n",
        "\n",
        "tips = sns.load_dataset('tips')\n",
        "pivot = tips.pivot_table(index='day', columns='time', values='total_bill', aggfunc='mean')\n",
        "pivot"
      ]
    },
    {
      "cell_type": "code",
      "source": [
        "ax = pivot.plot(kind=\"bar\", figsize=(8,4))\n",
        "ax.set_title(\"Conta Média por Dia e Turno\")\n",
        "ax.set_xlabel(\"Dia\")\n",
        "ax.set_ylabel(\"Valor Médio da Conta\")\n",
        "ax.legend(title=\"Turno\")\n",
        "ax.grid(axis=\"y\", linestyle=\"--\", alpha=0.7)\n",
        "plt.tight_layout()\n",
        "plt.show()"
      ],
      "metadata": {
        "colab": {
          "base_uri": "https://localhost:8080/",
          "height": 407
        },
        "id": "FaN_sYIjpa37",
        "outputId": "b64f96cc-9c4d-4f6b-dd98-7e58716d480b"
      },
      "execution_count": 11,
      "outputs": [
        {
          "output_type": "display_data",
          "data": {
            "text/plain": [
              "<Figure size 800x400 with 1 Axes>"
            ],
            "image/png": "[encoded data removed]"
          },
          "metadata": {}
        }
      ]
    },
    {
      "cell_type": "markdown",
      "metadata": {
        "id": "Ykt04tctnJZx"
      },
      "source": [
        "* **O que o código faz:**  \n",
        "\n",
        "  **1) Explicação Linha a Linha (Diálogo com o Código):**  \n",
        "  ```python\n",
        "  # “Carregue dataset e importe pyplot.”  \n",
        "  import pandas as pd  \n",
        "  import seaborn as sns  \n",
        "  import matplotlib.pyplot as plt  \n",
        "\n",
        "  # “Crie pivot table conta média por dia×turno.”  \n",
        "  pivot = tips.pivot_table(index='day', columns='time', values='total_bill', aggfunc='mean')  \n",
        "\n",
        "  # “Plote barras com tamanho 8×4.”  \n",
        "  ax = pivot.plot(kind='bar', figsize=(8,4))  \n",
        "\n",
        "  # “Ajuste título, eixos e legenda.”  \n",
        "  ax.set_title('Conta Média por Dia e Turno')  \n",
        "  ax.set_xlabel('Dia')  \n",
        "  ax.set_ylabel('Valor Médio da Conta')  \n",
        "  ax.legend(title='Turno')  \n",
        "\n",
        "  # “Adicione grade horizontal e mostre.”  \n",
        "  ax.grid(axis='y', linestyle='--', alpha=0.7)  \n",
        "  plt.tight_layout()  \n",
        "  plt.show()  \n",
        "  ```\n",
        "\n",
        "  **2) Tabela de Estados Intermediários:**\n",
        "\n",
        "  ```markdown\n",
        "  | Passo | Expressão             | Descrição                              |\n",
        "  |:-----:|:----------------------|:----------------------------------------|\n",
        "  | 1     | `pivot.plot(...)`     | `Axes` com barras múltiplas             |\n",
        "  | 2     | `ax.set_*()`          | Título, eixos e legenda ajustados       |\n",
        "  | 3     | `ax.grid()`           | Grade horizontal no eixo Y              |\n",
        "  ```\n",
        "\n",
        "  **3) Diagrama Mental (A Analogia Central):**  \n",
        "  É como criar uma tabela cruzada e depois colorir cada categoria de turno com barras lado a lado, adicionando guias horizontais para facilitar leitura do valor.\n",
        "\n",
        "* **Cenário de Mercado:**  \n",
        "  - Em **gestão de restaurantes**, comparar faturamento médio de almoço vs jantar por dia para otimizar menus.\n",
        "\n",
        "* **Boas Práticas:**  \n",
        "  - **Afirmação:** “Use `figsize` e `tight_layout` para evitar cortes.”  \n",
        "    - **Porquê:** Garante que títulos e legendas não sejam cortados em relatórios.  \n",
        "    - **Analogia:** É como ajustar margens antes de imprimir um relatório.\n"
      ]
    },
    {
      "cell_type": "markdown",
      "metadata": {
        "id": "t572pYcVnJZx"
      },
      "source": [
        "#### **Nível Avançado: Subplots com Pandas e Matplotlib OOP**\n"
      ]
    },
    {
      "cell_type": "code",
      "execution_count": null,
      "metadata": {
        "id": "5AEPiKV8nJZx"
      },
      "outputs": [],
      "source": [
        "import pandas as pd\n",
        "import seaborn as sns\n",
        "import matplotlib.pyplot as plt\n",
        "\n",
        "tips = sns.load_dataset('tips')\n",
        "fig, axes = plt.subplots(1, 2, figsize=(10,4))\n",
        "\n",
        "# Dispersão\n",
        "axes[0].plot(tips['total_bill'], tips['tip'], 'o', color='teal')\n",
        "axes[0].set_title('Gorjeta vs Conta')\n",
        "axes[0].set_xlabel('Conta')\n",
        "axes[0].set_ylabel('Gorjeta')\n",
        "\n",
        "# Histograma\n",
        "tips['size'].value_counts().plot(kind='bar', ax=axes[1], color='coral')\n",
        "axes[1].set_title('Distribuição de Tamanho de Mesa')\n",
        "axes[1].set_xlabel('Tamanho')\n",
        "axes[1].set_ylabel('Frequência')\n",
        "\n",
        "fig.suptitle('Visualizações Combinadas')\n",
        "plt.tight_layout(rect=[0,0.03,1,0.95])\n",
        "plt.show()\n"
      ]
    },
    {
      "cell_type": "code",
      "execution_count": 12,
      "metadata": {
        "colab": {
          "base_uri": "https://localhost:8080/",
          "height": 401
        },
        "id": "h4J6VSGRnJZx",
        "outputId": "aebf3a72-30ee-473a-f4a2-ffd88e73d7b6"
      },
      "outputs": [
        {
          "output_type": "display_data",
          "data": {
            "text/plain": [
              "<Figure size 1000x400 with 2 Axes>"
            ],
            "image/png": "[encoded data removed]"
          },
          "metadata": {}
        }
      ],
      "source": [
        "# Pratique seu código aqui!\n",
        "import pandas as pd\n",
        "import seaborn as sns\n",
        "import matplotlib.pyplot as plt\n",
        "\n",
        "tips = sns.load_dataset('tips')\n",
        "fig, axes = plt.subplots(1, 2, figsize=(10,4))\n",
        "\n",
        "axes[0].plot(tips['total_bill'], tips['tip'], 'o', color='teal')\n",
        "axes[0].set_title('Gorjeta vs Conta')\n",
        "axes[0].set_xlabel('Conta')\n",
        "axes[0].set_ylabel('Gorjeta')\n",
        "\n",
        "tips['size'].value_counts().plot(kind='bar', ax=axes[1], color='coral')\n",
        "axes[1].set_title('Distribuição de Tamanho de Mesa')\n",
        "axes[1].set_xlabel('Tamanho')\n",
        "axes[1].set_ylabel('Frequência')\n",
        "\n",
        "fig.suptitle('Visualização Combinadas')\n",
        "plt.tight_layout(rect=[0,0.03,1,0.95])\n",
        "plt.show()"
      ]
    },
    {
      "cell_type": "markdown",
      "metadata": {
        "id": "B3lN-vbSnJZy"
      },
      "source": [
        "* **O que o código faz:**  \n",
        "\n",
        "  **1) Explicação Linha a Linha (Diálogo com o Código):**  \n",
        "  ```python\n",
        "  # “Crie subplots 1×2 em 10×4 polegadas.”  \n",
        "  fig, axes = plt.subplots(1,2,figsize=(10,4))  \n",
        "\n",
        "  # “No axes[0], plote dispersão total_bill vs tip.”  \n",
        "  axes[0].plot(tips['total_bill'], tips['tip'], 'o', color='teal')  \n",
        "  axes[0].set_title('Gorjeta vs Conta')  \n",
        "  axes[0].set_xlabel('Conta')  \n",
        "  axes[0].set_ylabel('Gorjeta')  \n",
        "\n",
        "  # “No axes[1], histograma de size via Pandas.”  \n",
        "  tips['size'].value_counts().plot(kind='bar', ax=axes[1], color='coral')  \n",
        "  axes[1].set_title('Distribuição de Tamanho de Mesa')  \n",
        "  axes[1].set_xlabel('Tamanho')  \n",
        "  axes[1].set_ylabel('Frequência')  \n",
        "\n",
        "  # “Título geral, ajuste e exiba.”  \n",
        "  fig.suptitle('Visualizações Combinadas')  \n",
        "  plt.tight_layout(rect=[0,0.03,1,0.95])  \n",
        "  plt.show()  \n",
        "  ```\n",
        "\n",
        "  **2) Tabela de Estados Intermediários:**\n",
        "\n",
        "  ```markdown\n",
        "  | Passo         | Expressão                                  | Descrição                          |\n",
        "  |:-------------:|:-------------------------------------------|:------------------------------------|\n",
        "  | 1             | `plt.subplots()`                           | `Figure` e lista de `Axes`          |\n",
        "  | 2             | `axes[0].plot()` / `tips['size'].plot()`   | Gráficos de dispersão e barras      |\n",
        "  | 3             | `fig.suptitle()` + `tight_layout()`        | Título geral e espaçamento          |\n",
        "  ```\n",
        "\n",
        "  **3) Diagrama Mental (A Analogia Central):**  \n",
        "  É como montar duas pinturas lado a lado: uma de dispersão e outra de barras, em uma moldura única com título comum.\n"
      ]
    },
    {
      "cell_type": "markdown",
      "metadata": {
        "id": "vJswrOMHnJZy"
      },
      "source": [
        "#### **Nível DEUS (1/3): Temas com Style Sheets e Contextos**\n"
      ]
    },
    {
      "cell_type": "code",
      "execution_count": null,
      "metadata": {
        "id": "HARK09r4nJZy"
      },
      "outputs": [],
      "source": [
        "import matplotlib.pyplot as plt\n",
        "\n",
        "with plt.style.context('ggplot'):\n",
        "    fig, ax = plt.subplots()\n",
        "    ax.plot([1,2,3,4], [4,3,2,1], marker='o')\n",
        "    ax.set_title('Estilo ggplot Em Contexto')\n",
        "    plt.show()\n"
      ]
    },
    {
      "cell_type": "code",
      "execution_count": 13,
      "metadata": {
        "colab": {
          "base_uri": "https://localhost:8080/",
          "height": 453
        },
        "id": "Kt2ZO35mnJZy",
        "outputId": "5e78919a-4d99-404c-a38a-761a56e243bc"
      },
      "outputs": [
        {
          "output_type": "display_data",
          "data": {
            "text/plain": [
              "<Figure size 640x480 with 1 Axes>"
            ],
            "image/png": "[encoded data removed]"
          },
          "metadata": {}
        }
      ],
      "source": [
        "# Pratique seu código aqui!\n",
        "import matplotlib.pyplot as plt\n",
        "\n",
        "with plt.style.context('ggplot'):\n",
        "  fig, ax = plt.subplots()\n",
        "  ax.plot([1,2,3,4], [4,3,2,1], marker='o')\n",
        "  ax.set_title('Estilo ggplot Em Contexto')\n",
        "  plt.show()\n",
        "\n",
        "\n"
      ]
    },
    {
      "cell_type": "markdown",
      "metadata": {
        "id": "LiJD3C9gnJZy"
      },
      "source": [
        "* **O que o código faz:**  \n",
        "\n",
        "  **1) Explicação Linha a Linha (Diálogo com o Código):**  \n",
        "  ```python\n",
        "  # “Importe pyplot.”  \n",
        "  import matplotlib.pyplot as plt  \n",
        "\n",
        "  # “Use estilo 'ggplot' apenas neste bloco.”  \n",
        "  with plt.style.context('ggplot'):  \n",
        "\n",
        "      # “Crie figura e plote dados invertidos.”  \n",
        "      fig, ax = plt.subplots()  \n",
        "      ax.plot([1,2,3,4], [4,3,2,1], marker='o')  \n",
        "      ax.set_title('Estilo ggplot Em Contexto')  \n",
        "\n",
        "      # “Mostre gráfico.”  \n",
        "      plt.show()  \n",
        "  ```\n",
        "\n",
        "  **2) Tabela de Estados Intermediários:**\n",
        "\n",
        "  ```markdown\n",
        "  | Passo                  | Expressão                     | Descrição                         |\n",
        "  |:----------------------:|:------------------------------|:-----------------------------------|\n",
        "  | 1                      | `style.context('ggplot')`     | Temporariamente muda o tema       |\n",
        "  | 2                      | `ax.plot()`                   | Linha desenhada com novo estilo   |\n",
        "  | 3                      | –                             | Exibição com estilo aplicado      |\n",
        "  ```\n",
        "\n",
        "  **3) Diagrama Mental (A Analogia Central):**  \n",
        "  É como trocar de filtro no Instagram só para uma foto específica, sem alterar todas as outras.\n"
      ]
    },
    {
      "cell_type": "markdown",
      "metadata": {
        "id": "q7jW1uX3nJZy"
      },
      "source": [
        "#### **Nível DEUS (2/3): Plot Interativo com mpld3**\n"
      ]
    },
    {
      "cell_type": "code",
      "execution_count": null,
      "metadata": {
        "id": "RlDWPyO4nJZy"
      },
      "outputs": [],
      "source": [
        "!pip install mpld3\n",
        "import pandas as pd\n",
        "import seaborn as sns\n",
        "import matplotlib.pyplot as plt\n",
        "import mpld3\n",
        "\n",
        "tips = sns.load_dataset('tips')\n",
        "fig, ax = plt.subplots()\n",
        "ax.scatter(tips['total_bill'], tips['tip'], c='purple')\n",
        "ax.set_title('Interativo com mpld3')\n",
        "mpld3.display()\n"
      ]
    },
    {
      "cell_type": "code",
      "execution_count": 17,
      "metadata": {
        "colab": {
          "base_uri": "https://localhost:8080/",
          "height": 710
        },
        "id": "aHKB62DVnJZz",
        "outputId": "92f62ec9-2d1c-4d60-b31d-aeca8d1c3b1e"
      },
      "outputs": [
        {
          "output_type": "stream",
          "name": "stderr",
          "text": [
            "/usr/local/lib/python3.11/dist-packages/mpld3/mplexporter/utils.py:300: MatplotlibDeprecationWarning: The converter attribute was deprecated in Matplotlib 3.10 and will be removed in 3.12. Use get_converter and set_converter methods instead.\n",
            "  isinstance(axis.converter, matplotlib.dates._SwitchableDateConverter)\n",
            "/usr/local/lib/python3.11/dist-packages/mpld3/mplexporter/utils.py:303: MatplotlibDeprecationWarning: The converter attribute was deprecated in Matplotlib 3.10 and will be removed in 3.12. Use get_converter and set_converter methods instead.\n",
            "  isinstance(axis.converter, matplotlib.dates.DateConverter)\n",
            "/usr/local/lib/python3.11/dist-packages/mpld3/mplexporter/utils.py:306: MatplotlibDeprecationWarning: The converter attribute was deprecated in Matplotlib 3.10 and will be removed in 3.12. Use get_converter and set_converter methods instead.\n",
            "  isinstance(axis.converter, matplotlib.dates.ConciseDateConverter)\n",
            "/usr/local/lib/python3.11/dist-packages/mpld3/mplexporter/utils.py:300: MatplotlibDeprecationWarning: The converter attribute was deprecated in Matplotlib 3.10 and will be removed in 3.12. Use get_converter and set_converter methods instead.\n",
            "  isinstance(axis.converter, matplotlib.dates._SwitchableDateConverter)\n",
            "/usr/local/lib/python3.11/dist-packages/mpld3/mplexporter/utils.py:303: MatplotlibDeprecationWarning: The converter attribute was deprecated in Matplotlib 3.10 and will be removed in 3.12. Use get_converter and set_converter methods instead.\n",
            "  isinstance(axis.converter, matplotlib.dates.DateConverter)\n",
            "/usr/local/lib/python3.11/dist-packages/mpld3/mplexporter/utils.py:306: MatplotlibDeprecationWarning: The converter attribute was deprecated in Matplotlib 3.10 and will be removed in 3.12. Use get_converter and set_converter methods instead.\n",
            "  isinstance(axis.converter, matplotlib.dates.ConciseDateConverter)\n"
          ]
        },
        {
          "output_type": "execute_result",
          "data": {
            "text/plain": [
              "<IPython.core.display.HTML object>"
            ],
            "text/html": [
              "\n",
              "\n",
              "<style>\n",
              "\n",
              "</style>\n",
              "\n",
              "<div id=\"fig_el3801400957311710886490686406\"></div>\n",
              "<script>\n",
              "function mpld3_load_lib(url, callback){\n",
              "  var s = document.createElement('script');\n",
              "  s.src = url;\n",
              "  s.async = true;\n",
              "  s.onreadystatechange = s.onload = callback;\n",
              "  s.onerror = function(){console.warn(\"failed to load library \" + url);};\n",
              "  document.getElementsByTagName(\"head\")[0].appendChild(s);\n",
              "}\n",
              "\n",
              "if(typeof(mpld3) !== \"undefined\" && mpld3._mpld3IsLoaded){\n",
              "   // already loaded: just create the figure\n",
              "   !function(mpld3){\n",
              "       \n",
              "       mpld3.draw_figure(\"fig_el3801400957311710886490686406\", {\"width\": 640.0, \"height\": 480.0, \"axes\": [{\"bbox\": [0.125, 0.10999999999999999, 0.775, 0.77], \"xlim\": [0.6829999999999998, 53.197], \"ylim\": [0.55, 10.45], \"xdomain\": [0.6829999999999998, 53.197], \"ydomain\": [0.55, 10.45], \"xscale\": \"linear\", \"yscale\": \"linear\", \"axes\": [{\"position\": \"bottom\", \"nticks\": 7, \"tickvalues\": null, \"tickformat_formatter\": \"\", \"tickformat\": null, \"scale\": \"linear\", \"fontsize\": 10.0, \"grid\": {\"gridOn\": false}, \"visible\": true}, {\"position\": \"left\", \"nticks\": 7, \"tickvalues\": null, \"tickformat_formatter\": \"\", \"tickformat\": null, \"scale\": \"linear\", \"fontsize\": 10.0, \"grid\": {\"gridOn\": false}, \"visible\": true}], \"axesbg\": \"#FFFFFF\", \"axesbgalpha\": null, \"zoomable\": true, \"id\": \"el380140095681061968\", \"lines\": [], \"paths\": [], \"markers\": [], \"texts\": [{\"text\": \"Interativo com mpld3\", \"position\": [0.5, 1.0225468975468974], \"coordinates\": \"axes\", \"h_anchor\": \"middle\", \"v_baseline\": \"auto\", \"rotation\": -0.0, \"fontsize\": 12.0, \"color\": \"#000000\", \"alpha\": 1, \"zorder\": 3, \"id\": \"el380140095665547408\"}], \"collections\": [{\"offsets\": \"data01\", \"xindex\": 0, \"yindex\": 1, \"paths\": [[[[0.0, -0.5], [0.13260155, -0.5], [0.25978993539242673, -0.44731684579412084], [0.3535533905932738, -0.3535533905932738], [0.44731684579412084, -0.25978993539242673], [0.5, -0.13260155], [0.5, 0.0], [0.5, 0.13260155], [0.44731684579412084, 0.25978993539242673], [0.3535533905932738, 0.3535533905932738], [0.25978993539242673, 0.44731684579412084], [0.13260155, 0.5], [0.0, 0.5], [-0.13260155, 0.5], [-0.25978993539242673, 0.44731684579412084], [-0.3535533905932738, 0.3535533905932738], [-0.44731684579412084, 0.25978993539242673], [-0.5, 0.13260155], [-0.5, 0.0], [-0.5, -0.13260155], [-0.44731684579412084, -0.25978993539242673], [-0.3535533905932738, -0.3535533905932738], [-0.25978993539242673, -0.44731684579412084], [-0.13260155, -0.5], [0.0, -0.5]], [\"M\", \"C\", \"C\", \"C\", \"C\", \"C\", \"C\", \"C\", \"C\", \"Z\"]]], \"pathtransforms\": [[8.333333333333334, 0.0, 0.0, 8.333333333333334, 0.0, 0.0]], \"alphas\": [null], \"edgecolors\": [\"#800080\"], \"facecolors\": [\"#800080\"], \"edgewidths\": [1.0], \"offsetcoordinates\": \"data\", \"pathcoordinates\": \"display\", \"zorder\": 1, \"id\": \"el380140095681534480\"}], \"images\": [], \"sharex\": [], \"sharey\": []}], \"data\": {\"data01\": [[16.99, 1.01], [10.34, 1.66], [21.01, 3.5], [23.68, 3.31], [24.59, 3.61], [25.29, 4.71], [8.77, 2.0], [26.88, 3.12], [15.04, 1.96], [14.78, 3.23], [10.27, 1.71], [35.26, 5.0], [15.42, 1.57], [18.43, 3.0], [14.83, 3.02], [21.58, 3.92], [10.33, 1.67], [16.29, 3.71], [16.97, 3.5], [20.65, 3.35], [17.92, 4.08], [20.29, 2.75], [15.77, 2.23], [39.42, 7.58], [19.82, 3.18], [17.81, 2.34], [13.37, 2.0], [12.69, 2.0], [21.7, 4.3], [19.65, 3.0], [9.55, 1.45], [18.35, 2.5], [15.06, 3.0], [20.69, 2.45], [17.78, 3.27], [24.06, 3.6], [16.31, 2.0], [16.93, 3.07], [18.69, 2.31], [31.27, 5.0], [16.04, 2.24], [17.46, 2.54], [13.94, 3.06], [9.68, 1.32], [30.4, 5.6], [18.29, 3.0], [22.23, 5.0], [32.4, 6.0], [28.55, 2.05], [18.04, 3.0], [12.54, 2.5], [10.29, 2.6], [34.81, 5.2], [9.94, 1.56], [25.56, 4.34], [19.49, 3.51], [38.01, 3.0], [26.41, 1.5], [11.24, 1.76], [48.27, 6.73], [20.29, 3.21], [13.81, 2.0], [11.02, 1.98], [18.29, 3.76], [17.59, 2.64], [20.08, 3.15], [16.45, 2.47], [3.07, 1.0], [20.23, 2.01], [15.01, 2.09], [12.02, 1.97], [17.07, 3.0], [26.86, 3.14], [25.28, 5.0], [14.73, 2.2], [10.51, 1.25], [17.92, 3.08], [27.2, 4.0], [22.76, 3.0], [17.29, 2.71], [19.44, 3.0], [16.66, 3.4], [10.07, 1.83], [32.68, 5.0], [15.98, 2.03], [34.83, 5.17], [13.03, 2.0], [18.28, 4.0], [24.71, 5.85], [21.16, 3.0], [28.97, 3.0], [22.49, 3.5], [5.75, 1.0], [16.32, 4.3], [22.75, 3.25], [40.17, 4.73], [27.28, 4.0], [12.03, 1.5], [21.01, 3.0], [12.46, 1.5], [11.35, 2.5], [15.38, 3.0], [44.3, 2.5], [22.42, 3.48], [20.92, 4.08], [15.36, 1.64], [20.49, 4.06], [25.21, 4.29], [18.24, 3.76], [14.31, 4.0], [14.0, 3.0], [7.25, 1.0], [38.07, 4.0], [23.95, 2.55], [25.71, 4.0], [17.31, 3.5], [29.93, 5.07], [10.65, 1.5], [12.43, 1.8], [24.08, 2.92], [11.69, 2.31], [13.42, 1.68], [14.26, 2.5], [15.95, 2.0], [12.48, 2.52], [29.8, 4.2], [8.52, 1.48], [14.52, 2.0], [11.38, 2.0], [22.82, 2.18], [19.08, 1.5], [20.27, 2.83], [11.17, 1.5], [12.26, 2.0], [18.26, 3.25], [8.51, 1.25], [10.33, 2.0], [14.15, 2.0], [16.0, 2.0], [13.16, 2.75], [17.47, 3.5], [34.3, 6.7], [41.19, 5.0], [27.05, 5.0], [16.43, 2.3], [8.35, 1.5], [18.64, 1.36], [11.87, 1.63], [9.78, 1.73], [7.51, 2.0], [14.07, 2.5], [13.13, 2.0], [17.26, 2.74], [24.55, 2.0], [19.77, 2.0], [29.85, 5.14], [48.17, 5.0], [25.0, 3.75], [13.39, 2.61], [16.49, 2.0], [21.5, 3.5], [12.66, 2.5], [16.21, 2.0], [13.81, 2.0], [17.51, 3.0], [24.52, 3.48], [20.76, 2.24], [31.71, 4.5], [10.59, 1.61], [10.63, 2.0], [50.81, 10.0], [15.81, 3.16], [7.25, 5.15], [31.85, 3.18], [16.82, 4.0], [32.9, 3.11], [17.89, 2.0], [14.48, 2.0], [9.6, 4.0], [34.63, 3.55], [34.65, 3.68], [23.33, 5.65], [45.35, 3.5], [23.17, 6.5], [40.55, 3.0], [20.69, 5.0], [20.9, 3.5], [30.46, 2.0], [18.15, 3.5], [23.1, 4.0], [15.69, 1.5], [19.81, 4.19], [28.44, 2.56], [15.48, 2.02], [16.58, 4.0], [7.56, 1.44], [10.34, 2.0], [43.11, 5.0], [13.0, 2.0], [13.51, 2.0], [18.71, 4.0], [12.74, 2.01], [13.0, 2.0], [16.4, 2.5], [20.53, 4.0], [16.47, 3.23], [26.59, 3.41], [38.73, 3.0], [24.27, 2.03], [12.76, 2.23], [30.06, 2.0], [25.89, 5.16], [48.33, 9.0], [13.27, 2.5], [28.17, 6.5], [12.9, 1.1], [28.15, 3.0], [11.59, 1.5], [7.74, 1.44], [30.14, 3.09], [12.16, 2.2], [13.42, 3.48], [8.58, 1.92], [15.98, 3.0], [13.42, 1.58], [16.27, 2.5], [10.09, 2.0], [20.45, 3.0], [13.28, 2.72], [22.12, 2.88], [24.01, 2.0], [15.69, 3.0], [11.61, 3.39], [10.77, 1.47], [15.53, 3.0], [10.07, 1.25], [12.6, 1.0], [32.83, 1.17], [35.83, 4.67], [29.03, 5.92], [27.18, 2.0], [22.67, 2.0], [17.82, 1.75], [18.78, 3.0]]}, \"id\": \"el380140095731171088\", \"plugins\": [{\"type\": \"reset\"}, {\"type\": \"zoom\", \"button\": true, \"enabled\": false}, {\"type\": \"boxzoom\", \"button\": true, \"enabled\": false}]});\n",
              "   }(mpld3);\n",
              "}else if(typeof define === \"function\" && define.amd){\n",
              "   // require.js is available: use it to load d3/mpld3\n",
              "   require.config({paths: {d3: \"https://d3js.org/d3.v5\"}});\n",
              "   require([\"d3\"], function(d3){\n",
              "      window.d3 = d3;\n",
              "      mpld3_load_lib(\"https://mpld3.github.io/js/mpld3.v0.5.10.js\", function(){\n",
              "         \n",
              "         mpld3.draw_figure(\"fig_el3801400957311710886490686406\", {\"width\": 640.0, \"height\": 480.0, \"axes\": [{\"bbox\": [0.125, 0.10999999999999999, 0.775, 0.77], \"xlim\": [0.6829999999999998, 53.197], \"ylim\": [0.55, 10.45], \"xdomain\": [0.6829999999999998, 53.197], \"ydomain\": [0.55, 10.45], \"xscale\": \"linear\", \"yscale\": \"linear\", \"axes\": [{\"position\": \"bottom\", \"nticks\": 7, \"tickvalues\": null, \"tickformat_formatter\": \"\", \"tickformat\": null, \"scale\": \"linear\", \"fontsize\": 10.0, \"grid\": {\"gridOn\": false}, \"visible\": true}, {\"position\": \"left\", \"nticks\": 7, \"tickvalues\": null, \"tickformat_formatter\": \"\", \"tickformat\": null, \"scale\": \"linear\", \"fontsize\": 10.0, \"grid\": {\"gridOn\": false}, \"visible\": true}], \"axesbg\": \"#FFFFFF\", \"axesbgalpha\": null, \"zoomable\": true, \"id\": \"el380140095681061968\", \"lines\": [], \"paths\": [], \"markers\": [], \"texts\": [{\"text\": \"Interativo com mpld3\", \"position\": [0.5, 1.0225468975468974], \"coordinates\": \"axes\", \"h_anchor\": \"middle\", \"v_baseline\": \"auto\", \"rotation\": -0.0, \"fontsize\": 12.0, \"color\": \"#000000\", \"alpha\": 1, \"zorder\": 3, \"id\": \"el380140095665547408\"}], \"collections\": [{\"offsets\": \"data01\", \"xindex\": 0, \"yindex\": 1, \"paths\": [[[[0.0, -0.5], [0.13260155, -0.5], [0.25978993539242673, -0.44731684579412084], [0.3535533905932738, -0.3535533905932738], [0.44731684579412084, -0.25978993539242673], [0.5, -0.13260155], [0.5, 0.0], [0.5, 0.13260155], [0.44731684579412084, 0.25978993539242673], [0.3535533905932738, 0.3535533905932738], [0.25978993539242673, 0.44731684579412084], [0.13260155, 0.5], [0.0, 0.5], [-0.13260155, 0.5], [-0.25978993539242673, 0.44731684579412084], [-0.3535533905932738, 0.3535533905932738], [-0.44731684579412084, 0.25978993539242673], [-0.5, 0.13260155], [-0.5, 0.0], [-0.5, -0.13260155], [-0.44731684579412084, -0.25978993539242673], [-0.3535533905932738, -0.3535533905932738], [-0.25978993539242673, -0.44731684579412084], [-0.13260155, -0.5], [0.0, -0.5]], [\"M\", \"C\", \"C\", \"C\", \"C\", \"C\", \"C\", \"C\", \"C\", \"Z\"]]], \"pathtransforms\": [[8.333333333333334, 0.0, 0.0, 8.333333333333334, 0.0, 0.0]], \"alphas\": [null], \"edgecolors\": [\"#800080\"], \"facecolors\": [\"#800080\"], \"edgewidths\": [1.0], \"offsetcoordinates\": \"data\", \"pathcoordinates\": \"display\", \"zorder\": 1, \"id\": \"el380140095681534480\"}], \"images\": [], \"sharex\": [], \"sharey\": []}], \"data\": {\"data01\": [[16.99, 1.01], [10.34, 1.66], [21.01, 3.5], [23.68, 3.31], [24.59, 3.61], [25.29, 4.71], [8.77, 2.0], [26.88, 3.12], [15.04, 1.96], [14.78, 3.23], [10.27, 1.71], [35.26, 5.0], [15.42, 1.57], [18.43, 3.0], [14.83, 3.02], [21.58, 3.92], [10.33, 1.67], [16.29, 3.71], [16.97, 3.5], [20.65, 3.35], [17.92, 4.08], [20.29, 2.75], [15.77, 2.23], [39.42, 7.58], [19.82, 3.18], [17.81, 2.34], [13.37, 2.0], [12.69, 2.0], [21.7, 4.3], [19.65, 3.0], [9.55, 1.45], [18.35, 2.5], [15.06, 3.0], [20.69, 2.45], [17.78, 3.27], [24.06, 3.6], [16.31, 2.0], [16.93, 3.07], [18.69, 2.31], [31.27, 5.0], [16.04, 2.24], [17.46, 2.54], [13.94, 3.06], [9.68, 1.32], [30.4, 5.6], [18.29, 3.0], [22.23, 5.0], [32.4, 6.0], [28.55, 2.05], [18.04, 3.0], [12.54, 2.5], [10.29, 2.6], [34.81, 5.2], [9.94, 1.56], [25.56, 4.34], [19.49, 3.51], [38.01, 3.0], [26.41, 1.5], [11.24, 1.76], [48.27, 6.73], [20.29, 3.21], [13.81, 2.0], [11.02, 1.98], [18.29, 3.76], [17.59, 2.64], [20.08, 3.15], [16.45, 2.47], [3.07, 1.0], [20.23, 2.01], [15.01, 2.09], [12.02, 1.97], [17.07, 3.0], [26.86, 3.14], [25.28, 5.0], [14.73, 2.2], [10.51, 1.25], [17.92, 3.08], [27.2, 4.0], [22.76, 3.0], [17.29, 2.71], [19.44, 3.0], [16.66, 3.4], [10.07, 1.83], [32.68, 5.0], [15.98, 2.03], [34.83, 5.17], [13.03, 2.0], [18.28, 4.0], [24.71, 5.85], [21.16, 3.0], [28.97, 3.0], [22.49, 3.5], [5.75, 1.0], [16.32, 4.3], [22.75, 3.25], [40.17, 4.73], [27.28, 4.0], [12.03, 1.5], [21.01, 3.0], [12.46, 1.5], [11.35, 2.5], [15.38, 3.0], [44.3, 2.5], [22.42, 3.48], [20.92, 4.08], [15.36, 1.64], [20.49, 4.06], [25.21, 4.29], [18.24, 3.76], [14.31, 4.0], [14.0, 3.0], [7.25, 1.0], [38.07, 4.0], [23.95, 2.55], [25.71, 4.0], [17.31, 3.5], [29.93, 5.07], [10.65, 1.5], [12.43, 1.8], [24.08, 2.92], [11.69, 2.31], [13.42, 1.68], [14.26, 2.5], [15.95, 2.0], [12.48, 2.52], [29.8, 4.2], [8.52, 1.48], [14.52, 2.0], [11.38, 2.0], [22.82, 2.18], [19.08, 1.5], [20.27, 2.83], [11.17, 1.5], [12.26, 2.0], [18.26, 3.25], [8.51, 1.25], [10.33, 2.0], [14.15, 2.0], [16.0, 2.0], [13.16, 2.75], [17.47, 3.5], [34.3, 6.7], [41.19, 5.0], [27.05, 5.0], [16.43, 2.3], [8.35, 1.5], [18.64, 1.36], [11.87, 1.63], [9.78, 1.73], [7.51, 2.0], [14.07, 2.5], [13.13, 2.0], [17.26, 2.74], [24.55, 2.0], [19.77, 2.0], [29.85, 5.14], [48.17, 5.0], [25.0, 3.75], [13.39, 2.61], [16.49, 2.0], [21.5, 3.5], [12.66, 2.5], [16.21, 2.0], [13.81, 2.0], [17.51, 3.0], [24.52, 3.48], [20.76, 2.24], [31.71, 4.5], [10.59, 1.61], [10.63, 2.0], [50.81, 10.0], [15.81, 3.16], [7.25, 5.15], [31.85, 3.18], [16.82, 4.0], [32.9, 3.11], [17.89, 2.0], [14.48, 2.0], [9.6, 4.0], [34.63, 3.55], [34.65, 3.68], [23.33, 5.65], [45.35, 3.5], [23.17, 6.5], [40.55, 3.0], [20.69, 5.0], [20.9, 3.5], [30.46, 2.0], [18.15, 3.5], [23.1, 4.0], [15.69, 1.5], [19.81, 4.19], [28.44, 2.56], [15.48, 2.02], [16.58, 4.0], [7.56, 1.44], [10.34, 2.0], [43.11, 5.0], [13.0, 2.0], [13.51, 2.0], [18.71, 4.0], [12.74, 2.01], [13.0, 2.0], [16.4, 2.5], [20.53, 4.0], [16.47, 3.23], [26.59, 3.41], [38.73, 3.0], [24.27, 2.03], [12.76, 2.23], [30.06, 2.0], [25.89, 5.16], [48.33, 9.0], [13.27, 2.5], [28.17, 6.5], [12.9, 1.1], [28.15, 3.0], [11.59, 1.5], [7.74, 1.44], [30.14, 3.09], [12.16, 2.2], [13.42, 3.48], [8.58, 1.92], [15.98, 3.0], [13.42, 1.58], [16.27, 2.5], [10.09, 2.0], [20.45, 3.0], [13.28, 2.72], [22.12, 2.88], [24.01, 2.0], [15.69, 3.0], [11.61, 3.39], [10.77, 1.47], [15.53, 3.0], [10.07, 1.25], [12.6, 1.0], [32.83, 1.17], [35.83, 4.67], [29.03, 5.92], [27.18, 2.0], [22.67, 2.0], [17.82, 1.75], [18.78, 3.0]]}, \"id\": \"el380140095731171088\", \"plugins\": [{\"type\": \"reset\"}, {\"type\": \"zoom\", \"button\": true, \"enabled\": false}, {\"type\": \"boxzoom\", \"button\": true, \"enabled\": false}]});\n",
              "      });\n",
              "    });\n",
              "}else{\n",
              "    // require.js not available: dynamically load d3 & mpld3\n",
              "    mpld3_load_lib(\"https://d3js.org/d3.v5.js\", function(){\n",
              "         mpld3_load_lib(\"https://mpld3.github.io/js/mpld3.v0.5.10.js\", function(){\n",
              "                 \n",
              "                 mpld3.draw_figure(\"fig_el3801400957311710886490686406\", {\"width\": 640.0, \"height\": 480.0, \"axes\": [{\"bbox\": [0.125, 0.10999999999999999, 0.775, 0.77], \"xlim\": [0.6829999999999998, 53.197], \"ylim\": [0.55, 10.45], \"xdomain\": [0.6829999999999998, 53.197], \"ydomain\": [0.55, 10.45], \"xscale\": \"linear\", \"yscale\": \"linear\", \"axes\": [{\"position\": \"bottom\", \"nticks\": 7, \"tickvalues\": null, \"tickformat_formatter\": \"\", \"tickformat\": null, \"scale\": \"linear\", \"fontsize\": 10.0, \"grid\": {\"gridOn\": false}, \"visible\": true}, {\"position\": \"left\", \"nticks\": 7, \"tickvalues\": null, \"tickformat_formatter\": \"\", \"tickformat\": null, \"scale\": \"linear\", \"fontsize\": 10.0, \"grid\": {\"gridOn\": false}, \"visible\": true}], \"axesbg\": \"#FFFFFF\", \"axesbgalpha\": null, \"zoomable\": true, \"id\": \"el380140095681061968\", \"lines\": [], \"paths\": [], \"markers\": [], \"texts\": [{\"text\": \"Interativo com mpld3\", \"position\": [0.5, 1.0225468975468974], \"coordinates\": \"axes\", \"h_anchor\": \"middle\", \"v_baseline\": \"auto\", \"rotation\": -0.0, \"fontsize\": 12.0, \"color\": \"#000000\", \"alpha\": 1, \"zorder\": 3, \"id\": \"el380140095665547408\"}], \"collections\": [{\"offsets\": \"data01\", \"xindex\": 0, \"yindex\": 1, \"paths\": [[[[0.0, -0.5], [0.13260155, -0.5], [0.25978993539242673, -0.44731684579412084], [0.3535533905932738, -0.3535533905932738], [0.44731684579412084, -0.25978993539242673], [0.5, -0.13260155], [0.5, 0.0], [0.5, 0.13260155], [0.44731684579412084, 0.25978993539242673], [0.3535533905932738, 0.3535533905932738], [0.25978993539242673, 0.44731684579412084], [0.13260155, 0.5], [0.0, 0.5], [-0.13260155, 0.5], [-0.25978993539242673, 0.44731684579412084], [-0.3535533905932738, 0.3535533905932738], [-0.44731684579412084, 0.25978993539242673], [-0.5, 0.13260155], [-0.5, 0.0], [-0.5, -0.13260155], [-0.44731684579412084, -0.25978993539242673], [-0.3535533905932738, -0.3535533905932738], [-0.25978993539242673, -0.44731684579412084], [-0.13260155, -0.5], [0.0, -0.5]], [\"M\", \"C\", \"C\", \"C\", \"C\", \"C\", \"C\", \"C\", \"C\", \"Z\"]]], \"pathtransforms\": [[8.333333333333334, 0.0, 0.0, 8.333333333333334, 0.0, 0.0]], \"alphas\": [null], \"edgecolors\": [\"#800080\"], \"facecolors\": [\"#800080\"], \"edgewidths\": [1.0], \"offsetcoordinates\": \"data\", \"pathcoordinates\": \"display\", \"zorder\": 1, \"id\": \"el380140095681534480\"}], \"images\": [], \"sharex\": [], \"sharey\": []}], \"data\": {\"data01\": [[16.99, 1.01], [10.34, 1.66], [21.01, 3.5], [23.68, 3.31], [24.59, 3.61], [25.29, 4.71], [8.77, 2.0], [26.88, 3.12], [15.04, 1.96], [14.78, 3.23], [10.27, 1.71], [35.26, 5.0], [15.42, 1.57], [18.43, 3.0], [14.83, 3.02], [21.58, 3.92], [10.33, 1.67], [16.29, 3.71], [16.97, 3.5], [20.65, 3.35], [17.92, 4.08], [20.29, 2.75], [15.77, 2.23], [39.42, 7.58], [19.82, 3.18], [17.81, 2.34], [13.37, 2.0], [12.69, 2.0], [21.7, 4.3], [19.65, 3.0], [9.55, 1.45], [18.35, 2.5], [15.06, 3.0], [20.69, 2.45], [17.78, 3.27], [24.06, 3.6], [16.31, 2.0], [16.93, 3.07], [18.69, 2.31], [31.27, 5.0], [16.04, 2.24], [17.46, 2.54], [13.94, 3.06], [9.68, 1.32], [30.4, 5.6], [18.29, 3.0], [22.23, 5.0], [32.4, 6.0], [28.55, 2.05], [18.04, 3.0], [12.54, 2.5], [10.29, 2.6], [34.81, 5.2], [9.94, 1.56], [25.56, 4.34], [19.49, 3.51], [38.01, 3.0], [26.41, 1.5], [11.24, 1.76], [48.27, 6.73], [20.29, 3.21], [13.81, 2.0], [11.02, 1.98], [18.29, 3.76], [17.59, 2.64], [20.08, 3.15], [16.45, 2.47], [3.07, 1.0], [20.23, 2.01], [15.01, 2.09], [12.02, 1.97], [17.07, 3.0], [26.86, 3.14], [25.28, 5.0], [14.73, 2.2], [10.51, 1.25], [17.92, 3.08], [27.2, 4.0], [22.76, 3.0], [17.29, 2.71], [19.44, 3.0], [16.66, 3.4], [10.07, 1.83], [32.68, 5.0], [15.98, 2.03], [34.83, 5.17], [13.03, 2.0], [18.28, 4.0], [24.71, 5.85], [21.16, 3.0], [28.97, 3.0], [22.49, 3.5], [5.75, 1.0], [16.32, 4.3], [22.75, 3.25], [40.17, 4.73], [27.28, 4.0], [12.03, 1.5], [21.01, 3.0], [12.46, 1.5], [11.35, 2.5], [15.38, 3.0], [44.3, 2.5], [22.42, 3.48], [20.92, 4.08], [15.36, 1.64], [20.49, 4.06], [25.21, 4.29], [18.24, 3.76], [14.31, 4.0], [14.0, 3.0], [7.25, 1.0], [38.07, 4.0], [23.95, 2.55], [25.71, 4.0], [17.31, 3.5], [29.93, 5.07], [10.65, 1.5], [12.43, 1.8], [24.08, 2.92], [11.69, 2.31], [13.42, 1.68], [14.26, 2.5], [15.95, 2.0], [12.48, 2.52], [29.8, 4.2], [8.52, 1.48], [14.52, 2.0], [11.38, 2.0], [22.82, 2.18], [19.08, 1.5], [20.27, 2.83], [11.17, 1.5], [12.26, 2.0], [18.26, 3.25], [8.51, 1.25], [10.33, 2.0], [14.15, 2.0], [16.0, 2.0], [13.16, 2.75], [17.47, 3.5], [34.3, 6.7], [41.19, 5.0], [27.05, 5.0], [16.43, 2.3], [8.35, 1.5], [18.64, 1.36], [11.87, 1.63], [9.78, 1.73], [7.51, 2.0], [14.07, 2.5], [13.13, 2.0], [17.26, 2.74], [24.55, 2.0], [19.77, 2.0], [29.85, 5.14], [48.17, 5.0], [25.0, 3.75], [13.39, 2.61], [16.49, 2.0], [21.5, 3.5], [12.66, 2.5], [16.21, 2.0], [13.81, 2.0], [17.51, 3.0], [24.52, 3.48], [20.76, 2.24], [31.71, 4.5], [10.59, 1.61], [10.63, 2.0], [50.81, 10.0], [15.81, 3.16], [7.25, 5.15], [31.85, 3.18], [16.82, 4.0], [32.9, 3.11], [17.89, 2.0], [14.48, 2.0], [9.6, 4.0], [34.63, 3.55], [34.65, 3.68], [23.33, 5.65], [45.35, 3.5], [23.17, 6.5], [40.55, 3.0], [20.69, 5.0], [20.9, 3.5], [30.46, 2.0], [18.15, 3.5], [23.1, 4.0], [15.69, 1.5], [19.81, 4.19], [28.44, 2.56], [15.48, 2.02], [16.58, 4.0], [7.56, 1.44], [10.34, 2.0], [43.11, 5.0], [13.0, 2.0], [13.51, 2.0], [18.71, 4.0], [12.74, 2.01], [13.0, 2.0], [16.4, 2.5], [20.53, 4.0], [16.47, 3.23], [26.59, 3.41], [38.73, 3.0], [24.27, 2.03], [12.76, 2.23], [30.06, 2.0], [25.89, 5.16], [48.33, 9.0], [13.27, 2.5], [28.17, 6.5], [12.9, 1.1], [28.15, 3.0], [11.59, 1.5], [7.74, 1.44], [30.14, 3.09], [12.16, 2.2], [13.42, 3.48], [8.58, 1.92], [15.98, 3.0], [13.42, 1.58], [16.27, 2.5], [10.09, 2.0], [20.45, 3.0], [13.28, 2.72], [22.12, 2.88], [24.01, 2.0], [15.69, 3.0], [11.61, 3.39], [10.77, 1.47], [15.53, 3.0], [10.07, 1.25], [12.6, 1.0], [32.83, 1.17], [35.83, 4.67], [29.03, 5.92], [27.18, 2.0], [22.67, 2.0], [17.82, 1.75], [18.78, 3.0]]}, \"id\": \"el380140095731171088\", \"plugins\": [{\"type\": \"reset\"}, {\"type\": \"zoom\", \"button\": true, \"enabled\": false}, {\"type\": \"boxzoom\", \"button\": true, \"enabled\": false}]});\n",
              "            })\n",
              "         });\n",
              "}\n",
              "</script>"
            ]
          },
          "metadata": {},
          "execution_count": 17
        }
      ],
      "source": [
        "# Pratique seu código aqui!\n",
        "import pandas as pd\n",
        "import seaborn as sns\n",
        "import matplotlib.pyplot as plt\n",
        "import mpld3\n",
        "\n",
        "tips = sns.load_dataset(\"tips\")\n",
        "fig, ax = plt.subplots()\n",
        "\n",
        "ax.scatter(tips[\"total_bill\"], tips[\"tip\"], c=\"purple\")\n",
        "ax.set_title(\"Interativo com mpld3\")\n",
        "mpld3.display()\n"
      ]
    },
    {
      "cell_type": "markdown",
      "metadata": {
        "id": "0cExsVIenJZz"
      },
      "source": [
        "* **O que o código faz:**  \n",
        "\n",
        "  **1) Explicação Linha a Linha (Diálogo com o Código):**  \n",
        "  ```python\n",
        "  # “Importe módulos.”  \n",
        "  import pandas as pd  \n",
        "  import seaborn as sns  \n",
        "  import matplotlib.pyplot as plt  \n",
        "  import mpld3  \n",
        "\n",
        "  # “Carregue gorjetas e crie scatter.”  \n",
        "  tips = sns.load_dataset('tips')  \n",
        "  fig, ax = plt.subplots()  \n",
        "  ax.scatter(tips['total_bill'], tips['tip'], c='purple')  \n",
        "  ax.set_title('Interativo com mpld3')  \n",
        "\n",
        "  # “Renderize interativo no notebook.”  \n",
        "  mpld3.display()  \n",
        "  ```\n",
        "\n",
        "  **2) Tabela de Estados Intermediários:**\n",
        "\n",
        "  ```markdown\n",
        "  | Passo        | Expressão          | Descrição                           |\n",
        "  |:------------:|:-------------------|:-------------------------------------|\n",
        "  | 1            | `ax.scatter()`     | Ponto interativo                   |\n",
        "  | 2            | `mpld3.display()`  | Renderiza HTML com zoom e tooltips |\n",
        "  ```\n",
        "\n",
        "  **3) Diagrama Mental (A Analogia Central):**  \n",
        "  É como transformar uma imagem estática num link interativo onde você pode dar zoom e ver detalhes extras.\n"
      ]
    },
    {
      "cell_type": "markdown",
      "metadata": {
        "id": "v6V-czTUnJZz"
      },
      "source": [
        "#### **Nível DEUS (3/3): Gráficos 3D com mplot3d**\n"
      ]
    },
    {
      "cell_type": "code",
      "execution_count": null,
      "metadata": {
        "id": "WiLqmepBnJZz"
      },
      "outputs": [],
      "source": [
        "import matplotlib.pyplot as plt\n",
        "from mpl_toolkits.mplot3d import Axes3D\n",
        "\n",
        "fig = plt.figure()\n",
        "ax = fig.add_subplot(111, projection='3d')\n",
        "X, Y = [1,2,3], [4,5,6]\n",
        "Z = [x*y for x,y in zip(X,Y)]\n",
        "ax.plot(X, Y, Z, marker='o')\n",
        "ax.set_title('Gráfico 3D Simples')\n",
        "plt.show()\n"
      ]
    },
    {
      "cell_type": "code",
      "execution_count": 21,
      "metadata": {
        "colab": {
          "base_uri": "https://localhost:8080/",
          "height": 438
        },
        "id": "WVs_b124nJZz",
        "outputId": "9c04e671-208d-4e42-bdbf-233db7a9443a"
      },
      "outputs": [
        {
          "output_type": "display_data",
          "data": {
            "text/plain": [
              "<Figure size 640x480 with 1 Axes>"
            ],
            "image/png": "[encoded data removed]"
          },
          "metadata": {}
        }
      ],
      "source": [
        "# Pratique seu código aqui!\n",
        "import matplotlib.pyplot as plt\n",
        "from mpl_toolkits.mplot3d import Axes3D\n",
        "\n",
        "fig = plt.figure()\n",
        "ax = fig.add_subplot(111, projection='3d')\n",
        "X, Y = [1,2,3], [4,5,6]\n",
        "Z = [x*y for x,y in zip(X,Y)]\n",
        "ax.plot(X, Y, Z, marker='o')\n",
        "ax.set_title('Gráfico 3D Simples')\n",
        "plt.show()"
      ]
    },
    {
      "cell_type": "markdown",
      "metadata": {
        "id": "jHrJKQaInJZz"
      },
      "source": [
        "* **O que o código faz:**  \n",
        "\n",
        "  **1) Explicação Linha a Linha (Diálogo com o Código):**  \n",
        "  ```python\n",
        "  # “Importe pyplot e toolkit 3D.”  \n",
        "  import matplotlib.pyplot as plt  \n",
        "  from mpl_toolkits.mplot3d import Axes3D  \n",
        "\n",
        "  # “Crie figura e eixo 3D.”  \n",
        "  fig = plt.figure()  \n",
        "  ax = fig.add_subplot(111, projection='3d')  \n",
        "\n",
        "  # “Defina dados e plote linha 3D.”  \n",
        "  X, Y = [1,2,3], [4,5,6]  \n",
        "  Z = [x*y for x,y in zip(X,Y)]  \n",
        "  ax.plot(X, Y, Z, marker='o')  \n",
        "  ax.set_title('Gráfico 3D Simples')  \n",
        "\n",
        "  # “Exiba figura.”  \n",
        "  plt.show()  \n",
        "  ```\n",
        "\n",
        "  **2) Tabela de Estados Intermediários:**\n",
        "\n",
        "  ```markdown\n",
        "  | Passo            | Expressão                        | Descrição                        |\n",
        "  |:----------------:|:---------------------------------|:----------------------------------|\n",
        "  | 1                | `add_subplot(...,projection='3d')` | Eixo 3D criado                  |\n",
        "  | 2                | `ax.plot(X,Y,Z)`                 | Linha em espaço tridimensional   |\n",
        "  ```\n",
        "\n",
        "  **3) Diagrama Mental (A Analogia Central):**  \n",
        "  Pense em desenhar uma curva no espaço, como traçar uma montanha em um mapa 3D.\n",
        "\n",
        "* **Cenário de Mercado:**  \n",
        "  - Em **engenharia**, visualizar trajetórias de drone ou superfícies de resposta em experimentos.  \n",
        "\n",
        "* **Boas Práticas:**  \n",
        "  - **Afirmação:** “Use 3D apenas para verdadeiras dimensões extras.”  \n",
        "    - **Porquê:** 3D pode confundir leitores se não houver clareza nos eixos.  \n",
        "    - **Analogia:** É como usar VR: poderoso mas só quando realmente necessário.\n"
      ]
    },
    {
      "cell_type": "markdown",
      "metadata": {
        "id": "q1SPlIxxnJZz"
      },
      "source": [
        "### 3. 🕸️ Profundezas e Conexões\n",
        "\n",
        "<br>\n",
        "\n",
        "Visualizações com Pandas/Matplotlib ligam-se a **Seaborn**, **Plotly**, **Bokeh** e **Altair**. Compreender essas APIs permite migrar de gráficos estáticos a interativos e criar pipelines de visualização reprodutíveis.\n",
        "\n",
        "<br>\n",
        "\n",
        "---\n",
        "<br>\n"
      ]
    },
    {
      "cell_type": "markdown",
      "metadata": {
        "id": "LPDacH1wnJZ0"
      },
      "source": [
        "### 4. 🚀 Ação e Verificação\n",
        "\n",
        "<br>\n",
        "\n",
        "#### **🤔 Desafio Prático**\n",
        "1. Carregue `/mnt/data/spotify_history.csv`, converta `played_at` em datetime e, usando Pandas, plote contagem diária de reproduções via `df.plot()`.  \n",
        "2. Personalize cor, marcador e grade no gráfico gerado.  \n",
        "3. Crie subplots 2×1: scatter de `total_bill` vs `tip` e histograma de `size`, usando OOP.  \n",
        "4. Aplique `with plt.style.context('seaborn-darkgrid')` a um plot de linha `y = x²` para x de 0 a 10.  \n",
        "5. Gere um gráfico 3D simples de `x, y, z = [1,2,3], [1,4,9], [1,8,27]` com `mplot3d` e salve em SVG.\n",
        "\n",
        "<br>\n",
        "\n",
        "#### **❓ Pergunta de Verificação**\n",
        "Quando escolher o método `df.plot()` vs `ax.plot()` em pipelines de visualização de dados?\n",
        "\n",
        "<br>\n",
        "\n",
        "---\n",
        "<br>\n"
      ]
    },
    {
      "cell_type": "markdown",
      "source": [
        "### **Resposta Rápida**\n",
        "\n",
        "Use `df.plot()` para **exploração rápida com Pandas**, e `ax.plot()` quando quiser **controle total** em projetos complexos ou com múltiplas visualizações. Ambos geram gráficos, mas servem a propósitos diferentes.\n",
        "\n",
        "---\n",
        "\n",
        "### **Analogia do Dia**\n",
        "\n",
        "`df.plot()` é como **tirar uma foto com o modo automático do celular**: prático e rápido.\n",
        "`ax.plot()` é como **usar uma câmera profissional manual**: mais trabalho, mas você controla cada aspecto da imagem.\n",
        "\n",
        "---\n",
        "\n",
        "### **Análise Técnica Detalhada**\n",
        "\n",
        "---\n",
        "\n",
        "#### 🐼 `df.plot()` — Atalho do Pandas\n",
        "\n",
        "```python\n",
        "df.plot(x='Ano', y='Vendas', kind='line', title='Vendas por Ano')\n",
        "```\n",
        "\n",
        "✅ Ideal para:\n",
        "\n",
        "* Exploração rápida de dados\n",
        "* Dashboards simples\n",
        "* Scripts de análise ad hoc\n",
        "\n",
        "❌ Limitado em:\n",
        "\n",
        "* Layouts avançados (vários gráficos juntos)\n",
        "* Estética refinada\n",
        "* Integração com `matplotlib.figure` ou `subplots`\n",
        "\n",
        "---\n",
        "\n",
        "#### 🎯 `ax.plot()` — Controle com Matplotlib OO\n",
        "\n",
        "```python\n",
        "fig, ax = plt.subplots()\n",
        "ax.plot(df[\"Ano\"], df[\"Vendas\"])\n",
        "ax.set_title(\"Vendas por Ano\")\n",
        "```\n",
        "\n",
        "✅ Ideal para:\n",
        "\n",
        "* **Pipelines automáticos** com múltiplos gráficos\n",
        "* Customização de fontes, eixos, cores\n",
        "* Salvamento em PDF/PNG automatizado\n",
        "* Exportação para relatórios e dashboards\n",
        "\n",
        "❗ Exige mais código, mas entrega mais poder.\n",
        "\n",
        "---\n",
        "\n",
        "#### ⚖️ Comparação lado a lado\n",
        "\n",
        "| Aspecto            | `df.plot()`            | `ax.plot()`                              |\n",
        "| ------------------ | ---------------------- | ---------------------------------------- |\n",
        "| Facilidade         | ✅ Rápido               | ❌ Mais código                            |\n",
        "| Customização       | ❌ Limitada             | ✅ Completa                               |\n",
        "| Ideal para         | Exploração / Notebook  | Relatórios / Múltiplos gráficos          |\n",
        "| Suporte a Subplots | ❌ Precisa de truques   | ✅ Natural com `fig, ax = plt.subplots()` |\n",
        "| Integração OO      | ❌ Não integra com `ax` | ✅ Usa direto `ax.plot()`                 |\n",
        "\n",
        "---\n",
        "\n",
        "### **Nota de Rodapé para Novatos**\n",
        "\n",
        "* **`df.plot()`**: função do Pandas que usa o Matplotlib por baixo dos panos.\n",
        "* **`ax.plot()`**: função nativa da API orientada a objetos do Matplotlib.\n",
        "* **Pipeline de visualização**: processo que gera vários gráficos organizados, muitas vezes de forma automatizada.\n",
        "* **Subplots**: vários gráficos dentro da mesma figura.\n",
        "\n",
        "---\n",
        "\n",
        "### **Aplicação Prática e Boas Práticas**\n",
        "\n",
        "✅ Em projetos profissionais:\n",
        "\n",
        "* Comece com `df.plot()` para insights iniciais.\n",
        "* Migre para `ax.plot()` quando:\n",
        "\n",
        "  * Precisar de **layouts organizados**\n",
        "  * Reutilizar figuras e **salvar automaticamente**\n",
        "  * Integrar com relatórios (PDF, dashboards)\n",
        "\n",
        "📌 Dica: mesmo usando Pandas, você pode capturar o `ax`:\n",
        "\n",
        "```python\n",
        "ax = df.plot()\n",
        "ax.set_ylabel(\"R$ em Milhões\")\n",
        "```\n",
        "\n",
        "---\n",
        "\n",
        "### **Resumo da Lição**\n",
        "\n",
        "Use `df.plot()` para agilidade e `ax.plot()` para controle profissional — a escolha depende do **nível de refinamento e automação** que seu projeto exige."
      ],
      "metadata": {
        "id": "D1NOGidnvqhC"
      }
    },
    {
      "cell_type": "code",
      "source": [],
      "metadata": {
        "id": "Ln5_BZt3vUYC"
      },
      "execution_count": null,
      "outputs": []
    }
  ]
}