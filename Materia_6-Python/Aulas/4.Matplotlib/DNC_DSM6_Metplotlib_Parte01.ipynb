{
  "nbformat": 4,
  "nbformat_minor": 0,
  "metadata": {
    "colab": {
      "provenance": []
    },
    "kernelspec": {
      "name": "python3",
      "display_name": "Python 3"
    }
  },
  "cells": [
    {
      "cell_type": "markdown",
      "metadata": {
        "id": "1YK_1lsC6eLU"
      },
      "source": [
        "## 🎓 **Aula sobre: Matplotlib para Visualização de Dados em Python**\n",
        "\n",
        "<br>\n",
        "\n",
        "### 🧭 Sumário da Aula\n",
        "\n",
        "| # | Sub-tópico                        | Tempo Estimado | Complexidade |\n",
        "|---|-----------------------------------|----------------|--------------|\n",
        "| 1 | Ficha de Revisão Rápida           | ~1 min         | ⭐           |\n",
        "| 2 | Mergulho Profundo                 | ~15 min        | ⭐⭐⭐⭐       |\n",
        "| 3 | Profundezas e Conexões            | ~3 min         | ⭐⭐         |\n",
        "| 4 | 🚀 Ação e Verificação              | ~5 min         | ⭐⭐         |\n",
        "| 5 | 🌊 Mergulhos Adicionais Opcionais  | Opcional       | ⭐⭐⭐⭐      |\n",
        "\n",
        "<br>\n",
        "\n",
        "---\n",
        "<br>\n"
      ]
    },
    {
      "cell_type": "markdown",
      "metadata": {
        "id": "hWQDn7P06eLV"
      },
      "source": [
        "### 1. 🧠 Ficha de Revisão Rápida | (O Essencial)\n",
        "\n",
        "<br>\n",
        "\n",
        "> - **`import matplotlib.pyplot as plt`**: importa a API de plotagem.  \n",
        "> - **`plt.plot(x, y)`**: cria gráfico de linha.  \n",
        "> - **`plt.title(), plt.xlabel(), plt.ylabel()`**: define título e rótulos dos eixos.  \n",
        "> - **`plt.subplot(nrows, ncols, idx)`**: cria subplots em grid.  \n",
        "> - **`plt.figure(figsize=(w, h))`**: define tamanho da figura em polegadas.  \n",
        "> - **OOP API:** `fig, ax = plt.subplots()` para manipular objetos `Figure` e `Axes`.\n",
        "\n",
        "<br>\n"
      ]
    },
    {
      "cell_type": "markdown",
      "metadata": {
        "id": "2QAbjNZM6eLV"
      },
      "source": [
        "### 2. 🔬 Mergulho Profundo | (Os Detalhes)\n",
        "\n",
        "<br>\n",
        "\n",
        "#### **🎯 O Conceito Central**  \n",
        "Matplotlib oferece duas interfaces:  \n",
        "- A **pyplot** (funções `plt.*`) gerencia um estado global, semelhante a comandos de desenho numa tela.  \n",
        "- A **orientada a objetos (OOP)** retorna objetos `Figure` e `Axes`, permitindo controle preciso de cada componente.  \n",
        "\n",
        "A plotagem básica (`plt.plot`) gera objetos `Line2D`. Personalizações de cor, estilo de linha e marcador ajustam a aparência. Subplots organizam múltiplos eixos em uma figura. O tamanho (`figsize`) e o DPI influenciam resolução e proporção. A OOP API possibilita, por exemplo, chamar `ax.plot()`, `ax.set_title()` e `fig.savefig()` de forma modular.\n",
        "\n",
        "<br>\n",
        "\n",
        "#### **🔗 Analogia de Data Science**  \n",
        "- **pyplot** é como desenhar em uma lousa branca usando canetas prontas.  \n",
        "- **OOP** é como montar um estúdio de pintura: você posiciona telas (`Figure`), escolhe pincéis (`Axes`) e tintas (`Line2D`), controlando cada detalhe.\n",
        "\n",
        "<br>\n",
        "\n",
        "---\n"
      ]
    },
    {
      "cell_type": "markdown",
      "metadata": {
        "id": "Jw2lZ8FO6eLV"
      },
      "source": [
        "#### **Nível Simples: Importação e Plotagem Básica**\n"
      ]
    },
    {
      "cell_type": "code",
      "execution_count": null,
      "metadata": {
        "id": "vN85rqd86eLV"
      },
      "outputs": [],
      "source": [
        "import matplotlib.pyplot as plt\n",
        "\n",
        "# Dados de exemplo\n",
        "x = [1, 2, 3, 4, 5]\n",
        "y = [10, 15, 13, 17, 20]\n",
        "\n",
        "# Plot de linha simples\n",
        "plt.plot(x, y)\n",
        "plt.title('Vendas ao Longo do Tempo')\n",
        "plt.xlabel('Dia')\n",
        "plt.ylabel('Vendas')\n",
        "plt.show()\n"
      ]
    },
    {
      "cell_type": "code",
      "execution_count": 6,
      "metadata": {
        "colab": {
          "base_uri": "https://localhost:8080/",
          "height": 447
        },
        "id": "qZJ_4Omn6eLW",
        "outputId": "a17eabed-0da3-4180-94c4-6de97b9e33a4"
      },
      "outputs": [
        {
          "output_type": "execute_result",
          "data": {
            "text/plain": [
              "[<matplotlib.lines.Line2D at 0x7c3afd1e3450>]"
            ]
          },
          "metadata": {},
          "execution_count": 6
        },
        {
          "output_type": "display_data",
          "data": {
            "text/plain": [
              "<Figure size 640x480 with 1 Axes>"
            ],
            "image/png": "[encoded data removed]"
          },
          "metadata": {}
        }
      ],
      "source": [
        "# Pratique seu código aqui!\n",
        "import matplotlib.pyplot as plt\n",
        "\n",
        "x = [1, 2, 3, 4, 5]\n",
        "y = [10, 15, 13, 17, 20]\n",
        "\n",
        "plt.plot(x, y)"
      ]
    },
    {
      "cell_type": "code",
      "source": [
        "plt.plot(x, y)\n",
        "plt.title('Vendas ao Longo do Tempo')\n",
        "plt.xlabel('Dia')\n",
        "plt.ylabel('Vendas')\n",
        "plt.show()"
      ],
      "metadata": {
        "colab": {
          "base_uri": "https://localhost:8080/",
          "height": 472
        },
        "id": "1uhud9Qq6kNo",
        "outputId": "20981529-6d6c-43b1-ed33-30450a44be05"
      },
      "execution_count": 7,
      "outputs": [
        {
          "output_type": "display_data",
          "data": {
            "text/plain": [
              "<Figure size 640x480 with 1 Axes>"
            ],
            "image/png": "[encoded data removed]"
          },
          "metadata": {}
        }
      ]
    },
    {
      "cell_type": "markdown",
      "metadata": {
        "id": "7I8RF_5Z6eLW"
      },
      "source": [
        "* **O que o código faz:**  \n",
        "\n",
        "  **1) Explicação Linha a Linha (Diálogo com o Código):**  \n",
        "\n",
        "  ```python\n",
        "  # “Importe a API pyplot como plt, nosso pincel.”  \n",
        "  import matplotlib.pyplot as plt  \n",
        "\n",
        "  # “Defina listas de dias (x) e vendas (y).”  \n",
        "  x = [1, 2, 3, 4, 5]  \n",
        "  y = [10,15,13,17,20]  \n",
        "\n",
        "  # “Desenhe uma linha ligando cada ponto (x, y).”  \n",
        "  plt.plot(x, y)  \n",
        "\n",
        "  # “Adicione título e rótulos de eixo.”  \n",
        "  plt.title('Vendas ao Longo do Tempo')  \n",
        "  plt.xlabel('Dia')  \n",
        "  plt.ylabel('Vendas')  \n",
        "\n",
        "  # “Mostre o gráfico na tela.”  \n",
        "  plt.show()  \n",
        "  ```\n",
        "\n",
        "  **2) Tabela de Estados Intermediários:**\n",
        "\n",
        "  ```markdown\n",
        "  | Passo | Expressão        | Objeto Criado  | Descrição                          |\n",
        "  |:-----:|:-----------------|:---------------|:-----------------------------------|\n",
        "  | 1     | `plt`            | módulo pyplot  | Interface baseada em estado        |\n",
        "  | 2     | `plt.plot(...)`  | `Line2D`       | Linha com dados plotados           |\n",
        "  | 3     | `plt.title()`    | title Text     | Texto do título do gráfico         |\n",
        "  | 4     | `plt.show()`     | janela de plot | Exibe figura                       |\n",
        "  ```\n",
        "\n",
        "  **3) Diagrama Mental (A Analogia Central):**  \n",
        "  Imagine uma régua digital: você marca pontos (x,y), pede para a régua ligar esses pontos, coloca um título no topo e legendas nos lados, e pressiona “exibir”.\n",
        "\n",
        "* **Cenário de Mercado:**  \n",
        "  - **O que é “Vendas ao Longo do Tempo”?** Uma *feature* temporal de série histórica de vendas diárias.  \n",
        "  - **Por que plotar?** Em BI, gráficos de linha permitem identificar tendências e picos de vendas, auxiliando decisões de marketing e estoque.  \n",
        "\n",
        "* **Boas Práticas:**  \n",
        "  - **Afirmação:** “Sempre finalize com `plt.show()`.”  \n",
        "    - **Porquê:** Em notebooks garante renderização; em scripts, abre janela.  \n",
        "    - **Analogia:** É como acionar o projetor após preparar os slides.\n"
      ]
    },
    {
      "cell_type": "markdown",
      "metadata": {
        "id": "8mDz_fUY6eLW"
      },
      "source": [
        "#### **Nível Intermediário: Personalização do Gráfico**\n"
      ]
    },
    {
      "cell_type": "code",
      "execution_count": null,
      "metadata": {
        "id": "wkFKU6I36eLW"
      },
      "outputs": [],
      "source": [
        "import matplotlib.pyplot as plt\n",
        "\n",
        "x = [1, 2, 3, 4, 5]\n",
        "y1 = [10, 15, 13, 17, 20]\n",
        "y2 = [8, 14, 12, 18, 22]\n",
        "\n",
        "plt.plot(x, y1, color='blue', linestyle='--', marker='o', label='Produto A')\n",
        "plt.plot(x, y2, color='green', linestyle='-.', marker='s', label='Produto B')\n",
        "\n",
        "plt.title('Comparativo de Vendas')\n",
        "plt.xlabel('Dia')\n",
        "plt.ylabel('Vendas')\n",
        "plt.legend()\n",
        "plt.grid(True)\n",
        "plt.show()\n"
      ]
    },
    {
      "cell_type": "code",
      "execution_count": null,
      "metadata": {
        "id": "9AVyVdH26eLW"
      },
      "outputs": [],
      "source": [
        "# Pratique seu código aqui!\n"
      ]
    },
    {
      "cell_type": "markdown",
      "metadata": {
        "id": "TvGkDIy26eLX"
      },
      "source": [
        "* **O que o código faz:**  \n",
        "\n",
        "  **1) Explicação Linha a Linha (Diálogo com o Código):**  \n",
        "\n",
        "  ```python\n",
        "  # “Importe pyplot.”  \n",
        "  import matplotlib.pyplot as plt  \n",
        "\n",
        "  # “Desenhe Produto A: linha azul tracejada com círculos.”  \n",
        "  plt.plot(x, y1, color='blue', linestyle='--', marker='o', label='Produto A')  \n",
        "\n",
        "  # “Desenhe Produto B: linha verde tracejada-ponto com quadrados.”  \n",
        "  plt.plot(x, y2, color='green', linestyle='-.', marker='s', label='Produto B')  \n",
        "\n",
        "  # “Adicione título, rótulos, legenda e grade.”  \n",
        "  plt.title('Comparativo de Vendas')  \n",
        "  plt.xlabel('Dia')  \n",
        "  plt.ylabel('Vendas')  \n",
        "  plt.legend()  \n",
        "  plt.grid(True)  \n",
        "\n",
        "  # “Mostre o gráfico.”  \n",
        "  plt.show()  \n",
        "  ```\n",
        "\n",
        "  **2) Tabela de Estados Intermediários:**\n",
        "\n",
        "  ```markdown\n",
        "  | Passo         | Expressão                     | Descrição                          |\n",
        "  |:-------------:|:------------------------------|:------------------------------------|\n",
        "  | 1             | Primeiro `plt.plot(...)`      | Linha azul tracejada com marcadores |\n",
        "  | 2             | Segundo `plt.plot(...)`       | Linha verde pontilhada com marcadores|\n",
        "  | 3             | `plt.legend()`                | Adiciona legenda                    |\n",
        "  | 4             | `plt.grid(True)`              | Exibe grade                         |\n",
        "  ```\n",
        "\n",
        "  **3) Diagrama Mental (A Analogia Central):**  \n",
        "  É como colorir duas curvas diferentes em um relatório, usando canetas distintas e adicionando rótulos e grade para facilitar leitura.\n",
        "\n",
        "* **Cenário de Mercado:**  \n",
        "  - Em **dashboards**, comparar múltiplas séries (vendas de produtos) com cores e marcadores distintos facilita identificar performance relativa.  \n",
        "\n",
        "* **Boas Práticas:**  \n",
        "  - **Afirmação:** “Use `label` e `plt.legend()` para múltiplas séries.”  \n",
        "    - **Porquê:** Garante interpretação correta sem confundir curvas.  \n",
        "    - **Analogia:** Como usar cores diferentes em um gráfico de pizza para setores distintos.\n"
      ]
    },
    {
      "cell_type": "markdown",
      "metadata": {
        "id": "Zj5HYGRa6eLX"
      },
      "source": [
        "#### **Nível Avançado: Subplots e Tamanho da Figura**\n"
      ]
    },
    {
      "cell_type": "code",
      "execution_count": null,
      "metadata": {
        "id": "MgKF8tJZ6eLX"
      },
      "outputs": [],
      "source": [
        "import matplotlib.pyplot as plt\n",
        "\n",
        "# Dados de exemplo\n",
        "x = [1,2,3,4,5]\n",
        "y = [10,15,13,17,20]\n",
        "\n",
        "fig = plt.figure(figsize=(10,4))\n",
        "\n",
        "# Primeiro subplot\n",
        "ax1 = fig.add_subplot(1, 2, 1)\n",
        "ax1.plot(x, y, color='red')\n",
        "ax1.set_title('Linha Vermelha')\n",
        "\n",
        "# Segundo subplot\n",
        "ax2 = fig.add_subplot(1, 2, 2)\n",
        "ax2.bar(x, y, color='orange')\n",
        "ax2.set_title('Barras Laranjas')\n",
        "\n",
        "fig.suptitle('Diferentes Tipos de Gráfico')\n",
        "plt.tight_layout(rect=[0, 0.03, 1, 0.95])\n",
        "plt.show()\n"
      ]
    },
    {
      "cell_type": "code",
      "execution_count": null,
      "metadata": {
        "id": "V721pUGz6eLX"
      },
      "outputs": [],
      "source": [
        "# Pratique seu código aqui!\n"
      ]
    },
    {
      "cell_type": "markdown",
      "metadata": {
        "id": "RGn_MCKU6eLX"
      },
      "source": [
        "* **O que o código faz:**  \n",
        "\n",
        "  **1) Explicação Linha a Linha (Diálogo com o Código):**  \n",
        "\n",
        "  ```python\n",
        "  # “Importe pyplot e defina figura 10×4 polegadas.”  \n",
        "  fig = plt.figure(figsize=(10,4))  \n",
        "\n",
        "  # “Crie subplot 1×2 posição 1 e plote linha vermelha.”  \n",
        "  ax1 = fig.add_subplot(1,2,1)  \n",
        "  ax1.plot(x, y, color='red')  \n",
        "  ax1.set_title('Linha Vermelha')  \n",
        "\n",
        "  # “Crie subplot posição 2 e plote barras laranjas.”  \n",
        "  ax2 = fig.add_subplot(1,2,2)  \n",
        "  ax2.bar(x, y, color='orange')  \n",
        "  ax2.set_title('Barras Laranjas')  \n",
        "\n",
        "  # “Adicione título geral e ajuste layout.”  \n",
        "  fig.suptitle('Diferentes Tipos de Gráfico')  \n",
        "  plt.tight_layout(rect=[0,0.03,1,0.95])  \n",
        "  plt.show()  \n",
        "  ```\n",
        "\n",
        "  **2) Tabela de Estados Intermediários:**\n",
        "\n",
        "  ```markdown\n",
        "  | Passo    | Expressão                  | Descrição                          |\n",
        "  |:--------:|:---------------------------|:------------------------------------|\n",
        "  | 1        | `plt.figure(figsize)`      | Figura com tamanho personalizado    |\n",
        "  | 2        | `add_subplot(1,2,1)`       | Primeiro eixo na esquerda           |\n",
        "  | 3        | `add_subplot(1,2,2)`       | Segundo eixo à direita              |\n",
        "  | 4        | `suptitle` + `tight_layout`| Título geral e ajuste de espaçamento|\n",
        "  ```\n",
        "\n",
        "  **3) Diagrama Mental (A Analogia Central):**  \n",
        "  Imagine uma moldura dividida em duas janelas: uma exibe uma linha, outra um gráfico de barras, tudo dentro de uma mesma moldura maior.\n",
        "\n",
        "* **Cenário de Mercado:**  \n",
        "  - Em **relatórios executivos**, exibir múltiplas visualizações lado a lado (vendas vs faturamento) em um único slide aumenta eficiência de comunicação.  \n",
        "\n",
        "* **Boas Práticas:**  \n",
        "  - **Afirmação:** “Use `plt.tight_layout()` após `suptitle`.”  \n",
        "    - **Porquê:** Evita sobreposição de elementos.  \n",
        "    - **Analogia:** É como ajustar molduras para que rótulos não fiquem cortados.\n"
      ]
    },
    {
      "cell_type": "markdown",
      "metadata": {
        "id": "95mXjvqO6eLX"
      },
      "source": [
        "#### **Nível DEUS (1/3): Introdução à Orientação a Objetos (OOP API)**\n"
      ]
    },
    {
      "cell_type": "code",
      "execution_count": null,
      "metadata": {
        "id": "G-o-PCPx6eLX"
      },
      "outputs": [],
      "source": [
        "import matplotlib.pyplot as plt\n",
        "\n",
        "# Criação via subplots retorna Figure e Axes\n",
        "fig, ax = plt.subplots(figsize=(6,4))\n",
        "ax.plot([1,2,3], [4,5,6], color='purple', marker='x')\n",
        "ax.set_title('OOP: Gráfico de Linha')\n",
        "ax.set_xlabel('Eixo X')\n",
        "ax.set_ylabel('Eixo Y')\n",
        "fig.savefig('grafico_oop.png', dpi=300, bbox_inches='tight')\n",
        "plt.show()\n"
      ]
    },
    {
      "cell_type": "code",
      "execution_count": null,
      "metadata": {
        "id": "pFhQl5zh6eLX"
      },
      "outputs": [],
      "source": [
        "# Pratique seu código aqui!\n"
      ]
    },
    {
      "cell_type": "markdown",
      "metadata": {
        "id": "BfHKvY056eLX"
      },
      "source": [
        "* **O que o código faz:**  \n",
        "\n",
        "  **1) Explicação Linha a Linha (Diálogo com o Código):**  \n",
        "\n",
        "  ```python\n",
        "  # “Importe pyplot.”  \n",
        "  import matplotlib.pyplot as plt  \n",
        "\n",
        "  # “Crie Figure e Axes em 6×4 polegadas.”  \n",
        "  fig, ax = plt.subplots(figsize=(6,4))  \n",
        "\n",
        "  # “Plote em ax e configure título e rótulos com métodos OOP.”  \n",
        "  ax.plot([1,2,3], [4,5,6], color='purple', marker='x')  \n",
        "  ax.set_title('OOP: Gráfico de Linha')  \n",
        "  ax.set_xlabel('Eixo X')  \n",
        "  ax.set_ylabel('Eixo Y')  \n",
        "\n",
        "  # “Salve figura em alta resolução.”  \n",
        "  fig.savefig('grafico_oop.png', dpi=300, bbox_inches='tight')  \n",
        "\n",
        "  # “Exiba”  \n",
        "  plt.show()  \n",
        "  ```\n",
        "\n",
        "  **2) Tabela de Estados Intermediários:**\n",
        "\n",
        "  ```markdown\n",
        "  | Passo           | Expressão               | Descrição                        |\n",
        "  |:---------------:|:------------------------|:----------------------------------|\n",
        "  | 1               | `subplots()`            | Figure e Axes criados            |\n",
        "  | 2               | `ax.plot()`             | Linha no Axes                    |\n",
        "  | 3               | `ax.set_*()`            | Título e rótulos definidos       |\n",
        "  | 4               | `fig.savefig()`         | Arquivo de imagem gerado         |\n",
        "  ```\n",
        "\n",
        "  **3) Diagrama Mental (A Analogia Central):**  \n",
        "  OOP é como ter um ateliê: `fig` é a tela, `ax` o pincel, e cada método OOP ajusta um detalhe da pintura.\n",
        "\n",
        "* **Cenário de Mercado:**  \n",
        "  - Em **publicação científica**, gera-se figuras consistentes e de alta resolução via OOP para submissão em periódicos.  \n",
        "\n",
        "* **Boas Práticas:**  \n",
        "  - **Afirmação:** “Use OOP para múltiplos eixos e salvamento programático.”  \n",
        "    - **Porquê:** Evita interferência de estado global e facilita automação.  \n",
        "    - **Analogia:** Como usar pincéis específicos em vez de desenhar com os dedos.\n"
      ]
    },
    {
      "cell_type": "markdown",
      "metadata": {
        "id": "PlFrKXvt6eLY"
      },
      "source": [
        "#### **Nível DEUS (2/3): Personalização Avançada de Ticks e Anotações**\n"
      ]
    },
    {
      "cell_type": "code",
      "execution_count": null,
      "metadata": {
        "id": "SfUHVEpl6eLY"
      },
      "outputs": [],
      "source": [
        "import matplotlib.pyplot as plt\n",
        "\n",
        "fig, ax = plt.subplots()\n",
        "ax.plot([10, 20, 30], [1, 4, 9], marker='o')\n",
        "ax.set_xticks([10, 20, 30])\n",
        "ax.set_xticklabels(['dez','vinte','trinta'], rotation=45)\n",
        "ax.annotate('ponto chave', xy=(20,4), xytext=(25,5),\n",
        "            arrowprops=dict(facecolor='black', shrink=0.05))\n",
        "ax.set_title('Ticks e Anotações')\n",
        "plt.tight_layout()\n",
        "plt.show()\n"
      ]
    },
    {
      "cell_type": "code",
      "execution_count": null,
      "metadata": {
        "id": "9WBOzoQq6eLY"
      },
      "outputs": [],
      "source": [
        "# Pratique seu código aqui!\n"
      ]
    },
    {
      "cell_type": "markdown",
      "metadata": {
        "id": "UT6_zdtg6eLY"
      },
      "source": [
        "* **O que o código faz:**  \n",
        "\n",
        "  **1) Explicação Linha a Linha (Diálogo com o Código):**  \n",
        "\n",
        "  ```python\n",
        "  # “Crie Figura e Axes.”  \n",
        "  fig, ax = plt.subplots()  \n",
        "\n",
        "  # “Plote dados com marcadores.”  \n",
        "  ax.plot([10,20,30], [1,4,9], marker='o')  \n",
        "\n",
        "  # “Defina ticks customizados e gire labels.”  \n",
        "  ax.set_xticks([10,20,30])  \n",
        "  ax.set_xticklabels(['dez','vinte','trinta'], rotation=45)  \n",
        "\n",
        "  # “Anote ponto-chave com seta.”  \n",
        "  ax.annotate('ponto chave', xy=(20,4), xytext=(25,5),  \n",
        "              arrowprops=dict(facecolor='black', shrink=0.05))  \n",
        "\n",
        "  # “Ajuste layout e mostre.”  \n",
        "  plt.tight_layout()  \n",
        "  plt.show()  \n",
        "  ```\n",
        "\n",
        "  **2) Tabela de Estados Intermediários:**\n",
        "\n",
        "  ```markdown\n",
        "  | Passo               | Expressão               | Descrição                       |\n",
        "  |:-------------------:|:------------------------|:---------------------------------|\n",
        "  | 1                   | `set_xticks()`          | Posições dos ticks definidos     |\n",
        "  | 2                   | `set_xticklabels()`     | Labels customizados rotacionados |\n",
        "  | 3                   | `annotate()`            | Texto com seta no plot           |\n",
        "  ```\n",
        "\n",
        "  **3) Diagrama Mental (A Analogia Central):**  \n",
        "  É como marcar pontos de interesse em um mapa impresso e colar etiquetas coloridas giradas para destaque.\n",
        "\n",
        "* **Cenário de Mercado:**  \n",
        "  - Em **relatórios financeiros**, customizar ticks e anotar eventos de mercado (ex: crash, pico) clarifica insights.  \n",
        "\n",
        "* **Boas Práticas:**  \n",
        "  - **Afirmação:** “Use `annotate()` para destacar valores importantes.”  \n",
        "    - **Porquê:** Chama atenção para pontos críticos sem poluir o gráfico.  \n",
        "    - **Analogia:** É como colocar um post-it em um relatório impresso.\n"
      ]
    },
    {
      "cell_type": "markdown",
      "metadata": {
        "id": "65n5JlX56eLY"
      },
      "source": [
        "#### **Nível DEUS (3/3): Exportação Avançada e Backends Interativos**\n"
      ]
    },
    {
      "cell_type": "code",
      "execution_count": null,
      "metadata": {
        "id": "nqOWkxBZ6eLY"
      },
      "outputs": [],
      "source": [
        "import matplotlib.pyplot as plt\n",
        "\n",
        "# Escolha backend interativo (ex: 'nbAgg' em notebooks)\n",
        "plt.switch_backend('Agg')\n",
        "\n",
        "fig, ax = plt.subplots()\n",
        "ax.plot([0,1,2], [0,1,4])\n",
        "# Salva em vários formatos\n",
        "for fmt in ['png','svg','pdf']:\n",
        "    fig.savefig(f'grafico_avancado.{fmt}', dpi=300, format=fmt)\n",
        "\n",
        "print(\"Gráficos salvos em PNG, SVG e PDF.\")\n"
      ]
    },
    {
      "cell_type": "code",
      "execution_count": null,
      "metadata": {
        "id": "0Pdkcjb_6eLY"
      },
      "outputs": [],
      "source": [
        "# Pratique seu código aqui!\n"
      ]
    },
    {
      "cell_type": "markdown",
      "metadata": {
        "id": "IRdOIbYq6eLY"
      },
      "source": [
        "* **O que o código faz:**  \n",
        "\n",
        "  **1) Explicação Linha a Linha (Diálogo com o Código):**  \n",
        "\n",
        "  ```python\n",
        "  # “Importe pyplot.”  \n",
        "  import matplotlib.pyplot as plt  \n",
        "\n",
        "  # “Altere backend para não-GUI (‘Agg’).”  \n",
        "  plt.switch_backend('Agg')  \n",
        "\n",
        "  # “Crie figura e plote dados.”  \n",
        "  fig, ax = plt.subplots()  \n",
        "  ax.plot([0,1,2], [0,1,4])  \n",
        "\n",
        "  # “Salve em PNG, SVG e PDF com DPI 300.”  \n",
        "  for fmt in ['png','svg','pdf']:  \n",
        "      fig.savefig(f'grafico_avancado.{fmt}', dpi=300, format=fmt)  \n",
        "\n",
        "  # “Confirme no console.”  \n",
        "  print(\"Gráficos salvos em PNG, SVG e PDF.\")  \n",
        "  ```\n",
        "\n",
        "  **2) Tabela de Estados Intermediários:**\n",
        "\n",
        "  ```markdown\n",
        "  | Passo         | Expressão                    | Descrição                         |\n",
        "  |:-------------:|:-----------------------------|:-----------------------------------|\n",
        "  | 1             | `switch_backend('Agg')`      | Define ambiente sem GUI           |\n",
        "  | 2             | `savefig(...,format=fmt)`    | Gera arquivos em múltiplos formatos|\n",
        "  ```\n",
        "\n",
        "  **3) Diagrama Mental (A Analogia Central):**  \n",
        "  Mudar backend é como escolher entre desenhar à mão (GUI) ou imprimir diretamente em diferentes tipos de papel (formatos de arquivo).\n",
        "\n",
        "* **Cenário de Mercado:**  \n",
        "  - Em **relatórios automatizados**, scripts geram figuras em batch para publicação web (SVG) e impressão (PDF).  \n",
        "\n",
        "* **Boas Práticas:**  \n",
        "  - **Afirmação:** “Escolha backend adequado ao ambiente.”  \n",
        "    - **Porquê:** Evita dependências de GUI em servidores e garante compatibilidade de formatos.  \n",
        "    - **Analogia:** É como usar impressora laser para PDF e plotter para SVG.\n"
      ]
    },
    {
      "cell_type": "markdown",
      "metadata": {
        "id": "oqrLYDaS6eLY"
      },
      "source": [
        "### 3. 🕸️ Profundezas e Conexões\n",
        "\n",
        "<br>\n",
        "\n",
        "Matplotlib interage com **Seaborn**, **Pandas plotting API**, **Plotly** e **Bokeh**. Dominar Matplotlib é fundamental para entender frameworks de visualização de mais alto nível e gerar figuras personalizadas para publicações e dashboards.\n",
        "\n",
        "<br>\n",
        "\n",
        "---\n",
        "<br>\n"
      ]
    },
    {
      "cell_type": "markdown",
      "metadata": {
        "id": "Je7Y7Shv6eLZ"
      },
      "source": [
        "### 4. 🚀 Ação e Verificação\n",
        "\n",
        "<br>\n",
        "\n",
        "#### **🤔 Desafio Prático**\n",
        "1. Importe `matplotlib.pyplot` e plote uma curva quadrática `y = x²` para `x` de 0 a 10.  \n",
        "2. Personalize a curva com linha vermelha pontilhada e círculo em cada ponto.  \n",
        "3. Crie uma figura 8×4 com dois subplots: um de linha `y=x²` e outro de barra `y=x`.  \n",
        "4. Use a API OOP para plotar `y=x³` e salve como SVG.  \n",
        "5. Anote o ponto `(5,25)` no gráfico da curva quadrática usando seta.\n",
        "\n",
        "<br>\n",
        "\n",
        "#### **❓ Pergunta de Verificação**\n",
        "Qual a principal vantagem da API orientada a objetos em cenários com múltiplos eixos e salvamento automatizado?\n",
        "\n",
        "<br>\n",
        "\n",
        "---\n",
        "<br>\n"
      ]
    }
  ]
}