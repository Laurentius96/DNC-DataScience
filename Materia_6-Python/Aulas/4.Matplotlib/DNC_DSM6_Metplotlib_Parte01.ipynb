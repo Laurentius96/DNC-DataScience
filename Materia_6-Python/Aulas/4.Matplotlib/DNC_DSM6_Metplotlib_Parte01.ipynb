{
  "nbformat": 4,
  "nbformat_minor": 0,
  "metadata": {
    "colab": {
      "provenance": []
    },
    "kernelspec": {
      "name": "python3",
      "display_name": "Python 3"
    }
  },
  "cells": [
    {
      "cell_type": "markdown",
      "metadata": {
        "id": "ccCXzg_n2h2I"
      },
      "source": [
        "## 🎓 **Aula sobre: Matplotlib para Visualização de Dados em Python**\n",
        "\n",
        "<br>\n",
        "\n",
        "### 🧭 Sumário da Aula\n",
        "\n",
        "| # | Sub-tópico                         | Tempo Estimado | Complexidade |\n",
        "|---|------------------------------------|----------------|--------------|\n",
        "| 1 | Ficha de Revisão Rápida            | ~1 min         | ⭐           |\n",
        "| 2 | Mergulho Profundo                  | ~15 min        | ⭐⭐⭐⭐       |\n",
        "| 3 | Profundezas e Conexões             | ~3 min         | ⭐⭐         |\n",
        "| 4 | 🚀 Ação e Verificação               | ~5 min         | ⭐⭐         |\n",
        "| 5 | 🌊 Mergulhos Adicionais Opcionais   | Opcional       | ⭐⭐⭐⭐      |\n",
        "\n",
        "<br>\n",
        "\n",
        "---\n",
        "<br>\n"
      ]
    },
    {
      "cell_type": "markdown",
      "metadata": {
        "id": "OGHay-YY2h2K"
      },
      "source": [
        "### 1. 🧠 Ficha de Revisão Rápida | (O Essencial)\n",
        "\n",
        "<br>\n",
        "\n",
        "> - **`import matplotlib.pyplot as plt`**: carrega a API procedural.  \n",
        "> - **`plt.plot(x, y)`**: plota linha conectando pontos.  \n",
        "> - **`plt.title()`, `plt.xlabel()`, `plt.ylabel()`**: adiciona títulos e rótulos.  \n",
        "> - **`plt.figure(figsize=(w,h))`**: define tamanho em polegadas.  \n",
        "> - **`plt.subplot()`** / **`plt.subplots()`**: subdivide área de desenho.  \n",
        "> - **Orientação a Objetos**: use `fig, ax = plt.subplots()` e métodos `ax.plot()`.\n",
        "\n",
        "<br>\n"
      ]
    },
    {
      "cell_type": "markdown",
      "metadata": {
        "id": "vFuKZLzE2h2K"
      },
      "source": [
        "### 2. 🔬 Mergulho Profundo | (Os Detalhes)\n",
        "\n",
        "<br>\n",
        "\n",
        "#### **🎯 O Conceito Central**  \n",
        "Matplotlib oferece duas APIs:  \n",
        "- **Procedural** (`plt.*`): comandos globais que atuam na “figura atual”.  \n",
        "- **Orientada a Objetos** (`fig`, `ax`): cria objetos `Figure` e `Axes`, controlando múltiplos subplots de forma explícita.\n",
        "\n",
        "<br>\n",
        "\n",
        "#### **🔗 Analogia de Data Science**  \n",
        "Pense em **`plt`** como um pincel que pinta numa tela ativa; já **`fig, ax`** é um estúdio com várias telas (subplots), cada qual com seu pincel próprio, permitindo pintar desenhos distintos lado a lado.\n",
        "\n",
        "<br>\n"
      ]
    },
    {
      "cell_type": "markdown",
      "metadata": {
        "id": "xNMLecua2h2K"
      },
      "source": [
        "### **💻 Exemplos de Mercado (Abrangentes)**\n"
      ]
    },
    {
      "cell_type": "markdown",
      "metadata": {
        "id": "_ZuvQdmQ2h2L"
      },
      "source": [
        "#### **Nível Simples: Importação e Plotagem Básica**\n"
      ]
    },
    {
      "cell_type": "code",
      "execution_count": null,
      "metadata": {
        "id": "6aVtq_OH2h2L"
      },
      "outputs": [],
      "source": [
        "import matplotlib.pyplot as plt\n",
        "\n",
        "# Dados de exemplo\n",
        "x = [1, 2, 3, 4, 5]\n",
        "y = [2, 4, 6, 8, 10]\n",
        "\n",
        "# Plotagem básica\n",
        "plt.plot(x, y)\n",
        "plt.title(\"Relação x vs y\")\n",
        "plt.xlabel(\"x\")\n",
        "plt.ylabel(\"y\")\n",
        "plt.show()\n"
      ]
    },
    {
      "cell_type": "code",
      "execution_count": 1,
      "metadata": {
        "colab": {
          "base_uri": "https://localhost:8080/",
          "height": 383
        },
        "id": "OVs3HJen2h2L",
        "outputId": "2fcd8f46-a07f-4958-a80b-25b0aa3d8eb9"
      },
      "outputs": [
        {
          "output_type": "error",
          "ename": "ModuleNotFoundError",
          "evalue": "No module named 'matplotlib.pylot'",
          "traceback": [
            "\u001b[0;31m---------------------------------------------------------------------------\u001b[0m",
            "\u001b[0;31mModuleNotFoundError\u001b[0m                       Traceback (most recent call last)",
            "\u001b[0;32m/tmp/ipython-input-1-492526418.py\u001b[0m in \u001b[0;36m<cell line: 0>\u001b[0;34m()\u001b[0m\n\u001b[1;32m      1\u001b[0m \u001b[0;31m# Pratique seu código aqui!\u001b[0m\u001b[0;34m\u001b[0m\u001b[0;34m\u001b[0m\u001b[0m\n\u001b[1;32m      2\u001b[0m \u001b[0;34m\u001b[0m\u001b[0m\n\u001b[0;32m----> 3\u001b[0;31m \u001b[0;32mimport\u001b[0m \u001b[0mmatplotlib\u001b[0m\u001b[0;34m.\u001b[0m\u001b[0mpylot\u001b[0m \u001b[0;32mas\u001b[0m \u001b[0mplt\u001b[0m\u001b[0;34m\u001b[0m\u001b[0;34m\u001b[0m\u001b[0m\n\u001b[0m\u001b[1;32m      4\u001b[0m \u001b[0;34m\u001b[0m\u001b[0m\n\u001b[1;32m      5\u001b[0m \u001b[0mx\u001b[0m \u001b[0;34m=\u001b[0m \u001b[0;34m[\u001b[0m\u001b[0;36m1\u001b[0m\u001b[0;34m,\u001b[0m \u001b[0;36m2\u001b[0m\u001b[0;34m,\u001b[0m \u001b[0;36m3\u001b[0m\u001b[0;34m,\u001b[0m \u001b[0;36m4\u001b[0m\u001b[0;34m,\u001b[0m \u001b[0;36m5\u001b[0m\u001b[0;34m]\u001b[0m\u001b[0;34m\u001b[0m\u001b[0;34m\u001b[0m\u001b[0m\n",
            "\u001b[0;31mModuleNotFoundError\u001b[0m: No module named 'matplotlib.pylot'",
            "",
            "\u001b[0;31m---------------------------------------------------------------------------\u001b[0;32m\nNOTE: If your import is failing due to a missing package, you can\nmanually install dependencies using either !pip or !apt.\n\nTo view examples of installing some common dependencies, click the\n\"Open Examples\" button below.\n\u001b[0;31m---------------------------------------------------------------------------\u001b[0m\n"
          ],
          "errorDetails": {
            "actions": [
              {
                "action": "open_url",
                "actionText": "Open Examples",
                "url": "/notebooks/snippets/importing_libraries.ipynb"
              }
            ]
          }
        }
      ],
      "source": [
        "# Pratique seu código aqui!\n",
        "\n",
        "import matplotlib.pylot as plt\n",
        "\n",
        "x = [1, 2, 3, 4, 5]\n",
        "y = [2, 4, 6, 8, 10]\n",
        "\n",
        "plt.plot(x, y)\n"
      ]
    },
    {
      "cell_type": "markdown",
      "metadata": {
        "id": "rbuU6Sbp2h2M"
      },
      "source": [
        "* **O que o código faz:**  \n",
        "\n",
        "  **1) Explicação Linha a Linha (Diálogo com o Código):**  \n",
        "  ```python\n",
        "  # “Importe a API pyplot como plt.”  \n",
        "  import matplotlib.pyplot as plt  \n",
        "\n",
        "  # “Defina listas x e y.”  \n",
        "  x = [1,2,3,4,5]  \n",
        "  y = [2,4,6,8,10]  \n",
        "\n",
        "  # “Plote linha conectando x e y.”  \n",
        "  plt.plot(x, y)  \n",
        "\n",
        "  # “Adicione título e rótulos aos eixos.”  \n",
        "  plt.title(\"Relação x vs y\")  \n",
        "  plt.xlabel(\"x\")  \n",
        "  plt.ylabel(\"y\")  \n",
        "\n",
        "  # “Exiba o gráfico.”  \n",
        "  plt.show()  \n",
        "  ```\n",
        "\n",
        "  **2) Tabela de Estados Intermediários:**\n",
        "\n",
        "  | Passo            | Expressão            | Estado resultante          | Descrição                         |\n",
        "  |:----------------:|:---------------------|:---------------------------|:----------------------------------|\n",
        "  | 1                | `plt.plot(x,y)`      | Linha azul desenhada       | Canvas com dados plotados         |\n",
        "  | 2                | `plt.title(...)`     | Título exibido             | Metainformação do gráfico         |\n",
        "  | 3                | `plt.xlabel/ylabel`  | Rótulos nos eixos          | Clarifica unidades                |\n",
        "  | 4                | `plt.show()`         | Janela do gráfico aberta   | Render final                      |\n",
        "\n",
        "  **3) Diagrama Mental (A Analogia Central):**  \n",
        "  Imagine traçar pontos numa cartolina e unir com régua, depois colar um selo de título no topo e etiquetas nos lados para entender o que cada eixo representa.\n",
        "\n",
        "* **Cenário de Mercado:**  \n",
        "  Em **exploração de dados**, antes de modelar, plota-se relações simples (ex: idade vs salário) para detectar tendências e outliers.\n",
        "\n",
        "* **Boas Práticas:**  \n",
        "  - **Afirmação:** “Chame sempre `plt.show()` no final.”  \n",
        "    - **Porquê:** Garante renderização correta em diferentes ambientes (scripts, notebooks).  \n",
        "    - **Analogia:** É como soltar o botão do pincel só depois de terminar a pintura.\n"
      ]
    },
    {
      "cell_type": "markdown",
      "metadata": {
        "id": "pbLeVD-a2h2M"
      },
      "source": [
        "#### **Nível Intermediário: Personalização e Tamanho da Figura**\n"
      ]
    },
    {
      "cell_type": "code",
      "execution_count": null,
      "metadata": {
        "id": "HucH9eyL2h2M"
      },
      "outputs": [],
      "source": [
        "import matplotlib.pyplot as plt\n",
        "\n",
        "# Dados de exemplo\n",
        "x = [1,2,3,4,5]\n",
        "y = [2,3,5,7,11]\n",
        "\n",
        "# Define tamanho da figura em polegadas\n",
        "plt.figure(figsize=(8,4))\n",
        "\n",
        "# Personaliza cor, estilo e marcador\n",
        "plt.plot(x, y, color='green', linestyle='--', marker='o', label='primos')\n",
        "plt.title(\"Sequência de Números Primos\")\n",
        "plt.xlabel(\"Índice\")\n",
        "plt.ylabel(\"Primeiro Primo + Índice\")\n",
        "plt.legend()\n",
        "plt.grid(True)\n",
        "plt.show()\n"
      ]
    },
    {
      "cell_type": "code",
      "execution_count": null,
      "metadata": {
        "id": "vjYRXuov2h2M"
      },
      "outputs": [],
      "source": [
        "# Pratique seu código aqui!\n"
      ]
    },
    {
      "cell_type": "markdown",
      "metadata": {
        "id": "qX3B0KJ_2h2N"
      },
      "source": [
        "* **O que o código faz:**  \n",
        "\n",
        "  **1) Explicação Linha a Linha (Diálogo com o Código):**  \n",
        "  ```python\n",
        "  # “Importe pyplot.”  \n",
        "  import matplotlib.pyplot as plt  \n",
        "\n",
        "  # “Crie figura de 8×4 polegadas.”  \n",
        "  plt.figure(figsize=(8,4))  \n",
        "\n",
        "  # “Plote linha verde tracejada com marcadores circulares.”  \n",
        "  plt.plot(x, y, color='green', linestyle='--', marker='o', label='primos')  \n",
        "\n",
        "  # “Adicione título, rótulos, legenda e grade.”  \n",
        "  plt.title(\"Sequência de Números Primos\")  \n",
        "  plt.xlabel(\"Índice\")  \n",
        "  plt.ylabel(\"Primeiro Primo + Índice\")  \n",
        "  plt.legend()  \n",
        "  plt.grid(True)  \n",
        "\n",
        "  # “Renderize o gráfico.”  \n",
        "  plt.show()  \n",
        "  ```\n",
        "\n",
        "  **2) Tabela de Estados Intermediários:**\n",
        "\n",
        "  | Passo                 | Expressão                         | Estado resultante            | Descrição                              |\n",
        "  |:---------------------:|:----------------------------------|:-----------------------------|:---------------------------------------|\n",
        "  | 1                     | `plt.figure(figsize=(8,4))`      | Canvas maior                 | Espaço de desenho ampliado             |\n",
        "  | 2                     | `plt.plot(...,marker='o')`       | Pontos destacados            | Visualização de cada ponto             |\n",
        "  | 3                     | `plt.legend()/plt.grid(True)`    | Legenda e grade              | Torna leitura mais fácil               |\n",
        "  | 4                     | `plt.show()`                     | Janela exibida               | Finalização do gráfico                 |\n",
        "\n",
        "  **3) Diagrama Mental (A Analogia Central):**  \n",
        "  É como escolher um quadro maior para a pintura, usar tinta verde pontilhada e colar etiquetas explicativas e uma moldura de grade para guiar o olhar.\n",
        "\n",
        "* **Cenário de Mercado:**  \n",
        "  Em **relatórios executivos**, gráficos estilizados e com tamanho custom garantem legibilidade em apresentações e dashboards.\n",
        "\n",
        "* **Boas Práticas:**  \n",
        "  - **Afirmação:** “Sempre ajuste `figsize` antes de plotar.”  \n",
        "    - **Porquê:** Evita cortes e melhora proporção em relatórios.  \n",
        "    - **Analogia:** É como escolher o tamanho da tela antes de começar a pintar.\n"
      ]
    },
    {
      "cell_type": "markdown",
      "metadata": {
        "id": "s3hA17YO2h2N"
      },
      "source": [
        "#### **Nível Avançado: Subplots para Múltiplas Visualizações**\n"
      ]
    },
    {
      "cell_type": "code",
      "execution_count": null,
      "metadata": {
        "id": "XvRtZ1yw2h2N"
      },
      "outputs": [],
      "source": [
        "import matplotlib.pyplot as plt\n",
        "\n",
        "# Dados\n",
        "x = range(1,6)\n",
        "y1 = [i**2 for i in x]\n",
        "y2 = [i**3 for i in x]\n",
        "\n",
        "# Cria 1 linha, 2 colunas de subplots\n",
        "fig, axes = plt.subplots(1, 2, figsize=(10,4))\n",
        "\n",
        "# Primeiro subplot: quadrados\n",
        "axes[0].plot(x, y1, color='red')\n",
        "axes[0].set_title(\"x²\")\n",
        "axes[0].set_xlabel(\"x\")\n",
        "axes[0].set_ylabel(\"x quadrado\")\n",
        "\n",
        "# Segundo subplot: cubos\n",
        "axes[1].plot(x, y2, color='blue')\n",
        "axes[1].set_title(\"x³\")\n",
        "axes[1].set_xlabel(\"x\")\n",
        "axes[1].set_ylabel(\"x cubo\")\n",
        "\n",
        "plt.tight_layout()\n",
        "plt.show()\n"
      ]
    },
    {
      "cell_type": "code",
      "execution_count": null,
      "metadata": {
        "id": "I3deeG1A2h2N"
      },
      "outputs": [],
      "source": [
        "# Pratique seu código aqui!\n"
      ]
    },
    {
      "cell_type": "markdown",
      "metadata": {
        "id": "vVg-cg602h2N"
      },
      "source": [
        "* **O que o código faz:**  \n",
        "\n",
        "  **1) Explicação Linha a Linha (Diálogo com o Código):**  \n",
        "  ```python\n",
        "  # “Importe pyplot.”  \n",
        "  import matplotlib.pyplot as plt  \n",
        "\n",
        "  # “Crie figura com 1×2 subplots e tamanho 10×4.”  \n",
        "  fig, axes = plt.subplots(1, 2, figsize=(10,4))  \n",
        "\n",
        "  # “No axes[0], plote x² em vermelho e adicione títulos.”  \n",
        "  axes[0].plot(x, y1, color='red')  \n",
        "  axes[0].set_title(\"x²\")  \n",
        "  axes[0].set_xlabel(\"x\")  \n",
        "  axes[0].set_ylabel(\"x quadrado\")  \n",
        "\n",
        "  # “No axes[1], plote x³ em azul e adicione títulos.”  \n",
        "  axes[1].plot(x, y2, color='blue')  \n",
        "  axes[1].set_title(\"x³\")  \n",
        "  axes[1].set_xlabel(\"x\")  \n",
        "  axes[1].set_ylabel(\"x cubo\")  \n",
        "\n",
        "  # “Ajuste espaçamento e exiba.”  \n",
        "  plt.tight_layout()  \n",
        "  plt.show()  \n",
        "  ```\n",
        "\n",
        "  **2) Tabela de Estados Intermediários:**\n",
        "\n",
        "  | Passo                   | Expressão                     | Estado resultante      | Descrição                          |\n",
        "  |:-----------------------:|:------------------------------|:-----------------------|:-----------------------------------|\n",
        "  | 1                       | `plt.subplots(1,2,...)`       | Matriz de Axes         | Dois eixos independentes           |\n",
        "  | 2                       | `axes[0].plot()/axes[1].plot` | Dois gráficos distintos| Visualizações lado a lado          |\n",
        "  | 3                       | `plt.tight_layout()`          | Layout ajustado        | Evita sobreposições                |\n",
        "  | 4                       | `plt.show()`                  | Janela exibida         | Render final                       |\n",
        "\n",
        "  **3) Diagrama Mental (A Analogia Central):**  \n",
        "  Como pintar duas telas lado a lado, cada uma com um desenho diferente, mas dentro da mesma moldura.\n",
        "\n",
        "* **Cenário de Mercado:**  \n",
        "  Em **comparativos de métricas**, subplots exibem evolução de diferentes indicadores simultaneamente, facilitando correlações.\n",
        "\n",
        "* **Boas Práticas:**  \n",
        "  - **Afirmação:** “Use `tight_layout()` após múltiplos subplots.”  \n",
        "    - **Porquê:** Garante que rótulos não se sobreponham.  \n",
        "    - **Analogia:** É como enquadrar quadros para não bater em outros na parede.\n"
      ]
    },
    {
      "cell_type": "markdown",
      "metadata": {
        "id": "zbmN9IQz2h2N"
      },
      "source": [
        "#### **Nível DEUS (1/3): Orientação a Objetos — Figure e Axes**\n"
      ]
    },
    {
      "cell_type": "code",
      "execution_count": null,
      "metadata": {
        "id": "uFCik1402h2N"
      },
      "outputs": [],
      "source": [
        "import matplotlib.pyplot as plt\n",
        "\n",
        "# Cria figura e dois eixos manualmente\n",
        "fig = plt.figure(figsize=(8,4))\n",
        "ax1 = fig.add_subplot(121)\n",
        "ax2 = fig.add_subplot(122)\n",
        "\n",
        "# Plota em cada eixo\n",
        "ax1.bar(['A','B','C'], [5,7,3], color='skyblue')\n",
        "ax1.set_title(\"Gráfico de Barras\")\n",
        "\n",
        "ax2.scatter([1,2,3], [4,1,3], color='orange')\n",
        "ax2.set_title(\"Dispersão\")\n",
        "\n",
        "plt.show()\n"
      ]
    },
    {
      "cell_type": "code",
      "execution_count": null,
      "metadata": {
        "id": "A3kcj_GL2h2O"
      },
      "outputs": [],
      "source": [
        "# Pratique seu código aqui!\n"
      ]
    },
    {
      "cell_type": "markdown",
      "metadata": {
        "id": "dTbDq_6F2h2O"
      },
      "source": [
        "* **O que o código faz:**  \n",
        "\n",
        "  **1) Explicação Linha a Linha (Diálogo com o Código):**  \n",
        "  ```python\n",
        "  # “Importe pyplot.”  \n",
        "  import matplotlib.pyplot as plt  \n",
        "\n",
        "  # “Crie Figure de 8×4.”  \n",
        "  fig = plt.figure(figsize=(8,4))  \n",
        "\n",
        "  # “Adicione dois subplots manualmente (121 e 122).”  \n",
        "  ax1 = fig.add_subplot(121)  \n",
        "  ax2 = fig.add_subplot(122)  \n",
        "\n",
        "  # “No ax1, desenhe barras; no ax2, um scatter.”  \n",
        "  ax1.bar(['A','B','C'], [5,7,3], color='skyblue')  \n",
        "  ax1.set_title(\"Gráfico de Barras\")  \n",
        "  ax2.scatter([1,2,3], [4,1,3], color='orange')  \n",
        "  ax2.set_title(\"Dispersão\")  \n",
        "\n",
        "  # “Mostre a figura.”  \n",
        "  plt.show()  \n",
        "  ```\n",
        "\n",
        "  **2) Tabela de Estados Intermediários:**\n",
        "\n",
        "  | Passo                   | Expressão                 | Estado resultante      | Descrição                              |\n",
        "  |:-----------------------:|:--------------------------|:-----------------------|:---------------------------------------|\n",
        "  | 1                       | `fig.add_subplot(121)`    | ax1 criado             | Eixo para barras                       |\n",
        "  | 2                       | `fig.add_subplot(122)`    | ax2 criado             | Eixo para dispersão                    |\n",
        "  | 3                       | `ax1.bar()/ax2.scatter`   | Dois gráficos          | Diferentes tipos no mesmo Figure       |\n",
        "  | 4                       | `plt.show()`              | Janela exibida         | Render final                           |\n",
        "\n",
        "  **3) Diagrama Mental (A Analogia Central):**  \n",
        "  Figure é uma prancha; cada Axes é uma área de desenho onde você escolhe o tipo de pincel (barras ou pontos).\n",
        "\n",
        "* **Cenário de Mercado:**  \n",
        "  Em **dashboards customizados**, controle explícito de eixos permite alinhar estilos e comportamentos de cada painel.\n",
        "\n",
        "* **Boas Práticas:**  \n",
        "  - **Afirmação:** “Prefira `Figure`/`Axes` em layouts complexos.”  \n",
        "    - **Porquê:** Facilita ajustes finos de cada subplot.  \n",
        "    - **Analogia:** É como ter pincéis separados para cada detalhe da pintura.\n"
      ]
    },
    {
      "cell_type": "markdown",
      "metadata": {
        "id": "zqtrcOo72h2O"
      },
      "source": [
        "#### **Nível DEUS (2/3): Diferentes Estilos e Salvamento de Figuras**\n"
      ]
    },
    {
      "cell_type": "code",
      "execution_count": null,
      "metadata": {
        "id": "lDG6Yghw2h2O"
      },
      "outputs": [],
      "source": [
        "import matplotlib.pyplot as plt\n",
        "\n",
        "# Define estilo global\n",
        "plt.style.use('seaborn-darkgrid')\n",
        "x = [0,1,2,3,4]\n",
        "y = [1,3,2,5,4]\n",
        "\n",
        "fig, ax = plt.subplots()\n",
        "ax.plot(x, y, marker='s')\n",
        "ax.set(title=\"Estilo Seaborn\", xlabel=\"x\", ylabel=\"y\")\n",
        "fig.savefig('grafico_seaborn.png', dpi=150)\n",
        "plt.show()\n"
      ]
    },
    {
      "cell_type": "code",
      "execution_count": null,
      "metadata": {
        "id": "5CNuhNSO2h2O"
      },
      "outputs": [],
      "source": [
        "# Pratique seu código aqui!\n"
      ]
    },
    {
      "cell_type": "markdown",
      "metadata": {
        "id": "ebyc6_P_2h2O"
      },
      "source": [
        "* **O que o código faz:**  \n",
        "\n",
        "  **1) Explicação Linha a Linha (Diálogo com o Código):**  \n",
        "  ```python\n",
        "  # “Importe pyplot.”  \n",
        "  import matplotlib.pyplot as plt  \n",
        "\n",
        "  # “Use estilo seaborn darkgrid.”  \n",
        "  plt.style.use('seaborn-darkgrid')  \n",
        "\n",
        "  # “Crie figura e eixo.”  \n",
        "  fig, ax = plt.subplots()  \n",
        "\n",
        "  # “Plote com marcadores quadrados.”  \n",
        "  ax.plot(x, y, marker='s')  \n",
        "\n",
        "  # “Adicione títulos e rótulos.”  \n",
        "  ax.set(title=\"Estilo Seaborn\", xlabel=\"x\", ylabel=\"y\")  \n",
        "\n",
        "  # “Salve figura em PNG com 150 DPI.”  \n",
        "  fig.savefig('grafico_seaborn.png', dpi=150)  \n",
        "\n",
        "  # “Exiba na tela.”  \n",
        "  plt.show()  \n",
        "  ```\n",
        "\n",
        "  **2) Tabela de Estados Intermediários:**\n",
        "\n",
        "  | Passo                     | Expressão                          | Estado resultante      | Descrição                            |\n",
        "  |:-------------------------:|:-----------------------------------|:-----------------------|:-------------------------------------|\n",
        "  | 1                         | `plt.style.use(...)`              | Estilo aplicado        | Aparência global dos gráficos        |\n",
        "  | 2                         | `fig.savefig(..., dpi=150)`       | Arquivo PNG criado     | Exportação de alta resolução         |\n",
        "  | 3                         | `plt.show()`                      | Janela exibida         | Render final                         |\n",
        "\n",
        "  **3) Diagrama Mental (A Analogia Central):**  \n",
        "  Estilos são filtros de pintura; salvar é tirar foto da tela em alta resolução para relatório.\n",
        "\n",
        "* **Cenário de Mercado:**  \n",
        "  Em **publicações acadêmicas**, aplicar estilos e salvar figuras em alta DPI é essencial para legibilidade em artigos.\n",
        "\n",
        "* **Boas Práticas:**  \n",
        "  - **Afirmação:** “Escolha estilo compatível com sua marca.”  \n",
        "    - **Porquê:** Mantém consistência visual em relatórios.  \n",
        "    - **Analogia:** É como uniformizar cores de um manual corporativo.\n"
      ]
    },
    {
      "cell_type": "markdown",
      "metadata": {
        "id": "3gFD8IAH2h2O"
      },
      "source": [
        "#### **Nível DEUS (3/3): Interatividade e Widgets (Básico)**\n"
      ]
    },
    {
      "cell_type": "code",
      "execution_count": null,
      "metadata": {
        "id": "8Yz2PEEq2h2P"
      },
      "outputs": [],
      "source": [
        "import matplotlib.pyplot as plt\n",
        "from matplotlib.widgets import Slider\n",
        "\n",
        "# Dados\n",
        "x = [i for i in range(100)]\n",
        "y = [i**2 for i in x]\n",
        "\n",
        "fig, ax = plt.subplots()\n",
        "line, = ax.plot(x, y, lw=2)\n",
        "plt.subplots_adjust(bottom=0.25)\n",
        "\n",
        "# Slider para ajustar fator de escala\n",
        "axcolor = 'lightgoldenrodyellow'\n",
        "ax_slider = plt.axes([0.2, 0.1, 0.65, 0.03], facecolor=axcolor)\n",
        "slider = Slider(ax_slider, 'Escala', 0.1, 2.0, valinit=1.0)\n",
        "\n",
        "def update(val):\n",
        "    scale = slider.val\n",
        "    line.set_ydata([i**2 * scale for i in x])\n",
        "    fig.canvas.draw_idle()\n",
        "\n",
        "slider.on_changed(update)\n",
        "plt.show()\n"
      ]
    },
    {
      "cell_type": "code",
      "execution_count": null,
      "metadata": {
        "id": "VTrTx84b2h2P"
      },
      "outputs": [],
      "source": [
        "# Pratique seu código aqui!\n"
      ]
    },
    {
      "cell_type": "markdown",
      "metadata": {
        "id": "RB5Z_ZdW2h2P"
      },
      "source": [
        "* **O que o código faz:**  \n",
        "\n",
        "  **1) Explicação Linha a Linha (Diálogo com o Código):**  \n",
        "  ```python\n",
        "  # “Importe pyplot e Slider.”  \n",
        "  import matplotlib.pyplot as plt  \n",
        "  from matplotlib.widgets import Slider  \n",
        "\n",
        "  # “Crie figura e plote x².”  \n",
        "  fig, ax = plt.subplots()  \n",
        "  line, = ax.plot(x, y, lw=2)  \n",
        "  plt.subplots_adjust(bottom=0.25)  \n",
        "\n",
        "  # “Adicione eixo do slider embaixo.”  \n",
        "  ax_slider = plt.axes([0.2,0.1,0.65,0.03], facecolor='lightgoldenrodyellow')  \n",
        "  slider = Slider(ax_slider, 'Escala', 0.1,2.0, valinit=1.0)  \n",
        "\n",
        "  # “Função update altera y² usando valor do slider.”  \n",
        "  def update(val):  \n",
        "      line.set_ydata([i**2 * slider.val for i in x])  \n",
        "      fig.canvas.draw_idle()  \n",
        "\n",
        "  # “Conecte slider ao update e exiba.”  \n",
        "  slider.on_changed(update)  \n",
        "  plt.show()  \n",
        "  ```\n",
        "\n",
        "  **2) Tabela de Estados Intermediários:**\n",
        "\n",
        "  | Passo      | Expressão             | Estado resultante      | Descrição                               |\n",
        "  |:----------:|:----------------------|:-----------------------|:----------------------------------------|\n",
        "  | 1          | `Slider(...)`         | Widget criado          | Interface para controle dinâmico        |\n",
        "  | 2          | `on_changed(update)`  | Callback vinculado     | Atualiza gráfico em tempo real          |\n",
        "  | 3          | `plt.show()`          | Janela interativa      | Permite manipulação pelo usuário        |\n",
        "\n",
        "  **3) Diagrama Mental (A Analogia Central):**  \n",
        "  Slider é como um botão de volume: ao girar, você ajusta na hora o efeito aplicado ao gráfico.\n",
        "\n",
        "* **Cenário de Mercado:**  \n",
        "  Em **dashboards interativos**, sliders permitem ao analista ajustar parâmetros (ex: janela de tempo) e ver resultados instantâneos.\n",
        "\n",
        "* **Boas Práticas:**  \n",
        "  - **Afirmação:** “Use interatividade com parcimônia.”  \n",
        "    - **Porquê:** Widgets podem impactar performance se muitos forem usados.  \n",
        "    - **Analogia:** É como painéis de controle: úteis, mas sem sobrecarregar o usuário.\n"
      ]
    },
    {
      "cell_type": "markdown",
      "metadata": {
        "id": "cJqSDR152h2P"
      },
      "source": [
        "### 3. 🕸️ Profundezas e Conexões\n",
        "\n",
        "<br>\n",
        "\n",
        "Matplotlib é a base de bibliotecas como **Seaborn**, **Pandas plotting**, e integra-se a frameworks de dashboards (Plotly, Bokeh) para criação de visualizações estáticas e interativas.\n",
        "\n",
        "<br>\n",
        "\n",
        "---\n",
        "<br>\n"
      ]
    },
    {
      "cell_type": "markdown",
      "metadata": {
        "id": "uoj1Y5Ph2h2P"
      },
      "source": [
        "### 4. 🚀 Ação e Verificação\n",
        "\n",
        "<br>\n",
        "\n",
        "#### **🤔 Desafio Prático**\n",
        "1. Plote uma função seno e cosseno em um mesmo subplot com legendas e cores distintas.  \n",
        "2. Ajuste `figsize` e personalize estilo usando `plt.style`.  \n",
        "3. Crie 2×2 subplots comparando distribuições de duas colunas de `/mnt/data/spotify_history.csv`.  \n",
        "4. Use API orientada a objetos para fazer um gráfico de barras e salve em PNG.  \n",
        "5. Implemente um slider que ajuste o parâmetro de frequência de uma onda senoidal.\n",
        "\n",
        "<br>\n",
        "\n",
        "#### **❓ Pergunta de Verificação**\n",
        "Quando escolher API procedural vs orientada a objetos em seus projetos de visualização?\n",
        "\n",
        "<br>\n",
        "\n",
        "---\n",
        "<br>\n"
      ]
    }
  ]
}