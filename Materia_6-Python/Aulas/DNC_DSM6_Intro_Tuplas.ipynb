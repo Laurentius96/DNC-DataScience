{
  "nbformat": 4,
  "nbformat_minor": 0,
  "metadata": {
    "colab": {
      "provenance": []
    },
    "language_info": {
      "name": "python"
    },
    "kernelspec": {
      "name": "python3",
      "display_name": "Python 3"
    }
  },
  "cells": [
    {
      "metadata": {
        "id": "bXINOFLiwL0z"
      },
      "source": [
        "## 🎓 **Aula sobre: Tuplas em Python**\n",
        "\n",
        " <br>\n",
        "\n",
        "### 🧭 Sumário da Aula\n",
        "\n",
        "| # | Sub-tópico                      | Tempo Estimado | Complexidade |\n",
        "|---|---------------------------------|----------------|--------------|\n",
        "| 1 | Ficha de Revisão Rápida         | ~1 min         | ⭐           |\n",
        "| 2 | Mergulho Profundo               | ~15 min        | ⭐⭐⭐⭐       |\n",
        "| 3 | Profundezas e Conexões          | ~3 min         | ⭐⭐         |\n",
        "| 4 | Ação e Verificação              | ~5 min         | ⭐⭐         |\n",
        "| 5 | Mergulhos Adicionais            | Opcional       | ⭐⭐⭐⭐       |\n",
        "\n",
        " <br>\n",
        "\n",
        "---\n",
        " <br>\n"
      ],
      "cell_type": "markdown"
    },
    {
      "metadata": {
        "id": "Jb-BCXXUwL02"
      },
      "source": [
        "### 1. 🧠 Ficha de Revisão Rápida | (O Essencial)\n",
        "\n",
        " <br>\n",
        "\n",
        "> Uma *tupla* é uma sequência **imutável** de valores ordenados.  \n",
        "> Sintaxe: `(item1, item2, item3)` ou `item1, item2, item3`.  \n",
        "> Acessa-se por índice e fatia, mas não é possível alterar seus elementos após a criação.\n",
        "\n",
        " <br>\n"
      ],
      "cell_type": "markdown"
    },
    {
      "metadata": {
        "id": "OggNkEfmwL02"
      },
      "source": [
        "### 2. 🔬 Mergulho Profundo | (Os Detalhes)\n",
        "\n",
        " <br>\n",
        "\n",
        "#### **🎯 O Conceito Central**  \n",
        "Tuplas armazenam referências contíguas a objetos, mas não permitem modificações *in-place*, garantindo integridade de dados e permitindo uso em contexto de *hash* (chaves de dicionário, por exemplo). São mais leves que listas em termos de memória e ligeiramente mais rápidas em iteração.\n",
        "\n",
        " <br>\n",
        "\n",
        "#### **🔗 Analogia de Data Science**  \n",
        "Imagine um vetor de características fixo para cada registro. Ao usar tupla, você preserva a ordem e evita alterações acidentais, assim como usar colunas fixas de um *DataFrame* imutável.\n",
        "\n",
        " <br>\n"
      ],
      "cell_type": "markdown"
    },
    {
      "metadata": {
        "id": "DcHmJaTFwL03"
      },
      "source": [
        "### **💻 Exemplos de Mercado (Abrangentes)**\n",
        "\n",
        "#### **Nível Simples: Criação e Acesso**\n"
      ],
      "cell_type": "markdown"
    },
    {
      "metadata": {
        "id": "qUAOOD8kwL03"
      },
      "source": [
        "ponto = (10, 20)\n",
        "print(ponto[0])    # 10\n",
        "print(ponto[-1])   # 20\n"
      ],
      "cell_type": "code",
      "execution_count": null,
      "outputs": []
    },
    {
      "metadata": {
        "colab": {
          "base_uri": "https://localhost:8080/"
        },
        "id": "IUSvmQj3wL04",
        "outputId": "b3dc9594-481c-407f-e573-c58c4db03439"
      },
      "source": [
        "# Pratique seu código aqui!\n",
        "\n",
        "ponto = (10, 20)\n",
        "\n",
        "print(ponto[0])\n",
        "print(ponto[-1])"
      ],
      "cell_type": "code",
      "execution_count": 1,
      "outputs": [
        {
          "output_type": "stream",
          "name": "stdout",
          "text": [
            "10\n",
            "20\n"
          ]
        }
      ]
    },
    {
      "metadata": {
        "id": "4trnUlAtwL04"
      },
      "source": [
        "*   **O que o código faz:** Cria tupla de coordenadas e acessa elementos.  \n",
        "*   **Cenário de Mercado:** Representação de pares de valores como (latitude, longitude).  \n",
        "*   **Boas Práticas:** Use tuplas para dados que não devem mudar.\n"
      ],
      "cell_type": "markdown"
    },
    {
      "metadata": {
        "id": "IOpoALcwwL05"
      },
      "source": [
        "#### **Nível Intermediário: Desempacotamento (Unpacking)**\n"
      ],
      "cell_type": "markdown"
    },
    {
      "metadata": {
        "id": "1KVmdhxewL05"
      },
      "source": [
        "coord = (x, y, z) = (5, 15, 25)\n",
        "print(x, y, z)     # 5 15 25\n"
      ],
      "cell_type": "code",
      "execution_count": null,
      "outputs": []
    },
    {
      "metadata": {
        "id": "oq8qFzdAwL05"
      },
      "source": [
        "# Pratique seu código aqui!\n"
      ],
      "cell_type": "code",
      "execution_count": null,
      "outputs": []
    },
    {
      "metadata": {
        "id": "lMEsG9HbwL05"
      },
      "source": [
        "*   **O que o código faz:** Atribui simultaneamente cada elemento a variáveis.  \n",
        "*   **Cenário de Mercado:** Extração rápida de colunas de tuplas retornadas por funções.\n"
      ],
      "cell_type": "markdown"
    },
    {
      "metadata": {
        "id": "AeBBIQ1rwL05"
      },
      "source": [
        "#### **Nível Avançado: Tupla de um Único Elemento**\n"
      ],
      "cell_type": "markdown"
    },
    {
      "metadata": {
        "id": "nHHPDbDuwL06"
      },
      "source": [
        "single = (42,)       # vírgula obrigatória\n",
        "print(type(single))  # <class 'tuple'>\n"
      ],
      "cell_type": "code",
      "execution_count": null,
      "outputs": []
    },
    {
      "metadata": {
        "id": "C30O9mpBwL06"
      },
      "source": [
        "# Pratique seu código aqui!\n"
      ],
      "cell_type": "code",
      "execution_count": null,
      "outputs": []
    },
    {
      "metadata": {
        "id": "vKEg7zyfwL06"
      },
      "source": [
        "*   **O que o código faz:** Demonstra sintaxe para tupla unitária.  \n",
        "*   **Cenário de Mercado:** Usado em retornos de funções que podem variar em tamanho.\n"
      ],
      "cell_type": "markdown"
    },
    {
      "metadata": {
        "id": "3ZMoFJQhwL06"
      },
      "source": [
        "#### **Nível DEUS (1/3): Namedtuple para Registros Imutáveis**\n"
      ],
      "cell_type": "markdown"
    },
    {
      "metadata": {
        "id": "2Ziahw_TwL06"
      },
      "source": [
        "from collections import namedtuple\n",
        "\n",
        "Usuario = namedtuple(\"Usuario\", [\"nome\",\"idade\"])\n",
        "u = Usuario(\"Lorenzo\", 28)\n",
        "print(u.nome, u.idade)\n"
      ],
      "cell_type": "code",
      "execution_count": null,
      "outputs": []
    },
    {
      "metadata": {
        "id": "8v78njOZwL06"
      },
      "source": [
        "# Pratique seu código aqui!\n"
      ],
      "cell_type": "code",
      "execution_count": null,
      "outputs": []
    },
    {
      "metadata": {
        "id": "eKDyBMycwL06"
      },
      "source": [
        "*   **O que o código faz:** Cria classe leve com campos nomeados e imutáveis.  \n",
        "*   **Cenário de Mercado:** Representação de registros de dados com acesso por atributo.\n"
      ],
      "cell_type": "markdown"
    },
    {
      "metadata": {
        "id": "Iebdb4qDwL06"
      },
      "source": [
        "#### **Nível DEUS (2/3): Tuplas como Chaves de Dicionário**\n"
      ],
      "cell_type": "markdown"
    },
    {
      "metadata": {
        "id": "6XTYGbcewL07"
      },
      "source": [
        "visitas = {}\n",
        "coord = (40.7128, -74.0060)\n",
        "visitas[coord] = \"Nova York\"\n",
        "print(visitas)\n"
      ],
      "cell_type": "code",
      "execution_count": null,
      "outputs": []
    },
    {
      "metadata": {
        "id": "AIOQsFmQwL07"
      },
      "source": [
        "# Pratique seu código aqui!\n"
      ],
      "cell_type": "code",
      "execution_count": null,
      "outputs": []
    },
    {
      "metadata": {
        "id": "Emo6z0GVwL07"
      },
      "source": [
        "*   **O que o código faz:** Usa tupla *hashable* como chave.  \n",
        "*   **Cenário de Mercado:** Mapear localizações geográficas a dados associados.\n"
      ],
      "cell_type": "markdown"
    },
    {
      "metadata": {
        "id": "zU413sGLwL07"
      },
      "source": [
        "#### **Nível DEUS (3/3): Combinação de Colunas com `zip()`**\n"
      ],
      "cell_type": "markdown"
    },
    {
      "metadata": {
        "id": "aQaXY0vUwL07"
      },
      "source": [
        "ids = [1,2,3]\n",
        "nomes = [\"Ana\",\"Bruno\",\"Carlos\"]\n",
        "registros = list(zip(ids, nomes))\n",
        "print(registros)  # [(1,'Ana'),(2,'Bruno'),(3,'Carlos')]\n"
      ],
      "cell_type": "code",
      "execution_count": null,
      "outputs": []
    },
    {
      "metadata": {
        "id": "aS2KuYfDwL07"
      },
      "source": [
        "# Pratique seu código aqui!\n"
      ],
      "cell_type": "code",
      "execution_count": null,
      "outputs": []
    },
    {
      "metadata": {
        "id": "H2jEi39iwL07"
      },
      "source": [
        "*   **O que o código faz:** Empacota listas em tuplas de registros.  \n",
        "*   **Cenário de Mercado:** Preparar dados para criação de *DataFrame* ou exportação CSV.\n"
      ],
      "cell_type": "markdown"
    },
    {
      "metadata": {
        "id": "h5f3h5HDwL07"
      },
      "source": [
        "### 3. 🕸️ Profundezas e Conexões\n",
        "\n",
        " <br>\n",
        "Tuplas interagem com *listas* (conversão via `list()`), *dicionários* (chaves e valores), e são padrão em retorno múltiplo de funções. Em *pandas*, usar `itertuples()` gera acesso rápido a linhas como tuplas.\n",
        " <br>\n",
        "\n",
        "---\n",
        " <br>\n"
      ],
      "cell_type": "markdown"
    },
    {
      "metadata": {
        "id": "iooQzwp7wL07"
      },
      "source": [
        "### 4. 🚀 Ação e Verificação\n",
        "\n",
        " <br>\n",
        "#### **🤔 Desafio Prático**\n",
        "1. Crie uma tupla `p = (3,6,9,12)` e acesse o segundo e o penúltimo elemento.  \n",
        "2. Desempacote `(a,b,c) = (1,2,3)` e some `a+b+c`.  \n",
        "3. Use `namedtuple` para representar um ponto 3D e acesse o campo `z`.  \n",
        "4. Construa um dicionário cujas chaves sejam tuplas de pares de `(i, i**2)` para `i` de 1 a 5.  \n",
        "5. Use `zip()` para combinar duas listas em lista de tuplas e, em seguida, desempacote-as de volta em duas listas.\n",
        "\n",
        " <br>\n",
        "#### **❓ Pergunta de Verificação**\n",
        "Por que tuplas são preferidas em retornos múltiplos de função e quais vantagens isso traz em termos de integridade de dados?\n",
        " <br>\n",
        "\n",
        "---\n",
        " <br>\n"
      ],
      "cell_type": "markdown"
    }
  ]
}