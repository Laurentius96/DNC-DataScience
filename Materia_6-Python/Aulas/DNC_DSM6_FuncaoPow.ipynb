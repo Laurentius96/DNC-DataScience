{
  "nbformat": 4,
  "nbformat_minor": 0,
  "metadata": {
    "colab": {
      "provenance": []
    },
    "kernelspec": {
      "name": "python3",
      "display_name": "Python 3"
    },
    "language_info": {
      "name": "python"
    }
  },
  "cells": [
    {
      "cell_type": "markdown",
      "source": [
        "### 🔍 **Mergulho Adicional — Função `pow()` vs Operador `**`**\n",
        "\n",
        "<br>\n",
        "\n",
        "#### **🎯 Principais Diferenças**\n",
        "\n",
        "- **Sintaxe**:  \n",
        "  - `base ** expoente` é um operador infix.  \n",
        "  - `pow(base, expoente[, módulo])` é uma *função embutida*.\n",
        "\n",
        "- **Módulo (Exponenciação Modular)**:  \n",
        "  - Apenas `pow()` aceita um terceiro argumento para calcular `(base ** expoente) % módulo` de forma eficiente, sem gerar números intermediários enormes.\n",
        "\n",
        "- **Tipo de Retorno**:  \n",
        "  - Para inteiros puros, ambos retornam `int`.  \n",
        "  - Para floats, ambos retornam `float`.  \n",
        "  - `pow()` sempre acata o tipo de seus argumentos; `**` segue as regras de coerção de tipos do Python.\n",
        "\n",
        "- **Performance**:  \n",
        "  - O operador `**` tende a ser ligeiramente mais rápido para expoentes simples.  \n",
        "  - `pow()` com três argumentos é otimizado para *exponenciação modular*.\n",
        "\n",
        "<br>\n"
      ],
      "metadata": {
        "id": "gG-Hst-8AqNs"
      }
    },
    {
      "cell_type": "code",
      "execution_count": 1,
      "metadata": {
        "colab": {
          "base_uri": "https://localhost:8080/"
        },
        "id": "MtyfgL6c2zL9",
        "outputId": "71eaf793-5168-4a5e-f334-46bad03cf2df"
      },
      "outputs": [
        {
          "output_type": "stream",
          "name": "stdout",
          "text": [
            "Operador **: 343\n",
            "Função pow(): 343\n",
            "Exponenciação modular (pow com 3 args): 3\n"
          ]
        }
      ],
      "source": [
        "# Comparação de resultados e uso de módulo\n",
        "a, b, mod = 7, 3, 5\n",
        "\n",
        "# Operador **\n",
        "exp_op = a ** b\n",
        "print(\"Operador **:\", exp_op)\n",
        "\n",
        "# Função pow sem módulo\n",
        "exp_pow = pow(a, b)\n",
        "print(\"Função pow():\", exp_pow)\n",
        "\n",
        "# Função pow com módulo\n",
        "exp_mod = pow(a, b, mod)\n",
        "print(\"Exponenciação modular (pow com 3 args):\", exp_mod)\n",
        "\n",
        "# Eficiência em grandes valores (demonstrativo; não medindo tempo aqui)\n",
        "large = 2 ** 1024          # cria número grande\n",
        "# pow(2, 1024, mod) seria muito mais eficiente do que (2**1024) % mod\n"
      ]
    },
    {
      "cell_type": "markdown",
      "source": [
        "*   **O que o código faz:**  \n",
        "    - Demonstra que `**` e `pow()` produzem o mesmo resultado quando usados com dois argumentos.  \n",
        "    - Mostra o uso exclusivo de `pow()` para exponenciação modular com três argumentos.  \n",
        "*   **Cenário de Mercado:**  \n",
        "    - Em criptografia, calculamos chaves públicas/privadas com **exponenciação modular** para números muito grandes, onde usar `(a**b) % mod` seria impraticável.  \n",
        "*   **Boas Práticas:**  \n",
        "    - Use `**` para operações simples de potência.  \n",
        "    - Use `pow(base, expoente, módulo)` sempre que precisar de **exponenciação modular** eficiente e segura.\n"
      ],
      "metadata": {
        "id": "LXN-3UpRBlhE"
      }
    },
    {
      "cell_type": "code",
      "source": [],
      "metadata": {
        "id": "2v4PHf8ABnP8"
      },
      "execution_count": null,
      "outputs": []
    }
  ]
}