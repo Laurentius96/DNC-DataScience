{
  "nbformat": 4,
  "nbformat_minor": 0,
  "metadata": {
    "colab": {
      "provenance": []
    },
    "kernelspec": {
      "name": "python3",
      "display_name": "Python 3"
    },
    "language_info": {
      "name": "python"
    }
  },
  "cells": [
    {
      "cell_type": "markdown",
      "source": [
        "## 🎓 **Aula sobre: Operadores Lógicos em Python**\n",
        "\n",
        "<br>\n",
        "\n",
        "### 🧭 Sumário da Aula\n",
        "\n",
        "| # | Sub-tópico                     | Tempo Estimado | Complexidade |\n",
        "|---|--------------------------------|----------------|--------------|\n",
        "| 1 | Ficha de Revisão Rápida        | ~1 min         | ⭐           |\n",
        "| 2 | Mergulho Profundo              | ~15 min        | ⭐⭐⭐⭐      |\n",
        "| 3 | Profundezas e Conexões         | ~3 min         | ⭐⭐        |\n",
        "| 4 | Ação e Verificação             | ~5 min         | ⭐⭐        |\n",
        "| 5 | Mergulhos Adicionais           | Opcional       | ⭐⭐⭐⭐      |\n",
        "\n",
        "<br>\n",
        "\n",
        "---\n",
        "<br>\n",
        "\n",
        "\n",
        "### 1. 🧠 Ficha de Revisão Rápida | (O Essencial)\n",
        "\n",
        "<br>\n",
        "\n",
        "> Os *operadores lógicos* combinam ou invertem valores booleanos para produzir um resultado booleano.  \n",
        "> Principais: `and` (E), `or` (OU), `not` (NÃO).\n",
        "\n",
        "<br>\n",
        "\n",
        "### 2. 🔬 Mergulho Profundo | (Os Detalhes)\n",
        "\n",
        "<br>\n",
        "\n",
        "#### **🎯 O Conceito Central**  \n",
        "- `x and y`: retorna `y` se `x` for *verdadeiro*, senão retorna `x`.  \n",
        "- `x or y`: retorna `x` se `x` for *verdadeiro*, senão retorna `y`.  \n",
        "- `not x`: retorna `True` se `x` for *falso*, senão retorna `False`.  \n",
        "\n",
        "Esses operadores seguem *curto-circuito*, ou seja, podem evitar avaliar o segundo operando se o primeiro já determinar o resultado.\n",
        "\n",
        "<br>\n",
        "\n",
        "#### **🔗 Analogia de Data Science**  \n",
        "Imagine um filtro que só deixa passar dados que atendem a múltiplas condições:  \n",
        "- `and` é como um coador de malha fina, exige que todos os critérios sejam verdadeiros.  \n",
        "- `or` é como um coador de malha grossa, basta um critério verdadeiro.  \n",
        "- `not` é um inversor, pega tudo que sobra quando algo falha no filtro.\n",
        "\n",
        "<br>\n",
        "\n",
        "### **💻 Exemplos de Mercado (Abrangentes)**\n"
      ],
      "metadata": {
        "id": "M9yhpv5Swohf"
      }
    },
    {
      "cell_type": "markdown",
      "source": [
        "#### **Nível Simples: Uso Básico de and, or e not**\n",
        "\n"
      ],
      "metadata": {
        "id": "uZDhHe2DxFNJ"
      }
    },
    {
      "cell_type": "code",
      "execution_count": 1,
      "metadata": {
        "colab": {
          "base_uri": "https://localhost:8080/"
        },
        "id": "o5VEIv96vd74",
        "outputId": "1b20048f-131e-44ec-ad2d-bfd368610bb9"
      },
      "outputs": [
        {
          "output_type": "stream",
          "name": "stdout",
          "text": [
            "False\n",
            "True\n",
            "False\n",
            "True\n"
          ]
        }
      ],
      "source": [
        "a = True\n",
        "b = False\n",
        "\n",
        "print(a and b)   # False\n",
        "print(a or b)    # True\n",
        "print(not a)     # False\n",
        "print(not b)     # True\n"
      ]
    },
    {
      "cell_type": "markdown",
      "source": [
        "*   **O que o código faz:** Demonstra como cada operador lógico retorna um booleano.  \n",
        "*   **Cenário de Mercado:** Usado para combinar flags de validação (ex: usuário ativo *e* autenticado).  \n",
        "*   **Boas Práticas:** Escreva condições claras; evite expressões muito longas.\n"
      ],
      "metadata": {
        "id": "ubf1b42DxJtZ"
      }
    },
    {
      "cell_type": "markdown",
      "source": [
        "#### **Nível Intermediário: Combinação com Relacionais**\n"
      ],
      "metadata": {
        "id": "2ZLSZ6iFxYeS"
      }
    },
    {
      "cell_type": "code",
      "source": [
        "idade = 25\n",
        "salario = 3500\n",
        "\n",
        "apto_credito = (idade >= 18) and (salario > 3000)\n",
        "print(apto_credito)  # True\n"
      ],
      "metadata": {
        "colab": {
          "base_uri": "https://localhost:8080/"
        },
        "id": "lFf14b8VxIJ8",
        "outputId": "70df5567-d2fe-4cad-91ef-23b5027b73c5"
      },
      "execution_count": 2,
      "outputs": [
        {
          "output_type": "stream",
          "name": "stdout",
          "text": [
            "True\n"
          ]
        }
      ]
    },
    {
      "cell_type": "markdown",
      "source": [
        "*   **O que o código faz:** Usa *operadores relacionais* dentro de lógicas para decisão de crédito.  \n",
        "*   **Cenário de Mercado:** Essencial em regras de negócio para filtragem de clientes.  \n",
        "*   **Boas Práticas:** Agrupe cada comparação entre parênteses para legibilidade.\n"
      ],
      "metadata": {
        "id": "_2BZEMSvxhcD"
      }
    },
    {
      "cell_type": "markdown",
      "source": [
        "#### **Nível Avançado: Curto-Circuito e Efeitos Colaterais**\n"
      ],
      "metadata": {
        "id": "YiUHGQ9cxj5j"
      }
    },
    {
      "cell_type": "code",
      "source": [
        "def carrega_dados():\n",
        "    print(\"Carregando dados...\")\n",
        "    return {\"dados\": [1,2,3]}\n",
        "\n",
        "cache = None\n",
        "# Se cache for truthy, usa cache; senão carrega dados\n",
        "resultado = cache or carrega_dados()\n",
        "print(resultado)\n"
      ],
      "metadata": {
        "colab": {
          "base_uri": "https://localhost:8080/"
        },
        "id": "3qxcuHp5xdYn",
        "outputId": "4e617d61-36cf-4f20-b749-9639b4118d1f"
      },
      "execution_count": 3,
      "outputs": [
        {
          "output_type": "stream",
          "name": "stdout",
          "text": [
            "Carregando dados...\n",
            "{'dados': [1, 2, 3]}\n"
          ]
        }
      ]
    },
    {
      "cell_type": "markdown",
      "source": [
        "*   **O que o código faz:** Demonstra *curto-circuito* em `or`, evitando chamada custosa se `cache` existir.  \n",
        "*   **Cenário de Mercado:** Otimização de performance em pipelines de dados.  \n",
        "*   **Boas Práticas:** Aproveite curto-circuito para evitar operações desnecessárias.\n"
      ],
      "metadata": {
        "id": "I635Bk8gxiiB"
      }
    },
    {
      "cell_type": "markdown",
      "source": [
        "#### **Nível DEUS (1/3): Uso em Expressões Condicionais Inline**\n"
      ],
      "metadata": {
        "id": "vUQfQ7JmyD1W"
      }
    },
    {
      "cell_type": "code",
      "source": [
        "# Seleção de valor padrão\n",
        "config = {}\n",
        "timeout = config.get(\"timeout\") or 30\n",
        "print(timeout)  # 30\n"
      ],
      "metadata": {
        "colab": {
          "base_uri": "https://localhost:8080/"
        },
        "id": "e3WSt1DRyOB2",
        "outputId": "5eed0312-04b6-4a00-9fe5-0088265f05ad"
      },
      "execution_count": 7,
      "outputs": [
        {
          "output_type": "stream",
          "name": "stdout",
          "text": [
            "30\n"
          ]
        }
      ]
    },
    {
      "cell_type": "markdown",
      "source": [
        "*   **O que o código faz:** Usa `or` para atribuir valor padrão se configuração faltar.  \n",
        "*   **Cenário de Mercado:** Comum em definição de parâmetros de funções e objetos."
      ],
      "metadata": {
        "id": "VwFmiu1jyOOo"
      }
    },
    {
      "cell_type": "markdown",
      "source": [
        "#### **Nível DEUS (2/3): Combinação com Operadores Bitwise para Booleanos**\n"
      ],
      "metadata": {
        "id": "SxClbvIPyEE0"
      }
    },
    {
      "cell_type": "code",
      "source": [
        "# & e | aplicados a booleanos (não recomendado, mas possível)\n",
        "x = True\n",
        "y = False\n",
        "\n",
        "print(x & y)  # False\n",
        "print(x | y)  # True"
      ],
      "metadata": {
        "colab": {
          "base_uri": "https://localhost:8080/"
        },
        "id": "6CNf9g9uyOcV",
        "outputId": "3ed548f7-0310-4898-f4a2-d9e80d3f5e6b"
      },
      "execution_count": 4,
      "outputs": [
        {
          "output_type": "stream",
          "name": "stdout",
          "text": [
            "False\n",
            "True\n"
          ]
        }
      ]
    },
    {
      "cell_type": "markdown",
      "source": [
        "*   **O que o código faz:** Demonstra que `&`/`|` funcionam como `and`/`or`, porém avaliam sempre ambos operandos.  \n",
        "*   **Cenário de Mercado:** Em geral prefira `and`/`or`, mas entenda bitwise ao trabalhar com máscaras binárias.\n"
      ],
      "metadata": {
        "id": "ZvWEGR-aytZG"
      }
    },
    {
      "cell_type": "markdown",
      "source": [
        "\n",
        "#### **Nível DEUS (3/3): Métodos Mágicos e Verdadeiro/Falso em Objetos**\n"
      ],
      "metadata": {
        "id": "vlly5L5CyESZ"
      }
    },
    {
      "cell_type": "code",
      "source": [
        "class Usuario:\n",
        "    def __init__(self, ativo): self.ativo = ativo\n",
        "    def __bool__(self): return self.ativo\n",
        "\n",
        "u1 = Usuario(True)\n",
        "u2 = Usuario(False)\n",
        "\n",
        "print(u1 and \"Bem-vindo\")  # \"Bem-vindo\"\n",
        "print(u2 or \"Cadastro Inválido\")  # \"Cadastro Inválido\"\n"
      ],
      "metadata": {
        "colab": {
          "base_uri": "https://localhost:8080/"
        },
        "id": "xPNrDrYhx_kW",
        "outputId": "783ef6dc-2691-4c57-a515-18ef0edf7958"
      },
      "execution_count": 8,
      "outputs": [
        {
          "output_type": "stream",
          "name": "stdout",
          "text": [
            "Bem-vindo\n",
            "Cadastro Inválido\n"
          ]
        }
      ]
    },
    {
      "cell_type": "markdown",
      "source": [
        "*   **O que o código faz:** Define `__bool__` para controlar truthiness de instâncias.  \n",
        "*   **Cenário de Mercado:** Permite usar objetos diretamente em condições, tornando código mais expressivo.\n"
      ],
      "metadata": {
        "id": "Cr5NkFOTzSAP"
      }
    }
  ]
}