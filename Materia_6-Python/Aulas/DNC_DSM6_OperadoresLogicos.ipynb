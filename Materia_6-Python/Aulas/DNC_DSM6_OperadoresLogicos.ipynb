{
  "nbformat": 4,
  "nbformat_minor": 0,
  "metadata": {
    "colab": {
      "provenance": []
    },
    "kernelspec": {
      "name": "python3",
      "display_name": "Python 3"
    },
    "language_info": {
      "name": "python"
    }
  },
  "cells": [
    {
      "cell_type": "markdown",
      "source": [
        "## 🎓 **Aula sobre: Operadores Lógicos em Python**\n",
        "\n",
        "<br>\n",
        "\n",
        "### 🧭 Sumário da Aula\n",
        "\n",
        "| # | Sub-tópico                     | Tempo Estimado | Complexidade |\n",
        "|---|--------------------------------|----------------|--------------|\n",
        "| 1 | Ficha de Revisão Rápida        | ~1 min         | ⭐           |\n",
        "| 2 | Mergulho Profundo              | ~15 min        | ⭐⭐⭐⭐      |\n",
        "| 3 | Profundezas e Conexões         | ~3 min         | ⭐⭐        |\n",
        "| 4 | Ação e Verificação             | ~5 min         | ⭐⭐        |\n",
        "| 5 | Mergulhos Adicionais           | Opcional       | ⭐⭐⭐⭐      |\n",
        "\n",
        "<br>\n",
        "\n",
        "---\n",
        "<br>\n",
        "\n",
        "\n",
        "### 1. 🧠 Ficha de Revisão Rápida | (O Essencial)\n",
        "\n",
        "<br>\n",
        "\n",
        "> Os *operadores lógicos* combinam ou invertem valores booleanos para produzir um resultado booleano.  \n",
        "> Principais: `and` (E), `or` (OU), `not` (NÃO).\n",
        "\n",
        "<br>\n",
        "\n",
        "### 2. 🔬 Mergulho Profundo | (Os Detalhes)\n",
        "\n",
        "<br>\n",
        "\n",
        "#### **🎯 O Conceito Central**  \n",
        "- `x and y`: retorna `y` se `x` for *verdadeiro*, senão retorna `x`.  \n",
        "- `x or y`: retorna `x` se `x` for *verdadeiro*, senão retorna `y`.  \n",
        "- `not x`: retorna `True` se `x` for *falso*, senão retorna `False`.  \n",
        "\n",
        "Esses operadores seguem *curto-circuito*, ou seja, podem evitar avaliar o segundo operando se o primeiro já determinar o resultado.\n",
        "\n",
        "<br>\n",
        "\n",
        "#### **🔗 Analogia de Data Science**  \n",
        "Imagine um filtro que só deixa passar dados que atendem a múltiplas condições:  \n",
        "- `and` é como um coador de malha fina, exige que todos os critérios sejam verdadeiros.  \n",
        "- `or` é como um coador de malha grossa, basta um critério verdadeiro.  \n",
        "- `not` é um inversor, pega tudo que sobra quando algo falha no filtro.\n",
        "\n",
        "<br>\n",
        "\n",
        "### **💻 Exemplos de Mercado (Abrangentes)**\n"
      ],
      "metadata": {
        "id": "M9yhpv5Swohf"
      }
    },
    {
      "cell_type": "code",
      "execution_count": null,
      "metadata": {
        "id": "o5VEIv96vd74"
      },
      "outputs": [],
      "source": []
    }
  ]
}