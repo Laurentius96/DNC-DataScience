{
  "nbformat": 4,
  "nbformat_minor": 0,
  "metadata": {
    "colab": {
      "provenance": []
    },
    "language_info": {
      "name": "python"
    },
    "kernelspec": {
      "name": "python3",
      "display_name": "Python 3"
    }
  },
  "cells": [
    {
      "metadata": {
        "id": "xNZSsVzCuYh4"
      },
      "source": [
        "## 🎓 **Aula sobre: Manipulando Dados em um Dicionário em Python**\n",
        "\n",
        " <br>\n",
        "\n",
        "### 🧭 Sumário da Aula\n",
        "\n",
        "| # | Sub-tópico                      | Tempo Estimado | Complexidade |\n",
        "|---|---------------------------------|----------------|--------------|\n",
        "| 1 | Ficha de Revisão Rápida         | ~1 min         | ⭐           |\n",
        "| 2 | Mergulho Profundo               | ~15 min        | ⭐⭐⭐⭐       |\n",
        "| 3 | Profundezas e Conexões          | ~3 min         | ⭐⭐         |\n",
        "| 4 | Ação e Verificação              | ~5 min         | ⭐⭐         |\n",
        "| 5 | Mergulhos Adicionais            | Opcional      | ⭐⭐⭐⭐     |\n",
        "\n",
        " <br>\n",
        "\n",
        "---\n",
        " <br>\n"
      ],
      "cell_type": "markdown"
    },
    {
      "metadata": {
        "id": "whDz3ypNuYh6"
      },
      "source": [
        "### 1. 🧠 Ficha de Revisão Rápida | (O Essencial)\n",
        "\n",
        "> Para manipular dados em um dicionário, use atribuição por chave (`d[ch] = v`), métodos como `.update()`, `.pop()`, `.setdefault()`, e compreensão de dicionário para filtrar e transformar pares **chave:valor**.\n"
      ],
      "cell_type": "markdown"
    },
    {
      "metadata": {
        "id": "dMkjPe0ouYh6"
      },
      "source": [
        "### 2. 🔬 Mergulho Profundo | (Os Detalhes)\n",
        "\n",
        " <br>\n",
        "\n",
        "#### **🎯 O Conceito Central**  \n",
        "Manipular um dicionário envolve adicionar, atualizar ou remover pares, bem como transformá-lo em uma nova estrutura usando `comprehensions` (compreensão de lista). Internamente, cada operação de acesso por chave permanece em tempo constante médio, mas operações de transformação criam novos objetos.\n",
        "\n",
        " <br>\n",
        "\n",
        "#### **🔗 Analogia de Data Science**  \n",
        "Em um *pipeline* de transformação, um dicionário é como uma tabela de lookup: você pode adicionar colunas (chaves), atualizar valores, remover registros e gerar uma nova tabela filtrada sem afetar a original.\n"
      ],
      "cell_type": "markdown"
    },
    {
      "metadata": {
        "id": "T6vBZ_OwuYh6"
      },
      "source": [
        "### **💻 Exemplos de Mercado (Abrangentes)**\n",
        "\n",
        "#### **Nível Simples: Adicionar e Atualizar**\n"
      ],
      "cell_type": "markdown"
    },
    {
      "metadata": {
        "id": "6pVuJt5muYh7"
      },
      "source": [
        "config = {\"timeout\":30, \"retries\":3}\n",
        "# adicionar nova chave\n",
        "config[\"verbose\"] = True\n",
        "# atualizar existente\n",
        "config[\"retries\"] = 5\n",
        "print(config)\n"
      ],
      "cell_type": "code",
      "execution_count": null,
      "outputs": []
    },
    {
      "metadata": {
        "colab": {
          "base_uri": "https://localhost:8080/"
        },
        "id": "6Nta5leZuYh7",
        "outputId": "3b7eb743-69e2-4d04-b45e-a2726757f032"
      },
      "source": [
        "# Pratique seu código aqui!\n",
        "\n",
        "config = {\"timeout\": 30, \"restries\": 3}\n",
        "config[\"verbose\"] = True\n",
        "config[\"restries\"] = 5\n",
        "print(config)\n"
      ],
      "cell_type": "code",
      "execution_count": 1,
      "outputs": [
        {
          "output_type": "stream",
          "name": "stdout",
          "text": [
            "{'timeout': 30, 'restries': 5, 'verbose': True}\n"
          ]
        }
      ]
    },
    {
      "metadata": {
        "id": "9ktSNM_XuYh8"
      },
      "source": [
        "*   **O que o código faz:** Insere e altera parâmetros de configuração.  \n",
        "*   **Cenário de Mercado:** Ajustar dinamicamente parâmetros de API ou script.  \n",
        "*   **Boas Práticas:** Use `.get()` para ler antes de atualizar se a chave puder não existir.\n"
      ],
      "cell_type": "markdown"
    },
    {
      "metadata": {
        "id": "Du_TG2XguYh8"
      },
      "source": [
        "#### **Nível Intermediário: Remover e Recuperar**\n"
      ],
      "cell_type": "markdown"
    },
    {
      "metadata": {
        "id": "yWdY4PCjuYh8"
      },
      "source": [
        "dados = {\"a\":1, \"b\":2, \"c\":3}\n",
        "# remove e obtém valor\n",
        "valor_b = dados.pop(\"b\", None)\n",
        "# limpa todo o dicionário\n",
        "dados.clear()\n",
        "print(valor_b, dados)\n"
      ],
      "cell_type": "code",
      "execution_count": null,
      "outputs": []
    },
    {
      "metadata": {
        "id": "OSweZGvXuYh9"
      },
      "source": [
        "# Pratique seu código aqui!\n",
        "\n",
        "\n"
      ],
      "cell_type": "code",
      "execution_count": null,
      "outputs": []
    },
    {
      "metadata": {
        "id": "ot0jnf8iuYh9"
      },
      "source": [
        "*   **O que o código faz:** Remove uma chave com fallback e esvazia estrutura.  \n",
        "*   **Cenário de Mercado:** Consumir entradas de fila ou limpar cache após uso.  \n",
        "*   **Boas Práticas:** Forneça valor padrão a `pop()` para evitar KeyError.\n"
      ],
      "cell_type": "markdown"
    },
    {
      "metadata": {
        "id": "bVZDl4ZkuYh9"
      },
      "source": [
        "#### **Nível Avançado: Merge e Default**\n"
      ],
      "cell_type": "markdown"
    },
    {
      "metadata": {
        "id": "RSfSIlO2uYh9"
      },
      "source": [
        "# mesclagem de múltiplos dicionários\n",
        "defaults = {\"host\":\"localhost\",\"port\":80}\n",
        "overrides = {\"port\":8080,\"debug\":True}\n",
        "config = {**defaults, **overrides}\n",
        "# setdefault para inicializar se ausente\n",
        "config.setdefault(\"timeout\", 60)\n",
        "print(config)\n"
      ],
      "cell_type": "code",
      "execution_count": null,
      "outputs": []
    },
    {
      "metadata": {
        "id": "smICtcjCuYh9"
      },
      "source": [
        "# Pratique seu código aqui!\n"
      ],
      "cell_type": "code",
      "execution_count": null,
      "outputs": []
    },
    {
      "metadata": {
        "id": "i2d0-CfkuYh9"
      },
      "source": [
        "*   **O que o código faz:** Une dicionários, permitindo overrides, e garante chave com `setdefault()`.  \n",
        "*   **Cenário de Mercado:** Combinar configurações padrão e específicas de ambiente.\n"
      ],
      "cell_type": "markdown"
    },
    {
      "metadata": {
        "id": "LST4fvPCuYh9"
      },
      "source": [
        "#### **Nível DEUS (1/3): Filtrar com Comprehension**\n"
      ],
      "cell_type": "markdown"
    },
    {
      "metadata": {
        "id": "e6LcjyRwuYh-"
      },
      "source": [
        "precos = {\"A\":100, \"B\":50, \"C\":150}\n",
        "# filtra itens com preço > 80\n",
        "caros = {k:v for k,v in precos.items() if v>80}\n",
        "print(caros)\n"
      ],
      "cell_type": "code",
      "execution_count": null,
      "outputs": []
    },
    {
      "metadata": {
        "id": "VyAAVylKuYh-"
      },
      "source": [
        "# Pratique seu código aqui!\n"
      ],
      "cell_type": "code",
      "execution_count": null,
      "outputs": []
    },
    {
      "metadata": {
        "id": "fg_rbmrruYh-"
      },
      "source": [
        "*   **O que o código faz:** Cria novo dicionário apenas com itens que atendem à condição.  \n",
        "*   **Cenário de Mercado:** Extrair subset de produtos acima de certo valor para promoções.\n"
      ],
      "cell_type": "markdown"
    },
    {
      "metadata": {
        "id": "guTp2fVwuYh-"
      },
      "source": [
        "#### **Nível DEUS (2/3): Transformar Valores**\n"
      ],
      "cell_type": "markdown"
    },
    {
      "metadata": {
        "id": "QMzL5F6tuYh-"
      },
      "source": [
        "vendas = {\"jan\":1000, \"fev\":1500}\n",
        "# aplica taxa de câmbio 0.2 a todos valores\n",
        "vendas_usd = {k: v*0.2 for k,v in vendas.items()}\n",
        "print(vendas_usd)\n"
      ],
      "cell_type": "code",
      "execution_count": null,
      "outputs": []
    },
    {
      "metadata": {
        "id": "kSIyOtLOuYh-"
      },
      "source": [
        "# Pratique seu código aqui!\n"
      ],
      "cell_type": "code",
      "execution_count": null,
      "outputs": []
    },
    {
      "metadata": {
        "id": "XOKSy7zAuYh-"
      },
      "source": [
        "*   **O que o código faz:** Mapeia valores para nova unidade usando comprehension.  \n",
        "*   **Cenário de Mercado:** Conversão de métricas para padrão único em relatórios internacionais.\n"
      ],
      "cell_type": "markdown"
    },
    {
      "metadata": {
        "id": "A_1n5cefuYh-"
      },
      "source": [
        "#### **Nível DEUS (3/3): Agrupamento com defaultdict**\n"
      ],
      "cell_type": "markdown"
    },
    {
      "metadata": {
        "id": "Yi8nECtPuYh_"
      },
      "source": [
        "from collections import defaultdict\n",
        "logs = [(\"error\",1),(\"info\",2),(\"error\",3)]\n",
        "grp = defaultdict(list)\n",
        "for lvl,val in logs:\n",
        "    grp[lvl].append(val)\n",
        "print(dict(grp))\n"
      ],
      "cell_type": "code",
      "execution_count": null,
      "outputs": []
    },
    {
      "metadata": {
        "id": "4J89leQvuYh_"
      },
      "source": [
        "# Pratique seu código aqui!\n"
      ],
      "cell_type": "code",
      "execution_count": null,
      "outputs": []
    },
    {
      "metadata": {
        "id": "5Gkps6pYuYh_"
      },
      "source": [
        "*   **O que o código faz:** Agrupa valores por nível de log.  \n",
        "*   **Cenário de Mercado:** Consolidação de logs ou eventos por categoria.\n"
      ],
      "cell_type": "markdown"
    },
    {
      "metadata": {
        "id": "7oyj9Qa_uYh_"
      },
      "source": [
        "### 3. 🕸️ Profundezas e Conexões\n",
        "\n",
        " <br>\n",
        "Manipulação de dicionários é essencial em **ETL**, **APIs** (payloads JSON) e **configurações** de aplicações. Comprehensions e `defaultdict` permitem criar pipelines legíveis e eficientes para transformação e agregação de pares **chave:valor**.\n",
        " <br>\n",
        "\n",
        "---\n",
        " <br>\n"
      ],
      "cell_type": "markdown"
    },
    {
      "metadata": {
        "id": "XimL1F79uYh_"
      },
      "source": [
        "### 4. 🚀 Ação e Verificação\n",
        "\n",
        " <br>\n",
        "#### **🤔 Desafio Prático**\n",
        "1. Dado `dados = {\"x\":10,\"y\":20}`, troque `y` para 25 e adicione `z=30`.  \n",
        "2. Remova a chave `x` usando `pop()` e capture seu valor.  \n",
        "3. Mescle `dados` com outro dicionário `{\"y\":100,\"w\":0}` preservando overrides.  \n",
        "4. Filtre o dicionário resultante para manter apenas valores ≥ 30.  \n",
        "5. Agrupe a lista `[(\"a\",1),(\"b\",2),(\"a\",3)]` usando `defaultdict`.\n",
        "\n",
        " <br>\n",
        "#### **❓ Pergunta de Verificação**\n",
        "Como dicionários e comprehensions podem substituir loops aninhados em tarefas de transformação de dados?  \n",
        " <br>\n",
        "\n",
        "---\n",
        " <br>\n"
      ],
      "cell_type": "markdown"
    }
  ]
}