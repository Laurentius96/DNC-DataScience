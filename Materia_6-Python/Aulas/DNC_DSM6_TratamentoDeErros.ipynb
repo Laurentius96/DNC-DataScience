{
  "nbformat": 4,
  "nbformat_minor": 0,
  "metadata": {
    "colab": {
      "provenance": []
    }
  },
  "cells": [
    {
      "metadata": {
        "id": "p3-6D6vylhou"
      },
      "source": [
        "## 🎓 **Aula sobre: Introdução ao Tratamento de Erros em Python**\n",
        "\n",
        " <br>\n",
        "\n",
        "### 🧭 Sumário da Aula\n",
        "\n",
        "| # | Sub-tópico                      | Tempo Estimado | Complexidade |\n",
        "|---|---------------------------------|----------------|--------------|\n",
        "| 1 | Ficha de Revisão Rápida         | ~1 min         | ⭐           |\n",
        "| 2 | Mergulho Profundo               | ~15 min        | ⭐⭐⭐⭐       |\n",
        "| 3 | Profundezas e Conexões          | ~3 min         | ⭐⭐         |\n",
        "| 4 | Ação e Verificação              | ~5 min         | ⭐⭐         |\n",
        "| 5 | Mergulhos Adicionais            | Opcional       | ⭐⭐⭐⭐       |\n",
        "\n",
        " <br>\n",
        "\n",
        "---\n",
        " <br>\n"
      ],
      "cell_type": "markdown"
    },
    {
      "metadata": {
        "id": "a6pGZfo0lho4"
      },
      "source": [
        "### 1. 🧠 Ficha de Revisão Rápida | (O Essencial)\n",
        "\n",
        " <br>\n",
        "\n",
        "> Em Python, use `try/except` para capturar exceções que ocorrem em tempo de execução.  \n",
        "> Blocos opcionais: `else` (executa se não houve erro) e `finally` (sempre executa).  \n",
        "> Exceções específicas ajudam a tratar diferentes falhas de modo apropriado.\n",
        "\n",
        " <br>\n"
      ],
      "cell_type": "markdown"
    },
    {
      "metadata": {
        "id": "njdsOTSIlho4"
      },
      "source": [
        "### 2. 🔬 Mergulho Profundo | (Os Detalhes)\n",
        "\n",
        " <br>\n",
        "\n",
        "#### **🎯 O Conceito Central**  \n",
        "O bloco `try` contém código sujeito a falhas. Se uma exceção ocorre, o fluxo salta ao primeiro `except` cujo tipo corresponda. O bloco `else` roda quando não há erro, e `finally` executa sempre, ideal para liberar recursos.\n",
        "\n",
        " <br>\n",
        "\n",
        "#### **🔗 Analogia de Data Science**  \n",
        "Imagine um pipeline de ingestão de dados:  \n",
        "- `try`: tenta ler e processar um arquivo.  \n",
        "- `except`: captura erros de leitura (ex: arquivo não encontrado ou formato inválido).  \n",
        "- `else`: segue para limpeza e transformação se tudo ocorreu bem.  \n",
        "- `finally`: fecha conexões ou remove arquivos temporários, independentemente do sucesso.\n",
        "\n",
        " <br>\n"
      ],
      "cell_type": "markdown"
    },
    {
      "metadata": {
        "id": "zIM0FCwMlho5"
      },
      "source": [
        "### **💻 Exemplos de Mercado (Abrangentes)**\n",
        "\n",
        "#### **Nível Simples: `try/except` Básico**\n"
      ],
      "cell_type": "markdown"
    },
    {
      "metadata": {
        "id": "602bO7ZRlho5"
      },
      "source": [
        "try:\n",
        "    x = int(input(\"Digite um número: \"))\n",
        "except ValueError:\n",
        "    print(\"Entrada inválida! Use apenas dígitos.\")\n"
      ],
      "cell_type": "code",
      "execution_count": null,
      "outputs": []
    },
    {
      "metadata": {
        "id": "p_Hau2Q-lho6"
      },
      "source": [
        "# Pratique seu código aqui!\n"
      ],
      "cell_type": "code",
      "execution_count": null,
      "outputs": []
    },
    {
      "metadata": {
        "id": "0stTBZhMlho6"
      },
      "source": [
        "*   **O que o código faz:** Tenta converter entrada; em erro, informa usuário.  \n",
        "*   **Cenário de Mercado:** Validação de inputs em scripts interativos.  \n",
        "*   **Boas Práticas:** Capture apenas exceções esperadas para não mascarar bugs.\n"
      ],
      "cell_type": "markdown"
    },
    {
      "metadata": {
        "id": "v_DHjBlYlho6"
      },
      "source": [
        "#### **Nível Intermediário: `except` Específico e `finally`**\n"
      ],
      "cell_type": "markdown"
    },
    {
      "metadata": {
        "id": "dJmrsZQIlho7"
      },
      "source": [
        "file = None\n",
        "try:\n",
        "    file = open(\"dados.csv\")\n",
        "    dados = file.read()\n",
        "except FileNotFoundError:\n",
        "    print(\"Arquivo não encontrado.\")\n",
        "finally:\n",
        "    if file:\n",
        "        file.close()\n"
      ],
      "cell_type": "code",
      "execution_count": null,
      "outputs": []
    },
    {
      "metadata": {
        "id": "imwZhr2glho7"
      },
      "source": [
        "# Pratique seu código aqui!\n"
      ],
      "cell_type": "code",
      "execution_count": null,
      "outputs": []
    },
    {
      "metadata": {
        "id": "I2YOTpK7lho8"
      },
      "source": [
        "*   **O que o código faz:** Trata falta de arquivo e garante fechamento.  \n",
        "*   **Cenário de Mercado:** Leitura segura de arquivos em pipelines ETL.  \n",
        "*   **Boas Práticas:** Use `with` para simplificar gerenciamento de recursos.\n"
      ],
      "cell_type": "markdown"
    },
    {
      "metadata": {
        "id": "YOOK67oalho8"
      },
      "source": [
        "#### **Nível Avançado: `else` e Re-raise**\n"
      ],
      "cell_type": "markdown"
    },
    {
      "metadata": {
        "id": "LGv3BH9_lho8"
      },
      "source": [
        "try:\n",
        "    result = 10 / 0\n",
        "except ZeroDivisionError as e:\n",
        "    print(\"Divisão por zero!\")\n",
        "    raise  # re-lança a exceção para tratamento superior\n",
        "else:\n",
        "    print(\"Divisão bem-sucedida:\", result)\n"
      ],
      "cell_type": "code",
      "execution_count": null,
      "outputs": []
    },
    {
      "metadata": {
        "id": "EjK81RPElho8"
      },
      "source": [
        "# Pratique seu código aqui!\n"
      ],
      "cell_type": "code",
      "execution_count": null,
      "outputs": []
    },
    {
      "metadata": {
        "id": "V4iYPhy5lho8"
      },
      "source": [
        "*   **O que o código faz:** Repassa erro após log, e usa `else` em caso de sucesso.  \n",
        "*   **Cenário de Mercado:** Logs de falhas e tratamento em camadas de aplicação.\n"
      ],
      "cell_type": "markdown"
    },
    {
      "metadata": {
        "id": "FlyUQPvdlho9"
      },
      "source": [
        "#### **Nível DEUS (1/3): Logging de Exceções**\n"
      ],
      "cell_type": "markdown"
    },
    {
      "metadata": {
        "id": "cgv5TajNlho9"
      },
      "source": [
        "import logging\n",
        "\n",
        "logging.basicConfig(level=logging.ERROR)\n",
        "\n",
        "try:\n",
        "    open(\"inexistente.txt\")\n",
        "except Exception:\n",
        "    logging.exception(\"Erro ao abrir arquivo\")\n"
      ],
      "cell_type": "code",
      "execution_count": null,
      "outputs": []
    },
    {
      "metadata": {
        "id": "tomNxFHqlho9"
      },
      "source": [
        "# Pratique seu código aqui!\n"
      ],
      "cell_type": "code",
      "execution_count": null,
      "outputs": []
    },
    {
      "metadata": {
        "id": "Lsy4Yi2jlho9"
      },
      "source": [
        "*   **O que o código faz:** Grava stack trace completo no log de erros.  \n",
        "*   **Cenário de Mercado:** Monitoramento e auditoria de falhas em produção.\n"
      ],
      "cell_type": "markdown"
    },
    {
      "metadata": {
        "id": "q__3sK-Slho9"
      },
      "source": [
        "#### **Nível DEUS (2/3): Tratamento de Múltiplas Exceções**\n"
      ],
      "cell_type": "markdown"
    },
    {
      "metadata": {
        "id": "dZpr1ZrIlho9"
      },
      "source": [
        "try:\n",
        "    # operações diversas\n",
        "    pass\n",
        "except (KeyError, IndexError) as e:\n",
        "    print(f\"Erro de consulta: {e}\")\n"
      ],
      "cell_type": "code",
      "execution_count": null,
      "outputs": []
    },
    {
      "metadata": {
        "id": "qn-XiHlylho9"
      },
      "source": [
        "# Pratique seu código aqui!\n"
      ],
      "cell_type": "code",
      "execution_count": null,
      "outputs": []
    },
    {
      "metadata": {
        "id": "uBrqOuqElho-"
      },
      "source": [
        "*   **O que o código faz:** Captura diferentes tipos similares num só bloco.  \n",
        "*   **Cenário de Mercado:** Falhas em acesso a dados em dicionários ou listas.\n"
      ],
      "cell_type": "markdown"
    },
    {
      "metadata": {
        "id": "VjAbJcaOlho-"
      },
      "source": [
        "#### **Nível DEUS (3/3): Exceções Customizadas**\n"
      ],
      "cell_type": "markdown"
    },
    {
      "metadata": {
        "id": "xhSYj0qZlho-"
      },
      "source": [
        "class ValidacaoErro(Exception):\n",
        "    pass\n",
        "\n",
        "def validar(valor):\n",
        "    if valor < 0:\n",
        "        raise ValidacaoErro(\"Valor não pode ser negativo\")\n",
        "\n",
        "try:\n",
        "    validar(-1)\n",
        "except ValidacaoErro as e:\n",
        "    print(e)\n"
      ],
      "cell_type": "code",
      "execution_count": null,
      "outputs": []
    },
    {
      "metadata": {
        "id": "E5YWX4TClho-"
      },
      "source": [
        "# Pratique seu código aqui!\n"
      ],
      "cell_type": "code",
      "execution_count": null,
      "outputs": []
    },
    {
      "metadata": {
        "id": "4mMlHCx9lho-"
      },
      "source": [
        "*   **O que o código faz:** Define e levanta exceções específicas de domínio.  \n",
        "*   **Cenário de Mercado:** Validação de regras de negócio com erros explícitos.\n"
      ],
      "cell_type": "markdown"
    },
    {
      "metadata": {
        "id": "I7VeJ0BMlho-"
      },
      "source": [
        "### 3. 🕸️ Profundezas e Conexões\n",
        "\n",
        " <br>\n",
        "Tratamento de erros se integra a **context managers** (`with`), **decoradores** de retry, **frameworks web** que traduzem exceções em respostas HTTP, e **sistemas de logging**/monitoramento. Exceções customizadas mantêm clareza em camadas de serviço.\n",
        " <br>\n",
        "\n",
        "---\n",
        " <br>\n"
      ],
      "cell_type": "markdown"
    },
    {
      "metadata": {
        "id": "6rRKBofHlho-"
      },
      "source": [
        "### 4. 🚀 Ação e Verificação\n",
        "\n",
        " <br>\n",
        "#### **🤔 Desafio Prático**\n",
        "1. Escreva função que lê JSON de arquivo e trate `JSONDecodeError` e `FileNotFoundError`.  \n",
        "2. Use `with` para abrir arquivo e capturar exceções, garantindo fechamento.  \n",
        "3. Implemente decorador `retry` que tenta chamar função até 3 vezes antes de abortar.  \n",
        "4. Defina exceção customizada para validação de dados e use-a.  \n",
        "5. Adicione logging de erros com `logging.exception()`.\n",
        "\n",
        " <br>\n",
        "#### **❓ Pergunta de Verificação**\n",
        "Quando é melhor usar `raise` para repropagar exceções em vez de apenas capturá-las? Quais trade-offs isso traz na arquitetura de software?\n",
        " <br>\n",
        "\n",
        "---\n",
        " <br>\n"
      ],
      "cell_type": "markdown"
    }
  ]
}