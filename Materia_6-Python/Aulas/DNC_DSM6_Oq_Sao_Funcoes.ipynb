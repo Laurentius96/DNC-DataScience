{
  "nbformat": 4,
  "nbformat_minor": 0,
  "metadata": {
    "colab": {
      "provenance": []
    },
    "language_info": {
      "name": "python"
    },
    "kernelspec": {
      "name": "python3",
      "display_name": "Python 3"
    }
  },
  "cells": [
    {
      "metadata": {
        "id": "58bYjxJh0JOS"
      },
      "source": [
        "## 🎓 **Aula sobre: Funções em Python**\n",
        "\n",
        " <br>\n",
        "\n",
        "### 🧭 Sumário da Aula\n",
        "\n",
        "| # | Sub-tópico                      | Tempo Estimado | Complexidade |\n",
        "|---|---------------------------------|----------------|--------------|\n",
        "| 1 | Ficha de Revisão Rápida         | ~1 min         | ⭐           |\n",
        "| 2 | Mergulho Profundo               | ~15 min        | ⭐⭐⭐⭐       |\n",
        "| 3 | Profundezas e Conexões          | ~3 min         | ⭐⭐         |\n",
        "| 4 | Ação e Verificação              | ~5 min         | ⭐⭐         |\n",
        "| 5 | Mergulhos Adicionais            | Opcional       | ⭐⭐⭐⭐       |\n",
        "\n",
        " <br>\n",
        "\n",
        "---\n",
        " <br>\n"
      ],
      "cell_type": "markdown"
    },
    {
      "metadata": {
        "id": "weEJpYCK0JOT"
      },
      "source": [
        "### 1. 🧠 Ficha de Revisão Rápida | (O Essencial)\n",
        "\n",
        " <br>\n",
        "\n",
        "> Uma *função* em Python é um bloco nomeado de código que:  \n",
        "> 1. Recebe **parâmetros** (opcionais ou obrigatórios).  \n",
        "> 2. Executa um conjunto de instruções.  \n",
        "> 3. Pode retornar um valor com `return`.  \n",
        ">  \n",
        "> Sintaxe básica:  \n",
        "> ```python\n",
        "> def nome_funcao(param1, param2=valor_padrao):\n",
        ">     \"\"\"Docstring explicativa.\"\"\"\n",
        ">     # corpo\n",
        ">     return resultado\n",
        "> ```\n"
      ],
      "cell_type": "markdown"
    },
    {
      "metadata": {
        "id": "nM7RczcO0JOT"
      },
      "source": [
        "### 2. 🔬 Mergulho Profundo | (Os Detalhes)\n",
        "\n",
        " <br>\n",
        "\n",
        "#### **🎯 O Conceito Central**  \n",
        "Funções encapsulam lógica, promovendo *reuso*, *legibilidade* e *testabilidade*. Parâmetros padrão (`param=valor`) permitem comportamento flexível, e a *docstring* documenta uso e retorno.\n",
        "\n",
        " <br>\n",
        "\n",
        "#### **🔗 Analogia de Data Science**  \n",
        "Pense em cada passo de um *pipeline* (limpeza, transformação, modelagem) como uma função: cada função recebe dados, aplica regras e devolve o próximo estágio, facilitando mensuração de performance e isolamento de erros.\n"
      ],
      "cell_type": "markdown"
    },
    {
      "metadata": {
        "id": "-AcPyrqR0JOU"
      },
      "source": [
        "### **💻 Exemplos de Mercado (Abrangentes)**\n",
        "\n",
        "#### **Nível Simples: Definição e Chamada**\n"
      ],
      "cell_type": "markdown"
    },
    {
      "metadata": {
        "id": "cwdBosBV0JOU"
      },
      "source": [
        "def saudacao(nome):\n",
        "    \"\"\"Retorna mensagem de saudação.\"\"\"\n",
        "    return f\"Olá, {nome}!\"\n",
        "\n",
        "print(saudacao(\"Lorenzo\"))\n"
      ],
      "cell_type": "code",
      "execution_count": null,
      "outputs": []
    },
    {
      "metadata": {
        "colab": {
          "base_uri": "https://localhost:8080/"
        },
        "id": "yVfyAZ4Z0JOU",
        "outputId": "e7220973-cf60-4a4a-d065-d940cf6c186a"
      },
      "source": [
        "# Pratique seu código aqui!\n",
        "\n",
        "def saudacao(nome):\n",
        "    \"Retorna mensagem de saudação.\"\n",
        "    return f\"Olá, {nome}!\"\n",
        "\n",
        "print(saudacao(\"Lorenzo\"))"
      ],
      "cell_type": "code",
      "execution_count": 1,
      "outputs": [
        {
          "output_type": "stream",
          "name": "stdout",
          "text": [
            "Olá, Lorenzo!\n"
          ]
        }
      ]
    },
    {
      "metadata": {
        "id": "bCqE7jvx0JOV"
      },
      "source": [
        "*   **O que o código faz:** Define `saudacao` que recebe `nome` e retorna string.  \n",
        "*   **Cenário de Mercado:** Personalização de relatórios ou mensagens de interface.  \n",
        "*   **Boas Práticas:** Sempre inclua docstring e evite efeitos colaterais.\n"
      ],
      "cell_type": "markdown"
    },
    {
      "metadata": {
        "id": "9g5YKUIi0JOV"
      },
      "source": [
        "#### **Nível Intermediário: Parâmetros Padrão e Nomeados**\n"
      ],
      "cell_type": "markdown"
    },
    {
      "metadata": {
        "id": "9Ol6tC_d0JOV"
      },
      "source": [
        "def calcula_preco(valor, desconto=0.1):\n",
        "    \"\"\"Calcula preço com desconto opcional.\"\"\"\n",
        "    return valor * (1 - desconto)\n",
        "\n",
        "print(calcula_preco(100))              # usa desconto padrão\n",
        "print(calcula_preco(100, desconto=0.2))\n"
      ],
      "cell_type": "code",
      "execution_count": null,
      "outputs": []
    },
    {
      "metadata": {
        "colab": {
          "base_uri": "https://localhost:8080/"
        },
        "id": "usR0pNcj0JOV",
        "outputId": "b741e905-4a08-460f-b94d-83c1370649b0"
      },
      "source": [
        "# Pratique seu código aqui!\n",
        "\n",
        "def calcula_preco(valor, desconto=0.1):\n",
        "    \"\"\"Calcula preço com desconto opcional.\"\"\"\n",
        "    return valor * (1 - desconto)\n",
        "\n",
        "print(calcula_preco(100))\n",
        "print(calcula_preco(100, desconto=0.2))"
      ],
      "cell_type": "code",
      "execution_count": 8,
      "outputs": [
        {
          "output_type": "stream",
          "name": "stdout",
          "text": [
            "90.0\n",
            "80.0\n"
          ]
        }
      ]
    },
    {
      "metadata": {
        "id": "JYKhVCcU0JOW"
      },
      "source": [
        "*   **O que o código faz:** Usa *default argument* e *keyword argument*.  \n",
        "*   **Cenário de Mercado:** Cálculos de preços ou métricas ajustáveis sem duplicar código.  \n",
        "*   **Boas Práticas:** Evite mutáveis como valores padrão (listas, dicionários).\n"
      ],
      "cell_type": "markdown"
    },
    {
      "metadata": {
        "id": "55lMWTc90JOW"
      },
      "source": [
        "#### **Nível Avançado: Argumentos Variádicos (`*args`, `**kwargs`)**\n"
      ],
      "cell_type": "markdown"
    },
    {
      "metadata": {
        "id": "DEEvrzjC0JOW"
      },
      "source": [
        "def soma(*numeros):\n",
        "    \"\"\"Soma qualquer quantidade de valores.\"\"\"\n",
        "    return sum(numeros)\n",
        "\n",
        "def imprime_info(**info):\n",
        "    \"\"\"Imprime pares chave:valor arbitrários.\"\"\"\n",
        "    for k, v in info.items():\n",
        "        print(f\"{k}: {v}\")\n",
        "\n",
        "print(soma(1, 2, 3))\n",
        "imprime_info(nome=\"Lumi\", versao=1.0)\n"
      ],
      "cell_type": "code",
      "execution_count": null,
      "outputs": []
    },
    {
      "metadata": {
        "colab": {
          "base_uri": "https://localhost:8080/"
        },
        "id": "l6W6uDdW0JOW",
        "outputId": "85f2d1f4-e780-4739-f84d-7710757e47f2"
      },
      "source": [
        "# Pratique seu código aqui!\n",
        "\n",
        "def soma(*numeros):\n",
        "  \"\"\"Soma qualquer quantidade de valores.\"\"\"\n",
        "  return sum(numeros)\n",
        "\n",
        "def imprime_info(**info):\n",
        "  \"\"\"Imprime pares chave:valor arbitrários.\"\"\"\n",
        "  for k,v, in info.items():\n",
        "    print(f\"{k}: {v}\")\n",
        "\n",
        "print(soma(1, 2, 3))\n",
        "imprime_info(nome = \"Lumi\", versao=1.0)"
      ],
      "cell_type": "code",
      "execution_count": 11,
      "outputs": [
        {
          "output_type": "stream",
          "name": "stdout",
          "text": [
            "6\n",
            "nome: Lumi\n",
            "versao: 1.0\n"
          ]
        }
      ]
    },
    {
      "metadata": {
        "id": "v_j-kILe0JOW"
      },
      "source": [
        "*   **O que o código faz:** Aceita argumentos posicionais e nomeados variáveis.  \n",
        "*   **Cenário de Mercado:** Funções genéricas de logging ou pipelines dinâmicos.\n"
      ],
      "cell_type": "markdown"
    },
    {
      "metadata": {
        "id": "DFue_FC50JOW"
      },
      "source": [
        "#### **Nível DEUS (1/3): Funções Aninhadas e *Closure***\n"
      ],
      "cell_type": "markdown"
    },
    {
      "metadata": {
        "id": "1wZOxCgk0JOW"
      },
      "source": [
        "def contador(inicial=0):\n",
        "    \"\"\"Retorna função que incrementa e retorna contador.\"\"\"\n",
        "    def incrementa():\n",
        "        nonlocal inicial\n",
        "        inicial += 1\n",
        "        return inicial\n",
        "    return incrementa\n",
        "\n",
        "cont = contador(10)\n",
        "print(cont(), cont())\n"
      ],
      "cell_type": "code",
      "execution_count": null,
      "outputs": []
    },
    {
      "metadata": {
        "colab": {
          "base_uri": "https://localhost:8080/"
        },
        "id": "iQ6wbwji0JOW",
        "outputId": "3ba3a440-b4db-42a6-9934-2b9a29ff1947"
      },
      "source": [
        "# Pratique seu código aqui!\n",
        "\n",
        "def contador(inicial=0):\n",
        "  \"\"\"Retorna função que incrementa e retorna contador.\"\"\"\n",
        "  def incrementa():\n",
        "    nonlocal inicial\n",
        "    inicial += 1\n",
        "    return inicial\n",
        "  return incrementa\n",
        "\n",
        "cont = contador(10)\n",
        "print(cont(), cont())"
      ],
      "cell_type": "code",
      "execution_count": 14,
      "outputs": [
        {
          "output_type": "stream",
          "name": "stdout",
          "text": [
            "11 12\n"
          ]
        }
      ]
    },
    {
      "metadata": {
        "id": "yxfmBOBb0JOX"
      },
      "source": [
        "*   **O que o código faz:** Cria closure que preserva o estado interno.  \n",
        "*   **Cenário de Mercado:** Geração de IDs sequenciais ou caches simples.\n"
      ],
      "cell_type": "markdown"
    },
    {
      "metadata": {
        "id": "iLV1aZHj0JOX"
      },
      "source": [
        "#### **Nível DEUS (2/3): Decoradores**\n"
      ],
      "cell_type": "markdown"
    },
    {
      "metadata": {
        "id": "QExYjU_u0JOX"
      },
      "source": [
        "import time\n",
        "\n",
        "def log_tempo(func):\n",
        "    def wrapper(*args, **kwargs):\n",
        "        start = time.time()\n",
        "        resultado = func(*args, **kwargs)\n",
        "        print(f\"{func.__name__} levou {time.time()-start:.4f}s\")\n",
        "        return resultado\n",
        "    return wrapper\n",
        "\n",
        "@log_tempo\n",
        "def multiplica(a, b):\n",
        "    return a * b\n",
        "\n",
        "print(multiplica(3, 4))\n"
      ],
      "cell_type": "code",
      "execution_count": null,
      "outputs": []
    },
    {
      "metadata": {
        "colab": {
          "base_uri": "https://localhost:8080/"
        },
        "id": "sNFYI0dU0JOX",
        "outputId": "cca6a46a-6933-431e-db6a-6dc20ecd07fd"
      },
      "source": [
        "# Pratique seu código aqui!\n",
        "\n",
        "import time\n",
        "\n",
        "def log_tempo(func):\n",
        "  def wrapper(*args, **kwargs):\n",
        "    star = time.time()\n",
        "    resultado = func(*args, **kwargs)\n",
        "    print(f\"{func.__name__} levou {time.time()-star:.4f}s\")\n",
        "    return resultado\n",
        "  return wrapper\n",
        "\n",
        "@log_tempo\n",
        "def multiplica(a,b):\n",
        "  return a * b\n",
        "\n",
        "print(multiplica(3,4))"
      ],
      "cell_type": "code",
      "execution_count": 17,
      "outputs": [
        {
          "output_type": "stream",
          "name": "stdout",
          "text": [
            "multiplica levou 0.0000s\n",
            "12\n"
          ]
        }
      ]
    },
    {
      "metadata": {
        "id": "hNsHFmWS0JOX"
      },
      "source": [
        "*   **O que o código faz:** Mede tempo de execução via decorador.  \n",
        "*   **Cenário de Mercado:** Monitoramento de performance em rotinas críticas.\n"
      ],
      "cell_type": "markdown"
    },
    {
      "metadata": {
        "id": "hdUgsVYu0JOX"
      },
      "source": [
        "#### **Nível DEUS (3/3): Funções Lambda e *Higher-Order Functions***\n"
      ],
      "cell_type": "markdown"
    },
    {
      "metadata": {
        "id": "f5wZFKI20JOX"
      },
      "source": [
        "dados = [1, 2, 3, 4]\n",
        "quadrados = list(map(lambda x: x**2, dados))\n",
        "print(quadrados)\n"
      ],
      "cell_type": "code",
      "execution_count": null,
      "outputs": []
    },
    {
      "metadata": {
        "colab": {
          "base_uri": "https://localhost:8080/"
        },
        "id": "wtZZDSwc0JOX",
        "outputId": "bb7d2f48-31c0-4f4b-8767-b3c3f3760976"
      },
      "source": [
        "# Pratique seu código aqui!\n",
        "\n",
        "dados = [1, 2, 3, 4]\n",
        "quadrados = list(map(lambda x: x**2, dados))\n",
        "print(quadrados)\n"
      ],
      "cell_type": "code",
      "execution_count": 18,
      "outputs": [
        {
          "output_type": "stream",
          "name": "stdout",
          "text": [
            "[1, 4, 9, 16]\n"
          ]
        }
      ]
    },
    {
      "metadata": {
        "id": "SllZw-Gk0JOX"
      },
      "source": [
        "*   **O que o código faz:** Aplica função anônima via `map()`.  \n",
        "*   **Cenário de Mercado:** Transformações rápidas de features sem definir função nomeada.\n"
      ],
      "cell_type": "markdown"
    },
    {
      "metadata": {
        "id": "2YUK2qfw0JOY"
      },
      "source": [
        "### 3. 🕸️ Profundezas e Conexões\n",
        "\n",
        " <br>\n",
        "\n",
        "Funções interagem com **testes unitários** (pytest), **documentação** (Sphinx), **type hints** (`def f(x: int) -> str:`) e **programação funcional** (map, filter, reduce). Decoradores e closures permitem estender comportamento sem alterar código-fonte.\n",
        "\n",
        " <br>\n",
        "\n",
        "---\n",
        " <br>\n"
      ],
      "cell_type": "markdown"
    },
    {
      "metadata": {
        "id": "OTjEbQR90JOY"
      },
      "source": [
        "### 4. 🚀 Ação e Verificação\n",
        "\n",
        " <br>\n",
        "\n",
        "#### **🤔 Desafio Prático**\n",
        "1. Defina `media(a, b, c)` que retorna a média aritmética.  \n",
        "2. Crie função `salario_liquido(salario, imposto=0.15)`.  \n",
        "3. Implemente `maximo(*args)` que retorna o maior valor.  \n",
        "4. Escreva um decorador que registre chamadas em log.  \n",
        "5. Use `map()` e `lambda` para converter lista de strings em comprimentos.\n",
        "\n",
        " <br>\n",
        "\n",
        "#### **❓ Pergunta de Verificação**\n",
        "Por que usar *decoradores* em vez de modificar diretamente funções? Quais vantagens de *closures* para encapsular estado?\n",
        "\n",
        " <br>\n",
        "\n",
        "---\n"
      ],
      "cell_type": "markdown"
    },
    {
      "cell_type": "markdown",
      "source": [
        "### **Resposta Rápida**\n",
        "\n",
        "Decoradores permitem **modificar ou estender o comportamento de funções** de forma **reutilizável e limpa**, sem alterar o código original. Já **closures** encapsulam variáveis privadas dentro de funções, permitindo manter **estado interno com segurança**.\n",
        "\n",
        "---\n",
        "\n",
        "### **Analogia do Dia**\n",
        "\n",
        "Pense em uma cafeteira (função): o **decorador** é como colocar uma **xícara personalizada** embaixo — o café sai igual, mas você adiciona **açúcar, espuma ou arte no leite** sem mudar a cafeteira. Já **closures** são como canecas térmicas que **guardam o calor** — a função lembra do valor passado, mesmo depois de tudo em volta ter mudado.\n",
        "\n",
        "---\n",
        "\n",
        "### **Análise Técnica Detalhada**\n",
        "\n",
        "---\n",
        "\n",
        "## ☕ Parte 1: **Decoradores**\n",
        "\n",
        "### O que são?\n",
        "\n",
        "Funções que **recebem outra função como argumento**, modificam seu comportamento e a retornam.\n",
        "\n",
        "### Por que usar decoradores?\n",
        "\n",
        "* ✅ Separação de responsabilidades\n",
        "* ✅ Reutilização de lógica comum (ex: logs, autenticação, cache)\n",
        "* ✅ **Não toca no código original da função!**\n",
        "\n",
        "---\n",
        "\n",
        "### Exemplo simples:\n",
        "\n",
        "```python\n",
        "def logar(func):\n",
        "    def wrapper():\n",
        "        print(f\"Chamando {func.__name__}\")\n",
        "        return func()\n",
        "    return wrapper\n",
        "\n",
        "@logar\n",
        "def saudacao():\n",
        "    print(\"Olá!\")\n",
        "\n",
        "saudacao()\n",
        "```\n",
        "\n",
        "📌 Resultado:\n",
        "\n",
        "```\n",
        "Chamando saudacao\n",
        "Olá!\n",
        "```\n",
        "\n",
        "---\n",
        "\n",
        "## 🔒 Parte 2: **Closures**\n",
        "\n",
        "### O que são?\n",
        "\n",
        "Uma **função interna** que **lembra do estado** da função externa **mesmo depois dela ter terminado**.\n",
        "\n",
        "---\n",
        "\n",
        "### Exemplo com estado encapsulado:\n",
        "\n",
        "```python\n",
        "def contador():\n",
        "    total = 0\n",
        "    def incrementar():\n",
        "        nonlocal total\n",
        "        total += 1\n",
        "        return total\n",
        "    return incrementar\n",
        "\n",
        "meu_contador = contador()\n",
        "print(meu_contador())  # 1\n",
        "print(meu_contador())  # 2\n",
        "```\n",
        "\n",
        "🧠 Aqui, a variável `total` **vive dentro da closure** e está **segura, encapsulada** — ninguém de fora pode acessá-la diretamente.\n",
        "\n",
        "---\n",
        "\n",
        "### **Nota de Rodapé para Novatos**\n",
        "\n",
        "* **Decorador (`@decorator`)**: Forma de modificar funções com elegância.\n",
        "* **Wrapper**: Função interna que **envolve** outra função.\n",
        "* **Closure**: Função que **\"lembra\"** das variáveis de seu escopo externo, mesmo depois dele acabar.\n",
        "* **`nonlocal`**: Palavra-chave que permite modificar variáveis da função externa dentro da interna.\n",
        "\n",
        "---\n",
        "\n",
        "### **Aplicação Prática e Boas Práticas**\n",
        "\n",
        "### ✅ Decoradores:\n",
        "\n",
        "* **Log de funções**\n",
        "* **Controle de acesso**\n",
        "* **Medição de tempo de execução**\n",
        "* **Validação de entrada/saída**\n",
        "* 📊 Em Ciência de Dados:\n",
        "\n",
        "  * Decoradores podem medir tempo de uma função de processamento:\n",
        "\n",
        "    ```python\n",
        "    from time import time\n",
        "\n",
        "    def medir_tempo(func):\n",
        "        def wrapper(*args, **kwargs):\n",
        "            inicio = time()\n",
        "            resultado = func(*args, **kwargs)\n",
        "            print(f\"Tempo: {time() - inicio:.2f}s\")\n",
        "            return resultado\n",
        "        return wrapper\n",
        "    ```\n",
        "\n",
        "---\n",
        "\n",
        "### ✅ Closures:\n",
        "\n",
        "* Criar **funções com memória interna**\n",
        "* Substituir variáveis globais\n",
        "* Criar **fábricas de funções parametrizadas**\n",
        "* Úteis em **geradores de dados com estado interno** (ex: mini batch em ML)\n",
        "\n",
        "---\n",
        "\n",
        "### **Resumo da Lição**\n",
        "\n",
        "Use **decoradores** para modificar funções de forma elegante e reaproveitável, e **closures** quando precisar de **funções com memória privada** — ambos oferecem **encapsulamento, clareza e poder expressivo** ao seu código.\n",
        "\n",
        "---\n"
      ],
      "metadata": {
        "id": "p0ocmGhJ72N-"
      }
    },
    {
      "cell_type": "code",
      "source": [],
      "metadata": {
        "id": "6009uARH70Ft"
      },
      "execution_count": null,
      "outputs": []
    }
  ]
}