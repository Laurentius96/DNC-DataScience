{
  "nbformat": 4,
  "nbformat_minor": 0,
  "metadata": {
    "colab": {
      "provenance": []
    }
  },
  "cells": [
    {
      "metadata": {
        "id": "58bYjxJh0JOS"
      },
      "source": [
        "## 🎓 **Aula sobre: Funções em Python**\n",
        "\n",
        " <br>\n",
        "\n",
        "### 🧭 Sumário da Aula\n",
        "\n",
        "| # | Sub-tópico                      | Tempo Estimado | Complexidade |\n",
        "|---|---------------------------------|----------------|--------------|\n",
        "| 1 | Ficha de Revisão Rápida         | ~1 min         | ⭐           |\n",
        "| 2 | Mergulho Profundo               | ~15 min        | ⭐⭐⭐⭐       |\n",
        "| 3 | Profundezas e Conexões          | ~3 min         | ⭐⭐         |\n",
        "| 4 | Ação e Verificação              | ~5 min         | ⭐⭐         |\n",
        "| 5 | Mergulhos Adicionais            | Opcional       | ⭐⭐⭐⭐       |\n",
        "\n",
        " <br>\n",
        "\n",
        "---\n",
        " <br>\n"
      ],
      "cell_type": "markdown"
    },
    {
      "metadata": {
        "id": "weEJpYCK0JOT"
      },
      "source": [
        "### 1. 🧠 Ficha de Revisão Rápida | (O Essencial)\n",
        "\n",
        " <br>\n",
        "\n",
        "> Uma *função* em Python é um bloco nomeado de código que:  \n",
        "> 1. Recebe **parâmetros** (opcionais ou obrigatórios).  \n",
        "> 2. Executa um conjunto de instruções.  \n",
        "> 3. Pode retornar um valor com `return`.  \n",
        ">  \n",
        "> Sintaxe básica:  \n",
        "> ```python\n",
        "> def nome_funcao(param1, param2=valor_padrao):\n",
        ">     \"\"\"Docstring explicativa.\"\"\"\n",
        ">     # corpo\n",
        ">     return resultado\n",
        "> ```\n"
      ],
      "cell_type": "markdown"
    },
    {
      "metadata": {
        "id": "nM7RczcO0JOT"
      },
      "source": [
        "### 2. 🔬 Mergulho Profundo | (Os Detalhes)\n",
        "\n",
        " <br>\n",
        "\n",
        "#### **🎯 O Conceito Central**  \n",
        "Funções encapsulam lógica, promovendo *reuso*, *legibilidade* e *testabilidade*. Parâmetros padrão (`param=valor`) permitem comportamento flexível, e a *docstring* documenta uso e retorno.\n",
        "\n",
        " <br>\n",
        "\n",
        "#### **🔗 Analogia de Data Science**  \n",
        "Pense em cada passo de um *pipeline* (limpeza, transformação, modelagem) como uma função: cada função recebe dados, aplica regras e devolve o próximo estágio, facilitando mensuração de performance e isolamento de erros.\n"
      ],
      "cell_type": "markdown"
    },
    {
      "metadata": {
        "id": "-AcPyrqR0JOU"
      },
      "source": [
        "### **💻 Exemplos de Mercado (Abrangentes)**\n",
        "\n",
        "#### **Nível Simples: Definição e Chamada**\n"
      ],
      "cell_type": "markdown"
    },
    {
      "metadata": {
        "id": "cwdBosBV0JOU"
      },
      "source": [
        "def saudacao(nome):\n",
        "    \"\"\"Retorna mensagem de saudação.\"\"\"\n",
        "    return f\"Olá, {nome}!\"\n",
        "\n",
        "print(saudacao(\"Lorenzo\"))\n"
      ],
      "cell_type": "code",
      "execution_count": null,
      "outputs": []
    },
    {
      "metadata": {
        "id": "yVfyAZ4Z0JOU"
      },
      "source": [
        "# Pratique seu código aqui!\n",
        "\n",
        "def\n"
      ],
      "cell_type": "code",
      "execution_count": null,
      "outputs": []
    },
    {
      "metadata": {
        "id": "bCqE7jvx0JOV"
      },
      "source": [
        "*   **O que o código faz:** Define `saudacao` que recebe `nome` e retorna string.  \n",
        "*   **Cenário de Mercado:** Personalização de relatórios ou mensagens de interface.  \n",
        "*   **Boas Práticas:** Sempre inclua docstring e evite efeitos colaterais.\n"
      ],
      "cell_type": "markdown"
    },
    {
      "metadata": {
        "id": "9g5YKUIi0JOV"
      },
      "source": [
        "#### **Nível Intermediário: Parâmetros Padrão e Nomeados**\n"
      ],
      "cell_type": "markdown"
    },
    {
      "metadata": {
        "id": "9Ol6tC_d0JOV"
      },
      "source": [
        "def calcula_preco(valor, desconto=0.1):\n",
        "    \"\"\"Calcula preço com desconto opcional.\"\"\"\n",
        "    return valor * (1 - desconto)\n",
        "\n",
        "print(calcula_preco(100))              # usa desconto padrão\n",
        "print(calcula_preco(100, desconto=0.2))\n"
      ],
      "cell_type": "code",
      "execution_count": null,
      "outputs": []
    },
    {
      "metadata": {
        "id": "usR0pNcj0JOV"
      },
      "source": [
        "# Pratique seu código aqui!\n"
      ],
      "cell_type": "code",
      "execution_count": null,
      "outputs": []
    },
    {
      "metadata": {
        "id": "JYKhVCcU0JOW"
      },
      "source": [
        "*   **O que o código faz:** Usa *default argument* e *keyword argument*.  \n",
        "*   **Cenário de Mercado:** Cálculos de preços ou métricas ajustáveis sem duplicar código.  \n",
        "*   **Boas Práticas:** Evite mutáveis como valores padrão (listas, dicionários).\n"
      ],
      "cell_type": "markdown"
    },
    {
      "metadata": {
        "id": "55lMWTc90JOW"
      },
      "source": [
        "#### **Nível Avançado: Argumentos Variádicos (`*args`, `**kwargs`)**\n"
      ],
      "cell_type": "markdown"
    },
    {
      "metadata": {
        "id": "DEEvrzjC0JOW"
      },
      "source": [
        "def soma(*numeros):\n",
        "    \"\"\"Soma qualquer quantidade de valores.\"\"\"\n",
        "    return sum(numeros)\n",
        "\n",
        "def imprime_info(**info):\n",
        "    \"\"\"Imprime pares chave:valor arbitrários.\"\"\"\n",
        "    for k, v in info.items():\n",
        "        print(f\"{k}: {v}\")\n",
        "\n",
        "print(soma(1, 2, 3))\n",
        "imprime_info(nome=\"Lumi\", versao=1.0)\n"
      ],
      "cell_type": "code",
      "execution_count": null,
      "outputs": []
    },
    {
      "metadata": {
        "id": "l6W6uDdW0JOW"
      },
      "source": [
        "# Pratique seu código aqui!\n"
      ],
      "cell_type": "code",
      "execution_count": null,
      "outputs": []
    },
    {
      "metadata": {
        "id": "v_j-kILe0JOW"
      },
      "source": [
        "*   **O que o código faz:** Aceita argumentos posicionais e nomeados variáveis.  \n",
        "*   **Cenário de Mercado:** Funções genéricas de logging ou pipelines dinâmicos.\n"
      ],
      "cell_type": "markdown"
    },
    {
      "metadata": {
        "id": "DFue_FC50JOW"
      },
      "source": [
        "#### **Nível DEUS (1/3): Funções Aninhadas e *Closure***\n"
      ],
      "cell_type": "markdown"
    },
    {
      "metadata": {
        "id": "1wZOxCgk0JOW"
      },
      "source": [
        "def contador(inicial=0):\n",
        "    \"\"\"Retorna função que incrementa e retorna contador.\"\"\"\n",
        "    def incrementa():\n",
        "        nonlocal inicial\n",
        "        inicial += 1\n",
        "        return inicial\n",
        "    return incrementa\n",
        "\n",
        "cont = contador(10)\n",
        "print(cont(), cont())\n"
      ],
      "cell_type": "code",
      "execution_count": null,
      "outputs": []
    },
    {
      "metadata": {
        "id": "iQ6wbwji0JOW"
      },
      "source": [
        "# Pratique seu código aqui!\n"
      ],
      "cell_type": "code",
      "execution_count": null,
      "outputs": []
    },
    {
      "metadata": {
        "id": "yxfmBOBb0JOX"
      },
      "source": [
        "*   **O que o código faz:** Cria closure que preserva o estado interno.  \n",
        "*   **Cenário de Mercado:** Geração de IDs sequenciais ou caches simples.\n"
      ],
      "cell_type": "markdown"
    },
    {
      "metadata": {
        "id": "iLV1aZHj0JOX"
      },
      "source": [
        "#### **Nível DEUS (2/3): Decoradores**\n"
      ],
      "cell_type": "markdown"
    },
    {
      "metadata": {
        "id": "QExYjU_u0JOX"
      },
      "source": [
        "import time\n",
        "\n",
        "def log_tempo(func):\n",
        "    def wrapper(*args, **kwargs):\n",
        "        start = time.time()\n",
        "        resultado = func(*args, **kwargs)\n",
        "        print(f\"{func.__name__} levou {time.time()-start:.4f}s\")\n",
        "        return resultado\n",
        "    return wrapper\n",
        "\n",
        "@log_tempo\n",
        "def multiplica(a, b):\n",
        "    return a * b\n",
        "\n",
        "print(multiplica(3, 4))\n"
      ],
      "cell_type": "code",
      "execution_count": null,
      "outputs": []
    },
    {
      "metadata": {
        "id": "sNFYI0dU0JOX"
      },
      "source": [
        "# Pratique seu código aqui!\n"
      ],
      "cell_type": "code",
      "execution_count": null,
      "outputs": []
    },
    {
      "metadata": {
        "id": "hNsHFmWS0JOX"
      },
      "source": [
        "*   **O que o código faz:** Mede tempo de execução via decorador.  \n",
        "*   **Cenário de Mercado:** Monitoramento de performance em rotinas críticas.\n"
      ],
      "cell_type": "markdown"
    },
    {
      "metadata": {
        "id": "hdUgsVYu0JOX"
      },
      "source": [
        "#### **Nível DEUS (3/3): Funções Lambda e *Higher-Order Functions***\n"
      ],
      "cell_type": "markdown"
    },
    {
      "metadata": {
        "id": "f5wZFKI20JOX"
      },
      "source": [
        "dados = [1, 2, 3, 4]\n",
        "quadrados = list(map(lambda x: x**2, dados))\n",
        "print(quadrados)\n"
      ],
      "cell_type": "code",
      "execution_count": null,
      "outputs": []
    },
    {
      "metadata": {
        "id": "wtZZDSwc0JOX"
      },
      "source": [
        "# Pratique seu código aqui!\n"
      ],
      "cell_type": "code",
      "execution_count": null,
      "outputs": []
    },
    {
      "metadata": {
        "id": "SllZw-Gk0JOX"
      },
      "source": [
        "*   **O que o código faz:** Aplica função anônima via `map()`.  \n",
        "*   **Cenário de Mercado:** Transformações rápidas de features sem definir função nomeada.\n"
      ],
      "cell_type": "markdown"
    },
    {
      "metadata": {
        "id": "2YUK2qfw0JOY"
      },
      "source": [
        "### 3. 🕸️ Profundezas e Conexões\n",
        "\n",
        " <br>\n",
        "Funções interagem com **testes unitários** (pytest), **documentação** (Sphinx), **type hints** (`def f(x: int) -> str:`) e **programação funcional** (map, filter, reduce). Decoradores e closures permitem estender comportamento sem alterar código-fonte.\n",
        " <br>\n",
        "\n",
        "---\n",
        " <br>\n"
      ],
      "cell_type": "markdown"
    },
    {
      "metadata": {
        "id": "OTjEbQR90JOY"
      },
      "source": [
        "### 4. 🚀 Ação e Verificação\n",
        "\n",
        " <br>\n",
        "#### **🤔 Desafio Prático**\n",
        "1. Defina `media(a, b, c)` que retorna a média aritmética.  \n",
        "2. Crie função `salario_liquido(salario, imposto=0.15)`.  \n",
        "3. Implemente `maximo(*args)` que retorna o maior valor.  \n",
        "4. Escreva um decorador que registre chamadas em log.  \n",
        "5. Use `map()` e `lambda` para converter lista de strings em comprimentos.\n",
        "\n",
        " <br>\n",
        "#### **❓ Pergunta de Verificação**\n",
        "Por que usar *decoradores* em vez de modificar diretamente funções? Quais vantagens de *closures* para encapsular estado?\n",
        " <br>\n",
        "\n",
        "---\n",
        " <br>\n"
      ],
      "cell_type": "markdown"
    }
  ]
}