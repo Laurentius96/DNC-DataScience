{
  "nbformat": 4,
  "nbformat_minor": 0,
  "metadata": {
    "colab": {
      "provenance": []
    },
    "language_info": {
      "name": "python"
    },
    "kernelspec": {
      "name": "python3",
      "display_name": "Python 3"
    }
  },
  "cells": [
    {
      "metadata": {
        "id": "xPEXD9Ly8OGk"
      },
      "source": [
        "## 🎓 **Aula sobre: Imutabilidade e Operações com Tuplas em Python**\n",
        "\n",
        " <br>\n",
        "\n",
        "### 🧭 Sumário da Aula\n",
        "\n",
        "| # | Sub-tópico                      | Tempo Estimado | Complexidade |\n",
        "|---|---------------------------------|----------------|--------------|\n",
        "| 1 | Ficha de Revisão Rápida         | ~1 min         | ⭐           |\n",
        "| 2 | Mergulho Profundo               | ~15 min        | ⭐⭐⭐⭐       |\n",
        "| 3 | Profundezas e Conexões          | ~3 min         | ⭐⭐         |\n",
        "| 4 | Ação e Verificação              | ~5 min         | ⭐⭐         |\n",
        "| 5 | Mergulhos Adicionais            | Opcional      | ⭐⭐⭐⭐     |\n",
        "\n",
        " <br>\n",
        "\n",
        "---\n",
        " <br>\n"
      ],
      "cell_type": "markdown"
    },
    {
      "metadata": {
        "id": "xcLH8Sz58OGl"
      },
      "source": [
        "### 1. 🧠 Ficha de Revisão Rápida | (O Essencial)\n",
        "\n",
        " <br>\n",
        "\n",
        "> Uma *tupla* é uma sequência **imutável** de valores ordenados.  \n",
        "> Principais operações:  \n",
        "> - Concatenação (`t1 + t2`)  \n",
        "> - Repetição (`t * n`)  \n",
        "> - Indexação e fatiamento (`t[i]`, `t[start:end]`)  \n",
        "> - Teste de associação (`x in t`)  \n",
        "> - Métodos `t.count(x)` e `t.index(x)`  \n",
        "> - Hash e uso como chave de dicionário\n",
        "\n",
        " <br>\n"
      ],
      "cell_type": "markdown"
    },
    {
      "metadata": {
        "id": "c6R-myWJ8OGl"
      },
      "source": [
        "### 2. 🔬 Mergulho Profundo | (Os Detalhes)\n",
        "\n",
        " <br>\n",
        "\n",
        "#### **🎯 O Conceito Central**  \n",
        "Imutabilidade significa que, uma vez criada, a tupla não pode ser alterada *in-place*. Toda “modificação” gera uma nova tupla, preservando a integridade dos dados originais e permitindo que tuplas sejam *hashable* e usadas como chaves de dicionário ou membros de conjuntos.\n",
        "\n",
        " <br>\n",
        "\n",
        "#### **🔗 Analogia de Data Science**  \n",
        "Pense em um snapshot de um *DataFrame* no momento T: aquele estado não muda. Usar tuplas é semelhante a congelar um conjunto de características ou parâmetros para garantir consistência em experimentos e evitar alterações acidentais no pipeline de processamento.\n",
        "\n",
        " <br>\n"
      ],
      "cell_type": "markdown"
    },
    {
      "metadata": {
        "id": "oOwaxnHo8OGm"
      },
      "source": [
        "### **💻 Exemplos de Mercado (Abrangentes)**\n",
        "\n",
        "#### **Nível Simples: Concatenação e Repetição**\n"
      ],
      "cell_type": "markdown"
    },
    {
      "metadata": {
        "id": "AYvzclKz8OGm"
      },
      "source": [
        "t1 = (1, 2)\n",
        "t2 = (3, 4)\n",
        "print(t1 + t2)    # (1, 2, 3, 4)\n",
        "print(t1 * 3)     # (1, 2, 1, 2, 1, 2)\n"
      ],
      "cell_type": "code",
      "execution_count": null,
      "outputs": []
    },
    {
      "metadata": {
        "colab": {
          "base_uri": "https://localhost:8080/"
        },
        "id": "boWSxnUy8OGn",
        "outputId": "282489f5-5ed3-43b1-faee-fa351f6d145a"
      },
      "source": [
        "# Pratique seu código aqui!\n",
        "\n",
        "t1 = (1, 2)\n",
        "t2 = (3, 4)\n",
        "print(t1 + t2)\n",
        "print(t1 * 3)\n",
        "print(t2 * 10)\n"
      ],
      "cell_type": "code",
      "execution_count": 2,
      "outputs": [
        {
          "output_type": "stream",
          "name": "stdout",
          "text": [
            "(1, 2, 3, 4)\n",
            "(1, 2, 1, 2, 1, 2)\n",
            "(3, 4, 3, 4, 3, 4, 3, 4, 3, 4, 3, 4, 3, 4, 3, 4, 3, 4, 3, 4)\n"
          ]
        }
      ]
    },
    {
      "metadata": {
        "id": "Ql4jkGun8OGn"
      },
      "source": [
        "*   **O que o código faz:** Gera novas tuplas pela união ou repetição de elementos.  \n",
        "*   **Cenário de Mercado:** Construir sequências fixas de parâmetros ou horários recorrentes.  \n",
        "*   **Boas Práticas:** Use concatenação para compor tuplas pequenas de configuração.\n"
      ],
      "cell_type": "markdown"
    },
    {
      "metadata": {
        "id": "z9bFL3ak8OGn"
      },
      "source": [
        "#### **Nível Intermediário: Indexação, Fatiamento e Associação**\n"
      ],
      "cell_type": "markdown"
    },
    {
      "metadata": {
        "id": "mL77igvY8OGn"
      },
      "source": [
        "t = (10, 20, 30, 40, 50)\n",
        "print(t[2])          # 30\n",
        "print(t[-1])         # 50\n",
        "print(t[1:4])        # (20, 30, 40)\n",
        "print(20 in t)       # True\n",
        "print(99 not in t)   # True\n"
      ],
      "cell_type": "code",
      "execution_count": null,
      "outputs": []
    },
    {
      "metadata": {
        "colab": {
          "base_uri": "https://localhost:8080/"
        },
        "id": "12xAaClA8OGo",
        "outputId": "8a0925c0-f41b-4f70-c439-61f940cf5405"
      },
      "source": [
        "# Pratique seu código aqui!\n",
        "\n",
        "t = (10, 20, 30, 40, 50)\n",
        "print(t[2])\n",
        "print(t[-1])\n",
        "print(t[1:4])\n",
        "print(20 in t)\n",
        "print(99 not in t)"
      ],
      "cell_type": "code",
      "execution_count": 5,
      "outputs": [
        {
          "output_type": "stream",
          "name": "stdout",
          "text": [
            "30\n",
            "50\n",
            "(20, 30, 40)\n",
            "True\n",
            "True\n"
          ]
        }
      ]
    },
    {
      "metadata": {
        "id": "BmMBmqcG8OGo"
      },
      "source": [
        "*   **O que o código faz:** Acessa e extrai sub-tuplas, verifica presença de valores.  \n",
        "*   **Cenário de Mercado:** Filtragem de registros ou time windows em séries temporais.  \n",
        "*   **Boas Práticas:** Verifique índices válidos antes de acessar para evitar `IndexError`.\n"
      ],
      "cell_type": "markdown"
    },
    {
      "metadata": {
        "id": "S2ReRxyP8OGo"
      },
      "source": [
        "#### **Nível Avançado: Métodos `count()` e `index()`**\n"
      ],
      "cell_type": "markdown"
    },
    {
      "metadata": {
        "id": "ODJ8WIE_8OGo"
      },
      "source": [
        "t = (1,2,2,3,2,4)\n",
        "print(t.count(2))    # 3\n",
        "print(t.index(3))    # 3 (posição da primeira ocorrência)\n"
      ],
      "cell_type": "code",
      "execution_count": null,
      "outputs": []
    },
    {
      "metadata": {
        "colab": {
          "base_uri": "https://localhost:8080/"
        },
        "id": "mk_BRiN_8OGo",
        "outputId": "d323ac17-616b-4176-a5c5-2060c25ab233"
      },
      "source": [
        "# Pratique seu código aqui!\n",
        "\n",
        "t = (1,2,2,3,2,4)\n",
        "\n",
        "print(t.count(2))\n",
        "print(t.index(3))"
      ],
      "cell_type": "code",
      "execution_count": 10,
      "outputs": [
        {
          "output_type": "stream",
          "name": "stdout",
          "text": [
            "3\n",
            "3\n"
          ]
        }
      ]
    },
    {
      "metadata": {
        "id": "ARGc1Tn98OGp"
      },
      "source": [
        "*   **O que o código faz:** Conta quantas vezes um valor aparece e encontra seu primeiro índice.  \n",
        "*   **Cenário de Mercado:** Análise de frequência de categorias e localização de eventos em logs.  \n",
        "*   **Boas Práticas:** Trate `ValueError` ao usar `index()` quando o valor pode não existir.\n"
      ],
      "cell_type": "markdown"
    },
    {
      "metadata": {
        "id": "To6TqUA_8OGp"
      },
      "source": [
        "#### **Nível DEUS (1/3): Desempacotamento com `*` (Star Unpacking)**\n"
      ],
      "cell_type": "markdown"
    },
    {
      "metadata": {
        "id": "ETZAzs588OGp"
      },
      "source": [
        "t = (1, 2, 3, 4, 5)\n",
        "head, *middle, tail = t\n",
        "print(head)    # 1\n",
        "print(middle)  # [2,3,4]\n",
        "print(tail)    # 5\n"
      ],
      "cell_type": "code",
      "execution_count": null,
      "outputs": []
    },
    {
      "metadata": {
        "colab": {
          "base_uri": "https://localhost:8080/"
        },
        "id": "ibw9_aGT8OGp",
        "outputId": "9a764066-964c-42e0-a6ce-d13b86658463"
      },
      "source": [
        "# Pratique seu código aqui!\n",
        "\n",
        "t = (1, 2, 3, 4, 5)\n",
        "head, *middle, tail = t\n",
        "\n",
        "print(head)\n",
        "print(type(head))\n",
        "print(middle)\n",
        "print(type(middle))\n",
        "print(tail)\n",
        "print(type(tail))\n",
        "\n"
      ],
      "cell_type": "code",
      "execution_count": 13,
      "outputs": [
        {
          "output_type": "stream",
          "name": "stdout",
          "text": [
            "1\n",
            "<class 'int'>\n",
            "[2, 3, 4]\n",
            "<class 'list'>\n",
            "5\n",
            "<class 'int'>\n"
          ]
        }
      ]
    },
    {
      "metadata": {
        "id": "oX8XpdvA8OGp"
      },
      "source": [
        "*   **O que o código faz:** Usa `*` para agrupar elementos centrais em lista, mantendo imutabilidade da tupla original.  \n",
        "*   **Cenário de Mercado:** Manipular parâmetros variáveis enquanto retém extremidades fixas.\n"
      ],
      "cell_type": "markdown"
    },
    {
      "metadata": {
        "id": "QE3DJPG58OGp"
      },
      "source": [
        "#### **Nível DEUS (2/3): Conversão e Reconstrução**\n"
      ],
      "cell_type": "markdown"
    },
    {
      "metadata": {
        "id": "gXWQYuGT8OGp"
      },
      "source": [
        "t = (10,20,30)\n",
        "lst = list(t)\n",
        "lst[1] = 99\n",
        "t2 = tuple(lst)\n",
        "print(t, t2)  # (10,20,30) e (10,99,30)\n"
      ],
      "cell_type": "code",
      "execution_count": null,
      "outputs": []
    },
    {
      "metadata": {
        "colab": {
          "base_uri": "https://localhost:8080/"
        },
        "id": "Z6y0mHaS8OGp",
        "outputId": "3905adb5-e049-406e-9952-15df7dbb46e2"
      },
      "source": [
        "# Pratique seu código aqui!\n",
        "\n",
        "t = (10, 20, 30)\n",
        "\n",
        "lst = list(t)\n",
        "lst[1] = 99\n",
        "t2 = tuple(lst)\n",
        "\n",
        "print(t, t2)\n"
      ],
      "cell_type": "code",
      "execution_count": 14,
      "outputs": [
        {
          "output_type": "stream",
          "name": "stdout",
          "text": [
            "(10, 20, 30) (10, 99, 30)\n"
          ]
        }
      ]
    },
    {
      "metadata": {
        "id": "jKdKiK5i8OGp"
      },
      "source": [
        "*   **O que o código faz:** Converte tupla em lista para modificar e reconstrói nova tupla.  \n",
        "*   **Cenário de Mercado:** Atualizar parâmetros imutáveis de configuração sem alterar histórico original.\n"
      ],
      "cell_type": "markdown"
    },
    {
      "metadata": {
        "id": "gXYG-Qr58OGq"
      },
      "source": [
        "#### **Nível DEUS (3/3): Hashabilidade e Uso em Conjuntos**\n"
      ],
      "cell_type": "markdown"
    },
    {
      "metadata": {
        "id": "xTUX4bk-8OGq"
      },
      "source": [
        "t = (1,2,3)\n",
        "print(hash(t))         # valor hash\n",
        "s = {t}\n",
        "print(s)               # {(1,2,3)}\n"
      ],
      "cell_type": "code",
      "execution_count": null,
      "outputs": []
    },
    {
      "metadata": {
        "colab": {
          "base_uri": "https://localhost:8080/"
        },
        "id": "PJX1e5JD8OGq",
        "outputId": "78fea84b-0f8b-4110-a831-1695e9ce10f3"
      },
      "source": [
        "# Pratique seu código aqui!\n",
        "\n",
        "t = (1, 2, 3)\n",
        "\n",
        "print(hash(t))\n",
        "s = {t}\n",
        "print(s)\n",
        "\n",
        "\n",
        "### Esse código funciona porque t é uma tupla imutável e hashable — por isso, pode ser usada como chave de dicionário ou elemento de set. O hash(t) retorna um número que representa a tupla, e s = {t} cria um conjunto contendo essa tupla.\n"
      ],
      "cell_type": "code",
      "execution_count": 19,
      "outputs": [
        {
          "output_type": "stream",
          "name": "stdout",
          "text": [
            "529344067295497451\n",
            "{(1, 2, 3)}\n"
          ]
        }
      ]
    },
    {
      "metadata": {
        "id": "kw1Ya2c48OGq"
      },
      "source": [
        "*   **O que o código faz:** Obtém hash para usar a tupla em set ou como chave de dict.  \n",
        "*   **Cenário de Mercado:** Cache de consultas ou mapeamento de padrões estáticos.\n"
      ],
      "cell_type": "markdown"
    },
    {
      "metadata": {
        "id": "_6NOz_NE8OGq"
      },
      "source": [
        "### 3. 🕸️ Profundezas e Conexões\n",
        "\n",
        " <br>\n",
        "\n",
        "Imutabilidade de tuplas as torna ideais para *type hints*, retornos múltiplos de funções e como chaves de dicionário. Em *pandas*, `itertuples()` gera tuplas eficientes para iterar linhas sem cópia de objetos.\n",
        "\n",
        " <br>\n",
        "\n",
        "---\n",
        " <br>\n"
      ],
      "cell_type": "markdown"
    },
    {
      "metadata": {
        "id": "6yYdHYCp8OGq"
      },
      "source": [
        "### 4. 🚀 Ação e Verificação\n",
        "\n",
        " <br>\n",
        "\n",
        "#### **🤔 Desafio Prático**\n",
        "1. Crie `t = (5,10,15)` e tente atribuir `t[0] = 1` para observar o erro.  \n",
        "2. Concatene `(1,2)` e `(3,4)` e repita o resultado duas vezes.  \n",
        "3. Use `count()` para contar quantas vezes `2` aparece em `(2,3,2,4,2)`.  \n",
        "4. Desempacote `(x, *ys, z) = (9,8,7,6,5)` e exiba `x`, `ys`, `z`.  \n",
        "5. Use uma tupla como chave em um dicionário para mapear coordenadas a nomes.\n",
        "\n",
        " <br>\n",
        "\n",
        "#### **❓ Pergunta de Verificação**\n",
        "Por que a imutabilidade de tuplas melhora segurança de dados e performance, e em que situações você prefere tupla a lista?\n",
        "\n",
        " <br>\n",
        "\n",
        "---\n",
        " <br>\n"
      ],
      "cell_type": "markdown"
    },
    {
      "cell_type": "code",
      "source": [],
      "metadata": {
        "id": "AIQOhsZBO2kH"
      },
      "execution_count": null,
      "outputs": []
    }
  ]
}