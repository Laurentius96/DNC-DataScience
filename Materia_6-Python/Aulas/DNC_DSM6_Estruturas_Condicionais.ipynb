{
  "nbformat": 4,
  "nbformat_minor": 0,
  "metadata": {
    "colab": {
      "provenance": []
    },
    "language_info": {
      "name": "python"
    },
    "kernelspec": {
      "name": "python3",
      "display_name": "Python 3"
    }
  },
  "cells": [
    {
      "metadata": {
        "id": "8x1lR_FbOXjG"
      },
      "source": [
        "## 🎓 **Aula sobre: Estruturas Condicionais em Python**\n",
        "\n",
        " <br>\n",
        "\n",
        "### 🧭 Sumário da Aula\n",
        "\n",
        "| # | Sub-tópico                      | Tempo Estimado | Complexidade |\n",
        "|---|---------------------------------|----------------|--------------|\n",
        "| 1 | Ficha de Revisão Rápida         | ~1 min         | ⭐           |\n",
        "| 2 | Mergulho Profundo               | ~15 min        | ⭐⭐⭐⭐       |\n",
        "| 3 | Profundezas e Conexões          | ~3 min         | ⭐⭐         |\n",
        "| 4 | Ação e Verificação              | ~5 min         | ⭐⭐         |\n",
        "| 5 | Mergulhos Adicionais            | Opcional       | ⭐⭐⭐⭐       |\n",
        "\n",
        " <br>\n",
        "\n",
        "---\n",
        " <br>\n"
      ],
      "cell_type": "markdown"
    },
    {
      "metadata": {
        "id": "7d2-5oHPOXjJ"
      },
      "source": [
        "### 1. 🧠 Ficha de Revisão Rápida | (O Essencial)\n",
        "\n",
        " <br>\n",
        "\n",
        "> Estruturas condicionais permitem executar blocos de código dependendo de condições booleanas.  \n",
        "> Principais palavras-chave: `if`, `elif`, `else`.  \n",
        "> Sintaxe básica:\n",
        "> ```python\n",
        "> if condição:\n",
        ">     ação_true\n",
        "> elif outra_condição:\n",
        ">     ação_alt\n",
        "> else:\n",
        ">     ação_false\n",
        "> ```\n"
      ],
      "cell_type": "markdown"
    },
    {
      "metadata": {
        "id": "EHZsL6oWOXjK"
      },
      "source": [
        "### 2. 🔬 Mergulho Profundo | (Os Detalhes)\n",
        "\n",
        " <br>\n",
        "\n",
        "#### **🎯 O Conceito Central**  \n",
        "Quando uma **condição** avalia para `True`, o bloco de código seguinte executa. Se não, o Python verifica `elif` (se houver) ou cai em `else`. Isso permite ramificar a lógica e tratar casos distintos.\n",
        "\n",
        " <br>\n",
        "\n",
        "#### **🔗 Analogia de Data Science**  \n",
        "Imagine um *pipeline* de pré-processamento de dados:  \n",
        "- Se um valor for nulo → aplique preenchimento.  \n",
        "- Se estiver fora de alcance → aplique cap.  \n",
        "- Caso contrário → mantenha o valor original.  \n",
        "Cada ramo condicional trata um cenário específico no fluxo de dados.\n"
      ],
      "cell_type": "markdown"
    },
    {
      "metadata": {
        "id": "R70XZZQ9OXjK"
      },
      "source": [
        "### **💻 Exemplos de Mercado (Abrangentes)**\n",
        "\n",
        "#### **Nível Simples: Condicional Básica**\n"
      ],
      "cell_type": "markdown"
    },
    {
      "metadata": {
        "id": "hGxqlobzOXjK"
      },
      "source": [
        "idade = int(input(\"Idade: \"))\n",
        "if idade >= 18:\n",
        "    print(\"Maior de idade\")\n",
        "else:\n",
        "    print(\"Menor de idade\")\n"
      ],
      "cell_type": "code",
      "execution_count": null,
      "outputs": []
    },
    {
      "metadata": {
        "colab": {
          "base_uri": "https://localhost:8080/"
        },
        "id": "98MJkv-FOXjL",
        "outputId": "895c8351-3108-4933-fd97-3282f621b6b5"
      },
      "source": [
        "# Pratique seu código aqui!\n",
        "\n",
        "idade = int(input(\"Idade: \"))\n",
        "if idade >= 18:\n",
        "  print(\"\\n Maior de idade!\")\n",
        "else:\n",
        "  print(\"\\n Menor de idade!\")\n"
      ],
      "cell_type": "code",
      "execution_count": 5,
      "outputs": [
        {
          "output_type": "stream",
          "name": "stdout",
          "text": [
            "Idade: 45\n",
            "\n",
            " Maior de idade!\n"
          ]
        }
      ]
    },
    {
      "metadata": {
        "id": "3aS3pnkzOXjL"
      },
      "source": [
        "* **O que o código faz:** Verifica se o usuário é maior de idade.  \n",
        "* **Cenário de Mercado:** Validação de elegibilidade em cadastros.  \n",
        "* **Boas Práticas:** Sempre trate casos de erro (ex: input inválido).\n"
      ],
      "cell_type": "markdown"
    },
    {
      "metadata": {
        "id": "qTluA8k2OXjM"
      },
      "source": [
        "#### **Nível Intermediário: Múltiplos Ramos com `elif`**\n"
      ],
      "cell_type": "markdown"
    },
    {
      "metadata": {
        "id": "PooLzXv2OXjM"
      },
      "source": [
        "nota = float(input(\"Nota (0-10): \"))\n",
        "if nota >= 9:\n",
        "    conceito = \"A\"\n",
        "elif nota >= 7:\n",
        "    conceito = \"B\"\n",
        "elif nota >= 5:\n",
        "    conceito = \"C\"\n",
        "else:\n",
        "    conceito = \"D\"\n",
        "print(f\"Conceito: {conceito}\")\n"
      ],
      "cell_type": "code",
      "execution_count": null,
      "outputs": []
    },
    {
      "metadata": {
        "colab": {
          "base_uri": "https://localhost:8080/"
        },
        "id": "U8aUlP1xOXjM",
        "outputId": "1a8f355d-764a-4740-eb8c-c2da46af4bad"
      },
      "source": [
        "# Pratique seu código aqui!\n",
        "\n",
        "nota = float(input(\"Nota (0-10): \"))\n",
        "if nota >= 9:\n",
        "    conceito = \"A\"\n",
        "elif nota >= 7:\n",
        "    conceito = \"B\"\n",
        "elif nota >= 5:\n",
        "    conceito = \"C\"\n",
        "else:\n",
        "    conceito = \"D\"\n",
        "\n",
        "print(f\"\\n Conceito: {conceito}\")\n"
      ],
      "cell_type": "code",
      "execution_count": 8,
      "outputs": [
        {
          "output_type": "stream",
          "name": "stdout",
          "text": [
            "Nota (0-10): 10\n",
            "\n",
            " Conceito: A\n"
          ]
        }
      ]
    },
    {
      "metadata": {
        "id": "Zw201p80OXjN"
      },
      "source": [
        "* **O que o código faz:** Classifica notas em conceitos.  \n",
        "* **Cenário de Mercado:** Sistemas de avaliação acadêmica ou performance.  \n",
        "* **Boas Práticas:** Ordene `elif` do caso mais restritivo para o mais genérico.\n"
      ],
      "cell_type": "markdown"
    },
    {
      "metadata": {
        "id": "aE1zdt43OXjN"
      },
      "source": [
        "#### **Nível Avançado: Condicionais Aninhadas**\n"
      ],
      "cell_type": "markdown"
    },
    {
      "metadata": {
        "id": "a2yivVwnOXjN"
      },
      "source": [
        "usuario = {\"ativo\": True, \"roles\": [\"admin\", \"user\"]}\n",
        "if usuario[\"ativo\"]:\n",
        "    if \"admin\" in usuario[\"roles\"]:\n",
        "        acesso = \"Total\"\n",
        "    else:\n",
        "        acesso = \"Limitado\"\n",
        "else:\n",
        "    acesso = \"Negado\"\n",
        "print(f\"Acesso: {acesso}\")\n"
      ],
      "cell_type": "code",
      "execution_count": null,
      "outputs": []
    },
    {
      "metadata": {
        "colab": {
          "base_uri": "https://localhost:8080/"
        },
        "id": "8rIsgFzVOXjN",
        "outputId": "08af4044-79af-44e1-ee78-11c920293001"
      },
      "source": [
        "# Pratique seu código aqui!\n",
        "\n",
        "usuario = {\"ativo\": True, \"roles\": [\"admin\", \"user\"]}\n",
        "\n",
        "if usuario[\"ativo\"]:\n",
        "    if \"admin\"in usuario[\"roles\"]:\n",
        "        acesso = \"Total\"\n",
        "    else:\n",
        "        acesso = \"Limitado\"\n",
        "else:\n",
        "  acesso = \"Negado\"\n",
        "print(f\"Acesso: {acesso}\")\n",
        "\n"
      ],
      "cell_type": "code",
      "execution_count": 17,
      "outputs": [
        {
          "output_type": "stream",
          "name": "stdout",
          "text": [
            "Acesso: Limitado\n"
          ]
        }
      ]
    },
    {
      "metadata": {
        "id": "1XoK1pv0OXjN"
      },
      "source": [
        "* **O que o código faz:** Verifica múltiplas condições aninhadas para definir nível de acesso.  \n",
        "* **Cenário de Mercado:** Controle de permissões em sistemas web.  \n",
        "* **Boas Práticas:** Evite muitos níveis de aninhamento; avalie simplificar com funções.\n"
      ],
      "cell_type": "markdown"
    },
    {
      "metadata": {
        "id": "YxwK6WImOXjN"
      },
      "source": [
        "#### **Nível DEUS (1/3): Expressão Ternária**\n"
      ],
      "cell_type": "markdown"
    },
    {
      "metadata": {
        "id": "tWkSZfrJOXjN"
      },
      "source": [
        "saldo = float(input(\"Saldo: \"))\n",
        "status = \"Positivo\" if saldo > 0 else \"Zerado ou Negativo\"\n",
        "print(status)\n"
      ],
      "cell_type": "code",
      "execution_count": null,
      "outputs": []
    },
    {
      "metadata": {
        "colab": {
          "base_uri": "https://localhost:8080/"
        },
        "id": "9XlcTjpoOXjN",
        "outputId": "1dc197ca-17e7-4610-b08f-937257953468"
      },
      "source": [
        "# Pratique seu código aqui!\n",
        "\n",
        "saldo = float(input(\"Saldo:\"))\n",
        "status = \"Positivo\" if saldo > 0 else \"Zerado ou Negativo\"\n",
        "print(status)\n"
      ],
      "cell_type": "code",
      "execution_count": 18,
      "outputs": [
        {
          "output_type": "stream",
          "name": "stdout",
          "text": [
            "Saldo:45000\n",
            "Positivo\n"
          ]
        }
      ]
    },
    {
      "metadata": {
        "id": "o-dzSQpGOXjO"
      },
      "source": [
        "* **O que o código faz:** Usa sintaxe compacta para `if-else`.  \n",
        "* **Cenário de Mercado:** Atribuição rápida de valores em relatórios financeiros.  \n",
        "* **Boas Práticas:** Utilize para expressões simples; evite aninhar ternários.\n"
      ],
      "cell_type": "markdown"
    },
    {
      "metadata": {
        "id": "ZGqoGV4sOXjO"
      },
      "source": [
        "#### **Nível DEUS (2/3): Guard Clauses e Early Returns**\n"
      ],
      "cell_type": "markdown"
    },
    {
      "metadata": {
        "id": "dB-fT4YPOXjO"
      },
      "source": [
        "def processa_dado(dado):\n",
        "    if dado is None:\n",
        "        return None  # saída antecipada\n",
        "    # processamento principal\n",
        "    return dado * 2\n",
        "\n",
        "print(processa_dado(None), processa_dado(5))\n"
      ],
      "cell_type": "code",
      "execution_count": null,
      "outputs": []
    },
    {
      "metadata": {
        "colab": {
          "base_uri": "https://localhost:8080/"
        },
        "id": "zDSvvmibOXjO",
        "outputId": "3b37679d-097a-40d3-8cc4-90c3f9425fd4"
      },
      "source": [
        "# Pratique seu código aqui!\n",
        "\n",
        "def precesa_dado(dado):\n",
        "  if dado is None:\n",
        "    return None\n",
        "\n",
        "  return dado * 2\n",
        "\n",
        "print(f\"{precesa_dado(None)} \\n{precesa_dado(5)}\")\n",
        "\n"
      ],
      "cell_type": "code",
      "execution_count": 25,
      "outputs": [
        {
          "output_type": "stream",
          "name": "stdout",
          "text": [
            "None \n",
            "10\n"
          ]
        }
      ]
    },
    {
      "metadata": {
        "id": "vVaukl_vOXjO"
      },
      "source": [
        "* **O que o código faz:** Termina a função imediatamente se condição não for atendida.  \n",
        "* **Cenário de Mercado:** Simplifica validações em funções complexas.  \n",
        "* **Boas Práticas:** Use *guard clauses* para reduzir indentação.\n"
      ],
      "cell_type": "markdown"
    },
    {
      "metadata": {
        "id": "0KftIIX6OXjO"
      },
      "source": [
        "#### **Nível DEUS (3/3): Match-Case (Python 3.10+)**\n"
      ],
      "cell_type": "markdown"
    },
    {
      "metadata": {
        "id": "Oa1h5pD8OXjO"
      },
      "source": [
        "valor = input(\"Cor (vermelho, verde, azul): \")\n",
        "match valor:\n",
        "    case \"vermelho\":\n",
        "        print(\"Pare\")\n",
        "    case \"verde\":\n",
        "        print(\"Siga\")\n",
        "    case \"azul\":\n",
        "        print(\"Informação\")\n",
        "    case _:\n",
        "        print(\"Valor desconhecido\")\n"
      ],
      "cell_type": "code",
      "execution_count": null,
      "outputs": []
    },
    {
      "metadata": {
        "colab": {
          "base_uri": "https://localhost:8080/"
        },
        "id": "WykGFEGZOXjO",
        "outputId": "7b49f57c-e690-44f7-b3cc-e2a45b7e79ac"
      },
      "source": [
        "# Pratique seu código aqui!\n",
        "valor = input(\"Cor (vermelho, verde, azul): \")\n",
        "match valor:\n",
        "    case \"vermelho\":\n",
        "        print(\"Pare\")\n",
        "    case \"verde\":\n",
        "        print(\"Siga\")\n",
        "    case \"azul\":\n",
        "        print(\"Informação\")\n",
        "    case _:\n",
        "        print(\"Valor desconhecido\")"
      ],
      "cell_type": "code",
      "execution_count": 26,
      "outputs": [
        {
          "output_type": "stream",
          "name": "stdout",
          "text": [
            "Cor (vermelho, verde, azul): azul\n",
            "Informação\n"
          ]
        }
      ]
    },
    {
      "metadata": {
        "id": "0tSnAbp0OXjO"
      },
      "source": [
        "* **O que o código faz:** Usa `match-case` para múltiplos caminhos de forma clara.  \n",
        "* **Cenário de Mercado:** Substitui longos `if-elif` em lógica de roteamento.  \n",
        "* **Boas Práticas:** Prefira `match-case` quando tratar múltiplos valores discretos.\n"
      ],
      "cell_type": "markdown"
    },
    {
      "metadata": {
        "id": "T2oUW9G6OXjO"
      },
      "source": [
        "### 3. 🕸️ Profundezas e Conexões\n",
        "\n",
        " <br>\n",
        "\n",
        "Estruturas condicionais estão presentes em **fluxos de trabalho** (scripts, funções, pipelines) e se integram com *operadores lógicos* (`and`, `or`), *loops* e *compreensões*. Em *pandas*, filtros condicionais geram máscaras booleanas para seleção de linhas.\n",
        "\n",
        " <br>\n",
        "\n",
        "---\n",
        " <br>\n"
      ],
      "cell_type": "markdown"
    },
    {
      "metadata": {
        "id": "cArx4PYIOXjP"
      },
      "source": [
        "### 4. 🚀 Ação e Verificação\n",
        "\n",
        " <br>\n",
        "\n",
        "#### **🤔 Desafio Prático**\n",
        "1. Solicite a idade e defina `categoria = \"adulto\"` ou `\"jovem\"` se `idade >= 18` senão `\"menor\"`.  \n",
        "2. Leia três valores e use `if-elif-else` para identificar o maior.  \n",
        "3. Dado um dicionário `pedido = {\"status\":\"pendente\"}`, use *match-case* para imprimir status amigável.  \n",
        "4. Refatore uma função com *guard clauses*.  \n",
        "5. Teste cada caso e exiba o resultado.\n",
        "\n",
        " <br>\n",
        "\n",
        "#### **❓ Pergunta de Verificação**\n",
        "Quando escolher *match-case* em vez de `if-elif`? Quais vantagens de legibilidade e manutenção ele traz?\n",
        "\n",
        " <br>\n",
        "\n",
        "---\n",
        " <br>\n"
      ],
      "cell_type": "markdown"
    },
    {
      "cell_type": "code",
      "source": [],
      "metadata": {
        "id": "0kTGweghVnDb"
      },
      "execution_count": null,
      "outputs": []
    }
  ]
}