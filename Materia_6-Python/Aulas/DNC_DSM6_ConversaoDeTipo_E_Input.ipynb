{
  "nbformat": 4,
  "nbformat_minor": 0,
  "metadata": {
    "colab": {
      "provenance": []
    },
    "kernelspec": {
      "name": "python3",
      "display_name": "Python 3"
    },
    "language_info": {
      "name": "python"
    }
  },
  "cells": [
    {
      "cell_type": "markdown",
      "source": [
        "## 🎓 **Aula sobre: Conversão de Tipos e a Função `input()`**\n",
        "\n",
        "<br>\n",
        "\n",
        "### 🧭 Sumário da Aula\n",
        "\n",
        "| # | Sub-tópico                      | Tempo Estimado | Complexidade |\n",
        "|---|---------------------------------|----------------|--------------|\n",
        "| 1 | Ficha de Revisão Rápida         | ~1 min         | ⭐           |\n",
        "| 2 | Mergulho Profundo               | ~15 min        | ⭐⭐⭐⭐       |\n",
        "| 3 | Profundezas e Conexões          | ~3 min         | ⭐⭐         |\n",
        "| 4 | Ação e Verificação              | ~5 min         | ⭐⭐         |\n",
        "| 5 | Mergulhos Adicionais            | Opcional       | ⭐⭐⭐⭐       |\n",
        "\n",
        "<br>\n",
        "\n",
        "\n",
        "---\n",
        "\n",
        "<br>\n",
        "\n",
        "### 1. 🧠 Ficha de Revisão Rápida | (O Essencial)\n",
        "\n",
        "<br>\n",
        "\n",
        "> A função `input()` lê texto do usuário via console e sempre retorna uma **string**. Para trabalhar com valores numéricos ou outros tipos, é necessário converter essa string usando funções como `int()`, `float()` ou construtores de tipo; caso contrário, operações aritméticas ou lógicas podem falhar com `TypeError` ou `ValueError`.\n",
        "\n",
        "<br>\n",
        "\n",
        "### 2. 🔬 Mergulho Profundo | (Os Detalhes)\n",
        "\n",
        "<br>\n",
        "\n",
        "#### **🎯 O Conceito Central**  \n",
        "- `input(prompt)` exibe `prompt` no console, aguarda o usuário digitar e pressionar Enter, retornando o texto digitado.  \n",
        "- **Conversão**: Ao chamar `int(input(...))`, você primeiro obtém a string, depois gera um novo objeto `int`. Isso cria um valor numérico independente.\n",
        "\n",
        "#### **🔗 Analogia de Data Science**  \n",
        "Imagine receber colunas de um CSV onde todos os dados vêm como texto. Você precisa *converter* cada coluna de string para o tipo correto (números, datas) antes de aplicar estatísticas ou modelos.\n",
        "\n",
        "<br>\n",
        "\n",
        "### **💻 Exemplos de Mercado (Abrangentes)**\n"
      ],
      "metadata": {
        "id": "R2gS33EE3Hyu"
      }
    },
    {
      "cell_type": "markdown",
      "source": [
        "#### **Nível Simples: Leitura e Conversão Básica**\n"
      ],
      "metadata": {
        "id": "imdUDHPX3ISs"
      }
    },
    {
      "cell_type": "code",
      "execution_count": 3,
      "metadata": {
        "colab": {
          "base_uri": "https://localhost:8080/"
        },
        "id": "VLYNUZBH2Qmh",
        "outputId": "464e0544-927a-484d-9cb9-58831f81170e"
      },
      "outputs": [
        {
          "output_type": "stream",
          "name": "stdout",
          "text": [
            "Digite seu nome: Lorenzo\n",
            " Digitr sua idade:  29\n",
            "\n",
            " Lorenzo tem 29 anos.\n"
          ]
        }
      ],
      "source": [
        "# Solicita nome e idade e converte idade para inteiro\n",
        "nome = input(\"Digite seu nome: \")\n",
        "idade = int(input(\" Digitr sua idade:  \"))\n",
        "\n",
        "print(f\"\\n {nome} tem {idade} anos.\")\n"
      ]
    },
    {
      "cell_type": "markdown",
      "source": [
        "*   **O que o código faz:** Lê duas entradas do usuário, converte a segunda para `int` e imprime uma mensagem formatada.  \n",
        "*   **Cenário de Mercado:** Útil em scripts de CLI simples para cadastro de usuários.  \n",
        "*   **Boas Práticas:** Sempre descreva claramente o prompt para evitar erros de digitação.\n"
      ],
      "metadata": {
        "id": "TXlzmr3y3JR-"
      }
    },
    {
      "cell_type": "markdown",
      "source": [
        "#### **Nível Intermediário: Tratando Erros de Conversão**\n"
      ],
      "metadata": {
        "id": "LFyJMSZ05gtg"
      }
    },
    {
      "cell_type": "code",
      "source": [
        "# Converte com tratamento de exceção\n",
        "try:\n",
        "  valor = float(input(\"Digite um valor numérico:\"))\n",
        "except ValueError:\n",
        "  print(\"Entrada invalida! Usando valor padrão 0.0\")\n",
        "  valor = 0.0\n",
        "\n",
        "  print(f\"Valor final: {valor}\")\n"
      ],
      "metadata": {
        "colab": {
          "base_uri": "https://localhost:8080/"
        },
        "id": "qIvx0ytJ5SCz",
        "outputId": "d65db3cf-d233-4066-b6d6-b809c02bea0b"
      },
      "execution_count": 5,
      "outputs": [
        {
          "output_type": "stream",
          "name": "stdout",
          "text": [
            "Digite um valor numérico:\n",
            "Entrada invalida! Usando valor padrão 0.0\n",
            "Valor final: 0.0\n"
          ]
        }
      ]
    },
    {
      "cell_type": "markdown",
      "source": [
        "*   **O que o código faz:** Usa `try/except` para capturar `ValueError` e definir um fallback.  \n",
        "*   **Cenário de Mercado:** Essencial ao receber dados de usuários desconhecidos.  \n",
        "*   **Boas Práticas:** Sempre informe o usuário sobre o erro e ofereça uma forma de corrigir.\n"
      ],
      "metadata": {
        "id": "TLT9uzzk6Iew"
      }
    },
    {
      "cell_type": "markdown",
      "source": [
        "#### **Nível Avançado: Parsing de Múltiplas Entradas**\n"
      ],
      "metadata": {
        "id": "BijX7BBp6PE3"
      }
    },
    {
      "cell_type": "code",
      "source": [
        "# Lê várias idades separadas por espaço e converte para lista de ints\n",
        "entradas = input(\"Digite idades separadas por espaço: \")\n",
        "idades = [int(x) for x in entradas.split()]\n",
        "print(f\"Idades válidas: {idades}\")\n"
      ],
      "metadata": {
        "colab": {
          "base_uri": "https://localhost:8080/"
        },
        "id": "_ISlbmz96N35",
        "outputId": "8a28a541-e3e5-402f-8c39-33c25aec2ab4"
      },
      "execution_count": 7,
      "outputs": [
        {
          "output_type": "stream",
          "name": "stdout",
          "text": [
            "Digite idades separadas por espaço: 50 51 52 56\n",
            "Idades válidas: [50, 51, 52, 56]\n"
          ]
        }
      ]
    },
    {
      "cell_type": "markdown",
      "source": [
        "*   **O que o código faz:** Separa a string em substrings e converte cada uma para inteiro usando *list comprehension*.  \n",
        "*   **Cenário de Mercado:** Útil em ETL onde o usuário fornece listas no console.  \n",
        "*   **Boas Práticas:** Valide o comprimento da lista e o conteúdo antes de converter.\n"
      ],
      "metadata": {
        "id": "Hae7qsA76Zxf"
      }
    },
    {
      "cell_type": "markdown",
      "source": [
        "#### **Nível DEUS (1/3): Conversão com `map()` e Funções Customizadas**\n"
      ],
      "metadata": {
        "id": "_TjTDT3_6mA_"
      }
    },
    {
      "cell_type": "code",
      "source": [
        "# Usa map() para aplicar conversão segura\n",
        "def to_int(s):\n",
        "    try: return int(s)\n",
        "    except: return 0\n",
        "\n",
        "numeros = list(map(to_int, input(\"Números: \").split(\",\")))\n",
        "print(numeros)\n"
      ],
      "metadata": {
        "colab": {
          "base_uri": "https://localhost:8080/"
        },
        "id": "STClrW3Z6ReY",
        "outputId": "2111095f-8265-4349-947e-ddbad191c04b"
      },
      "execution_count": 9,
      "outputs": [
        {
          "output_type": "stream",
          "name": "stdout",
          "text": [
            "Números: 45 52 78 50 850\n",
            "[0]\n"
          ]
        }
      ]
    },
    {
      "cell_type": "markdown",
      "source": [
        "*   **O que o código faz:** Aplica `to_int` a cada substring via `map()`, retornando 0 em caso de erro.  \n",
        "*   **Cenário de Mercado:** Convém em pipelines de limpeza onde entradas podem ser inconsistentes.  \n",
        "*   **Boas Práticas:** Separe lógica de conversão em funções para facilitar testes.\n"
      ],
      "metadata": {
        "id": "WoMCCPol6mX3"
      }
    },
    {
      "cell_type": "markdown",
      "source": [
        "#### **Nível DEUS (2/3): Parsing de Estruturas com `ast.literal_eval`**\n"
      ],
      "metadata": {
        "id": "1OdprGIG6nER"
      }
    },
    {
      "cell_type": "code",
      "source": [
        "import ast\n",
        "\n",
        "# Usuário insere uma lista literal Python\n",
        "texto = input(\"Digite uma lista Python (ex: [1,2,3]): \")\n",
        "try:\n",
        "    lista = ast.literal_eval(texto)\n",
        "except (ValueError, SyntaxError):\n",
        "    lista = []\n",
        "print(f\"Lista convertida: {lista}\")\n"
      ],
      "metadata": {
        "colab": {
          "base_uri": "https://localhost:8080/"
        },
        "id": "JcjCzc1k6nT-",
        "outputId": "e8b1511c-120d-4707-870b-0cb2f5a13d8f"
      },
      "execution_count": 10,
      "outputs": [
        {
          "output_type": "stream",
          "name": "stdout",
          "text": [
            "Digite uma lista Python (ex: [1,2,3]): 1, 52, 8478, 6521\n",
            "Lista convertida: (1, 52, 8478, 6521)\n"
          ]
        }
      ]
    },
    {
      "cell_type": "markdown",
      "source": [
        "*   **O que o código faz:** Usa `ast.literal_eval` para converter strings em estruturas literais seguras.  \n",
        "*   **Cenário de Mercado:** Indicada ao permitir entrada de objetos compostos sem riscos de `eval()`.  \n",
        "*   **Boas Práticas:** Nunca use `eval()` com entrada não confiável.\n"
      ],
      "metadata": {
        "id": "_jpeshPs6nf7"
      }
    },
    {
      "cell_type": "markdown",
      "source": [
        "#### **Nível DEUS (3/3): Base Numérica em `int()`**\n"
      ],
      "metadata": {
        "id": "5rYnx6wF7ZHF"
      }
    },
    {
      "cell_type": "code",
      "source": [
        "# Converte string com base 16\n",
        "hex_str = input(\"Digite um número hexadecimal (sem 0x): \")\n",
        "dec = int(hex_str, 16)\n",
        "print(f\"Decimal: {dec}\")\n"
      ],
      "metadata": {
        "colab": {
          "base_uri": "https://localhost:8080/"
        },
        "id": "_UpX89n_6nvo",
        "outputId": "bf2c2537-a45b-4267-ddba-3cd3baab982e"
      },
      "execution_count": 14,
      "outputs": [
        {
          "output_type": "stream",
          "name": "stdout",
          "text": [
            "Digite um número hexadecimal (sem 0x): 100\n",
            "Decimal: 256\n"
          ]
        }
      ]
    },
    {
      "cell_type": "markdown",
      "source": [
        "*   **O que o código faz:** Usa o segundo argumento de `int()` para conversão de diferentes bases.  \n",
        "*   **Cenário de Mercado:** Comum em processamento de cores, IDs ou protocolos que usam hex.  \n",
        "*   **Boas Práticas:** Valide o formato da string antes de converter.\n"
      ],
      "metadata": {
        "id": "Dk26QtiB6oIQ"
      }
    },
    {
      "cell_type": "markdown",
      "source": [
        "\n",
        "### 3. 🕸️ Profundezas e Conexões\n",
        "\n",
        "<br>\n",
        "\n",
        "A conversão de tipos via `int()`, `float()` ou `ast.literal_eval()` em scripts CLI conecta-se a ferramentas como `argparse` para parsing de *command–line arguments*, onde você define `type=int` ou `type=float` nos argumentos. O uso de *type hints* auxilia na documentação e validação estática de funções que recebem entradas externas.\n",
        "\n",
        "<br>\n",
        "\n",
        "---\n",
        "\n",
        "<br>\n",
        "\n",
        "### 4. 🚀 Ação e Verificação\n",
        "\n",
        "<br>\n",
        "\n",
        "#### **🤔 Desafio Prático**\n",
        "1. Solicite ao usuário um valor inteiro `x` e um valor float `y` via `input()`.  \n",
        "2. Converta e calcule `x + y`, armazenando em `soma`.  \n",
        "3. Tente converter uma entrada inválida para inteiro e capture o erro, definindo `erro = True` ou `False`.  \n",
        "4. Leia uma lista de números separados por vírgula e converta em `lista_nums`.  \n",
        "5. Exiba os resultados de `soma`, `erro` e `lista_nums`.\n",
        "\n",
        "<br>\n",
        "\n",
        "#### **❓ Pergunta de Verificação**\n",
        "Por que `input()` sempre retorna `str` e quais implicações isso tem em operações aritméticas? Como garantir que o programa não quebre ao receber entradas incorretas?\n",
        "<br>\n",
        "\n",
        "---\n",
        "<br>\n"
      ],
      "metadata": {
        "id": "zGn5oRG07two"
      }
    },
    {
      "cell_type": "markdown",
      "source": [
        "### **Resposta Rápida**\n",
        "\n",
        "A função `input()` sempre retorna uma **string** (`str`), mesmo que o usuário digite um número. Isso pode causar **erros em operações aritméticas**, a menos que você **converta** explicitamente o valor para `int` ou `float`.\n",
        "\n",
        "---\n",
        "\n",
        "### **Analogia do Dia**\n",
        "\n",
        "Imagine que tudo o que você escreve em um formulário online chega ao sistema como **texto digitado**, mesmo que você digite um número. É como um atendente de restaurante que anota o pedido \"2 refrigerantes\" como a frase *“dois refrigerantes”* — se o sistema quiser somar a quantidade, ele precisa **interpretar esse texto como número** primeiro.\n",
        "\n",
        "---\n",
        "\n",
        "### **Análise Técnica Detalhada**\n",
        "\n",
        "#### Como o `input()` funciona?\n",
        "\n",
        "```python\n",
        "resposta = input(\"Digite um número: \")\n",
        "print(type(resposta))  # <class 'str'>\n",
        "```\n",
        "\n",
        "Mesmo se você digitar `5`, a variável `resposta` armazenará `'5'` (uma **string**, não um número).\n",
        "\n",
        "#### Por que isso importa?\n",
        "\n",
        "* Tentando fazer aritmética com strings:\n",
        "\n",
        "```python\n",
        "a = input(\"Digite um número: \")\n",
        "b = input(\"Digite outro número: \")\n",
        "print(a + b)  # concatena: '5' + '10' → '510'\n",
        "```\n",
        "\n",
        "* Convertendo corretamente:\n",
        "\n",
        "```python\n",
        "a = int(input(\"Digite um número: \"))\n",
        "b = int(input(\"Digite outro número: \"))\n",
        "print(a + b)  # soma: 5 + 10 → 15\n",
        "```\n",
        "\n",
        "#### E se o usuário digitar algo inválido?\n",
        "\n",
        "```python\n",
        "a = int(input(\"Digite um número: \"))  # Se digitar \"oi\", gera ValueError!\n",
        "```\n",
        "\n",
        "---\n",
        "\n",
        "### **Nota de Rodapé para Novatos**\n",
        "\n",
        "* **`str`:** Tipo string, texto. Mesmo `\"123\"` é uma string, não um número.\n",
        "* **`int`, `float`:** Tipos numéricos (inteiro, decimal) que precisam de conversão.\n",
        "* **`ValueError`:** Erro que acontece quando tentamos converter algo para um tipo inválido (ex: `int(\"oi\")`).\n",
        "* **Casting:** Ato de transformar um valor de um tipo para outro (ex: de `str` para `int`).\n",
        "\n",
        "---\n",
        "\n",
        "### **Aplicação Prática e Boas Práticas**\n",
        "\n",
        "#### ✅ Use conversão com tratamento de erros:\n",
        "\n",
        "```python\n",
        "try:\n",
        "    idade = int(input(\"Digite sua idade: \"))\n",
        "    print(\"Daqui a 10 anos, você terá:\", idade + 10)\n",
        "except ValueError:\n",
        "    print(\"Por favor, digite um número válido!\")\n",
        "```\n",
        "\n",
        "#### ✅ Em Ciência de Dados:\n",
        "\n",
        "Ao ler dados de planilhas ou arquivos CSV, colunas com números podem vir como `str`. Sempre verifique o tipo com `df.dtypes` e converta com:\n",
        "\n",
        "```python\n",
        "df['idade'] = pd.to_numeric(df['idade'], errors='coerce')\n",
        "```\n",
        "\n",
        "---\n",
        "\n",
        "### **Resumo da Lição**\n",
        "\n",
        "`input()` sempre retorna texto; para fazer cálculos, **converta** com `int()` ou `float()` e use `try/except` para evitar que o programa quebre com entradas inválidas.\n",
        "\n",
        "---\n"
      ],
      "metadata": {
        "id": "q-zsRf2z8Qcy"
      }
    },
    {
      "cell_type": "code",
      "source": [],
      "metadata": {
        "id": "DVb7mrI27h-8"
      },
      "execution_count": null,
      "outputs": []
    }
  ]
}