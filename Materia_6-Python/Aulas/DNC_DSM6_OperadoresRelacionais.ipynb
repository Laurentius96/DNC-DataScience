{
  "nbformat": 4,
  "nbformat_minor": 0,
  "metadata": {
    "colab": {
      "provenance": []
    },
    "kernelspec": {
      "name": "python3",
      "display_name": "Python 3"
    },
    "language_info": {
      "name": "python"
    }
  },
  "cells": [
    {
      "cell_type": "markdown",
      "source": [
        "## 🎓 **Aula sobre: Operadores Relacionais em Python**\n",
        "\n",
        "<br>\n",
        "\n",
        "### 🧭 Sumário da Aula\n",
        "\n",
        "| # | Sub-tópico               | Tempo Estimado | Complexidade |\n",
        "|---|--------------------------|----------------|--------------|\n",
        "| 1 | Ficha de Revisão Rápida  | ~1 min         | ⭐           |\n",
        "| 2 | Mergulho Profundo        | ~15 min        | ⭐⭐⭐⭐      |\n",
        "| 3 | Profundezas e Conexões   | ~3 min         | ⭐⭐        |\n",
        "| 4 | Ação e Verificação       | ~5 min         | ⭐⭐        |\n",
        "| 5 | Mergulhos Adicionais     | Opcional       | ⭐⭐⭐⭐      |\n",
        "\n",
        "<br>\n",
        "\n",
        "---\n",
        "<br>\n",
        "\n",
        "### 1. 🧠 Ficha de Revisão Rápida | (O Essencial)\n",
        "\n",
        "<br>\n",
        "\n",
        "> *Operadores relacionais* comparam dois valores e retornam um valor booleano (`True` ou `False`).  \n",
        "> Principais: `==` (igualdade), `!=` (diferença), `>` (maior que), `<` (menor que), `>=` (maior ou igual), `<=` (menor ou igual).\n",
        "\n",
        "<br>\n",
        "\n",
        "### 2. 🔬 Mergulho Profundo | (Os Detalhes)\n",
        "\n",
        "<br>\n",
        "\n",
        "#### **🎯 O Conceito Central**  \n",
        "Operadores relacionais avaliam a *relação* entre dois operandos e devolvem um *valor booleano*, permitindo controlar o fluxo de execução e filtrar dados dependendo de condições.\n",
        "\n",
        "<br>\n",
        "\n",
        "#### **🔗 Analogia de Data Science**  \n",
        "Em um *pipeline* de filtragem de dados, você aplica condições como `idade >= 18` para manter apenas registros aptos. Cada comparação atua como um filtro que aceita (`True`) ou rejeita (`False`) cada linha de informação, guiando a próxima etapa de processamento.\n",
        "\n",
        "<br>\n",
        "\n",
        "### **💻 Exemplos de Mercado (Abrangentes)**\n"
      ],
      "metadata": {
        "id": "mKhEdXboC10c"
      }
    },
    {
      "cell_type": "markdown",
      "source": [
        "#### **Nível Simples: Comparações Básicas**"
      ],
      "metadata": {
        "id": "dtkckJgLC1-o"
      }
    },
    {
      "cell_type": "code",
      "execution_count": 1,
      "metadata": {
        "colab": {
          "base_uri": "https://localhost:8080/"
        },
        "id": "8akkEYkDCptM",
        "outputId": "e74c2cea-dfed-4b3a-9bf3-de91e6c69f13"
      },
      "outputs": [
        {
          "output_type": "stream",
          "name": "stdout",
          "text": [
            "False\n",
            "True\n",
            "False\n",
            "True\n"
          ]
        }
      ],
      "source": [
        "a = 5\n",
        "b = 10\n",
        "\n",
        "print(a == b)   # False\n",
        "print(a != b)   # True\n",
        "print(a > b)    # False\n",
        "print(a <= b)   # True"
      ]
    },
    {
      "cell_type": "markdown",
      "source": [
        "*   **O que o código faz:** Compara dois valores com cada operador relacional.  \n",
        "*   **Cenário de Mercado:** Usado para validar condições em relatórios ou dashboards.  \n",
        "*   **Boas Práticas:** Sempre deixe claro com parênteses em expressões complexas.\n"
      ],
      "metadata": {
        "id": "NcbRrS3rDeCW"
      }
    },
    {
      "cell_type": "markdown",
      "source": [
        "#### **Nível Intermediário: Comparações Encadeadas e Booleanos**\n"
      ],
      "metadata": {
        "id": "gBSuS_viDYd4"
      }
    },
    {
      "cell_type": "code",
      "source": [
        "x = 1\n",
        "y = 2\n",
        "z = 3\n",
        "\n",
        "print(1 < 2 < 3)       # True (encadeado)\n",
        "print((1 < 2) < 3)     # True, mas (1<2) é True e True<3 → True<3 → 1<3 → True\n",
        "\n",
        "# Conversão de booleanos para inteiros\n",
        "print(int(x < y))      # 1\n",
        "print(int(y > z))      # 0\n"
      ],
      "metadata": {
        "colab": {
          "base_uri": "https://localhost:8080/"
        },
        "id": "iU1KM7bPDXQD",
        "outputId": "cf79360d-cb7d-4e27-b8ad-32ba6befb151"
      },
      "execution_count": 2,
      "outputs": [
        {
          "output_type": "stream",
          "name": "stdout",
          "text": [
            "True\n",
            "True\n",
            "1\n",
            "0\n"
          ]
        }
      ]
    },
    {
      "cell_type": "markdown",
      "source": [
        "*   **O que o código faz:** Demonstra *comparações encadeadas* e como booleanos podem atuar como inteiros (`True`→1, `False`→0).  \n",
        "*   **Cenário de Mercado:** Útil em validações de múltiplos limites e contagem de condições verdadeiras.  \n",
        "*   **Boas Práticas:** Use encadeamento para expressões claras, mas evite confundir com aritmética.\n"
      ],
      "metadata": {
        "id": "68ddhei0DhnH"
      }
    },
    {
      "cell_type": "markdown",
      "source": [
        "#### **Nível Avançado: Comparação de Sequências (Strings)**"
      ],
      "metadata": {
        "id": "HUgOzB4ZDyhO"
      }
    },
    {
      "cell_type": "code",
      "source": [
        "s1 = \"apple\"\n",
        "s2 = \"banana\"\n",
        "\n",
        "print(s1 < s2)         # True (lexicográfico)\n",
        "print(\"Zoo\" > \"ant\")   # False (maiusculas têm códigos menores)\n",
        "print(\"zoo\" > \"ant\")   # True (minúsculas têm códigos maiores)\n",
        "print(\"zoo\" == \"Zoo\")  # False (case-sensitive)\n",
        "print(\"zoo\" != \"Zoo\")  # True (case-sensitive)\n",
        "print(\"zoo\" == \"ant\")"
      ],
      "metadata": {
        "colab": {
          "base_uri": "https://localhost:8080/"
        },
        "id": "jkslA8x5Dtam",
        "outputId": "ff2dcc1d-75dc-4f5e-8513-f3cceabbfa79"
      },
      "execution_count": 10,
      "outputs": [
        {
          "output_type": "stream",
          "name": "stdout",
          "text": [
            "True\n",
            "False\n",
            "True\n",
            "False\n",
            "True\n",
            "False\n"
          ]
        }
      ]
    },
    {
      "cell_type": "markdown",
      "source": [
        "*   **O que o código faz:** Compara strings por ordem lexicográfica (baseada em Unicode).  \n",
        "*   **Cenário de Mercado:** Útil em ordenação e filtros alfabéticos em relatórios.  \n",
        "*   **Boas Práticas:** Padronize caixa (`.lower()`) antes da comparação para evitar inconsistências."
      ],
      "metadata": {
        "id": "gQ-Qiu-JEyVR"
      }
    },
    {
      "cell_type": "markdown",
      "source": [
        "#### **Nível DEUS (1/3): Vetorização em Pandas/Numpy**\n"
      ],
      "metadata": {
        "id": "4hSZKKgqE3VM"
      }
    },
    {
      "cell_type": "code",
      "source": [
        "import pandas as pd\n",
        "import numpy as np\n",
        "\n",
        "df = pd.DataFrame({\"idade\":[15, 22, 17, 30]})\n",
        "mask = df[\"idade\"] >= 18    # série booleana\n",
        "adultos = df[mask]\n",
        "print(adultos)"
      ],
      "metadata": {
        "colab": {
          "base_uri": "https://localhost:8080/"
        },
        "id": "mlWty0KzD1G6",
        "outputId": "cdd3fd78-06ca-4b40-b0ea-5540234f96ad"
      },
      "execution_count": 11,
      "outputs": [
        {
          "output_type": "stream",
          "name": "stdout",
          "text": [
            "   idade\n",
            "1     22\n",
            "3     30\n"
          ]
        }
      ]
    },
    {
      "cell_type": "markdown",
      "source": [
        "*   **O que o código faz:** Aplica operador relacional em série do Pandas, gerando *indexação booleana*.  \n",
        "*   **Cenário de Mercado:** Filtro massivo em DataFrames para segmentar clientes ou eventos.  \n",
        "*   **Boas Práticas:** Combine múltiplas máscaras com `&`/`|` e coloque cada condição entre parênteses.\n"
      ],
      "metadata": {
        "id": "8JpdR9BiE3-s"
      }
    },
    {
      "cell_type": "markdown",
      "source": [
        "#### **Nível DEUS (2/3): Uso em Compreensões de Lista**\n"
      ],
      "metadata": {
        "id": "hh025V0QFESb"
      }
    },
    {
      "cell_type": "code",
      "source": [
        "numeros = [1,2,3,4,5,6]\n",
        "pares = [n for n in numeros if n % 2 == 0]\n",
        "print(pares)  # [2,4,6]"
      ],
      "metadata": {
        "colab": {
          "base_uri": "https://localhost:8080/"
        },
        "id": "xVnBqQYPE4uI",
        "outputId": "d1039004-a9af-4bba-8747-34927c0304c6"
      },
      "execution_count": 12,
      "outputs": [
        {
          "output_type": "stream",
          "name": "stdout",
          "text": [
            "[2, 4, 6]\n"
          ]
        }
      ]
    },
    {
      "cell_type": "markdown",
      "source": [
        "*   **O que o código faz:** Filtra números pares usando operador relacional em *list comprehension*.  \n",
        "*   **Cenário de Mercado:** Extração rápida de subconjuntos em pré-processamento de dados.  \n",
        "*   **Boas Práticas:** Use comprehensions para clareza, mas recorra a funções quando a lógica ficar complexa."
      ],
      "metadata": {
        "id": "tJr-hw3YFSmJ"
      }
    },
    {
      "cell_type": "markdown",
      "source": [
        "#### **Nível DEUS (3/3): Comparações com Objetos Complexos**\n"
      ],
      "metadata": {
        "id": "I5SDqf-AFpGT"
      }
    },
    {
      "cell_type": "code",
      "source": [
        "class Produto:\n",
        "    def __init__(self, preco): self.preco = preco\n",
        "    def __lt__(self, other): return self.preco < other.preco\n",
        "\n",
        "p1 = Produto(100)\n",
        "p2 = Produto(150)\n",
        "print(p1 < p2)  # True, via __lt__\n"
      ],
      "metadata": {
        "colab": {
          "base_uri": "https://localhost:8080/"
        },
        "id": "kGnTzr_NFQ-F",
        "outputId": "829813d2-a261-4711-fd7d-e69b1fada393"
      },
      "execution_count": 13,
      "outputs": [
        {
          "output_type": "stream",
          "name": "stdout",
          "text": [
            "True\n"
          ]
        }
      ]
    },
    {
      "cell_type": "markdown",
      "source": [
        "*   **O que o código faz:** Implementa método mágico `__lt__` para permitir `<` entre objetos.  \n",
        "*   **Cenário de Mercado:** Personalização de comparações em classes de domínio (ex: ordens de venda).  \n",
        "*   **Boas Práticas:** Defina todos métodos de comparação (`__eq__`, `__gt__`, etc.) ao sobrescrever um deles.\n"
      ],
      "metadata": {
        "id": "pTsBQRtcFvKh"
      }
    },
    {
      "cell_type": "markdown",
      "source": [
        "### 3. 🕸️ Profundezas e Conexões\n",
        "\n",
        "<br>\n",
        "\n",
        "Operadores relacionais se combinam com *operadores lógicos* (`and`, `or`, `not`) em `if` e loops, além de serem base para *indexação booleana* em Pandas e filtragem em *list comprehensions*. Entender como e quando usar cada comparação é essencial para fluxos condicionais robustos.\n",
        "\n",
        "<br>\n",
        "\n",
        "---\n",
        "<br>\n",
        "\n",
        "### 4. 🚀 Ação e Verificação\n",
        "\n",
        "<br>\n",
        "\n",
        "#### **🤔 Desafio Prático**\n",
        "1. Crie `idade = 18` e verifique `idade >= 18`, armazene em `maioridade`.  \n",
        "2. Defina `nota1 = 7.5` e `nota2 = 8.0`; verifique se ambas são >= 7, armazene em `aprovado`.  \n",
        "3. Crie `senha = \"abc123\"` e compare `senha == \"abc123\"`.  \n",
        "4. Use comparações para checar se a string `\"data\"` está alfabeticamente antes de `\"science\"`.  \n",
        "5. Exiba todos os resultados booleanos.\n",
        "\n",
        "<br>\n",
        "\n",
        "#### **❓ Pergunta de Verificação**\n",
        "Por que em Python você pode escrever `1 < 2 < 3` diretamente, mas não escrever `(1 < 2) < 3` da mesma forma em outras linguagens? O que isso diz sobre o tratamento de comparações encadeadas?\n",
        "<br>\n",
        "\n",
        "---\n",
        "<br>\n",
        "\n"
      ],
      "metadata": {
        "id": "h1dT-IEfFzLh"
      }
    },
    {
      "cell_type": "code",
      "source": [],
      "metadata": {
        "id": "7nM6YmP6Ftsk"
      },
      "execution_count": null,
      "outputs": []
    }
  ]
}