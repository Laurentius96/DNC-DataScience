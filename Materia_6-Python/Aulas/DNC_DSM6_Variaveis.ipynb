{
  "nbformat": 4,
  "nbformat_minor": 0,
  "metadata": {
    "colab": {
      "provenance": []
    },
    "kernelspec": {
      "name": "python3",
      "display_name": "Python 3"
    },
    "language_info": {
      "name": "python"
    }
  },
  "cells": [
    {
      "cell_type": "markdown",
      "source": [
        "## 🎓 **Aula sobre: Variáveis em Python**\n",
        "\n",
        "<br>\n",
        "\n",
        "### 🧭 Sumário da Aula\n",
        "\n",
        "| # | Sub-tópico                   | Tempo Estimado | Complexidade |\n",
        "|---|------------------------------|----------------|--------------|\n",
        "| 1 | Ficha de Revisão Rápida      | ~1 min         | ⭐           |\n",
        "| 2 | Mergulho Profundo            | ~15 min        | ⭐⭐⭐⭐       |\n",
        "| 3 | Profundezas e Conexões       | ~3 min         | ⭐⭐         |\n",
        "| 4 | Ação e Verificação           | ~5 min         | ⭐⭐         |\n",
        "| 5 | Mergulhos Adicionais         | Opcional       | ⭐⭐⭐⭐       |\n",
        "\n",
        "<br>\n",
        "\n",
        "---\n",
        "<br>\n",
        "\n",
        "### 1. 🧠 Ficha de Revisão Rápida | (O Essencial)\n",
        "\n",
        "<br>\n",
        "\n",
        "> Uma variável em Python é um *rótulo* que referencia um valor na memória. A sintaxe básica é `nome_variavel = valor`. Python utiliza *tipagem dinâmica*, ou seja, o tipo do valor é inferido automaticamente no tempo de execução.\n",
        "\n",
        "<br>\n",
        "\n",
        "### 2. 🔬 Mergulho Profundo | (Os Detalhes)\n",
        "\n",
        "<br>\n",
        "\n",
        "#### **🎯 O Conceito Central**\n",
        "As variáveis atuam como etiquetas associadas a objetos na memória. Quando você faz `x = 10`, a variável `x` passa a apontar para o objeto inteiro `10`. Isso permite armazenar, reutilizar e manipular dados de forma organizada.\n",
        "\n",
        "<br>\n",
        "\n",
        "#### **🔗 Analogia de Data Science**\n",
        "Imagine um *pipeline de dados*, que é uma sequência de etapas para transformar informações. A variável `raw_data` armazena os dados iniciais, `clean_data` guarda o resultado da limpeza, e `features` contém os dados após a engenharia de atributos. Cada variável marca uma fase do fluxo, tornando o processo rastreável e modular.\n",
        "\n",
        "<br>\n",
        "\n",
        "### **💻 Exemplos de Mercado (Abrangentes)**\n"
      ],
      "metadata": {
        "id": "EKGEzyes4bws"
      }
    },
    {
      "cell_type": "markdown",
      "source": [
        "#### **Nível Simples: Atribuição de Valores**"
      ],
      "metadata": {
        "id": "-FrC-cc0408j"
      }
    },
    {
      "cell_type": "markdown",
      "source": [],
      "metadata": {
        "id": "ypd4UAoF8_jz"
      }
    },
    {
      "cell_type": "code",
      "execution_count": 1,
      "metadata": {
        "colab": {
          "base_uri": "https://localhost:8080/"
        },
        "id": "tYqSXrbF30go",
        "outputId": "fc353519-f0ee-4bf3-d2a4-91e34182de96"
      },
      "outputs": [
        {
          "output_type": "stream",
          "name": "stdout",
          "text": [
            "Cliente Alice, idade 30, saldo R$1500.75. Ativo: True\n"
          ]
        }
      ],
      "source": [
        "# Atribuição simples de variáveis\n",
        "nome_cliente = \"Alice\"\n",
        "idade = 30\n",
        "saldo_conta = 1500.75\n",
        "esta_ativo = True\n",
        "\n",
        "print(f\"Cliente {nome_cliente}, idade {idade}, saldo R${saldo_conta:.2f}. Ativo: {esta_ativo}\")\n"
      ]
    },
    {
      "cell_type": "markdown",
      "source": [
        "* **O que o código faz:** Define variáveis de tipos diferentes (string, inteiro, float e booleano) e exibe uma mensagem formatada.\n",
        "* **Cenário de Mercado:** Útil ao extrair e apresentar informações de clientes em relatórios ou dashboards.\n",
        "* **Boas Práticas:** Utilize nomes em `snake_case` claros e descritivos.\n"
      ],
      "metadata": {
        "id": "KmMhL6gE8u2B"
      }
    },
    {
      "cell_type": "markdown",
      "source": [
        "#### **Nível Intermediário: Reatribuição e Tipagem Dinâmica**\n"
      ],
      "metadata": {
        "id": "47f6OOSY9RUU"
      }
    },
    {
      "cell_type": "code",
      "source": [
        "# Reatribuição de variável com mudança de tipo\n",
        "id_produto = 1025  # inteiro\n",
        "print(f\"ID inicial ({type(id_produto)}): {id_produto}\")\n",
        "\n",
        "id_produto = f\"PROD-{id_produto}\"  # string\n",
        "print(f\"ID após formatação ({type(id_produto)}): {id_produto}\")\n"
      ],
      "metadata": {
        "colab": {
          "base_uri": "https://localhost:8080/"
        },
        "id": "W-MVh3Fz46Bb",
        "outputId": "0e88032d-b84b-46a9-a709-2c56fa454d09"
      },
      "execution_count": 2,
      "outputs": [
        {
          "output_type": "stream",
          "name": "stdout",
          "text": [
            "ID inicial (<class 'int'>): 1025\n",
            "ID após formatação (<class 'str'>): PROD-1025\n"
          ]
        }
      ]
    },
    {
      "cell_type": "markdown",
      "source": [
        "* **O que o código faz:** Demonstra como a mesma variável pode referenciar objetos de tipos diferentes.\n",
        "* **Cenário de Mercado:** Comum em pipelines de exportação, onde IDs numéricos são convertidos em strings padronizadas.\n",
        "* **Boas Práticas:** Mantenha consistência de tipos sempre que possível para evitar erros de lógica.\n"
      ],
      "metadata": {
        "id": "8505suRL9UJl"
      }
    },
    {
      "cell_type": "markdown",
      "source": [
        "#### **Nível Avançado: Variáveis como Referências a Objetos Mutáveis**\n"
      ],
      "metadata": {
        "id": "IDeLwh-JDTGg"
      }
    },
    {
      "cell_type": "code",
      "source": [
        "# Duas variáveis apontando para a mesma lista\n",
        "parametros_modelo_a = [0.1, 0.05, 100]\n",
        "parametros_modelo_b = parametros_modelo_a\n",
        "\n",
        "# Modificar a lista através de uma variável afeta a outra\n",
        "parametros_modelo_b[0] = 0.15\n",
        "\n",
        "print(f\"Parâmetros A: {parametros_modelo_a}\")\n",
        "print(f\"Parâmetros B: {parametros_modelo_b}\")\n"
      ],
      "metadata": {
        "colab": {
          "base_uri": "https://localhost:8080/"
        },
        "id": "JIGm6jxz9ZG9",
        "outputId": "8933d424-d467-4bbc-f6bf-941ff780b001"
      },
      "execution_count": 3,
      "outputs": [
        {
          "output_type": "stream",
          "name": "stdout",
          "text": [
            "Parâmetros A: [0.15, 0.05, 100]\n",
            "Parâmetros B: [0.15, 0.05, 100]\n"
          ]
        }
      ]
    },
    {
      "cell_type": "markdown",
      "source": [
        "*   **O que o código faz:** Mostra que a mesma variável `id_produto` pode primeiro apontar para um número inteiro e depois para um texto (string).\n",
        "*   **Cenário de Mercado:** Comum em pré-processamento de dados, onde você pode precisar padronizar IDs, convertendo números para um formato de texto específico.\n",
        "*   **Boas Práticas:** Embora possível, evite mudar o tipo de uma variável sem um bom motivo, pois pode causar confusão.\n"
      ],
      "metadata": {
        "id": "g-ofF7O2DYMv"
      }
    },
    {
      "cell_type": "markdown",
      "source": [
        "#### **Nível DEUS (1/3): Desempacotamento Estendido (Truque de Python)**\n"
      ],
      "metadata": {
        "id": "nSflunwDDppd"
      }
    },
    {
      "cell_type": "code",
      "source": [
        "# Separando o cabeçalho do restante dos dados de um arquivo CSV\n",
        "linha_csv = \"nome,idade,cidade,valor_gasto\"\n",
        "cabecalho, *resto_das_colunas = linha_csv.split(',')\n",
        "\n",
        "print(f\"Coluna principal: {cabecalho}\")\n",
        "print(f\"Outras colunas: {resto_das_colunas}\")\n"
      ],
      "metadata": {
        "colab": {
          "base_uri": "https://localhost:8080/"
        },
        "id": "4kLDEBiFDWK5",
        "outputId": "206f2547-380c-4894-ea11-e50b7f79126e"
      },
      "execution_count": 4,
      "outputs": [
        {
          "output_type": "stream",
          "name": "stdout",
          "text": [
            "Coluna principal: nome\n",
            "Outras colunas: ['idade', 'cidade', 'valor_gasto']\n"
          ]
        }
      ]
    },
    {
      "cell_type": "markdown",
      "source": [
        "*   **O que o código faz:** Usa o desempacotamento com asterisco (`*`) para atribuir o primeiro item a `cabecalho` e todos os outros itens a uma nova lista chamada `resto_das_colunas`.\n",
        "*   **Cenário de Mercado:** Perfeito para processar arquivos de configuração ou linhas de dados onde você quer tratar o primeiro (ou último) elemento de forma especial.\n"
      ],
      "metadata": {
        "id": "8F1jFTUWDxma"
      }
    },
    {
      "cell_type": "markdown",
      "source": [
        "#### **Nível DEUS (2/3): Acesso Dinâmico (Metaprogramação)**\n"
      ],
      "metadata": {
        "id": "4uHC4lkxD8eD"
      }
    },
    {
      "cell_type": "code",
      "source": [
        "# Criando variáveis dinamicamente a partir de um dicionário de configurações\n",
        "configs = {\"learning_rate\": 0.01, \"epochs\": 100, \"optimizer\": \"adam\"}\n",
        "\n",
        "for config_nome, config_valor in configs.items():\n",
        "    exec(f\"{config_nome} = {repr(config_valor)}\")\n",
        "\n",
        "# As variáveis agora existem e podem ser usadas\n",
        "print(f\"Taxa de aprendizado: {learning_rate}\")\n",
        "print(f\"Otimizador: {optimizer}\")\n"
      ],
      "metadata": {
        "colab": {
          "base_uri": "https://localhost:8080/"
        },
        "id": "jECwO-gnD-LJ",
        "outputId": "6267903b-ac83-4863-9120-fff40737094f"
      },
      "execution_count": 5,
      "outputs": [
        {
          "output_type": "stream",
          "name": "stdout",
          "text": [
            "Taxa de aprendizado: 0.01\n",
            "Otimizador: adam\n"
          ]
        }
      ]
    },
    {
      "cell_type": "markdown",
      "source": [
        "*   **O que o código faz:** Usa a função `exec()` para executar código Python a partir de uma string, criando variáveis dinamicamente. `repr()` é usado para garantir que os valores (especialmente strings) sejam representados corretamente.\n",
        "*   **Cenário de Mercado:** Usado com muito cuidado em frameworks e ferramentas que precisam gerar código dinamicamente. É poderoso, mas pode ser um risco de segurança e dificultar a análise estática do código.\n"
      ],
      "metadata": {
        "id": "0KYDggzvD87V"
      }
    },
    {
      "cell_type": "markdown",
      "source": [
        "#### **Nível DEUS (3/3): Variáveis e Vetorização (Data Science)**"
      ],
      "metadata": {
        "id": "e1R-jOV7EIQw"
      }
    },
    {
      "cell_type": "code",
      "source": [
        "import numpy as np\n",
        "\n",
        "# Aplicando uma taxa de juros a uma série de empréstimos\n",
        "valores_emprestimos = np.array([1000, 5000, 12000, 3000])\n",
        "taxa_juros = 0.05  # 5%\n",
        "\n",
        "# A variável 'taxa_juros' é \"transmitida\" para todo o array\n",
        "divida_final = valores_emprestimos * (1 + taxa_juros)\n",
        "\n",
        "print(f\"Dívidas finais com juros: {divida_final}\")\n"
      ],
      "metadata": {
        "colab": {
          "base_uri": "https://localhost:8080/"
        },
        "id": "Pb4zByWPDuMh",
        "outputId": "834edfa3-6cf1-4a47-f885-d0a2584e2b19"
      },
      "execution_count": 6,
      "outputs": [
        {
          "output_type": "stream",
          "name": "stdout",
          "text": [
            "Dívidas finais com juros: [ 1050.  5250. 12600.  3150.]\n"
          ]
        }
      ]
    },
    {
      "cell_type": "markdown",
      "source": [
        "*   **O que o código faz:** Demonstra o *broadcasting* do NumPy. A variável escalar `taxa_juros` é aplicada a cada elemento do array `valores_emprestimos` de uma só vez, sem um loop `for`.\n",
        "*   **Cenário de Mercado:** É a forma mais eficiente e padrão de se trabalhar com grandes volumes de dados em Data Science. Realizar operações em arrays inteiros é ordens de magnitude mais rápido do que iterar com loops Python puros.\n"
      ],
      "metadata": {
        "id": "yZHMJ4VeEiQ-"
      }
    },
    {
      "cell_type": "markdown",
      "source": [
        "### 3. 🕸️ Profundezas e Conexões\n",
        "\n",
        "<br>\n",
        "\n",
        "Variáveis são a base para tudo. Elas se conectarão com **Operadores** para realizar cálculos, com **Estruturas de Controle** para tomar decisões e com **Funções** para transportar dados. Entender como elas funcionam como referências é essencial para dominar estruturas de dados como **Listas** e **Dicionários**.\n",
        "\n",
        "<br>\n",
        "\n",
        "---\n",
        "<br>\n"
      ],
      "metadata": {
        "id": "j6OspCnnFVET"
      }
    },
    {
      "cell_type": "markdown",
      "source": [
        "### 4. 🚀 Ação e Verificação\n",
        "\n",
        "<br>\n",
        "\n",
        "#### **🤔 Desafio Prático**\n",
        "1.  Crie uma variável `salario_bruto` com o valor `5000.00`.  \n",
        "2.  Crie uma variável `percentual_imposto` com o valor `22.5`.  \n",
        "3.  Calcule o `valor_imposto` a ser pago.  \n",
        "4.  Calcule o `salario_liquido`.  \n",
        "5.  Exiba o `salario_liquido` formatado com duas casas decimais.  \n",
        "\n",
        "<br>\n",
        "\n",
        "#### **❓ Pergunta de Verificação**\n",
        "Se `a = 1000` e `b = 1000`, por que `a is b` provavelmente retornará `False`, mas se `a = 10` e `b = 10`, `a is b` provavelmente retornará `True`? O que isso nos diz sobre como o Python gerencia variáveis e memória?\n",
        "\n",
        "<br>\n",
        "\n",
        "---\n",
        "<br>\n"
      ],
      "metadata": {
        "id": "Rzu5g8TGFVVR"
      }
    },
    {
      "cell_type": "code",
      "source": [],
      "metadata": {
        "id": "8phIxzVXEZWT"
      },
      "execution_count": null,
      "outputs": []
    }
  ]
}