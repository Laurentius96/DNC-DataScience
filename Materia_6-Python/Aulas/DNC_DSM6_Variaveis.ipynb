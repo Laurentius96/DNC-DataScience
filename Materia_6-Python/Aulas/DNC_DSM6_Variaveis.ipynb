{
  "nbformat": 4,
  "nbformat_minor": 0,
  "metadata": {
    "colab": {
      "provenance": []
    },
    "kernelspec": {
      "name": "python3",
      "display_name": "Python 3"
    },
    "language_info": {
      "name": "python"
    }
  },
  "cells": [
    {
      "cell_type": "markdown",
      "source": [
        "## 🎓 **Aula sobre: Variáveis em Python**\n",
        "\n",
        "<br>\n",
        "\n",
        "### 🧭 Sumário da Aula\n",
        "\n",
        "| # | Sub-tópico                   | Tempo Estimado | Complexidade |\n",
        "|---|------------------------------|----------------|--------------|\n",
        "| 1 | Ficha de Revisão Rápida      | ~1 min         | ⭐           |\n",
        "| 2 | Mergulho Profundo            | ~15 min        | ⭐⭐⭐⭐       |\n",
        "| 3 | Profundezas e Conexões       | ~3 min         | ⭐⭐         |\n",
        "| 4 | Ação e Verificação           | ~5 min         | ⭐⭐         |\n",
        "| 5 | Mergulhos Adicionais         | Opcional       | ⭐⭐⭐⭐       |\n",
        "\n",
        "<br>\n",
        "\n",
        "---\n",
        "<br>\n",
        "\n",
        "### 1. 🧠 Ficha de Revisão Rápida | (O Essencial)\n",
        "\n",
        "<br>\n",
        "\n",
        "> Uma variável em Python é um *rótulo* que referencia um valor na memória. A sintaxe básica é `nome_variavel = valor`. Python utiliza *tipagem dinâmica*, ou seja, o tipo do valor é inferido automaticamente no tempo de execução.\n",
        "\n",
        "<br>\n",
        "\n",
        "### 2. 🔬 Mergulho Profundo | (Os Detalhes)\n",
        "\n",
        "<br>\n",
        "\n",
        "#### **🎯 O Conceito Central**\n",
        "As variáveis atuam como etiquetas associadas a objetos na memória. Quando você faz `x = 10`, a variável `x` passa a apontar para o objeto inteiro `10`. Isso permite armazenar, reutilizar e manipular dados de forma organizada.\n",
        "\n",
        "<br>\n",
        "\n",
        "#### **🔗 Analogia de Data Science**\n",
        "Imagine um *pipeline de dados*, que é uma sequência de etapas para transformar informações. A variável `raw_data` armazena os dados iniciais, `clean_data` guarda o resultado da limpeza, e `features` contém os dados após a engenharia de atributos. Cada variável marca uma fase do fluxo, tornando o processo rastreável e modular.\n",
        "\n",
        "<br>\n",
        "\n",
        "### **💻 Exemplos de Mercado (Abrangentes)**\n"
      ],
      "metadata": {
        "id": "EKGEzyes4bws"
      }
    },
    {
      "cell_type": "markdown",
      "source": [
        "#### **Nível Simples: Atribuição de Valores**"
      ],
      "metadata": {
        "id": "-FrC-cc0408j"
      }
    },
    {
      "cell_type": "code",
      "execution_count": 1,
      "metadata": {
        "colab": {
          "base_uri": "https://localhost:8080/"
        },
        "id": "tYqSXrbF30go",
        "outputId": "fc353519-f0ee-4bf3-d2a4-91e34182de96"
      },
      "outputs": [
        {
          "output_type": "stream",
          "name": "stdout",
          "text": [
            "Cliente Alice, idade 30, saldo R$1500.75. Ativo: True\n"
          ]
        }
      ],
      "source": [
        "# Atribuição simples de variáveis\n",
        "nome_cliente = \"Alice\"\n",
        "idade = 30\n",
        "saldo_conta = 1500.75\n",
        "esta_ativo = True\n",
        "\n",
        "print(f\"Cliente {nome_cliente}, idade {idade}, saldo R${saldo_conta:.2f}. Ativo: {esta_ativo}\")\n"
      ]
    },
    {
      "cell_type": "code",
      "source": [],
      "metadata": {
        "id": "W-MVh3Fz46Bb"
      },
      "execution_count": null,
      "outputs": []
    }
  ]
}