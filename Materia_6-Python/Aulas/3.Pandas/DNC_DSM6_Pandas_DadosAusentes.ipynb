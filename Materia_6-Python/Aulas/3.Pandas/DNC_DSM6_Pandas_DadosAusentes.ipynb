{
  "nbformat": 4,
  "nbformat_minor": 0,
  "metadata": {
    "colab": {
      "provenance": []
    },
    "kernelspec": {
      "name": "python3",
      "display_name": "Python 3"
    }
  },
  "cells": [
    {
      "cell_type": "markdown",
      "metadata": {
        "id": "KlrRexpqg1D0"
      },
      "source": [
        "## 🎓 **Aula sobre: Tratamento de Dados Ausentes com Pandas**\n",
        "\n",
        "<br>\n",
        "\n",
        "### 🧭 Sumário da Aula\n",
        "\n",
        "| # | Sub-tópico                         | Tempo Estimado | Complexidade |\n",
        "|---|------------------------------------|----------------|--------------|\n",
        "| 1 | Ficha de Revisão Rápida            | ~1 min         | ⭐           |\n",
        "| 2 | Mergulho Profundo                  | ~15 min        | ⭐⭐⭐⭐       |\n",
        "| 3 | Profundezas e Conexões             | ~3 min         | ⭐⭐         |\n",
        "| 4 | 🚀 Ação e Verificação               | ~5 min         | ⭐⭐         |\n",
        "| 5 | 🌊 Mergulhos Adicionais Opcionais   | Opcional       | ⭐⭐⭐⭐      |\n",
        "\n",
        "<br>\n",
        "\n",
        "---\n",
        "<br>\n"
      ]
    },
    {
      "cell_type": "markdown",
      "metadata": {
        "id": "lSHfB0J0g1D1"
      },
      "source": [
        "### 1. 🧠 Ficha de Revisão Rápida | (O Essencial)\n",
        "\n",
        "<br>\n",
        "\n",
        "> - **NaN:** valor “Not a Number” que marca dados ausentes.  \n",
        "> - **isna()/notna():** detecta ausentes (`True` para NaN).  \n",
        "> - **dropna():** remove linhas/colunas com NaN.  \n",
        "> - **fillna():** preenche NaN com valor ou método.  \n",
        "> - **interpolate():** estima valores faltantes via interpolação.\n",
        "\n",
        "<br>\n"
      ]
    },
    {
      "cell_type": "markdown",
      "metadata": {
        "id": "WrTfoI-Og1D2"
      },
      "source": [
        "### 2. 🔬 Mergulho Profundo | (Os Detalhes)\n",
        "\n",
        "<br>\n",
        "\n",
        "#### **🎯 O Conceito Central**  \n",
        "Pandas armazena ausentes como `NaN` em colunas numéricas e `None`/`NaN` em objetos. Detectar com `isna()`, depois decidir: *remover* registros incompletos com `dropna()` ou *preencher* usando `fillna()` (valor fixo, média, método ‘ffill’/’bfill’) ou `interpolate()` (linear, time).\n",
        "\n",
        "<br>\n",
        "\n",
        "#### **🔗 Analogia de Data Science**  \n",
        "Imagine uma planilha de vacinação onde faltam alguns registros de dose.  \n",
        "- `dropna()` é jogar fora toda a ficha incompleta.  \n",
        "- `fillna(média)` é supor que quem faltou tomou a média dos vizinhos.  \n",
        "- `ffill` é assumir que o valor mais recente vale para hoje.  \n",
        "- `interpolate()` é desenhar uma linha entre duas doses conhecidas para estimar a posição intermediária.\n",
        "\n",
        "<br>\n",
        "\n",
        "### **💻 Exemplos de Mercado (Abrangentes)**\n"
      ]
    },
    {
      "cell_type": "markdown",
      "metadata": {
        "id": "p4QBlelzg1D2"
      },
      "source": [
        "#### **Nível Simples: Detectando e Removendo NaN**\n"
      ]
    },
    {
      "cell_type": "code",
      "execution_count": null,
      "metadata": {
        "id": "JfhXSEPcg1D3"
      },
      "outputs": [],
      "source": [
        "import pandas as pd\n",
        "df = pd.DataFrame({\n",
        "    'A': [1, None, 3],\n",
        "    'B': [4, 5, None]\n",
        "})\n",
        "# Detecta ausentes\n",
        "print(df.isna())\n",
        "# Remove linhas com qualquer NaN\n",
        "clean = df.dropna()\n",
        "print(clean)\n"
      ]
    },
    {
      "cell_type": "code",
      "execution_count": null,
      "metadata": {
        "id": "g8v0vkPlg1D3"
      },
      "outputs": [],
      "source": [
        "# Pratique seu código aqui!\n"
      ]
    },
    {
      "cell_type": "markdown",
      "metadata": {
        "id": "ZZNsTOyAg1D3"
      },
      "source": [
        "* **O que o código faz:**  \n",
        "\n",
        "  **1) Explicação Linha a Linha (Diálogo com o Código):**  \n",
        "  ```python\n",
        "  # “Crie DataFrame com alguns None/NaN.”  \n",
        "  df = pd.DataFrame({...})\n",
        "\n",
        "  # “Verifique onde há NaN.”  \n",
        "  print(df.isna())\n",
        "\n",
        "  # “Elimine linhas que contenham NaN.”  \n",
        "  clean = df.dropna()\n",
        "  print(clean)\n",
        "  ```\n",
        "\n",
        "  **2) Tabela de Estados Intermediários:**\n",
        "\n",
        "  ```markdown\n",
        "  | Passo    | Expressão      | Saída                     | O que faz?                |\n",
        "  |:--------:|:---------------|:--------------------------|:--------------------------|\n",
        "  | 1        | `df.isna()`    | DataFrame booleano        | Marca posições com NaN    |\n",
        "  | 2        | `df.dropna()`  | Apenas a linha sem NaN    | Remove linhas incompletas |\n",
        "  | 3        | –              | imprime                   | Saída final               |\n",
        "  ```\n",
        "\n",
        "  **3) Diagrama Mental (A Analogia Central):**  \n",
        "  Pense numa lista de presença: `isna()` marca quem não assinou; `dropna()` descarta toda a ficha do aluno que não assinou.\n",
        "\n",
        "* **Cenário de Mercado:**  \n",
        "  Em **limpeza de registros médicos**, eliminar pacientes sem todos os exames evita viés em análises, mas pode reduzir amostra.\n",
        "\n",
        "* **Boas Práticas:**  \n",
        "  - **Afirmação:** “Use `dropna(subset=...)` para focar em colunas críticas.”  \n",
        "    - **Porquê:** Evita descartar dados por ausência em campos secundários.  \n",
        "    - **Analogia:** É como descartar apenas formulários que faltam assinatura e não todo o documento.\n"
      ]
    },
    {
      "cell_type": "markdown",
      "metadata": {
        "id": "FMdH9JN7g1D4"
      },
      "source": [
        "#### **Nível Intermediário: Preenchendo com Média, Forward/Backward Fill**\n"
      ]
    },
    {
      "cell_type": "code",
      "execution_count": null,
      "metadata": {
        "id": "d0MOseR2g1D4"
      },
      "outputs": [],
      "source": [
        "import pandas as pd\n",
        "df = pd.DataFrame({\n",
        "    'temp': [20, None, 22, None, 24]\n",
        "})\n",
        "# Preenche média\n",
        "mean = df['temp'].mean()\n",
        "filled_mean = df['temp'].fillna(mean)\n",
        "# Preenche com último valor válido (ffill)\n",
        "filled_ffill = df['temp'].fillna(method='ffill')\n",
        "print(filled_mean, filled_ffill)\n"
      ]
    },
    {
      "cell_type": "code",
      "execution_count": null,
      "metadata": {
        "id": "dMx-vXQ1g1D4"
      },
      "outputs": [],
      "source": [
        "# Pratique seu código aqui!\n"
      ]
    },
    {
      "cell_type": "markdown",
      "metadata": {
        "id": "sg6nuCR5g1D4"
      },
      "source": [
        "* **O que o código faz:**  \n",
        "\n",
        "  **1) Explicação Linha a Linha (Diálogo com o Código):**  \n",
        "  ```python\n",
        "  # “Crie Series de temperaturas com NaN.”  \n",
        "  df = pd.DataFrame({...})\n",
        "\n",
        "  # “Calcule a média das temperaturas.”  \n",
        "  mean = df['temp'].mean()\n",
        "\n",
        "  # “Preencha NaN com essa média.”  \n",
        "  filled_mean = df['temp'].fillna(mean)\n",
        "\n",
        "  # “Preencha NaN com último valor observado.”  \n",
        "  filled_ffill = df['temp'].fillna(method='ffill')\n",
        "\n",
        "  # “Mostre resultados.”  \n",
        "  print(filled_mean, filled_ffill)\n",
        "  ```\n",
        "\n",
        "  **2) Tabela de Estados Intermediários:**\n",
        "\n",
        "  ```markdown\n",
        "  | Passo           | Expressão               | Saída                        | O que faz?                               |\n",
        "  |:---------------:|:------------------------|:-----------------------------|:-----------------------------------------|\n",
        "  | 1               | `mean`                  | valor escalar                | Média ignorando NaN                      |\n",
        "  | 2               | `fillna(mean)`          | Series sem NaN               | Preenche com valor estatístico           |\n",
        "  | 3               | `fillna(method='ffill')`| Series com forward fill      | Propaga último valor válido              |\n",
        "  | 4               | –                       | imprime                      | Saída final                              |\n",
        "  ```\n",
        "\n",
        "  **3) Diagrama Mental (A Analogia Central):**  \n",
        "  Média é como substituir faltas por média da turma; forward fill é como copiar nota do último aluno presente.\n",
        "\n",
        "* **Cenário de Mercado:**  \n",
        "  Em **sensores IoT**, preencher gaps com média suaviza ruído; usar `ffill` assume que a última leitura persiste até nova medição.\n",
        "\n",
        "* **Boas Práticas:**  \n",
        "  - **Afirmação:** “Escolha método de fill baseado em padrão de dados.”  \n",
        "    - **Porquê:** Média pode distorcer picos; `ffill` preserva tendências locais.  \n",
        "    - **Analogia:** É como escolher entre receita média ou lembrar última receita conhecida.\n"
      ]
    },
    {
      "cell_type": "markdown",
      "metadata": {
        "id": "ChcVPmltg1D5"
      },
      "source": [
        "#### **Nível Avançado: Interpolação e Substituição Condicional**\n"
      ]
    },
    {
      "cell_type": "code",
      "execution_count": null,
      "metadata": {
        "id": "iEraplycg1D5"
      },
      "outputs": [],
      "source": [
        "import pandas as pd\n",
        "df = pd.DataFrame({\n",
        "    'time': pd.date_range('2021-01-01', periods=5, freq='D'),\n",
        "    'value': [1, None, None, 4, 5]\n",
        "}).set_index('time')\n",
        "# Interpolação linear\n",
        "interp = df['value'].interpolate()\n",
        "# Substituição condicional (if<2 então 2)\n",
        "cond = df['value'].fillna(0).where(lambda x: x>=2, 2)\n",
        "print(interp, cond)\n"
      ]
    },
    {
      "cell_type": "code",
      "execution_count": null,
      "metadata": {
        "id": "y3hli4b8g1D5"
      },
      "outputs": [],
      "source": [
        "# Pratique seu código aqui!\n"
      ]
    },
    {
      "cell_type": "markdown",
      "metadata": {
        "id": "ZVhG2b_Eg1D5"
      },
      "source": [
        "* **O que o código faz:**  \n",
        "\n",
        "  **1) Explicação Linha a Linha (Diálogo com o Código):**  \n",
        "  ```python\n",
        "  # “Crie Series temporal com NaN.”  \n",
        "  df = pd.DataFrame({...}).set_index('time')\n",
        "\n",
        "  # “Faça interpolação linear dos valores faltantes.”  \n",
        "  interp = df['value'].interpolate()\n",
        "\n",
        "  # “Preencha NaN com 0, depois force valores <2 a 2.”  \n",
        "  cond = df['value'].fillna(0).where(lambda x: x>=2, 2)\n",
        "\n",
        "  # “Mostre interpolação e condicional.”  \n",
        "  print(interp, cond)\n",
        "  ```\n",
        "\n",
        "  **2) Tabela de Estados Intermediários:**\n",
        "\n",
        "  ```markdown\n",
        "  | Passo           | Expressão                 | Saída             | O que faz?                             |\n",
        "  |:---------------:|:--------------------------|:------------------|:---------------------------------------|\n",
        "  | 1               | `interpolate()`           | valores estimados | Suaviza gaps linearmente               |\n",
        "  | 2               | `fillna(0).where(...)`    | valores ≥2        | Substitui valores abaixo de 2 por 2    |\n",
        "  | 3               | –                         | imprime           | Saída final                            |\n",
        "  ```\n",
        "\n",
        "  **3) Diagrama Mental (A Analogia Central):**  \n",
        "  Interpolação é desenhar linha entre pontos conhecidos; `where` é como forçar peça mínima em cada slot.\n",
        "\n",
        "* **Cenário de Mercado:**  \n",
        "  Em **análises financeiras**, interpolar cotações intradiárias e truncar valores abaixo de mínimo regulatório.\n",
        "\n",
        "* **Boas Práticas:**  \n",
        "  - **Afirmação:** “Use `interpolate()` com cuidado em séries não lineares.”  \n",
        "    - **Porquê:** Pode criar valores irreais se padrão não for linear.  \n",
        "    - **Analogia:** É como assumir estrada reta entre duas curvas.\n"
      ]
    },
    {
      "cell_type": "markdown",
      "metadata": {
        "id": "OLfrCnB1g1D5"
      },
      "source": [
        "#### **Nível DEUS (1/3): MultiIndex e Tratamento por Nível**\n"
      ]
    },
    {
      "cell_type": "code",
      "execution_count": null,
      "metadata": {
        "id": "2GGC98xtg1D5"
      },
      "outputs": [],
      "source": [
        "import pandas as pd\n",
        "arrays = [['X','X','Y'], [1,2,1]]\n",
        "idx = pd.MultiIndex.from_arrays(arrays, names=('grp','sub'))\n",
        "df2 = pd.DataFrame({'val':[None,2,None]}, index=idx)\n",
        "# Preenche por grupo\n",
        "filled = df2.groupby(level='grp').transform(lambda x: x.fillna(x.mean()))\n",
        "print(filled)\n"
      ]
    },
    {
      "cell_type": "code",
      "execution_count": null,
      "metadata": {
        "id": "faz72ytOg1D5"
      },
      "outputs": [],
      "source": [
        "# Pratique seu código aqui!\n"
      ]
    },
    {
      "cell_type": "markdown",
      "metadata": {
        "id": "sw7_DDweg1D6"
      },
      "source": [
        "* **O que o código faz:**  \n",
        "\n",
        "  **1) Explicação Linha a Linha (Diálogo com o Código):**  \n",
        "  ```python\n",
        "  # “Crie MultiIndex de grupos X e Y.”  \n",
        "  idx = pd.MultiIndex.from_arrays(...)\n",
        "\n",
        "  # “Construa DataFrame com alguns NaN.”  \n",
        "  df2 = pd.DataFrame({...}, index=idx)\n",
        "\n",
        "  # “Agrupe por nível grp e preencha NaN com média do grupo.”  \n",
        "  filled = df2.groupby(level='grp').transform(lambda x: x.fillna(x.mean()))\n",
        "\n",
        "  # “Mostre resultado.”  \n",
        "  print(filled)\n",
        "  ```\n",
        "\n",
        "  **2) Tabela de Estados Intermediários:**\n",
        "\n",
        "  ```markdown\n",
        "  | Passo       | Expressão                   | Saída                | O que faz?                                 |\n",
        "  |:-----------:|:----------------------------|:---------------------|:-------------------------------------------|\n",
        "  | 1           | `groupby(level='grp')`      | GroupBy              | Agrupa registros por primeiro nível        |\n",
        "  | 2           | `transform(...)`            | DataFrame preenchido | Aplica média do grupo a NaN                |\n",
        "  | 3           | –                           | imprime              | Saída final                                |\n",
        "  ```\n",
        "\n",
        "  **3) Diagrama Mental (A Analogia Central):**  \n",
        "  MultiIndex é como ficheiros por departamento; preencher por nível agrupa fichas de cada departamento e computa média interna.\n",
        "\n",
        "* **Cenário de Mercado:**  \n",
        "  Em **dados de vendas regionais**, preencher faltas com média local (cidade) em vez de global.\n",
        "\n",
        "* **Boas Práticas:**  \n",
        "  - **Afirmação:** “Use `transform` para manter índice original.”  \n",
        "    - **Porquê:** `apply` retorna objeto reindexado; `transform` preserva shape.\n"
      ]
    },
    {
      "cell_type": "markdown",
      "metadata": {
        "id": "C9j4dfPAg1D6"
      },
      "source": [
        "#### **Nível DEUS (2/3): Uso de `fillna` com Dicionário por Coluna**\n"
      ]
    },
    {
      "cell_type": "code",
      "execution_count": null,
      "metadata": {
        "id": "pGZPNyqwg1D6"
      },
      "outputs": [],
      "source": [
        "import pandas as pd\n",
        "df = pd.DataFrame({\n",
        "    'A':[1,None,3],\n",
        "    'B':[None,2,None]\n",
        "})\n",
        "filled = df.fillna({'A':0, 'B':99})\n",
        "print(filled)\n"
      ]
    },
    {
      "cell_type": "code",
      "execution_count": null,
      "metadata": {
        "id": "TfzPgLlZg1D6"
      },
      "outputs": [],
      "source": [
        "# Pratique seu código aqui!\n"
      ]
    },
    {
      "cell_type": "markdown",
      "metadata": {
        "id": "CTD08259g1D6"
      },
      "source": [
        "* **O que o código faz:**  \n",
        "\n",
        "  **1) Explicação Linha a Linha (Diálogo com o Código):**  \n",
        "  ```python\n",
        "  # “Crie DataFrame com NaN em A e B.”  \n",
        "  df = pd.DataFrame({...})\n",
        "\n",
        "  # “Preencha A com 0 e B com 99.”  \n",
        "  filled = df.fillna({'A':0,'B':99})\n",
        "\n",
        "  # “Mostre DataFrame.”  \n",
        "  print(filled)\n",
        "  ```\n",
        "\n",
        "  **2) Tabela de Estados Intermediários:**\n",
        "\n",
        "  ```markdown\n",
        "  | Passo | Expressão                      | Saída              | O que faz?                             |\n",
        "  |:-----:|:-------------------------------|:-------------------|:---------------------------------------|\n",
        "  | 1     | `fillna({...})`                | DataFrame sem NaN  | Preenche cada coluna com valor próprio |\n",
        "  | 2     | –                              | imprime            | Saída final                            |\n",
        "  ```\n",
        "\n",
        "  **3) Diagrama Mental (A Analogia Central):**  \n",
        "  É como distribuir diferentes máscaras de proteção para cada setor de uma fábrica, conforme necessidade.\n",
        "\n",
        "* **Cenário de Mercado:**  \n",
        "  Em **ETL**, colunas categóricas recebem filler “Desconhecido” e numéricas recebem 0 antes de upload.\n",
        "\n",
        "* **Boas Práticas:**  \n",
        "  - **Afirmação:** “Use dicionário para controlar fill em cada coluna.”  \n",
        "    - **Porquê:** Evita aplicar valor inadequado a colunas heterogêneas.\n"
      ]
    },
    {
      "cell_type": "markdown",
      "metadata": {
        "id": "Spj9Lutng1D6"
      },
      "source": [
        "#### **Nível DEUS (3/3): Pipeline de Imputação com `pipe`**\n"
      ]
    },
    {
      "cell_type": "code",
      "execution_count": null,
      "metadata": {
        "id": "G1KRO0aKg1D6"
      },
      "outputs": [],
      "source": [
        "import pandas as pd\n",
        "def impute_mean(df):\n",
        "    return df.fillna(df.mean())\n",
        "def impute_ffill(df):\n",
        "    return df.fillna(method='ffill')\n",
        "df = pd.DataFrame({'X':[None,2,None], 'Y':[1,None,3]})\n",
        "result = (df\n",
        "          .pipe(impute_mean)\n",
        "          .pipe(impute_ffill))\n",
        "print(result)\n"
      ]
    },
    {
      "cell_type": "code",
      "execution_count": null,
      "metadata": {
        "id": "IimIjU5Lg1D6"
      },
      "outputs": [],
      "source": [
        "# Pratique seu código aqui!\n"
      ]
    },
    {
      "cell_type": "markdown",
      "metadata": {
        "id": "0mBV6pjYg1D7"
      },
      "source": [
        "* **O que o código faz:**  \n",
        "\n",
        "  **1) Explicação Linha a Linha (Diálogo com o Código):**  \n",
        "  ```python\n",
        "  # “Defina função impute_mean para preencher NaN com média.”  \n",
        "  def impute_mean(df): return df.fillna(df.mean())\n",
        "\n",
        "  # “Defina função impute_ffill para forward fill.”  \n",
        "  def impute_ffill(df): return df.fillna(method='ffill')\n",
        "\n",
        "  # “Crie DataFrame com NaN.”  \n",
        "  df = pd.DataFrame({...})\n",
        "\n",
        "  # “Aplique imputações em pipeline.”  \n",
        "  result = (df.pipe(impute_mean).pipe(impute_ffill))\n",
        "\n",
        "  # “Mostre resultado.”  \n",
        "  print(result)\n",
        "  ```\n",
        "\n",
        "  **2) Tabela de Estados Intermediários:**\n",
        "\n",
        "  ```markdown\n",
        "  | Passo    | Expressão             | Saída                 | O que faz?                          |\n",
        "  |:--------:|:-----------------------|:---------------------|:------------------------------------|\n",
        "  | 1        | `pipe(impute_mean)`   | média aplicada        | Preenche NaN com média da coluna    |\n",
        "  | 2        | `pipe(impute_ffill)`  | forward fill aplicado | Propaga valores remanescentes       |\n",
        "  | 3        | –                     | imprime               | Saída final                         |\n",
        "  ```\n",
        "\n",
        "  **3) Diagrama Mental (A Analogia Central):**  \n",
        "  `pipe` é esteira de fábrica onde cada estação (função) aplica transformação sequencial.\n",
        "\n",
        "* **Cenário de Mercado:**  \n",
        "  Em **pipelines de ML**, usamos `pipe` para imputar e escalar dados automaticamente antes de modelagem.\n",
        "\n",
        "* **Boas Práticas:**  \n",
        "  - **Afirmação:** “Encadeie transformações com `pipe`.”  \n",
        "    - **Porquê:** Mantém código modular e legível.  \n",
        "    - **Analogia:** É como linha de montagem de carro, cada passo claro e independente.\n"
      ]
    },
    {
      "cell_type": "markdown",
      "metadata": {
        "id": "bLCSaUZYg1D7"
      },
      "source": [
        "### 3. 🕸️ Profundezas e Conexões\n",
        "\n",
        "<br>\n",
        "\n",
        "Tratamento de dados ausentes em Pandas conecta-se a **scikit-learn** (`SimpleImputer`), **statsmodels** (modelos robustos) e **SQL** (NULL vs NaN). Dominar imputação é chave para pipelines confiáveis.\n",
        "\n",
        "<br>\n",
        "\n",
        "---\n",
        "<br>\n"
      ]
    },
    {
      "cell_type": "markdown",
      "metadata": {
        "id": "vaCysiS-g1D7"
      },
      "source": [
        "### 4. 🚀 Ação e Verificação\n",
        "\n",
        "<br>\n",
        "\n",
        "#### **🤔 Desafio Prático**\n",
        "1. Carregue `/mnt/data/exemplo.csv` e conte NaN por coluna.  \n",
        "2. Remova colunas com >50% de ausências.  \n",
        "3. Preencha ausentes numéricos com mediana e categóricos com “Desconhecido”.  \n",
        "4. Interpole coluna temporal entre registros faltantes.  \n",
        "5. Crie pipeline de imputação com `pipe` e compare antes/depois.\n",
        "\n",
        "<br>\n",
        "\n",
        "#### **❓ Pergunta de Verificação**\n",
        "Quando é melhor remover dados faltantes do que imputar, e quais os trade-offs?\n",
        "\n",
        "<br>\n",
        "\n",
        "---\n",
        "<br>\n"
      ]
    }
  ]
}