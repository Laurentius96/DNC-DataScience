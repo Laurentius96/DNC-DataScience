{
  "nbformat": 4,
  "nbformat_minor": 0,
  "metadata": {
    "colab": {
      "provenance": []
    },
    "kernelspec": {
      "name": "python3",
      "display_name": "Python 3"
    }
  },
  "cells": [
    {
      "cell_type": "markdown",
      "metadata": {
        "id": "KlrRexpqg1D0"
      },
      "source": [
        "## 🎓 **Aula sobre: Tratamento de Dados Ausentes com Pandas**\n",
        "\n",
        "<br>\n",
        "\n",
        "### 🧭 Sumário da Aula\n",
        "\n",
        "| # | Sub-tópico                         | Tempo Estimado | Complexidade |\n",
        "|---|------------------------------------|----------------|--------------|\n",
        "| 1 | Ficha de Revisão Rápida            | ~1 min         | ⭐           |\n",
        "| 2 | Mergulho Profundo                  | ~15 min        | ⭐⭐⭐⭐       |\n",
        "| 3 | Profundezas e Conexões             | ~3 min         | ⭐⭐         |\n",
        "| 4 | 🚀 Ação e Verificação               | ~5 min         | ⭐⭐         |\n",
        "| 5 | 🌊 Mergulhos Adicionais Opcionais   | Opcional       | ⭐⭐⭐⭐      |\n",
        "\n",
        "<br>\n",
        "\n",
        "---\n",
        "<br>\n"
      ]
    },
    {
      "cell_type": "markdown",
      "metadata": {
        "id": "lSHfB0J0g1D1"
      },
      "source": [
        "### 1. 🧠 Ficha de Revisão Rápida | (O Essencial)\n",
        "\n",
        "<br>\n",
        "\n",
        "> - **`NaN:`** valor “Not a Number” que marca dados ausentes.  \n",
        "> - **`isna()/notna():`** detecta ausentes (`True` para NaN).  \n",
        "> - **`dropna():`** remove linhas/colunas com NaN.  \n",
        "> - **`fillna():`** preenche NaN com valor ou método.  \n",
        "> - **`interpolate():`** estima valores faltantes via interpolação.\n",
        "\n",
        "<br>\n"
      ]
    },
    {
      "cell_type": "markdown",
      "metadata": {
        "id": "WrTfoI-Og1D2"
      },
      "source": [
        "### 2. 🔬 Mergulho Profundo | (Os Detalhes)\n",
        "\n",
        "<br>\n",
        "\n",
        "#### **🎯 O Conceito Central**  \n",
        "Pandas armazena ausentes como `NaN` em colunas numéricas e `None`/`NaN` em objetos. Detectar com `isna()`, depois decidir: *remover* registros incompletos com `dropna()` ou *preencher* usando `fillna()` (valor fixo, média, método ‘ffill’/’bfill’) ou `interpolate()` (linear, time).\n",
        "\n",
        "<br>\n",
        "\n",
        "#### **🔗 Analogia de Data Science**  \n",
        "Imagine uma planilha de vacinação onde faltam alguns registros de dose.  \n",
        "- `dropna()` é jogar fora toda a ficha incompleta.  \n",
        "- `fillna(média)` é supor que quem faltou tomou a média dos vizinhos.  \n",
        "- `ffill` é assumir que o valor mais recente vale para hoje.  \n",
        "- `interpolate()` é desenhar uma linha entre duas doses conhecidas para estimar a posição intermediária.\n",
        "\n",
        "<br>\n",
        "\n",
        "### **💻 Exemplos de Mercado (Abrangentes)**\n"
      ]
    },
    {
      "cell_type": "markdown",
      "metadata": {
        "id": "p4QBlelzg1D2"
      },
      "source": [
        "#### **Nível Simples: Detectando e Removendo NaN**\n"
      ]
    },
    {
      "cell_type": "code",
      "execution_count": null,
      "metadata": {
        "id": "JfhXSEPcg1D3"
      },
      "outputs": [],
      "source": [
        "import pandas as pd\n",
        "df = pd.DataFrame({\n",
        "    'A': [1, None, 3],\n",
        "    'B': [4, 5, None]\n",
        "})\n",
        "# Detecta ausentes\n",
        "print(df.isna())\n",
        "# Remove linhas com qualquer NaN\n",
        "clean = df.dropna()\n",
        "print(clean)\n"
      ]
    },
    {
      "cell_type": "code",
      "execution_count": 1,
      "metadata": {
        "id": "g8v0vkPlg1D3",
        "colab": {
          "base_uri": "https://localhost:8080/"
        },
        "outputId": "0ad4459e-1dd3-4a2f-e332-90b3144d10d9"
      },
      "outputs": [
        {
          "output_type": "stream",
          "name": "stdout",
          "text": [
            "       A      B\n",
            "0  False  False\n",
            "1   True  False\n",
            "2  False   True\n",
            "\n",
            "\n",
            "     A    B\n",
            "0  1.0  4.0\n"
          ]
        }
      ],
      "source": [
        "# Pratique seu código aqui!\n",
        "\n",
        "import pandas as pd\n",
        "df = pd.DataFrame({\n",
        "    'A':[1, None, 3],\n",
        "    'B':[4, 5, None]\n",
        "})\n",
        "\n",
        "print(df.isna())\n",
        "print(\"\\n\")\n",
        "clean = df.dropna()\n",
        "print(clean)\n"
      ]
    },
    {
      "cell_type": "markdown",
      "metadata": {
        "id": "ZZNsTOyAg1D3"
      },
      "source": [
        "* **O que o código faz:**  \n",
        "\n",
        "  **1) Explicação Linha a Linha (Diálogo com o Código):**  \n",
        "  ```python\n",
        "  # “Crie DataFrame com alguns None/NaN.”  \n",
        "  df = pd.DataFrame({...})\n",
        "\n",
        "  # “Verifique onde há NaN.”  \n",
        "  print(df.isna())\n",
        "\n",
        "  # “Elimine linhas que contenham NaN.”  \n",
        "  clean = df.dropna()\n",
        "  print(clean)\n",
        "  ```\n",
        "\n",
        "  **2) Tabela de Estados Intermediários:**\n",
        "\n",
        "  ```markdown\n",
        "  | Passo    | Expressão      | Saída                     | O que faz?                |\n",
        "  |:--------:|:---------------|:--------------------------|:--------------------------|\n",
        "  | 1        | `df.isna()`    | DataFrame booleano        | Marca posições com NaN    |\n",
        "  | 2        | `df.dropna()`  | Apenas a linha sem NaN    | Remove linhas incompletas |\n",
        "  | 3        | –              | imprime                   | Saída final               |\n",
        "  ```\n",
        "\n",
        "  **3) Diagrama Mental (A Analogia Central):**  \n",
        "  Pense numa lista de presença: `isna()` marca quem não assinou; `dropna()` descarta toda a ficha do aluno que não assinou.\n",
        "\n",
        "* **Cenário de Mercado:**  \n",
        "  Em **limpeza de registros médicos**, eliminar pacientes sem todos os exames evita viés em análises, mas pode reduzir amostra.\n",
        "\n",
        "* **Boas Práticas:**  \n",
        "  - **Afirmação:** “Use `dropna(subset=...)` para focar em colunas críticas.”  \n",
        "    - **Porquê:** Evita descartar dados por ausência em campos secundários.  \n",
        "    - **Analogia:** É como descartar apenas formulários que faltam assinatura e não todo o documento.\n"
      ]
    },
    {
      "cell_type": "markdown",
      "metadata": {
        "id": "FMdH9JN7g1D4"
      },
      "source": [
        "#### **Nível Intermediário: Preenchendo com Média, Forward/Backward Fill**\n"
      ]
    },
    {
      "cell_type": "code",
      "execution_count": null,
      "metadata": {
        "id": "d0MOseR2g1D4"
      },
      "outputs": [],
      "source": [
        "import pandas as pd\n",
        "df = pd.DataFrame({\n",
        "    'temp': [20, None, 22, None, 24]\n",
        "})\n",
        "# Preenche média\n",
        "mean = df['temp'].mean()\n",
        "filled_mean = df['temp'].fillna(mean)\n",
        "# Preenche com último valor válido (ffill)\n",
        "filled_ffill = df['temp'].fillna(method='ffill')\n",
        "print(filled_mean, filled_ffill)\n"
      ]
    },
    {
      "cell_type": "code",
      "execution_count": 2,
      "metadata": {
        "id": "dMx-vXQ1g1D4",
        "colab": {
          "base_uri": "https://localhost:8080/"
        },
        "outputId": "a8ceffc0-6fe2-46fe-f8c6-1c7b27b02200"
      },
      "outputs": [
        {
          "output_type": "stream",
          "name": "stdout",
          "text": [
            "22.0\n",
            "\n",
            "\n",
            "0    20.0\n",
            "1    22.0\n",
            "2    22.0\n",
            "3    22.0\n",
            "4    24.0\n",
            "Name: temp, dtype: float64\n",
            "\n",
            "\n",
            "0    20.0\n",
            "1    20.0\n",
            "2    22.0\n",
            "3    22.0\n",
            "4    24.0\n",
            "Name: temp, dtype: float64\n"
          ]
        },
        {
          "output_type": "stream",
          "name": "stderr",
          "text": [
            "/tmp/ipython-input-2-3718359423.py:16: FutureWarning: Series.fillna with 'method' is deprecated and will raise in a future version. Use obj.ffill() or obj.bfill() instead.\n",
            "  filled_ffill = df['temp'].fillna(method='ffill')\n"
          ]
        }
      ],
      "source": [
        "# Pratique seu código aqui!\n",
        "\n",
        "import pandas as pd\n",
        "df = pd.DataFrame({\n",
        "    'temp': [20, None, 22, None, 24]\n",
        "})\n",
        "\n",
        "mean = df['temp'].mean()\n",
        "print(mean)\n",
        "print(\"\\n\")\n",
        "\n",
        "filled_mean = df['temp'].fillna(mean)\n",
        "print(filled_mean)\n",
        "print(\"\\n\")\n",
        "\n",
        "filled_ffill = df['temp'].fillna(method='ffill')\n",
        "print(filled_ffill )"
      ]
    },
    {
      "cell_type": "markdown",
      "metadata": {
        "id": "sg6nuCR5g1D4"
      },
      "source": [
        "* **O que o código faz:**  \n",
        "\n",
        "  **1) Explicação Linha a Linha (Diálogo com o Código):**  \n",
        "  ```python\n",
        "  # “Crie Series de temperaturas com NaN.”  \n",
        "  df = pd.DataFrame({...})\n",
        "\n",
        "  # “Calcule a média das temperaturas.”  \n",
        "  mean = df['temp'].mean()\n",
        "\n",
        "  # “Preencha NaN com essa média.”  \n",
        "  filled_mean = df['temp'].fillna(mean)\n",
        "\n",
        "  # “Preencha NaN com último valor observado.”  \n",
        "  filled_ffill = df['temp'].fillna(method='ffill')\n",
        "\n",
        "  # “Mostre resultados.”  \n",
        "  print(filled_mean, filled_ffill)\n",
        "  ```\n",
        "\n",
        "  **2) Tabela de Estados Intermediários:**\n",
        "\n",
        "  ```markdown\n",
        "  | Passo           | Expressão               | Saída                        | O que faz?                               |\n",
        "  |:---------------:|:------------------------|:-----------------------------|:-----------------------------------------|\n",
        "  | 1               | `mean`                  | valor escalar                | Média ignorando NaN                      |\n",
        "  | 2               | `fillna(mean)`          | Series sem NaN               | Preenche com valor estatístico           |\n",
        "  | 3               | `fillna(method='ffill')`| Series com forward fill      | Propaga último valor válido              |\n",
        "  | 4               | –                       | imprime                      | Saída final                              |\n",
        "  ```\n",
        "\n",
        "  **3) Diagrama Mental (A Analogia Central):**  \n",
        "  Média é como substituir faltas por média da turma; forward fill é como copiar nota do último aluno presente.\n",
        "\n",
        "* **Cenário de Mercado:**  \n",
        "  Em **sensores IoT**, preencher gaps com média suaviza ruído; usar `ffill` assume que a última leitura persiste até nova medição.\n",
        "\n",
        "* **Boas Práticas:**  \n",
        "  - **Afirmação:** “Escolha método de fill baseado em padrão de dados.”  \n",
        "    - **Porquê:** Média pode distorcer picos; `ffill` preserva tendências locais.  \n",
        "    - **Analogia:** É como escolher entre receita média ou lembrar última receita conhecida.\n"
      ]
    },
    {
      "cell_type": "markdown",
      "metadata": {
        "id": "ChcVPmltg1D5"
      },
      "source": [
        "#### **Nível Avançado: Interpolação e Substituição Condicional**\n"
      ]
    },
    {
      "cell_type": "code",
      "execution_count": null,
      "metadata": {
        "id": "iEraplycg1D5"
      },
      "outputs": [],
      "source": [
        "import pandas as pd\n",
        "df = pd.DataFrame({\n",
        "    'time': pd.date_range('2021-01-01', periods=5, freq='D'),\n",
        "    'value': [1, None, None, 4, 5]\n",
        "}).set_index('time')\n",
        "# Interpolação linear\n",
        "interp = df['value'].interpolate()\n",
        "# Substituição condicional (if<2 então 2)\n",
        "cond = df['value'].fillna(0).where(lambda x: x>=2, 2)\n",
        "print(interp, cond)\n"
      ]
    },
    {
      "cell_type": "code",
      "execution_count": 9,
      "metadata": {
        "id": "y3hli4b8g1D5",
        "colab": {
          "base_uri": "https://localhost:8080/"
        },
        "outputId": "5e8ece8a-1733-4008-97a8-c0884578e26c"
      },
      "outputs": [
        {
          "output_type": "stream",
          "name": "stdout",
          "text": [
            "            value\n",
            "time             \n",
            "2021-01-01    1.0\n",
            "2021-01-02    NaN\n",
            "2021-01-03    NaN\n",
            "2021-01-04    4.0\n",
            "2021-01-05    5.0\n",
            "\n",
            "\n",
            "time\n",
            "2021-01-01    1.0\n",
            "2021-01-02    2.0\n",
            "2021-01-03    3.0\n",
            "2021-01-04    4.0\n",
            "2021-01-05    5.0\n",
            "Name: value, dtype: float64\n",
            "\n",
            "\n",
            "time\n",
            "2021-01-01    2.0\n",
            "2021-01-02    2.0\n",
            "2021-01-03    2.0\n",
            "2021-01-04    4.0\n",
            "2021-01-05    5.0\n",
            "Name: value, dtype: float64\n"
          ]
        }
      ],
      "source": [
        "# Pratique seu código aqui!\n",
        "\n",
        "import pandas as pd\n",
        "df = pd.DataFrame({\n",
        "    'time': pd.date_range('2021-01-01', periods=5, freq='D'),\n",
        "    'value': [1, None, None, 4, 5]\n",
        "}).set_index('time')\n",
        "\n",
        "\n",
        "print(df)\n",
        "print(\"\\n\")\n",
        "\n",
        "interp = df['value'].interpolate()\n",
        "print(interp)\n",
        "print(\"\\n\")\n",
        "\n",
        "cond = df['value'].fillna(0).where(lambda x: x>=2, 2)\n",
        "print(cond)\n"
      ]
    },
    {
      "cell_type": "markdown",
      "metadata": {
        "id": "ZVhG2b_Eg1D5"
      },
      "source": [
        "* **O que o código faz:**  \n",
        "\n",
        "  **1) Explicação Linha a Linha (Diálogo com o Código):**  \n",
        "  ```python\n",
        "  # “Crie Series temporal com NaN.”  \n",
        "  df = pd.DataFrame({...}).set_index('time')\n",
        "\n",
        "  # “Faça interpolação linear dos valores faltantes.”  \n",
        "  interp = df['value'].interpolate()\n",
        "\n",
        "  # “Preencha NaN com 0, depois force valores <2 a 2.”  \n",
        "  cond = df['value'].fillna(0).where(lambda x: x>=2, 2)\n",
        "\n",
        "  # “Mostre interpolação e condicional.”  \n",
        "  print(interp, cond)\n",
        "  ```\n",
        "\n",
        "  **2) Tabela de Estados Intermediários:**\n",
        "\n",
        "  ```markdown\n",
        "  | Passo           | Expressão                 | Saída             | O que faz?                             |\n",
        "  |:---------------:|:--------------------------|:------------------|:---------------------------------------|\n",
        "  | 1               | `interpolate()`           | valores estimados | Suaviza gaps linearmente               |\n",
        "  | 2               | `fillna(0).where(...)`    | valores ≥2        | Substitui valores abaixo de 2 por 2    |\n",
        "  | 3               | –                         | imprime           | Saída final                            |\n",
        "  ```\n",
        "\n",
        "  **3) Diagrama Mental (A Analogia Central):**  \n",
        "  Interpolação é desenhar linha entre pontos conhecidos; `where` é como forçar peça mínima em cada slot.\n",
        "\n",
        "* **Cenário de Mercado:**  \n",
        "  Em **análises financeiras**, interpolar cotações intradiárias e truncar valores abaixo de mínimo regulatório.\n",
        "\n",
        "* **Boas Práticas:**  \n",
        "  - **Afirmação:** “Use `interpolate()` com cuidado em séries não lineares.”  \n",
        "    - **Porquê:** Pode criar valores irreais se padrão não for linear.  \n",
        "    - **Analogia:** É como assumir estrada reta entre duas curvas.\n"
      ]
    },
    {
      "cell_type": "markdown",
      "metadata": {
        "id": "OLfrCnB1g1D5"
      },
      "source": [
        "#### **Nível DEUS (1/3): MultiIndex e Tratamento por Nível**\n"
      ]
    },
    {
      "cell_type": "code",
      "execution_count": null,
      "metadata": {
        "id": "2GGC98xtg1D5"
      },
      "outputs": [],
      "source": [
        "import pandas as pd\n",
        "arrays = [['X','X','Y'], [1,2,1]]\n",
        "idx = pd.MultiIndex.from_arrays(arrays, names=('grp','sub'))\n",
        "df2 = pd.DataFrame({'val':[None,2,None]}, index=idx)\n",
        "# Preenche por grupo\n",
        "filled = df2.groupby(level='grp').transform(lambda x: x.fillna(x.mean()))\n",
        "print(filled)\n"
      ]
    },
    {
      "cell_type": "code",
      "execution_count": 21,
      "metadata": {
        "id": "faz72ytOg1D5",
        "colab": {
          "base_uri": "https://localhost:8080/"
        },
        "outputId": "e8d44c66-99ee-4738-94ec-735c721a6167"
      },
      "outputs": [
        {
          "output_type": "stream",
          "name": "stdout",
          "text": [
            "[['X', 'X', 'Y', 'Y'], [1, 2, 1, 2]]\n",
            "\n",
            "\n",
            "MultiIndex([('X', 1),\n",
            "            ('X', 2),\n",
            "            ('Y', 1),\n",
            "            ('Y', 2)],\n",
            "           names=['grp', 'sub'])\n",
            "\n",
            "\n",
            "         val\n",
            "grp sub     \n",
            "X   1    NaN\n",
            "    2    2.0\n",
            "Y   1    NaN\n",
            "    2    7.0\n",
            "\n",
            "\n",
            "         val\n",
            "grp sub     \n",
            "X   1    2.0\n",
            "    2    2.0\n",
            "Y   1    7.0\n",
            "    2    7.0\n"
          ]
        }
      ],
      "source": [
        "# Pratique seu código aqui!\n",
        "\n",
        "import pandas as pd\n",
        "arrays = [['X','X','Y','Y',], [1,2,1,2]]\n",
        "\n",
        "print(arrays)\n",
        "print(\"\\n\")\n",
        "\n",
        "idx = pd.MultiIndex.from_arrays(arrays, names=('grp', 'sub'))\n",
        "print(idx)\n",
        "print(\"\\n\")\n",
        "\n",
        "df2 = pd.DataFrame({'val':[None, 2, None, 7]}, index=idx)\n",
        "print(df2)\n",
        "print(\"\\n\")\n",
        "\n",
        "filled = df2.groupby(level='grp').transform(lambda x: x.fillna(x.mean()))\n",
        "print(filled)\n"
      ]
    },
    {
      "cell_type": "markdown",
      "metadata": {
        "id": "sw7_DDweg1D6"
      },
      "source": [
        "* **O que o código faz:**  \n",
        "\n",
        "  **1) Explicação Linha a Linha (Diálogo com o Código):**  \n",
        "  ```python\n",
        "  # “Crie MultiIndex de grupos X e Y.”  \n",
        "  idx = pd.MultiIndex.from_arrays(...)\n",
        "\n",
        "  # “Construa DataFrame com alguns NaN.”  \n",
        "  df2 = pd.DataFrame({...}, index=idx)\n",
        "\n",
        "  # “Agrupe por nível grp e preencha NaN com média do grupo.”  \n",
        "  filled = df2.groupby(level='grp').transform(lambda x: x.fillna(x.mean()))\n",
        "\n",
        "  # “Mostre resultado.”  \n",
        "  print(filled)\n",
        "  ```\n",
        "\n",
        "  **2) Tabela de Estados Intermediários:**\n",
        "\n",
        "  ```markdown\n",
        "  | Passo       | Expressão                   | Saída                | O que faz?                                 |\n",
        "  |:-----------:|:----------------------------|:---------------------|:-------------------------------------------|\n",
        "  | 1           | `groupby(level='grp')`      | GroupBy              | Agrupa registros por primeiro nível        |\n",
        "  | 2           | `transform(...)`            | DataFrame preenchido | Aplica média do grupo a NaN                |\n",
        "  | 3           | –                           | imprime              | Saída final                                |\n",
        "  ```\n",
        "\n",
        "  **3) Diagrama Mental (A Analogia Central):**  \n",
        "  MultiIndex é como ficheiros por departamento; preencher por nível agrupa fichas de cada departamento e computa média interna.\n",
        "\n",
        "* **Cenário de Mercado:**  \n",
        "  Em **dados de vendas regionais**, preencher faltas com média local (cidade) em vez de global.\n",
        "\n",
        "* **Boas Práticas:**  \n",
        "  - **Afirmação:** “Use `transform` para manter índice original.”  \n",
        "    - **Porquê:** `apply` retorna objeto reindexado; `transform` preserva shape.\n"
      ]
    },
    {
      "cell_type": "markdown",
      "metadata": {
        "id": "C9j4dfPAg1D6"
      },
      "source": [
        "#### **Nível DEUS (2/3): Uso de `fillna` com Dicionário por Coluna**\n"
      ]
    },
    {
      "cell_type": "code",
      "execution_count": null,
      "metadata": {
        "id": "pGZPNyqwg1D6"
      },
      "outputs": [],
      "source": [
        "import pandas as pd\n",
        "df = pd.DataFrame({\n",
        "    'A':[1,None,3],\n",
        "    'B':[None,2,None]\n",
        "})\n",
        "filled = df.fillna({'A':0, 'B':99})\n",
        "print(filled)\n"
      ]
    },
    {
      "cell_type": "code",
      "execution_count": 23,
      "metadata": {
        "id": "TfzPgLlZg1D6",
        "colab": {
          "base_uri": "https://localhost:8080/"
        },
        "outputId": "b6257ad3-ad2c-4252-8713-f397fdafe2e5"
      },
      "outputs": [
        {
          "output_type": "stream",
          "name": "stdout",
          "text": [
            "     A    B\n",
            "0  1.0  NaN\n",
            "1  NaN  2.0\n",
            "2  3.0  NaN\n",
            "\n",
            "\n",
            "     A     B\n",
            "0  1.0  99.0\n",
            "1  0.0   2.0\n",
            "2  3.0  99.0\n"
          ]
        }
      ],
      "source": [
        "# Pratique seu código aqui!\n",
        "\n",
        "import pandas as pd\n",
        "df = pd.DataFrame({\n",
        "    'A':[1,None,3],\n",
        "    'B':[None,2,None]\n",
        "})\n",
        "\n",
        "print(df)\n",
        "print(\"\\n\")\n",
        "filled  = df.fillna({'A':0, 'B':99})\n",
        "print(filled)\n"
      ]
    },
    {
      "cell_type": "markdown",
      "metadata": {
        "id": "CTD08259g1D6"
      },
      "source": [
        "* **O que o código faz:**  \n",
        "\n",
        "  **1) Explicação Linha a Linha (Diálogo com o Código):**  \n",
        "  ```python\n",
        "  # “Crie DataFrame com NaN em A e B.”  \n",
        "  df = pd.DataFrame({...})\n",
        "\n",
        "  # “Preencha A com 0 e B com 99.”  \n",
        "  filled = df.fillna({'A':0,'B':99})\n",
        "\n",
        "  # “Mostre DataFrame.”  \n",
        "  print(filled)\n",
        "  ```\n",
        "\n",
        "  **2) Tabela de Estados Intermediários:**\n",
        "\n",
        "  ```markdown\n",
        "  | Passo | Expressão                      | Saída              | O que faz?                             |\n",
        "  |:-----:|:-------------------------------|:-------------------|:---------------------------------------|\n",
        "  | 1     | `fillna({...})`                | DataFrame sem NaN  | Preenche cada coluna com valor próprio |\n",
        "  | 2     | –                              | imprime            | Saída final                            |\n",
        "  ```\n",
        "\n",
        "  **3) Diagrama Mental (A Analogia Central):**  \n",
        "  É como distribuir diferentes máscaras de proteção para cada setor de uma fábrica, conforme necessidade.\n",
        "\n",
        "* **Cenário de Mercado:**  \n",
        "  Em **ETL**, colunas categóricas recebem filler “Desconhecido” e numéricas recebem 0 antes de upload.\n",
        "\n",
        "* **Boas Práticas:**  \n",
        "  - **Afirmação:** “Use dicionário para controlar fill em cada coluna.”  \n",
        "    - **Porquê:** Evita aplicar valor inadequado a colunas heterogêneas.\n"
      ]
    },
    {
      "cell_type": "markdown",
      "metadata": {
        "id": "Spj9Lutng1D6"
      },
      "source": [
        "#### **Nível DEUS (3/3): Pipeline de Imputação com `pipe`**\n"
      ]
    },
    {
      "cell_type": "code",
      "execution_count": null,
      "metadata": {
        "id": "G1KRO0aKg1D6"
      },
      "outputs": [],
      "source": [
        "import pandas as pd\n",
        "def impute_mean(df):\n",
        "    return df.fillna(df.mean())\n",
        "def impute_ffill(df):\n",
        "    return df.fillna(method='ffill')\n",
        "df = pd.DataFrame({'X':[None,2,None], 'Y':[1,None,3]})\n",
        "result = (df\n",
        "          .pipe(impute_mean)\n",
        "          .pipe(impute_ffill))\n",
        "print(result)\n"
      ]
    },
    {
      "cell_type": "code",
      "execution_count": 28,
      "metadata": {
        "id": "IimIjU5Lg1D6",
        "colab": {
          "base_uri": "https://localhost:8080/"
        },
        "outputId": "a8be5c6b-3736-45f7-b2ee-5eca7c8333e0"
      },
      "outputs": [
        {
          "output_type": "stream",
          "name": "stdout",
          "text": [
            "     X    Y\n",
            "0  NaN  1.0\n",
            "1  2.0  NaN\n",
            "2  NaN  3.0\n",
            "\n",
            "\n",
            "     X    Y\n",
            "0  2.0  1.0\n",
            "1  2.0  2.0\n",
            "2  2.0  3.0\n"
          ]
        },
        {
          "output_type": "stream",
          "name": "stderr",
          "text": [
            "/tmp/ipython-input-28-2288816957.py:6: FutureWarning: DataFrame.fillna with 'method' is deprecated and will raise in a future version. Use obj.ffill() or obj.bfill() instead.\n",
            "  return df.fillna(method='ffill')\n"
          ]
        }
      ],
      "source": [
        "# Pratique seu código aqui!\n",
        "import pandas as pd\n",
        "def impute_mean(df):\n",
        "    return df.fillna(df.mean())\n",
        "def impute_ffill(df):\n",
        "    return df.fillna(method='ffill')\n",
        "df = pd.DataFrame({'X':[None,2,None], 'Y':[1,None,3]})\n",
        "\n",
        "print(df)\n",
        "print(\"\\n\")\n",
        "\n",
        "result = (df\n",
        "          .pipe(impute_mean)\n",
        "          .pipe(impute_ffill))\n",
        "print(result)\n"
      ]
    },
    {
      "cell_type": "markdown",
      "metadata": {
        "id": "0mBV6pjYg1D7"
      },
      "source": [
        "* **O que o código faz:**  \n",
        "\n",
        "  **1) Explicação Linha a Linha (Diálogo com o Código):**  \n",
        "  ```python\n",
        "  # “Defina função impute_mean para preencher NaN com média.”  \n",
        "  def impute_mean(df): return df.fillna(df.mean())\n",
        "\n",
        "  # “Defina função impute_ffill para forward fill.”  \n",
        "  def impute_ffill(df): return df.fillna(method='ffill')\n",
        "\n",
        "  # “Crie DataFrame com NaN.”  \n",
        "  df = pd.DataFrame({...})\n",
        "\n",
        "  # “Aplique imputações em pipeline.”  \n",
        "  result = (df.pipe(impute_mean).pipe(impute_ffill))\n",
        "\n",
        "  # “Mostre resultado.”  \n",
        "  print(result)\n",
        "  ```\n",
        "\n",
        "  **2) Tabela de Estados Intermediários:**\n",
        "\n",
        "  ```markdown\n",
        "  | Passo    | Expressão             | Saída                 | O que faz?                          |\n",
        "  |:--------:|:-----------------------|:---------------------|:------------------------------------|\n",
        "  | 1        | `pipe(impute_mean)`   | média aplicada        | Preenche NaN com média da coluna    |\n",
        "  | 2        | `pipe(impute_ffill)`  | forward fill aplicado | Propaga valores remanescentes       |\n",
        "  | 3        | –                     | imprime               | Saída final                         |\n",
        "  ```\n",
        "\n",
        "  **3) Diagrama Mental (A Analogia Central):**  \n",
        "  `pipe` é esteira de fábrica onde cada estação (função) aplica transformação sequencial.\n",
        "\n",
        "* **Cenário de Mercado:**  \n",
        "  Em **pipelines de ML**, usamos `pipe` para imputar e escalar dados automaticamente antes de modelagem.\n",
        "\n",
        "* **Boas Práticas:**  \n",
        "  - **Afirmação:** “Encadeie transformações com `pipe`.”  \n",
        "    - **Porquê:** Mantém código modular e legível.  \n",
        "    - **Analogia:** É como linha de montagem de carro, cada passo claro e independente.\n"
      ]
    },
    {
      "cell_type": "markdown",
      "metadata": {
        "id": "bLCSaUZYg1D7"
      },
      "source": [
        "### 3. 🕸️ Profundezas e Conexões\n",
        "\n",
        "<br>\n",
        "\n",
        "Tratamento de dados ausentes em Pandas conecta-se a **scikit-learn** (`SimpleImputer`), **statsmodels** (modelos robustos) e **SQL** (NULL vs NaN). Dominar imputação é chave para pipelines confiáveis.\n",
        "\n",
        "<br>\n",
        "\n",
        "---\n",
        "<br>\n"
      ]
    },
    {
      "cell_type": "markdown",
      "metadata": {
        "id": "vaCysiS-g1D7"
      },
      "source": [
        "### 4. 🚀 Ação e Verificação\n",
        "\n",
        "<br>\n",
        "\n",
        "#### **🤔 Desafio Prático**\n",
        "1. Carregue `/mnt/data/exemplo.csv` e conte NaN por coluna.  \n",
        "2. Remova colunas com >50% de ausências.  \n",
        "3. Preencha ausentes numéricos com mediana e categóricos com “Desconhecido”.  \n",
        "4. Interpole coluna temporal entre registros faltantes.  \n",
        "5. Crie pipeline de imputação com `pipe` e compare antes/depois.\n",
        "\n",
        "<br>\n",
        "\n",
        "#### **❓ Pergunta de Verificação**\n",
        "Quando é melhor remover dados faltantes do que imputar, e quais os trade-offs?\n",
        "\n",
        "<br>\n",
        "\n",
        "---\n",
        "<br>\n"
      ]
    },
    {
      "cell_type": "markdown",
      "source": [
        "### **Resposta Rápida**\n",
        "\n",
        "Remover dados faltantes é melhor quando a **quantidade de valores ausentes é pequena** ou **irrelevante para a análise**. Imputar é preferível quando os dados ausentes são **frequentes ou carregam informação importante**, mas isso sempre envolve **suposições e riscos de distorção**.\n",
        "\n",
        "---\n",
        "\n",
        "### **Analogia do Dia**\n",
        "\n",
        "Imagine que você está montando um quebra-cabeça com algumas peças faltando.\n",
        "Se forem **só 2 peças de 1000**, você pode tirar a foto assim mesmo (remover).\n",
        "Mas se estiverem faltando **100 peças**, você vai querer **preencher os buracos com suposições razoáveis** (imputar), mesmo que não sejam as peças originais.\n",
        "\n",
        "---\n",
        "\n",
        "### **Análise Técnica Detalhada**\n",
        "\n",
        "---\n",
        "\n",
        "#### ❌ 1. Quando **remover** dados faltantes (`dropna()`)\n",
        "\n",
        "```python\n",
        "df.dropna()\n",
        "```\n",
        "\n",
        "✅ Use quando:\n",
        "\n",
        "* A quantidade de linhas/colunas faltantes for **pequena** (ex: < 5%)\n",
        "* Os valores ausentes estão em **colunas não essenciais**\n",
        "* A análise **não será prejudicada** com a exclusão\n",
        "\n",
        "🔁 Exemplo:\n",
        "\n",
        "```python\n",
        "df = df.dropna(subset=[\"idade\"])\n",
        "```\n",
        "\n",
        "⚠️ **Trade-offs:**\n",
        "\n",
        "* Simples e direto, **mas pode reduzir seu conjunto de dados**\n",
        "* Risco de **viés**, se os ausentes forem sistematicamente diferentes dos completos\n",
        "\n",
        "---\n",
        "\n",
        "#### 🧩 2. Quando **imputar** valores (`fillna()`)\n",
        "\n",
        "```python\n",
        "df[\"salario\"].fillna(df[\"salario\"].mean(), inplace=True)\n",
        "```\n",
        "\n",
        "✅ Use quando:\n",
        "\n",
        "* Os dados ausentes são **numerosos**\n",
        "* A coluna tem **valor analítico importante**\n",
        "* Existe uma **base lógica para preencher** (média, mediana, interpolação...)\n",
        "\n",
        "⚠️ **Trade-offs:**\n",
        "\n",
        "* **Mantém o volume de dados**, mas...\n",
        "* **Introduz viés**: você está **inventando um valor com base em uma suposição**\n",
        "* Alguns modelos (como regressão) podem ser **sensíveis à imputação incorreta**\n",
        "\n",
        "---\n",
        "\n",
        "### **Nota de Rodapé para Novatos**\n",
        "\n",
        "* **Imputar**: Preencher dados ausentes com algum valor estimado (ex: média, zero, valor anterior).\n",
        "* **`dropna()`**: Remove linhas/colunas com `NaN` (ausentes).\n",
        "* **`fillna()`**: Substitui valores ausentes com um valor escolhido.\n",
        "* **Viés**: Distorção nos resultados por causa de dados mal representados.\n",
        "* **Missing Not At Random (MNAR)**: Quando o fato de estar ausente já carrega uma informação relevante.\n",
        "\n",
        "---\n",
        "\n",
        "### **Aplicação Prática e Boas Práticas**\n",
        "\n",
        "✅ Em Ciência de Dados:\n",
        "\n",
        "* Remover é útil em **limpeza inicial rápida**\n",
        "* Imputar é essencial antes de treinar modelos que **não aceitam NaNs**\n",
        "* Avalie o **tipo de variável**:\n",
        "\n",
        "  * Numérica → média/mediana\n",
        "  * Categórica → moda ou “desconhecido”\n",
        "\n",
        "💡 Combine com visualização:\n",
        "\n",
        "```python\n",
        "df.isna().mean().sort_values().plot(kind=\"barh\")\n",
        "```\n",
        "\n",
        "Isso mostra quais colunas estão mais afetadas!\n",
        "\n",
        "📊 Técnica avançada:\n",
        "\n",
        "* Use `SimpleImputer` do `sklearn` para pipelines consistentes de imputação\n",
        "\n",
        "---\n",
        "\n",
        "### **Resumo da Lição**\n",
        "\n",
        "Remover valores ausentes é simples e seguro quando o impacto é pequeno; imputar é necessário quando você precisa preservar dados, mas **exige cuidado** para **não distorcer sua análise**.\n",
        "\n",
        "---"
      ],
      "metadata": {
        "id": "pv-PycNxutXn"
      }
    },
    {
      "cell_type": "code",
      "source": [],
      "metadata": {
        "id": "DCwS0TTjvtTw"
      },
      "execution_count": null,
      "outputs": []
    },
    {
      "cell_type": "markdown",
      "source": [],
      "metadata": {
        "id": "w6aoLu5evtma"
      }
    }
  ]
}