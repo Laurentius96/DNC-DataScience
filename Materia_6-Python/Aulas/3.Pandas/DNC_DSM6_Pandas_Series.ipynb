{
  "nbformat": 4,
  "nbformat_minor": 0,
  "metadata": {
    "colab": {
      "provenance": []
    },
    "kernelspec": {
      "name": "python3",
      "display_name": "Python 3"
    }
  },
  "cells": [
    {
      "cell_type": "markdown",
      "metadata": {
        "id": "xRKDKkIGweNB"
      },
      "source": [
        "## 🎓 **Aula sobre: Pandas Series**\n",
        "\n",
        "<br>\n",
        "\n",
        "### 🧭 Sumário da Aula\n",
        "\n",
        "| # | Sub-tópico                       | Tempo Estimado | Complexidade |\n",
        "|---|----------------------------------|----------------|--------------|\n",
        "| 1 | Ficha de Revisão Rápida          | ~1 min         | ⭐           |\n",
        "| 2 | Mergulho Profundo                | ~15 min        | ⭐⭐⭐⭐       |\n",
        "| 3 | Profundezas e Conexões           | ~3 min         | ⭐⭐         |\n",
        "| 4 | 🚀 Ação e Verificação             | ~5 min         | ⭐⭐         |\n",
        "| 5 | 🌊 Mergulhos Adicionais Opcionais | Opcional      | ⭐⭐⭐⭐      |\n",
        "\n",
        "<br>\n",
        "\n",
        "---\n",
        "<br>\n"
      ]
    },
    {
      "cell_type": "markdown",
      "metadata": {
        "id": "4-DjRzc8weNE"
      },
      "source": [
        "### 1. 🧠 Ficha de Revisão Rápida | (O Essencial)\n",
        "\n",
        "<br>\n",
        "\n",
        "> - **Series:** estrutura unidimensional rotulada.  \n",
        "> - **Index:** rótulos que identificam cada elemento.  \n",
        "> - **Values:** array NumPy interno de dados.  \n",
        "> - **Alinhamento automático:** operações entre Series alinham pelos índices.  \n",
        "> - **Métodos vetorizados:** `.head()`, `.tail()`, `.describe()`.\n",
        "\n",
        "<br>\n"
      ]
    },
    {
      "cell_type": "markdown",
      "metadata": {
        "id": "B5_bDvdoweNE"
      },
      "source": [
        "### 2. 🔬 Mergulho Profundo | (Os Detalhes)\n",
        "\n",
        "<br>\n",
        "\n",
        "#### **🎯 O Conceito Central**  \n",
        "Uma **Series** combina um array de valores e um *index* de rótulos. Cada operação vetorizada percorre o array em C, respeitando o index: se dois índices não baterem, o resultado vira `NaN`.\n",
        "\n",
        "<br>\n",
        "\n",
        "#### **🔗 Analogia de Data Science**  \n",
        "Pense em uma lista de contatos:  \n",
        "- O *index* é o nome de cada contato.  \n",
        "- Os *values* são os números de telefone.  \n",
        "- Somar duas listas de contatos combinaria os nomes, atribuindo números ausentes como `NaN`.\n",
        "\n",
        "<br>\n"
      ]
    },
    {
      "cell_type": "markdown",
      "metadata": {
        "id": "LJbVqGLpweNF"
      },
      "source": [
        "### **💻 Exemplos de Mercado (Abrangentes)**\n"
      ]
    },
    {
      "cell_type": "markdown",
      "metadata": {
        "id": "rqmE31KWweNF"
      },
      "source": [
        "#### **Nível Simples: Criando e Explorando uma Series**\n"
      ]
    },
    {
      "cell_type": "code",
      "execution_count": null,
      "metadata": {
        "id": "WXo0bsIRweNF"
      },
      "outputs": [],
      "source": [
        "import pandas as pd\n",
        "# Criando Series de temperaturas diárias\n",
        "temps = pd.Series([22, 24, 19, 23], index=['Seg','Ter','Qua','Qui'])\n",
        "print(temps)\n",
        "print(temps.head(2))\n",
        "print(temps.describe())\n"
      ]
    },
    {
      "cell_type": "code",
      "execution_count": null,
      "metadata": {
        "colab": {
          "base_uri": "https://localhost:8080/"
        },
        "id": "-ddIPP1MweNG",
        "outputId": "8f5ef439-617c-469a-aeab-f7d27770afdd"
      },
      "outputs": [
        {
          "output_type": "stream",
          "name": "stdout",
          "text": [
            "Seg    22\n",
            "Ter    24\n",
            "Qua    19\n",
            "Qui    23\n",
            "dtype: int64\n",
            "\n",
            "\n",
            "Seg    22\n",
            "Ter    24\n",
            "dtype: int64\n",
            "\n",
            "\n",
            "count     4.000000\n",
            "mean     22.000000\n",
            "std       2.160247\n",
            "min      19.000000\n",
            "25%      21.250000\n",
            "50%      22.500000\n",
            "75%      23.250000\n",
            "max      24.000000\n",
            "dtype: float64\n"
          ]
        }
      ],
      "source": [
        "# Pratique seu código aqui!\n",
        "\n",
        "import pandas as pd\n",
        "\n",
        "temps = pd.Series([22, 24, 19, 23], index=['Seg', 'Ter', 'Qua', 'Qui'])\n",
        "print(temps)\n",
        "print(\"\\n\")\n",
        "print(temps.head(2))\n",
        "print(\"\\n\")\n",
        "print(temps.describe())"
      ]
    },
    {
      "cell_type": "markdown",
      "metadata": {
        "id": "hib9_34QweNG"
      },
      "source": [
        "* **O que o código faz:**  \n",
        "\n",
        "  **1) Explicação Linha a Linha (Diálogo com o Código):**  \n",
        "  ```python\n",
        "  # “Importe pandas como pd.”  \n",
        "  import pandas as pd\n",
        "\n",
        "  # “Crie uma Series de temperaturas com rótulos de dias.”  \n",
        "  temps = pd.Series([22,24,19,23], index=['Seg','Ter','Qua','Qui'])\n",
        "\n",
        "  # “Mostre a Series completa.”  \n",
        "  print(temps)\n",
        "\n",
        "  # “Veja as 2 primeiras entradas.”  \n",
        "  print(temps.head(2))\n",
        "\n",
        "  # “Obtenha estatísticas básicas.”  \n",
        "  print(temps.describe())\n",
        "  ```\n",
        "\n",
        "  **2) Tabela de Estados Intermediários:**\n",
        "\n",
        "  ```markdown\n",
        "  | Passo         | Expressão        | Saída                                  | O que é?                              |\n",
        "  |:-------------:|:-----------------|:---------------------------------------|:--------------------------------------|\n",
        "  | 1             | `temps`          | Seg 22; Ter 24; Qua 19; Qui 23         | Series com index de dias e valores    |\n",
        "  | 2             | `temps.head(2)`  | Seg 22; Ter 24                         | Subserie das 2 primeiras entradas     |\n",
        "  | 3             | `temps.describe()`| count, mean, std, min, max, quartis   | Estatísticas descritivas vetorizadas  |\n",
        "  | 4             | –                | imprime                                | Saída final                           |\n",
        "  ```\n",
        "\n",
        "  **3) Diagrama Mental (A Analogia Central):**  \n",
        "  Imagine uma tabela telefônica: coluna de nomes (index) e coluna de números (values). `head()` vê os dois primeiros contatos; `describe()` resume quantos contatos, média de número (imagine estatísticas sobre números).\n",
        "\n",
        "* **Cenário de Mercado:**  \n",
        "  - **O que são “features” no cenário de Series?** São atributos de uma única variável, como temperatura ao longo dos dias.  \n",
        "  - **Por que usar `describe()`?** Em análise de qualidade do ar, obter rápido resumo (média, desvios) ajuda a detectar picos de poluição.  \n",
        "\n",
        "* **Boas Práticas:**  \n",
        "  - **Afirmação:** “Sempre defina índices significativos.”  \n",
        "    - **Porquê:** Facilita filtragem, união e plotagem.  \n",
        "    - **Analogia:** É como rotular as prateleiras de um estoque para encontrar produtos rápido.\n"
      ]
    },
    {
      "cell_type": "markdown",
      "metadata": {
        "id": "wwAEUO_hweNH"
      },
      "source": [
        "#### **Nível Intermediário: Seleção e Filtragem por Rótulo**\n"
      ]
    },
    {
      "cell_type": "code",
      "execution_count": null,
      "metadata": {
        "id": "6p49Z9zPweNH"
      },
      "outputs": [],
      "source": [
        "import pandas as pd\n",
        "temps = pd.Series([22,24,19,23], index=['Seg','Ter','Qua','Qui'])\n",
        "# acesso por label\n",
        "print(temps['Qua'])\n",
        "# acesso por slice de labels (inclusive fim)\n",
        "print(temps['Ter':'Qui'])\n",
        "# condição booleana\n",
        "print(temps[temps > 21])\n"
      ]
    },
    {
      "cell_type": "code",
      "execution_count": null,
      "metadata": {
        "colab": {
          "base_uri": "https://localhost:8080/"
        },
        "id": "aVVaBQ2CweNH",
        "outputId": "79ae0ecd-bde4-4fce-94db-9d51a1da440e"
      },
      "outputs": [
        {
          "output_type": "stream",
          "name": "stdout",
          "text": [
            "Seg    22\n",
            "Ter    24\n",
            "Qua    19\n",
            "Qui    23\n",
            "dtype: int64\n",
            "\n",
            "\n",
            "19\n",
            "\n",
            "\n",
            "Ter    24\n",
            "Qua    19\n",
            "Qui    23\n",
            "dtype: int64\n",
            "\n",
            "\n",
            "Seg    22\n",
            "Ter    24\n",
            "Qui    23\n",
            "dtype: int64\n"
          ]
        }
      ],
      "source": [
        "# Pratique seu código aqui!\n",
        "\n",
        "import pandas as pd\n",
        "temps = pd.Series([22,24,19,23], index=['Seg','Ter','Qua','Qui'])\n",
        "print(temps)\n",
        "print(\"\\n\")\n",
        "print(temps['Qua'])\n",
        "print(\"\\n\")\n",
        "print(temps['Ter':'Qui'])\n",
        "print(\"\\n\")\n",
        "print(temps[temps > 21])"
      ]
    },
    {
      "cell_type": "markdown",
      "metadata": {
        "id": "Uo5NnDsfweNI"
      },
      "source": [
        "* **O que o código faz:**  \n",
        "\n",
        "  **1) Explicação Linha a Linha (Diálogo com o Código):**  \n",
        "  ```python\n",
        "  # “Recrie a Series de temperaturas.”  \n",
        "  temps = pd.Series([22,24,19,23], index=['Seg','Ter','Qua','Qui'])\n",
        "\n",
        "  # “Pegue temperatura de Quarta.”  \n",
        "  print(temps['Qua'])\n",
        "\n",
        "  # “Recorte de Terça a Quinta.”  \n",
        "  print(temps['Ter':'Qui'])\n",
        "\n",
        "  # “Filtre dias com temp >21.”  \n",
        "  print(temps[temps > 21])\n",
        "  ```\n",
        "\n",
        "  **2) Tabela de Estados Intermediários:**\n",
        "\n",
        "  ```markdown\n",
        "  | Passo            | Expressão          | Saída                  | O que faz?                     |\n",
        "  |:----------------:|:-------------------|:-----------------------|:-------------------------------|\n",
        "  | 1                | `temps['Qua']`     | `19`                   | Seleção label-based            |\n",
        "  | 2                | `temps['Ter':'Qui']`| Ter 24; Qua 19; Qui 23| Slice por labels incluído      |\n",
        "  | 3                | `temps[temps>21]`  | Seg 22; Ter 24; Qui 23 | Filtragem condicional          |\n",
        "  | 4                | –                  | imprime                | Saída final                    |\n",
        "  ```\n",
        "\n",
        "  **3) Diagrama Mental (A Analogia Central):**  \n",
        "  Label access é como buscar um livro por título; slice de labels é pegar todos os livros entre dois títulos; filtragem é selecionar só livros com mais de 300 páginas.\n",
        "\n",
        "* **Cenário de Mercado:**  \n",
        "  Em **monitoramento de sensores**, filtrar `readings[readings > threshold]` encontra só leituras anômalas.  \n",
        "\n",
        "* **Boas Práticas:**  \n",
        "  - **Afirmação:** “Use slice label para fatiar inclusive o fim.”  \n",
        "    - **Porquê:** Ao contrário do Python puro, Pandas inclui o rótulo final.  \n",
        "    - **Analogia:** É como contar de 1 a 10 incluindo o 10.\n"
      ]
    },
    {
      "cell_type": "markdown",
      "metadata": {
        "id": "s-l_TQplweNI"
      },
      "source": [
        "#### **Nível Avançado: Operações e Alinhamento Automático**\n"
      ]
    },
    {
      "cell_type": "code",
      "execution_count": null,
      "metadata": {
        "id": "4Mi0Gr2bweNI"
      },
      "outputs": [],
      "source": [
        "import pandas as pd\n",
        "s1 = pd.Series([1,2,3], index=['A','B','C'])\n",
        "s2 = pd.Series([4,5,6], index=['B','C','D'])\n",
        "print(s1 + s2)\n"
      ]
    },
    {
      "cell_type": "code",
      "execution_count": null,
      "metadata": {
        "colab": {
          "base_uri": "https://localhost:8080/"
        },
        "id": "wscGOD04weNI",
        "outputId": "5e9faced-f3c6-4bf9-f89a-ffb991e0c725"
      },
      "outputs": [
        {
          "output_type": "stream",
          "name": "stdout",
          "text": [
            "A    1\n",
            "B    2\n",
            "C    3\n",
            "dtype: int64\n",
            "\n",
            "\n",
            "B    4\n",
            "C    5\n",
            "D    6\n",
            "dtype: int64\n",
            "\n",
            "\n",
            "A    NaN\n",
            "B    6.0\n",
            "C    8.0\n",
            "D    NaN\n",
            "dtype: float64\n"
          ]
        }
      ],
      "source": [
        "# Pratique seu código aqui!\n",
        "\n",
        "import pandas as pd\n",
        "\n",
        "s1 = pd.Series([1, 2, 3], index=['A', 'B', 'C'])\n",
        "s2 = pd.Series([4, 5, 6], index=['B', 'C', 'D'])\n",
        "\n",
        "print(s1)\n",
        "print(\"\\n\")\n",
        "print(s2)\n",
        "print(\"\\n\")\n",
        "print(s1 + s2)\n"
      ]
    },
    {
      "cell_type": "markdown",
      "metadata": {
        "id": "oCMPdtc3weNJ"
      },
      "source": [
        "* **O que o código faz:**  \n",
        "\n",
        "  **1) Explicação Linha a Linha (Diálogo com o Código):**  \n",
        "  ```python\n",
        "  # “Crie Series s1 e s2 com índices deslocados.”  \n",
        "  s1 = pd.Series([1,2,3], index=['A','B','C'])\n",
        "  s2 = pd.Series([4,5,6], index=['B','C','D'])\n",
        "\n",
        "  # “Some s1 e s2 alinhando índices.”  \n",
        "  print(s1 + s2)\n",
        "  ```\n",
        "\n",
        "  **2) Tabela de Estados Intermediários:**\n",
        "\n",
        "  ```markdown\n",
        "  | Passo      | Expressão  | Saída                  | O que faz?                       |\n",
        "  |:----------:|:-----------|:-----------------------|:---------------------------------|\n",
        "  | 1          | `s1`       | A:1; B:2; C:3          | Primeira Series                  |\n",
        "  | 2          | `s2`       | B:4; C:5; D:6          | Segunda Series                   |\n",
        "  | 3          | `s1 + s2`  | A:NaN; B:6; C:8; D:NaN | Soma com alinhamento automático  |\n",
        "  | 4          | –          | imprime                | Saída final                      |\n",
        "  ```\n",
        "\n",
        "  **3) Diagrama Mental (A Analogia Central):**  \n",
        "  Imagine duas listas de contatos com alguns nomes em comum; ao mesclar chamadas, só números cadastrados em ambos somam, os demais ficam em branco.\n",
        "\n",
        "* **Cenário de Mercado:**  \n",
        "  Em **combinação de bases**, ao somar vendas semanais de duas filiais, índices sem correspondência viram `NaN`, indicando falta de dados.\n",
        "\n",
        "* **Boas Práticas:**  \n",
        "  - **Afirmação:** “Trate `NaN` após operações.”  \n",
        "    - **Porquê:** Evita propagação de valores faltantes em análise.  \n",
        "    - **Analogia:** É como marcar ausentes em lista de presença antes de calcular média de frequência.\n"
      ]
    },
    {
      "cell_type": "markdown",
      "metadata": {
        "id": "93eHbbV0weNJ"
      },
      "source": [
        "#### **Nível DEUS (1/3): Uso de `apply` e `map` para Transformações**\n"
      ]
    },
    {
      "cell_type": "code",
      "execution_count": null,
      "metadata": {
        "id": "vivbkBkiweNJ"
      },
      "outputs": [],
      "source": [
        "import pandas as pd\n",
        "temps = pd.Series([22,24,19,23], index=['Seg','Ter','Qua','Qui'])\n",
        "fahrenheit = temps.apply(lambda x: x * 9/5 + 32)\n",
        "names_upper = temps.index.map(str.upper)\n",
        "print(fahrenheit)\n",
        "print(names_upper)\n"
      ]
    },
    {
      "cell_type": "code",
      "execution_count": null,
      "metadata": {
        "colab": {
          "base_uri": "https://localhost:8080/"
        },
        "id": "X-u_kTaNweNJ",
        "outputId": "a76c14ca-657e-4aca-a420-744846075317"
      },
      "outputs": [
        {
          "output_type": "stream",
          "name": "stdout",
          "text": [
            "Seg    71.6\n",
            "Ter    75.2\n",
            "Qua    66.2\n",
            "Qui    73.4\n",
            "dtype: float64\n",
            "\n",
            "\n",
            "Index(['SEG', 'TER', 'QUA', 'QUI'], dtype='object')\n"
          ]
        }
      ],
      "source": [
        "# Pratique seu código aqui!\n",
        "\n",
        "import pandas as pd\n",
        "\n",
        "temps = pd.Series([22,24,19,23], index=['Seg','Ter','Qua','Qui'])\n",
        "fahrenheit = temps.apply(lambda x: x * 9/5 + 32)\n",
        "names_upper = temps.index.map(str.upper)\n",
        "print(fahrenheit)\n",
        "print(\"\\n\")\n",
        "print(names_upper)\n"
      ]
    },
    {
      "cell_type": "markdown",
      "metadata": {
        "id": "Q4XwNqucweNJ"
      },
      "source": [
        "* **O que o código faz:**  \n",
        "\n",
        "  **1) Explicação Linha a Linha (Diálogo com o Código):**  \n",
        "  ```python\n",
        "  # “Reúna Series de temperaturas.”  \n",
        "  temps = pd.Series([22,24,19,23], index=['Seg','Ter','Qua','Qui'])\n",
        "\n",
        "  # “Converta para Fahrenheit com apply.”  \n",
        "  fahrenheit = temps.apply(lambda x: x*9/5+32)\n",
        "\n",
        "  # “Transforme rótulos para maiúsculas com map.”  \n",
        "  names_upper = temps.index.map(str.upper)\n",
        "\n",
        "  # “Mostre Series transformadas.”  \n",
        "  print(fahrenheit)\n",
        "  print(names_upper)\n",
        "  ```\n",
        "\n",
        "  **2) Tabela de Estados Intermediários:**\n",
        "\n",
        "  ```markdown\n",
        "  | Passo       | Expressão       | Saída                         | O que faz?                             |\n",
        "  |:-----------:|:----------------|:------------------------------|:---------------------------------------|\n",
        "  | 1           | `fahrenheit`    | Series em F                   | Conversão de unidades via apply        |\n",
        "  | 2           | `names_upper`   | Index(['SEG','TER',...])      | Alteração de rótulos via map           |\n",
        "  | 3           | –               | imprime                       | Saída final                            |\n",
        "  ```\n",
        "\n",
        "  **3) Diagrama Mental (A Analogia Central):**  \n",
        "  `apply` é como aplicar uma resina a cada peça; `map` renomeia etiquetas em massa.\n",
        "\n",
        "* **Cenário de Mercado:**  \n",
        "  Em **normalização de dados**, aplicamos transformações (log, escala) em colunas de DataFrame via `apply`.\n",
        "\n",
        "* **Boas Práticas:**  \n",
        "  - **Afirmação:** “Prefira métodos vetorizados a apply quando possível.”  \n",
        "    - **Porquê:** Métodos built-in são mais rápidos que lambdas Python.  \n",
        "    - **Analogia:** Usar máquina industrial em vez de manual.\n"
      ]
    },
    {
      "cell_type": "markdown",
      "metadata": {
        "id": "GVaddU-0weNJ"
      },
      "source": [
        "#### **Nível DEUS (2/3): Operações com Strings (`.str`)**\n"
      ]
    },
    {
      "cell_type": "code",
      "execution_count": null,
      "metadata": {
        "id": "W_FOzhcvweNJ"
      },
      "outputs": [],
      "source": [
        "import pandas as pd\n",
        "names = pd.Series(['Ana Silva','Bruno Costa','Carla Lima'])\n",
        "last_names = names.str.split().str[1]\n",
        "upper = names.str.upper()\n",
        "print(last_names)\n",
        "print(upper)\n"
      ]
    },
    {
      "cell_type": "code",
      "execution_count": null,
      "metadata": {
        "colab": {
          "base_uri": "https://localhost:8080/"
        },
        "id": "AFX5Fk3IweNK",
        "outputId": "07843eba-e572-436a-cb93-87eff6316539"
      },
      "outputs": [
        {
          "output_type": "stream",
          "name": "stdout",
          "text": [
            "0    Silva\n",
            "1    Costa\n",
            "2     Lima\n",
            "dtype: object\n",
            "\n",
            "\n",
            "0      ANA SILVA\n",
            "1    BRUNO COSTA\n",
            "2     CARLA LIMA\n",
            "dtype: object\n"
          ]
        }
      ],
      "source": [
        "# Pratique seu código aqui!\n",
        "import pandas as pd\n",
        "\n",
        "names = pd.Series(['Ana Silva','Bruno Costa','Carla Lima'])\n",
        "last_names = names.str.split().str[1]\n",
        "upper = names.str.upper()\n",
        "print(last_names)\n",
        "print(\"\\n\")\n",
        "print(upper)"
      ]
    },
    {
      "cell_type": "markdown",
      "metadata": {
        "id": "CIId_KgxweNK"
      },
      "source": [
        "* **O que o código faz:**  \n",
        "\n",
        "  **1) Explicação Linha a Linha (Diálogo com o Código):**  \n",
        "  ```python\n",
        "  # “Crie Series de nomes completos.”  \n",
        "  names = pd.Series(['Ana Silva','Bruno Costa','Carla Lima'])\n",
        "\n",
        "  # “Separe último nome.”  \n",
        "  last_names = names.str.split().str[1]\n",
        "\n",
        "  # “Converta todos para maiúsculas.”  \n",
        "  upper = names.str.upper()\n",
        "\n",
        "  # “Mostre resultados.”  \n",
        "  print(last_names)\n",
        "  print(upper)\n",
        "  ```\n",
        "\n",
        "  **2) Tabela de Estados Intermediários:**\n",
        "\n",
        "  ```markdown\n",
        "  | Passo      | Expressão                 | Saída                      | O que faz?                           |\n",
        "  |:----------:|:--------------------------|:---------------------------|:-------------------------------------|\n",
        "  | 1          | `last_names`              | Series de sobrenomes       | Extração via `.str.split()` e index  |\n",
        "  | 2          | `upper`                   | Series em MAIÚSCULAS       | Transformação via `.str.upper()`     |\n",
        "  | 3          | –                         | imprime                    | Saída final                          |\n",
        "  ```\n",
        "\n",
        "  **3) Diagrama Mental (A Analogia Central):**  \n",
        "  O atributo `.str` é uma oficina de palavras: fatiamento, caso e substituições em massa.\n",
        "\n",
        "* **Cenário de Mercado:**  \n",
        "  Em **limpeza de dados**, padronizamos nomes de clientes antes de análises ou merges.\n",
        "\n",
        "* **Boas Práticas:**  \n",
        "  - **Afirmação:** “Use métodos `.str` em vez de Python puro.”  \n",
        "    - **Porquê:** Opera em C e evita loops.  \n",
        "    - **Analogia:** É como usar trituradora industrial de texto.\n"
      ]
    },
    {
      "cell_type": "markdown",
      "metadata": {
        "id": "oENfvybEweNK"
      },
      "source": [
        "#### **Nível DEUS (3/3): Séries Temporais e Indexação por Datas**\n"
      ]
    },
    {
      "cell_type": "code",
      "execution_count": null,
      "metadata": {
        "id": "Rx5e660EweNK"
      },
      "outputs": [],
      "source": [
        "import pandas as pd\n",
        "rng = pd.date_range('2021-01-01', periods=5, freq='D')\n",
        "ts = pd.Series([10,12,11,13,15], index=rng)\n",
        "print(ts['2021-01-02':'2021-01-04'])\n"
      ]
    },
    {
      "cell_type": "code",
      "execution_count": null,
      "metadata": {
        "colab": {
          "base_uri": "https://localhost:8080/"
        },
        "id": "xM4MypDlweNK",
        "outputId": "db11811b-67ec-407c-d2e8-69d6b9148e31"
      },
      "outputs": [
        {
          "output_type": "stream",
          "name": "stdout",
          "text": [
            "DatetimeIndex(['2021-01-01', '2021-01-02', '2021-01-03', '2021-01-04',\n",
            "               '2021-01-05'],\n",
            "              dtype='datetime64[ns]', freq='D')\n",
            "\n",
            "\n",
            "2021-01-01    10\n",
            "2021-01-02    12\n",
            "2021-01-03    11\n",
            "2021-01-04    13\n",
            "2021-01-05    15\n",
            "Freq: D, dtype: int64\n",
            "\n",
            "\n",
            "2021-01-02    12\n",
            "2021-01-03    11\n",
            "2021-01-04    13\n",
            "Freq: D, dtype: int64\n"
          ]
        }
      ],
      "source": [
        "# Pratique seu código aqui!\n",
        "\n",
        "import pandas as pd\n",
        "rng = pd.date_range('2021-01-01', periods=5, freq='D')\n",
        "ts = pd.Series([10, 12, 11, 13, 15], index=rng)\n",
        "\n",
        "print(rng)\n",
        "print(\"\\n\")\n",
        "print(ts)\n",
        "print(\"\\n\")\n",
        "print(ts['2021-01-02':'2021-01-04'])\n",
        "\n"
      ]
    },
    {
      "cell_type": "markdown",
      "metadata": {
        "id": "sgih-SyiweNK"
      },
      "source": [
        "* **O que o código faz:**  \n",
        "\n",
        "  **1) Explicação Linha a Linha (Diálogo com o Código):**  \n",
        "  ```python\n",
        "  # “Crie index de datas diárias.”  \n",
        "  rng = pd.date_range('2021-01-01', periods=5, freq='D')\n",
        "\n",
        "  # “Crie Series com datas como index.”  \n",
        "  ts = pd.Series([10,12,11,13,15], index=rng)\n",
        "\n",
        "  # “Fatie de 2 a 4 Jan/2021.”  \n",
        "  print(ts['2021-01-02':'2021-01-04'])\n",
        "  ```\n",
        "\n",
        "  **2) Tabela de Estados Intermediários:**\n",
        "\n",
        "  ```markdown\n",
        "  | Passo      | Expressão                       | Saída                      | O que faz?                         |\n",
        "  |:----------:|:--------------------------------|:---------------------------|:-----------------------------------|\n",
        "  | 1          | `ts`                            | Série datada 2021-01-01…01-05 | Série temporal                   |\n",
        "  | 2          | `ts['2021-01-02':'2021-01-04']` | 2021-01-02 a 2021-01-04     | Slice por datas                   |\n",
        "  | 3          | –                               | imprime                    | Saída final                        |\n",
        "  ```\n",
        "\n",
        "  **3) Diagrama Mental (A Analogia Central):**  \n",
        "  Date slicing é como selecionar capítulos de um diário digital entre duas datas.\n",
        "\n",
        "* **Cenário de Mercado:**  \n",
        "  Em **finanças**, fatiar cotações por data gera séries de retornos para cálculo de indicadores.\n",
        "\n",
        "* **Boas Práticas:**  \n",
        "  - **Afirmação:** “Garanta índice datetime ao trabalhar com tempo.”  \n",
        "    - **Porquê:** Desbloqueia resample, rolling e fatiamento intuitivo.  \n",
        "    - **Analogia:** É como usar calendário em vez de números aleatórios para marcar compromissos.\n"
      ]
    },
    {
      "cell_type": "markdown",
      "metadata": {
        "id": "-rJaFd0EweNK"
      },
      "source": [
        "### 3. 🕸️ Profundezas e Conexões\n",
        "\n",
        "<br>\n",
        "\n",
        "Pandas Series alimentam DataFrames e são base para **scikit-learn**, **statsmodels** e bibliotecas de visualização. Dominar Series é essencial para manipular colunas isoladas em ETL.\n",
        "\n",
        "<br>\n",
        "\n",
        "---\n",
        "<br>\n"
      ]
    },
    {
      "cell_type": "markdown",
      "metadata": {
        "id": "4jbV8Z-hweNK"
      },
      "source": [
        "### 4. 🚀 Ação e Verificação\n",
        "\n",
        "<br>\n",
        "\n",
        "#### **🤔 Desafio Prático**\n",
        "1. Crie uma Series de vendas semanais com 7 valores e labels “Seg” a “Dom”.  \n",
        "2. Filtre dias com vendas ≥ média.  \n",
        "3. Some duas Series de lucro e despesa com índices diferentes.  \n",
        "4. Use `apply` para arredondar valores de uma Series de floats.  \n",
        "5. Gere Series datada e fatie o período de meio.\n",
        "\n",
        "<br>\n",
        "\n",
        "#### **❓ Pergunta de Verificação**\n",
        "Como o alinhamento automático afeta operações entre Series com índices distintos?\n",
        "\n",
        "<br>\n",
        "\n",
        "---\n",
        "\n",
        "<br>\n"
      ]
    },
    {
      "cell_type": "markdown",
      "source": [],
      "metadata": {
        "id": "pU05cKySP7tK"
      }
    }
  ]
}