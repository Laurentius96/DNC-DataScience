{
  "nbformat": 4,
  "nbformat_minor": 0,
  "metadata": {
    "colab": {
      "provenance": []
    },
    "language_info": {
      "name": "python"
    },
    "kernelspec": {
      "name": "python3",
      "display_name": "Python 3"
    }
  },
  "cells": [
    {
      "metadata": {
        "id": "KS1T3PGT40S0"
      },
      "source": [
        "## 🎓 **Aula sobre: Introdução à Leitura de Arquivos e Lendo Arquivos TXT em Python**\n",
        "\n",
        " <br>\n",
        "\n",
        "### 🧭 Sumário da Aula\n",
        "\n",
        "| # | Sub-tópico                    | Tempo Estimado | Complexidade |\n",
        "|---|-------------------------------|----------------|--------------|\n",
        "| 1 | Ficha de Revisão Rápida       | ~1 min         | ⭐           |\n",
        "| 2 | Mergulho Profundo             | ~15 min        | ⭐⭐⭐⭐      |\n",
        "| 3 | Profundezas e Conexões        | ~3 min         | ⭐⭐        |\n",
        "| 4 | Ação e Verificação            | ~5 min         | ⭐⭐        |\n",
        "| 5 | Mergulhos Adicionais          | Opcional       | ⭐⭐⭐⭐      |\n",
        "\n",
        " <br>\n",
        "\n",
        "---\n",
        " <br>\n"
      ],
      "cell_type": "markdown"
    },
    {
      "metadata": {
        "id": "f9xSPmPq40S1"
      },
      "source": [
        "### 1. 🧠 Ficha de Revisão Rápida | (O Essencial)\n",
        "\n",
        "> Para ler um arquivo TXT em Python, use a função `open(caminho, modo)` para obter um *file object* e chame métodos como `read()`, `readline()` ou `readlines()`.  \n",
        "> Não esqueça de fechar o arquivo com `close()`, ou prefira o *gerenciador de contexto* `with open(...) as f:` que fecha automaticamente.\n"
      ],
      "cell_type": "markdown"
    },
    {
      "metadata": {
        "id": "nGZBIi3N40S2"
      },
      "source": [
        "### 2. 🔬 Mergulho Profundo | (Os Detalhes)\n",
        "\n",
        "#### **🎯 O Conceito Central**  \n",
        "- `open(path, mode='r', encoding='utf-8')` abre o arquivo; modos comuns: `'r'` (leitura), `'w'` (escrita), `'a'` (append), `'b'` (binário).  \n",
        "- Métodos de leitura:  \n",
        "  - `f.read(n)` lê até *n* caracteres ou todo o conteúdo se omitido.  \n",
        "  - `f.readline()` lê uma linha por vez.  \n",
        "  - `f.readlines()` retorna lista de todas as linhas.  \n",
        "- O *ponteiro de arquivo* avança conforme leitura; use `f.seek(pos)` e `f.tell()` para controlar posição.  \n",
        "- O *gerenciador de contexto* (`with`) garante fechamento mesmo em erros.\n",
        "\n",
        " <br>\n",
        "\n",
        "#### **🔗 Analogia de Data Science**  \n",
        "Ao carregar um dataset CSV grande, você pode ler em *blocos* (`chunks`) para não carregar tudo na memória. Em textos, carregar pedaços evita estouro de memória e permite processar streaming de logs ou arquivos de texto extensos.\n"
      ],
      "cell_type": "markdown"
    },
    {
      "metadata": {
        "id": "zoQ8dZUs40S2"
      },
      "source": [
        "### **💻 Exemplos de Mercado (Abrangentes)**\n",
        "\n",
        "#### **Nível Simples: Lendo todo o arquivo de uma vez**\n"
      ],
      "cell_type": "markdown"
    },
    {
      "metadata": {
        "id": "Ecty2Fuq40S3"
      },
      "source": [
        "f = open(\"/content/meu_arquivo.txt\", \"r\", encoding=\"utf-8\")\n",
        "conteudo = f.read()\n",
        "f.close()\n",
        "print(conteudo)\n"
      ],
      "cell_type": "code",
      "execution_count": null,
      "outputs": []
    },
    {
      "metadata": {
        "colab": {
          "base_uri": "https://localhost:8080/"
        },
        "id": "9A-k1N6q40S3",
        "outputId": "95bec5d7-ba08-4f28-9995-d828013ef650"
      },
      "source": [
        "# Pratique seu código aqui!\n",
        "\n",
        "f = open(\"/content/meu_arquivo.txt\", \"r\", encoding=\"utf-8\")\n",
        "conteudo = f.read()\n",
        "f.close()\n",
        "print(conteudo)\n"
      ],
      "cell_type": "code",
      "execution_count": 29,
      "outputs": [
        {
          "output_type": "stream",
          "name": "stdout",
          "text": [
            "esse é meu arquivo\n",
            "essa é outra linha do arquivo\n"
          ]
        }
      ]
    },
    {
      "metadata": {
        "id": "X8JfIZ3t40S3"
      },
      "source": [
        "*   **O que o código faz:** Abre `dados.txt`, lê todo o texto e fecha o arquivo.  \n",
        "*   **Cenário de Mercado:** Scripts rápidos que trabalham com arquivos pequenos de configuração ou logs recentes.  \n",
        "*   **Boas Práticas:** Prefira `with` para evitar esquecer `close()`.\n"
      ],
      "cell_type": "markdown"
    },
    {
      "metadata": {
        "id": "6K_t-1-I40S4"
      },
      "source": [
        "#### **Nível Intermediário: Lendo linha a linha**\n"
      ],
      "cell_type": "markdown"
    },
    {
      "metadata": {
        "id": "zegZLd2W40S4"
      },
      "source": [
        "with open(\"dados.txt\", \"r\", encoding=\"utf-8\") as f:\n",
        "    for linha in f:\n",
        "        print(linha.strip())\n"
      ],
      "cell_type": "code",
      "execution_count": null,
      "outputs": []
    },
    {
      "metadata": {
        "colab": {
          "base_uri": "https://localhost:8080/"
        },
        "id": "7rfHKeVD40S5",
        "outputId": "d6a58b9f-a80c-4860-dc67-ac2439c4d2f8"
      },
      "source": [
        "# Pratique seu código aqui!\n",
        "\n",
        "with open(\"/content/meu_arquivo.txt\", \"r\", encoding=\"utf-8\") as f:\n",
        "  for linha in f:\n",
        "    print(linha.strip())"
      ],
      "cell_type": "code",
      "execution_count": 32,
      "outputs": [
        {
          "output_type": "stream",
          "name": "stdout",
          "text": [
            "esse é meu arquivo\n",
            "essa é outra linha do arquivo\n"
          ]
        }
      ]
    },
    {
      "metadata": {
        "id": "NWlxkoR640S5"
      },
      "source": [
        "*   **O que o código faz:** Usa *gerenciador de contexto* e itera cada linha, removendo quebras com `.strip()`.  \n",
        "*   **Cenário de Mercado:** Processamento de grandes logs ou datasets de texto linha a linha.\n"
      ],
      "cell_type": "markdown"
    },
    {
      "metadata": {
        "id": "8zzDVb1640S5"
      },
      "source": [
        "#### **Nível Avançado: Usando `readlines()` e compreensão**\n"
      ],
      "cell_type": "markdown"
    },
    {
      "metadata": {
        "id": "HLxj_SyI40S5"
      },
      "source": [
        "with open(\"dados.txt\", \"r\", encoding=\"utf-8\") as f:\n",
        "    linhas = [linha.strip() for linha in f.readlines()]\n",
        "print(linhas)\n"
      ],
      "cell_type": "code",
      "execution_count": null,
      "outputs": []
    },
    {
      "metadata": {
        "colab": {
          "base_uri": "https://localhost:8080/"
        },
        "id": "kyxp_xW140S5",
        "outputId": "c16e9258-8799-478b-b2f6-b9609ef1e9de"
      },
      "source": [
        "# Pratique seu código aqui!\n",
        "\n",
        "with open(\"/content/meu_arquivo.txt\", encoding=\"utf-8\") as f:\n",
        "    linhas = [linha.strip() for linha in f.readlines()]\n",
        "print(linhas)\n",
        "\n"
      ],
      "cell_type": "code",
      "execution_count": 34,
      "outputs": [
        {
          "output_type": "stream",
          "name": "stdout",
          "text": [
            "['esse é meu arquivo', 'essa é outra linha do arquivo']\n"
          ]
        }
      ]
    },
    {
      "metadata": {
        "id": "-pqHGDin40S5"
      },
      "source": [
        "*   **O que o código faz:** Cria lista de linhas sem `\\n` usando *list comprehension*.  \n",
        "*   **Cenário de Mercado:** Coleta rápida de dados para análises exploratórias.\n"
      ],
      "cell_type": "markdown"
    },
    {
      "metadata": {
        "id": "O73iOyJp40S5"
      },
      "source": [
        "#### **Nível DEUS (1/3): Leitura em blocos (chunks)**\n"
      ],
      "cell_type": "markdown"
    },
    {
      "metadata": {
        "id": "fRZ7ouX140S6"
      },
      "source": [
        "def ler_em_blocos(caminho, tamanho=1024):\n",
        "    with open(caminho, \"r\", encoding=\"utf-8\") as f:\n",
        "        while True:\n",
        "            bloco = f.read(tamanho)\n",
        "            if not bloco:\n",
        "                break\n",
        "            processa(bloco)  # função de processamento\n"
      ],
      "cell_type": "code",
      "execution_count": null,
      "outputs": []
    },
    {
      "metadata": {
        "colab": {
          "base_uri": "https://localhost:8080/"
        },
        "id": "wxJ0ZxBd40S6",
        "outputId": "d3ab77b9-4873-4102-8014-7db7d5d8eb73"
      },
      "source": [
        "# Pratique seu código aqui!\n",
        "\n",
        "def ler_em_blocos(caminho, tamanho=1024):\n",
        "    \"\"\"\n",
        "    Lê um arquivo em blocos de tamanho especificado\n",
        "    \"\"\"\n",
        "    with open(caminho, \"r\", encoding=\"utf-8\") as f:\n",
        "        while True:\n",
        "            bloco = f.read(tamanho)\n",
        "            if not bloco:\n",
        "                break\n",
        "            yield bloco  # Use yield para criar um gerador\n",
        "\n",
        "# Forma 1: Usando o gerador\n",
        "print(\"=== Lendo em blocos ===\")\n",
        "for bloco in ler_em_blocos(\"/content/meu_arquivo.txt\"):\n",
        "    print(f\"Bloco lido: {len(bloco)} caracteres\")\n",
        "    print(bloco)\n",
        "    print(\"-\" * 40)\n",
        "\n"
      ],
      "cell_type": "code",
      "execution_count": 39,
      "outputs": [
        {
          "output_type": "stream",
          "name": "stdout",
          "text": [
            "=== Lendo em blocos ===\n",
            "Bloco lido: 48 caracteres\n",
            "esse é meu arquivo\n",
            "essa é outra linha do arquivo\n",
            "----------------------------------------\n"
          ]
        }
      ]
    },
    {
      "metadata": {
        "id": "rVHhe0Bp40S6"
      },
      "source": [
        "*   **O que o código faz:** Lê o arquivo em pedaços de 1 KB, processando cada bloco.  \n",
        "*   **Cenário de Mercado:** Streaming de arquivos grandes ou análise de logs contínuos.\n"
      ],
      "cell_type": "markdown"
    },
    {
      "metadata": {
        "id": "tCAr10J440S6"
      },
      "source": [
        "#### **Nível DEUS (2/3): Controlando posição com `seek()` e `tell()`**\n"
      ],
      "cell_type": "markdown"
    },
    {
      "metadata": {
        "id": "H4DzwsWt40S6"
      },
      "source": [
        "with open(\"dados.txt\", \"r\", encoding=\"utf-8\") as f:\n",
        "    print(f.read(10))       # lê 10 caracteres\n",
        "    pos = f.tell()          # obtém posição atual\n",
        "    f.seek(pos - 5)         # volta 5 caracteres\n",
        "    print(f.read(5))\n"
      ],
      "cell_type": "code",
      "execution_count": null,
      "outputs": []
    },
    {
      "metadata": {
        "colab": {
          "base_uri": "https://localhost:8080/"
        },
        "id": "23ZKEene40S6",
        "outputId": "cc416a0a-0d6c-454c-be13-dfbb44b3b84a"
      },
      "source": [
        "# Pratique seu código aqui!\n",
        "\n",
        "with open(\"/content/meu_arquivo.txt\", \"r\", encoding=\"utf-8\", errors='ignore') as f:\n",
        "  print(f.read(10))\n",
        "  pos = f.tell()\n",
        "  f.seek(pos - 5)\n",
        "  print(f.read(5))"
      ],
      "cell_type": "code",
      "execution_count": 45,
      "outputs": [
        {
          "output_type": "stream",
          "name": "stdout",
          "text": [
            "esse é meu\n",
            " meu \n"
          ]
        }
      ]
    },
    {
      "metadata": {
        "id": "18aGBcIY40S6"
      },
      "source": [
        "*   **O que o código faz:** Demonstra leitura parcial e reposicionamento do *ponteiro de arquivo*.  \n",
        "*   **Cenário de Mercado:** Extração de campos fixos em arquivos de formato legado.\n"
      ],
      "cell_type": "markdown"
    },
    {
      "metadata": {
        "id": "Pjxi2C5A40S6"
      },
      "source": [
        "#### **Nível DEUS (3/3): Lendo CSV “na mão” como TXT**\n"
      ],
      "cell_type": "markdown"
    },
    {
      "metadata": {
        "id": "s3TQK_ns40S6"
      },
      "source": [
        "with open(\"dados.csv\", \"r\", encoding=\"utf-8\") as f:\n",
        "    header = f.readline().strip().split(\",\")\n",
        "    for linha in f:\n",
        "        valores = linha.strip().split(\",\")\n",
        "        registro = dict(zip(header, valores))\n",
        "        print(registro)\n"
      ],
      "cell_type": "code",
      "execution_count": null,
      "outputs": []
    },
    {
      "metadata": {
        "colab": {
          "base_uri": "https://localhost:8080/"
        },
        "id": "NmHqmSzg40S7",
        "outputId": "d6ddb158-c6b1-43df-88f0-0c3424d4d1d7"
      },
      "source": [
        "# Pratique seu código aqui!\n",
        "\n",
        "with open(\"/content/meu_arquivo.txt\", \"r\", encoding=\"utf-8\", errors='ignore') as f:\n",
        "  header = f.readline().strip().split(\",\")\n",
        "  for linha in f:\n",
        "    valores = linha.strip().split(\",\")\n",
        "    registro = dict(zip(header, valores))\n",
        "    print(registro)\n"
      ],
      "cell_type": "code",
      "execution_count": 47,
      "outputs": [
        {
          "output_type": "stream",
          "name": "stdout",
          "text": [
            "{'esse é meu arquivo': 'essa é outra linha do arquivo'}\n"
          ]
        }
      ]
    },
    {
      "metadata": {
        "id": "UiFLDr3N40S7"
      },
      "source": [
        "*   **O que o código faz:** Constrói dicionários a partir de linhas CSV sem usar pandas.  \n",
        "*   **Cenário de Mercado:** Pré-processamento leve antes de carregar em DataFrame.\n"
      ],
      "cell_type": "markdown"
    },
    {
      "metadata": {
        "id": "z6thk8gr40S7"
      },
      "source": [
        "### 3. 🕸️ Profundezas e Conexões\n",
        "\n",
        " <br>\n",
        "Leitura de arquivos TXT se relaciona diretamente à leitura de dados em *pandas* (`pd.read_csv()`), ao uso de *pathlib* para manipulação de caminhos, e a *context managers* personalizados para recursos (sockets, conexões de banco). Compreender `open()` é base para trabalhar com formatos como JSON, XML e binários.\n",
        " <br>\n",
        "\n",
        "---\n",
        " <br>\n"
      ],
      "cell_type": "markdown"
    },
    {
      "metadata": {
        "id": "apV2f0E440S7"
      },
      "source": [
        "### 4. 🚀 Ação e Verificação\n",
        "\n",
        " <br>\n",
        "#### **🤔 Desafio Prático**\n",
        "1. Abra um arquivo “exemplo.txt” e leia apenas as primeiras 5 linhas.  \n",
        "2. Conte quantas vezes a palavra “erro” aparece em todo o arquivo.  \n",
        "3. Leia o arquivo em blocos de 512 bytes e acumule o tamanho total lido.  \n",
        "4. Use `seek()` para pular os primeiros 100 caracteres e leia os próximos 50.  \n",
        "5. Implemente um parser simples que converta linhas do tipo `chave:valor` em dicionário.\n",
        "\n",
        " <br>\n",
        "#### **❓ Pergunta de Verificação**\n",
        "Por que usar `with open()` é mais seguro do que `open()` e `close()` manuais? Quais problemas ele evita?\n",
        " <br>\n",
        "\n",
        "---\n",
        " <br>\n"
      ],
      "cell_type": "markdown"
    }
  ]
}