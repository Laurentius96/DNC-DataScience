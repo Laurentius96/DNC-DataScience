{
  "nbformat": 4,
  "nbformat_minor": 0,
  "metadata": {
    "colab": {
      "provenance": []
    },
    "language_info": {
      "name": "python"
    },
    "kernelspec": {
      "name": "python3",
      "display_name": "Python 3"
    }
  },
  "cells": [
    {
      "metadata": {
        "id": "IFuKkJcA6MP9"
      },
      "source": [
        "## 🎓 **Aula sobre: Tipos de Dados e Operadores**\n",
        "\n",
        " <br>\n",
        "\n",
        "### 🧭 Sumário da Aula\n",
        "\n",
        "| # | Sub-tópico                      | Tempo Estimado | Complexidade |\n",
        "|---|---------------------------------|----------------|--------------|\n",
        "| 1 | Ficha de Revisão Rápida         | ~1 min         | ⭐           |\n",
        "| 2 | Mergulho Profundo               | ~15 min        | ⭐⭐⭐⭐       |\n",
        "| 3 | Profundezas e Conexões          | ~3 min         | ⭐⭐         |\n",
        "| 4 | Ação e Verificação              | ~5 min         | ⭐⭐         |\n",
        "| 5 | Mergulhos Adicionais            | Opcional       | ⭐⭐⭐⭐       |\n",
        "\n",
        " <br>\n",
        "\n",
        "---\n",
        " <br>\n"
      ],
      "cell_type": "markdown"
    },
    {
      "metadata": {
        "id": "Tnh6aLG46MQA"
      },
      "source": [
        "### 1. 🧠 Ficha de Revisão Rápida | (O Essencial)\n",
        "\n",
        " <br>\n",
        "\n",
        "> Python é *tipado dinamicamente*: cada valor tem um *tipo* (ex: `int`, `float`, `str`, `bool`, `list`, `dict`).  \n",
        "> Operadores (ex: `+`, `-`, `==`, `and`) permitem manipular e comparar esses valores.  \n",
        "> Use a função `type()` para inspecionar o tipo de um objeto.\n",
        "\n",
        " <br>\n",
        "\n",
        "### 2. 🔬 Mergulho Profundo | (Os Detalhes)\n",
        "\n",
        " <br>\n",
        "\n",
        "#### **🎯 O Conceito Central**  \n",
        "Tipos de dados definem como o Python interpreta e armazena valores. Operadores são símbolos que aplicam operações sobre esses valores. A tipagem dinâmica permite misturar tipos, mas cada operador tem comportamentos específicos conforme os operandos.\n",
        "\n",
        " <br>\n",
        "\n",
        "#### **🔗 Analogia de Data Science**  \n",
        "Imagine um *DataFrame* com colunas de diferentes tipos: números para análise estatística, strings para rótulos. Operadores permitem agregar (`+`), filtrar (`==`), combinar (`and`/`or`) e criar novos campos, tudo respeitando o tipo de cada coluna.\n",
        "\n",
        " <br>\n",
        "\n",
        "### **💻 Exemplos de Mercado (Abrangentes)**\n"
      ],
      "cell_type": "markdown"
    },
    {
      "metadata": {
        "id": "DXx56XAa6MQA"
      },
      "source": [
        "#### **Nível Simples: Tipos Primitivos e Operadores Aritméticos**\n"
      ],
      "cell_type": "markdown"
    },
    {
      "metadata": {
        "id": "cVGyJ4Gl6MQB"
      },
      "source": [
        "x = 10        # int\n",
        "y = 2.5       # float\n",
        "s = \"Data\"    # str\n",
        "b = True      # bool\n",
        "\n",
        "print(x + y)       # 12.5 (int + float → float)\n",
        "print(s + \" Sci\")  # \"Data Sci\" (concatenação de strings)\n",
        "print(x * 3)       # 30 (repetição de int)\n",
        "print(b and False) # False (operador lógico)\n"
      ],
      "cell_type": "code",
      "execution_count": null,
      "outputs": []
    },
    {
      "metadata": {
        "colab": {
          "base_uri": "https://localhost:8080/"
        },
        "id": "6VFVRsfd6MQC",
        "outputId": "d690d664-e2c6-4283-88df-437f0cc50e23"
      },
      "source": [
        "# Pratique seu código aqui!\n",
        "\n",
        "x = 10\n",
        "y = 2.5\n",
        "s = \"Data\"\n",
        "b = True\n",
        "\n",
        "print(x + y)\n",
        "print(s + \"Sci\")\n",
        "print(x * 3)\n",
        "print(b and False)\n",
        "\n"
      ],
      "cell_type": "code",
      "execution_count": 1,
      "outputs": [
        {
          "output_type": "stream",
          "name": "stdout",
          "text": [
            "12.5\n",
            "DataSci\n",
            "30\n",
            "False\n"
          ]
        }
      ]
    },
    {
      "metadata": {
        "id": "A6npIv_66MQC"
      },
      "source": [
        "*   **O que o código faz:** Demonstra uso de tipos primitivos com operadores básicos.  \n",
        "*   **Cenário de Mercado:** Fundamental ao tratar dados brutos antes de análises.  \n",
        "*   **Boas Práticas:** Conheça o resultado de misturar tipos diferentes e evite conversões implícitas inesperadas.\n"
      ],
      "cell_type": "markdown"
    },
    {
      "metadata": {
        "id": "iUeJcfYl6MQC"
      },
      "source": [
        "#### **Nível Intermediário: Operadores em Sequências**\n"
      ],
      "cell_type": "markdown"
    },
    {
      "metadata": {
        "id": "PZ00xaHt6MQC"
      },
      "source": [
        "lista = [1, 2, 3]\n",
        "tupla = (4, 5)\n",
        "\n",
        "print(lista + [4, 5])      # [1,2,3,4,5] (concatenação de listas)\n",
        "print(tupla * 2)            # (4,5,4,5) (repetição de tupla)\n",
        "print(\" - \".join([\"A\",\"B\"]))# \"A - B\" (método de string)\n"
      ],
      "cell_type": "code",
      "execution_count": null,
      "outputs": []
    },
    {
      "metadata": {
        "colab": {
          "base_uri": "https://localhost:8080/"
        },
        "id": "fGtMKWat6MQD",
        "outputId": "b6f2b0db-42a6-46b3-aa36-c747de5b68f3"
      },
      "source": [
        "# Pratique seu código aqui!\n",
        "\n",
        "lista = [1, 2, 3]\n",
        "tupla = (4, 5)\n",
        "\n",
        "print(lista + [4, 5])\n",
        "print(tupla * 2)\n",
        "print(\"-\". join([\"A\", \"B\"]))"
      ],
      "cell_type": "code",
      "execution_count": 2,
      "outputs": [
        {
          "output_type": "stream",
          "name": "stdout",
          "text": [
            "[1, 2, 3, 4, 5]\n",
            "(4, 5, 4, 5)\n",
            "A-B\n"
          ]
        }
      ]
    },
    {
      "metadata": {
        "id": "7GH4-EGE6MQD"
      },
      "source": [
        "*   **O que o código faz:** Mostra concatenação e repetição em *listas* e *tuplas*, e uso de métodos de string.  \n",
        "*   **Cenário de Mercado:** Útil em preparação de relatórios e geração de campos compostos.  \n",
        "*   **Boas Práticas:** Prefira métodos dedicados (`.join()`) para strings em vez de `+` em loops.\n"
      ],
      "cell_type": "markdown"
    },
    {
      "metadata": {
        "id": "xn_S3l-R6MQD"
      },
      "source": [
        "#### **Nível Avançado: Coerção e Conversão Explícita**\n"
      ],
      "cell_type": "markdown"
    },
    {
      "metadata": {
        "id": "BUnD-Hll6MQD"
      },
      "source": [
        "val = \"100\"\n",
        "num = int(val)        # converte para int\n",
        "flt = float(val)      # converte para float\n",
        "print(type(val), type(num), type(flt))\n",
        "print(num / 3, flt / 3)\n"
      ],
      "cell_type": "code",
      "execution_count": null,
      "outputs": []
    },
    {
      "metadata": {
        "colab": {
          "base_uri": "https://localhost:8080/"
        },
        "id": "fs_lmjwh6MQE",
        "outputId": "62613084-437b-43f3-fdd6-301b62097adb"
      },
      "source": [
        "# Pratique seu código aqui!\n",
        "\n",
        "val = \"100\"\n",
        "num = int(val)\n",
        "flt = float(val)\n",
        "print(type(val), type(num), type(flt))\n",
        "print(num / 3, flt / 3)\n"
      ],
      "cell_type": "code",
      "execution_count": 3,
      "outputs": [
        {
          "output_type": "stream",
          "name": "stdout",
          "text": [
            "<class 'str'> <class 'int'> <class 'float'>\n",
            "33.333333333333336 33.333333333333336\n"
          ]
        }
      ]
    },
    {
      "metadata": {
        "id": "xLcpX6_h6MQE"
      },
      "source": [
        "*   **O que o código faz:** Converte strings em números antes de operar.  \n",
        "*   **Cenário de Mercado:** Essencial em *ETL* ao ingestão de CSVs com valores textuais.  \n",
        "*   **Boas Práticas:** Sempre valide entradas antes de converter para evitar `ValueError`.\n"
      ],
      "cell_type": "markdown"
    },
    {
      "metadata": {
        "id": "gSlch3bd6MQE"
      },
      "source": [
        "#### **Nível DEUS (1/3): Sobrecarga de Operadores em Classes**\n"
      ],
      "cell_type": "markdown"
    },
    {
      "metadata": {
        "id": "DbhN6uik6MQE"
      },
      "source": [
        "class Vetor:\n",
        "    def __init__(self, x, y): self.x, self.y = x, y\n",
        "    def __add__(self, other): return Vetor(self.x + other.x, self.y + other.y)\n",
        "    def __repr__(self): return f\"Vetor({self.x},{self.y})\"\n",
        "\n",
        "v1 = Vetor(1, 2)\n",
        "v2 = Vetor(3, 4)\n",
        "print(v1 + v2)  # Vetor(4,6)\n"
      ],
      "cell_type": "code",
      "execution_count": null,
      "outputs": []
    },
    {
      "metadata": {
        "colab": {
          "base_uri": "https://localhost:8080/"
        },
        "id": "vIuCg1KT6MQE",
        "outputId": "948288e9-33db-4df6-8451-1a20fc6e6fe6"
      },
      "source": [
        "# Pratique seu código aqui!\n",
        "\n",
        "class Vetor:\n",
        "    def __init__(self, x, y): self.x, self.y = x, y\n",
        "    def __add__(self, other): return Vetor(self.x + other.x, self.y + other.y)\n",
        "    def __repr__(self): return f\"Vetor({self.x},{self.y})\"\n",
        "\n",
        "v1 = Vetor(1, 2)\n",
        "v2 = Vetor(3, 4)\n",
        "print(v1+v2)\n"
      ],
      "cell_type": "code",
      "execution_count": 7,
      "outputs": [
        {
          "output_type": "stream",
          "name": "stdout",
          "text": [
            "Vetor(4,6)\n"
          ]
        }
      ]
    },
    {
      "metadata": {
        "id": "oJBqzfO_6MQE"
      },
      "source": [
        "*   **O que o código faz:** Define como o operador `+` atua em objetos `Vetor`.  \n",
        "*   **Cenário de Mercado:** Útil em bibliotecas de vetores e manipulação de coordenadas.  \n",
        "*   **Boas Práticas:** Implemente `__eq__`, `__sub__` e outros métodos quando sobrescrever operadores.\n"
      ],
      "cell_type": "markdown"
    },
    {
      "metadata": {
        "id": "ApT0lLa_6MQE"
      },
      "source": [
        "#### **Nível DEUS (2/3): Tipagem Dinâmica e Coerção Automática**\n"
      ],
      "cell_type": "markdown"
    },
    {
      "metadata": {
        "id": "lRACJ3616MQE"
      },
      "source": [
        "# Mistura int e float\n",
        "a = 5        # int\n",
        "b = 2.0      # float\n",
        "res = a * b  # float\n",
        "print(type(res), res)\n",
        "\n",
        "# Booleanos como inteiros\n",
        "print(True + 2)  # 3\n"
      ],
      "cell_type": "code",
      "execution_count": null,
      "outputs": []
    },
    {
      "metadata": {
        "colab": {
          "base_uri": "https://localhost:8080/"
        },
        "id": "OddoWEmH6MQF",
        "outputId": "d4cf0401-9631-4158-f602-ab68ceddd905"
      },
      "source": [
        "# Pratique seu código aqui!\n",
        "\n",
        "a = 5\n",
        "b = 2.0\n",
        "res = a * b\n",
        "print(type(res), res)\n",
        "\n",
        "print(True + 2)\n",
        "\n"
      ],
      "cell_type": "code",
      "execution_count": 8,
      "outputs": [
        {
          "output_type": "stream",
          "name": "stdout",
          "text": [
            "<class 'float'> 10.0\n",
            "3\n"
          ]
        }
      ]
    },
    {
      "metadata": {
        "id": "OGl2Y8x06MQF"
      },
      "source": [
        "*   **O que o código faz:** Mostra coercão implícita de tipos e conversão de `bool` em `int`.  \n",
        "*   **Cenário de Mercado:** Atenção ao somar flags booleanas ou índices numéricos.  \n",
        "*   **Boas Práticas:** Use `bool()` ou `int()` explicitamente para clareza.\n"
      ],
      "cell_type": "markdown"
    },
    {
      "metadata": {
        "id": "FB-An8Ow6MQF"
      },
      "source": [
        "#### **Nível DEUS (3/3): Operadores em Arrays Numéricos (NumPy/Pandas)**\n"
      ],
      "cell_type": "markdown"
    },
    {
      "metadata": {
        "id": "Na1dozZs6MQF"
      },
      "source": [
        "import numpy as np\n",
        "import pandas as pd\n",
        "\n",
        "arr = np.array([1, 2, 3])\n",
        "print(arr * 2)             # [2,4,6]\n",
        "\n",
        "df = pd.DataFrame({\"x\":[1,2]})\n",
        "print(df[\"x\"] + 5)         # soma vetorizada\n"
      ],
      "cell_type": "code",
      "execution_count": null,
      "outputs": []
    },
    {
      "metadata": {
        "colab": {
          "base_uri": "https://localhost:8080/"
        },
        "id": "k9UFVgy86MQF",
        "outputId": "1c3efd2c-b67e-4c88-a78c-5ef771daf289"
      },
      "source": [
        "# Pratique seu código aqui!\n",
        "\n",
        "import numpy as np\n",
        "import pandas as pd\n",
        "\n",
        "arr = np.array([1, 2, 3])\n",
        "print(arr * 2)\n",
        "\n",
        "df = pd.DataFrame({\"x\":[1,2]})\n",
        "print(df[\"x\"] + 5)\n",
        "\n",
        "\n",
        "\n"
      ],
      "cell_type": "code",
      "execution_count": 10,
      "outputs": [
        {
          "output_type": "stream",
          "name": "stdout",
          "text": [
            "[2 4 6]\n",
            "0    6\n",
            "1    7\n",
            "Name: x, dtype: int64\n"
          ]
        }
      ]
    },
    {
      "metadata": {
        "id": "PFJKjiUM6MQF"
      },
      "source": [
        "*   **O que o código faz:** Aplica operadores aritméticos de forma vetorizada.  \n",
        "*   **Cenário de Mercado:** Processamento eficiente de grandes volumes de dados.  \n",
        "*   **Boas Práticas:** Prefira operações vetorizadas a loops explícitos.\n"
      ],
      "cell_type": "markdown"
    },
    {
      "metadata": {
        "id": "PCPbijKS6MQF"
      },
      "source": [
        "### 3. 🕸️ Profundezas e Conexões\n",
        "\n",
        " <br>\n",
        "\n",
        "Tipos e operadores servem de alicerce para *funções*, *estruturas de controle* e *bibliotecas*. Entender coerção e sobrecarga é essencial para escrever código robusto e extensível, evitando erros de tipo e maximizando performance em pipelines.\n",
        "\n",
        " <br>\n",
        "\n",
        "---\n",
        " <br>\n"
      ],
      "cell_type": "markdown"
    },
    {
      "metadata": {
        "id": "L5DJMJ2-6MQF"
      },
      "source": [
        "### 4. 🚀 Ação e Verificação\n",
        "\n",
        " <br>\n",
        "\n",
        "#### **🤔 Desafio Prático**\n",
        "1. Crie variáveis de cada tipo primitivo (`int`, `float`, `str`, `bool`, `NoneType`).  \n",
        "2. Use operadores para:  \n",
        "   - Somar um `int` e um `float`.  \n",
        "   - Concatenar duas strings.  \n",
        "   - Repetir uma lista duas vezes.  \n",
        "   - Verificar se uma string contém outra via `in`.  \n",
        "3. Defina uma classe `Ponto(x,y)` e sobrecarregue `__sub__` para calcular a diferença de vetores.  \n",
        "4. Aplique um operador em uma `Series` do Pandas.  \n",
        "5. Exiba resultados e tipos com `type()`.\n",
        "\n",
        " <br>\n",
        "\n",
        "#### **❓ Pergunta de Verificação**\n",
        "Por que misturar `int` e `str` com `+` causa erro, mas `int + float` funciona? O que isso revela sobre coerção de tipos em Python?\n",
        " <br>\n",
        "\n",
        "\n",
        "---\n",
        "\n",
        " <br>\n"
      ],
      "cell_type": "markdown"
    },
    {
      "cell_type": "code",
      "source": [],
      "metadata": {
        "id": "xeWCWKFB6Xhb"
      },
      "execution_count": null,
      "outputs": []
    }
  ]
}