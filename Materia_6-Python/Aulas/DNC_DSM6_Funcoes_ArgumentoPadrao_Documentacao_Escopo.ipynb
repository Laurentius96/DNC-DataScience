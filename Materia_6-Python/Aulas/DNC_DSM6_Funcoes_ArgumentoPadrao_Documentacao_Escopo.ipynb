{
  "nbformat": 4,
  "nbformat_minor": 0,
  "metadata": {
    "colab": {
      "provenance": []
    },
    "language_info": {
      "name": "python"
    },
    "kernelspec": {
      "name": "python3",
      "display_name": "Python 3"
    }
  },
  "cells": [
    {
      "metadata": {
        "id": "QtXzKkM5Z9Xs"
      },
      "source": [
        "## 🎓 **Aula sobre: Funções – Argumentos Padrão, Documentação e Escopo em Python**\n",
        "\n",
        " <br>\n",
        "\n",
        "### 🧭 Sumário da Aula\n",
        "\n",
        "| # | Sub-tópico                               | Tempo Estimado | Complexidade |\n",
        "|---|------------------------------------------|----------------|--------------|\n",
        "| 1 | Ficha de Revisão Rápida                  | ~1 min         | ⭐           |\n",
        "| 2 | Mergulho Profundo                        | ~15 min        | ⭐⭐⭐⭐       |\n",
        "| 3 | Profundezas e Conexões                   | ~3 min         | ⭐⭐         |\n",
        "| 4 | Ação e Verificação                       | ~5 min         | ⭐⭐         |\n",
        "| 5 | Mergulhos Adicionais Opcionais           | Opcional       | ⭐⭐⭐⭐       |\n",
        "\n",
        " <br>\n",
        "\n",
        "---\n",
        " <br>\n"
      ],
      "cell_type": "markdown"
    },
    {
      "metadata": {
        "id": "n_Uhgt1CZ9Xv"
      },
      "source": [
        "### 1. 🧠 Ficha de Revisão Rápida | (O Essencial)\n",
        "\n",
        "> - **Argumentos Padrão:** parâmetros recebem valor se não forem informados.  \n",
        "> - **Docstring:** texto entre aspas triplas logo após `def`, acessível via `__doc__` ou `help()`.  \n",
        "> - **Escopo:** *variáveis locais* vivem dentro da função; *globais* fora. Use `global`/`nonlocal` para modificar escopos externos.\n"
      ],
      "cell_type": "markdown"
    },
    {
      "metadata": {
        "id": "w4hjp08LZ9Xv"
      },
      "source": [
        "### 2. 🔬 Mergulho Profundo | (Os Detalhes)\n",
        "\n",
        " <br>\n",
        "\n",
        "#### **🎯 Argumentos Padrão**  \n",
        "Permitem definir comportamentos opcionais sem sobrecarregar chamadas. Evite *mutáveis* como defaults para não compartilhar estado acidentalmente.\n",
        "\n",
        " <br>\n",
        "\n",
        "#### **🎯 Documentação (Docstring)**  \n",
        "Registrar uso e parâmetros de forma padronizada (*PEP 257*). Ideal para geração automática de documentação (Sphinx).\n",
        "\n",
        " <br>\n",
        "\n",
        "#### **🎯 Escopo de Variáveis**  \n",
        "- **Local:** criadas dentro da função e destruídas ao sair.  \n",
        "- **Global:** definidas fora; leitura sem `global`.  \n",
        "- **nonlocal:** acessa variável de função externa não global.\n"
      ],
      "cell_type": "markdown"
    },
    {
      "metadata": {
        "id": "wDL0sUjjZ9Xw"
      },
      "source": [
        "### **💻 Exemplos de Mercado (Abrangentes)**\n",
        "#### **Nível Simples: Argumento Padrão e Docstring**\n"
      ],
      "cell_type": "markdown"
    },
    {
      "metadata": {
        "id": "H73g-IfmZ9Xw"
      },
      "source": [
        "def saudacao(nome, frase=\"Bem-vindo\"):\n",
        "    \"\"\"Retorna saudação personalizada.\n",
        "\n",
        "    Parâmetros:\n",
        "    nome (str): nome do usuário\n",
        "    frase (str): saudação base\n",
        "    \"\"\"\n",
        "    return f\"{frase}, {nome}!\"\n",
        "\n",
        "print(saudacao(\"Lorenzo\"))\n",
        "print(saudacao(\"Lorenzo\", frase=\"Olá\"))\n",
        "print(saudacao.__doc__)\n"
      ],
      "cell_type": "code",
      "execution_count": null,
      "outputs": []
    },
    {
      "metadata": {
        "colab": {
          "base_uri": "https://localhost:8080/"
        },
        "id": "ei2LiSkTZ9Xx",
        "outputId": "1f7ce70f-81b6-4492-9a86-dfd078ae0ba5"
      },
      "source": [
        "# Pratique seu código aqui!\n",
        "\n",
        "\n",
        "def saudacao(nome, frase=\"Bem-vinda\"):\n",
        "  \"\"\"\"\n",
        "  Retorna saudação personalizada.\n",
        "\n",
        "  Parâmetros:\n",
        "  nome (str): nome do usuário\n",
        "  frase (str): saudação base\n",
        "  \"\"\"\n",
        "  return f\"{frase}, {nome}!\"\n",
        "\n",
        "print(saudacao(\"Lorenzo\"))\n"
      ],
      "cell_type": "code",
      "execution_count": 1,
      "outputs": [
        {
          "output_type": "stream",
          "name": "stdout",
          "text": [
            "Bem-vinda, Lorenzo!\n"
          ]
        }
      ]
    },
    {
      "metadata": {
        "id": "q8-GAEByZ9Xx"
      },
      "source": [
        "*   **O que o código faz:** Usa argumento padrão e exibe docstring.  \n",
        "*   **Cenário de Mercado:** Mensagens de boas-vindas configuráveis.  \n",
        "*   **Boas Práticas:** Sempre documente parâmetros e retornos.\n"
      ],
      "cell_type": "markdown"
    },
    {
      "metadata": {
        "id": "35msf_wJZ9Xy"
      },
      "source": [
        "#### **Nível Intermediário: Posicionais vs Nomeados e `help()`**\n"
      ],
      "cell_type": "markdown"
    },
    {
      "metadata": {
        "id": "ZCDnnBL5Z9Xy"
      },
      "source": [
        "def calcula_total(valor, imposto=0.2, desconto=0.1):\n",
        "    \"\"\"Calcula total considerando imposto e desconto.\"\"\"\n",
        "    return valor * (1 + imposto) * (1 - desconto)\n",
        "\n",
        "# chamada posicional e nomeada\n",
        "print(calcula_total(100, desconto=0.05))\n",
        "help(calcula_total)\n"
      ],
      "cell_type": "code",
      "execution_count": null,
      "outputs": []
    },
    {
      "metadata": {
        "colab": {
          "base_uri": "https://localhost:8080/"
        },
        "id": "QGXkr9hNZ9Xy",
        "outputId": "e79e59dc-b26f-4c35-f835-1d172e873602"
      },
      "source": [
        "# Pratique seu código aqui!\n",
        "\n",
        "def calcula_total(valor, imposto=0.2, desconto=0.1):\n",
        "  \"\"\"Calcula total considerando imposto e desconto.\"\"\"\n",
        "  return valor * (1 + imposto) * (1 - desconto)\n",
        "\n",
        "\n",
        "print(calcula_total(100, desconto=0.05))\n",
        "help(calcula_total)\n"
      ],
      "cell_type": "code",
      "execution_count": 6,
      "outputs": [
        {
          "output_type": "stream",
          "name": "stdout",
          "text": [
            "114.0\n",
            "Help on function calcula_total in module __main__:\n",
            "\n",
            "calcula_total(valor, imposto=0.2, desconto=0.1)\n",
            "    Calcula total considerando imposto e desconto.\n",
            "\n"
          ]
        }
      ]
    },
    {
      "metadata": {
        "id": "cQbQSkGmZ9Xy"
      },
      "source": [
        "*   **O que o código faz:** Demonstra flexibilidade na chamada e uso de `help()`.  \n",
        "*   **Cenário de Mercado:** Funções de precificação em diversos cenários.\n"
      ],
      "cell_type": "markdown"
    },
    {
      "metadata": {
        "id": "IepAk3B7Z9Xy"
      },
      "source": [
        "#### **Nível Avançado: Escopo – `global` e `nonlocal`**\n"
      ],
      "cell_type": "markdown"
    },
    {
      "metadata": {
        "id": "IU9i4wJDZ9Xz"
      },
      "source": [
        "x = 10\n",
        "\n",
        "def externo():\n",
        "    x = 5\n",
        "    def interno():\n",
        "        nonlocal x\n",
        "        x += 1\n",
        "        return x\n",
        "    return interno()\n",
        "\n",
        "print(externo(), x)  # 6, 10\n",
        "\n",
        "def altera_global():\n",
        "    global x\n",
        "    x = 20\n",
        "\n",
        "altera_global()\n",
        "print(x)  # 20\n"
      ],
      "cell_type": "code",
      "execution_count": null,
      "outputs": []
    },
    {
      "metadata": {
        "colab": {
          "base_uri": "https://localhost:8080/"
        },
        "id": "kBER39dGZ9Xz",
        "outputId": "1cd38d4e-2c9d-4784-8454-a1723f5897ac"
      },
      "source": [
        "# Pratique seu código aqui!\n",
        "\n",
        "x = 10\n",
        "\n",
        "def externo():\n",
        "  x = 5\n",
        "  def interno():\n",
        "    nonlocal x\n",
        "    x += 1\n",
        "    return x\n",
        "  return interno()\n",
        "\n",
        "print(externo(), x)\n",
        "\n",
        "def altera_global():\n",
        "  global x\n",
        "  x = 20\n",
        "\n",
        "altera_global()\n",
        "print(x)\n",
        "\n"
      ],
      "cell_type": "code",
      "execution_count": 8,
      "outputs": [
        {
          "output_type": "stream",
          "name": "stdout",
          "text": [
            "6 10\n",
            "20\n"
          ]
        }
      ]
    },
    {
      "metadata": {
        "id": "2cTYeK8FZ9Xz"
      },
      "source": [
        "*   **O que o código faz:** Usa `nonlocal` para modificar escopo de função externa e `global` para variável global.  \n",
        "*   **Cenário de Mercado:** Configurações compartilhadas ou contadores internos.\n"
      ],
      "cell_type": "markdown"
    },
    {
      "metadata": {
        "id": "WXfKE-BAZ9Xz"
      },
      "source": [
        "#### **Nível DEUS (1/3): Pitfall de Default Mutável**\n"
      ],
      "cell_type": "markdown"
    },
    {
      "metadata": {
        "id": "8l8QQk0eZ9Xz"
      },
      "source": [
        "def adiciona_item(item, lista=[]):\n",
        "    lista.append(item)\n",
        "    return lista\n",
        "\n",
        "print(adiciona_item(\"a\"))  # ['a']\n",
        "print(adiciona_item(\"b\"))  # ['a','b'] – comportamento indesejado!\n"
      ],
      "cell_type": "code",
      "execution_count": null,
      "outputs": []
    },
    {
      "metadata": {
        "colab": {
          "base_uri": "https://localhost:8080/"
        },
        "id": "WUdRtUCdZ9Xz",
        "outputId": "64833c33-4406-4cbf-fdf7-26ce5296be97"
      },
      "source": [
        "# Pratique seu código aqui!\n",
        "\n",
        "def adiciona_item(item, lista=[]):\n",
        "  lista.append(item)\n",
        "  return lista\n",
        "\n",
        "print(adiciona_item(\"a\"))\n",
        "print(adiciona_item(\"b\"))\n"
      ],
      "cell_type": "code",
      "execution_count": 9,
      "outputs": [
        {
          "output_type": "stream",
          "name": "stdout",
          "text": [
            "['a']\n",
            "['a', 'b']\n"
          ]
        }
      ]
    },
    {
      "metadata": {
        "id": "KJeeN4V-Z9Xz"
      },
      "source": [
        "*   **O que o código faz:** Mostra que a lista padrão é compartilhada.  \n",
        "*   **Boas Práticas:** Use `None` e inicialize dentro da função.\n"
      ],
      "cell_type": "markdown"
    },
    {
      "metadata": {
        "id": "pVZg7EHTZ9X0"
      },
      "source": [
        "#### **Nível DEUS (2/3): Correção do Pitfall**\n"
      ],
      "cell_type": "markdown"
    },
    {
      "metadata": {
        "id": "ScPvfWi2Z9X0"
      },
      "source": [
        "def adiciona_item(item, lista=None):\n",
        "    if lista is None:\n",
        "        lista = []\n",
        "    lista.append(item)\n",
        "    return lista\n",
        "\n",
        "print(adiciona_item(\"a\"))  # ['a']\n",
        "print(adiciona_item(\"b\"))  # ['b']\n"
      ],
      "cell_type": "code",
      "execution_count": null,
      "outputs": []
    },
    {
      "metadata": {
        "colab": {
          "base_uri": "https://localhost:8080/"
        },
        "id": "nZ229wB1Z9X0",
        "outputId": "27899ba4-9826-45d3-e1af-1a6300888f81"
      },
      "source": [
        "# Pratique seu código aqui!\n",
        "\n",
        "def adiciona_item(item, lista=None):\n",
        "  if lista is None:\n",
        "      lista = []\n",
        "  lista.append(item)\n",
        "  return lista\n",
        "\n",
        "print(adiciona_item(\"a\"))\n",
        "print(adiciona_item(\"b\"))\n"
      ],
      "cell_type": "code",
      "execution_count": 10,
      "outputs": [
        {
          "output_type": "stream",
          "name": "stdout",
          "text": [
            "['a']\n",
            "['b']\n"
          ]
        }
      ]
    },
    {
      "metadata": {
        "id": "8LluxQ7kZ9X0"
      },
      "source": [
        "*   **O que o código faz:** Evita estado compartilhado ao usar `None` como default.  \n",
        "*   **Boas Práticas:** Proteja defaults mutáveis desse modo.\n"
      ],
      "cell_type": "markdown"
    },
    {
      "metadata": {
        "id": "X_aTayprZ9X0"
      },
      "source": [
        "#### **Nível DEUS (3/3): Inspeção de Parâmetros com `inspect.signature`**\n"
      ],
      "cell_type": "markdown"
    },
    {
      "metadata": {
        "id": "jBYRS0nBZ9X0"
      },
      "source": [
        "from inspect import signature\n",
        "\n",
        "sig = signature(calcula_total)\n",
        "print(sig)  # (valor, imposto=0.2, desconto=0.1)\n"
      ],
      "cell_type": "code",
      "execution_count": null,
      "outputs": []
    },
    {
      "metadata": {
        "colab": {
          "base_uri": "https://localhost:8080/"
        },
        "id": "TUDHmTPJZ9X0",
        "outputId": "75f7cac6-ef88-491d-c5c9-7d96be0370f6"
      },
      "source": [
        "# Pratique seu código aqui!\n",
        "\n",
        "from inspect import signature\n",
        "\n",
        "sig = signature(calcula_total)\n",
        "print(sig)  # (valor, imposto=0.2, desconto=0.1)\n"
      ],
      "cell_type": "code",
      "execution_count": 11,
      "outputs": [
        {
          "output_type": "stream",
          "name": "stdout",
          "text": [
            "(valor, imposto=0.2, desconto=0.1)\n"
          ]
        }
      ]
    },
    {
      "metadata": {
        "id": "WzAt2xA7Z9X0"
      },
      "source": [
        "*   **O que o código faz:** Exibe assinatura em runtime para documentação ou validação.  \n",
        "*   **Cenário de Mercado:** Frameworks que geram APIs dinâmicas se baseiam nisso.\n"
      ],
      "cell_type": "markdown"
    },
    {
      "metadata": {
        "id": "N5vF9s7EZ9X0"
      },
      "source": [
        "### 3. 🕸️ Profundezas e Conexões\n",
        "\n",
        " <br>\n",
        "\n",
        "Argumentos padrão, documentação e escopo se conectam a **testes unitários** (pytest fixtures com defaults), **documentação automática** (Sphinx), **injeção de dependências** e **configuração de frameworks** (FastAPI usa assinatura de função para criar endpoints). Compreender escopos evita bugs de estado compartilhado.\n",
        "\n",
        " <br>\n",
        "\n",
        "---\n",
        "\n",
        " <br>\n"
      ],
      "cell_type": "markdown"
    },
    {
      "metadata": {
        "id": "Mj_llhEaZ9X1"
      },
      "source": [
        "### 4. 🚀 Ação e Verificação\n",
        "\n",
        " <br>\n",
        "\n",
        "#### **🤔 Desafio Prático**\n",
        "1. Implemente `def registra(valor, log=None)` que use `None` safe default para lista de logs.  \n",
        "2. Crie função com docstring detalhada e use `help()` para exibi-la.  \n",
        "3. Escreva closure que conta chamadas e use `nonlocal` para escopo interno.  \n",
        "4. Demonstre erro de default mutável e corrija.  \n",
        "5. Use `inspect.signature` para imprimir assinatura de cada função criada.\n",
        "\n",
        " <br>\n",
        "\n",
        "#### **❓ Pergunta de Verificação**\n",
        "Por que usar defaults imutáveis causa bugs e como o escopo de variáveis impede ou permite compartilhamento de estado?\n",
        "\n",
        " <br>\n",
        "\n",
        "---\n",
        " <br>\n"
      ],
      "cell_type": "markdown"
    },
    {
      "cell_type": "markdown",
      "source": [
        "### **Resposta Rápida**\n",
        "\n",
        "Usar **defaults mutáveis** (como listas ou dicionários) pode causar **bugs silenciosos**, pois esses valores são **compartilhados entre chamadas**. O **escopo de variáveis** determina **onde e por quanto tempo** um valor existe — ele **pode isolar ou permitir o compartilhamento de estado**, dependendo de onde a variável é definida.\n",
        "\n",
        "---\n",
        "\n",
        "### **Analogia do Dia**\n",
        "\n",
        "Imagine que você entrega uma **prancheta de anotações** para cada visitante de um museu.\n",
        "Se todos usarem **a mesma prancheta** (default mutável), as anotações **ficam misturadas**.\n",
        "Se você der uma **nova prancheta para cada um** (usando `None` + `[]` dentro da função), **cada pessoa tem seu próprio espaço**.\n",
        "\n",
        "---\n",
        "\n",
        "### **Análise Técnica Detalhada**\n",
        "\n",
        "---\n",
        "\n",
        "## 🔥 Problema com defaults mutáveis:\n",
        "\n",
        "```python\n",
        "def adicionar(x, lista=[]):  # ❌ perigo aqui\n",
        "    lista.append(x)\n",
        "    return lista\n",
        "\n",
        "print(adicionar(1))  # [1]\n",
        "print(adicionar(2))  # [1, 2] ← deveria ser [2]?\n",
        "```\n",
        "\n",
        "📌 A **lista default é criada uma única vez** na **definição da função**, **não a cada chamada**!\n",
        "\n",
        "---\n",
        "\n",
        "## ✅ Solução com default imutável (`None`) e controle de escopo:\n",
        "\n",
        "```python\n",
        "def adicionar(x, lista=None):\n",
        "    if lista is None:\n",
        "        lista = []  # nova lista a cada chamada\n",
        "    lista.append(x)\n",
        "    return lista\n",
        "```\n",
        "\n",
        "Agora:\n",
        "\n",
        "```python\n",
        "adicionar(1) → [1]  \n",
        "adicionar(2) → [2]\n",
        "```\n",
        "\n",
        "---\n",
        "\n",
        "## 🎯 Papel do escopo de variáveis\n",
        "\n",
        "| Nível de escopo         | Duração do estado                      | Compartilha valor? |\n",
        "| ----------------------- | -------------------------------------- | ------------------ |\n",
        "| Variável global         | Fica viva o tempo todo                 | ✅ Sim              |\n",
        "| Default mutável         | Compartilhado entre chamadas           | ✅ Sim              |\n",
        "| Variável local          | Criada a cada execução                 | ❌ Não              |\n",
        "| Em closure (`nonlocal`) | Compartilhado entre execuções internas | ✅ Sim              |\n",
        "\n",
        "---\n",
        "\n",
        "### 🧠 Exemplo com escopo local vs. compartilhado:\n",
        "\n",
        "```python\n",
        "def fabrica_contador():\n",
        "    contador = 0\n",
        "    def incrementar():\n",
        "        nonlocal contador\n",
        "        contador += 1\n",
        "        return contador\n",
        "    return incrementar\n",
        "\n",
        "c1 = fabrica_contador()\n",
        "print(c1())  # 1\n",
        "print(c1())  # 2\n",
        "\n",
        "c2 = fabrica_contador()\n",
        "print(c2())  # 1 ← contador é isolado para cada closure\n",
        "```\n",
        "\n",
        "* Aqui, **closures usam escopo de função** para guardar **estado interno** com segurança.\n",
        "\n",
        "---\n",
        "\n",
        "### **Nota de Rodapé para Novatos**\n",
        "\n",
        "* **Mutável:** Objeto que pode ser alterado (como lista, dicionário, set).\n",
        "* **Imutável:** Objeto que **não pode ser modificado** (como `int`, `str`, `tuple`).\n",
        "* **Escopo:** O “alcance” de uma variável — define onde ela existe e onde pode ser acessada.\n",
        "* **`nonlocal`:** Permite que funções internas acessem e modifiquem variáveis da função pai.\n",
        "* **Closures:** Funções que lembram do ambiente onde foram criadas, mantendo estado interno.\n",
        "\n",
        "---\n",
        "\n",
        "### **Aplicação Prática e Boas Práticas**\n",
        "\n",
        "* ✅ Sempre evite defaults mutáveis:\n",
        "\n",
        "```python\n",
        "def acumular(valor, lista=None):  # mais seguro\n",
        "```\n",
        "\n",
        "* 📊 Em Ciência de Dados:\n",
        "\n",
        "  * Evita bugs em funções de pré-processamento, onde colunas ou filtros são acumulados entre execuções.\n",
        "  * Garante que **funções de transformação** sejam puras e previsíveis.\n",
        "\n",
        "* ✅ Use closures e escopo local para **guardar estado seguro** sem usar variáveis globais.\n",
        "\n",
        "---\n",
        "\n",
        "### **Resumo da Lição**\n",
        "\n",
        "Defaults mutáveis **persistem entre chamadas** e podem causar **bugs difíceis de rastrear**; o **escopo** controla se variáveis são **compartilhadas ou isoladas** — por isso, entenda onde e como você cria cada variável.\n",
        "\n",
        "---\n"
      ],
      "metadata": {
        "id": "bygxfavmgKeF"
      }
    }
  ]
}