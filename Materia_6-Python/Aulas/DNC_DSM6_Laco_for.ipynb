{
  "nbformat": 4,
  "nbformat_minor": 0,
  "metadata": {
    "colab": {
      "provenance": []
    },
    "language_info": {
      "name": "python"
    },
    "kernelspec": {
      "name": "python3",
      "display_name": "Python 3"
    }
  },
  "cells": [
    {
      "metadata": {
        "id": "lWvFjFTWiiMm"
      },
      "source": [
        "## 🎓 **Aula sobre: Laço `for` em Python**\n",
        "\n",
        " <br>\n",
        "\n",
        "### 🧭 Sumário da Aula\n",
        "\n",
        "| # | Sub-tópico                      | Tempo Estimado | Complexidade |\n",
        "|---|---------------------------------|----------------|--------------|\n",
        "| 1 | Ficha de Revisão Rápida         | ~1 min         | ⭐           |\n",
        "| 2 | Mergulho Profundo               | ~15 min        | ⭐⭐⭐⭐       |\n",
        "| 3 | Profundezas e Conexões          | ~3 min         | ⭐⭐         |\n",
        "| 4 | Ação e Verificação              | ~5 min         | ⭐⭐         |\n",
        "| 5 | Mergulhos Adicionais            | Opcional       | ⭐⭐⭐⭐       |\n",
        "\n",
        " <br>\n",
        "\n",
        "---\n",
        " <br>\n"
      ],
      "cell_type": "markdown"
    },
    {
      "metadata": {
        "id": "u9nmwvrwiiMo"
      },
      "source": [
        "### 1. 🧠 Ficha de Revisão Rápida | (O Essencial)\n",
        "\n",
        " <br>\n",
        "\n",
        "> O laço `for` em Python itera sobre qualquer *iterável* (lista, tupla, string, dicionário, gerador) e executa um bloco de código para cada elemento.  \n",
        "> Sintaxe básica:  \n",
        "> ```python\n",
        "> for elemento in iterável:\n",
        ">     faça_algo(elemento)\n",
        "> ```\n"
      ],
      "cell_type": "markdown"
    },
    {
      "metadata": {
        "id": "CB91vqo2iiMo"
      },
      "source": [
        "### 2. 🔬 Mergulho Profundo | (Os Detalhes)\n",
        "\n",
        " <br>\n",
        "\n",
        "#### **🎯 O Conceito Central**  \n",
        "O `for` faz a extração sequencial de cada item do *iterável* e atribui à variável de loop. Ao término, o laço encerra naturalmente, sem necessidade de incrementar manualmente um índice.\n",
        "\n",
        " <br>\n",
        "\n",
        "#### **🔗 Analogia de Data Science**  \n",
        "Imagine um *pipeline* que aplica a mesma transformação a cada linha de um conjunto de dados. O `for` é a máquina que percorre cada registro e dispara a função de transformação, garantindo consistência e repetição controlada.\n",
        "\n",
        " <br>\n",
        "\n",
        "### **💻 Exemplos de Mercado (Abrangentes)**\n"
      ],
      "cell_type": "markdown"
    },
    {
      "metadata": {
        "id": "2a2hba93iiMo"
      },
      "source": [
        "#### **Nível Simples: Iterando sobre Lista**\n"
      ],
      "cell_type": "markdown"
    },
    {
      "metadata": {
        "id": "psmGPXMviiMo"
      },
      "source": [
        "produtos = [\"caneta\", \"caderno\", \"borracha\"]\n",
        "for item in produtos:\n",
        "    print(f\"Item: {item}\")\n"
      ],
      "cell_type": "code",
      "execution_count": null,
      "outputs": []
    },
    {
      "metadata": {
        "colab": {
          "base_uri": "https://localhost:8080/"
        },
        "id": "ibczbWFziiMp",
        "outputId": "90b47d85-01f0-4a42-89fe-140eed2ebf10"
      },
      "source": [
        "# Pratique seu código aqui!\n",
        "\n",
        "produtos = [\"canete\", \"caderno\", \"borracha\"]\n",
        "\n",
        "for item in produtos:\n",
        "  print(f\"Item: {item}\")"
      ],
      "cell_type": "code",
      "execution_count": 4,
      "outputs": [
        {
          "output_type": "stream",
          "name": "stdout",
          "text": [
            "Item: canete\n",
            "Item: caderno\n",
            "Item: borracha\n"
          ]
        }
      ]
    },
    {
      "metadata": {
        "id": "Bm8xiaUKiiMp"
      },
      "source": [
        "*   **O que o código faz:** Percorre a lista `produtos` e imprime cada elemento.  \n",
        "*   **Cenário de Mercado:** Exibir ou processar registros de um dataset.  \n",
        "*   **Boas Práticas:** Escolha nomes de variável claros (ex: `produto` em vez de `x`).\n"
      ],
      "cell_type": "markdown"
    },
    {
      "metadata": {
        "id": "ZF9dcp7piiMp"
      },
      "source": [
        "#### **Nível Intermediário: Uso de `range()`**\n"
      ],
      "cell_type": "markdown"
    },
    {
      "metadata": {
        "id": "pyw3LOTyiiMq"
      },
      "source": [
        "# Soma dos números de 1 a 10\n",
        "total = 0\n",
        "for i in range(1, 11):\n",
        "    total += i\n",
        "print(f\"Total: {total}\")\n"
      ],
      "cell_type": "code",
      "execution_count": null,
      "outputs": []
    },
    {
      "metadata": {
        "colab": {
          "base_uri": "https://localhost:8080/"
        },
        "id": "vyW17j-LiiMq",
        "outputId": "c1d91e9f-a15f-466e-9879-55d7fd168fe6"
      },
      "source": [
        "# Pratique seu código aqui!\n",
        "\n",
        "total = 0\n",
        "for i in range(1, 11):\n",
        "  total += i\n",
        "  print(f\"Total: {total}\")"
      ],
      "cell_type": "code",
      "execution_count": 5,
      "outputs": [
        {
          "output_type": "stream",
          "name": "stdout",
          "text": [
            "Total: 1\n",
            "Total: 3\n",
            "Total: 6\n",
            "Total: 10\n",
            "Total: 15\n",
            "Total: 21\n",
            "Total: 28\n",
            "Total: 36\n",
            "Total: 45\n",
            "Total: 55\n"
          ]
        }
      ]
    },
    {
      "metadata": {
        "id": "JC7hl5p7iiMq"
      },
      "source": [
        "*   **O que o código faz:** Gera uma sequência numérica com `range` e acumula soma.  \n",
        "*   **Cenário de Mercado:** Cálculo de métricas agregadas em batch.  \n",
        "*   **Boas Práticas:** Prefira `sum(range(...))` para simplicidade quando cabível.\n"
      ],
      "cell_type": "markdown"
    },
    {
      "metadata": {
        "id": "xg6pwooqiiMq"
      },
      "source": [
        "#### **Nível Avançado: Iterando em Dicionários**\n"
      ],
      "cell_type": "markdown"
    },
    {
      "metadata": {
        "id": "eV1tXLyQiiMq"
      },
      "source": [
        "vendas = {\"jan\": 1000, \"fev\": 1500, \"mar\": 1200}\n",
        "for mes, valor in vendas.items():\n",
        "    print(f\"No mês de {mes} foram vendidas {valor} unidades.\")\n"
      ],
      "cell_type": "code",
      "execution_count": null,
      "outputs": []
    },
    {
      "metadata": {
        "colab": {
          "base_uri": "https://localhost:8080/"
        },
        "id": "ojT4Mi0liiMr",
        "outputId": "6976e7be-9b0c-4a0a-a41d-7df5ef597710"
      },
      "source": [
        "# Pratique seu código aqui!\n",
        "\n",
        "vendas = {\"jan\": 1000, \"fev\": 1500, \"mar\": 1200}\n",
        "\n",
        "for mes, valor in vendas.items():\n",
        "     print(f\"No mês de {mes} foram vendidas {valor} unidades\")\n"
      ],
      "cell_type": "code",
      "execution_count": 10,
      "outputs": [
        {
          "output_type": "stream",
          "name": "stdout",
          "text": [
            "No mês de jan foram vendidas 1000 unidades\n",
            "No mês de fev foram vendidas 1500 unidades\n",
            "No mês de mar foram vendidas 1200 unidades\n"
          ]
        }
      ]
    },
    {
      "metadata": {
        "id": "ylP1akwPiiMr"
      },
      "source": [
        "*   **O que o código faz:** Usa `.items()` para obter chaves e valores.  \n",
        "*   **Cenário de Mercado:** Relatórios mensais ou agregação por categoria.  \n",
        "*   **Boas Práticas:** Utilize `.keys()`, `.values()` ou `.items()` conforme necessidade.\n"
      ],
      "cell_type": "markdown"
    },
    {
      "metadata": {
        "id": "xFL7P-xbiiMr"
      },
      "source": [
        "#### **Nível DEUS (1/3): Índice e Valor com `enumerate()`**\n"
      ],
      "cell_type": "markdown"
    },
    {
      "metadata": {
        "id": "fIde7gTziiMr"
      },
      "source": [
        "cores = [\"vermelho\", \"verde\", \"azul\"]\n",
        "for idx, cor in enumerate(cores, start=1):\n",
        "    print(f\"{idx}ª cor: {cor}\")\n"
      ],
      "cell_type": "code",
      "execution_count": null,
      "outputs": []
    },
    {
      "metadata": {
        "colab": {
          "base_uri": "https://localhost:8080/"
        },
        "id": "tRNrtLDyiiMr",
        "outputId": "a67cde1b-1d05-445e-bd44-078e92000e3e"
      },
      "source": [
        "# Pratique seu código aqui!\n",
        "\n",
        "cores = [\"vermelho\", \"verde\", \"azul\"]\n",
        "for idx, cor in enumerate(cores, start = 1):\n",
        "  print(f\"{idx}ª cor: {cor}\")\n"
      ],
      "cell_type": "code",
      "execution_count": 15,
      "outputs": [
        {
          "output_type": "stream",
          "name": "stdout",
          "text": [
            "1ª cor: vermelho\n",
            "2ª cor: verde\n",
            "3ª cor: azul\n"
          ]
        }
      ]
    },
    {
      "metadata": {
        "id": "4iCEu3JziiMr"
      },
      "source": [
        "*   **O que o código faz:** `enumerate` retorna tuplas (índice, valor).  \n",
        "*   **Cenário de Mercado:** Numerar registros ou posicionar itens em relatórios.  \n",
        "*   **Boas Práticas:** Defina `start=` para ajustar o índice inicial.\n"
      ],
      "cell_type": "markdown"
    },
    {
      "metadata": {
        "id": "ZKbDfmfEiiMr"
      },
      "source": [
        "#### **Nível DEUS (2/3): Iteração Paralela com `zip()`**\n"
      ],
      "cell_type": "markdown"
    },
    {
      "metadata": {
        "id": "_D9yUrZOiiMr"
      },
      "source": [
        "nomes = [\"Ana\", \"Bruno\", \"Carlos\"]\n",
        "notas = [8.5, 7.0, 9.3]\n",
        "for nome, nota in zip(nomes, notas):\n",
        "    print(f\"{nome} obteve nota {nota}\")\n"
      ],
      "cell_type": "code",
      "execution_count": null,
      "outputs": []
    },
    {
      "metadata": {
        "colab": {
          "base_uri": "https://localhost:8080/"
        },
        "id": "YjPJmfaeiiMr",
        "outputId": "40a9397a-d3ff-4fe8-f387-538326204db4"
      },
      "source": [
        "# Pratique seu código aqui!\n",
        "\n",
        "nomes = [\"Ana\", \"Bruno\", \"Carlos\"]\n",
        "notas = [8.5, 7.0, 9.3]\n",
        "for nome, nota in zip(nomes, notas):\n",
        "  print(f\"{nome} obteve nota {notas}\")\n"
      ],
      "cell_type": "code",
      "execution_count": 17,
      "outputs": [
        {
          "output_type": "stream",
          "name": "stdout",
          "text": [
            "Ana obteve nota [8.5, 7.0, 9.3]\n",
            "Bruno obteve nota [8.5, 7.0, 9.3]\n",
            "Carlos obteve nota [8.5, 7.0, 9.3]\n"
          ]
        }
      ]
    },
    {
      "metadata": {
        "id": "AgzKGt31iiMs"
      },
      "source": [
        "*   **O que o código faz:** `zip` emparelha elementos de múltiplas sequências.  \n",
        "*   **Cenário de Mercado:** Combinando colunas de datasets distintos.  \n",
        "*   **Boas Práticas:** Converta `zip` em lista se precisar reutilizar os pares.\n"
      ],
      "cell_type": "markdown"
    },
    {
      "metadata": {
        "id": "SH4rqy5KiiMs"
      },
      "source": [
        "#### **Nível DEUS (3/3): Cláusula `else` em `for`**\n"
      ],
      "cell_type": "markdown"
    },
    {
      "metadata": {
        "id": "2HJvkkO3iiMs"
      },
      "source": [
        "# Busca de valor em lista\n",
        "busca = 7\n",
        "for num in [1, 3, 5, 7, 9]:\n",
        "    if num == busca:\n",
        "        print(\"Encontrado!\")\n",
        "        break\n",
        "else:\n",
        "    print(\"Não encontrado.\")\n"
      ],
      "cell_type": "code",
      "execution_count": null,
      "outputs": []
    },
    {
      "metadata": {
        "colab": {
          "base_uri": "https://localhost:8080/"
        },
        "id": "JysEuuGqiiMs",
        "outputId": "0896ae3b-1a85-4e9b-cf96-16c87fa1627f"
      },
      "source": [
        "# Pratique seu código aqui!\n",
        "\n",
        "busca = input(\"Digite um número: \")\n",
        "\n",
        "for num in [1, 3, 5, 7, 9]:\n",
        "  if num == busca:\n",
        "    print(\"Encontrado!\")\n",
        "    break\n",
        "\n",
        "else:\n",
        "  print(\"Não encontrado!\")\n"
      ],
      "cell_type": "code",
      "execution_count": 18,
      "outputs": [
        {
          "output_type": "stream",
          "name": "stdout",
          "text": [
            "Digite um número: 7\n",
            "Não encontrado!\n"
          ]
        }
      ]
    },
    {
      "metadata": {
        "id": "N05HVvKQiiMs"
      },
      "source": [
        "*   **O que o código faz:** Executa o `else` se o laço não for interrompido por `break`.  \n",
        "*   **Cenário de Mercado:** Validação de existência antes de processar ações em lote.  \n",
        "*   **Boas Práticas:** Use `for-else` para distinguir busca com ou sem sucesso.\n"
      ],
      "cell_type": "markdown"
    },
    {
      "metadata": {
        "id": "x85y2P7fiiMs"
      },
      "source": [
        "### 3. 🕸️ Profundezas e Conexões\n",
        "\n",
        " <br>\n",
        "O `for` combina-se com *compreensões de lista* (`[x*2 for x in lista]`), *generators* e *iteradores personalizados*. Em *pandas*, loops podem ser substituídos por métodos vetorizados (`apply`, `map`) para performance otimizada.\n",
        " <br>\n",
        "\n",
        "---\n",
        " <br>\n"
      ],
      "cell_type": "markdown"
    },
    {
      "metadata": {
        "id": "uM2Wp5kriiMs"
      },
      "source": [
        "### 4. 🚀 Ação e Verificação\n",
        "\n",
        " <br>\n",
        "\n",
        "#### **🤔 Desafio Prático**\n",
        "1. Crie uma lista de números e use `for` para imprimir apenas os pares.  \n",
        "2. Usando `range(5, 16, 2)`, acumule os valores e exiba o total.  \n",
        "3. Dado `scores = {\"joao\": 85, \"maria\": 92}`, use `for` para exibir cada nome e score.  \n",
        "4. Utilize `enumerate()` num laço para exibir índice e valor de uma lista de strings.  \n",
        "5. Implemente `for-else` para verificar se a palavra `\"python\"` está em uma lista de strings.\n",
        "\n",
        " <br>\n",
        "\n",
        "#### **❓ Pergunta de Verificação**\n",
        "Quando é mais indicado usar uma *compreensão de lista* em vez de um laço `for` explícito? Quais ganhos de legibilidade e performance ela oferece?\n",
        "\n",
        " <br>\n",
        "\n",
        "---\n",
        " <br>\n"
      ],
      "cell_type": "markdown"
    },
    {
      "cell_type": "markdown",
      "source": [
        "### **Resposta Rápida**\n",
        "\n",
        "Use **compreensão de lista** quando quiser criar uma nova lista a partir de outra, de forma simples e concisa. Ela melhora a **legibilidade** e é geralmente mais **rápida** do que um laço `for` explícito.\n",
        "\n",
        "---\n",
        "\n",
        "### **Analogia do Dia**\n",
        "\n",
        "Imagine uma esteira automática que pega maçãs de uma caixa, lava, e coloca em outra — tudo em uma única linha de montagem. Isso é uma **compreensão de lista**. Já o laço `for` seria você fazendo **uma a uma manualmente**, com várias etapas separadas.\n",
        "\n",
        "---\n",
        "\n",
        "### **Análise Técnica Detalhada**\n",
        "\n",
        "#### Exemplo com `for` tradicional:\n",
        "\n",
        "```python\n",
        "quadrados = []\n",
        "for i in range(5):\n",
        "    quadrados.append(i ** 2)\n",
        "print(quadrados)  # [0, 1, 4, 9, 16]\n",
        "```\n",
        "\n",
        "#### Equivalente com compreensão de lista:\n",
        "\n",
        "```python\n",
        "quadrados = [i ** 2 for i in range(5)]\n",
        "```\n",
        "\n",
        "#### Quando usar compreensão de lista?\n",
        "\n",
        "✅ Indicado quando:\n",
        "\n",
        "* O objetivo é **criar uma nova lista** com base em outra (mapeamento).\n",
        "* A transformação é **simples e direta**.\n",
        "* Pode incluir **condições**:\n",
        "\n",
        "```python\n",
        "pares = [x for x in range(10) if x % 2 == 0]\n",
        "```\n",
        "\n",
        "❌ Evite quando:\n",
        "\n",
        "* A lógica interna for **complexa** (múltiplos `ifs`, chamadas encadeadas, etc.).\n",
        "* Houver **efeitos colaterais**, como `print()`, `append()`, gravações.\n",
        "\n",
        "#### Vantagens:\n",
        "\n",
        "* 🔍 **Legibilidade**: mais compacto e direto.\n",
        "* 🚀 **Performance**: compreensão de lista é implementada em **C por trás dos panos**, o que a torna **mais rápida** na maioria dos casos.\n",
        "\n",
        "---\n",
        "\n",
        "### **Nota de Rodapé para Novatos**\n",
        "\n",
        "* **Compreensão de lista (list comprehension):** Forma concisa de criar listas em uma única linha usando uma expressão e um `for`.\n",
        "* **Efeitos colaterais:** Ações que afetam algo fora da função, como imprimir na tela ou salvar em arquivo.\n",
        "* **Expressão booleana:** Condição que retorna `True` ou `False`, usada dentro da compreensão.\n",
        "\n",
        "---\n",
        "\n",
        "### **Aplicação Prática e Boas Práticas**\n",
        "\n",
        "* ✅ Em Ciência de Dados:\n",
        "\n",
        "```python\n",
        "nomes = [\"ana\", \"joão\", \"maria\"]\n",
        "maiusculos = [nome.upper() for nome in nomes]\n",
        "```\n",
        "\n",
        "* ✅ Filtrar dados:\n",
        "\n",
        "```python\n",
        "idades = [18, 21, 16, 35]\n",
        "maiores = [i for i in idades if i >= 18]\n",
        "```\n",
        "\n",
        "* ❌ Evite ninho excessivo:\n",
        "\n",
        "```python\n",
        "# Difícil de ler — prefira um laço\n",
        "[x for x in lista if cond1 and func(x) > 5 or cond2 and outra_func(x)]\n",
        "```\n",
        "\n",
        "---\n",
        "\n",
        "### **Resumo da Lição**\n",
        "\n",
        "Use compreensão de lista para transformar listas de forma **clara e eficiente** — mas se a lógica for muito complexa, um bom `for` explícito ainda é seu melhor amigo.\n",
        "\n",
        "---\n"
      ],
      "metadata": {
        "id": "3VvtGiWynf8U"
      }
    }
  ]
}