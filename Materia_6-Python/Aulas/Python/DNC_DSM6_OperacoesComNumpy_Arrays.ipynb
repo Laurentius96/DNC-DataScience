{
  "nbformat": 4,
  "nbformat_minor": 0,
  "metadata": {
    "colab": {
      "provenance": []
    },
    "kernelspec": {
      "name": "python3",
      "display_name": "Python 3"
    }
  },
  "cells": [
    {
      "cell_type": "markdown",
      "metadata": {
        "id": "ByRxA6a08zBQ"
      },
      "source": [
        "## 🎓 **Aula sobre: Operações com NumPy Arrays**\n",
        "\n",
        "<br>\n",
        "\n",
        "### 🧭 Sumário da Aula\n",
        "\n",
        "| # | Sub-tópico                       | Tempo Estimado | Complexidade |\n",
        "|---|----------------------------------|----------------|--------------|\n",
        "| 1 | Ficha de Revisão Rápida          | ~1 min         | ⭐           |\n",
        "| 2 | Mergulho Profundo                | ~15 min        | ⭐⭐⭐⭐       |\n",
        "| 3 | Profundezas e Conexões           | ~3 min         | ⭐⭐         |\n",
        "| 4 | 🚀 Ação e Verificação             | ~5 min         | ⭐⭐         |\n",
        "| 5 | 🌊 Mergulhos Adicionais Opcionais | Opcional      | ⭐⭐⭐⭐      |\n",
        "\n",
        "<br>\n",
        "\n",
        "---\n",
        "<br>\n"
      ]
    },
    {
      "cell_type": "markdown",
      "metadata": {
        "id": "MJTuxe-P8zDc"
      },
      "source": [
        "### 1. 🧠 Ficha de Revisão Rápida | (O Essencial)\n",
        "\n",
        "<br>\n",
        "\n",
        "> - **Ufuncs (funções universais):** operações vetorizadas sobre arrays, ex: `np.add`, `np.multiply`.  \n",
        "> - **Reduções:** agregam valores, ex: `sum()`, `max()`, `min()`.  \n",
        "> - **Acumulações:** acumulam resultados em cada etapa, ex: `cumsum()`, `cumprod()`.  \n",
        "> - **Produto escalar e outer:** multiplicações matriciais e extensões de ufuncs em combinação de arrays.\n",
        "\n",
        "<br>\n"
      ]
    },
    {
      "cell_type": "markdown",
      "metadata": {
        "id": "KqHdkCJV8zDf"
      },
      "source": [
        "### 2. 🔬 Mergulho Profundo | (Os Detalhes)\n",
        "\n",
        "<br>\n",
        "\n",
        "#### **🎯 O Conceito Central**  \n",
        "As **ufuncs** são funções em C que operam elemento a elemento sem loops Python. As **reduções** resumem um array em valor único ou vetores por eixo. As **acumulações** geram um array de mesmos tamanhos com resultados parciais. O **produto escalar** (`@` ou `np.dot`) e o **outer** (`np.multiply.outer`) permitem operações de álgebra linear e combinação completa de vetores.\n",
        "\n",
        "<br>\n",
        "\n",
        "#### **🔗 Analogia de Data Science**  \n",
        "Imagine um canteiro de plantio:  \n",
        "- Ufuncs são ferramentas que regam todas as plantas de uma vez.  \n",
        "- Reduções são colheitas que somam todos os frutos.  \n",
        "- Acumulações são observações diárias do crescimento acumulado.  \n",
        "- Produto escalar é como pesar contrapartes de duas colheitas e comparar resultados.  \n",
        "- Outer é como cruzar cada tipo de semente com cada tipo de fertilizante para ver todas as combinações.\n",
        "\n",
        "<br>\n",
        "\n",
        "### **💻 Exemplos de Mercado (Abrangentes)**\n"
      ]
    },
    {
      "cell_type": "markdown",
      "metadata": {
        "id": "5yuV0QQT8zDg"
      },
      "source": [
        "#### **Nível Simples: Soma e Multiplicação Elemento a Elemento**\n"
      ]
    },
    {
      "cell_type": "code",
      "execution_count": null,
      "metadata": {
        "id": "gJ_CJuix8zDh"
      },
      "outputs": [],
      "source": [
        "import numpy as np\n",
        "a = np.array([1, 2, 3])\n",
        "b = np.array([4, 5, 6])\n",
        "sum_ab = a + b\n",
        "prod_ab = a * b\n",
        "print(sum_ab, prod_ab)\n"
      ]
    },
    {
      "cell_type": "code",
      "execution_count": 1,
      "metadata": {
        "id": "_tdp-5Fn8zDs",
        "colab": {
          "base_uri": "https://localhost:8080/"
        },
        "outputId": "5da6ce51-96b4-4e76-fbb4-1e9ef1bbc3a9"
      },
      "outputs": [
        {
          "output_type": "stream",
          "name": "stdout",
          "text": [
            "[5 7 9] [ 4 10 18]\n"
          ]
        }
      ],
      "source": [
        "# Pratique seu código aqui!\n",
        "\n",
        "import numpy as np\n",
        "a = np.array([1, 2, 3])\n",
        "b = np.array([4, 5, 6])\n",
        "\n",
        "sum_ab = a + b\n",
        "prod_ab = a * b\n",
        "\n",
        "print(sum_ab, prod_ab)"
      ]
    },
    {
      "cell_type": "markdown",
      "metadata": {
        "id": "Xn1tHh2F8zDt"
      },
      "source": [
        "* **O que o código faz:**  \n",
        "\n",
        "  **1) Explicação Linha a Linha (Diálogo com o Código):**  \n",
        "  ```python\n",
        "  # “Crie array [1,2,3].”  \n",
        "  a = np.array([1, 2, 3])\n",
        "\n",
        "  # “Crie array [4,5,6].”  \n",
        "  b = np.array([4, 5, 6])\n",
        "\n",
        "  # “Some elemento a elemento.”  \n",
        "  sum_ab = a + b\n",
        "\n",
        "  # “Multiplique elemento a elemento.”  \n",
        "  prod_ab = a * b\n",
        "\n",
        "  # “Mostre soma e produto.”  \n",
        "  print(sum_ab, prod_ab)\n",
        "  ```\n",
        "\n",
        "  **2) Tabela de Estados Intermediários:**\n",
        "\n",
        "  ```markdown\n",
        "  | Passo | Expressão     | Saída         | O que é?                       |\n",
        "  |:-----:|:--------------|:--------------|:-------------------------------|\n",
        "  | 1     | `a`           | `[1,2,3]`     | Primeiro array                 |\n",
        "  | 2     | `b`           | `[4,5,6]`     | Segundo array                  |\n",
        "  | 3     | `sum_ab`      | `[5,7,9]`     | Soma elemento a elemento       |\n",
        "  | 4     | `prod_ab`     | `[4,10,18]`   | Produto elemento a elemento    |\n",
        "  | 5     | –             | imprime       | Saída final                    |\n",
        "  ```\n",
        "\n",
        "  **3) Diagrama Mental (A Analogia Central):**  \n",
        "  Pense em duas fileiras de baldes: um com [1,2,3], outro com [4,5,6]. A soma emparelha e derrama a combinação; a multiplicação emparelha e multiplica o conteúdo de cada par.\n",
        "\n",
        "* **Cenário de Mercado:**  \n",
        "  - **Por que usar operações elementares:** Em processamento de imagens, adicionar ou misturar canais RGB pixel a pixel é rotina.  \n",
        "  - **Exemplo real:** Em filtros de imagem, `output = image + overlay` ajusta brilho e contraste de cada pixel simultaneamente.\n",
        "\n",
        "* **Boas Práticas:**  \n",
        "  - **Afirmação:** “Prefira ufuncs (+, *, np.add, np.multiply).”  \n",
        "    - **Porquê:** Executadas em C, são **milhares de vezes** mais rápidas que loops Python.  \n",
        "    - **Analogia:** É como regar todas as plantas de uma estufa com um canhão de água em vez de regadores manuais.\n"
      ]
    },
    {
      "cell_type": "markdown",
      "metadata": {
        "id": "7MszF_LL8zDu"
      },
      "source": [
        "#### **Nível Intermediário: Reduções e Acumulações**\n"
      ]
    },
    {
      "cell_type": "code",
      "execution_count": null,
      "metadata": {
        "id": "YwiIEcgM8zDu"
      },
      "outputs": [],
      "source": [
        "import numpy as np\n",
        "m = np.arange(12).reshape(3,4)\n",
        "col_sum = m.sum(axis=0)\n",
        "row_mean = m.mean(axis=1)\n",
        "cumsum = m.cumsum(axis=1)\n",
        "print(col_sum, row_mean, cumsum)\n"
      ]
    },
    {
      "cell_type": "code",
      "execution_count": 5,
      "metadata": {
        "id": "pGOGfBTR8zD9",
        "colab": {
          "base_uri": "https://localhost:8080/"
        },
        "outputId": "5cb3d17e-bd28-431c-f37d-9529de3c600e"
      },
      "outputs": [
        {
          "output_type": "stream",
          "name": "stdout",
          "text": [
            "[[ 0  1  2  3]\n",
            " [ 4  5  6  7]\n",
            " [ 8  9 10 11]]\n",
            "\n",
            "\n",
            "[12 15 18 21]\n",
            "\n",
            "\n",
            "[1.5 5.5 9.5]\n",
            "\n",
            "\n",
            "[[ 0  1  3  6]\n",
            " [ 4  9 15 22]\n",
            " [ 8 17 27 38]]\n"
          ]
        }
      ],
      "source": [
        "# Pratique seu código aqui!\n",
        "\n",
        "import numpy as np\n",
        "\n",
        "m = np.arange(12).reshape(3,4)\n",
        "\n",
        "col_sum = m.sum(axis=0)\n",
        "row_mean = m.mean(axis=1)\n",
        "cumsum = m.cumsum(axis=1)\n",
        "\n",
        "print(m)\n",
        "print(\"\\n\")\n",
        "print(col_sum)\n",
        "print(\"\\n\")\n",
        "print(row_mean)\n",
        "print(\"\\n\")\n",
        "print(cumsum)\n"
      ]
    },
    {
      "cell_type": "markdown",
      "metadata": {
        "id": "8gbbn9tl8zD-"
      },
      "source": [
        "* **O que o código faz:**  \n",
        "\n",
        "  **1) Explicação Linha a Linha (Diálogo com o Código):**  \n",
        "  ```python\n",
        "  # “Crie matriz 3×4 com valores 0–11.”  \n",
        "  m = np.arange(12).reshape(3,4)\n",
        "\n",
        "  # “Some cada coluna.”  \n",
        "  col_sum = m.sum(axis=0)\n",
        "\n",
        "  # “Calcule a média de cada linha.”  \n",
        "  row_mean = m.mean(axis=1)\n",
        "\n",
        "  # “Acumule soma em cada linha.”  \n",
        "  cumsum = m.cumsum(axis=1)\n",
        "\n",
        "  # “Mostre resultados.”  \n",
        "  print(col_sum, row_mean, cumsum)\n",
        "  ```\n",
        "\n",
        "  **2) Tabela de Estados Intermediários:**\n",
        "\n",
        "  ```markdown\n",
        "  | Passo      | Expressão     | Saída                                | O que faz?                   |\n",
        "  |:----------:|:--------------|:------------------------------------|:-----------------------------|\n",
        "  | 1          | `m`           | 3×4 de 0–11                          | Matriz original              |\n",
        "  | 2          | `col_sum`     | `[12,15,18,21]`                     | Soma de cada coluna          |\n",
        "  | 3          | `row_mean`    | `[1.5,5.5,9.5]`                     | Média de cada linha          |\n",
        "  | 4          | `cumsum`      | `[[0,1,3,6],[4,9,15,22],[8,17,27,38]]` | Soma acumulada por linha |\n",
        "  | 5          | –             | imprime                              | Saída final                  |\n",
        "  ```\n",
        "\n",
        "  **3) Diagrama Mental (A Analogia Central):**  \n",
        "  Imagine uma mesa com fileiras de moedas. A redução coleta todas as moedas por coluna ou calcula a média por linha. A acumulação empilha as moedas sucessivamente ao longo da linha.\n",
        "\n",
        "* **Cenário de Mercado:**  \n",
        "  - **Por que usar reduções e acumulações:** Em análise financeira, somar transações por dia (colunas) e acompanhar saldo acumulado (cumsum) é essencial para fluxo de caixa.  \n",
        "\n",
        "* **Boas Práticas:**  \n",
        "  - **Afirmação:** “Use `axis` corretamente.”  \n",
        "    - **Porquê:** Define dimensão de agregação; `axis=0` afeta colunas, `axis=1` afeta linhas.  \n",
        "    - **Analogia:** É como escolher se você soma produtos por coluna de prateleira ou por fileira de caixa.\n"
      ]
    },
    {
      "cell_type": "markdown",
      "metadata": {
        "id": "D7bNMGqo8zEA"
      },
      "source": [
        "#### **Nível Avançado: Produto Escalar e Outer**\n"
      ]
    },
    {
      "cell_type": "code",
      "execution_count": null,
      "metadata": {
        "id": "P6yYUhZ48zEB"
      },
      "outputs": [],
      "source": [
        "import numpy as np\n",
        "v1 = np.array([1,2,3])\n",
        "v2 = np.array([4,5,6])\n",
        "dot = v1 @ v2\n",
        "outer = np.multiply.outer(v1, v2)\n",
        "print(dot, outer)\n"
      ]
    },
    {
      "cell_type": "code",
      "execution_count": 6,
      "metadata": {
        "id": "ukiaSxLF8zEB",
        "colab": {
          "base_uri": "https://localhost:8080/"
        },
        "outputId": "acf5e2c3-89e1-49bc-a616-58438864fad0"
      },
      "outputs": [
        {
          "output_type": "stream",
          "name": "stdout",
          "text": [
            "32\n",
            "\n",
            "\n",
            "[[ 4  5  6]\n",
            " [ 8 10 12]\n",
            " [12 15 18]]\n"
          ]
        }
      ],
      "source": [
        "# Pratique seu código aqui!\n",
        "\n",
        "import numpy as np\n",
        "\n",
        "v1 = np.array([1,2,3])\n",
        "v2 = np.array([4,5,6])\n",
        "\n",
        "dot = v1 @ v2\n",
        "outer = np.multiply.outer(v1, v2)\n",
        "\n",
        "print(dot)\n",
        "print(\"\\n\")\n",
        "print(outer)"
      ]
    },
    {
      "cell_type": "markdown",
      "metadata": {
        "id": "TnZ_S7ZM8zEC"
      },
      "source": [
        "* **O que o código faz:**  \n",
        "\n",
        "  **1) Explicação Linha a Linha (Diálogo com o Código):**  \n",
        "  ```python\n",
        "  # “Crie vetor [1,2,3].”  \n",
        "  v1 = np.array([1,2,3])\n",
        "\n",
        "  # “Crie vetor [4,5,6].”  \n",
        "  v2 = np.array([4,5,6])\n",
        "\n",
        "  # “Calcule produto escalar.”  \n",
        "  dot = v1 @ v2\n",
        "\n",
        "  # “Calcule produto outer (todas combinações).”  \n",
        "  outer = np.multiply.outer(v1, v2)\n",
        "\n",
        "  # “Mostre resultados.”  \n",
        "  print(dot, outer)\n",
        "  ```\n",
        "\n",
        "  **2) Tabela de Estados Intermediários:**\n",
        "\n",
        "  ```markdown\n",
        "  | Passo | Expressão                  | Saída                  | O que faz?                          |\n",
        "  |:-----:|:---------------------------|:-----------------------|:------------------------------------|\n",
        "  | 1     | `v1`                       | `[1,2,3]`              | Primeiro vetor                      |\n",
        "  | 2     | `v2`                       | `[4,5,6]`              | Segundo vetor                       |\n",
        "  | 3     | `dot`                      | `32`                   | Soma dos produtos correspondentes    |\n",
        "  | 4     | `outer`                    | Matriz 3×3             | Combinações multiplicativas completas|\n",
        "  | 5     | –                          | imprime                | Saída final                         |\n",
        "  ```\n",
        "\n",
        "  **3) Diagrama Mental (A Analogia Central):**  \n",
        "  Produto escalar é como comparar listas de compras e somar custos pareados; outer é experimentar cada item da lista A com cada item da lista B.\n",
        "\n",
        "* **Cenário de Mercado:**  \n",
        "  - **Por que usar dot e outer:** Em recomendação, dot entre vetores de features mede similaridade; outer combina parâmetros de modelo e inputs para análise de sensibilidade.  \n",
        "\n",
        "* **Boas Práticas:**  \n",
        "  - **Afirmação:** “Use `@` para dot e `outer` para combinações.”  \n",
        "    - **Porquê:** Sintaxe clara e performance otimizada por BLAS/C.  \n",
        "    - **Analogia:** É como usar ferramentas especializadas: martelo para pregos, furadeira para parafusos.\n"
      ]
    },
    {
      "cell_type": "markdown",
      "metadata": {
        "id": "5l9I4j3E8zEC"
      },
      "source": [
        "#### **Nível DEUS (1/3): Ufuncs Personalizadas e Reduções Avançadas**\n"
      ]
    },
    {
      "cell_type": "code",
      "execution_count": null,
      "metadata": {
        "id": "xNX6KVdf8zEC"
      },
      "outputs": [],
      "source": [
        "import numpy as np\n",
        "data = np.random.randint(1,100, size=(5,5))\n",
        "prod = np.prod(data, axis=1)\n",
        "max_min = np.max(data, axis=0) - np.min(data, axis=0)\n",
        "print(prod, max_min)\n"
      ]
    },
    {
      "cell_type": "code",
      "execution_count": 7,
      "metadata": {
        "id": "XrIRbKA48zED",
        "colab": {
          "base_uri": "https://localhost:8080/"
        },
        "outputId": "f06406ee-93fb-4d28-c24a-a98779e0047b"
      },
      "outputs": [
        {
          "output_type": "stream",
          "name": "stdout",
          "text": [
            "[39501000  7750080 36337500 12577488 46516464] [97 74 42 64 36]\n"
          ]
        }
      ],
      "source": [
        "# Pratique seu código aqui!\n",
        "\n",
        "import numpy as np\n",
        "data = np.random.randint(1,100, size=(5,5))\n",
        "prod = np.prod(data, axis=1)\n",
        "max_min = np.max(data, axis=0) - np.min(data, axis=0)\n",
        "print(prod, max_min)\n"
      ]
    },
    {
      "cell_type": "markdown",
      "metadata": {
        "id": "TEIMGQ4G8zEE"
      },
      "source": [
        "* **O que o código faz:**  \n",
        "\n",
        "  **1) Explicação Linha a Linha (Diálogo com o Código):**  \n",
        "  ```python\n",
        "  # “Gere matriz 5×5 de inteiros aleatórios 1–99.”  \n",
        "  data = np.random.randint(1,100, size=(5,5))\n",
        "\n",
        "  # “Multiplique elementos de cada linha.”  \n",
        "  prod = np.prod(data, axis=1)\n",
        "\n",
        "  # “Calcule diferença entre max e min de cada coluna.”  \n",
        "  max_min = np.max(data, axis=0) - np.min(data, axis=0)\n",
        "\n",
        "  # “Mostre produto e variação.”  \n",
        "  print(prod, max_min)\n",
        "  ```\n",
        "\n",
        "  **2) Tabela de Estados Intermediários:**\n",
        "\n",
        "  ```markdown\n",
        "  | Passo  | Expressão          | Saída              | O que faz?                     |\n",
        "  |:------:|:-------------------|:-------------------|:-------------------------------|\n",
        "  | 1      | `data`             | 5×5 int            | Matriz de entrada              |\n",
        "  | 2      | `prod`             | vetor length-5     | Produto de cada linha          |\n",
        "  | 3      | `max_min`          | vetor length-5     | Diferença max-min por coluna   |\n",
        "  | 4      | –                  | imprime            | Saída final                    |\n",
        "  ```\n",
        "\n",
        "  **3) Diagrama Mental (A Analogia Central):**  \n",
        "  Pense em cinco hastes de contas; cada haste multiplica suas contas, e colunas medem amplitude entre a conta maior e menor.\n",
        "\n",
        "* **Cenário de Mercado:**  \n",
        "  - **Por que usar funções de produto e range:** Em análise de risco, calcula-se produto de probabilidades por evento e variação de métricas entre sensores.  \n",
        "\n",
        "* **Boas Práticas:**  \n",
        "  - **Afirmação:** “Use `axis` para dimensão correta.”  \n",
        "    - **Porquê:** Evita agregações indesejadas.  \n",
        "    - **Analogia:** É como escolher se você agrupa produtos por prateleira ou por corredor.\n"
      ]
    },
    {
      "cell_type": "markdown",
      "metadata": {
        "id": "UhGDAEDG8zEG"
      },
      "source": [
        "#### **Nível DEUS (2/3): Acumulações e Ufuncs de Nível Técnico**\n"
      ]
    },
    {
      "cell_type": "code",
      "execution_count": null,
      "metadata": {
        "id": "KzTP-W_g8zEG"
      },
      "outputs": [],
      "source": [
        "import numpy as np\n",
        "v = np.arange(1,6)\n",
        "cumsum = np.add.accumulate(v)\n",
        "cumprod = np.multiply.accumulate(v)\n",
        "print(cumsum, cumprod)\n"
      ]
    },
    {
      "cell_type": "code",
      "execution_count": 8,
      "metadata": {
        "id": "QrDkjR3s8zEG",
        "colab": {
          "base_uri": "https://localhost:8080/"
        },
        "outputId": "aa5f016d-5903-49ca-964b-11871abc122a"
      },
      "outputs": [
        {
          "output_type": "stream",
          "name": "stdout",
          "text": [
            "[1 2 3 4 5]\n",
            "\n",
            "\n",
            "[ 1  3  6 10 15]\n",
            "\n",
            "\n",
            "[  1   2   6  24 120]\n"
          ]
        }
      ],
      "source": [
        "# Pratique seu código aqui!\n",
        "\n",
        "import numpy as np\n",
        "v = np.arange(1,6)\n",
        "print(v)\n",
        "cumsum = np.add.accumulate(v)\n",
        "cumprod = np.multiply.accumulate(v)\n",
        "print(\"\\n\")\n",
        "print(cumsum)\n",
        "print(\"\\n\")\n",
        "print(cumprod)"
      ]
    },
    {
      "cell_type": "markdown",
      "metadata": {
        "id": "tUTgZ0Xl8zEH"
      },
      "source": [
        "* **O que o código faz:**  \n",
        "\n",
        "  **1) Explicação Linha a Linha (Diálogo com o Código):**  \n",
        "  ```python\n",
        "  # “Crie vetor 1–5.”  \n",
        "  v = np.arange(1,6)\n",
        "\n",
        "  # “Acumule soma.”  \n",
        "  cumsum = np.add.accumulate(v)\n",
        "\n",
        "  # “Acumule produto.”  \n",
        "  cumprod = np.multiply.accumulate(v)\n",
        "\n",
        "  # “Mostre resultados.”  \n",
        "  print(cumsum, cumprod)\n",
        "  ```\n",
        "\n",
        "  **2) Tabela de Estados Intermediários:**\n",
        "\n",
        "  ```markdown\n",
        "  | Passo   | Expressão             | Saída             | O que faz?                  |\n",
        "  |:-------:|:----------------------|:------------------|:----------------------------|\n",
        "  | 1       | `v`                   | `[1,2,3,4,5]`     | Vetor original              |\n",
        "  | 2       | `cumsum`              | `[1,3,6,10,15]`   | Soma acumulada              |\n",
        "  | 3       | `cumprod`             | `[1,2,6,24,120]`  | Produto acumulado           |\n",
        "  | 4       | –                     | imprime           | Saída final                 |\n",
        "  ```\n",
        "\n",
        "  **3) Diagrama Mental (A Analogia Central):**  \n",
        "  É como anotar passo a passo o total acumulado e o produto acumulado de receitas diárias.\n",
        "\n",
        "* **Cenário de Mercado:**  \n",
        "  - **Por que usar accumulates:** Em simulações financeiras, acumulamos rendimentos diários para entender crescimento ao longo do tempo.  \n",
        "\n",
        "* **Boas Práticas:**  \n",
        "  - **Afirmação:** “Escolha ufuncs vs métodos de alto nível.”  \n",
        "    - **Porquê:** Métodos específicos (`accumulate`) oferecem performance e controle de eixos.  \n",
        "    - **Analogia:** É como usar receita passo a passo ou um pacote pronto de misturas.\n"
      ]
    },
    {
      "cell_type": "markdown",
      "metadata": {
        "id": "sQYE0TKM8zEH"
      },
      "source": [
        "#### **Nível DEUS (3/3): Combinações com Outer e Meshgrid**\n"
      ]
    },
    {
      "cell_type": "code",
      "execution_count": null,
      "metadata": {
        "id": "ZnBk-Rcg8zEI"
      },
      "outputs": [],
      "source": [
        "import numpy as np\n",
        "x = np.arange(1,5)\n",
        "y = np.arange(1,4)\n",
        "grid = np.multiply.outer(x, y)\n",
        "print(grid)\n"
      ]
    },
    {
      "cell_type": "code",
      "execution_count": 9,
      "metadata": {
        "id": "hG3awLOV8zEJ",
        "colab": {
          "base_uri": "https://localhost:8080/"
        },
        "outputId": "0301c093-2331-4333-bb3d-ebae02e33aec"
      },
      "outputs": [
        {
          "output_type": "stream",
          "name": "stdout",
          "text": [
            "[1 2 3 4]\n",
            "\n",
            "\n",
            "[1 2 3]\n",
            "\n",
            "\n",
            "[[ 1  2  3]\n",
            " [ 2  4  6]\n",
            " [ 3  6  9]\n",
            " [ 4  8 12]]\n"
          ]
        }
      ],
      "source": [
        "# Pratique seu código aqui!\n",
        "\n",
        "import numpy as np\n",
        "x = np.arange(1,5)\n",
        "y = np.arange(1,4)\n",
        "print(x)\n",
        "print(\"\\n\")\n",
        "print(y)\n",
        "print(\"\\n\")\n",
        "print(np.multiply.outer(x, y))\n"
      ]
    },
    {
      "cell_type": "markdown",
      "metadata": {
        "id": "SyF9rA5B8zEJ"
      },
      "source": [
        "* **O que o código faz:**  \n",
        "\n",
        "  **1) Explicação Linha a Linha (Diálogo com o Código):**  \n",
        "  ```python\n",
        "  # “Crie vetor 1–4.”  \n",
        "  x = np.arange(1,5)\n",
        "\n",
        "  # “Crie vetor 1–3.”  \n",
        "  y = np.arange(1,4)\n",
        "\n",
        "  # “Calcule todas as multiplicações cruzadas.”  \n",
        "  grid = np.multiply.outer(x, y)\n",
        "\n",
        "  # “Mostre a grade resultante.”  \n",
        "  print(grid)\n",
        "  ```\n",
        "\n",
        "  **2) Tabela de Estados Intermediários:**\n",
        "\n",
        "  ```markdown\n",
        "  | Passo | Expressão             | Saída            | O que faz?                        |\n",
        "  |:-----:|:----------------------|:-----------------|:----------------------------------|\n",
        "  | 1     | `x`                   | `[1,2,3,4]`      | Primeiro vetor                    |\n",
        "  | 2     | `y`                   | `[1,2,3]`        | Segundo vetor                     |\n",
        "  | 3     | `grid`                | 4×3 matriz       | Combinação completa multiplicada  |\n",
        "  | 4     | –                     | imprime          | Saída final                       |\n",
        "  ```\n",
        "\n",
        "  **3) Diagrama Mental (A Analogia Central):**  \n",
        "  É como montar todos os pares possíveis de camisas e calças de um armário, gerando uma tabela completa de combinações.\n",
        "\n",
        "* **Cenário de Mercado:**  \n",
        "  - **Por que usar outer:** Em otimização de hiperparâmetros, testamos todas combinações de parâmetros para encontrar a melhor configuração.  \n",
        "\n",
        "* **Boas Práticas:**  \n",
        "  - **Afirmação:** “Use `outer` para grids de pesquisa.”  \n",
        "    - **Porquê:** Evita loops aninhados e traz consistência de dados.  \n",
        "    - **Analogia:** É como usar uma planilha para enumerar combinações em vez de anotar manualmente.\n"
      ]
    },
    {
      "cell_type": "markdown",
      "metadata": {
        "id": "le4iwCCh8zEJ"
      },
      "source": [
        "### 3. 🕸️ Profundezas e Conexões\n",
        "\n",
        "<br>\n",
        "\n",
        "Operações com arrays NumPy sustentam **pandas**, **scikit-learn** e frameworks de deep learning. Dominar ufuncs, reduções e produtos é vital para performance em modelos de machine learning e análises científicas.\n",
        "\n",
        "<br>\n",
        "\n",
        "---\n",
        "<br>\n"
      ]
    },
    {
      "cell_type": "markdown",
      "metadata": {
        "id": "Qk9zCnwC8zEJ"
      },
      "source": [
        "### 4. 🚀 Ação e Verificação\n",
        "\n",
        "<br>\n",
        "\n",
        "#### **🤔 Desafio Prático**\n",
        "1. Dado `arr = np.random.randint(1,20,size=(4,4))`, compute soma total, média por linha e vetor de máximos por coluna.  \n",
        "2. Crie vetor `v = np.linspace(0,1,6)` e calcule `np.add.accumulate(v)`.  \n",
        "3. Resolva produto escalar e outer para vetores `[1,0,1]` e `[2,3,4]`.  \n",
        "4. Use `np.where` para substituir valores pares de `arr` por `-1`.  \n",
        "5. Gere grade 5×5 com `np.multiply.outer` de vetores `1–5` e `6–10`.\n",
        "\n",
        "<br>\n",
        "\n",
        "#### **❓ Pergunta de Verificação**\n",
        "Por que ufuncs e reduções superam loops Python e como o alinhamento de memória (C-contíguo vs Fortran-contíguo) influencia a performance?\n",
        "\n",
        "<br>\n",
        "\n",
        "---\n",
        "<br>\n"
      ]
    },
    {
      "cell_type": "markdown",
      "source": [
        "### **Resposta Rápida**\n",
        "\n",
        "**Ufuncs** e **reduções** (como `sum`, `mean`) superam loops em Python porque operam direto em **nível C**, com execução **vetorizada e paralelizada**. O **alinhamento de memória** (C-contíguo vs Fortran-contíguo) afeta a **eficiência do acesso sequencial**, impactando diretamente a performance dessas operações.\n",
        "\n",
        "---\n",
        "\n",
        "### **Analogia do Dia**\n",
        "\n",
        "Imagine que você quer **somar todos os valores de uma planilha**.\n",
        "Com `for`, é como usar uma **calculadora linha por linha**.\n",
        "Com `ufuncs`, você chama um **robô industrial** que lê a planilha inteira de uma vez — **muito mais rápido** se os dados estiverem bem **organizados em linha ou em coluna**, como o robô espera.\n",
        "\n",
        "---\n",
        "\n",
        "### **Análise Técnica Detalhada**\n",
        "\n",
        "---\n",
        "\n",
        "#### 🧠 1. O que são **ufuncs** (universal functions)\n",
        "\n",
        "```python\n",
        "import numpy as np\n",
        "a = np.array([1, 2, 3, 4])\n",
        "b = np.array([10, 20, 30, 40])\n",
        "\n",
        "c = a + b         # ufunc vetorizada: np.add(a, b)\n",
        "d = np.sqrt(c)    # ufunc unária: np.sqrt(c)\n",
        "```\n",
        "\n",
        "* Ufuncs são **funções elementares otimizadas** da NumPy\n",
        "* Escritas em **C**, são:\n",
        "\n",
        "  * **rapidamente aplicadas** a arrays inteiros\n",
        "  * **paralelizadas** em alguns casos\n",
        "  * Sem laços Python = sem overhead\n",
        "\n",
        "---\n",
        "\n",
        "#### 📉 2. O que são **reduções**\n",
        "\n",
        "```python\n",
        "a = np.arange(1_000_000)\n",
        "\n",
        "soma = a.sum()     # np.sum(a)\n",
        "media = a.mean()   # np.mean(a)\n",
        "```\n",
        "\n",
        "* Reduções são **operações agregadoras**\n",
        "* Internamente, são feitas com **blocos de memória contígua**\n",
        "* **Muito mais rápidas** que:\n",
        "\n",
        "```python\n",
        "total = 0\n",
        "for x in a:\n",
        "    total += x\n",
        "```\n",
        "\n",
        "---\n",
        "\n",
        "#### ⚙️ 3. Impacto do **layout de memória**\n",
        "\n",
        "```python\n",
        "a = np.ones((10000, 100), order=\"C\")  # linha por linha\n",
        "b = np.ones((10000, 100), order=\"F\")  # coluna por coluna\n",
        "```\n",
        "\n",
        "* **C-contíguo** (row-major): ideal para reduções por linha (eixo 1)\n",
        "* **Fortran-contíguo** (column-major): ideal para reduções por coluna (eixo 0)\n",
        "\n",
        "🔁 Se os dados não estiverem no layout correto:\n",
        "\n",
        "* Ufuncs e reduções **ainda funcionam**, mas\n",
        "* NumPy pode ter que **realocar ou reordenar** internamente (mais lento!)\n",
        "\n",
        "---\n",
        "\n",
        "### **Nota de Rodapé para Novatos**\n",
        "\n",
        "* **Ufunc (universal function)**: Função NumPy otimizada para operar em arrays inteiros.\n",
        "* **Redução**: Operação que **resume** um array (como soma, média, máx).\n",
        "* **Overhead**: Tempo/memória extra que Python consome com loops.\n",
        "* **C-contíguo**: Dados armazenados linha por linha.\n",
        "* **Fortran-contíguo**: Dados armazenados coluna por coluna.\n",
        "* **`order=\"C\"` / `\"F\"`**: Define o layout ao criar arrays NumPy.\n",
        "\n",
        "---\n",
        "\n",
        "### **Aplicação Prática e Boas Práticas**\n",
        "\n",
        "✅ Use ufuncs e reduções para:\n",
        "\n",
        "* Cálculos estatísticos: `np.mean`, `np.std`, `np.max`\n",
        "* Operações elementares: `np.exp`, `np.log`, `np.clip`, etc.\n",
        "* **Substituir loops** e acelerar pipelines de dados\n",
        "\n",
        "💡 Boas práticas:\n",
        "\n",
        "* Verifique se o array é contíguo com:\n",
        "\n",
        "```python\n",
        "a.flags['C_CONTIGUOUS']  # ou 'F_CONTIGUOUS'\n",
        "```\n",
        "\n",
        "* Use `np.ascontiguousarray()` se precisar forçar otimização:\n",
        "\n",
        "```python\n",
        "a = np.ascontiguousarray(a)\n",
        "```\n",
        "\n",
        "⚡ Em ML/DL:\n",
        "\n",
        "* Operações com `np.dot`, `@`, `np.matmul` e `np.sum(axis=...)` são **cruciais**\n",
        "* Bibliotecas como **TensorFlow e PyTorch** se baseiam nessas ideias\n",
        "\n",
        "---\n",
        "\n",
        "### **Resumo da Lição**\n",
        "\n",
        "**Ufuncs e reduções eliminam loops Python**, operando de forma vetorizada e ultraeficiente. Para extrair **o máximo de performance**, é essencial que o **layout de memória esteja alinhado** ao tipo de operação — um detalhe que pode fazer toda a diferença em grandes datasets.\n",
        "\n",
        "---\n",
        "\n",
        "Se quiser, posso mostrar um comparativo de tempo real entre `for` e `np.sum()`. Quer ver na prática a diferença brutal? 🕒⚡\n"
      ],
      "metadata": {
        "id": "aYyZZANeelKy"
      }
    },
    {
      "cell_type": "code",
      "source": [],
      "metadata": {
        "id": "AtI3Iqqpemtr"
      },
      "execution_count": null,
      "outputs": []
    }
  ]
}