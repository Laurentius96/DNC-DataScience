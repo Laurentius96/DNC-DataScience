{
  "nbformat": 4,
  "nbformat_minor": 0,
  "metadata": {
    "colab": {
      "provenance": []
    },
    "language_info": {
      "name": "python"
    },
    "kernelspec": {
      "name": "python3",
      "display_name": "Python 3"
    }
  },
  "cells": [
    {
      "metadata": {
        "id": "uwdMHfIErhfE"
      },
      "source": [
        "## 🎓 **Aula sobre: Escrevendo em Arquivos JSON em Python**\n",
        "\n",
        " <br>\n",
        "\n",
        "### 🧭 Sumário da Aula\n",
        "\n",
        "| # | Sub-tópico                      | Tempo Estimado | Complexidade |\n",
        "|---|---------------------------------|----------------|--------------|\n",
        "| 1 | Ficha de Revisão Rápida         | ~1 min         | ⭐           |\n",
        "| 2 | Mergulho Profundo               | ~15 min        | ⭐⭐⭐⭐       |\n",
        "| 3 | Profundezas e Conexões          | ~3 min         | ⭐⭐         |\n",
        "| 4 | Ação e Verificação              | ~5 min         | ⭐⭐         |\n",
        "| 5 | Mergulhos Adicionais            | Opcional      | ⭐⭐⭐⭐      |\n",
        "\n",
        " <br>\n",
        "\n",
        "---\n",
        " <br>\n"
      ],
      "cell_type": "markdown"
    },
    {
      "metadata": {
        "id": "GsL9gMnfrhfI"
      },
      "source": [
        "### 1. 🧠 Ficha de Revisão Rápida | (O Essencial)\n",
        "\n",
        " <br>\n",
        "\n",
        "> Para escrever objetos Python em JSON, use o módulo `json`:  \n",
        "> - `json.dump(obj, f, **kwargs)` grava diretamente em arquivo.  \n",
        "> - `json.dumps(obj, **kwargs)` retorna string JSON.  \n",
        "> - Parâmetros úteis: `indent=`, `ensure_ascii=`, `sort_keys=`, `default=` para objetos não serializáveis.  \n",
        "> - Abra o arquivo em modo texto (`'w'`) e use `with` para fechar automaticamente.\n"
      ],
      "cell_type": "markdown"
    },
    {
      "metadata": {
        "id": "WqcKPxaYrhfJ"
      },
      "source": [
        "### 2. 🔬 Mergulho Profundo | (Os Detalhes)\n",
        "\n",
        " <br>\n",
        "\n",
        "#### **🎯 O Conceito Central**  \n",
        "Quando você chama `json.dump()`, o encoder percorre seu objeto, converte em texto JSON e escreve no buffer do arquivo.  \n",
        "- `indent=n` formata com n espaços para maior legibilidade.  \n",
        "- `ensure_ascii=False` mantém caracteres Unicode legíveis.  \n",
        "- `sort_keys=True` ordena chaves alfabeticamente.  \n",
        "- `default=func` trata tipos personalizados (ex: datas), retornando um objeto serializável.\n",
        "\n",
        " <br>\n",
        "\n",
        "#### **🔗 Analogia de Data Science**  \n",
        "Ao exportar resultados ou modelos, você gera JSON legível para humanos (logs de experimento) ou compacto (configurações de produção), ajustando indentação e encoding conforme o uso.\n"
      ],
      "cell_type": "markdown"
    },
    {
      "metadata": {
        "id": "t58SjgVXrhfJ"
      },
      "source": [
        "### **💻 Exemplos de Mercado (Abrangentes)**\n",
        "\n",
        "#### **Nível Simples: Dump de um dicionário**\n"
      ],
      "cell_type": "markdown"
    },
    {
      "metadata": {
        "id": "HyjfyJDwrhfJ"
      },
      "source": [
        "import json\n",
        "\n",
        "config = {\"host\": \"localhost\", \"port\": 8080, \"debug\": True}\n",
        "with open(\"config.json\", \"w\", encoding=\"utf-8\") as f:\n",
        "    json.dump(config, f)\n"
      ],
      "cell_type": "code",
      "execution_count": null,
      "outputs": []
    },
    {
      "metadata": {
        "colab": {
          "base_uri": "https://localhost:8080/"
        },
        "id": "xRnJc6PWrhfK",
        "outputId": "2868e09e-177a-4d7d-d35e-194ec185f91a"
      },
      "source": [
        "# Pratique seu código aqui!\n",
        "\n",
        "import json\n",
        "\n",
        "config = {\"host\": \"localhost\", \"port\": 8080, \"debug\": True}\n",
        "with open(\"config.json\", \"w\", encoding=\"utf-8\") as f:\n",
        "    json.dump(config, f)\n"
      ],
      "cell_type": "code",
      "execution_count": 2,
      "outputs": [
        {
          "output_type": "execute_result",
          "data": {
            "text/plain": [
              "{'host': 'localhost', 'port': 8080, 'debug': True}"
            ]
          },
          "metadata": {},
          "execution_count": 2
        }
      ]
    },
    {
      "metadata": {
        "id": "JT9nULQUrhfL"
      },
      "source": [
        "*   **O que o código faz:** Cria/abre `config.json` e grava o dicionário sem formatação extra.  \n",
        "*   **Cenário de Mercado:** Armazenar configurações de serviço de forma compacta.\n"
      ],
      "cell_type": "markdown"
    },
    {
      "metadata": {
        "id": "wx0uJUzIrhfL"
      },
      "source": [
        "#### **Nível Intermediário: Pretty-print com `indent` e `ensure_ascii`**\n"
      ],
      "cell_type": "markdown"
    },
    {
      "metadata": {
        "id": "9zHmnWH1rhfL"
      },
      "source": [
        "import json\n",
        "\n",
        "usuarios = [{\"nome\": \"Ana\", \"idade\": 30}, {\"nome\": \"Bruno\", \"idade\": 25}]\n",
        "with open(\"usuarios.json\", \"w\", encoding=\"utf-8\") as f:\n",
        "    json.dump(usuarios, f, indent=2, ensure_ascii=False)\n"
      ],
      "cell_type": "code",
      "execution_count": null,
      "outputs": []
    },
    {
      "metadata": {
        "id": "hv83Pg89rhfL"
      },
      "source": [
        "# Pratique seu código aqui!\n",
        "\n",
        "import json\n",
        "\n",
        "usuarios = [{\"nome\": \"Ana\", \"idade\": 30}, {\"nome\": \"Bruno\", \"idade\": 25}]\n",
        "with open(\"usuarios.json\", \"w\", encoding=\"utf-8\") as f:\n",
        "    json.dump(usuarios, f, indent=2, ensure_ascii=False)"
      ],
      "cell_type": "code",
      "execution_count": 5,
      "outputs": []
    },
    {
      "metadata": {
        "id": "ckGTLccyrhfM"
      },
      "source": [
        "*   **O que o código faz:** Formata JSON com recuos e mantém acentos.  \n",
        "*   **Cenário de Mercado:** Exportar relatórios ou payloads legíveis para revisão manual.\n"
      ],
      "cell_type": "markdown"
    },
    {
      "metadata": {
        "id": "zPR2QUS7rhfM"
      },
      "source": [
        "#### **Nível Avançado: Salvando lista de produtos**\n"
      ],
      "cell_type": "markdown"
    },
    {
      "metadata": {
        "id": "Jipr5LN7rhfM"
      },
      "source": [
        "import json\n",
        "\n",
        "produtos = [\n",
        "    {\"id\": 1, \"nome\": \"Caneta\", \"preco\": 2.5},\n",
        "    {\"id\": 2, \"nome\": \"Caderno\", \"preco\": 15.0}\n",
        "]\n",
        "with open(\"produtos.json\", \"w\", encoding=\"utf-8\") as f:\n",
        "    json.dump(produtos, f, indent=4, sort_keys=True)\n"
      ],
      "cell_type": "code",
      "execution_count": null,
      "outputs": []
    },
    {
      "metadata": {
        "id": "JbJxXbx9rhfM"
      },
      "source": [
        "# Pratique seu código aqui!\n",
        "import json\n",
        "\n",
        "produtos = [\n",
        "    {\"id\": 1, \"nome\": \"Caneta\", \"preco\": 2.5},\n",
        "    {\"id\": 2, \"nome\": \"Caderno\", \"preco\": 15.0}\n",
        "]\n",
        "\n",
        "with open(\"produtos.json\", \"w\", encoding=\"utf-8\") as f:\n",
        "  json.dump(produtos, f, indent=4, sort_keys=True)"
      ],
      "cell_type": "code",
      "execution_count": 6,
      "outputs": []
    },
    {
      "metadata": {
        "id": "IvEBSercrhfM"
      },
      "source": [
        "*   **O que o código faz:** Ordena chaves e recua com 4 espaços.  \n",
        "*   **Cenário de Mercado:** Catálogo de produtos para API ou frontend.\n"
      ],
      "cell_type": "markdown"
    },
    {
      "metadata": {
        "id": "N4O4SpdQrhfM"
      },
      "source": [
        "#### **Nível DEUS (1/3): Serializando objetos customizados**\n"
      ],
      "cell_type": "markdown"
    },
    {
      "metadata": {
        "id": "A41ITKJXrhfN"
      },
      "source": [
        "import json\n",
        "import datetime\n",
        "\n",
        "class Pedido:\n",
        "    def __init__(self, id, data):\n",
        "        self.id = id\n",
        "        self.data = data\n",
        "\n",
        "def encoder(obj):\n",
        "    if isinstance(obj, Pedido):\n",
        "        return {\"id\": obj.id, \"data\": obj.data.isoformat()}\n",
        "    raise TypeError\n",
        "\n",
        "ped = Pedido(123, datetime.date.today())\n",
        "with open(\"pedido.json\", \"w\", encoding=\"utf-8\") as f:\n",
        "    json.dump(ped, f, default=encoder, indent=2)\n"
      ],
      "cell_type": "code",
      "execution_count": null,
      "outputs": []
    },
    {
      "metadata": {
        "id": "sZzc5ltmrhfN"
      },
      "source": [
        "# Pratique seu código aqui!\n",
        "\n",
        "import json\n",
        "import datetime\n",
        "\n",
        "class Pedido:\n",
        "  def __init__(self, id, data):\n",
        "    self.id = id\n",
        "    self.data = data\n",
        "\n",
        "def encoder(obj):\n",
        "  if isinstance(obj, Pedido):\n",
        "    return {\"id\": obj.id, \"data\": obj.data.isoformat()}\n",
        "  raise TypeError\n",
        "\n",
        "ped = Pedido(123, datetime.date.today())\n",
        "with open(\"pedido.json\", \"w\", encoding = \"utf-8\") as f:\n",
        "  json.dump(ped, f, default=encoder, indent=2)\n",
        "\n"
      ],
      "cell_type": "code",
      "execution_count": 9,
      "outputs": []
    },
    {
      "metadata": {
        "id": "yOBghU_drhfN"
      },
      "source": [
        "*   **O que o código faz:** Converte instância de classe em dict via função `default`.  \n",
        "*   **Cenário de Mercado:** Exportar modelos ou datas em APIs REST.\n"
      ],
      "cell_type": "markdown"
    },
    {
      "metadata": {
        "id": "otRtQyutrhfN"
      },
      "source": [
        "#### **Nível DEUS (2/3): Gerando JSONL (JSON Lines)**\n"
      ],
      "cell_type": "markdown"
    },
    {
      "metadata": {
        "id": "jL3ouXDdrhfN"
      },
      "source": [
        "import json\n",
        "\n",
        "with open(\"logs.jsonl\", \"w\", encoding=\"utf-8\") as f:\n",
        "    for entry in eventos:  # lista de dicionários\n",
        "        f.write(json.dumps(entry) + \"\\n\")\n"
      ],
      "cell_type": "code",
      "execution_count": null,
      "outputs": []
    },
    {
      "metadata": {
        "id": "C92K6BQgrhfN"
      },
      "source": [
        "# Pratique seu código aqui!\n",
        "\n",
        "import json\n",
        "\n",
        "# Sample data - replace with your actual list of dictionaries\n",
        "eventos = [\n",
        "    {\"timestamp\": \"2023-10-27T10:00:00Z\", \"level\": \"INFO\", \"message\": \"Process started\"},\n",
        "    {\"timestamp\": \"2023-10-27T10:01:00Z\", \"level\": \"ERROR\", \"message\": \"Failed to connect to database\"},\n",
        "    {\"timestamp\": \"2023-10-27T10:05:00Z\", \"level\": \"INFO\", \"message\": \"Process finished\"}\n",
        "]\n",
        "\n",
        "with open(\"logs.jsonl\", \"w\", encoding=\"utf-8\") as f:\n",
        "    for entry in eventos:\n",
        "        f.write(json.dumps(entry) + \"\\n\")"
      ],
      "cell_type": "code",
      "execution_count": 13,
      "outputs": []
    },
    {
      "metadata": {
        "id": "affYt2PdrhfN"
      },
      "source": [
        "*   **O que o código faz:** Escreve cada objeto JSON em linha separada.  \n",
        "*   **Cenário de Mercado:** Logs de evento ou grandes dumps de dados para streaming.\n"
      ],
      "cell_type": "markdown"
    },
    {
      "metadata": {
        "id": "-hoRYJ8ErhfN"
      },
      "source": [
        "#### **Nível DEUS (3/3): Escrita incremental com `JSONEncoder.iterencode`**\n"
      ],
      "cell_type": "markdown"
    },
    {
      "metadata": {
        "id": "Fxn0qbQZrhfO"
      },
      "source": [
        "import json\n",
        "\n",
        "encoder = json.JSONEncoder(indent=2)\n",
        "with open(\"grande.json\", \"w\", encoding=\"utf-8\") as f:\n",
        "    f.write(\"[\\n\")\n",
        "    for i, obj in enumerate(grande_lista):\n",
        "        text = encoder.iterencode(obj)\n",
        "        chunk = \"\".join(text)\n",
        "        f.write(chunk + (\",\" if i < len(grande_lista)-1 else \"\") + \"\\n\")\n",
        "    f.write(\"]\\n\")\n"
      ],
      "cell_type": "code",
      "execution_count": null,
      "outputs": []
    },
    {
      "metadata": {
        "id": "lE0jQ9s6rhfO"
      },
      "source": [
        "# Pratique seu código aqui!\n",
        "\n",
        "import json\n",
        "\n",
        "# Sample data - replace with your actual large list of dictionaries\n",
        "grande_lista = [\n",
        "    {\"item\": f\"item_{i}\", \"value\": i*10} for i in range(100)\n",
        "]\n",
        "\n",
        "encoder = json.JSONEncoder(indent=2)\n",
        "with open(\"grande.json\", \"w\", encoding=\"utf-8\") as f:\n",
        "  f.write(\"[\\n\")\n",
        "  for i, obj in enumerate(grande_lista):\n",
        "    text = encoder.iterencode(obj)\n",
        "    chunk = \"\".join(text)\n",
        "    f.write(chunk + (\",\" if i < len(grande_lista)-1 else \"\") + \"\\n\")\n",
        "  f.write(\"]\\n\")"
      ],
      "cell_type": "code",
      "execution_count": 15,
      "outputs": []
    },
    {
      "metadata": {
        "id": "6wDZeQ4yrhfO"
      },
      "source": [
        "*   **O que o código faz:** Gera JSON grande sem carregar tudo em memória de uma vez.  \n",
        "*   **Cenário de Mercado:** Exportação de milhões de registros de forma controlada.\n"
      ],
      "cell_type": "markdown"
    },
    {
      "metadata": {
        "id": "ZAA0KeFPrhfO"
      },
      "source": [
        "### 3. 🕸️ Profundezas e Conexões\n",
        "\n",
        " <br>\n",
        "\n",
        "Escrita de JSON se integra a **logging** (handlers de arquivo JSON), **pathlib** para gerenciamento de paths, e **frameworks** (FastAPI `response_model`). Bibliotecas de alto desempenho (`orjson`, `ujson`) aceleram dump e loads em produção.\n",
        "\n",
        " <br>\n",
        "\n",
        "---\n",
        " <br>\n"
      ],
      "cell_type": "markdown"
    },
    {
      "metadata": {
        "id": "lMxThejwrhfO"
      },
      "source": [
        "### 4. 🚀 Ação e Verificação\n",
        "\n",
        " <br>\n",
        "\n",
        "#### **🤔 Desafio Prático**\n",
        "1. Salve um dicionário de configuração em `config.json` com `indent=4`.  \n",
        "2. Exporte uma lista de produtos em `produtos.jsonl`, escrevendo uma linha por produto.  \n",
        "3. Implemente um encoder customizado para salvar objetos `datetime`.  \n",
        "4. Escreva uma função que receba um generator e grave em `dados.json` incrementalmente.  \n",
        "5. Compare o tempo de escrita entre `json.dump` padrão e `orjson.dumps`.\n",
        "\n",
        " <br>\n",
        "\n",
        "#### **❓ Pergunta de Verificação**\n",
        "Quando usar JSONL em vez de JSON padrão e quais ganhos de performance e robustez isso traz?\n",
        "\n",
        " <br>\n",
        "\n",
        "---\n",
        " <br>\n"
      ],
      "cell_type": "markdown"
    },
    {
      "cell_type": "markdown",
      "source": [
        "### **Resposta Rápida**\n",
        "\n",
        "O formato **JSONL** (JSON Lines) é mais eficiente que um único JSON grande porque permite **processar os dados linha por linha**, sem carregar tudo na memória. Isso facilita o **streaming**, a **paralelização** e a **leitura incremental**, ideal para arquivos grandes.\n",
        "\n",
        "---\n",
        "\n",
        "### **Analogia do Dia**\n",
        "\n",
        "Imagine que você vai ler um dicionário gigante.\n",
        "No formato JSON tradicional, é como receber **um único livro encadernado enorme**: você precisa **abrir tudo de uma vez**.\n",
        "No JSONL, é como receber **uma pilha de cartões**, um por definição — você pode **processar um por um**, sem carregar o conjunto inteiro.\n",
        "\n",
        "---\n",
        "\n",
        "### **Análise Técnica Detalhada**\n",
        "\n",
        "#### 🧩 JSON tradicional (um único dicionário grande):\n",
        "\n",
        "```json\n",
        "[\n",
        "  {\"id\": 1, \"nome\": \"Alice\"},\n",
        "  {\"id\": 2, \"nome\": \"Bob\"},\n",
        "  {\"id\": 3, \"nome\": \"Carol\"}\n",
        "]\n",
        "```\n",
        "\n",
        "* ✅ Ótimo para **troca de dados entre sistemas**\n",
        "* ❌ Precisa ser **carregado todo na memória** de uma vez (`json.load`)\n",
        "* ❌ Difícil de **manipular incrementalmente**\n",
        "\n",
        "---\n",
        "\n",
        "#### ✅ JSONL (JSON Lines):\n",
        "\n",
        "```json\n",
        "{\"id\": 1, \"nome\": \"Alice\"}\n",
        "{\"id\": 2, \"nome\": \"Bob\"}\n",
        "{\"id\": 3, \"nome\": \"Carol\"}\n",
        "```\n",
        "\n",
        "* Cada linha é um **objeto JSON completo**\n",
        "* Pode ser lido **linha por linha com `for`**\n",
        "* Excelente para **streaming, logs, grandes volumes de dados**\n",
        "\n",
        "---\n",
        "\n",
        "#### ⚙️ Como processar JSONL em Python:\n",
        "\n",
        "```python\n",
        "import json\n",
        "\n",
        "with open(\"dados.jsonl\", \"r\", encoding=\"utf-8\") as f:\n",
        "    for linha in f:\n",
        "        registro = json.loads(linha)\n",
        "        print(registro[\"nome\"])\n",
        "```\n",
        "\n",
        "🧠 Isso **evita carregar tudo na memória**!\n",
        "\n",
        "---\n",
        "\n",
        "### **Nota de Rodapé para Novatos**\n",
        "\n",
        "* **JSONL**: Formato onde **cada linha do arquivo é um objeto JSON** independente.\n",
        "* **Streaming**: Técnica de processar dados **à medida que são recebidos/lidos**, sem esperar o arquivo inteiro.\n",
        "* **`json.loads()`**: Carrega uma string JSON (ex: uma linha do arquivo) como dicionário Python.\n",
        "* **Leitura incremental**: Processar dados pouco a pouco — útil para datasets grandes.\n",
        "\n",
        "---\n",
        "\n",
        "### **Aplicação Prática e Boas Práticas**\n",
        "\n",
        "✅ JSONL é ideal para:\n",
        "\n",
        "* Grandes volumes de dados (ex: logs, dados de sensores, extrações de APIs)\n",
        "* Treinamento de modelos de IA com **pipeline de dados sob demanda**\n",
        "* Paralelismo: várias threads/processos podem **ler e processar linhas separadamente**\n",
        "\n",
        "❌ Evite JSONL quando:\n",
        "\n",
        "* Precisa de estrutura aninhada complexa (ex: listas dentro de listas)\n",
        "* O conjunto de dados **precisa ser tratado como uma estrutura inteira**\n",
        "\n",
        "💡 Ferramentas como `pandas`, `datasets` da HuggingFace, Spark e pipelines de NLP **adoram JSONL** por sua leveza e compatibilidade com leitura em lote.\n",
        "\n",
        "---\n",
        "\n",
        "### **Resumo da Lição**\n",
        "\n",
        "JSONL é eficiente para grandes volumes de dados porque permite **leitura linha por linha**, sem consumir muita memória — ideal para **streaming, processamento paralelo** e **pipelines escaláveis** de Ciência de Dados.\n",
        "\n",
        "---\n"
      ],
      "metadata": {
        "id": "unkIB9HB02v0"
      }
    },
    {
      "cell_type": "code",
      "source": [],
      "metadata": {
        "id": "PBDVD5OE0tMy"
      },
      "execution_count": null,
      "outputs": []
    }
  ]
}