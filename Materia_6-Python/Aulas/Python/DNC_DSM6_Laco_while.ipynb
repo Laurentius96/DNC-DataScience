{
  "nbformat": 4,
  "nbformat_minor": 0,
  "metadata": {
    "colab": {
      "provenance": []
    },
    "language_info": {
      "name": "python"
    },
    "kernelspec": {
      "name": "python3",
      "display_name": "Python 3"
    }
  },
  "cells": [
    {
      "metadata": {
        "id": "VAJgakzTrqmj"
      },
      "source": [
        "## 🎓 **Aula sobre: Laço `while` e Controle de Fluxo em Python**\n",
        "\n",
        " <br>\n",
        "\n",
        "### 🧭 Sumário da Aula\n",
        "\n",
        "| # | Sub-tópico                      | Tempo Estimado | Complexidade |\n",
        "|---|---------------------------------|----------------|--------------|\n",
        "| 1 | Ficha de Revisão Rápida         | ~1 min         | ⭐           |\n",
        "| 2 | Mergulho Profundo               | ~15 min        | ⭐⭐⭐⭐       |\n",
        "| 3 | Profundezas e Conexões          | ~3 min         | ⭐⭐         |\n",
        "| 4 | Ação e Verificação              | ~5 min         | ⭐⭐         |\n",
        "| 5 | Mergulhos Adicionais            | Opcional       | ⭐⭐⭐⭐       |\n",
        "\n",
        " <br>\n",
        "\n",
        "---\n",
        " <br>\n"
      ],
      "cell_type": "markdown"
    },
    {
      "metadata": {
        "id": "fc-QEpMdrqmm"
      },
      "source": [
        "### 1. 🧠 Ficha de Revisão Rápida | (O Essencial)\n",
        "\n",
        " <br>\n",
        "\n",
        "> O laço `while` executa repetidamente um bloco enquanto a condição for `True`.  \n",
        "> Controle de fluxo com `break` (interrompe o loop) e `continue` (pula para a próxima iteração).  \n",
        "> Sintaxe básica:\n",
        "> ```python\n",
        "> while condição:\n",
        ">     instruções\n",
        "> ```\n",
        "\n",
        " <br>\n"
      ],
      "cell_type": "markdown"
    },
    {
      "metadata": {
        "id": "s6eps6vmrqmm"
      },
      "source": [
        "### 2. 🔬 Mergulho Profundo | (Os Detalhes)\n",
        "\n",
        " <br>\n",
        "\n",
        "#### **🎯 O Conceito Central**  \n",
        "O `while` verifica a condição antes de cada iteração e executa o bloco se for `True`. Em loops longos, use `break` para sair antecipadamente e `continue` para pular para a próxima iteração sem executar o restante do bloco.\n",
        "\n",
        " <br>\n",
        "\n",
        "#### **🔗 Analogia de Data Science**  \n",
        "Imagine ler linhas de um arquivo até encontrar um marcador de fim: o `while` é o leitor que continua processando até a condição (marcador) ser atendida, garantindo processamento contínuo de dados.\n",
        "\n",
        " <br>\n"
      ],
      "cell_type": "markdown"
    },
    {
      "metadata": {
        "id": "KfpMTsDmrqmm"
      },
      "source": [
        "### **💻 Exemplos de Mercado (Abrangentes)**\n",
        "\n",
        "#### **Nível Simples: Contador Simples**\n"
      ],
      "cell_type": "markdown"
    },
    {
      "metadata": {
        "id": "XYLk38NHrqmn"
      },
      "source": [
        "count = 0\n",
        "while count < 5:\n",
        "    print(f\"Iteração {count}\")\n",
        "    count += 1\n"
      ],
      "cell_type": "code",
      "execution_count": null,
      "outputs": []
    },
    {
      "metadata": {
        "colab": {
          "base_uri": "https://localhost:8080/"
        },
        "id": "2Arzkcyarqmo",
        "outputId": "6abf2354-efa1-4523-ea8d-6577e5cdf796"
      },
      "source": [
        "# Pratique seu código aqui!\n",
        "\n",
        "count = 0\n",
        "\n",
        "while count < 5:\n",
        "  print(f\"Iteração {count}\")\n",
        "  count += 1\n"
      ],
      "cell_type": "code",
      "execution_count": 1,
      "outputs": [
        {
          "output_type": "stream",
          "name": "stdout",
          "text": [
            "Iteração 0\n",
            "Iteração 1\n",
            "Iteração 2\n",
            "Iteração 3\n",
            "Iteração 4\n"
          ]
        }
      ]
    },
    {
      "metadata": {
        "id": "R8t0fJPXrqmo"
      },
      "source": [
        "* **O que o código faz:** Imprime iterações de 0 a 4.  \n",
        "* **Cenário de Mercado:** Processamento de registros até atingir um limite.  \n",
        "* **Boas Práticas:** Sempre garanta que a condição mude para evitar loop infinito.\n"
      ],
      "cell_type": "markdown"
    },
    {
      "metadata": {
        "id": "q3fLkhO4rqmo"
      },
      "source": [
        "#### **Nível Intermediário: Uso de `break` e `continue`**\n"
      ],
      "cell_type": "markdown"
    },
    {
      "metadata": {
        "id": "An8R0QDIrqmo"
      },
      "source": [
        "num = 0\n",
        "while True:\n",
        "    num += 1\n",
        "    if num % 2 == 0:\n",
        "        continue  # pula números pares\n",
        "    print(num)\n",
        "    if num >= 9:\n",
        "        break  # sai quando atinge 9\n"
      ],
      "cell_type": "code",
      "execution_count": null,
      "outputs": []
    },
    {
      "metadata": {
        "colab": {
          "base_uri": "https://localhost:8080/"
        },
        "id": "iA31xFE1rqmp",
        "outputId": "c3f5f0a4-cb76-4607-f4d0-ff3e16129aa0"
      },
      "source": [
        "# Pratique seu código aqui!\n",
        "\n",
        "num = 0\n",
        "while True:\n",
        "  num += 1\n",
        "  if num % 2 == 0:\n",
        "    continue\n",
        "  print(num)\n",
        "  if num >= 9:\n",
        "    break\n"
      ],
      "cell_type": "code",
      "execution_count": 2,
      "outputs": [
        {
          "output_type": "stream",
          "name": "stdout",
          "text": [
            "1\n",
            "3\n",
            "5\n",
            "7\n",
            "9\n"
          ]
        }
      ]
    },
    {
      "metadata": {
        "id": "Nmjr7pQBrqmp"
      },
      "source": [
        "* **O que o código faz:** Pula números pares e termina no primeiro número ímpar ≥ 9.  \n",
        "* **Cenário de Mercado:** Filtragem dinâmica em tempo de execução.  \n",
        "* **Boas Práticas:** Use `break`/`continue` para controlar fluxos complexos com clareza.\n"
      ],
      "cell_type": "markdown"
    },
    {
      "metadata": {
        "id": "n3p8dYiJrqmp"
      },
      "source": [
        "#### **Nível Avançado: Loop com Entrada do Usuário**\n"
      ],
      "cell_type": "markdown"
    },
    {
      "metadata": {
        "id": "VemcqnG8rqmp"
      },
      "source": [
        "while True:\n",
        "    cmd = input(\"Comando (sair para encerrar): \")\n",
        "    if cmd.lower() == \"sair\":\n",
        "        print(\"Encerrando...\")\n",
        "        break\n",
        "    print(f\"Executando {cmd}\")\n"
      ],
      "cell_type": "code",
      "execution_count": null,
      "outputs": []
    },
    {
      "metadata": {
        "colab": {
          "base_uri": "https://localhost:8080/"
        },
        "id": "4FANrEmSrqmp",
        "outputId": "71414e2b-6599-46de-859e-1d857a5f558a"
      },
      "source": [
        "# Pratique seu código aqui!\n",
        "\n",
        "while True:\n",
        "  cmd = input(\"Comando (sair para encerrar): \")\n",
        "  if cmd.lower() == \"sair\":\n",
        "    print(\"Encerrando...\")\n",
        "    break\n",
        "  print(f\"Executando {cmd}\")"
      ],
      "cell_type": "code",
      "execution_count": 4,
      "outputs": [
        {
          "output_type": "stream",
          "name": "stdout",
          "text": [
            "Comando (sair para encerrar): oi\n",
            "Executando oi\n",
            "Comando (sair para encerrar): sair\n",
            "Encerrando...\n"
          ]
        }
      ]
    },
    {
      "metadata": {
        "id": "V7SLprH_rqmq"
      },
      "source": [
        "* **O que o código faz:** Permite repetir comandos até o usuário digitar 'sair'.  \n",
        "* **Cenário de Mercado:** Interfaces de linha de comando interativas.  \n",
        "* **Boas Práticas:** Normalize entradas com `.lower()` ou `.strip()`.\n"
      ],
      "cell_type": "markdown"
    },
    {
      "metadata": {
        "id": "S8Wb8rAOrqmq"
      },
      "source": [
        "#### **Nível DEUS (1/3): `while-else`**\n"
      ],
      "cell_type": "markdown"
    },
    {
      "metadata": {
        "id": "ZhPvXBV2rqmq"
      },
      "source": [
        "i = 0\n",
        "while i < 3:\n",
        "    print(i)\n",
        "    i += 1\n",
        "else:\n",
        "    print(\"Loop concluído sem break\")\n"
      ],
      "cell_type": "code",
      "execution_count": null,
      "outputs": []
    },
    {
      "metadata": {
        "colab": {
          "base_uri": "https://localhost:8080/"
        },
        "id": "ZjRidXAjrqmq",
        "outputId": "643626f9-ac90-4ce7-948a-478753b6e574"
      },
      "source": [
        "# Pratique seu código aqui!\n",
        "\n",
        "i = 0\n",
        "while i < 3:\n",
        "  print(i)\n",
        "  i += 1\n",
        "else:\n",
        "  print(\"Loop concluíndo sem break\")"
      ],
      "cell_type": "code",
      "execution_count": 5,
      "outputs": [
        {
          "output_type": "stream",
          "name": "stdout",
          "text": [
            "0\n",
            "1\n",
            "2\n",
            "Loop concluíndo sem break\n"
          ]
        }
      ]
    },
    {
      "metadata": {
        "id": "0QDkmrtArqmq"
      },
      "source": [
        "* **O que o código faz:** Executa `else` se o loop não usar `break`.  \n",
        "* **Cenário de Mercado:** Validação de processamento até esgotar itens.\n"
      ],
      "cell_type": "markdown"
    },
    {
      "metadata": {
        "id": "2JdxUSG_rqmq"
      },
      "source": [
        "#### **Nível DEUS (2/3): Controle de Padrões com Loop e Regex**\n"
      ],
      "cell_type": "markdown"
    },
    {
      "metadata": {
        "id": "LKumqqFYrqmq"
      },
      "source": [
        "import re\n",
        "linha = \"\"\n",
        "while True:\n",
        "    linha = input(\"Texto (enter vazio para fim): \")\n",
        "    if not linha:\n",
        "        break\n",
        "    if re.match(r\"^[A-Z].*\\.$\", linha):\n",
        "        print(\"Linha válida:\", linha)\n",
        "    else:\n",
        "        print(\"Linha inválida\")\n"
      ],
      "cell_type": "code",
      "execution_count": null,
      "outputs": []
    },
    {
      "metadata": {
        "colab": {
          "base_uri": "https://localhost:8080/"
        },
        "id": "P6JVEN8Orqmq",
        "outputId": "047763be-e19b-4cc2-edad-afd6d1195695"
      },
      "source": [
        "# Pratique seu código aqui!\n",
        "\n",
        "import re\n",
        "linha = \"\"\n",
        "while True:\n",
        "  linha = input(\"Texto (enter vazio para fim): \")\n",
        "  if not linha:\n",
        "    break\n",
        "  if re.match(r\"^[A-Z].*\\.$\", linha):\n",
        "        print(\"Linha válida:\", linha)\n",
        "  else:\n",
        "        print(\"Linha inválida\")\n"
      ],
      "cell_type": "code",
      "execution_count": 7,
      "outputs": [
        {
          "name": "stdout",
          "output_type": "stream",
          "text": [
            "Texto (enter vazio para fim): Azul\n",
            "Linha inválida\n",
            "Texto (enter vazio para fim): Preto\n",
            "Linha inválida\n",
            "Texto (enter vazio para fim): \n"
          ]
        }
      ]
    },
    {
      "metadata": {
        "id": "HlxvgN61rqmr"
      },
      "source": [
        "* **O que o código faz:** Valida entradas conforme regex, até string vazia.  \n",
        "* **Cenário de Mercado:** Processamento de logs e validação de formatos.\n"
      ],
      "cell_type": "markdown"
    },
    {
      "metadata": {
        "id": "P-Y2ozJWrqmr"
      },
      "source": [
        "#### **Nível DEUS (3/3): Laços e Consumo de Streams de Dados**\n"
      ],
      "cell_type": "markdown"
    },
    {
      "metadata": {
        "id": "6CfSsomIrqmr"
      },
      "source": [
        "def gerador():\n",
        "    for i in range(5):\n",
        "        yield i\n",
        "\n",
        "g = gerador()\n",
        "while True:\n",
        "    try:\n",
        "        valor = next(g)\n",
        "        print(valor)\n",
        "    except StopIteration:\n",
        "        break\n"
      ],
      "cell_type": "code",
      "execution_count": null,
      "outputs": []
    },
    {
      "metadata": {
        "colab": {
          "base_uri": "https://localhost:8080/"
        },
        "id": "qtUBInS1rqmr",
        "outputId": "85799430-bd1d-45fd-b2be-538e8af61474"
      },
      "source": [
        "# Pratique seu código aqui!\n",
        "\n",
        "def gerador():\n",
        "  for i in range(5):\n",
        "    yield i\n",
        "\n",
        "g = gerador()\n",
        "while True:\n",
        "  try:\n",
        "      valor = next(g)\n",
        "      print(valor)\n",
        "  except StopIteration:\n",
        "    break"
      ],
      "cell_type": "code",
      "execution_count": 8,
      "outputs": [
        {
          "output_type": "stream",
          "name": "stdout",
          "text": [
            "0\n",
            "1\n",
            "2\n",
            "3\n",
            "4\n"
          ]
        }
      ]
    },
    {
      "metadata": {
        "id": "KrcrX4Qlrqmr"
      },
      "source": [
        "* **O que o código faz:** Consome um *generator* até exaurir valores.  \n",
        "* **Cenário de Mercado:** Streaming de dados e consumo incremental.\n"
      ],
      "cell_type": "markdown"
    },
    {
      "metadata": {
        "id": "eAebba1Zrqmr"
      },
      "source": [
        "### 3. 🕸️ Profundezas e Conexões\n",
        "\n",
        " <br>\n",
        "\n",
        "`while` complementa o `for` quando não se sabe antecipadamente o número de iterações. Em pipelines de ETL, pode-se usar `while` para ler chunks de dados até esgotar fontes externas (arquivos, sockets). Compreensões não aplicam a `while`, mas funções como `itertools.repeat` podem simular loops.\n",
        "\n",
        " <br>\n",
        "\n",
        "---\n",
        " <br>\n"
      ],
      "cell_type": "markdown"
    },
    {
      "metadata": {
        "id": "fggK3lmmrqmr"
      },
      "source": [
        "### 4. 🚀 Ação e Verificação\n",
        "\n",
        " <br>\n",
        "\n",
        "#### **🤔 Desafio Prático**\n",
        "1. Use `while` para solicitar um número positivo; repita até o usuário fornecer valor válido.  \n",
        "2. Implemente um contador regressivo de 10 a 0 usando `while`.  \n",
        "3. Crie um `while` infinito que leia palavras e use `continue` para pular strings vazias.  \n",
        "4. Use `while-else` para distinguir se o loop terminou com `break` ou naturalmente.  \n",
        "5. Consuma manualmente um generator até o final.\n",
        "\n",
        " <br>\n",
        "\n",
        "#### **❓ Pergunta de Verificação**\n",
        "Quando preferir `while` em vez de `for`? Quais riscos e como mitigá-los?\n",
        "\n",
        " <br>\n",
        "\n",
        "---\n",
        " <br>\n"
      ],
      "cell_type": "markdown"
    },
    {
      "cell_type": "markdown",
      "source": [
        "### **Resposta Rápida**\n",
        "\n",
        "Prefira `while` quando **não souber de antemão quantas repetições** serão necessárias — ou seja, quando o **critério de parada depende de uma condição dinâmica**. Mas cuidado com **loops infinitos**: sempre assegure que a condição de parada será alcançada.\n",
        "\n",
        "---\n",
        "\n",
        "### **Analogia do Dia**\n",
        "\n",
        "Usar `for` é como percorrer uma estrada com placas marcando do km 1 ao 10: você sabe exatamente onde começa e termina. Já o `while` é como dirigir até o tanque acabar — você **só para quando uma condição for atingida**, mas precisa ficar de olho no combustível (senão fica rodando eternamente!).\n",
        "\n",
        "---\n",
        "\n",
        "### **Análise Técnica Detalhada**\n",
        "\n",
        "#### `for`: número de repetições conhecido\n",
        "\n",
        "```python\n",
        "for i in range(5):\n",
        "    print(i)\n",
        "```\n",
        "\n",
        "* Roda 5 vezes, de 0 a 4.\n",
        "\n",
        "#### `while`: condição depende do estado\n",
        "\n",
        "```python\n",
        "contador = 0\n",
        "while contador < 5:\n",
        "    print(contador)\n",
        "    contador += 1\n",
        "```\n",
        "\n",
        "* Continua **enquanto** a condição for verdadeira.\n",
        "\n",
        "#### Quando escolher `while`?\n",
        "\n",
        "✅ Use `while` quando:\n",
        "\n",
        "* A repetição depende de **um evento externo** ou **condição incerta** (ex: ler do teclado, sensor, API).\n",
        "* A quantidade de repetições **não é fixa ou previsível**.\n",
        "\n",
        "❌ Evite se:\n",
        "\n",
        "* Você **pode usar `for` com `range()`** — é mais claro e seguro.\n",
        "* A **condição de parada pode falhar**, levando a **loop infinito**.\n",
        "\n",
        "#### Riscos e como mitigar\n",
        "\n",
        "**⚠️ Risco: Loop infinito**\n",
        "\n",
        "```python\n",
        "while True:\n",
        "    print(\"Nunca para...\")\n",
        "```\n",
        "\n",
        "**✅ Mitigação:**\n",
        "\n",
        "1. **Sempre mude o estado dentro do loop:**\n",
        "\n",
        "   ```python\n",
        "   while condicao:\n",
        "       # Atualize a condição!\n",
        "   ```\n",
        "\n",
        "2. **Use contador como segurança:**\n",
        "\n",
        "   ```python\n",
        "   tentativas = 0\n",
        "   while not sucesso and tentativas < 5:\n",
        "       tentativas += 1\n",
        "   ```\n",
        "\n",
        "3. **Adicione logs/prints ou `break` para debug.**\n",
        "\n",
        "---\n",
        "\n",
        "### **Nota de Rodapé para Novatos**\n",
        "\n",
        "* **Loop infinito:** Um laço que nunca termina — acontece quando a condição nunca se torna falsa.\n",
        "* **Critério de parada:** A condição que determina quando o laço termina.\n",
        "* **`break`:** Comando para **sair imediatamente** de um laço, mesmo que a condição ainda seja verdadeira.\n",
        "* **Evento externo:** Algo que vem de fora do programa (ex: entrada do usuário, conexão com a internet).\n",
        "\n",
        "---\n",
        "\n",
        "### **Aplicação Prática e Boas Práticas**\n",
        "\n",
        "* Em **ciência de dados**:\n",
        "\n",
        "  * Ao **ler dados de uma API até ela acabar**, `while` é útil:\n",
        "\n",
        "  ```python\n",
        "  while dados_recebidos:\n",
        "      processar(dados_recebidos)\n",
        "      dados_recebidos = pegar_proximos()\n",
        "  ```\n",
        "\n",
        "* Em **jogos ou simulações**, onde o estado muda com o tempo:\n",
        "\n",
        "  ```python\n",
        "  while not game_over:\n",
        "      atualizar_estado()\n",
        "      desenhar_tela()\n",
        "  ```\n",
        "\n",
        "* ✅ Boas práticas:\n",
        "\n",
        "  * Sempre garanta que **algo muda a cada iteração**.\n",
        "  * Considere adicionar um `timeout` ou `contador de segurança`.\n",
        "\n",
        "---\n",
        "\n",
        "### **Resumo da Lição**\n",
        "\n",
        "Use `while` quando **não souber quantas vezes repetir**, mas cuide para que **a condição realmente mude** — senão seu programa pode ficar preso em um loop eterno.\n",
        "\n",
        "---\n"
      ],
      "metadata": {
        "id": "fBJSb8fTyCNw"
      }
    },
    {
      "cell_type": "code",
      "source": [],
      "metadata": {
        "id": "OMEbAJVpyDRd"
      },
      "execution_count": null,
      "outputs": []
    }
  ]
}