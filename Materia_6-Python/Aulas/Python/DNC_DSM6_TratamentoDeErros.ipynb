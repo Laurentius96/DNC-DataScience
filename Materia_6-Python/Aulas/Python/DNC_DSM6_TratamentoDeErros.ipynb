{
  "nbformat": 4,
  "nbformat_minor": 0,
  "metadata": {
    "colab": {
      "provenance": []
    },
    "language_info": {
      "name": "python"
    },
    "kernelspec": {
      "name": "python3",
      "display_name": "Python 3"
    }
  },
  "cells": [
    {
      "metadata": {
        "id": "p3-6D6vylhou"
      },
      "source": [
        "## 🎓 **Aula sobre: Introdução ao Tratamento de Erros em Python**\n",
        "\n",
        " <br>\n",
        "\n",
        "### 🧭 Sumário da Aula\n",
        "\n",
        "| # | Sub-tópico                      | Tempo Estimado | Complexidade |\n",
        "|---|---------------------------------|----------------|--------------|\n",
        "| 1 | Ficha de Revisão Rápida         | ~1 min         | ⭐           |\n",
        "| 2 | Mergulho Profundo               | ~15 min        | ⭐⭐⭐⭐       |\n",
        "| 3 | Profundezas e Conexões          | ~3 min         | ⭐⭐         |\n",
        "| 4 | Ação e Verificação              | ~5 min         | ⭐⭐         |\n",
        "| 5 | Mergulhos Adicionais            | Opcional       | ⭐⭐⭐⭐       |\n",
        "\n",
        " <br>\n",
        "\n",
        "---\n",
        " <br>\n"
      ],
      "cell_type": "markdown"
    },
    {
      "metadata": {
        "id": "a6pGZfo0lho4"
      },
      "source": [
        "### 1. 🧠 Ficha de Revisão Rápida | (O Essencial)\n",
        "\n",
        " <br>\n",
        "\n",
        "> Em Python, use `try/except` para capturar exceções que ocorrem em tempo de execução.  \n",
        "> Blocos opcionais: `else` (executa se não houve erro) e `finally` (sempre executa).  \n",
        "> Exceções específicas ajudam a tratar diferentes falhas de modo apropriado.\n",
        "\n",
        " <br>\n"
      ],
      "cell_type": "markdown"
    },
    {
      "metadata": {
        "id": "njdsOTSIlho4"
      },
      "source": [
        "### 2. 🔬 Mergulho Profundo | (Os Detalhes)\n",
        "\n",
        " <br>\n",
        "\n",
        "#### **🎯 O Conceito Central**  \n",
        "O bloco `try` contém código sujeito a falhas. Se uma exceção ocorre, o fluxo salta ao primeiro `except` cujo tipo corresponda. O bloco `else` roda quando não há erro, e `finally` executa sempre, ideal para liberar recursos.\n",
        "\n",
        " <br>\n",
        "\n",
        "#### **🔗 Analogia de Data Science**  \n",
        "Imagine um pipeline de ingestão de dados:  \n",
        "- `try`: tenta ler e processar um arquivo.  \n",
        "- `except`: captura erros de leitura (ex: arquivo não encontrado ou formato inválido).  \n",
        "- `else`: segue para limpeza e transformação se tudo ocorreu bem.  \n",
        "- `finally`: fecha conexões ou remove arquivos temporários, independentemente do sucesso.\n",
        "\n",
        " <br>\n"
      ],
      "cell_type": "markdown"
    },
    {
      "metadata": {
        "id": "zIM0FCwMlho5"
      },
      "source": [
        "### **💻 Exemplos de Mercado (Abrangentes)**\n",
        "\n",
        "#### **Nível Simples: `try/except` Básico**\n"
      ],
      "cell_type": "markdown"
    },
    {
      "metadata": {
        "id": "602bO7ZRlho5"
      },
      "source": [
        "try:\n",
        "    x = int(input(\"Digite um número: \"))\n",
        "except ValueError:\n",
        "    print(\"Entrada inválida! Use apenas dígitos.\")\n"
      ],
      "cell_type": "code",
      "execution_count": null,
      "outputs": []
    },
    {
      "metadata": {
        "colab": {
          "base_uri": "https://localhost:8080/"
        },
        "id": "p_Hau2Q-lho6",
        "outputId": "fb9ed356-9aa2-40ab-f447-d1f9deca0c1b"
      },
      "source": [
        "# Pratique seu código aqui!\n",
        "\n",
        "try:\n",
        "  x = int(input(\"Digite um número: \"))\n",
        "except ValueError:\n",
        "  print(\"Entrada inválida! Use apenas dígitos.\")\n",
        "\n"
      ],
      "cell_type": "code",
      "execution_count": 2,
      "outputs": [
        {
          "output_type": "stream",
          "name": "stdout",
          "text": [
            "Digite um número: A\n",
            "Entrada inválida! Use apenas dígitos.\n"
          ]
        }
      ]
    },
    {
      "metadata": {
        "id": "0stTBZhMlho6"
      },
      "source": [
        "*   **O que o código faz:** Tenta converter entrada; em erro, informa usuário.  \n",
        "*   **Cenário de Mercado:** Validação de inputs em scripts interativos.  \n",
        "*   **Boas Práticas:** Capture apenas exceções esperadas para não mascarar bugs.\n"
      ],
      "cell_type": "markdown"
    },
    {
      "metadata": {
        "id": "v_DHjBlYlho6"
      },
      "source": [
        "#### **Nível Intermediário: `except` Específico e `finally`**\n"
      ],
      "cell_type": "markdown"
    },
    {
      "metadata": {
        "id": "dJmrsZQIlho7"
      },
      "source": [
        "file = None\n",
        "try:\n",
        "    file = open(\"dados.csv\")\n",
        "    dados = file.read()\n",
        "except FileNotFoundError:\n",
        "    print(\"Arquivo não encontrado.\")\n",
        "finally:\n",
        "    if file:\n",
        "        file.close()\n"
      ],
      "cell_type": "code",
      "execution_count": null,
      "outputs": []
    },
    {
      "metadata": {
        "colab": {
          "base_uri": "https://localhost:8080/"
        },
        "id": "imwZhr2glho7",
        "outputId": "2a0cd3ba-d8d4-4db6-9ea8-2455eda1e450"
      },
      "source": [
        "# Pratique seu código aqui!\n",
        "\n",
        "file = None\n",
        "try:\n",
        "  file = open(\"dados.csv\")\n",
        "  dados = file.read()\n",
        "except FileNotFoundError:\n",
        "  print(\"Arquivo não encontrado.\")\n",
        "finally:\n",
        "  if file:\n",
        "    file.close()\n"
      ],
      "cell_type": "code",
      "execution_count": 5,
      "outputs": [
        {
          "output_type": "stream",
          "name": "stdout",
          "text": [
            "Arquivo não encontrado.\n"
          ]
        }
      ]
    },
    {
      "metadata": {
        "id": "I2YOTpK7lho8"
      },
      "source": [
        "*   **O que o código faz:** Trata falta de arquivo e garante fechamento.  \n",
        "*   **Cenário de Mercado:** Leitura segura de arquivos em pipelines ETL.  \n",
        "*   **Boas Práticas:** Use `with` para simplificar gerenciamento de recursos.\n"
      ],
      "cell_type": "markdown"
    },
    {
      "metadata": {
        "id": "YOOK67oalho8"
      },
      "source": [
        "#### **Nível Avançado: `else` e Re-raise**\n"
      ],
      "cell_type": "markdown"
    },
    {
      "metadata": {
        "id": "LGv3BH9_lho8"
      },
      "source": [
        "try:\n",
        "    result = 10 / 0\n",
        "except ZeroDivisionError as e:\n",
        "    print(\"Divisão por zero!\")\n",
        "    raise  # re-lança a exceção para tratamento superior\n",
        "else:\n",
        "    print(\"Divisão bem-sucedida:\", result)\n"
      ],
      "cell_type": "code",
      "execution_count": null,
      "outputs": []
    },
    {
      "metadata": {
        "colab": {
          "base_uri": "https://localhost:8080/",
          "height": 228
        },
        "id": "EjK81RPElho8",
        "outputId": "5ad5afc2-0616-4fd4-cd95-cfcf749ed39c"
      },
      "source": [
        "# Pratique seu código aqui!\n",
        "\n",
        "try:\n",
        "  result = 10 / 0\n",
        "except ZeroDivisionError as e:\n",
        "  print(\"Divisão por zero!\")\n",
        "  raise\n",
        "else:\n",
        "  print(\"Divisão bem-secedida: \", result)\n"
      ],
      "cell_type": "code",
      "execution_count": 10,
      "outputs": [
        {
          "output_type": "stream",
          "name": "stdout",
          "text": [
            "Divisão por zero!\n"
          ]
        },
        {
          "output_type": "error",
          "ename": "ZeroDivisionError",
          "evalue": "division by zero",
          "traceback": [
            "\u001b[0;31m---------------------------------------------------------------------------\u001b[0m",
            "\u001b[0;31mZeroDivisionError\u001b[0m                         Traceback (most recent call last)",
            "\u001b[0;32m/tmp/ipython-input-10-4233079459.py\u001b[0m in \u001b[0;36m<cell line: 0>\u001b[0;34m()\u001b[0m\n\u001b[1;32m      2\u001b[0m \u001b[0;34m\u001b[0m\u001b[0m\n\u001b[1;32m      3\u001b[0m \u001b[0;32mtry\u001b[0m\u001b[0;34m:\u001b[0m\u001b[0;34m\u001b[0m\u001b[0;34m\u001b[0m\u001b[0m\n\u001b[0;32m----> 4\u001b[0;31m   \u001b[0mresult\u001b[0m \u001b[0;34m=\u001b[0m \u001b[0;36m10\u001b[0m \u001b[0;34m/\u001b[0m \u001b[0;36m0\u001b[0m\u001b[0;34m\u001b[0m\u001b[0;34m\u001b[0m\u001b[0m\n\u001b[0m\u001b[1;32m      5\u001b[0m \u001b[0;32mexcept\u001b[0m \u001b[0mZeroDivisionError\u001b[0m \u001b[0;32mas\u001b[0m \u001b[0me\u001b[0m\u001b[0;34m:\u001b[0m\u001b[0;34m\u001b[0m\u001b[0;34m\u001b[0m\u001b[0m\n\u001b[1;32m      6\u001b[0m   \u001b[0mprint\u001b[0m\u001b[0;34m(\u001b[0m\u001b[0;34m\"Divisão por zero!\"\u001b[0m\u001b[0;34m)\u001b[0m\u001b[0;34m\u001b[0m\u001b[0;34m\u001b[0m\u001b[0m\n",
            "\u001b[0;31mZeroDivisionError\u001b[0m: division by zero"
          ]
        }
      ]
    },
    {
      "metadata": {
        "id": "V4iYPhy5lho8"
      },
      "source": [
        "*   **O que o código faz:** Repassa erro após log, e usa `else` em caso de sucesso.  \n",
        "*   **Cenário de Mercado:** Logs de falhas e tratamento em camadas de aplicação.\n"
      ],
      "cell_type": "markdown"
    },
    {
      "metadata": {
        "id": "FlyUQPvdlho9"
      },
      "source": [
        "#### **Nível DEUS (1/3): Logging de Exceções**\n"
      ],
      "cell_type": "markdown"
    },
    {
      "metadata": {
        "id": "cgv5TajNlho9"
      },
      "source": [
        "import logging\n",
        "\n",
        "logging.basicConfig(level=logging.ERROR)\n",
        "\n",
        "try:\n",
        "    open(\"inexistente.txt\")\n",
        "except Exception:\n",
        "    logging.exception(\"Erro ao abrir arquivo\")\n"
      ],
      "cell_type": "code",
      "execution_count": null,
      "outputs": []
    },
    {
      "metadata": {
        "colab": {
          "base_uri": "https://localhost:8080/"
        },
        "id": "tomNxFHqlho9",
        "outputId": "45f8d6e2-13e4-48fe-b76e-654817ec8148"
      },
      "source": [
        "# Pratique seu código aqui!\n",
        "\n",
        "import logging\n",
        "\n",
        "logging.basicConfig(level=logging.ERROR)\n",
        "\n",
        "try:\n",
        "  open(\"inexistente.txt\")\n",
        "except Exception:\n",
        "  logging.exception(\"Erro ao abrir arquivo\")\n",
        "\n"
      ],
      "cell_type": "code",
      "execution_count": 11,
      "outputs": [
        {
          "output_type": "stream",
          "name": "stderr",
          "text": [
            "ERROR:root:Erro ao abrir arquivo\n",
            "Traceback (most recent call last):\n",
            "  File \"/tmp/ipython-input-11-2609785215.py\", line 8, in <cell line: 0>\n",
            "    open(\"inexistente.txt\")\n",
            "FileNotFoundError: [Errno 2] No such file or directory: 'inexistente.txt'\n"
          ]
        }
      ]
    },
    {
      "metadata": {
        "id": "Lsy4Yi2jlho9"
      },
      "source": [
        "*   **O que o código faz:** Grava stack trace completo no log de erros.  \n",
        "*   **Cenário de Mercado:** Monitoramento e auditoria de falhas em produção.\n"
      ],
      "cell_type": "markdown"
    },
    {
      "metadata": {
        "id": "q__3sK-Slho9"
      },
      "source": [
        "#### **Nível DEUS (2/3): Tratamento de Múltiplas Exceções**\n"
      ],
      "cell_type": "markdown"
    },
    {
      "metadata": {
        "id": "dZpr1ZrIlho9"
      },
      "source": [
        "try:\n",
        "    # operações diversas\n",
        "    pass\n",
        "except (KeyError, IndexError) as e:\n",
        "    print(f\"Erro de consulta: {e}\")\n"
      ],
      "cell_type": "code",
      "execution_count": null,
      "outputs": []
    },
    {
      "metadata": {
        "id": "qn-XiHlylho9"
      },
      "source": [
        "# Pratique seu código aqui!\n",
        "\n",
        "try:\n",
        "\n",
        "  pass\n",
        "except (KeyError, IndexError) as e:\n",
        "  print(f\"Erro de consulta: {e}\")\n",
        "\n"
      ],
      "cell_type": "code",
      "execution_count": 15,
      "outputs": []
    },
    {
      "metadata": {
        "id": "uBrqOuqElho-"
      },
      "source": [
        "*   **O que o código faz:** Captura diferentes tipos similares num só bloco.  \n",
        "*   **Cenário de Mercado:** Falhas em acesso a dados em dicionários ou listas.\n"
      ],
      "cell_type": "markdown"
    },
    {
      "metadata": {
        "id": "VjAbJcaOlho-"
      },
      "source": [
        "#### **Nível DEUS (3/3): Exceções Customizadas**\n"
      ],
      "cell_type": "markdown"
    },
    {
      "metadata": {
        "id": "xhSYj0qZlho-"
      },
      "source": [
        "class ValidacaoErro(Exception):\n",
        "    pass\n",
        "\n",
        "def validar(valor):\n",
        "    if valor < 0:\n",
        "        raise ValidacaoErro(\"Valor não pode ser negativo\")\n",
        "\n",
        "try:\n",
        "    validar(-1)\n",
        "except ValidacaoErro as e:\n",
        "    print(e)\n"
      ],
      "cell_type": "code",
      "execution_count": null,
      "outputs": []
    },
    {
      "metadata": {
        "colab": {
          "base_uri": "https://localhost:8080/",
          "height": 478
        },
        "id": "E5YWX4TClho-",
        "outputId": "5e78fa1a-535b-4d18-d867-32b454b6aa72"
      },
      "source": [
        "# Pratique seu código aqui!\n",
        "\n",
        "class ValidadoErro(Exception):\n",
        "  pass\n",
        "\n",
        "def validar(valor):\n",
        "  if valor < 0:\n",
        "    raise ValidadoErro(\"Valor não pode ser negativo\")\n",
        "\n",
        "try:\n",
        "  validar(-1)\n",
        "except ValidacaoErro as e:\n",
        "  print(e)"
      ],
      "cell_type": "code",
      "execution_count": 17,
      "outputs": [
        {
          "output_type": "error",
          "ename": "NameError",
          "evalue": "name 'ValidacaoErro' is not defined",
          "traceback": [
            "\u001b[0;31m---------------------------------------------------------------------------\u001b[0m",
            "\u001b[0;31mValidadoErro\u001b[0m                              Traceback (most recent call last)",
            "\u001b[0;32m/tmp/ipython-input-17-800405189.py\u001b[0m in \u001b[0;36m<cell line: 0>\u001b[0;34m()\u001b[0m\n\u001b[1;32m     10\u001b[0m \u001b[0;32mtry\u001b[0m\u001b[0;34m:\u001b[0m\u001b[0;34m\u001b[0m\u001b[0;34m\u001b[0m\u001b[0m\n\u001b[0;32m---> 11\u001b[0;31m   \u001b[0mvalidar\u001b[0m\u001b[0;34m(\u001b[0m\u001b[0;34m-\u001b[0m\u001b[0;36m1\u001b[0m\u001b[0;34m)\u001b[0m\u001b[0;34m\u001b[0m\u001b[0;34m\u001b[0m\u001b[0m\n\u001b[0m\u001b[1;32m     12\u001b[0m \u001b[0;32mexcept\u001b[0m \u001b[0mValidacaoErro\u001b[0m \u001b[0;32mas\u001b[0m \u001b[0me\u001b[0m\u001b[0;34m:\u001b[0m\u001b[0;34m\u001b[0m\u001b[0;34m\u001b[0m\u001b[0m\n",
            "\u001b[0;32m/tmp/ipython-input-17-800405189.py\u001b[0m in \u001b[0;36mvalidar\u001b[0;34m(valor)\u001b[0m\n\u001b[1;32m      7\u001b[0m   \u001b[0;32mif\u001b[0m \u001b[0mvalor\u001b[0m \u001b[0;34m<\u001b[0m \u001b[0;36m0\u001b[0m\u001b[0;34m:\u001b[0m\u001b[0;34m\u001b[0m\u001b[0;34m\u001b[0m\u001b[0m\n\u001b[0;32m----> 8\u001b[0;31m     \u001b[0;32mraise\u001b[0m \u001b[0mValidadoErro\u001b[0m\u001b[0;34m(\u001b[0m\u001b[0;34m\"Valor não pode ser negativo\"\u001b[0m\u001b[0;34m)\u001b[0m\u001b[0;34m\u001b[0m\u001b[0;34m\u001b[0m\u001b[0m\n\u001b[0m\u001b[1;32m      9\u001b[0m \u001b[0;34m\u001b[0m\u001b[0m\n",
            "\u001b[0;31mValidadoErro\u001b[0m: Valor não pode ser negativo",
            "\nDuring handling of the above exception, another exception occurred:\n",
            "\u001b[0;31mNameError\u001b[0m                                 Traceback (most recent call last)",
            "\u001b[0;32m/tmp/ipython-input-17-800405189.py\u001b[0m in \u001b[0;36m<cell line: 0>\u001b[0;34m()\u001b[0m\n\u001b[1;32m     10\u001b[0m \u001b[0;32mtry\u001b[0m\u001b[0;34m:\u001b[0m\u001b[0;34m\u001b[0m\u001b[0;34m\u001b[0m\u001b[0m\n\u001b[1;32m     11\u001b[0m   \u001b[0mvalidar\u001b[0m\u001b[0;34m(\u001b[0m\u001b[0;34m-\u001b[0m\u001b[0;36m1\u001b[0m\u001b[0;34m)\u001b[0m\u001b[0;34m\u001b[0m\u001b[0;34m\u001b[0m\u001b[0m\n\u001b[0;32m---> 12\u001b[0;31m \u001b[0;32mexcept\u001b[0m \u001b[0mValidacaoErro\u001b[0m \u001b[0;32mas\u001b[0m \u001b[0me\u001b[0m\u001b[0;34m:\u001b[0m\u001b[0;34m\u001b[0m\u001b[0;34m\u001b[0m\u001b[0m\n\u001b[0m\u001b[1;32m     13\u001b[0m   \u001b[0mprint\u001b[0m\u001b[0;34m(\u001b[0m\u001b[0me\u001b[0m\u001b[0;34m)\u001b[0m\u001b[0;34m\u001b[0m\u001b[0;34m\u001b[0m\u001b[0m\n",
            "\u001b[0;31mNameError\u001b[0m: name 'ValidacaoErro' is not defined"
          ]
        }
      ]
    },
    {
      "metadata": {
        "id": "4mMlHCx9lho-"
      },
      "source": [
        "*   **O que o código faz:** Define e levanta exceções específicas de domínio.  \n",
        "*   **Cenário de Mercado:** Validação de regras de negócio com erros explícitos.\n"
      ],
      "cell_type": "markdown"
    },
    {
      "metadata": {
        "id": "I7VeJ0BMlho-"
      },
      "source": [
        "### 3. 🕸️ Profundezas e Conexões\n",
        "\n",
        " <br>\n",
        "Tratamento de erros se integra a **context managers** (`with`), **decoradores** de retry, **frameworks web** que traduzem exceções em respostas HTTP, e **sistemas de logging**/monitoramento. Exceções customizadas mantêm clareza em camadas de serviço.\n",
        " <br>\n",
        "\n",
        "---\n",
        " <br>\n"
      ],
      "cell_type": "markdown"
    },
    {
      "metadata": {
        "id": "6rRKBofHlho-"
      },
      "source": [
        "### 4. 🚀 Ação e Verificação\n",
        "\n",
        " <br>\n",
        "#### **🤔 Desafio Prático**\n",
        "1. Escreva função que lê JSON de arquivo e trate `JSONDecodeError` e `FileNotFoundError`.  \n",
        "2. Use `with` para abrir arquivo e capturar exceções, garantindo fechamento.  \n",
        "3. Implemente decorador `retry` que tenta chamar função até 3 vezes antes de abortar.  \n",
        "4. Defina exceção customizada para validação de dados e use-a.  \n",
        "5. Adicione logging de erros com `logging.exception()`.\n",
        "\n",
        " <br>\n",
        "#### **❓ Pergunta de Verificação**\n",
        "Quando é melhor usar `raise` para repropagar exceções em vez de apenas capturá-las? Quais trade-offs isso traz na arquitetura de software?\n",
        " <br>\n",
        "\n",
        "---\n",
        " <br>\n"
      ],
      "cell_type": "markdown"
    },
    {
      "cell_type": "markdown",
      "source": [],
      "metadata": {
        "id": "_qlm0mU_vk9Z"
      }
    }
  ]
}