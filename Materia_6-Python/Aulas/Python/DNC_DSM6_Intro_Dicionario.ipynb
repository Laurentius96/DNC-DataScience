{
  "nbformat": 4,
  "nbformat_minor": 0,
  "metadata": {
    "colab": {
      "provenance": [],
      "collapsed_sections": [
        "0wFn90ZgXkrB",
        "LPhgt0HLXkrB"
      ]
    },
    "language_info": {
      "name": "python"
    },
    "kernelspec": {
      "name": "python3",
      "display_name": "Python 3"
    }
  },
  "cells": [
    {
      "metadata": {
        "id": "pTMklkQ1Xkq8"
      },
      "source": [
        "## 🎓 **Aula sobre: Introdução aos Dicionários em Python**\n",
        "\n",
        " <br>\n",
        "\n",
        "### 🧭 Sumário da Aula\n",
        "\n",
        "| # | Sub-tópico                      | Tempo Estimado | Complexidade |\n",
        "|---|---------------------------------|----------------|--------------|\n",
        "| 1 | Ficha de Revisão Rápida         | ~1 min         | ⭐           |\n",
        "| 2 | Mergulho Profundo               | ~15 min        | ⭐⭐⭐⭐       |\n",
        "| 3 | Profundezas e Conexões          | ~3 min         | ⭐⭐         |\n",
        "| 4 | Ação e Verificação              | ~5 min         | ⭐⭐         |\n",
        "| 5 | Mergulhos Adicionais            | Opcional      | ⭐⭐⭐⭐     |\n",
        "\n",
        " <br>\n",
        "\n",
        "---\n",
        " <br>\n"
      ],
      "cell_type": "markdown"
    },
    {
      "metadata": {
        "id": "nnS2IxwUXkq9"
      },
      "source": [
        "### 1. 🧠 Ficha de Revisão Rápida | (O Essencial)\n",
        "\n",
        "> Um *dicionário* é uma coleção **mutável** de pares **chave:valor**.  \n",
        "> Sintaxe: `{\"chave1\": valor1, \"chave2\": valor2}`.  \n",
        "> Acesso via `dicionario[chave]`; métodos comuns: `.get()`, `.keys()`, `.values()`, `.items()`, `.update()`, `.pop()`.\n"
      ],
      "cell_type": "markdown"
    },
    {
      "metadata": {
        "id": "IBo9YI_zXkq9"
      },
      "source": [
        "### 2. 🔬 Mergulho Profundo | (Os Detalhes)\n",
        "\n",
        " <br>\n",
        "\n",
        "#### **🎯 O Conceito Central**  \n",
        "Dicionários armazenam mapeamentos eficientes de *chaves* a *valores*. Internamente, usam *hash tables* para oferecer acesso em tempo constante médio.\n",
        "\n",
        " <br>\n",
        "\n",
        "#### **🔗 Analogia de Data Science**  \n",
        "Imagine um *dataset* com identificadores únicos de clientes. Um dicionário é como um índice que, dado o ID, retorna imediatamente os atributos do cliente sem percorrer toda a base.\n"
      ],
      "cell_type": "markdown"
    },
    {
      "metadata": {
        "id": "ny2pLNx0Xkq-"
      },
      "source": [
        "### **💻 Exemplos de Mercado (Abrangentes)**\n",
        "\n",
        "#### **Nível Simples: Criação e Acesso**\n"
      ],
      "cell_type": "markdown"
    },
    {
      "metadata": {
        "id": "A_yxFEQSXkq-"
      },
      "source": [
        "pessoa = {\"nome\": \"Lorenzo\", \"idade\": 28, \"cidade\": \"Eunápolis\"}\n",
        "print(pessoa[\"nome\"])       # \"Lorenzo\"\n",
        "print(pessoa.get(\"idade\"))  # 28\n"
      ],
      "cell_type": "code",
      "execution_count": null,
      "outputs": []
    },
    {
      "metadata": {
        "colab": {
          "base_uri": "https://localhost:8080/"
        },
        "id": "TX3I4EKVXkq-",
        "outputId": "083ebd19-f5bb-430a-dc1a-97cc04a6cb43"
      },
      "source": [
        "# Pratique seu código aqui!\n",
        "\n",
        "pessoa = {\"nome\": \"Lorenzo\", \"idade\": 29, \"cidade\": \"Eunápolis\"}\n",
        "print(pessoa[\"nome\"])\n",
        "print(pessoa.get(\"idade\"))\n",
        "print(pessoa.get(\"altura\"))"
      ],
      "cell_type": "code",
      "execution_count": 8,
      "outputs": [
        {
          "output_type": "stream",
          "name": "stdout",
          "text": [
            "Lorenzo\n",
            "29\n",
            "None\n"
          ]
        }
      ]
    },
    {
      "metadata": {
        "id": "XerslQF9Xkq_"
      },
      "source": [
        "*   **O que o código faz:** Cria dicionário de atributos e acessa valores por chave.  \n",
        "*   **Cenário de Mercado:** Armazenar registros de clientes ou produtos em memória.  \n",
        "*   **Boas Práticas:** Prefira `.get()` para evitar `KeyError` quando a chave pode faltar.\n"
      ],
      "cell_type": "markdown"
    },
    {
      "metadata": {
        "id": "5xmIG1omXkq_"
      },
      "source": [
        "#### **Nível Intermediário: Métodos de Dicionário**\n"
      ],
      "cell_type": "markdown"
    },
    {
      "metadata": {
        "id": "oUQ_s-C7Xkq_"
      },
      "source": [
        "dados = {\"a\": 1, \"b\": 2}\n",
        "dados[\"c\"] = 3                # adiciona/chave nova\n",
        "dados.update({\"b\": 20, \"d\": 4})\n",
        "print(list(dados.keys()))     # [\"a\",\"b\",\"c\",\"d\"]\n",
        "print(list(dados.values()))   # [1,20,3,4]\n",
        "print(list(dados.items()))    # [(\"a\",1),(\"b\",20),...]\n"
      ],
      "cell_type": "code",
      "execution_count": null,
      "outputs": []
    },
    {
      "metadata": {
        "colab": {
          "base_uri": "https://localhost:8080/"
        },
        "id": "HMve12_9XkrA",
        "outputId": "c7f3fdfe-8ed5-4239-b503-0d03666465f2"
      },
      "source": [
        "# Pratique seu código aqui!\n",
        "\n",
        "dados = {\"a\": 1, \"b\": 2}\n",
        "dados[\"c\"] = 3\n",
        "dados.update({\"b\": 20, \"d\": 4})\n",
        "\n",
        "print(list(dados.keys()))\n",
        "print(list(dados.values()))\n",
        "print(list(dados.items()))"
      ],
      "cell_type": "code",
      "execution_count": 15,
      "outputs": [
        {
          "output_type": "stream",
          "name": "stdout",
          "text": [
            "['a', 'b', 'c', 'd']\n",
            "[1, 20, 3, 4]\n",
            "[('a', 1), ('b', 20), ('c', 3), ('d', 4)]\n"
          ]
        }
      ]
    },
    {
      "metadata": {
        "id": "cFpGWsVzXkrA"
      },
      "source": [
        "*   **O que o código faz:** Adiciona e atualiza pares, lista chaves, valores e itens.  \n",
        "*   **Cenário de Mercado:** Sincronizar configurações de sistemas ou agregar métricas por categoria.  \n",
        "*   **Boas Práticas:** Use `.pop()` para remover e obter valor ao mesmo tempo.\n"
      ],
      "cell_type": "markdown"
    },
    {
      "metadata": {
        "id": "DM01wDL5XkrA"
      },
      "source": [
        "#### **Nível Avançado: Dicionário Aninhado e Compreensão**\n"
      ],
      "cell_type": "markdown"
    },
    {
      "metadata": {
        "id": "QlGLiKvBXkrA"
      },
      "source": [
        "# Dicionário de dicionários\n",
        "usuarios = {\n",
        "    \"u1\": {\"nome\":\"Ana\", \"idade\":30},\n",
        "    \"u2\": {\"nome\":\"Bruno\", \"idade\":25}\n",
        "}\n",
        "# Compreensão de dicionário\n",
        "idades = {uid: info[\"idade\"] for uid, info in usuarios.items()}\n",
        "print(idades)  # {\"u1\":30, \"u2\":25}\n"
      ],
      "cell_type": "code",
      "execution_count": null,
      "outputs": []
    },
    {
      "metadata": {
        "colab": {
          "base_uri": "https://localhost:8080/"
        },
        "id": "1a3CvCSjXkrA",
        "outputId": "c8328eec-5be0-42b9-d457-b5b39bbfb0b4"
      },
      "source": [
        "# Pratique seu código aqui!\n",
        "\n",
        "usuarios = {\n",
        "    \"u1\": {\"nome\": \"Ana\", \"idade\": 30},\n",
        "    \"u2\": {\"nome\": \"Bruno\", \"idade\": 25}\n",
        "}\n",
        "\n",
        "idades = {uid: info[\"idade\"] for uid, info in usuarios.items()}\n",
        "print(idades)"
      ],
      "cell_type": "code",
      "execution_count": 18,
      "outputs": [
        {
          "output_type": "stream",
          "name": "stdout",
          "text": [
            "{'u1': 30, 'u2': 25}\n"
          ]
        }
      ]
    },
    {
      "metadata": {
        "id": "in9rM72FXkrA"
      },
      "source": [
        "*   **O que o código faz:** Cria mapeamento das idades usando compreensão.  \n",
        "*   **Cenário de Mercado:** Extrair colunas específicas de registros complexos.\n"
      ],
      "cell_type": "markdown"
    },
    {
      "metadata": {
        "id": "BqPkH_6fXkrB"
      },
      "source": [
        "#### **Nível DEUS (1/3): Uso de `defaultdict` para contagem**\n"
      ],
      "cell_type": "markdown"
    },
    {
      "metadata": {
        "id": "QUXE_njzXkrB"
      },
      "source": [
        "from collections import defaultdict\n",
        "contagem = defaultdict(int)\n",
        "for letra in \"banana\":\n",
        "    contagem[letra] += 1\n",
        "print(dict(contagem))  # {'b':1,'a':3,'n':2}\n"
      ],
      "cell_type": "code",
      "execution_count": null,
      "outputs": []
    },
    {
      "metadata": {
        "colab": {
          "base_uri": "https://localhost:8080/"
        },
        "id": "gDu97BZoXkrB",
        "outputId": "bdca7ffa-f80c-49da-cc60-bc411e3d11a1"
      },
      "source": [
        "# Pratique seu código aqui!\n",
        "\n",
        "from collections import defaultdict\n",
        "\n",
        "contagem = defaultdict(int)\n",
        "for letra in \"banana\":\n",
        "  contagem [letra] += 1\n",
        "\n",
        "print(contagem)\n",
        "print(dict(contagem))\n"
      ],
      "cell_type": "code",
      "execution_count": 26,
      "outputs": [
        {
          "output_type": "stream",
          "name": "stdout",
          "text": [
            "defaultdict(<class 'int'>, {'b': 1, 'a': 3, 'n': 2})\n",
            "{'b': 1, 'a': 3, 'n': 2}\n"
          ]
        }
      ]
    },
    {
      "metadata": {
        "id": "4vHvCegyXkrB"
      },
      "source": [
        "*   **O que o código faz:** Usa `defaultdict` para inicializar contadores automaticamente.  \n",
        "*   **Cenário de Mercado:** Contagem de ocorrências em logs ou respostas de clientes.\n"
      ],
      "cell_type": "markdown"
    },
    {
      "cell_type": "markdown",
      "source": [
        "## **Sobre o código acima**\n",
        "\n",
        "Esse código **conta quantas vezes cada letra aparece** na palavra `\"banana\"` usando um `defaultdict(int)`, que **evita erros ao acessar chaves inexistentes** — ele automaticamente começa cada nova chave com o valor `0`.\n",
        "\n",
        "---\n",
        "\n",
        "### **Analogia do Dia**\n",
        "\n",
        "Imagine que você está organizando votos para letras em uma urna.\n",
        "Com o `defaultdict(int)`, cada vez que uma nova letra aparece, o sistema já começa o contador dela em **0 automaticamente** — como se cada letra tivesse uma **cédula de votos vazia pronta**, mesmo antes de aparecer.\n",
        "\n",
        "---\n",
        "\n",
        "### **Análise Técnica Detalhada**\n",
        "\n",
        "#### 🧱 Linha por linha:\n",
        "\n",
        "```python\n",
        "from collections import defaultdict\n",
        "```\n",
        "\n",
        "* Importa o `defaultdict` da biblioteca padrão `collections`.\n",
        "* O `defaultdict` é **um tipo especial de dicionário** com valor padrão automático.\n",
        "\n",
        "---\n",
        "\n",
        "```python\n",
        "contagem = defaultdict(int)\n",
        "```\n",
        "\n",
        "* Cria um dicionário onde **cada nova chave recebe `0` automaticamente**.\n",
        "* O `int` aqui é uma **função construtora** que retorna `0` por padrão (como se fosse `int()` → `0`).\n",
        "\n",
        "**Sem defaultdict:**\n",
        "\n",
        "```python\n",
        "contagem[\"a\"] += 1  # ❌ Dá erro se \"a\" não existir\n",
        "```\n",
        "\n",
        "**Com defaultdict:**\n",
        "\n",
        "```python\n",
        "contagem[\"a\"] += 1  # ✅ Começa de 0 automaticamente, soma 1\n",
        "```\n",
        "\n",
        "---\n",
        "\n",
        "```python\n",
        "for letra in \"banana\":\n",
        "    contagem[letra] += 1\n",
        "```\n",
        "\n",
        "* Loop que percorre cada letra da string `\"banana\"`:\n",
        "\n",
        "  * Iteração 1: letra = `'b'`\n",
        "  * Iteração 2: letra = `'a'`\n",
        "  * Iteração 3: letra = `'n'`\n",
        "  * ...\n",
        "\n",
        "* Em cada passo:\n",
        "\n",
        "  * Se a letra **ainda não estiver no dicionário**, o `defaultdict` cria a chave com valor `0`.\n",
        "  * Depois, soma `1`.\n",
        "\n",
        "---\n",
        "\n",
        "```python\n",
        "print(dict(contagem))\n",
        "```\n",
        "\n",
        "* Converte o `defaultdict` de volta para um `dict` comum, só pra **imprimir bonitinho**.\n",
        "* Resultado:\n",
        "\n",
        "```python\n",
        "{'b': 1, 'a': 3, 'n': 2}\n",
        "```\n",
        "\n",
        "---\n",
        "\n",
        "### **Nota de Rodapé para Novatos**\n",
        "\n",
        "* **`defaultdict`**: Dicionário que cria automaticamente valores padrão para novas chaves.\n",
        "* **`int` como fábrica de valor**: Passar `int` para `defaultdict` faz com que novas chaves comecem com `0`.\n",
        "* **Chave (`key`)**: Nome do \"compartimento\" no dicionário (ex: `'a'`, `'b'`)\n",
        "* **Valor (`value`)**: O que está armazenado para cada chave (ex: a contagem de letras).\n",
        "* **`dict()`**: Função que transforma o `defaultdict` de volta em um dicionário comum.\n",
        "\n",
        "---\n",
        "\n",
        "### **Aplicação Prática e Boas Práticas**\n",
        "\n",
        "* ✅ Muito útil em **contagens de elementos**, como palavras, caracteres, votos, etc.\n",
        "* ✅ Evita o uso de verificações como:\n",
        "\n",
        "```python\n",
        "if letra in contagem:\n",
        "    contagem[letra] += 1\n",
        "else:\n",
        "    contagem[letra] = 1\n",
        "```\n",
        "\n",
        "→ Com `defaultdict`, você escreve apenas **uma linha simples**.\n",
        "\n",
        "* 📊 Em Ciência de Dados:\n",
        "\n",
        "  * Pode ser usado para contar categorias, frequência de tokens, ou montar dicionários de agregações com segurança.\n",
        "\n",
        "---\n",
        "\n",
        "### **Resumo da Lição**\n",
        "\n",
        "O `defaultdict(int)` é perfeito para **contagens seguras e automáticas**, porque **cria chaves com valor 0 sem erro** — tornando o código mais **limpo, legível e eficiente**.\n",
        "\n",
        "---\n"
      ],
      "metadata": {
        "id": "wO3YdOVAe72G"
      }
    },
    {
      "cell_type": "code",
      "source": [],
      "metadata": {
        "id": "AktzNvcRpghz"
      },
      "execution_count": null,
      "outputs": []
    },
    {
      "cell_type": "code",
      "source": [],
      "metadata": {
        "id": "yEx8_FJ3pgXv"
      },
      "execution_count": null,
      "outputs": []
    },
    {
      "cell_type": "markdown",
      "source": [
        "## defaultdict(list)` ou `defaultdict(set)\n",
        "\n",
        "Vamos explorar juntos as **variações mais úteis do `defaultdict`** com `list`, `set` e até funções personalizadas — sempre com exemplos práticos.\n",
        "\n",
        "---\n",
        "\n",
        "### **Resposta Rápida**\n",
        "\n",
        "Você pode usar `defaultdict(list)` ou `defaultdict(set)` para criar **coleções vazias automaticamente** ao acessar novas chaves. Isso evita erros e simplifica o código para **agrupar, coletar ou eliminar duplicados**.\n",
        "\n",
        "---\n",
        "\n",
        "### **Analogia do Dia**\n",
        "\n",
        "É como ter um armário onde, ao abrir uma gaveta nova, ela **já vem com um cesto vazio** (uma lista ou um conjunto), pronta para você colocar itens. Você não precisa se preocupar em colocar a cesta — ela já está lá, automaticamente.\n",
        "\n",
        "---\n",
        "\n",
        "### **Análise Técnica Detalhada**\n",
        "\n",
        "---\n",
        "\n",
        "## ✅ **1. `defaultdict(list)` – Agrupando valores em listas**\n",
        "\n",
        "### 📦 Uso típico: agrupar elementos por chave\n",
        "\n",
        "```python\n",
        "from collections import defaultdict\n",
        "\n",
        "notas = [(\"João\", 8), (\"Ana\", 9), (\"João\", 7)]\n",
        "\n",
        "agrupadas = defaultdict(list)\n",
        "for nome, nota in notas:\n",
        "    agrupadas[nome].append(nota)\n",
        "\n",
        "print(dict(agrupadas))\n",
        "```\n",
        "\n",
        "### 🧠 Saída:\n",
        "\n",
        "```python\n",
        "{'João': [8, 7], 'Ana': [9]}\n",
        "```\n",
        "\n",
        "* A cada nova chave (nome), uma **lista vazia** é criada automaticamente.\n",
        "\n",
        "---\n",
        "\n",
        "## ✅ **2. `defaultdict(set)` – Evitando valores repetidos**\n",
        "\n",
        "### 📦 Uso típico: coletar dados **sem duplicatas**\n",
        "\n",
        "```python\n",
        "from collections import defaultdict\n",
        "\n",
        "emails = [\n",
        "    (\"lucas\", \"lucas@email.com\"),\n",
        "    (\"lucas\", \"lucas@email.com\"),  # repetido\n",
        "    (\"ana\", \"ana@email.com\"),\n",
        "]\n",
        "\n",
        "agenda = defaultdict(set)\n",
        "for pessoa, email in emails:\n",
        "    agenda[pessoa].add(email)\n",
        "\n",
        "print(dict(agenda))\n",
        "```\n",
        "\n",
        "### 🧠 Saída:\n",
        "\n",
        "```python\n",
        "{'lucas': {'lucas@email.com'}, 'ana': {'ana@email.com'}}\n",
        "```\n",
        "\n",
        "* Cada chave começa com um **conjunto vazio (`set`)**, que **elimina duplicatas automaticamente**.\n",
        "\n",
        "---\n",
        "\n",
        "## ✅ **3. Função personalizada como valor padrão**\n",
        "\n",
        "### 📦 Quando quiser **controlar o valor inicial** com mais flexibilidade\n",
        "\n",
        "```python\n",
        "from collections import defaultdict\n",
        "\n",
        "def padrao():\n",
        "    return {\"soma\": 0, \"quantidade\": 0}\n",
        "\n",
        "dados = defaultdict(padrao)\n",
        "dados[\"produto1\"][\"soma\"] += 10\n",
        "dados[\"produto1\"][\"quantidade\"] += 1\n",
        "\n",
        "print(dict(dados))\n",
        "```\n",
        "\n",
        "### 🧠 Saída:\n",
        "\n",
        "```python\n",
        "{'produto1': {'soma': 10, 'quantidade': 1}}\n",
        "```\n",
        "\n",
        "* A função `padrao()` gera um dicionário com valores específicos sempre que uma nova chave for criada.\n",
        "\n",
        "---\n",
        "\n",
        "### **Nota de Rodapé para Novatos**\n",
        "\n",
        "* **`defaultdict(list)`**: Cria uma lista vazia para cada nova chave.\n",
        "* **`defaultdict(set)`**: Cria um conjunto (sem duplicatas) para cada nova chave.\n",
        "* **`append()`**: Adiciona elementos à lista.\n",
        "* **`add()`**: Adiciona elementos a um set.\n",
        "* **Função construtora:** Função que retorna o valor inicial de cada chave (como `int`, `list`, ou personalizada).\n",
        "\n",
        "---\n",
        "\n",
        "### **Aplicação Prática e Boas Práticas**\n",
        "\n",
        "| Desejo                                  | Melhor `defaultdict` |\n",
        "| --------------------------------------- | -------------------- |\n",
        "| Agrupar itens (como notas por aluno)    | `defaultdict(list)`  |\n",
        "| Eliminar repetidos automaticamente      | `defaultdict(set)`   |\n",
        "| Inicializar com estrutura personalizada | Função personalizada |\n",
        "\n",
        "* Em Ciência de Dados, esses padrões são úteis para:\n",
        "\n",
        "  * Agrupar dados categóricos\n",
        "  * Montar histogramas\n",
        "  * Construir dicionários de frequência com múltiplos valores\n",
        "\n",
        "---\n",
        "\n",
        "### **Resumo da Lição**\n",
        "\n",
        "Use `defaultdict(list)` para **agrupar valores**, `defaultdict(set)` para **evitar repetições** e funções personalizadas para **controle total** — isso deixa seu código **mais limpo, seguro e poderoso**.\n",
        "\n",
        "---\n",
        "\n",
        "Se quiser, posso montar **um desafio final com `defaultdict(list)` ou `set`** para você aplicar o que aprendeu! Quer tentar? 😄\n"
      ],
      "metadata": {
        "id": "EmFhBKp7oEVi"
      }
    },
    {
      "cell_type": "code",
      "source": [
        "from collections import defaultdict\n",
        "\n",
        "compras = [\n",
        "    (\"fruta\", \"banana\"),\n",
        "    (\"fruta\", \"maçã\"),\n",
        "    (\"legume\", \"cenoura\"),\n",
        "    (\"fruta\", \"banana\"),  # repetido\n",
        "    (\"legume\", \"batata\"),\n",
        "    (\"bebida\", \"água\"),\n",
        "]\n",
        "\n",
        "agrupados = defaultdict(list)\n",
        "\n",
        "for tipo, alimento in compras:\n",
        "  agrupados[tipo].append(alimento)\n",
        "\n",
        "print(dict(agrupados))\n"
      ],
      "metadata": {
        "colab": {
          "base_uri": "https://localhost:8080/"
        },
        "id": "KgmeAaJMiXP7",
        "outputId": "3bd37706-673b-45ae-afae-c8da8b9d49b8"
      },
      "execution_count": 39,
      "outputs": [
        {
          "output_type": "stream",
          "name": "stdout",
          "text": [
            "{'fruta': ['banana', 'maçã', 'banana'], 'legume': ['cenoura', 'batata'], 'bebida': ['água']}\n"
          ]
        }
      ]
    },
    {
      "cell_type": "code",
      "source": [
        "from collections import defaultdict\n",
        "\n",
        "compras = [\n",
        "    (\"fruta\", \"banana\"),\n",
        "    (\"fruta\", \"maçã\"),\n",
        "    (\"legume\", \"cenoura\"),\n",
        "    (\"fruta\", \"banana\"),  # repetido\n",
        "    (\"legume\", \"batata\"),\n",
        "    (\"bebida\", \"água\"),\n",
        "]\n",
        "\n",
        "agrupados = defaultdict(set)\n",
        "\n",
        "for tipo, alimento in compras:\n",
        "  agrupados[tipo].add(alimento)\n",
        "\n",
        "print(dict(agrupados))\n"
      ],
      "metadata": {
        "colab": {
          "base_uri": "https://localhost:8080/"
        },
        "id": "l89yqTGCoT9W",
        "outputId": "87e359f9-f369-481b-ce4d-b86ee59b3783"
      },
      "execution_count": 38,
      "outputs": [
        {
          "output_type": "stream",
          "name": "stdout",
          "text": [
            "{'fruta': {'banana', 'maçã'}, 'legume': {'batata', 'cenoura'}, 'bebida': {'água'}}\n"
          ]
        }
      ]
    },
    {
      "cell_type": "markdown",
      "source": [
        "| Ponto-chave           | `defaultdict(list)`     | `defaultdict(set)`            |\n",
        "| --------------------- | ----------------------- | ----------------------------- |\n",
        "| Mantém repetidos?     | ✅ Sim                   | ❌ Não                         |\n",
        "| Ordem garantida?      | ✅ Sim (até Python 3.6+) | ❌ Não (sets são desordenados) |\n",
        "| Método para adicionar | `.append(valor)`        | `.add(valor)`                 |\n"
      ],
      "metadata": {
        "id": "NdevFIrPo5Eh"
      }
    },
    {
      "metadata": {
        "id": "0wFn90ZgXkrB"
      },
      "source": [
        "#### **Nível DEUS (2/3): Ordenação de Dicionário**\n"
      ],
      "cell_type": "markdown"
    },
    {
      "metadata": {
        "id": "BvcXiZt_XkrB"
      },
      "source": [
        "# Ordena por valor\n",
        "original = {\"x\": 3, \"y\": 1, \"z\": 2}\n",
        "ordenado = dict(sorted(original.items(), key=lambda item: item[1]))\n",
        "print(ordenado)  # {'y':1,'z':2,'x':3}\n"
      ],
      "cell_type": "code",
      "execution_count": null,
      "outputs": []
    },
    {
      "metadata": {
        "colab": {
          "base_uri": "https://localhost:8080/"
        },
        "id": "UBaJaAs7XkrB",
        "outputId": "30c5b68d-340b-453e-cee4-9fd8497a7939"
      },
      "source": [
        "# Pratique seu código aqui!\n",
        "\n",
        "original = {\"x\": 3, \"y\": 1, \"z\": 2}\n",
        "\n",
        "ordenado = dict(sorted(original.items(), key=lambda item: item[1]))\n",
        "print(ordenado)\n"
      ],
      "cell_type": "code",
      "execution_count": 31,
      "outputs": [
        {
          "output_type": "stream",
          "name": "stdout",
          "text": [
            "{'y': 1, 'z': 2, 'x': 3}\n"
          ]
        }
      ]
    },
    {
      "metadata": {
        "id": "CssYpATgXkrB"
      },
      "source": [
        "*   **O que o código faz:** Gera novo dicionário ordenado pelos valores.  \n",
        "*   **Cenário de Mercado:** Ranking de produtos ou performance de campanhas.\n"
      ],
      "cell_type": "markdown"
    },
    {
      "metadata": {
        "id": "LPhgt0HLXkrB"
      },
      "source": [
        "#### **Nível DEUS (3/3): Fusão de Dicionários (Python 3.9+)**\n"
      ],
      "cell_type": "markdown"
    },
    {
      "metadata": {
        "id": "7qUzvWx_XkrC"
      },
      "source": [
        "d1 = {\"a\": 1, \"b\": 2}\n",
        "d2 = {\"b\": 20, \"c\": 3}\n",
        "fusionado = d1 | d2  # {'a':1,'b':20,'c':3}\n",
        "print(fusionado)\n"
      ],
      "cell_type": "code",
      "execution_count": null,
      "outputs": []
    },
    {
      "metadata": {
        "colab": {
          "base_uri": "https://localhost:8080/"
        },
        "id": "LAL8sAYlXkrC",
        "outputId": "562897e6-15a4-43ac-accc-9c52239b1085"
      },
      "source": [
        "# Pratique seu código aqui!\n",
        "\n",
        "d1 = {\"a\": 1, \"b\": 2}\n",
        "d2 = {\"b\": 20, \"c\": 3}\n",
        "fusionado = d1 | d2\n",
        "print(fusionado)\n"
      ],
      "cell_type": "code",
      "execution_count": 34,
      "outputs": [
        {
          "output_type": "stream",
          "name": "stdout",
          "text": [
            "{'a': 1, 'b': 20, 'c': 3}\n"
          ]
        }
      ]
    },
    {
      "metadata": {
        "id": "Hq2s0NOYXkrC"
      },
      "source": [
        "*   **O que o código faz:** Usa operador `|` para mesclar dicionários, valores de d2 prevalecem.  \n",
        "*   **Cenário de Mercado:** Mesclar configurações padrão e específicas de usuários.\n"
      ],
      "cell_type": "markdown"
    },
    {
      "metadata": {
        "id": "2d1hbtU1XkrC"
      },
      "source": [
        "### 3. 🕸️ Profundezas e Conexões\n",
        "\n",
        " <br>\n",
        "\n",
        "Dicionários são fundamentais para representação de JSON em Python e se integram a *pandas* via `DataFrame.from_dict()`. Em *APIs*, servem como payloads de entrada/saída. Saber manipular mapeamentos acelera tarefas de agregação e filtragem de dados.\n",
        "\n",
        " <br>\n",
        "\n",
        "---\n",
        "\n",
        " <br>\n"
      ],
      "cell_type": "markdown"
    },
    {
      "metadata": {
        "id": "wbkrJJzYXkrC"
      },
      "source": [
        "### 4. 🚀 Ação e Verificação\n",
        "\n",
        "<br>\n",
        "\n",
        "#### **🤔 Desafio Prático**\n",
        "1. Crie `config = {\"host\":\"localhost\",\"port\":8080}` e atualize para `port=9090`.  \n",
        "2. Leia uma lista de tuplas `[(\"a\",1),(\"b\",2)]` e converta em dicionário.  \n",
        "3. Use `defaultdict(list)` para agrupar valores de `[(1,\"x\"),(2,\"y\"),(1,\"z\")]` por chave.  \n",
        "4. Ordene um dicionário de notas `{“Ana”:8, “Bruno”:9, “Carlos”:7}` em ordem decrescente de nota.  \n",
        "5. Mescle dois dicionários de parâmetros usando o operador `|`.\n",
        "\n",
        "<br>\n",
        "\n",
        "#### **❓ Pergunta de Verificação**\n",
        "Quando usar dicionários em vez de listas ou conjuntos? Quais vantagens de acesso por chave e performance eles oferecem?\n",
        "\n",
        "<br>\n",
        "\n",
        "---\n",
        "\n",
        "<br>\n"
      ],
      "cell_type": "markdown"
    },
    {
      "cell_type": "markdown",
      "source": [
        "### **Resposta Rápida**\n",
        "\n",
        "Use **dicionários (`dict`)** quando precisar associar **chaves a valores**, como em pares “nome → idade” ou “produto → preço”. Dicionários oferecem acesso **muito rápido por chave** e são ideais para buscas, contagens e estruturas nomeadas.\n",
        "\n",
        "---\n",
        "\n",
        "### **Analogia do Dia**\n",
        "\n",
        "Pense em uma **agenda telefônica**: você procura um nome (chave) e encontra o número (valor). Já listas e conjuntos são como **listas de presença** — você precisa **procurar item por item** até achar. Dicionários te levam **direto ao ponto**, como uma pesquisa no Google.\n",
        "\n",
        "---\n",
        "\n",
        "### **Análise Técnica Detalhada**\n",
        "\n",
        "#### ⚖️ Comparação entre estruturas\n",
        "\n",
        "| Estrutura | Quando usar                           | Tipo de acesso          | Duplicatas  | Ordenado (3.7+) |\n",
        "| --------- | ------------------------------------- | ----------------------- | ----------- | --------------- |\n",
        "| `list`    | Quando a ordem importa e há repetição | Por índice (posição)    | ✅ Sim       | ✅ Sim           |\n",
        "| `set`     | Para armazenar valores únicos         | Por presença (`in`)     | ❌ Não       | ❌ Não           |\n",
        "| `dict`    | Para associar chaves → valores        | Por chave (`dict[key]`) | ✅ (valores) | ✅ Sim           |\n",
        "\n",
        "---\n",
        "\n",
        "### 🔑 Por que usar dicionários?\n",
        "\n",
        "#### 1. **Acesso direto e rápido por chave**\n",
        "\n",
        "```python\n",
        "idades = {\"Ana\": 28, \"João\": 35}\n",
        "print(idades[\"Ana\"])  # ✅ Acesso direto, muito rápido\n",
        "```\n",
        "\n",
        "* Busca é feita por **tabela hash** (mais eficiente que percorrer lista).\n",
        "\n",
        "#### 2. **Relacionamento semântico entre dados**\n",
        "\n",
        "```python\n",
        "produto = {\n",
        "    \"nome\": \"Camiseta\",\n",
        "    \"preço\": 39.90,\n",
        "    \"estoque\": 12\n",
        "}\n",
        "```\n",
        "\n",
        "* Cada valor está **claramente rotulado** — muito melhor que uma lista `[“Camiseta”, 39.90, 12]`\n",
        "\n",
        "#### 3. **Flexibilidade e extensão**\n",
        "\n",
        "* Você pode adicionar, alterar ou remover pares com facilidade:\n",
        "\n",
        "```python\n",
        "produto[\"estoque\"] += 5\n",
        "del produto[\"preço\"]\n",
        "```\n",
        "\n",
        "#### 4. **Evita estruturas paralelas (listas separadas)**\n",
        "\n",
        "```python\n",
        "# ERRADO: dados separados\n",
        "nomes = [\"Ana\", \"João\"]\n",
        "idades = [28, 35]\n",
        "\n",
        "# CERTO: tudo junto\n",
        "pessoas = {\"Ana\": 28, \"João\": 35}\n",
        "```\n",
        "\n",
        "---\n",
        "\n",
        "### **Nota de Rodapé para Novatos**\n",
        "\n",
        "* **Dicionário (`dict`)**: Estrutura que armazena pares `chave: valor`.\n",
        "* **Chave (key)**: Elemento único usado para buscar o valor (ex: \"nome\").\n",
        "* **Valor (value)**: O dado associado à chave (ex: 28).\n",
        "* **Hash:** Técnica usada internamente para localizar valores de forma rápida.\n",
        "* **Tabela hash:** Estrutura que permite busca quase instantânea por chave.\n",
        "\n",
        "---\n",
        "\n",
        "### **Aplicação Prática e Boas Práticas**\n",
        "\n",
        "* ✅ Em **ciência de dados**:\n",
        "\n",
        "  * Dicionários são usados para representar **linhas, configurações, contagens, agrupamentos e mapeamentos**\n",
        "  * Exemplo:\n",
        "\n",
        "    ```python\n",
        "    contagem = {\"sim\": 23, \"não\": 17}\n",
        "    ```\n",
        "\n",
        "* ✅ Use `dict` para:\n",
        "\n",
        "  * Contar elementos (`defaultdict(int)`)\n",
        "  * Mapear valores (`{\"A\": 10, \"B\": 8}`)\n",
        "  * Trabalhar com JSON (estrutura baseada em dicionário)\n",
        "\n",
        "* ❌ Evite usar dicionários quando:\n",
        "\n",
        "  * Você **não precisa de rótulos/chaves**\n",
        "  * A ordem e repetição dos itens é mais importante que a relação chave-valor\n",
        "\n",
        "---\n",
        "\n",
        "### **Resumo da Lição**\n",
        "\n",
        "Prefira dicionários quando quiser **ligar dados a rótulos (chaves)** e acessar valores rapidamente — eles oferecem **performance, organização e clareza** superiores às listas e conjuntos para dados estruturados.\n",
        "\n",
        "---\n"
      ],
      "metadata": {
        "id": "wx3ZxNRGp3vE"
      }
    }
  ]
}