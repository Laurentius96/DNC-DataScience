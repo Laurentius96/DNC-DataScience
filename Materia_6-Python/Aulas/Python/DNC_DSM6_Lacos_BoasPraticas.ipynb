{
  "nbformat": 4,
  "nbformat_minor": 0,
  "metadata": {
    "colab": {
      "provenance": []
    },
    "language_info": {
      "name": "python"
    },
    "kernelspec": {
      "name": "python3",
      "display_name": "Python 3"
    }
  },
  "cells": [
    {
      "metadata": {
        "id": "oAyKjeyZ4iYt"
      },
      "source": [
        "## 🎓 **Aula sobre: Boas Práticas sobre Laços de Repetição**\n",
        "\n",
        " <br>\n",
        "\n",
        "### 🧭 Sumário da Aula\n",
        "\n",
        "| # | Sub-tópico                      | Tempo Estimado | Complexidade |\n",
        "|---|---------------------------------|----------------|--------------|\n",
        "| 1 | Ficha de Revisão Rápida         | ~1 min         | ⭐            |\n",
        "| 2 | Mergulho Profundo               | ~15 min        | ⭐⭐⭐⭐        |\n",
        "| 3 | Profundezas e Conexões          | ~3 min         | ⭐⭐          |\n",
        "| 4 | Ação e Verificação              | ~5 min         | ⭐⭐          |\n",
        "| 5 | Mergulhos Adicionais            | Opcional       | ⭐⭐⭐⭐        |\n",
        "\n",
        " <br>\n",
        "\n",
        "---\n",
        "\n",
        " <br>\n"
      ],
      "cell_type": "markdown"
    },
    {
      "metadata": {
        "id": "vePMTzvy4iYw"
      },
      "source": [
        "### 1. 🧠 Ficha de Revisão Rápida | (O Essencial)\n",
        "\n",
        " <br>\n",
        "\n",
        "> - **Evite loops infinitos:** garanta que a condição ou o iterável sempre avance.  \n",
        "> - **Use `for` com sequências:** prefira `for x in iterable` a `while` quando possível.  \n",
        "> - **Prefira comprehensions:** para criar listas ou dicionários de forma concisa e eficiente.  \n",
        "> - **Use `enumerate` e `zip`:** obtenha índices ou itere múltiplas sequências sem gerenciar contadores manuais.  \n",
        "> - **Quebre cedo (`break`):** use cláusulas de saída antecipada para simplificar lógica.  \n",
        "> - **Minimize aninhamentos:** extraia blocos em funções para clareza.  \n",
        "> - **Não modifique coleções enquanto itera:** itere sobre cópias ou use compreensões.  \n",
        "> - **Considere performance:** para grandes volumes, prefira operações vetorizadas ou `itertools`.\n"
      ],
      "cell_type": "markdown"
    },
    {
      "metadata": {
        "id": "sZL7xxgU4iYw"
      },
      "source": [
        "### 2. 🔬 Mergulho Profundo | (Os Detalhes)\n",
        "\n",
        " <br>\n",
        "\n",
        "#### **🎯 O Conceito Central**  \n",
        "Boas práticas de loop garantem código legível, eficiente e menos suscetível a erros. Estruturas simples reduzidas a um propósito claro facilitam revisão e manutenção.\n",
        "\n",
        " <br>\n",
        "\n",
        "#### **🔗 Analogia de Data Science**  \n",
        "Pense em cada iteração como um processamento em lote: se seu laço for lento ou mal estruturado, todo o pipeline de transformação de dados fica comprometido. Otimizar loops é como paralelizar ou vetorializar etapas em pipelines de dados para ganhar velocidade e confiabilidade.\n"
      ],
      "cell_type": "markdown"
    },
    {
      "metadata": {
        "id": "c36Sso764iYw"
      },
      "source": [
        "### **💻 Exemplos de Mercado (Abrangentes)**\n",
        "#### **Nível Simples: Uso de `enumerate` para evitar contador manual**\n"
      ],
      "cell_type": "markdown"
    },
    {
      "metadata": {
        "id": "YLpyu3Ft4iYx"
      },
      "source": [
        "frutas = [\"maçã\", \"banana\", \"laranja\"]\n",
        "for idx, fruta in enumerate(frutas, start=1):\n",
        "    print(f\"{idx}: {fruta}\")\n"
      ],
      "cell_type": "code",
      "execution_count": null,
      "outputs": []
    },
    {
      "metadata": {
        "colab": {
          "base_uri": "https://localhost:8080/"
        },
        "id": "eiEPWTRM4iYy",
        "outputId": "43b765cb-5ceb-406c-c172-556616440267"
      },
      "source": [
        "# Pratique seu código aqui!\n",
        "\n",
        "frutas = [\"maçã\", \"banana\", \"laranja\"]\n",
        "for idx, fruta in enumerate(frutas, start=1):\n",
        "    print(f\"{idx}: {fruta}\")"
      ],
      "cell_type": "code",
      "execution_count": 1,
      "outputs": [
        {
          "output_type": "stream",
          "name": "stdout",
          "text": [
            "1: maçã\n",
            "2: banana\n",
            "3: laranja\n"
          ]
        }
      ]
    },
    {
      "metadata": {
        "id": "8RcFYYDw4iYy"
      },
      "source": [
        "*   **O que o código faz:** Substitui contador manual e índice por `enumerate`.  \n",
        "*   **Cenário de Mercado:** Listagem ordenada de itens em relatórios.  \n",
        "*   **Boas Práticas:** Use `start=` para ajustar índice inicial sem lógica extra.\n"
      ],
      "cell_type": "markdown"
    },
    {
      "metadata": {
        "id": "qiUe7As94iYy"
      },
      "source": [
        "#### **Nível Intermediário: Compreensão de Lista em vez de `for`+`append`**\n"
      ],
      "cell_type": "markdown"
    },
    {
      "metadata": {
        "id": "e3cK3s6F4iYy"
      },
      "source": [
        "# Má prática\n",
        "quadrados = []\n",
        "for x in range(10):\n",
        "    quadrados.append(x**2)\n",
        "\n",
        "# Boa prática\n",
        "quadrados = [x**2 for x in range(10)]\n"
      ],
      "cell_type": "code",
      "execution_count": null,
      "outputs": []
    },
    {
      "metadata": {
        "colab": {
          "base_uri": "https://localhost:8080/"
        },
        "id": "pcr_GRF94iYz",
        "outputId": "67585a55-72d1-4c4d-f56f-1a731fea75c2"
      },
      "source": [
        "# Pratique seu código aqui!\n",
        "\n",
        "quadrados = [x**2 for x in range(10)]\n",
        "print(quadrados)"
      ],
      "cell_type": "code",
      "execution_count": 4,
      "outputs": [
        {
          "output_type": "stream",
          "name": "stdout",
          "text": [
            "[0, 1, 4, 9, 16, 25, 36, 49, 64, 81]\n"
          ]
        }
      ]
    },
    {
      "metadata": {
        "id": "SA5clRHO4iYz"
      },
      "source": [
        "*   **O que o código faz:** Cria lista de quadrados de forma mais concisa e eficiente.  \n",
        "*   **Cenário de Mercado:** Geração de features derivadas em Data Science.  \n",
        "*   **Boas Práticas:** Prefira comprehensions quando a lógica for simples e linear.\n"
      ],
      "cell_type": "markdown"
    },
    {
      "metadata": {
        "id": "DodLCoIg4iYz"
      },
      "source": [
        "#### **Nível Avançado: Evitando modificação durante a iteração**\n"
      ],
      "cell_type": "markdown"
    },
    {
      "metadata": {
        "id": "DOQjIXA14iYz"
      },
      "source": [
        "itens = [1, 2, 3, 4, 5]\n",
        "# Má prática: removendo enquanto itera\n",
        "for x in itens:\n",
        "    if x % 2 == 0:\n",
        "        itens.remove(x)\n",
        "\n",
        "# Boa prática: iterar sobre cópia ou usar compreensão\n",
        "itens_limp = [x for x in itens if x % 2 != 0]\n"
      ],
      "cell_type": "code",
      "execution_count": null,
      "outputs": []
    },
    {
      "metadata": {
        "colab": {
          "base_uri": "https://localhost:8080/"
        },
        "id": "h9JmfKWy4iYz",
        "outputId": "81886ad7-cf81-457c-d08f-8c6e7c0540df"
      },
      "source": [
        "# Pratique seu código aqui!\n",
        "\n",
        "itens = [1, 2, 3, 4, 5]\n",
        "for x in itens:\n",
        "  if x % 2 == 0:\n",
        "    itens.remove(x)\n",
        "    print(itens)\n",
        "\n",
        "itens_limp = [x for x in itens if x % 2 != 0]\n",
        "print(itens_limp)"
      ],
      "cell_type": "code",
      "execution_count": 11,
      "outputs": [
        {
          "output_type": "stream",
          "name": "stdout",
          "text": [
            "[1, 3, 4, 5]\n",
            "[1, 3, 5]\n",
            "[1, 3, 5]\n"
          ]
        }
      ]
    },
    {
      "metadata": {
        "id": "jXshGGtO4iY0"
      },
      "source": [
        "*   **O que o código faz:** Evita inconsistências ao não alterar a lista original.  \n",
        "*   **Cenário de Mercado:** Limpeza de dados sem corromper o conjunto original.  \n",
        "*   **Boas Práticas:** Sempre opere sobre cópias ou use filtros funcionais.\n"
      ],
      "cell_type": "markdown"
    },
    {
      "metadata": {
        "id": "pK7YsHkX4iY0"
      },
      "source": [
        "#### **Nível DEUS (1/3): Uso de `itertools` para loops complexos**\n"
      ],
      "cell_type": "markdown"
    },
    {
      "metadata": {
        "id": "wYt3oood4iY0"
      },
      "source": [
        "import itertools\n",
        "# Itera infinitamente até condição de parada interna\n",
        "for i in itertools.count(1):\n",
        "    if i > 5:\n",
        "        break\n",
        "    print(i)\n"
      ],
      "cell_type": "code",
      "execution_count": null,
      "outputs": []
    },
    {
      "metadata": {
        "colab": {
          "base_uri": "https://localhost:8080/"
        },
        "id": "uWe01eu74iY0",
        "outputId": "a4f74f60-933a-4424-a8e7-5560b64dfb74"
      },
      "source": [
        "# Pratique seu código aqui!\n",
        "\n",
        "import itertools\n",
        "for i in itertools.count(1):\n",
        "    if i > 5:\n",
        "        break\n",
        "    print(i)\n"
      ],
      "cell_type": "code",
      "execution_count": 12,
      "outputs": [
        {
          "output_type": "stream",
          "name": "stdout",
          "text": [
            "1\n",
            "2\n",
            "3\n",
            "4\n",
            "5\n"
          ]
        }
      ]
    },
    {
      "metadata": {
        "id": "vEBxTgSg4iY0"
      },
      "source": [
        "*   **O que o código faz:** Gera sequência infinita e controla saída com `break`.  \n",
        "*   **Cenário de Mercado:** Leitura contínua de streams de dados até atender critério.\n"
      ],
      "cell_type": "markdown"
    },
    {
      "metadata": {
        "id": "tF4reSAE4iY0"
      },
      "source": [
        "#### **Nível DEUS (2/3): Extração de lógica com funções**\n"
      ],
      "cell_type": "markdown"
    },
    {
      "metadata": {
        "id": "iD2cwPVw4iY0"
      },
      "source": [
        "def processa_item(item):\n",
        "    # lógica complexa aqui\n",
        "    return item * 2\n",
        "\n",
        "data_list = [] # Define data_list before using it in the loop\n",
        "\n",
        "for val in data_list:\n",
        "    resultado = processa_item(val)\n",
        "    print(resultado)"
      ],
      "cell_type": "code",
      "execution_count": 16,
      "outputs": []
    },
    {
      "metadata": {
        "id": "0TOaqP3i4iY0"
      },
      "source": [
        "*   **O que o código faz:** Separa lógica do loop em função, melhorando leitura e testes.  \n",
        "*   **Cenário de Mercado:** Pipelines modulares em produção.\n"
      ],
      "cell_type": "markdown"
    },
    {
      "metadata": {
        "id": "07VZj8VU4iY1"
      },
      "source": [
        "#### **Nível DEUS (3/3): Vetorização versus loop**\n"
      ],
      "cell_type": "markdown"
    },
    {
      "metadata": {
        "id": "W4petmkK4iY1"
      },
      "source": [
        "import numpy as np\n",
        "# Má prática: loop Python\n",
        "res = [x * 3 for x in large_list]\n",
        "\n",
        "# Boa prática: vetorização NumPy\n",
        "arr = np.array(large_list)\n",
        "res_np = arr * 3\n"
      ],
      "cell_type": "code",
      "execution_count": null,
      "outputs": []
    },
    {
      "metadata": {
        "id": "nCDgm_vX4iY1"
      },
      "source": [
        "# Pratique seu código aqui!\n"
      ],
      "cell_type": "code",
      "execution_count": null,
      "outputs": []
    },
    {
      "metadata": {
        "id": "lmkQhv0K4iY1"
      },
      "source": [
        "*   **O que o código faz:** Substitui loop por operação vetorizada, ganhando desempenho.  \n",
        "*   **Cenário de Mercado:** Processamento de milhões de registros em Data Science.\n"
      ],
      "cell_type": "markdown"
    },
    {
      "metadata": {
        "id": "8VBDrN8Y4iY1"
      },
      "source": [
        "### 3. 🕸️ Profundezas e Conexões\n",
        "\n",
        " <br>\n",
        "Boas práticas de loops se conectam a **compreensões**, **funções de alta ordem** (`map`, `filter`) e **vetorização** (NumPy, Pandas). Sacar a ferramenta certa para cada volume de dados otimiza desempenho e mantém a clareza do código.\n",
        " <br>\n",
        "\n",
        "---\n",
        " <br>\n"
      ],
      "cell_type": "markdown"
    },
    {
      "metadata": {
        "id": "SecdwNUh4iY1"
      },
      "source": [
        "### 4. 🚀 Ação e Verificação\n",
        "\n",
        " <br>\n",
        "\n",
        "#### **🤔 Desafio Prático**\n",
        "1. Reescreva um laço que calcula fatorial de `n` usando `for` e, em seguida, crie uma compreensão equivalente (se possível).  \n",
        "2. Dada uma lista de dicionários `users = [{\"id\":1},{\"id\":2}]`, use `for`+`append` para extrair os ids e depois uma list comprehension.  \n",
        "3. Implemente uma função que recebe uma sequência e retorna apenas elementos únicos usando loop e depois usando `set` ou compreensão.  \n",
        "4. Refatore um loop com lógica complexa em funções separadas.  \n",
        "5. Compare tempo de execução de um loop puro versus vetorização NumPy (para uma lista grande).\n",
        "\n",
        " <br>\n",
        "\n",
        "#### **❓ Pergunta de Verificação**\n",
        "Por que extrair lógica de um loop para uma função melhora legibilidade e testabilidade? Quais ganhos traz ao manter testes unitários?\n",
        "\n",
        " <br>\n",
        "\n",
        "---\n",
        "\n",
        " <br>\n"
      ],
      "cell_type": "markdown"
    },
    {
      "cell_type": "markdown",
      "source": [
        "### **Resposta Rápida**\n",
        "\n",
        "Extrair a lógica de um loop para uma **função separada** torna o código **mais legível**, **modular** e **reutilizável**. Além disso, permite **testar essa lógica isoladamente** com testes unitários, sem depender do restante do código.\n",
        "\n",
        "---\n",
        "\n",
        "### **Analogia do Dia**\n",
        "\n",
        "Imagine que você está montando móveis. Em vez de repetir os mesmos passos para cada cadeira, você cria um **manual de montagem** (função). Assim, qualquer um pode seguir o manual, você evita erros e consegue **testar se o manual está certo** sem precisar montar uma sala inteira toda vez.\n",
        "\n",
        "---\n",
        "\n",
        "### **Análise Técnica Detalhada**\n",
        "\n",
        "#### Exemplo com lógica dentro do loop (difícil de testar):\n",
        "\n",
        "```python\n",
        "nomes = [\"ana\", \"joão\", \"maria\"]\n",
        "formatados = []\n",
        "\n",
        "for nome in nomes:\n",
        "    nome = nome.strip().title()\n",
        "    if len(nome) > 3:\n",
        "        formatados.append(nome)\n",
        "```\n",
        "\n",
        "*Problemas:*\n",
        "\n",
        "* Mistura **iteração** com **lógica de negócio**.\n",
        "* Não é possível testar a transformação de um nome sem simular o loop todo.\n",
        "\n",
        "---\n",
        "\n",
        "#### Versão com função extraída (legível e testável):\n",
        "\n",
        "```python\n",
        "def formatar_nome(nome):\n",
        "    nome = nome.strip().title()\n",
        "    return nome if len(nome) > 3 else None\n",
        "\n",
        "nomes = [\"ana\", \"joão\", \"maria\"]\n",
        "formatados = [formatar_nome(n) for n in nomes if formatar_nome(n)]\n",
        "```\n",
        "\n",
        "*Vantagens:*\n",
        "\n",
        "* ✅ **Função com responsabilidade única**\n",
        "* ✅ Mais fácil de **entender**\n",
        "* ✅ **Reutilizável** em outros contextos\n",
        "* ✅ Permite **testes unitários isolados**:\n",
        "\n",
        "```python\n",
        "def test_formatar_nome():\n",
        "    assert formatar_nome(\" joão \") == \"João\"\n",
        "    assert formatar_nome(\"eu\") is None\n",
        "```\n",
        "\n",
        "---\n",
        "\n",
        "### **Nota de Rodapé para Novatos**\n",
        "\n",
        "* **Testabilidade:** Facilidade de testar partes do código de forma isolada.\n",
        "* **Função pura:** Função que depende apenas dos seus argumentos e não tem efeitos colaterais — ideal para testes.\n",
        "* **Responsabilidade única:** Princípio de que cada função deve fazer **uma coisa bem feita**.\n",
        "* **Testes unitários:** Verificações automáticas para confirmar que uma função retorna os resultados esperados.\n",
        "\n",
        "---\n",
        "\n",
        "### **Aplicação Prática e Boas Práticas**\n",
        "\n",
        "* Em **ciência de dados**, separar lógica ajuda a testar:\n",
        "\n",
        "```python\n",
        "def normalizar(valor):\n",
        "    return (valor - media) / desvio\n",
        "\n",
        "# Aplicando a função:\n",
        "dados_normalizados = [normalizar(v) for v in dados]\n",
        "```\n",
        "\n",
        "* ✅ Permite criar **pipelines** mais organizados (ex: em `scikit-learn`, funções de transformação são separadas por padrão).\n",
        "* ✅ Se houver erro nos dados, você consegue **testar a função em isolamento**, sem percorrer toda a estrutura de repetição.\n",
        "\n",
        "---\n",
        "\n",
        "### **Resumo da Lição**\n",
        "\n",
        "Extrair lógica de um loop para uma função **torna o código mais limpo, reutilizável e testável** — um hábito essencial para quem quer escrever código profissional e fácil de manter.\n",
        "\n",
        "---\n"
      ],
      "metadata": {
        "id": "0zd2Fk_W8zg3"
      }
    },
    {
      "cell_type": "code",
      "source": [],
      "metadata": {
        "id": "9udin00V81c-"
      },
      "execution_count": null,
      "outputs": []
    }
  ]
}