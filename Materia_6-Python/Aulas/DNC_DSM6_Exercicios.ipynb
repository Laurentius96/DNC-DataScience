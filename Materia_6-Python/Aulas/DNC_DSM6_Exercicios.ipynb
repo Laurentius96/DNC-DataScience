{
  "nbformat": 4,
  "nbformat_minor": 0,
  "metadata": {
    "colab": {
      "provenance": [],
      "collapsed_sections": [
        "4hsI9XqSNX0o",
        "2fAUbeNrNzO5",
        "HC0cowSoOdG_",
        "zOlsBcEcUIUD",
        "q0eDrfOSaRog",
        "VULvJgYm0rPt",
        "Rbt9FU3f-Ier"
      ]
    },
    "kernelspec": {
      "name": "python3",
      "display_name": "Python 3"
    },
    "language_info": {
      "name": "python"
    }
  },
  "cells": [
    {
      "cell_type": "markdown",
      "source": [
        "### 1. Função de Saudação\n",
        "\n",
        "Crie uma função chamada saudacao() que recebe\n",
        "um nome como parâmetro e exibe uma mensagem\n",
        "de boas-vindas.\n"
      ],
      "metadata": {
        "id": "4hsI9XqSNX0o"
      }
    },
    {
      "cell_type": "code",
      "execution_count": 2,
      "metadata": {
        "id": "7wkya6heXjd4",
        "colab": {
          "base_uri": "https://localhost:8080/"
        },
        "outputId": "70a6e295-bb25-4007-cd62-e7621aecbf58"
      },
      "outputs": [
        {
          "output_type": "stream",
          "name": "stdout",
          "text": [
            "Digite seu nome: Carlos\n",
            "Olá, Carlos! Seja bem-vindo(a).\n"
          ]
        }
      ],
      "source": [
        "nome = input(\"Digite seu nome: \")\n",
        "\n",
        "print(f\"Olá, {nome}! Seja bem-vindo(a).\")\n"
      ]
    },
    {
      "cell_type": "markdown",
      "source": [
        "### 2. Soma de Dois Números\n",
        "\n",
        "Crie uma função chamada soma() que recebe dois\n",
        "números e retorna a soma deles."
      ],
      "metadata": {
        "id": "2fAUbeNrNzO5"
      }
    },
    {
      "cell_type": "code",
      "source": [
        "def soma(numero1, numero2):\n",
        "  soma = numero1 + numero2\n",
        "  return soma\n",
        "\n",
        "numero1 = float(input(\"Digite o primeiro número: \"))\n",
        "numero2 = float(input(\"Digite o segundo número: \"))\n",
        "\n",
        "resultado = soma(numero1,numero2)\n",
        "print(f\"\\n A soma dos números é: {resultado}\")"
      ],
      "metadata": {
        "colab": {
          "base_uri": "https://localhost:8080/"
        },
        "id": "AfztSOK9NyS5",
        "outputId": "fd3d4817-f725-49ac-ea30-cf730c2d229a"
      },
      "execution_count": 7,
      "outputs": [
        {
          "output_type": "stream",
          "name": "stdout",
          "text": [
            "Digite o primeiro número: 5\n",
            "Digite o segundo número:3\n",
            "\n",
            "A soma dos números é: 8.0\n"
          ]
        }
      ]
    },
    {
      "cell_type": "markdown",
      "source": [
        "### 3. Par ou Ímpar\n",
        "\n",
        "Crie uma função eh_par() que recebe um número e\n",
        "retorna True se for par e False caso contrário."
      ],
      "metadata": {
        "id": "HC0cowSoOdG_"
      }
    },
    {
      "cell_type": "code",
      "source": [
        "def eh_par(numero):\n",
        "  if numero % 2 == 0:\n",
        "    resultado = print(f\"{numero} é par!\")\n",
        "  else:\n",
        "    resultado = print(f\"{numero} náo é par!\")\n",
        "  return resultado\n",
        "\n",
        "eh_par(int(input(\"Digite seu número: \")))\n"
      ],
      "metadata": {
        "colab": {
          "base_uri": "https://localhost:8080/"
        },
        "id": "KgbZZdX2RfYp",
        "outputId": "94b685c2-0b81-460a-94ba-6fb0aa021d3f"
      },
      "execution_count": 10,
      "outputs": [
        {
          "output_type": "stream",
          "name": "stdout",
          "text": [
            "Digite seu número: 5\n",
            "5 náo é par!\n"
          ]
        }
      ]
    },
    {
      "cell_type": "markdown",
      "source": [
        "### 4. Cálculo de Fatorial\n",
        "\n",
        "Crie uma função fatorial(n) que retorna o fatorial de\n",
        "um número.\n"
      ],
      "metadata": {
        "id": "zOlsBcEcUIUD"
      }
    },
    {
      "cell_type": "code",
      "source": [
        "def fatorial(n):\n",
        "  if n == 0:\n",
        "    multiplicacao = 1\n",
        "  else:\n",
        "    multiplicacao = 1 # Initialize multiplicacao here\n",
        "    for i in range(1, n + 1):\n",
        "      multiplicacao *= i\n",
        "  return print(f\"O fatorial de {n} é: {multiplicacao}\")\n",
        "\n",
        "fatorial(int(input(\"Qual fatorial que saber?: \")))"
      ],
      "metadata": {
        "colab": {
          "base_uri": "https://localhost:8080/"
        },
        "id": "OWa_gvqNT2X-",
        "outputId": "db2d3a8a-b9e9-4e9d-e1df-3f73475b6708"
      },
      "execution_count": 28,
      "outputs": [
        {
          "output_type": "stream",
          "name": "stdout",
          "text": [
            "Qual fatorial que saber?: 10\n",
            "O fatorial de 10 é: 3628800\n"
          ]
        }
      ]
    },
    {
      "cell_type": "markdown",
      "source": [
        "### 5. Gerador de Tabuada\n",
        "\n",
        "Crie uma função tabuada(n) que recebe um\n",
        "número e exibe sua tabuada de 1 a 10."
      ],
      "metadata": {
        "id": "q0eDrfOSaRog"
      }
    },
    {
      "cell_type": "code",
      "source": [
        "def tabuada(n):\n",
        "  for x in range(1, 11):\n",
        "    print(f\"{x} x {n} = {x*n}\")\n",
        "\n",
        "tabuada(int(input(\"Qual tabuada deseja saber?: \")))"
      ],
      "metadata": {
        "colab": {
          "base_uri": "https://localhost:8080/"
        },
        "id": "hs39lrJLWN9k",
        "outputId": "23d53f28-7322-4671-c586-08ee10070a2a"
      },
      "execution_count": 4,
      "outputs": [
        {
          "output_type": "stream",
          "name": "stdout",
          "text": [
            "Qual tabuada deseja saber?: 8\n",
            "1 x 8 = 8\n",
            "2 x 8 = 16\n",
            "3 x 8 = 24\n",
            "4 x 8 = 32\n",
            "5 x 8 = 40\n",
            "6 x 8 = 48\n",
            "7 x 8 = 56\n",
            "8 x 8 = 64\n",
            "9 x 8 = 72\n",
            "10 x 8 = 80\n"
          ]
        }
      ]
    },
    {
      "cell_type": "markdown",
      "source": [
        "### 6. Maior Número da Lista\n",
        "\n",
        "Crie uma função maior_numero(lista) que recebe\n",
        "uma lista de números e retorna o maior valor"
      ],
      "metadata": {
        "id": "VULvJgYm0rPt"
      }
    },
    {
      "cell_type": "code",
      "source": [
        "sua_lista = []\n",
        "\n",
        "def maior_numero(lista):\n",
        "  if not lista: # Handle empty list case\n",
        "    return \"A lista está vazia.\"\n",
        "  numero = max(lista)\n",
        "  return numero\n",
        "\n",
        "while True:\n",
        "  pergunta = input(\"\\nDeseja adicionar número a sua lista? (sim/não): \")\n",
        "  if pergunta.lower() == \"não\":\n",
        "    break\n",
        "  elif pergunta.lower() == \"sim\":\n",
        "    while True:\n",
        "      try:\n",
        "        numero_adicionar = int(input(\"Adicione um número à lista: \"))\n",
        "        sua_lista.append(numero_adicionar)\n",
        "        break # Exit the inner loop after successful input\n",
        "      except ValueError:\n",
        "        print(\"Entrada inválida. Por favor, digite um número inteiro.\")\n",
        "  else:\n",
        "    print(\"Resposta inválida. Por favor, digite 'sim' ou 'não'.\")\n",
        "\n",
        "\n",
        "resultado_maior = maior_numero(sua_lista)\n",
        "print(f\"\\nO maior número da lista é: {resultado_maior}\")"
      ],
      "metadata": {
        "id": "qrT_m7930JbZ"
      },
      "execution_count": null,
      "outputs": []
    },
    {
      "cell_type": "markdown",
      "source": [
        "### 7. Média de uma Lista\n",
        "\n",
        "Crie uma função media(lista) que recebe uma lista\n",
        "de números e retorna a média.\n"
      ],
      "metadata": {
        "id": "Rbt9FU3f-Ier"
      }
    },
    {
      "cell_type": "code",
      "source": [
        "sua_lista = []\n",
        "\n",
        "def media_lista(lista):\n",
        "  if not lista:\n",
        "    return \"Lista vazia. Não é possível calcular a média.\"\n",
        "  else:\n",
        "    media = sum(lista) / len(lista)\n",
        "    return media\n",
        "\n",
        "while True:\n",
        "  pergunta = input(\"\\nDeseja adicionar número a sua lista? (sim/não): \")\n",
        "  if pergunta.lower() == \"não\":\n",
        "   break\n",
        "  elif pergunta.lower() == \"sim\":\n",
        "    while True:\n",
        "      try:\n",
        "        numero_adicionar = float(input(\"Adicione um número à lista: \"))\n",
        "        sua_lista.append(numero_adicionar)\n",
        "        break\n",
        "      except ValueError:\n",
        "        print(\"Entrada inválida. Por favor, digite um número.\")\n",
        "  else:\n",
        "    print(\"Resposta inválida. Por favor, digite 'sim' ou 'não'.\")\n",
        "\n",
        "resultado_media = media_lista(sua_lista)\n",
        "print(f\"\\nA média da sua lista é: {resultado_media}\")"
      ],
      "metadata": {
        "id": "K1E_DbZp2B0z"
      },
      "execution_count": null,
      "outputs": []
    },
    {
      "cell_type": "markdown",
      "source": [
        "### 8. Contar Números Pares em uma Lista\n",
        "Crie uma função contar_pares(lista) que recebe\n",
        "uma lista de números e retorna a quantidade de\n",
        "números pares"
      ],
      "metadata": {
        "id": "ewmpc86GHpU9"
      }
    },
    {
      "cell_type": "code",
      "source": [
        "sua_lista = []\n",
        "def contar_pares(lista):\n",
        "  if not lista:\n",
        "    return \"Lista vazia. Não é possivel contar os números pares.\"\n",
        "  else:\n",
        "    pares = [n for n in lista if n%2==0]\n",
        "    return len(pares)\n",
        "\n",
        "\n",
        "while True:\n",
        "  pergunta = input(\"\\nDeseja adicionar número a sua lista? (sim/não): \")\n",
        "  if pergunta.lower() == \"não\":\n",
        "    break\n",
        "  elif pergunta.lower() == \"sim\":\n",
        "    while True:\n",
        "      try:\n",
        "        numero_adicionar = float(input(\"Adicione um número à lista: \"))\n",
        "        sua_lista.append(numero_adicionar)\n",
        "        break\n",
        "      except ValueError:\n",
        "          print(\"Entrada inválida. Por favor, digite um número.\")\n",
        "  else:\n",
        "    print(\"Resposta inválida. Por favor, digite 'sim' ou 'não')\")\n",
        "\n",
        "resultado_pares = contar_pares(sua_lista)\n",
        "print(f\"\\nQuantidade de números pares na lista: {resultado_pares}\")\n"
      ],
      "metadata": {
        "colab": {
          "base_uri": "https://localhost:8080/"
        },
        "id": "MYU1V32NG2lk",
        "outputId": "37dd2493-04a3-4e63-e5c1-2b97cffe9c33"
      },
      "execution_count": 28,
      "outputs": [
        {
          "output_type": "stream",
          "name": "stdout",
          "text": [
            "\n",
            "Deseja adicionar número a sua lista? (sim/não): sim\n",
            "Adicione um número à lista: 4\n",
            "\n",
            "Deseja adicionar número a sua lista? (sim/não): sim\n",
            "Adicione um número à lista: 5\n",
            "\n",
            "Deseja adicionar número a sua lista? (sim/não): sim\n",
            "Adicione um número à lista: 6\n",
            "\n",
            "Deseja adicionar número a sua lista? (sim/não): não\n",
            "\n",
            "Quantidade de números pares na lista: 2\n"
          ]
        }
      ]
    },
    {
      "cell_type": "markdown",
      "source": [
        "### 9. Inverter uma Lista\n",
        "\n",
        "Crie uma função inverter_lista(lista) que recebe\n",
        "uma lista e retorna a lista invertida.\n"
      ],
      "metadata": {
        "id": "hNDjLEKwRlfx"
      }
    },
    {
      "cell_type": "code",
      "source": [
        "sua_lista = []\n",
        "def inverter_lista(lista):\n",
        "  lista.reverse()\n",
        "  return lista\n",
        "\n",
        "''' ou\n",
        "\n",
        "def inverter_lista(lista):\n",
        "      return lista[::-1]\n",
        "'''\n",
        "\n",
        "while True:\n",
        "  pergunta = input(\"\\nDeseja adicionar número a sua lista? (sim/não): \")\n",
        "  if pergunta.lower() == \"não\":\n",
        "    break\n",
        "  elif pergunta.lower() == \"sim\":\n",
        "    while True:\n",
        "      try:\n",
        "        adicionar_numero = float(input(\"Adicione um número à lista: \"))\n",
        "        sua_lista.append(adicionar_numero)\n",
        "        break\n",
        "      except ValueError:\n",
        "          print(\"Entrada inválida. Por favor, digite um número.\")\n",
        "  else:\n",
        "    print(\"Resposta inválida. Por favor, digite 'sim' ou 'não')\")\n",
        "\n",
        "print(f\"\\nSua lista origina: {sua_lista}\")\n",
        "resultado_inverter = inverter_lista(sua_lista)\n",
        "print(f\"Sua lista invertida: {resultado_inverter}\")\n",
        "\n"
      ],
      "metadata": {
        "colab": {
          "base_uri": "https://localhost:8080/"
        },
        "id": "Vv-cDpK5NGQy",
        "outputId": "e297853c-7d05-4bba-f265-81ef98f2c477"
      },
      "execution_count": 36,
      "outputs": [
        {
          "output_type": "stream",
          "name": "stdout",
          "text": [
            "\n",
            "Deseja adicionar número a sua lista? (sim/não): não\n",
            "\n",
            "Sua lista origina: []\n",
            "Sua lista invertida: []\n"
          ]
        }
      ]
    },
    {
      "cell_type": "markdown",
      "source": [
        "### 10. Remover Duplicatas de uma Lista\n",
        "\n",
        "Crie uma função remover_duplicatas(lista) que\n",
        "recebe uma lista e retorna uma nova lista sem\n",
        "elementos duplicados.\n"
      ],
      "metadata": {
        "id": "MD1M3CmYegLU"
      }
    },
    {
      "cell_type": "code",
      "source": [
        "sua_lista = []\n",
        "def remover_duplicata(lista):\n",
        "  return list(set(lista))\n",
        "\n",
        "while True:\n",
        "  pergunta = input(\"\\nDeseja adicionar número a sua lista? (sim/não): \")\n",
        "  if pergunta.lower() == \"não\":\n",
        "    break\n",
        "  elif pergunta.lower() == \"sim\":\n",
        "    while True:\n",
        "      try:\n",
        "        adicionar_numero = float(input(\"Adicione um número à lista: \"))\n",
        "        sua_lista.append(adicionar_numero)\n",
        "        break\n",
        "      except ValueError:\n",
        "          print(\"Entrada inválida. Por favor, digite um número.\")\n",
        "  else:\n",
        "    print(\"Resposta inválida. Por favor, digite 'sim' ou 'não')\")\n",
        "\n",
        "print(f\"\\nSua lista origina: {sua_lista}\")\n",
        "resultado_remover = remover_duplicata(sua_lista)\n",
        "print(f\"Sua lista sem duplicatas: {resultado_remover}\")"
      ],
      "metadata": {
        "colab": {
          "base_uri": "https://localhost:8080/"
        },
        "id": "KuA38ZOKaj7Z",
        "outputId": "97adaf97-a928-49fb-b2a9-4cd5025b4808"
      },
      "execution_count": 37,
      "outputs": [
        {
          "output_type": "stream",
          "name": "stdout",
          "text": [
            "\n",
            "Deseja adicionar número a sua lista? (sim/não): sim\n",
            "Adicione um número à lista: 1\n",
            "\n",
            "Deseja adicionar número a sua lista? (sim/não): sim\n",
            "Adicione um número à lista: 2\n",
            "\n",
            "Deseja adicionar número a sua lista? (sim/não): sim\n",
            "Adicione um número à lista: 2\n",
            "\n",
            "Deseja adicionar número a sua lista? (sim/não): não\n",
            "\n",
            "Sua lista origina: [1.0, 2.0, 2.0]\n",
            "Sua lista sem duplicatas: [1.0, 2.0]\n"
          ]
        }
      ]
    },
    {
      "cell_type": "code",
      "source": [],
      "metadata": {
        "id": "rnOr56cCivD5"
      },
      "execution_count": null,
      "outputs": []
    }
  ]
}