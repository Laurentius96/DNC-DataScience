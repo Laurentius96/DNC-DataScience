{
  "nbformat": 4,
  "nbformat_minor": 0,
  "metadata": {
    "colab": {
      "provenance": []
    },
    "language_info": {
      "name": "python"
    },
    "kernelspec": {
      "name": "python3",
      "display_name": "Python 3"
    }
  },
  "cells": [
    {
      "metadata": {
        "id": "m7CJVpuXHT-Z"
      },
      "source": [
        "## 🎓 **Aula sobre: Introdução ao NumPy**\n",
        "\n",
        " <br>\n",
        "\n",
        "### 🧭 Sumário da Aula\n",
        "\n",
        "| # | Sub-tópico                      | Tempo Estimado | Complexidade |\n",
        "|---|---------------------------------|----------------|--------------|\n",
        "| 1 | Ficha de Revisão Rápida         | ~1 min         | ⭐           |\n",
        "| 2 | Mergulho Profundo               | ~15 min        | ⭐⭐⭐⭐       |\n",
        "| 3 | Profundezas e Conexões          | ~3 min         | ⭐⭐         |\n",
        "| 4 | 🚀 Ação e Verificação            | ~5 min         | ⭐⭐         |\n",
        "| 5 | 🌊 Mergulhos Adicionais          | Opcional      | ⭐⭐⭐⭐      |\n",
        "\n",
        " <br>\n",
        "\n",
        "---\n",
        " <br>\n"
      ],
      "cell_type": "markdown"
    },
    {
      "metadata": {
        "id": "NbFuSdsuHT-Z"
      },
      "source": [
        "### 1. 🧠 Ficha de Revisão Rápida | (O Essencial)\n",
        "\n",
        " <br>\n",
        "\n",
        "> *NumPy* é a biblioteca principal para **arrays** (ndarray) em Python, oferecendo **vetorização** (operações em blocos rápidos em C) e **broadcasting** (alinha arrays de formas diferentes sem repetições).\n"
      ],
      "cell_type": "markdown"
    },
    {
      "metadata": {
        "id": "L3HfU7CMHT-Z"
      },
      "source": [
        "### 2. 🔬 Mergulho Profundo | (Os Detalhes)\n",
        "\n",
        " <br>\n",
        "\n",
        "#### **🎯 O Conceito Central**  \n",
        "O **ndarray** aloca valores do mesmo tipo (*dtype*) em um bloco contínuo de memória, acelerando cálculos. A *vetorização* delega operações em larga escala ao C, eliminando loops Python lentos. O *broadcasting* ajusta arrays menores para combinar com maiores, copiando apenas a visão, não os dados.\n",
        "\n",
        " <br>\n",
        "\n",
        "#### **🔗 Analogia de Data Science**  \n",
        "É como em uma planilha gigante: em vez de somar 10 célula por célula, NumPy soma toda a coluna de uma vez; e, ao precisar somar uma linha curta a cada linha longa, ele “estica” a linha curta automaticamente, sem duplicar cada valor.\n"
      ],
      "cell_type": "markdown"
    },
    {
      "metadata": {
        "id": "Nes0nEULHT-Z"
      },
      "source": [
        "### **💻 Exemplos de Mercado (Abrangentes)**\n",
        "\n",
        "#### **Nível Simples: Criando Arrays**\n"
      ],
      "cell_type": "markdown"
    },
    {
      "metadata": {
        "id": "2zCqJ9sRHT-a"
      },
      "source": [
        "import numpy as np\n",
        "a = np.array([1, 2, 3])\n",
        "b = np.zeros((2,3))\n",
        "c = np.arange(0, 10, 2)\n",
        "print(a, b, c)\n"
      ],
      "cell_type": "code",
      "execution_count": null,
      "outputs": []
    },
    {
      "metadata": {
        "colab": {
          "base_uri": "https://localhost:8080/"
        },
        "id": "I7x0yPE4HT-a",
        "outputId": "3c8f8d04-766e-4426-f15d-7d296fc1639f"
      },
      "source": [
        "# Pratique seu código aqui!\n",
        "\n",
        "import numpy as np\n",
        "\n",
        "a = np.array([1, 2, 3])\n",
        "b = np.zeros((2, 3))\n",
        "c = np.arange(0, 10, 2)\n",
        "\n",
        "print(f\"{a}\\n\\n {b}\\n\\n {c}\")\n"
      ],
      "cell_type": "code",
      "execution_count": 4,
      "outputs": [
        {
          "output_type": "stream",
          "name": "stdout",
          "text": [
            "[1 2 3]\n",
            "\n",
            " [[0. 0. 0.]\n",
            " [0. 0. 0.]]\n",
            "\n",
            " [0 2 4 6 8]\n"
          ]
        }
      ]
    },
    {
      "metadata": {
        "id": "BlfM8zNlHT-a"
      },
      "source": [
        "* **O que o código faz:**  \n",
        "\n",
        "  **1) Explicação Linha a Linha (Diálogo com o Código):**  \n",
        "\n",
        "  ```python\n",
        "  # “Computador, carregue seu ajudante NumPy e chame-o de np.”  \n",
        "  import numpy as np  \n",
        "\n",
        "  # “‘np’, transforme [1,2,3] em um array e guarde em ‘a’.”  \n",
        "  a = np.array([1, 2, 3])  \n",
        "\n",
        "  # “‘np’, crie uma prateleira 2×3 cheia de zeros e chame de ‘b’.”  \n",
        "  b = np.zeros((2,3))  \n",
        "\n",
        "  # “‘np’, faça uma esteira que solta 0,2,4,6,8 e guarde em ‘c’.”  \n",
        "  c = np.arange(0, 10, 2)  \n",
        "\n",
        "  # “Mostre as três criações juntas.”  \n",
        "  print(a, b, c)  \n",
        "  ```\n",
        "\n",
        "  **2) Tabela de Estados Intermediários:**  \n",
        "````\n",
        "  | Passo | Variável | Conteúdo                 | O que é?                          |\n",
        "  |:-----:|:---------|:-------------------------|:----------------------------------|\n",
        "  | 1     | `a`      | `[1, 2, 3]` (int64)      | Fila de 3 números inteiros        |\n",
        "  | 2     | `b`      | `[[0.,0.,0.],[0.,0.,0.]]`| Prateleira 2×3 de zeros           |\n",
        "  | 3     | `c`      | `[0,2,4,6,8]` (int64)    | Sequência de números pares        |\n",
        "  | 4     | –        | imprime `a`, `b`, `c`    | Saída combinada no console        |\n",
        "````\n",
        "  **3) Diagrama Mental (A Analogia Central):**  \n",
        "  Imagine três caixas de blocos:  \n",
        "  - **Caixa A:** três blocos numerados 1,2,3.  \n",
        "  - **Caixa B:** grade 2×3 com blocos marcados “0”.  \n",
        "  - **Caixa C:** esteira soltando blocos 0,2,4,6,8.  \n",
        "\n",
        "  O `print()` é uma fotografia que exibe as três caixas lado a lado.\n",
        "\n",
        "* **Cenário de Mercado:**  \n",
        "  - **O que são “features”?** São pistas numéricas que descrevem dados, como idade, avaliação ou tempo de uso.  \n",
        "  - **Por que inicializar?** Em um sistema de recomendação (ex: Netflix), criamos uma tabela vazia de zeros com `np.zeros((10000,15))` para armazenar pontuações previstas de 10.000 usuários e 15 features.  \n",
        "  - **Ganho:** Alocar tudo de uma vez é como construir a estrutura inteira de um prédio de LEGO em segundos, em vez de montar tijolo por tijolo — é milhões de vezes mais rápido e economiza memória.\n",
        "\n",
        "* **Boas Práticas:**  \n",
        "  - **Afirmação:** “Especifique `dtype`, por ex., `float32`.”  \n",
        "    - **Porquê:** Usar 32 bits em vez de 64 bits por número economiza **50%** de memória.  \n",
        "    - **Analogia:** É como usar caixinhas menores para guardar brinquedos — você cabe o dobro no mesmo espaço.  \n",
        "    - **Termo:** *`dtype`* é o “tamanho da caixinha” que guarda cada número; *float32* é um número decimal que usa 32 bits.\n"
      ],
      "cell_type": "markdown"
    },
    {
      "metadata": {
        "id": "PcrSH57THT-a"
      },
      "source": [
        "#### **Nível Intermediário: Operações Vetorizadas e Broadcasting**\n"
      ],
      "cell_type": "markdown"
    },
    {
      "metadata": {
        "id": "uj_cLO6LHT-a"
      },
      "source": [
        "import numpy as np\n",
        "x = np.array([[1,2,3],[4,5,6]])\n",
        "y = np.array([10,20,30])\n",
        "soma = x + y\n",
        "prod = x * 2\n",
        "print(soma, prod)\n"
      ],
      "cell_type": "code",
      "execution_count": null,
      "outputs": []
    },
    {
      "metadata": {
        "colab": {
          "base_uri": "https://localhost:8080/"
        },
        "id": "k7s12kFHHT-b",
        "outputId": "d1003060-a441-468e-9a70-67f0e7a71568"
      },
      "source": [
        "# Pratique seu código aqui!\n",
        "\n",
        "import numpy as np\n",
        "\n",
        "x = np.array([[1, 2, 3,], [4, 5, 6]])\n",
        "y = np.array([10, 20, 30])\n",
        "soma = x + y\n",
        "prod = x * 2\n",
        "\n",
        "print(f\"{soma}\\n\\n {prod}\")"
      ],
      "cell_type": "code",
      "execution_count": 8,
      "outputs": [
        {
          "output_type": "stream",
          "name": "stdout",
          "text": [
            "[[11 22 33]\n",
            " [14 25 36]]\n",
            "\n",
            " [[ 2  4  6]\n",
            " [ 8 10 12]]\n"
          ]
        }
      ]
    },
    {
      "metadata": {
        "id": "I_hMFNQUHT-b"
      },
      "source": [
        "* **O que o código faz:**  \n",
        "\n",
        "  **1) Explicação Linha a Linha (Diálogo com o Código):**  \n",
        "\n",
        "  ```python\n",
        "  # “NumPy, crie uma matriz 2×3.”  \n",
        "  x = np.array([[1,2,3],[4,5,6]])  \n",
        "\n",
        "  # “Crie um vetor de 3 números para ajustar.”  \n",
        "  y = np.array([10,20,30])  \n",
        "\n",
        "  # “Some y a cada linha de x de uma vez.”  \n",
        "  soma = x + y  \n",
        "\n",
        "  # “Multiplique cada elemento de x por 2.”  \n",
        "  prod = x * 2  \n",
        "\n",
        "  # “Mostre as matrizes resultantes.”  \n",
        "  print(soma, prod)  \n",
        "  ```\n",
        "\n",
        "  **2) Tabela de Estados Intermediários:**  \n",
        "````\n",
        "  | Passo | Expressão | Resultado                         | O que representa?                   |\n",
        "  |:-----:|:----------|:----------------------------------|:------------------------------------|\n",
        "  | 1     | `x`       | `[[1,2,3],[4,5,6]]`               | Matriz de entrada                   |\n",
        "  | 2     | `y`       | `[10,20,30]`                      | Vetor de bias                       |\n",
        "  | 3     | `soma`    | `[[11,22,33],[14,25,36]]`         | Soma de bias                        |\n",
        "  | 4     | `prod`    | `[[2,4,6],[8,10,12]]`             | Escala por 2                        |\n",
        "  | 5     | –         | imprime `soma` e `prod`           | Saída final                         |\n",
        "````\n",
        "  **3) Diagrama Mental (A Analogia Central):**  \n",
        "  Pense em um tabuleiro de jogo com duas linhas de slots; `y` são fichas de bônus que são “espalhadas” sob cada linha em um só movimento.\n",
        "\n",
        "* **Cenário de Mercado:**  \n",
        "  - **Por que usar broadcasting:** Ao treinar uma rede neural, adicionamos um vetor de **bias** a cada saída de camada. Broadcasting faz isso em um único passo, acelerando o treinamento e reduzindo linhas de código.  \n",
        "  - **Exemplo real:** No TensorFlow, `outputs = inputs @ weights + bias` aplica broadcasting para somar `bias` sem laços.\n",
        "\n",
        "* **Boas Práticas:**  \n",
        "  - **Afirmação:** “Verifique shapes antes de operar.”  \n",
        "    - **Porquê:** Evita erros de dimensão que quebram pipelines em produção.  \n",
        "    - **Analogia:** É como conferir que as peças de LEGO possuem o encaixe correto antes de montar.\n"
      ],
      "cell_type": "markdown"
    },
    {
      "metadata": {
        "id": "vcRNGLxdHT-b"
      },
      "source": [
        "#### **Nível Avançado: Indexação e Fatiamento Avançado**\n"
      ],
      "cell_type": "markdown"
    },
    {
      "metadata": {
        "id": "FNe8e6dtHT-b"
      },
      "source": [
        "import numpy as np\n",
        "m = np.arange(16).reshape(4,4)\n",
        "sub = m[1:3, [0,2]]\n",
        "mask = (m % 2) == 0\n",
        "pares = m[mask]\n",
        "print(sub, pares)\n"
      ],
      "cell_type": "code",
      "execution_count": null,
      "outputs": []
    },
    {
      "metadata": {
        "colab": {
          "base_uri": "https://localhost:8080/"
        },
        "id": "xmuThBnBHT-b",
        "outputId": "4e4bffc1-baeb-4e86-a802-09b9090c3b9c"
      },
      "source": [
        "# Pratique seu código aqui!\n",
        "\n",
        "import numpy as np\n",
        "\n",
        "m = np.arange(16).reshape(4, 4)\n",
        "sub = m[1:3, [0,2]]\n",
        "mask = (m%2) == 0\n",
        "pares = m[mask]\n",
        "\n",
        "print(m)\n",
        "print(\"\\n\")\n",
        "print(sub)\n",
        "print(\"\\n\")\n",
        "print(f\"{mask}\\n\\n {pares}\")\n"
      ],
      "cell_type": "code",
      "execution_count": 15,
      "outputs": [
        {
          "output_type": "stream",
          "name": "stdout",
          "text": [
            "[[ 0  1  2  3]\n",
            " [ 4  5  6  7]\n",
            " [ 8  9 10 11]\n",
            " [12 13 14 15]]\n",
            "\n",
            "\n",
            "[[ 4  6]\n",
            " [ 8 10]]\n",
            "\n",
            "\n",
            "[[ True False  True False]\n",
            " [ True False  True False]\n",
            " [ True False  True False]\n",
            " [ True False  True False]]\n",
            "\n",
            " [ 0  2  4  6  8 10 12 14]\n"
          ]
        }
      ]
    },
    {
      "metadata": {
        "id": "WDuw93ySHT-b"
      },
      "source": [
        "* **O que o código faz:**  \n",
        "\n",
        "  **1) Explicação Linha a Linha (Diálogo com o Código):**  \n",
        "\n",
        "  ```python\n",
        "  # “Gere uma grade 4×4 de 0 a 15.”  \n",
        "  m = np.arange(16).reshape(4,4)  \n",
        "\n",
        "  # “Extraia linhas 2–3 e colunas 1 e 3.”  \n",
        "  sub = m[1:3, [0,2]]  \n",
        "\n",
        "  # “Marque pares na grade.”  \n",
        "  mask = (m % 2) == 0  \n",
        "\n",
        "  # “Reúna todos os pares em um array.”  \n",
        "  pares = m[mask]  \n",
        "\n",
        "  # “Exiba submatriz e lista de pares.”  \n",
        "  print(sub, pares)  \n",
        "  ```\n",
        "\n",
        "  **2) Tabela de Estados Intermediários:**  \n",
        "  ````\n",
        "  | Passo | Expressão | Conteúdo                            | O que é?                         |\n",
        "  |:-----:|:----------|:------------------------------------|:---------------------------------|\n",
        "  | 1     | `m`       | 4×4 de 0–15                        | Matriz original                  |\n",
        "  | 2     | `sub`     | `[[4,6],[8,10]]`                   | Bloco central extraído           |\n",
        "  | 3     | `mask`    | Booleano 4×4                       | True para casas pares            |\n",
        "  | 4     | `pares`   | `[0,2,4,6,8,10,12,14]`             | Array linear de todos os pares   |\n",
        "  | 5     | –         | imprime `sub` e `pares`            | Saída final                      |\n",
        "````\n",
        "  **3) Diagrama Mental (A Analogia Central):**  \n",
        "  É como em um tabuleiro: pinta as células pares de verde e depois enfileira esses verdes num trenzinho, ao mesmo tempo em que recorta um retângulo central para estudo.\n",
        "\n",
        "* **Cenário de Mercado:**  \n",
        "  - **Por que filtrar por critério:** Em IoT, sensores enviam dados constantes. Filtrar valores pares (ou fora de padrão) reduz ruído.  \n",
        "  - **Exemplo real:** Num centro de coleta de dados meteorológicos, selecionamos submatrizes de horários específicos e sensores-chave para prever tempestades.\n",
        "\n",
        "* **Boas Práticas:**  \n",
        "  - **Afirmação:** “Use máscaras booleanas para filtrar.”  \n",
        "    - **Porquê:** Processamento ocorre em C, muito mais rápido que loops Python.  \n",
        "    - **Analogia:** É como usar um filtro de cor para isolar só as peças verdes num vidro colorido.\n"
      ],
      "cell_type": "markdown"
    },
    {
      "metadata": {
        "id": "adWhNHiZHT-b"
      },
      "source": [
        "#### **Nível DEUS (1/3): Operações Estatísticas Rápidas**\n"
      ],
      "cell_type": "markdown"
    },
    {
      "metadata": {
        "id": "ffezcoIYHT-b"
      },
      "source": [
        "import numpy as np\n",
        "data = np.random.randn(1000, 5)\n",
        "media = data.mean(axis=0)\n",
        "desvio = data.std(axis=0)\n",
        "print(media, desvio)\n"
      ],
      "cell_type": "code",
      "execution_count": null,
      "outputs": []
    },
    {
      "metadata": {
        "colab": {
          "base_uri": "https://localhost:8080/"
        },
        "id": "j9WIkxe1HT-b",
        "outputId": "165de4e0-3738-4e36-8044-bbda8f9a8c38"
      },
      "source": [
        "# Pratique seu código aqui!\n",
        "\n",
        "import numpy as np\n",
        "\n",
        "data = np.random.randn(1000,5)\n",
        "media = data.mean(axis=0)\n",
        "desvio = data.std(axis=0)\n",
        "\n",
        "print(data)\n",
        "print(\"\\n\")\n",
        "print(media)\n",
        "print(\"\\n\")\n",
        "print(desvio)\n",
        "\n",
        "\n"
      ],
      "cell_type": "code",
      "execution_count": 19,
      "outputs": [
        {
          "output_type": "stream",
          "name": "stdout",
          "text": [
            "[[-0.54539201 -0.26342499  0.55650263  0.83625561  0.71597904]\n",
            " [ 0.19749386  0.29244147 -1.08498    -0.7824382   0.43122872]\n",
            " [ 0.26002609 -1.62807857  0.29884787  0.33690403 -1.19668445]\n",
            " ...\n",
            " [-1.29054865  0.47617817  0.00938583  2.25328498 -1.19077638]\n",
            " [-0.01130432 -0.67695493 -0.22143187 -1.11494753 -2.60981396]\n",
            " [ 0.34981715 -0.85409693  0.03170622  1.23428602 -1.57196205]]\n",
            "\n",
            "\n",
            "[ 0.06711527 -0.0159683  -0.02039246  0.00142528  0.01779817]\n",
            "\n",
            "\n",
            "[1.01383342 0.97777369 1.02192127 0.99410675 1.02633472]\n"
          ]
        }
      ]
    },
    {
      "metadata": {
        "id": "mNXg1wkrHT-c"
      },
      "source": [
        "* **O que o código faz:**  \n",
        "\n",
        "  **1) Explicação Linha a Linha (Diálogo com o Código):**  \n",
        "\n",
        "  ```python\n",
        "  # “Crie 1000×5 valores aleatórios com distribuição normal.”  \n",
        "  data = np.random.randn(1000, 5)  \n",
        "\n",
        "  # “Calcule a média de cada coluna.”  \n",
        "  media = data.mean(axis=0)  \n",
        "\n",
        "  # “Calcule o desvio padrão de cada coluna.”  \n",
        "  desvio = data.std(axis=0)  \n",
        "\n",
        "  # “Mostre as médias e desvios.”  \n",
        "  print(media, desvio)  \n",
        "  ```\n",
        "\n",
        "  **2) Tabela de Estados Intermediários:**  \n",
        "```\n",
        "  | Passo | Expressão   | Resultado                  | O que representa?                |\n",
        "  |:-----:|:------------|:---------------------------|:---------------------------------|\n",
        "  | 1     | `data`      | 1000×5 de floats           | Conjunto de dados brutos         |\n",
        "  | 2     | `media`     | vetor length-5              | Valores médios por coluna        |\n",
        "  | 3     | `desvio`    | vetor length-5              | Dispersão de cada coluna         |\n",
        "  | 4     | –           | imprime `media` e `desvio` | Saída final                      |\n",
        "```\n",
        "  **3) Diagrama Mental (A Analogia Central):**  \n",
        "  Pense em 5 baldes cheios de bolinhas coloridas: cada balde é uma coluna. A média é o “tamanho médio” das bolinhas e o desvio é o “quão diferentes” elas são umas das outras.\n",
        "\n",
        "* **Cenário de Mercado:**  \n",
        "  - **Por que calcular estatísticas:** Antes de treinar modelos, exploramos dados para entender distribuição e detectar outliers.  \n",
        "  - **Exemplo real:** Em fintech, analisamos uma matriz de transações para cada tipo (5 colunas) e verificamos médias e desvios para detectar fraudes.\n",
        "\n",
        "* **Boas Práticas:**  \n",
        "  - **Afirmação:** “Use `axis=0` ou `axis=1` corretamente.”  \n",
        "    - **Porquê:** Define se cálculos são feitos por coluna (`axis=0`) ou linha (`axis=1`).  \n",
        "    - **Analogia:** É como escolher se você soma fileiras de prateleiras horizontais ou colunas verticais numa biblioteca.\n"
      ],
      "cell_type": "markdown"
    },
    {
      "metadata": {
        "id": "LyqpBNabHT-c"
      },
      "source": [
        "#### **Nível DEUS (2/3): Álgebra Linear com NumPy**\n"
      ],
      "cell_type": "markdown"
    },
    {
      "metadata": {
        "id": "Tw_2Gi8KHT-c"
      },
      "source": [
        "import numpy as np\n",
        "A = np.array([[1,2],[3,4]])\n",
        "b = np.array([5,6])\n",
        "x = np.linalg.solve(A, b)\n",
        "print(x)\n"
      ],
      "cell_type": "code",
      "execution_count": null,
      "outputs": []
    },
    {
      "metadata": {
        "colab": {
          "base_uri": "https://localhost:8080/"
        },
        "id": "DnAT-KKDHT-c",
        "outputId": "099bd74c-c9e6-44ff-f3e0-2783154e0a08"
      },
      "source": [
        "# Pratique seu código aqui!\n",
        "\n",
        "import numpy as np\n",
        "A = np.array([[1,2],[3,4]])\n",
        "b = np.array([5,6])\n",
        "x = np.linalg.solve(A,b)\n",
        "print(x)\n"
      ],
      "cell_type": "code",
      "execution_count": 20,
      "outputs": [
        {
          "output_type": "stream",
          "name": "stdout",
          "text": [
            "[-4.   4.5]\n"
          ]
        }
      ]
    },
    {
      "metadata": {
        "id": "lqnoCu6DHT-c"
      },
      "source": [
        "* **O que o código faz:**  \n",
        "\n",
        "  **1) Explicação Linha a Linha (Diálogo com o Código):**  \n",
        "\n",
        "  ```python\n",
        "  # “Crie matriz 2×2 de coeficientes.”  \n",
        "  A = np.array([[1,2],[3,4]])  \n",
        "\n",
        "  # “Crie vetor de constantes.”  \n",
        "  b = np.array([5,6])  \n",
        "\n",
        "  # “Resolva o sistema Ax=b.”  \n",
        "  x = np.linalg.solve(A, b)  \n",
        "\n",
        "  # “Mostre a solução.”  \n",
        "  print(x)  \n",
        "  ```\n",
        "\n",
        "  **2) Tabela de Estados Intermediários:**  \n",
        "```\n",
        "  | Passo | Expressão | Resultado         | O que faz?                         |\n",
        "  |:-----:|:----------|:------------------|:-----------------------------------|\n",
        "  | 1     | `A`       | `[[1,2],[3,4]]`   | Coeficientes do sistema            |\n",
        "  | 2     | `b`       | `[5,6]`           | Termos constantes                  |\n",
        "  | 3     | `x`       | `[-4, 4.5]`       | Solução do sistema                 |\n",
        "  | 4     | –         | imprime `x`       | Saída final                        |\n",
        "```\n",
        "\n",
        "  **3) Diagrama Mental (A Analogia Central):**  \n",
        "  É como equilibrar duas balanças simultâneas: encontrar pesos (`x`) que façam ambas as balanças ficarem niveladas.\n",
        "\n",
        "* **Cenário de Mercado:**  \n",
        "  - **Por que usar álgebra linear:** Em regressão linear, resolvemos sistemas para ajustar parâmetros que melhor preveem resultados.  \n",
        "  - **Exemplo real:** Em atuação de precificação de seguro, ajustamos um modelo linear para prever riscos com base em variáveis.\n",
        "\n",
        "* **Boas Práticas:**  \n",
        "  - **Afirmação:** “Verifique se `det(A) != 0`.”  \n",
        "    - **Porquê:** Uma matriz singular não tem solução única.  \n",
        "    - **Analogia:** É como tentar resolver equações com peças faltando — não há resposta clara.\n"
      ],
      "cell_type": "markdown"
    },
    {
      "metadata": {
        "id": "jth8TramHT-c"
      },
      "source": [
        "#### **Nível DEUS (3/3): Manipulação de Shape e Transposição**\n"
      ],
      "cell_type": "markdown"
    },
    {
      "metadata": {
        "id": "1D4dmcCmHT-c"
      },
      "source": [
        "import numpy as np\n",
        "arr = np.arange(8)\n",
        "resh = arr.reshape(2,4)\n",
        "transp = resh.T\n",
        "print(resh, transp)\n"
      ],
      "cell_type": "code",
      "execution_count": null,
      "outputs": []
    },
    {
      "metadata": {
        "colab": {
          "base_uri": "https://localhost:8080/"
        },
        "id": "zaXfGUFtHT-c",
        "outputId": "73fa1ec2-f0f1-4ba5-b4c5-b1b950a9929b"
      },
      "source": [
        "# Pratique seu código aqui!\n",
        "\n",
        "import numpy as np\n",
        "\n",
        "arr = np.arange(8)\n",
        "resh = arr.reshape(2,4)\n",
        "transp = resh.T\n",
        "\n",
        "print(f\"{arr}\\n\\n {resh}\\n\\n {transp}\")"
      ],
      "cell_type": "code",
      "execution_count": 23,
      "outputs": [
        {
          "output_type": "stream",
          "name": "stdout",
          "text": [
            "[0 1 2 3 4 5 6 7]\n",
            "\n",
            " [[0 1 2 3]\n",
            " [4 5 6 7]]\n",
            "\n",
            " [[0 4]\n",
            " [1 5]\n",
            " [2 6]\n",
            " [3 7]]\n"
          ]
        }
      ]
    },
    {
      "metadata": {
        "id": "XFJsrNAyHT-c"
      },
      "source": [
        "* **O que o código faz:**  \n",
        "\n",
        "  **1) Explicação Linha a Linha (Diálogo com o Código):**  \n",
        "\n",
        "  ```python\n",
        "  # “Crie vetor 0–7.”  \n",
        "  arr = np.arange(8)  \n",
        "\n",
        "  # “Transforme em matriz 2×4.”  \n",
        "  resh = arr.reshape(2,4)  \n",
        "\n",
        "  # “Troque linhas por colunas.”  \n",
        "  transp = resh.T  \n",
        "\n",
        "  # “Mostre original e transposto.”  \n",
        "  print(resh, transp)  \n",
        "  ```\n",
        "\n",
        "  **2) Tabela de Estados Intermediários:**  \n",
        "```\n",
        "  | Passo | Expressão | Resultado                  | O que faz?                       |\n",
        "  |:-----:|:----------|:---------------------------|:---------------------------------|\n",
        "  | 1     | `arr`     | `[0,1,2,3,4,5,6,7]`        | Vetor original                  |\n",
        "  | 2     | `resh`    | `[[0,1,2,3],[4,5,6,7]]`    | Matriz 2×4                     |\n",
        "  | 3     | `transp`  | `[[0,4],[1,5],[2,6],[3,7]]`| Matriz 4×2 transposta         |\n",
        "  | 4     | –         | imprime `resh` e `transp`  | Saída final                     |\n",
        "```\n",
        "\n",
        "  **3) Diagrama Mental (A Analogia Central):**  \n",
        "  Imagine uma folha 2×4 de quadrados; transpor é girar essa folha, virando 2 linhas em 2 colunas.\n",
        "\n",
        "* **Cenário de Mercado:**  \n",
        "  - **Por que reshape/transposição:** Ao preparar dados para bibliotecas, às vezes precisamos trocar linhas por colunas para ajustar a entrada.  \n",
        "  - **Exemplo real:** Em visão computacional, imagens são matrizes e, ao ajustar canais de cor, usamos transposição para reorganizar dimensões.\n",
        "\n",
        "* **Boas Práticas:**  \n",
        "  - **Afirmação:** “Use `.copy()` se precisar do array original.”  \n",
        "    - **Porquê:** Algumas operações retornam **views** que compartilham memória; alterar uma altera a outra.  \n",
        "    - **Analogia:** É como ter duas plantas no mesmo vaso — regar uma afeta a outra.\n"
      ],
      "cell_type": "markdown"
    },
    {
      "metadata": {
        "id": "jxDcK3hwHT-d"
      },
      "source": [
        "### 3. 🕸️ Profundezas e Conexões\n",
        "\n",
        " <br>\n",
        "\n",
        "NumPy sustenta **pandas**, **scipy**, **scikit-learn** e frameworks de deep learning (TensorFlow, PyTorch). Compreender vetorização e broadcasting é essencial para escrever código eficiente e escalar análises a milhões de pontos de dados.\n",
        "\n",
        " <br>\n",
        "\n",
        "---\n",
        "\n",
        " <br>\n"
      ],
      "cell_type": "markdown"
    },
    {
      "metadata": {
        "id": "cP6fNqF3HT-d"
      },
      "source": [
        "### 4. 🚀 Ação e Verificação\n",
        "\n",
        " <br>\n",
        "\n",
        "#### **🤔 Desafio Prático**\n",
        "1. Crie um array de 20 valores igualmente espaçados entre 0 e 1.  \n",
        "2. Gere uma matriz 3×3 de valores aleatórios e normalize cada linha (soma = 1).  \n",
        "3. Utilize máscara booleana para substituir valores negativos por zero em um array 4×4.  \n",
        "4. Resolva um sistema 3×3 linear com `np.linalg.solve`.  \n",
        "5. Transponha um tensor 3D invertendo as duas últimas dimensões.\n",
        "\n",
        " <br>\n",
        "\n",
        "#### **❓ Pergunta de Verificação**\n",
        "Por que vetorização e broadcasting são preferíveis a loops Python, e como o *layout de memória* (C-contíguo vs Fortran-contíguo) pode afetar a performance?\n",
        "\n",
        " <br>\n",
        "\n",
        "---\n",
        "\n",
        " <br>\n"
      ],
      "cell_type": "markdown"
    },
    {
      "cell_type": "code",
      "source": [],
      "metadata": {
        "id": "Bu0VRHp7Hbbg"
      },
      "execution_count": null,
      "outputs": []
    }
  ]
}